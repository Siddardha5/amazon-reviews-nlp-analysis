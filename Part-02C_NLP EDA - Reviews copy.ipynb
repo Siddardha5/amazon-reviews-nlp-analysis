{
 "cells": [
  {
   "cell_type": "markdown",
   "id": "55b8cab0-99f0-45b8-84f3-0712266f2394",
   "metadata": {},
   "source": [
    "# Part 2C - NLP EDA of Amazon Reviews for Miracle Noodles (In-Depth)"
   ]
  },
  {
   "cell_type": "markdown",
   "id": "03ab65b7-a2d4-4542-8b29-c4a0fcbdc7e8",
   "metadata": {},
   "source": [
    "In this notebook we will continue with the data we prepared in the last notebook.  \n",
    "Our goals will be:\n",
    "- compare sentiment analysis from VADER / TextBlob vs. the star rating.\n",
    "- Apply LDA topic modeling to the reviews to idntify consistent themes. \n",
    "- Applied Named Entity Recognition to see if an NE's appear in certain types of reviws."
   ]
  },
  {
   "cell_type": "code",
   "execution_count": 1,
   "id": "0444cbc5-fde5-4dc2-9502-c9466211acaa",
   "metadata": {
    "execution": {
     "iopub.execute_input": "2024-02-13T01:38:28.529889Z",
     "iopub.status.busy": "2024-02-13T01:38:28.529783Z",
     "iopub.status.idle": "2024-02-13T01:38:28.537479Z",
     "shell.execute_reply": "2024-02-13T01:38:28.537232Z",
     "shell.execute_reply.started": "2024-02-13T01:38:28.529879Z"
    }
   },
   "outputs": [
    {
     "data": {
      "text/markdown": [
       "# Amazon Product Reviews\n",
       "\n",
       "- URL: https://cseweb.ucsd.edu/~jmcauley/datasets.html#amazon_reviews \n",
       "\n",
       "## Description\n",
       "\n",
       "This is a large crawl of product reviews from Amazon. This dataset contains 82.83 million unique reviews, from around 20 million users.\n",
       "\n",
       "## Basic statistics\n",
       "\n",
       "| Ratings:  | 82.83 million        |\n",
       "| --------- | -------------------- |\n",
       "| Users:    | 20.98 million        |\n",
       "| Items:    | 9.35 million         |\n",
       "| Timespan: | May 1996 - July 2014 |\n",
       "\n",
       "## Metadata\n",
       "\n",
       "- reviews and ratings\n",
       "- item-to-item relationships (e.g. \"people who bought X also bought Y\")\n",
       "- timestamps\n",
       "- helpfulness votes\n",
       "- product image (and CNN features)\n",
       "- price\n",
       "- category\n",
       "- salesRank\n",
       "\n",
       "## Example\n",
       "\n",
       "```\n",
       "{  \"reviewerID\": \"A2SUAM1J3GNN3B\",  \"asin\": \"0000013714\",  \"reviewerName\": \"J. McDonald\",  \"helpful\": [2, 3],  \"reviewText\": \"I bought this for my husband who plays the piano.  He is having a wonderful time playing these old hymns.  The music  is at times hard to read because we think the book was published for singing from more than playing from.  Great purchase though!\",  \"overall\": 5.0,  \"summary\": \"Heavenly Highway Hymns\",  \"unixReviewTime\": 1252800000,  \"reviewTime\": \"09 13, 2009\" }\n",
       "```\n",
       "\n",
       "## Download link\n",
       "\n",
       "See the [Amazon Dataset Page](https://cseweb.ucsd.edu/~jmcauley/datasets/amazon_v2/) for download information.\n",
       "\n",
       "The 2014 version of this dataset is [also available](https://cseweb.ucsd.edu/~jmcauley/datasets/amazon/links.html).\n",
       "\n",
       "## Citation\n",
       "\n",
       "Please cite the following if you use the data:\n",
       "\n",
       "**Ups and downs: Modeling the visual evolution of fashion trends with one-class collaborative filtering**\n",
       "\n",
       "R. He, J. McAuley\n",
       "\n",
       "*WWW*, 2016\n",
       "[pdf](https://cseweb.ucsd.edu/~jmcauley/pdfs/www16a.pdf)\n",
       "\n",
       "**Image-based recommendations on styles and substitutes**\n",
       "\n",
       "J. McAuley, C. Targett, J. Shi, A. van den Hengel\n",
       "\n",
       "*SIGIR*, 2015\n",
       "[pdf](https://cseweb.ucsd.edu/~jmcauley/pdfs/sigir15.pdf)"
      ],
      "text/plain": [
       "<IPython.core.display.Markdown object>"
      ]
     },
     "metadata": {},
     "output_type": "display_data"
    }
   ],
   "source": [
    "from IPython.display import display, Markdown\n",
    "with open(\"data/Amazon Product Reviews.md\") as f:\n",
    "    info = f.read()\n",
    "\n",
    "display(Markdown(info))"
   ]
  },
  {
   "cell_type": "markdown",
   "id": "913a72d3-e087-4b21-aed4-9bb8d94accb0",
   "metadata": {},
   "source": [
    "# Part 2B - NLP EDA - Movie Reviews"
   ]
  },
  {
   "cell_type": "code",
   "execution_count": 2,
   "id": "5b0bf473-0450-45ed-a751-48a440f972ea",
   "metadata": {
    "execution": {
     "iopub.execute_input": "2024-02-13T01:38:28.538959Z",
     "iopub.status.busy": "2024-02-13T01:38:28.538747Z",
     "iopub.status.idle": "2024-02-13T01:38:33.023851Z",
     "shell.execute_reply": "2024-02-13T01:38:33.023502Z",
     "shell.execute_reply.started": "2024-02-13T01:38:28.538948Z"
    }
   },
   "outputs": [],
   "source": [
    "# !pip install -U dojo_ds -q\n",
    "import dojo_ds as ds\n",
    "# ds.__version__"
   ]
  },
  {
   "cell_type": "code",
   "execution_count": 3,
   "id": "3186098c",
   "metadata": {},
   "outputs": [],
   "source": [
    "# !pip install missingno seaborn -q\n"
   ]
  },
  {
   "cell_type": "code",
   "execution_count": 4,
   "id": "1b2e1204-f584-452d-b433-69b67e43e694",
   "metadata": {
    "execution": {
     "iopub.execute_input": "2024-02-13T01:38:33.024453Z",
     "iopub.status.busy": "2024-02-13T01:38:33.024303Z",
     "iopub.status.idle": "2024-02-13T01:38:33.030807Z",
     "shell.execute_reply": "2024-02-13T01:38:33.030431Z",
     "shell.execute_reply.started": "2024-02-13T01:38:33.024442Z"
    }
   },
   "outputs": [],
   "source": [
    "import matplotlib.pyplot as plt\n",
    "import missingno\n",
    "import matplotlib as mpl\n",
    "import seaborn as sns\n",
    "import numpy as np\n",
    "import pandas as pd\n",
    "import os, json\n",
    "from pprint import pprint\n",
    "pd.set_option(\"display.max_columns\",50)\n",
    "# pd.set_option('display.max_colwidth', 250)\n",
    "\n",
    "# fav_style = ('ggplot','tableau-colorblind10')\n",
    "# fav_context  ={'context':'notebook', 'font_scale':1.1}\n",
    "# plt.style.use(fav_style)\n",
    "# sns.set_context(**fav_context)\n",
    "# plt.rcParams['savefig.transparent'] = False\n",
    "# plt.rcParams['savefig.bbox'] = 'tight'"
   ]
  },
  {
   "cell_type": "code",
   "execution_count": 5,
   "id": "122bd9c0-9d2e-4fb2-a90d-ff0ae1d0ec7e",
   "metadata": {
    "execution": {
     "iopub.execute_input": "2024-02-13T01:38:33.031658Z",
     "iopub.status.busy": "2024-02-13T01:38:33.031509Z",
     "iopub.status.idle": "2024-02-13T01:38:33.035156Z",
     "shell.execute_reply": "2024-02-13T01:38:33.034857Z",
     "shell.execute_reply.started": "2024-02-13T01:38:33.031646Z"
    }
   },
   "outputs": [
    {
     "data": {
      "text/plain": [
       "dict_keys(['data', 'images', 'metadata', 'eda', 'models', 'results', 'readme'])"
      ]
     },
     "execution_count": 5,
     "metadata": {},
     "output_type": "execute_result"
    }
   ],
   "source": [
    "FPATHS_FILE = \"config/filepaths.json\"\n",
    "\n",
    "with open(FPATHS_FILE) as f:\n",
    "    FPATHS = json.load(f)\n",
    "FPATHS.keys()"
   ]
  },
  {
   "cell_type": "code",
   "execution_count": 6,
   "id": "b58c908e-403f-46a0-91e2-8794ca8d0e3b",
   "metadata": {
    "execution": {
     "iopub.execute_input": "2024-02-13T01:38:33.035768Z",
     "iopub.status.busy": "2024-02-13T01:38:33.035652Z",
     "iopub.status.idle": "2024-02-13T01:38:33.038361Z",
     "shell.execute_reply": "2024-02-13T01:38:33.037857Z",
     "shell.execute_reply.started": "2024-02-13T01:38:33.035758Z"
    }
   },
   "outputs": [
    {
     "data": {
      "text/plain": [
       "dict_keys(['raw', 'cleaned', 'subset', 'processed-nlp', 'app', 'ml-nlp', 'nn-nlp'])"
      ]
     },
     "execution_count": 6,
     "metadata": {},
     "output_type": "execute_result"
    }
   ],
   "source": [
    "FPATHS['data'].keys()"
   ]
  },
  {
   "cell_type": "code",
   "execution_count": 7,
   "id": "f6e49e30-099d-4551-b878-3939fcd06dab",
   "metadata": {
    "execution": {
     "iopub.execute_input": "2024-02-13T01:38:33.039208Z",
     "iopub.status.busy": "2024-02-13T01:38:33.039002Z",
     "iopub.status.idle": "2024-02-13T01:38:33.041960Z",
     "shell.execute_reply": "2024-02-13T01:38:33.041636Z",
     "shell.execute_reply.started": "2024-02-13T01:38:33.039197Z"
    }
   },
   "outputs": [
    {
     "data": {
      "text/plain": [
       "{'processed-reviews-spacy_json': 'data/processed/processed-reviews.json',\n",
       " 'processed-reviews-spacy_joblib': 'data/processed/processed-reviews.joblib',\n",
       " 'processed-reviews-with-target_json': 'data/processed/processed-reviews-with-target.json',\n",
       " 'processed-reviews-with-target_joblib': 'data/processed/processed-reviews-with-target.joblib'}"
      ]
     },
     "execution_count": 7,
     "metadata": {},
     "output_type": "execute_result"
    }
   ],
   "source": [
    "FPATHS['data']['processed-nlp']"
   ]
  },
  {
   "cell_type": "code",
   "execution_count": 8,
   "id": "fa1e0713-aa88-4997-b10a-fc6c7d372761",
   "metadata": {
    "execution": {
     "iopub.execute_input": "2024-02-13T01:38:33.044182Z",
     "iopub.status.busy": "2024-02-13T01:38:33.043953Z",
     "iopub.status.idle": "2024-02-13T01:38:33.046759Z",
     "shell.execute_reply": "2024-02-13T01:38:33.046280Z",
     "shell.execute_reply.started": "2024-02-13T01:38:33.044161Z"
    }
   },
   "outputs": [
    {
     "data": {
      "text/plain": [
       "{'train_joblib': 'data/modeling/training-data.joblib',\n",
       " 'test_joblib': 'data/modeling/testing-data.joblib'}"
      ]
     },
     "execution_count": 8,
     "metadata": {},
     "output_type": "execute_result"
    }
   ],
   "source": [
    "FPATHS['data']['ml-nlp']"
   ]
  },
  {
   "cell_type": "code",
   "execution_count": 9,
   "id": "e4f438a6-0ac0-4baf-99b2-2af035fa6e6d",
   "metadata": {
    "execution": {
     "iopub.execute_input": "2024-02-13T01:38:33.047681Z",
     "iopub.status.busy": "2024-02-13T01:38:33.047383Z",
     "iopub.status.idle": "2024-02-13T01:38:33.050509Z",
     "shell.execute_reply": "2024-02-13T01:38:33.050042Z",
     "shell.execute_reply.started": "2024-02-13T01:38:33.047668Z"
    }
   },
   "outputs": [
    {
     "data": {
      "text/plain": [
       "'data/processed/processed-reviews-with-target.json'"
      ]
     },
     "execution_count": 9,
     "metadata": {},
     "output_type": "execute_result"
    }
   ],
   "source": [
    "# Fpath for saving final df with target columns\n",
    "fpath_out_ml_with_targets = FPATHS['data']['processed-nlp']['processed-reviews-with-target_json']\n",
    "fpath_out_ml_with_targets"
   ]
  },
  {
   "cell_type": "code",
   "execution_count": 10,
   "id": "17131a83-4802-4f02-a42c-06cfd7737e3d",
   "metadata": {
    "execution": {
     "iopub.execute_input": "2024-02-13T01:38:33.051329Z",
     "iopub.status.busy": "2024-02-13T01:38:33.051175Z",
     "iopub.status.idle": "2024-02-13T01:38:33.054075Z",
     "shell.execute_reply": "2024-02-13T01:38:33.053628Z",
     "shell.execute_reply.started": "2024-02-13T01:38:33.051314Z"
    }
   },
   "outputs": [
    {
     "data": {
      "text/plain": [
       "'data/processed/processed-reviews.json'"
      ]
     },
     "execution_count": 10,
     "metadata": {},
     "output_type": "execute_result"
    }
   ],
   "source": [
    "## If using json\n",
    "reviews_fpath = FPATHS['data']['processed-nlp']['processed-reviews-spacy_json']\n",
    "reviews_fpath"
   ]
  },
  {
   "cell_type": "code",
   "execution_count": 11,
   "id": "de46d2d4-9f5b-4a02-a6c1-096de6df5a2b",
   "metadata": {
    "execution": {
     "iopub.execute_input": "2024-02-13T01:38:33.054789Z",
     "iopub.status.busy": "2024-02-13T01:38:33.054685Z",
     "iopub.status.idle": "2024-02-13T01:38:33.136636Z",
     "shell.execute_reply": "2024-02-13T01:38:33.134138Z",
     "shell.execute_reply.started": "2024-02-13T01:38:33.054781Z"
    },
    "scrolled": true
   },
   "outputs": [
    {
     "data": {
      "text/html": [
       "<div>\n",
       "<style scoped>\n",
       "    .dataframe tbody tr th:only-of-type {\n",
       "        vertical-align: middle;\n",
       "    }\n",
       "\n",
       "    .dataframe tbody tr th {\n",
       "        vertical-align: top;\n",
       "    }\n",
       "\n",
       "    .dataframe thead th {\n",
       "        text-align: right;\n",
       "    }\n",
       "</style>\n",
       "<table border=\"1\" class=\"dataframe\">\n",
       "  <thead>\n",
       "    <tr style=\"text-align: right;\">\n",
       "      <th></th>\n",
       "      <th>asin</th>\n",
       "      <th>reviewerID</th>\n",
       "      <th>reviewText</th>\n",
       "      <th>summary</th>\n",
       "      <th>overall</th>\n",
       "      <th>year</th>\n",
       "      <th>title</th>\n",
       "      <th>brand</th>\n",
       "      <th>category</th>\n",
       "      <th>review-text-full</th>\n",
       "      <th>review-text-full_raw</th>\n",
       "      <th>tokens-dirty</th>\n",
       "      <th>tokens</th>\n",
       "      <th>lemmas</th>\n",
       "      <th>tokens-dirty-joined</th>\n",
       "      <th>tokens-joined</th>\n",
       "      <th>lemmas-joined</th>\n",
       "    </tr>\n",
       "  </thead>\n",
       "  <tbody>\n",
       "    <tr>\n",
       "      <th>0</th>\n",
       "      <td>B007JINB0W</td>\n",
       "      <td>A3Y51NV9HU5T2</td>\n",
       "      <td>Great pasta taste and feel, but the spell in t...</td>\n",
       "      <td>Four Stars</td>\n",
       "      <td>4</td>\n",
       "      <td>2018</td>\n",
       "      <td>Miracle Noodle Zero Carb, Gluten Free Shiratak...</td>\n",
       "      <td>Miracle Noodle</td>\n",
       "      <td>Grocery &amp; Gourmet Food; Pasta &amp; Noodles; Noodl...</td>\n",
       "      <td>Four Stars: Great pasta taste and feel, but th...</td>\n",
       "      <td>Four Stars: Great pasta taste and feel, but th...</td>\n",
       "      <td>[four, stars, great, pasta, taste, and, feel, ...</td>\n",
       "      <td>[stars, great, pasta, taste, feel, spell, pack...</td>\n",
       "      <td>[star, great, pasta, taste, feel, spell, packa...</td>\n",
       "      <td>four stars great pasta taste and feel but the ...</td>\n",
       "      <td>stars great pasta taste feel spell packaged sk...</td>\n",
       "      <td>star great pasta taste feel spell package skrong</td>\n",
       "    </tr>\n",
       "    <tr>\n",
       "      <th>1</th>\n",
       "      <td>B007JINB0W</td>\n",
       "      <td>A3D7EFSRC6Y9MP</td>\n",
       "      <td>The texture just made it a little strange to e...</td>\n",
       "      <td>Okay but don't like texture</td>\n",
       "      <td>3</td>\n",
       "      <td>2014</td>\n",
       "      <td>Miracle Noodle Zero Carb, Gluten Free Shiratak...</td>\n",
       "      <td>Miracle Noodle</td>\n",
       "      <td>Grocery &amp; Gourmet Food; Pasta &amp; Noodles; Noodl...</td>\n",
       "      <td>Okay but don't like texture: The texture just ...</td>\n",
       "      <td>Okay but don't like texture: The texture just ...</td>\n",
       "      <td>[okay, but, do, n't, like, texture, the, textu...</td>\n",
       "      <td>[okay, like, texture, texture, little, strange...</td>\n",
       "      <td>[okay, like, texture, texture, little, strange...</td>\n",
       "      <td>okay but do n't like texture the texture just ...</td>\n",
       "      <td>okay like texture texture little strange eat f...</td>\n",
       "      <td>okay like texture texture little strange eat f...</td>\n",
       "    </tr>\n",
       "    <tr>\n",
       "      <th>2</th>\n",
       "      <td>B007JINB0W</td>\n",
       "      <td>A4AM5KBP3I2R</td>\n",
       "      <td>The herb flavor makes the odd texture of shira...</td>\n",
       "      <td>Go for the green noodles</td>\n",
       "      <td>5</td>\n",
       "      <td>2018</td>\n",
       "      <td>Miracle Noodle Zero Carb, Gluten Free Shiratak...</td>\n",
       "      <td>Miracle Noodle</td>\n",
       "      <td>Grocery &amp; Gourmet Food; Pasta &amp; Noodles; Noodl...</td>\n",
       "      <td>Go for the green noodles: The herb flavor make...</td>\n",
       "      <td>Go for the green noodles: The herb flavor make...</td>\n",
       "      <td>[go, for, the, green, noodles, the, herb, flav...</td>\n",
       "      <td>[green, noodles, herb, flavor, makes, odd, tex...</td>\n",
       "      <td>[green, noodle, herb, flavor, make, odd, textu...</td>\n",
       "      <td>go for the green noodles the herb flavor makes...</td>\n",
       "      <td>green noodles herb flavor makes odd texture sh...</td>\n",
       "      <td>green noodle herb flavor make odd texture shir...</td>\n",
       "    </tr>\n",
       "    <tr>\n",
       "      <th>3</th>\n",
       "      <td>B007JINB0W</td>\n",
       "      <td>A3GHK4IL78DB7Y</td>\n",
       "      <td>I didn't have a problem at all with a half fil...</td>\n",
       "      <td>Its an awesome substitute.</td>\n",
       "      <td>5</td>\n",
       "      <td>2018</td>\n",
       "      <td>Miracle Noodle Zero Carb, Gluten Free Shiratak...</td>\n",
       "      <td>Miracle Noodle</td>\n",
       "      <td>Grocery &amp; Gourmet Food; Pasta &amp; Noodles; Noodl...</td>\n",
       "      <td>Its an awesome substitute.: I didn't have a pr...</td>\n",
       "      <td>Its an awesome substitute.: I didn't have a pr...</td>\n",
       "      <td>[its, an, awesome, substitute, i, did, n't, ha...</td>\n",
       "      <td>[awesome, substitute, problem, half, filled, b...</td>\n",
       "      <td>[awesome, substitute, problem, half, fill, bag...</td>\n",
       "      <td>its an awesome substitute i did n't have a pro...</td>\n",
       "      <td>awesome substitute problem half filled bag use...</td>\n",
       "      <td>awesome substitute problem half fill bag user ...</td>\n",
       "    </tr>\n",
       "    <tr>\n",
       "      <th>4</th>\n",
       "      <td>B007JINB0W</td>\n",
       "      <td>AH3B94LQOPPY6</td>\n",
       "      <td>They taste like whatever you cook them with.</td>\n",
       "      <td>Five Stars</td>\n",
       "      <td>5</td>\n",
       "      <td>2016</td>\n",
       "      <td>Miracle Noodle Zero Carb, Gluten Free Shiratak...</td>\n",
       "      <td>Miracle Noodle</td>\n",
       "      <td>Grocery &amp; Gourmet Food; Pasta &amp; Noodles; Noodl...</td>\n",
       "      <td>Five Stars: They taste like whatever you cook ...</td>\n",
       "      <td>Five Stars: They taste like whatever you cook ...</td>\n",
       "      <td>[five, stars, they, taste, like, whatever, you...</td>\n",
       "      <td>[stars, taste, like, cook]</td>\n",
       "      <td>[star, taste, like, cook]</td>\n",
       "      <td>five stars they taste like whatever you cook t...</td>\n",
       "      <td>stars taste like cook</td>\n",
       "      <td>star taste like cook</td>\n",
       "    </tr>\n",
       "    <tr>\n",
       "      <th>...</th>\n",
       "      <td>...</td>\n",
       "      <td>...</td>\n",
       "      <td>...</td>\n",
       "      <td>...</td>\n",
       "      <td>...</td>\n",
       "      <td>...</td>\n",
       "      <td>...</td>\n",
       "      <td>...</td>\n",
       "      <td>...</td>\n",
       "      <td>...</td>\n",
       "      <td>...</td>\n",
       "      <td>...</td>\n",
       "      <td>...</td>\n",
       "      <td>...</td>\n",
       "      <td>...</td>\n",
       "      <td>...</td>\n",
       "      <td>...</td>\n",
       "    </tr>\n",
       "    <tr>\n",
       "      <th>4358</th>\n",
       "      <td>B007JINB0W</td>\n",
       "      <td>A73IG1ED6S0JR</td>\n",
       "      <td>Product arrived with two of the bags punctured...</td>\n",
       "      <td>would not recomend</td>\n",
       "      <td>1</td>\n",
       "      <td>2016</td>\n",
       "      <td>Miracle Noodle Zero Carb, Gluten Free Shiratak...</td>\n",
       "      <td>Miracle Noodle</td>\n",
       "      <td>Grocery &amp; Gourmet Food; Pasta &amp; Noodles; Noodl...</td>\n",
       "      <td>would not recomend: Product arrived with two o...</td>\n",
       "      <td>would not recomend: Product arrived with two o...</td>\n",
       "      <td>[would, not, recomend, product, arrived, with,...</td>\n",
       "      <td>[recomend, product, arrived, bags, punctured, ...</td>\n",
       "      <td>[recomend, product, arrive, bag, puncture, sme...</td>\n",
       "      <td>would not recomend product arrived with two of...</td>\n",
       "      <td>recomend product arrived bags punctured smells...</td>\n",
       "      <td>recomend product arrive bag puncture smell bad</td>\n",
       "    </tr>\n",
       "    <tr>\n",
       "      <th>4359</th>\n",
       "      <td>B007JINB0W</td>\n",
       "      <td>A1XZ2H0MYG54M0</td>\n",
       "      <td>Ok.</td>\n",
       "      <td>Five Stars</td>\n",
       "      <td>5</td>\n",
       "      <td>2016</td>\n",
       "      <td>Miracle Noodle Zero Carb, Gluten Free Shiratak...</td>\n",
       "      <td>Miracle Noodle</td>\n",
       "      <td>Grocery &amp; Gourmet Food; Pasta &amp; Noodles; Noodl...</td>\n",
       "      <td>Five Stars: Ok.</td>\n",
       "      <td>Five Stars: Ok.</td>\n",
       "      <td>[five, stars, ok]</td>\n",
       "      <td>[stars, ok]</td>\n",
       "      <td>[star, ok]</td>\n",
       "      <td>five stars ok</td>\n",
       "      <td>stars ok</td>\n",
       "      <td>star ok</td>\n",
       "    </tr>\n",
       "    <tr>\n",
       "      <th>4360</th>\n",
       "      <td>B007JINB0W</td>\n",
       "      <td>A3I2YF0MXB7P0B</td>\n",
       "      <td>I like these noodles but the spinach ones just...</td>\n",
       "      <td>Not awful, but now I know why these were on sale.</td>\n",
       "      <td>2</td>\n",
       "      <td>2013</td>\n",
       "      <td>Miracle Noodle Zero Carb, Gluten Free Shiratak...</td>\n",
       "      <td>Miracle Noodle</td>\n",
       "      <td>Grocery &amp; Gourmet Food; Pasta &amp; Noodles; Noodl...</td>\n",
       "      <td>Not awful, but now I know why these were on sa...</td>\n",
       "      <td>Not awful, but now I know why these were on sa...</td>\n",
       "      <td>[not, awful, but, now, i, know, why, these, we...</td>\n",
       "      <td>[awful, know, sale, like, noodles, spinach, on...</td>\n",
       "      <td>[awful, know, sale, like, noodle, spinach, one...</td>\n",
       "      <td>not awful but now i know why these were on sal...</td>\n",
       "      <td>awful know sale like noodles spinach ones tast...</td>\n",
       "      <td>awful know sale like noodle spinach one taste ...</td>\n",
       "    </tr>\n",
       "    <tr>\n",
       "      <th>4361</th>\n",
       "      <td>B007JINB0W</td>\n",
       "      <td>A2UELLFLITPMT1</td>\n",
       "      <td>Truly horrific. Like eating dead worms.</td>\n",
       "      <td>Don't even try it.</td>\n",
       "      <td>1</td>\n",
       "      <td>2017</td>\n",
       "      <td>Miracle Noodle Zero Carb, Gluten Free Shiratak...</td>\n",
       "      <td>Miracle Noodle</td>\n",
       "      <td>Grocery &amp; Gourmet Food; Pasta &amp; Noodles; Noodl...</td>\n",
       "      <td>Don't even try it.: Truly horrific. Like eatin...</td>\n",
       "      <td>Don't even try it.: Truly horrific. Like eatin...</td>\n",
       "      <td>[do, n't, even, try, it, truly, horrific, like...</td>\n",
       "      <td>[try, truly, horrific, like, eating, dead, worms]</td>\n",
       "      <td>[try, truly, horrific, like, eat, dead, worm]</td>\n",
       "      <td>do n't even try it truly horrific like eating ...</td>\n",
       "      <td>try truly horrific like eating dead worms</td>\n",
       "      <td>try truly horrific like eat dead worm</td>\n",
       "    </tr>\n",
       "    <tr>\n",
       "      <th>4362</th>\n",
       "      <td>B007JINB0W</td>\n",
       "      <td>A178M2AHNWQZB0</td>\n",
       "      <td>We love the rice noodles, and have problems fi...</td>\n",
       "      <td>As good as all the other Miracle noodle products</td>\n",
       "      <td>5</td>\n",
       "      <td>2017</td>\n",
       "      <td>Miracle Noodle Zero Carb, Gluten Free Shiratak...</td>\n",
       "      <td>Miracle Noodle</td>\n",
       "      <td>Grocery &amp; Gourmet Food; Pasta &amp; Noodles; Noodl...</td>\n",
       "      <td>As good as all the other Miracle noodle produc...</td>\n",
       "      <td>As good as all the other Miracle noodle produc...</td>\n",
       "      <td>[as, good, as, all, the, other, miracle, noodl...</td>\n",
       "      <td>[good, miracle, noodle, products, love, rice, ...</td>\n",
       "      <td>[good, miracle, noodle, product, love, rice, n...</td>\n",
       "      <td>as good as all the other miracle noodle produc...</td>\n",
       "      <td>good miracle noodle products love rice noodles...</td>\n",
       "      <td>good miracle noodle product love rice noodle p...</td>\n",
       "    </tr>\n",
       "  </tbody>\n",
       "</table>\n",
       "<p>4363 rows × 17 columns</p>\n",
       "</div>"
      ],
      "text/plain": [
       "            asin      reviewerID  \\\n",
       "0     B007JINB0W   A3Y51NV9HU5T2   \n",
       "1     B007JINB0W  A3D7EFSRC6Y9MP   \n",
       "2     B007JINB0W    A4AM5KBP3I2R   \n",
       "3     B007JINB0W  A3GHK4IL78DB7Y   \n",
       "4     B007JINB0W   AH3B94LQOPPY6   \n",
       "...          ...             ...   \n",
       "4358  B007JINB0W   A73IG1ED6S0JR   \n",
       "4359  B007JINB0W  A1XZ2H0MYG54M0   \n",
       "4360  B007JINB0W  A3I2YF0MXB7P0B   \n",
       "4361  B007JINB0W  A2UELLFLITPMT1   \n",
       "4362  B007JINB0W  A178M2AHNWQZB0   \n",
       "\n",
       "                                             reviewText  \\\n",
       "0     Great pasta taste and feel, but the spell in t...   \n",
       "1     The texture just made it a little strange to e...   \n",
       "2     The herb flavor makes the odd texture of shira...   \n",
       "3     I didn't have a problem at all with a half fil...   \n",
       "4         They taste like whatever you cook them with.    \n",
       "...                                                 ...   \n",
       "4358  Product arrived with two of the bags punctured...   \n",
       "4359                                                Ok.   \n",
       "4360  I like these noodles but the spinach ones just...   \n",
       "4361            Truly horrific. Like eating dead worms.   \n",
       "4362  We love the rice noodles, and have problems fi...   \n",
       "\n",
       "                                                summary  overall  year  \\\n",
       "0                                            Four Stars        4  2018   \n",
       "1                           Okay but don't like texture        3  2014   \n",
       "2                              Go for the green noodles        5  2018   \n",
       "3                            Its an awesome substitute.        5  2018   \n",
       "4                                            Five Stars        5  2016   \n",
       "...                                                 ...      ...   ...   \n",
       "4358                                 would not recomend        1  2016   \n",
       "4359                                         Five Stars        5  2016   \n",
       "4360  Not awful, but now I know why these were on sale.        2  2013   \n",
       "4361                                 Don't even try it.        1  2017   \n",
       "4362   As good as all the other Miracle noodle products        5  2017   \n",
       "\n",
       "                                                  title           brand  \\\n",
       "0     Miracle Noodle Zero Carb, Gluten Free Shiratak...  Miracle Noodle   \n",
       "1     Miracle Noodle Zero Carb, Gluten Free Shiratak...  Miracle Noodle   \n",
       "2     Miracle Noodle Zero Carb, Gluten Free Shiratak...  Miracle Noodle   \n",
       "3     Miracle Noodle Zero Carb, Gluten Free Shiratak...  Miracle Noodle   \n",
       "4     Miracle Noodle Zero Carb, Gluten Free Shiratak...  Miracle Noodle   \n",
       "...                                                 ...             ...   \n",
       "4358  Miracle Noodle Zero Carb, Gluten Free Shiratak...  Miracle Noodle   \n",
       "4359  Miracle Noodle Zero Carb, Gluten Free Shiratak...  Miracle Noodle   \n",
       "4360  Miracle Noodle Zero Carb, Gluten Free Shiratak...  Miracle Noodle   \n",
       "4361  Miracle Noodle Zero Carb, Gluten Free Shiratak...  Miracle Noodle   \n",
       "4362  Miracle Noodle Zero Carb, Gluten Free Shiratak...  Miracle Noodle   \n",
       "\n",
       "                                               category  \\\n",
       "0     Grocery & Gourmet Food; Pasta & Noodles; Noodl...   \n",
       "1     Grocery & Gourmet Food; Pasta & Noodles; Noodl...   \n",
       "2     Grocery & Gourmet Food; Pasta & Noodles; Noodl...   \n",
       "3     Grocery & Gourmet Food; Pasta & Noodles; Noodl...   \n",
       "4     Grocery & Gourmet Food; Pasta & Noodles; Noodl...   \n",
       "...                                                 ...   \n",
       "4358  Grocery & Gourmet Food; Pasta & Noodles; Noodl...   \n",
       "4359  Grocery & Gourmet Food; Pasta & Noodles; Noodl...   \n",
       "4360  Grocery & Gourmet Food; Pasta & Noodles; Noodl...   \n",
       "4361  Grocery & Gourmet Food; Pasta & Noodles; Noodl...   \n",
       "4362  Grocery & Gourmet Food; Pasta & Noodles; Noodl...   \n",
       "\n",
       "                                       review-text-full  \\\n",
       "0     Four Stars: Great pasta taste and feel, but th...   \n",
       "1     Okay but don't like texture: The texture just ...   \n",
       "2     Go for the green noodles: The herb flavor make...   \n",
       "3     Its an awesome substitute.: I didn't have a pr...   \n",
       "4     Five Stars: They taste like whatever you cook ...   \n",
       "...                                                 ...   \n",
       "4358  would not recomend: Product arrived with two o...   \n",
       "4359                                    Five Stars: Ok.   \n",
       "4360  Not awful, but now I know why these were on sa...   \n",
       "4361  Don't even try it.: Truly horrific. Like eatin...   \n",
       "4362  As good as all the other Miracle noodle produc...   \n",
       "\n",
       "                                   review-text-full_raw  \\\n",
       "0     Four Stars: Great pasta taste and feel, but th...   \n",
       "1     Okay but don't like texture: The texture just ...   \n",
       "2     Go for the green noodles: The herb flavor make...   \n",
       "3     Its an awesome substitute.: I didn't have a pr...   \n",
       "4     Five Stars: They taste like whatever you cook ...   \n",
       "...                                                 ...   \n",
       "4358  would not recomend: Product arrived with two o...   \n",
       "4359                                    Five Stars: Ok.   \n",
       "4360  Not awful, but now I know why these were on sa...   \n",
       "4361  Don't even try it.: Truly horrific. Like eatin...   \n",
       "4362  As good as all the other Miracle noodle produc...   \n",
       "\n",
       "                                           tokens-dirty  \\\n",
       "0     [four, stars, great, pasta, taste, and, feel, ...   \n",
       "1     [okay, but, do, n't, like, texture, the, textu...   \n",
       "2     [go, for, the, green, noodles, the, herb, flav...   \n",
       "3     [its, an, awesome, substitute, i, did, n't, ha...   \n",
       "4     [five, stars, they, taste, like, whatever, you...   \n",
       "...                                                 ...   \n",
       "4358  [would, not, recomend, product, arrived, with,...   \n",
       "4359                                  [five, stars, ok]   \n",
       "4360  [not, awful, but, now, i, know, why, these, we...   \n",
       "4361  [do, n't, even, try, it, truly, horrific, like...   \n",
       "4362  [as, good, as, all, the, other, miracle, noodl...   \n",
       "\n",
       "                                                 tokens  \\\n",
       "0     [stars, great, pasta, taste, feel, spell, pack...   \n",
       "1     [okay, like, texture, texture, little, strange...   \n",
       "2     [green, noodles, herb, flavor, makes, odd, tex...   \n",
       "3     [awesome, substitute, problem, half, filled, b...   \n",
       "4                            [stars, taste, like, cook]   \n",
       "...                                                 ...   \n",
       "4358  [recomend, product, arrived, bags, punctured, ...   \n",
       "4359                                        [stars, ok]   \n",
       "4360  [awful, know, sale, like, noodles, spinach, on...   \n",
       "4361  [try, truly, horrific, like, eating, dead, worms]   \n",
       "4362  [good, miracle, noodle, products, love, rice, ...   \n",
       "\n",
       "                                                 lemmas  \\\n",
       "0     [star, great, pasta, taste, feel, spell, packa...   \n",
       "1     [okay, like, texture, texture, little, strange...   \n",
       "2     [green, noodle, herb, flavor, make, odd, textu...   \n",
       "3     [awesome, substitute, problem, half, fill, bag...   \n",
       "4                             [star, taste, like, cook]   \n",
       "...                                                 ...   \n",
       "4358  [recomend, product, arrive, bag, puncture, sme...   \n",
       "4359                                         [star, ok]   \n",
       "4360  [awful, know, sale, like, noodle, spinach, one...   \n",
       "4361      [try, truly, horrific, like, eat, dead, worm]   \n",
       "4362  [good, miracle, noodle, product, love, rice, n...   \n",
       "\n",
       "                                    tokens-dirty-joined  \\\n",
       "0     four stars great pasta taste and feel but the ...   \n",
       "1     okay but do n't like texture the texture just ...   \n",
       "2     go for the green noodles the herb flavor makes...   \n",
       "3     its an awesome substitute i did n't have a pro...   \n",
       "4     five stars they taste like whatever you cook t...   \n",
       "...                                                 ...   \n",
       "4358  would not recomend product arrived with two of...   \n",
       "4359                                      five stars ok   \n",
       "4360  not awful but now i know why these were on sal...   \n",
       "4361  do n't even try it truly horrific like eating ...   \n",
       "4362  as good as all the other miracle noodle produc...   \n",
       "\n",
       "                                          tokens-joined  \\\n",
       "0     stars great pasta taste feel spell packaged sk...   \n",
       "1     okay like texture texture little strange eat f...   \n",
       "2     green noodles herb flavor makes odd texture sh...   \n",
       "3     awesome substitute problem half filled bag use...   \n",
       "4                                 stars taste like cook   \n",
       "...                                                 ...   \n",
       "4358  recomend product arrived bags punctured smells...   \n",
       "4359                                           stars ok   \n",
       "4360  awful know sale like noodles spinach ones tast...   \n",
       "4361          try truly horrific like eating dead worms   \n",
       "4362  good miracle noodle products love rice noodles...   \n",
       "\n",
       "                                          lemmas-joined  \n",
       "0      star great pasta taste feel spell package skrong  \n",
       "1     okay like texture texture little strange eat f...  \n",
       "2     green noodle herb flavor make odd texture shir...  \n",
       "3     awesome substitute problem half fill bag user ...  \n",
       "4                                  star taste like cook  \n",
       "...                                                 ...  \n",
       "4358     recomend product arrive bag puncture smell bad  \n",
       "4359                                            star ok  \n",
       "4360  awful know sale like noodle spinach one taste ...  \n",
       "4361              try truly horrific like eat dead worm  \n",
       "4362  good miracle noodle product love rice noodle p...  \n",
       "\n",
       "[4363 rows x 17 columns]"
      ]
     },
     "execution_count": 11,
     "metadata": {},
     "output_type": "execute_result"
    }
   ],
   "source": [
    "df = pd.read_json(reviews_fpath)\n",
    "# df = df.reset_index(drop=False)\n",
    "df"
   ]
  },
  {
   "cell_type": "code",
   "execution_count": 12,
   "id": "638d553e-3cef-43e3-a2e5-abc8a723a156",
   "metadata": {
    "execution": {
     "iopub.execute_input": "2024-02-13T01:38:33.137539Z",
     "iopub.status.busy": "2024-02-13T01:38:33.137399Z",
     "iopub.status.idle": "2024-02-13T01:38:33.147793Z",
     "shell.execute_reply": "2024-02-13T01:38:33.147289Z",
     "shell.execute_reply.started": "2024-02-13T01:38:33.137528Z"
    }
   },
   "outputs": [
    {
     "data": {
      "text/plain": [
       "0"
      ]
     },
     "execution_count": 12,
     "metadata": {},
     "output_type": "execute_result"
    }
   ],
   "source": [
    "# Check for duplciate review ids\n",
    "dup_subset_cols = ['asin','reviewerID','review-text-full']\n",
    "df.duplicated(subset=dup_subset_cols).sum()"
   ]
  },
  {
   "cell_type": "code",
   "execution_count": 13,
   "id": "5b3947fb-f36d-40f8-9eaa-eddeef3e907f",
   "metadata": {
    "execution": {
     "iopub.execute_input": "2024-02-13T01:38:33.148620Z",
     "iopub.status.busy": "2024-02-13T01:38:33.148372Z",
     "iopub.status.idle": "2024-02-13T01:38:33.155327Z",
     "shell.execute_reply": "2024-02-13T01:38:33.154661Z",
     "shell.execute_reply.started": "2024-02-13T01:38:33.148608Z"
    }
   },
   "outputs": [
    {
     "data": {
      "text/plain": [
       "42"
      ]
     },
     "execution_count": 13,
     "metadata": {},
     "output_type": "execute_result"
    }
   ],
   "source": [
    "# Check for duplicated review text\n",
    "df.duplicated(subset=['review-text-full']).sum()"
   ]
  },
  {
   "cell_type": "code",
   "execution_count": 14,
   "id": "90cd2783-7931-4e8a-8500-e28e971f1b69",
   "metadata": {
    "execution": {
     "iopub.execute_input": "2024-02-13T01:38:33.157349Z",
     "iopub.status.busy": "2024-02-13T01:38:33.157168Z",
     "iopub.status.idle": "2024-02-13T01:38:33.172420Z",
     "shell.execute_reply": "2024-02-13T01:38:33.171823Z",
     "shell.execute_reply.started": "2024-02-13T01:38:33.157319Z"
    }
   },
   "outputs": [
    {
     "data": {
      "text/plain": [
       "asin                    0\n",
       "reviewerID              0\n",
       "reviewText              0\n",
       "summary                 0\n",
       "overall                 0\n",
       "year                    0\n",
       "title                   0\n",
       "brand                   0\n",
       "category                0\n",
       "review-text-full        0\n",
       "review-text-full_raw    0\n",
       "tokens-dirty            0\n",
       "tokens                  0\n",
       "lemmas                  0\n",
       "tokens-dirty-joined     0\n",
       "tokens-joined           0\n",
       "lemmas-joined           0\n",
       "dtype: int64"
      ]
     },
     "execution_count": 14,
     "metadata": {},
     "output_type": "execute_result"
    }
   ],
   "source": [
    "df.isna().sum()"
   ]
  },
  {
   "cell_type": "code",
   "execution_count": 15,
   "id": "5aa2df62-d2dc-43a9-825a-54863c9fe60b",
   "metadata": {
    "execution": {
     "iopub.execute_input": "2024-02-13T01:38:33.174266Z",
     "iopub.status.busy": "2024-02-13T01:38:33.173905Z",
     "iopub.status.idle": "2024-02-13T01:38:33.503688Z",
     "shell.execute_reply": "2024-02-13T01:38:33.503034Z",
     "shell.execute_reply.started": "2024-02-13T01:38:33.174252Z"
    }
   },
   "outputs": [
    {
     "data": {
      "text/plain": [
       "<Axes: >"
      ]
     },
     "execution_count": 15,
     "metadata": {},
     "output_type": "execute_result"
    },
    {
     "data": {
      "image/png": "[encoded data removed]",
      "text/plain": [
       "<Figure size 2500x1000 with 2 Axes>"
      ]
     },
     "metadata": {},
     "output_type": "display_data"
    }
   ],
   "source": [
    "import missingno\n",
    "missingno.matrix(df)"
   ]
  },
  {
   "cell_type": "markdown",
   "id": "f58bd930-aad1-4b01-80b3-dbb653e41e81",
   "metadata": {},
   "source": [
    "## Set Groups (for EDA & Modeling)"
   ]
  },
  {
   "cell_type": "code",
   "execution_count": 16,
   "id": "4ce9e587",
   "metadata": {},
   "outputs": [
    {
     "data": {
      "text/html": [
       "<svg  width=\"275\" height=\"55\"><rect x=\"0\" y=\"0\" width=\"55\" height=\"55\" style=\"fill:#1f77b4;stroke-width:2;stroke:rgb(255,255,255)\"/><rect x=\"55\" y=\"0\" width=\"55\" height=\"55\" style=\"fill:#ff7f0e;stroke-width:2;stroke:rgb(255,255,255)\"/><rect x=\"110\" y=\"0\" width=\"55\" height=\"55\" style=\"fill:#2ca02c;stroke-width:2;stroke:rgb(255,255,255)\"/><rect x=\"165\" y=\"0\" width=\"55\" height=\"55\" style=\"fill:#d62728;stroke-width:2;stroke:rgb(255,255,255)\"/><rect x=\"220\" y=\"0\" width=\"55\" height=\"55\" style=\"fill:#9467bd;stroke-width:2;stroke:rgb(255,255,255)\"/></svg>"
      ],
      "text/plain": [
       "[(0.12156862745098039, 0.4666666666666667, 0.7058823529411765),\n",
       " (1.0, 0.4980392156862745, 0.054901960784313725),\n",
       " (0.17254901960784313, 0.6274509803921569, 0.17254901960784313),\n",
       " (0.8392156862745098, 0.15294117647058825, 0.1568627450980392),\n",
       " (0.5803921568627451, 0.403921568627451, 0.7411764705882353)]"
      ]
     },
     "execution_count": 16,
     "metadata": {},
     "output_type": "execute_result"
    }
   ],
   "source": [
    "palette_tab10 = sns.palettes.color_palette('tab10',n_colors=len(df['overall'].unique()))\n",
    "palette_tab10"
   ]
  },
  {
   "cell_type": "code",
   "execution_count": 17,
   "id": "281507bf-c58e-4771-b2f8-e91910ff6e84",
   "metadata": {
    "execution": {
     "iopub.execute_input": "2024-02-13T01:38:33.504721Z",
     "iopub.status.busy": "2024-02-13T01:38:33.504538Z",
     "iopub.status.idle": "2024-02-13T01:38:33.590183Z",
     "shell.execute_reply": "2024-02-13T01:38:33.589426Z",
     "shell.execute_reply.started": "2024-02-13T01:38:33.504704Z"
    }
   },
   "outputs": [
    {
     "data": {
      "image/png": "[encoded data removed]",
      "text/plain": [
       "<Figure size 750x500 with 1 Axes>"
      ]
     },
     "metadata": {},
     "output_type": "display_data"
    }
   ],
   "source": [
    "# ds.eda.explore_categorical(df,x='overall');\n",
    "ax = sns.catplot(data=df,x='overall',kind='count', aspect=1.5, hue=\"overall\",\n",
    "            palette=palette_tab10,legend=False)"
   ]
  },
  {
   "cell_type": "markdown",
   "id": "ee844050-97ae-40ba-ba53-cc69c84193e0",
   "metadata": {},
   "source": [
    "To understand what customers do and do not like about Hoover products, we will define 2 groups:\n",
    "- High Ratings\n",
    "    - Overall rating = 5.0\n",
    "- Low Ratings\n",
    "    - Overall rating = 1.0 or 2.0\n",
    "\n",
    "\n",
    "We can use a function and .map to define group names based on the numeric overall ratings."
   ]
  },
  {
   "cell_type": "markdown",
   "id": "1556c634-01bb-4402-ae42-fb95db14d11f",
   "metadata": {},
   "source": [
    "### Define Target Groups (02/08)"
   ]
  },
  {
   "cell_type": "markdown",
   "id": "64f7afea-9d26-410e-8674-777fcef0320c",
   "metadata": {},
   "source": [
    "Binary:\n",
    "- \"High Rating\": = 5\n",
    "- \"Low Rating\": <= 2\n",
    "<!-- \n",
    "Multiclass:\n",
    "- \"High Rating\": >= 8\n",
    "- \"Mid Rating\": 4< x < 8\n",
    "- \"Low Rating\": <4 -->"
   ]
  },
  {
   "cell_type": "code",
   "execution_count": 18,
   "id": "01cf5245-d14b-4a08-8a3c-4b5b1147e323",
   "metadata": {
    "execution": {
     "iopub.execute_input": "2024-02-13T01:38:33.591234Z",
     "iopub.status.busy": "2024-02-13T01:38:33.591093Z",
     "iopub.status.idle": "2024-02-13T01:38:33.595424Z",
     "shell.execute_reply": "2024-02-13T01:38:33.594600Z",
     "shell.execute_reply.started": "2024-02-13T01:38:33.591224Z"
    }
   },
   "outputs": [],
   "source": [
    "def create_groups(x):\n",
    "    if x>=5.0:\n",
    "        return \"High\"\n",
    "    elif x <=2.0:\n",
    "        return \"Low\"\n",
    "    else: \n",
    "        return None\n",
    "    \n",
    "\n",
    "# def set_groups_multi(x):\n",
    "#     if x >= 8:\n",
    "#         group = \"High\"\n",
    "#     elif x>=4:\n",
    "#         group = \"Mid\"\n",
    "#     else:\n",
    "#         group= \"Low\"\n",
    "#     return group"
   ]
  },
  {
   "cell_type": "code",
   "execution_count": 19,
   "id": "a4017876-3aea-4e4e-9a3e-3626c6cc6d5d",
   "metadata": {
    "execution": {
     "iopub.execute_input": "2024-02-13T01:38:33.596274Z",
     "iopub.status.busy": "2024-02-13T01:38:33.596157Z",
     "iopub.status.idle": "2024-02-13T01:38:33.602860Z",
     "shell.execute_reply": "2024-02-13T01:38:33.601729Z",
     "shell.execute_reply.started": "2024-02-13T01:38:33.596264Z"
    }
   },
   "outputs": [
    {
     "data": {
      "text/plain": [
       "target-rating\n",
       "High    1868\n",
       "Low     1437\n",
       "None    1058\n",
       "Name: count, dtype: int64"
      ]
     },
     "execution_count": 19,
     "metadata": {},
     "output_type": "execute_result"
    }
   ],
   "source": [
    "df['target-rating'] = df['overall'].map(create_groups)#set_group_binary)\n",
    "df['target-rating'].value_counts(dropna=False)"
   ]
  },
  {
   "cell_type": "markdown",
   "id": "bc0c12d8-8488-40b5-9288-0bf44f6ec101",
   "metadata": {},
   "source": [
    "### Class Balance\n",
    "\n",
    "It's always a good idea to check the class balance when creating a classification model.  This can affect modeling bias and interpretation of metrics."
   ]
  },
  {
   "cell_type": "code",
   "execution_count": 20,
   "id": "e3aab28f-76e3-4480-a308-b6ae460e3984",
   "metadata": {
    "execution": {
     "iopub.execute_input": "2024-02-13T01:38:33.604029Z",
     "iopub.status.busy": "2024-02-13T01:38:33.603885Z",
     "iopub.status.idle": "2024-02-13T01:38:33.609049Z",
     "shell.execute_reply": "2024-02-13T01:38:33.608541Z",
     "shell.execute_reply.started": "2024-02-13T01:38:33.604019Z"
    }
   },
   "outputs": [
    {
     "data": {
      "text/plain": [
       "target-rating\n",
       "High    0.565204\n",
       "Low     0.434796\n",
       "Name: proportion, dtype: float64"
      ]
     },
     "execution_count": 20,
     "metadata": {},
     "output_type": "execute_result"
    }
   ],
   "source": [
    "df['target-rating'].value_counts(dropna=True, normalize=True)"
   ]
  },
  {
   "cell_type": "code",
   "execution_count": 21,
   "id": "c4cfb390-c3b3-4d48-949f-86992ff31833",
   "metadata": {
    "execution": {
     "iopub.execute_input": "2024-02-13T01:38:33.610216Z",
     "iopub.status.busy": "2024-02-13T01:38:33.610099Z",
     "iopub.status.idle": "2024-02-13T01:38:33.807980Z",
     "shell.execute_reply": "2024-02-13T01:38:33.807615Z",
     "shell.execute_reply.started": "2024-02-13T01:38:33.610207Z"
    }
   },
   "outputs": [],
   "source": [
    "# fig, axes =  plt.subplots(ncols=2, figsize=(10,5))\n",
    "# sns.histplot(data=df, x='overall', hue='target-rating', ax=axes[0])\n",
    "# sns.histplot(data=df, x='target-rating', hue='target-rating', ax=axes[1], legend=False, stat='percent')\n",
    "# fig.tight_layout()"
   ]
  },
  {
   "cell_type": "markdown",
   "id": "05fed98e-841c-47a0-bbaf-9511c70912a0",
   "metadata": {},
   "source": [
    "#### Save Reviews with Target for Modeling (Part 3)"
   ]
  },
  {
   "cell_type": "code",
   "execution_count": 22,
   "id": "13ea02b2-c22a-437f-b260-48b3ae845a6e",
   "metadata": {
    "execution": {
     "iopub.execute_input": "2024-02-13T01:38:33.808780Z",
     "iopub.status.busy": "2024-02-13T01:38:33.808673Z",
     "iopub.status.idle": "2024-02-13T01:38:33.818491Z",
     "shell.execute_reply": "2024-02-13T01:38:33.817980Z",
     "shell.execute_reply.started": "2024-02-13T01:38:33.808770Z"
    }
   },
   "outputs": [
    {
     "data": {
      "text/html": [
       "<div>\n",
       "<style scoped>\n",
       "    .dataframe tbody tr th:only-of-type {\n",
       "        vertical-align: middle;\n",
       "    }\n",
       "\n",
       "    .dataframe tbody tr th {\n",
       "        vertical-align: top;\n",
       "    }\n",
       "\n",
       "    .dataframe thead th {\n",
       "        text-align: right;\n",
       "    }\n",
       "</style>\n",
       "<table border=\"1\" class=\"dataframe\">\n",
       "  <thead>\n",
       "    <tr style=\"text-align: right;\">\n",
       "      <th></th>\n",
       "      <th>asin</th>\n",
       "      <th>reviewerID</th>\n",
       "      <th>reviewText</th>\n",
       "      <th>summary</th>\n",
       "      <th>overall</th>\n",
       "      <th>year</th>\n",
       "      <th>title</th>\n",
       "      <th>brand</th>\n",
       "      <th>category</th>\n",
       "      <th>review-text-full</th>\n",
       "      <th>review-text-full_raw</th>\n",
       "      <th>tokens-dirty</th>\n",
       "      <th>tokens</th>\n",
       "      <th>lemmas</th>\n",
       "      <th>tokens-dirty-joined</th>\n",
       "      <th>tokens-joined</th>\n",
       "      <th>lemmas-joined</th>\n",
       "      <th>target-rating</th>\n",
       "    </tr>\n",
       "  </thead>\n",
       "  <tbody>\n",
       "    <tr>\n",
       "      <th>0</th>\n",
       "      <td>B007JINB0W</td>\n",
       "      <td>A3Y51NV9HU5T2</td>\n",
       "      <td>Great pasta taste and feel, but the spell in t...</td>\n",
       "      <td>Four Stars</td>\n",
       "      <td>4</td>\n",
       "      <td>2018</td>\n",
       "      <td>Miracle Noodle Zero Carb, Gluten Free Shiratak...</td>\n",
       "      <td>Miracle Noodle</td>\n",
       "      <td>Grocery &amp; Gourmet Food; Pasta &amp; Noodles; Noodl...</td>\n",
       "      <td>Four Stars: Great pasta taste and feel, but th...</td>\n",
       "      <td>Four Stars: Great pasta taste and feel, but th...</td>\n",
       "      <td>[four, stars, great, pasta, taste, and, feel, ...</td>\n",
       "      <td>[stars, great, pasta, taste, feel, spell, pack...</td>\n",
       "      <td>[star, great, pasta, taste, feel, spell, packa...</td>\n",
       "      <td>four stars great pasta taste and feel but the ...</td>\n",
       "      <td>stars great pasta taste feel spell packaged sk...</td>\n",
       "      <td>star great pasta taste feel spell package skrong</td>\n",
       "      <td>None</td>\n",
       "    </tr>\n",
       "    <tr>\n",
       "      <th>1</th>\n",
       "      <td>B007JINB0W</td>\n",
       "      <td>A3D7EFSRC6Y9MP</td>\n",
       "      <td>The texture just made it a little strange to e...</td>\n",
       "      <td>Okay but don't like texture</td>\n",
       "      <td>3</td>\n",
       "      <td>2014</td>\n",
       "      <td>Miracle Noodle Zero Carb, Gluten Free Shiratak...</td>\n",
       "      <td>Miracle Noodle</td>\n",
       "      <td>Grocery &amp; Gourmet Food; Pasta &amp; Noodles; Noodl...</td>\n",
       "      <td>Okay but don't like texture: The texture just ...</td>\n",
       "      <td>Okay but don't like texture: The texture just ...</td>\n",
       "      <td>[okay, but, do, n't, like, texture, the, textu...</td>\n",
       "      <td>[okay, like, texture, texture, little, strange...</td>\n",
       "      <td>[okay, like, texture, texture, little, strange...</td>\n",
       "      <td>okay but do n't like texture the texture just ...</td>\n",
       "      <td>okay like texture texture little strange eat f...</td>\n",
       "      <td>okay like texture texture little strange eat f...</td>\n",
       "      <td>None</td>\n",
       "    </tr>\n",
       "    <tr>\n",
       "      <th>2</th>\n",
       "      <td>B007JINB0W</td>\n",
       "      <td>A4AM5KBP3I2R</td>\n",
       "      <td>The herb flavor makes the odd texture of shira...</td>\n",
       "      <td>Go for the green noodles</td>\n",
       "      <td>5</td>\n",
       "      <td>2018</td>\n",
       "      <td>Miracle Noodle Zero Carb, Gluten Free Shiratak...</td>\n",
       "      <td>Miracle Noodle</td>\n",
       "      <td>Grocery &amp; Gourmet Food; Pasta &amp; Noodles; Noodl...</td>\n",
       "      <td>Go for the green noodles: The herb flavor make...</td>\n",
       "      <td>Go for the green noodles: The herb flavor make...</td>\n",
       "      <td>[go, for, the, green, noodles, the, herb, flav...</td>\n",
       "      <td>[green, noodles, herb, flavor, makes, odd, tex...</td>\n",
       "      <td>[green, noodle, herb, flavor, make, odd, textu...</td>\n",
       "      <td>go for the green noodles the herb flavor makes...</td>\n",
       "      <td>green noodles herb flavor makes odd texture sh...</td>\n",
       "      <td>green noodle herb flavor make odd texture shir...</td>\n",
       "      <td>High</td>\n",
       "    </tr>\n",
       "  </tbody>\n",
       "</table>\n",
       "</div>"
      ],
      "text/plain": [
       "         asin      reviewerID  \\\n",
       "0  B007JINB0W   A3Y51NV9HU5T2   \n",
       "1  B007JINB0W  A3D7EFSRC6Y9MP   \n",
       "2  B007JINB0W    A4AM5KBP3I2R   \n",
       "\n",
       "                                          reviewText  \\\n",
       "0  Great pasta taste and feel, but the spell in t...   \n",
       "1  The texture just made it a little strange to e...   \n",
       "2  The herb flavor makes the odd texture of shira...   \n",
       "\n",
       "                       summary  overall  year  \\\n",
       "0                   Four Stars        4  2018   \n",
       "1  Okay but don't like texture        3  2014   \n",
       "2     Go for the green noodles        5  2018   \n",
       "\n",
       "                                               title           brand  \\\n",
       "0  Miracle Noodle Zero Carb, Gluten Free Shiratak...  Miracle Noodle   \n",
       "1  Miracle Noodle Zero Carb, Gluten Free Shiratak...  Miracle Noodle   \n",
       "2  Miracle Noodle Zero Carb, Gluten Free Shiratak...  Miracle Noodle   \n",
       "\n",
       "                                            category  \\\n",
       "0  Grocery & Gourmet Food; Pasta & Noodles; Noodl...   \n",
       "1  Grocery & Gourmet Food; Pasta & Noodles; Noodl...   \n",
       "2  Grocery & Gourmet Food; Pasta & Noodles; Noodl...   \n",
       "\n",
       "                                    review-text-full  \\\n",
       "0  Four Stars: Great pasta taste and feel, but th...   \n",
       "1  Okay but don't like texture: The texture just ...   \n",
       "2  Go for the green noodles: The herb flavor make...   \n",
       "\n",
       "                                review-text-full_raw  \\\n",
       "0  Four Stars: Great pasta taste and feel, but th...   \n",
       "1  Okay but don't like texture: The texture just ...   \n",
       "2  Go for the green noodles: The herb flavor make...   \n",
       "\n",
       "                                        tokens-dirty  \\\n",
       "0  [four, stars, great, pasta, taste, and, feel, ...   \n",
       "1  [okay, but, do, n't, like, texture, the, textu...   \n",
       "2  [go, for, the, green, noodles, the, herb, flav...   \n",
       "\n",
       "                                              tokens  \\\n",
       "0  [stars, great, pasta, taste, feel, spell, pack...   \n",
       "1  [okay, like, texture, texture, little, strange...   \n",
       "2  [green, noodles, herb, flavor, makes, odd, tex...   \n",
       "\n",
       "                                              lemmas  \\\n",
       "0  [star, great, pasta, taste, feel, spell, packa...   \n",
       "1  [okay, like, texture, texture, little, strange...   \n",
       "2  [green, noodle, herb, flavor, make, odd, textu...   \n",
       "\n",
       "                                 tokens-dirty-joined  \\\n",
       "0  four stars great pasta taste and feel but the ...   \n",
       "1  okay but do n't like texture the texture just ...   \n",
       "2  go for the green noodles the herb flavor makes...   \n",
       "\n",
       "                                       tokens-joined  \\\n",
       "0  stars great pasta taste feel spell packaged sk...   \n",
       "1  okay like texture texture little strange eat f...   \n",
       "2  green noodles herb flavor makes odd texture sh...   \n",
       "\n",
       "                                       lemmas-joined target-rating  \n",
       "0   star great pasta taste feel spell package skrong          None  \n",
       "1  okay like texture texture little strange eat f...          None  \n",
       "2  green noodle herb flavor make odd texture shir...          High  "
      ]
     },
     "execution_count": 22,
     "metadata": {},
     "output_type": "execute_result"
    }
   ],
   "source": [
    "df.head(3)"
   ]
  },
  {
   "cell_type": "code",
   "execution_count": 23,
   "id": "3d67a023-ccba-42a7-8d58-dd25c942ac4f",
   "metadata": {
    "execution": {
     "iopub.execute_input": "2024-02-13T01:38:33.819342Z",
     "iopub.status.busy": "2024-02-13T01:38:33.819212Z",
     "iopub.status.idle": "2024-02-13T01:38:33.822036Z",
     "shell.execute_reply": "2024-02-13T01:38:33.821713Z",
     "shell.execute_reply.started": "2024-02-13T01:38:33.819330Z"
    }
   },
   "outputs": [
    {
     "data": {
      "text/plain": [
       "'data/processed/processed-reviews-with-target.json'"
      ]
     },
     "execution_count": 23,
     "metadata": {},
     "output_type": "execute_result"
    }
   ],
   "source": [
    "# Save the df with target columns\n",
    "fpath_out_ml_with_targets =  FPATHS['data']['processed-nlp']['processed-reviews-with-target_json']\n",
    "fpath_out_ml_with_targets"
   ]
  },
  {
   "cell_type": "code",
   "execution_count": 24,
   "id": "924d01ba-c91f-44cc-8352-1bebe5cdf7d3",
   "metadata": {
    "execution": {
     "iopub.execute_input": "2024-02-13T01:38:33.828922Z",
     "iopub.status.busy": "2024-02-13T01:38:33.828565Z",
     "iopub.status.idle": "2024-02-13T01:38:33.832116Z",
     "shell.execute_reply": "2024-02-13T01:38:33.831512Z",
     "shell.execute_reply.started": "2024-02-13T01:38:33.828903Z"
    }
   },
   "outputs": [
    {
     "data": {
      "text/plain": [
       "{'processed-reviews-spacy_json': 'data/processed/processed-reviews.json',\n",
       " 'processed-reviews-spacy_joblib': 'data/processed/processed-reviews.joblib',\n",
       " 'processed-reviews-with-target_json': 'data/processed/processed-reviews-with-target.json',\n",
       " 'processed-reviews-with-target_joblib': 'data/processed/processed-reviews-with-target.joblib'}"
      ]
     },
     "execution_count": 24,
     "metadata": {},
     "output_type": "execute_result"
    }
   ],
   "source": [
    "FPATHS['data']['processed-nlp']"
   ]
  },
  {
   "cell_type": "code",
   "execution_count": 25,
   "id": "5509ae84-6671-43cb-b300-052f30110cf7",
   "metadata": {
    "execution": {
     "iopub.execute_input": "2024-02-13T01:38:33.832680Z",
     "iopub.status.busy": "2024-02-13T01:38:33.832574Z",
     "iopub.status.idle": "2024-02-13T01:38:33.876875Z",
     "shell.execute_reply": "2024-02-13T01:38:33.876503Z",
     "shell.execute_reply.started": "2024-02-13T01:38:33.832671Z"
    }
   },
   "outputs": [],
   "source": [
    "# Save to json\n",
    "df.to_json(fpath_out_ml_with_targets)"
   ]
  },
  {
   "cell_type": "code",
   "execution_count": 26,
   "id": "4997f0a6-1ecb-48f7-a83b-b302052c5cbc",
   "metadata": {
    "execution": {
     "iopub.execute_input": "2024-02-13T01:38:33.877566Z",
     "iopub.status.busy": "2024-02-13T01:38:33.877468Z",
     "iopub.status.idle": "2024-02-13T01:38:33.955604Z",
     "shell.execute_reply": "2024-02-13T01:38:33.955281Z",
     "shell.execute_reply.started": "2024-02-13T01:38:33.877557Z"
    }
   },
   "outputs": [
    {
     "data": {
      "text/html": [
       "<div>\n",
       "<style scoped>\n",
       "    .dataframe tbody tr th:only-of-type {\n",
       "        vertical-align: middle;\n",
       "    }\n",
       "\n",
       "    .dataframe tbody tr th {\n",
       "        vertical-align: top;\n",
       "    }\n",
       "\n",
       "    .dataframe thead th {\n",
       "        text-align: right;\n",
       "    }\n",
       "</style>\n",
       "<table border=\"1\" class=\"dataframe\">\n",
       "  <thead>\n",
       "    <tr style=\"text-align: right;\">\n",
       "      <th></th>\n",
       "      <th>asin</th>\n",
       "      <th>reviewerID</th>\n",
       "      <th>reviewText</th>\n",
       "      <th>summary</th>\n",
       "      <th>overall</th>\n",
       "      <th>year</th>\n",
       "      <th>title</th>\n",
       "      <th>brand</th>\n",
       "      <th>category</th>\n",
       "      <th>review-text-full</th>\n",
       "      <th>review-text-full_raw</th>\n",
       "      <th>tokens-dirty</th>\n",
       "      <th>tokens</th>\n",
       "      <th>lemmas</th>\n",
       "      <th>tokens-dirty-joined</th>\n",
       "      <th>tokens-joined</th>\n",
       "      <th>lemmas-joined</th>\n",
       "      <th>target-rating</th>\n",
       "    </tr>\n",
       "  </thead>\n",
       "  <tbody>\n",
       "    <tr>\n",
       "      <th>0</th>\n",
       "      <td>B007JINB0W</td>\n",
       "      <td>A3Y51NV9HU5T2</td>\n",
       "      <td>Great pasta taste and feel, but the spell in t...</td>\n",
       "      <td>Four Stars</td>\n",
       "      <td>4</td>\n",
       "      <td>2018</td>\n",
       "      <td>Miracle Noodle Zero Carb, Gluten Free Shiratak...</td>\n",
       "      <td>Miracle Noodle</td>\n",
       "      <td>Grocery &amp; Gourmet Food; Pasta &amp; Noodles; Noodl...</td>\n",
       "      <td>Four Stars: Great pasta taste and feel, but th...</td>\n",
       "      <td>Four Stars: Great pasta taste and feel, but th...</td>\n",
       "      <td>[four, stars, great, pasta, taste, and, feel, ...</td>\n",
       "      <td>[stars, great, pasta, taste, feel, spell, pack...</td>\n",
       "      <td>[star, great, pasta, taste, feel, spell, packa...</td>\n",
       "      <td>four stars great pasta taste and feel but the ...</td>\n",
       "      <td>stars great pasta taste feel spell packaged sk...</td>\n",
       "      <td>star great pasta taste feel spell package skrong</td>\n",
       "      <td>None</td>\n",
       "    </tr>\n",
       "    <tr>\n",
       "      <th>1</th>\n",
       "      <td>B007JINB0W</td>\n",
       "      <td>A3D7EFSRC6Y9MP</td>\n",
       "      <td>The texture just made it a little strange to e...</td>\n",
       "      <td>Okay but don't like texture</td>\n",
       "      <td>3</td>\n",
       "      <td>2014</td>\n",
       "      <td>Miracle Noodle Zero Carb, Gluten Free Shiratak...</td>\n",
       "      <td>Miracle Noodle</td>\n",
       "      <td>Grocery &amp; Gourmet Food; Pasta &amp; Noodles; Noodl...</td>\n",
       "      <td>Okay but don't like texture: The texture just ...</td>\n",
       "      <td>Okay but don't like texture: The texture just ...</td>\n",
       "      <td>[okay, but, do, n't, like, texture, the, textu...</td>\n",
       "      <td>[okay, like, texture, texture, little, strange...</td>\n",
       "      <td>[okay, like, texture, texture, little, strange...</td>\n",
       "      <td>okay but do n't like texture the texture just ...</td>\n",
       "      <td>okay like texture texture little strange eat f...</td>\n",
       "      <td>okay like texture texture little strange eat f...</td>\n",
       "      <td>None</td>\n",
       "    </tr>\n",
       "    <tr>\n",
       "      <th>2</th>\n",
       "      <td>B007JINB0W</td>\n",
       "      <td>A4AM5KBP3I2R</td>\n",
       "      <td>The herb flavor makes the odd texture of shira...</td>\n",
       "      <td>Go for the green noodles</td>\n",
       "      <td>5</td>\n",
       "      <td>2018</td>\n",
       "      <td>Miracle Noodle Zero Carb, Gluten Free Shiratak...</td>\n",
       "      <td>Miracle Noodle</td>\n",
       "      <td>Grocery &amp; Gourmet Food; Pasta &amp; Noodles; Noodl...</td>\n",
       "      <td>Go for the green noodles: The herb flavor make...</td>\n",
       "      <td>Go for the green noodles: The herb flavor make...</td>\n",
       "      <td>[go, for, the, green, noodles, the, herb, flav...</td>\n",
       "      <td>[green, noodles, herb, flavor, makes, odd, tex...</td>\n",
       "      <td>[green, noodle, herb, flavor, make, odd, textu...</td>\n",
       "      <td>go for the green noodles the herb flavor makes...</td>\n",
       "      <td>green noodles herb flavor makes odd texture sh...</td>\n",
       "      <td>green noodle herb flavor make odd texture shir...</td>\n",
       "      <td>High</td>\n",
       "    </tr>\n",
       "    <tr>\n",
       "      <th>3</th>\n",
       "      <td>B007JINB0W</td>\n",
       "      <td>A3GHK4IL78DB7Y</td>\n",
       "      <td>I didn't have a problem at all with a half fil...</td>\n",
       "      <td>Its an awesome substitute.</td>\n",
       "      <td>5</td>\n",
       "      <td>2018</td>\n",
       "      <td>Miracle Noodle Zero Carb, Gluten Free Shiratak...</td>\n",
       "      <td>Miracle Noodle</td>\n",
       "      <td>Grocery &amp; Gourmet Food; Pasta &amp; Noodles; Noodl...</td>\n",
       "      <td>Its an awesome substitute.: I didn't have a pr...</td>\n",
       "      <td>Its an awesome substitute.: I didn't have a pr...</td>\n",
       "      <td>[its, an, awesome, substitute, i, did, n't, ha...</td>\n",
       "      <td>[awesome, substitute, problem, half, filled, b...</td>\n",
       "      <td>[awesome, substitute, problem, half, fill, bag...</td>\n",
       "      <td>its an awesome substitute i did n't have a pro...</td>\n",
       "      <td>awesome substitute problem half filled bag use...</td>\n",
       "      <td>awesome substitute problem half fill bag user ...</td>\n",
       "      <td>High</td>\n",
       "    </tr>\n",
       "    <tr>\n",
       "      <th>4</th>\n",
       "      <td>B007JINB0W</td>\n",
       "      <td>AH3B94LQOPPY6</td>\n",
       "      <td>They taste like whatever you cook them with.</td>\n",
       "      <td>Five Stars</td>\n",
       "      <td>5</td>\n",
       "      <td>2016</td>\n",
       "      <td>Miracle Noodle Zero Carb, Gluten Free Shiratak...</td>\n",
       "      <td>Miracle Noodle</td>\n",
       "      <td>Grocery &amp; Gourmet Food; Pasta &amp; Noodles; Noodl...</td>\n",
       "      <td>Five Stars: They taste like whatever you cook ...</td>\n",
       "      <td>Five Stars: They taste like whatever you cook ...</td>\n",
       "      <td>[five, stars, they, taste, like, whatever, you...</td>\n",
       "      <td>[stars, taste, like, cook]</td>\n",
       "      <td>[star, taste, like, cook]</td>\n",
       "      <td>five stars they taste like whatever you cook t...</td>\n",
       "      <td>stars taste like cook</td>\n",
       "      <td>star taste like cook</td>\n",
       "      <td>High</td>\n",
       "    </tr>\n",
       "    <tr>\n",
       "      <th>...</th>\n",
       "      <td>...</td>\n",
       "      <td>...</td>\n",
       "      <td>...</td>\n",
       "      <td>...</td>\n",
       "      <td>...</td>\n",
       "      <td>...</td>\n",
       "      <td>...</td>\n",
       "      <td>...</td>\n",
       "      <td>...</td>\n",
       "      <td>...</td>\n",
       "      <td>...</td>\n",
       "      <td>...</td>\n",
       "      <td>...</td>\n",
       "      <td>...</td>\n",
       "      <td>...</td>\n",
       "      <td>...</td>\n",
       "      <td>...</td>\n",
       "      <td>...</td>\n",
       "    </tr>\n",
       "    <tr>\n",
       "      <th>4358</th>\n",
       "      <td>B007JINB0W</td>\n",
       "      <td>A73IG1ED6S0JR</td>\n",
       "      <td>Product arrived with two of the bags punctured...</td>\n",
       "      <td>would not recomend</td>\n",
       "      <td>1</td>\n",
       "      <td>2016</td>\n",
       "      <td>Miracle Noodle Zero Carb, Gluten Free Shiratak...</td>\n",
       "      <td>Miracle Noodle</td>\n",
       "      <td>Grocery &amp; Gourmet Food; Pasta &amp; Noodles; Noodl...</td>\n",
       "      <td>would not recomend: Product arrived with two o...</td>\n",
       "      <td>would not recomend: Product arrived with two o...</td>\n",
       "      <td>[would, not, recomend, product, arrived, with,...</td>\n",
       "      <td>[recomend, product, arrived, bags, punctured, ...</td>\n",
       "      <td>[recomend, product, arrive, bag, puncture, sme...</td>\n",
       "      <td>would not recomend product arrived with two of...</td>\n",
       "      <td>recomend product arrived bags punctured smells...</td>\n",
       "      <td>recomend product arrive bag puncture smell bad</td>\n",
       "      <td>Low</td>\n",
       "    </tr>\n",
       "    <tr>\n",
       "      <th>4359</th>\n",
       "      <td>B007JINB0W</td>\n",
       "      <td>A1XZ2H0MYG54M0</td>\n",
       "      <td>Ok.</td>\n",
       "      <td>Five Stars</td>\n",
       "      <td>5</td>\n",
       "      <td>2016</td>\n",
       "      <td>Miracle Noodle Zero Carb, Gluten Free Shiratak...</td>\n",
       "      <td>Miracle Noodle</td>\n",
       "      <td>Grocery &amp; Gourmet Food; Pasta &amp; Noodles; Noodl...</td>\n",
       "      <td>Five Stars: Ok.</td>\n",
       "      <td>Five Stars: Ok.</td>\n",
       "      <td>[five, stars, ok]</td>\n",
       "      <td>[stars, ok]</td>\n",
       "      <td>[star, ok]</td>\n",
       "      <td>five stars ok</td>\n",
       "      <td>stars ok</td>\n",
       "      <td>star ok</td>\n",
       "      <td>High</td>\n",
       "    </tr>\n",
       "    <tr>\n",
       "      <th>4360</th>\n",
       "      <td>B007JINB0W</td>\n",
       "      <td>A3I2YF0MXB7P0B</td>\n",
       "      <td>I like these noodles but the spinach ones just...</td>\n",
       "      <td>Not awful, but now I know why these were on sale.</td>\n",
       "      <td>2</td>\n",
       "      <td>2013</td>\n",
       "      <td>Miracle Noodle Zero Carb, Gluten Free Shiratak...</td>\n",
       "      <td>Miracle Noodle</td>\n",
       "      <td>Grocery &amp; Gourmet Food; Pasta &amp; Noodles; Noodl...</td>\n",
       "      <td>Not awful, but now I know why these were on sa...</td>\n",
       "      <td>Not awful, but now I know why these were on sa...</td>\n",
       "      <td>[not, awful, but, now, i, know, why, these, we...</td>\n",
       "      <td>[awful, know, sale, like, noodles, spinach, on...</td>\n",
       "      <td>[awful, know, sale, like, noodle, spinach, one...</td>\n",
       "      <td>not awful but now i know why these were on sal...</td>\n",
       "      <td>awful know sale like noodles spinach ones tast...</td>\n",
       "      <td>awful know sale like noodle spinach one taste ...</td>\n",
       "      <td>Low</td>\n",
       "    </tr>\n",
       "    <tr>\n",
       "      <th>4361</th>\n",
       "      <td>B007JINB0W</td>\n",
       "      <td>A2UELLFLITPMT1</td>\n",
       "      <td>Truly horrific. Like eating dead worms.</td>\n",
       "      <td>Don't even try it.</td>\n",
       "      <td>1</td>\n",
       "      <td>2017</td>\n",
       "      <td>Miracle Noodle Zero Carb, Gluten Free Shiratak...</td>\n",
       "      <td>Miracle Noodle</td>\n",
       "      <td>Grocery &amp; Gourmet Food; Pasta &amp; Noodles; Noodl...</td>\n",
       "      <td>Don't even try it.: Truly horrific. Like eatin...</td>\n",
       "      <td>Don't even try it.: Truly horrific. Like eatin...</td>\n",
       "      <td>[do, n't, even, try, it, truly, horrific, like...</td>\n",
       "      <td>[try, truly, horrific, like, eating, dead, worms]</td>\n",
       "      <td>[try, truly, horrific, like, eat, dead, worm]</td>\n",
       "      <td>do n't even try it truly horrific like eating ...</td>\n",
       "      <td>try truly horrific like eating dead worms</td>\n",
       "      <td>try truly horrific like eat dead worm</td>\n",
       "      <td>Low</td>\n",
       "    </tr>\n",
       "    <tr>\n",
       "      <th>4362</th>\n",
       "      <td>B007JINB0W</td>\n",
       "      <td>A178M2AHNWQZB0</td>\n",
       "      <td>We love the rice noodles, and have problems fi...</td>\n",
       "      <td>As good as all the other Miracle noodle products</td>\n",
       "      <td>5</td>\n",
       "      <td>2017</td>\n",
       "      <td>Miracle Noodle Zero Carb, Gluten Free Shiratak...</td>\n",
       "      <td>Miracle Noodle</td>\n",
       "      <td>Grocery &amp; Gourmet Food; Pasta &amp; Noodles; Noodl...</td>\n",
       "      <td>As good as all the other Miracle noodle produc...</td>\n",
       "      <td>As good as all the other Miracle noodle produc...</td>\n",
       "      <td>[as, good, as, all, the, other, miracle, noodl...</td>\n",
       "      <td>[good, miracle, noodle, products, love, rice, ...</td>\n",
       "      <td>[good, miracle, noodle, product, love, rice, n...</td>\n",
       "      <td>as good as all the other miracle noodle produc...</td>\n",
       "      <td>good miracle noodle products love rice noodles...</td>\n",
       "      <td>good miracle noodle product love rice noodle p...</td>\n",
       "      <td>High</td>\n",
       "    </tr>\n",
       "  </tbody>\n",
       "</table>\n",
       "<p>4363 rows × 18 columns</p>\n",
       "</div>"
      ],
      "text/plain": [
       "            asin      reviewerID  \\\n",
       "0     B007JINB0W   A3Y51NV9HU5T2   \n",
       "1     B007JINB0W  A3D7EFSRC6Y9MP   \n",
       "2     B007JINB0W    A4AM5KBP3I2R   \n",
       "3     B007JINB0W  A3GHK4IL78DB7Y   \n",
       "4     B007JINB0W   AH3B94LQOPPY6   \n",
       "...          ...             ...   \n",
       "4358  B007JINB0W   A73IG1ED6S0JR   \n",
       "4359  B007JINB0W  A1XZ2H0MYG54M0   \n",
       "4360  B007JINB0W  A3I2YF0MXB7P0B   \n",
       "4361  B007JINB0W  A2UELLFLITPMT1   \n",
       "4362  B007JINB0W  A178M2AHNWQZB0   \n",
       "\n",
       "                                             reviewText  \\\n",
       "0     Great pasta taste and feel, but the spell in t...   \n",
       "1     The texture just made it a little strange to e...   \n",
       "2     The herb flavor makes the odd texture of shira...   \n",
       "3     I didn't have a problem at all with a half fil...   \n",
       "4         They taste like whatever you cook them with.    \n",
       "...                                                 ...   \n",
       "4358  Product arrived with two of the bags punctured...   \n",
       "4359                                                Ok.   \n",
       "4360  I like these noodles but the spinach ones just...   \n",
       "4361            Truly horrific. Like eating dead worms.   \n",
       "4362  We love the rice noodles, and have problems fi...   \n",
       "\n",
       "                                                summary  overall  year  \\\n",
       "0                                            Four Stars        4  2018   \n",
       "1                           Okay but don't like texture        3  2014   \n",
       "2                              Go for the green noodles        5  2018   \n",
       "3                            Its an awesome substitute.        5  2018   \n",
       "4                                            Five Stars        5  2016   \n",
       "...                                                 ...      ...   ...   \n",
       "4358                                 would not recomend        1  2016   \n",
       "4359                                         Five Stars        5  2016   \n",
       "4360  Not awful, but now I know why these were on sale.        2  2013   \n",
       "4361                                 Don't even try it.        1  2017   \n",
       "4362   As good as all the other Miracle noodle products        5  2017   \n",
       "\n",
       "                                                  title           brand  \\\n",
       "0     Miracle Noodle Zero Carb, Gluten Free Shiratak...  Miracle Noodle   \n",
       "1     Miracle Noodle Zero Carb, Gluten Free Shiratak...  Miracle Noodle   \n",
       "2     Miracle Noodle Zero Carb, Gluten Free Shiratak...  Miracle Noodle   \n",
       "3     Miracle Noodle Zero Carb, Gluten Free Shiratak...  Miracle Noodle   \n",
       "4     Miracle Noodle Zero Carb, Gluten Free Shiratak...  Miracle Noodle   \n",
       "...                                                 ...             ...   \n",
       "4358  Miracle Noodle Zero Carb, Gluten Free Shiratak...  Miracle Noodle   \n",
       "4359  Miracle Noodle Zero Carb, Gluten Free Shiratak...  Miracle Noodle   \n",
       "4360  Miracle Noodle Zero Carb, Gluten Free Shiratak...  Miracle Noodle   \n",
       "4361  Miracle Noodle Zero Carb, Gluten Free Shiratak...  Miracle Noodle   \n",
       "4362  Miracle Noodle Zero Carb, Gluten Free Shiratak...  Miracle Noodle   \n",
       "\n",
       "                                               category  \\\n",
       "0     Grocery & Gourmet Food; Pasta & Noodles; Noodl...   \n",
       "1     Grocery & Gourmet Food; Pasta & Noodles; Noodl...   \n",
       "2     Grocery & Gourmet Food; Pasta & Noodles; Noodl...   \n",
       "3     Grocery & Gourmet Food; Pasta & Noodles; Noodl...   \n",
       "4     Grocery & Gourmet Food; Pasta & Noodles; Noodl...   \n",
       "...                                                 ...   \n",
       "4358  Grocery & Gourmet Food; Pasta & Noodles; Noodl...   \n",
       "4359  Grocery & Gourmet Food; Pasta & Noodles; Noodl...   \n",
       "4360  Grocery & Gourmet Food; Pasta & Noodles; Noodl...   \n",
       "4361  Grocery & Gourmet Food; Pasta & Noodles; Noodl...   \n",
       "4362  Grocery & Gourmet Food; Pasta & Noodles; Noodl...   \n",
       "\n",
       "                                       review-text-full  \\\n",
       "0     Four Stars: Great pasta taste and feel, but th...   \n",
       "1     Okay but don't like texture: The texture just ...   \n",
       "2     Go for the green noodles: The herb flavor make...   \n",
       "3     Its an awesome substitute.: I didn't have a pr...   \n",
       "4     Five Stars: They taste like whatever you cook ...   \n",
       "...                                                 ...   \n",
       "4358  would not recomend: Product arrived with two o...   \n",
       "4359                                    Five Stars: Ok.   \n",
       "4360  Not awful, but now I know why these were on sa...   \n",
       "4361  Don't even try it.: Truly horrific. Like eatin...   \n",
       "4362  As good as all the other Miracle noodle produc...   \n",
       "\n",
       "                                   review-text-full_raw  \\\n",
       "0     Four Stars: Great pasta taste and feel, but th...   \n",
       "1     Okay but don't like texture: The texture just ...   \n",
       "2     Go for the green noodles: The herb flavor make...   \n",
       "3     Its an awesome substitute.: I didn't have a pr...   \n",
       "4     Five Stars: They taste like whatever you cook ...   \n",
       "...                                                 ...   \n",
       "4358  would not recomend: Product arrived with two o...   \n",
       "4359                                    Five Stars: Ok.   \n",
       "4360  Not awful, but now I know why these were on sa...   \n",
       "4361  Don't even try it.: Truly horrific. Like eatin...   \n",
       "4362  As good as all the other Miracle noodle produc...   \n",
       "\n",
       "                                           tokens-dirty  \\\n",
       "0     [four, stars, great, pasta, taste, and, feel, ...   \n",
       "1     [okay, but, do, n't, like, texture, the, textu...   \n",
       "2     [go, for, the, green, noodles, the, herb, flav...   \n",
       "3     [its, an, awesome, substitute, i, did, n't, ha...   \n",
       "4     [five, stars, they, taste, like, whatever, you...   \n",
       "...                                                 ...   \n",
       "4358  [would, not, recomend, product, arrived, with,...   \n",
       "4359                                  [five, stars, ok]   \n",
       "4360  [not, awful, but, now, i, know, why, these, we...   \n",
       "4361  [do, n't, even, try, it, truly, horrific, like...   \n",
       "4362  [as, good, as, all, the, other, miracle, noodl...   \n",
       "\n",
       "                                                 tokens  \\\n",
       "0     [stars, great, pasta, taste, feel, spell, pack...   \n",
       "1     [okay, like, texture, texture, little, strange...   \n",
       "2     [green, noodles, herb, flavor, makes, odd, tex...   \n",
       "3     [awesome, substitute, problem, half, filled, b...   \n",
       "4                            [stars, taste, like, cook]   \n",
       "...                                                 ...   \n",
       "4358  [recomend, product, arrived, bags, punctured, ...   \n",
       "4359                                        [stars, ok]   \n",
       "4360  [awful, know, sale, like, noodles, spinach, on...   \n",
       "4361  [try, truly, horrific, like, eating, dead, worms]   \n",
       "4362  [good, miracle, noodle, products, love, rice, ...   \n",
       "\n",
       "                                                 lemmas  \\\n",
       "0     [star, great, pasta, taste, feel, spell, packa...   \n",
       "1     [okay, like, texture, texture, little, strange...   \n",
       "2     [green, noodle, herb, flavor, make, odd, textu...   \n",
       "3     [awesome, substitute, problem, half, fill, bag...   \n",
       "4                             [star, taste, like, cook]   \n",
       "...                                                 ...   \n",
       "4358  [recomend, product, arrive, bag, puncture, sme...   \n",
       "4359                                         [star, ok]   \n",
       "4360  [awful, know, sale, like, noodle, spinach, one...   \n",
       "4361      [try, truly, horrific, like, eat, dead, worm]   \n",
       "4362  [good, miracle, noodle, product, love, rice, n...   \n",
       "\n",
       "                                    tokens-dirty-joined  \\\n",
       "0     four stars great pasta taste and feel but the ...   \n",
       "1     okay but do n't like texture the texture just ...   \n",
       "2     go for the green noodles the herb flavor makes...   \n",
       "3     its an awesome substitute i did n't have a pro...   \n",
       "4     five stars they taste like whatever you cook t...   \n",
       "...                                                 ...   \n",
       "4358  would not recomend product arrived with two of...   \n",
       "4359                                      five stars ok   \n",
       "4360  not awful but now i know why these were on sal...   \n",
       "4361  do n't even try it truly horrific like eating ...   \n",
       "4362  as good as all the other miracle noodle produc...   \n",
       "\n",
       "                                          tokens-joined  \\\n",
       "0     stars great pasta taste feel spell packaged sk...   \n",
       "1     okay like texture texture little strange eat f...   \n",
       "2     green noodles herb flavor makes odd texture sh...   \n",
       "3     awesome substitute problem half filled bag use...   \n",
       "4                                 stars taste like cook   \n",
       "...                                                 ...   \n",
       "4358  recomend product arrived bags punctured smells...   \n",
       "4359                                           stars ok   \n",
       "4360  awful know sale like noodles spinach ones tast...   \n",
       "4361          try truly horrific like eating dead worms   \n",
       "4362  good miracle noodle products love rice noodles...   \n",
       "\n",
       "                                          lemmas-joined target-rating  \n",
       "0      star great pasta taste feel spell package skrong          None  \n",
       "1     okay like texture texture little strange eat f...          None  \n",
       "2     green noodle herb flavor make odd texture shir...          High  \n",
       "3     awesome substitute problem half fill bag user ...          High  \n",
       "4                                  star taste like cook          High  \n",
       "...                                                 ...           ...  \n",
       "4358     recomend product arrive bag puncture smell bad           Low  \n",
       "4359                                            star ok          High  \n",
       "4360  awful know sale like noodle spinach one taste ...           Low  \n",
       "4361              try truly horrific like eat dead worm           Low  \n",
       "4362  good miracle noodle product love rice noodle p...          High  \n",
       "\n",
       "[4363 rows x 18 columns]"
      ]
     },
     "execution_count": 26,
     "metadata": {},
     "output_type": "execute_result"
    }
   ],
   "source": [
    "# Test saved json file\n",
    "pd.read_json(fpath_out_ml_with_targets)"
   ]
  },
  {
   "cell_type": "code",
   "execution_count": 27,
   "id": "640d3f17-f104-44a5-babf-b9228291eb08",
   "metadata": {
    "execution": {
     "iopub.execute_input": "2024-02-13T01:38:33.956120Z",
     "iopub.status.busy": "2024-02-13T01:38:33.956029Z",
     "iopub.status.idle": "2024-02-13T01:38:33.958760Z",
     "shell.execute_reply": "2024-02-13T01:38:33.958459Z",
     "shell.execute_reply.started": "2024-02-13T01:38:33.956111Z"
    }
   },
   "outputs": [
    {
     "data": {
      "text/plain": [
       "'data/processed/processed-reviews-with-target.joblib'"
      ]
     },
     "execution_count": 27,
     "metadata": {},
     "output_type": "execute_result"
    }
   ],
   "source": [
    "FPATHS['data']['processed-nlp']['processed-reviews-with-target_joblib']"
   ]
  },
  {
   "cell_type": "code",
   "execution_count": 28,
   "id": "46b07bdf-fc59-4d18-8339-e0d6a514c69b",
   "metadata": {
    "execution": {
     "iopub.execute_input": "2024-02-13T01:38:33.959465Z",
     "iopub.status.busy": "2024-02-13T01:38:33.959354Z",
     "iopub.status.idle": "2024-02-13T01:38:36.345844Z",
     "shell.execute_reply": "2024-02-13T01:38:36.345486Z",
     "shell.execute_reply.started": "2024-02-13T01:38:33.959456Z"
    },
    "scrolled": true
   },
   "outputs": [
    {
     "data": {
      "text/plain": [
       "['data/processed/processed-reviews-with-target.joblib']"
      ]
     },
     "execution_count": 28,
     "metadata": {},
     "output_type": "execute_result"
    }
   ],
   "source": [
    "import joblib\n",
    "joblib.dump(df, FPATHS['data']['processed-nlp']['processed-reviews-with-target_joblib'],compress=9)"
   ]
  },
  {
   "cell_type": "code",
   "execution_count": 29,
   "id": "d4e9ee2f-d518-4926-b2ed-a4078b2b43d3",
   "metadata": {
    "execution": {
     "iopub.execute_input": "2024-02-13T01:38:36.346988Z",
     "iopub.status.busy": "2024-02-13T01:38:36.346809Z",
     "iopub.status.idle": "2024-02-13T01:38:36.354251Z",
     "shell.execute_reply": "2024-02-13T01:38:36.353896Z",
     "shell.execute_reply.started": "2024-02-13T01:38:36.346977Z"
    }
   },
   "outputs": [
    {
     "data": {
      "text/html": [
       "<div>\n",
       "<style scoped>\n",
       "    .dataframe tbody tr th:only-of-type {\n",
       "        vertical-align: middle;\n",
       "    }\n",
       "\n",
       "    .dataframe tbody tr th {\n",
       "        vertical-align: top;\n",
       "    }\n",
       "\n",
       "    .dataframe thead th {\n",
       "        text-align: right;\n",
       "    }\n",
       "</style>\n",
       "<table border=\"1\" class=\"dataframe\">\n",
       "  <thead>\n",
       "    <tr style=\"text-align: right;\">\n",
       "      <th></th>\n",
       "      <th>reviewerID</th>\n",
       "      <th>review-text-full</th>\n",
       "      <th>overall</th>\n",
       "      <th>target-rating</th>\n",
       "    </tr>\n",
       "  </thead>\n",
       "  <tbody>\n",
       "    <tr>\n",
       "      <th>0</th>\n",
       "      <td>A3Y51NV9HU5T2</td>\n",
       "      <td>Four Stars: Great pasta taste and feel, but th...</td>\n",
       "      <td>4</td>\n",
       "      <td>None</td>\n",
       "    </tr>\n",
       "    <tr>\n",
       "      <th>1</th>\n",
       "      <td>A3D7EFSRC6Y9MP</td>\n",
       "      <td>Okay but don't like texture: The texture just ...</td>\n",
       "      <td>3</td>\n",
       "      <td>None</td>\n",
       "    </tr>\n",
       "    <tr>\n",
       "      <th>2</th>\n",
       "      <td>A4AM5KBP3I2R</td>\n",
       "      <td>Go for the green noodles: The herb flavor make...</td>\n",
       "      <td>5</td>\n",
       "      <td>High</td>\n",
       "    </tr>\n",
       "    <tr>\n",
       "      <th>3</th>\n",
       "      <td>A3GHK4IL78DB7Y</td>\n",
       "      <td>Its an awesome substitute.: I didn't have a pr...</td>\n",
       "      <td>5</td>\n",
       "      <td>High</td>\n",
       "    </tr>\n",
       "    <tr>\n",
       "      <th>4</th>\n",
       "      <td>AH3B94LQOPPY6</td>\n",
       "      <td>Five Stars: They taste like whatever you cook ...</td>\n",
       "      <td>5</td>\n",
       "      <td>High</td>\n",
       "    </tr>\n",
       "    <tr>\n",
       "      <th>...</th>\n",
       "      <td>...</td>\n",
       "      <td>...</td>\n",
       "      <td>...</td>\n",
       "      <td>...</td>\n",
       "    </tr>\n",
       "    <tr>\n",
       "      <th>4358</th>\n",
       "      <td>A73IG1ED6S0JR</td>\n",
       "      <td>would not recomend: Product arrived with two o...</td>\n",
       "      <td>1</td>\n",
       "      <td>Low</td>\n",
       "    </tr>\n",
       "    <tr>\n",
       "      <th>4359</th>\n",
       "      <td>A1XZ2H0MYG54M0</td>\n",
       "      <td>Five Stars: Ok.</td>\n",
       "      <td>5</td>\n",
       "      <td>High</td>\n",
       "    </tr>\n",
       "    <tr>\n",
       "      <th>4360</th>\n",
       "      <td>A3I2YF0MXB7P0B</td>\n",
       "      <td>Not awful, but now I know why these were on sa...</td>\n",
       "      <td>2</td>\n",
       "      <td>Low</td>\n",
       "    </tr>\n",
       "    <tr>\n",
       "      <th>4361</th>\n",
       "      <td>A2UELLFLITPMT1</td>\n",
       "      <td>Don't even try it.: Truly horrific. Like eatin...</td>\n",
       "      <td>1</td>\n",
       "      <td>Low</td>\n",
       "    </tr>\n",
       "    <tr>\n",
       "      <th>4362</th>\n",
       "      <td>A178M2AHNWQZB0</td>\n",
       "      <td>As good as all the other Miracle noodle produc...</td>\n",
       "      <td>5</td>\n",
       "      <td>High</td>\n",
       "    </tr>\n",
       "  </tbody>\n",
       "</table>\n",
       "<p>4363 rows × 4 columns</p>\n",
       "</div>"
      ],
      "text/plain": [
       "          reviewerID                                   review-text-full  \\\n",
       "0      A3Y51NV9HU5T2  Four Stars: Great pasta taste and feel, but th...   \n",
       "1     A3D7EFSRC6Y9MP  Okay but don't like texture: The texture just ...   \n",
       "2       A4AM5KBP3I2R  Go for the green noodles: The herb flavor make...   \n",
       "3     A3GHK4IL78DB7Y  Its an awesome substitute.: I didn't have a pr...   \n",
       "4      AH3B94LQOPPY6  Five Stars: They taste like whatever you cook ...   \n",
       "...              ...                                                ...   \n",
       "4358   A73IG1ED6S0JR  would not recomend: Product arrived with two o...   \n",
       "4359  A1XZ2H0MYG54M0                                    Five Stars: Ok.   \n",
       "4360  A3I2YF0MXB7P0B  Not awful, but now I know why these were on sa...   \n",
       "4361  A2UELLFLITPMT1  Don't even try it.: Truly horrific. Like eatin...   \n",
       "4362  A178M2AHNWQZB0  As good as all the other Miracle noodle produc...   \n",
       "\n",
       "      overall target-rating  \n",
       "0           4          None  \n",
       "1           3          None  \n",
       "2           5          High  \n",
       "3           5          High  \n",
       "4           5          High  \n",
       "...       ...           ...  \n",
       "4358        1           Low  \n",
       "4359        5          High  \n",
       "4360        2           Low  \n",
       "4361        1           Low  \n",
       "4362        5          High  \n",
       "\n",
       "[4363 rows x 4 columns]"
      ]
     },
     "execution_count": 29,
     "metadata": {},
     "output_type": "execute_result"
    }
   ],
   "source": [
    "# Saving MVP test case \n",
    "mvp_cols = ['reviewerID','review-text-full',\n",
    "            'overall',\n",
    "            'target-rating']\n",
    "df[mvp_cols]"
   ]
  },
  {
   "cell_type": "code",
   "execution_count": 30,
   "id": "a4915397-a737-4195-af76-b4859c14baf4",
   "metadata": {
    "execution": {
     "iopub.execute_input": "2024-02-13T01:38:36.355111Z",
     "iopub.status.busy": "2024-02-13T01:38:36.354928Z",
     "iopub.status.idle": "2024-02-13T01:38:36.384440Z",
     "shell.execute_reply": "2024-02-13T01:38:36.384061Z",
     "shell.execute_reply.started": "2024-02-13T01:38:36.355095Z"
    }
   },
   "outputs": [],
   "source": [
    "fpath_llm = FPATHS['data']['app']['reviews-with-target-for-llm_csv']\n",
    "df[mvp_cols].to_csv(fpath_llm, index=False)"
   ]
  },
  {
   "cell_type": "markdown",
   "id": "c95e30c6-a531-4582-a8f8-621be53d8917",
   "metadata": {},
   "source": [
    "# Part 2) EDA and Visualization"
   ]
  },
  {
   "cell_type": "markdown",
   "id": "d3b011c1-3106-42ca-aa16-240d4306a2aa",
   "metadata": {},
   "source": [
    "**2) EDA and Visualization:**\n",
    "\n",
    "- Create word clouds to visualize the most frequent and significant words in each group.\n",
    "    - Remember, you can use this analysis to identify additional custom EDA stop words to use for visualization. (e.g., if the words are common in both groups)\n",
    "    - **Save your wordclouds as .png files in the \"Images/\" folder in your repo.**\n",
    "\n",
    "\n",
    "\n",
    "- Apply nltk's `FreqDist` class to compare the frequency distribution of words in the review groups.\n",
    "    - Remember, you can use this analysis to identify additional custom EDA stop words to use for visualization. (e.g., if the words are common in both groups)\n",
    "    - **Save your freq dist plots as .png files in the \"Images/\" folder in your repo.**\n",
    "\n",
    "\n",
    "\n",
    "- Perform n-grams analysis (bigrams and trigrams),\n",
    "    - Remember, you can use this analysis to identify additional custom stop words to use for EDA. (e.g., if the words are common in both groups)\n",
    "    - Focus on bigrams or trigrams, using NLTK's `BigramCollocationFinder` and BigramAssocMeasures classes (or the Trigram equivalent Finder and Measures) to explore commonly used groups of words for each rating-group.\n",
    "    - Describe any differences. What do these differences tell you?\n",
    "    - `Save your...`?\n",
    "\n",
    "\n",
    "\n",
    "- Perform sentiment analysis to create polarity scores according to VADERS's sentiment lexicon.\n",
    "\n",
    "    - Compare the sentiments of high-rating and low-rating texts.\n",
    "\n",
    "    - Compare the average sentiment scores for high and low-rating reviews.\n",
    "\n",
    "    - Which review polarity scores don't match the ratings? Why do you think this is?\n",
    "\n",
    "        \n",
    "\n",
    "**3) Evaluation and Reporting:**\n",
    "\n",
    "- Based on your analyses, what should someone do (or not do) if they want to make a highly-rated movie?\n",
    "    - List 3 things associated with high-rating reviews\n",
    "    - List 3 things associated with low-rating reviews."
   ]
  },
  {
   "cell_type": "markdown",
   "id": "ebee29ae-1b9b-4d0a-a685-094462a123b4",
   "metadata": {},
   "source": [
    "> Adding imports as-if standalone notebook"
   ]
  },
  {
   "cell_type": "code",
   "execution_count": 31,
   "id": "54bf32a6-73c4-48df-bfd8-a4a69de471c9",
   "metadata": {
    "execution": {
     "iopub.execute_input": "2024-02-13T01:38:36.385198Z",
     "iopub.status.busy": "2024-02-13T01:38:36.385062Z",
     "iopub.status.idle": "2024-02-13T01:38:42.500315Z",
     "shell.execute_reply": "2024-02-13T01:38:42.499725Z",
     "shell.execute_reply.started": "2024-02-13T01:38:36.385186Z"
    }
   },
   "outputs": [],
   "source": [
    "import matplotlib.pyplot as plt\n",
    "import missingno\n",
    "import matplotlib as mpl\n",
    "import seaborn as sns\n",
    "import numpy as np\n",
    "import pandas as pd\n",
    "\n",
    "import spacy\n",
    "# nlp_custom = fn.nlp.make_custom_nlp(disable=['ner','parser'],contractions=[],\n",
    "#                             stopwords_to_add=[\"★\"])\n",
    "# nlp_custom\n",
    "# # Disable parser and ner\n",
    "# # nlp_light = spacy.load(\"en_core_web_sm\", disable=['parser','ner'])"
   ]
  },
  {
   "cell_type": "markdown",
   "id": "eb668e76",
   "metadata": {},
   "source": [
    "## Topic Analysis"
   ]
  },
  {
   "cell_type": "code",
   "execution_count": 32,
   "id": "e29ee382",
   "metadata": {},
   "outputs": [
    {
     "data": {
      "text/plain": [
       "<spacy.lang.en.English at 0x31fd2d000>"
      ]
     },
     "execution_count": 32,
     "metadata": {},
     "output_type": "execute_result"
    }
   ],
   "source": [
    "import spacy\n",
    "nlp = spacy.load(\"en_core_web_sm\", disable=['parser','ner'])\n",
    "nlp"
   ]
  },
  {
   "cell_type": "code",
   "execution_count": 33,
   "id": "f6935b76",
   "metadata": {},
   "outputs": [
    {
     "data": {
      "text/plain": [
       "0    Four Stars: Great pasta taste and feel, but th...\n",
       "1    Okay but don't like texture: The texture just ...\n",
       "2    Go for the green noodles: The herb flavor make...\n",
       "Name: review-text-full, dtype: object"
      ]
     },
     "execution_count": 33,
     "metadata": {},
     "output_type": "execute_result"
    }
   ],
   "source": [
    "df['review-text-full'].head(3)"
   ]
  },
  {
   "cell_type": "code",
   "execution_count": 34,
   "id": "c2967403",
   "metadata": {},
   "outputs": [
    {
     "data": {
      "text/plain": [
       "spacy.tokens.doc.Doc"
      ]
     },
     "execution_count": 34,
     "metadata": {},
     "output_type": "execute_result"
    }
   ],
   "source": [
    "spacy.tokens.Doc"
   ]
  },
  {
   "cell_type": "code",
   "execution_count": 35,
   "id": "910feb01",
   "metadata": {},
   "outputs": [],
   "source": [
    "def preprocess(text):\n",
    "    if isinstance(text, spacy.tokens.Doc)==False:\n",
    "        doc = nlp(text)\n",
    "    else:\n",
    "        doc = text\n",
    "    result = [token.lemma_ for token in doc if not token.is_stop and len(token) > 3]\n",
    "    return result"
   ]
  },
  {
   "cell_type": "code",
   "execution_count": 36,
   "id": "4e4fc100",
   "metadata": {},
   "outputs": [],
   "source": [
    "lemmas = []\n",
    "for doc in  nlp.pipe(df['review-text-full'], batch_size=100, n_process=-1):\n",
    "    lemmas.append(preprocess(doc))"
   ]
  },
  {
   "cell_type": "code",
   "execution_count": 37,
   "id": "16a961e0",
   "metadata": {},
   "outputs": [
    {
     "name": "stdout",
     "output_type": "stream",
     "text": [
      "len(lemmas)=4363, len(df['review-text-full'])=4363\n"
     ]
    },
    {
     "data": {
      "text/plain": [
       "[['star', 'great', 'pasta', 'taste', 'feel', 'spell', 'package', 'SKRONG'],\n",
       " ['okay',\n",
       "  'like',\n",
       "  'texture',\n",
       "  'texture',\n",
       "  'little',\n",
       "  'strange',\n",
       "  'flavor',\n",
       "  'okay',\n",
       "  'bland',\n",
       "  'spice'],\n",
       " ['green',\n",
       "  'noodle',\n",
       "  'herb',\n",
       "  'flavor',\n",
       "  'make',\n",
       "  'texture',\n",
       "  'shirataki',\n",
       "  'palatable'],\n",
       " ['awesome',\n",
       "  'substitute',\n",
       "  'problem',\n",
       "  'half',\n",
       "  'fill',\n",
       "  'user',\n",
       "  'say',\n",
       "  'concern',\n",
       "  'take',\n",
       "  'chance',\n",
       "  'problem',\n",
       "  'find',\n",
       "  'good',\n",
       "  'initial',\n",
       "  'smell',\n",
       "  'boil',\n",
       "  'cube',\n",
       "  'bouillon',\n",
       "  'texture',\n",
       "  'good',\n",
       "  'notice',\n",
       "  'replace',\n",
       "  'noodle',\n",
       "  'mind'],\n",
       " ['star', 'taste', 'like', 'cook'],\n",
       " ['love',\n",
       "  'come',\n",
       "  'italian',\n",
       "  'girl',\n",
       "  'resist',\n",
       "  'pasta',\n",
       "  'dish',\n",
       "  'savior',\n",
       "  'avoid',\n",
       "  'carb',\n",
       "  'want',\n",
       "  'tasty',\n",
       "  'meal',\n",
       "  'smell',\n",
       "  'little',\n",
       "  'funky',\n",
       "  'open',\n",
       "  'package',\n",
       "  'go',\n",
       "  'away',\n",
       "  'rince',\n",
       "  'water',\n",
       "  'miss',\n",
       "  'regular',\n",
       "  'pasta',\n",
       "  'anymore',\n",
       "  'love'],\n",
       " ['taste',\n",
       "  'okay',\n",
       "  'taste',\n",
       "  'okay',\n",
       "  'expect',\n",
       "  'zero',\n",
       "  'calorie',\n",
       "  'lunch',\n",
       "  'day',\n",
       "  'dieting',\n",
       "  'usually',\n",
       "  'little',\n",
       "  'free',\n",
       "  'italian',\n",
       "  'dressing',\n",
       "  'calorie',\n",
       "  'yeah',\n",
       "  'gourmet',\n",
       "  'meal',\n",
       "  'lose',\n",
       "  'feel',\n",
       "  'hungry',\n",
       "  'pretty',\n",
       "  'sick',\n",
       "  'lose',\n",
       "  'smell-',\n",
       "  'liquid',\n",
       "  'pack',\n",
       "  'rinse',\n",
       "  'minute',\n",
       "  'smell',\n",
       "  'go',\n",
       "  'away',\n",
       "  'deal'],\n",
       " ['rate',\n",
       "  'noodle',\n",
       "  'like',\n",
       "  'noodle',\n",
       "  'rate',\n",
       "  'thing',\n",
       "  'invest',\n",
       "  'dollar',\n",
       "  'package',\n",
       "  'tell',\n",
       "  'like',\n",
       "  'know',\n",
       "  'people',\n",
       "  'consider',\n",
       "  'tasteless',\n",
       "  'think',\n",
       "  'good',\n",
       "  'bland',\n",
       "  'like',\n",
       "  'noodle',\n",
       "  'taste',\n",
       "  'versatile',\n",
       "  'think',\n",
       "  'replacement',\n",
       "  'noodle',\n",
       "  'recipe'],\n",
       " ['star', 'smell', 'rinse', 'rice', 'good'],\n",
       " ['rinse',\n",
       "  'thoroughly',\n",
       "  'band',\n",
       "  'like',\n",
       "  'able',\n",
       "  'zucchini',\n",
       "  'spiral',\n",
       "  'lazy',\n",
       "  'pasta',\n",
       "  'guilt',\n",
       "  'kid',\n",
       "  'touch',\n",
       "  'pole']]"
      ]
     },
     "execution_count": 37,
     "metadata": {},
     "output_type": "execute_result"
    }
   ],
   "source": [
    "print(f\"{len(lemmas)=}, {len(df['review-text-full'])=}\")\n",
    "lemmas[:10]"
   ]
  },
  {
   "cell_type": "code",
   "execution_count": 38,
   "id": "48d24422",
   "metadata": {},
   "outputs": [
    {
     "data": {
      "text/html": [
       "<div>\n",
       "<style scoped>\n",
       "    .dataframe tbody tr th:only-of-type {\n",
       "        vertical-align: middle;\n",
       "    }\n",
       "\n",
       "    .dataframe tbody tr th {\n",
       "        vertical-align: top;\n",
       "    }\n",
       "\n",
       "    .dataframe thead th {\n",
       "        text-align: right;\n",
       "    }\n",
       "</style>\n",
       "<table border=\"1\" class=\"dataframe\">\n",
       "  <thead>\n",
       "    <tr style=\"text-align: right;\">\n",
       "      <th></th>\n",
       "      <th>asin</th>\n",
       "      <th>reviewerID</th>\n",
       "      <th>reviewText</th>\n",
       "      <th>summary</th>\n",
       "      <th>overall</th>\n",
       "      <th>year</th>\n",
       "      <th>title</th>\n",
       "      <th>brand</th>\n",
       "      <th>category</th>\n",
       "      <th>review-text-full</th>\n",
       "      <th>review-text-full_raw</th>\n",
       "      <th>tokens-dirty</th>\n",
       "      <th>tokens</th>\n",
       "      <th>lemmas</th>\n",
       "      <th>tokens-dirty-joined</th>\n",
       "      <th>tokens-joined</th>\n",
       "      <th>lemmas-joined</th>\n",
       "      <th>target-rating</th>\n",
       "    </tr>\n",
       "  </thead>\n",
       "  <tbody>\n",
       "    <tr>\n",
       "      <th>0</th>\n",
       "      <td>B007JINB0W</td>\n",
       "      <td>A3Y51NV9HU5T2</td>\n",
       "      <td>Great pasta taste and feel, but the spell in t...</td>\n",
       "      <td>Four Stars</td>\n",
       "      <td>4</td>\n",
       "      <td>2018</td>\n",
       "      <td>Miracle Noodle Zero Carb, Gluten Free Shiratak...</td>\n",
       "      <td>Miracle Noodle</td>\n",
       "      <td>Grocery &amp; Gourmet Food; Pasta &amp; Noodles; Noodl...</td>\n",
       "      <td>Four Stars: Great pasta taste and feel, but th...</td>\n",
       "      <td>Four Stars: Great pasta taste and feel, but th...</td>\n",
       "      <td>[four, stars, great, pasta, taste, and, feel, ...</td>\n",
       "      <td>[stars, great, pasta, taste, feel, spell, pack...</td>\n",
       "      <td>[star, great, pasta, taste, feel, spell, packa...</td>\n",
       "      <td>four stars great pasta taste and feel but the ...</td>\n",
       "      <td>stars great pasta taste feel spell packaged sk...</td>\n",
       "      <td>star great pasta taste feel spell package skrong</td>\n",
       "      <td>None</td>\n",
       "    </tr>\n",
       "    <tr>\n",
       "      <th>1</th>\n",
       "      <td>B007JINB0W</td>\n",
       "      <td>A3D7EFSRC6Y9MP</td>\n",
       "      <td>The texture just made it a little strange to e...</td>\n",
       "      <td>Okay but don't like texture</td>\n",
       "      <td>3</td>\n",
       "      <td>2014</td>\n",
       "      <td>Miracle Noodle Zero Carb, Gluten Free Shiratak...</td>\n",
       "      <td>Miracle Noodle</td>\n",
       "      <td>Grocery &amp; Gourmet Food; Pasta &amp; Noodles; Noodl...</td>\n",
       "      <td>Okay but don't like texture: The texture just ...</td>\n",
       "      <td>Okay but don't like texture: The texture just ...</td>\n",
       "      <td>[okay, but, do, n't, like, texture, the, textu...</td>\n",
       "      <td>[okay, like, texture, texture, little, strange...</td>\n",
       "      <td>[okay, like, texture, texture, little, strange...</td>\n",
       "      <td>okay but do n't like texture the texture just ...</td>\n",
       "      <td>okay like texture texture little strange eat f...</td>\n",
       "      <td>okay like texture texture little strange eat f...</td>\n",
       "      <td>None</td>\n",
       "    </tr>\n",
       "  </tbody>\n",
       "</table>\n",
       "</div>"
      ],
      "text/plain": [
       "         asin      reviewerID  \\\n",
       "0  B007JINB0W   A3Y51NV9HU5T2   \n",
       "1  B007JINB0W  A3D7EFSRC6Y9MP   \n",
       "\n",
       "                                          reviewText  \\\n",
       "0  Great pasta taste and feel, but the spell in t...   \n",
       "1  The texture just made it a little strange to e...   \n",
       "\n",
       "                       summary  overall  year  \\\n",
       "0                   Four Stars        4  2018   \n",
       "1  Okay but don't like texture        3  2014   \n",
       "\n",
       "                                               title           brand  \\\n",
       "0  Miracle Noodle Zero Carb, Gluten Free Shiratak...  Miracle Noodle   \n",
       "1  Miracle Noodle Zero Carb, Gluten Free Shiratak...  Miracle Noodle   \n",
       "\n",
       "                                            category  \\\n",
       "0  Grocery & Gourmet Food; Pasta & Noodles; Noodl...   \n",
       "1  Grocery & Gourmet Food; Pasta & Noodles; Noodl...   \n",
       "\n",
       "                                    review-text-full  \\\n",
       "0  Four Stars: Great pasta taste and feel, but th...   \n",
       "1  Okay but don't like texture: The texture just ...   \n",
       "\n",
       "                                review-text-full_raw  \\\n",
       "0  Four Stars: Great pasta taste and feel, but th...   \n",
       "1  Okay but don't like texture: The texture just ...   \n",
       "\n",
       "                                        tokens-dirty  \\\n",
       "0  [four, stars, great, pasta, taste, and, feel, ...   \n",
       "1  [okay, but, do, n't, like, texture, the, textu...   \n",
       "\n",
       "                                              tokens  \\\n",
       "0  [stars, great, pasta, taste, feel, spell, pack...   \n",
       "1  [okay, like, texture, texture, little, strange...   \n",
       "\n",
       "                                              lemmas  \\\n",
       "0  [star, great, pasta, taste, feel, spell, packa...   \n",
       "1  [okay, like, texture, texture, little, strange...   \n",
       "\n",
       "                                 tokens-dirty-joined  \\\n",
       "0  four stars great pasta taste and feel but the ...   \n",
       "1  okay but do n't like texture the texture just ...   \n",
       "\n",
       "                                       tokens-joined  \\\n",
       "0  stars great pasta taste feel spell packaged sk...   \n",
       "1  okay like texture texture little strange eat f...   \n",
       "\n",
       "                                       lemmas-joined target-rating  \n",
       "0   star great pasta taste feel spell package skrong          None  \n",
       "1  okay like texture texture little strange eat f...          None  "
      ]
     },
     "execution_count": 38,
     "metadata": {},
     "output_type": "execute_result"
    }
   ],
   "source": [
    "df['lemmas'] = lemmas\n",
    "df.head(2)"
   ]
  },
  {
   "cell_type": "markdown",
   "id": "bb5c7579",
   "metadata": {},
   "source": [
    "## @ChatGPT Here:"
   ]
  },
  {
   "cell_type": "markdown",
   "id": "7472519e",
   "metadata": {},
   "source": [
    "### Step 3: Prepare the data for LDA\n"
   ]
  },
  {
   "cell_type": "markdown",
   "id": "e3724311",
   "metadata": {},
   "source": [
    "> Needed to install `pip install scipy==1.10.1` due to triu missing from scipy error.\n"
   ]
  },
  {
   "cell_type": "code",
   "execution_count": 39,
   "id": "a28cc018",
   "metadata": {},
   "outputs": [
    {
     "name": "stdout",
     "output_type": "stream",
     "text": [
      "gensim.__version__='4.3.2', scipy.__version__='1.10.1'\n"
     ]
    }
   ],
   "source": [
    "import gensim\n",
    "import  scipy\n",
    "from gensim.models.ldamodel import LdaModel\n",
    "import pyLDAvis.gensim_models as gensimvis\n",
    "import pyLDAvis\n",
    "from gensim import corpora\n",
    "\n",
    "\n",
    "print(f\"{gensim.__version__=}, {scipy.__version__=}\")"
   ]
  },
  {
   "cell_type": "code",
   "execution_count": 40,
   "id": "e4465d30",
   "metadata": {},
   "outputs": [],
   "source": [
    "\n",
    "# Separate group\n",
    "high_reviews = df.loc[df['target-rating']=='High','lemmas']\n",
    "low_reviews = df.loc[df['target-rating']=='Low','lemmas']\n",
    "\n",
    "# Create dictionary and corpus for high-rating reviews\n",
    "high_dictionary = corpora.Dictionary(high_reviews)\n",
    "high_corpus = [high_dictionary.doc2bow(text) for text in high_reviews]\n",
    "\n",
    "# Create dictionary and corpus for low-rating reviews\n",
    "low_dictionary = corpora.Dictionary(low_reviews)\n",
    "low_corpus = [low_dictionary.doc2bow(text) for text in low_reviews]\n"
   ]
  },
  {
   "cell_type": "code",
   "execution_count": 41,
   "id": "da79b72b",
   "metadata": {},
   "outputs": [],
   "source": [
    "# Number of topics\n",
    "num_topics = 5\n",
    "\n",
    "# LDA model for high-rating reviews\n",
    "high_lda = LdaModel(high_corpus, num_topics=num_topics, id2word=high_dictionary, passes=15)\n",
    "\n",
    "# LDA model for low-rating reviews\n",
    "low_lda = LdaModel(low_corpus, num_topics=num_topics, id2word=low_dictionary, passes=15)"
   ]
  },
  {
   "cell_type": "code",
   "execution_count": 42,
   "id": "d6d7f4fe",
   "metadata": {},
   "outputs": [
    {
     "name": "stdout",
     "output_type": "stream",
     "text": [
      "High Rating Reviews Topics:\n",
      "Topic: 0 \n",
      "Words: 0.037*\"noodle\" + 0.022*\"like\" + 0.018*\"smell\" + 0.016*\"taste\" + 0.014*\"follow\" + 0.014*\"rinse\" + 0.014*\"rice\" + 0.013*\"great\" + 0.013*\"carb\" + 0.012*\"good\"\n",
      "Topic: 1 \n",
      "Words: 0.044*\"star\" + 0.041*\"love\" + 0.037*\"great\" + 0.034*\"carb\" + 0.031*\"noodle\" + 0.029*\"rice\" + 0.028*\"pasta\" + 0.024*\"good\" + 0.020*\"taste\" + 0.017*\"product\"\n",
      "Topic: 2 \n",
      "Words: 0.021*\"sauce\" + 0.018*\"love\" + 0.016*\"noodle\" + 0.012*\"pasta\" + 0.011*\"review\" + 0.010*\"follow\" + 0.010*\"taste\" + 0.008*\"Noodles\" + 0.008*\"good\" + 0.007*\"cook\"\n",
      "Topic: 3 \n",
      "Words: 0.045*\"pasta\" + 0.027*\"noodle\" + 0.020*\"great\" + 0.018*\"like\" + 0.017*\"carb\" + 0.017*\"product\" + 0.016*\"sauce\" + 0.015*\"good\" + 0.010*\"dish\" + 0.010*\"calorie\"\n",
      "Topic: 4 \n",
      "Words: 0.050*\"noodle\" + 0.021*\"like\" + 0.020*\"rinse\" + 0.018*\"sauce\" + 0.016*\"smell\" + 0.015*\"water\" + 0.012*\"minute\" + 0.012*\"good\" + 0.012*\"taste\" + 0.012*\"great\"\n",
      "Low Rating Reviews Topics:\n",
      "Topic: 0 \n",
      "Words: 0.040*\"like\" + 0.038*\"noodle\" + 0.026*\"smell\" + 0.022*\"taste\" + 0.018*\"rice\" + 0.017*\"texture\" + 0.016*\"pasta\" + 0.011*\"product\" + 0.010*\"rubbery\" + 0.009*\"good\"\n",
      "Topic: 1 \n",
      "Words: 0.063*\"like\" + 0.041*\"Star\" + 0.036*\"taste\" + 0.023*\"smell\" + 0.022*\"texture\" + 0.017*\"fish\" + 0.017*\"horrible\" + 0.017*\"eat\" + 0.013*\"try\" + 0.013*\"rubber\"\n",
      "Topic: 2 \n",
      "Words: 0.025*\"noodle\" + 0.018*\"texture\" + 0.015*\"smell\" + 0.014*\"sauce\" + 0.013*\"try\" + 0.013*\"product\" + 0.013*\"rubber\" + 0.012*\"taste\" + 0.011*\"like\" + 0.011*\"order\"\n",
      "Topic: 3 \n",
      "Words: 0.052*\"texture\" + 0.039*\"like\" + 0.037*\"taste\" + 0.029*\"star\" + 0.021*\"good\" + 0.013*\"noodle\" + 0.012*\"flavor\" + 0.012*\"smell\" + 0.011*\"pasta\" + 0.011*\"weird\"\n",
      "Topic: 4 \n",
      "Words: 0.044*\"noodle\" + 0.029*\"like\" + 0.019*\"smell\" + 0.019*\"texture\" + 0.013*\"taste\" + 0.013*\"package\" + 0.011*\"product\" + 0.011*\"water\" + 0.009*\"try\" + 0.008*\"cook\"\n"
     ]
    }
   ],
   "source": [
    "# Print the topics for high-rating reviews\n",
    "print(\"High Rating Reviews Topics:\")\n",
    "for idx, topic in high_lda.print_topics(-1):\n",
    "    print(f\"Topic: {idx} \\nWords: {topic}\")\n",
    "\n",
    "# Print the topics for low-rating reviews\n",
    "print(\"Low Rating Reviews Topics:\")\n",
    "for idx, topic in low_lda.print_topics(-1):\n",
    "    print(f\"Topic: {idx} \\nWords: {topic}\")"
   ]
  },
  {
   "cell_type": "code",
   "execution_count": 43,
   "id": "4f7dd79a",
   "metadata": {},
   "outputs": [],
   "source": [
    "# !pip install tabulate"
   ]
  },
  {
   "cell_type": "code",
   "execution_count": 44,
   "id": "f9d91633",
   "metadata": {},
   "outputs": [
    {
     "name": "stdout",
     "output_type": "stream",
     "text": [
      "High Rating Reviews Topics (Rows):\n",
      "+---------+----------------+----------------+----------------+---------------+----------------+-----------------+----------------+-----------------+---------------+-----------------+\n",
      "|  Topic  |     Word 1     |     Word 2     |     Word 3     |    Word 4     |     Word 5     |     Word 6      |     Word 7     |     Word 8      |    Word 9     |     Word 10     |\n",
      "+---------+----------------+----------------+----------------+---------------+----------------+-----------------+----------------+-----------------+---------------+-----------------+\n",
      "| Topic 1 | noodle (0.037) |  like (0.022)  | smell (0.018)  | taste (0.016) | follow (0.014) |  rinse (0.014)  |  rice (0.014)  |  great (0.013)  | carb (0.013)  |  good (0.012)   |\n",
      "| Topic 2 |  star (0.044)  |  love (0.041)  | great (0.037)  | carb (0.034)  | noodle (0.031) |  rice (0.029)   | pasta (0.028)  |  good (0.024)   | taste (0.020) | product (0.017) |\n",
      "| Topic 3 | sauce (0.021)  |  love (0.018)  | noodle (0.016) | pasta (0.012) | review (0.011) | follow (0.010)  | taste (0.010)  | Noodles (0.008) | good (0.008)  |  cook (0.007)   |\n",
      "| Topic 4 | pasta (0.045)  | noodle (0.027) | great (0.020)  | like (0.018)  |  carb (0.017)  | product (0.017) | sauce (0.016)  |  good (0.015)   | dish (0.010)  | calorie (0.010) |\n",
      "| Topic 5 | noodle (0.050) |  like (0.021)  | rinse (0.020)  | sauce (0.018) | smell (0.016)  |  water (0.015)  | minute (0.012) |  good (0.012)   | taste (0.012) |  great (0.012)  |\n",
      "+---------+----------------+----------------+----------------+---------------+----------------+-----------------+----------------+-----------------+---------------+-----------------+\n",
      "Low Rating Reviews Topics (Columns):\n",
      "+---------+-----------------+-----------------+---------------+-----------------+-----------------+-----------------+------------------+-----------------+-----------------+----------------+\n",
      "|  Topic  |     Word 1      |     Word 2      |    Word 3     |     Word 4      |     Word 5      |     Word 6      |      Word 7      |     Word 8      |     Word 9      |    Word 10     |\n",
      "+---------+-----------------+-----------------+---------------+-----------------+-----------------+-----------------+------------------+-----------------+-----------------+----------------+\n",
      "| Topic 1 |  like (0.040)   | noodle (0.038)  | smell (0.026) |  taste (0.022)  |  rice (0.018)   | texture (0.017) |  pasta (0.016)   | product (0.011) | rubbery (0.010) |  good (0.009)  |\n",
      "| Topic 2 |  like (0.063)   |  Star (0.041)   | taste (0.036) |  smell (0.023)  | texture (0.022) |  fish (0.017)   | horrible (0.017) |   eat (0.017)   |   try (0.013)   | rubber (0.013) |\n",
      "| Topic 3 | noodle (0.025)  | texture (0.018) | smell (0.015) |  sauce (0.014)  |   try (0.013)   | product (0.013) |  rubber (0.013)  |  taste (0.012)  |  like (0.011)   | order (0.011)  |\n",
      "| Topic 4 | texture (0.052) |  like (0.039)   | taste (0.037) |  star (0.029)   |  good (0.021)   | noodle (0.013)  |  flavor (0.012)  |  smell (0.012)  |  pasta (0.011)  | weird (0.011)  |\n",
      "| Topic 5 | noodle (0.044)  |  like (0.029)   | smell (0.019) | texture (0.019) |  taste (0.013)  | package (0.013) | product (0.011)  |  water (0.011)  |   try (0.009)   |  cook (0.008)  |\n",
      "+---------+-----------------+-----------------+---------------+-----------------+-----------------+-----------------+------------------+-----------------+-----------------+----------------+\n"
     ]
    }
   ],
   "source": [
    "from tabulate import tabulate\n",
    "\n",
    "def print_topics_table(lda_model, num_topics, orientation=\"rows\", print_output=True):\n",
    "    topics_words = lda_model.print_topics(num_topics=num_topics)\n",
    "\n",
    "    if orientation == \"rows\":\n",
    "        table_data = []\n",
    "        for idx, topic in topics_words:\n",
    "            words = topic.split(\" + \")\n",
    "            words = [\"{} ({})\".format(word.split('*')[1].replace('\"', ''), word.split('*')[0]) for word in words]\n",
    "            table_data.append([\"Topic {}\".format(idx + 1)] + words)\n",
    "\n",
    "        # Ensure all rows have the same number of columns\n",
    "        max_words = max(len(topic) for topic in table_data)\n",
    "        for topic in table_data:\n",
    "            while len(topic) < max_words:\n",
    "                topic.append(\"\")  # Fill shorter rows with empty strings\n",
    "\n",
    "        headers = [\"Topic\"] + [\"Word {}\".format(i + 1) for i in range(max_words - 1)]\n",
    "\n",
    "    elif orientation == \"columns\":\n",
    "        table_data = [[] for _ in range(num_topics)]\n",
    "        for idx, topic in topics_words:\n",
    "            words = topic.split(\" + \")\n",
    "            words = [\"{} ({})\".format(word.split('*')[1].replace('\"', ''), word.split('*')[0]) for word in words]\n",
    "            table_data[idx].extend(words)\n",
    "\n",
    "        # Transpose the data to have topics as columns\n",
    "        max_words = max(len(topic) for topic in table_data)\n",
    "        for topic in table_data:\n",
    "            while len(topic) < max_words:\n",
    "                topic.append(\"\")  # Fill shorter topics with empty strings\n",
    "\n",
    "        table_data = list(map(list, zip(*table_data)))\n",
    "        headers = [\"Topic {}\".format(i + 1) for i in range(num_topics)]\n",
    "\n",
    "    else:\n",
    "        raise ValueError(\"Invalid orientation. Choose 'rows' or 'columns'.\")\n",
    "\n",
    "    table = tabulate(table_data, headers=headers, tablefmt=\"pretty\")\n",
    "\n",
    "    if print_output:\n",
    "        print(table)\n",
    "    else:\n",
    "        return table\n",
    "\n",
    "# Print the topics for high-rating reviews as rows\n",
    "print(\"High Rating Reviews Topics (Rows):\")\n",
    "print_topics_table(high_lda, num_topics, orientation=\"rows\")\n",
    "\n",
    "# Print the topics for low-rating reviews as columns\n",
    "print(\"Low Rating Reviews Topics (Columns):\")\n",
    "print_topics_table(low_lda, num_topics, orientation=\"rows\")\n"
   ]
  },
  {
   "cell_type": "markdown",
   "id": "7e14fad2",
   "metadata": {},
   "source": [
    "\n",
    "\n",
    "#### Explanation:\n",
    "\n",
    "1. **Define Function with `orientation` kwarg**:\n",
    "   - The function `print_topics_table` accepts an additional keyword argument `orientation` which can be either `\"rows\"` or `\"columns\"`, and a boolean `print_output` to control whether to print or return the table.\n",
    "\n",
    "2. **Handle Rows Orientation**:\n",
    "   - If `orientation` is `\"rows\"`, the function processes the topics to have each topic as a row with words as columns.\n",
    "   - Ensures all rows have the same number of columns by filling shorter rows with empty strings.\n",
    "   - Defines headers accordingly and uses `tabulate` to format the table.\n",
    "\n",
    "3. **Handle Columns Orientation**:\n",
    "   - If `orientation` is `\"columns\"`, the function processes the topics to have each topic as a column with words as rows.\n",
    "   - Ensures all topics (columns) have the same number of rows by filling shorter columns with empty strings.\n",
    "   - Transposes the data to have topics as columns.\n",
    "   - Defines headers accordingly and uses `tabulate` to format the table.\n",
    "\n",
    "4. **Raise Error for Invalid Orientation**:\n",
    "   - If an invalid orientation is provided, the function raises a `ValueError`.\n",
    "\n",
    "5. **Print or Return Table**:\n",
    "   - If `print_output` is `True`, the table is printed.\n",
    "   - If `print_output` is `False`, the table is returned as a string.\n",
    "\n",
    "This modification makes the function flexible, allowing you to choose the orientation of the topics table and control whether the output is printed or returned."
   ]
  },
  {
   "cell_type": "code",
   "execution_count": 45,
   "id": "bec926dd",
   "metadata": {},
   "outputs": [],
   "source": [
    "\n",
    "# def topics_to_dataframe(lda_model, num_topics, orientation=\"rows\"):\n",
    "#     topics_words = lda_model.print_topics(num_topics=num_topics)\n",
    "    \n",
    "#     if orientation == \"rows\":\n",
    "#         data = {\"Topic\": [], \"Word\": [], \"Weight\": []}\n",
    "#         for idx, topic in topics_words:\n",
    "#             words = topic.split(\" + \")\n",
    "#             for word in words:\n",
    "#                 weight, term = word.split('*')\n",
    "#                 data[\"Topic\"].append(f\"Topic {idx + 1}\")\n",
    "#                 data[\"Word\"].append(term.replace('\"', ''))\n",
    "#                 data[\"Weight\"].append(float(weight))\n",
    "#         df = pd.DataFrame(data)\n",
    "\n",
    "#     elif orientation == \"columns\":\n",
    "#         data = {}\n",
    "#         for idx, topic in topics_words:\n",
    "#             words = topic.split(\" + \")\n",
    "#             topic_words = []\n",
    "#             topic_weights = []\n",
    "#             for word in words:\n",
    "#                 weight, term = word.split('*')\n",
    "#                 topic_words.append(term.replace('\"', ''))\n",
    "#                 topic_weights.append(float(weight))\n",
    "#             data[f\"Topic {idx + 1} Words\"] = topic_words\n",
    "#             data[f\"Topic {idx + 1} Weights\"] = topic_weights\n",
    "\n",
    "#         # Convert dictionary to DataFrame and fill shorter columns with NaN\n",
    "#         df = pd.DataFrame.from_dict(data, orient='index').transpose()\n",
    "\n",
    "#     else:\n",
    "#         raise ValueError(\"Invalid orientation. Choose 'rows' or 'columns'.\")\n",
    "    \n",
    "#     return df\n",
    "\n",
    "# # Get the topics for high-rating reviews as rows in a DataFrame\n",
    "# print(\"High Rating Reviews Topics (Rows):\")\n",
    "# df_high_rows = topics_to_dataframe(high_lda, num_topics, orientation=\"rows\")\n",
    "# display(df_high_rows)\n",
    "# # Get the topics for low-rating reviews as columns in a DataFrame\n",
    "# print(\"Low Rating Reviews Topics (Columns):\")\n",
    "# df_low_columns = topics_to_dataframe(low_lda, num_topics, orientation=\"columns\")\n",
    "# display(df_low_columns)"
   ]
  },
  {
   "cell_type": "code",
   "execution_count": 46,
   "id": "a4333011",
   "metadata": {},
   "outputs": [
    {
     "data": {
      "text/plain": [
       "[(0,\n",
       "  '0.037*\"noodle\" + 0.022*\"like\" + 0.018*\"smell\" + 0.016*\"taste\" + 0.014*\"follow\"'),\n",
       " (1,\n",
       "  '0.044*\"star\" + 0.041*\"love\" + 0.037*\"great\" + 0.034*\"carb\" + 0.031*\"noodle\"'),\n",
       " (2,\n",
       "  '0.021*\"sauce\" + 0.018*\"love\" + 0.016*\"noodle\" + 0.012*\"pasta\" + 0.011*\"review\"'),\n",
       " (3,\n",
       "  '0.045*\"pasta\" + 0.027*\"noodle\" + 0.020*\"great\" + 0.018*\"like\" + 0.017*\"carb\"'),\n",
       " (4,\n",
       "  '0.050*\"noodle\" + 0.021*\"like\" + 0.020*\"rinse\" + 0.018*\"sauce\" + 0.016*\"smell\"')]"
      ]
     },
     "execution_count": 46,
     "metadata": {},
     "output_type": "execute_result"
    }
   ],
   "source": [
    "high_lda.show_topics(num_topics=num_topics, num_words=5)"
   ]
  },
  {
   "cell_type": "code",
   "execution_count": 47,
   "id": "9770c0de",
   "metadata": {},
   "outputs": [
    {
     "name": "stdout",
     "output_type": "stream",
     "text": [
      "High Rating Reviews Topics (Rows) with Combined Words and Weights:\n"
     ]
    },
    {
     "data": {
      "text/html": [
       "<div>\n",
       "<style scoped>\n",
       "    .dataframe tbody tr th:only-of-type {\n",
       "        vertical-align: middle;\n",
       "    }\n",
       "\n",
       "    .dataframe tbody tr th {\n",
       "        vertical-align: top;\n",
       "    }\n",
       "\n",
       "    .dataframe thead th {\n",
       "        text-align: right;\n",
       "    }\n",
       "</style>\n",
       "<table border=\"1\" class=\"dataframe\">\n",
       "  <thead>\n",
       "    <tr style=\"text-align: right;\">\n",
       "      <th></th>\n",
       "      <th>group</th>\n",
       "      <th>Word 1</th>\n",
       "      <th>Word 2</th>\n",
       "      <th>Word 3</th>\n",
       "      <th>Word 4</th>\n",
       "      <th>Word 5</th>\n",
       "      <th>Word 6</th>\n",
       "      <th>Word 7</th>\n",
       "      <th>Word 8</th>\n",
       "      <th>Word 9</th>\n",
       "      <th>Word 10</th>\n",
       "    </tr>\n",
       "    <tr>\n",
       "      <th>Topic</th>\n",
       "      <th></th>\n",
       "      <th></th>\n",
       "      <th></th>\n",
       "      <th></th>\n",
       "      <th></th>\n",
       "      <th></th>\n",
       "      <th></th>\n",
       "      <th></th>\n",
       "      <th></th>\n",
       "      <th></th>\n",
       "      <th></th>\n",
       "    </tr>\n",
       "  </thead>\n",
       "  <tbody>\n",
       "    <tr>\n",
       "      <th>1</th>\n",
       "      <td>High Rating Reviews</td>\n",
       "      <td>noodle (0.0370)</td>\n",
       "      <td>like (0.0220)</td>\n",
       "      <td>smell (0.0180)</td>\n",
       "      <td>taste (0.0160)</td>\n",
       "      <td>follow (0.0140)</td>\n",
       "      <td>rinse (0.0140)</td>\n",
       "      <td>rice (0.0140)</td>\n",
       "      <td>great (0.0130)</td>\n",
       "      <td>carb (0.0130)</td>\n",
       "      <td>good (0.0120)</td>\n",
       "    </tr>\n",
       "    <tr>\n",
       "      <th>2</th>\n",
       "      <td>High Rating Reviews</td>\n",
       "      <td>star (0.0440)</td>\n",
       "      <td>love (0.0410)</td>\n",
       "      <td>great (0.0370)</td>\n",
       "      <td>carb (0.0340)</td>\n",
       "      <td>noodle (0.0310)</td>\n",
       "      <td>rice (0.0290)</td>\n",
       "      <td>pasta (0.0280)</td>\n",
       "      <td>good (0.0240)</td>\n",
       "      <td>taste (0.0200)</td>\n",
       "      <td>product (0.0170)</td>\n",
       "    </tr>\n",
       "    <tr>\n",
       "      <th>3</th>\n",
       "      <td>High Rating Reviews</td>\n",
       "      <td>sauce (0.0210)</td>\n",
       "      <td>love (0.0180)</td>\n",
       "      <td>noodle (0.0160)</td>\n",
       "      <td>pasta (0.0120)</td>\n",
       "      <td>review (0.0110)</td>\n",
       "      <td>follow (0.0100)</td>\n",
       "      <td>taste (0.0100)</td>\n",
       "      <td>Noodles (0.0080)</td>\n",
       "      <td>good (0.0080)</td>\n",
       "      <td>cook (0.0070)</td>\n",
       "    </tr>\n",
       "    <tr>\n",
       "      <th>4</th>\n",
       "      <td>High Rating Reviews</td>\n",
       "      <td>pasta (0.0450)</td>\n",
       "      <td>noodle (0.0270)</td>\n",
       "      <td>great (0.0200)</td>\n",
       "      <td>like (0.0180)</td>\n",
       "      <td>carb (0.0170)</td>\n",
       "      <td>product (0.0170)</td>\n",
       "      <td>sauce (0.0160)</td>\n",
       "      <td>good (0.0150)</td>\n",
       "      <td>dish (0.0100)</td>\n",
       "      <td>calorie (0.0100)</td>\n",
       "    </tr>\n",
       "    <tr>\n",
       "      <th>5</th>\n",
       "      <td>High Rating Reviews</td>\n",
       "      <td>noodle (0.0500)</td>\n",
       "      <td>like (0.0210)</td>\n",
       "      <td>rinse (0.0200)</td>\n",
       "      <td>sauce (0.0180)</td>\n",
       "      <td>smell (0.0160)</td>\n",
       "      <td>water (0.0150)</td>\n",
       "      <td>minute (0.0120)</td>\n",
       "      <td>good (0.0120)</td>\n",
       "      <td>taste (0.0120)</td>\n",
       "      <td>great (0.0120)</td>\n",
       "    </tr>\n",
       "  </tbody>\n",
       "</table>\n",
       "</div>"
      ],
      "text/plain": [
       "                     group           Word 1           Word 2           Word 3  \\\n",
       "Topic                                                                           \n",
       "1      High Rating Reviews  noodle (0.0370)    like (0.0220)   smell (0.0180)   \n",
       "2      High Rating Reviews    star (0.0440)    love (0.0410)   great (0.0370)   \n",
       "3      High Rating Reviews   sauce (0.0210)    love (0.0180)  noodle (0.0160)   \n",
       "4      High Rating Reviews   pasta (0.0450)  noodle (0.0270)   great (0.0200)   \n",
       "5      High Rating Reviews  noodle (0.0500)    like (0.0210)   rinse (0.0200)   \n",
       "\n",
       "               Word 4           Word 5            Word 6           Word 7  \\\n",
       "Topic                                                                       \n",
       "1      taste (0.0160)  follow (0.0140)    rinse (0.0140)    rice (0.0140)   \n",
       "2       carb (0.0340)  noodle (0.0310)     rice (0.0290)   pasta (0.0280)   \n",
       "3      pasta (0.0120)  review (0.0110)   follow (0.0100)   taste (0.0100)   \n",
       "4       like (0.0180)    carb (0.0170)  product (0.0170)   sauce (0.0160)   \n",
       "5      sauce (0.0180)   smell (0.0160)    water (0.0150)  minute (0.0120)   \n",
       "\n",
       "                 Word 8          Word 9           Word 10  \n",
       "Topic                                                      \n",
       "1        great (0.0130)   carb (0.0130)     good (0.0120)  \n",
       "2         good (0.0240)  taste (0.0200)  product (0.0170)  \n",
       "3      Noodles (0.0080)   good (0.0080)     cook (0.0070)  \n",
       "4         good (0.0150)   dish (0.0100)  calorie (0.0100)  \n",
       "5         good (0.0120)  taste (0.0120)    great (0.0120)  "
      ]
     },
     "metadata": {},
     "output_type": "display_data"
    },
    {
     "name": "stdout",
     "output_type": "stream",
     "text": [
      "Low Rating Reviews Topics (Rows) with Combined Words and Weights:\n"
     ]
    },
    {
     "data": {
      "text/html": [
       "<div>\n",
       "<style scoped>\n",
       "    .dataframe tbody tr th:only-of-type {\n",
       "        vertical-align: middle;\n",
       "    }\n",
       "\n",
       "    .dataframe tbody tr th {\n",
       "        vertical-align: top;\n",
       "    }\n",
       "\n",
       "    .dataframe thead th {\n",
       "        text-align: right;\n",
       "    }\n",
       "</style>\n",
       "<table border=\"1\" class=\"dataframe\">\n",
       "  <thead>\n",
       "    <tr style=\"text-align: right;\">\n",
       "      <th></th>\n",
       "      <th>group</th>\n",
       "      <th>Word 1</th>\n",
       "      <th>Word 2</th>\n",
       "      <th>Word 3</th>\n",
       "      <th>Word 4</th>\n",
       "      <th>Word 5</th>\n",
       "      <th>Word 6</th>\n",
       "      <th>Word 7</th>\n",
       "      <th>Word 8</th>\n",
       "      <th>Word 9</th>\n",
       "      <th>Word 10</th>\n",
       "    </tr>\n",
       "    <tr>\n",
       "      <th>Topic</th>\n",
       "      <th></th>\n",
       "      <th></th>\n",
       "      <th></th>\n",
       "      <th></th>\n",
       "      <th></th>\n",
       "      <th></th>\n",
       "      <th></th>\n",
       "      <th></th>\n",
       "      <th></th>\n",
       "      <th></th>\n",
       "      <th></th>\n",
       "    </tr>\n",
       "  </thead>\n",
       "  <tbody>\n",
       "    <tr>\n",
       "      <th>1</th>\n",
       "      <td>Low Rating Reviews</td>\n",
       "      <td>like (0.0400)</td>\n",
       "      <td>noodle (0.0380)</td>\n",
       "      <td>smell (0.0260)</td>\n",
       "      <td>taste (0.0220)</td>\n",
       "      <td>rice (0.0180)</td>\n",
       "      <td>texture (0.0170)</td>\n",
       "      <td>pasta (0.0160)</td>\n",
       "      <td>product (0.0110)</td>\n",
       "      <td>rubbery (0.0100)</td>\n",
       "      <td>good (0.0090)</td>\n",
       "    </tr>\n",
       "    <tr>\n",
       "      <th>2</th>\n",
       "      <td>Low Rating Reviews</td>\n",
       "      <td>like (0.0630)</td>\n",
       "      <td>Star (0.0410)</td>\n",
       "      <td>taste (0.0360)</td>\n",
       "      <td>smell (0.0230)</td>\n",
       "      <td>texture (0.0220)</td>\n",
       "      <td>fish (0.0170)</td>\n",
       "      <td>horrible (0.0170)</td>\n",
       "      <td>eat (0.0170)</td>\n",
       "      <td>try (0.0130)</td>\n",
       "      <td>rubber (0.0130)</td>\n",
       "    </tr>\n",
       "    <tr>\n",
       "      <th>3</th>\n",
       "      <td>Low Rating Reviews</td>\n",
       "      <td>noodle (0.0250)</td>\n",
       "      <td>texture (0.0180)</td>\n",
       "      <td>smell (0.0150)</td>\n",
       "      <td>sauce (0.0140)</td>\n",
       "      <td>try (0.0130)</td>\n",
       "      <td>product (0.0130)</td>\n",
       "      <td>rubber (0.0130)</td>\n",
       "      <td>taste (0.0120)</td>\n",
       "      <td>like (0.0110)</td>\n",
       "      <td>order (0.0110)</td>\n",
       "    </tr>\n",
       "    <tr>\n",
       "      <th>4</th>\n",
       "      <td>Low Rating Reviews</td>\n",
       "      <td>texture (0.0520)</td>\n",
       "      <td>like (0.0390)</td>\n",
       "      <td>taste (0.0370)</td>\n",
       "      <td>star (0.0290)</td>\n",
       "      <td>good (0.0210)</td>\n",
       "      <td>noodle (0.0130)</td>\n",
       "      <td>flavor (0.0120)</td>\n",
       "      <td>smell (0.0120)</td>\n",
       "      <td>pasta (0.0110)</td>\n",
       "      <td>weird (0.0110)</td>\n",
       "    </tr>\n",
       "    <tr>\n",
       "      <th>5</th>\n",
       "      <td>Low Rating Reviews</td>\n",
       "      <td>noodle (0.0440)</td>\n",
       "      <td>like (0.0290)</td>\n",
       "      <td>smell (0.0190)</td>\n",
       "      <td>texture (0.0190)</td>\n",
       "      <td>taste (0.0130)</td>\n",
       "      <td>package (0.0130)</td>\n",
       "      <td>product (0.0110)</td>\n",
       "      <td>water (0.0110)</td>\n",
       "      <td>try (0.0090)</td>\n",
       "      <td>cook (0.0080)</td>\n",
       "    </tr>\n",
       "  </tbody>\n",
       "</table>\n",
       "</div>"
      ],
      "text/plain": [
       "                    group            Word 1            Word 2          Word 3  \\\n",
       "Topic                                                                           \n",
       "1      Low Rating Reviews     like (0.0400)   noodle (0.0380)  smell (0.0260)   \n",
       "2      Low Rating Reviews     like (0.0630)     Star (0.0410)  taste (0.0360)   \n",
       "3      Low Rating Reviews   noodle (0.0250)  texture (0.0180)  smell (0.0150)   \n",
       "4      Low Rating Reviews  texture (0.0520)     like (0.0390)  taste (0.0370)   \n",
       "5      Low Rating Reviews   noodle (0.0440)     like (0.0290)  smell (0.0190)   \n",
       "\n",
       "                 Word 4            Word 5            Word 6  \\\n",
       "Topic                                                         \n",
       "1        taste (0.0220)     rice (0.0180)  texture (0.0170)   \n",
       "2        smell (0.0230)  texture (0.0220)     fish (0.0170)   \n",
       "3        sauce (0.0140)      try (0.0130)  product (0.0130)   \n",
       "4         star (0.0290)     good (0.0210)   noodle (0.0130)   \n",
       "5      texture (0.0190)    taste (0.0130)  package (0.0130)   \n",
       "\n",
       "                  Word 7            Word 8            Word 9          Word 10  \n",
       "Topic                                                                          \n",
       "1         pasta (0.0160)  product (0.0110)  rubbery (0.0100)    good (0.0090)  \n",
       "2      horrible (0.0170)      eat (0.0170)      try (0.0130)  rubber (0.0130)  \n",
       "3        rubber (0.0130)    taste (0.0120)     like (0.0110)   order (0.0110)  \n",
       "4        flavor (0.0120)    smell (0.0120)    pasta (0.0110)   weird (0.0110)  \n",
       "5       product (0.0110)    water (0.0110)      try (0.0090)    cook (0.0080)  "
      ]
     },
     "metadata": {},
     "output_type": "display_data"
    }
   ],
   "source": [
    "import pandas as pd\n",
    "\n",
    "def topics_to_dataframe(lda_model, num_topics, group_name=None, combine=False, num_words=10):\n",
    "    topics_words = lda_model.print_topics(num_topics=num_topics, num_words=num_words)\n",
    "    data = {\"Topic\": []}\n",
    "\n",
    "    for i in range(1, num_words + 1):\n",
    "        data[f\"Word {i}\"] = []\n",
    "        if not combine:\n",
    "            data[f\"Weight {i}\"] = []\n",
    "\n",
    "    for idx, topic in topics_words:\n",
    "        words = topic.split(\" + \")\n",
    "        data[\"Topic\"].append(idx + 1)\n",
    "        for i, word in enumerate(words):\n",
    "            weight, term = word.split('*')\n",
    "            term = term.replace('\"', '')\n",
    "            weight = float(weight)\n",
    "            if combine:\n",
    "                data[f\"Word {i + 1}\"].append(f\"{term} ({weight:.4f})\")\n",
    "            else:\n",
    "                data[f\"Word {i + 1}\"].append(term)\n",
    "                data[f\"Weight {i + 1}\"].append(weight)\n",
    "\n",
    "        # Ensure all lists are of the same length\n",
    "        for j in range(i + 1, num_words):\n",
    "            data[f\"Word {j + 1}\"].append(\"\")\n",
    "            if not combine:\n",
    "                data[f\"Weight {j + 1}\"].append(None)\n",
    "\n",
    "    df = pd.DataFrame(data).set_index(\"Topic\")\n",
    "    \n",
    "    if group_name:\n",
    "        df.insert(0,'group', group_name)\n",
    "        df = df.copy()\n",
    "    \n",
    "    return df\n",
    "\n",
    "# Get the topics for high-rating reviews as rows in a DataFrame, combined words and weights\n",
    "print(\"High Rating Reviews Topics (Rows) with Combined Words and Weights:\")\n",
    "df_high_rows_combined = topics_to_dataframe(high_lda, num_topics, group_name= \"High Rating Reviews\",combine=True, num_words=10)\n",
    "display(df_high_rows_combined)\n",
    "\n",
    "# # Get the topics for high-rating reviews as rows in a DataFrame, separate words and weights\n",
    "# print(\"High Rating Reviews Topics (Rows) with Separate Words and Weights:\")\n",
    "# df_high_rows_separate = topics_to_dataframe(high_lda, num_topics, combine=False, num_words=10)\n",
    "# display(df_high_rows_separate)\n",
    "\n",
    "# Get the topics for low-rating reviews as rows in a DataFrame, combined words and weights\n",
    "print(\"Low Rating Reviews Topics (Rows) with Combined Words and Weights:\")\n",
    "df_low_rows_combined = topics_to_dataframe(low_lda, num_topics, group_name=\"Low Rating Reviews\", combine=True, num_words=10)\n",
    "display(df_low_rows_combined)\n",
    "\n",
    "# # Get the topics for low-rating reviews as rows in a DataFrame, separate words and weights\n",
    "# print(\"Low Rating Reviews Topics (Rows) with Separate Words and Weights:\")\n",
    "# df_low_rows_separate = topics_to_dataframe(low_lda, num_topics, combine=False, num_words=10)\n",
    "# display(df_low_rows_separate)"
   ]
  },
  {
   "cell_type": "markdown",
   "id": "9bd922f9",
   "metadata": {},
   "source": [
    "\n",
    "### Steps to Interpret Topics:\n",
    "\n",
    "1. **Review Top Words**: Look at the top words in each topic. These words represent the main concepts or themes within that topic.\n",
    "2. **Label Topics**: Based on the top words, assign a label or a brief description to each topic that captures its essence.\n",
    "3. **Analyze Topic Distribution**: Examine the distribution of topics across high-rating and low-rating reviews to identify patterns or trends.\n",
    "4. **Draw Insights**: Relate the identified topics to your specific use case or business questions to draw actionable insights.\n",
    "\n",
    "#### Interpretation for High-Rating Reviews:\n",
    "\n",
    "Let's interpret the high-rating reviews based on the top words and their weights.\n",
    "\n",
    "1. **Topic 1**:\n",
    "   - **Top Words**: love, calorie, soup, great, good, pasta, food, cook, diet, carb\n",
    "   - **Label**: Positive Health and Diet\n",
    "   - **Insight**: Customers who gave high ratings often mention love for the product, health-related terms like calorie and diet, and food items like soup and pasta. This suggests that health-conscious consumers appreciate these aspects.\n",
    "\n",
    "2. **Topic 2**:\n",
    "   - **Top Words**: noodle, sauce, great, pasta, taste, carb, good, like, rinse, rice\n",
    "   - **Label**: Flavor and Quality\n",
    "   - **Insight**: High ratings are associated with positive comments about the taste and quality of the product, particularly noodles and pasta, indicating satisfaction with the product's flavor.\n",
    "\n",
    "3. **Topic 3**:\n",
    "   - **Top Words**: noodle, pasta, sauce, rinse, water, smell, calorie, minute, dish, like\n",
    "   - **Label**: Preparation and Smell\n",
    "   - **Insight**: This topic highlights the ease of preparation and the product's smell. High ratings suggest customers find the product easy to prepare and appreciate its aroma.\n",
    "\n",
    "4. **Topic 4**:\n",
    "   - **Top Words**: noodle, like, love, rice, carb, texture, smell, pasta, taste, rinse\n",
    "   - **Label**: Texture and Satisfaction\n",
    "   - **Insight**: Texture and overall satisfaction are prominent in this topic. High ratings indicate customers are happy with the product's texture and overall experience.\n",
    "\n",
    "5. **Topic 5**:\n",
    "   - **Top Words**: star, great, good, product, love, carb, pasta, taste, rice, substitute\n",
    "   - **Label**: General Satisfaction\n",
    "   - **Insight**: General positive feedback is captured in this topic, with high ratings reflecting overall satisfaction with the product.\n"
   ]
  },
  {
   "cell_type": "code",
   "execution_count": 48,
   "id": "f16558be",
   "metadata": {},
   "outputs": [],
   "source": [
    "# !pip install langchain langchain_openai pydantic\n",
    "from langchain_openai import ChatOpenAI #, JsonOutputParser\n",
    "from langchain_core.prompts import ChatPromptTemplate, PromptTemplate\n",
    "from langchain_core.output_parsers import JsonOutputParser, StrOutputParser\n",
    "from pydantic import BaseModel, Field, validator\n",
    "from typing import List, Optional, Text, Dict\n",
    "\n",
    "pd.set_option('display.max_colwidth', 250)\n",
    "from IPython.display import display, Markdown"
   ]
  },
  {
   "cell_type": "code",
   "execution_count": 49,
   "id": "68ba88fc",
   "metadata": {},
   "outputs": [],
   "source": [
    "\n",
    "\n",
    "class TopicLabels(BaseModel):\n",
    "    group : str = Field(description=\"Group name.\")\n",
    "    topic_number: List[int] = Field(description=\"Topic number.\")\n",
    "    top_words: List[List[str]] = Field(description=\"Top words for each LDA topic.\")\n",
    "    topic_labels: List[str] = Field(description=\"Descriptive labels for each LDA topic, based on top words for each topic.\")\n",
    "    topic_insights: List[str] = Field(description=\"Short insights or summaries for each LDA topic, based on top words for each topic.\")\n",
    "    \n",
    "def analyze_topics(topic_string: str, group=\"N/A\", temperature=0.1, model_type='gpt-4o',\n",
    "                       return_llm = False, return_json=True) -> str:\n",
    "    prompt = \"\"\"\n",
    "    Help me interpret these LDA topics. Examine the top words for each topic # and provide a descriptive label and short insight for each topic.\n",
    "    \n",
    "    Group Name: {group}\n",
    "\n",
    "    Topics:\n",
    "    {topic_string}\n",
    "    \n",
    "    Format Instructions:\n",
    "    {format_instructions}\n",
    "    \"\"\"\n",
    "    final_prompt_template = PromptTemplate.from_template(prompt)\n",
    "    # final_prompt_template = final_prompt_template.partial(resume=resume, job=job_listing)\n",
    "\n",
    "    try:\n",
    "        api_key = st.session_state.OPENAI_API_KEY\n",
    "    except:\n",
    "        api_key = os.getenv('OPENAI_API_KEY')\n",
    "        \n",
    "        \n",
    "    llm = ChatOpenAI(temperature=temperature, model=model_type, api_key=api_key)\n",
    "    parser = JsonOutputParser(pydantic_object=TopicLabels,) # PydanticOutputParser(pydantic_object=ResumeRating)#StrOutputParser(output_key=\"response\")\n",
    "    \n",
    "    if return_json:\n",
    "        parser = JsonOutputParser(pydantic_object=TopicLabels,)    \n",
    "        # Add formatting instructions for pydantic\n",
    "        instructions =  parser.get_format_instructions()\n",
    "            \n",
    "    else:\n",
    "        parser = StrOutputParser(output_key=\"response\")\n",
    "        instructions = \"Respond with each topic as a nested list with the topic number,  descriptive label,top words, and short insight.\"\n",
    "        \n",
    "    # Making the chain\n",
    "    final_prompt_template = final_prompt_template.partial(format_instructions=instructions)\n",
    "    llm_chain = final_prompt_template | llm | parser\n",
    "    \n",
    "    if return_llm:\n",
    "        return llm_chain\n",
    "    else:\n",
    "        response = llm_chain.invoke(input=dict(topic_string=topic_string, group=group))\n",
    "        return response\n",
    "\n"
   ]
  },
  {
   "cell_type": "code",
   "execution_count": 50,
   "id": "041faf74",
   "metadata": {},
   "outputs": [
    {
     "data": {
      "text/plain": [
       "'|   Topic | group              | Word 1           | Word 2           | Word 3         | Word 4           | Word 5           | Word 6           | Word 7            | Word 8           | Word 9           | Word 10         |\\n|--------:|:-------------------|:-----------------|:-----------------|:---------------|:-----------------|:-----------------|:-----------------|:------------------|:-----------------|:-----------------|:----------------|\\n|       1 | Low Rating Reviews | like (0.0400)    | noodle (0.0380)  | smell (0.0260) | taste (0.0220)   | rice (0.0180)    | texture (0.0170) | pasta (0.0160)    | product (0.0110) | rubbery (0.0100) | good (0.0090)   |\\n|       2 | Low Rating Reviews | like (0.0630)    | Star (0.0410)    | taste (0.0360) | smell (0.0230)   | texture (0.0220) | fish (0.0170)    | horrible (0.0170) | eat (0.0170)     | try (0.0130)     | rubber (0.0130) |\\n|       3 | Low Rating Reviews | noodle (0.0250)  | texture (0.0180) | smell (0.0150) | sauce (0.0140)   | try (0.0130)     | product (0.0130) | rubber (0.0130)   | taste (0.0120)   | like (0.0110)    | order (0.0110)  |\\n|       4 | Low Rating Reviews | texture (0.0520) | like (0.0390)    | taste (0.0370) | star (0.0290)    | good (0.0210)    | noodle (0.0130)  | flavor (0.0120)   | smell (0.0120)   | pasta (0.0110)   | weird (0.0110)  |\\n|       5 | Low Rating Reviews | noodle (0.0440)  | like (0.0290)    | smell (0.0190) | texture (0.0190) | taste (0.0130)   | package (0.0130) | product (0.0110)  | water (0.0110)   | try (0.0090)     | cook (0.0080)   |'"
      ]
     },
     "execution_count": 50,
     "metadata": {},
     "output_type": "execute_result"
    }
   ],
   "source": [
    "df_low_rows_combined.to_markdown()"
   ]
  },
  {
   "cell_type": "code",
   "execution_count": 51,
   "id": "adf0666c",
   "metadata": {},
   "outputs": [
    {
     "data": {
      "text/markdown": [
       "Sure, here is the interpretation of the LDA topics for the \"High Rating Reviews\" group:\n",
       "\n",
       "1. **Topic 1**\n",
       "   - **Descriptive Label:** Noodle Preparation and Taste\n",
       "   - **Top Words:** noodle, like, smell, taste, follow, rinse, rice, great, carb, good\n",
       "   - **Short Insight:** This topic focuses on the preparation and sensory experience of noodles, including their taste and smell. It also mentions related foods like rice and carbs, indicating a broader context of meal preparation and enjoyment.\n",
       "\n",
       "2. **Topic 2**\n",
       "   - **Descriptive Label:** General Product Satisfaction\n",
       "   - **Top Words:** star, love, great, carb, noodle, rice, pasta, good, taste, product\n",
       "   - **Short Insight:** This topic highlights overall satisfaction with the products, emphasizing high ratings (stars) and positive emotions (love, great). It also mentions specific food items like noodles, rice, and pasta, suggesting these are well-received.\n",
       "\n",
       "3. **Topic 3**\n",
       "   - **Descriptive Label:** Sauce and Noodle Enjoyment\n",
       "   - **Top Words:** sauce, love, noodle, pasta, review, follow, taste, Noodles, good, cook\n",
       "   - **Short Insight:** This topic centers around the enjoyment of sauces and noodles, with frequent mentions of love and taste. It also includes the act of cooking and reviewing, indicating a focus on the culinary experience.\n",
       "\n",
       "4. **Topic 4**\n",
       "   - **Descriptive Label:** Pasta and Product Quality\n",
       "   - **Top Words:** pasta, noodle, great, like, carb, product, sauce, good, dish, calorie\n",
       "   - **Short Insight:** This topic emphasizes the quality of pasta and related products, with mentions of carbs and calories suggesting a consideration of nutritional aspects. The positive terms like great and good indicate high satisfaction.\n",
       "\n",
       "5. **Topic 5**\n",
       "   - **Descriptive Label:** Noodle Cooking Process\n",
       "   - **Top Words:** noodle, like, rinse, sauce, smell, water, minute, good, taste, great\n",
       "   - **Short Insight:** This topic focuses on the cooking process of noodles, including steps like rinsing and the time involved (minute). It also mentions sensory aspects like smell and taste, indicating a detailed engagement with the cooking experience."
      ],
      "text/plain": [
       "<IPython.core.display.Markdown object>"
      ]
     },
     "metadata": {},
     "output_type": "display_data"
    }
   ],
   "source": [
    "\n",
    "response_high = analyze_topics(df_high_rows_combined.to_markdown(),#topics_string_high, \n",
    "                               group=\"High Rating Reviews\", temperature=0.1, model_type='gpt-4o',\n",
    "                               return_json=False)\n",
    "display(Markdown(response_high))"
   ]
  },
  {
   "cell_type": "code",
   "execution_count": 52,
   "id": "9a764178",
   "metadata": {},
   "outputs": [
    {
     "data": {
      "text/markdown": [
       "Sure, here is the interpretation of the LDA topics for the \"High Rating Reviews\" group:\n",
       "\n",
       "1. **Topic 1**\n",
       "   - **Descriptive Label:** Noodle Preparation and Taste\n",
       "   - **Top Words:** noodle, like, smell, taste, follow, rinse, rice, great, carb, good\n",
       "   - **Short Insight:** This topic focuses on the preparation and sensory experience of noodles, including their taste and smell. It also mentions related foods like rice and carbs, indicating a broader context of carbohydrate-rich foods.\n",
       "\n",
       "2. **Topic 2**\n",
       "   - **Descriptive Label:** Overall Product Satisfaction\n",
       "   - **Top Words:** star, love, great, carb, noodle, rice, pasta, good, taste, product\n",
       "   - **Short Insight:** This topic highlights overall satisfaction with the product, emphasizing high ratings (stars), love for the product, and positive descriptors like \"great\" and \"good.\" It also mentions various carbohydrate foods like noodles, rice, and pasta.\n",
       "\n",
       "3. **Topic 3**\n",
       "   - **Descriptive Label:** Sauce and Noodle Enjoyment\n",
       "   - **Top Words:** sauce, love, noodle, pasta, review, follow, taste, Noodles, good, cook\n",
       "   - **Short Insight:** This topic centers around the enjoyment of noodles and pasta, particularly with sauce. It includes positive sentiments like \"love\" and \"good,\" and mentions the act of cooking and reviewing the product.\n",
       "\n",
       "4. **Topic 4**\n",
       "   - **Descriptive Label:** Pasta and Product Quality\n",
       "   - **Top Words:** pasta, noodle, great, like, carb, product, sauce, good, dish, calorie\n",
       "   - **Short Insight:** This topic focuses on the quality of pasta products, with frequent mentions of noodles and sauce. It also touches on health aspects like calories and carbs, indicating a consideration of nutritional value.\n",
       "\n",
       "5. **Topic 5**\n",
       "   - **Descriptive Label:** Noodle Cooking Process\n",
       "   - **Top Words:** noodle, like, rinse, sauce, smell, water, minute, good, taste, great\n",
       "   - **Short Insight:** This topic is about the cooking process of noodles, including steps like rinsing and the time taken (minutes). It also mentions sensory aspects like smell and taste, along with positive descriptors like \"good\" and \"great.\""
      ],
      "text/plain": [
       "<IPython.core.display.Markdown object>"
      ]
     },
     "metadata": {},
     "output_type": "display_data"
    }
   ],
   "source": [
    "\n",
    "response_low = analyze_topics(df_high_rows_combined.to_markdown(),#topics_string_high, \n",
    "                               group=\"High Rating Reviews\", temperature=0.1, model_type='gpt-4o',\n",
    "                               return_json=False)\n",
    "display(Markdown(response_low))"
   ]
  },
  {
   "cell_type": "code",
   "execution_count": 53,
   "id": "9d09c9fe",
   "metadata": {},
   "outputs": [
    {
     "data": {
      "text/html": [
       "<div>\n",
       "<style scoped>\n",
       "    .dataframe tbody tr th:only-of-type {\n",
       "        vertical-align: middle;\n",
       "    }\n",
       "\n",
       "    .dataframe tbody tr th {\n",
       "        vertical-align: top;\n",
       "    }\n",
       "\n",
       "    .dataframe thead th {\n",
       "        text-align: right;\n",
       "    }\n",
       "</style>\n",
       "<table border=\"1\" class=\"dataframe\">\n",
       "  <thead>\n",
       "    <tr style=\"text-align: right;\">\n",
       "      <th></th>\n",
       "      <th></th>\n",
       "      <th>group</th>\n",
       "      <th>top_words</th>\n",
       "      <th>topic_insights</th>\n",
       "    </tr>\n",
       "    <tr>\n",
       "      <th>topic_number</th>\n",
       "      <th>topic_labels</th>\n",
       "      <th></th>\n",
       "      <th></th>\n",
       "      <th></th>\n",
       "    </tr>\n",
       "  </thead>\n",
       "  <tbody>\n",
       "    <tr>\n",
       "      <th>1</th>\n",
       "      <th>Noodle Preparation and Taste</th>\n",
       "      <td>High Rating Reviews</td>\n",
       "      <td>[noodle, like, smell, taste, follow, rinse, rice, great, carb, good]</td>\n",
       "      <td>This topic focuses on the preparation and taste of noodles, including aspects like smell, rinsing, and following instructions.</td>\n",
       "    </tr>\n",
       "    <tr>\n",
       "      <th>2</th>\n",
       "      <th>Overall Product Satisfaction</th>\n",
       "      <td>High Rating Reviews</td>\n",
       "      <td>[star, love, great, carb, noodle, rice, pasta, good, taste, product]</td>\n",
       "      <td>This topic highlights overall satisfaction with the product, emphasizing high ratings, love for the product, and its low-carb nature.</td>\n",
       "    </tr>\n",
       "    <tr>\n",
       "      <th>3</th>\n",
       "      <th>Sauce and Noodle Combinations</th>\n",
       "      <td>High Rating Reviews</td>\n",
       "      <td>[sauce, love, noodle, pasta, review, follow, taste, Noodles, good, cook]</td>\n",
       "      <td>This topic discusses the combination of sauces with noodles and pasta, along with reviews and cooking instructions.</td>\n",
       "    </tr>\n",
       "    <tr>\n",
       "      <th>4</th>\n",
       "      <th>Pasta and Low-Carb Options</th>\n",
       "      <td>High Rating Reviews</td>\n",
       "      <td>[pasta, noodle, great, like, carb, product, sauce, good, dish, calorie]</td>\n",
       "      <td>This topic centers around pasta and noodle products, particularly those that are low in carbs and calories, and their overall quality.</td>\n",
       "    </tr>\n",
       "    <tr>\n",
       "      <th>5</th>\n",
       "      <th>Noodle Cooking Instructions</th>\n",
       "      <td>High Rating Reviews</td>\n",
       "      <td>[noodle, like, rinse, sauce, smell, water, minute, good, taste, great]</td>\n",
       "      <td>This topic provides insights into the cooking instructions for noodles, including rinsing, sauce preparation, and overall taste.</td>\n",
       "    </tr>\n",
       "  </tbody>\n",
       "</table>\n",
       "</div>"
      ],
      "text/plain": [
       "                                                          group  \\\n",
       "topic_number topic_labels                                         \n",
       "1            Noodle Preparation and Taste   High Rating Reviews   \n",
       "2            Overall Product Satisfaction   High Rating Reviews   \n",
       "3            Sauce and Noodle Combinations  High Rating Reviews   \n",
       "4            Pasta and Low-Carb Options     High Rating Reviews   \n",
       "5            Noodle Cooking Instructions    High Rating Reviews   \n",
       "\n",
       "                                                                                                           top_words  \\\n",
       "topic_number topic_labels                                                                                              \n",
       "1            Noodle Preparation and Taste       [noodle, like, smell, taste, follow, rinse, rice, great, carb, good]   \n",
       "2            Overall Product Satisfaction       [star, love, great, carb, noodle, rice, pasta, good, taste, product]   \n",
       "3            Sauce and Noodle Combinations  [sauce, love, noodle, pasta, review, follow, taste, Noodles, good, cook]   \n",
       "4            Pasta and Low-Carb Options      [pasta, noodle, great, like, carb, product, sauce, good, dish, calorie]   \n",
       "5            Noodle Cooking Instructions      [noodle, like, rinse, sauce, smell, water, minute, good, taste, great]   \n",
       "\n",
       "                                                                                                                                                                    topic_insights  \n",
       "topic_number topic_labels                                                                                                                                                           \n",
       "1            Noodle Preparation and Taste           This topic focuses on the preparation and taste of noodles, including aspects like smell, rinsing, and following instructions.  \n",
       "2            Overall Product Satisfaction    This topic highlights overall satisfaction with the product, emphasizing high ratings, love for the product, and its low-carb nature.  \n",
       "3            Sauce and Noodle Combinations                     This topic discusses the combination of sauces with noodles and pasta, along with reviews and cooking instructions.  \n",
       "4            Pasta and Low-Carb Options     This topic centers around pasta and noodle products, particularly those that are low in carbs and calories, and their overall quality.  \n",
       "5            Noodle Cooking Instructions          This topic provides insights into the cooking instructions for noodles, including rinsing, sauce preparation, and overall taste.  "
      ]
     },
     "execution_count": 53,
     "metadata": {},
     "output_type": "execute_result"
    }
   ],
   "source": [
    "## Getting dataframe of topic labels and insights\n",
    "response_high = analyze_topics(df_high_rows_combined.to_markdown(),#topics_string_high, \n",
    "                               group=\"High Rating Reviews\", temperature=0.1, model_type='gpt-4o')\n",
    "topics_df_high = pd.DataFrame(response_high).set_index(['topic_number','topic_labels'])\n",
    "topics_df_high"
   ]
  },
  {
   "cell_type": "code",
   "execution_count": 54,
   "id": "525cf07e",
   "metadata": {},
   "outputs": [
    {
     "data": {
      "text/html": [
       "<div>\n",
       "<style scoped>\n",
       "    .dataframe tbody tr th:only-of-type {\n",
       "        vertical-align: middle;\n",
       "    }\n",
       "\n",
       "    .dataframe tbody tr th {\n",
       "        vertical-align: top;\n",
       "    }\n",
       "\n",
       "    .dataframe thead th {\n",
       "        text-align: right;\n",
       "    }\n",
       "</style>\n",
       "<table border=\"1\" class=\"dataframe\">\n",
       "  <thead>\n",
       "    <tr style=\"text-align: right;\">\n",
       "      <th></th>\n",
       "      <th></th>\n",
       "      <th>group</th>\n",
       "      <th>top_words</th>\n",
       "      <th>topic_insights</th>\n",
       "    </tr>\n",
       "    <tr>\n",
       "      <th>topic_number</th>\n",
       "      <th>topic_labels</th>\n",
       "      <th></th>\n",
       "      <th></th>\n",
       "      <th></th>\n",
       "    </tr>\n",
       "  </thead>\n",
       "  <tbody>\n",
       "    <tr>\n",
       "      <th>1</th>\n",
       "      <th>Noodle Preparation and Taste</th>\n",
       "      <td>Low Rating Reviews</td>\n",
       "      <td>[noodle, like, smell, taste, follow, rinse, rice, great, carb, good]</td>\n",
       "      <td>This topic focuses on the preparation and taste of noodles, including aspects like smell and rinsing.</td>\n",
       "    </tr>\n",
       "    <tr>\n",
       "      <th>2</th>\n",
       "      <th>Overall Product Satisfaction</th>\n",
       "      <td>Low Rating Reviews</td>\n",
       "      <td>[star, love, great, carb, noodle, rice, pasta, good, taste, product]</td>\n",
       "      <td>This topic highlights overall satisfaction with the product, emphasizing love for the product and its great taste.</td>\n",
       "    </tr>\n",
       "    <tr>\n",
       "      <th>3</th>\n",
       "      <th>Sauce and Noodle Combination</th>\n",
       "      <td>Low Rating Reviews</td>\n",
       "      <td>[sauce, love, noodle, pasta, review, follow, taste, Noodles, good, cook]</td>\n",
       "      <td>This topic discusses the combination of sauce and noodles, with mentions of reviews and cooking.</td>\n",
       "    </tr>\n",
       "    <tr>\n",
       "      <th>4</th>\n",
       "      <th>Pasta and Noodle Quality</th>\n",
       "      <td>Low Rating Reviews</td>\n",
       "      <td>[pasta, noodle, great, like, carb, product, sauce, good, dish, calorie]</td>\n",
       "      <td>This topic centers on the quality of pasta and noodles, including product satisfaction and calorie content.</td>\n",
       "    </tr>\n",
       "    <tr>\n",
       "      <th>5</th>\n",
       "      <th>Noodle Cooking Process</th>\n",
       "      <td>Low Rating Reviews</td>\n",
       "      <td>[noodle, like, rinse, sauce, smell, water, minute, good, taste, great]</td>\n",
       "      <td>This topic is about the cooking process of noodles, including rinsing, sauce, and overall taste.</td>\n",
       "    </tr>\n",
       "  </tbody>\n",
       "</table>\n",
       "</div>"
      ],
      "text/plain": [
       "                                                        group  \\\n",
       "topic_number topic_labels                                       \n",
       "1            Noodle Preparation and Taste  Low Rating Reviews   \n",
       "2            Overall Product Satisfaction  Low Rating Reviews   \n",
       "3            Sauce and Noodle Combination  Low Rating Reviews   \n",
       "4            Pasta and Noodle Quality      Low Rating Reviews   \n",
       "5            Noodle Cooking Process        Low Rating Reviews   \n",
       "\n",
       "                                                                                                          top_words  \\\n",
       "topic_number topic_labels                                                                                             \n",
       "1            Noodle Preparation and Taste      [noodle, like, smell, taste, follow, rinse, rice, great, carb, good]   \n",
       "2            Overall Product Satisfaction      [star, love, great, carb, noodle, rice, pasta, good, taste, product]   \n",
       "3            Sauce and Noodle Combination  [sauce, love, noodle, pasta, review, follow, taste, Noodles, good, cook]   \n",
       "4            Pasta and Noodle Quality       [pasta, noodle, great, like, carb, product, sauce, good, dish, calorie]   \n",
       "5            Noodle Cooking Process          [noodle, like, rinse, sauce, smell, water, minute, good, taste, great]   \n",
       "\n",
       "                                                                                                                                               topic_insights  \n",
       "topic_number topic_labels                                                                                                                                      \n",
       "1            Noodle Preparation and Taste               This topic focuses on the preparation and taste of noodles, including aspects like smell and rinsing.  \n",
       "2            Overall Product Satisfaction  This topic highlights overall satisfaction with the product, emphasizing love for the product and its great taste.  \n",
       "3            Sauce and Noodle Combination                    This topic discusses the combination of sauce and noodles, with mentions of reviews and cooking.  \n",
       "4            Pasta and Noodle Quality             This topic centers on the quality of pasta and noodles, including product satisfaction and calorie content.  \n",
       "5            Noodle Cooking Process                          This topic is about the cooking process of noodles, including rinsing, sauce, and overall taste.  "
      ]
     },
     "execution_count": 54,
     "metadata": {},
     "output_type": "execute_result"
    }
   ],
   "source": [
    "## Getting dataframe of topic labels and insights\n",
    "response_low = analyze_topics(df_high_rows_combined.to_markdown(),#topics_string_high, \n",
    "                               group=\"Low Rating Reviews\", temperature=0.1, model_type='gpt-4o')\n",
    "topics_df_low = pd.DataFrame(response_low).set_index(['topic_number','topic_labels'])\n",
    "topics_df_low"
   ]
  },
  {
   "cell_type": "markdown",
   "id": "c5d34b2d",
   "metadata": {},
   "source": [
    "\n",
    "#### Drawing Insights:\n",
    "\n",
    "1. **Health Consciousness**: High-rating reviews often mention health-related aspects, indicating that promoting these features could attract more positive feedback.\n",
    "2. **Packaging and Delivery**: Addressing packaging and delivery issues could help improve the overall customer experience and reduce negative reviews.\n",
    "3. **Quality and Flavor**: Maintaining and improving the quality and flavor of the product is crucial, as these are frequently mentioned in high-rating reviews.\n",
    "4. **Negative Experiences**: Understanding the specific negative experiences can help in addressing them, possibly through product improvements or better instructions.\n"
   ]
  },
  {
   "cell_type": "code",
   "execution_count": 55,
   "id": "bc5e8722",
   "metadata": {},
   "outputs": [
    {
     "name": "stdout",
     "output_type": "stream",
     "text": [
      "High Rating Reviews Topics (Rows):\n",
      "+---------+----------------+----------------+----------------+---------------+----------------+-----------------+----------------+-----------------+---------------+-----------------+\n",
      "|  Topic  |     Word 1     |     Word 2     |     Word 3     |    Word 4     |     Word 5     |     Word 6      |     Word 7     |     Word 8      |    Word 9     |     Word 10     |\n",
      "+---------+----------------+----------------+----------------+---------------+----------------+-----------------+----------------+-----------------+---------------+-----------------+\n",
      "| Topic 1 | noodle (0.037) |  like (0.022)  | smell (0.018)  | taste (0.016) | follow (0.014) |  rinse (0.014)  |  rice (0.014)  |  great (0.013)  | carb (0.013)  |  good (0.012)   |\n",
      "| Topic 2 |  star (0.044)  |  love (0.041)  | great (0.037)  | carb (0.034)  | noodle (0.031) |  rice (0.029)   | pasta (0.028)  |  good (0.024)   | taste (0.020) | product (0.017) |\n",
      "| Topic 3 | sauce (0.021)  |  love (0.018)  | noodle (0.016) | pasta (0.012) | review (0.011) | follow (0.010)  | taste (0.010)  | Noodles (0.008) | good (0.008)  |  cook (0.007)   |\n",
      "| Topic 4 | pasta (0.045)  | noodle (0.027) | great (0.020)  | like (0.018)  |  carb (0.017)  | product (0.017) | sauce (0.016)  |  good (0.015)   | dish (0.010)  | calorie (0.010) |\n",
      "| Topic 5 | noodle (0.050) |  like (0.021)  | rinse (0.020)  | sauce (0.018) | smell (0.016)  |  water (0.015)  | minute (0.012) |  good (0.012)   | taste (0.012) |  great (0.012)  |\n",
      "+---------+----------------+----------------+----------------+---------------+----------------+-----------------+----------------+-----------------+---------------+-----------------+\n",
      "Low Rating Reviews Topics (Columns):\n",
      "+---------+-----------------+-----------------+---------------+-----------------+-----------------+-----------------+------------------+-----------------+-----------------+----------------+\n",
      "|  Topic  |     Word 1      |     Word 2      |    Word 3     |     Word 4      |     Word 5      |     Word 6      |      Word 7      |     Word 8      |     Word 9      |    Word 10     |\n",
      "+---------+-----------------+-----------------+---------------+-----------------+-----------------+-----------------+------------------+-----------------+-----------------+----------------+\n",
      "| Topic 1 |  like (0.040)   | noodle (0.038)  | smell (0.026) |  taste (0.022)  |  rice (0.018)   | texture (0.017) |  pasta (0.016)   | product (0.011) | rubbery (0.010) |  good (0.009)  |\n",
      "| Topic 2 |  like (0.063)   |  Star (0.041)   | taste (0.036) |  smell (0.023)  | texture (0.022) |  fish (0.017)   | horrible (0.017) |   eat (0.017)   |   try (0.013)   | rubber (0.013) |\n",
      "| Topic 3 | noodle (0.025)  | texture (0.018) | smell (0.015) |  sauce (0.014)  |   try (0.013)   | product (0.013) |  rubber (0.013)  |  taste (0.012)  |  like (0.011)   | order (0.011)  |\n",
      "| Topic 4 | texture (0.052) |  like (0.039)   | taste (0.037) |  star (0.029)   |  good (0.021)   | noodle (0.013)  |  flavor (0.012)  |  smell (0.012)  |  pasta (0.011)  | weird (0.011)  |\n",
      "| Topic 5 | noodle (0.044)  |  like (0.029)   | smell (0.019) | texture (0.019) |  taste (0.013)  | package (0.013) | product (0.011)  |  water (0.011)  |   try (0.009)   |  cook (0.008)  |\n",
      "+---------+-----------------+-----------------+---------------+-----------------+-----------------+-----------------+------------------+-----------------+-----------------+----------------+\n"
     ]
    }
   ],
   "source": [
    "from tabulate import tabulate\n",
    "\n",
    "def print_topics_table(lda_model, num_topics, orientation=\"rows\", print_output=True):\n",
    "    topics_words = lda_model.print_topics(num_topics=num_topics)\n",
    "\n",
    "    if orientation == \"rows\":\n",
    "        table_data = []\n",
    "        for idx, topic in topics_words:\n",
    "            words = topic.split(\" + \")\n",
    "            words = [\"{} ({})\".format(word.split('*')[1].replace('\"', ''), word.split('*')[0]) for word in words]\n",
    "            table_data.append([\"Topic {}\".format(idx + 1)] + words)\n",
    "\n",
    "        # Ensure all rows have the same number of columns\n",
    "        max_words = max(len(topic) for topic in table_data)\n",
    "        for topic in table_data:\n",
    "            while len(topic) < max_words:\n",
    "                topic.append(\"\")  # Fill shorter rows with empty strings\n",
    "\n",
    "        headers = [\"Topic\"] + [\"Word {}\".format(i + 1) for i in range(max_words - 1)]\n",
    "\n",
    "    elif orientation == \"columns\":\n",
    "        table_data = [[] for _ in range(num_topics)]\n",
    "        for idx, topic in topics_words:\n",
    "            words = topic.split(\" + \")\n",
    "            words = [\"{} ({})\".format(word.split('*')[1].replace('\"', ''), word.split('*')[0]) for word in words]\n",
    "            table_data[idx].extend(words)\n",
    "\n",
    "        # Transpose the data to have topics as columns\n",
    "        max_words = max(len(topic) for topic in table_data)\n",
    "        for topic in table_data:\n",
    "            while len(topic) < max_words:\n",
    "                topic.append(\"\")  # Fill shorter topics with empty strings\n",
    "\n",
    "        table_data = list(map(list, zip(*table_data)))\n",
    "        headers = [\"Topic {}\".format(i + 1) for i in range(num_topics)]\n",
    "\n",
    "    else:\n",
    "        raise ValueError(\"Invalid orientation. Choose 'rows' or 'columns'.\")\n",
    "\n",
    "    table = tabulate(table_data, headers=headers, tablefmt=\"pretty\")\n",
    "\n",
    "    if print_output:\n",
    "        print(table)\n",
    "    else:\n",
    "        return table\n",
    "\n",
    "# Print the topics for high-rating reviews as rows\n",
    "print(\"High Rating Reviews Topics (Rows):\")\n",
    "print_topics_table(high_lda, num_topics, orientation=\"rows\")\n",
    "\n",
    "# Print the topics for low-rating reviews as columns\n",
    "print(\"Low Rating Reviews Topics (Columns):\")\n",
    "print_topics_table(low_lda, num_topics, orientation=\"rows\")\n"
   ]
  },
  {
   "cell_type": "markdown",
   "id": "74673770",
   "metadata": {},
   "source": [
    "### Interactive Visualization"
   ]
  },
  {
   "cell_type": "code",
   "execution_count": 56,
   "id": "c0066bd4",
   "metadata": {},
   "outputs": [
    {
     "data": {
      "text/markdown": [
       "### High Rating Reviews LDA Visualization"
      ],
      "text/plain": [
       "<IPython.core.display.Markdown object>"
      ]
     },
     "metadata": {},
     "output_type": "display_data"
    },
    {
     "data": {
      "text/html": [
       "\n",
       "<link rel=\"stylesheet\" type=\"text/css\" href=\"https://cdn.jsdelivr.net/gh/bmabey/pyLDAvis@3.4.0/pyLDAvis/js/ldavis.v1.0.0.css\">\n",
       "\n",
       "\n",
       "<div id=\"ldavis_el30462135472268321065461552\" style=\"background-color:white;\"></div>\n",
       "<script type=\"text/javascript\">\n",
       "\n",
       "var ldavis_el30462135472268321065461552_data = {\"mdsDat\": {\"x\": [0.020266846214135725, 0.08623660848277154, 0.019354532679142274, 0.014521326447442268, -0.14037931382349167], \"y\": [-0.06569830919679266, 0.09075377088660752, -0.05517987250669143, -0.007733829322437099, 0.03785824013931352], \"topics\": [1, 2, 3, 4, 5], \"cluster\": [1, 1, 1, 1, 1], \"Freq\": [40.80380264574702, 19.635737703230795, 18.562088491926808, 16.162960939559053, 4.835410219536325]}, \"tinfo\": {\"Term\": [\"star\", \"pasta\", \"love\", \"sauce\", \"carb\", \"great\", \"follow\", \"rice\", \"product\", \"review\", \"taste\", \"good\", \"instruction\", \"substitute\", \"smell\", \"weight\", \"Noodles\", \"Miracle\", \"direction\", \"order\", \"alternative\", \"garlic\", \"noodle\", \"say\", \"lose\", \"veggie\", \"absolutely\", \"rinse\", \"cook\", \"fill\", \"basically\", \"juice\", \"bad\", \"microwave\", \"brine\", \"peanut\", \"fit\", \"dukan\", \"fall\", \"rinsing\", \"Atkins\", \"straight\", \"briny\", \"tablespoon\", \"meet\", \"seed\", \"nuke\", \"People\", \"squeeze\", \"blow\", \"comment\", \"sink\", \"freeze\", \"spicy\", \"PERFECT\", \"jicama\", \"Satisfying\", \"drop\", \"fake\", \"paprika\", \"Thai\", \"glass\", \"container\", \"water\", \"one\", \"cold\", \"drain\", \"minute\", \"cool\", \"skillet\", \"add\", \"boiling\", \"rinse\", \"dump\", \"fettuccini\", \"meat\", \"colander\", \"noodle\", \"smell\", \"sauce\", \"fishy\", \"meal\", \"chicken\", \"boil\", \"stir\", \"little\", \"say\", \"like\", \"time\", \"prepare\", \"diet\", \"go\", \"soup\", \"texture\", \"dish\", \"cook\", \"sure\", \"flavor\", \"taste\", \"calorie\", \"good\", \"rice\", \"great\", \"love\", \"package\", \"pasta\", \"carb\", \"star\", \"Ketogenic\", \"best\", \"Super\", \"deliver\", \"convenient\", \"possibly\", \"afraid\", \"basis\", \"Alternative\", \"subscription\", \"large\", \"barley\", \"frequently\", \"Healthy\", \"nonstick\", \"restriction\", \"mushy\", \"damage\", \"sub\", \"ask\", \"Prime\", \"moist\", \"Best\", \"spagetti\", \"couscous\", \"advantage\", \"digest\", \"NOODLE\", \"pallet\", \"reorder\", \"alternative\", \"fried\", \"love\", \"lifestyle\", \"carb\", \"substitute\", \"Rice\", \"great\", \"rice\", \"product\", \"thank\", \"perfect\", \"decent\", \"good\", \"easy\", \"pasta\", \"Miracle\", \"taste\", \"healthy\", \"nice\", \"order\", \"diet\", \"Noodle\", \"awesome\", \"replacement\", \"expect\", \"noodle\", \"regular\", \"texture\", \"free\", \"like\", \"delicious\", \"calorie\", \"miracle\", \"cook\", \"flavor\", \"sauce\", \"benefit\", \"daily\", \"chew\", \"nasty\", \"potato\", \"Pack\", \"taco\", \"honest\", \"careful\", \"instruction\", \"clear\", \"kimchi\", \"buyer\", \"major\", \"Youtube\", \"grease\", \"Variety\", \"fight\", \"death\", \"Ziti\", \"waste\", \"aftertaste\", \"consistent\", \"press\", \"choke\", \"stupid\", \"index\", \"household\", \"nervous\", \"obviously\", \"follow\", \"ounce\", \"Love\", \"chance\", \"fine\", \"market\", \"weird\", \"available\", \"flavorful\", \"simply\", \"direction\", \"sweet\", \"night\", \"ZERO\", \"pleasantly\", \"worried\", \"morning\", \"happy\", \"smell\", \"open\", \"find\", \"like\", \"noodle\", \"zero\", \"taste\", \"away\", \"food\", \"flavor\", \"rinse\", \"amazing\", \"cook\", \"package\", \"sure\", \"rice\", \"fishy\", \"calorie\", \"little\", \"carb\", \"good\", \"great\", \"texture\", \"go\", \"love\", \"sauce\", \"free\", \"pasta\", \"try\", \"product\", \"interesting\", \"Euro\", \"and/or\", \"conventional\", \"list\", \"service\", \"wonder\", \"grandmother\", \"dice\", \"bomb\", \"Konjac\", \"mein\", \"Cincinnati\", \"unable\", \"picture\", \"fruit\", \"carbe\", \"sieve\", \"task\", \"boy\", \"trade\", \"feta\", \"prior\", \"Style\", \"grated\", \"Balsamic\", \"Whisked\", \"aromatic\", \"udon\", \"diabetes\", \"comfort\", \"gelatinous\", \"standard\", \"pasta\", \"loss\", \"loose\", \"suck\", \"easily\", \"weight\", \"actual\", \"product\", \"occasionally\", \"wonderful\", \"diabetic\", \"dish\", \"recommend\", \"substitute\", \"great\", \"sauce\", \"carb\", \"work\", \"good\", \"like\", \"want\", \"give\", \"real\", \"noodle\", \"flavor\", \"asian\", \"calorie\", \"have\", \"eat\", \"rinse\", \"hard\", \"cook\", \"try\", \"smell\", \"diet\", \"minute\", \"taste\", \"package\", \"texture\", \"boil\", \"rice\", \"love\", \"thumb\", \"AMAZING\", \"nood\", \"hide\", \"teenage\", \"inedible\", \"clam\", \"Mircle\", \"absoulutely\", \"craze\", \"upper\", \"granddaughter\", \"subitute\", \"pay\", \"a++++\", \"Seller\", \"system\", \"mark\", \"doodle\", \"chilli\", \"yeast\", \"Replacement\", \"dupe\", \"carbing\", \"creepy\", \"garlicky\", \"Chewy\", \"Tastey\", \"avocado\", \"obsess\", \"Fettuccine\", \"daughter\", \"baked\", \"receive\", \"post\", \"Delicious\", \"friend\", \"review\", \"Angel\", \"Hair\", \"wife\", \"soupy\", \"Noodles\", \"garlic\", \"baby\", \"sauce\", \"follow\", \"powder\", \"weight\", \"absolutely\", \"love\", \"lose\", \"direction\", \"Awesome\", \"Miracle\", \"Pasta\", \"fill\", \"veggie\", \"get\", \"pasta\", \"read\", \"noodle\", \"order\", \"taste\", \"say\", \"cook\", \"good\", \"stir\", \"product\", \"time\", \"calorie\", \"delicious\", \"try\", \"smell\"], \"Freq\": [392.0, 822.0, 691.0, 582.0, 658.0, 781.0, 186.0, 602.0, 370.0, 121.0, 588.0, 637.0, 102.0, 216.0, 517.0, 95.0, 97.0, 161.0, 102.0, 126.0, 129.0, 60.0, 1702.0, 80.0, 71.0, 79.0, 55.0, 565.0, 373.0, 113.0, 20.562903202947563, 11.896782657515828, 10.87037916609682, 56.379096129957944, 8.945966508068885, 12.495375233479725, 8.008317613975002, 7.926951169328175, 8.80579612170841, 7.027731653317651, 7.020673025325179, 7.85786867269196, 6.981597674246586, 6.946546708775558, 6.933328584433375, 8.624279802267466, 6.056627634731254, 6.052046195488122, 6.050681544844746, 6.914324948107144, 6.042045905855809, 6.035146809655682, 6.879659474213029, 10.926769731778064, 5.078811250600033, 5.078634981045868, 5.0584638858327, 11.83337896963206, 5.053547691353171, 5.8984034800278256, 26.819413712386723, 13.47637022319155, 6.726666393133366, 265.6957332614203, 26.408051832360083, 55.18618747617513, 112.83061655531046, 211.83185826009782, 17.72259289536572, 29.42896468219852, 113.04983939074616, 41.6405888239865, 353.4613924827429, 15.980394835279652, 18.70318931712421, 44.16048397261017, 38.43697284278308, 898.9421378216455, 293.3921094510375, 314.5613610903323, 110.05803978537315, 98.53373927939664, 83.54746706964616, 123.76000679292345, 97.89778801905081, 121.8966921960886, 53.286836478142106, 369.4168647906728, 112.48077222663251, 95.48488901286063, 162.5596534588194, 106.09884776009731, 89.55517702629369, 182.8013652891044, 125.21625902229914, 160.05933312264406, 81.20598809314136, 149.90903548446042, 208.4014539751161, 160.79574442943274, 209.59373496283067, 198.78494029912983, 207.54645562583366, 183.6805162286929, 104.59509376267684, 169.5131222782176, 133.28976028051645, 383.9344527318598, 8.224093755530676, 7.353570228042388, 6.408202855753469, 5.470133957712864, 6.0872688367603525, 3.7726416477693854, 3.7705459415826192, 4.5285844657315195, 3.7418295313340555, 5.26010271660994, 9.663237293790933, 2.8726805716437407, 2.8703890379992156, 2.8674916474256076, 2.86693638345155, 2.8651039619959104, 6.429321009617227, 2.854693895160424, 2.847986175466559, 2.838254456958401, 2.8358207092860686, 2.831821600482882, 4.146540449724045, 2.743238873771101, 5.5262720012913364, 2.7353962106234615, 2.7254575895828124, 4.562187752705529, 1.9785725466607766, 6.390814485011918, 78.48040398469425, 7.658453443274072, 358.8229491037757, 19.961950293797848, 293.34385323053715, 107.02112126136161, 26.148535366628888, 318.6938374496479, 250.56930492565183, 150.82661806828904, 20.658054986396085, 47.1399078158058, 7.8700749644259975, 206.31233974505383, 54.20747279690949, 243.30268661956697, 65.09785958256778, 177.0718549465269, 37.46721140136886, 34.97337037354142, 49.15401285194701, 97.87137779386468, 28.147427277388385, 40.70867232849742, 32.71955641990325, 38.11136191157484, 268.20941010220844, 50.04988571525912, 93.43579828184413, 58.49931394810975, 141.53394572725225, 43.09460991003706, 83.0287237301855, 42.91510509878263, 64.32799690590512, 47.19303595611964, 39.0393081913105, 7.505277307190651, 6.602558237794403, 8.886986847016255, 5.617822944574257, 5.599623132199465, 4.7650186832620784, 4.7416897636345015, 3.8412711307255383, 4.56235660561451, 84.08534128599857, 8.133990311082307, 2.9367477367654624, 2.9351687445716657, 2.9349122416203524, 2.9341865143462296, 2.9303411115668525, 2.9288382612509967, 2.928179634006809, 2.926109764643663, 2.924748014745366, 2.92449698449153, 2.921504132801721, 2.919640798282489, 2.9155717287366607, 2.9151924470071684, 2.91048664100706, 2.906482054114113, 2.881787101607605, 5.558401347142545, 6.40715581232175, 115.76277620688836, 7.507854709758946, 4.78941120974714, 10.082396246990285, 29.318473882672155, 9.294674255847978, 23.97471696533137, 6.385158423784662, 6.3316235452912455, 11.044512643594652, 47.18759637092639, 6.933865349430056, 21.382480055666598, 10.127388482665484, 11.859392539051484, 6.818477092278195, 4.628796580645412, 25.85776652030889, 146.8365354769004, 59.8284615564882, 58.88443551830908, 179.47129461495166, 306.00266433524683, 34.487903970467556, 129.44448182843098, 36.806804863153616, 49.744551037900365, 86.54510465287504, 114.99945388053217, 37.40553890615304, 84.19115565377285, 60.06959526973881, 44.13179819062349, 112.95722972971949, 49.75942916084999, 85.91305853827653, 53.23983252348958, 103.19889426701857, 96.48088114792911, 106.43575402597072, 70.86178895821335, 46.151682314448365, 80.61475641851943, 72.27447967639958, 45.19328068971403, 63.03460948897294, 43.09391586660069, 40.080174652578364, 11.156908752119378, 5.3792329937651395, 5.377469396952841, 4.501441217685894, 4.496647681989308, 4.492224601074253, 5.1182865517980405, 3.6457010318235854, 3.6452195234833855, 3.64501772093461, 3.6438578742528374, 3.640320321154484, 3.639894753972569, 3.6371722842693726, 3.634877453642843, 3.6105811726523585, 3.548999488096598, 7.837916516047806, 2.779496327140933, 2.7780501446045323, 2.777247078198932, 2.7774457729055806, 2.777344871631193, 2.7768569404172636, 2.776778622795665, 2.7768177816064643, 2.7767351130058877, 2.7749795965831194, 2.7745107268009024, 2.76203377660863, 8.546351200777606, 5.9026420902783325, 4.489127118421074, 321.17620028000033, 14.271265744911277, 4.426584489079665, 4.502054498532276, 13.198072331700963, 41.7755740898937, 7.41989103102741, 120.93265782623875, 4.299120280843415, 30.31695519533348, 20.763183294604232, 72.51529526543854, 36.22416581353841, 57.61797419986667, 141.9394163828363, 111.69507032468286, 121.26963741865187, 37.53727966640078, 108.14727709371046, 128.02926531791698, 35.60909153505967, 19.67812704080593, 28.778826942417748, 195.0122502040597, 64.97581281185083, 35.38037424470679, 70.35146142769624, 16.084085803953123, 36.00881473060507, 69.33149250437287, 12.952198095291603, 50.031965277743986, 36.4071489279092, 55.96010700548435, 43.77150157699141, 39.036721500520414, 53.31679362688258, 33.73527986708723, 39.4953461775713, 31.40394411255579, 40.04561821829287, 30.9854445780163, 2.461114449555974, 2.457524828082903, 2.45643713161914, 2.455489271217734, 2.4470537351369015, 2.4435873379953756, 3.9873179617149495, 1.6935870308646395, 1.6935861630876567, 1.6935867829283586, 1.6935799646806373, 1.6935781051585315, 1.693560997555158, 1.6934602114570227, 1.6930118186932397, 1.6930085955215897, 1.6930622737263776, 1.692664212027592, 1.692179620566816, 1.6923255310680525, 1.6922306954406559, 1.6915954826893083, 1.6914935808779095, 1.691647797244552, 1.690994485144708, 1.6909432863027278, 1.690840144809925, 1.6887458270462126, 1.6880699527448177, 1.6884258652758715, 3.22547175496131, 7.808166049918893, 3.9095936567359684, 7.486665091146752, 3.998086578197882, 10.226519672938318, 8.314312595073147, 22.97927797862257, 9.360508988287492, 8.596194823795011, 5.359587506655221, 2.389859298014993, 16.893894200438503, 11.804892945553002, 2.918880444433617, 45.23753741784684, 21.736992252050626, 6.478312700084892, 13.52977970043905, 9.761764106369327, 37.75703800613042, 10.805439979353306, 13.109475142032656, 3.8869089746626733, 14.478365067529673, 6.632322287869232, 11.501842413051067, 9.736664029048715, 7.685695444666911, 25.454294959250483, 8.859318689385946, 34.06959079411646, 11.493697210355021, 20.687317312816997, 9.114708926506921, 15.108690498910454, 16.891472358847885, 10.623600535797012, 12.486035397041578, 9.721009332280534, 10.648397139109955, 9.04687058485131, 8.909161815782852, 8.72192727875688], \"Total\": [392.0, 822.0, 691.0, 582.0, 658.0, 781.0, 186.0, 602.0, 370.0, 121.0, 588.0, 637.0, 102.0, 216.0, 517.0, 95.0, 97.0, 161.0, 102.0, 126.0, 129.0, 60.0, 1702.0, 80.0, 71.0, 79.0, 55.0, 565.0, 373.0, 113.0, 21.40819954477715, 12.61710299675138, 11.635737862417942, 60.86997249964181, 9.681142714293589, 13.570952665908122, 8.707079691293218, 8.701567810647388, 9.673898196953052, 7.729004618235196, 7.728065912774663, 8.692651915031929, 7.723489761851224, 7.723642787687434, 7.720850804800964, 9.609023373438447, 6.752436934112076, 6.751199555795098, 6.751695833103744, 7.716564048908934, 6.750200577528366, 6.749028676533538, 7.70428970921994, 12.409186811627755, 5.7740020161915595, 5.774407110833857, 5.77165365573642, 13.510630538922, 5.770947979587293, 6.738945932065683, 30.954006736986546, 15.46680974600832, 7.692129452440979, 318.21097658719896, 30.872025496771805, 65.52227908980908, 138.21895751652943, 275.33819900257294, 20.82149917117498, 35.675184049451886, 155.12038478029822, 53.60870179140913, 565.1690594161543, 19.186378708985806, 22.852164041700313, 59.56930023459822, 51.08003626014998, 1702.236053257277, 517.8941020847678, 582.8077567005721, 177.22412692883088, 157.21657861259288, 129.97172420240622, 205.57132522873627, 157.67450310017873, 208.31098540221254, 80.20542655291659, 827.1350362027011, 200.60456715981366, 165.18704171848472, 324.5363508937636, 190.97960240850549, 157.34361552241742, 391.7226340608187, 262.4873598188765, 373.7191414589765, 144.83798825637427, 351.9191577072401, 588.9219016897736, 410.73738526470095, 637.425705308372, 602.5505959883826, 781.8726377622041, 691.8607043351348, 226.84179929357313, 822.4809136260083, 658.6736104463668, 392.6511422890533, 8.982466411944658, 8.085072450397746, 7.190463113418983, 6.282098054389739, 7.216181334671971, 4.485161019068511, 4.484612088083486, 5.397085305622213, 4.487242244312246, 6.310250480057605, 11.794844680432325, 3.584659107460872, 3.5851765492546686, 3.584691900274041, 3.5852388572654657, 3.584734564273366, 8.051061616309688, 3.587223526637165, 3.587935162603868, 3.585688557136659, 3.587830589692178, 3.5859908481139504, 5.357179150762708, 3.5661848594311856, 7.203524430416257, 3.58738322928968, 3.5821974962058643, 6.139253058079712, 2.6856857835687826, 8.717908630222697, 129.60555534695948, 10.826114404171609, 691.8607043351348, 31.062696926640665, 658.6736104463668, 216.08704610650256, 44.56712483762031, 781.8726377622041, 602.5505959883826, 370.6534180147406, 35.8744263584563, 102.00929334857442, 11.929029742522923, 637.425705308372, 127.924884653548, 822.4809136260083, 161.60423879753935, 588.9219016897736, 85.95593432230069, 79.65262194900774, 126.31100217626516, 324.5363508937636, 63.25856113204024, 105.55058171893391, 78.9016606501073, 99.44252637685216, 1702.236053257277, 152.9129603469646, 391.7226340608187, 201.06073849416583, 827.1350362027011, 131.5022037668283, 410.73738526470095, 138.58330021600548, 373.7191414589765, 351.9191577072401, 582.8077567005721, 8.233515781380174, 7.315266720660731, 10.093188443933055, 6.401487098738686, 6.391499503694702, 5.477702885591401, 5.4798277490185425, 4.559706085469163, 5.466963791701296, 102.47067350457003, 10.005418644952274, 3.641733758373876, 3.6413268837484534, 3.6414497926466622, 3.6412513899953662, 3.6408190276637913, 3.6399483192035134, 3.6412188593678456, 3.640719358572905, 3.640042195544751, 3.6402602843953664, 3.640455618006425, 3.6392284671078894, 3.640111303158068, 3.64008047340921, 3.6402476540858864, 3.6397234089250206, 3.6381471882552616, 7.181745123008058, 8.289191161942721, 186.24747981750966, 10.077761439702208, 6.251590955308828, 14.522158868050216, 53.00399802264029, 13.943799474545138, 42.64839326269593, 9.065784630099932, 9.03221100658865, 17.63679824517065, 102.54466339623869, 10.222024792505247, 40.24215993739876, 16.36136410914918, 19.889251200180016, 10.234007482979461, 6.353737611780529, 53.8671100604884, 517.8941020847678, 171.94332042734678, 168.4835479254889, 827.1350362027011, 1702.236053257277, 89.17414154456432, 588.9219016897736, 100.37927046290382, 156.9556229840859, 351.9191577072401, 565.1690594161543, 108.95915904240042, 373.7191414589765, 226.84179929357313, 144.83798825637427, 602.5505959883826, 177.22412692883088, 410.73738526470095, 208.31098540221254, 658.6736104463668, 637.425705308372, 781.8726377622041, 391.7226340608187, 190.97960240850549, 691.8607043351348, 582.8077567005721, 201.06073849416583, 822.4809136260083, 206.27960109347757, 370.6534180147406, 12.19882658929853, 6.099983810971719, 6.099341215528315, 5.23057574171243, 5.229862818019054, 5.231835505216934, 6.085039875873531, 4.361713514866795, 4.36204327869129, 4.361999319067393, 4.361534611113333, 4.361627487772773, 4.362520650214325, 4.3619846640574425, 4.360732627671428, 4.36611202418404, 4.3712995831783035, 9.696064617011956, 3.4928101411421837, 3.4928562192943784, 3.4926133061100786, 3.492897703864786, 3.4929390741087736, 3.493000490014894, 3.4929394947538204, 3.4930551329472648, 3.4930633767900323, 3.492719438781361, 3.4925169208305546, 3.49159812805724, 11.385609835772637, 7.987265951039382, 6.000347054156228, 822.4809136260083, 23.130723516710933, 6.009233404138218, 6.195753053018002, 22.728861164317173, 95.85696613255611, 11.669446970566021, 370.6534180147406, 6.009777775498356, 73.10041723966377, 45.27714455943501, 262.4873598188765, 109.21171289980097, 216.08704610650256, 781.8726377622041, 582.8077567005721, 658.6736104463668, 130.88080844277223, 637.425705308372, 827.1350362027011, 128.66267186873083, 53.44476778697473, 94.27322013627625, 1702.236053257277, 351.9191577072401, 135.44055789905272, 410.73738526470095, 40.30363675220484, 168.5513221488297, 565.1690594161543, 30.152759522331497, 373.7191414589765, 206.27960109347757, 517.8941020847678, 324.5363508937636, 275.33819900257294, 588.9219016897736, 226.84179929357313, 391.7226340608187, 205.57132522873627, 602.5505959883826, 691.8607043351348, 3.1964840839278823, 3.197317342311164, 3.198162468638527, 3.1982149173699175, 3.199122831244176, 3.199483248911279, 5.637274134609765, 2.4266851414873805, 2.426685075115807, 2.42668602180372, 2.426680842462584, 2.426678658571899, 2.4266660198538315, 2.42672841635066, 2.426627254797691, 2.4266270123449463, 2.426838847787466, 2.426819395452433, 2.4265975305370118, 2.4269495915383184, 2.4268918115868967, 2.426642008174565, 2.4265771139370154, 2.4270869521174196, 2.4269287312664796, 2.426888086614198, 2.4271101423277575, 2.4268609512437744, 2.4265422536516357, 2.4273459771457384, 4.866344542800298, 14.255149199867844, 6.48545770179876, 17.054509626400847, 7.50931311064206, 27.873777945332826, 23.448009658248335, 121.40110070437922, 31.61906903485152, 28.115843410555264, 13.936292797371333, 4.188129712722569, 97.36565242692839, 60.00078206534293, 6.0039918326333765, 582.8077567005721, 186.24747981750966, 24.260216739947285, 95.85696613255611, 55.20460824387397, 691.8607043351348, 71.3145507821976, 102.54466339623869, 11.002551344620894, 161.60423879753935, 33.932713522547715, 113.13026258857249, 79.24023755437122, 46.83241432926214, 822.4809136260083, 67.18636380587208, 1702.236053257277, 126.31100217626516, 588.9219016897736, 80.20542655291659, 373.7191414589765, 637.425705308372, 157.67450310017873, 370.6534180147406, 200.60456715981366, 410.73738526470095, 131.5022037668283, 206.27960109347757, 517.8941020847678], \"Category\": [\"Default\", \"Default\", \"Default\", \"Default\", \"Default\", \"Default\", \"Default\", \"Default\", \"Default\", \"Default\", \"Default\", \"Default\", \"Default\", \"Default\", \"Default\", \"Default\", \"Default\", \"Default\", \"Default\", \"Default\", \"Default\", \"Default\", \"Default\", \"Default\", \"Default\", \"Default\", \"Default\", \"Default\", \"Default\", \"Default\", \"Topic1\", \"Topic1\", \"Topic1\", \"Topic1\", \"Topic1\", \"Topic1\", \"Topic1\", \"Topic1\", \"Topic1\", \"Topic1\", \"Topic1\", \"Topic1\", \"Topic1\", \"Topic1\", \"Topic1\", \"Topic1\", \"Topic1\", \"Topic1\", \"Topic1\", \"Topic1\", \"Topic1\", \"Topic1\", \"Topic1\", \"Topic1\", \"Topic1\", \"Topic1\", \"Topic1\", \"Topic1\", \"Topic1\", \"Topic1\", \"Topic1\", \"Topic1\", \"Topic1\", \"Topic1\", \"Topic1\", \"Topic1\", \"Topic1\", \"Topic1\", \"Topic1\", \"Topic1\", \"Topic1\", \"Topic1\", \"Topic1\", \"Topic1\", \"Topic1\", \"Topic1\", \"Topic1\", \"Topic1\", \"Topic1\", \"Topic1\", \"Topic1\", \"Topic1\", \"Topic1\", \"Topic1\", \"Topic1\", \"Topic1\", \"Topic1\", \"Topic1\", \"Topic1\", \"Topic1\", \"Topic1\", \"Topic1\", \"Topic1\", \"Topic1\", \"Topic1\", \"Topic1\", \"Topic1\", \"Topic1\", \"Topic1\", \"Topic1\", \"Topic1\", \"Topic1\", \"Topic1\", \"Topic1\", \"Topic1\", \"Topic1\", \"Topic1\", \"Topic2\", \"Topic2\", \"Topic2\", \"Topic2\", \"Topic2\", \"Topic2\", \"Topic2\", \"Topic2\", \"Topic2\", \"Topic2\", \"Topic2\", \"Topic2\", \"Topic2\", \"Topic2\", \"Topic2\", \"Topic2\", \"Topic2\", \"Topic2\", \"Topic2\", \"Topic2\", \"Topic2\", \"Topic2\", \"Topic2\", \"Topic2\", \"Topic2\", \"Topic2\", \"Topic2\", \"Topic2\", \"Topic2\", \"Topic2\", \"Topic2\", \"Topic2\", \"Topic2\", \"Topic2\", \"Topic2\", \"Topic2\", \"Topic2\", \"Topic2\", \"Topic2\", \"Topic2\", \"Topic2\", \"Topic2\", \"Topic2\", \"Topic2\", \"Topic2\", \"Topic2\", \"Topic2\", \"Topic2\", \"Topic2\", \"Topic2\", \"Topic2\", \"Topic2\", \"Topic2\", \"Topic2\", \"Topic2\", \"Topic2\", \"Topic2\", \"Topic2\", \"Topic2\", \"Topic2\", \"Topic2\", \"Topic2\", \"Topic2\", \"Topic2\", \"Topic2\", \"Topic2\", \"Topic2\", \"Topic2\", \"Topic3\", \"Topic3\", \"Topic3\", \"Topic3\", \"Topic3\", \"Topic3\", \"Topic3\", \"Topic3\", \"Topic3\", \"Topic3\", \"Topic3\", \"Topic3\", \"Topic3\", \"Topic3\", \"Topic3\", \"Topic3\", \"Topic3\", \"Topic3\", \"Topic3\", \"Topic3\", \"Topic3\", \"Topic3\", \"Topic3\", \"Topic3\", \"Topic3\", \"Topic3\", \"Topic3\", \"Topic3\", \"Topic3\", \"Topic3\", \"Topic3\", \"Topic3\", \"Topic3\", \"Topic3\", \"Topic3\", \"Topic3\", \"Topic3\", \"Topic3\", \"Topic3\", \"Topic3\", \"Topic3\", \"Topic3\", \"Topic3\", \"Topic3\", \"Topic3\", \"Topic3\", \"Topic3\", \"Topic3\", \"Topic3\", \"Topic3\", \"Topic3\", \"Topic3\", \"Topic3\", \"Topic3\", \"Topic3\", \"Topic3\", \"Topic3\", \"Topic3\", \"Topic3\", \"Topic3\", \"Topic3\", \"Topic3\", \"Topic3\", \"Topic3\", \"Topic3\", \"Topic3\", \"Topic3\", \"Topic3\", \"Topic3\", \"Topic3\", \"Topic3\", \"Topic3\", \"Topic3\", \"Topic3\", \"Topic3\", \"Topic3\", \"Topic3\", \"Topic3\", \"Topic4\", \"Topic4\", \"Topic4\", \"Topic4\", \"Topic4\", \"Topic4\", \"Topic4\", \"Topic4\", \"Topic4\", \"Topic4\", \"Topic4\", \"Topic4\", \"Topic4\", \"Topic4\", \"Topic4\", \"Topic4\", \"Topic4\", \"Topic4\", \"Topic4\", \"Topic4\", \"Topic4\", \"Topic4\", \"Topic4\", \"Topic4\", \"Topic4\", \"Topic4\", \"Topic4\", \"Topic4\", \"Topic4\", \"Topic4\", \"Topic4\", \"Topic4\", \"Topic4\", \"Topic4\", \"Topic4\", \"Topic4\", \"Topic4\", \"Topic4\", \"Topic4\", \"Topic4\", \"Topic4\", \"Topic4\", \"Topic4\", \"Topic4\", \"Topic4\", \"Topic4\", \"Topic4\", \"Topic4\", \"Topic4\", \"Topic4\", \"Topic4\", \"Topic4\", \"Topic4\", \"Topic4\", \"Topic4\", \"Topic4\", \"Topic4\", \"Topic4\", \"Topic4\", \"Topic4\", \"Topic4\", \"Topic4\", \"Topic4\", \"Topic4\", \"Topic4\", \"Topic4\", \"Topic4\", \"Topic4\", \"Topic4\", \"Topic4\", \"Topic4\", \"Topic4\", \"Topic4\", \"Topic4\", \"Topic4\", \"Topic5\", \"Topic5\", \"Topic5\", \"Topic5\", \"Topic5\", \"Topic5\", \"Topic5\", \"Topic5\", \"Topic5\", \"Topic5\", \"Topic5\", \"Topic5\", \"Topic5\", \"Topic5\", \"Topic5\", \"Topic5\", \"Topic5\", \"Topic5\", \"Topic5\", \"Topic5\", \"Topic5\", \"Topic5\", \"Topic5\", \"Topic5\", \"Topic5\", \"Topic5\", \"Topic5\", \"Topic5\", \"Topic5\", \"Topic5\", \"Topic5\", \"Topic5\", \"Topic5\", \"Topic5\", \"Topic5\", \"Topic5\", \"Topic5\", \"Topic5\", \"Topic5\", \"Topic5\", \"Topic5\", \"Topic5\", \"Topic5\", \"Topic5\", \"Topic5\", \"Topic5\", \"Topic5\", \"Topic5\", \"Topic5\", \"Topic5\", \"Topic5\", \"Topic5\", \"Topic5\", \"Topic5\", \"Topic5\", \"Topic5\", \"Topic5\", \"Topic5\", \"Topic5\", \"Topic5\", \"Topic5\", \"Topic5\", \"Topic5\", \"Topic5\", \"Topic5\", \"Topic5\", \"Topic5\", \"Topic5\", \"Topic5\", \"Topic5\", \"Topic5\", \"Topic5\", \"Topic5\", \"Topic5\"], \"logprob\": [30.0, 29.0, 28.0, 27.0, 26.0, 25.0, 24.0, 23.0, 22.0, 21.0, 20.0, 19.0, 18.0, 17.0, 16.0, 15.0, 14.0, 13.0, 12.0, 11.0, 10.0, 9.0, 8.0, 7.0, 6.0, 5.0, 4.0, 3.0, 2.0, 1.0, -6.7731, -7.3203, -7.4105, -5.7645, -7.6054, -7.2712, -7.7161, -7.7263, -7.6212, -7.8467, -7.8477, -7.7351, -7.8533, -7.8583, -7.8602, -7.642, -7.9954, -7.9962, -7.9964, -7.863, -7.9978, -7.999, -7.868, -7.4054, -8.1715, -8.1715, -8.1755, -7.3256, -8.1765, -8.0219, -6.5074, -7.1956, -7.8905, -4.2142, -6.5229, -5.7859, -5.0707, -4.4408, -6.9217, -6.4146, -5.0687, -6.0675, -3.9288, -7.0252, -6.8679, -6.0087, -6.1476, -2.9954, -4.1151, -4.0454, -5.0956, -5.2062, -5.3712, -4.9782, -5.2126, -4.9934, -5.8209, -3.8846, -5.0738, -5.2376, -4.7055, -5.1322, -5.3017, -4.5882, -4.9665, -4.721, -5.3996, -4.7865, -4.4571, -4.7164, -4.4514, -4.5043, -4.4612, -4.5834, -5.1465, -4.6636, -4.904, -3.1147, -6.9581, -7.07, -7.2076, -7.3658, -7.2589, -7.7374, -7.7379, -7.5547, -7.7456, -7.405, -6.7968, -8.0099, -8.0107, -8.0117, -8.0119, -8.0125, -7.2043, -8.0162, -8.0185, -8.022, -8.0228, -8.0242, -7.6429, -8.056, -7.3556, -8.0589, -8.0625, -7.5473, -8.3828, -7.2103, -4.7023, -7.0293, -3.1823, -6.0713, -3.3838, -4.3921, -5.8014, -3.3009, -3.5414, -4.049, -6.037, -5.212, -7.0021, -3.7358, -5.0723, -3.5708, -4.8893, -3.8886, -5.4417, -5.5106, -5.1702, -4.4815, -5.7277, -5.3587, -5.5772, -5.4246, -3.4734, -5.1521, -4.5279, -4.9961, -4.1126, -5.3018, -4.646, -5.3059, -4.9012, -5.2109, -5.4006, -6.9933, -7.1215, -6.8243, -7.283, -7.2862, -7.4476, -7.4525, -7.6631, -7.4911, -4.5771, -6.9129, -7.9316, -7.9322, -7.9322, -7.9325, -7.9338, -7.9343, -7.9345, -7.9352, -7.9357, -7.9358, -7.9368, -7.9375, -7.9389, -7.939, -7.9406, -7.942, -7.9505, -7.2936, -7.1515, -4.2574, -6.993, -7.4425, -6.6981, -5.6307, -6.7795, -5.8319, -7.1549, -7.1634, -6.607, -5.1548, -7.0725, -5.9463, -6.6937, -6.5358, -7.0893, -7.4766, -5.7563, -4.0196, -4.9174, -4.9333, -3.8189, -3.2853, -5.4683, -4.1457, -5.4032, -5.102, -4.5483, -4.264, -5.3871, -4.5758, -4.9134, -5.2217, -4.2819, -5.1017, -4.5556, -5.0341, -4.3723, -4.4396, -4.3414, -4.7482, -5.177, -4.6192, -4.7284, -5.198, -4.8652, -5.2455, -5.318, -6.4585, -7.188, -7.1883, -7.3661, -7.3672, -7.3682, -7.2377, -7.577, -7.5771, -7.5772, -7.5775, -7.5784, -7.5786, -7.5793, -7.5799, -7.5867, -7.6039, -6.8115, -7.8482, -7.8488, -7.8491, -7.849, -7.849, -7.8492, -7.8492, -7.8492, -7.8492, -7.8499, -7.85, -7.8546, -6.725, -7.0951, -7.3689, -3.0985, -6.2123, -7.3829, -7.366, -6.2904, -5.1382, -6.8664, -4.0753, -7.4121, -5.4588, -5.8373, -4.5867, -5.2808, -4.8167, -3.9151, -4.1547, -4.0725, -5.2452, -4.187, -4.0183, -5.2979, -5.891, -5.5109, -3.5975, -4.6965, -5.3044, -4.617, -6.0927, -5.2868, -4.6316, -6.3093, -4.9579, -5.2758, -4.8459, -5.0915, -5.206, -4.8943, -5.352, -5.1943, -5.4236, -5.1805, -5.437, -6.7631, -6.7646, -6.7651, -6.7654, -6.7689, -6.7703, -6.2806, -7.1369, -7.1369, -7.1369, -7.1369, -7.1369, -7.1369, -7.137, -7.1373, -7.1373, -7.1372, -7.1375, -7.1377, -7.1377, -7.1377, -7.1381, -7.1382, -7.1381, -7.1384, -7.1385, -7.1385, -7.1398, -7.1402, -7.14, -6.4927, -5.6086, -6.3003, -5.6506, -6.2779, -5.3388, -5.5458, -4.5292, -5.4273, -5.5124, -5.9849, -6.7925, -4.8368, -5.1952, -6.5926, -3.8518, -4.5847, -5.7953, -5.0589, -5.3853, -4.0326, -5.2837, -5.0904, -6.3061, -4.9911, -5.7718, -5.2213, -5.3879, -5.6244, -4.4269, -5.4823, -4.1354, -5.222, -4.6342, -5.4539, -4.9485, -4.837, -5.3007, -5.1392, -5.3895, -5.2984, -5.4613, -5.4767, -5.4979], \"loglift\": [30.0, 29.0, 28.0, 27.0, 26.0, 25.0, 24.0, 23.0, 22.0, 21.0, 20.0, 19.0, 18.0, 17.0, 16.0, 15.0, 14.0, 13.0, 12.0, 11.0, 10.0, 9.0, 8.0, 7.0, 6.0, 5.0, 4.0, 3.0, 2.0, 1.0, 0.8561, 0.8376, 0.8284, 0.8198, 0.8174, 0.8138, 0.8127, 0.8032, 0.8024, 0.8013, 0.8004, 0.7954, 0.7954, 0.7904, 0.7888, 0.7883, 0.7876, 0.7871, 0.7868, 0.7866, 0.7856, 0.7846, 0.7832, 0.7692, 0.7681, 0.768, 0.7645, 0.7638, 0.7636, 0.7632, 0.753, 0.7586, 0.7623, 0.716, 0.7402, 0.7247, 0.6934, 0.6342, 0.7352, 0.7039, 0.58, 0.6438, 0.427, 0.7136, 0.696, 0.5971, 0.612, 0.2579, 0.3281, 0.2797, 0.42, 0.4292, 0.4545, 0.3889, 0.4198, 0.3605, 0.4875, 0.0904, 0.3178, 0.3483, 0.205, 0.3086, 0.3328, 0.1342, 0.1562, 0.0484, 0.3178, 0.043, -0.1424, -0.0414, -0.2159, -0.2126, -0.4299, -0.4298, 0.1222, -0.683, -0.7013, 1.6054, 1.5396, 1.533, 1.5126, 1.4894, 1.4577, 1.4548, 1.4544, 1.4524, 1.4462, 1.4458, 1.4285, 1.4064, 1.4055, 1.4046, 1.4042, 1.4037, 1.4029, 1.3994, 1.3969, 1.3941, 1.3926, 1.3917, 1.3717, 1.3655, 1.3628, 1.3567, 1.3545, 1.3309, 1.3223, 1.3173, 1.1262, 1.2817, 0.9713, 1.1856, 0.8189, 0.9252, 1.0946, 0.7304, 0.7504, 0.7287, 1.0759, 0.8559, 1.2119, 0.4998, 0.7692, 0.4098, 0.7186, 0.4261, 0.7975, 0.8047, 0.684, 0.4291, 0.818, 0.6751, 0.7476, 0.6688, -0.2201, 0.511, 0.1945, 0.3932, -0.1376, 0.5122, 0.0291, 0.4556, -0.1317, -0.3813, -1.0755, 1.5914, 1.5815, 1.5568, 1.5535, 1.5518, 1.5447, 1.5394, 1.5126, 1.5032, 1.4863, 1.477, 1.4689, 1.4685, 1.4683, 1.4682, 1.467, 1.4667, 1.4661, 1.4655, 1.4653, 1.4651, 1.464, 1.4637, 1.4621, 1.462, 1.4603, 1.4591, 1.451, 1.4278, 1.4265, 1.2085, 1.3897, 1.4176, 1.3192, 1.0919, 1.2785, 1.1081, 1.3335, 1.3288, 1.216, 0.9079, 1.2959, 1.0517, 1.2044, 1.167, 1.278, 1.3673, 0.9501, 0.4236, 0.6284, 0.6328, 0.1561, -0.0321, 0.7341, 0.169, 0.6808, 0.535, 0.2813, 0.0919, 0.6149, 0.1936, 0.3553, 0.4956, 0.0099, 0.4138, 0.1194, 0.3198, -0.1695, -0.204, -0.3101, -0.0258, 0.2638, -0.4657, -0.4033, 0.1914, -0.8846, 0.1182, -0.5403, 1.7332, 1.6967, 1.6965, 1.6723, 1.6714, 1.67, 1.6494, 1.6431, 1.6429, 1.6429, 1.6427, 1.6417, 1.6414, 1.6407, 1.6404, 1.6324, 1.6141, 1.6097, 1.594, 1.5935, 1.5933, 1.5932, 1.5932, 1.593, 1.593, 1.593, 1.5929, 1.5924, 1.5923, 1.5881, 1.5356, 1.52, 1.5323, 0.8821, 1.3395, 1.5168, 1.5031, 1.2789, 0.9919, 1.3696, 0.7024, 1.4875, 0.9423, 1.0428, 0.536, 0.7189, 0.5006, 0.1162, 0.1704, 0.1302, 0.5735, 0.0485, -0.0433, 0.5379, 0.8233, 0.6359, -0.3442, 0.1331, 0.4801, 0.058, 0.9038, 0.279, -0.2758, 0.9774, -0.1884, 0.088, -0.4027, -0.181, -0.131, -0.5796, -0.0833, -0.4719, -0.0564, -0.8887, -1.2834, 2.7678, 2.766, 2.7653, 2.7649, 2.7612, 2.7597, 2.6829, 2.6695, 2.6695, 2.6695, 2.6695, 2.6695, 2.6695, 2.6694, 2.6692, 2.6692, 2.6692, 2.6689, 2.6687, 2.6687, 2.6686, 2.6684, 2.6683, 2.6682, 2.6679, 2.6679, 2.6677, 2.6666, 2.6663, 2.6662, 2.6179, 2.4273, 2.5231, 2.2059, 2.3989, 2.0265, 1.9924, 1.3647, 1.8119, 1.8442, 2.0736, 2.4682, 1.2777, 1.4034, 2.308, 0.4733, 0.8811, 1.7088, 1.0712, 1.2966, 0.121, 1.1422, 0.9722, 1.9887, 0.6167, 1.3968, 0.7432, 0.9326, 1.222, -0.4462, 1.0032, -0.8821, 0.6323, -0.3196, 0.8545, -0.179, -0.6014, 0.3317, -0.3615, 0.0022, -0.6233, 0.3526, -0.1129, -1.0547]}, \"token.table\": {\"Topic\": [5, 2, 1, 2, 3, 4, 5, 1, 2, 4, 5, 4, 2, 4, 5, 4, 1, 2, 3, 4, 5, 4, 2, 5, 1, 2, 3, 4, 5, 2, 2, 4, 3, 5, 1, 2, 3, 4, 5, 5, 2, 5, 1, 2, 3, 4, 5, 1, 2, 3, 4, 5, 1, 3, 1, 2, 3, 4, 5, 1, 2, 5, 1, 2, 3, 5, 1, 5, 4, 2, 5, 1, 3, 3, 4, 3, 1, 3, 4, 5, 3, 5, 1, 2, 3, 4, 5, 5, 1, 2, 4, 1, 2, 3, 4, 5, 2, 2, 3, 1, 2, 3, 4, 1, 2, 3, 4, 5, 4, 4, 1, 2, 3, 4, 5, 2, 3, 4, 5, 1, 2, 3, 4, 5, 1, 2, 3, 4, 5, 1, 5, 1, 4, 5, 2, 1, 2, 3, 2, 1, 1, 2, 3, 4, 5, 1, 2, 3, 4, 4, 4, 1, 1, 3, 1, 2, 3, 4, 5, 1, 2, 3, 4, 5, 4, 5, 3, 2, 3, 4, 1, 3, 1, 2, 3, 4, 5, 3, 2, 5, 3, 4, 1, 3, 4, 5, 1, 2, 3, 4, 5, 2, 4, 1, 3, 1, 1, 2, 4, 1, 2, 3, 4, 5, 1, 5, 2, 3, 5, 5, 3, 2, 1, 2, 3, 5, 3, 1, 2, 1, 2, 3, 4, 5, 2, 4, 1, 2, 3, 4, 4, 1, 2, 3, 4, 5, 2, 1, 2, 3, 4, 5, 1, 2, 3, 4, 5, 5, 1, 2, 3, 4, 5, 1, 2, 1, 1, 3, 4, 5, 1, 2, 4, 5, 1, 2, 3, 4, 5, 1, 2, 3, 4, 5, 1, 2, 3, 4, 5, 1, 1, 4, 1, 3, 4, 5, 3, 1, 2, 3, 4, 5, 1, 2, 3, 4, 5, 1, 2, 3, 4, 1, 2, 3, 4, 5, 1, 1, 2, 3, 4, 5, 3, 4, 1, 2, 3, 4, 5, 1, 2, 3, 4, 5, 1, 2, 3, 4, 1, 2, 2, 3, 4, 1, 3, 4, 5, 4, 1, 2, 3, 4, 5, 5, 1, 4, 1, 2, 3, 4, 5, 1, 2, 3, 4, 5, 1, 3, 1, 2, 3, 4, 5, 1, 2, 3, 4, 5, 5, 4, 4, 3, 1, 2, 3, 4, 5, 1, 2, 3, 4, 5, 1, 2, 3, 4, 1, 2, 3, 4, 1, 2, 3, 4, 5, 5, 3, 3, 3, 5, 1, 2, 3, 4, 5, 4, 1, 1, 3, 1, 2, 1, 2, 3, 4, 5, 1, 2, 3, 4, 5, 4, 1, 2, 3, 4, 5, 4, 5, 1, 2, 3, 4, 5, 1, 2, 4, 5, 1, 2, 3, 4, 5, 3, 5, 1, 2, 3, 1, 2, 3, 4, 5, 1, 2, 3, 4, 5, 1, 4, 1, 4, 5, 1, 2, 3, 4, 5, 1, 2, 3, 4, 5, 2, 3, 4, 2, 4, 3, 3, 5, 1, 2, 3, 4, 5, 1, 2, 3, 4, 2, 5, 1, 2, 3, 4, 5, 1, 5, 1, 3, 4, 5, 1, 2, 1, 2, 3, 4, 5, 1, 2, 3, 4, 5, 1, 3, 4, 1, 2, 3, 4, 5, 2, 1, 1, 2, 3, 4, 5, 5, 1, 3, 1, 2, 3, 4, 5, 4, 1, 2, 3, 4, 5, 2, 1, 2, 4, 5, 3, 1, 4, 5, 1, 2, 3, 4, 3, 4, 1, 2, 3, 4, 5, 1, 2, 3, 4, 5, 1, 2, 3, 4, 5, 1, 2, 3, 4, 5, 1, 2, 3, 4, 5, 1, 2, 3, 4, 5, 2, 5, 1, 2, 3, 4, 5, 2, 1, 2, 3, 4, 5, 1, 2, 3, 4, 1, 2, 3, 4, 5, 1, 1, 2, 3, 4, 5, 1, 2, 3, 4, 5, 1, 4, 1, 4, 1, 2, 3, 4, 1, 1, 2, 3, 1, 2, 3, 4, 5, 1, 2, 3, 4, 5, 1, 5, 2, 1, 5, 1, 4, 5, 1, 2, 3, 4, 1, 2, 3, 4, 5, 1, 3, 2, 5, 1, 2, 1, 2, 3, 4, 5, 1, 4, 1, 2, 3, 4, 5, 1, 3, 5, 1, 3, 4, 1, 2, 3, 4, 5, 5, 1, 2, 3, 4, 5, 1, 2, 3, 4, 5, 5, 1, 2, 3, 4, 5, 4, 1, 2, 3, 4, 5, 4, 4, 5, 1, 2, 3, 4, 5, 1, 2, 3, 4, 5, 3, 1, 2, 3, 4, 5, 1, 2, 3, 4, 5, 1, 2, 3, 4, 5, 1, 2, 3, 5, 4, 1, 2, 3, 4, 5, 1, 2, 3, 4, 5, 1, 3, 5, 1, 2, 3, 4, 5], \"Freq\": [0.6255243961971916, 0.8914161041940972, 0.34789133063580896, 0.18975890761953218, 0.09487945380976609, 0.09487945380976609, 0.28463836142929827, 0.9057893758940184, 0.45444005152900113, 0.18177602061160048, 0.36355204122320095, 0.8588470223969097, 0.7466616081768547, 0.18666540204421367, 0.8240252327740961, 0.9169011039073214, 0.3946361351365302, 0.035876012285139106, 0.07175202457027821, 0.10762803685541733, 0.3587601228513911, 0.8196743065132015, 0.20549305360622047, 0.6164791608186614, 0.3556713506323554, 0.14226854025294217, 0.14226854025294217, 0.07113427012647108, 0.32010421556911983, 0.8368920073077012, 0.8906239815560902, 0.9171083934099409, 0.7997964095450004, 0.1599592819090001, 0.24751826002604244, 0.4022171725423189, 0.1423229995149744, 0.11757117351237016, 0.08663139100911485, 0.8241695495667585, 0.8144313245761436, 0.16288626491522873, 0.12646509589905972, 0.442627835646709, 0.14227323288644217, 0.18969764384858956, 0.09484882192429478, 0.28757574464992797, 0.236222933105298, 0.17459955925174198, 0.133517310016038, 0.17459955925174198, 0.8659505116172302, 0.9127913843505542, 0.02947008642074902, 0.4420512963112353, 0.1768205185244941, 0.1768205185244941, 0.20629060494524312, 0.8887309507611455, 0.8361598812995762, 0.824184199095974, 0.11219032006703213, 0.5833896643485671, 0.15706644809384498, 0.13462838408043856, 0.8663028480634009, 0.8241892923079762, 0.858860457814367, 0.8344386036558178, 0.8241098440250535, 0.8722618764483903, 0.09691798627204337, 0.8241875260076369, 0.8588449954655173, 0.8238925794145231, 0.1833587945348895, 0.6111959817829651, 0.12223919635659301, 0.06111959817829651, 0.8241662702899065, 0.8241892099603658, 0.47097517448437304, 0.289830876605768, 0.0181144297878605, 0.0543432893635815, 0.181144297878605, 0.8241695721083856, 0.25708159157558486, 0.08569386385852829, 0.599857047009698, 0.7284664756346845, 0.012893211958136008, 0.1482719375185641, 0.09025248370695206, 0.019339817937204015, 0.8362641536332361, 0.8919389060714532, 0.8240726751787324, 0.1928929661469677, 0.6018260543785392, 0.1080200610423019, 0.09258862375054448, 0.2753325215030871, 0.26615477078631755, 0.3395767765204741, 0.064244255017387, 0.05506650430061742, 0.8197606632123643, 0.8589295683728679, 0.41346551482561245, 0.11813300423588927, 0.19196613188332004, 0.25841594676600776, 0.022149938294229236, 0.8366593897367487, 0.6618290908962242, 0.22060969696540805, 0.8242180810947165, 0.48814859655817533, 0.009962216256289291, 0.36860200148270383, 0.11954659507547151, 0.009962216256289291, 0.29369804974214697, 0.38843935611058145, 0.2084308740105559, 0.06631891445790415, 0.0378965225473738, 0.49966756844907084, 0.49966756844907084, 0.9453633392282496, 0.30838224408514675, 0.6167644881702935, 0.8368996632778829, 0.9809325607263999, 0.9264259719577596, 0.9716383878308387, 0.8657931073525055, 0.9071394931257972, 0.6031969675830371, 0.03405144171839725, 0.17998619194009977, 0.15079924189575927, 0.029186950044340503, 0.7834548981137714, 0.018653688050327893, 0.09326844025163947, 0.09326844025163947, 0.9170106887717742, 0.8588959326261805, 0.929642322771678, 0.9063260541336159, 0.8238754980744111, 0.391977954225528, 0.20207559130881256, 0.20937952834407084, 0.17042519748936, 0.026781102462613712, 0.20192094823697157, 0.4448333671686667, 0.15637486968727873, 0.18370251681709443, 0.012145620946584756, 0.9150596805107699, 0.8240331061296243, 0.914584436719677, 0.13772057021082054, 0.6886028510541028, 0.13772057021082054, 0.09907671946827595, 0.8916904752144835, 0.6462944191552463, 0.03846990590209799, 0.21543147305174878, 0.10771573652587439, 0.8240797447846056, 0.824157603634041, 0.1773906991431461, 0.7095627965725844, 0.7995667431703114, 0.09994584289628893, 0.7439305603947984, 0.039154240020778865, 0.15661696008311546, 0.039154240020778865, 0.8394091408910462, 0.015261984379837204, 0.09157190627902323, 0.045785953139511615, 0.015261984379837204, 0.17566033166850376, 0.7904714925082669, 0.8888624761720699, 0.8243505531775841, 0.9100210862648258, 0.13857744887801624, 0.8314646932680975, 0.9559177128678874, 0.42812899380901354, 0.17125159752360541, 0.2247677217497321, 0.13379031056531673, 0.04013709316959502, 0.864491065317668, 0.09605456281307422, 0.8329256127272257, 0.1388209354545376, 0.8241692505870329, 0.8240868280282425, 0.9569029083013044, 0.8363013839877281, 0.2104502701401268, 0.14030018009341785, 0.07015009004670893, 0.5612007203736714, 0.8240129778022618, 0.25148734345979734, 0.6706329158927928, 0.41063950605534727, 0.32699071778481353, 0.12927540005446117, 0.06083548237856996, 0.06843991767589121, 0.7959124414662951, 0.8592054096641499, 0.26503438140291025, 0.19877578605218268, 0.06625859535072756, 0.4638101674550929, 0.9170014473584244, 0.5022549848456198, 0.30196925469245856, 0.040057146030632255, 0.13557803271906302, 0.021569232478032753, 0.8374747632361121, 0.20478881401028884, 0.06826293800342961, 0.45833686945159885, 0.13652587600685923, 0.126774027720655, 0.47621340732846507, 0.09524268146569301, 0.14095916856922566, 0.2781086298798236, 0.007619414517255441, 0.8241993057486526, 0.8175434255209635, 0.021704692712945936, 0.07958387328080176, 0.07234897570981978, 0.007234897570981978, 0.8881894864514198, 0.07401579053761832, 0.9193745511252653, 0.8339249549216138, 0.05212030968260086, 0.05212030968260086, 0.8242062403510793, 0.17598770000318972, 0.13199077500239229, 0.5719600250103666, 0.13199077500239229, 0.2970493200202082, 0.42212271792345374, 0.11725631053429271, 0.12507339790324554, 0.03908543684476423, 0.4924316163281801, 0.16612150912275955, 0.10085948768167545, 0.213584797443548, 0.029664555200492777, 0.33184997608509686, 0.3821302754919297, 0.13072877845776543, 0.140784838339132, 0.010056059881366571, 0.8664087802707197, 0.9303385064393889, 0.8588857316607327, 0.8314311049635852, 0.043759531840188694, 0.08751906368037739, 0.043759531840188694, 0.823899940065902, 0.4331290220566463, 0.15910862034733944, 0.11491178136196738, 0.17678735594148828, 0.10607241356489297, 0.2789589878578859, 0.1780589284199272, 0.35018255922585684, 0.14838244034993933, 0.04154708329798301, 0.3207305228699648, 0.018866501345292046, 0.5471285390134694, 0.11319900807175227, 0.6206829843443012, 0.005642572584948193, 0.28212862924740967, 0.0846385887742229, 0.011285145169896387, 0.9187925554419498, 0.42623425498416395, 0.13355339989503803, 0.2472158678908151, 0.1847015104931377, 0.00852468509968328, 0.6642891752222386, 0.22142972507407954, 0.128860804041568, 0.04295360134718933, 0.6228272195342452, 0.09127640286277733, 0.11812240370477066, 0.29307647044071844, 0.19750805616657113, 0.3185613809138244, 0.1656519180751887, 0.025484910473105953, 0.36307436522281666, 0.28847004360168993, 0.22381296486338015, 0.11936691459380275, 0.9085847319088876, 0.8367788751222524, 0.7389539498046847, 0.18473848745117116, 0.09236924372558558, 0.38382788693683684, 0.042647542992981874, 0.21323771496490934, 0.341180343943855, 0.9161469009141009, 0.3999947862990047, 0.016666449429125197, 0.16666449429125196, 0.21666384257862756, 0.19999739314950235, 0.8241006295392226, 0.25039857346176636, 0.7511957203852991, 0.3416437147038728, 0.0854109286759682, 0.2989382503658887, 0.1281163930139523, 0.1708218573519364, 0.22453086610518636, 0.11226543305259318, 0.2619526771227174, 0.3742181101753106, 0.01871090550876553, 0.8405094659779496, 0.06465457430599612, 0.5550330960123476, 0.06807009668075961, 0.24086341902422634, 0.1309040320783839, 0.005236161283135355, 0.32945015905564523, 0.3231749179307758, 0.1506057869968664, 0.1694315103714747, 0.02666977478069509, 0.8241717513504653, 0.9170707765115926, 0.8588754556172, 0.8239904200690287, 0.2660279819937379, 0.4079948377692423, 0.13557195236219335, 0.1816152569380326, 0.008952864778635411, 0.14851362902180287, 0.24133464716042968, 0.48266929432085937, 0.12994942539407753, 0.01856420362772536, 0.3648090647177174, 0.0994933812866502, 0.0994933812866502, 0.43113798557548416, 0.39698650765367244, 0.14886994037012716, 0.07443497018506358, 0.39698650765367244, 0.20940962531460752, 0.4304531187022488, 0.16287415302247252, 0.13960641687640502, 0.058169340365168756, 0.6253488435494883, 0.8772495255225266, 0.8245955550354475, 0.8242384552198815, 0.6251009442479689, 0.039035558791575685, 0.0487944484894696, 0.8197467346230893, 0.029276669093681762, 0.06831222788525744, 0.9017260733626458, 0.8658897621920482, 0.9510899612287964, 0.823783450149737, 0.16956560719430283, 0.8478280359715142, 0.03219295486034757, 0.6438590972069513, 0.0965788645810427, 0.16096477430173783, 0.06438590972069513, 0.44611820784916106, 0.1716769255137693, 0.21640964554200495, 0.1547510314490315, 0.010880931898760026, 0.764838417217816, 0.5856628240917735, 0.052805664467291055, 0.2544272924333114, 0.08160875417672253, 0.02400257475785957, 0.6656423092578543, 0.16641057731446357, 0.4487162808853902, 0.07011191888834221, 0.08413430266601066, 0.23838052422036354, 0.15424622155435289, 0.216162715203773, 0.1296976291222638, 0.6052556025705644, 0.0432325430407546, 0.26594948787678374, 0.5188905768900292, 0.11707558977184503, 0.044806707196632045, 0.054924350757161865, 0.8238476900211642, 0.8241239557207095, 0.28686585799674835, 0.07171646449918709, 0.6454481804926838, 0.6297045825170388, 0.13993435167045304, 0.08268848053254044, 0.13357369932179608, 0.01908195704597087, 0.7386355022925807, 0.06714868202659825, 0.033574341013299126, 0.08393585253324781, 0.050361511519948686, 0.9066358328860952, 0.9170888644693876, 0.9199938442608879, 0.04928538451397614, 0.016428461504658712, 0.769962180213211, 0.018159485382387052, 0.05811035322363856, 0.141643985982619, 0.010895691229432231, 0.368009709110029, 0.310282695916299, 0.18761279287962263, 0.11545402638746008, 0.021647629947648767, 0.8365888612286471, 0.7869383826504653, 0.15738767653009308, 0.7452433338536764, 0.12420722230894606, 0.9372822138753052, 0.8354515368107234, 0.13924192280178724, 0.17576320348829902, 0.43940800872074753, 0.16320868895342053, 0.20087223255805603, 0.025109029069757004, 0.12424780398910164, 0.22364604718038295, 0.5218407767542269, 0.12424780398910164, 0.8367643327084101, 0.625359099048964, 0.5281288680731077, 0.15743997401956938, 0.1797635524253292, 0.11455520497692548, 0.0199737280472588, 0.88856809157137, 0.8239451725591072, 0.12063903226061347, 0.7238341935636808, 0.6655820147473428, 0.1663955036868357, 0.8421863995518772, 0.12956713839259648, 0.4710854704834311, 0.03489522003580971, 0.3489522003580971, 0.13376501013727055, 0.017447610017904853, 0.27709383503392687, 0.38793136904749764, 0.21375810131188647, 0.031667866861020216, 0.0870866338678056, 0.09922838578619395, 0.7938270862895516, 0.09922838578619395, 0.4628776545019005, 0.09698388951468391, 0.26450151685822887, 0.14988419288632968, 0.0308585103001267, 0.7446887540739661, 0.8903469564061075, 0.2066917264384095, 0.29544758543843236, 0.07659752215070469, 0.3902826128631144, 0.030395842123295512, 0.8241548524855622, 0.8842415337683297, 0.07368679448069414, 0.37251507928940136, 0.46074233491057537, 0.04901514201176334, 0.06862119881646866, 0.03921211360941067, 0.9172770590468293, 0.050278413698699176, 0.2513920684934959, 0.6033409643843901, 0.050278413698699176, 0.050278413698699176, 0.8918297432342194, 0.26633594451743353, 0.13316797225871677, 0.13316797225871677, 0.5326718890348671, 0.938746845952442, 0.5770764602010897, 0.12365924147166209, 0.24731848294332417, 0.5751056439517879, 0.133182359651993, 0.19977353947798945, 0.0847524106876319, 0.8241506234705726, 0.8588755590492092, 0.12410515528598366, 0.4073886619170333, 0.10791752633563798, 0.3264505171653049, 0.032375257900691394, 0.5804749325724249, 0.029767945260124353, 0.1339557536705596, 0.1339557536705596, 0.1339557536705596, 0.36065385218465484, 0.24397172353667826, 0.074252263685076, 0.3076165209810291, 0.021214932481450285, 0.23454207055052997, 0.23454207055052997, 0.058635517637632494, 0.058635517637632494, 0.4104486234634274, 0.36626108077527364, 0.1556609593294913, 0.10987832423258209, 0.3296349726977463, 0.045782635096909205, 0.3923800825244505, 0.32698340210370874, 0.1569520330097802, 0.11771402475733515, 0.006539668042074175, 0.6882384588431654, 0.22941281961438847, 0.11406604025624853, 0.4182421476062446, 0.19011006709374756, 0.22813208051249706, 0.050696017891666015, 0.8368820469718954, 0.5436524019721612, 0.008237157605638807, 0.21416609774660897, 0.04118578802819404, 0.18945462492969256, 0.3302627220434063, 0.41656252880851746, 0.18753611854726085, 0.06638446674239322, 0.6245918705540344, 0.0371570234607216, 0.20347893799918967, 0.12208736279951381, 0.010616292417349026, 0.9056793656824527, 0.540486972553862, 0.06691743469714483, 0.12353987944088274, 0.1921731457969287, 0.07721242465055171, 0.6608031685366395, 0.012467984312012065, 0.16208379605615686, 0.04987193724804826, 0.11221185880810859, 0.9366196386698437, 0.7645500314395192, 0.10313462621169812, 0.825077009693585, 0.28349816845974934, 0.056699633691949865, 0.6236959706114485, 0.056699633691949865, 0.8890168182070525, 0.8128899898540413, 0.05606137861062354, 0.11212275722124708, 0.5657527259347749, 0.02510165678208899, 0.2838418113051601, 0.10813021383053718, 0.017378070079907763, 0.5719965166758058, 0.17159895500274172, 0.07626620222344076, 0.17795447185469512, 0.006355516851953397, 0.23877006410814627, 0.47754012821629255, 0.8412351345349233, 0.886440035675238, 0.080585457788658, 0.8886656253947106, 0.6666281073241158, 0.16665702683102895, 0.012733949965996048, 0.9779673573884965, 0.0025467899931992098, 0.007640369979597629, 0.6215335902326298, 0.13318576933556353, 0.06342179492169692, 0.11415923085905445, 0.06976397441386661, 0.920317536949323, 0.8241197536746546, 0.836135510827574, 0.8241760438547983, 0.15847231471402246, 0.7923615735701122, 0.1665995285171177, 0.49517082087032205, 0.06941647021546571, 0.26841035149980075, 0.004627764681031047, 0.16140088080380993, 0.8070044040190496, 0.5592455472153054, 0.020712798045011308, 0.30378770466016586, 0.089755458195049, 0.02761706406001508, 0.2934839291526264, 0.6847958346894615, 0.8241173499523413, 0.9063080974121406, 0.9124374394606689, 0.8589072634274275, 0.3531877476507372, 0.3005491891066369, 0.21904432426415912, 0.08999495493023592, 0.03565837836858404, 0.625171368997475, 0.467167286462154, 0.23741288328404547, 0.18125069584050785, 0.09956024137718036, 0.012764133509894918, 0.1115000407262853, 0.5853752138129978, 0.05575002036314265, 0.2230000814525706, 0.027875010181571326, 0.6256874576839354, 0.5583123135515358, 0.1645027352428632, 0.12462328427489638, 0.0996986274199171, 0.04984931370995855, 0.8589556693126357, 0.4023664946025747, 0.16967261820590498, 0.20845493093868328, 0.17452040729750226, 0.043630101824375565, 0.858979374475463, 0.9170137696631123, 0.8241710096373488, 0.5552734489192956, 0.012619851111802173, 0.1892977666770326, 0.11357866000621956, 0.12619851111802174, 0.4197021499374267, 0.12435619257405237, 0.1476729786816872, 0.27980143329161783, 0.03108904814351309, 0.8241168942946311, 0.8359233953927053, 0.025140553244893393, 0.056566244801010135, 0.07542165973468018, 0.006285138311223348, 0.31296629979415796, 0.07302546995197019, 0.041728839972554395, 0.43815281971182113, 0.14605093990394039, 0.3048180483594197, 0.023447542181493825, 0.5627410123558518, 0.0937901687259753, 0.023447542181493825, 0.3587754701123315, 0.07175509402246631, 0.14351018804493262, 0.3587754701123315, 0.8216873023009122, 0.2188769996694152, 0.20519718719007674, 0.15047793727272296, 0.41039437438015347, 0.01367981247933845, 0.435510757292757, 0.09932701482115511, 0.15281079203254633, 0.290340504861838, 0.022921618804881947, 0.29314029767805094, 0.6839940279154522, 0.8240993646487437, 0.39249046185108416, 0.1457821715446884, 0.3812764486553389, 0.033642039587235786, 0.04485605278298104], \"Term\": [\"AMAZING\", \"Alternative\", \"Angel\", \"Angel\", \"Angel\", \"Angel\", \"Angel\", \"Atkins\", \"Awesome\", \"Awesome\", \"Awesome\", \"Balsamic\", \"Best\", \"Best\", \"Chewy\", \"Cincinnati\", \"Delicious\", \"Delicious\", \"Delicious\", \"Delicious\", \"Delicious\", \"Euro\", \"Fettuccine\", \"Fettuccine\", \"Hair\", \"Hair\", \"Hair\", \"Hair\", \"Hair\", \"Healthy\", \"Ketogenic\", \"Konjac\", \"Love\", \"Love\", \"Miracle\", \"Miracle\", \"Miracle\", \"Miracle\", \"Miracle\", \"Mircle\", \"NOODLE\", \"NOODLE\", \"Noodle\", \"Noodle\", \"Noodle\", \"Noodle\", \"Noodle\", \"Noodles\", \"Noodles\", \"Noodles\", \"Noodles\", \"Noodles\", \"PERFECT\", \"Pack\", \"Pasta\", \"Pasta\", \"Pasta\", \"Pasta\", \"Pasta\", \"People\", \"Prime\", \"Replacement\", \"Rice\", \"Rice\", \"Rice\", \"Rice\", \"Satisfying\", \"Seller\", \"Style\", \"Super\", \"Tastey\", \"Thai\", \"Thai\", \"Variety\", \"Whisked\", \"Youtube\", \"ZERO\", \"ZERO\", \"ZERO\", \"ZERO\", \"Ziti\", \"a++++\", \"absolutely\", \"absolutely\", \"absolutely\", \"absolutely\", \"absolutely\", \"absoulutely\", \"actual\", \"actual\", \"actual\", \"add\", \"add\", \"add\", \"add\", \"add\", \"advantage\", \"afraid\", \"aftertaste\", \"alternative\", \"alternative\", \"alternative\", \"alternative\", \"amazing\", \"amazing\", \"amazing\", \"amazing\", \"amazing\", \"and/or\", \"aromatic\", \"asian\", \"asian\", \"asian\", \"asian\", \"asian\", \"ask\", \"available\", \"available\", \"avocado\", \"away\", \"away\", \"away\", \"away\", \"away\", \"awesome\", \"awesome\", \"awesome\", \"awesome\", \"awesome\", \"baby\", \"baby\", \"bad\", \"baked\", \"baked\", \"barley\", \"basically\", \"basis\", \"benefit\", \"best\", \"blow\", \"boil\", \"boil\", \"boil\", \"boil\", \"boil\", \"boiling\", \"boiling\", \"boiling\", \"boiling\", \"bomb\", \"boy\", \"brine\", \"briny\", \"buyer\", \"calorie\", \"calorie\", \"calorie\", \"calorie\", \"calorie\", \"carb\", \"carb\", \"carb\", \"carb\", \"carb\", \"carbe\", \"carbing\", \"careful\", \"chance\", \"chance\", \"chance\", \"chew\", \"chew\", \"chicken\", \"chicken\", \"chicken\", \"chicken\", \"chilli\", \"choke\", \"clam\", \"clam\", \"clear\", \"clear\", \"colander\", \"colander\", \"colander\", \"colander\", \"cold\", \"cold\", \"cold\", \"cold\", \"cold\", \"comfort\", \"comfort\", \"comment\", \"consistent\", \"container\", \"convenient\", \"convenient\", \"conventional\", \"cook\", \"cook\", \"cook\", \"cook\", \"cook\", \"cool\", \"cool\", \"couscous\", \"couscous\", \"craze\", \"creepy\", \"daily\", \"damage\", \"daughter\", \"daughter\", \"daughter\", \"daughter\", \"death\", \"decent\", \"decent\", \"delicious\", \"delicious\", \"delicious\", \"delicious\", \"delicious\", \"deliver\", \"diabetes\", \"diabetic\", \"diabetic\", \"diabetic\", \"diabetic\", \"dice\", \"diet\", \"diet\", \"diet\", \"diet\", \"diet\", \"digest\", \"direction\", \"direction\", \"direction\", \"direction\", \"direction\", \"dish\", \"dish\", \"dish\", \"dish\", \"dish\", \"doodle\", \"drain\", \"drain\", \"drain\", \"drain\", \"drain\", \"drop\", \"drop\", \"dukan\", \"dump\", \"dump\", \"dump\", \"dupe\", \"easily\", \"easily\", \"easily\", \"easily\", \"easy\", \"easy\", \"easy\", \"easy\", \"easy\", \"eat\", \"eat\", \"eat\", \"eat\", \"eat\", \"expect\", \"expect\", \"expect\", \"expect\", \"expect\", \"fake\", \"fall\", \"feta\", \"fettuccini\", \"fettuccini\", \"fettuccini\", \"fettuccini\", \"fight\", \"fill\", \"fill\", \"fill\", \"fill\", \"fill\", \"find\", \"find\", \"find\", \"find\", \"find\", \"fine\", \"fine\", \"fine\", \"fine\", \"fishy\", \"fishy\", \"fishy\", \"fishy\", \"fishy\", \"fit\", \"flavor\", \"flavor\", \"flavor\", \"flavor\", \"flavor\", \"flavorful\", \"flavorful\", \"follow\", \"follow\", \"follow\", \"follow\", \"follow\", \"food\", \"food\", \"food\", \"food\", \"food\", \"free\", \"free\", \"free\", \"free\", \"freeze\", \"frequently\", \"fried\", \"fried\", \"fried\", \"friend\", \"friend\", \"friend\", \"friend\", \"fruit\", \"garlic\", \"garlic\", \"garlic\", \"garlic\", \"garlic\", \"garlicky\", \"gelatinous\", \"gelatinous\", \"get\", \"get\", \"get\", \"get\", \"get\", \"give\", \"give\", \"give\", \"give\", \"give\", \"glass\", \"glass\", \"go\", \"go\", \"go\", \"go\", \"go\", \"good\", \"good\", \"good\", \"good\", \"good\", \"granddaughter\", \"grandmother\", \"grated\", \"grease\", \"great\", \"great\", \"great\", \"great\", \"great\", \"happy\", \"happy\", \"happy\", \"happy\", \"happy\", \"hard\", \"hard\", \"hard\", \"hard\", \"have\", \"have\", \"have\", \"have\", \"healthy\", \"healthy\", \"healthy\", \"healthy\", \"healthy\", \"hide\", \"honest\", \"household\", \"index\", \"inedible\", \"instruction\", \"instruction\", \"instruction\", \"instruction\", \"instruction\", \"interesting\", \"jicama\", \"juice\", \"kimchi\", \"large\", \"large\", \"lifestyle\", \"lifestyle\", \"lifestyle\", \"lifestyle\", \"lifestyle\", \"like\", \"like\", \"like\", \"like\", \"like\", \"list\", \"little\", \"little\", \"little\", \"little\", \"little\", \"loose\", \"loose\", \"lose\", \"lose\", \"lose\", \"lose\", \"lose\", \"loss\", \"loss\", \"loss\", \"loss\", \"love\", \"love\", \"love\", \"love\", \"love\", \"major\", \"mark\", \"market\", \"market\", \"market\", \"meal\", \"meal\", \"meal\", \"meal\", \"meal\", \"meat\", \"meat\", \"meat\", \"meat\", \"meat\", \"meet\", \"mein\", \"microwave\", \"microwave\", \"microwave\", \"minute\", \"minute\", \"minute\", \"minute\", \"minute\", \"miracle\", \"miracle\", \"miracle\", \"miracle\", \"miracle\", \"moist\", \"morning\", \"morning\", \"mushy\", \"mushy\", \"nasty\", \"nervous\", \"nervous\", \"nice\", \"nice\", \"nice\", \"nice\", \"nice\", \"night\", \"night\", \"night\", \"night\", \"nonstick\", \"nood\", \"noodle\", \"noodle\", \"noodle\", \"noodle\", \"noodle\", \"nuke\", \"obsess\", \"obviously\", \"obviously\", \"occasionally\", \"occasionally\", \"one\", \"one\", \"open\", \"open\", \"open\", \"open\", \"open\", \"order\", \"order\", \"order\", \"order\", \"order\", \"ounce\", \"ounce\", \"ounce\", \"package\", \"package\", \"package\", \"package\", \"package\", \"pallet\", \"paprika\", \"pasta\", \"pasta\", \"pasta\", \"pasta\", \"pasta\", \"pay\", \"peanut\", \"peanut\", \"perfect\", \"perfect\", \"perfect\", \"perfect\", \"perfect\", \"picture\", \"pleasantly\", \"pleasantly\", \"pleasantly\", \"pleasantly\", \"pleasantly\", \"possibly\", \"post\", \"post\", \"post\", \"post\", \"potato\", \"powder\", \"powder\", \"powder\", \"prepare\", \"prepare\", \"prepare\", \"prepare\", \"press\", \"prior\", \"product\", \"product\", \"product\", \"product\", \"product\", \"read\", \"read\", \"read\", \"read\", \"read\", \"real\", \"real\", \"real\", \"real\", \"real\", \"receive\", \"receive\", \"receive\", \"receive\", \"receive\", \"recommend\", \"recommend\", \"recommend\", \"recommend\", \"recommend\", \"regular\", \"regular\", \"regular\", \"regular\", \"regular\", \"reorder\", \"reorder\", \"replacement\", \"replacement\", \"replacement\", \"replacement\", \"replacement\", \"restriction\", \"review\", \"review\", \"review\", \"review\", \"review\", \"rice\", \"rice\", \"rice\", \"rice\", \"rinse\", \"rinse\", \"rinse\", \"rinse\", \"rinse\", \"rinsing\", \"sauce\", \"sauce\", \"sauce\", \"sauce\", \"sauce\", \"say\", \"say\", \"say\", \"say\", \"say\", \"seed\", \"service\", \"sieve\", \"sieve\", \"simply\", \"simply\", \"simply\", \"simply\", \"sink\", \"skillet\", \"skillet\", \"skillet\", \"smell\", \"smell\", \"smell\", \"smell\", \"smell\", \"soup\", \"soup\", \"soup\", \"soup\", \"soup\", \"soupy\", \"soupy\", \"spagetti\", \"spicy\", \"spicy\", \"squeeze\", \"standard\", \"standard\", \"star\", \"star\", \"star\", \"star\", \"stir\", \"stir\", \"stir\", \"stir\", \"stir\", \"straight\", \"stupid\", \"sub\", \"subitute\", \"subscription\", \"subscription\", \"substitute\", \"substitute\", \"substitute\", \"substitute\", \"substitute\", \"suck\", \"suck\", \"sure\", \"sure\", \"sure\", \"sure\", \"sure\", \"sweet\", \"sweet\", \"system\", \"tablespoon\", \"taco\", \"task\", \"taste\", \"taste\", \"taste\", \"taste\", \"taste\", \"teenage\", \"texture\", \"texture\", \"texture\", \"texture\", \"texture\", \"thank\", \"thank\", \"thank\", \"thank\", \"thank\", \"thumb\", \"time\", \"time\", \"time\", \"time\", \"time\", \"trade\", \"try\", \"try\", \"try\", \"try\", \"try\", \"udon\", \"unable\", \"upper\", \"veggie\", \"veggie\", \"veggie\", \"veggie\", \"veggie\", \"want\", \"want\", \"want\", \"want\", \"want\", \"waste\", \"water\", \"water\", \"water\", \"water\", \"water\", \"weight\", \"weight\", \"weight\", \"weight\", \"weight\", \"weird\", \"weird\", \"weird\", \"weird\", \"weird\", \"wife\", \"wife\", \"wife\", \"wife\", \"wonder\", \"wonderful\", \"wonderful\", \"wonderful\", \"wonderful\", \"wonderful\", \"work\", \"work\", \"work\", \"work\", \"work\", \"worried\", \"worried\", \"yeast\", \"zero\", \"zero\", \"zero\", \"zero\", \"zero\"]}, \"R\": 30, \"lambda.step\": 0.01, \"plot.opts\": {\"xlab\": \"PC1\", \"ylab\": \"PC2\"}, \"topic.order\": [5, 2, 1, 4, 3]};\n",
       "\n",
       "function LDAvis_load_lib(url, callback){\n",
       "  var s = document.createElement('script');\n",
       "  s.src = url;\n",
       "  s.async = true;\n",
       "  s.onreadystatechange = s.onload = callback;\n",
       "  s.onerror = function(){console.warn(\"failed to load library \" + url);};\n",
       "  document.getElementsByTagName(\"head\")[0].appendChild(s);\n",
       "}\n",
       "\n",
       "if(typeof(LDAvis) !== \"undefined\"){\n",
       "   // already loaded: just create the visualization\n",
       "   !function(LDAvis){\n",
       "       new LDAvis(\"#\" + \"ldavis_el30462135472268321065461552\", ldavis_el30462135472268321065461552_data);\n",
       "   }(LDAvis);\n",
       "}else if(typeof define === \"function\" && define.amd){\n",
       "   // require.js is available: use it to load d3/LDAvis\n",
       "   require.config({paths: {d3: \"https://d3js.org/d3.v5\"}});\n",
       "   require([\"d3\"], function(d3){\n",
       "      window.d3 = d3;\n",
       "      LDAvis_load_lib(\"https://cdn.jsdelivr.net/gh/bmabey/pyLDAvis@3.4.0/pyLDAvis/js/ldavis.v3.0.0.js\", function(){\n",
       "        new LDAvis(\"#\" + \"ldavis_el30462135472268321065461552\", ldavis_el30462135472268321065461552_data);\n",
       "      });\n",
       "    });\n",
       "}else{\n",
       "    // require.js not available: dynamically load d3 & LDAvis\n",
       "    LDAvis_load_lib(\"https://d3js.org/d3.v5.js\", function(){\n",
       "         LDAvis_load_lib(\"https://cdn.jsdelivr.net/gh/bmabey/pyLDAvis@3.4.0/pyLDAvis/js/ldavis.v3.0.0.js\", function(){\n",
       "                 new LDAvis(\"#\" + \"ldavis_el30462135472268321065461552\", ldavis_el30462135472268321065461552_data);\n",
       "            })\n",
       "         });\n",
       "}\n",
       "</script>"
      ],
      "text/plain": [
       "<IPython.core.display.HTML object>"
      ]
     },
     "execution_count": 56,
     "metadata": {},
     "output_type": "execute_result"
    }
   ],
   "source": [
    "import pyLDAvis\n",
    "import pyLDAvis.gensim_models as gensimvis\n",
    "from IPython.display import display, Markdown, HTML\n",
    "\n",
    "\n",
    "# Display the LDA visualization for high-rating reviews\n",
    "display(Markdown(\"### High Rating Reviews LDA Visualization\" ))\n",
    "vis_data = gensimvis.prepare(high_lda, high_corpus, high_dictionary)\n",
    "pyLDAvis.display(vis_data)"
   ]
  },
  {
   "cell_type": "markdown",
   "id": "91fc0631",
   "metadata": {},
   "source": [
    "\n",
    "\n",
    "### Main Components of the `pyLDAvis` Visualization:\n",
    "The `pyLDAvis` visualization provides an interactive way to explore the topics generated by your LDA model. Let's walk through the main components of the visualization and what the relevance metric slider does.\n",
    "1. **Intertopic Distance Map (via multidimensional scaling)**:\n",
    "   - This plot shows the relationships between the topics.\n",
    "   - Each circle represents a topic. The size of the circle indicates the prevalence of the topic across the corpus.\n",
    "   - The distance between the circles represents the similarity between the topics. Topics that are closer together are more similar in terms of the words they contain.\n",
    "\n",
    "2. **Top-30 Most Relevant Terms for Selected Topic**:\n",
    "   - This bar chart shows the top words for the selected topic.\n",
    "   - The length of each bar represents the frequency of the term within the topic.\n",
    "   - The red part of the bar represents the estimated term frequency within the selected topic, while the blue part represents the overall term frequency across the corpus.\n",
    "\n",
    "3. **Marginal Topic Distribution**:\n",
    "   - This inset shows the overall distribution of topics in the corpus.\n",
    "   - It gives a quick view of how prevalent each topic is in the dataset.\n",
    "\n",
    "4. **Topic Selection and Navigation**:\n",
    "   - You can select a topic using the dropdown menu or navigate through topics using the \"Previous Topic\" and \"Next Topic\" buttons.\n",
    "   - The selected topic is highlighted in the Intertopic Distance Map and the corresponding top words are shown in the bar chart.\n",
    "\n",
    "#### The Relevance Metric Slider:\n",
    "\n",
    "The slider at the top right adjusts the relevance metric (λ) used to rank the terms for each topic. \n",
    "\n",
    "##### What the Relevance Metric (λ) Means:\n",
    "- The relevance metric balances two quantities: \n",
    "  1. **Term Frequency within the Topic (p(term | topic))**: This measures how often a term appears in a given topic.\n",
    "  2. **Term Frequency across the Corpus (p(term))**: This measures how often a term appears in the entire corpus.\n",
    "\n",
    "##### How the Slider Works:\n",
    "- **λ = 1**: When the slider is at 1, the ranking is based entirely on the term frequency within the topic (p(term | topic)).\n",
    "  - Terms that are most representative of the topic will appear at the top.\n",
    "- **λ = 0**: When the slider is at 0, the ranking is based entirely on the term frequency across the corpus (p(term)).\n",
    "  - This tends to highlight terms that are more common in the corpus but less specific to the topic.\n",
    "- **Intermediate Values of λ**: When the slider is between 0 and 1, the ranking is a weighted combination of both quantities.\n",
    "  - This allows you to see terms that are both relevant to the topic and frequent in the corpus.\n",
    "\n",
    "#### Practical Use of the Relevance Metric Slider:\n",
    "\n",
    "- **Exploring Topic-Specific Terms**: Set λ closer to 1 to focus on terms that are highly specific to the selected topic.\n",
    "- **Understanding Contextual Relevance**: Set λ closer to 0 to see more common terms and understand the broader context of the topic within the entire corpus.\n",
    "- **Balancing Specificity and Generality**: Use intermediate values of λ to get a balanced view of terms that are both topic-specific and common in the corpus.\n"
   ]
  },
  {
   "cell_type": "code",
   "execution_count": 57,
   "id": "bad394b6",
   "metadata": {},
   "outputs": [
    {
     "data": {
      "text/markdown": [
       "### High Rating Reviews LDA Visualization"
      ],
      "text/plain": [
       "<IPython.core.display.Markdown object>"
      ]
     },
     "metadata": {},
     "output_type": "display_data"
    },
    {
     "data": {
      "text/html": [
       "\n",
       "<link rel=\"stylesheet\" type=\"text/css\" href=\"https://cdn.jsdelivr.net/gh/bmabey/pyLDAvis@3.4.0/pyLDAvis/js/ldavis.v1.0.0.css\">\n",
       "\n",
       "\n",
       "<div id=\"ldavis_el30462134629245121326492302\" style=\"background-color:white;\"></div>\n",
       "<script type=\"text/javascript\">\n",
       "\n",
       "var ldavis_el30462134629245121326492302_data = {\"mdsDat\": {\"x\": [0.020266846214135725, 0.08623660848277154, 0.019354532679142274, 0.014521326447442268, -0.14037931382349167], \"y\": [-0.06569830919679266, 0.09075377088660752, -0.05517987250669143, -0.007733829322437099, 0.03785824013931352], \"topics\": [1, 2, 3, 4, 5], \"cluster\": [1, 1, 1, 1, 1], \"Freq\": [40.799118222075066, 19.660235716368998, 18.554543185280448, 16.147498536770367, 4.838604339505122]}, \"tinfo\": {\"Term\": [\"star\", \"pasta\", \"love\", \"sauce\", \"carb\", \"great\", \"follow\", \"rice\", \"product\", \"review\", \"taste\", \"good\", \"instruction\", \"substitute\", \"smell\", \"weight\", \"Noodles\", \"Miracle\", \"direction\", \"order\", \"alternative\", \"garlic\", \"noodle\", \"say\", \"lose\", \"veggie\", \"absolutely\", \"rinse\", \"cook\", \"fill\", \"basically\", \"juice\", \"bad\", \"microwave\", \"brine\", \"peanut\", \"fit\", \"dukan\", \"fall\", \"rinsing\", \"Atkins\", \"straight\", \"briny\", \"tablespoon\", \"meet\", \"seed\", \"nuke\", \"People\", \"squeeze\", \"blow\", \"comment\", \"sink\", \"freeze\", \"spicy\", \"PERFECT\", \"jicama\", \"Satisfying\", \"drop\", \"fake\", \"paprika\", \"Thai\", \"glass\", \"container\", \"water\", \"one\", \"cold\", \"drain\", \"minute\", \"cool\", \"skillet\", \"add\", \"boiling\", \"rinse\", \"dump\", \"fettuccini\", \"meat\", \"colander\", \"noodle\", \"smell\", \"sauce\", \"fishy\", \"meal\", \"chicken\", \"boil\", \"stir\", \"little\", \"say\", \"like\", \"time\", \"prepare\", \"diet\", \"go\", \"soup\", \"texture\", \"dish\", \"cook\", \"sure\", \"flavor\", \"taste\", \"calorie\", \"good\", \"rice\", \"great\", \"love\", \"package\", \"pasta\", \"carb\", \"star\", \"Ketogenic\", \"best\", \"Super\", \"deliver\", \"convenient\", \"possibly\", \"afraid\", \"basis\", \"Alternative\", \"subscription\", \"large\", \"barley\", \"frequently\", \"Healthy\", \"nonstick\", \"restriction\", \"mushy\", \"damage\", \"sub\", \"ask\", \"Prime\", \"moist\", \"Best\", \"spagetti\", \"couscous\", \"advantage\", \"digest\", \"NOODLE\", \"pallet\", \"reorder\", \"alternative\", \"fried\", \"love\", \"lifestyle\", \"carb\", \"substitute\", \"Rice\", \"great\", \"rice\", \"product\", \"thank\", \"perfect\", \"decent\", \"good\", \"easy\", \"pasta\", \"Miracle\", \"taste\", \"healthy\", \"nice\", \"order\", \"diet\", \"Noodle\", \"awesome\", \"replacement\", \"expect\", \"noodle\", \"regular\", \"texture\", \"free\", \"like\", \"delicious\", \"calorie\", \"miracle\", \"cook\", \"flavor\", \"sauce\", \"benefit\", \"daily\", \"chew\", \"nasty\", \"potato\", \"Pack\", \"taco\", \"honest\", \"careful\", \"instruction\", \"clear\", \"kimchi\", \"buyer\", \"major\", \"Youtube\", \"grease\", \"Variety\", \"fight\", \"death\", \"Ziti\", \"waste\", \"aftertaste\", \"consistent\", \"press\", \"choke\", \"stupid\", \"index\", \"household\", \"nervous\", \"obviously\", \"follow\", \"ounce\", \"Love\", \"chance\", \"fine\", \"market\", \"weird\", \"available\", \"flavorful\", \"simply\", \"direction\", \"sweet\", \"night\", \"ZERO\", \"pleasantly\", \"worried\", \"morning\", \"happy\", \"smell\", \"open\", \"find\", \"like\", \"noodle\", \"zero\", \"taste\", \"away\", \"food\", \"flavor\", \"rinse\", \"amazing\", \"cook\", \"package\", \"sure\", \"rice\", \"fishy\", \"calorie\", \"little\", \"carb\", \"good\", \"great\", \"texture\", \"go\", \"love\", \"sauce\", \"free\", \"pasta\", \"try\", \"product\", \"interesting\", \"Euro\", \"and/or\", \"conventional\", \"list\", \"service\", \"wonder\", \"grandmother\", \"dice\", \"bomb\", \"Konjac\", \"mein\", \"Cincinnati\", \"unable\", \"picture\", \"fruit\", \"carbe\", \"sieve\", \"task\", \"boy\", \"trade\", \"feta\", \"prior\", \"Style\", \"grated\", \"Balsamic\", \"Whisked\", \"aromatic\", \"udon\", \"diabetes\", \"comfort\", \"gelatinous\", \"standard\", \"pasta\", \"loss\", \"loose\", \"suck\", \"easily\", \"weight\", \"actual\", \"product\", \"occasionally\", \"wonderful\", \"diabetic\", \"dish\", \"recommend\", \"substitute\", \"great\", \"sauce\", \"carb\", \"work\", \"good\", \"like\", \"want\", \"give\", \"real\", \"noodle\", \"flavor\", \"asian\", \"calorie\", \"have\", \"eat\", \"rinse\", \"hard\", \"cook\", \"try\", \"smell\", \"diet\", \"minute\", \"taste\", \"package\", \"texture\", \"boil\", \"rice\", \"love\", \"thumb\", \"AMAZING\", \"nood\", \"hide\", \"teenage\", \"inedible\", \"clam\", \"Mircle\", \"absoulutely\", \"craze\", \"upper\", \"granddaughter\", \"subitute\", \"pay\", \"a++++\", \"Seller\", \"system\", \"mark\", \"doodle\", \"chilli\", \"yeast\", \"Replacement\", \"dupe\", \"carbing\", \"creepy\", \"garlicky\", \"Chewy\", \"Tastey\", \"avocado\", \"obsess\", \"Fettuccine\", \"daughter\", \"baked\", \"receive\", \"post\", \"Delicious\", \"friend\", \"review\", \"Angel\", \"Hair\", \"wife\", \"soupy\", \"Noodles\", \"garlic\", \"baby\", \"sauce\", \"follow\", \"powder\", \"weight\", \"absolutely\", \"love\", \"lose\", \"direction\", \"Awesome\", \"Miracle\", \"Pasta\", \"fill\", \"veggie\", \"get\", \"pasta\", \"read\", \"noodle\", \"order\", \"taste\", \"say\", \"cook\", \"good\", \"stir\", \"product\", \"time\", \"calorie\", \"delicious\", \"try\", \"smell\"], \"Freq\": [393.0, 822.0, 692.0, 582.0, 658.0, 782.0, 186.0, 602.0, 370.0, 121.0, 589.0, 637.0, 102.0, 216.0, 517.0, 95.0, 97.0, 161.0, 102.0, 126.0, 129.0, 59.0, 1702.0, 80.0, 71.0, 79.0, 55.0, 565.0, 373.0, 113.0, 20.560542470222117, 11.895416842393812, 10.869131187658066, 56.37262350418368, 8.944939462632355, 12.493940696686, 8.007398215712973, 7.926041112374944, 8.80478516859187, 7.026924831638051, 7.019867014014326, 7.856966546783725, 6.9807961489978005, 6.9457492075675615, 6.932532600737686, 8.6232896882081, 6.055932301055749, 6.051351387786671, 6.049986893812584, 6.913531146131893, 6.041352246241802, 6.034453942095308, 6.878869652022046, 10.925515279396771, 5.078228175544564, 5.078051926227099, 5.0578831467649765, 11.83202043359702, 5.052967516691217, 5.897726311342754, 26.816334698348516, 13.474823062856643, 6.7258941353772155, 265.66522995134136, 26.40502004489502, 55.17985180277912, 112.81766298906031, 211.8075388147767, 17.720558245656242, 29.425586077566884, 113.03686065652647, 41.63580825872421, 353.42081319935176, 15.97856019934907, 18.70104208963131, 44.15541410972861, 38.43256006999698, 898.8389343925336, 293.35842644687546, 314.52524774135827, 110.0454045259618, 98.52242707213769, 83.53787536765287, 123.74579847344374, 97.88654882244299, 121.88269779522257, 53.28071886053393, 369.37445373259226, 112.46785882440723, 95.47392683013508, 162.54099072963325, 106.08666703738673, 89.54489560663943, 182.78037870170303, 125.20188351717154, 160.04095744378262, 81.19666520562389, 149.89182511477594, 208.37752835879752, 160.7772842065624, 209.5696724661933, 198.76211871069657, 207.5226281679591, 183.65942870999925, 104.58308567907454, 169.4936612531276, 133.2744578936912, 384.4134577846998, 8.234354315467142, 7.362744703712864, 6.416197870333923, 5.476958616940011, 6.094863447012328, 3.7773484783207407, 3.775250157484923, 4.53423442713994, 3.7464979200124393, 5.26666533624927, 9.67529336080337, 2.876264590997101, 2.8739701983848884, 2.8710691929631857, 2.870513236229603, 2.8686785286047227, 6.437342371670108, 2.8582554739412904, 2.851539385549062, 2.8417955255352245, 2.8393587414658614, 2.8353546432867276, 4.151713764629989, 2.7466613988201916, 5.5331666995742115, 2.7388089509938163, 2.728857930311346, 4.567879638312568, 1.9810410572112558, 6.398787805479258, 78.57831785981045, 7.668008297937845, 359.27062449334466, 19.98685526126621, 293.70983546244463, 107.15464316198822, 26.18115885346592, 319.0914468784479, 250.8819206919421, 151.01479266851942, 20.68382842936251, 47.1987205997941, 7.8798938427458936, 206.56973954988499, 54.2751032301427, 243.60623639331368, 65.1790771014626, 177.29277368052337, 37.51395631693812, 35.01700391828994, 49.21533847759981, 97.99348427365074, 28.182544625660675, 40.759461361888434, 32.76037805687877, 38.15891048346351, 268.5440340510207, 50.11232905156585, 93.55237083524403, 58.57229897659426, 141.7105265854413, 43.14837569154012, 83.13231218887846, 42.968646926141986, 64.40825392722154, 47.25191502394227, 39.08801448935163, 7.502226472077977, 6.599874350753208, 8.883374358042293, 5.6155393445426265, 5.597346930245796, 4.763081741332229, 4.73976230472363, 3.83970968477714, 4.560502044196024, 84.05116126823816, 8.130683909169159, 2.935553972332027, 2.9339756219859106, 2.9337192233009928, 2.9329937910291943, 2.9291499513752473, 2.927647711956008, 2.92698935243852, 2.9249203244606914, 2.9235591281028217, 2.9233081998907733, 2.9203165647712046, 2.918453987682531, 2.914386572180882, 2.914007444626375, 2.9093035514987156, 2.905300592438266, 2.8806156782321604, 5.55614190151434, 6.4045513548014545, 115.71571956554958, 7.504802826952771, 4.787464352450644, 10.078297833669735, 29.306556157861962, 9.290896045207653, 23.964971434907838, 6.382562908026622, 6.329049791032531, 11.040023137664848, 47.16841499094551, 6.9310467887015506, 21.373788248784606, 10.123271780361492, 11.854571790970867, 6.815705435952032, 4.62691501190922, 25.84725554532334, 146.7768476013002, 59.80414176605501, 58.86049946689934, 179.3983409711464, 305.87827670308945, 34.47388491373066, 129.39186368333915, 36.79184319177683, 49.724330276327, 86.50992476100721, 114.9527075236053, 37.39033385418327, 84.15693262331945, 60.045177460382526, 44.113858968127815, 112.91131352055294, 49.73920235143881, 85.87813556809198, 53.2181909579874, 103.1569447430593, 96.44166244249556, 106.3924887444447, 70.8329842085616, 46.13292202523439, 80.58198716571039, 72.24510067928567, 45.174909983084305, 63.008986425084494, 43.07639853495692, 40.06388238259987, 11.146235401833025, 5.374086905427412, 5.372324995774789, 4.497134876209303, 4.4923459262888255, 4.487927076751206, 5.113390100061541, 3.6422133413694904, 3.6417322936682806, 3.641530684175605, 3.6403719470708835, 3.6368377782023567, 3.6364126181428538, 3.633692752913122, 3.631400117655549, 3.60712707990595, 3.5456043079849606, 7.8304183075072835, 2.7768372986789878, 2.7753924996452337, 2.7745902014998425, 2.7747887061235343, 2.7746879013771966, 2.774200436946754, 2.7741221942483643, 2.774161315597559, 2.7740787260825925, 2.7723248890893264, 2.771856467855317, 2.7593914538420408, 8.538175262257111, 5.8969952782406745, 4.4848325573307735, 320.86894437557453, 14.257613018900038, 4.42234975992002, 4.497747570355422, 13.185446285165078, 41.73560913673494, 7.412792730071449, 120.81696658534784, 4.295007491387115, 30.28795222599809, 20.743320021247175, 72.44592290032536, 36.18951166164482, 57.56285348183548, 141.80362885027208, 111.58821629931424, 121.15362380340896, 37.50136931313198, 108.04381709447749, 127.90678504797813, 35.57502579913076, 19.65930179561012, 28.751295436369674, 194.82569010010954, 64.91365315583054, 35.34652731309105, 70.28415911236341, 16.068698828435487, 35.97436659613025, 69.26516595086096, 12.939807266405147, 49.98410177874184, 36.37231972368529, 55.90657230000261, 43.72962720307021, 38.99937669365114, 53.26578766930343, 33.703006728798705, 39.45756262356007, 31.37390126616048, 40.007308241920946, 30.955802092709, 2.462740179918509, 2.4591481872608636, 2.458059772300987, 2.4571112857745208, 2.4486701774590713, 2.445201490530867, 3.989951851364661, 1.6947057581380376, 1.69470488978783, 1.6947055100379782, 1.6946986872863492, 1.6946968265359048, 1.6946797076318174, 1.6945788549577374, 1.6941301660006056, 1.6941269406998356, 1.6941806543626605, 1.6937823297175543, 1.693297418151774, 1.6934434250366353, 1.6933485267639767, 1.6927128944122094, 1.6926109252878627, 1.6927652435247087, 1.6921114998686169, 1.6920602672063842, 1.6919570575817413, 1.6898613563813594, 1.689185035619877, 1.6895411832549128, 3.2276023943415657, 7.813323864755728, 3.9121762042944845, 7.491610533141538, 4.0007275812375385, 10.233274971757664, 8.319804753486121, 22.994457325493546, 9.366692229247208, 8.601873184234458, 5.363127871932344, 2.3914379595939663, 16.90505374515129, 11.812690865268406, 2.9208085597896427, 45.267419830718694, 21.751350986282073, 6.482592058022279, 13.53871702298469, 9.768212403116555, 37.78197904985028, 10.812577693675431, 13.11813482536398, 3.889476537474577, 14.487928994024191, 6.636703379418815, 11.50944014766246, 9.743095745519552, 7.690772359494601, 25.4711092200337, 8.86517086070098, 34.09209603283184, 11.501289564516378, 20.700982666689878, 9.120729800119754, 15.11867079742386, 16.902630303772654, 10.630618133029683, 12.494283256809464, 9.727430707779275, 10.655431116154178, 9.052846646711568, 8.915046911809682, 8.727688693874919], \"Total\": [393.0, 822.0, 692.0, 582.0, 658.0, 782.0, 186.0, 602.0, 370.0, 121.0, 589.0, 637.0, 102.0, 216.0, 517.0, 95.0, 97.0, 161.0, 102.0, 126.0, 129.0, 59.0, 1702.0, 80.0, 71.0, 79.0, 55.0, 565.0, 373.0, 113.0, 21.406085793668705, 12.61584045702696, 11.63461700277628, 60.86241706898845, 9.680172432071632, 13.569429960928433, 8.706247148248751, 8.7007149779051, 9.672905292013546, 7.7282847516902375, 7.7273404884182835, 8.691896951267385, 7.722742807404491, 7.722935553278465, 7.720234325218336, 9.6082984850547, 6.751825196667216, 6.750589403108902, 6.751084798621437, 7.715756181617656, 6.749599422449259, 6.748414863658987, 7.703563913905852, 12.408521403543569, 5.773507819338695, 5.773909464635941, 5.771152619027631, 13.51055219097002, 5.7704314848704, 6.738526128054711, 30.94970176149813, 15.464869648187282, 7.691692247747257, 318.16185542784336, 30.873261236432363, 65.51144301174945, 138.19615247474988, 275.2787256326232, 20.82081956619152, 35.67280197919442, 155.08982407435616, 53.59842879436752, 565.045863625521, 19.183424224701437, 22.84827991556004, 59.56553256796384, 51.06857090787369, 1702.1790312795854, 517.7691563180799, 582.7139990400285, 177.1795230576425, 157.20923063994255, 129.94337708809755, 205.5253937511855, 157.6746144843207, 208.2758874615262, 80.19691784389084, 827.0795082298914, 200.60887999244326, 165.17762161747376, 324.59732994205905, 190.94187006897985, 157.33588527746647, 391.75501933094944, 262.42129298767867, 373.7089165704893, 144.80461540235146, 351.86566419698875, 589.0289360586534, 410.72732219205045, 637.5275218568239, 602.7562918022261, 782.0721607670345, 692.2498215116136, 226.80474930397176, 822.448937667134, 658.8713286104064, 393.1268347157613, 8.992571190399293, 8.094085604429837, 7.198286562167231, 6.288682342097807, 7.223557887543572, 4.489705129910681, 4.489150889960876, 5.402554971739758, 4.491743476903405, 6.316603250869952, 11.806571172972978, 3.5880804941697444, 3.588593786710079, 3.588098184939658, 3.588649560135347, 3.5881367274628833, 8.058058761890873, 3.5906203469565487, 3.59132279143179, 3.5890625290152047, 3.5912007202143728, 3.5893564607891504, 5.361920219440966, 3.5695205978277356, 7.209864175875576, 3.590576136153859, 3.585341640927982, 6.1453528497375345, 2.6879926269668064, 8.726735264202269, 129.68354214003173, 10.834373268566017, 692.2498215116136, 31.08329095493944, 658.8713286104064, 216.1556132270456, 44.59996618312429, 782.0721607670345, 602.7562918022261, 370.7125382662001, 35.89243824714085, 102.05761606883728, 11.938216427526847, 637.5275218568239, 127.97008589107539, 822.448937667134, 161.66274145728536, 589.0289360586534, 85.98725962012482, 79.67507935026777, 126.3610340667859, 324.59732994205905, 63.281634042371465, 105.5840524017856, 78.9209797580687, 99.46801814433229, 1702.1790312795854, 152.94212915091674, 391.75501933094944, 201.08402334363043, 827.0795082298914, 131.54073905736587, 410.72732219205045, 138.6068198697225, 373.7089165704893, 351.86566419698875, 582.7139990400285, 8.230600043548753, 7.312722867126017, 10.089614591596023, 6.39933427298963, 6.389290181013992, 5.475904844210498, 5.478033569046967, 4.558295554240614, 5.465060175611081, 102.44311263881224, 10.001159322377328, 3.6406767908181688, 3.640273095165046, 3.6403930395261836, 3.64019634255346, 3.63976328334723, 3.6389000389250814, 3.6401665250252746, 3.639658373735545, 3.6390011961128463, 3.6392025407028306, 3.639393725374408, 3.6381973107692036, 3.6390562088532925, 3.639016525742698, 3.639199139158662, 3.6386765221065547, 3.6370656889025366, 7.180092760772965, 8.286504276978375, 186.20586836177702, 10.073905231652642, 6.250279315603545, 14.51880875690296, 52.985788768678, 13.940302903306634, 42.63567891354805, 9.061662085860299, 9.028026068609064, 17.631531791886527, 102.52733395442304, 10.219083412628065, 40.2394669238646, 16.35558520861558, 19.89028608448204, 10.23106105775393, 6.351148924030809, 53.865021010985394, 517.7691563180799, 171.89631236108715, 168.47215952124245, 827.0795082298914, 1702.1790312795854, 89.17076536203149, 589.0289360586534, 100.34930970727568, 156.94653911400215, 351.86566419698875, 565.045863625521, 108.97366748568673, 373.7089165704893, 226.80474930397176, 144.80461540235146, 602.7562918022261, 177.1795230576425, 410.72732219205045, 208.2758874615262, 658.8713286104064, 637.5275218568239, 782.0721607670345, 391.75501933094944, 190.94187006897985, 692.2498215116136, 582.7139990400285, 201.08402334363043, 822.448937667134, 206.26707642716912, 370.7125382662001, 12.188581627999413, 6.095069595509489, 6.094430468910755, 5.226510640903239, 5.225791425403543, 5.227764748475465, 6.080599766220803, 4.3584554765811605, 4.358785206627096, 4.358741039779219, 4.358278772590004, 4.358374180583047, 4.3592662746869575, 4.358734289230696, 4.357495317716249, 4.3628828375663655, 4.368122986955352, 9.688711986370935, 3.490380255705804, 3.4904278188457267, 3.4901870786978835, 3.490470204847985, 3.4905121114102173, 3.4905730380030087, 3.490512674865761, 3.4906278311026364, 3.490636056257609, 3.4902942219557436, 3.4900921252703307, 3.489200145962683, 11.380259185757524, 7.981698367158004, 5.996789554727197, 822.448937667134, 23.120323385174217, 6.005728632036726, 6.191523163505708, 22.720994390273646, 95.82977808563643, 11.662768950519359, 370.7125382662001, 6.006538124731911, 73.08433947827909, 45.266037109909405, 262.42129298767867, 109.19205449688234, 216.1556132270456, 782.0721607670345, 582.7139990400285, 658.8713286104064, 130.84881957135462, 637.5275218568239, 827.0795082298914, 128.63813010887515, 53.42706759098637, 94.26810805251273, 1702.1790312795854, 351.86566419698875, 135.41183660074964, 410.72732219205045, 40.29235738649948, 168.53894915087756, 565.045863625521, 30.141806495478704, 373.7089165704893, 206.26707642716912, 517.7691563180799, 324.59732994205905, 275.2787256326232, 589.0289360586534, 226.80474930397176, 391.75501933094944, 205.5253937511855, 602.7562918022261, 692.2498215116136, 3.1980737409582725, 3.1989019558424028, 3.1997432451501338, 3.1997973146234497, 3.2007016278727147, 3.2010507046045777, 5.640993973806726, 2.4277650310201344, 2.4277649642209878, 2.4277659105776745, 2.4277607272051176, 2.4277585419114116, 2.4277458923074065, 2.427808201597406, 2.4277062729913172, 2.4277060284163943, 2.427918312613098, 2.4278977000703836, 2.4276781330264052, 2.428027918802032, 2.4279705670677094, 2.4277193770039345, 2.4276580925992457, 2.4281644776190827, 2.428006560421605, 2.4279643575565335, 2.4281877875422966, 2.427940935223302, 2.4276202325130454, 2.4284216505438456, 4.86955613699048, 14.261910057922904, 6.486251248920787, 17.06226850545964, 7.511895037120779, 27.877243494268903, 23.44765604906054, 121.39467885976809, 31.627964206179406, 28.12173252683123, 13.939961731863004, 4.189537349259807, 97.38335829308143, 59.990199351129775, 6.005607837269137, 582.7139990400285, 186.20586836177702, 24.260311003002997, 95.82977808563643, 55.22566298213046, 692.2498215116136, 71.30548490767158, 102.52733395442304, 11.009910567929989, 161.66274145728536, 33.94699989077428, 113.13014643965828, 79.22759010603154, 46.82948678209074, 822.448937667134, 67.17831062425783, 1702.1790312795854, 126.3610340667859, 589.0289360586534, 80.19691784389084, 373.7089165704893, 637.5275218568239, 157.6746144843207, 370.7125382662001, 200.60887999244326, 410.72732219205045, 131.54073905736587, 206.26707642716912, 517.7691563180799], \"Category\": [\"Default\", \"Default\", \"Default\", \"Default\", \"Default\", \"Default\", \"Default\", \"Default\", \"Default\", \"Default\", \"Default\", \"Default\", \"Default\", \"Default\", \"Default\", \"Default\", \"Default\", \"Default\", \"Default\", \"Default\", \"Default\", \"Default\", \"Default\", \"Default\", \"Default\", \"Default\", \"Default\", \"Default\", \"Default\", \"Default\", \"Topic1\", \"Topic1\", \"Topic1\", \"Topic1\", \"Topic1\", \"Topic1\", \"Topic1\", \"Topic1\", \"Topic1\", \"Topic1\", \"Topic1\", \"Topic1\", \"Topic1\", \"Topic1\", \"Topic1\", \"Topic1\", \"Topic1\", \"Topic1\", \"Topic1\", \"Topic1\", \"Topic1\", \"Topic1\", \"Topic1\", \"Topic1\", \"Topic1\", \"Topic1\", \"Topic1\", \"Topic1\", \"Topic1\", \"Topic1\", \"Topic1\", \"Topic1\", \"Topic1\", \"Topic1\", \"Topic1\", \"Topic1\", \"Topic1\", \"Topic1\", \"Topic1\", \"Topic1\", \"Topic1\", \"Topic1\", \"Topic1\", \"Topic1\", \"Topic1\", \"Topic1\", \"Topic1\", \"Topic1\", \"Topic1\", \"Topic1\", \"Topic1\", \"Topic1\", \"Topic1\", \"Topic1\", \"Topic1\", \"Topic1\", \"Topic1\", \"Topic1\", \"Topic1\", \"Topic1\", \"Topic1\", \"Topic1\", \"Topic1\", \"Topic1\", \"Topic1\", \"Topic1\", \"Topic1\", \"Topic1\", \"Topic1\", \"Topic1\", \"Topic1\", \"Topic1\", \"Topic1\", \"Topic1\", \"Topic1\", \"Topic1\", \"Topic1\", \"Topic2\", \"Topic2\", \"Topic2\", \"Topic2\", \"Topic2\", \"Topic2\", \"Topic2\", \"Topic2\", \"Topic2\", \"Topic2\", \"Topic2\", \"Topic2\", \"Topic2\", \"Topic2\", \"Topic2\", \"Topic2\", \"Topic2\", \"Topic2\", \"Topic2\", \"Topic2\", \"Topic2\", \"Topic2\", \"Topic2\", \"Topic2\", \"Topic2\", \"Topic2\", \"Topic2\", \"Topic2\", \"Topic2\", \"Topic2\", \"Topic2\", \"Topic2\", \"Topic2\", \"Topic2\", \"Topic2\", \"Topic2\", \"Topic2\", \"Topic2\", \"Topic2\", \"Topic2\", \"Topic2\", \"Topic2\", \"Topic2\", \"Topic2\", \"Topic2\", \"Topic2\", \"Topic2\", \"Topic2\", \"Topic2\", \"Topic2\", \"Topic2\", \"Topic2\", \"Topic2\", \"Topic2\", \"Topic2\", \"Topic2\", \"Topic2\", \"Topic2\", \"Topic2\", \"Topic2\", \"Topic2\", \"Topic2\", \"Topic2\", \"Topic2\", \"Topic2\", \"Topic2\", \"Topic2\", \"Topic2\", \"Topic3\", \"Topic3\", \"Topic3\", \"Topic3\", \"Topic3\", \"Topic3\", \"Topic3\", \"Topic3\", \"Topic3\", \"Topic3\", \"Topic3\", \"Topic3\", \"Topic3\", \"Topic3\", \"Topic3\", \"Topic3\", \"Topic3\", \"Topic3\", \"Topic3\", \"Topic3\", \"Topic3\", \"Topic3\", \"Topic3\", \"Topic3\", \"Topic3\", \"Topic3\", \"Topic3\", \"Topic3\", \"Topic3\", \"Topic3\", \"Topic3\", \"Topic3\", \"Topic3\", \"Topic3\", \"Topic3\", \"Topic3\", \"Topic3\", \"Topic3\", \"Topic3\", \"Topic3\", \"Topic3\", \"Topic3\", \"Topic3\", \"Topic3\", \"Topic3\", \"Topic3\", \"Topic3\", \"Topic3\", \"Topic3\", \"Topic3\", \"Topic3\", \"Topic3\", \"Topic3\", \"Topic3\", \"Topic3\", \"Topic3\", \"Topic3\", \"Topic3\", \"Topic3\", \"Topic3\", \"Topic3\", \"Topic3\", \"Topic3\", \"Topic3\", \"Topic3\", \"Topic3\", \"Topic3\", \"Topic3\", \"Topic3\", \"Topic3\", \"Topic3\", \"Topic3\", \"Topic3\", \"Topic3\", \"Topic3\", \"Topic3\", \"Topic3\", \"Topic3\", \"Topic4\", \"Topic4\", \"Topic4\", \"Topic4\", \"Topic4\", \"Topic4\", \"Topic4\", \"Topic4\", \"Topic4\", \"Topic4\", \"Topic4\", \"Topic4\", \"Topic4\", \"Topic4\", \"Topic4\", \"Topic4\", \"Topic4\", \"Topic4\", \"Topic4\", \"Topic4\", \"Topic4\", \"Topic4\", \"Topic4\", \"Topic4\", \"Topic4\", \"Topic4\", \"Topic4\", \"Topic4\", \"Topic4\", \"Topic4\", \"Topic4\", \"Topic4\", \"Topic4\", \"Topic4\", \"Topic4\", \"Topic4\", \"Topic4\", \"Topic4\", \"Topic4\", \"Topic4\", \"Topic4\", \"Topic4\", \"Topic4\", \"Topic4\", \"Topic4\", \"Topic4\", \"Topic4\", \"Topic4\", \"Topic4\", \"Topic4\", \"Topic4\", \"Topic4\", \"Topic4\", \"Topic4\", \"Topic4\", \"Topic4\", \"Topic4\", \"Topic4\", \"Topic4\", \"Topic4\", \"Topic4\", \"Topic4\", \"Topic4\", \"Topic4\", \"Topic4\", \"Topic4\", \"Topic4\", \"Topic4\", \"Topic4\", \"Topic4\", \"Topic4\", \"Topic4\", \"Topic4\", \"Topic4\", \"Topic4\", \"Topic5\", \"Topic5\", \"Topic5\", \"Topic5\", \"Topic5\", \"Topic5\", \"Topic5\", \"Topic5\", \"Topic5\", \"Topic5\", \"Topic5\", \"Topic5\", \"Topic5\", \"Topic5\", \"Topic5\", \"Topic5\", \"Topic5\", \"Topic5\", \"Topic5\", \"Topic5\", \"Topic5\", \"Topic5\", \"Topic5\", \"Topic5\", \"Topic5\", \"Topic5\", \"Topic5\", \"Topic5\", \"Topic5\", \"Topic5\", \"Topic5\", \"Topic5\", \"Topic5\", \"Topic5\", \"Topic5\", \"Topic5\", \"Topic5\", \"Topic5\", \"Topic5\", \"Topic5\", \"Topic5\", \"Topic5\", \"Topic5\", \"Topic5\", \"Topic5\", \"Topic5\", \"Topic5\", \"Topic5\", \"Topic5\", \"Topic5\", \"Topic5\", \"Topic5\", \"Topic5\", \"Topic5\", \"Topic5\", \"Topic5\", \"Topic5\", \"Topic5\", \"Topic5\", \"Topic5\", \"Topic5\", \"Topic5\", \"Topic5\", \"Topic5\", \"Topic5\", \"Topic5\", \"Topic5\", \"Topic5\", \"Topic5\", \"Topic5\", \"Topic5\", \"Topic5\", \"Topic5\", \"Topic5\"], \"logprob\": [30.0, 29.0, 28.0, 27.0, 26.0, 25.0, 24.0, 23.0, 22.0, 21.0, 20.0, 19.0, 18.0, 17.0, 16.0, 15.0, 14.0, 13.0, 12.0, 11.0, 10.0, 9.0, 8.0, 7.0, 6.0, 5.0, 4.0, 3.0, 2.0, 1.0, -6.7731, -7.3203, -7.4105, -5.7645, -7.6054, -7.2712, -7.7161, -7.7263, -7.6212, -7.8467, -7.8477, -7.7351, -7.8533, -7.8583, -7.8602, -7.642, -7.9954, -7.9962, -7.9964, -7.863, -7.9978, -7.999, -7.868, -7.4054, -8.1715, -8.1715, -8.1755, -7.3256, -8.1765, -8.0219, -6.5074, -7.1956, -7.8905, -4.2142, -6.5229, -5.7859, -5.0707, -4.4408, -6.9217, -6.4146, -5.0687, -6.0675, -3.9288, -7.0252, -6.8679, -6.0087, -6.1476, -2.9954, -4.1151, -4.0454, -5.0956, -5.2062, -5.3712, -4.9782, -5.2126, -4.9934, -5.8209, -3.8846, -5.0738, -5.2376, -4.7055, -5.1322, -5.3017, -4.5882, -4.9665, -4.721, -5.3996, -4.7865, -4.4571, -4.7164, -4.4514, -4.5043, -4.4612, -4.5834, -5.1465, -4.6636, -4.904, -3.1147, -6.9581, -7.07, -7.2076, -7.3658, -7.2589, -7.7374, -7.7379, -7.5547, -7.7456, -7.405, -6.7968, -8.0099, -8.0107, -8.0117, -8.0119, -8.0125, -7.2043, -8.0162, -8.0185, -8.022, -8.0228, -8.0242, -7.6429, -8.056, -7.3556, -8.0589, -8.0625, -7.5473, -8.3828, -7.2103, -4.7023, -7.0293, -3.1823, -6.0713, -3.3838, -4.3921, -5.8014, -3.3009, -3.5414, -4.049, -6.037, -5.212, -7.0021, -3.7358, -5.0723, -3.5708, -4.8893, -3.8886, -5.4417, -5.5106, -5.1702, -4.4815, -5.7277, -5.3587, -5.5772, -5.4246, -3.4734, -5.1521, -4.5279, -4.9961, -4.1126, -5.3018, -4.646, -5.3059, -4.9012, -5.2109, -5.4006, -6.9933, -7.1215, -6.8243, -7.283, -7.2862, -7.4476, -7.4525, -7.6631, -7.4911, -4.5771, -6.9129, -7.9316, -7.9322, -7.9322, -7.9325, -7.9338, -7.9343, -7.9345, -7.9352, -7.9357, -7.9358, -7.9368, -7.9375, -7.9389, -7.939, -7.9406, -7.942, -7.9505, -7.2936, -7.1515, -4.2574, -6.993, -7.4425, -6.6981, -5.6307, -6.7795, -5.8319, -7.1549, -7.1634, -6.607, -5.1548, -7.0725, -5.9463, -6.6937, -6.5358, -7.0893, -7.4766, -5.7563, -4.0196, -4.9174, -4.9333, -3.8189, -3.2853, -5.4683, -4.1457, -5.4032, -5.102, -4.5483, -4.264, -5.3871, -4.5758, -4.9134, -5.2217, -4.2819, -5.1017, -4.5556, -5.0341, -4.3723, -4.4396, -4.3414, -4.7482, -5.177, -4.6192, -4.7284, -5.198, -4.8652, -5.2455, -5.318, -6.4585, -7.188, -7.1883, -7.3661, -7.3672, -7.3682, -7.2377, -7.577, -7.5771, -7.5772, -7.5775, -7.5784, -7.5786, -7.5793, -7.5799, -7.5867, -7.6039, -6.8115, -7.8482, -7.8488, -7.8491, -7.849, -7.849, -7.8492, -7.8492, -7.8492, -7.8492, -7.8499, -7.85, -7.8546, -6.725, -7.0951, -7.3689, -3.0985, -6.2123, -7.3829, -7.366, -6.2904, -5.1382, -6.8664, -4.0753, -7.4121, -5.4588, -5.8373, -4.5867, -5.2808, -4.8167, -3.9151, -4.1547, -4.0725, -5.2452, -4.187, -4.0183, -5.2979, -5.891, -5.5109, -3.5975, -4.6965, -5.3044, -4.617, -6.0927, -5.2868, -4.6316, -6.3093, -4.9579, -5.2758, -4.8459, -5.0915, -5.206, -4.8943, -5.352, -5.1943, -5.4236, -5.1805, -5.437, -6.7631, -6.7646, -6.7651, -6.7654, -6.7689, -6.7703, -6.2806, -7.1369, -7.1369, -7.1369, -7.1369, -7.1369, -7.1369, -7.137, -7.1373, -7.1373, -7.1372, -7.1375, -7.1377, -7.1377, -7.1377, -7.1381, -7.1382, -7.1381, -7.1384, -7.1385, -7.1385, -7.1398, -7.1402, -7.14, -6.4927, -5.6086, -6.3003, -5.6506, -6.2779, -5.3388, -5.5458, -4.5292, -5.4273, -5.5124, -5.9849, -6.7925, -4.8368, -5.1952, -6.5926, -3.8518, -4.5847, -5.7953, -5.0589, -5.3853, -4.0326, -5.2837, -5.0904, -6.3061, -4.9911, -5.7718, -5.2213, -5.3879, -5.6244, -4.4269, -5.4823, -4.1354, -5.222, -4.6342, -5.4539, -4.9485, -4.837, -5.3007, -5.1392, -5.3895, -5.2984, -5.4613, -5.4767, -5.4979], \"loglift\": [30.0, 29.0, 28.0, 27.0, 26.0, 25.0, 24.0, 23.0, 22.0, 21.0, 20.0, 19.0, 18.0, 17.0, 16.0, 15.0, 14.0, 13.0, 12.0, 11.0, 10.0, 9.0, 8.0, 7.0, 6.0, 5.0, 4.0, 3.0, 2.0, 1.0, 0.8562, 0.8377, 0.8285, 0.8199, 0.8175, 0.8139, 0.8128, 0.8033, 0.8025, 0.8014, 0.8005, 0.7955, 0.7955, 0.7904, 0.7889, 0.7883, 0.7877, 0.7872, 0.7869, 0.7867, 0.7857, 0.7847, 0.7833, 0.7692, 0.7682, 0.7681, 0.7646, 0.7638, 0.7637, 0.7632, 0.7532, 0.7588, 0.7623, 0.7162, 0.7402, 0.7249, 0.6936, 0.6344, 0.7353, 0.704, 0.5802, 0.644, 0.4273, 0.7137, 0.6962, 0.5971, 0.6122, 0.2579, 0.3284, 0.2799, 0.4202, 0.4292, 0.4547, 0.3892, 0.4198, 0.3607, 0.4876, 0.0904, 0.3178, 0.3483, 0.2049, 0.3088, 0.3329, 0.1342, 0.1565, 0.0485, 0.318, 0.0432, -0.1426, -0.0414, -0.216, -0.2129, -0.4302, -0.4304, 0.1224, -0.683, -0.7016, 1.6042, 1.5385, 1.5319, 1.5116, 1.4884, 1.4567, 1.4538, 1.4534, 1.4514, 1.4452, 1.4448, 1.4275, 1.4054, 1.4045, 1.4036, 1.4033, 1.4028, 1.402, 1.3985, 1.3959, 1.3931, 1.3917, 1.3908, 1.3708, 1.3645, 1.3619, 1.3558, 1.3536, 1.3299, 1.3214, 1.3163, 1.1256, 1.2809, 0.9707, 1.185, 0.8186, 0.9248, 1.0939, 0.7301, 0.75, 0.7285, 1.0754, 0.8554, 1.2111, 0.4996, 0.7688, 0.4098, 0.7182, 0.4259, 0.7971, 0.8044, 0.6836, 0.4289, 0.8177, 0.6748, 0.7473, 0.6685, -0.2201, 0.5108, 0.1945, 0.3931, -0.1375, 0.5119, 0.0291, 0.4554, -0.1317, -0.3812, -1.0753, 1.5918, 1.5819, 1.5571, 1.5538, 1.5521, 1.545, 1.5397, 1.5129, 1.5035, 1.4866, 1.4774, 1.4692, 1.4688, 1.4686, 1.4684, 1.4672, 1.467, 1.4664, 1.4658, 1.4655, 1.4654, 1.4643, 1.464, 1.4624, 1.4623, 1.4606, 1.4594, 1.4513, 1.428, 1.4268, 1.2087, 1.3901, 1.4178, 1.3194, 1.0922, 1.2787, 1.1084, 1.334, 1.3293, 1.2163, 0.9081, 1.2962, 1.0518, 1.2047, 1.1669, 1.2783, 1.3677, 0.9502, 0.4238, 0.6286, 0.6329, 0.1562, -0.032, 0.7341, 0.1688, 0.6811, 0.535, 0.2815, 0.0921, 0.6148, 0.1937, 0.3555, 0.4958, 0.0095, 0.4141, 0.1195, 0.32, -0.1698, -0.2042, -0.3104, -0.0259, 0.264, -0.4662, -0.4032, 0.1913, -0.8846, 0.1183, -0.5405, 1.734, 1.6975, 1.6973, 1.6731, 1.6722, 1.6708, 1.6502, 1.6439, 1.6437, 1.6436, 1.6434, 1.6424, 1.6421, 1.6415, 1.6411, 1.6332, 1.6148, 1.6105, 1.5947, 1.5942, 1.594, 1.5939, 1.5939, 1.5937, 1.5937, 1.5937, 1.5936, 1.5931, 1.593, 1.5887, 1.5361, 1.5207, 1.5329, 0.8822, 1.34, 1.5174, 1.5038, 1.2792, 0.9922, 1.3702, 0.7023, 1.488, 0.9425, 1.0431, 0.5363, 0.7191, 0.5003, 0.1159, 0.1705, 0.1299, 0.5737, 0.0483, -0.0432, 0.538, 0.8236, 0.6359, -0.3442, 0.1332, 0.4803, 0.058, 0.9041, 0.279, -0.2756, 0.9778, -0.1884, 0.088, -0.4024, -0.1812, -0.1308, -0.5798, -0.0831, -0.472, -0.0562, -0.889, -1.284, 2.7673, 2.7656, 2.7648, 2.7644, 2.7607, 2.7592, 2.6823, 2.6691, 2.6691, 2.6691, 2.6691, 2.6691, 2.6691, 2.669, 2.6688, 2.6688, 2.6687, 2.6685, 2.6683, 2.6682, 2.6682, 2.6679, 2.6679, 2.6678, 2.6675, 2.6674, 2.6673, 2.6661, 2.6659, 2.6658, 2.6173, 2.4268, 2.523, 2.2055, 2.3985, 2.0264, 1.9924, 1.3648, 1.8117, 1.844, 2.0733, 2.4678, 1.2775, 1.4035, 2.3077, 0.4734, 0.8814, 1.7088, 1.0715, 1.2962, 0.1204, 1.1423, 0.9724, 1.988, 0.6163, 1.3964, 0.7432, 0.9328, 1.2221, -0.4462, 1.0033, -0.8821, 0.6319, -0.3198, 0.8546, -0.179, -0.6016, 0.3317, -0.3616, 0.0021, -0.6233, 0.3523, -0.1129, -1.0545]}, \"token.table\": {\"Topic\": [5, 2, 1, 2, 3, 4, 5, 1, 2, 4, 5, 4, 2, 4, 5, 4, 1, 2, 3, 4, 5, 4, 2, 5, 1, 2, 3, 4, 5, 2, 2, 4, 3, 5, 1, 2, 3, 4, 5, 5, 2, 5, 1, 2, 3, 4, 5, 1, 2, 3, 4, 5, 1, 3, 1, 2, 3, 4, 5, 1, 2, 5, 1, 2, 3, 5, 1, 5, 4, 2, 5, 1, 3, 3, 4, 3, 1, 3, 4, 5, 3, 5, 1, 2, 3, 4, 5, 5, 1, 2, 4, 1, 2, 3, 4, 5, 2, 2, 3, 1, 2, 3, 4, 1, 2, 3, 4, 5, 4, 4, 1, 2, 3, 4, 5, 2, 3, 4, 5, 1, 2, 3, 4, 5, 1, 2, 3, 4, 5, 1, 5, 1, 4, 5, 2, 1, 2, 3, 2, 1, 1, 2, 3, 4, 5, 1, 2, 3, 4, 4, 4, 1, 1, 3, 1, 2, 3, 4, 5, 1, 2, 3, 4, 5, 4, 5, 3, 2, 3, 4, 1, 3, 1, 2, 3, 4, 5, 3, 2, 5, 3, 4, 1, 3, 4, 5, 1, 2, 3, 4, 5, 2, 4, 1, 3, 1, 1, 2, 4, 1, 2, 3, 4, 5, 1, 5, 2, 3, 5, 5, 3, 2, 1, 2, 3, 5, 3, 1, 2, 1, 2, 3, 4, 5, 2, 4, 1, 2, 3, 4, 4, 1, 2, 3, 4, 5, 2, 1, 2, 3, 4, 5, 1, 2, 3, 4, 5, 5, 1, 2, 3, 4, 5, 1, 2, 1, 1, 3, 4, 5, 1, 2, 4, 5, 1, 2, 3, 4, 5, 1, 2, 3, 4, 5, 1, 2, 3, 4, 5, 1, 1, 4, 1, 3, 4, 5, 3, 1, 2, 3, 4, 5, 1, 2, 3, 4, 5, 1, 2, 3, 4, 1, 2, 3, 4, 5, 1, 1, 2, 3, 4, 5, 3, 4, 1, 2, 3, 4, 5, 1, 2, 3, 4, 5, 1, 2, 3, 4, 1, 2, 2, 3, 4, 1, 3, 4, 5, 4, 1, 2, 3, 4, 5, 5, 1, 4, 1, 2, 3, 4, 5, 1, 2, 3, 4, 5, 1, 3, 1, 2, 3, 4, 5, 1, 2, 3, 4, 5, 5, 4, 4, 3, 1, 2, 3, 4, 5, 1, 2, 3, 4, 5, 1, 2, 3, 4, 1, 2, 3, 4, 1, 2, 3, 4, 5, 5, 3, 3, 3, 5, 1, 2, 3, 4, 5, 4, 1, 1, 3, 1, 2, 1, 2, 3, 4, 5, 1, 2, 3, 4, 5, 4, 1, 2, 3, 4, 5, 4, 5, 1, 2, 3, 4, 5, 1, 2, 4, 5, 1, 2, 3, 4, 5, 3, 5, 1, 2, 3, 1, 2, 3, 4, 5, 1, 2, 3, 4, 5, 1, 4, 1, 4, 5, 1, 2, 3, 4, 5, 1, 2, 3, 4, 5, 2, 3, 4, 2, 4, 3, 3, 5, 1, 2, 3, 4, 5, 1, 2, 3, 4, 2, 5, 1, 2, 3, 4, 5, 1, 5, 1, 3, 4, 5, 1, 2, 1, 2, 3, 4, 5, 1, 2, 3, 4, 5, 1, 3, 4, 1, 2, 3, 4, 5, 2, 1, 1, 2, 3, 4, 5, 5, 1, 3, 1, 2, 3, 4, 5, 4, 1, 2, 3, 4, 5, 2, 1, 2, 4, 5, 3, 1, 4, 5, 1, 2, 3, 4, 3, 4, 1, 2, 3, 4, 5, 1, 2, 3, 4, 5, 1, 2, 3, 4, 5, 1, 2, 3, 4, 5, 1, 2, 3, 4, 5, 1, 2, 3, 4, 5, 2, 5, 1, 2, 3, 4, 5, 2, 1, 2, 3, 4, 5, 1, 2, 3, 4, 1, 2, 3, 4, 5, 1, 1, 2, 3, 4, 5, 1, 2, 3, 4, 5, 1, 4, 1, 4, 1, 2, 3, 4, 1, 1, 2, 3, 1, 2, 3, 4, 5, 1, 2, 3, 4, 5, 1, 5, 2, 1, 5, 1, 4, 5, 1, 2, 3, 4, 1, 2, 3, 4, 5, 1, 3, 2, 5, 1, 2, 1, 2, 3, 4, 5, 1, 4, 1, 2, 3, 4, 5, 1, 3, 5, 1, 3, 4, 1, 2, 3, 4, 5, 5, 1, 2, 3, 4, 5, 1, 2, 3, 4, 5, 5, 1, 2, 3, 4, 5, 4, 1, 2, 3, 4, 5, 4, 4, 5, 1, 2, 3, 4, 5, 1, 2, 3, 4, 5, 3, 1, 2, 3, 4, 5, 1, 2, 3, 4, 5, 1, 2, 3, 4, 5, 1, 2, 3, 5, 4, 1, 2, 3, 4, 5, 1, 2, 3, 4, 5, 1, 3, 5, 1, 2, 3, 4, 5], \"Freq\": [0.6252145353649382, 0.8905228049126235, 0.34779348832862417, 0.18970553908834045, 0.09485276954417023, 0.09485276954417023, 0.2845583086325107, 0.9058744092474741, 0.45413629558119717, 0.18165451823247888, 0.36330903646495777, 0.8594442447484714, 0.7460014017920319, 0.18650035044800797, 0.8236595251244183, 0.9175856091257567, 0.3945870760952896, 0.035871552372299054, 0.07174310474459811, 0.10761465711689716, 0.35871552372299054, 0.8203351777449307, 0.20535752579248992, 0.6160725773774698, 0.35559686767018706, 0.14223874706807482, 0.14223874706807482, 0.07111937353403741, 0.32003718090316835, 0.8360975216876492, 0.8896232046003719, 0.9177935163663042, 0.7999642492004673, 0.15999284984009343, 0.24742868789323869, 0.40207161782651285, 0.14227149553861224, 0.11752862674928838, 0.08660004076263354, 0.8238029522814283, 0.8136229313852251, 0.16272458627704503, 0.1264189858726379, 0.44246645055423267, 0.14222135910671765, 0.18962847880895686, 0.09481423940447843, 0.2875234587385271, 0.2361799839637901, 0.17456781423410575, 0.13349303441431615, 0.17456781423410575, 0.8660246346687561, 0.9130911040732096, 0.029457684131662203, 0.44186526197493303, 0.1767461047899732, 0.1767461047899732, 0.2062037889216354, 0.8888112787954149, 0.8353751944616781, 0.8238184441515699, 0.11210770832135512, 0.5829600832710466, 0.15695079164989717, 0.13452924998562615, 0.8663780582608192, 0.8238229738650074, 0.8594577358324894, 0.8335316951029446, 0.8237432677974337, 0.8723832044672037, 0.09693146716302264, 0.8244249547690763, 0.8594422195983298, 0.8241313703138369, 0.183423580491617, 0.6114119349720566, 0.12228238699441132, 0.06114119349720566, 0.8244020373515066, 0.8238228908704365, 0.4707956155893122, 0.2897203788241921, 0.018107523676512007, 0.05432257102953602, 0.18107523676512008, 0.8238029749480928, 0.25722879469942733, 0.08574293156647578, 0.6002005209653305, 0.7286100211566644, 0.012895752586843617, 0.1483011547487016, 0.09027026810790532, 0.019343628880265428, 0.8355205087542106, 0.8910371021266476, 0.8243131209144925, 0.19277696758934226, 0.6091752175823216, 0.10795510185003167, 0.09253294444288429, 0.2752958645164474, 0.26611933569923246, 0.33953156623695174, 0.06423570172050438, 0.055059172903289474, 0.8204212067897527, 0.85952639211, 0.4135532122284942, 0.11815806063671264, 0.19200684853465805, 0.2584707576428089, 0.02215463636938362, 0.8358728709090403, 0.662130185737374, 0.220710061912458, 0.8238520890599196, 0.4882943404686652, 0.009965190621809493, 0.36871205300695126, 0.11958228746171393, 0.009965190621809493, 0.29360494596318165, 0.38831621885453055, 0.20836480036096763, 0.06629789102394425, 0.03788450915653957, 0.49953311659526484, 0.49953311659526484, 0.9454544139592351, 0.30834451569121213, 0.6166890313824243, 0.83610164400567, 0.9810294232405248, 0.9254880378181278, 0.9719825963685964, 0.8648290050415266, 0.9072344738778937, 0.6033317719858875, 0.03405905164436462, 0.1800264158344987, 0.15083294299647187, 0.029193472838026816, 0.7836050597888727, 0.018657263328306493, 0.09328631664153247, 0.09328631664153247, 0.9176961795836831, 0.8594934935489055, 0.9297355045228187, 0.906413715252626, 0.8241139940804313, 0.3919875579271023, 0.2020805422854006, 0.20938465827161987, 0.17042937301178362, 0.026781758616137425, 0.20186035455587945, 0.4462176258603651, 0.15632794375380138, 0.18364739023504822, 0.012141976213887486, 0.9157251322696985, 0.823667432101257, 0.914903009177007, 0.13775234824613977, 0.6887617412306988, 0.13775234824613977, 0.09911181353080953, 0.8920063217772858, 0.6464354081166493, 0.03847829810218151, 0.21547846937221646, 0.10773923468610823, 0.823713757371778, 0.824398564496137, 0.17727372244029674, 0.709094889761187, 0.7999072649607943, 0.09998840812009929, 0.7440975794789904, 0.03916303049889423, 0.15665212199557693, 0.03916303049889423, 0.8395479853822755, 0.015264508825132281, 0.0915870529507937, 0.04579352647539685, 0.015264508825132281, 0.17574292178714299, 0.7908431480421434, 0.8889416429727547, 0.8245841947933623, 0.9100728129171003, 0.13843593635823384, 0.830615618149403, 0.7653289689483392, 0.42814070766176293, 0.17125628306470517, 0.22477387152242553, 0.13379397114430092, 0.040138191343290275, 0.8645192828637774, 0.09605769809597528, 0.8321932083098295, 0.13869886805163825, 0.8238026538251005, 0.8237210033125755, 0.9572357830580662, 0.8355102211078469, 0.21035050619558585, 0.14023367079705723, 0.07011683539852862, 0.5609346831882289, 0.8242531831142617, 0.2512938191573302, 0.6701168510862139, 0.410519207866471, 0.32689492478256027, 0.12923752840240754, 0.06081766042466237, 0.06841986797774517, 0.7950791164198123, 0.8597959057955642, 0.26509941594540476, 0.19882456195905354, 0.06627485398635119, 0.4639239779044583, 0.9176868807204358, 0.5021606309241535, 0.30191252656789597, 0.04004962087125151, 0.13555256294885126, 0.021565180469135428, 0.8367403445612843, 0.20482342795858935, 0.06827447598619645, 0.45841433876446186, 0.1365489519723929, 0.12679545540293627, 0.4763332981743561, 0.09526665963487121, 0.14099465625960939, 0.2743679797484291, 0.0076213327707896975, 0.8238324400552841, 0.8176783360205812, 0.021708274407626047, 0.07959700616129552, 0.07236091469208683, 0.007236091469208682, 0.8881946370793327, 0.07401621975661106, 0.9194646670205241, 0.8340533896653176, 0.05212833685408235, 0.05212833685408235, 0.8238392408292715, 0.17604863287639874, 0.13203647465729904, 0.5721580568482959, 0.13203647465729904, 0.29694439708624215, 0.4219736169120283, 0.11721489358667453, 0.12502921982578616, 0.039071631195558176, 0.49246776735090275, 0.16613370464849733, 0.10086689210801623, 0.21360047740521085, 0.02966673297294595, 0.3317649292269562, 0.382032342746192, 0.13069527515001306, 0.1407487578538602, 0.010053482703847158, 0.866486330027415, 0.9304340038799789, 0.85948305641837, 0.8315724452876955, 0.04376697080461555, 0.0875339416092311, 0.04376697080461555, 0.8241381209831246, 0.43312946674329444, 0.15910878370161838, 0.11491189934005772, 0.17678753744624262, 0.10607252246774558, 0.2789778449659739, 0.17807096487189825, 0.3502062309147332, 0.14839247072658188, 0.04154989180344292, 0.3208407460766041, 0.018872985063329652, 0.5473165668365599, 0.11323791037997792, 0.6208392375241538, 0.005643993068401398, 0.2821996534200699, 0.08465989602602098, 0.011287986136802796, 0.9188804158413063, 0.42629905461882145, 0.13357370378056407, 0.24725345167891646, 0.18472959033482264, 0.00852598109237643, 0.6645971062115478, 0.2215323687371826, 0.12888960058643642, 0.04296320019547881, 0.6229664028344427, 0.09129680041539247, 0.11814880053756673, 0.2930934333415707, 0.19751948768671065, 0.3185798188495333, 0.16566150580175731, 0.025486385507962665, 0.3630323224399138, 0.2934096852596564, 0.22378704807939892, 0.11935309230901275, 0.9086703346958885, 0.8359820526664611, 0.7383906573729151, 0.18459766434322877, 0.09229883217161439, 0.38383367536477475, 0.042648186151641634, 0.21324093075820819, 0.3411854892131331, 0.9168249868087718, 0.4000653483334027, 0.01666938951389178, 0.16669389513891777, 0.2167020636805931, 0.20003267416670134, 0.8237353212271904, 0.25057323742392035, 0.751719712271761, 0.34166507257386747, 0.08541626814346687, 0.29895693850213406, 0.1281244022152003, 0.17083253628693373, 0.22460525237631626, 0.11230262618815813, 0.2620394611057023, 0.3743420872938604, 0.01871710436469302, 0.8406149095167962, 0.06466268534744586, 0.5551427770226945, 0.0680835481254248, 0.24091101644381085, 0.13092990024120155, 0.005237196009648062, 0.3293975441065929, 0.3246918649050701, 0.15058173444872816, 0.16940445125481918, 0.026665515475295613, 0.8238051542083626, 0.9177563064468107, 0.8594725988540852, 0.824229425502945, 0.26596011267809283, 0.40789074973226735, 0.1355373651147973, 0.18156892307831335, 0.008950580715128123, 0.14851938883247545, 0.24134400685277263, 0.48268801370554526, 0.12995446522841603, 0.01856492360405943, 0.3649416302121775, 0.09952953551241206, 0.09952953551241206, 0.4312946538871189, 0.3970976392997304, 0.14891161473739892, 0.07445580736869946, 0.3970976392997304, 0.20933333704923893, 0.4419259337706155, 0.16281481770496362, 0.13955555803282593, 0.058148149180344146, 0.6250395894951737, 0.8775209839736637, 0.8248407525752532, 0.8244755975898613, 0.6247948516164031, 0.03904606075474258, 0.04880757594342822, 0.8199672758495942, 0.029284545566056933, 0.06833060632079951, 0.902484008043313, 0.8659643921720657, 0.9511851422721551, 0.8240226123796643, 0.16939719167393, 0.84698595836965, 0.032171625631586806, 0.6434325126317362, 0.09651487689476042, 0.16085812815793404, 0.06434325126317361, 0.44614815906844396, 0.1716884514572332, 0.21642417472425873, 0.15476142103187215, 0.010881662416303511, 0.7654342996843038, 0.5857615179891454, 0.052814563097381965, 0.2544701676510222, 0.08162250660504485, 0.024006619589719076, 0.6660307591426218, 0.16650768978565544, 0.4487733312722651, 0.07012083301129142, 0.08414499961354971, 0.23841083223839085, 0.15426583262484114, 0.21625995089697678, 0.12975597053818608, 0.605527862511535, 0.04325199017939536, 0.2657999963051101, 0.5185989058344267, 0.11700978098214085, 0.04478152111662181, 0.05489347749779447, 0.824086841016064, 0.8237579367293857, 0.2869378110178081, 0.07173445275445202, 0.6456100747900682, 0.6297340149621394, 0.13994089221380876, 0.0826923453990688, 0.13357994256772654, 0.019082848938246647, 0.7386822228072303, 0.06715292934611185, 0.033576464673055924, 0.0839411616826398, 0.05036469700958388, 0.9067082299735808, 0.9177734251961118, 0.920108051846235, 0.049291502777476875, 0.016430500925825625, 0.7701285288676007, 0.018163408699707565, 0.05812290783906421, 0.141674587857719, 0.010898045219824539, 0.3679472629697099, 0.31023004524897113, 0.18758095759240115, 0.11543443544147762, 0.021643956645277053, 0.8358044214255679, 0.787259133710678, 0.15745182674213562, 0.7445962082550095, 0.12409936804250157, 0.9375975287499602, 0.8356438001441748, 0.1392739666906958, 0.17571366246719589, 0.43928415616798977, 0.1631626865766819, 0.2008156142482239, 0.025101951781027986, 0.12425611923389268, 0.22366101462100682, 0.5218757007823492, 0.12425611923389268, 0.8359690601516561, 0.6250501514555612, 0.528146560073761, 0.1580327304336393, 0.17976957439663058, 0.11455904250765675, 0.019974397155181175, 0.8886485987465543, 0.8235802046782524, 0.12067814926231403, 0.7240688955738842, 0.6659409991139499, 0.16648524977848747, 0.8421526900215642, 0.1295619523110099, 0.47121429708073415, 0.03490476274672105, 0.3490476274672105, 0.13380159052909735, 0.017452381373360526, 0.27698412139854256, 0.3877777699579596, 0.2136734650788757, 0.031655328159833435, 0.0949659844795003, 0.09926636959596931, 0.7941309567677545, 0.09926636959596931, 0.4629532684929595, 0.09699973244614389, 0.2645447248531197, 0.14990867741676783, 0.030863551232863964, 0.7440496599340924, 0.8904024242066848, 0.20548388144237423, 0.2966749530883983, 0.07660050018266021, 0.390297786644983, 0.03039702388200802, 0.8237883036576265, 0.8843407596746937, 0.07369506330622448, 0.3723386990968829, 0.46052418046193405, 0.04899193409169511, 0.06858870772837315, 0.03919354727335609, 0.9179585308416094, 0.050275797731244194, 0.25137898865622094, 0.6033095727749302, 0.050275797731244194, 0.050275797731244194, 0.89092710640433, 0.2662444017277665, 0.13312220086388324, 0.13312220086388324, 0.532488803455533, 0.9390714508208154, 0.5770742179796066, 0.12365876099562999, 0.24731752199125998, 0.5751384423006498, 0.13318995505909786, 0.19978493258864677, 0.08475724412851682, 0.8243895746104273, 0.8594727375943574, 0.12408536332528484, 0.4073236926547394, 0.1079003159350303, 0.32639845570346665, 0.03237009478050909, 0.5805445185743812, 0.02977151377304519, 0.13397181197870334, 0.13397181197870334, 0.13397181197870334, 0.360673410153305, 0.24398495392723576, 0.07425629032568044, 0.30763320277781897, 0.021216082950194413, 0.2344354151219732, 0.2344354151219732, 0.0586088537804933, 0.0586088537804933, 0.4102619764634531, 0.3663270206271472, 0.1556889837665376, 0.10989810618814418, 0.3296943185644325, 0.0457908775783934, 0.3923052486133142, 0.32692104051109516, 0.15692209944532567, 0.11769157458399426, 0.006538420810221903, 0.6875423418208245, 0.22918078060694153, 0.11403811797052432, 0.41813976589192253, 0.19006352995087386, 0.22807623594104864, 0.0506836079868997, 0.8360885406173623, 0.5436811614802445, 0.008237593355761281, 0.2141774272497933, 0.0411879667788064, 0.18946464718250944, 0.33015001702428526, 0.41642037323163617, 0.18747212021982027, 0.06636181246719301, 0.6247280490384185, 0.037165124730330845, 0.20352330209466893, 0.12211398125680135, 0.010618607065808814, 0.9057637269989365, 0.5405739359598972, 0.0669282015950349, 0.12355975679083366, 0.1922040661190746, 0.07722484799427104, 0.6608732782370561, 0.012469307136548228, 0.16210099277512696, 0.04987722854619291, 0.11222376422893404, 0.9366903009933671, 0.765145371387741, 0.10321289366498822, 0.8257031493199057, 0.283582847991735, 0.056716569598347, 0.623882265581817, 0.056716569598347, 0.889097680154596, 0.8129442710139164, 0.05606512213889078, 0.11213024427778157, 0.56588925088462, 0.025107714203071882, 0.2839103067578128, 0.10815630733630964, 0.017382263679049763, 0.5720246200749584, 0.1716073860224875, 0.07626994934332779, 0.1779632151344315, 0.006355829111943982, 0.23868984010291172, 0.47737968020582344, 0.8404489952588248, 0.8864875711024418, 0.08058977919113107, 0.8887460577039696, 0.6670235737798816, 0.1667558934449704, 0.012718541596416591, 0.9767839946047943, 0.0025437083192833185, 0.007631124957849955, 0.6215331511702868, 0.13318567525077576, 0.06342175011941703, 0.11415915021495066, 0.06976392513135873, 0.9203974742053864, 0.8243571965379073, 0.8353467995573739, 0.8238094465888013, 0.15831293501966825, 0.7915646750983413, 0.16654668117355947, 0.4950137468214129, 0.06939445048898311, 0.2683252085574014, 0.0046262966992655415, 0.16151114573781053, 0.6460445829512421, 0.5593744355104627, 0.020717571685572693, 0.3038577180550662, 0.089776143970815, 0.027623428914096925, 0.2935684032378872, 0.6849929408884035, 0.8237509431886355, 0.9063910933490087, 0.912736283372186, 0.8595052057998069, 0.35312356875331524, 0.30049457533335, 0.21900452100566184, 0.08997860165348898, 0.035651898768363555, 0.6248629933460127, 0.46712866707498146, 0.23994587270518172, 0.1812357123624245, 0.09955201101597966, 0.012763078335382008, 0.11144408670309923, 0.585081455191271, 0.055722043351549615, 0.22288817340619846, 0.027861021675774807, 0.6253764490748481, 0.558300310555639, 0.16449919864585794, 0.12462060503474086, 0.09969648402779269, 0.04984824201389634, 0.8595527782193377, 0.4023909265486026, 0.16968292083374806, 0.20846758845289048, 0.17453100428614088, 0.04363275107153522, 0.8595761637001573, 0.9176976008569653, 0.8238044126788543, 0.5553620896598533, 0.012621865674087577, 0.18932798511131366, 0.11359679106678819, 0.12621865674087576, 0.41978222129236603, 0.13215366225870784, 0.14770115193620287, 0.2798548141949107, 0.031094979354990077, 0.8243564260154141, 0.8360524540011263, 0.02514443470680079, 0.05657497809030178, 0.07543330412040238, 0.006286108676700198, 0.3130550920528176, 0.07304618814565744, 0.04174067894037568, 0.4382771288739447, 0.14609237629131488, 0.30490894788751866, 0.02345453445288605, 0.5629088268692652, 0.0938181378115442, 0.02345453445288605, 0.3586810420412665, 0.07173620840825329, 0.14347241681650658, 0.3586810420412665, 0.8222873058964028, 0.21892515023352238, 0.20524232834392722, 0.15051104078554664, 0.41048465668785444, 0.013682821889595149, 0.43561722747461773, 0.09935129749421107, 0.15284814999109395, 0.2904114849830785, 0.02292722249866409, 0.29322471863525396, 0.6841910101489259, 0.8237332145320959, 0.39250532232061386, 0.14578769114765658, 0.3812908845400249, 0.0336433133417669, 0.04485775112235587], \"Term\": [\"AMAZING\", \"Alternative\", \"Angel\", \"Angel\", \"Angel\", \"Angel\", \"Angel\", \"Atkins\", \"Awesome\", \"Awesome\", \"Awesome\", \"Balsamic\", \"Best\", \"Best\", \"Chewy\", \"Cincinnati\", \"Delicious\", \"Delicious\", \"Delicious\", \"Delicious\", \"Delicious\", \"Euro\", \"Fettuccine\", \"Fettuccine\", \"Hair\", \"Hair\", \"Hair\", \"Hair\", \"Hair\", \"Healthy\", \"Ketogenic\", \"Konjac\", \"Love\", \"Love\", \"Miracle\", \"Miracle\", \"Miracle\", \"Miracle\", \"Miracle\", \"Mircle\", \"NOODLE\", \"NOODLE\", \"Noodle\", \"Noodle\", \"Noodle\", \"Noodle\", \"Noodle\", \"Noodles\", \"Noodles\", \"Noodles\", \"Noodles\", \"Noodles\", \"PERFECT\", \"Pack\", \"Pasta\", \"Pasta\", \"Pasta\", \"Pasta\", \"Pasta\", \"People\", \"Prime\", \"Replacement\", \"Rice\", \"Rice\", \"Rice\", \"Rice\", \"Satisfying\", \"Seller\", \"Style\", \"Super\", \"Tastey\", \"Thai\", \"Thai\", \"Variety\", \"Whisked\", \"Youtube\", \"ZERO\", \"ZERO\", \"ZERO\", \"ZERO\", \"Ziti\", \"a++++\", \"absolutely\", \"absolutely\", \"absolutely\", \"absolutely\", \"absolutely\", \"absoulutely\", \"actual\", \"actual\", \"actual\", \"add\", \"add\", \"add\", \"add\", \"add\", \"advantage\", \"afraid\", \"aftertaste\", \"alternative\", \"alternative\", \"alternative\", \"alternative\", \"amazing\", \"amazing\", \"amazing\", \"amazing\", \"amazing\", \"and/or\", \"aromatic\", \"asian\", \"asian\", \"asian\", \"asian\", \"asian\", \"ask\", \"available\", \"available\", \"avocado\", \"away\", \"away\", \"away\", \"away\", \"away\", \"awesome\", \"awesome\", \"awesome\", \"awesome\", \"awesome\", \"baby\", \"baby\", \"bad\", \"baked\", \"baked\", \"barley\", \"basically\", \"basis\", \"benefit\", \"best\", \"blow\", \"boil\", \"boil\", \"boil\", \"boil\", \"boil\", \"boiling\", \"boiling\", \"boiling\", \"boiling\", \"bomb\", \"boy\", \"brine\", \"briny\", \"buyer\", \"calorie\", \"calorie\", \"calorie\", \"calorie\", \"calorie\", \"carb\", \"carb\", \"carb\", \"carb\", \"carb\", \"carbe\", \"carbing\", \"careful\", \"chance\", \"chance\", \"chance\", \"chew\", \"chew\", \"chicken\", \"chicken\", \"chicken\", \"chicken\", \"chilli\", \"choke\", \"clam\", \"clam\", \"clear\", \"clear\", \"colander\", \"colander\", \"colander\", \"colander\", \"cold\", \"cold\", \"cold\", \"cold\", \"cold\", \"comfort\", \"comfort\", \"comment\", \"consistent\", \"container\", \"convenient\", \"convenient\", \"conventional\", \"cook\", \"cook\", \"cook\", \"cook\", \"cook\", \"cool\", \"cool\", \"couscous\", \"couscous\", \"craze\", \"creepy\", \"daily\", \"damage\", \"daughter\", \"daughter\", \"daughter\", \"daughter\", \"death\", \"decent\", \"decent\", \"delicious\", \"delicious\", \"delicious\", \"delicious\", \"delicious\", \"deliver\", \"diabetes\", \"diabetic\", \"diabetic\", \"diabetic\", \"diabetic\", \"dice\", \"diet\", \"diet\", \"diet\", \"diet\", \"diet\", \"digest\", \"direction\", \"direction\", \"direction\", \"direction\", \"direction\", \"dish\", \"dish\", \"dish\", \"dish\", \"dish\", \"doodle\", \"drain\", \"drain\", \"drain\", \"drain\", \"drain\", \"drop\", \"drop\", \"dukan\", \"dump\", \"dump\", \"dump\", \"dupe\", \"easily\", \"easily\", \"easily\", \"easily\", \"easy\", \"easy\", \"easy\", \"easy\", \"easy\", \"eat\", \"eat\", \"eat\", \"eat\", \"eat\", \"expect\", \"expect\", \"expect\", \"expect\", \"expect\", \"fake\", \"fall\", \"feta\", \"fettuccini\", \"fettuccini\", \"fettuccini\", \"fettuccini\", \"fight\", \"fill\", \"fill\", \"fill\", \"fill\", \"fill\", \"find\", \"find\", \"find\", \"find\", \"find\", \"fine\", \"fine\", \"fine\", \"fine\", \"fishy\", \"fishy\", \"fishy\", \"fishy\", \"fishy\", \"fit\", \"flavor\", \"flavor\", \"flavor\", \"flavor\", \"flavor\", \"flavorful\", \"flavorful\", \"follow\", \"follow\", \"follow\", \"follow\", \"follow\", \"food\", \"food\", \"food\", \"food\", \"food\", \"free\", \"free\", \"free\", \"free\", \"freeze\", \"frequently\", \"fried\", \"fried\", \"fried\", \"friend\", \"friend\", \"friend\", \"friend\", \"fruit\", \"garlic\", \"garlic\", \"garlic\", \"garlic\", \"garlic\", \"garlicky\", \"gelatinous\", \"gelatinous\", \"get\", \"get\", \"get\", \"get\", \"get\", \"give\", \"give\", \"give\", \"give\", \"give\", \"glass\", \"glass\", \"go\", \"go\", \"go\", \"go\", \"go\", \"good\", \"good\", \"good\", \"good\", \"good\", \"granddaughter\", \"grandmother\", \"grated\", \"grease\", \"great\", \"great\", \"great\", \"great\", \"great\", \"happy\", \"happy\", \"happy\", \"happy\", \"happy\", \"hard\", \"hard\", \"hard\", \"hard\", \"have\", \"have\", \"have\", \"have\", \"healthy\", \"healthy\", \"healthy\", \"healthy\", \"healthy\", \"hide\", \"honest\", \"household\", \"index\", \"inedible\", \"instruction\", \"instruction\", \"instruction\", \"instruction\", \"instruction\", \"interesting\", \"jicama\", \"juice\", \"kimchi\", \"large\", \"large\", \"lifestyle\", \"lifestyle\", \"lifestyle\", \"lifestyle\", \"lifestyle\", \"like\", \"like\", \"like\", \"like\", \"like\", \"list\", \"little\", \"little\", \"little\", \"little\", \"little\", \"loose\", \"loose\", \"lose\", \"lose\", \"lose\", \"lose\", \"lose\", \"loss\", \"loss\", \"loss\", \"loss\", \"love\", \"love\", \"love\", \"love\", \"love\", \"major\", \"mark\", \"market\", \"market\", \"market\", \"meal\", \"meal\", \"meal\", \"meal\", \"meal\", \"meat\", \"meat\", \"meat\", \"meat\", \"meat\", \"meet\", \"mein\", \"microwave\", \"microwave\", \"microwave\", \"minute\", \"minute\", \"minute\", \"minute\", \"minute\", \"miracle\", \"miracle\", \"miracle\", \"miracle\", \"miracle\", \"moist\", \"morning\", \"morning\", \"mushy\", \"mushy\", \"nasty\", \"nervous\", \"nervous\", \"nice\", \"nice\", \"nice\", \"nice\", \"nice\", \"night\", \"night\", \"night\", \"night\", \"nonstick\", \"nood\", \"noodle\", \"noodle\", \"noodle\", \"noodle\", \"noodle\", \"nuke\", \"obsess\", \"obviously\", \"obviously\", \"occasionally\", \"occasionally\", \"one\", \"one\", \"open\", \"open\", \"open\", \"open\", \"open\", \"order\", \"order\", \"order\", \"order\", \"order\", \"ounce\", \"ounce\", \"ounce\", \"package\", \"package\", \"package\", \"package\", \"package\", \"pallet\", \"paprika\", \"pasta\", \"pasta\", \"pasta\", \"pasta\", \"pasta\", \"pay\", \"peanut\", \"peanut\", \"perfect\", \"perfect\", \"perfect\", \"perfect\", \"perfect\", \"picture\", \"pleasantly\", \"pleasantly\", \"pleasantly\", \"pleasantly\", \"pleasantly\", \"possibly\", \"post\", \"post\", \"post\", \"post\", \"potato\", \"powder\", \"powder\", \"powder\", \"prepare\", \"prepare\", \"prepare\", \"prepare\", \"press\", \"prior\", \"product\", \"product\", \"product\", \"product\", \"product\", \"read\", \"read\", \"read\", \"read\", \"read\", \"real\", \"real\", \"real\", \"real\", \"real\", \"receive\", \"receive\", \"receive\", \"receive\", \"receive\", \"recommend\", \"recommend\", \"recommend\", \"recommend\", \"recommend\", \"regular\", \"regular\", \"regular\", \"regular\", \"regular\", \"reorder\", \"reorder\", \"replacement\", \"replacement\", \"replacement\", \"replacement\", \"replacement\", \"restriction\", \"review\", \"review\", \"review\", \"review\", \"review\", \"rice\", \"rice\", \"rice\", \"rice\", \"rinse\", \"rinse\", \"rinse\", \"rinse\", \"rinse\", \"rinsing\", \"sauce\", \"sauce\", \"sauce\", \"sauce\", \"sauce\", \"say\", \"say\", \"say\", \"say\", \"say\", \"seed\", \"service\", \"sieve\", \"sieve\", \"simply\", \"simply\", \"simply\", \"simply\", \"sink\", \"skillet\", \"skillet\", \"skillet\", \"smell\", \"smell\", \"smell\", \"smell\", \"smell\", \"soup\", \"soup\", \"soup\", \"soup\", \"soup\", \"soupy\", \"soupy\", \"spagetti\", \"spicy\", \"spicy\", \"squeeze\", \"standard\", \"standard\", \"star\", \"star\", \"star\", \"star\", \"stir\", \"stir\", \"stir\", \"stir\", \"stir\", \"straight\", \"stupid\", \"sub\", \"subitute\", \"subscription\", \"subscription\", \"substitute\", \"substitute\", \"substitute\", \"substitute\", \"substitute\", \"suck\", \"suck\", \"sure\", \"sure\", \"sure\", \"sure\", \"sure\", \"sweet\", \"sweet\", \"system\", \"tablespoon\", \"taco\", \"task\", \"taste\", \"taste\", \"taste\", \"taste\", \"taste\", \"teenage\", \"texture\", \"texture\", \"texture\", \"texture\", \"texture\", \"thank\", \"thank\", \"thank\", \"thank\", \"thank\", \"thumb\", \"time\", \"time\", \"time\", \"time\", \"time\", \"trade\", \"try\", \"try\", \"try\", \"try\", \"try\", \"udon\", \"unable\", \"upper\", \"veggie\", \"veggie\", \"veggie\", \"veggie\", \"veggie\", \"want\", \"want\", \"want\", \"want\", \"want\", \"waste\", \"water\", \"water\", \"water\", \"water\", \"water\", \"weight\", \"weight\", \"weight\", \"weight\", \"weight\", \"weird\", \"weird\", \"weird\", \"weird\", \"weird\", \"wife\", \"wife\", \"wife\", \"wife\", \"wonder\", \"wonderful\", \"wonderful\", \"wonderful\", \"wonderful\", \"wonderful\", \"work\", \"work\", \"work\", \"work\", \"work\", \"worried\", \"worried\", \"yeast\", \"zero\", \"zero\", \"zero\", \"zero\", \"zero\"]}, \"R\": 30, \"lambda.step\": 0.01, \"plot.opts\": {\"xlab\": \"PC1\", \"ylab\": \"PC2\"}, \"topic.order\": [5, 2, 1, 4, 3]};\n",
       "\n",
       "function LDAvis_load_lib(url, callback){\n",
       "  var s = document.createElement('script');\n",
       "  s.src = url;\n",
       "  s.async = true;\n",
       "  s.onreadystatechange = s.onload = callback;\n",
       "  s.onerror = function(){console.warn(\"failed to load library \" + url);};\n",
       "  document.getElementsByTagName(\"head\")[0].appendChild(s);\n",
       "}\n",
       "\n",
       "if(typeof(LDAvis) !== \"undefined\"){\n",
       "   // already loaded: just create the visualization\n",
       "   !function(LDAvis){\n",
       "       new LDAvis(\"#\" + \"ldavis_el30462134629245121326492302\", ldavis_el30462134629245121326492302_data);\n",
       "   }(LDAvis);\n",
       "}else if(typeof define === \"function\" && define.amd){\n",
       "   // require.js is available: use it to load d3/LDAvis\n",
       "   require.config({paths: {d3: \"https://d3js.org/d3.v5\"}});\n",
       "   require([\"d3\"], function(d3){\n",
       "      window.d3 = d3;\n",
       "      LDAvis_load_lib(\"https://cdn.jsdelivr.net/gh/bmabey/pyLDAvis@3.4.0/pyLDAvis/js/ldavis.v3.0.0.js\", function(){\n",
       "        new LDAvis(\"#\" + \"ldavis_el30462134629245121326492302\", ldavis_el30462134629245121326492302_data);\n",
       "      });\n",
       "    });\n",
       "}else{\n",
       "    // require.js not available: dynamically load d3 & LDAvis\n",
       "    LDAvis_load_lib(\"https://d3js.org/d3.v5.js\", function(){\n",
       "         LDAvis_load_lib(\"https://cdn.jsdelivr.net/gh/bmabey/pyLDAvis@3.4.0/pyLDAvis/js/ldavis.v3.0.0.js\", function(){\n",
       "                 new LDAvis(\"#\" + \"ldavis_el30462134629245121326492302\", ldavis_el30462134629245121326492302_data);\n",
       "            })\n",
       "         });\n",
       "}\n",
       "</script>"
      ],
      "text/plain": [
       "<IPython.core.display.HTML object>"
      ]
     },
     "execution_count": 57,
     "metadata": {},
     "output_type": "execute_result"
    }
   ],
   "source": [
    "\n",
    "# Display the LDA visualization for high-rating reviews\n",
    "display(Markdown(\"### High Rating Reviews LDA Visualization\" ))\n",
    "vis_data = gensimvis.prepare(high_lda, high_corpus, high_dictionary)\n",
    "pyLDAvis.display(vis_data)"
   ]
  },
  {
   "cell_type": "markdown",
   "id": "92ef0d29",
   "metadata": {},
   "source": [
    "\n",
    "### Example Walkthrough:\n",
    "\n",
    "1. **Selecting a Topic**:\n",
    "   - Select a topic from the dropdown or navigate using the buttons.\n",
    "   - Observe how the topic circle is highlighted in the Intertopic Distance Map.\n",
    "\n",
    "2. **Adjusting the Relevance Metric Slider**:\n",
    "   - Move the slider to λ = 1 to see the most specific terms for the topic.\n",
    "   - Move the slider to λ = 0 to see common terms that are less specific to the topic.\n",
    "   - Adjust the slider to intermediate values to balance specificity and generality.\n",
    "\n",
    "3. **Interpreting the Bar Chart**:\n",
    "   - Look at the top words and their frequencies in the bar chart.\n",
    "   - Use this information to understand what the topic is about and how it differs from other topics.\n",
    "\n",
    "By interacting with these components, you can gain a deeper understanding of the topics in your LDA model and how they relate to each other within your dataset."
   ]
  },
  {
   "cell_type": "markdown",
   "id": "a5fd49c2",
   "metadata": {},
   "source": [
    "### PyLDA Vis + Labels (HTML for Streamlit) -`WIP`"
   ]
  },
  {
   "cell_type": "code",
   "execution_count": 58,
   "id": "135be743",
   "metadata": {},
   "outputs": [
    {
     "data": {
      "text/markdown": [
       "## High Rating Reviews Topics"
      ],
      "text/plain": [
       "<IPython.core.display.Markdown object>"
      ]
     },
     "metadata": {},
     "output_type": "display_data"
    },
    {
     "data": {
      "text/html": [
       "\n",
       "<link rel=\"stylesheet\" type=\"text/css\" href=\"https://cdn.jsdelivr.net/gh/bmabey/pyLDAvis@3.4.0/pyLDAvis/js/ldavis.v1.0.0.css\">\n",
       "\n",
       "\n",
       "<div id=\"ldavis_el3046213545134160241578282\" style=\"background-color:white;\"></div>\n",
       "<script type=\"text/javascript\">\n",
       "\n",
       "var ldavis_el3046213545134160241578282_data = {\"mdsDat\": {\"x\": [0.020266846214135725, 0.08623660848277154, 0.019354532679142274, 0.014521326447442268, -0.14037931382349167], \"y\": [-0.06569830919679266, 0.09075377088660752, -0.05517987250669143, -0.007733829322437099, 0.03785824013931352], \"topics\": [1, 2, 3, 4, 5], \"cluster\": [1, 1, 1, 1, 1], \"Freq\": [40.79725596906524, 19.64770891593261, 18.55477656359897, 16.158682574471936, 4.841575976931237]}, \"tinfo\": {\"Term\": [\"star\", \"pasta\", \"love\", \"sauce\", \"carb\", \"great\", \"follow\", \"rice\", \"product\", \"review\", \"taste\", \"good\", \"instruction\", \"substitute\", \"smell\", \"weight\", \"Noodles\", \"Miracle\", \"direction\", \"order\", \"alternative\", \"garlic\", \"noodle\", \"say\", \"lose\", \"veggie\", \"absolutely\", \"rinse\", \"cook\", \"fill\", \"basically\", \"juice\", \"bad\", \"microwave\", \"brine\", \"peanut\", \"fit\", \"dukan\", \"fall\", \"rinsing\", \"Atkins\", \"straight\", \"briny\", \"tablespoon\", \"meet\", \"seed\", \"nuke\", \"People\", \"squeeze\", \"blow\", \"comment\", \"sink\", \"freeze\", \"spicy\", \"PERFECT\", \"jicama\", \"Satisfying\", \"drop\", \"fake\", \"paprika\", \"Thai\", \"glass\", \"container\", \"water\", \"one\", \"cold\", \"drain\", \"minute\", \"cool\", \"skillet\", \"add\", \"boiling\", \"rinse\", \"dump\", \"fettuccini\", \"meat\", \"colander\", \"noodle\", \"smell\", \"sauce\", \"fishy\", \"meal\", \"chicken\", \"boil\", \"stir\", \"little\", \"say\", \"like\", \"time\", \"prepare\", \"diet\", \"go\", \"soup\", \"texture\", \"dish\", \"cook\", \"sure\", \"flavor\", \"taste\", \"calorie\", \"good\", \"rice\", \"great\", \"love\", \"package\", \"pasta\", \"carb\", \"star\", \"Ketogenic\", \"best\", \"Super\", \"deliver\", \"convenient\", \"possibly\", \"afraid\", \"basis\", \"Alternative\", \"subscription\", \"large\", \"barley\", \"frequently\", \"Healthy\", \"nonstick\", \"restriction\", \"mushy\", \"damage\", \"sub\", \"ask\", \"Prime\", \"moist\", \"Best\", \"spagetti\", \"couscous\", \"advantage\", \"digest\", \"NOODLE\", \"pallet\", \"reorder\", \"alternative\", \"fried\", \"love\", \"lifestyle\", \"carb\", \"substitute\", \"Rice\", \"great\", \"rice\", \"product\", \"thank\", \"perfect\", \"decent\", \"good\", \"easy\", \"pasta\", \"Miracle\", \"taste\", \"healthy\", \"nice\", \"order\", \"diet\", \"Noodle\", \"awesome\", \"replacement\", \"expect\", \"noodle\", \"regular\", \"texture\", \"free\", \"like\", \"delicious\", \"calorie\", \"miracle\", \"cook\", \"flavor\", \"sauce\", \"benefit\", \"daily\", \"chew\", \"nasty\", \"potato\", \"Pack\", \"taco\", \"honest\", \"careful\", \"instruction\", \"clear\", \"kimchi\", \"buyer\", \"major\", \"Youtube\", \"grease\", \"Variety\", \"fight\", \"death\", \"Ziti\", \"waste\", \"aftertaste\", \"consistent\", \"press\", \"choke\", \"stupid\", \"index\", \"household\", \"nervous\", \"obviously\", \"follow\", \"ounce\", \"Love\", \"chance\", \"fine\", \"market\", \"weird\", \"available\", \"flavorful\", \"simply\", \"direction\", \"sweet\", \"night\", \"ZERO\", \"pleasantly\", \"worried\", \"morning\", \"happy\", \"smell\", \"open\", \"find\", \"like\", \"noodle\", \"zero\", \"taste\", \"away\", \"food\", \"flavor\", \"rinse\", \"amazing\", \"cook\", \"package\", \"sure\", \"rice\", \"fishy\", \"calorie\", \"little\", \"carb\", \"good\", \"great\", \"texture\", \"go\", \"love\", \"sauce\", \"free\", \"pasta\", \"try\", \"product\", \"interesting\", \"Euro\", \"and/or\", \"conventional\", \"list\", \"service\", \"wonder\", \"grandmother\", \"dice\", \"bomb\", \"Konjac\", \"mein\", \"Cincinnati\", \"unable\", \"picture\", \"fruit\", \"carbe\", \"sieve\", \"task\", \"boy\", \"trade\", \"feta\", \"prior\", \"Style\", \"grated\", \"Balsamic\", \"Whisked\", \"aromatic\", \"udon\", \"diabetes\", \"comfort\", \"gelatinous\", \"standard\", \"pasta\", \"loss\", \"loose\", \"suck\", \"easily\", \"weight\", \"actual\", \"product\", \"occasionally\", \"wonderful\", \"diabetic\", \"dish\", \"recommend\", \"substitute\", \"great\", \"sauce\", \"carb\", \"work\", \"good\", \"like\", \"want\", \"give\", \"real\", \"noodle\", \"flavor\", \"asian\", \"calorie\", \"have\", \"eat\", \"rinse\", \"hard\", \"cook\", \"try\", \"smell\", \"diet\", \"minute\", \"taste\", \"package\", \"texture\", \"boil\", \"rice\", \"love\", \"thumb\", \"AMAZING\", \"nood\", \"hide\", \"teenage\", \"inedible\", \"clam\", \"Mircle\", \"absoulutely\", \"craze\", \"upper\", \"granddaughter\", \"subitute\", \"pay\", \"a++++\", \"Seller\", \"system\", \"mark\", \"doodle\", \"chilli\", \"yeast\", \"Replacement\", \"dupe\", \"carbing\", \"creepy\", \"garlicky\", \"Chewy\", \"Tastey\", \"avocado\", \"obsess\", \"Fettuccine\", \"daughter\", \"baked\", \"receive\", \"post\", \"Delicious\", \"friend\", \"review\", \"Angel\", \"Hair\", \"wife\", \"soupy\", \"Noodles\", \"garlic\", \"baby\", \"sauce\", \"follow\", \"powder\", \"weight\", \"absolutely\", \"love\", \"lose\", \"direction\", \"Awesome\", \"Miracle\", \"Pasta\", \"fill\", \"veggie\", \"get\", \"pasta\", \"read\", \"noodle\", \"order\", \"taste\", \"say\", \"cook\", \"good\", \"stir\", \"product\", \"time\", \"calorie\", \"delicious\", \"try\", \"smell\"], \"Freq\": [392.0, 822.0, 692.0, 582.0, 658.0, 781.0, 186.0, 602.0, 370.0, 121.0, 588.0, 637.0, 102.0, 216.0, 517.0, 95.0, 97.0, 161.0, 102.0, 126.0, 129.0, 60.0, 1702.0, 80.0, 71.0, 79.0, 55.0, 565.0, 373.0, 113.0, 20.559604007705943, 11.894873889656209, 10.868635078558915, 56.370050440064695, 8.944531181070365, 12.493370425009555, 8.007032727152133, 7.925679337266317, 8.804383284212815, 7.0266040956668085, 7.019546600189121, 7.856607924504879, 6.980477518517677, 6.945432176765117, 6.93221617319219, 8.62289608798329, 6.055655884931356, 6.051075180752841, 6.049710749059526, 6.913215585886125, 6.041076495607387, 6.0341785063261195, 6.878555673860652, 10.925016596710046, 5.07799638561012, 5.077820144337353, 5.057652285456172, 11.831480374516206, 5.052736879750741, 5.8974571163503615, 26.81511069732948, 13.47420801992308, 6.725587139608843, 265.6531039648543, 26.403814817864326, 55.17733318136434, 112.81251355547748, 211.7978711011885, 17.71974941098161, 29.424242980243932, 113.03170121791605, 41.633907839732935, 353.4046817093338, 15.977830876188886, 18.700188501889652, 44.153398686201335, 38.43080585961666, 898.7979079143059, 293.34503643601255, 314.5108915950736, 110.04038162895534, 98.51793012829764, 83.53406237658871, 123.74015023757791, 97.88208090254057, 121.87713459846273, 53.27828692287675, 369.3575940568438, 112.46272535723662, 95.46956903161242, 162.53357173145446, 106.08182483243887, 89.54080843198618, 182.77203589973894, 125.19616881996424, 160.03365255677244, 81.19295907642793, 149.884983473338, 208.36801720412538, 160.76994571075676, 209.56010689746276, 198.7530464404335, 207.51315603423134, 183.6510457847999, 104.57831210338327, 169.48592490823083, 133.26837473303152, 384.168523474778, 8.229107683615247, 7.358053429886171, 6.41210970181155, 5.47346889759709, 6.090980021127438, 3.7749416889013396, 3.772844705039438, 4.531345377451526, 3.744110787449626, 5.26330960815599, 9.669128614864775, 2.8744319395420552, 2.872139008833581, 2.869239851827294, 2.868684249329173, 2.866850710713434, 6.433240730638544, 2.856434297242316, 2.8497224880979704, 2.839984836518256, 2.8375496050793023, 2.8335480581662718, 4.1490684432310125, 2.744911325817582, 5.529641166480099, 2.7370638812860983, 2.7271192010330134, 4.564969151116142, 1.9797788097158873, 6.394710730018626, 78.5282506062582, 7.663122521222969, 359.0417102846888, 19.974120362157485, 293.52269421020856, 107.08636811061764, 26.164477168819186, 318.88813338418703, 250.72206783332823, 150.91857152099925, 20.670649444235192, 47.16864728725733, 7.874873060248444, 206.4381208055805, 54.24052110330401, 243.45101933679467, 65.1375473580369, 177.17980915678947, 37.4900537848679, 34.994692353706114, 49.183980249308206, 97.93104638038417, 28.16458773060423, 40.73349091174085, 32.73950433243016, 38.134597009995396, 268.37292753450345, 50.08039929342067, 93.49276265835, 58.53497883251544, 141.6202337787381, 43.1208831118444, 83.07934329534511, 42.94126886309555, 64.3672153243593, 47.22180781784816, 39.0631090245161, 7.502320839162325, 6.599957367561866, 8.883486097955831, 5.615609979850286, 5.597417336719375, 4.76314165396458, 4.7398219240314265, 3.8397579827336257, 4.560559408670781, 84.05221850945242, 8.130786181332912, 2.935590897326273, 2.9340125271268076, 2.933756125216768, 2.9330306838200877, 2.9291867958162356, 2.927684537501012, 2.9270261697023194, 2.924957115699132, 2.923595902219394, 2.9233449708510344, 2.9203532981010527, 2.9184906975838714, 2.9144232309200584, 2.914044098596679, 2.9093401463008934, 2.905337136889048, 2.880651912182668, 5.5562117896886605, 6.404631914731252, 115.71717510079758, 7.504897226443912, 4.787524571780738, 10.078424603980562, 29.3069247916625, 9.291012911150588, 23.965272879350927, 6.382643191373778, 6.329129401262601, 11.040162005079544, 47.1690083009199, 6.931133971177228, 21.37405709991647, 10.123399116379078, 11.854720904221484, 6.815791167601451, 4.6269732117624, 25.847580666159573, 146.778693840308, 59.80489401507221, 58.86123984627054, 179.40059754103765, 305.88212420639337, 34.47431854500233, 129.3934912445651, 36.79230597958825, 49.72495573599379, 86.51101292988578, 114.95415346127291, 37.39080417013571, 84.15799119498334, 60.04593274127776, 44.11441385623546, 112.91273378045665, 49.73982799817465, 85.8792157899825, 53.21886036533384, 103.15824230720801, 96.44287553817165, 106.3938270070254, 70.83387518435663, 46.13350231021516, 80.58300076976622, 72.24600941744959, 45.17547821766862, 63.00977898638064, 43.076940373323055, 40.064386327899605, 11.153955484399878, 5.377809094411913, 5.376045964429061, 4.500249672488674, 4.495457405655583, 4.491035495543514, 5.116931725762584, 3.6447360036592933, 3.6442546227758172, 3.6440528736447906, 3.6428933339779666, 3.6393567172806898, 3.6389312627477035, 3.6362095136905284, 3.6339152905126535, 3.609625440821729, 3.5480600571253866, 7.835841795679534, 2.778760585999566, 2.7773147862720857, 2.7765119324406085, 2.776710574552163, 2.77660969998665, 2.7761218979295994, 2.7760436010389133, 2.776082749484256, 2.77600010276631, 2.774245051034084, 2.773776305363126, 2.7613026578575623, 8.5440889555911, 5.901079642943476, 4.487938832803424, 321.09118396180395, 14.267488097412562, 4.425412758686445, 4.500862790997748, 13.1945787617666, 41.76451596822538, 7.41792696327791, 120.90064658347191, 4.297982290614243, 30.308930204978076, 20.757687216762207, 72.49610024597253, 36.21457716654489, 57.6027225466491, 141.9018445871139, 111.66550429945616, 121.2375369763608, 37.527343434171975, 108.11865018015503, 127.9953755815379, 35.599665700100566, 19.672918180658282, 28.771209099294495, 194.96062986761794, 64.95861351634802, 35.371008951910895, 70.33283918163595, 16.079828297464736, 35.99928308769894, 69.31314024719241, 12.948769609016304, 50.01872166418751, 36.39751184472812, 55.94529419476134, 43.75991512723965, 39.026388361472314, 53.30268050925977, 33.7263500357824, 39.48489163917467, 31.395631392924113, 40.03501802121149, 30.977242636485744, 2.4642526775988975, 2.4606584789105033, 2.4595693954980162, 2.4586203264563165, 2.4501740340143194, 2.4467032167838707, 3.992402289689117, 1.695746565669837, 1.6957456967863302, 1.6957463174174066, 1.6957394904755685, 1.69573762858234, 1.6957204991646373, 1.6956195845516497, 1.6951706200311387, 1.6951673927495425, 1.69522113940074, 1.6948225701236148, 1.6943373607482546, 1.6944834573035883, 1.694388500748932, 1.6937524780220592, 1.6936504462731348, 1.693804859284889, 1.6931507141305917, 1.6930994500036989, 1.692996176992622, 1.690899188712413, 1.6902224525869425, 1.690578818950887, 3.2295846339519247, 7.818122436004912, 3.914578876522158, 7.4962115233905875, 4.003184637501869, 10.23955976167735, 8.324914381165703, 23.008579425603898, 9.372444805335082, 8.607156044904958, 5.366421649543181, 2.3929066668478507, 16.91543602371436, 11.819945657178064, 2.9226023812441198, 45.29522092319666, 21.76470962970712, 6.486573357198949, 13.547031857923296, 9.774211573764651, 37.80518294124708, 10.819218263725839, 13.126191358755593, 3.891865268648423, 14.496826789729875, 6.640779326426399, 11.51650869742985, 9.749079490713244, 7.695495665448262, 25.48675236173673, 8.870615426259455, 34.11303377388536, 11.508353108583938, 20.713696223938197, 9.126331317802624, 15.127955964693276, 16.913011093973495, 10.637146952187468, 12.501956650291298, 9.733404832253154, 10.661975174263976, 9.058406473795932, 8.920522108862386, 8.733048824436915], \"Total\": [392.0, 822.0, 692.0, 582.0, 658.0, 781.0, 186.0, 602.0, 370.0, 121.0, 588.0, 637.0, 102.0, 216.0, 517.0, 95.0, 97.0, 161.0, 102.0, 126.0, 129.0, 60.0, 1702.0, 80.0, 71.0, 79.0, 55.0, 565.0, 373.0, 113.0, 21.405166178060064, 12.615390755650168, 11.634200099625712, 60.862205348520895, 9.679887706510819, 13.5689896392468, 8.705984026966508, 8.700454434996264, 9.672608884518874, 7.728068560747491, 7.727125174690426, 8.6916161467751, 7.722549129447583, 7.722707447441341, 7.719974466508039, 9.608184149099188, 6.751651940610083, 6.750416874321424, 6.750910998042183, 7.715614633505839, 6.749424887738998, 6.748248363706259, 7.703435450422429, 12.408603980515695, 5.7733768439950355, 5.773780198391275, 5.771029883988598, 13.50950745352669, 5.770319165029694, 6.7382708109852345, 30.948716944863804, 15.464364176872778, 7.6914279874511795, 318.1627208030911, 30.870005651548613, 65.51114770926435, 138.1972404145169, 275.2950952592999, 20.82147783113652, 35.67046786575915, 155.09512622380623, 53.599522203194454, 565.0695800283831, 19.183622787277844, 22.849596759109236, 59.56630402418133, 51.07351933864442, 1702.126623296706, 517.7934116844561, 582.7807352596922, 177.1859796552784, 157.20698353429265, 129.94686261942965, 205.54086794445772, 157.67606609647584, 208.27853839703218, 80.20280388795912, 827.0685394675238, 200.60338019525554, 165.16939324800381, 324.5623466326335, 190.94737314545384, 157.33513178409353, 391.7184400032415, 262.4514144246196, 373.70553670499584, 144.81096108592146, 351.8767895659019, 588.9576943386779, 410.7233191519843, 637.4727645153434, 602.6166156312552, 781.9633890932924, 692.0581824169876, 226.814113103766, 822.5246595549469, 658.7679680394798, 392.8837286765433, 8.987543381790964, 8.08960713259483, 7.194403534722047, 6.285451080739208, 7.219873236760273, 4.487506742889536, 4.486955202668783, 5.399866854943778, 4.489563480630815, 6.313447859969314, 11.800555022964435, 3.586456445452019, 3.5869710942233506, 3.586484079758849, 3.5870291630024114, 3.586524483295669, 8.054786467203206, 3.589006452942141, 3.589712701429992, 3.587458564462694, 3.589598643907148, 3.5877562248324857, 5.359783563477388, 3.5680488005626616, 7.206559863521282, 3.589041368024366, 3.5838720389754237, 6.14318175841899, 2.6869386557109873, 8.723848716667788, 129.64091854932772, 10.82998008996607, 692.0581824169876, 31.075318211168657, 658.7679680394798, 216.12612212831954, 44.5868798144145, 781.9633890932924, 602.6166156312552, 370.7060601127191, 35.885146123970515, 102.03373708284403, 11.933275910466955, 637.4727645153434, 127.94809771597032, 822.5246595549469, 161.6418909964693, 588.9576943386779, 85.97378428076017, 79.66473007365688, 126.33843234393707, 324.5623466326335, 63.275504960387195, 105.56439386339227, 78.91466936334015, 99.45273044605281, 1702.126623296706, 152.9210613386289, 391.7184400032415, 201.06103002164582, 827.0685394675238, 131.52243358877828, 410.7233191519843, 138.59012092911803, 373.70553670499584, 351.8767895659019, 582.7807352596922, 8.230785200878511, 7.312896318110041, 10.089836604512884, 6.3994926563977215, 6.389507359557833, 5.476057967563026, 5.478183816789415, 4.558427786490017, 5.465343563604243, 102.44730549103869, 10.002141405889008, 3.640805616741801, 3.6404004414498994, 3.6405220228839172, 3.6403243752759065, 3.6398934426948144, 3.6390290874072035, 3.640294728365305, 3.6397929571388854, 3.639124005017737, 3.6393355281675066, 3.6395303841898063, 3.6383157642077943, 3.639188058332776, 3.639155839536131, 3.639325690208745, 3.638802953185885, 3.6372277034985645, 7.1807003292791, 8.286699800131338, 186.22622206869798, 10.074647558106836, 6.250892257771688, 14.519119879531068, 52.98904361948257, 13.940080635477454, 42.63757350884638, 9.063008456694437, 9.029532616705458, 17.631933728395783, 102.5400380506239, 10.219131152904808, 40.23724714273253, 16.357670474331936, 19.88857575200148, 10.231115423925099, 6.35189228662019, 53.86229203052762, 517.7934116844561, 171.90756159361436, 168.47318657381268, 827.0685394675238, 1702.126623296706, 89.1661514274037, 588.9576943386779, 100.35562610231729, 156.94593256853602, 351.8767895659019, 565.0695800283831, 108.96303628582324, 373.70553670499584, 226.814113103766, 144.81096108592146, 602.6166156312552, 177.1859796552784, 410.7233191519843, 208.27853839703218, 658.7679680394798, 637.4727645153434, 781.9633890932924, 391.7184400032415, 190.94737314545384, 692.0581824169876, 582.7807352596922, 201.06103002164582, 822.5246595549469, 206.27226895491873, 370.7060601127191, 12.196170907261475, 6.098764051561137, 6.098123914656488, 5.229594416597565, 5.22887931610897, 5.230844595934022, 6.084126191840012, 4.3609509041614105, 4.3612804555275035, 4.3612362769001205, 4.360772739212596, 4.360865863708876, 4.361757764726495, 4.36122351876784, 4.3599779536726215, 4.365352278962446, 4.370545782046996, 9.694038087339631, 3.4922767416706955, 3.4923230631270155, 3.492081140083598, 3.4923649034246522, 3.492406509737274, 3.4924675042061493, 3.4924068367712287, 3.4925222473938478, 3.4925304379077704, 3.4921872588243557, 3.491984961437674, 3.491080874947637, 11.384812819116041, 7.98569013788822, 6.000339347898277, 822.5246595549469, 23.128873723927, 6.00923190659566, 6.194574387358103, 22.72999262046577, 95.8611916525995, 11.667457345434126, 370.7060601127191, 6.009863779087299, 73.0961016421235, 45.274212626541996, 262.4514144246196, 109.20801887056824, 216.12612212831954, 781.9633890932924, 582.7807352596922, 658.7679680394798, 130.86604722500195, 637.4727645153434, 827.0685394675238, 128.65262568620042, 53.43726463391222, 94.27306720379231, 1702.126623296706, 351.8767895659019, 135.42591618990812, 410.7233191519843, 40.29935183670893, 168.54575248310329, 565.0695800283831, 30.148504875024287, 373.70553670499584, 206.27226895491873, 517.7934116844561, 324.5623466326335, 275.2950952592999, 588.9576943386779, 226.814113103766, 391.7184400032415, 205.54086794445772, 602.6166156312552, 692.0581824169876, 3.199583631094577, 3.2004102362898323, 3.2012531677301888, 3.201304812412883, 3.202201226051483, 3.2025520573101938, 5.642866917673801, 2.4288046495808184, 2.4288045821966877, 2.428805529188067, 2.428800341526922, 2.428798155024736, 2.4287854946416023, 2.4288477350454625, 2.428745893262172, 2.428745646693181, 2.428957577498894, 2.4289374405434465, 2.4287160466518376, 2.4290671771686214, 2.4290095153167037, 2.428758550935661, 2.4286951604293145, 2.4292035107571293, 2.429044545160878, 2.4290035648078168, 2.429225633516064, 2.4289756695941525, 2.42865522004177, 2.4294578592527953, 4.870963747028847, 14.265398736439172, 6.489917935538035, 17.0650019043312, 7.51437981403726, 27.8843658400086, 23.455573503984255, 121.40891563549708, 31.631268452416343, 28.125648718564815, 13.942317053998, 4.190959265220128, 97.38672876676635, 60.00487142747612, 6.007295589418616, 582.7807352596922, 186.22622206869798, 24.265446235951806, 95.8611916525995, 55.22193500400656, 692.0581824169876, 71.31935911172897, 102.5400380506239, 11.010112956571275, 161.6418909964693, 33.945948123547275, 113.1375478830476, 79.23760233155268, 46.83509973939049, 822.5246595549469, 67.18682247624932, 1702.126623296706, 126.33843234393707, 588.9576943386779, 80.20280388795912, 373.70553670499584, 637.4727645153434, 157.67606609647584, 370.7060601127191, 200.60338019525554, 410.7233191519843, 131.52243358877828, 206.27226895491873, 517.7934116844561], \"Category\": [\"Default\", \"Default\", \"Default\", \"Default\", \"Default\", \"Default\", \"Default\", \"Default\", \"Default\", \"Default\", \"Default\", \"Default\", \"Default\", \"Default\", \"Default\", \"Default\", \"Default\", \"Default\", \"Default\", \"Default\", \"Default\", \"Default\", \"Default\", \"Default\", \"Default\", \"Default\", \"Default\", \"Default\", \"Default\", \"Default\", \"Topic1\", \"Topic1\", \"Topic1\", \"Topic1\", \"Topic1\", \"Topic1\", \"Topic1\", \"Topic1\", \"Topic1\", \"Topic1\", \"Topic1\", \"Topic1\", \"Topic1\", \"Topic1\", \"Topic1\", \"Topic1\", \"Topic1\", \"Topic1\", \"Topic1\", \"Topic1\", \"Topic1\", \"Topic1\", \"Topic1\", \"Topic1\", \"Topic1\", \"Topic1\", \"Topic1\", \"Topic1\", \"Topic1\", \"Topic1\", \"Topic1\", \"Topic1\", \"Topic1\", \"Topic1\", \"Topic1\", \"Topic1\", \"Topic1\", \"Topic1\", \"Topic1\", \"Topic1\", \"Topic1\", \"Topic1\", \"Topic1\", \"Topic1\", \"Topic1\", \"Topic1\", \"Topic1\", \"Topic1\", \"Topic1\", \"Topic1\", \"Topic1\", \"Topic1\", \"Topic1\", \"Topic1\", \"Topic1\", \"Topic1\", \"Topic1\", \"Topic1\", \"Topic1\", \"Topic1\", \"Topic1\", \"Topic1\", \"Topic1\", \"Topic1\", \"Topic1\", \"Topic1\", \"Topic1\", \"Topic1\", \"Topic1\", \"Topic1\", \"Topic1\", \"Topic1\", \"Topic1\", \"Topic1\", \"Topic1\", \"Topic1\", \"Topic1\", \"Topic2\", \"Topic2\", \"Topic2\", \"Topic2\", \"Topic2\", \"Topic2\", \"Topic2\", \"Topic2\", \"Topic2\", \"Topic2\", \"Topic2\", \"Topic2\", \"Topic2\", \"Topic2\", \"Topic2\", \"Topic2\", \"Topic2\", \"Topic2\", \"Topic2\", \"Topic2\", \"Topic2\", \"Topic2\", \"Topic2\", \"Topic2\", \"Topic2\", \"Topic2\", \"Topic2\", \"Topic2\", \"Topic2\", \"Topic2\", \"Topic2\", \"Topic2\", \"Topic2\", \"Topic2\", \"Topic2\", \"Topic2\", \"Topic2\", \"Topic2\", \"Topic2\", \"Topic2\", \"Topic2\", \"Topic2\", \"Topic2\", \"Topic2\", \"Topic2\", \"Topic2\", \"Topic2\", \"Topic2\", \"Topic2\", \"Topic2\", \"Topic2\", \"Topic2\", \"Topic2\", \"Topic2\", \"Topic2\", \"Topic2\", \"Topic2\", \"Topic2\", \"Topic2\", \"Topic2\", \"Topic2\", \"Topic2\", \"Topic2\", \"Topic2\", \"Topic2\", \"Topic2\", \"Topic2\", \"Topic2\", \"Topic3\", \"Topic3\", \"Topic3\", \"Topic3\", \"Topic3\", \"Topic3\", \"Topic3\", \"Topic3\", \"Topic3\", \"Topic3\", \"Topic3\", \"Topic3\", \"Topic3\", \"Topic3\", \"Topic3\", \"Topic3\", \"Topic3\", \"Topic3\", \"Topic3\", \"Topic3\", \"Topic3\", \"Topic3\", \"Topic3\", \"Topic3\", \"Topic3\", \"Topic3\", \"Topic3\", \"Topic3\", \"Topic3\", \"Topic3\", \"Topic3\", \"Topic3\", \"Topic3\", \"Topic3\", \"Topic3\", \"Topic3\", \"Topic3\", \"Topic3\", \"Topic3\", \"Topic3\", \"Topic3\", \"Topic3\", \"Topic3\", \"Topic3\", \"Topic3\", \"Topic3\", \"Topic3\", \"Topic3\", \"Topic3\", \"Topic3\", \"Topic3\", \"Topic3\", \"Topic3\", \"Topic3\", \"Topic3\", \"Topic3\", \"Topic3\", \"Topic3\", \"Topic3\", \"Topic3\", \"Topic3\", \"Topic3\", \"Topic3\", \"Topic3\", \"Topic3\", \"Topic3\", \"Topic3\", \"Topic3\", \"Topic3\", \"Topic3\", \"Topic3\", \"Topic3\", \"Topic3\", \"Topic3\", \"Topic3\", \"Topic3\", \"Topic3\", \"Topic3\", \"Topic4\", \"Topic4\", \"Topic4\", \"Topic4\", \"Topic4\", \"Topic4\", \"Topic4\", \"Topic4\", \"Topic4\", \"Topic4\", \"Topic4\", \"Topic4\", \"Topic4\", \"Topic4\", \"Topic4\", \"Topic4\", \"Topic4\", \"Topic4\", \"Topic4\", \"Topic4\", \"Topic4\", \"Topic4\", \"Topic4\", \"Topic4\", \"Topic4\", \"Topic4\", \"Topic4\", \"Topic4\", \"Topic4\", \"Topic4\", \"Topic4\", \"Topic4\", \"Topic4\", \"Topic4\", \"Topic4\", \"Topic4\", \"Topic4\", \"Topic4\", \"Topic4\", \"Topic4\", \"Topic4\", \"Topic4\", \"Topic4\", \"Topic4\", \"Topic4\", \"Topic4\", \"Topic4\", \"Topic4\", \"Topic4\", \"Topic4\", \"Topic4\", \"Topic4\", \"Topic4\", \"Topic4\", \"Topic4\", \"Topic4\", \"Topic4\", \"Topic4\", \"Topic4\", \"Topic4\", \"Topic4\", \"Topic4\", \"Topic4\", \"Topic4\", \"Topic4\", \"Topic4\", \"Topic4\", \"Topic4\", \"Topic4\", \"Topic4\", \"Topic4\", \"Topic4\", \"Topic4\", \"Topic4\", \"Topic4\", \"Topic5\", \"Topic5\", \"Topic5\", \"Topic5\", \"Topic5\", \"Topic5\", \"Topic5\", \"Topic5\", \"Topic5\", \"Topic5\", \"Topic5\", \"Topic5\", \"Topic5\", \"Topic5\", \"Topic5\", \"Topic5\", \"Topic5\", \"Topic5\", \"Topic5\", \"Topic5\", \"Topic5\", \"Topic5\", \"Topic5\", \"Topic5\", \"Topic5\", \"Topic5\", \"Topic5\", \"Topic5\", \"Topic5\", \"Topic5\", \"Topic5\", \"Topic5\", \"Topic5\", \"Topic5\", \"Topic5\", \"Topic5\", \"Topic5\", \"Topic5\", \"Topic5\", \"Topic5\", \"Topic5\", \"Topic5\", \"Topic5\", \"Topic5\", \"Topic5\", \"Topic5\", \"Topic5\", \"Topic5\", \"Topic5\", \"Topic5\", \"Topic5\", \"Topic5\", \"Topic5\", \"Topic5\", \"Topic5\", \"Topic5\", \"Topic5\", \"Topic5\", \"Topic5\", \"Topic5\", \"Topic5\", \"Topic5\", \"Topic5\", \"Topic5\", \"Topic5\", \"Topic5\", \"Topic5\", \"Topic5\", \"Topic5\", \"Topic5\", \"Topic5\", \"Topic5\", \"Topic5\", \"Topic5\"], \"logprob\": [30.0, 29.0, 28.0, 27.0, 26.0, 25.0, 24.0, 23.0, 22.0, 21.0, 20.0, 19.0, 18.0, 17.0, 16.0, 15.0, 14.0, 13.0, 12.0, 11.0, 10.0, 9.0, 8.0, 7.0, 6.0, 5.0, 4.0, 3.0, 2.0, 1.0, -6.7731, -7.3203, -7.4105, -5.7645, -7.6054, -7.2712, -7.7161, -7.7263, -7.6212, -7.8467, -7.8477, -7.7351, -7.8533, -7.8583, -7.8602, -7.642, -7.9954, -7.9962, -7.9964, -7.863, -7.9978, -7.999, -7.868, -7.4054, -8.1715, -8.1715, -8.1755, -7.3256, -8.1765, -8.0219, -6.5074, -7.1956, -7.8905, -4.2142, -6.5229, -5.7859, -5.0707, -4.4408, -6.9217, -6.4146, -5.0687, -6.0675, -3.9288, -7.0252, -6.8679, -6.0087, -6.1476, -2.9954, -4.1151, -4.0454, -5.0956, -5.2062, -5.3712, -4.9782, -5.2126, -4.9934, -5.8209, -3.8846, -5.0738, -5.2376, -4.7055, -5.1322, -5.3017, -4.5882, -4.9665, -4.721, -5.3996, -4.7865, -4.4571, -4.7164, -4.4514, -4.5043, -4.4612, -4.5834, -5.1465, -4.6636, -4.904, -3.1147, -6.9581, -7.07, -7.2076, -7.3658, -7.2589, -7.7374, -7.7379, -7.5547, -7.7456, -7.405, -6.7968, -8.0099, -8.0107, -8.0117, -8.0119, -8.0125, -7.2043, -8.0162, -8.0185, -8.022, -8.0228, -8.0242, -7.6429, -8.056, -7.3556, -8.0589, -8.0625, -7.5473, -8.3828, -7.2103, -4.7023, -7.0293, -3.1823, -6.0713, -3.3838, -4.3921, -5.8014, -3.3009, -3.5414, -4.049, -6.037, -5.212, -7.0021, -3.7358, -5.0723, -3.5708, -4.8893, -3.8886, -5.4417, -5.5106, -5.1702, -4.4815, -5.7277, -5.3587, -5.5772, -5.4246, -3.4734, -5.1521, -4.5279, -4.9961, -4.1126, -5.3018, -4.646, -5.3059, -4.9012, -5.2109, -5.4006, -6.9933, -7.1215, -6.8243, -7.283, -7.2862, -7.4476, -7.4525, -7.6631, -7.4911, -4.5771, -6.9129, -7.9316, -7.9322, -7.9322, -7.9325, -7.9338, -7.9343, -7.9345, -7.9352, -7.9357, -7.9358, -7.9368, -7.9375, -7.9389, -7.939, -7.9406, -7.942, -7.9505, -7.2936, -7.1515, -4.2574, -6.993, -7.4425, -6.6981, -5.6307, -6.7795, -5.8319, -7.1549, -7.1634, -6.607, -5.1548, -7.0725, -5.9463, -6.6937, -6.5358, -7.0893, -7.4766, -5.7563, -4.0196, -4.9174, -4.9333, -3.8189, -3.2853, -5.4683, -4.1457, -5.4032, -5.102, -4.5483, -4.264, -5.3871, -4.5758, -4.9134, -5.2217, -4.2819, -5.1017, -4.5556, -5.0341, -4.3723, -4.4396, -4.3414, -4.7482, -5.177, -4.6192, -4.7284, -5.198, -4.8652, -5.2455, -5.318, -6.4585, -7.188, -7.1883, -7.3661, -7.3672, -7.3682, -7.2377, -7.577, -7.5771, -7.5772, -7.5775, -7.5784, -7.5786, -7.5793, -7.5799, -7.5867, -7.6039, -6.8115, -7.8482, -7.8488, -7.8491, -7.849, -7.849, -7.8492, -7.8492, -7.8492, -7.8492, -7.8499, -7.85, -7.8546, -6.725, -7.0951, -7.3689, -3.0985, -6.2123, -7.3829, -7.366, -6.2904, -5.1382, -6.8664, -4.0753, -7.4121, -5.4588, -5.8373, -4.5867, -5.2808, -4.8167, -3.9151, -4.1547, -4.0725, -5.2452, -4.187, -4.0183, -5.2979, -5.891, -5.5109, -3.5975, -4.6965, -5.3044, -4.617, -6.0927, -5.2868, -4.6316, -6.3093, -4.9579, -5.2758, -4.8459, -5.0915, -5.206, -4.8943, -5.352, -5.1943, -5.4236, -5.1805, -5.437, -6.7631, -6.7646, -6.7651, -6.7654, -6.7689, -6.7703, -6.2806, -7.1369, -7.1369, -7.1369, -7.1369, -7.1369, -7.1369, -7.137, -7.1373, -7.1373, -7.1372, -7.1375, -7.1377, -7.1377, -7.1377, -7.1381, -7.1382, -7.1381, -7.1384, -7.1385, -7.1385, -7.1398, -7.1402, -7.14, -6.4927, -5.6086, -6.3003, -5.6506, -6.2779, -5.3388, -5.5458, -4.5292, -5.4273, -5.5124, -5.9849, -6.7925, -4.8368, -5.1952, -6.5926, -3.8518, -4.5847, -5.7953, -5.0589, -5.3853, -4.0326, -5.2837, -5.0904, -6.3061, -4.9911, -5.7718, -5.2213, -5.3879, -5.6244, -4.4269, -5.4823, -4.1354, -5.222, -4.6342, -5.4539, -4.9485, -4.837, -5.3007, -5.1392, -5.3895, -5.2984, -5.4613, -5.4767, -5.4979], \"loglift\": [30.0, 29.0, 28.0, 27.0, 26.0, 25.0, 24.0, 23.0, 22.0, 21.0, 20.0, 19.0, 18.0, 17.0, 16.0, 15.0, 14.0, 13.0, 12.0, 11.0, 10.0, 9.0, 8.0, 7.0, 6.0, 5.0, 4.0, 3.0, 2.0, 1.0, 0.8563, 0.8377, 0.8285, 0.8199, 0.8175, 0.814, 0.8129, 0.8033, 0.8025, 0.8014, 0.8005, 0.7956, 0.7955, 0.7905, 0.7889, 0.7884, 0.7878, 0.7872, 0.7869, 0.7867, 0.7857, 0.7847, 0.7833, 0.7692, 0.7682, 0.7681, 0.7646, 0.7639, 0.7638, 0.7633, 0.7532, 0.7588, 0.7624, 0.7162, 0.7403, 0.7249, 0.6936, 0.6343, 0.7353, 0.7041, 0.5802, 0.6439, 0.4272, 0.7137, 0.6962, 0.5971, 0.6121, 0.258, 0.3283, 0.2798, 0.4202, 0.4292, 0.4547, 0.3891, 0.4198, 0.3607, 0.4875, 0.0904, 0.3178, 0.3484, 0.205, 0.3088, 0.3329, 0.1343, 0.1564, 0.0485, 0.318, 0.0431, -0.1425, -0.0414, -0.2159, -0.2127, -0.4301, -0.4301, 0.1224, -0.6831, -0.7015, 1.6048, 1.539, 1.5324, 1.5121, 1.4889, 1.4572, 1.4543, 1.4539, 1.4519, 1.4456, 1.4453, 1.428, 1.4059, 1.405, 1.4041, 1.4037, 1.4032, 1.4024, 1.3989, 1.3964, 1.3936, 1.3921, 1.3912, 1.3712, 1.3649, 1.3623, 1.3562, 1.354, 1.3303, 1.3218, 1.3166, 1.1259, 1.2813, 0.971, 1.1852, 0.8188, 0.925, 1.0942, 0.7302, 0.7503, 0.7285, 1.0756, 0.8556, 1.2116, 0.4997, 0.769, 0.4097, 0.7183, 0.426, 0.7972, 0.8046, 0.6838, 0.429, 0.8178, 0.6749, 0.7474, 0.6686, -0.22, 0.5109, 0.1946, 0.3932, -0.1375, 0.512, 0.0291, 0.4555, -0.1317, -0.3812, -1.0754, 1.5918, 1.5819, 1.5571, 1.5538, 1.5521, 1.545, 1.5397, 1.5129, 1.5035, 1.4865, 1.4773, 1.4691, 1.4687, 1.4686, 1.4684, 1.4672, 1.4669, 1.4664, 1.4658, 1.4655, 1.4654, 1.4643, 1.464, 1.4624, 1.4622, 1.4606, 1.4593, 1.4512, 1.428, 1.4268, 1.2086, 1.39, 1.4177, 1.3194, 1.0922, 1.2787, 1.1083, 1.3338, 1.3291, 1.2163, 0.9079, 1.2962, 1.0518, 1.2046, 1.167, 1.2783, 1.3676, 0.9502, 0.4238, 0.6286, 0.6328, 0.1562, -0.032, 0.7342, 0.1689, 0.681, 0.535, 0.2814, 0.092, 0.6149, 0.1937, 0.3554, 0.4958, 0.0098, 0.414, 0.1195, 0.32, -0.1697, -0.2041, -0.3102, -0.0258, 0.264, -0.4659, -0.4033, 0.1914, -0.8846, 0.1182, -0.5405, 1.7334, 1.6969, 1.6967, 1.6725, 1.6716, 1.6702, 1.6496, 1.6433, 1.6431, 1.6431, 1.6428, 1.6418, 1.6415, 1.6409, 1.6406, 1.6326, 1.6142, 1.6099, 1.5942, 1.5936, 1.5934, 1.5934, 1.5934, 1.5932, 1.5931, 1.5931, 1.5931, 1.5926, 1.5925, 1.5882, 1.5357, 1.5202, 1.5323, 0.8821, 1.3396, 1.5168, 1.5033, 1.2788, 0.9919, 1.3698, 0.7023, 1.4875, 0.9424, 1.0429, 0.5362, 0.7189, 0.5004, 0.116, 0.1704, 0.1301, 0.5736, 0.0484, -0.0432, 0.5379, 0.8234, 0.6359, -0.3441, 0.1332, 0.4802, 0.058, 0.9039, 0.279, -0.2756, 0.9776, -0.1884, 0.088, -0.4025, -0.181, -0.1309, -0.5797, -0.0831, -0.4719, -0.0563, -0.8888, -1.2837, 2.7668, 2.7651, 2.7644, 2.764, 2.7603, 2.7587, 2.6819, 2.6687, 2.6687, 2.6687, 2.6687, 2.6687, 2.6686, 2.6686, 2.6683, 2.6683, 2.6683, 2.6681, 2.6679, 2.6678, 2.6678, 2.6675, 2.6675, 2.6673, 2.667, 2.667, 2.6669, 2.6657, 2.6655, 2.6653, 2.617, 2.4265, 2.5224, 2.2053, 2.3982, 2.0261, 1.9921, 1.3646, 1.8116, 1.8438, 2.0732, 2.4675, 1.2775, 1.4033, 2.3074, 0.4733, 0.8813, 1.7086, 1.0712, 1.2963, 0.1207, 1.1421, 0.9723, 1.988, 0.6165, 1.3964, 0.7431, 0.9327, 1.2219, -0.4463, 1.0032, -0.882, 0.632, -0.3196, 0.8545, -0.179, -0.6015, 0.3317, -0.3616, 0.0022, -0.6233, 0.3524, -0.1129, -1.0545]}, \"token.table\": {\"Topic\": [5, 2, 1, 2, 3, 4, 5, 1, 2, 4, 5, 4, 2, 4, 5, 4, 1, 2, 3, 4, 5, 4, 2, 5, 1, 2, 3, 4, 5, 2, 2, 4, 3, 5, 1, 2, 3, 4, 5, 5, 2, 5, 1, 2, 3, 4, 5, 1, 2, 3, 4, 5, 1, 3, 1, 2, 3, 4, 5, 1, 2, 5, 1, 2, 3, 5, 1, 5, 4, 2, 5, 1, 3, 3, 4, 3, 1, 3, 4, 5, 3, 5, 1, 2, 3, 4, 5, 5, 1, 2, 4, 1, 2, 3, 4, 5, 2, 2, 3, 1, 2, 3, 4, 1, 2, 3, 4, 5, 4, 4, 1, 2, 3, 4, 5, 2, 3, 4, 5, 1, 2, 3, 4, 5, 1, 2, 3, 4, 5, 1, 5, 1, 4, 5, 2, 1, 2, 3, 2, 1, 1, 2, 3, 4, 5, 1, 2, 3, 4, 4, 4, 1, 1, 3, 1, 2, 3, 4, 5, 1, 2, 3, 4, 5, 4, 5, 3, 2, 3, 4, 1, 3, 1, 2, 3, 4, 5, 3, 2, 5, 3, 4, 1, 3, 4, 5, 1, 2, 3, 4, 5, 2, 4, 1, 3, 1, 1, 2, 4, 1, 2, 3, 4, 5, 1, 5, 2, 3, 5, 5, 3, 2, 1, 2, 3, 5, 3, 1, 2, 1, 2, 3, 4, 5, 2, 4, 1, 2, 3, 4, 4, 1, 2, 3, 4, 5, 2, 1, 2, 3, 4, 5, 1, 2, 3, 4, 5, 5, 1, 2, 3, 4, 5, 1, 2, 1, 1, 3, 4, 5, 1, 2, 4, 5, 1, 2, 3, 4, 5, 1, 2, 3, 4, 5, 1, 2, 3, 4, 5, 1, 1, 4, 1, 3, 4, 5, 3, 1, 2, 3, 4, 5, 1, 2, 3, 4, 5, 1, 2, 3, 4, 1, 2, 3, 4, 5, 1, 1, 2, 3, 4, 5, 3, 4, 1, 2, 3, 4, 5, 1, 2, 3, 4, 5, 1, 2, 3, 4, 1, 2, 2, 3, 4, 1, 3, 4, 5, 4, 1, 2, 3, 4, 5, 5, 1, 4, 1, 2, 3, 4, 5, 1, 2, 3, 4, 5, 1, 3, 1, 2, 3, 4, 5, 1, 2, 3, 4, 5, 5, 4, 4, 3, 1, 2, 3, 4, 5, 1, 2, 3, 4, 5, 1, 2, 3, 4, 1, 2, 3, 4, 1, 2, 3, 4, 5, 5, 3, 3, 3, 5, 1, 2, 3, 4, 5, 4, 1, 1, 3, 1, 2, 1, 2, 3, 4, 5, 1, 2, 3, 4, 5, 4, 1, 2, 3, 4, 5, 4, 5, 1, 2, 3, 4, 5, 1, 2, 4, 5, 1, 2, 3, 4, 5, 3, 5, 1, 2, 3, 1, 2, 3, 4, 5, 1, 2, 3, 4, 5, 1, 4, 1, 4, 5, 1, 2, 3, 4, 5, 1, 2, 3, 4, 5, 2, 3, 4, 2, 4, 3, 3, 5, 1, 2, 3, 4, 5, 1, 2, 3, 4, 2, 5, 1, 2, 3, 4, 5, 1, 5, 1, 3, 4, 5, 1, 2, 1, 2, 3, 4, 5, 1, 2, 3, 4, 5, 1, 3, 4, 1, 2, 3, 4, 5, 2, 1, 1, 2, 3, 4, 5, 5, 1, 3, 1, 2, 3, 4, 5, 4, 1, 2, 3, 4, 5, 2, 1, 2, 4, 5, 3, 1, 4, 5, 1, 2, 3, 4, 3, 4, 1, 2, 3, 4, 5, 1, 2, 3, 4, 5, 1, 2, 3, 4, 5, 1, 2, 3, 4, 5, 1, 2, 3, 4, 5, 1, 2, 3, 4, 5, 2, 5, 1, 2, 3, 4, 5, 2, 1, 2, 3, 4, 5, 1, 2, 3, 4, 1, 2, 3, 4, 5, 1, 1, 2, 3, 4, 5, 1, 2, 3, 4, 5, 1, 4, 1, 4, 1, 2, 3, 4, 1, 1, 2, 3, 1, 2, 3, 4, 5, 1, 2, 3, 4, 5, 1, 5, 2, 1, 5, 1, 4, 5, 1, 2, 3, 4, 1, 2, 3, 4, 5, 1, 3, 2, 5, 1, 2, 1, 2, 3, 4, 5, 1, 4, 1, 2, 3, 4, 5, 1, 3, 5, 1, 3, 4, 1, 2, 3, 4, 5, 5, 1, 2, 3, 4, 5, 1, 2, 3, 4, 5, 5, 1, 2, 3, 4, 5, 4, 1, 2, 3, 4, 5, 4, 4, 5, 1, 2, 3, 4, 5, 1, 2, 3, 4, 5, 3, 1, 2, 3, 4, 5, 1, 2, 3, 4, 5, 1, 2, 3, 4, 5, 1, 2, 3, 5, 4, 1, 2, 3, 4, 5, 1, 2, 3, 4, 5, 1, 3, 5, 1, 2, 3, 4, 5], \"Freq\": [0.6249198859951647, 0.8909552158594208, 0.34775715733776397, 0.18968572218423488, 0.09484286109211744, 0.09484286109211744, 0.28452858327635233, 0.9058996511313074, 0.454127947617086, 0.1816511790468344, 0.3633023580936688, 0.8589780644170921, 0.7462987922230259, 0.18657469805575647, 0.8233076303847485, 0.9170614728649015, 0.3944862889518239, 0.035862389904711266, 0.07172477980942253, 0.10758716971413379, 0.35862389904711267, 0.8198382422615809, 0.2052981816195968, 0.6158945448587904, 0.35554735466063503, 0.14221894186425402, 0.14221894186425402, 0.07110947093212701, 0.31999261919457156, 0.8364738092471099, 0.890120877325415, 0.9172686216898019, 0.7998858073075147, 0.15997716146150295, 0.2474606041380307, 0.4021234817242999, 0.14228984737936765, 0.11754378696556458, 0.08661121144831074, 0.8234503340337294, 0.8139104777662969, 0.16278209555325937, 0.12643123124830527, 0.4425093093690684, 0.1422351351543434, 0.1896468468724579, 0.09482342343622895, 0.28751350779075685, 0.23617180997097884, 0.17456177258724523, 0.1334884143314228, 0.17456177258724523, 0.8660442813811063, 0.9130655719163464, 0.029458596836372655, 0.44187895254558984, 0.17675158101823593, 0.17675158101823593, 0.20621017785460857, 0.8888339952490922, 0.8357480313550065, 0.8234659633949678, 0.11214061223417453, 0.5831311836177075, 0.15699685712784434, 0.13456873468100944, 0.866396483905277, 0.8234703385770624, 0.8589915285931661, 0.8339815762408173, 0.8233923563072049, 0.8724109645030332, 0.09693455161144814, 0.8243957187320782, 0.8589760499831678, 0.8241023850443615, 0.1834001977670065, 0.6113339925566883, 0.12226679851133766, 0.06113339925566883, 0.8243742163947991, 0.8234702549774354, 0.4708273985349047, 0.2897399375599413, 0.018108746097496332, 0.054326238292489004, 0.18108746097496334, 0.823450356879324, 0.25712543111837494, 0.0857084770394583, 0.5999593392762081, 0.7285851125775423, 0.012895311727036148, 0.1482960848609157, 0.09026718208925304, 0.01934296759055422, 0.8358777992161702, 0.8914731302913057, 0.824282169213935, 0.19284034917175957, 0.6093755033827603, 0.10799059553618535, 0.09256336760244459, 0.27532272431640364, 0.2661453001725235, 0.33956469332356454, 0.06424196900716085, 0.05506454486328073, 0.8199243029454993, 0.8590604620125525, 0.40612610604659566, 0.11814577630446418, 0.19198688649475432, 0.2584438856660154, 0.022152333057087036, 0.8362465924256104, 0.6620318218469795, 0.22067727394899317, 0.8235009990284262, 0.488263607164806, 0.009964563411526654, 0.3686888462264862, 0.11957476093831984, 0.009964563411526654, 0.2936596220134241, 0.3883885323403351, 0.2084036027192042, 0.06631023722883769, 0.0378915641307644, 0.49939277256212705, 0.49939277256212705, 0.9454882936347196, 0.30817030659944605, 0.6163406131988921, 0.8364802544317237, 0.9810715705409775, 0.9259487565739356, 0.9719607309331948, 0.8653077813625139, 0.907251117701212, 0.6032863500095168, 0.03405648750053724, 0.1800128625028397, 0.1508215875023792, 0.029191275000460492, 0.7835890745588934, 0.0186568827275927, 0.0932844136379635, 0.0932844136379635, 0.9171711290182883, 0.8590270561377586, 0.9297628518920197, 0.906436447688968, 0.8240851654234937, 0.39199137836248216, 0.20208251182662124, 0.20938669900107743, 0.17043103407064442, 0.026782019639672694, 0.20189202640774018, 0.44628763732237303, 0.15635247157892662, 0.18367620447621477, 0.01214388128768362, 0.9152175035966683, 0.8233151282482067, 0.9148555697937932, 0.13774939642309744, 0.6887469821154872, 0.13774939642309744, 0.09910963271226114, 0.8919866944103503, 0.6464180689456701, 0.03847726600867084, 0.2154726896485567, 0.10773634482427835, 0.8233613375531457, 0.8243670049542035, 0.17721488289364745, 0.7088595315745898, 0.7998287242059788, 0.09997859052574735, 0.7440254850667314, 0.039159236056143756, 0.15663694422457503, 0.039159236056143756, 0.8395517697856192, 0.015264577632465803, 0.09158746579479482, 0.04579373289739741, 0.015264577632465803, 0.17567262912235454, 0.7905268310505955, 0.8889646302901447, 0.8245573486261765, 0.9101040809873969, 0.13850658691740736, 0.8310395215044442, 0.9560970893136792, 0.4281445798495205, 0.1712578319398082, 0.22477590442099826, 0.13379518120297515, 0.040138554360892545, 0.8644919513389548, 0.09605466125988388, 0.8325747809813195, 0.1387624634968866, 0.8234500358159949, 0.8233690090140106, 0.9572130788542471, 0.8358859309212737, 0.21029906386961875, 0.14019937591307916, 0.07009968795653958, 0.5607975036523166, 0.8242227058865995, 0.2513978577641559, 0.6703942873710825, 0.41057634448004443, 0.3269404224563317, 0.1292555158548288, 0.06082612510815473, 0.06842939074667408, 0.7954878553301808, 0.8593327131228368, 0.2650515448824173, 0.19878865866181297, 0.06626288622060432, 0.4638402035442303, 0.9171618383152554, 0.5022147568599412, 0.3019450685415598, 0.0400539376636763, 0.1355671736309044, 0.0215675048958257, 0.8370834581632149, 0.20479805156335443, 0.06826601718778481, 0.45835754397512657, 0.13653203437556963, 0.12677974620588608, 0.47627862960480283, 0.09525572592096056, 0.14097847436302163, 0.2743364906523664, 0.007620458073676845, 0.8234803746436913, 0.8176718989544305, 0.021708103512064526, 0.0795963795442366, 0.07236034504021509, 0.007236034504021509, 0.8882633242759248, 0.07402194368966039, 0.9194922012143651, 0.8340447566875037, 0.05212779729296898, 0.05212779729296898, 0.8234874563864428, 0.1759789396675147, 0.13198420475063602, 0.5719315539194227, 0.13198420475063602, 0.2969954276643918, 0.4220461340493989, 0.11723503723594414, 0.1250507063850071, 0.03907834574531471, 0.49244788893935937, 0.1661269986783381, 0.10086282062613385, 0.21359185544357756, 0.02966553547827466, 0.33181592754661005, 0.3820910680839752, 0.13071536539714942, 0.14077039350462245, 0.010055028107473033, 0.8665031962706469, 0.9304625161061363, 0.8590167645592149, 0.8315245209929338, 0.043764448473312303, 0.08752889694662461, 0.043764448473312303, 0.8241090966134951, 0.4331011314709792, 0.15909837482607397, 0.11490438181883121, 0.17677597202897108, 0.10606558321738266, 0.27897614425075307, 0.17806987930899132, 0.3502040959743496, 0.1483915660908261, 0.04154963850543131, 0.3208210384410407, 0.01887182579064945, 0.5472829479288341, 0.11323095474389672, 0.620816614350689, 0.005643787403188082, 0.2821893701594041, 0.08465681104782123, 0.011287574806376164, 0.9189081871986274, 0.4262855762241373, 0.13356948055022969, 0.24724563420999965, 0.18472374969712616, 0.008525711524482745, 0.6644862203498167, 0.22149540678327223, 0.12887551352003754, 0.04295850450667918, 0.6228983153468481, 0.09128682207669325, 0.11813588739336775, 0.29309456605326467, 0.19752025103589574, 0.31858105005789633, 0.1656621460301061, 0.02548648400463171, 0.36307383878487526, 0.2934432395658581, 0.22381264034684092, 0.11936674151831515, 0.9086854877996212, 0.8363602385397975, 0.7386901853505683, 0.18467254633764207, 0.09233627316882104, 0.383704111880753, 0.04263379020897255, 0.21316895104486278, 0.3410703216717804, 0.9163063469761294, 0.399967526453368, 0.016665313602223668, 0.16665313602223666, 0.21664907682890766, 0.199983763226684, 0.8233829002874438, 0.2504479845155739, 0.7513439535467217, 0.34162412568843653, 0.08540603142210913, 0.29892110997738197, 0.1281090471331637, 0.17081206284421827, 0.2245623925964315, 0.11228119629821574, 0.26198945802917006, 0.3742706543273858, 0.018713532716369292, 0.8406423860246206, 0.06466479892497082, 0.555126777885835, 0.06808158596713071, 0.2409040734221548, 0.13092612685986674, 0.005237045074394669, 0.32942583854489593, 0.3231510606678503, 0.1505946690490953, 0.1694190026802322, 0.02666780597744396, 0.8234525359229083, 0.9172311470379143, 0.8590064503405724, 0.8241999517928014, 0.26599710792238185, 0.40794748763096067, 0.1355562184604446, 0.1815941794470107, 0.008951825747387851, 0.14852691369809934, 0.24135623475941143, 0.48271246951882285, 0.12996104948583692, 0.018565864212262417, 0.3648605476655876, 0.0995074220906148, 0.0995074220906148, 0.4311988290593308, 0.39702871810026236, 0.1488857692875984, 0.0744428846437992, 0.39702871810026236, 0.20936614749001073, 0.4303637476183554, 0.16284033693667502, 0.13957743166000716, 0.058157263191669646, 0.6247452576977707, 0.8774955285800402, 0.8248040113392874, 0.824446950987936, 0.6245019485115846, 0.03904446271990911, 0.04880557839988639, 0.8199337171180913, 0.029283347039931833, 0.06832780975984094, 0.9019224216881638, 0.8659837798108645, 0.9512190492098275, 0.8239934552410229, 0.16948355362166492, 0.8474177681083246, 0.032179879646110715, 0.6435975929222144, 0.09653963893833216, 0.1608993982305536, 0.06435975929222143, 0.4461540759821023, 0.17169072842671687, 0.2164270449886079, 0.15476347351140676, 0.010881806731270788, 0.7649822759681837, 0.5857540625114086, 0.05281389088217618, 0.2544669287959398, 0.08162146772699956, 0.02400631403735281, 0.6656424751405664, 0.1664106187851416, 0.4486860285700096, 0.070107191964064, 0.0841286303568768, 0.2383644526778176, 0.1542358223209408, 0.21618000338803617, 0.1297080020328217, 0.6053040094865013, 0.04323600067760724, 0.2658735994672974, 0.5187425120041291, 0.1170421823741907, 0.044793921649381625, 0.054908678150854894, 0.8240576436956933, 0.8234053156809684, 0.2869423861021302, 0.07173559652553255, 0.6456203687297929, 0.629743016336195, 0.13994289251915445, 0.08269352739768218, 0.13358185195010197, 0.019083121707157424, 0.7386726559723752, 0.06715205963385229, 0.033576029816926145, 0.08394007454231536, 0.05036404472538922, 0.9067387502858278, 0.9172490337957877, 0.9201112526127175, 0.04929167424710987, 0.016430558082369956, 0.7700827354018699, 0.01816232866513844, 0.05811945172844301, 0.14166616358807982, 0.010897397199083064, 0.3679915975113693, 0.3102674253527231, 0.18760355951560004, 0.11544834431729233, 0.02164656455949231, 0.836177212720207, 0.7871670006955478, 0.15743340013910956, 0.7448987039483033, 0.12414978399138386, 0.937574323802319, 0.835573095222366, 0.139262182537061, 0.17573648949862503, 0.43934122374656254, 0.1631838831058661, 0.2008417022841429, 0.02510521278551786, 0.12426297411111728, 0.2236733534000111, 0.5219044912666926, 0.12426297411111728, 0.8363466990853632, 0.6247553364915768, 0.5281628215524897, 0.15745009585769437, 0.17977510944945702, 0.114562569747203, 0.01997501216105078, 0.8886714026105197, 0.8232289324891277, 0.12067530188364622, 0.7240518113018773, 0.6655724899986782, 0.16639312249966956, 0.8422415043741883, 0.12957561605756743, 0.47118346190891935, 0.03490247865991995, 0.3490247865991995, 0.13379283486302648, 0.017451239329959976, 0.2770336733696192, 0.3878471427174669, 0.21371169088513484, 0.0316609912422422, 0.0949829737267266, 0.09925905538951812, 0.794072443116145, 0.09925905538951812, 0.4629341559180807, 0.09699572790664548, 0.2645338033817604, 0.14990248858299757, 0.030862277061205378, 0.7443415188318777, 0.8904361620815758, 0.205464964529383, 0.2954318720747933, 0.07659344831568717, 0.39026185570373934, 0.03039422552209808, 0.8234357268025962, 0.8843694570516385, 0.07369745475430321, 0.37242583763394593, 0.46063195707356475, 0.0490033996886771, 0.06860475956414794, 0.03920271975094168, 0.9174358316721775, 0.05028012123489362, 0.25140060617446813, 0.6033614548187235, 0.05028012123489362, 0.05028012123489362, 0.8913635631496283, 0.26615636279974747, 0.13307818139987374, 0.13307818139987374, 0.5323127255994949, 0.939039531901441, 0.5769520932715233, 0.12363259141532641, 0.24726518283065282, 0.5751670944105024, 0.1331965902845374, 0.19979488542680607, 0.08476146654470561, 0.8243597065919128, 0.8590065307791684, 0.12408753173879317, 0.40733081070777755, 0.10790220151199406, 0.326404159573782, 0.03506821549139807, 0.5804709697915329, 0.02976774204059143, 0.13395483918266143, 0.13395483918266143, 0.13395483918266143, 0.36065443724771784, 0.24397211931463267, 0.07425238413923603, 0.3076170200054064, 0.021214966896924578, 0.23439786426187129, 0.23439786426187129, 0.05859946606546782, 0.05859946606546782, 0.4101962624582748, 0.36627346978437014, 0.1556662246583573, 0.10988204093531104, 0.32964612280593314, 0.04578418372304627, 0.3923592961935819, 0.32696608016131823, 0.15694371847743274, 0.11770778885807456, 0.0065393216032263645, 0.6877698358680152, 0.22925661195600508, 0.11404723700434022, 0.41817320234924743, 0.19007872834056702, 0.22809447400868044, 0.05068766089081787, 0.836464386057471, 0.5436174077870042, 0.008236627390712185, 0.2141523121585168, 0.04118313695356092, 0.18944242998638022, 0.330226540122102, 0.41651689231481204, 0.18751557303415842, 0.06637719399439236, 0.6247018287239405, 0.0371635648815942, 0.20351476006587296, 0.12210885603952379, 0.010618161394741199, 0.9057890655311334, 0.5405120329854989, 0.06692053741725223, 0.12354560753954259, 0.19218205617262182, 0.07721600471221413, 0.6608247770743699, 0.012468392020271132, 0.16208909626352472, 0.04987356808108453, 0.11221552818244018, 0.9367014474679685, 0.7646948645939954, 0.10315618640966506, 0.8252494912773205, 0.2835763834540523, 0.05671527669081045, 0.623868043598915, 0.05671527669081045, 0.8891196169171065, 0.8129974663953798, 0.056068790785888264, 0.11213758157177653, 0.5658627425305182, 0.02510653806449398, 0.28389700734466267, 0.10815124089320484, 0.01738144942926506, 0.5720273595569514, 0.17160820786708542, 0.07627031460759352, 0.1779640674177182, 0.006355859550632793, 0.23860885699815446, 0.4772177139963089, 0.8407956750835125, 0.8864816716910685, 0.08058924288100623, 0.8887689382573769, 0.6666289634770522, 0.16665724086926306, 0.012726411492893469, 0.9773884026542184, 0.0025452822985786937, 0.007635846895736082, 0.621527429153627, 0.13318444910434865, 0.06342116624016603, 0.11415809923229885, 0.06976328286418262, 0.9204272099577574, 0.8243285309889167, 0.8357214767646796, 0.8234568282840988, 0.15839205806078527, 0.7919602903039263, 0.16656940699942735, 0.49508129302607573, 0.06940391958309473, 0.2683618223879663, 0.004626927972206316, 0.16143159117449643, 0.8071579558724822, 0.5593499234629058, 0.020716663831959473, 0.3038444028687389, 0.08977220993849105, 0.02762221844261263, 0.2935670317869679, 0.6849897408362585, 0.8233984893467785, 0.9064178654494046, 0.9127112501548619, 0.8590384502474475, 0.35316628341795697, 0.3005309238700884, 0.21903101231209832, 0.08998948567861403, 0.03565621130662065, 0.6245703685730353, 0.46717228833670854, 0.23741542522029452, 0.18125263645850442, 0.09956130735044609, 0.012764270173134114, 0.11146673295355722, 0.5852003480061754, 0.05573336647677861, 0.22293346590711444, 0.027866683238389305, 0.6250813326344592, 0.558315617069791, 0.1645037086009206, 0.12462402166736408, 0.09969921733389125, 0.04984960866694563, 0.8590865674811273, 0.4023807970917304, 0.16967864937603092, 0.20846234066198083, 0.17452661078677464, 0.04363165269669366, 0.8591102290328535, 0.9171738120705414, 0.8234517946183477, 0.5552919157736687, 0.012620270813037923, 0.18930406219556886, 0.11358243731734131, 0.12620270813037923, 0.41973492349633534, 0.12436590325817343, 0.14768451011908096, 0.2798232823308902, 0.031091475814543357, 0.8243263026398043, 0.8360501800103279, 0.02514436631610009, 0.0565748242112252, 0.07543309894830026, 0.006286091579025022, 0.3129525043744486, 0.07302225102070467, 0.04172700058325981, 0.438133506124228, 0.14604450204140934, 0.3048953992961813, 0.02345349225355241, 0.5628838140852578, 0.09381396901420964, 0.02345349225355241, 0.3586204488561846, 0.07172408977123691, 0.14344817954247382, 0.3586204488561846, 0.8218106992432151, 0.21888992217855283, 0.20520930204239327, 0.15048682149775505, 0.41041860408478653, 0.013680620136159552, 0.43555988133421786, 0.09933821854990933, 0.15282802853832206, 0.2903732542228119, 0.02292420428074831, 0.29322316049573705, 0.6841873744900531, 0.8233808831906664, 0.3925256326499177, 0.14579523498425515, 0.38131061457420573, 0.033645054227135804, 0.044860072302847734], \"Term\": [\"AMAZING\", \"Alternative\", \"Angel\", \"Angel\", \"Angel\", \"Angel\", \"Angel\", \"Atkins\", \"Awesome\", \"Awesome\", \"Awesome\", \"Balsamic\", \"Best\", \"Best\", \"Chewy\", \"Cincinnati\", \"Delicious\", \"Delicious\", \"Delicious\", \"Delicious\", \"Delicious\", \"Euro\", \"Fettuccine\", \"Fettuccine\", \"Hair\", \"Hair\", \"Hair\", \"Hair\", \"Hair\", \"Healthy\", \"Ketogenic\", \"Konjac\", \"Love\", \"Love\", \"Miracle\", \"Miracle\", \"Miracle\", \"Miracle\", \"Miracle\", \"Mircle\", \"NOODLE\", \"NOODLE\", \"Noodle\", \"Noodle\", \"Noodle\", \"Noodle\", \"Noodle\", \"Noodles\", \"Noodles\", \"Noodles\", \"Noodles\", \"Noodles\", \"PERFECT\", \"Pack\", \"Pasta\", \"Pasta\", \"Pasta\", \"Pasta\", \"Pasta\", \"People\", \"Prime\", \"Replacement\", \"Rice\", \"Rice\", \"Rice\", \"Rice\", \"Satisfying\", \"Seller\", \"Style\", \"Super\", \"Tastey\", \"Thai\", \"Thai\", \"Variety\", \"Whisked\", \"Youtube\", \"ZERO\", \"ZERO\", \"ZERO\", \"ZERO\", \"Ziti\", \"a++++\", \"absolutely\", \"absolutely\", \"absolutely\", \"absolutely\", \"absolutely\", \"absoulutely\", \"actual\", \"actual\", \"actual\", \"add\", \"add\", \"add\", \"add\", \"add\", \"advantage\", \"afraid\", \"aftertaste\", \"alternative\", \"alternative\", \"alternative\", \"alternative\", \"amazing\", \"amazing\", \"amazing\", \"amazing\", \"amazing\", \"and/or\", \"aromatic\", \"asian\", \"asian\", \"asian\", \"asian\", \"asian\", \"ask\", \"available\", \"available\", \"avocado\", \"away\", \"away\", \"away\", \"away\", \"away\", \"awesome\", \"awesome\", \"awesome\", \"awesome\", \"awesome\", \"baby\", \"baby\", \"bad\", \"baked\", \"baked\", \"barley\", \"basically\", \"basis\", \"benefit\", \"best\", \"blow\", \"boil\", \"boil\", \"boil\", \"boil\", \"boil\", \"boiling\", \"boiling\", \"boiling\", \"boiling\", \"bomb\", \"boy\", \"brine\", \"briny\", \"buyer\", \"calorie\", \"calorie\", \"calorie\", \"calorie\", \"calorie\", \"carb\", \"carb\", \"carb\", \"carb\", \"carb\", \"carbe\", \"carbing\", \"careful\", \"chance\", \"chance\", \"chance\", \"chew\", \"chew\", \"chicken\", \"chicken\", \"chicken\", \"chicken\", \"chilli\", \"choke\", \"clam\", \"clam\", \"clear\", \"clear\", \"colander\", \"colander\", \"colander\", \"colander\", \"cold\", \"cold\", \"cold\", \"cold\", \"cold\", \"comfort\", \"comfort\", \"comment\", \"consistent\", \"container\", \"convenient\", \"convenient\", \"conventional\", \"cook\", \"cook\", \"cook\", \"cook\", \"cook\", \"cool\", \"cool\", \"couscous\", \"couscous\", \"craze\", \"creepy\", \"daily\", \"damage\", \"daughter\", \"daughter\", \"daughter\", \"daughter\", \"death\", \"decent\", \"decent\", \"delicious\", \"delicious\", \"delicious\", \"delicious\", \"delicious\", \"deliver\", \"diabetes\", \"diabetic\", \"diabetic\", \"diabetic\", \"diabetic\", \"dice\", \"diet\", \"diet\", \"diet\", \"diet\", \"diet\", \"digest\", \"direction\", \"direction\", \"direction\", \"direction\", \"direction\", \"dish\", \"dish\", \"dish\", \"dish\", \"dish\", \"doodle\", \"drain\", \"drain\", \"drain\", \"drain\", \"drain\", \"drop\", \"drop\", \"dukan\", \"dump\", \"dump\", \"dump\", \"dupe\", \"easily\", \"easily\", \"easily\", \"easily\", \"easy\", \"easy\", \"easy\", \"easy\", \"easy\", \"eat\", \"eat\", \"eat\", \"eat\", \"eat\", \"expect\", \"expect\", \"expect\", \"expect\", \"expect\", \"fake\", \"fall\", \"feta\", \"fettuccini\", \"fettuccini\", \"fettuccini\", \"fettuccini\", \"fight\", \"fill\", \"fill\", \"fill\", \"fill\", \"fill\", \"find\", \"find\", \"find\", \"find\", \"find\", \"fine\", \"fine\", \"fine\", \"fine\", \"fishy\", \"fishy\", \"fishy\", \"fishy\", \"fishy\", \"fit\", \"flavor\", \"flavor\", \"flavor\", \"flavor\", \"flavor\", \"flavorful\", \"flavorful\", \"follow\", \"follow\", \"follow\", \"follow\", \"follow\", \"food\", \"food\", \"food\", \"food\", \"food\", \"free\", \"free\", \"free\", \"free\", \"freeze\", \"frequently\", \"fried\", \"fried\", \"fried\", \"friend\", \"friend\", \"friend\", \"friend\", \"fruit\", \"garlic\", \"garlic\", \"garlic\", \"garlic\", \"garlic\", \"garlicky\", \"gelatinous\", \"gelatinous\", \"get\", \"get\", \"get\", \"get\", \"get\", \"give\", \"give\", \"give\", \"give\", \"give\", \"glass\", \"glass\", \"go\", \"go\", \"go\", \"go\", \"go\", \"good\", \"good\", \"good\", \"good\", \"good\", \"granddaughter\", \"grandmother\", \"grated\", \"grease\", \"great\", \"great\", \"great\", \"great\", \"great\", \"happy\", \"happy\", \"happy\", \"happy\", \"happy\", \"hard\", \"hard\", \"hard\", \"hard\", \"have\", \"have\", \"have\", \"have\", \"healthy\", \"healthy\", \"healthy\", \"healthy\", \"healthy\", \"hide\", \"honest\", \"household\", \"index\", \"inedible\", \"instruction\", \"instruction\", \"instruction\", \"instruction\", \"instruction\", \"interesting\", \"jicama\", \"juice\", \"kimchi\", \"large\", \"large\", \"lifestyle\", \"lifestyle\", \"lifestyle\", \"lifestyle\", \"lifestyle\", \"like\", \"like\", \"like\", \"like\", \"like\", \"list\", \"little\", \"little\", \"little\", \"little\", \"little\", \"loose\", \"loose\", \"lose\", \"lose\", \"lose\", \"lose\", \"lose\", \"loss\", \"loss\", \"loss\", \"loss\", \"love\", \"love\", \"love\", \"love\", \"love\", \"major\", \"mark\", \"market\", \"market\", \"market\", \"meal\", \"meal\", \"meal\", \"meal\", \"meal\", \"meat\", \"meat\", \"meat\", \"meat\", \"meat\", \"meet\", \"mein\", \"microwave\", \"microwave\", \"microwave\", \"minute\", \"minute\", \"minute\", \"minute\", \"minute\", \"miracle\", \"miracle\", \"miracle\", \"miracle\", \"miracle\", \"moist\", \"morning\", \"morning\", \"mushy\", \"mushy\", \"nasty\", \"nervous\", \"nervous\", \"nice\", \"nice\", \"nice\", \"nice\", \"nice\", \"night\", \"night\", \"night\", \"night\", \"nonstick\", \"nood\", \"noodle\", \"noodle\", \"noodle\", \"noodle\", \"noodle\", \"nuke\", \"obsess\", \"obviously\", \"obviously\", \"occasionally\", \"occasionally\", \"one\", \"one\", \"open\", \"open\", \"open\", \"open\", \"open\", \"order\", \"order\", \"order\", \"order\", \"order\", \"ounce\", \"ounce\", \"ounce\", \"package\", \"package\", \"package\", \"package\", \"package\", \"pallet\", \"paprika\", \"pasta\", \"pasta\", \"pasta\", \"pasta\", \"pasta\", \"pay\", \"peanut\", \"peanut\", \"perfect\", \"perfect\", \"perfect\", \"perfect\", \"perfect\", \"picture\", \"pleasantly\", \"pleasantly\", \"pleasantly\", \"pleasantly\", \"pleasantly\", \"possibly\", \"post\", \"post\", \"post\", \"post\", \"potato\", \"powder\", \"powder\", \"powder\", \"prepare\", \"prepare\", \"prepare\", \"prepare\", \"press\", \"prior\", \"product\", \"product\", \"product\", \"product\", \"product\", \"read\", \"read\", \"read\", \"read\", \"read\", \"real\", \"real\", \"real\", \"real\", \"real\", \"receive\", \"receive\", \"receive\", \"receive\", \"receive\", \"recommend\", \"recommend\", \"recommend\", \"recommend\", \"recommend\", \"regular\", \"regular\", \"regular\", \"regular\", \"regular\", \"reorder\", \"reorder\", \"replacement\", \"replacement\", \"replacement\", \"replacement\", \"replacement\", \"restriction\", \"review\", \"review\", \"review\", \"review\", \"review\", \"rice\", \"rice\", \"rice\", \"rice\", \"rinse\", \"rinse\", \"rinse\", \"rinse\", \"rinse\", \"rinsing\", \"sauce\", \"sauce\", \"sauce\", \"sauce\", \"sauce\", \"say\", \"say\", \"say\", \"say\", \"say\", \"seed\", \"service\", \"sieve\", \"sieve\", \"simply\", \"simply\", \"simply\", \"simply\", \"sink\", \"skillet\", \"skillet\", \"skillet\", \"smell\", \"smell\", \"smell\", \"smell\", \"smell\", \"soup\", \"soup\", \"soup\", \"soup\", \"soup\", \"soupy\", \"soupy\", \"spagetti\", \"spicy\", \"spicy\", \"squeeze\", \"standard\", \"standard\", \"star\", \"star\", \"star\", \"star\", \"stir\", \"stir\", \"stir\", \"stir\", \"stir\", \"straight\", \"stupid\", \"sub\", \"subitute\", \"subscription\", \"subscription\", \"substitute\", \"substitute\", \"substitute\", \"substitute\", \"substitute\", \"suck\", \"suck\", \"sure\", \"sure\", \"sure\", \"sure\", \"sure\", \"sweet\", \"sweet\", \"system\", \"tablespoon\", \"taco\", \"task\", \"taste\", \"taste\", \"taste\", \"taste\", \"taste\", \"teenage\", \"texture\", \"texture\", \"texture\", \"texture\", \"texture\", \"thank\", \"thank\", \"thank\", \"thank\", \"thank\", \"thumb\", \"time\", \"time\", \"time\", \"time\", \"time\", \"trade\", \"try\", \"try\", \"try\", \"try\", \"try\", \"udon\", \"unable\", \"upper\", \"veggie\", \"veggie\", \"veggie\", \"veggie\", \"veggie\", \"want\", \"want\", \"want\", \"want\", \"want\", \"waste\", \"water\", \"water\", \"water\", \"water\", \"water\", \"weight\", \"weight\", \"weight\", \"weight\", \"weight\", \"weird\", \"weird\", \"weird\", \"weird\", \"weird\", \"wife\", \"wife\", \"wife\", \"wife\", \"wonder\", \"wonderful\", \"wonderful\", \"wonderful\", \"wonderful\", \"wonderful\", \"work\", \"work\", \"work\", \"work\", \"work\", \"worried\", \"worried\", \"yeast\", \"zero\", \"zero\", \"zero\", \"zero\", \"zero\"]}, \"R\": 30, \"lambda.step\": 0.01, \"plot.opts\": {\"xlab\": \"PC1\", \"ylab\": \"PC2\"}, \"topic.order\": [5, 2, 1, 4, 3]};\n",
       "\n",
       "function LDAvis_load_lib(url, callback){\n",
       "  var s = document.createElement('script');\n",
       "  s.src = url;\n",
       "  s.async = true;\n",
       "  s.onreadystatechange = s.onload = callback;\n",
       "  s.onerror = function(){console.warn(\"failed to load library \" + url);};\n",
       "  document.getElementsByTagName(\"head\")[0].appendChild(s);\n",
       "}\n",
       "\n",
       "if(typeof(LDAvis) !== \"undefined\"){\n",
       "   // already loaded: just create the visualization\n",
       "   !function(LDAvis){\n",
       "       new LDAvis(\"#\" + \"ldavis_el3046213545134160241578282\", ldavis_el3046213545134160241578282_data);\n",
       "   }(LDAvis);\n",
       "}else if(typeof define === \"function\" && define.amd){\n",
       "   // require.js is available: use it to load d3/LDAvis\n",
       "   require.config({paths: {d3: \"https://d3js.org/d3.v5\"}});\n",
       "   require([\"d3\"], function(d3){\n",
       "      window.d3 = d3;\n",
       "      LDAvis_load_lib(\"https://cdn.jsdelivr.net/gh/bmabey/pyLDAvis@3.4.0/pyLDAvis/js/ldavis.v3.0.0.js\", function(){\n",
       "        new LDAvis(\"#\" + \"ldavis_el3046213545134160241578282\", ldavis_el3046213545134160241578282_data);\n",
       "      });\n",
       "    });\n",
       "}else{\n",
       "    // require.js not available: dynamically load d3 & LDAvis\n",
       "    LDAvis_load_lib(\"https://d3js.org/d3.v5.js\", function(){\n",
       "         LDAvis_load_lib(\"https://cdn.jsdelivr.net/gh/bmabey/pyLDAvis@3.4.0/pyLDAvis/js/ldavis.v3.0.0.js\", function(){\n",
       "                 new LDAvis(\"#\" + \"ldavis_el3046213545134160241578282\", ldavis_el3046213545134160241578282_data);\n",
       "            })\n",
       "         });\n",
       "}\n",
       "</script>"
      ],
      "text/plain": [
       "<IPython.core.display.HTML object>"
      ]
     },
     "metadata": {},
     "output_type": "display_data"
    }
   ],
   "source": [
    "import pyLDAvis\n",
    "import pyLDAvis.gensim_models as gensimvis\n",
    "from IPython.display import display, Markdown, HTML\n",
    "\n",
    "# Function to create a labeled LDA visualization\n",
    "def create_labeled_lda_vis(lda_model, corpus, dictionary, topic_labels):\n",
    "    vis_data = gensimvis.prepare(lda_model, corpus, dictionary)\n",
    "    vis_data = pyLDAvis.prepared_data_to_html(vis_data)\n",
    "    for i, label in enumerate(topic_labels):\n",
    "        vis_data = vis_data.replace(f\"Topic {i+1}\", f\"Topic {i+1}: {label}\")\n",
    "    return vis_data\n",
    "\n",
    "# # Prepare the pyLDAvis labels for high-rating reviews\n",
    "topic_labels_high = topics_df_high.reset_index()['topic_labels'].tolist()\n",
    "# Create the visualizations\n",
    "high_lda_vis = create_labeled_lda_vis(high_lda, high_corpus, high_dictionary, topic_labels_high)\n",
    "# Display titles and visualizations\n",
    "display(Markdown(\"## High Rating Reviews Topics\"))\n",
    "# pyLDAvis.display(high_lda_vis)\n",
    "display(HTML(high_lda_vis))\n"
   ]
  },
  {
   "cell_type": "code",
   "execution_count": 59,
   "id": "8d9a7a06",
   "metadata": {},
   "outputs": [],
   "source": [
    "\n",
    "\n",
    "\n",
    "# topic_lables_low = topics_df_low['topic_labels'].tolist()\n",
    "\n",
    "\n",
    "\n",
    "# low_lda_vis = create_labeled_lda_vis(low_lda, low_corpus, low_dictionary, topic_labels_low)\n",
    "\n",
    "\n",
    "# # # Display the visualizations in the notebook\n",
    "# pyLDAvis.display(high_lda_vis)\n"
   ]
  },
  {
   "cell_type": "code",
   "execution_count": 60,
   "id": "45730c55",
   "metadata": {},
   "outputs": [],
   "source": [
    "\n",
    "# # Prepare the pyLDAvis data\n",
    "# low_lda_vis = gensimvis.prepare(low_lda, low_corpus, low_dictionary)\n",
    "# # Display the visualizations in the notebook\n",
    "# pyLDAvis.display(low_lda_vis)"
   ]
  },
  {
   "cell_type": "code",
   "execution_count": null,
   "id": "9faae848",
   "metadata": {},
   "outputs": [],
   "source": []
  },
  {
   "cell_type": "markdown",
   "id": "77dbaa41",
   "metadata": {},
   "source": [
    "# 📌 BOOKMARK 06/26/24"
   ]
  },
  {
   "cell_type": "markdown",
   "id": "128f758e",
   "metadata": {},
   "source": [
    "# Sentiment Analysis"
   ]
  },
  {
   "cell_type": "markdown",
   "id": "85986a5f-b0a8-4d79-ab83-84fb411afdf5",
   "metadata": {},
   "source": [
    "## Sentiment Analysis - NLTK's Vader"
   ]
  },
  {
   "cell_type": "markdown",
   "id": "2f3a5bec-266e-4553-8274-6a24fbfb6ed5",
   "metadata": {},
   "source": [
    "Perform sentiment analysis to create polarity scores according to VADERS's sentiment lexicon.  \n",
    "- Compare the sentiments of high-rating and low-rating texts.  \n",
    "- Compare the average scores for high and low-rating reviews.  \n",
    "- Which review polarity scores don't match the ratings?  Why do you think this is?"
   ]
  },
  {
   "cell_type": "code",
   "execution_count": 61,
   "id": "57e3766c",
   "metadata": {},
   "outputs": [],
   "source": [
    "# !pip install nltk"
   ]
  },
  {
   "cell_type": "code",
   "execution_count": 62,
   "id": "c802d77a-ec81-4a43-8cf5-1c6c04d3b68e",
   "metadata": {
    "execution": {
     "iopub.execute_input": "2024-02-13T01:39:15.334040Z",
     "iopub.status.busy": "2024-02-13T01:39:15.333389Z",
     "iopub.status.idle": "2024-02-13T01:39:15.524417Z",
     "shell.execute_reply": "2024-02-13T01:39:15.522852Z",
     "shell.execute_reply.started": "2024-02-13T01:39:15.334017Z"
    }
   },
   "outputs": [
    {
     "name": "stderr",
     "output_type": "stream",
     "text": [
      "[nltk_data] Downloading package vader_lexicon to\n",
      "[nltk_data]     /Users/codingdojo/nltk_data...\n",
      "[nltk_data]   Package vader_lexicon is already up-to-date!\n"
     ]
    },
    {
     "data": {
      "text/plain": [
       "True"
      ]
     },
     "execution_count": 62,
     "metadata": {},
     "output_type": "execute_result"
    }
   ],
   "source": [
    "import nltk\n",
    "from nltk.sentiment.vader import SentimentIntensityAnalyzer\n",
    "nltk.download('vader_lexicon')"
   ]
  },
  {
   "cell_type": "code",
   "execution_count": 63,
   "id": "365ec383-e248-4057-8b31-bd00d4de7ca2",
   "metadata": {
    "execution": {
     "iopub.execute_input": "2024-02-13T01:39:15.528716Z",
     "iopub.status.busy": "2024-02-13T01:39:15.528024Z",
     "iopub.status.idle": "2024-02-13T01:39:15.544865Z",
     "shell.execute_reply": "2024-02-13T01:39:15.544274Z",
     "shell.execute_reply.started": "2024-02-13T01:39:15.528666Z"
    }
   },
   "outputs": [],
   "source": [
    "# Initialize the VADER sentiment analyzer\n",
    "sia = SentimentIntensityAnalyzer()"
   ]
  },
  {
   "cell_type": "code",
   "execution_count": 64,
   "id": "ca8e0a7a-66a6-4aec-96ae-3e3b92503a18",
   "metadata": {
    "execution": {
     "iopub.execute_input": "2024-02-13T01:39:15.545614Z",
     "iopub.status.busy": "2024-02-13T01:39:15.545493Z",
     "iopub.status.idle": "2024-02-13T01:39:15.553501Z",
     "shell.execute_reply": "2024-02-13T01:39:15.553004Z",
     "shell.execute_reply.started": "2024-02-13T01:39:15.545605Z"
    }
   },
   "outputs": [
    {
     "data": {
      "text/html": [
       "<div>\n",
       "<style scoped>\n",
       "    .dataframe tbody tr th:only-of-type {\n",
       "        vertical-align: middle;\n",
       "    }\n",
       "\n",
       "    .dataframe tbody tr th {\n",
       "        vertical-align: top;\n",
       "    }\n",
       "\n",
       "    .dataframe thead th {\n",
       "        text-align: right;\n",
       "    }\n",
       "</style>\n",
       "<table border=\"1\" class=\"dataframe\">\n",
       "  <thead>\n",
       "    <tr style=\"text-align: right;\">\n",
       "      <th></th>\n",
       "      <th>asin</th>\n",
       "      <th>reviewerID</th>\n",
       "      <th>reviewText</th>\n",
       "      <th>summary</th>\n",
       "      <th>overall</th>\n",
       "      <th>year</th>\n",
       "      <th>title</th>\n",
       "      <th>brand</th>\n",
       "      <th>category</th>\n",
       "      <th>review-text-full</th>\n",
       "      <th>review-text-full_raw</th>\n",
       "      <th>tokens-dirty</th>\n",
       "      <th>tokens</th>\n",
       "      <th>lemmas</th>\n",
       "      <th>tokens-dirty-joined</th>\n",
       "      <th>tokens-joined</th>\n",
       "      <th>lemmas-joined</th>\n",
       "      <th>target-rating</th>\n",
       "    </tr>\n",
       "  </thead>\n",
       "  <tbody>\n",
       "    <tr>\n",
       "      <th>0</th>\n",
       "      <td>B007JINB0W</td>\n",
       "      <td>A3Y51NV9HU5T2</td>\n",
       "      <td>Great pasta taste and feel, but the spell in the packaged is SKRONG!</td>\n",
       "      <td>Four Stars</td>\n",
       "      <td>4</td>\n",
       "      <td>2018</td>\n",
       "      <td>Miracle Noodle Zero Carb, Gluten Free Shirataki Pasta, Spinach Angel Hair, 7-Ounce (Pack of 24)</td>\n",
       "      <td>Miracle Noodle</td>\n",
       "      <td>Grocery &amp; Gourmet Food; Pasta &amp; Noodles; Noodles; Shirataki</td>\n",
       "      <td>Four Stars: Great pasta taste and feel, but the spell in the packaged is SKRONG!</td>\n",
       "      <td>Four Stars: Great pasta taste and feel, but the spell in the packaged is SKRONG!</td>\n",
       "      <td>[four, stars, great, pasta, taste, and, feel, but, the, spell, in, the, packaged, is, skrong]</td>\n",
       "      <td>[stars, great, pasta, taste, feel, spell, packaged, skrong]</td>\n",
       "      <td>[star, great, pasta, taste, feel, spell, package, SKRONG]</td>\n",
       "      <td>four stars great pasta taste and feel but the spell in the packaged is skrong</td>\n",
       "      <td>stars great pasta taste feel spell packaged skrong</td>\n",
       "      <td>star great pasta taste feel spell package skrong</td>\n",
       "      <td>None</td>\n",
       "    </tr>\n",
       "    <tr>\n",
       "      <th>1</th>\n",
       "      <td>B007JINB0W</td>\n",
       "      <td>A3D7EFSRC6Y9MP</td>\n",
       "      <td>The texture just made it a little strange to eat. Otherwise the flavor is okay, very bland so add spices.</td>\n",
       "      <td>Okay but don't like texture</td>\n",
       "      <td>3</td>\n",
       "      <td>2014</td>\n",
       "      <td>Miracle Noodle Zero Carb, Gluten Free Shirataki Pasta, Spinach Angel Hair, 7-Ounce (Pack of 24)</td>\n",
       "      <td>Miracle Noodle</td>\n",
       "      <td>Grocery &amp; Gourmet Food; Pasta &amp; Noodles; Noodles; Shirataki</td>\n",
       "      <td>Okay but don't like texture: The texture just made it a little strange to eat. Otherwise the flavor is okay, very bland so add spices.</td>\n",
       "      <td>Okay but don't like texture: The texture just made it a little strange to eat. Otherwise the flavor is okay, very bland so add spices.</td>\n",
       "      <td>[okay, but, do, n't, like, texture, the, texture, just, made, it, a, little, strange, to, eat, otherwise, the, flavor, is, okay, very, bland, so, add, spices]</td>\n",
       "      <td>[okay, like, texture, texture, little, strange, eat, flavor, okay, bland, add, spices]</td>\n",
       "      <td>[okay, like, texture, texture, little, strange, flavor, okay, bland, spice]</td>\n",
       "      <td>okay but do n't like texture the texture just made it a little strange to eat otherwise the flavor is okay very bland so add spices</td>\n",
       "      <td>okay like texture texture little strange eat flavor okay bland add spices</td>\n",
       "      <td>okay like texture texture little strange eat flavor okay bland add spice</td>\n",
       "      <td>None</td>\n",
       "    </tr>\n",
       "  </tbody>\n",
       "</table>\n",
       "</div>"
      ],
      "text/plain": [
       "         asin      reviewerID  \\\n",
       "0  B007JINB0W   A3Y51NV9HU5T2   \n",
       "1  B007JINB0W  A3D7EFSRC6Y9MP   \n",
       "\n",
       "                                                                                                  reviewText  \\\n",
       "0                                       Great pasta taste and feel, but the spell in the packaged is SKRONG!   \n",
       "1  The texture just made it a little strange to eat. Otherwise the flavor is okay, very bland so add spices.   \n",
       "\n",
       "                       summary  overall  year  \\\n",
       "0                   Four Stars        4  2018   \n",
       "1  Okay but don't like texture        3  2014   \n",
       "\n",
       "                                                                                             title  \\\n",
       "0  Miracle Noodle Zero Carb, Gluten Free Shirataki Pasta, Spinach Angel Hair, 7-Ounce (Pack of 24)   \n",
       "1  Miracle Noodle Zero Carb, Gluten Free Shirataki Pasta, Spinach Angel Hair, 7-Ounce (Pack of 24)   \n",
       "\n",
       "            brand  \\\n",
       "0  Miracle Noodle   \n",
       "1  Miracle Noodle   \n",
       "\n",
       "                                                      category  \\\n",
       "0  Grocery & Gourmet Food; Pasta & Noodles; Noodles; Shirataki   \n",
       "1  Grocery & Gourmet Food; Pasta & Noodles; Noodles; Shirataki   \n",
       "\n",
       "                                                                                                                         review-text-full  \\\n",
       "0                                                        Four Stars: Great pasta taste and feel, but the spell in the packaged is SKRONG!   \n",
       "1  Okay but don't like texture: The texture just made it a little strange to eat. Otherwise the flavor is okay, very bland so add spices.   \n",
       "\n",
       "                                                                                                                     review-text-full_raw  \\\n",
       "0                                                        Four Stars: Great pasta taste and feel, but the spell in the packaged is SKRONG!   \n",
       "1  Okay but don't like texture: The texture just made it a little strange to eat. Otherwise the flavor is okay, very bland so add spices.   \n",
       "\n",
       "                                                                                                                                                     tokens-dirty  \\\n",
       "0                                                                   [four, stars, great, pasta, taste, and, feel, but, the, spell, in, the, packaged, is, skrong]   \n",
       "1  [okay, but, do, n't, like, texture, the, texture, just, made, it, a, little, strange, to, eat, otherwise, the, flavor, is, okay, very, bland, so, add, spices]   \n",
       "\n",
       "                                                                                   tokens  \\\n",
       "0                             [stars, great, pasta, taste, feel, spell, packaged, skrong]   \n",
       "1  [okay, like, texture, texture, little, strange, eat, flavor, okay, bland, add, spices]   \n",
       "\n",
       "                                                                        lemmas  \\\n",
       "0                    [star, great, pasta, taste, feel, spell, package, SKRONG]   \n",
       "1  [okay, like, texture, texture, little, strange, flavor, okay, bland, spice]   \n",
       "\n",
       "                                                                                                                   tokens-dirty-joined  \\\n",
       "0                                                        four stars great pasta taste and feel but the spell in the packaged is skrong   \n",
       "1  okay but do n't like texture the texture just made it a little strange to eat otherwise the flavor is okay very bland so add spices   \n",
       "\n",
       "                                                               tokens-joined  \\\n",
       "0                         stars great pasta taste feel spell packaged skrong   \n",
       "1  okay like texture texture little strange eat flavor okay bland add spices   \n",
       "\n",
       "                                                              lemmas-joined  \\\n",
       "0                          star great pasta taste feel spell package skrong   \n",
       "1  okay like texture texture little strange eat flavor okay bland add spice   \n",
       "\n",
       "  target-rating  \n",
       "0          None  \n",
       "1          None  "
      ]
     },
     "execution_count": 64,
     "metadata": {},
     "output_type": "execute_result"
    }
   ],
   "source": [
    "df.head(2)"
   ]
  },
  {
   "cell_type": "code",
   "execution_count": null,
   "id": "ba427f53",
   "metadata": {},
   "outputs": [],
   "source": []
  },
  {
   "cell_type": "code",
   "execution_count": 65,
   "id": "e7816624-8a84-4cdd-bf88-81c8d4a50617",
   "metadata": {
    "execution": {
     "iopub.execute_input": "2024-02-13T01:39:15.554380Z",
     "iopub.status.busy": "2024-02-13T01:39:15.554222Z",
     "iopub.status.idle": "2024-02-13T01:39:17.169275Z",
     "shell.execute_reply": "2024-02-13T01:39:17.168958Z",
     "shell.execute_reply.started": "2024-02-13T01:39:15.554364Z"
    }
   },
   "outputs": [
    {
     "data": {
      "text/html": [
       "<div>\n",
       "<style scoped>\n",
       "    .dataframe tbody tr th:only-of-type {\n",
       "        vertical-align: middle;\n",
       "    }\n",
       "\n",
       "    .dataframe tbody tr th {\n",
       "        vertical-align: top;\n",
       "    }\n",
       "\n",
       "    .dataframe thead th {\n",
       "        text-align: right;\n",
       "    }\n",
       "</style>\n",
       "<table border=\"1\" class=\"dataframe\">\n",
       "  <thead>\n",
       "    <tr style=\"text-align: right;\">\n",
       "      <th></th>\n",
       "      <th>asin</th>\n",
       "      <th>reviewerID</th>\n",
       "      <th>reviewText</th>\n",
       "      <th>summary</th>\n",
       "      <th>overall</th>\n",
       "      <th>year</th>\n",
       "      <th>title</th>\n",
       "      <th>brand</th>\n",
       "      <th>category</th>\n",
       "      <th>review-text-full</th>\n",
       "      <th>review-text-full_raw</th>\n",
       "      <th>tokens-dirty</th>\n",
       "      <th>tokens</th>\n",
       "      <th>lemmas</th>\n",
       "      <th>tokens-dirty-joined</th>\n",
       "      <th>tokens-joined</th>\n",
       "      <th>lemmas-joined</th>\n",
       "      <th>target-rating</th>\n",
       "      <th>neg</th>\n",
       "      <th>neu</th>\n",
       "      <th>pos</th>\n",
       "      <th>compound</th>\n",
       "    </tr>\n",
       "  </thead>\n",
       "  <tbody>\n",
       "    <tr>\n",
       "      <th>0</th>\n",
       "      <td>B007JINB0W</td>\n",
       "      <td>A3Y51NV9HU5T2</td>\n",
       "      <td>Great pasta taste and feel, but the spell in the packaged is SKRONG!</td>\n",
       "      <td>Four Stars</td>\n",
       "      <td>4</td>\n",
       "      <td>2018</td>\n",
       "      <td>Miracle Noodle Zero Carb, Gluten Free Shirataki Pasta, Spinach Angel Hair, 7-Ounce (Pack of 24)</td>\n",
       "      <td>Miracle Noodle</td>\n",
       "      <td>Grocery &amp; Gourmet Food; Pasta &amp; Noodles; Noodles; Shirataki</td>\n",
       "      <td>Four Stars: Great pasta taste and feel, but the spell in the packaged is SKRONG!</td>\n",
       "      <td>Four Stars: Great pasta taste and feel, but the spell in the packaged is SKRONG!</td>\n",
       "      <td>[four, stars, great, pasta, taste, and, feel, but, the, spell, in, the, packaged, is, skrong]</td>\n",
       "      <td>[stars, great, pasta, taste, feel, spell, packaged, skrong]</td>\n",
       "      <td>[star, great, pasta, taste, feel, spell, package, SKRONG]</td>\n",
       "      <td>four stars great pasta taste and feel but the spell in the packaged is skrong</td>\n",
       "      <td>stars great pasta taste feel spell packaged skrong</td>\n",
       "      <td>star great pasta taste feel spell package skrong</td>\n",
       "      <td>None</td>\n",
       "      <td>0.000</td>\n",
       "      <td>0.831</td>\n",
       "      <td>0.169</td>\n",
       "      <td>0.4295</td>\n",
       "    </tr>\n",
       "    <tr>\n",
       "      <th>1</th>\n",
       "      <td>B007JINB0W</td>\n",
       "      <td>A3D7EFSRC6Y9MP</td>\n",
       "      <td>The texture just made it a little strange to eat. Otherwise the flavor is okay, very bland so add spices.</td>\n",
       "      <td>Okay but don't like texture</td>\n",
       "      <td>3</td>\n",
       "      <td>2014</td>\n",
       "      <td>Miracle Noodle Zero Carb, Gluten Free Shirataki Pasta, Spinach Angel Hair, 7-Ounce (Pack of 24)</td>\n",
       "      <td>Miracle Noodle</td>\n",
       "      <td>Grocery &amp; Gourmet Food; Pasta &amp; Noodles; Noodles; Shirataki</td>\n",
       "      <td>Okay but don't like texture: The texture just made it a little strange to eat. Otherwise the flavor is okay, very bland so add spices.</td>\n",
       "      <td>Okay but don't like texture: The texture just made it a little strange to eat. Otherwise the flavor is okay, very bland so add spices.</td>\n",
       "      <td>[okay, but, do, n't, like, texture, the, texture, just, made, it, a, little, strange, to, eat, otherwise, the, flavor, is, okay, very, bland, so, add, spices]</td>\n",
       "      <td>[okay, like, texture, texture, little, strange, eat, flavor, okay, bland, add, spices]</td>\n",
       "      <td>[okay, like, texture, texture, little, strange, flavor, okay, bland, spice]</td>\n",
       "      <td>okay but do n't like texture the texture just made it a little strange to eat otherwise the flavor is okay very bland so add spices</td>\n",
       "      <td>okay like texture texture little strange eat flavor okay bland add spices</td>\n",
       "      <td>okay like texture texture little strange eat flavor okay bland add spice</td>\n",
       "      <td>None</td>\n",
       "      <td>0.157</td>\n",
       "      <td>0.709</td>\n",
       "      <td>0.135</td>\n",
       "      <td>-0.1594</td>\n",
       "    </tr>\n",
       "    <tr>\n",
       "      <th>2</th>\n",
       "      <td>B007JINB0W</td>\n",
       "      <td>A4AM5KBP3I2R</td>\n",
       "      <td>The herb flavor makes the odd texture of shirataki much more palatable.</td>\n",
       "      <td>Go for the green noodles</td>\n",
       "      <td>5</td>\n",
       "      <td>2018</td>\n",
       "      <td>Miracle Noodle Zero Carb, Gluten Free Shirataki Pasta, Spinach Angel Hair, 7-Ounce (Pack of 24)</td>\n",
       "      <td>Miracle Noodle</td>\n",
       "      <td>Grocery &amp; Gourmet Food; Pasta &amp; Noodles; Noodles; Shirataki</td>\n",
       "      <td>Go for the green noodles: The herb flavor makes the odd texture of shirataki much more palatable.</td>\n",
       "      <td>Go for the green noodles: The herb flavor makes the odd texture of shirataki much more palatable.</td>\n",
       "      <td>[go, for, the, green, noodles, the, herb, flavor, makes, the, odd, texture, of, shirataki, much, more, palatable]</td>\n",
       "      <td>[green, noodles, herb, flavor, makes, odd, texture, shirataki, palatable]</td>\n",
       "      <td>[green, noodle, herb, flavor, make, texture, shirataki, palatable]</td>\n",
       "      <td>go for the green noodles the herb flavor makes the odd texture of shirataki much more palatable</td>\n",
       "      <td>green noodles herb flavor makes odd texture shirataki palatable</td>\n",
       "      <td>green noodle herb flavor make odd texture shirataki palatable</td>\n",
       "      <td>High</td>\n",
       "      <td>0.114</td>\n",
       "      <td>0.743</td>\n",
       "      <td>0.143</td>\n",
       "      <td>0.1513</td>\n",
       "    </tr>\n",
       "    <tr>\n",
       "      <th>3</th>\n",
       "      <td>B007JINB0W</td>\n",
       "      <td>A3GHK4IL78DB7Y</td>\n",
       "      <td>I didn't have a problem at all with a half filled bag or anything that other users said. I was concerned at first but I took a chance and there were no problems.\\nI find the best way to get rid of the initial smell is to boil it will a cube of bo...</td>\n",
       "      <td>Its an awesome substitute.</td>\n",
       "      <td>5</td>\n",
       "      <td>2018</td>\n",
       "      <td>Miracle Noodle Zero Carb, Gluten Free Shirataki Pasta, Spinach Angel Hair, 7-Ounce (Pack of 24)</td>\n",
       "      <td>Miracle Noodle</td>\n",
       "      <td>Grocery &amp; Gourmet Food; Pasta &amp; Noodles; Noodles; Shirataki</td>\n",
       "      <td>Its an awesome substitute.: I didn't have a problem at all with a half filled bag or anything that other users said. I was concerned at first but I took a chance and there were no problems.\\nI find the best way to get rid of the initial smell is ...</td>\n",
       "      <td>Its an awesome substitute.: I didn't have a problem at all with a half filled bag or anything that other users said. I was concerned at first but I took a chance and there were no problems.\\nI find the best way to get rid of the initial smell is ...</td>\n",
       "      <td>[its, an, awesome, substitute, i, did, n't, have, a, problem, at, all, with, a, half, filled, bag, or, anything, that, other, users, said, i, was, concerned, at, first, but, i, took, a, chance, and, there, were, no, problems, i, find, the, best, ...</td>\n",
       "      <td>[awesome, substitute, problem, half, filled, bag, users, said, concerned, took, chance, problems, find, best, way, rid, initial, smell, boil, cube, bouillon, texture, good, notice, replace, noodle, eat, nt, mind]</td>\n",
       "      <td>[awesome, substitute, problem, half, fill, user, say, concern, take, chance, problem, find, good, initial, smell, boil, cube, bouillon, texture, good, notice, replace, noodle, mind]</td>\n",
       "      <td>its an awesome substitute i did n't have a problem at all with a half filled bag or anything that other users said i was concerned at first but i took a chance and there were no problems i find the best way to get rid of the initial smell is to b...</td>\n",
       "      <td>awesome substitute problem half filled bag users said concerned took chance problems find best way rid initial smell boil cube bouillon texture good notice replace noodle eat nt mind</td>\n",
       "      <td>awesome substitute problem half fill bag user say concern take chance problem find good way rid initial smell boil cube bouillon texture good notice replace noodle eat not mind</td>\n",
       "      <td>High</td>\n",
       "      <td>0.072</td>\n",
       "      <td>0.735</td>\n",
       "      <td>0.193</td>\n",
       "      <td>0.8936</td>\n",
       "    </tr>\n",
       "    <tr>\n",
       "      <th>4</th>\n",
       "      <td>B007JINB0W</td>\n",
       "      <td>AH3B94LQOPPY6</td>\n",
       "      <td>They taste like whatever you cook them with.</td>\n",
       "      <td>Five Stars</td>\n",
       "      <td>5</td>\n",
       "      <td>2016</td>\n",
       "      <td>Miracle Noodle Zero Carb, Gluten Free Shirataki Pasta, Spinach Angel Hair, 7-Ounce (Pack of 24)</td>\n",
       "      <td>Miracle Noodle</td>\n",
       "      <td>Grocery &amp; Gourmet Food; Pasta &amp; Noodles; Noodles; Shirataki</td>\n",
       "      <td>Five Stars: They taste like whatever you cook them with.</td>\n",
       "      <td>Five Stars: They taste like whatever you cook them with.</td>\n",
       "      <td>[five, stars, they, taste, like, whatever, you, cook, them, with]</td>\n",
       "      <td>[stars, taste, like, cook]</td>\n",
       "      <td>[star, taste, like, cook]</td>\n",
       "      <td>five stars they taste like whatever you cook them with</td>\n",
       "      <td>stars taste like cook</td>\n",
       "      <td>star taste like cook</td>\n",
       "      <td>High</td>\n",
       "      <td>0.000</td>\n",
       "      <td>0.783</td>\n",
       "      <td>0.217</td>\n",
       "      <td>0.3612</td>\n",
       "    </tr>\n",
       "    <tr>\n",
       "      <th>...</th>\n",
       "      <td>...</td>\n",
       "      <td>...</td>\n",
       "      <td>...</td>\n",
       "      <td>...</td>\n",
       "      <td>...</td>\n",
       "      <td>...</td>\n",
       "      <td>...</td>\n",
       "      <td>...</td>\n",
       "      <td>...</td>\n",
       "      <td>...</td>\n",
       "      <td>...</td>\n",
       "      <td>...</td>\n",
       "      <td>...</td>\n",
       "      <td>...</td>\n",
       "      <td>...</td>\n",
       "      <td>...</td>\n",
       "      <td>...</td>\n",
       "      <td>...</td>\n",
       "      <td>...</td>\n",
       "      <td>...</td>\n",
       "      <td>...</td>\n",
       "      <td>...</td>\n",
       "    </tr>\n",
       "    <tr>\n",
       "      <th>4358</th>\n",
       "      <td>B007JINB0W</td>\n",
       "      <td>A73IG1ED6S0JR</td>\n",
       "      <td>Product arrived with two of the bags punctured. Also smells really really bad.</td>\n",
       "      <td>would not recomend</td>\n",
       "      <td>1</td>\n",
       "      <td>2016</td>\n",
       "      <td>Miracle Noodle Zero Carb, Gluten Free Shirataki Pasta, Spinach Angel Hair, 7-Ounce (Pack of 24)</td>\n",
       "      <td>Miracle Noodle</td>\n",
       "      <td>Grocery &amp; Gourmet Food; Pasta &amp; Noodles; Noodles; Shirataki</td>\n",
       "      <td>would not recomend: Product arrived with two of the bags punctured. Also smells really really bad.</td>\n",
       "      <td>would not recomend: Product arrived with two of the bags punctured. Also smells really really bad.</td>\n",
       "      <td>[would, not, recomend, product, arrived, with, two, of, the, bags, punctured, also, smells, really, really, bad]</td>\n",
       "      <td>[recomend, product, arrived, bags, punctured, smells, bad]</td>\n",
       "      <td>[recomend, product, arrive, bag, puncture, smell]</td>\n",
       "      <td>would not recomend product arrived with two of the bags punctured also smells really really bad</td>\n",
       "      <td>recomend product arrived bags punctured smells bad</td>\n",
       "      <td>recomend product arrive bag puncture smell bad</td>\n",
       "      <td>Low</td>\n",
       "      <td>0.213</td>\n",
       "      <td>0.787</td>\n",
       "      <td>0.000</td>\n",
       "      <td>-0.6214</td>\n",
       "    </tr>\n",
       "    <tr>\n",
       "      <th>4359</th>\n",
       "      <td>B007JINB0W</td>\n",
       "      <td>A1XZ2H0MYG54M0</td>\n",
       "      <td>Ok.</td>\n",
       "      <td>Five Stars</td>\n",
       "      <td>5</td>\n",
       "      <td>2016</td>\n",
       "      <td>Miracle Noodle Zero Carb, Gluten Free Shirataki Pasta, Spinach Angel Hair, 7-Ounce (Pack of 24)</td>\n",
       "      <td>Miracle Noodle</td>\n",
       "      <td>Grocery &amp; Gourmet Food; Pasta &amp; Noodles; Noodles; Shirataki</td>\n",
       "      <td>Five Stars: Ok.</td>\n",
       "      <td>Five Stars: Ok.</td>\n",
       "      <td>[five, stars, ok]</td>\n",
       "      <td>[stars, ok]</td>\n",
       "      <td>[star]</td>\n",
       "      <td>five stars ok</td>\n",
       "      <td>stars ok</td>\n",
       "      <td>star ok</td>\n",
       "      <td>High</td>\n",
       "      <td>0.000</td>\n",
       "      <td>0.476</td>\n",
       "      <td>0.524</td>\n",
       "      <td>0.2960</td>\n",
       "    </tr>\n",
       "    <tr>\n",
       "      <th>4360</th>\n",
       "      <td>B007JINB0W</td>\n",
       "      <td>A3I2YF0MXB7P0B</td>\n",
       "      <td>I like these noodles but the spinach ones just taste odd. They have a bitter flavor compared to the other ones. I don't think it tastes like Spinach, it just tastes bitter and odd. Now I understand why these were on sale compared to the other one...</td>\n",
       "      <td>Not awful, but now I know why these were on sale.</td>\n",
       "      <td>2</td>\n",
       "      <td>2013</td>\n",
       "      <td>Miracle Noodle Zero Carb, Gluten Free Shirataki Pasta, Spinach Angel Hair, 7-Ounce (Pack of 24)</td>\n",
       "      <td>Miracle Noodle</td>\n",
       "      <td>Grocery &amp; Gourmet Food; Pasta &amp; Noodles; Noodles; Shirataki</td>\n",
       "      <td>Not awful, but now I know why these were on sale.: I like these noodles but the spinach ones just taste odd. They have a bitter flavor compared to the other ones. I don't think it tastes like Spinach, it just tastes bitter and odd. Now I understa...</td>\n",
       "      <td>Not awful, but now I know why these were on sale.: I like these noodles but the spinach ones just taste odd. They have a bitter flavor compared to the other ones. I don't think it tastes like Spinach, it just tastes bitter and odd. Now I understa...</td>\n",
       "      <td>[not, awful, but, now, i, know, why, these, were, on, sale, i, like, these, noodles, but, the, spinach, ones, just, taste, odd, they, have, a, bitter, flavor, compared, to, the, other, ones, i, do, n't, think, it, tastes, like, spinach, it, just,...</td>\n",
       "      <td>[awful, know, sale, like, noodles, spinach, ones, taste, odd, bitter, flavor, compared, ones, think, tastes, like, spinach, tastes, bitter, odd, understand, sale, compared, ones, drawer, fridge, know]</td>\n",
       "      <td>[awful, know, sale, like, noodle, spinach, one, taste, bitter, flavor, compare, one, think, taste, like, Spinach, taste, bitter, understand, sale, compare, one, drawer, fridge, know]</td>\n",
       "      <td>not awful but now i know why these were on sale i like these noodles but the spinach ones just taste odd they have a bitter flavor compared to the other ones i do n't think it tastes like spinach it just tastes bitter and odd now i understand why...</td>\n",
       "      <td>awful know sale like noodles spinach ones taste odd bitter flavor compared ones think tastes like spinach tastes bitter odd understand sale compared ones drawer fridge know</td>\n",
       "      <td>awful know sale like noodle spinach one taste odd bitter flavor compare one think taste like spinach taste bitter odd understand sale compare one drawer fridge know</td>\n",
       "      <td>Low</td>\n",
       "      <td>0.163</td>\n",
       "      <td>0.736</td>\n",
       "      <td>0.101</td>\n",
       "      <td>-0.7236</td>\n",
       "    </tr>\n",
       "    <tr>\n",
       "      <th>4361</th>\n",
       "      <td>B007JINB0W</td>\n",
       "      <td>A2UELLFLITPMT1</td>\n",
       "      <td>Truly horrific. Like eating dead worms.</td>\n",
       "      <td>Don't even try it.</td>\n",
       "      <td>1</td>\n",
       "      <td>2017</td>\n",
       "      <td>Miracle Noodle Zero Carb, Gluten Free Shirataki Pasta, Spinach Angel Hair, 7-Ounce (Pack of 24)</td>\n",
       "      <td>Miracle Noodle</td>\n",
       "      <td>Grocery &amp; Gourmet Food; Pasta &amp; Noodles; Noodles; Shirataki</td>\n",
       "      <td>Don't even try it.: Truly horrific. Like eating dead worms.</td>\n",
       "      <td>Don't even try it.: Truly horrific. Like eating dead worms.</td>\n",
       "      <td>[do, n't, even, try, it, truly, horrific, like, eating, dead, worms]</td>\n",
       "      <td>[try, truly, horrific, like, eating, dead, worms]</td>\n",
       "      <td>[truly, horrific, like, eat, dead, worm]</td>\n",
       "      <td>do n't even try it truly horrific like eating dead worms</td>\n",
       "      <td>try truly horrific like eating dead worms</td>\n",
       "      <td>try truly horrific like eat dead worm</td>\n",
       "      <td>Low</td>\n",
       "      <td>0.433</td>\n",
       "      <td>0.299</td>\n",
       "      <td>0.269</td>\n",
       "      <td>-0.6486</td>\n",
       "    </tr>\n",
       "    <tr>\n",
       "      <th>4362</th>\n",
       "      <td>B007JINB0W</td>\n",
       "      <td>A178M2AHNWQZB0</td>\n",
       "      <td>We love the rice noodles, and have problems finding them locally. It's nice to have them available via Amazon.\\n\\nIf you follow the directions on the package and rinse them well, there is no odor remaining. We don't bother to dry them out in the ...</td>\n",
       "      <td>As good as all the other Miracle noodle products</td>\n",
       "      <td>5</td>\n",
       "      <td>2017</td>\n",
       "      <td>Miracle Noodle Zero Carb, Gluten Free Shirataki Pasta, Spinach Angel Hair, 7-Ounce (Pack of 24)</td>\n",
       "      <td>Miracle Noodle</td>\n",
       "      <td>Grocery &amp; Gourmet Food; Pasta &amp; Noodles; Noodles; Shirataki</td>\n",
       "      <td>As good as all the other Miracle noodle products: We love the rice noodles, and have problems finding them locally. It's nice to have them available via Amazon.\\n\\nIf you follow the directions on the package and rinse them well, there is no odor ...</td>\n",
       "      <td>As good as all the other Miracle noodle products: We love the rice noodles, and have problems finding them locally. It's nice to have them available via Amazon.\\n\\nIf you follow the directions on the package and rinse them well, there is no odor ...</td>\n",
       "      <td>[as, good, as, all, the, other, miracle, noodle, products, we, love, the, rice, noodles, and, have, problems, finding, them, locally, it, 's, nice, to, have, them, available, via, amazon, if, you, follow, the, directions, on, the, package, and, r...</td>\n",
       "      <td>[good, miracle, noodle, products, love, rice, noodles, problems, finding, locally, nice, available, amazon, follow, directions, package, rinse, odor, remaining, bother, dry, pan, suggested, rice, substitute, stir, fry, asian, dishes, wet]</td>\n",
       "      <td>[good, Miracle, noodle, product, love, rice, noodle, problem, find, locally, nice, available, Amazon, follow, direction, package, rinse, odor, remain, bother, suggest, rice, substitute, stir, asian, dish]</td>\n",
       "      <td>as good as all the other miracle noodle products we love the rice noodles and have problems finding them locally it 's nice to have them available via amazon if you follow the directions on the package and rinse them well there is no odor remaini...</td>\n",
       "      <td>good miracle noodle products love rice noodles problems finding locally nice available amazon follow directions package rinse odor remaining bother dry pan suggested rice substitute stir fry asian dishes wet</td>\n",
       "      <td>good miracle noodle product love rice noodle problem find locally nice available amazon follow direction package rinse odor remain bother dry pan suggest rice substitute stir fry asian dish wet</td>\n",
       "      <td>High</td>\n",
       "      <td>0.054</td>\n",
       "      <td>0.733</td>\n",
       "      <td>0.214</td>\n",
       "      <td>0.9279</td>\n",
       "    </tr>\n",
       "  </tbody>\n",
       "</table>\n",
       "<p>4363 rows × 22 columns</p>\n",
       "</div>"
      ],
      "text/plain": [
       "            asin      reviewerID  \\\n",
       "0     B007JINB0W   A3Y51NV9HU5T2   \n",
       "1     B007JINB0W  A3D7EFSRC6Y9MP   \n",
       "2     B007JINB0W    A4AM5KBP3I2R   \n",
       "3     B007JINB0W  A3GHK4IL78DB7Y   \n",
       "4     B007JINB0W   AH3B94LQOPPY6   \n",
       "...          ...             ...   \n",
       "4358  B007JINB0W   A73IG1ED6S0JR   \n",
       "4359  B007JINB0W  A1XZ2H0MYG54M0   \n",
       "4360  B007JINB0W  A3I2YF0MXB7P0B   \n",
       "4361  B007JINB0W  A2UELLFLITPMT1   \n",
       "4362  B007JINB0W  A178M2AHNWQZB0   \n",
       "\n",
       "                                                                                                                                                                                                                                                     reviewText  \\\n",
       "0                                                                                                                                                                                          Great pasta taste and feel, but the spell in the packaged is SKRONG!   \n",
       "1                                                                                                                                                     The texture just made it a little strange to eat. Otherwise the flavor is okay, very bland so add spices.   \n",
       "2                                                                                                                                                                                       The herb flavor makes the odd texture of shirataki much more palatable.   \n",
       "3     I didn't have a problem at all with a half filled bag or anything that other users said. I was concerned at first but I took a chance and there were no problems.\\nI find the best way to get rid of the initial smell is to boil it will a cube of bo...   \n",
       "4                                                                                                                                                                                                                 They taste like whatever you cook them with.    \n",
       "...                                                                                                                                                                                                                                                         ...   \n",
       "4358                                                                                                                                                                             Product arrived with two of the bags punctured. Also smells really really bad.   \n",
       "4359                                                                                                                                                                                                                                                        Ok.   \n",
       "4360  I like these noodles but the spinach ones just taste odd. They have a bitter flavor compared to the other ones. I don't think it tastes like Spinach, it just tastes bitter and odd. Now I understand why these were on sale compared to the other one...   \n",
       "4361                                                                                                                                                                                                                    Truly horrific. Like eating dead worms.   \n",
       "4362  We love the rice noodles, and have problems finding them locally. It's nice to have them available via Amazon.\\n\\nIf you follow the directions on the package and rinse them well, there is no odor remaining. We don't bother to dry them out in the ...   \n",
       "\n",
       "                                                summary  overall  year  \\\n",
       "0                                            Four Stars        4  2018   \n",
       "1                           Okay but don't like texture        3  2014   \n",
       "2                              Go for the green noodles        5  2018   \n",
       "3                            Its an awesome substitute.        5  2018   \n",
       "4                                            Five Stars        5  2016   \n",
       "...                                                 ...      ...   ...   \n",
       "4358                                 would not recomend        1  2016   \n",
       "4359                                         Five Stars        5  2016   \n",
       "4360  Not awful, but now I know why these were on sale.        2  2013   \n",
       "4361                                 Don't even try it.        1  2017   \n",
       "4362   As good as all the other Miracle noodle products        5  2017   \n",
       "\n",
       "                                                                                                title  \\\n",
       "0     Miracle Noodle Zero Carb, Gluten Free Shirataki Pasta, Spinach Angel Hair, 7-Ounce (Pack of 24)   \n",
       "1     Miracle Noodle Zero Carb, Gluten Free Shirataki Pasta, Spinach Angel Hair, 7-Ounce (Pack of 24)   \n",
       "2     Miracle Noodle Zero Carb, Gluten Free Shirataki Pasta, Spinach Angel Hair, 7-Ounce (Pack of 24)   \n",
       "3     Miracle Noodle Zero Carb, Gluten Free Shirataki Pasta, Spinach Angel Hair, 7-Ounce (Pack of 24)   \n",
       "4     Miracle Noodle Zero Carb, Gluten Free Shirataki Pasta, Spinach Angel Hair, 7-Ounce (Pack of 24)   \n",
       "...                                                                                               ...   \n",
       "4358  Miracle Noodle Zero Carb, Gluten Free Shirataki Pasta, Spinach Angel Hair, 7-Ounce (Pack of 24)   \n",
       "4359  Miracle Noodle Zero Carb, Gluten Free Shirataki Pasta, Spinach Angel Hair, 7-Ounce (Pack of 24)   \n",
       "4360  Miracle Noodle Zero Carb, Gluten Free Shirataki Pasta, Spinach Angel Hair, 7-Ounce (Pack of 24)   \n",
       "4361  Miracle Noodle Zero Carb, Gluten Free Shirataki Pasta, Spinach Angel Hair, 7-Ounce (Pack of 24)   \n",
       "4362  Miracle Noodle Zero Carb, Gluten Free Shirataki Pasta, Spinach Angel Hair, 7-Ounce (Pack of 24)   \n",
       "\n",
       "               brand  \\\n",
       "0     Miracle Noodle   \n",
       "1     Miracle Noodle   \n",
       "2     Miracle Noodle   \n",
       "3     Miracle Noodle   \n",
       "4     Miracle Noodle   \n",
       "...              ...   \n",
       "4358  Miracle Noodle   \n",
       "4359  Miracle Noodle   \n",
       "4360  Miracle Noodle   \n",
       "4361  Miracle Noodle   \n",
       "4362  Miracle Noodle   \n",
       "\n",
       "                                                         category  \\\n",
       "0     Grocery & Gourmet Food; Pasta & Noodles; Noodles; Shirataki   \n",
       "1     Grocery & Gourmet Food; Pasta & Noodles; Noodles; Shirataki   \n",
       "2     Grocery & Gourmet Food; Pasta & Noodles; Noodles; Shirataki   \n",
       "3     Grocery & Gourmet Food; Pasta & Noodles; Noodles; Shirataki   \n",
       "4     Grocery & Gourmet Food; Pasta & Noodles; Noodles; Shirataki   \n",
       "...                                                           ...   \n",
       "4358  Grocery & Gourmet Food; Pasta & Noodles; Noodles; Shirataki   \n",
       "4359  Grocery & Gourmet Food; Pasta & Noodles; Noodles; Shirataki   \n",
       "4360  Grocery & Gourmet Food; Pasta & Noodles; Noodles; Shirataki   \n",
       "4361  Grocery & Gourmet Food; Pasta & Noodles; Noodles; Shirataki   \n",
       "4362  Grocery & Gourmet Food; Pasta & Noodles; Noodles; Shirataki   \n",
       "\n",
       "                                                                                                                                                                                                                                               review-text-full  \\\n",
       "0                                                                                                                                                                              Four Stars: Great pasta taste and feel, but the spell in the packaged is SKRONG!   \n",
       "1                                                                                                                        Okay but don't like texture: The texture just made it a little strange to eat. Otherwise the flavor is okay, very bland so add spices.   \n",
       "2                                                                                                                                                             Go for the green noodles: The herb flavor makes the odd texture of shirataki much more palatable.   \n",
       "3     Its an awesome substitute.: I didn't have a problem at all with a half filled bag or anything that other users said. I was concerned at first but I took a chance and there were no problems.\\nI find the best way to get rid of the initial smell is ...   \n",
       "4                                                                                                                                                                                                     Five Stars: They taste like whatever you cook them with.    \n",
       "...                                                                                                                                                                                                                                                         ...   \n",
       "4358                                                                                                                                                         would not recomend: Product arrived with two of the bags punctured. Also smells really really bad.   \n",
       "4359                                                                                                                                                                                                                                            Five Stars: Ok.   \n",
       "4360  Not awful, but now I know why these were on sale.: I like these noodles but the spinach ones just taste odd. They have a bitter flavor compared to the other ones. I don't think it tastes like Spinach, it just tastes bitter and odd. Now I understa...   \n",
       "4361                                                                                                                                                                                                Don't even try it.: Truly horrific. Like eating dead worms.   \n",
       "4362  As good as all the other Miracle noodle products: We love the rice noodles, and have problems finding them locally. It's nice to have them available via Amazon.\\n\\nIf you follow the directions on the package and rinse them well, there is no odor ...   \n",
       "\n",
       "                                                                                                                                                                                                                                           review-text-full_raw  \\\n",
       "0                                                                                                                                                                              Four Stars: Great pasta taste and feel, but the spell in the packaged is SKRONG!   \n",
       "1                                                                                                                        Okay but don't like texture: The texture just made it a little strange to eat. Otherwise the flavor is okay, very bland so add spices.   \n",
       "2                                                                                                                                                             Go for the green noodles: The herb flavor makes the odd texture of shirataki much more palatable.   \n",
       "3     Its an awesome substitute.: I didn't have a problem at all with a half filled bag or anything that other users said. I was concerned at first but I took a chance and there were no problems.\\nI find the best way to get rid of the initial smell is ...   \n",
       "4                                                                                                                                                                                                     Five Stars: They taste like whatever you cook them with.    \n",
       "...                                                                                                                                                                                                                                                         ...   \n",
       "4358                                                                                                                                                         would not recomend: Product arrived with two of the bags punctured. Also smells really really bad.   \n",
       "4359                                                                                                                                                                                                                                            Five Stars: Ok.   \n",
       "4360  Not awful, but now I know why these were on sale.: I like these noodles but the spinach ones just taste odd. They have a bitter flavor compared to the other ones. I don't think it tastes like Spinach, it just tastes bitter and odd. Now I understa...   \n",
       "4361                                                                                                                                                                                                Don't even try it.: Truly horrific. Like eating dead worms.   \n",
       "4362  As good as all the other Miracle noodle products: We love the rice noodles, and have problems finding them locally. It's nice to have them available via Amazon.\\n\\nIf you follow the directions on the package and rinse them well, there is no odor ...   \n",
       "\n",
       "                                                                                                                                                                                                                                                   tokens-dirty  \\\n",
       "0                                                                                                                                                                 [four, stars, great, pasta, taste, and, feel, but, the, spell, in, the, packaged, is, skrong]   \n",
       "1                                                                                                [okay, but, do, n't, like, texture, the, texture, just, made, it, a, little, strange, to, eat, otherwise, the, flavor, is, okay, very, bland, so, add, spices]   \n",
       "2                                                                                                                                             [go, for, the, green, noodles, the, herb, flavor, makes, the, odd, texture, of, shirataki, much, more, palatable]   \n",
       "3     [its, an, awesome, substitute, i, did, n't, have, a, problem, at, all, with, a, half, filled, bag, or, anything, that, other, users, said, i, was, concerned, at, first, but, i, took, a, chance, and, there, were, no, problems, i, find, the, best, ...   \n",
       "4                                                                                                                                                                                             [five, stars, they, taste, like, whatever, you, cook, them, with]   \n",
       "...                                                                                                                                                                                                                                                         ...   \n",
       "4358                                                                                                                                           [would, not, recomend, product, arrived, with, two, of, the, bags, punctured, also, smells, really, really, bad]   \n",
       "4359                                                                                                                                                                                                                                          [five, stars, ok]   \n",
       "4360  [not, awful, but, now, i, know, why, these, were, on, sale, i, like, these, noodles, but, the, spinach, ones, just, taste, odd, they, have, a, bitter, flavor, compared, to, the, other, ones, i, do, n't, think, it, tastes, like, spinach, it, just,...   \n",
       "4361                                                                                                                                                                                       [do, n't, even, try, it, truly, horrific, like, eating, dead, worms]   \n",
       "4362  [as, good, as, all, the, other, miracle, noodle, products, we, love, the, rice, noodles, and, have, problems, finding, them, locally, it, 's, nice, to, have, them, available, via, amazon, if, you, follow, the, directions, on, the, package, and, r...   \n",
       "\n",
       "                                                                                                                                                                                                                                              tokens  \\\n",
       "0                                                                                                                                                                                        [stars, great, pasta, taste, feel, spell, packaged, skrong]   \n",
       "1                                                                                                                                                             [okay, like, texture, texture, little, strange, eat, flavor, okay, bland, add, spices]   \n",
       "2                                                                                                                                                                          [green, noodles, herb, flavor, makes, odd, texture, shirataki, palatable]   \n",
       "3                               [awesome, substitute, problem, half, filled, bag, users, said, concerned, took, chance, problems, find, best, way, rid, initial, smell, boil, cube, bouillon, texture, good, notice, replace, noodle, eat, nt, mind]   \n",
       "4                                                                                                                                                                                                                         [stars, taste, like, cook]   \n",
       "...                                                                                                                                                                                                                                              ...   \n",
       "4358                                                                                                                                                                                      [recomend, product, arrived, bags, punctured, smells, bad]   \n",
       "4359                                                                                                                                                                                                                                     [stars, ok]   \n",
       "4360                                        [awful, know, sale, like, noodles, spinach, ones, taste, odd, bitter, flavor, compared, ones, think, tastes, like, spinach, tastes, bitter, odd, understand, sale, compared, ones, drawer, fridge, know]   \n",
       "4361                                                                                                                                                                                               [try, truly, horrific, like, eating, dead, worms]   \n",
       "4362  [good, miracle, noodle, products, love, rice, noodles, problems, finding, locally, nice, available, amazon, follow, directions, package, rinse, odor, remaining, bother, dry, pan, suggested, rice, substitute, stir, fry, asian, dishes, wet]   \n",
       "\n",
       "                                                                                                                                                                                                            lemmas  \\\n",
       "0                                                                                                                                                        [star, great, pasta, taste, feel, spell, package, SKRONG]   \n",
       "1                                                                                                                                      [okay, like, texture, texture, little, strange, flavor, okay, bland, spice]   \n",
       "2                                                                                                                                               [green, noodle, herb, flavor, make, texture, shirataki, palatable]   \n",
       "3                            [awesome, substitute, problem, half, fill, user, say, concern, take, chance, problem, find, good, initial, smell, boil, cube, bouillon, texture, good, notice, replace, noodle, mind]   \n",
       "4                                                                                                                                                                                        [star, taste, like, cook]   \n",
       "...                                                                                                                                                                                                            ...   \n",
       "4358                                                                                                                                                             [recomend, product, arrive, bag, puncture, smell]   \n",
       "4359                                                                                                                                                                                                        [star]   \n",
       "4360                        [awful, know, sale, like, noodle, spinach, one, taste, bitter, flavor, compare, one, think, taste, like, Spinach, taste, bitter, understand, sale, compare, one, drawer, fridge, know]   \n",
       "4361                                                                                                                                                                      [truly, horrific, like, eat, dead, worm]   \n",
       "4362  [good, Miracle, noodle, product, love, rice, noodle, problem, find, locally, nice, available, Amazon, follow, direction, package, rinse, odor, remain, bother, suggest, rice, substitute, stir, asian, dish]   \n",
       "\n",
       "                                                                                                                                                                                                                                            tokens-dirty-joined  \\\n",
       "0                                                                                                                                                                                 four stars great pasta taste and feel but the spell in the packaged is skrong   \n",
       "1                                                                                                                           okay but do n't like texture the texture just made it a little strange to eat otherwise the flavor is okay very bland so add spices   \n",
       "2                                                                                                                                                               go for the green noodles the herb flavor makes the odd texture of shirataki much more palatable   \n",
       "3     its an awesome substitute i did n't have a problem at all with a half filled bag or anything that other users said i was concerned at first but i took a chance and there were no problems i find the best way to get rid of the initial smell is to b...   \n",
       "4                                                                                                                                                                                                        five stars they taste like whatever you cook them with   \n",
       "...                                                                                                                                                                                                                                                         ...   \n",
       "4358                                                                                                                                                            would not recomend product arrived with two of the bags punctured also smells really really bad   \n",
       "4359                                                                                                                                                                                                                                              five stars ok   \n",
       "4360  not awful but now i know why these were on sale i like these noodles but the spinach ones just taste odd they have a bitter flavor compared to the other ones i do n't think it tastes like spinach it just tastes bitter and odd now i understand why...   \n",
       "4361                                                                                                                                                                                                   do n't even try it truly horrific like eating dead worms   \n",
       "4362  as good as all the other miracle noodle products we love the rice noodles and have problems finding them locally it 's nice to have them available via amazon if you follow the directions on the package and rinse them well there is no odor remaini...   \n",
       "\n",
       "                                                                                                                                                                                                        tokens-joined  \\\n",
       "0                                                                                                                                                                  stars great pasta taste feel spell packaged skrong   \n",
       "1                                                                                                                                           okay like texture texture little strange eat flavor okay bland add spices   \n",
       "2                                                                                                                                                     green noodles herb flavor makes odd texture shirataki palatable   \n",
       "3                              awesome substitute problem half filled bag users said concerned took chance problems find best way rid initial smell boil cube bouillon texture good notice replace noodle eat nt mind   \n",
       "4                                                                                                                                                                                               stars taste like cook   \n",
       "...                                                                                                                                                                                                               ...   \n",
       "4358                                                                                                                                                               recomend product arrived bags punctured smells bad   \n",
       "4359                                                                                                                                                                                                         stars ok   \n",
       "4360                                     awful know sale like noodles spinach ones taste odd bitter flavor compared ones think tastes like spinach tastes bitter odd understand sale compared ones drawer fridge know   \n",
       "4361                                                                                                                                                                        try truly horrific like eating dead worms   \n",
       "4362  good miracle noodle products love rice noodles problems finding locally nice available amazon follow directions package rinse odor remaining bother dry pan suggested rice substitute stir fry asian dishes wet   \n",
       "\n",
       "                                                                                                                                                                                          lemmas-joined  \\\n",
       "0                                                                                                                                                      star great pasta taste feel spell package skrong   \n",
       "1                                                                                                                              okay like texture texture little strange eat flavor okay bland add spice   \n",
       "2                                                                                                                                         green noodle herb flavor make odd texture shirataki palatable   \n",
       "3                      awesome substitute problem half fill bag user say concern take chance problem find good way rid initial smell boil cube bouillon texture good notice replace noodle eat not mind   \n",
       "4                                                                                                                                                                                  star taste like cook   \n",
       "...                                                                                                                                                                                                 ...   \n",
       "4358                                                                                                                                                     recomend product arrive bag puncture smell bad   \n",
       "4359                                                                                                                                                                                            star ok   \n",
       "4360                               awful know sale like noodle spinach one taste odd bitter flavor compare one think taste like spinach taste bitter odd understand sale compare one drawer fridge know   \n",
       "4361                                                                                                                                                              try truly horrific like eat dead worm   \n",
       "4362  good miracle noodle product love rice noodle problem find locally nice available amazon follow direction package rinse odor remain bother dry pan suggest rice substitute stir fry asian dish wet   \n",
       "\n",
       "     target-rating    neg    neu    pos  compound  \n",
       "0             None  0.000  0.831  0.169    0.4295  \n",
       "1             None  0.157  0.709  0.135   -0.1594  \n",
       "2             High  0.114  0.743  0.143    0.1513  \n",
       "3             High  0.072  0.735  0.193    0.8936  \n",
       "4             High  0.000  0.783  0.217    0.3612  \n",
       "...            ...    ...    ...    ...       ...  \n",
       "4358           Low  0.213  0.787  0.000   -0.6214  \n",
       "4359          High  0.000  0.476  0.524    0.2960  \n",
       "4360           Low  0.163  0.736  0.101   -0.7236  \n",
       "4361           Low  0.433  0.299  0.269   -0.6486  \n",
       "4362          High  0.054  0.733  0.214    0.9279  \n",
       "\n",
       "[4363 rows x 22 columns]"
      ]
     },
     "execution_count": 65,
     "metadata": {},
     "output_type": "execute_result"
    }
   ],
   "source": [
    "df['sentiment_scores'] = df['review-text-full'].map(sia.polarity_scores)\n",
    "# Convert the column of dictionaries into separate columns\n",
    "vader_scores = df['sentiment_scores'].apply(pd.Series)\n",
    "# Join the new DataFrame with the original DataFrame\n",
    "df_sentiment = pd.concat([df, vader_scores], axis=1).drop('sentiment_scores', axis=1)\n",
    "df_sentiment"
   ]
  },
  {
   "cell_type": "code",
   "execution_count": 66,
   "id": "2432069b-69a0-4153-962a-28a7dae78d12",
   "metadata": {
    "execution": {
     "iopub.execute_input": "2024-02-13T01:39:17.169840Z",
     "iopub.status.busy": "2024-02-13T01:39:17.169728Z",
     "iopub.status.idle": "2024-02-13T01:39:17.172625Z",
     "shell.execute_reply": "2024-02-13T01:39:17.172287Z",
     "shell.execute_reply.started": "2024-02-13T01:39:17.169829Z"
    }
   },
   "outputs": [
    {
     "data": {
      "text/plain": [
       "3023"
      ]
     },
     "execution_count": 66,
     "metadata": {},
     "output_type": "execute_result"
    }
   ],
   "source": [
    "# Define filter for positive reviews\n",
    "pos_sentiment_reviews = df_sentiment['compound'] > 0\n",
    "pos_sentiment_reviews.sum()"
   ]
  },
  {
   "cell_type": "markdown",
   "id": "0f8ebcb8-bc05-4998-aac4-492d07572a64",
   "metadata": {
    "execution": {
     "iopub.execute_input": "2024-02-13T01:39:17.173247Z",
     "iopub.status.busy": "2024-02-13T01:39:17.173145Z",
     "iopub.status.idle": "2024-02-13T01:39:17.187332Z",
     "shell.execute_reply": "2024-02-13T01:39:17.186885Z",
     "shell.execute_reply.started": "2024-02-13T01:39:17.173238Z"
    }
   },
   "source": [
    "### Correlations"
   ]
  },
  {
   "cell_type": "code",
   "execution_count": 67,
   "id": "2cf619ff",
   "metadata": {},
   "outputs": [
    {
     "data": {
      "image/png": "[encoded data removed]",
      "text/plain": [
       "<Figure size 1200x500 with 2 Axes>"
      ]
     },
     "metadata": {},
     "output_type": "display_data"
    }
   ],
   "source": [
    "fig, axes = plt.subplots(ncols=2, figsize=(12, 5))\n",
    "sns.barplot(data=df_sentiment, x='overall', y='compound', hue='overall', palette=palette_tab10,ax=axes[0], \n",
    "              legend=False)\n",
    "sns.stripplot(data=df_sentiment, x='overall', y='compound', hue='overall', palette=palette_tab10,ax=axes[0], \n",
    "              legend=False,alpha=0.3, edgecolor='white', linewidth=1, size=3)\n",
    "axes[0].set_title(\"Sentiment Scores by Rating\")\n",
    "axes[0].axhline(0, color='black', linestyle='--')\n",
    "sns.boxplot(data=df_sentiment, x='overall', y='compound', hue='overall', palette=palette_tab10, ax=axes[1], legend=False)\n",
    "fig.tight_layout()"
   ]
  },
  {
   "cell_type": "code",
   "execution_count": 68,
   "id": "b9ee3088",
   "metadata": {},
   "outputs": [
    {
     "data": {
      "text/plain": [
       "<Axes: >"
      ]
     },
     "execution_count": 68,
     "metadata": {},
     "output_type": "execute_result"
    },
    {
     "data": {
      "image/png": "[encoded data removed]",
      "text/plain": [
       "<Figure size 640x480 with 2 Axes>"
      ]
     },
     "metadata": {},
     "output_type": "display_data"
    }
   ],
   "source": [
    "sentment_cols = ['compound','pos','neg','neu']\n",
    "sns.heatmap(df_sentiment[['overall',*sentment_cols]].corr(), cmap='coolwarm', annot=True, fmt=\".2f\")"
   ]
  },
  {
   "cell_type": "code",
   "execution_count": 69,
   "id": "96932cb0",
   "metadata": {},
   "outputs": [
    {
     "data": {
      "text/plain": [
       "<Axes: >"
      ]
     },
     "execution_count": 69,
     "metadata": {},
     "output_type": "execute_result"
    },
    {
     "data": {
      "image/png": "[encoded data removed]",
      "text/plain": [
       "<Figure size 640x480 with 2 Axes>"
      ]
     },
     "metadata": {},
     "output_type": "display_data"
    }
   ],
   "source": [
    "sns.heatmap(df_sentiment[sentment_cols].corrwith(df_sentiment['overall']).to_frame('Correlation with Ratings'),\n",
    "            cmap='coolwarm', annot=True, fmt=\".2f\")"
   ]
  },
  {
   "cell_type": "markdown",
   "id": "ad73864f-8029-4059-936b-06702230dade",
   "metadata": {
    "execution": {
     "iopub.execute_input": "2024-02-09T02:07:16.377015Z",
     "iopub.status.busy": "2024-02-09T02:07:16.376619Z",
     "iopub.status.idle": "2024-02-09T02:07:16.386037Z",
     "shell.execute_reply": "2024-02-09T02:07:16.384163Z",
     "shell.execute_reply.started": "2024-02-09T02:07:16.376990Z"
    }
   },
   "source": [
    "> To Do: Add Plotting Sentiment Scores"
   ]
  },
  {
   "cell_type": "code",
   "execution_count": 72,
   "id": "8fc9d458-b8ca-400f-8bcb-a9131e6ed885",
   "metadata": {
    "execution": {
     "iopub.execute_input": "2024-02-13T01:39:17.188192Z",
     "iopub.status.busy": "2024-02-13T01:39:17.188004Z",
     "iopub.status.idle": "2024-02-13T01:39:17.977680Z",
     "shell.execute_reply": "2024-02-13T01:39:17.977136Z",
     "shell.execute_reply.started": "2024-02-13T01:39:17.188181Z"
    }
   },
   "outputs": [],
   "source": [
    "# raise Exception(\"stop here\")"
   ]
  },
  {
   "cell_type": "markdown",
   "id": "3d705254-9b2f-4e44-b42c-f50d67b0371a",
   "metadata": {},
   "source": [
    "## Sentiment - HuggingFace Pipelines"
   ]
  },
  {
   "cell_type": "code",
   "execution_count": 73,
   "id": "d3855479",
   "metadata": {},
   "outputs": [],
   "source": [
    "# !pip install transformers"
   ]
  },
  {
   "cell_type": "code",
   "execution_count": 74,
   "id": "211e68fd",
   "metadata": {},
   "outputs": [],
   "source": [
    "# # conda install tensorflow-mac tensorflow-metal\n",
    "# !pip install tensorflow-macos#\"<=2.13.1\"\n",
    "# !pip install tensorflow-metal"
   ]
  },
  {
   "cell_type": "code",
   "execution_count": 75,
   "id": "37236a6d",
   "metadata": {},
   "outputs": [],
   "source": [
    "import tensorflow as tf"
   ]
  },
  {
   "cell_type": "code",
   "execution_count": 77,
   "id": "0eedc8f7",
   "metadata": {},
   "outputs": [],
   "source": [
    "# dir(google)"
   ]
  },
  {
   "cell_type": "code",
   "execution_count": 78,
   "id": "f26b61ab",
   "metadata": {},
   "outputs": [],
   "source": [
    "# !pip install tensorflow-macos\n",
    "# !pip install tensorflow-metal\n",
    "# !pip install -U protobuf #==3.19.4\n",
    "# # !pip install tf-keras"
   ]
  },
  {
   "cell_type": "code",
   "execution_count": 79,
   "id": "0402ea59",
   "metadata": {},
   "outputs": [],
   "source": [
    "# !pip install -U torch torchvision torchaudio\n",
    "# !pip install transformers"
   ]
  },
  {
   "cell_type": "code",
   "execution_count": 80,
   "id": "998be1cc",
   "metadata": {},
   "outputs": [],
   "source": [
    "import tensorflow as tf\n"
   ]
  },
  {
   "cell_type": "code",
   "execution_count": 81,
   "id": "57295c48-e11b-442d-9d2d-53a29a1676e4",
   "metadata": {
    "execution": {
     "iopub.status.busy": "2024-02-13T01:39:17.977954Z",
     "iopub.status.idle": "2024-02-13T01:39:17.978088Z",
     "shell.execute_reply": "2024-02-13T01:39:17.978022Z",
     "shell.execute_reply.started": "2024-02-13T01:39:17.978016Z"
    }
   },
   "outputs": [
    {
     "ename": "RuntimeError",
     "evalue": "Failed to import transformers.models.distilbert.modeling_tf_distilbert because of the following error (look up to see its traceback):\nYour currently installed version of Keras is Keras 3, but this is not yet supported in Transformers. Please install the backwards-compatible tf-keras package with `pip install tf-keras`.",
     "output_type": "error",
     "traceback": [
      "\u001b[0;31m---------------------------------------------------------------------------\u001b[0m",
      "\u001b[0;31mModuleNotFoundError\u001b[0m                       Traceback (most recent call last)",
      "File \u001b[0;32m/opt/homebrew/Caskroom/miniforge/base/envs/nlp-env/lib/python3.10/site-packages/transformers/activations_tf.py:22\u001b[0m\n\u001b[1;32m     21\u001b[0m \u001b[38;5;28;01mtry\u001b[39;00m:\n\u001b[0;32m---> 22\u001b[0m     \u001b[38;5;28;01mimport\u001b[39;00m \u001b[38;5;21;01mtf_keras\u001b[39;00m \u001b[38;5;28;01mas\u001b[39;00m \u001b[38;5;21;01mkeras\u001b[39;00m\n\u001b[1;32m     23\u001b[0m \u001b[38;5;28;01mexcept\u001b[39;00m (\u001b[38;5;167;01mModuleNotFoundError\u001b[39;00m, \u001b[38;5;167;01mImportError\u001b[39;00m):\n",
      "\u001b[0;31mModuleNotFoundError\u001b[0m: No module named 'tf_keras'",
      "\nDuring handling of the above exception, another exception occurred:\n",
      "\u001b[0;31mValueError\u001b[0m                                Traceback (most recent call last)",
      "File \u001b[0;32m/opt/homebrew/Caskroom/miniforge/base/envs/nlp-env/lib/python3.10/site-packages/transformers/utils/import_utils.py:1535\u001b[0m, in \u001b[0;36m_LazyModule._get_module\u001b[0;34m(self, module_name)\u001b[0m\n\u001b[1;32m   1534\u001b[0m \u001b[38;5;28;01mtry\u001b[39;00m:\n\u001b[0;32m-> 1535\u001b[0m     \u001b[38;5;28;01mreturn\u001b[39;00m \u001b[43mimportlib\u001b[49m\u001b[38;5;241;43m.\u001b[39;49m\u001b[43mimport_module\u001b[49m\u001b[43m(\u001b[49m\u001b[38;5;124;43m\"\u001b[39;49m\u001b[38;5;124;43m.\u001b[39;49m\u001b[38;5;124;43m\"\u001b[39;49m\u001b[43m \u001b[49m\u001b[38;5;241;43m+\u001b[39;49m\u001b[43m \u001b[49m\u001b[43mmodule_name\u001b[49m\u001b[43m,\u001b[49m\u001b[43m \u001b[49m\u001b[38;5;28;43mself\u001b[39;49m\u001b[38;5;241;43m.\u001b[39;49m\u001b[38;5;18;43m__name__\u001b[39;49m\u001b[43m)\u001b[49m\n\u001b[1;32m   1536\u001b[0m \u001b[38;5;28;01mexcept\u001b[39;00m \u001b[38;5;167;01mException\u001b[39;00m \u001b[38;5;28;01mas\u001b[39;00m e:\n",
      "File \u001b[0;32m/opt/homebrew/Caskroom/miniforge/base/envs/nlp-env/lib/python3.10/importlib/__init__.py:126\u001b[0m, in \u001b[0;36mimport_module\u001b[0;34m(name, package)\u001b[0m\n\u001b[1;32m    125\u001b[0m         level \u001b[38;5;241m+\u001b[39m\u001b[38;5;241m=\u001b[39m \u001b[38;5;241m1\u001b[39m\n\u001b[0;32m--> 126\u001b[0m \u001b[38;5;28;01mreturn\u001b[39;00m \u001b[43m_bootstrap\u001b[49m\u001b[38;5;241;43m.\u001b[39;49m\u001b[43m_gcd_import\u001b[49m\u001b[43m(\u001b[49m\u001b[43mname\u001b[49m\u001b[43m[\u001b[49m\u001b[43mlevel\u001b[49m\u001b[43m:\u001b[49m\u001b[43m]\u001b[49m\u001b[43m,\u001b[49m\u001b[43m \u001b[49m\u001b[43mpackage\u001b[49m\u001b[43m,\u001b[49m\u001b[43m \u001b[49m\u001b[43mlevel\u001b[49m\u001b[43m)\u001b[49m\n",
      "File \u001b[0;32m<frozen importlib._bootstrap>:1050\u001b[0m, in \u001b[0;36m_gcd_import\u001b[0;34m(name, package, level)\u001b[0m\n",
      "File \u001b[0;32m<frozen importlib._bootstrap>:1027\u001b[0m, in \u001b[0;36m_find_and_load\u001b[0;34m(name, import_)\u001b[0m\n",
      "File \u001b[0;32m<frozen importlib._bootstrap>:1006\u001b[0m, in \u001b[0;36m_find_and_load_unlocked\u001b[0;34m(name, import_)\u001b[0m\n",
      "File \u001b[0;32m<frozen importlib._bootstrap>:688\u001b[0m, in \u001b[0;36m_load_unlocked\u001b[0;34m(spec)\u001b[0m\n",
      "File \u001b[0;32m<frozen importlib._bootstrap_external>:883\u001b[0m, in \u001b[0;36mexec_module\u001b[0;34m(self, module)\u001b[0m\n",
      "File \u001b[0;32m<frozen importlib._bootstrap>:241\u001b[0m, in \u001b[0;36m_call_with_frames_removed\u001b[0;34m(f, *args, **kwds)\u001b[0m\n",
      "File \u001b[0;32m/opt/homebrew/Caskroom/miniforge/base/envs/nlp-env/lib/python3.10/site-packages/transformers/models/distilbert/modeling_tf_distilbert.py:28\u001b[0m\n\u001b[1;32m     26\u001b[0m \u001b[38;5;28;01mimport\u001b[39;00m \u001b[38;5;21;01mtensorflow\u001b[39;00m \u001b[38;5;28;01mas\u001b[39;00m \u001b[38;5;21;01mtf\u001b[39;00m\n\u001b[0;32m---> 28\u001b[0m \u001b[38;5;28;01mfrom\u001b[39;00m \u001b[38;5;21;01m.\u001b[39;00m\u001b[38;5;21;01m.\u001b[39;00m\u001b[38;5;21;01m.\u001b[39;00m\u001b[38;5;21;01mactivations_tf\u001b[39;00m \u001b[38;5;28;01mimport\u001b[39;00m get_tf_activation\n\u001b[1;32m     29\u001b[0m \u001b[38;5;28;01mfrom\u001b[39;00m \u001b[38;5;21;01m.\u001b[39;00m\u001b[38;5;21;01m.\u001b[39;00m\u001b[38;5;21;01m.\u001b[39;00m\u001b[38;5;21;01mmodeling_tf_outputs\u001b[39;00m \u001b[38;5;28;01mimport\u001b[39;00m (\n\u001b[1;32m     30\u001b[0m     TFBaseModelOutput,\n\u001b[1;32m     31\u001b[0m     TFMaskedLMOutput,\n\u001b[0;32m   (...)\u001b[0m\n\u001b[1;32m     35\u001b[0m     TFTokenClassifierOutput,\n\u001b[1;32m     36\u001b[0m )\n",
      "File \u001b[0;32m/opt/homebrew/Caskroom/miniforge/base/envs/nlp-env/lib/python3.10/site-packages/transformers/activations_tf.py:27\u001b[0m\n\u001b[1;32m     26\u001b[0m     \u001b[38;5;28;01mif\u001b[39;00m parse(keras\u001b[38;5;241m.\u001b[39m__version__)\u001b[38;5;241m.\u001b[39mmajor \u001b[38;5;241m>\u001b[39m \u001b[38;5;241m2\u001b[39m:\n\u001b[0;32m---> 27\u001b[0m         \u001b[38;5;28;01mraise\u001b[39;00m \u001b[38;5;167;01mValueError\u001b[39;00m(\n\u001b[1;32m     28\u001b[0m             \u001b[38;5;124m\"\u001b[39m\u001b[38;5;124mYour currently installed version of Keras is Keras 3, but this is not yet supported in \u001b[39m\u001b[38;5;124m\"\u001b[39m\n\u001b[1;32m     29\u001b[0m             \u001b[38;5;124m\"\u001b[39m\u001b[38;5;124mTransformers. Please install the backwards-compatible tf-keras package with \u001b[39m\u001b[38;5;124m\"\u001b[39m\n\u001b[1;32m     30\u001b[0m             \u001b[38;5;124m\"\u001b[39m\u001b[38;5;124m`pip install tf-keras`.\u001b[39m\u001b[38;5;124m\"\u001b[39m\n\u001b[1;32m     31\u001b[0m         )\n\u001b[1;32m     34\u001b[0m \u001b[38;5;28;01mdef\u001b[39;00m \u001b[38;5;21m_gelu\u001b[39m(x):\n",
      "\u001b[0;31mValueError\u001b[0m: Your currently installed version of Keras is Keras 3, but this is not yet supported in Transformers. Please install the backwards-compatible tf-keras package with `pip install tf-keras`.",
      "\nThe above exception was the direct cause of the following exception:\n",
      "\u001b[0;31mRuntimeError\u001b[0m                              Traceback (most recent call last)",
      "Cell \u001b[0;32mIn[81], line 3\u001b[0m\n\u001b[1;32m      1\u001b[0m \u001b[38;5;28;01mfrom\u001b[39;00m \u001b[38;5;21;01mtransformers\u001b[39;00m \u001b[38;5;28;01mimport\u001b[39;00m pipeline\n\u001b[1;32m      2\u001b[0m model \u001b[38;5;241m=\u001b[39m \u001b[38;5;124m\"\u001b[39m\u001b[38;5;124mdistilbert-base-uncased-finetuned-sst-2-english\u001b[39m\u001b[38;5;124m\"\u001b[39m\n\u001b[0;32m----> 3\u001b[0m sentiment_analyzer \u001b[38;5;241m=\u001b[39m \u001b[43mpipeline\u001b[49m\u001b[43m(\u001b[49m\u001b[43mtask\u001b[49m\u001b[38;5;241;43m=\u001b[39;49m\u001b[38;5;124;43m\"\u001b[39;49m\u001b[38;5;124;43msentiment-analysis\u001b[39;49m\u001b[38;5;124;43m\"\u001b[39;49m\u001b[43m,\u001b[49m\u001b[43mmodel\u001b[49m\u001b[38;5;241;43m=\u001b[39;49m\u001b[43mmodel\u001b[49m\u001b[43m)\u001b[49m\n",
      "File \u001b[0;32m/opt/homebrew/Caskroom/miniforge/base/envs/nlp-env/lib/python3.10/site-packages/transformers/pipelines/__init__.py:906\u001b[0m, in \u001b[0;36mpipeline\u001b[0;34m(task, model, config, tokenizer, feature_extractor, image_processor, framework, revision, use_fast, token, device, device_map, torch_dtype, trust_remote_code, model_kwargs, pipeline_class, **kwargs)\u001b[0m\n\u001b[1;32m    904\u001b[0m \u001b[38;5;28;01mif\u001b[39;00m \u001b[38;5;28misinstance\u001b[39m(model, \u001b[38;5;28mstr\u001b[39m) \u001b[38;5;129;01mor\u001b[39;00m framework \u001b[38;5;129;01mis\u001b[39;00m \u001b[38;5;28;01mNone\u001b[39;00m:\n\u001b[1;32m    905\u001b[0m     model_classes \u001b[38;5;241m=\u001b[39m {\u001b[38;5;124m\"\u001b[39m\u001b[38;5;124mtf\u001b[39m\u001b[38;5;124m\"\u001b[39m: targeted_task[\u001b[38;5;124m\"\u001b[39m\u001b[38;5;124mtf\u001b[39m\u001b[38;5;124m\"\u001b[39m], \u001b[38;5;124m\"\u001b[39m\u001b[38;5;124mpt\u001b[39m\u001b[38;5;124m\"\u001b[39m: targeted_task[\u001b[38;5;124m\"\u001b[39m\u001b[38;5;124mpt\u001b[39m\u001b[38;5;124m\"\u001b[39m]}\n\u001b[0;32m--> 906\u001b[0m     framework, model \u001b[38;5;241m=\u001b[39m \u001b[43minfer_framework_load_model\u001b[49m\u001b[43m(\u001b[49m\n\u001b[1;32m    907\u001b[0m \u001b[43m        \u001b[49m\u001b[43mmodel\u001b[49m\u001b[43m,\u001b[49m\n\u001b[1;32m    908\u001b[0m \u001b[43m        \u001b[49m\u001b[43mmodel_classes\u001b[49m\u001b[38;5;241;43m=\u001b[39;49m\u001b[43mmodel_classes\u001b[49m\u001b[43m,\u001b[49m\n\u001b[1;32m    909\u001b[0m \u001b[43m        \u001b[49m\u001b[43mconfig\u001b[49m\u001b[38;5;241;43m=\u001b[39;49m\u001b[43mconfig\u001b[49m\u001b[43m,\u001b[49m\n\u001b[1;32m    910\u001b[0m \u001b[43m        \u001b[49m\u001b[43mframework\u001b[49m\u001b[38;5;241;43m=\u001b[39;49m\u001b[43mframework\u001b[49m\u001b[43m,\u001b[49m\n\u001b[1;32m    911\u001b[0m \u001b[43m        \u001b[49m\u001b[43mtask\u001b[49m\u001b[38;5;241;43m=\u001b[39;49m\u001b[43mtask\u001b[49m\u001b[43m,\u001b[49m\n\u001b[1;32m    912\u001b[0m \u001b[43m        \u001b[49m\u001b[38;5;241;43m*\u001b[39;49m\u001b[38;5;241;43m*\u001b[39;49m\u001b[43mhub_kwargs\u001b[49m\u001b[43m,\u001b[49m\n\u001b[1;32m    913\u001b[0m \u001b[43m        \u001b[49m\u001b[38;5;241;43m*\u001b[39;49m\u001b[38;5;241;43m*\u001b[39;49m\u001b[43mmodel_kwargs\u001b[49m\u001b[43m,\u001b[49m\n\u001b[1;32m    914\u001b[0m \u001b[43m    \u001b[49m\u001b[43m)\u001b[49m\n\u001b[1;32m    916\u001b[0m model_config \u001b[38;5;241m=\u001b[39m model\u001b[38;5;241m.\u001b[39mconfig\n\u001b[1;32m    917\u001b[0m hub_kwargs[\u001b[38;5;124m\"\u001b[39m\u001b[38;5;124m_commit_hash\u001b[39m\u001b[38;5;124m\"\u001b[39m] \u001b[38;5;241m=\u001b[39m model\u001b[38;5;241m.\u001b[39mconfig\u001b[38;5;241m.\u001b[39m_commit_hash\n",
      "File \u001b[0;32m/opt/homebrew/Caskroom/miniforge/base/envs/nlp-env/lib/python3.10/site-packages/transformers/pipelines/base.py:258\u001b[0m, in \u001b[0;36minfer_framework_load_model\u001b[0;34m(model, config, model_classes, task, framework, **model_kwargs)\u001b[0m\n\u001b[1;32m    256\u001b[0m         classes\u001b[38;5;241m.\u001b[39mappend(_class)\n\u001b[1;32m    257\u001b[0m \u001b[38;5;28;01mif\u001b[39;00m look_tf:\n\u001b[0;32m--> 258\u001b[0m     _class \u001b[38;5;241m=\u001b[39m \u001b[38;5;28;43mgetattr\u001b[39;49m\u001b[43m(\u001b[49m\u001b[43mtransformers_module\u001b[49m\u001b[43m,\u001b[49m\u001b[43m \u001b[49m\u001b[38;5;124;43mf\u001b[39;49m\u001b[38;5;124;43m\"\u001b[39;49m\u001b[38;5;124;43mTF\u001b[39;49m\u001b[38;5;132;43;01m{\u001b[39;49;00m\u001b[43marchitecture\u001b[49m\u001b[38;5;132;43;01m}\u001b[39;49;00m\u001b[38;5;124;43m\"\u001b[39;49m\u001b[43m,\u001b[49m\u001b[43m \u001b[49m\u001b[38;5;28;43;01mNone\u001b[39;49;00m\u001b[43m)\u001b[49m\n\u001b[1;32m    259\u001b[0m     \u001b[38;5;28;01mif\u001b[39;00m _class \u001b[38;5;129;01mis\u001b[39;00m \u001b[38;5;129;01mnot\u001b[39;00m \u001b[38;5;28;01mNone\u001b[39;00m:\n\u001b[1;32m    260\u001b[0m         classes\u001b[38;5;241m.\u001b[39mappend(_class)\n",
      "File \u001b[0;32m/opt/homebrew/Caskroom/miniforge/base/envs/nlp-env/lib/python3.10/site-packages/transformers/utils/import_utils.py:1526\u001b[0m, in \u001b[0;36m_LazyModule.__getattr__\u001b[0;34m(self, name)\u001b[0m\n\u001b[1;32m   1524\u001b[0m \u001b[38;5;28;01melif\u001b[39;00m name \u001b[38;5;129;01min\u001b[39;00m \u001b[38;5;28mself\u001b[39m\u001b[38;5;241m.\u001b[39m_class_to_module\u001b[38;5;241m.\u001b[39mkeys():\n\u001b[1;32m   1525\u001b[0m     module \u001b[38;5;241m=\u001b[39m \u001b[38;5;28mself\u001b[39m\u001b[38;5;241m.\u001b[39m_get_module(\u001b[38;5;28mself\u001b[39m\u001b[38;5;241m.\u001b[39m_class_to_module[name])\n\u001b[0;32m-> 1526\u001b[0m     value \u001b[38;5;241m=\u001b[39m \u001b[38;5;28;43mgetattr\u001b[39;49m\u001b[43m(\u001b[49m\u001b[43mmodule\u001b[49m\u001b[43m,\u001b[49m\u001b[43m \u001b[49m\u001b[43mname\u001b[49m\u001b[43m)\u001b[49m\n\u001b[1;32m   1527\u001b[0m \u001b[38;5;28;01melse\u001b[39;00m:\n\u001b[1;32m   1528\u001b[0m     \u001b[38;5;28;01mraise\u001b[39;00m \u001b[38;5;167;01mAttributeError\u001b[39;00m(\u001b[38;5;124mf\u001b[39m\u001b[38;5;124m\"\u001b[39m\u001b[38;5;124mmodule \u001b[39m\u001b[38;5;132;01m{\u001b[39;00m\u001b[38;5;28mself\u001b[39m\u001b[38;5;241m.\u001b[39m\u001b[38;5;18m__name__\u001b[39m\u001b[38;5;132;01m}\u001b[39;00m\u001b[38;5;124m has no attribute \u001b[39m\u001b[38;5;132;01m{\u001b[39;00mname\u001b[38;5;132;01m}\u001b[39;00m\u001b[38;5;124m\"\u001b[39m)\n",
      "File \u001b[0;32m/opt/homebrew/Caskroom/miniforge/base/envs/nlp-env/lib/python3.10/site-packages/transformers/utils/import_utils.py:1525\u001b[0m, in \u001b[0;36m_LazyModule.__getattr__\u001b[0;34m(self, name)\u001b[0m\n\u001b[1;32m   1523\u001b[0m     value \u001b[38;5;241m=\u001b[39m \u001b[38;5;28mself\u001b[39m\u001b[38;5;241m.\u001b[39m_get_module(name)\n\u001b[1;32m   1524\u001b[0m \u001b[38;5;28;01melif\u001b[39;00m name \u001b[38;5;129;01min\u001b[39;00m \u001b[38;5;28mself\u001b[39m\u001b[38;5;241m.\u001b[39m_class_to_module\u001b[38;5;241m.\u001b[39mkeys():\n\u001b[0;32m-> 1525\u001b[0m     module \u001b[38;5;241m=\u001b[39m \u001b[38;5;28;43mself\u001b[39;49m\u001b[38;5;241;43m.\u001b[39;49m\u001b[43m_get_module\u001b[49m\u001b[43m(\u001b[49m\u001b[38;5;28;43mself\u001b[39;49m\u001b[38;5;241;43m.\u001b[39;49m\u001b[43m_class_to_module\u001b[49m\u001b[43m[\u001b[49m\u001b[43mname\u001b[49m\u001b[43m]\u001b[49m\u001b[43m)\u001b[49m\n\u001b[1;32m   1526\u001b[0m     value \u001b[38;5;241m=\u001b[39m \u001b[38;5;28mgetattr\u001b[39m(module, name)\n\u001b[1;32m   1527\u001b[0m \u001b[38;5;28;01melse\u001b[39;00m:\n",
      "File \u001b[0;32m/opt/homebrew/Caskroom/miniforge/base/envs/nlp-env/lib/python3.10/site-packages/transformers/utils/import_utils.py:1537\u001b[0m, in \u001b[0;36m_LazyModule._get_module\u001b[0;34m(self, module_name)\u001b[0m\n\u001b[1;32m   1535\u001b[0m     \u001b[38;5;28;01mreturn\u001b[39;00m importlib\u001b[38;5;241m.\u001b[39mimport_module(\u001b[38;5;124m\"\u001b[39m\u001b[38;5;124m.\u001b[39m\u001b[38;5;124m\"\u001b[39m \u001b[38;5;241m+\u001b[39m module_name, \u001b[38;5;28mself\u001b[39m\u001b[38;5;241m.\u001b[39m\u001b[38;5;18m__name__\u001b[39m)\n\u001b[1;32m   1536\u001b[0m \u001b[38;5;28;01mexcept\u001b[39;00m \u001b[38;5;167;01mException\u001b[39;00m \u001b[38;5;28;01mas\u001b[39;00m e:\n\u001b[0;32m-> 1537\u001b[0m     \u001b[38;5;28;01mraise\u001b[39;00m \u001b[38;5;167;01mRuntimeError\u001b[39;00m(\n\u001b[1;32m   1538\u001b[0m         \u001b[38;5;124mf\u001b[39m\u001b[38;5;124m\"\u001b[39m\u001b[38;5;124mFailed to import \u001b[39m\u001b[38;5;132;01m{\u001b[39;00m\u001b[38;5;28mself\u001b[39m\u001b[38;5;241m.\u001b[39m\u001b[38;5;18m__name__\u001b[39m\u001b[38;5;132;01m}\u001b[39;00m\u001b[38;5;124m.\u001b[39m\u001b[38;5;132;01m{\u001b[39;00mmodule_name\u001b[38;5;132;01m}\u001b[39;00m\u001b[38;5;124m because of the following error (look up to see its\u001b[39m\u001b[38;5;124m\"\u001b[39m\n\u001b[1;32m   1539\u001b[0m         \u001b[38;5;124mf\u001b[39m\u001b[38;5;124m\"\u001b[39m\u001b[38;5;124m traceback):\u001b[39m\u001b[38;5;130;01m\\n\u001b[39;00m\u001b[38;5;132;01m{\u001b[39;00me\u001b[38;5;132;01m}\u001b[39;00m\u001b[38;5;124m\"\u001b[39m\n\u001b[1;32m   1540\u001b[0m     ) \u001b[38;5;28;01mfrom\u001b[39;00m \u001b[38;5;21;01me\u001b[39;00m\n",
      "\u001b[0;31mRuntimeError\u001b[0m: Failed to import transformers.models.distilbert.modeling_tf_distilbert because of the following error (look up to see its traceback):\nYour currently installed version of Keras is Keras 3, but this is not yet supported in Transformers. Please install the backwards-compatible tf-keras package with `pip install tf-keras`."
     ]
    }
   ],
   "source": [
    "from transformers import pipeline\n",
    "model = \"distilbert-base-uncased-finetuned-sst-2-english\"\n",
    "sentiment_analyzer = pipeline(task=\"sentiment-analysis\",model=model)"
   ]
  },
  {
   "cell_type": "code",
   "execution_count": null,
   "id": "770bdbf2-6397-474d-a4c9-e99ce626c993",
   "metadata": {
    "execution": {
     "iopub.status.busy": "2024-02-13T01:39:17.978693Z",
     "iopub.status.idle": "2024-02-13T01:39:17.978843Z",
     "shell.execute_reply": "2024-02-13T01:39:17.978772Z",
     "shell.execute_reply.started": "2024-02-13T01:39:17.978766Z"
    }
   },
   "outputs": [
    {
     "ename": "",
     "evalue": "",
     "output_type": "error",
     "traceback": [
      "\u001b[1;31mThe kernel failed to start as 'TypeAliasType' could not be imported from '/opt/homebrew/Caskroom/miniforge/base/envs/nlp-env/lib/python3.10/site-packages/typing_extensions.py'.\n",
      "\u001b[1;31mClick <a href='https://aka.ms/kernelFailuresModuleImportErrFromFile'>here</a> for more info."
     ]
    }
   ],
   "source": [
    "sentiment_analyzer(\"I think i enjoy it when I am being beat up\")"
   ]
  },
  {
   "cell_type": "code",
   "execution_count": null,
   "id": "b9d2ebde-a7cd-4490-ad9c-fd544240872d",
   "metadata": {
    "execution": {
     "iopub.status.busy": "2024-02-13T01:39:17.979602Z",
     "iopub.status.idle": "2024-02-13T01:39:17.979742Z",
     "shell.execute_reply": "2024-02-13T01:39:17.979675Z",
     "shell.execute_reply.started": "2024-02-13T01:39:17.979669Z"
    }
   },
   "outputs": [
    {
     "ename": "",
     "evalue": "",
     "output_type": "error",
     "traceback": [
      "\u001b[1;31mThe kernel failed to start as 'TypeAliasType' could not be imported from '/opt/homebrew/Caskroom/miniforge/base/envs/nlp-env/lib/python3.10/site-packages/typing_extensions.py'.\n",
      "\u001b[1;31mClick <a href='https://aka.ms/kernelFailuresModuleImportErrFromFile'>here</a> for more info."
     ]
    }
   ],
   "source": [
    "df['review-text-full'].isna().sum()"
   ]
  },
  {
   "cell_type": "code",
   "execution_count": null,
   "id": "4b2e2175-a734-4f16-ad94-2fa81cb49d36",
   "metadata": {
    "execution": {
     "iopub.status.busy": "2024-02-13T01:39:17.980071Z",
     "iopub.status.idle": "2024-02-13T01:39:17.980190Z",
     "shell.execute_reply": "2024-02-13T01:39:17.980127Z",
     "shell.execute_reply.started": "2024-02-13T01:39:17.980122Z"
    }
   },
   "outputs": [
    {
     "ename": "",
     "evalue": "",
     "output_type": "error",
     "traceback": [
      "\u001b[1;31mThe kernel failed to start as 'TypeAliasType' could not be imported from '/opt/homebrew/Caskroom/miniforge/base/envs/nlp-env/lib/python3.10/site-packages/typing_extensions.py'.\n",
      "\u001b[1;31mClick <a href='https://aka.ms/kernelFailuresModuleImportErrFromFile'>here</a> for more info."
     ]
    }
   ],
   "source": [
    "test_text = df.loc[0,'review-text-full']\n",
    "test_text"
   ]
  },
  {
   "cell_type": "code",
   "execution_count": null,
   "id": "78e7070e-54e2-4b85-8622-64fe8c327583",
   "metadata": {
    "execution": {
     "iopub.status.busy": "2024-02-13T01:39:17.981228Z",
     "iopub.status.idle": "2024-02-13T01:39:17.981383Z",
     "shell.execute_reply": "2024-02-13T01:39:17.981308Z",
     "shell.execute_reply.started": "2024-02-13T01:39:17.981302Z"
    }
   },
   "outputs": [
    {
     "ename": "",
     "evalue": "",
     "output_type": "error",
     "traceback": [
      "\u001b[1;31mThe kernel failed to start as 'TypeAliasType' could not be imported from '/opt/homebrew/Caskroom/miniforge/base/envs/nlp-env/lib/python3.10/site-packages/typing_extensions.py'.\n",
      "\u001b[1;31mClick <a href='https://aka.ms/kernelFailuresModuleImportErrFromFile'>here</a> for more info."
     ]
    }
   ],
   "source": [
    "sentiment_analyzer(test_text)"
   ]
  },
  {
   "cell_type": "code",
   "execution_count": null,
   "id": "3a689c1d-5daa-4266-93fd-1f8381c81f80",
   "metadata": {
    "execution": {
     "iopub.status.busy": "2024-02-13T01:39:17.981833Z",
     "iopub.status.idle": "2024-02-13T01:39:17.982184Z",
     "shell.execute_reply": "2024-02-13T01:39:17.982106Z",
     "shell.execute_reply.started": "2024-02-13T01:39:17.982100Z"
    }
   },
   "outputs": [
    {
     "ename": "",
     "evalue": "",
     "output_type": "error",
     "traceback": [
      "\u001b[1;31mThe kernel failed to start as 'TypeAliasType' could not be imported from '/opt/homebrew/Caskroom/miniforge/base/envs/nlp-env/lib/python3.10/site-packages/typing_extensions.py'.\n",
      "\u001b[1;31mClick <a href='https://aka.ms/kernelFailuresModuleImportErrFromFile'>here</a> for more info."
     ]
    }
   ],
   "source": [
    "sentiment_results = []\n",
    "for i in df.index:\n",
    "    text = df.loc[i, 'review-text-full']\n",
    "    try:\n",
    "        sent = sentiment_analyzer(text)[0]\n",
    "        \n",
    "    except Exception as e:\n",
    "        display(e)\n",
    "        sent = {'label':pd.NA,'score':pd.NA}\n",
    "    finally:\n",
    "        sentiment_results.append(sent)\n",
    "        \n",
    "\n",
    "# sentiment_results = df['review-text-full'].map(lambda x: sentiment_analyzer(x))\n",
    "len(sentiment_results)"
   ]
  },
  {
   "cell_type": "code",
   "execution_count": null,
   "id": "81451a73-8086-43ba-9bf1-868cab082ca0",
   "metadata": {
    "execution": {
     "iopub.status.busy": "2024-02-13T01:39:17.982767Z",
     "iopub.status.idle": "2024-02-13T01:39:17.982990Z",
     "shell.execute_reply": "2024-02-13T01:39:17.982868Z",
     "shell.execute_reply.started": "2024-02-13T01:39:17.982861Z"
    }
   },
   "outputs": [
    {
     "ename": "",
     "evalue": "",
     "output_type": "error",
     "traceback": [
      "\u001b[1;31mThe kernel failed to start as 'TypeAliasType' could not be imported from '/opt/homebrew/Caskroom/miniforge/base/envs/nlp-env/lib/python3.10/site-packages/typing_extensions.py'.\n",
      "\u001b[1;31mClick <a href='https://aka.ms/kernelFailuresModuleImportErrFromFile'>here</a> for more info."
     ]
    }
   ],
   "source": [
    "pd.DataFrame(sentiment_results)"
   ]
  },
  {
   "cell_type": "code",
   "execution_count": null,
   "id": "56f12a08-4735-4900-bbe9-7e71d0cc2ff2",
   "metadata": {},
   "outputs": [
    {
     "ename": "",
     "evalue": "",
     "output_type": "error",
     "traceback": [
      "\u001b[1;31mThe kernel failed to start as 'TypeAliasType' could not be imported from '/opt/homebrew/Caskroom/miniforge/base/envs/nlp-env/lib/python3.10/site-packages/typing_extensions.py'.\n",
      "\u001b[1;31mClick <a href='https://aka.ms/kernelFailuresModuleImportErrFromFile'>here</a> for more info."
     ]
    }
   ],
   "source": []
  }
 ],
 "metadata": {
  "kernelspec": {
   "display_name": "Python 3 (ipykernel)",
   "language": "python",
   "name": "python3"
  },
  "language_info": {
   "codemirror_mode": {
    "name": "ipython",
    "version": 3
   },
   "file_extension": ".py",
   "mimetype": "text/x-python",
   "name": "python",
   "nbconvert_exporter": "python",
   "pygments_lexer": "ipython3",
   "version": "3.10.14"
  }
 },
 "nbformat": 4,
 "nbformat_minor": 5
}
