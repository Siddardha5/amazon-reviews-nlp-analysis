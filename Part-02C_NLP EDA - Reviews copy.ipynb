{
 "cells": [
  {
   "cell_type": "markdown",
   "id": "55b8cab0-99f0-45b8-84f3-0712266f2394",
   "metadata": {},
   "source": [
    "# Part 2C - NLP EDA of Amazon Reviews for Miracle Noodles (In-Depth)"
   ]
  },
  {
   "cell_type": "markdown",
   "id": "03ab65b7-a2d4-4542-8b29-c4a0fcbdc7e8",
   "metadata": {},
   "source": [
    "In this notebook we will continue with the data we prepared in the last notebook.  \n",
    "Our goals will be:\n",
    "- compare sentiment analysis from VADER / TextBlob vs. the star rating.\n",
    "- Apply LDA topic modeling to the reviews to idntify consistent themes. \n",
    "- Applied Named Entity Recognition to see if an NE's appear in certain types of reviws."
   ]
  },
  {
   "cell_type": "code",
   "execution_count": 2,
   "id": "0444cbc5-fde5-4dc2-9502-c9466211acaa",
   "metadata": {
    "execution": {
     "iopub.execute_input": "2024-02-13T01:38:28.529889Z",
     "iopub.status.busy": "2024-02-13T01:38:28.529783Z",
     "iopub.status.idle": "2024-02-13T01:38:28.537479Z",
     "shell.execute_reply": "2024-02-13T01:38:28.537232Z",
     "shell.execute_reply.started": "2024-02-13T01:38:28.529879Z"
    }
   },
   "outputs": [
    {
     "data": {
      "text/markdown": [
       "# Amazon Product Reviews\n",
       "\n",
       "- URL: https://cseweb.ucsd.edu/~jmcauley/datasets.html#amazon_reviews \n",
       "\n",
       "## Description\n",
       "\n",
       "This is a large crawl of product reviews from Amazon. This dataset contains 82.83 million unique reviews, from around 20 million users.\n",
       "\n",
       "## Basic statistics\n",
       "\n",
       "| Ratings:  | 82.83 million        |\n",
       "| --------- | -------------------- |\n",
       "| Users:    | 20.98 million        |\n",
       "| Items:    | 9.35 million         |\n",
       "| Timespan: | May 1996 - July 2014 |\n",
       "\n",
       "## Metadata\n",
       "\n",
       "- reviews and ratings\n",
       "- item-to-item relationships (e.g. \"people who bought X also bought Y\")\n",
       "- timestamps\n",
       "- helpfulness votes\n",
       "- product image (and CNN features)\n",
       "- price\n",
       "- category\n",
       "- salesRank\n",
       "\n",
       "## Example\n",
       "\n",
       "```\n",
       "{  \"reviewerID\": \"A2SUAM1J3GNN3B\",  \"asin\": \"0000013714\",  \"reviewerName\": \"J. McDonald\",  \"helpful\": [2, 3],  \"reviewText\": \"I bought this for my husband who plays the piano.  He is having a wonderful time playing these old hymns.  The music  is at times hard to read because we think the book was published for singing from more than playing from.  Great purchase though!\",  \"overall\": 5.0,  \"summary\": \"Heavenly Highway Hymns\",  \"unixReviewTime\": 1252800000,  \"reviewTime\": \"09 13, 2009\" }\n",
       "```\n",
       "\n",
       "## Download link\n",
       "\n",
       "See the [Amazon Dataset Page](https://cseweb.ucsd.edu/~jmcauley/datasets/amazon_v2/) for download information.\n",
       "\n",
       "The 2014 version of this dataset is [also available](https://cseweb.ucsd.edu/~jmcauley/datasets/amazon/links.html).\n",
       "\n",
       "## Citation\n",
       "\n",
       "Please cite the following if you use the data:\n",
       "\n",
       "**Ups and downs: Modeling the visual evolution of fashion trends with one-class collaborative filtering**\n",
       "\n",
       "R. He, J. McAuley\n",
       "\n",
       "*WWW*, 2016\n",
       "[pdf](https://cseweb.ucsd.edu/~jmcauley/pdfs/www16a.pdf)\n",
       "\n",
       "**Image-based recommendations on styles and substitutes**\n",
       "\n",
       "J. McAuley, C. Targett, J. Shi, A. van den Hengel\n",
       "\n",
       "*SIGIR*, 2015\n",
       "[pdf](https://cseweb.ucsd.edu/~jmcauley/pdfs/sigir15.pdf)"
      ],
      "text/plain": [
       "<IPython.core.display.Markdown object>"
      ]
     },
     "metadata": {},
     "output_type": "display_data"
    }
   ],
   "source": [
    "from IPython.display import display, Markdown\n",
    "with open(\"data/Amazon Product Reviews.md\") as f:\n",
    "    info = f.read()\n",
    "\n",
    "display(Markdown(info))"
   ]
  },
  {
   "cell_type": "markdown",
   "id": "913a72d3-e087-4b21-aed4-9bb8d94accb0",
   "metadata": {},
   "source": [
    "# Part 2B - NLP EDA - Movie Reviews"
   ]
  },
  {
   "cell_type": "code",
   "execution_count": 3,
   "id": "5b0bf473-0450-45ed-a751-48a440f972ea",
   "metadata": {
    "execution": {
     "iopub.execute_input": "2024-02-13T01:38:28.538959Z",
     "iopub.status.busy": "2024-02-13T01:38:28.538747Z",
     "iopub.status.idle": "2024-02-13T01:38:33.023851Z",
     "shell.execute_reply": "2024-02-13T01:38:33.023502Z",
     "shell.execute_reply.started": "2024-02-13T01:38:28.538948Z"
    }
   },
   "outputs": [],
   "source": [
    "# !pip install -U dojo_ds -q\n",
    "import dojo_ds as ds\n",
    "# ds.__version__"
   ]
  },
  {
   "cell_type": "code",
   "execution_count": 4,
   "id": "3186098c",
   "metadata": {},
   "outputs": [],
   "source": [
    "# !pip install missingno seaborn -q\n"
   ]
  },
  {
   "cell_type": "code",
   "execution_count": 5,
   "id": "1b2e1204-f584-452d-b433-69b67e43e694",
   "metadata": {
    "execution": {
     "iopub.execute_input": "2024-02-13T01:38:33.024453Z",
     "iopub.status.busy": "2024-02-13T01:38:33.024303Z",
     "iopub.status.idle": "2024-02-13T01:38:33.030807Z",
     "shell.execute_reply": "2024-02-13T01:38:33.030431Z",
     "shell.execute_reply.started": "2024-02-13T01:38:33.024442Z"
    }
   },
   "outputs": [],
   "source": [
    "import matplotlib.pyplot as plt\n",
    "import missingno\n",
    "import matplotlib as mpl\n",
    "import seaborn as sns\n",
    "import numpy as np\n",
    "import pandas as pd\n",
    "import os, json\n",
    "from pprint import pprint\n",
    "pd.set_option(\"display.max_columns\",50)\n",
    "# pd.set_option('display.max_colwidth', 250)\n",
    "\n",
    "# fav_style = ('ggplot','tableau-colorblind10')\n",
    "# fav_context  ={'context':'notebook', 'font_scale':1.1}\n",
    "# plt.style.use(fav_style)\n",
    "# sns.set_context(**fav_context)\n",
    "# plt.rcParams['savefig.transparent'] = False\n",
    "# plt.rcParams['savefig.bbox'] = 'tight'"
   ]
  },
  {
   "cell_type": "code",
   "execution_count": 72,
   "id": "122bd9c0-9d2e-4fb2-a90d-ff0ae1d0ec7e",
   "metadata": {
    "execution": {
     "iopub.execute_input": "2024-02-13T01:38:33.031658Z",
     "iopub.status.busy": "2024-02-13T01:38:33.031509Z",
     "iopub.status.idle": "2024-02-13T01:38:33.035156Z",
     "shell.execute_reply": "2024-02-13T01:38:33.034857Z",
     "shell.execute_reply.started": "2024-02-13T01:38:33.031646Z"
    }
   },
   "outputs": [
    {
     "data": {
      "text/plain": [
       "dict_keys(['data', 'images', 'metadata', 'eda', 'models', 'results', 'readme'])"
      ]
     },
     "execution_count": 72,
     "metadata": {},
     "output_type": "execute_result"
    }
   ],
   "source": [
    "FPATHS_FILE = \"config/filepaths.json\"\n",
    "\n",
    "with open(FPATHS_FILE) as f:\n",
    "    FPATHS = json.load(f)\n",
    "FPATHS.keys()"
   ]
  },
  {
   "cell_type": "code",
   "execution_count": 7,
   "id": "b58c908e-403f-46a0-91e2-8794ca8d0e3b",
   "metadata": {
    "execution": {
     "iopub.execute_input": "2024-02-13T01:38:33.035768Z",
     "iopub.status.busy": "2024-02-13T01:38:33.035652Z",
     "iopub.status.idle": "2024-02-13T01:38:33.038361Z",
     "shell.execute_reply": "2024-02-13T01:38:33.037857Z",
     "shell.execute_reply.started": "2024-02-13T01:38:33.035758Z"
    }
   },
   "outputs": [
    {
     "data": {
      "text/plain": [
       "dict_keys(['raw', 'cleaned', 'subset', 'processed-nlp', 'app', 'ml-nlp', 'nn-nlp'])"
      ]
     },
     "execution_count": 7,
     "metadata": {},
     "output_type": "execute_result"
    }
   ],
   "source": [
    "FPATHS['data'].keys()"
   ]
  },
  {
   "cell_type": "code",
   "execution_count": 8,
   "id": "f6e49e30-099d-4551-b878-3939fcd06dab",
   "metadata": {
    "execution": {
     "iopub.execute_input": "2024-02-13T01:38:33.039208Z",
     "iopub.status.busy": "2024-02-13T01:38:33.039002Z",
     "iopub.status.idle": "2024-02-13T01:38:33.041960Z",
     "shell.execute_reply": "2024-02-13T01:38:33.041636Z",
     "shell.execute_reply.started": "2024-02-13T01:38:33.039197Z"
    }
   },
   "outputs": [
    {
     "data": {
      "text/plain": [
       "{'processed-reviews-spacy_json': 'data/processed/processed-reviews.json',\n",
       " 'processed-reviews-spacy_joblib': 'data/processed/processed-reviews.joblib',\n",
       " 'processed-reviews-with-target_json': 'data/processed/processed-reviews-with-target.json',\n",
       " 'processed-reviews-with-target_joblib': 'data/processed/processed-reviews-with-target.joblib'}"
      ]
     },
     "execution_count": 8,
     "metadata": {},
     "output_type": "execute_result"
    }
   ],
   "source": [
    "FPATHS['data']['processed-nlp']"
   ]
  },
  {
   "cell_type": "code",
   "execution_count": 9,
   "id": "fa1e0713-aa88-4997-b10a-fc6c7d372761",
   "metadata": {
    "execution": {
     "iopub.execute_input": "2024-02-13T01:38:33.044182Z",
     "iopub.status.busy": "2024-02-13T01:38:33.043953Z",
     "iopub.status.idle": "2024-02-13T01:38:33.046759Z",
     "shell.execute_reply": "2024-02-13T01:38:33.046280Z",
     "shell.execute_reply.started": "2024-02-13T01:38:33.044161Z"
    }
   },
   "outputs": [
    {
     "data": {
      "text/plain": [
       "{'train_joblib': 'data/modeling/training-data.joblib',\n",
       " 'test_joblib': 'data/modeling/testing-data.joblib'}"
      ]
     },
     "execution_count": 9,
     "metadata": {},
     "output_type": "execute_result"
    }
   ],
   "source": [
    "FPATHS['data']['ml-nlp']"
   ]
  },
  {
   "cell_type": "code",
   "execution_count": 10,
   "id": "e4f438a6-0ac0-4baf-99b2-2af035fa6e6d",
   "metadata": {
    "execution": {
     "iopub.execute_input": "2024-02-13T01:38:33.047681Z",
     "iopub.status.busy": "2024-02-13T01:38:33.047383Z",
     "iopub.status.idle": "2024-02-13T01:38:33.050509Z",
     "shell.execute_reply": "2024-02-13T01:38:33.050042Z",
     "shell.execute_reply.started": "2024-02-13T01:38:33.047668Z"
    }
   },
   "outputs": [
    {
     "data": {
      "text/plain": [
       "'data/processed/processed-reviews-with-target.json'"
      ]
     },
     "execution_count": 10,
     "metadata": {},
     "output_type": "execute_result"
    }
   ],
   "source": [
    "# Fpath for saving final df with target columns\n",
    "fpath_out_ml_with_targets = FPATHS['data']['processed-nlp']['processed-reviews-with-target_json']\n",
    "fpath_out_ml_with_targets"
   ]
  },
  {
   "cell_type": "code",
   "execution_count": 11,
   "id": "17131a83-4802-4f02-a42c-06cfd7737e3d",
   "metadata": {
    "execution": {
     "iopub.execute_input": "2024-02-13T01:38:33.051329Z",
     "iopub.status.busy": "2024-02-13T01:38:33.051175Z",
     "iopub.status.idle": "2024-02-13T01:38:33.054075Z",
     "shell.execute_reply": "2024-02-13T01:38:33.053628Z",
     "shell.execute_reply.started": "2024-02-13T01:38:33.051314Z"
    }
   },
   "outputs": [
    {
     "data": {
      "text/plain": [
       "'data/processed/processed-reviews.json'"
      ]
     },
     "execution_count": 11,
     "metadata": {},
     "output_type": "execute_result"
    }
   ],
   "source": [
    "## If using json\n",
    "reviews_fpath = FPATHS['data']['processed-nlp']['processed-reviews-spacy_json']\n",
    "reviews_fpath"
   ]
  },
  {
   "cell_type": "code",
   "execution_count": 12,
   "id": "de46d2d4-9f5b-4a02-a6c1-096de6df5a2b",
   "metadata": {
    "execution": {
     "iopub.execute_input": "2024-02-13T01:38:33.054789Z",
     "iopub.status.busy": "2024-02-13T01:38:33.054685Z",
     "iopub.status.idle": "2024-02-13T01:38:33.136636Z",
     "shell.execute_reply": "2024-02-13T01:38:33.134138Z",
     "shell.execute_reply.started": "2024-02-13T01:38:33.054781Z"
    },
    "scrolled": true
   },
   "outputs": [
    {
     "data": {
      "text/html": [
       "<div>\n",
       "<style scoped>\n",
       "    .dataframe tbody tr th:only-of-type {\n",
       "        vertical-align: middle;\n",
       "    }\n",
       "\n",
       "    .dataframe tbody tr th {\n",
       "        vertical-align: top;\n",
       "    }\n",
       "\n",
       "    .dataframe thead th {\n",
       "        text-align: right;\n",
       "    }\n",
       "</style>\n",
       "<table border=\"1\" class=\"dataframe\">\n",
       "  <thead>\n",
       "    <tr style=\"text-align: right;\">\n",
       "      <th></th>\n",
       "      <th>asin</th>\n",
       "      <th>reviewerID</th>\n",
       "      <th>reviewText</th>\n",
       "      <th>summary</th>\n",
       "      <th>overall</th>\n",
       "      <th>year</th>\n",
       "      <th>title</th>\n",
       "      <th>brand</th>\n",
       "      <th>category</th>\n",
       "      <th>review-text-full</th>\n",
       "      <th>review-text-full_raw</th>\n",
       "      <th>tokens-dirty</th>\n",
       "      <th>tokens</th>\n",
       "      <th>lemmas</th>\n",
       "      <th>tokens-dirty-joined</th>\n",
       "      <th>tokens-joined</th>\n",
       "      <th>lemmas-joined</th>\n",
       "    </tr>\n",
       "  </thead>\n",
       "  <tbody>\n",
       "    <tr>\n",
       "      <th>0</th>\n",
       "      <td>B007JINB0W</td>\n",
       "      <td>A3Y51NV9HU5T2</td>\n",
       "      <td>Great pasta taste and feel, but the spell in t...</td>\n",
       "      <td>Four Stars</td>\n",
       "      <td>4</td>\n",
       "      <td>2018</td>\n",
       "      <td>Miracle Noodle Zero Carb, Gluten Free Shiratak...</td>\n",
       "      <td>Miracle Noodle</td>\n",
       "      <td>Grocery &amp; Gourmet Food; Pasta &amp; Noodles; Noodl...</td>\n",
       "      <td>Four Stars: Great pasta taste and feel, but th...</td>\n",
       "      <td>Four Stars: Great pasta taste and feel, but th...</td>\n",
       "      <td>[four, stars, great, pasta, taste, and, feel, ...</td>\n",
       "      <td>[stars, great, pasta, taste, feel, spell, pack...</td>\n",
       "      <td>[star, great, pasta, taste, feel, spell, packa...</td>\n",
       "      <td>four stars great pasta taste and feel but the ...</td>\n",
       "      <td>stars great pasta taste feel spell packaged sk...</td>\n",
       "      <td>star great pasta taste feel spell package skrong</td>\n",
       "    </tr>\n",
       "    <tr>\n",
       "      <th>1</th>\n",
       "      <td>B007JINB0W</td>\n",
       "      <td>A3D7EFSRC6Y9MP</td>\n",
       "      <td>The texture just made it a little strange to e...</td>\n",
       "      <td>Okay but don't like texture</td>\n",
       "      <td>3</td>\n",
       "      <td>2014</td>\n",
       "      <td>Miracle Noodle Zero Carb, Gluten Free Shiratak...</td>\n",
       "      <td>Miracle Noodle</td>\n",
       "      <td>Grocery &amp; Gourmet Food; Pasta &amp; Noodles; Noodl...</td>\n",
       "      <td>Okay but don't like texture: The texture just ...</td>\n",
       "      <td>Okay but don't like texture: The texture just ...</td>\n",
       "      <td>[okay, but, do, n't, like, texture, the, textu...</td>\n",
       "      <td>[okay, like, texture, texture, little, strange...</td>\n",
       "      <td>[okay, like, texture, texture, little, strange...</td>\n",
       "      <td>okay but do n't like texture the texture just ...</td>\n",
       "      <td>okay like texture texture little strange eat f...</td>\n",
       "      <td>okay like texture texture little strange eat f...</td>\n",
       "    </tr>\n",
       "    <tr>\n",
       "      <th>2</th>\n",
       "      <td>B007JINB0W</td>\n",
       "      <td>A4AM5KBP3I2R</td>\n",
       "      <td>The herb flavor makes the odd texture of shira...</td>\n",
       "      <td>Go for the green noodles</td>\n",
       "      <td>5</td>\n",
       "      <td>2018</td>\n",
       "      <td>Miracle Noodle Zero Carb, Gluten Free Shiratak...</td>\n",
       "      <td>Miracle Noodle</td>\n",
       "      <td>Grocery &amp; Gourmet Food; Pasta &amp; Noodles; Noodl...</td>\n",
       "      <td>Go for the green noodles: The herb flavor make...</td>\n",
       "      <td>Go for the green noodles: The herb flavor make...</td>\n",
       "      <td>[go, for, the, green, noodles, the, herb, flav...</td>\n",
       "      <td>[green, noodles, herb, flavor, makes, odd, tex...</td>\n",
       "      <td>[green, noodle, herb, flavor, make, odd, textu...</td>\n",
       "      <td>go for the green noodles the herb flavor makes...</td>\n",
       "      <td>green noodles herb flavor makes odd texture sh...</td>\n",
       "      <td>green noodle herb flavor make odd texture shir...</td>\n",
       "    </tr>\n",
       "    <tr>\n",
       "      <th>3</th>\n",
       "      <td>B007JINB0W</td>\n",
       "      <td>A3GHK4IL78DB7Y</td>\n",
       "      <td>I didn't have a problem at all with a half fil...</td>\n",
       "      <td>Its an awesome substitute.</td>\n",
       "      <td>5</td>\n",
       "      <td>2018</td>\n",
       "      <td>Miracle Noodle Zero Carb, Gluten Free Shiratak...</td>\n",
       "      <td>Miracle Noodle</td>\n",
       "      <td>Grocery &amp; Gourmet Food; Pasta &amp; Noodles; Noodl...</td>\n",
       "      <td>Its an awesome substitute.: I didn't have a pr...</td>\n",
       "      <td>Its an awesome substitute.: I didn't have a pr...</td>\n",
       "      <td>[its, an, awesome, substitute, i, did, n't, ha...</td>\n",
       "      <td>[awesome, substitute, problem, half, filled, b...</td>\n",
       "      <td>[awesome, substitute, problem, half, fill, bag...</td>\n",
       "      <td>its an awesome substitute i did n't have a pro...</td>\n",
       "      <td>awesome substitute problem half filled bag use...</td>\n",
       "      <td>awesome substitute problem half fill bag user ...</td>\n",
       "    </tr>\n",
       "    <tr>\n",
       "      <th>4</th>\n",
       "      <td>B007JINB0W</td>\n",
       "      <td>AH3B94LQOPPY6</td>\n",
       "      <td>They taste like whatever you cook them with.</td>\n",
       "      <td>Five Stars</td>\n",
       "      <td>5</td>\n",
       "      <td>2016</td>\n",
       "      <td>Miracle Noodle Zero Carb, Gluten Free Shiratak...</td>\n",
       "      <td>Miracle Noodle</td>\n",
       "      <td>Grocery &amp; Gourmet Food; Pasta &amp; Noodles; Noodl...</td>\n",
       "      <td>Five Stars: They taste like whatever you cook ...</td>\n",
       "      <td>Five Stars: They taste like whatever you cook ...</td>\n",
       "      <td>[five, stars, they, taste, like, whatever, you...</td>\n",
       "      <td>[stars, taste, like, cook]</td>\n",
       "      <td>[star, taste, like, cook]</td>\n",
       "      <td>five stars they taste like whatever you cook t...</td>\n",
       "      <td>stars taste like cook</td>\n",
       "      <td>star taste like cook</td>\n",
       "    </tr>\n",
       "    <tr>\n",
       "      <th>...</th>\n",
       "      <td>...</td>\n",
       "      <td>...</td>\n",
       "      <td>...</td>\n",
       "      <td>...</td>\n",
       "      <td>...</td>\n",
       "      <td>...</td>\n",
       "      <td>...</td>\n",
       "      <td>...</td>\n",
       "      <td>...</td>\n",
       "      <td>...</td>\n",
       "      <td>...</td>\n",
       "      <td>...</td>\n",
       "      <td>...</td>\n",
       "      <td>...</td>\n",
       "      <td>...</td>\n",
       "      <td>...</td>\n",
       "      <td>...</td>\n",
       "    </tr>\n",
       "    <tr>\n",
       "      <th>4358</th>\n",
       "      <td>B007JINB0W</td>\n",
       "      <td>A73IG1ED6S0JR</td>\n",
       "      <td>Product arrived with two of the bags punctured...</td>\n",
       "      <td>would not recomend</td>\n",
       "      <td>1</td>\n",
       "      <td>2016</td>\n",
       "      <td>Miracle Noodle Zero Carb, Gluten Free Shiratak...</td>\n",
       "      <td>Miracle Noodle</td>\n",
       "      <td>Grocery &amp; Gourmet Food; Pasta &amp; Noodles; Noodl...</td>\n",
       "      <td>would not recomend: Product arrived with two o...</td>\n",
       "      <td>would not recomend: Product arrived with two o...</td>\n",
       "      <td>[would, not, recomend, product, arrived, with,...</td>\n",
       "      <td>[recomend, product, arrived, bags, punctured, ...</td>\n",
       "      <td>[recomend, product, arrive, bag, puncture, sme...</td>\n",
       "      <td>would not recomend product arrived with two of...</td>\n",
       "      <td>recomend product arrived bags punctured smells...</td>\n",
       "      <td>recomend product arrive bag puncture smell bad</td>\n",
       "    </tr>\n",
       "    <tr>\n",
       "      <th>4359</th>\n",
       "      <td>B007JINB0W</td>\n",
       "      <td>A1XZ2H0MYG54M0</td>\n",
       "      <td>Ok.</td>\n",
       "      <td>Five Stars</td>\n",
       "      <td>5</td>\n",
       "      <td>2016</td>\n",
       "      <td>Miracle Noodle Zero Carb, Gluten Free Shiratak...</td>\n",
       "      <td>Miracle Noodle</td>\n",
       "      <td>Grocery &amp; Gourmet Food; Pasta &amp; Noodles; Noodl...</td>\n",
       "      <td>Five Stars: Ok.</td>\n",
       "      <td>Five Stars: Ok.</td>\n",
       "      <td>[five, stars, ok]</td>\n",
       "      <td>[stars, ok]</td>\n",
       "      <td>[star, ok]</td>\n",
       "      <td>five stars ok</td>\n",
       "      <td>stars ok</td>\n",
       "      <td>star ok</td>\n",
       "    </tr>\n",
       "    <tr>\n",
       "      <th>4360</th>\n",
       "      <td>B007JINB0W</td>\n",
       "      <td>A3I2YF0MXB7P0B</td>\n",
       "      <td>I like these noodles but the spinach ones just...</td>\n",
       "      <td>Not awful, but now I know why these were on sale.</td>\n",
       "      <td>2</td>\n",
       "      <td>2013</td>\n",
       "      <td>Miracle Noodle Zero Carb, Gluten Free Shiratak...</td>\n",
       "      <td>Miracle Noodle</td>\n",
       "      <td>Grocery &amp; Gourmet Food; Pasta &amp; Noodles; Noodl...</td>\n",
       "      <td>Not awful, but now I know why these were on sa...</td>\n",
       "      <td>Not awful, but now I know why these were on sa...</td>\n",
       "      <td>[not, awful, but, now, i, know, why, these, we...</td>\n",
       "      <td>[awful, know, sale, like, noodles, spinach, on...</td>\n",
       "      <td>[awful, know, sale, like, noodle, spinach, one...</td>\n",
       "      <td>not awful but now i know why these were on sal...</td>\n",
       "      <td>awful know sale like noodles spinach ones tast...</td>\n",
       "      <td>awful know sale like noodle spinach one taste ...</td>\n",
       "    </tr>\n",
       "    <tr>\n",
       "      <th>4361</th>\n",
       "      <td>B007JINB0W</td>\n",
       "      <td>A2UELLFLITPMT1</td>\n",
       "      <td>Truly horrific. Like eating dead worms.</td>\n",
       "      <td>Don't even try it.</td>\n",
       "      <td>1</td>\n",
       "      <td>2017</td>\n",
       "      <td>Miracle Noodle Zero Carb, Gluten Free Shiratak...</td>\n",
       "      <td>Miracle Noodle</td>\n",
       "      <td>Grocery &amp; Gourmet Food; Pasta &amp; Noodles; Noodl...</td>\n",
       "      <td>Don't even try it.: Truly horrific. Like eatin...</td>\n",
       "      <td>Don't even try it.: Truly horrific. Like eatin...</td>\n",
       "      <td>[do, n't, even, try, it, truly, horrific, like...</td>\n",
       "      <td>[try, truly, horrific, like, eating, dead, worms]</td>\n",
       "      <td>[try, truly, horrific, like, eat, dead, worm]</td>\n",
       "      <td>do n't even try it truly horrific like eating ...</td>\n",
       "      <td>try truly horrific like eating dead worms</td>\n",
       "      <td>try truly horrific like eat dead worm</td>\n",
       "    </tr>\n",
       "    <tr>\n",
       "      <th>4362</th>\n",
       "      <td>B007JINB0W</td>\n",
       "      <td>A178M2AHNWQZB0</td>\n",
       "      <td>We love the rice noodles, and have problems fi...</td>\n",
       "      <td>As good as all the other Miracle noodle products</td>\n",
       "      <td>5</td>\n",
       "      <td>2017</td>\n",
       "      <td>Miracle Noodle Zero Carb, Gluten Free Shiratak...</td>\n",
       "      <td>Miracle Noodle</td>\n",
       "      <td>Grocery &amp; Gourmet Food; Pasta &amp; Noodles; Noodl...</td>\n",
       "      <td>As good as all the other Miracle noodle produc...</td>\n",
       "      <td>As good as all the other Miracle noodle produc...</td>\n",
       "      <td>[as, good, as, all, the, other, miracle, noodl...</td>\n",
       "      <td>[good, miracle, noodle, products, love, rice, ...</td>\n",
       "      <td>[good, miracle, noodle, product, love, rice, n...</td>\n",
       "      <td>as good as all the other miracle noodle produc...</td>\n",
       "      <td>good miracle noodle products love rice noodles...</td>\n",
       "      <td>good miracle noodle product love rice noodle p...</td>\n",
       "    </tr>\n",
       "  </tbody>\n",
       "</table>\n",
       "<p>4363 rows × 17 columns</p>\n",
       "</div>"
      ],
      "text/plain": [
       "            asin      reviewerID  \\\n",
       "0     B007JINB0W   A3Y51NV9HU5T2   \n",
       "1     B007JINB0W  A3D7EFSRC6Y9MP   \n",
       "2     B007JINB0W    A4AM5KBP3I2R   \n",
       "3     B007JINB0W  A3GHK4IL78DB7Y   \n",
       "4     B007JINB0W   AH3B94LQOPPY6   \n",
       "...          ...             ...   \n",
       "4358  B007JINB0W   A73IG1ED6S0JR   \n",
       "4359  B007JINB0W  A1XZ2H0MYG54M0   \n",
       "4360  B007JINB0W  A3I2YF0MXB7P0B   \n",
       "4361  B007JINB0W  A2UELLFLITPMT1   \n",
       "4362  B007JINB0W  A178M2AHNWQZB0   \n",
       "\n",
       "                                             reviewText  \\\n",
       "0     Great pasta taste and feel, but the spell in t...   \n",
       "1     The texture just made it a little strange to e...   \n",
       "2     The herb flavor makes the odd texture of shira...   \n",
       "3     I didn't have a problem at all with a half fil...   \n",
       "4         They taste like whatever you cook them with.    \n",
       "...                                                 ...   \n",
       "4358  Product arrived with two of the bags punctured...   \n",
       "4359                                                Ok.   \n",
       "4360  I like these noodles but the spinach ones just...   \n",
       "4361            Truly horrific. Like eating dead worms.   \n",
       "4362  We love the rice noodles, and have problems fi...   \n",
       "\n",
       "                                                summary  overall  year  \\\n",
       "0                                            Four Stars        4  2018   \n",
       "1                           Okay but don't like texture        3  2014   \n",
       "2                              Go for the green noodles        5  2018   \n",
       "3                            Its an awesome substitute.        5  2018   \n",
       "4                                            Five Stars        5  2016   \n",
       "...                                                 ...      ...   ...   \n",
       "4358                                 would not recomend        1  2016   \n",
       "4359                                         Five Stars        5  2016   \n",
       "4360  Not awful, but now I know why these were on sale.        2  2013   \n",
       "4361                                 Don't even try it.        1  2017   \n",
       "4362   As good as all the other Miracle noodle products        5  2017   \n",
       "\n",
       "                                                  title           brand  \\\n",
       "0     Miracle Noodle Zero Carb, Gluten Free Shiratak...  Miracle Noodle   \n",
       "1     Miracle Noodle Zero Carb, Gluten Free Shiratak...  Miracle Noodle   \n",
       "2     Miracle Noodle Zero Carb, Gluten Free Shiratak...  Miracle Noodle   \n",
       "3     Miracle Noodle Zero Carb, Gluten Free Shiratak...  Miracle Noodle   \n",
       "4     Miracle Noodle Zero Carb, Gluten Free Shiratak...  Miracle Noodle   \n",
       "...                                                 ...             ...   \n",
       "4358  Miracle Noodle Zero Carb, Gluten Free Shiratak...  Miracle Noodle   \n",
       "4359  Miracle Noodle Zero Carb, Gluten Free Shiratak...  Miracle Noodle   \n",
       "4360  Miracle Noodle Zero Carb, Gluten Free Shiratak...  Miracle Noodle   \n",
       "4361  Miracle Noodle Zero Carb, Gluten Free Shiratak...  Miracle Noodle   \n",
       "4362  Miracle Noodle Zero Carb, Gluten Free Shiratak...  Miracle Noodle   \n",
       "\n",
       "                                               category  \\\n",
       "0     Grocery & Gourmet Food; Pasta & Noodles; Noodl...   \n",
       "1     Grocery & Gourmet Food; Pasta & Noodles; Noodl...   \n",
       "2     Grocery & Gourmet Food; Pasta & Noodles; Noodl...   \n",
       "3     Grocery & Gourmet Food; Pasta & Noodles; Noodl...   \n",
       "4     Grocery & Gourmet Food; Pasta & Noodles; Noodl...   \n",
       "...                                                 ...   \n",
       "4358  Grocery & Gourmet Food; Pasta & Noodles; Noodl...   \n",
       "4359  Grocery & Gourmet Food; Pasta & Noodles; Noodl...   \n",
       "4360  Grocery & Gourmet Food; Pasta & Noodles; Noodl...   \n",
       "4361  Grocery & Gourmet Food; Pasta & Noodles; Noodl...   \n",
       "4362  Grocery & Gourmet Food; Pasta & Noodles; Noodl...   \n",
       "\n",
       "                                       review-text-full  \\\n",
       "0     Four Stars: Great pasta taste and feel, but th...   \n",
       "1     Okay but don't like texture: The texture just ...   \n",
       "2     Go for the green noodles: The herb flavor make...   \n",
       "3     Its an awesome substitute.: I didn't have a pr...   \n",
       "4     Five Stars: They taste like whatever you cook ...   \n",
       "...                                                 ...   \n",
       "4358  would not recomend: Product arrived with two o...   \n",
       "4359                                    Five Stars: Ok.   \n",
       "4360  Not awful, but now I know why these were on sa...   \n",
       "4361  Don't even try it.: Truly horrific. Like eatin...   \n",
       "4362  As good as all the other Miracle noodle produc...   \n",
       "\n",
       "                                   review-text-full_raw  \\\n",
       "0     Four Stars: Great pasta taste and feel, but th...   \n",
       "1     Okay but don't like texture: The texture just ...   \n",
       "2     Go for the green noodles: The herb flavor make...   \n",
       "3     Its an awesome substitute.: I didn't have a pr...   \n",
       "4     Five Stars: They taste like whatever you cook ...   \n",
       "...                                                 ...   \n",
       "4358  would not recomend: Product arrived with two o...   \n",
       "4359                                    Five Stars: Ok.   \n",
       "4360  Not awful, but now I know why these were on sa...   \n",
       "4361  Don't even try it.: Truly horrific. Like eatin...   \n",
       "4362  As good as all the other Miracle noodle produc...   \n",
       "\n",
       "                                           tokens-dirty  \\\n",
       "0     [four, stars, great, pasta, taste, and, feel, ...   \n",
       "1     [okay, but, do, n't, like, texture, the, textu...   \n",
       "2     [go, for, the, green, noodles, the, herb, flav...   \n",
       "3     [its, an, awesome, substitute, i, did, n't, ha...   \n",
       "4     [five, stars, they, taste, like, whatever, you...   \n",
       "...                                                 ...   \n",
       "4358  [would, not, recomend, product, arrived, with,...   \n",
       "4359                                  [five, stars, ok]   \n",
       "4360  [not, awful, but, now, i, know, why, these, we...   \n",
       "4361  [do, n't, even, try, it, truly, horrific, like...   \n",
       "4362  [as, good, as, all, the, other, miracle, noodl...   \n",
       "\n",
       "                                                 tokens  \\\n",
       "0     [stars, great, pasta, taste, feel, spell, pack...   \n",
       "1     [okay, like, texture, texture, little, strange...   \n",
       "2     [green, noodles, herb, flavor, makes, odd, tex...   \n",
       "3     [awesome, substitute, problem, half, filled, b...   \n",
       "4                            [stars, taste, like, cook]   \n",
       "...                                                 ...   \n",
       "4358  [recomend, product, arrived, bags, punctured, ...   \n",
       "4359                                        [stars, ok]   \n",
       "4360  [awful, know, sale, like, noodles, spinach, on...   \n",
       "4361  [try, truly, horrific, like, eating, dead, worms]   \n",
       "4362  [good, miracle, noodle, products, love, rice, ...   \n",
       "\n",
       "                                                 lemmas  \\\n",
       "0     [star, great, pasta, taste, feel, spell, packa...   \n",
       "1     [okay, like, texture, texture, little, strange...   \n",
       "2     [green, noodle, herb, flavor, make, odd, textu...   \n",
       "3     [awesome, substitute, problem, half, fill, bag...   \n",
       "4                             [star, taste, like, cook]   \n",
       "...                                                 ...   \n",
       "4358  [recomend, product, arrive, bag, puncture, sme...   \n",
       "4359                                         [star, ok]   \n",
       "4360  [awful, know, sale, like, noodle, spinach, one...   \n",
       "4361      [try, truly, horrific, like, eat, dead, worm]   \n",
       "4362  [good, miracle, noodle, product, love, rice, n...   \n",
       "\n",
       "                                    tokens-dirty-joined  \\\n",
       "0     four stars great pasta taste and feel but the ...   \n",
       "1     okay but do n't like texture the texture just ...   \n",
       "2     go for the green noodles the herb flavor makes...   \n",
       "3     its an awesome substitute i did n't have a pro...   \n",
       "4     five stars they taste like whatever you cook t...   \n",
       "...                                                 ...   \n",
       "4358  would not recomend product arrived with two of...   \n",
       "4359                                      five stars ok   \n",
       "4360  not awful but now i know why these were on sal...   \n",
       "4361  do n't even try it truly horrific like eating ...   \n",
       "4362  as good as all the other miracle noodle produc...   \n",
       "\n",
       "                                          tokens-joined  \\\n",
       "0     stars great pasta taste feel spell packaged sk...   \n",
       "1     okay like texture texture little strange eat f...   \n",
       "2     green noodles herb flavor makes odd texture sh...   \n",
       "3     awesome substitute problem half filled bag use...   \n",
       "4                                 stars taste like cook   \n",
       "...                                                 ...   \n",
       "4358  recomend product arrived bags punctured smells...   \n",
       "4359                                           stars ok   \n",
       "4360  awful know sale like noodles spinach ones tast...   \n",
       "4361          try truly horrific like eating dead worms   \n",
       "4362  good miracle noodle products love rice noodles...   \n",
       "\n",
       "                                          lemmas-joined  \n",
       "0      star great pasta taste feel spell package skrong  \n",
       "1     okay like texture texture little strange eat f...  \n",
       "2     green noodle herb flavor make odd texture shir...  \n",
       "3     awesome substitute problem half fill bag user ...  \n",
       "4                                  star taste like cook  \n",
       "...                                                 ...  \n",
       "4358     recomend product arrive bag puncture smell bad  \n",
       "4359                                            star ok  \n",
       "4360  awful know sale like noodle spinach one taste ...  \n",
       "4361              try truly horrific like eat dead worm  \n",
       "4362  good miracle noodle product love rice noodle p...  \n",
       "\n",
       "[4363 rows x 17 columns]"
      ]
     },
     "execution_count": 12,
     "metadata": {},
     "output_type": "execute_result"
    }
   ],
   "source": [
    "df = pd.read_json(reviews_fpath)\n",
    "# df = df.reset_index(drop=False)\n",
    "df"
   ]
  },
  {
   "cell_type": "code",
   "execution_count": 13,
   "id": "638d553e-3cef-43e3-a2e5-abc8a723a156",
   "metadata": {
    "execution": {
     "iopub.execute_input": "2024-02-13T01:38:33.137539Z",
     "iopub.status.busy": "2024-02-13T01:38:33.137399Z",
     "iopub.status.idle": "2024-02-13T01:38:33.147793Z",
     "shell.execute_reply": "2024-02-13T01:38:33.147289Z",
     "shell.execute_reply.started": "2024-02-13T01:38:33.137528Z"
    }
   },
   "outputs": [
    {
     "data": {
      "text/plain": [
       "0"
      ]
     },
     "execution_count": 13,
     "metadata": {},
     "output_type": "execute_result"
    }
   ],
   "source": [
    "# Check for duplciate review ids\n",
    "dup_subset_cols = ['asin','reviewerID','review-text-full']\n",
    "df.duplicated(subset=dup_subset_cols).sum()"
   ]
  },
  {
   "cell_type": "code",
   "execution_count": 14,
   "id": "5b3947fb-f36d-40f8-9eaa-eddeef3e907f",
   "metadata": {
    "execution": {
     "iopub.execute_input": "2024-02-13T01:38:33.148620Z",
     "iopub.status.busy": "2024-02-13T01:38:33.148372Z",
     "iopub.status.idle": "2024-02-13T01:38:33.155327Z",
     "shell.execute_reply": "2024-02-13T01:38:33.154661Z",
     "shell.execute_reply.started": "2024-02-13T01:38:33.148608Z"
    }
   },
   "outputs": [
    {
     "data": {
      "text/plain": [
       "42"
      ]
     },
     "execution_count": 14,
     "metadata": {},
     "output_type": "execute_result"
    }
   ],
   "source": [
    "# Check for duplicated review text\n",
    "df.duplicated(subset=['review-text-full']).sum()"
   ]
  },
  {
   "cell_type": "code",
   "execution_count": 15,
   "id": "90cd2783-7931-4e8a-8500-e28e971f1b69",
   "metadata": {
    "execution": {
     "iopub.execute_input": "2024-02-13T01:38:33.157349Z",
     "iopub.status.busy": "2024-02-13T01:38:33.157168Z",
     "iopub.status.idle": "2024-02-13T01:38:33.172420Z",
     "shell.execute_reply": "2024-02-13T01:38:33.171823Z",
     "shell.execute_reply.started": "2024-02-13T01:38:33.157319Z"
    }
   },
   "outputs": [
    {
     "data": {
      "text/plain": [
       "asin                    0\n",
       "reviewerID              0\n",
       "reviewText              0\n",
       "summary                 0\n",
       "overall                 0\n",
       "year                    0\n",
       "title                   0\n",
       "brand                   0\n",
       "category                0\n",
       "review-text-full        0\n",
       "review-text-full_raw    0\n",
       "tokens-dirty            0\n",
       "tokens                  0\n",
       "lemmas                  0\n",
       "tokens-dirty-joined     0\n",
       "tokens-joined           0\n",
       "lemmas-joined           0\n",
       "dtype: int64"
      ]
     },
     "execution_count": 15,
     "metadata": {},
     "output_type": "execute_result"
    }
   ],
   "source": [
    "df.isna().sum()"
   ]
  },
  {
   "cell_type": "code",
   "execution_count": 16,
   "id": "5aa2df62-d2dc-43a9-825a-54863c9fe60b",
   "metadata": {
    "execution": {
     "iopub.execute_input": "2024-02-13T01:38:33.174266Z",
     "iopub.status.busy": "2024-02-13T01:38:33.173905Z",
     "iopub.status.idle": "2024-02-13T01:38:33.503688Z",
     "shell.execute_reply": "2024-02-13T01:38:33.503034Z",
     "shell.execute_reply.started": "2024-02-13T01:38:33.174252Z"
    }
   },
   "outputs": [
    {
     "data": {
      "text/plain": [
       "<Axes: >"
      ]
     },
     "execution_count": 16,
     "metadata": {},
     "output_type": "execute_result"
    },
    {
     "data": {
      "image/png": "[encoded data removed]",
      "text/plain": [
       "<Figure size 2500x1000 with 2 Axes>"
      ]
     },
     "metadata": {},
     "output_type": "display_data"
    }
   ],
   "source": [
    "import missingno\n",
    "missingno.matrix(df)"
   ]
  },
  {
   "cell_type": "markdown",
   "id": "f58bd930-aad1-4b01-80b3-dbb653e41e81",
   "metadata": {},
   "source": [
    "## Set Groups (for EDA & Modeling)"
   ]
  },
  {
   "cell_type": "code",
   "execution_count": 17,
   "id": "4ce9e587",
   "metadata": {},
   "outputs": [
    {
     "data": {
      "text/html": [
       "<svg  width=\"275\" height=\"55\"><rect x=\"0\" y=\"0\" width=\"55\" height=\"55\" style=\"fill:#1f77b4;stroke-width:2;stroke:rgb(255,255,255)\"/><rect x=\"55\" y=\"0\" width=\"55\" height=\"55\" style=\"fill:#ff7f0e;stroke-width:2;stroke:rgb(255,255,255)\"/><rect x=\"110\" y=\"0\" width=\"55\" height=\"55\" style=\"fill:#2ca02c;stroke-width:2;stroke:rgb(255,255,255)\"/><rect x=\"165\" y=\"0\" width=\"55\" height=\"55\" style=\"fill:#d62728;stroke-width:2;stroke:rgb(255,255,255)\"/><rect x=\"220\" y=\"0\" width=\"55\" height=\"55\" style=\"fill:#9467bd;stroke-width:2;stroke:rgb(255,255,255)\"/></svg>"
      ],
      "text/plain": [
       "[(0.12156862745098039, 0.4666666666666667, 0.7058823529411765),\n",
       " (1.0, 0.4980392156862745, 0.054901960784313725),\n",
       " (0.17254901960784313, 0.6274509803921569, 0.17254901960784313),\n",
       " (0.8392156862745098, 0.15294117647058825, 0.1568627450980392),\n",
       " (0.5803921568627451, 0.403921568627451, 0.7411764705882353)]"
      ]
     },
     "execution_count": 17,
     "metadata": {},
     "output_type": "execute_result"
    }
   ],
   "source": [
    "palette_tab10 = sns.palettes.color_palette('tab10',n_colors=len(df['overall'].unique()))\n",
    "palette_tab10"
   ]
  },
  {
   "cell_type": "code",
   "execution_count": 18,
   "id": "281507bf-c58e-4771-b2f8-e91910ff6e84",
   "metadata": {
    "execution": {
     "iopub.execute_input": "2024-02-13T01:38:33.504721Z",
     "iopub.status.busy": "2024-02-13T01:38:33.504538Z",
     "iopub.status.idle": "2024-02-13T01:38:33.590183Z",
     "shell.execute_reply": "2024-02-13T01:38:33.589426Z",
     "shell.execute_reply.started": "2024-02-13T01:38:33.504704Z"
    }
   },
   "outputs": [
    {
     "data": {
      "image/png": "[encoded data removed]",
      "text/plain": [
       "<Figure size 750x500 with 1 Axes>"
      ]
     },
     "metadata": {},
     "output_type": "display_data"
    }
   ],
   "source": [
    "# ds.eda.explore_categorical(df,x='overall');\n",
    "ax = sns.catplot(data=df,x='overall',kind='count', aspect=1.5, hue=\"overall\",\n",
    "            palette=palette_tab10,legend=False)"
   ]
  },
  {
   "cell_type": "markdown",
   "id": "ee844050-97ae-40ba-ba53-cc69c84193e0",
   "metadata": {},
   "source": [
    "To understand what customers do and do not like about Hoover products, we will define 2 groups:\n",
    "- High Ratings\n",
    "    - Overall rating = 5.0\n",
    "- Low Ratings\n",
    "    - Overall rating = 1.0 or 2.0\n",
    "\n",
    "\n",
    "We can use a function and .map to define group names based on the numeric overall ratings."
   ]
  },
  {
   "cell_type": "markdown",
   "id": "1556c634-01bb-4402-ae42-fb95db14d11f",
   "metadata": {},
   "source": [
    "### Define Target Groups (02/08)"
   ]
  },
  {
   "cell_type": "markdown",
   "id": "64f7afea-9d26-410e-8674-777fcef0320c",
   "metadata": {},
   "source": [
    "Binary:\n",
    "- \"High Rating\": = 5\n",
    "- \"Low Rating\": <= 2\n",
    "<!-- \n",
    "Multiclass:\n",
    "- \"High Rating\": >= 8\n",
    "- \"Mid Rating\": 4< x < 8\n",
    "- \"Low Rating\": <4 -->"
   ]
  },
  {
   "cell_type": "code",
   "execution_count": 19,
   "id": "01cf5245-d14b-4a08-8a3c-4b5b1147e323",
   "metadata": {
    "execution": {
     "iopub.execute_input": "2024-02-13T01:38:33.591234Z",
     "iopub.status.busy": "2024-02-13T01:38:33.591093Z",
     "iopub.status.idle": "2024-02-13T01:38:33.595424Z",
     "shell.execute_reply": "2024-02-13T01:38:33.594600Z",
     "shell.execute_reply.started": "2024-02-13T01:38:33.591224Z"
    }
   },
   "outputs": [],
   "source": [
    "def create_groups(x):\n",
    "    if x>=5.0:\n",
    "        return \"High\"\n",
    "    elif x <=2.0:\n",
    "        return \"Low\"\n",
    "    else: \n",
    "        return None\n",
    "    \n",
    "\n",
    "# def set_groups_multi(x):\n",
    "#     if x >= 8:\n",
    "#         group = \"High\"\n",
    "#     elif x>=4:\n",
    "#         group = \"Mid\"\n",
    "#     else:\n",
    "#         group= \"Low\"\n",
    "#     return group"
   ]
  },
  {
   "cell_type": "code",
   "execution_count": 20,
   "id": "a4017876-3aea-4e4e-9a3e-3626c6cc6d5d",
   "metadata": {
    "execution": {
     "iopub.execute_input": "2024-02-13T01:38:33.596274Z",
     "iopub.status.busy": "2024-02-13T01:38:33.596157Z",
     "iopub.status.idle": "2024-02-13T01:38:33.602860Z",
     "shell.execute_reply": "2024-02-13T01:38:33.601729Z",
     "shell.execute_reply.started": "2024-02-13T01:38:33.596264Z"
    }
   },
   "outputs": [
    {
     "data": {
      "text/plain": [
       "target-rating\n",
       "High    1868\n",
       "Low     1437\n",
       "None    1058\n",
       "Name: count, dtype: int64"
      ]
     },
     "execution_count": 20,
     "metadata": {},
     "output_type": "execute_result"
    }
   ],
   "source": [
    "df['target-rating'] = df['overall'].map(create_groups)#set_group_binary)\n",
    "df['target-rating'].value_counts(dropna=False)"
   ]
  },
  {
   "cell_type": "markdown",
   "id": "bc0c12d8-8488-40b5-9288-0bf44f6ec101",
   "metadata": {},
   "source": [
    "### Class Balance\n",
    "\n",
    "It's always a good idea to check the class balance when creating a classification model.  This can affect modeling bias and interpretation of metrics."
   ]
  },
  {
   "cell_type": "code",
   "execution_count": 21,
   "id": "e3aab28f-76e3-4480-a308-b6ae460e3984",
   "metadata": {
    "execution": {
     "iopub.execute_input": "2024-02-13T01:38:33.604029Z",
     "iopub.status.busy": "2024-02-13T01:38:33.603885Z",
     "iopub.status.idle": "2024-02-13T01:38:33.609049Z",
     "shell.execute_reply": "2024-02-13T01:38:33.608541Z",
     "shell.execute_reply.started": "2024-02-13T01:38:33.604019Z"
    }
   },
   "outputs": [
    {
     "data": {
      "text/plain": [
       "target-rating\n",
       "High    0.565204\n",
       "Low     0.434796\n",
       "Name: proportion, dtype: float64"
      ]
     },
     "execution_count": 21,
     "metadata": {},
     "output_type": "execute_result"
    }
   ],
   "source": [
    "df['target-rating'].value_counts(dropna=True, normalize=True)"
   ]
  },
  {
   "cell_type": "code",
   "execution_count": 22,
   "id": "c4cfb390-c3b3-4d48-949f-86992ff31833",
   "metadata": {
    "execution": {
     "iopub.execute_input": "2024-02-13T01:38:33.610216Z",
     "iopub.status.busy": "2024-02-13T01:38:33.610099Z",
     "iopub.status.idle": "2024-02-13T01:38:33.807980Z",
     "shell.execute_reply": "2024-02-13T01:38:33.807615Z",
     "shell.execute_reply.started": "2024-02-13T01:38:33.610207Z"
    }
   },
   "outputs": [],
   "source": [
    "# fig, axes =  plt.subplots(ncols=2, figsize=(10,5))\n",
    "# sns.histplot(data=df, x='overall', hue='target-rating', ax=axes[0])\n",
    "# sns.histplot(data=df, x='target-rating', hue='target-rating', ax=axes[1], legend=False, stat='percent')\n",
    "# fig.tight_layout()"
   ]
  },
  {
   "cell_type": "markdown",
   "id": "05fed98e-841c-47a0-bbaf-9511c70912a0",
   "metadata": {},
   "source": [
    "#### Save Reviews with Target for Modeling (Part 3)"
   ]
  },
  {
   "cell_type": "code",
   "execution_count": 23,
   "id": "13ea02b2-c22a-437f-b260-48b3ae845a6e",
   "metadata": {
    "execution": {
     "iopub.execute_input": "2024-02-13T01:38:33.808780Z",
     "iopub.status.busy": "2024-02-13T01:38:33.808673Z",
     "iopub.status.idle": "2024-02-13T01:38:33.818491Z",
     "shell.execute_reply": "2024-02-13T01:38:33.817980Z",
     "shell.execute_reply.started": "2024-02-13T01:38:33.808770Z"
    }
   },
   "outputs": [
    {
     "data": {
      "text/html": [
       "<div>\n",
       "<style scoped>\n",
       "    .dataframe tbody tr th:only-of-type {\n",
       "        vertical-align: middle;\n",
       "    }\n",
       "\n",
       "    .dataframe tbody tr th {\n",
       "        vertical-align: top;\n",
       "    }\n",
       "\n",
       "    .dataframe thead th {\n",
       "        text-align: right;\n",
       "    }\n",
       "</style>\n",
       "<table border=\"1\" class=\"dataframe\">\n",
       "  <thead>\n",
       "    <tr style=\"text-align: right;\">\n",
       "      <th></th>\n",
       "      <th>asin</th>\n",
       "      <th>reviewerID</th>\n",
       "      <th>reviewText</th>\n",
       "      <th>summary</th>\n",
       "      <th>overall</th>\n",
       "      <th>year</th>\n",
       "      <th>title</th>\n",
       "      <th>brand</th>\n",
       "      <th>category</th>\n",
       "      <th>review-text-full</th>\n",
       "      <th>review-text-full_raw</th>\n",
       "      <th>tokens-dirty</th>\n",
       "      <th>tokens</th>\n",
       "      <th>lemmas</th>\n",
       "      <th>tokens-dirty-joined</th>\n",
       "      <th>tokens-joined</th>\n",
       "      <th>lemmas-joined</th>\n",
       "      <th>target-rating</th>\n",
       "    </tr>\n",
       "  </thead>\n",
       "  <tbody>\n",
       "    <tr>\n",
       "      <th>0</th>\n",
       "      <td>B007JINB0W</td>\n",
       "      <td>A3Y51NV9HU5T2</td>\n",
       "      <td>Great pasta taste and feel, but the spell in t...</td>\n",
       "      <td>Four Stars</td>\n",
       "      <td>4</td>\n",
       "      <td>2018</td>\n",
       "      <td>Miracle Noodle Zero Carb, Gluten Free Shiratak...</td>\n",
       "      <td>Miracle Noodle</td>\n",
       "      <td>Grocery &amp; Gourmet Food; Pasta &amp; Noodles; Noodl...</td>\n",
       "      <td>Four Stars: Great pasta taste and feel, but th...</td>\n",
       "      <td>Four Stars: Great pasta taste and feel, but th...</td>\n",
       "      <td>[four, stars, great, pasta, taste, and, feel, ...</td>\n",
       "      <td>[stars, great, pasta, taste, feel, spell, pack...</td>\n",
       "      <td>[star, great, pasta, taste, feel, spell, packa...</td>\n",
       "      <td>four stars great pasta taste and feel but the ...</td>\n",
       "      <td>stars great pasta taste feel spell packaged sk...</td>\n",
       "      <td>star great pasta taste feel spell package skrong</td>\n",
       "      <td>None</td>\n",
       "    </tr>\n",
       "    <tr>\n",
       "      <th>1</th>\n",
       "      <td>B007JINB0W</td>\n",
       "      <td>A3D7EFSRC6Y9MP</td>\n",
       "      <td>The texture just made it a little strange to e...</td>\n",
       "      <td>Okay but don't like texture</td>\n",
       "      <td>3</td>\n",
       "      <td>2014</td>\n",
       "      <td>Miracle Noodle Zero Carb, Gluten Free Shiratak...</td>\n",
       "      <td>Miracle Noodle</td>\n",
       "      <td>Grocery &amp; Gourmet Food; Pasta &amp; Noodles; Noodl...</td>\n",
       "      <td>Okay but don't like texture: The texture just ...</td>\n",
       "      <td>Okay but don't like texture: The texture just ...</td>\n",
       "      <td>[okay, but, do, n't, like, texture, the, textu...</td>\n",
       "      <td>[okay, like, texture, texture, little, strange...</td>\n",
       "      <td>[okay, like, texture, texture, little, strange...</td>\n",
       "      <td>okay but do n't like texture the texture just ...</td>\n",
       "      <td>okay like texture texture little strange eat f...</td>\n",
       "      <td>okay like texture texture little strange eat f...</td>\n",
       "      <td>None</td>\n",
       "    </tr>\n",
       "    <tr>\n",
       "      <th>2</th>\n",
       "      <td>B007JINB0W</td>\n",
       "      <td>A4AM5KBP3I2R</td>\n",
       "      <td>The herb flavor makes the odd texture of shira...</td>\n",
       "      <td>Go for the green noodles</td>\n",
       "      <td>5</td>\n",
       "      <td>2018</td>\n",
       "      <td>Miracle Noodle Zero Carb, Gluten Free Shiratak...</td>\n",
       "      <td>Miracle Noodle</td>\n",
       "      <td>Grocery &amp; Gourmet Food; Pasta &amp; Noodles; Noodl...</td>\n",
       "      <td>Go for the green noodles: The herb flavor make...</td>\n",
       "      <td>Go for the green noodles: The herb flavor make...</td>\n",
       "      <td>[go, for, the, green, noodles, the, herb, flav...</td>\n",
       "      <td>[green, noodles, herb, flavor, makes, odd, tex...</td>\n",
       "      <td>[green, noodle, herb, flavor, make, odd, textu...</td>\n",
       "      <td>go for the green noodles the herb flavor makes...</td>\n",
       "      <td>green noodles herb flavor makes odd texture sh...</td>\n",
       "      <td>green noodle herb flavor make odd texture shir...</td>\n",
       "      <td>High</td>\n",
       "    </tr>\n",
       "  </tbody>\n",
       "</table>\n",
       "</div>"
      ],
      "text/plain": [
       "         asin      reviewerID  \\\n",
       "0  B007JINB0W   A3Y51NV9HU5T2   \n",
       "1  B007JINB0W  A3D7EFSRC6Y9MP   \n",
       "2  B007JINB0W    A4AM5KBP3I2R   \n",
       "\n",
       "                                          reviewText  \\\n",
       "0  Great pasta taste and feel, but the spell in t...   \n",
       "1  The texture just made it a little strange to e...   \n",
       "2  The herb flavor makes the odd texture of shira...   \n",
       "\n",
       "                       summary  overall  year  \\\n",
       "0                   Four Stars        4  2018   \n",
       "1  Okay but don't like texture        3  2014   \n",
       "2     Go for the green noodles        5  2018   \n",
       "\n",
       "                                               title           brand  \\\n",
       "0  Miracle Noodle Zero Carb, Gluten Free Shiratak...  Miracle Noodle   \n",
       "1  Miracle Noodle Zero Carb, Gluten Free Shiratak...  Miracle Noodle   \n",
       "2  Miracle Noodle Zero Carb, Gluten Free Shiratak...  Miracle Noodle   \n",
       "\n",
       "                                            category  \\\n",
       "0  Grocery & Gourmet Food; Pasta & Noodles; Noodl...   \n",
       "1  Grocery & Gourmet Food; Pasta & Noodles; Noodl...   \n",
       "2  Grocery & Gourmet Food; Pasta & Noodles; Noodl...   \n",
       "\n",
       "                                    review-text-full  \\\n",
       "0  Four Stars: Great pasta taste and feel, but th...   \n",
       "1  Okay but don't like texture: The texture just ...   \n",
       "2  Go for the green noodles: The herb flavor make...   \n",
       "\n",
       "                                review-text-full_raw  \\\n",
       "0  Four Stars: Great pasta taste and feel, but th...   \n",
       "1  Okay but don't like texture: The texture just ...   \n",
       "2  Go for the green noodles: The herb flavor make...   \n",
       "\n",
       "                                        tokens-dirty  \\\n",
       "0  [four, stars, great, pasta, taste, and, feel, ...   \n",
       "1  [okay, but, do, n't, like, texture, the, textu...   \n",
       "2  [go, for, the, green, noodles, the, herb, flav...   \n",
       "\n",
       "                                              tokens  \\\n",
       "0  [stars, great, pasta, taste, feel, spell, pack...   \n",
       "1  [okay, like, texture, texture, little, strange...   \n",
       "2  [green, noodles, herb, flavor, makes, odd, tex...   \n",
       "\n",
       "                                              lemmas  \\\n",
       "0  [star, great, pasta, taste, feel, spell, packa...   \n",
       "1  [okay, like, texture, texture, little, strange...   \n",
       "2  [green, noodle, herb, flavor, make, odd, textu...   \n",
       "\n",
       "                                 tokens-dirty-joined  \\\n",
       "0  four stars great pasta taste and feel but the ...   \n",
       "1  okay but do n't like texture the texture just ...   \n",
       "2  go for the green noodles the herb flavor makes...   \n",
       "\n",
       "                                       tokens-joined  \\\n",
       "0  stars great pasta taste feel spell packaged sk...   \n",
       "1  okay like texture texture little strange eat f...   \n",
       "2  green noodles herb flavor makes odd texture sh...   \n",
       "\n",
       "                                       lemmas-joined target-rating  \n",
       "0   star great pasta taste feel spell package skrong          None  \n",
       "1  okay like texture texture little strange eat f...          None  \n",
       "2  green noodle herb flavor make odd texture shir...          High  "
      ]
     },
     "execution_count": 23,
     "metadata": {},
     "output_type": "execute_result"
    }
   ],
   "source": [
    "df.head(3)"
   ]
  },
  {
   "cell_type": "code",
   "execution_count": 24,
   "id": "3d67a023-ccba-42a7-8d58-dd25c942ac4f",
   "metadata": {
    "execution": {
     "iopub.execute_input": "2024-02-13T01:38:33.819342Z",
     "iopub.status.busy": "2024-02-13T01:38:33.819212Z",
     "iopub.status.idle": "2024-02-13T01:38:33.822036Z",
     "shell.execute_reply": "2024-02-13T01:38:33.821713Z",
     "shell.execute_reply.started": "2024-02-13T01:38:33.819330Z"
    }
   },
   "outputs": [
    {
     "data": {
      "text/plain": [
       "'data/processed/processed-reviews-with-target.json'"
      ]
     },
     "execution_count": 24,
     "metadata": {},
     "output_type": "execute_result"
    }
   ],
   "source": [
    "# Save the df with target columns\n",
    "fpath_out_ml_with_targets =  FPATHS['data']['processed-nlp']['processed-reviews-with-target_json']\n",
    "fpath_out_ml_with_targets"
   ]
  },
  {
   "cell_type": "code",
   "execution_count": 25,
   "id": "924d01ba-c91f-44cc-8352-1bebe5cdf7d3",
   "metadata": {
    "execution": {
     "iopub.execute_input": "2024-02-13T01:38:33.828922Z",
     "iopub.status.busy": "2024-02-13T01:38:33.828565Z",
     "iopub.status.idle": "2024-02-13T01:38:33.832116Z",
     "shell.execute_reply": "2024-02-13T01:38:33.831512Z",
     "shell.execute_reply.started": "2024-02-13T01:38:33.828903Z"
    }
   },
   "outputs": [
    {
     "data": {
      "text/plain": [
       "{'processed-reviews-spacy_json': 'data/processed/processed-reviews.json',\n",
       " 'processed-reviews-spacy_joblib': 'data/processed/processed-reviews.joblib',\n",
       " 'processed-reviews-with-target_json': 'data/processed/processed-reviews-with-target.json',\n",
       " 'processed-reviews-with-target_joblib': 'data/processed/processed-reviews-with-target.joblib'}"
      ]
     },
     "execution_count": 25,
     "metadata": {},
     "output_type": "execute_result"
    }
   ],
   "source": [
    "FPATHS['data']['processed-nlp']"
   ]
  },
  {
   "cell_type": "code",
   "execution_count": 26,
   "id": "5509ae84-6671-43cb-b300-052f30110cf7",
   "metadata": {
    "execution": {
     "iopub.execute_input": "2024-02-13T01:38:33.832680Z",
     "iopub.status.busy": "2024-02-13T01:38:33.832574Z",
     "iopub.status.idle": "2024-02-13T01:38:33.876875Z",
     "shell.execute_reply": "2024-02-13T01:38:33.876503Z",
     "shell.execute_reply.started": "2024-02-13T01:38:33.832671Z"
    }
   },
   "outputs": [],
   "source": [
    "# Save to json\n",
    "df.to_json(fpath_out_ml_with_targets)"
   ]
  },
  {
   "cell_type": "code",
   "execution_count": 27,
   "id": "4997f0a6-1ecb-48f7-a83b-b302052c5cbc",
   "metadata": {
    "execution": {
     "iopub.execute_input": "2024-02-13T01:38:33.877566Z",
     "iopub.status.busy": "2024-02-13T01:38:33.877468Z",
     "iopub.status.idle": "2024-02-13T01:38:33.955604Z",
     "shell.execute_reply": "2024-02-13T01:38:33.955281Z",
     "shell.execute_reply.started": "2024-02-13T01:38:33.877557Z"
    }
   },
   "outputs": [
    {
     "data": {
      "text/html": [
       "<div>\n",
       "<style scoped>\n",
       "    .dataframe tbody tr th:only-of-type {\n",
       "        vertical-align: middle;\n",
       "    }\n",
       "\n",
       "    .dataframe tbody tr th {\n",
       "        vertical-align: top;\n",
       "    }\n",
       "\n",
       "    .dataframe thead th {\n",
       "        text-align: right;\n",
       "    }\n",
       "</style>\n",
       "<table border=\"1\" class=\"dataframe\">\n",
       "  <thead>\n",
       "    <tr style=\"text-align: right;\">\n",
       "      <th></th>\n",
       "      <th>asin</th>\n",
       "      <th>reviewerID</th>\n",
       "      <th>reviewText</th>\n",
       "      <th>summary</th>\n",
       "      <th>overall</th>\n",
       "      <th>year</th>\n",
       "      <th>title</th>\n",
       "      <th>brand</th>\n",
       "      <th>category</th>\n",
       "      <th>review-text-full</th>\n",
       "      <th>review-text-full_raw</th>\n",
       "      <th>tokens-dirty</th>\n",
       "      <th>tokens</th>\n",
       "      <th>lemmas</th>\n",
       "      <th>tokens-dirty-joined</th>\n",
       "      <th>tokens-joined</th>\n",
       "      <th>lemmas-joined</th>\n",
       "      <th>target-rating</th>\n",
       "    </tr>\n",
       "  </thead>\n",
       "  <tbody>\n",
       "    <tr>\n",
       "      <th>0</th>\n",
       "      <td>B007JINB0W</td>\n",
       "      <td>A3Y51NV9HU5T2</td>\n",
       "      <td>Great pasta taste and feel, but the spell in t...</td>\n",
       "      <td>Four Stars</td>\n",
       "      <td>4</td>\n",
       "      <td>2018</td>\n",
       "      <td>Miracle Noodle Zero Carb, Gluten Free Shiratak...</td>\n",
       "      <td>Miracle Noodle</td>\n",
       "      <td>Grocery &amp; Gourmet Food; Pasta &amp; Noodles; Noodl...</td>\n",
       "      <td>Four Stars: Great pasta taste and feel, but th...</td>\n",
       "      <td>Four Stars: Great pasta taste and feel, but th...</td>\n",
       "      <td>[four, stars, great, pasta, taste, and, feel, ...</td>\n",
       "      <td>[stars, great, pasta, taste, feel, spell, pack...</td>\n",
       "      <td>[star, great, pasta, taste, feel, spell, packa...</td>\n",
       "      <td>four stars great pasta taste and feel but the ...</td>\n",
       "      <td>stars great pasta taste feel spell packaged sk...</td>\n",
       "      <td>star great pasta taste feel spell package skrong</td>\n",
       "      <td>None</td>\n",
       "    </tr>\n",
       "    <tr>\n",
       "      <th>1</th>\n",
       "      <td>B007JINB0W</td>\n",
       "      <td>A3D7EFSRC6Y9MP</td>\n",
       "      <td>The texture just made it a little strange to e...</td>\n",
       "      <td>Okay but don't like texture</td>\n",
       "      <td>3</td>\n",
       "      <td>2014</td>\n",
       "      <td>Miracle Noodle Zero Carb, Gluten Free Shiratak...</td>\n",
       "      <td>Miracle Noodle</td>\n",
       "      <td>Grocery &amp; Gourmet Food; Pasta &amp; Noodles; Noodl...</td>\n",
       "      <td>Okay but don't like texture: The texture just ...</td>\n",
       "      <td>Okay but don't like texture: The texture just ...</td>\n",
       "      <td>[okay, but, do, n't, like, texture, the, textu...</td>\n",
       "      <td>[okay, like, texture, texture, little, strange...</td>\n",
       "      <td>[okay, like, texture, texture, little, strange...</td>\n",
       "      <td>okay but do n't like texture the texture just ...</td>\n",
       "      <td>okay like texture texture little strange eat f...</td>\n",
       "      <td>okay like texture texture little strange eat f...</td>\n",
       "      <td>None</td>\n",
       "    </tr>\n",
       "    <tr>\n",
       "      <th>2</th>\n",
       "      <td>B007JINB0W</td>\n",
       "      <td>A4AM5KBP3I2R</td>\n",
       "      <td>The herb flavor makes the odd texture of shira...</td>\n",
       "      <td>Go for the green noodles</td>\n",
       "      <td>5</td>\n",
       "      <td>2018</td>\n",
       "      <td>Miracle Noodle Zero Carb, Gluten Free Shiratak...</td>\n",
       "      <td>Miracle Noodle</td>\n",
       "      <td>Grocery &amp; Gourmet Food; Pasta &amp; Noodles; Noodl...</td>\n",
       "      <td>Go for the green noodles: The herb flavor make...</td>\n",
       "      <td>Go for the green noodles: The herb flavor make...</td>\n",
       "      <td>[go, for, the, green, noodles, the, herb, flav...</td>\n",
       "      <td>[green, noodles, herb, flavor, makes, odd, tex...</td>\n",
       "      <td>[green, noodle, herb, flavor, make, odd, textu...</td>\n",
       "      <td>go for the green noodles the herb flavor makes...</td>\n",
       "      <td>green noodles herb flavor makes odd texture sh...</td>\n",
       "      <td>green noodle herb flavor make odd texture shir...</td>\n",
       "      <td>High</td>\n",
       "    </tr>\n",
       "    <tr>\n",
       "      <th>3</th>\n",
       "      <td>B007JINB0W</td>\n",
       "      <td>A3GHK4IL78DB7Y</td>\n",
       "      <td>I didn't have a problem at all with a half fil...</td>\n",
       "      <td>Its an awesome substitute.</td>\n",
       "      <td>5</td>\n",
       "      <td>2018</td>\n",
       "      <td>Miracle Noodle Zero Carb, Gluten Free Shiratak...</td>\n",
       "      <td>Miracle Noodle</td>\n",
       "      <td>Grocery &amp; Gourmet Food; Pasta &amp; Noodles; Noodl...</td>\n",
       "      <td>Its an awesome substitute.: I didn't have a pr...</td>\n",
       "      <td>Its an awesome substitute.: I didn't have a pr...</td>\n",
       "      <td>[its, an, awesome, substitute, i, did, n't, ha...</td>\n",
       "      <td>[awesome, substitute, problem, half, filled, b...</td>\n",
       "      <td>[awesome, substitute, problem, half, fill, bag...</td>\n",
       "      <td>its an awesome substitute i did n't have a pro...</td>\n",
       "      <td>awesome substitute problem half filled bag use...</td>\n",
       "      <td>awesome substitute problem half fill bag user ...</td>\n",
       "      <td>High</td>\n",
       "    </tr>\n",
       "    <tr>\n",
       "      <th>4</th>\n",
       "      <td>B007JINB0W</td>\n",
       "      <td>AH3B94LQOPPY6</td>\n",
       "      <td>They taste like whatever you cook them with.</td>\n",
       "      <td>Five Stars</td>\n",
       "      <td>5</td>\n",
       "      <td>2016</td>\n",
       "      <td>Miracle Noodle Zero Carb, Gluten Free Shiratak...</td>\n",
       "      <td>Miracle Noodle</td>\n",
       "      <td>Grocery &amp; Gourmet Food; Pasta &amp; Noodles; Noodl...</td>\n",
       "      <td>Five Stars: They taste like whatever you cook ...</td>\n",
       "      <td>Five Stars: They taste like whatever you cook ...</td>\n",
       "      <td>[five, stars, they, taste, like, whatever, you...</td>\n",
       "      <td>[stars, taste, like, cook]</td>\n",
       "      <td>[star, taste, like, cook]</td>\n",
       "      <td>five stars they taste like whatever you cook t...</td>\n",
       "      <td>stars taste like cook</td>\n",
       "      <td>star taste like cook</td>\n",
       "      <td>High</td>\n",
       "    </tr>\n",
       "    <tr>\n",
       "      <th>...</th>\n",
       "      <td>...</td>\n",
       "      <td>...</td>\n",
       "      <td>...</td>\n",
       "      <td>...</td>\n",
       "      <td>...</td>\n",
       "      <td>...</td>\n",
       "      <td>...</td>\n",
       "      <td>...</td>\n",
       "      <td>...</td>\n",
       "      <td>...</td>\n",
       "      <td>...</td>\n",
       "      <td>...</td>\n",
       "      <td>...</td>\n",
       "      <td>...</td>\n",
       "      <td>...</td>\n",
       "      <td>...</td>\n",
       "      <td>...</td>\n",
       "      <td>...</td>\n",
       "    </tr>\n",
       "    <tr>\n",
       "      <th>4358</th>\n",
       "      <td>B007JINB0W</td>\n",
       "      <td>A73IG1ED6S0JR</td>\n",
       "      <td>Product arrived with two of the bags punctured...</td>\n",
       "      <td>would not recomend</td>\n",
       "      <td>1</td>\n",
       "      <td>2016</td>\n",
       "      <td>Miracle Noodle Zero Carb, Gluten Free Shiratak...</td>\n",
       "      <td>Miracle Noodle</td>\n",
       "      <td>Grocery &amp; Gourmet Food; Pasta &amp; Noodles; Noodl...</td>\n",
       "      <td>would not recomend: Product arrived with two o...</td>\n",
       "      <td>would not recomend: Product arrived with two o...</td>\n",
       "      <td>[would, not, recomend, product, arrived, with,...</td>\n",
       "      <td>[recomend, product, arrived, bags, punctured, ...</td>\n",
       "      <td>[recomend, product, arrive, bag, puncture, sme...</td>\n",
       "      <td>would not recomend product arrived with two of...</td>\n",
       "      <td>recomend product arrived bags punctured smells...</td>\n",
       "      <td>recomend product arrive bag puncture smell bad</td>\n",
       "      <td>Low</td>\n",
       "    </tr>\n",
       "    <tr>\n",
       "      <th>4359</th>\n",
       "      <td>B007JINB0W</td>\n",
       "      <td>A1XZ2H0MYG54M0</td>\n",
       "      <td>Ok.</td>\n",
       "      <td>Five Stars</td>\n",
       "      <td>5</td>\n",
       "      <td>2016</td>\n",
       "      <td>Miracle Noodle Zero Carb, Gluten Free Shiratak...</td>\n",
       "      <td>Miracle Noodle</td>\n",
       "      <td>Grocery &amp; Gourmet Food; Pasta &amp; Noodles; Noodl...</td>\n",
       "      <td>Five Stars: Ok.</td>\n",
       "      <td>Five Stars: Ok.</td>\n",
       "      <td>[five, stars, ok]</td>\n",
       "      <td>[stars, ok]</td>\n",
       "      <td>[star, ok]</td>\n",
       "      <td>five stars ok</td>\n",
       "      <td>stars ok</td>\n",
       "      <td>star ok</td>\n",
       "      <td>High</td>\n",
       "    </tr>\n",
       "    <tr>\n",
       "      <th>4360</th>\n",
       "      <td>B007JINB0W</td>\n",
       "      <td>A3I2YF0MXB7P0B</td>\n",
       "      <td>I like these noodles but the spinach ones just...</td>\n",
       "      <td>Not awful, but now I know why these were on sale.</td>\n",
       "      <td>2</td>\n",
       "      <td>2013</td>\n",
       "      <td>Miracle Noodle Zero Carb, Gluten Free Shiratak...</td>\n",
       "      <td>Miracle Noodle</td>\n",
       "      <td>Grocery &amp; Gourmet Food; Pasta &amp; Noodles; Noodl...</td>\n",
       "      <td>Not awful, but now I know why these were on sa...</td>\n",
       "      <td>Not awful, but now I know why these were on sa...</td>\n",
       "      <td>[not, awful, but, now, i, know, why, these, we...</td>\n",
       "      <td>[awful, know, sale, like, noodles, spinach, on...</td>\n",
       "      <td>[awful, know, sale, like, noodle, spinach, one...</td>\n",
       "      <td>not awful but now i know why these were on sal...</td>\n",
       "      <td>awful know sale like noodles spinach ones tast...</td>\n",
       "      <td>awful know sale like noodle spinach one taste ...</td>\n",
       "      <td>Low</td>\n",
       "    </tr>\n",
       "    <tr>\n",
       "      <th>4361</th>\n",
       "      <td>B007JINB0W</td>\n",
       "      <td>A2UELLFLITPMT1</td>\n",
       "      <td>Truly horrific. Like eating dead worms.</td>\n",
       "      <td>Don't even try it.</td>\n",
       "      <td>1</td>\n",
       "      <td>2017</td>\n",
       "      <td>Miracle Noodle Zero Carb, Gluten Free Shiratak...</td>\n",
       "      <td>Miracle Noodle</td>\n",
       "      <td>Grocery &amp; Gourmet Food; Pasta &amp; Noodles; Noodl...</td>\n",
       "      <td>Don't even try it.: Truly horrific. Like eatin...</td>\n",
       "      <td>Don't even try it.: Truly horrific. Like eatin...</td>\n",
       "      <td>[do, n't, even, try, it, truly, horrific, like...</td>\n",
       "      <td>[try, truly, horrific, like, eating, dead, worms]</td>\n",
       "      <td>[try, truly, horrific, like, eat, dead, worm]</td>\n",
       "      <td>do n't even try it truly horrific like eating ...</td>\n",
       "      <td>try truly horrific like eating dead worms</td>\n",
       "      <td>try truly horrific like eat dead worm</td>\n",
       "      <td>Low</td>\n",
       "    </tr>\n",
       "    <tr>\n",
       "      <th>4362</th>\n",
       "      <td>B007JINB0W</td>\n",
       "      <td>A178M2AHNWQZB0</td>\n",
       "      <td>We love the rice noodles, and have problems fi...</td>\n",
       "      <td>As good as all the other Miracle noodle products</td>\n",
       "      <td>5</td>\n",
       "      <td>2017</td>\n",
       "      <td>Miracle Noodle Zero Carb, Gluten Free Shiratak...</td>\n",
       "      <td>Miracle Noodle</td>\n",
       "      <td>Grocery &amp; Gourmet Food; Pasta &amp; Noodles; Noodl...</td>\n",
       "      <td>As good as all the other Miracle noodle produc...</td>\n",
       "      <td>As good as all the other Miracle noodle produc...</td>\n",
       "      <td>[as, good, as, all, the, other, miracle, noodl...</td>\n",
       "      <td>[good, miracle, noodle, products, love, rice, ...</td>\n",
       "      <td>[good, miracle, noodle, product, love, rice, n...</td>\n",
       "      <td>as good as all the other miracle noodle produc...</td>\n",
       "      <td>good miracle noodle products love rice noodles...</td>\n",
       "      <td>good miracle noodle product love rice noodle p...</td>\n",
       "      <td>High</td>\n",
       "    </tr>\n",
       "  </tbody>\n",
       "</table>\n",
       "<p>4363 rows × 18 columns</p>\n",
       "</div>"
      ],
      "text/plain": [
       "            asin      reviewerID  \\\n",
       "0     B007JINB0W   A3Y51NV9HU5T2   \n",
       "1     B007JINB0W  A3D7EFSRC6Y9MP   \n",
       "2     B007JINB0W    A4AM5KBP3I2R   \n",
       "3     B007JINB0W  A3GHK4IL78DB7Y   \n",
       "4     B007JINB0W   AH3B94LQOPPY6   \n",
       "...          ...             ...   \n",
       "4358  B007JINB0W   A73IG1ED6S0JR   \n",
       "4359  B007JINB0W  A1XZ2H0MYG54M0   \n",
       "4360  B007JINB0W  A3I2YF0MXB7P0B   \n",
       "4361  B007JINB0W  A2UELLFLITPMT1   \n",
       "4362  B007JINB0W  A178M2AHNWQZB0   \n",
       "\n",
       "                                             reviewText  \\\n",
       "0     Great pasta taste and feel, but the spell in t...   \n",
       "1     The texture just made it a little strange to e...   \n",
       "2     The herb flavor makes the odd texture of shira...   \n",
       "3     I didn't have a problem at all with a half fil...   \n",
       "4         They taste like whatever you cook them with.    \n",
       "...                                                 ...   \n",
       "4358  Product arrived with two of the bags punctured...   \n",
       "4359                                                Ok.   \n",
       "4360  I like these noodles but the spinach ones just...   \n",
       "4361            Truly horrific. Like eating dead worms.   \n",
       "4362  We love the rice noodles, and have problems fi...   \n",
       "\n",
       "                                                summary  overall  year  \\\n",
       "0                                            Four Stars        4  2018   \n",
       "1                           Okay but don't like texture        3  2014   \n",
       "2                              Go for the green noodles        5  2018   \n",
       "3                            Its an awesome substitute.        5  2018   \n",
       "4                                            Five Stars        5  2016   \n",
       "...                                                 ...      ...   ...   \n",
       "4358                                 would not recomend        1  2016   \n",
       "4359                                         Five Stars        5  2016   \n",
       "4360  Not awful, but now I know why these were on sale.        2  2013   \n",
       "4361                                 Don't even try it.        1  2017   \n",
       "4362   As good as all the other Miracle noodle products        5  2017   \n",
       "\n",
       "                                                  title           brand  \\\n",
       "0     Miracle Noodle Zero Carb, Gluten Free Shiratak...  Miracle Noodle   \n",
       "1     Miracle Noodle Zero Carb, Gluten Free Shiratak...  Miracle Noodle   \n",
       "2     Miracle Noodle Zero Carb, Gluten Free Shiratak...  Miracle Noodle   \n",
       "3     Miracle Noodle Zero Carb, Gluten Free Shiratak...  Miracle Noodle   \n",
       "4     Miracle Noodle Zero Carb, Gluten Free Shiratak...  Miracle Noodle   \n",
       "...                                                 ...             ...   \n",
       "4358  Miracle Noodle Zero Carb, Gluten Free Shiratak...  Miracle Noodle   \n",
       "4359  Miracle Noodle Zero Carb, Gluten Free Shiratak...  Miracle Noodle   \n",
       "4360  Miracle Noodle Zero Carb, Gluten Free Shiratak...  Miracle Noodle   \n",
       "4361  Miracle Noodle Zero Carb, Gluten Free Shiratak...  Miracle Noodle   \n",
       "4362  Miracle Noodle Zero Carb, Gluten Free Shiratak...  Miracle Noodle   \n",
       "\n",
       "                                               category  \\\n",
       "0     Grocery & Gourmet Food; Pasta & Noodles; Noodl...   \n",
       "1     Grocery & Gourmet Food; Pasta & Noodles; Noodl...   \n",
       "2     Grocery & Gourmet Food; Pasta & Noodles; Noodl...   \n",
       "3     Grocery & Gourmet Food; Pasta & Noodles; Noodl...   \n",
       "4     Grocery & Gourmet Food; Pasta & Noodles; Noodl...   \n",
       "...                                                 ...   \n",
       "4358  Grocery & Gourmet Food; Pasta & Noodles; Noodl...   \n",
       "4359  Grocery & Gourmet Food; Pasta & Noodles; Noodl...   \n",
       "4360  Grocery & Gourmet Food; Pasta & Noodles; Noodl...   \n",
       "4361  Grocery & Gourmet Food; Pasta & Noodles; Noodl...   \n",
       "4362  Grocery & Gourmet Food; Pasta & Noodles; Noodl...   \n",
       "\n",
       "                                       review-text-full  \\\n",
       "0     Four Stars: Great pasta taste and feel, but th...   \n",
       "1     Okay but don't like texture: The texture just ...   \n",
       "2     Go for the green noodles: The herb flavor make...   \n",
       "3     Its an awesome substitute.: I didn't have a pr...   \n",
       "4     Five Stars: They taste like whatever you cook ...   \n",
       "...                                                 ...   \n",
       "4358  would not recomend: Product arrived with two o...   \n",
       "4359                                    Five Stars: Ok.   \n",
       "4360  Not awful, but now I know why these were on sa...   \n",
       "4361  Don't even try it.: Truly horrific. Like eatin...   \n",
       "4362  As good as all the other Miracle noodle produc...   \n",
       "\n",
       "                                   review-text-full_raw  \\\n",
       "0     Four Stars: Great pasta taste and feel, but th...   \n",
       "1     Okay but don't like texture: The texture just ...   \n",
       "2     Go for the green noodles: The herb flavor make...   \n",
       "3     Its an awesome substitute.: I didn't have a pr...   \n",
       "4     Five Stars: They taste like whatever you cook ...   \n",
       "...                                                 ...   \n",
       "4358  would not recomend: Product arrived with two o...   \n",
       "4359                                    Five Stars: Ok.   \n",
       "4360  Not awful, but now I know why these were on sa...   \n",
       "4361  Don't even try it.: Truly horrific. Like eatin...   \n",
       "4362  As good as all the other Miracle noodle produc...   \n",
       "\n",
       "                                           tokens-dirty  \\\n",
       "0     [four, stars, great, pasta, taste, and, feel, ...   \n",
       "1     [okay, but, do, n't, like, texture, the, textu...   \n",
       "2     [go, for, the, green, noodles, the, herb, flav...   \n",
       "3     [its, an, awesome, substitute, i, did, n't, ha...   \n",
       "4     [five, stars, they, taste, like, whatever, you...   \n",
       "...                                                 ...   \n",
       "4358  [would, not, recomend, product, arrived, with,...   \n",
       "4359                                  [five, stars, ok]   \n",
       "4360  [not, awful, but, now, i, know, why, these, we...   \n",
       "4361  [do, n't, even, try, it, truly, horrific, like...   \n",
       "4362  [as, good, as, all, the, other, miracle, noodl...   \n",
       "\n",
       "                                                 tokens  \\\n",
       "0     [stars, great, pasta, taste, feel, spell, pack...   \n",
       "1     [okay, like, texture, texture, little, strange...   \n",
       "2     [green, noodles, herb, flavor, makes, odd, tex...   \n",
       "3     [awesome, substitute, problem, half, filled, b...   \n",
       "4                            [stars, taste, like, cook]   \n",
       "...                                                 ...   \n",
       "4358  [recomend, product, arrived, bags, punctured, ...   \n",
       "4359                                        [stars, ok]   \n",
       "4360  [awful, know, sale, like, noodles, spinach, on...   \n",
       "4361  [try, truly, horrific, like, eating, dead, worms]   \n",
       "4362  [good, miracle, noodle, products, love, rice, ...   \n",
       "\n",
       "                                                 lemmas  \\\n",
       "0     [star, great, pasta, taste, feel, spell, packa...   \n",
       "1     [okay, like, texture, texture, little, strange...   \n",
       "2     [green, noodle, herb, flavor, make, odd, textu...   \n",
       "3     [awesome, substitute, problem, half, fill, bag...   \n",
       "4                             [star, taste, like, cook]   \n",
       "...                                                 ...   \n",
       "4358  [recomend, product, arrive, bag, puncture, sme...   \n",
       "4359                                         [star, ok]   \n",
       "4360  [awful, know, sale, like, noodle, spinach, one...   \n",
       "4361      [try, truly, horrific, like, eat, dead, worm]   \n",
       "4362  [good, miracle, noodle, product, love, rice, n...   \n",
       "\n",
       "                                    tokens-dirty-joined  \\\n",
       "0     four stars great pasta taste and feel but the ...   \n",
       "1     okay but do n't like texture the texture just ...   \n",
       "2     go for the green noodles the herb flavor makes...   \n",
       "3     its an awesome substitute i did n't have a pro...   \n",
       "4     five stars they taste like whatever you cook t...   \n",
       "...                                                 ...   \n",
       "4358  would not recomend product arrived with two of...   \n",
       "4359                                      five stars ok   \n",
       "4360  not awful but now i know why these were on sal...   \n",
       "4361  do n't even try it truly horrific like eating ...   \n",
       "4362  as good as all the other miracle noodle produc...   \n",
       "\n",
       "                                          tokens-joined  \\\n",
       "0     stars great pasta taste feel spell packaged sk...   \n",
       "1     okay like texture texture little strange eat f...   \n",
       "2     green noodles herb flavor makes odd texture sh...   \n",
       "3     awesome substitute problem half filled bag use...   \n",
       "4                                 stars taste like cook   \n",
       "...                                                 ...   \n",
       "4358  recomend product arrived bags punctured smells...   \n",
       "4359                                           stars ok   \n",
       "4360  awful know sale like noodles spinach ones tast...   \n",
       "4361          try truly horrific like eating dead worms   \n",
       "4362  good miracle noodle products love rice noodles...   \n",
       "\n",
       "                                          lemmas-joined target-rating  \n",
       "0      star great pasta taste feel spell package skrong          None  \n",
       "1     okay like texture texture little strange eat f...          None  \n",
       "2     green noodle herb flavor make odd texture shir...          High  \n",
       "3     awesome substitute problem half fill bag user ...          High  \n",
       "4                                  star taste like cook          High  \n",
       "...                                                 ...           ...  \n",
       "4358     recomend product arrive bag puncture smell bad           Low  \n",
       "4359                                            star ok          High  \n",
       "4360  awful know sale like noodle spinach one taste ...           Low  \n",
       "4361              try truly horrific like eat dead worm           Low  \n",
       "4362  good miracle noodle product love rice noodle p...          High  \n",
       "\n",
       "[4363 rows x 18 columns]"
      ]
     },
     "execution_count": 27,
     "metadata": {},
     "output_type": "execute_result"
    }
   ],
   "source": [
    "# Test saved json file\n",
    "pd.read_json(fpath_out_ml_with_targets)"
   ]
  },
  {
   "cell_type": "code",
   "execution_count": 28,
   "id": "640d3f17-f104-44a5-babf-b9228291eb08",
   "metadata": {
    "execution": {
     "iopub.execute_input": "2024-02-13T01:38:33.956120Z",
     "iopub.status.busy": "2024-02-13T01:38:33.956029Z",
     "iopub.status.idle": "2024-02-13T01:38:33.958760Z",
     "shell.execute_reply": "2024-02-13T01:38:33.958459Z",
     "shell.execute_reply.started": "2024-02-13T01:38:33.956111Z"
    }
   },
   "outputs": [
    {
     "data": {
      "text/plain": [
       "'data/processed/processed-reviews-with-target.joblib'"
      ]
     },
     "execution_count": 28,
     "metadata": {},
     "output_type": "execute_result"
    }
   ],
   "source": [
    "FPATHS['data']['processed-nlp']['processed-reviews-with-target_joblib']"
   ]
  },
  {
   "cell_type": "code",
   "execution_count": 29,
   "id": "46b07bdf-fc59-4d18-8339-e0d6a514c69b",
   "metadata": {
    "execution": {
     "iopub.execute_input": "2024-02-13T01:38:33.959465Z",
     "iopub.status.busy": "2024-02-13T01:38:33.959354Z",
     "iopub.status.idle": "2024-02-13T01:38:36.345844Z",
     "shell.execute_reply": "2024-02-13T01:38:36.345486Z",
     "shell.execute_reply.started": "2024-02-13T01:38:33.959456Z"
    },
    "scrolled": true
   },
   "outputs": [
    {
     "data": {
      "text/plain": [
       "['data/processed/processed-reviews-with-target.joblib']"
      ]
     },
     "execution_count": 29,
     "metadata": {},
     "output_type": "execute_result"
    }
   ],
   "source": [
    "import joblib\n",
    "joblib.dump(df, FPATHS['data']['processed-nlp']['processed-reviews-with-target_joblib'],compress=9)"
   ]
  },
  {
   "cell_type": "code",
   "execution_count": 30,
   "id": "d4e9ee2f-d518-4926-b2ed-a4078b2b43d3",
   "metadata": {
    "execution": {
     "iopub.execute_input": "2024-02-13T01:38:36.346988Z",
     "iopub.status.busy": "2024-02-13T01:38:36.346809Z",
     "iopub.status.idle": "2024-02-13T01:38:36.354251Z",
     "shell.execute_reply": "2024-02-13T01:38:36.353896Z",
     "shell.execute_reply.started": "2024-02-13T01:38:36.346977Z"
    }
   },
   "outputs": [
    {
     "data": {
      "text/html": [
       "<div>\n",
       "<style scoped>\n",
       "    .dataframe tbody tr th:only-of-type {\n",
       "        vertical-align: middle;\n",
       "    }\n",
       "\n",
       "    .dataframe tbody tr th {\n",
       "        vertical-align: top;\n",
       "    }\n",
       "\n",
       "    .dataframe thead th {\n",
       "        text-align: right;\n",
       "    }\n",
       "</style>\n",
       "<table border=\"1\" class=\"dataframe\">\n",
       "  <thead>\n",
       "    <tr style=\"text-align: right;\">\n",
       "      <th></th>\n",
       "      <th>reviewerID</th>\n",
       "      <th>review-text-full</th>\n",
       "      <th>overall</th>\n",
       "      <th>target-rating</th>\n",
       "    </tr>\n",
       "  </thead>\n",
       "  <tbody>\n",
       "    <tr>\n",
       "      <th>0</th>\n",
       "      <td>A3Y51NV9HU5T2</td>\n",
       "      <td>Four Stars: Great pasta taste and feel, but th...</td>\n",
       "      <td>4</td>\n",
       "      <td>None</td>\n",
       "    </tr>\n",
       "    <tr>\n",
       "      <th>1</th>\n",
       "      <td>A3D7EFSRC6Y9MP</td>\n",
       "      <td>Okay but don't like texture: The texture just ...</td>\n",
       "      <td>3</td>\n",
       "      <td>None</td>\n",
       "    </tr>\n",
       "    <tr>\n",
       "      <th>2</th>\n",
       "      <td>A4AM5KBP3I2R</td>\n",
       "      <td>Go for the green noodles: The herb flavor make...</td>\n",
       "      <td>5</td>\n",
       "      <td>High</td>\n",
       "    </tr>\n",
       "    <tr>\n",
       "      <th>3</th>\n",
       "      <td>A3GHK4IL78DB7Y</td>\n",
       "      <td>Its an awesome substitute.: I didn't have a pr...</td>\n",
       "      <td>5</td>\n",
       "      <td>High</td>\n",
       "    </tr>\n",
       "    <tr>\n",
       "      <th>4</th>\n",
       "      <td>AH3B94LQOPPY6</td>\n",
       "      <td>Five Stars: They taste like whatever you cook ...</td>\n",
       "      <td>5</td>\n",
       "      <td>High</td>\n",
       "    </tr>\n",
       "    <tr>\n",
       "      <th>...</th>\n",
       "      <td>...</td>\n",
       "      <td>...</td>\n",
       "      <td>...</td>\n",
       "      <td>...</td>\n",
       "    </tr>\n",
       "    <tr>\n",
       "      <th>4358</th>\n",
       "      <td>A73IG1ED6S0JR</td>\n",
       "      <td>would not recomend: Product arrived with two o...</td>\n",
       "      <td>1</td>\n",
       "      <td>Low</td>\n",
       "    </tr>\n",
       "    <tr>\n",
       "      <th>4359</th>\n",
       "      <td>A1XZ2H0MYG54M0</td>\n",
       "      <td>Five Stars: Ok.</td>\n",
       "      <td>5</td>\n",
       "      <td>High</td>\n",
       "    </tr>\n",
       "    <tr>\n",
       "      <th>4360</th>\n",
       "      <td>A3I2YF0MXB7P0B</td>\n",
       "      <td>Not awful, but now I know why these were on sa...</td>\n",
       "      <td>2</td>\n",
       "      <td>Low</td>\n",
       "    </tr>\n",
       "    <tr>\n",
       "      <th>4361</th>\n",
       "      <td>A2UELLFLITPMT1</td>\n",
       "      <td>Don't even try it.: Truly horrific. Like eatin...</td>\n",
       "      <td>1</td>\n",
       "      <td>Low</td>\n",
       "    </tr>\n",
       "    <tr>\n",
       "      <th>4362</th>\n",
       "      <td>A178M2AHNWQZB0</td>\n",
       "      <td>As good as all the other Miracle noodle produc...</td>\n",
       "      <td>5</td>\n",
       "      <td>High</td>\n",
       "    </tr>\n",
       "  </tbody>\n",
       "</table>\n",
       "<p>4363 rows × 4 columns</p>\n",
       "</div>"
      ],
      "text/plain": [
       "          reviewerID                                   review-text-full  \\\n",
       "0      A3Y51NV9HU5T2  Four Stars: Great pasta taste and feel, but th...   \n",
       "1     A3D7EFSRC6Y9MP  Okay but don't like texture: The texture just ...   \n",
       "2       A4AM5KBP3I2R  Go for the green noodles: The herb flavor make...   \n",
       "3     A3GHK4IL78DB7Y  Its an awesome substitute.: I didn't have a pr...   \n",
       "4      AH3B94LQOPPY6  Five Stars: They taste like whatever you cook ...   \n",
       "...              ...                                                ...   \n",
       "4358   A73IG1ED6S0JR  would not recomend: Product arrived with two o...   \n",
       "4359  A1XZ2H0MYG54M0                                    Five Stars: Ok.   \n",
       "4360  A3I2YF0MXB7P0B  Not awful, but now I know why these were on sa...   \n",
       "4361  A2UELLFLITPMT1  Don't even try it.: Truly horrific. Like eatin...   \n",
       "4362  A178M2AHNWQZB0  As good as all the other Miracle noodle produc...   \n",
       "\n",
       "      overall target-rating  \n",
       "0           4          None  \n",
       "1           3          None  \n",
       "2           5          High  \n",
       "3           5          High  \n",
       "4           5          High  \n",
       "...       ...           ...  \n",
       "4358        1           Low  \n",
       "4359        5          High  \n",
       "4360        2           Low  \n",
       "4361        1           Low  \n",
       "4362        5          High  \n",
       "\n",
       "[4363 rows x 4 columns]"
      ]
     },
     "execution_count": 30,
     "metadata": {},
     "output_type": "execute_result"
    }
   ],
   "source": [
    "# Saving MVP test case \n",
    "mvp_cols = ['reviewerID','review-text-full',\n",
    "            'overall',\n",
    "            'target-rating']\n",
    "df[mvp_cols]"
   ]
  },
  {
   "cell_type": "code",
   "execution_count": 31,
   "id": "a4915397-a737-4195-af76-b4859c14baf4",
   "metadata": {
    "execution": {
     "iopub.execute_input": "2024-02-13T01:38:36.355111Z",
     "iopub.status.busy": "2024-02-13T01:38:36.354928Z",
     "iopub.status.idle": "2024-02-13T01:38:36.384440Z",
     "shell.execute_reply": "2024-02-13T01:38:36.384061Z",
     "shell.execute_reply.started": "2024-02-13T01:38:36.355095Z"
    }
   },
   "outputs": [],
   "source": [
    "fpath_llm = FPATHS['data']['app']['reviews-with-target-for-llm_csv']\n",
    "df[mvp_cols].to_csv(fpath_llm, index=False)"
   ]
  },
  {
   "cell_type": "markdown",
   "id": "c95e30c6-a531-4582-a8f8-621be53d8917",
   "metadata": {},
   "source": [
    "# Part 2) EDA and Visualization"
   ]
  },
  {
   "cell_type": "markdown",
   "id": "d3b011c1-3106-42ca-aa16-240d4306a2aa",
   "metadata": {},
   "source": [
    "**2) EDA and Visualization:**\n",
    "\n",
    "- Create word clouds to visualize the most frequent and significant words in each group.\n",
    "    - Remember, you can use this analysis to identify additional custom EDA stop words to use for visualization. (e.g., if the words are common in both groups)\n",
    "    - **Save your wordclouds as .png files in the \"Images/\" folder in your repo.**\n",
    "\n",
    "\n",
    "\n",
    "- Apply nltk's `FreqDist` class to compare the frequency distribution of words in the review groups.\n",
    "    - Remember, you can use this analysis to identify additional custom EDA stop words to use for visualization. (e.g., if the words are common in both groups)\n",
    "    - **Save your freq dist plots as .png files in the \"Images/\" folder in your repo.**\n",
    "\n",
    "\n",
    "\n",
    "- Perform n-grams analysis (bigrams and trigrams),\n",
    "    - Remember, you can use this analysis to identify additional custom stop words to use for EDA. (e.g., if the words are common in both groups)\n",
    "    - Focus on bigrams or trigrams, using NLTK's `BigramCollocationFinder` and BigramAssocMeasures classes (or the Trigram equivalent Finder and Measures) to explore commonly used groups of words for each rating-group.\n",
    "    - Describe any differences. What do these differences tell you?\n",
    "    - `Save your...`?\n",
    "\n",
    "\n",
    "\n",
    "- Perform sentiment analysis to create polarity scores according to VADERS's sentiment lexicon.\n",
    "\n",
    "    - Compare the sentiments of high-rating and low-rating texts.\n",
    "\n",
    "    - Compare the average sentiment scores for high and low-rating reviews.\n",
    "\n",
    "    - Which review polarity scores don't match the ratings? Why do you think this is?\n",
    "\n",
    "        \n",
    "\n",
    "**3) Evaluation and Reporting:**\n",
    "\n",
    "- Based on your analyses, what should someone do (or not do) if they want to make a highly-rated movie?\n",
    "    - List 3 things associated with high-rating reviews\n",
    "    - List 3 things associated with low-rating reviews."
   ]
  },
  {
   "cell_type": "markdown",
   "id": "ebee29ae-1b9b-4d0a-a685-094462a123b4",
   "metadata": {},
   "source": [
    "> Adding imports as-if standalone notebook"
   ]
  },
  {
   "cell_type": "code",
   "execution_count": 32,
   "id": "54bf32a6-73c4-48df-bfd8-a4a69de471c9",
   "metadata": {
    "execution": {
     "iopub.execute_input": "2024-02-13T01:38:36.385198Z",
     "iopub.status.busy": "2024-02-13T01:38:36.385062Z",
     "iopub.status.idle": "2024-02-13T01:38:42.500315Z",
     "shell.execute_reply": "2024-02-13T01:38:42.499725Z",
     "shell.execute_reply.started": "2024-02-13T01:38:36.385186Z"
    }
   },
   "outputs": [],
   "source": [
    "import matplotlib.pyplot as plt\n",
    "import missingno\n",
    "import matplotlib as mpl\n",
    "import seaborn as sns\n",
    "import numpy as np\n",
    "import pandas as pd\n",
    "\n",
    "import spacy\n",
    "# nlp_custom = fn.nlp.make_custom_nlp(disable=['ner','parser'],contractions=[],\n",
    "#                             stopwords_to_add=[\"★\"])\n",
    "# nlp_custom\n",
    "# # Disable parser and ner\n",
    "# # nlp_light = spacy.load(\"en_core_web_sm\", disable=['parser','ner'])"
   ]
  },
  {
   "cell_type": "markdown",
   "id": "eb668e76",
   "metadata": {},
   "source": [
    "## Topic Analysis"
   ]
  },
  {
   "cell_type": "markdown",
   "id": "9d5d07ef",
   "metadata": {},
   "source": [
    "### Introduction to LDA Topic Modeling\n"
   ]
  },
  {
   "cell_type": "markdown",
   "id": "168062c4",
   "metadata": {},
   "source": [
    "\n",
    "Latent Dirichlet Allocation (LDA) is a powerful unsupervised machine learning technique commonly used for topic modeling in natural language processing (NLP). This method helps uncover the underlying topics present within a large collection of documents by identifying patterns in the word usage. \n",
    "\n",
    "#### Why LDA?\n",
    "\n",
    "1. **Identifying Themes**: LDA helps in automatically discovering the hidden thematic structure in a corpus of text. This can be particularly useful for understanding large datasets of textual information without having to manually read through every document.\n",
    "2. **Dimensionality Reduction**: By representing documents as mixtures of topics, LDA effectively reduces the dimensionality of text data, making it easier to analyze and visualize.\n",
    "3. **Informing Decision Making**: Understanding the main topics in customer reviews, articles, or any other textual data can provide valuable insights for decision-making, trend analysis, and strategic planning.\n",
    "\n",
    "#### How LDA Works\n",
    "\n",
    "LDA assumes that each document is a mixture of several topics, and each topic is a mixture of words. The goal is to infer these mixtures from the observed data (i.e., the words in the documents). The key steps involved in applying LDA are:\n",
    "\n",
    "1. **Tokenization**: Breaking down the text into individual words or tokens.\n",
    "2. **Preprocessing**: Cleaning the text data by removing stop words, punctuation, and applying techniques like lemmatization.\n",
    "3. **Modeling**: Using the LDA algorithm to discover the latent topics in the text.\n",
    "4. **Visualization**: Interpreting the results by visualizing the topics and their most relevant terms.\n",
    "\n",
    "In this section, we will apply LDA topic modeling to our dataset of reviews. This involves the following steps:\n",
    "\n",
    "1. **Preprocessing the Text Data**: We will start by cleaning and preparing the text data for analysis.\n",
    "2. **Building the LDA Model**: Using the preprocessed data, we will build an LDA model to uncover the latent topics.\n",
    "3. **Visualizing the Topics**: Finally, we will use interactive visualizations to explore and interpret the discovered topics.\n",
    "\n",
    "By the end of this section, you will have a clear understanding of the main themes present in the reviews and how they contribute to the overall structure of the dataset. This will provide valuable insights that can inform future analysis and decision-making."
   ]
  },
  {
   "cell_type": "code",
   "execution_count": 33,
   "id": "e29ee382",
   "metadata": {},
   "outputs": [
    {
     "data": {
      "text/plain": [
       "<spacy.lang.en.English at 0x326ebecb0>"
      ]
     },
     "execution_count": 33,
     "metadata": {},
     "output_type": "execute_result"
    }
   ],
   "source": [
    "# Loading spacy for preprocess\n",
    "import spacy\n",
    "nlp = spacy.load(\"en_core_web_sm\", disable=['parser','ner'])\n",
    "nlp"
   ]
  },
  {
   "cell_type": "code",
   "execution_count": 73,
   "id": "f6935b76",
   "metadata": {},
   "outputs": [
    {
     "data": {
      "text/plain": [
       "0                                                          Four Stars: Great pasta taste and feel, but the spell in the packaged is SKRONG!\n",
       "1    Okay but don't like texture: The texture just made it a little strange to eat. Otherwise the flavor is okay, very bland so add spices.\n",
       "2                                         Go for the green noodles: The herb flavor makes the odd texture of shirataki much more palatable.\n",
       "Name: review-text-full, dtype: object"
      ]
     },
     "execution_count": 73,
     "metadata": {},
     "output_type": "execute_result"
    }
   ],
   "source": [
    "# Reviewing which column to use \n",
    "df['review-text-full'].head(3)"
   ]
  },
  {
   "cell_type": "code",
   "execution_count": 36,
   "id": "910feb01",
   "metadata": {},
   "outputs": [],
   "source": [
    "def preprocess(text):\n",
    "    \"\"\"\n",
    "    Preprocesses the given text by performing the following steps:\n",
    "    1. If the input is not an instance of `spacy.tokens.Doc`, it is converted to a `Doc` object using `nlp` (assuming `nlp` is defined elsewhere).\n",
    "    2. Lemmatizes each token in the `Doc` object.\n",
    "    3. Removes stop words and tokens with a length less than or equal to 3.\n",
    "    \n",
    "    Args:\n",
    "        text (str or spacy.tokens.Doc): The text to be preprocessed.\n",
    "        \n",
    "    Returns:\n",
    "        list: A list of lemmatized tokens after removing stop words and tokens with a length less than or equal to 3.\n",
    "    \"\"\"\n",
    "    if isinstance(text, spacy.tokens.Doc)==False:\n",
    "        doc = nlp(text)\n",
    "    else:\n",
    "        doc = text\n",
    "    result = [token.lemma_ for token in doc if not token.is_stop and len(token) > 3]\n",
    "    return result"
   ]
  },
  {
   "cell_type": "code",
   "execution_count": 75,
   "id": "4e4fc100",
   "metadata": {},
   "outputs": [
    {
     "name": "stdout",
     "output_type": "stream",
     "text": [
      "len(lemmas)=4363, len(df['review-text-full'])=4363\n"
     ]
    },
    {
     "data": {
      "text/plain": [
       "0                                                                                                                                [star, great, pasta, taste, feel, spell, package, SKRONG]\n",
       "1                                                                                                              [okay, like, texture, texture, little, strange, flavor, okay, bland, spice]\n",
       "2                                                                                                                       [green, noodle, herb, flavor, make, texture, shirataki, palatable]\n",
       "3    [awesome, substitute, problem, half, fill, user, say, concern, take, chance, problem, find, good, initial, smell, boil, cube, bouillon, texture, good, notice, replace, noodle, mind]\n",
       "4                                                                                                                                                                [star, taste, like, cook]\n",
       "Name: lemmas, dtype: object"
      ]
     },
     "execution_count": 75,
     "metadata": {},
     "output_type": "execute_result"
    }
   ],
   "source": [
    "# Preprocess the text\n",
    "lemmas = []\n",
    "for doc in  nlp.pipe(df['review-text-full'], batch_size=100, n_process=-1):\n",
    "    lemmas.append(preprocess(doc))\n",
    "    \n",
    "print(f\"{len(lemmas)=}, {len(df['review-text-full'])=}\")\n",
    "df['lemmas'] = lemmas\n",
    "df['lemmas'].head()"
   ]
  },
  {
   "cell_type": "code",
   "execution_count": null,
   "id": "16a961e0",
   "metadata": {},
   "outputs": [],
   "source": []
  },
  {
   "cell_type": "markdown",
   "id": "7472519e",
   "metadata": {},
   "source": [
    "### Step 3: Prepare the data for LDA\n"
   ]
  },
  {
   "cell_type": "markdown",
   "id": "e3724311",
   "metadata": {},
   "source": [
    "> Needed to install `pip install scipy==1.10.1` due to triu missing from scipy error.\n"
   ]
  },
  {
   "cell_type": "code",
   "execution_count": 40,
   "id": "a28cc018",
   "metadata": {},
   "outputs": [
    {
     "name": "stdout",
     "output_type": "stream",
     "text": [
      "gensim.__version__='4.3.2', scipy.__version__='1.10.1'\n"
     ]
    }
   ],
   "source": [
    "import gensim\n",
    "import  scipy\n",
    "from gensim.models.ldamodel import LdaModel\n",
    "import pyLDAvis.gensim_models as gensimvis\n",
    "import pyLDAvis\n",
    "from gensim import corpora\n",
    "\n",
    "\n",
    "print(f\"{gensim.__version__=}, {scipy.__version__=}\")"
   ]
  },
  {
   "cell_type": "code",
   "execution_count": 41,
   "id": "e4465d30",
   "metadata": {},
   "outputs": [],
   "source": [
    "# Separate group\n",
    "high_reviews = df.loc[df['target-rating']=='High','lemmas']\n",
    "low_reviews = df.loc[df['target-rating']=='Low','lemmas']\n",
    "\n",
    "# Create dictionary and corpus for high-rating reviews\n",
    "high_dictionary = corpora.Dictionary(high_reviews)\n",
    "high_corpus = [high_dictionary.doc2bow(text) for text in high_reviews]\n",
    "\n",
    "# Create dictionary and corpus for low-rating reviews\n",
    "low_dictionary = corpora.Dictionary(low_reviews)\n",
    "low_corpus = [low_dictionary.doc2bow(text) for text in low_reviews]\n"
   ]
  },
  {
   "cell_type": "code",
   "execution_count": 42,
   "id": "da79b72b",
   "metadata": {},
   "outputs": [],
   "source": [
    "# Number of topics\n",
    "num_topics = 5\n",
    "\n",
    "# LDA model for high-rating reviews\n",
    "high_lda = LdaModel(high_corpus, num_topics=num_topics, id2word=high_dictionary, passes=15)\n",
    "\n",
    "# LDA model for low-rating reviews\n",
    "low_lda = LdaModel(low_corpus, num_topics=num_topics, id2word=low_dictionary, passes=15)"
   ]
  },
  {
   "cell_type": "code",
   "execution_count": 43,
   "id": "d6d7f4fe",
   "metadata": {},
   "outputs": [
    {
     "name": "stdout",
     "output_type": "stream",
     "text": [
      "High Rating Reviews Topics:\n",
      "Topic: 0 \n",
      "Words: 0.057*\"noodle\" + 0.021*\"pasta\" + 0.019*\"love\" + 0.018*\"like\" + 0.016*\"sauce\" + 0.013*\"taste\" + 0.012*\"rinse\" + 0.012*\"great\" + 0.011*\"smell\" + 0.011*\"calorie\"\n",
      "Topic: 1 \n",
      "Words: 0.030*\"noodle\" + 0.025*\"like\" + 0.024*\"rice\" + 0.019*\"good\" + 0.018*\"smell\" + 0.017*\"rinse\" + 0.017*\"sauce\" + 0.015*\"pasta\" + 0.014*\"carb\" + 0.013*\"taste\"\n",
      "Topic: 2 \n",
      "Words: 0.010*\"recommend\" + 0.010*\"love\" + 0.008*\"good\" + 0.006*\"pasta\" + 0.006*\"definitely\" + 0.006*\"feel\" + 0.006*\"get\" + 0.006*\"find\" + 0.005*\"thank\" + 0.005*\"help\"\n",
      "Topic: 3 \n",
      "Words: 0.043*\"noodle\" + 0.032*\"carb\" + 0.031*\"pasta\" + 0.030*\"great\" + 0.018*\"love\" + 0.016*\"like\" + 0.014*\"good\" + 0.014*\"rice\" + 0.013*\"diet\" + 0.013*\"taste\"\n",
      "Topic: 4 \n",
      "Words: 0.110*\"star\" + 0.055*\"great\" + 0.043*\"love\" + 0.033*\"product\" + 0.029*\"good\" + 0.026*\"taste\" + 0.011*\"diet\" + 0.009*\"noodle\" + 0.008*\"easy\" + 0.008*\"fast\"\n",
      "Low Rating Reviews Topics:\n",
      "Topic: 0 \n",
      "Words: 0.049*\"noodle\" + 0.024*\"like\" + 0.023*\"smell\" + 0.021*\"texture\" + 0.018*\"taste\" + 0.014*\"good\" + 0.014*\"sauce\" + 0.012*\"cook\" + 0.012*\"rinse\" + 0.012*\"try\"\n",
      "Topic: 1 \n",
      "Words: 0.022*\"good\" + 0.022*\"star\" + 0.017*\"gross\" + 0.017*\"money\" + 0.014*\"noodle\" + 0.014*\"Star\" + 0.013*\"leak\" + 0.012*\"waste\" + 0.011*\"Gross\" + 0.010*\"throw\"\n",
      "Topic: 2 \n",
      "Words: 0.058*\"like\" + 0.035*\"texture\" + 0.028*\"taste\" + 0.025*\"noodle\" + 0.014*\"try\" + 0.014*\"pasta\" + 0.013*\"smell\" + 0.012*\"rubber\" + 0.012*\"product\" + 0.010*\"rice\"\n",
      "Topic: 3 \n",
      "Words: 0.053*\"like\" + 0.050*\"Star\" + 0.043*\"taste\" + 0.037*\"smell\" + 0.031*\"texture\" + 0.027*\"star\" + 0.025*\"fish\" + 0.016*\"horrible\" + 0.016*\"terrible\" + 0.015*\"noodle\"\n",
      "Topic: 4 \n",
      "Words: 0.034*\"package\" + 0.020*\"product\" + 0.017*\"smell\" + 0.016*\"order\" + 0.016*\"noodle\" + 0.014*\"open\" + 0.012*\"taste\" + 0.012*\"like\" + 0.011*\"rice\" + 0.011*\"think\"\n"
     ]
    }
   ],
   "source": [
    "# Print the topics for high-rating reviews\n",
    "print(\"High Rating Reviews Topics:\")\n",
    "for idx, topic in high_lda.print_topics(-1):\n",
    "    print(f\"Topic: {idx} \\nWords: {topic}\")\n",
    "\n",
    "# Print the topics for low-rating reviews\n",
    "print(\"Low Rating Reviews Topics:\")\n",
    "for idx, topic in low_lda.print_topics(-1):\n",
    "    print(f\"Topic: {idx} \\nWords: {topic}\")"
   ]
  },
  {
   "cell_type": "code",
   "execution_count": 44,
   "id": "4f7dd79a",
   "metadata": {},
   "outputs": [],
   "source": [
    "# !pip install tabulate"
   ]
  },
  {
   "cell_type": "code",
   "execution_count": 45,
   "id": "f9d91633",
   "metadata": {},
   "outputs": [
    {
     "name": "stdout",
     "output_type": "stream",
     "text": [
      "High Rating Reviews Topics (Rows):\n",
      "+---------+-------------------+---------------+---------------+-----------------+--------------------+---------------+---------------+----------------+---------------+-----------------+\n",
      "|  Topic  |      Word 1       |    Word 2     |    Word 3     |     Word 4      |       Word 5       |    Word 6     |    Word 7     |     Word 8     |    Word 9     |     Word 10     |\n",
      "+---------+-------------------+---------------+---------------+-----------------+--------------------+---------------+---------------+----------------+---------------+-----------------+\n",
      "| Topic 1 |  noodle (0.057)   | pasta (0.021) | love (0.019)  |  like (0.018)   |   sauce (0.016)    | taste (0.013) | rinse (0.012) | great (0.012)  | smell (0.011) | calorie (0.011) |\n",
      "| Topic 2 |  noodle (0.030)   | like (0.025)  | rice (0.024)  |  good (0.019)   |   smell (0.018)    | rinse (0.017) | sauce (0.017) | pasta (0.015)  | carb (0.014)  |  taste (0.013)  |\n",
      "| Topic 3 | recommend (0.010) | love (0.010)  | good (0.008)  |  pasta (0.006)  | definitely (0.006) | feel (0.006)  |  get (0.006)  |  find (0.006)  | thank (0.005) |  help (0.005)   |\n",
      "| Topic 4 |  noodle (0.043)   | carb (0.032)  | pasta (0.031) |  great (0.030)  |    love (0.018)    | like (0.016)  | good (0.014)  |  rice (0.014)  | diet (0.013)  |  taste (0.013)  |\n",
      "| Topic 5 |   star (0.110)    | great (0.055) | love (0.043)  | product (0.033) |    good (0.029)    | taste (0.026) | diet (0.011)  | noodle (0.009) | easy (0.008)  |  fast (0.008)   |\n",
      "+---------+-------------------+---------------+---------------+-----------------+--------------------+---------------+---------------+----------------+---------------+-----------------+\n",
      "Low Rating Reviews Topics (Columns):\n",
      "+---------+-----------------+-----------------+---------------+-----------------+-----------------+---------------+---------------+------------------+------------------+----------------+\n",
      "|  Topic  |     Word 1      |     Word 2      |    Word 3     |     Word 4      |     Word 5      |    Word 6     |    Word 7     |      Word 8      |      Word 9      |    Word 10     |\n",
      "+---------+-----------------+-----------------+---------------+-----------------+-----------------+---------------+---------------+------------------+------------------+----------------+\n",
      "| Topic 1 | noodle (0.049)  |  like (0.024)   | smell (0.023) | texture (0.021) |  taste (0.018)  | good (0.014)  | sauce (0.014) |   cook (0.012)   |  rinse (0.012)   |  try (0.012)   |\n",
      "| Topic 2 |  good (0.022)   |  star (0.022)   | gross (0.017) |  money (0.017)  | noodle (0.014)  | Star (0.014)  | leak (0.013)  |  waste (0.012)   |  Gross (0.011)   | throw (0.010)  |\n",
      "| Topic 3 |  like (0.058)   | texture (0.035) | taste (0.028) | noodle (0.025)  |   try (0.014)   | pasta (0.014) | smell (0.013) |  rubber (0.012)  | product (0.012)  |  rice (0.010)  |\n",
      "| Topic 4 |  like (0.053)   |  Star (0.050)   | taste (0.043) |  smell (0.037)  | texture (0.031) | star (0.027)  | fish (0.025)  | horrible (0.016) | terrible (0.016) | noodle (0.015) |\n",
      "| Topic 5 | package (0.034) | product (0.020) | smell (0.017) |  order (0.016)  | noodle (0.016)  | open (0.014)  | taste (0.012) |   like (0.012)   |   rice (0.011)   | think (0.011)  |\n",
      "+---------+-----------------+-----------------+---------------+-----------------+-----------------+---------------+---------------+------------------+------------------+----------------+\n"
     ]
    }
   ],
   "source": [
    "from tabulate import tabulate\n",
    "\n",
    "def print_topics_table(lda_model, num_topics, orientation=\"rows\", print_output=True):\n",
    "    \"\"\"\n",
    "    Prints or returns a table of topics and their associated words from an LDA model.\n",
    "\n",
    "    Parameters:\n",
    "    - lda_model (object): The trained LDA model.\n",
    "    - num_topics (int): The number of topics to display.\n",
    "    - orientation (str, optional): The orientation of the table. Can be \"rows\" or \"columns\". Defaults to \"rows\".\n",
    "    - print_output (bool, optional): Whether to print the table or return it as a string. Defaults to True.\n",
    "\n",
    "    Returns:\n",
    "    - table (str): The table of topics and words as a string, if print_output is set to False.\n",
    "\n",
    "    Raises:\n",
    "    - ValueError: If an invalid orientation is provided.\n",
    "\n",
    "    \"\"\"\n",
    "\n",
    "    topics_words = lda_model.print_topics(num_topics=num_topics)\n",
    "\n",
    "    if orientation == \"rows\":\n",
    "        table_data = []\n",
    "        for idx, topic in topics_words:\n",
    "            words = topic.split(\" + \")\n",
    "            words = [\"{} ({})\".format(word.split('*')[1].replace('\"', ''), word.split('*')[0]) for word in words]\n",
    "            table_data.append([\"Topic {}\".format(idx + 1)] + words)\n",
    "\n",
    "        # Ensure all rows have the same number of columns\n",
    "        max_words = max(len(topic) for topic in table_data)\n",
    "        for topic in table_data:\n",
    "            while len(topic) < max_words:\n",
    "                topic.append(\"\")  # Fill shorter rows with empty strings\n",
    "\n",
    "        headers = [\"Topic\"] + [\"Word {}\".format(i + 1) for i in range(max_words - 1)]\n",
    "\n",
    "    elif orientation == \"columns\":\n",
    "        table_data = [[] for _ in range(num_topics)]\n",
    "        for idx, topic in topics_words:\n",
    "            words = topic.split(\" + \")\n",
    "            words = [\"{} ({})\".format(word.split('*')[1].replace('\"', ''), word.split('*')[0]) for word in words]\n",
    "            table_data[idx].extend(words)\n",
    "\n",
    "        # Transpose the data to have topics as columns\n",
    "        max_words = max(len(topic) for topic in table_data)\n",
    "        for topic in table_data:\n",
    "            while len(topic) < max_words:\n",
    "                topic.append(\"\")  # Fill shorter topics with empty strings\n",
    "\n",
    "        table_data = list(map(list, zip(*table_data)))\n",
    "        headers = [\"Topic {}\".format(i + 1) for i in range(num_topics)]\n",
    "\n",
    "    else:\n",
    "        raise ValueError(\"Invalid orientation. Choose 'rows' or 'columns'.\")\n",
    "\n",
    "    table = tabulate(table_data, headers=headers, tablefmt=\"pretty\")\n",
    "\n",
    "    if print_output:\n",
    "        print(table)\n",
    "    else:\n",
    "        return table\n",
    "\n",
    "# Print the topics for high-rating reviews as rows\n",
    "print(\"High Rating Reviews Topics (Rows):\")\n",
    "print_topics_table(high_lda, num_topics, orientation=\"rows\")\n",
    "\n",
    "# Print the topics for low-rating reviews as columns\n",
    "print(\"Low Rating Reviews Topics (Columns):\")\n",
    "print_topics_table(low_lda, num_topics, orientation=\"rows\")\n"
   ]
  },
  {
   "cell_type": "markdown",
   "id": "7e14fad2",
   "metadata": {},
   "source": [
    "\n",
    "\n",
    "#### Explanation:\n",
    "\n",
    "1. **Define Function with `orientation` kwarg**:\n",
    "   - The function `print_topics_table` accepts an additional keyword argument `orientation` which can be either `\"rows\"` or `\"columns\"`, and a boolean `print_output` to control whether to print or return the table.\n",
    "\n",
    "2. **Handle Rows Orientation**:\n",
    "   - If `orientation` is `\"rows\"`, the function processes the topics to have each topic as a row with words as columns.\n",
    "   - Ensures all rows have the same number of columns by filling shorter rows with empty strings.\n",
    "   - Defines headers accordingly and uses `tabulate` to format the table.\n",
    "\n",
    "3. **Handle Columns Orientation**:\n",
    "   - If `orientation` is `\"columns\"`, the function processes the topics to have each topic as a column with words as rows.\n",
    "   - Ensures all topics (columns) have the same number of rows by filling shorter columns with empty strings.\n",
    "   - Transposes the data to have topics as columns.\n",
    "   - Defines headers accordingly and uses `tabulate` to format the table.\n",
    "\n",
    "4. **Raise Error for Invalid Orientation**:\n",
    "   - If an invalid orientation is provided, the function raises a `ValueError`.\n",
    "\n",
    "5. **Print or Return Table**:\n",
    "   - If `print_output` is `True`, the table is printed.\n",
    "   - If `print_output` is `False`, the table is returned as a string.\n",
    "\n",
    "This modification makes the function flexible, allowing you to choose the orientation of the topics table and control whether the output is printed or returned."
   ]
  },
  {
   "cell_type": "code",
   "execution_count": 46,
   "id": "bec926dd",
   "metadata": {},
   "outputs": [],
   "source": [
    "\n",
    "# def topics_to_dataframe(lda_model, num_topics, orientation=\"rows\"):\n",
    "#     topics_words = lda_model.print_topics(num_topics=num_topics)\n",
    "    \n",
    "#     if orientation == \"rows\":\n",
    "#         data = {\"Topic\": [], \"Word\": [], \"Weight\": []}\n",
    "#         for idx, topic in topics_words:\n",
    "#             words = topic.split(\" + \")\n",
    "#             for word in words:\n",
    "#                 weight, term = word.split('*')\n",
    "#                 data[\"Topic\"].append(f\"Topic {idx + 1}\")\n",
    "#                 data[\"Word\"].append(term.replace('\"', ''))\n",
    "#                 data[\"Weight\"].append(float(weight))\n",
    "#         df = pd.DataFrame(data)\n",
    "\n",
    "#     elif orientation == \"columns\":\n",
    "#         data = {}\n",
    "#         for idx, topic in topics_words:\n",
    "#             words = topic.split(\" + \")\n",
    "#             topic_words = []\n",
    "#             topic_weights = []\n",
    "#             for word in words:\n",
    "#                 weight, term = word.split('*')\n",
    "#                 topic_words.append(term.replace('\"', ''))\n",
    "#                 topic_weights.append(float(weight))\n",
    "#             data[f\"Topic {idx + 1} Words\"] = topic_words\n",
    "#             data[f\"Topic {idx + 1} Weights\"] = topic_weights\n",
    "\n",
    "#         # Convert dictionary to DataFrame and fill shorter columns with NaN\n",
    "#         df = pd.DataFrame.from_dict(data, orient='index').transpose()\n",
    "\n",
    "#     else:\n",
    "#         raise ValueError(\"Invalid orientation. Choose 'rows' or 'columns'.\")\n",
    "    \n",
    "#     return df\n",
    "\n",
    "# # Get the topics for high-rating reviews as rows in a DataFrame\n",
    "# print(\"High Rating Reviews Topics (Rows):\")\n",
    "# df_high_rows = topics_to_dataframe(high_lda, num_topics, orientation=\"rows\")\n",
    "# display(df_high_rows)\n",
    "# # Get the topics for low-rating reviews as columns in a DataFrame\n",
    "# print(\"Low Rating Reviews Topics (Columns):\")\n",
    "# df_low_columns = topics_to_dataframe(low_lda, num_topics, orientation=\"columns\")\n",
    "# display(df_low_columns)"
   ]
  },
  {
   "cell_type": "code",
   "execution_count": 47,
   "id": "a4333011",
   "metadata": {},
   "outputs": [
    {
     "data": {
      "text/plain": [
       "[(0,\n",
       "  '0.057*\"noodle\" + 0.021*\"pasta\" + 0.019*\"love\" + 0.018*\"like\" + 0.016*\"sauce\"'),\n",
       " (1,\n",
       "  '0.030*\"noodle\" + 0.025*\"like\" + 0.024*\"rice\" + 0.019*\"good\" + 0.018*\"smell\"'),\n",
       " (2,\n",
       "  '0.010*\"recommend\" + 0.010*\"love\" + 0.008*\"good\" + 0.006*\"pasta\" + 0.006*\"definitely\"'),\n",
       " (3,\n",
       "  '0.043*\"noodle\" + 0.032*\"carb\" + 0.031*\"pasta\" + 0.030*\"great\" + 0.018*\"love\"'),\n",
       " (4,\n",
       "  '0.110*\"star\" + 0.055*\"great\" + 0.043*\"love\" + 0.033*\"product\" + 0.029*\"good\"')]"
      ]
     },
     "execution_count": 47,
     "metadata": {},
     "output_type": "execute_result"
    }
   ],
   "source": [
    "high_lda.show_topics(num_topics=num_topics, num_words=5)"
   ]
  },
  {
   "cell_type": "code",
   "execution_count": 48,
   "id": "9770c0de",
   "metadata": {},
   "outputs": [
    {
     "name": "stdout",
     "output_type": "stream",
     "text": [
      "High Rating Reviews Topics (Rows) with Combined Words and Weights:\n"
     ]
    },
    {
     "data": {
      "text/html": [
       "<div>\n",
       "<style scoped>\n",
       "    .dataframe tbody tr th:only-of-type {\n",
       "        vertical-align: middle;\n",
       "    }\n",
       "\n",
       "    .dataframe tbody tr th {\n",
       "        vertical-align: top;\n",
       "    }\n",
       "\n",
       "    .dataframe thead th {\n",
       "        text-align: right;\n",
       "    }\n",
       "</style>\n",
       "<table border=\"1\" class=\"dataframe\">\n",
       "  <thead>\n",
       "    <tr style=\"text-align: right;\">\n",
       "      <th></th>\n",
       "      <th>group</th>\n",
       "      <th>Word 1</th>\n",
       "      <th>Word 2</th>\n",
       "      <th>Word 3</th>\n",
       "      <th>Word 4</th>\n",
       "      <th>Word 5</th>\n",
       "      <th>Word 6</th>\n",
       "      <th>Word 7</th>\n",
       "      <th>Word 8</th>\n",
       "      <th>Word 9</th>\n",
       "      <th>Word 10</th>\n",
       "    </tr>\n",
       "    <tr>\n",
       "      <th>Topic</th>\n",
       "      <th></th>\n",
       "      <th></th>\n",
       "      <th></th>\n",
       "      <th></th>\n",
       "      <th></th>\n",
       "      <th></th>\n",
       "      <th></th>\n",
       "      <th></th>\n",
       "      <th></th>\n",
       "      <th></th>\n",
       "      <th></th>\n",
       "    </tr>\n",
       "  </thead>\n",
       "  <tbody>\n",
       "    <tr>\n",
       "      <th>1</th>\n",
       "      <td>High Rating Reviews</td>\n",
       "      <td>noodle (0.0570)</td>\n",
       "      <td>pasta (0.0210)</td>\n",
       "      <td>love (0.0190)</td>\n",
       "      <td>like (0.0180)</td>\n",
       "      <td>sauce (0.0160)</td>\n",
       "      <td>taste (0.0130)</td>\n",
       "      <td>rinse (0.0120)</td>\n",
       "      <td>great (0.0120)</td>\n",
       "      <td>smell (0.0110)</td>\n",
       "      <td>calorie (0.0110)</td>\n",
       "    </tr>\n",
       "    <tr>\n",
       "      <th>2</th>\n",
       "      <td>High Rating Reviews</td>\n",
       "      <td>noodle (0.0300)</td>\n",
       "      <td>like (0.0250)</td>\n",
       "      <td>rice (0.0240)</td>\n",
       "      <td>good (0.0190)</td>\n",
       "      <td>smell (0.0180)</td>\n",
       "      <td>rinse (0.0170)</td>\n",
       "      <td>sauce (0.0170)</td>\n",
       "      <td>pasta (0.0150)</td>\n",
       "      <td>carb (0.0140)</td>\n",
       "      <td>taste (0.0130)</td>\n",
       "    </tr>\n",
       "    <tr>\n",
       "      <th>3</th>\n",
       "      <td>High Rating Reviews</td>\n",
       "      <td>recommend (0.0100)</td>\n",
       "      <td>love (0.0100)</td>\n",
       "      <td>good (0.0080)</td>\n",
       "      <td>pasta (0.0060)</td>\n",
       "      <td>definitely (0.0060)</td>\n",
       "      <td>feel (0.0060)</td>\n",
       "      <td>get (0.0060)</td>\n",
       "      <td>find (0.0060)</td>\n",
       "      <td>thank (0.0050)</td>\n",
       "      <td>help (0.0050)</td>\n",
       "    </tr>\n",
       "    <tr>\n",
       "      <th>4</th>\n",
       "      <td>High Rating Reviews</td>\n",
       "      <td>noodle (0.0430)</td>\n",
       "      <td>carb (0.0320)</td>\n",
       "      <td>pasta (0.0310)</td>\n",
       "      <td>great (0.0300)</td>\n",
       "      <td>love (0.0180)</td>\n",
       "      <td>like (0.0160)</td>\n",
       "      <td>good (0.0140)</td>\n",
       "      <td>rice (0.0140)</td>\n",
       "      <td>diet (0.0130)</td>\n",
       "      <td>taste (0.0130)</td>\n",
       "    </tr>\n",
       "    <tr>\n",
       "      <th>5</th>\n",
       "      <td>High Rating Reviews</td>\n",
       "      <td>star (0.1100)</td>\n",
       "      <td>great (0.0550)</td>\n",
       "      <td>love (0.0430)</td>\n",
       "      <td>product (0.0330)</td>\n",
       "      <td>good (0.0290)</td>\n",
       "      <td>taste (0.0260)</td>\n",
       "      <td>diet (0.0110)</td>\n",
       "      <td>noodle (0.0090)</td>\n",
       "      <td>easy (0.0080)</td>\n",
       "      <td>fast (0.0080)</td>\n",
       "    </tr>\n",
       "  </tbody>\n",
       "</table>\n",
       "</div>"
      ],
      "text/plain": [
       "                     group              Word 1          Word 2  \\\n",
       "Topic                                                            \n",
       "1      High Rating Reviews     noodle (0.0570)  pasta (0.0210)   \n",
       "2      High Rating Reviews     noodle (0.0300)   like (0.0250)   \n",
       "3      High Rating Reviews  recommend (0.0100)   love (0.0100)   \n",
       "4      High Rating Reviews     noodle (0.0430)   carb (0.0320)   \n",
       "5      High Rating Reviews       star (0.1100)  great (0.0550)   \n",
       "\n",
       "               Word 3            Word 4               Word 5          Word 6  \\\n",
       "Topic                                                                          \n",
       "1       love (0.0190)     like (0.0180)       sauce (0.0160)  taste (0.0130)   \n",
       "2       rice (0.0240)     good (0.0190)       smell (0.0180)  rinse (0.0170)   \n",
       "3       good (0.0080)    pasta (0.0060)  definitely (0.0060)   feel (0.0060)   \n",
       "4      pasta (0.0310)    great (0.0300)        love (0.0180)   like (0.0160)   \n",
       "5       love (0.0430)  product (0.0330)        good (0.0290)  taste (0.0260)   \n",
       "\n",
       "               Word 7           Word 8          Word 9           Word 10  \n",
       "Topic                                                                     \n",
       "1      rinse (0.0120)   great (0.0120)  smell (0.0110)  calorie (0.0110)  \n",
       "2      sauce (0.0170)   pasta (0.0150)   carb (0.0140)    taste (0.0130)  \n",
       "3        get (0.0060)    find (0.0060)  thank (0.0050)     help (0.0050)  \n",
       "4       good (0.0140)    rice (0.0140)   diet (0.0130)    taste (0.0130)  \n",
       "5       diet (0.0110)  noodle (0.0090)   easy (0.0080)     fast (0.0080)  "
      ]
     },
     "metadata": {},
     "output_type": "display_data"
    },
    {
     "name": "stdout",
     "output_type": "stream",
     "text": [
      "Low Rating Reviews Topics (Rows) with Combined Words and Weights:\n"
     ]
    },
    {
     "data": {
      "text/html": [
       "<div>\n",
       "<style scoped>\n",
       "    .dataframe tbody tr th:only-of-type {\n",
       "        vertical-align: middle;\n",
       "    }\n",
       "\n",
       "    .dataframe tbody tr th {\n",
       "        vertical-align: top;\n",
       "    }\n",
       "\n",
       "    .dataframe thead th {\n",
       "        text-align: right;\n",
       "    }\n",
       "</style>\n",
       "<table border=\"1\" class=\"dataframe\">\n",
       "  <thead>\n",
       "    <tr style=\"text-align: right;\">\n",
       "      <th></th>\n",
       "      <th>group</th>\n",
       "      <th>Word 1</th>\n",
       "      <th>Word 2</th>\n",
       "      <th>Word 3</th>\n",
       "      <th>Word 4</th>\n",
       "      <th>Word 5</th>\n",
       "      <th>Word 6</th>\n",
       "      <th>Word 7</th>\n",
       "      <th>Word 8</th>\n",
       "      <th>Word 9</th>\n",
       "      <th>Word 10</th>\n",
       "    </tr>\n",
       "    <tr>\n",
       "      <th>Topic</th>\n",
       "      <th></th>\n",
       "      <th></th>\n",
       "      <th></th>\n",
       "      <th></th>\n",
       "      <th></th>\n",
       "      <th></th>\n",
       "      <th></th>\n",
       "      <th></th>\n",
       "      <th></th>\n",
       "      <th></th>\n",
       "      <th></th>\n",
       "    </tr>\n",
       "  </thead>\n",
       "  <tbody>\n",
       "    <tr>\n",
       "      <th>1</th>\n",
       "      <td>Low Rating Reviews</td>\n",
       "      <td>noodle (0.0490)</td>\n",
       "      <td>like (0.0240)</td>\n",
       "      <td>smell (0.0230)</td>\n",
       "      <td>texture (0.0210)</td>\n",
       "      <td>taste (0.0180)</td>\n",
       "      <td>good (0.0140)</td>\n",
       "      <td>sauce (0.0140)</td>\n",
       "      <td>cook (0.0120)</td>\n",
       "      <td>rinse (0.0120)</td>\n",
       "      <td>try (0.0120)</td>\n",
       "    </tr>\n",
       "    <tr>\n",
       "      <th>2</th>\n",
       "      <td>Low Rating Reviews</td>\n",
       "      <td>good (0.0220)</td>\n",
       "      <td>star (0.0220)</td>\n",
       "      <td>gross (0.0170)</td>\n",
       "      <td>money (0.0170)</td>\n",
       "      <td>noodle (0.0140)</td>\n",
       "      <td>Star (0.0140)</td>\n",
       "      <td>leak (0.0130)</td>\n",
       "      <td>waste (0.0120)</td>\n",
       "      <td>Gross (0.0110)</td>\n",
       "      <td>throw (0.0100)</td>\n",
       "    </tr>\n",
       "    <tr>\n",
       "      <th>3</th>\n",
       "      <td>Low Rating Reviews</td>\n",
       "      <td>like (0.0580)</td>\n",
       "      <td>texture (0.0350)</td>\n",
       "      <td>taste (0.0280)</td>\n",
       "      <td>noodle (0.0250)</td>\n",
       "      <td>try (0.0140)</td>\n",
       "      <td>pasta (0.0140)</td>\n",
       "      <td>smell (0.0130)</td>\n",
       "      <td>rubber (0.0120)</td>\n",
       "      <td>product (0.0120)</td>\n",
       "      <td>rice (0.0100)</td>\n",
       "    </tr>\n",
       "    <tr>\n",
       "      <th>4</th>\n",
       "      <td>Low Rating Reviews</td>\n",
       "      <td>like (0.0530)</td>\n",
       "      <td>Star (0.0500)</td>\n",
       "      <td>taste (0.0430)</td>\n",
       "      <td>smell (0.0370)</td>\n",
       "      <td>texture (0.0310)</td>\n",
       "      <td>star (0.0270)</td>\n",
       "      <td>fish (0.0250)</td>\n",
       "      <td>horrible (0.0160)</td>\n",
       "      <td>terrible (0.0160)</td>\n",
       "      <td>noodle (0.0150)</td>\n",
       "    </tr>\n",
       "    <tr>\n",
       "      <th>5</th>\n",
       "      <td>Low Rating Reviews</td>\n",
       "      <td>package (0.0340)</td>\n",
       "      <td>product (0.0200)</td>\n",
       "      <td>smell (0.0170)</td>\n",
       "      <td>order (0.0160)</td>\n",
       "      <td>noodle (0.0160)</td>\n",
       "      <td>open (0.0140)</td>\n",
       "      <td>taste (0.0120)</td>\n",
       "      <td>like (0.0120)</td>\n",
       "      <td>rice (0.0110)</td>\n",
       "      <td>think (0.0110)</td>\n",
       "    </tr>\n",
       "  </tbody>\n",
       "</table>\n",
       "</div>"
      ],
      "text/plain": [
       "                    group            Word 1            Word 2          Word 3  \\\n",
       "Topic                                                                           \n",
       "1      Low Rating Reviews   noodle (0.0490)     like (0.0240)  smell (0.0230)   \n",
       "2      Low Rating Reviews     good (0.0220)     star (0.0220)  gross (0.0170)   \n",
       "3      Low Rating Reviews     like (0.0580)  texture (0.0350)  taste (0.0280)   \n",
       "4      Low Rating Reviews     like (0.0530)     Star (0.0500)  taste (0.0430)   \n",
       "5      Low Rating Reviews  package (0.0340)  product (0.0200)  smell (0.0170)   \n",
       "\n",
       "                 Word 4            Word 5          Word 6          Word 7  \\\n",
       "Topic                                                                       \n",
       "1      texture (0.0210)    taste (0.0180)   good (0.0140)  sauce (0.0140)   \n",
       "2        money (0.0170)   noodle (0.0140)   Star (0.0140)   leak (0.0130)   \n",
       "3       noodle (0.0250)      try (0.0140)  pasta (0.0140)  smell (0.0130)   \n",
       "4        smell (0.0370)  texture (0.0310)   star (0.0270)   fish (0.0250)   \n",
       "5        order (0.0160)   noodle (0.0160)   open (0.0140)  taste (0.0120)   \n",
       "\n",
       "                  Word 8             Word 9          Word 10  \n",
       "Topic                                                         \n",
       "1          cook (0.0120)     rinse (0.0120)     try (0.0120)  \n",
       "2         waste (0.0120)     Gross (0.0110)   throw (0.0100)  \n",
       "3        rubber (0.0120)   product (0.0120)    rice (0.0100)  \n",
       "4      horrible (0.0160)  terrible (0.0160)  noodle (0.0150)  \n",
       "5          like (0.0120)      rice (0.0110)   think (0.0110)  "
      ]
     },
     "metadata": {},
     "output_type": "display_data"
    }
   ],
   "source": [
    "import pandas as pd\n",
    "\n",
    "def topics_to_dataframe(lda_model, num_topics, group_name=None, combine=False, num_words=10):\n",
    "    \"\"\"\n",
    "    Convert the topics generated by an LDA model into a pandas DataFrame.\n",
    "\n",
    "    Parameters:\n",
    "    - lda_model (LdaModel): The trained LDA model.\n",
    "    - num_topics (int): The number of topics to include in the DataFrame.\n",
    "    - group_name (str, optional): The name of the group to assign to the DataFrame.\n",
    "    - combine (bool, optional): Whether to combine the word and weight columns into a single column.\n",
    "    - num_words (int, optional): The number of words to include for each topic.\n",
    "\n",
    "    Returns:\n",
    "    - df (DataFrame): The topics represented as a DataFrame.\n",
    "\n",
    "    \"\"\"\n",
    "    topics_words = lda_model.print_topics(num_topics=num_topics, num_words=num_words)\n",
    "    data = {\"Topic\": []}\n",
    "\n",
    "    for i in range(1, num_words + 1):\n",
    "        data[f\"Word {i}\"] = []\n",
    "        if not combine:\n",
    "            data[f\"Weight {i}\"] = []\n",
    "\n",
    "    for idx, topic in topics_words:\n",
    "        words = topic.split(\" + \")\n",
    "        data[\"Topic\"].append(idx + 1)\n",
    "        for i, word in enumerate(words):\n",
    "            weight, term = word.split('*')\n",
    "            term = term.replace('\"', '')\n",
    "            weight = float(weight)\n",
    "            if combine:\n",
    "                data[f\"Word {i + 1}\"].append(f\"{term} ({weight:.4f})\")\n",
    "            else:\n",
    "                data[f\"Word {i + 1}\"].append(term)\n",
    "                data[f\"Weight {i + 1}\"].append(weight)\n",
    "\n",
    "        # Ensure all lists are of the same length\n",
    "        for j in range(i + 1, num_words):\n",
    "            data[f\"Word {j + 1}\"].append(\"\")\n",
    "            if not combine:\n",
    "                data[f\"Weight {j + 1}\"].append(None)\n",
    "\n",
    "    df = pd.DataFrame(data).set_index(\"Topic\")\n",
    "    \n",
    "    if group_name:\n",
    "        df.insert(0,'group', group_name)\n",
    "        df = df.copy()\n",
    "    \n",
    "    return df\n",
    "\n",
    "# Get the topics for high-rating reviews as rows in a DataFrame, combined words and weights\n",
    "print(\"High Rating Reviews Topics (Rows) with Combined Words and Weights:\")\n",
    "df_high_rows_combined = topics_to_dataframe(high_lda, num_topics, group_name= \"High Rating Reviews\",combine=True, num_words=10)\n",
    "display(df_high_rows_combined)\n",
    "\n",
    "\n",
    "# Get the topics for low-rating reviews as rows in a DataFrame, combined words and weights\n",
    "print(\"Low Rating Reviews Topics (Rows) with Combined Words and Weights:\")\n",
    "df_low_rows_combined = topics_to_dataframe(low_lda, num_topics, group_name=\"Low Rating Reviews\", combine=True, num_words=10)\n",
    "display(df_low_rows_combined)\n"
   ]
  },
  {
   "cell_type": "code",
   "execution_count": null,
   "id": "64ab4390",
   "metadata": {},
   "outputs": [],
   "source": [
    "\n",
    "\n",
    "# # Get the topics for high-rating reviews as rows in a DataFrame, separate words and weights\n",
    "# print(\"High Rating Reviews Topics (Rows) with Separate Words and Weights:\")\n",
    "# df_high_rows_separate = topics_to_dataframe(high_lda, num_topics, combine=False, num_words=10)\n",
    "# display(df_high_rows_separate)\n",
    "\n",
    "\n",
    "# # Get the topics for low-rating reviews as rows in a DataFrame, separate words and weights\n",
    "# print(\"Low Rating Reviews Topics (Rows) with Separate Words and Weights:\")\n",
    "# df_low_rows_separate = topics_to_dataframe(low_lda, num_topics, combine=False, num_words=10)\n",
    "# display(df_low_rows_separate)"
   ]
  },
  {
   "cell_type": "code",
   "execution_count": null,
   "id": "d25cfb16",
   "metadata": {},
   "outputs": [],
   "source": []
  },
  {
   "cell_type": "markdown",
   "id": "9bd922f9",
   "metadata": {},
   "source": [
    "\n",
    "### Steps to Interpret Topics:\n",
    "\n",
    "1. **Review Top Words**: Look at the top words in each topic. These words represent the main concepts or themes within that topic.\n",
    "2. **Label Topics**: Based on the top words, assign a label or a brief description to each topic that captures its essence.\n",
    "3. **Analyze Topic Distribution**: Examine the distribution of topics across high-rating and low-rating reviews to identify patterns or trends.\n",
    "4. **Draw Insights**: Relate the identified topics to your specific use case or business questions to draw actionable insights.\n"
   ]
  },
  {
   "cell_type": "markdown",
   "id": "35bf7add",
   "metadata": {},
   "source": [
    "\n",
    "#### Interpretation for High-Rating Reviews:\n",
    "\n",
    "Let's interpret the high-rating reviews based on the top words and their weights.\n",
    "\n",
    "1. **Topic 1**:\n",
    "   - **Top Words**: love, calorie, soup, great, good, pasta, food, cook, diet, carb\n",
    "   - **Label**: Positive Health and Diet\n",
    "   - **Insight**: Customers who gave high ratings often mention love for the product, health-related terms like calorie and diet, and food items like soup and pasta. This suggests that health-conscious consumers appreciate these aspects.\n",
    "\n",
    "2. **Topic 2**:\n",
    "   - **Top Words**: noodle, sauce, great, pasta, taste, carb, good, like, rinse, rice\n",
    "   - **Label**: Flavor and Quality\n",
    "   - **Insight**: High ratings are associated with positive comments about the taste and quality of the product, particularly noodles and pasta, indicating satisfaction with the product's flavor.\n",
    "\n",
    "3. **Topic 3**:\n",
    "   - **Top Words**: noodle, pasta, sauce, rinse, water, smell, calorie, minute, dish, like\n",
    "   - **Label**: Preparation and Smell\n",
    "   - **Insight**: This topic highlights the ease of preparation and the product's smell. High ratings suggest customers find the product easy to prepare and appreciate its aroma.\n",
    "\n",
    "4. **Topic 4**:\n",
    "   - **Top Words**: noodle, like, love, rice, carb, texture, smell, pasta, taste, rinse\n",
    "   - **Label**: Texture and Satisfaction\n",
    "   - **Insight**: Texture and overall satisfaction are prominent in this topic. High ratings indicate customers are happy with the product's texture and overall experience.\n",
    "\n",
    "5. **Topic 5**:\n",
    "   - **Top Words**: star, great, good, product, love, carb, pasta, taste, rice, substitute\n",
    "   - **Label**: General Satisfaction\n",
    "   - **Insight**: General positive feedback is captured in this topic, with high ratings reflecting overall satisfaction with the product.\n"
   ]
  },
  {
   "cell_type": "code",
   "execution_count": 49,
   "id": "f16558be",
   "metadata": {},
   "outputs": [],
   "source": [
    "# !pip install langchain langchain_openai pydantic\n",
    "from langchain_openai import ChatOpenAI #, JsonOutputParser\n",
    "from langchain_core.prompts import ChatPromptTemplate, PromptTemplate\n",
    "from langchain_core.output_parsers import JsonOutputParser, StrOutputParser\n",
    "from pydantic import BaseModel, Field, validator\n",
    "from typing import List, Optional, Text, Dict\n",
    "\n",
    "pd.set_option('display.max_colwidth', 250)\n",
    "from IPython.display import display, Markdown"
   ]
  },
  {
   "cell_type": "code",
   "execution_count": 50,
   "id": "68ba88fc",
   "metadata": {},
   "outputs": [],
   "source": [
    "\n",
    "\n",
    "class TopicLabels(BaseModel):\n",
    "    group : str = Field(description=\"Group name.\")\n",
    "    topic_number: List[int] = Field(description=\"Topic number.\")\n",
    "    top_words: List[List[str]] = Field(description=\"Top words for each LDA topic.\")\n",
    "    topic_labels: List[str] = Field(description=\"Descriptive labels for each LDA topic, based on top words for each topic.\")\n",
    "    topic_insights: List[str] = Field(description=\"Short insights or summaries for each LDA topic, based on top words for each topic.\")\n",
    "    \n",
    "def analyze_topics(topic_string: str, group=\"N/A\", temperature=0.1, model_type='gpt-4o',\n",
    "                       return_llm = False, return_json=True) -> str:\n",
    "    prompt = \"\"\"\n",
    "    Help me interpret these LDA topics. Examine the top words for each topic # and provide a descriptive label and short insight for each topic.\n",
    "    \n",
    "    Group Name: {group}\n",
    "\n",
    "    Topics:\n",
    "    {topic_string}\n",
    "    \n",
    "    Format Instructions:\n",
    "    {format_instructions}\n",
    "    \"\"\"\n",
    "    final_prompt_template = PromptTemplate.from_template(prompt)\n",
    "    # final_prompt_template = final_prompt_template.partial(resume=resume, job=job_listing)\n",
    "\n",
    "    try:\n",
    "        api_key = st.session_state.OPENAI_API_KEY\n",
    "    except:\n",
    "        api_key = os.getenv('OPENAI_API_KEY')\n",
    "        \n",
    "        \n",
    "    llm = ChatOpenAI(temperature=temperature, model=model_type, api_key=api_key)\n",
    "    parser = JsonOutputParser(pydantic_object=TopicLabels,) # PydanticOutputParser(pydantic_object=ResumeRating)#StrOutputParser(output_key=\"response\")\n",
    "    \n",
    "    if return_json:\n",
    "        parser = JsonOutputParser(pydantic_object=TopicLabels,)    \n",
    "        # Add formatting instructions for pydantic\n",
    "        instructions =  parser.get_format_instructions()\n",
    "            \n",
    "    else:\n",
    "        parser = StrOutputParser(output_key=\"response\")\n",
    "        instructions = \"Respond with each topic as a nested list with the topic number,  descriptive label,top words, and short insight.\"\n",
    "        \n",
    "    # Making the chain\n",
    "    final_prompt_template = final_prompt_template.partial(format_instructions=instructions)\n",
    "    llm_chain = final_prompt_template | llm | parser\n",
    "    \n",
    "    if return_llm:\n",
    "        return llm_chain\n",
    "    else:\n",
    "        response = llm_chain.invoke(input=dict(topic_string=topic_string, group=group))\n",
    "        return response\n",
    "\n"
   ]
  },
  {
   "cell_type": "code",
   "execution_count": 51,
   "id": "041faf74",
   "metadata": {},
   "outputs": [
    {
     "data": {
      "text/plain": [
       "'|   Topic | group              | Word 1           | Word 2           | Word 3         | Word 4           | Word 5           | Word 6         | Word 7         | Word 8            | Word 9            | Word 10         |\\n|--------:|:-------------------|:-----------------|:-----------------|:---------------|:-----------------|:-----------------|:---------------|:---------------|:------------------|:------------------|:----------------|\\n|       1 | Low Rating Reviews | noodle (0.0490)  | like (0.0240)    | smell (0.0230) | texture (0.0210) | taste (0.0180)   | good (0.0140)  | sauce (0.0140) | cook (0.0120)     | rinse (0.0120)    | try (0.0120)    |\\n|       2 | Low Rating Reviews | good (0.0220)    | star (0.0220)    | gross (0.0170) | money (0.0170)   | noodle (0.0140)  | Star (0.0140)  | leak (0.0130)  | waste (0.0120)    | Gross (0.0110)    | throw (0.0100)  |\\n|       3 | Low Rating Reviews | like (0.0580)    | texture (0.0350) | taste (0.0280) | noodle (0.0250)  | try (0.0140)     | pasta (0.0140) | smell (0.0130) | rubber (0.0120)   | product (0.0120)  | rice (0.0100)   |\\n|       4 | Low Rating Reviews | like (0.0530)    | Star (0.0500)    | taste (0.0430) | smell (0.0370)   | texture (0.0310) | star (0.0270)  | fish (0.0250)  | horrible (0.0160) | terrible (0.0160) | noodle (0.0150) |\\n|       5 | Low Rating Reviews | package (0.0340) | product (0.0200) | smell (0.0170) | order (0.0160)   | noodle (0.0160)  | open (0.0140)  | taste (0.0120) | like (0.0120)     | rice (0.0110)     | think (0.0110)  |'"
      ]
     },
     "execution_count": 51,
     "metadata": {},
     "output_type": "execute_result"
    }
   ],
   "source": [
    "df_low_rows_combined.to_markdown()"
   ]
  },
  {
   "cell_type": "code",
   "execution_count": 52,
   "id": "adf0666c",
   "metadata": {},
   "outputs": [
    {
     "data": {
      "text/markdown": [
       "Sure, here is the interpretation of the LDA topics for the group \"High Rating Reviews\":\n",
       "\n",
       "1. **Topic 1**\n",
       "   - **Descriptive Label:** Noodle and Pasta Enthusiasts\n",
       "   - **Top Words:** noodle (0.0570), pasta (0.0210), love (0.0190), like (0.0180), sauce (0.0160), taste (0.0130), rinse (0.0120), great (0.0120), smell (0.0110), calorie (0.0110)\n",
       "   - **Short Insight:** This topic focuses on high ratings for noodle and pasta dishes, highlighting positive sentiments such as love and like, and emphasizing the importance of sauce, taste, and even the smell. The mention of calories suggests a consideration of health aspects.\n",
       "\n",
       "2. **Topic 2**\n",
       "   - **Descriptive Label:** Versatile Noodle and Rice Dishes\n",
       "   - **Top Words:** noodle (0.0300), like (0.0250), rice (0.0240), good (0.0190), smell (0.0180), rinse (0.0170), sauce (0.0170), pasta (0.0150), carb (0.0140), taste (0.0130)\n",
       "   - **Short Insight:** This topic highlights the versatility and appeal of noodle and rice dishes, with positive descriptors like good and like. The emphasis on smell, rinse, and sauce indicates attention to preparation and sensory experience.\n",
       "\n",
       "3. **Topic 3**\n",
       "   - **Descriptive Label:** Highly Recommended Products\n",
       "   - **Top Words:** recommend (0.0100), love (0.0100), good (0.0080), pasta (0.0060), definitely (0.0060), feel (0.0060), get (0.0060), find (0.0060), thank (0.0050), help (0.0050)\n",
       "   - **Short Insight:** This topic is centered around recommendations and positive endorsements. Words like recommend, love, and definitely suggest strong approval, while thank and help indicate gratitude and satisfaction with the products.\n",
       "\n",
       "4. **Topic 4**\n",
       "   - **Descriptive Label:** Low-Carb Noodle and Pasta Options\n",
       "   - **Top Words:** noodle (0.0430), carb (0.0320), pasta (0.0310), great (0.0300), love (0.0180), like (0.0160), good (0.0140), rice (0.0140), diet (0.0130), taste (0.0130)\n",
       "   - **Short Insight:** This topic focuses on low-carb noodle and pasta options, with high ratings for their taste and suitability for diets. The frequent mention of carb and diet suggests a health-conscious audience.\n",
       "\n",
       "5. **Topic 5**\n",
       "   - **Descriptive Label:** Overall Product Satisfaction\n",
       "   - **Top Words:** star (0.1100), great (0.0550), love (0.0430), product (0.0330), good (0.0290), taste (0.0260), diet (0.0110), noodle (0.0090), easy (0.0080), fast (0.0080)\n",
       "   - **Short Insight:** This topic captures overall satisfaction with products, as indicated by high star ratings and words like great, love, and good. The emphasis on taste, ease, and speed suggests that these products are appreciated for their convenience and flavor."
      ],
      "text/plain": [
       "<IPython.core.display.Markdown object>"
      ]
     },
     "metadata": {},
     "output_type": "display_data"
    }
   ],
   "source": [
    "\n",
    "response_high = analyze_topics(df_high_rows_combined.to_markdown(),#topics_string_high, \n",
    "                               group=\"High Rating Reviews\", temperature=0.1, model_type='gpt-4o',\n",
    "                               return_json=False)\n",
    "display(Markdown(response_high))"
   ]
  },
  {
   "cell_type": "code",
   "execution_count": 53,
   "id": "9a764178",
   "metadata": {},
   "outputs": [
    {
     "data": {
      "text/markdown": [
       "Sure, here is the interpretation of the LDA topics for the \"High Rating Reviews\" group:\n",
       "\n",
       "1. **Topic 1: \"Noodle and Pasta Enthusiasm\"**\n",
       "   - **Top Words:** noodle (0.0570), pasta (0.0210), love (0.0190), like (0.0180), sauce (0.0160), taste (0.0130), rinse (0.0120), great (0.0120), smell (0.0110), calorie (0.0110)\n",
       "   - **Insight:** This topic highlights a strong preference and enthusiasm for noodles and pasta, with frequent mentions of love and liking for these foods. The presence of words like \"sauce,\" \"taste,\" and \"smell\" suggests that the sensory experience of these dishes is highly appreciated. The mention of \"calorie\" indicates some awareness of nutritional content.\n",
       "\n",
       "2. **Topic 2: \"Versatile Noodle and Rice Dishes\"**\n",
       "   - **Top Words:** noodle (0.0300), like (0.0250), rice (0.0240), good (0.0190), smell (0.0180), rinse (0.0170), sauce (0.0170), pasta (0.0150), carb (0.0140), taste (0.0130)\n",
       "   - **Insight:** This topic focuses on the versatility and appeal of noodle and rice dishes. The frequent use of \"like,\" \"good,\" and \"taste\" indicates positive reviews. The inclusion of \"carb\" suggests that reviewers are mindful of carbohydrate content, while \"smell\" and \"sauce\" emphasize the importance of aroma and flavor.\n",
       "\n",
       "3. **Topic 3: \"Highly Recommended Products\"**\n",
       "   - **Top Words:** recommend (0.0100), love (0.0100), good (0.0080), pasta (0.0060), definitely (0.0060), feel (0.0060), get (0.0060), find (0.0060), thank (0.0050), help (0.0050)\n",
       "   - **Insight:** This topic is centered around strong recommendations and positive endorsements. Words like \"recommend,\" \"love,\" and \"definitely\" indicate high satisfaction. The presence of \"thank\" and \"help\" suggests that reviewers feel grateful and supported by the product.\n",
       "\n",
       "4. **Topic 4: \"Low-Carb Noodle and Pasta Options\"**\n",
       "   - **Top Words:** noodle (0.0430), carb (0.0320), pasta (0.0310), great (0.0300), love (0.0180), like (0.0160), good (0.0140), rice (0.0140), diet (0.0130), taste (0.0130)\n",
       "   - **Insight:** This topic highlights the popularity of low-carb noodle and pasta options. The frequent mention of \"carb\" and \"diet\" indicates that reviewers are health-conscious and appreciate these products for their dietary benefits. Positive sentiments are expressed through words like \"great,\" \"love,\" and \"good.\"\n",
       "\n",
       "5. **Topic 5: \"Overall Product Satisfaction\"**\n",
       "   - **Top Words:** star (0.1100), great (0.0550), love (0.0430), product (0.0330), good (0.0290), taste (0.0260), diet (0.0110), noodle (0.0090), easy (0.0080), fast (0.0080)\n",
       "   - **Insight:** This topic reflects overall satisfaction with the products, as indicated by the high frequency of \"star,\" \"great,\" and \"love.\" The word \"product\" suggests that reviewers are generally pleased with their purchases. The inclusion of \"easy\" and \"fast\" implies that convenience is a significant factor in their positive reviews."
      ],
      "text/plain": [
       "<IPython.core.display.Markdown object>"
      ]
     },
     "metadata": {},
     "output_type": "display_data"
    }
   ],
   "source": [
    "\n",
    "response_low = analyze_topics(df_high_rows_combined.to_markdown(),#topics_string_high, \n",
    "                               group=\"High Rating Reviews\", temperature=0.1, model_type='gpt-4o',\n",
    "                               return_json=False)\n",
    "display(Markdown(response_low))"
   ]
  },
  {
   "cell_type": "code",
   "execution_count": null,
   "id": "8fa179c5",
   "metadata": {},
   "outputs": [],
   "source": []
  },
  {
   "cell_type": "code",
   "execution_count": 54,
   "id": "9d09c9fe",
   "metadata": {},
   "outputs": [
    {
     "data": {
      "text/html": [
       "<div>\n",
       "<style scoped>\n",
       "    .dataframe tbody tr th:only-of-type {\n",
       "        vertical-align: middle;\n",
       "    }\n",
       "\n",
       "    .dataframe tbody tr th {\n",
       "        vertical-align: top;\n",
       "    }\n",
       "\n",
       "    .dataframe thead th {\n",
       "        text-align: right;\n",
       "    }\n",
       "</style>\n",
       "<table border=\"1\" class=\"dataframe\">\n",
       "  <thead>\n",
       "    <tr style=\"text-align: right;\">\n",
       "      <th></th>\n",
       "      <th></th>\n",
       "      <th>group</th>\n",
       "      <th>top_words</th>\n",
       "      <th>topic_insights</th>\n",
       "    </tr>\n",
       "    <tr>\n",
       "      <th>topic_number</th>\n",
       "      <th>topic_labels</th>\n",
       "      <th></th>\n",
       "      <th></th>\n",
       "      <th></th>\n",
       "    </tr>\n",
       "  </thead>\n",
       "  <tbody>\n",
       "    <tr>\n",
       "      <th>1</th>\n",
       "      <th>Noodle and Pasta Enthusiasm</th>\n",
       "      <td>High Rating Reviews</td>\n",
       "      <td>[noodle, pasta, love, like, sauce, taste, rinse, great, smell, calorie]</td>\n",
       "      <td>This topic highlights a strong enthusiasm for noodles and pasta, with mentions of love, sauce, taste, and even calorie considerations.</td>\n",
       "    </tr>\n",
       "    <tr>\n",
       "      <th>2</th>\n",
       "      <th>Noodle and Rice Preferences</th>\n",
       "      <td>High Rating Reviews</td>\n",
       "      <td>[noodle, like, rice, good, smell, rinse, sauce, pasta, carb, taste]</td>\n",
       "      <td>This topic focuses on preferences for noodles and rice, with positive mentions of smell, taste, and sauce.</td>\n",
       "    </tr>\n",
       "    <tr>\n",
       "      <th>3</th>\n",
       "      <th>General Recommendations</th>\n",
       "      <td>High Rating Reviews</td>\n",
       "      <td>[recommend, love, good, pasta, definitely, feel, get, find, thank, help]</td>\n",
       "      <td>This topic is about general recommendations, with frequent mentions of love, good experiences, and helpfulness.</td>\n",
       "    </tr>\n",
       "    <tr>\n",
       "      <th>4</th>\n",
       "      <th>Low-Carb Noodle and Pasta</th>\n",
       "      <td>High Rating Reviews</td>\n",
       "      <td>[noodle, carb, pasta, great, love, like, good, rice, diet, taste]</td>\n",
       "      <td>This topic emphasizes low-carb noodles and pasta, with mentions of diet, great taste, and overall positive sentiment.</td>\n",
       "    </tr>\n",
       "    <tr>\n",
       "      <th>5</th>\n",
       "      <th>Overall Product Satisfaction</th>\n",
       "      <td>High Rating Reviews</td>\n",
       "      <td>[star, great, love, product, good, taste, diet, noodle, easy, fast]</td>\n",
       "      <td>This topic reflects overall product satisfaction, with high ratings, mentions of great taste, ease of use, and fast preparation.</td>\n",
       "    </tr>\n",
       "  </tbody>\n",
       "</table>\n",
       "</div>"
      ],
      "text/plain": [
       "                                                         group  \\\n",
       "topic_number topic_labels                                        \n",
       "1            Noodle and Pasta Enthusiasm   High Rating Reviews   \n",
       "2            Noodle and Rice Preferences   High Rating Reviews   \n",
       "3            General Recommendations       High Rating Reviews   \n",
       "4            Low-Carb Noodle and Pasta     High Rating Reviews   \n",
       "5            Overall Product Satisfaction  High Rating Reviews   \n",
       "\n",
       "                                                                                                          top_words  \\\n",
       "topic_number topic_labels                                                                                             \n",
       "1            Noodle and Pasta Enthusiasm    [noodle, pasta, love, like, sauce, taste, rinse, great, smell, calorie]   \n",
       "2            Noodle and Rice Preferences        [noodle, like, rice, good, smell, rinse, sauce, pasta, carb, taste]   \n",
       "3            General Recommendations       [recommend, love, good, pasta, definitely, feel, get, find, thank, help]   \n",
       "4            Low-Carb Noodle and Pasta            [noodle, carb, pasta, great, love, like, good, rice, diet, taste]   \n",
       "5            Overall Product Satisfaction       [star, great, love, product, good, taste, diet, noodle, easy, fast]   \n",
       "\n",
       "                                                                                                                                                                   topic_insights  \n",
       "topic_number topic_labels                                                                                                                                                          \n",
       "1            Noodle and Pasta Enthusiasm   This topic highlights a strong enthusiasm for noodles and pasta, with mentions of love, sauce, taste, and even calorie considerations.  \n",
       "2            Noodle and Rice Preferences                               This topic focuses on preferences for noodles and rice, with positive mentions of smell, taste, and sauce.  \n",
       "3            General Recommendations                              This topic is about general recommendations, with frequent mentions of love, good experiences, and helpfulness.  \n",
       "4            Low-Carb Noodle and Pasta                      This topic emphasizes low-carb noodles and pasta, with mentions of diet, great taste, and overall positive sentiment.  \n",
       "5            Overall Product Satisfaction        This topic reflects overall product satisfaction, with high ratings, mentions of great taste, ease of use, and fast preparation.  "
      ]
     },
     "execution_count": 54,
     "metadata": {},
     "output_type": "execute_result"
    }
   ],
   "source": [
    "## Getting dataframe of topic labels and insights\n",
    "response_high = analyze_topics(df_high_rows_combined.to_markdown(),#topics_string_high, \n",
    "                               group=\"High Rating Reviews\", temperature=0.1, model_type='gpt-4o')\n",
    "topics_df_high = pd.DataFrame(response_high).set_index(['topic_number','topic_labels'])\n",
    "topics_df_high"
   ]
  },
  {
   "cell_type": "code",
   "execution_count": 55,
   "id": "525cf07e",
   "metadata": {},
   "outputs": [
    {
     "data": {
      "text/html": [
       "<div>\n",
       "<style scoped>\n",
       "    .dataframe tbody tr th:only-of-type {\n",
       "        vertical-align: middle;\n",
       "    }\n",
       "\n",
       "    .dataframe tbody tr th {\n",
       "        vertical-align: top;\n",
       "    }\n",
       "\n",
       "    .dataframe thead th {\n",
       "        text-align: right;\n",
       "    }\n",
       "</style>\n",
       "<table border=\"1\" class=\"dataframe\">\n",
       "  <thead>\n",
       "    <tr style=\"text-align: right;\">\n",
       "      <th></th>\n",
       "      <th></th>\n",
       "      <th>group</th>\n",
       "      <th>top_words</th>\n",
       "      <th>topic_insights</th>\n",
       "    </tr>\n",
       "    <tr>\n",
       "      <th>topic_number</th>\n",
       "      <th>topic_labels</th>\n",
       "      <th></th>\n",
       "      <th></th>\n",
       "      <th></th>\n",
       "    </tr>\n",
       "  </thead>\n",
       "  <tbody>\n",
       "    <tr>\n",
       "      <th>1</th>\n",
       "      <th>Positive Noodle Reviews</th>\n",
       "      <td>Low Rating Reviews</td>\n",
       "      <td>[noodle, pasta, love, like, sauce, taste, rinse, great, smell, calorie]</td>\n",
       "      <td>This topic focuses on positive reviews about noodles and pasta, highlighting love for the taste and sauce.</td>\n",
       "    </tr>\n",
       "    <tr>\n",
       "      <th>2</th>\n",
       "      <th>General Positive Feedback</th>\n",
       "      <td>Low Rating Reviews</td>\n",
       "      <td>[noodle, like, rice, good, smell, rinse, sauce, pasta, carb, taste]</td>\n",
       "      <td>This topic includes general positive feedback about noodles, rice, and their good smell and taste.</td>\n",
       "    </tr>\n",
       "    <tr>\n",
       "      <th>3</th>\n",
       "      <th>Recommendations and Praise</th>\n",
       "      <td>Low Rating Reviews</td>\n",
       "      <td>[recommend, love, good, pasta, definitely, feel, get, find, thank, help]</td>\n",
       "      <td>This topic is centered around recommendations and praise for pasta, with users expressing love and gratitude.</td>\n",
       "    </tr>\n",
       "    <tr>\n",
       "      <th>4</th>\n",
       "      <th>Noodles and Diet</th>\n",
       "      <td>Low Rating Reviews</td>\n",
       "      <td>[noodle, carb, pasta, great, love, like, good, rice, diet, taste]</td>\n",
       "      <td>This topic discusses noodles in the context of low-carb diets, with users expressing great satisfaction.</td>\n",
       "    </tr>\n",
       "    <tr>\n",
       "      <th>5</th>\n",
       "      <th>Overall Product Satisfaction</th>\n",
       "      <td>Low Rating Reviews</td>\n",
       "      <td>[star, great, love, product, good, taste, diet, noodle, easy, fast]</td>\n",
       "      <td>This topic reflects overall product satisfaction, with users giving high ratings and praising the taste and ease of use.</td>\n",
       "    </tr>\n",
       "  </tbody>\n",
       "</table>\n",
       "</div>"
      ],
      "text/plain": [
       "                                                        group  \\\n",
       "topic_number topic_labels                                       \n",
       "1            Positive Noodle Reviews       Low Rating Reviews   \n",
       "2            General Positive Feedback     Low Rating Reviews   \n",
       "3            Recommendations and Praise    Low Rating Reviews   \n",
       "4            Noodles and Diet              Low Rating Reviews   \n",
       "5            Overall Product Satisfaction  Low Rating Reviews   \n",
       "\n",
       "                                                                                                          top_words  \\\n",
       "topic_number topic_labels                                                                                             \n",
       "1            Positive Noodle Reviews        [noodle, pasta, love, like, sauce, taste, rinse, great, smell, calorie]   \n",
       "2            General Positive Feedback          [noodle, like, rice, good, smell, rinse, sauce, pasta, carb, taste]   \n",
       "3            Recommendations and Praise    [recommend, love, good, pasta, definitely, feel, get, find, thank, help]   \n",
       "4            Noodles and Diet                     [noodle, carb, pasta, great, love, like, good, rice, diet, taste]   \n",
       "5            Overall Product Satisfaction       [star, great, love, product, good, taste, diet, noodle, easy, fast]   \n",
       "\n",
       "                                                                                                                                                     topic_insights  \n",
       "topic_number topic_labels                                                                                                                                            \n",
       "1            Positive Noodle Reviews                     This topic focuses on positive reviews about noodles and pasta, highlighting love for the taste and sauce.  \n",
       "2            General Positive Feedback                           This topic includes general positive feedback about noodles, rice, and their good smell and taste.  \n",
       "3            Recommendations and Praise               This topic is centered around recommendations and praise for pasta, with users expressing love and gratitude.  \n",
       "4            Noodles and Diet                              This topic discusses noodles in the context of low-carb diets, with users expressing great satisfaction.  \n",
       "5            Overall Product Satisfaction  This topic reflects overall product satisfaction, with users giving high ratings and praising the taste and ease of use.  "
      ]
     },
     "execution_count": 55,
     "metadata": {},
     "output_type": "execute_result"
    }
   ],
   "source": [
    "## Getting dataframe of topic labels and insights\n",
    "response_low = analyze_topics(df_high_rows_combined.to_markdown(),#topics_string_high, \n",
    "                               group=\"Low Rating Reviews\", temperature=0.1, model_type='gpt-4o')\n",
    "topics_df_low = pd.DataFrame(response_low).set_index(['topic_number','topic_labels'])\n",
    "topics_df_low"
   ]
  },
  {
   "cell_type": "markdown",
   "id": "c5d34b2d",
   "metadata": {},
   "source": [
    "\n",
    "#### Drawing Insights:\n",
    "\n",
    "1. **Health Consciousness**: High-rating reviews often mention health-related aspects, indicating that promoting these features could attract more positive feedback.\n",
    "2. **Packaging and Delivery**: Addressing packaging and delivery issues could help improve the overall customer experience and reduce negative reviews.\n",
    "3. **Quality and Flavor**: Maintaining and improving the quality and flavor of the product is crucial, as these are frequently mentioned in high-rating reviews.\n",
    "4. **Negative Experiences**: Understanding the specific negative experiences can help in addressing them, possibly through product improvements or better instructions.\n"
   ]
  },
  {
   "cell_type": "code",
   "execution_count": 56,
   "id": "bc5e8722",
   "metadata": {},
   "outputs": [
    {
     "name": "stdout",
     "output_type": "stream",
     "text": [
      "High Rating Reviews Topics (Rows):\n",
      "+---------+-------------------+---------------+---------------+-----------------+--------------------+---------------+---------------+----------------+---------------+-----------------+\n",
      "|  Topic  |      Word 1       |    Word 2     |    Word 3     |     Word 4      |       Word 5       |    Word 6     |    Word 7     |     Word 8     |    Word 9     |     Word 10     |\n",
      "+---------+-------------------+---------------+---------------+-----------------+--------------------+---------------+---------------+----------------+---------------+-----------------+\n",
      "| Topic 1 |  noodle (0.057)   | pasta (0.021) | love (0.019)  |  like (0.018)   |   sauce (0.016)    | taste (0.013) | rinse (0.012) | great (0.012)  | smell (0.011) | calorie (0.011) |\n",
      "| Topic 2 |  noodle (0.030)   | like (0.025)  | rice (0.024)  |  good (0.019)   |   smell (0.018)    | rinse (0.017) | sauce (0.017) | pasta (0.015)  | carb (0.014)  |  taste (0.013)  |\n",
      "| Topic 3 | recommend (0.010) | love (0.010)  | good (0.008)  |  pasta (0.006)  | definitely (0.006) | feel (0.006)  |  get (0.006)  |  find (0.006)  | thank (0.005) |  help (0.005)   |\n",
      "| Topic 4 |  noodle (0.043)   | carb (0.032)  | pasta (0.031) |  great (0.030)  |    love (0.018)    | like (0.016)  | good (0.014)  |  rice (0.014)  | diet (0.013)  |  taste (0.013)  |\n",
      "| Topic 5 |   star (0.110)    | great (0.055) | love (0.043)  | product (0.033) |    good (0.029)    | taste (0.026) | diet (0.011)  | noodle (0.009) | easy (0.008)  |  fast (0.008)   |\n",
      "+---------+-------------------+---------------+---------------+-----------------+--------------------+---------------+---------------+----------------+---------------+-----------------+\n",
      "Low Rating Reviews Topics (Columns):\n",
      "+---------+-----------------+-----------------+---------------+-----------------+-----------------+---------------+---------------+------------------+------------------+----------------+\n",
      "|  Topic  |     Word 1      |     Word 2      |    Word 3     |     Word 4      |     Word 5      |    Word 6     |    Word 7     |      Word 8      |      Word 9      |    Word 10     |\n",
      "+---------+-----------------+-----------------+---------------+-----------------+-----------------+---------------+---------------+------------------+------------------+----------------+\n",
      "| Topic 1 | noodle (0.049)  |  like (0.024)   | smell (0.023) | texture (0.021) |  taste (0.018)  | good (0.014)  | sauce (0.014) |   cook (0.012)   |  rinse (0.012)   |  try (0.012)   |\n",
      "| Topic 2 |  good (0.022)   |  star (0.022)   | gross (0.017) |  money (0.017)  | noodle (0.014)  | Star (0.014)  | leak (0.013)  |  waste (0.012)   |  Gross (0.011)   | throw (0.010)  |\n",
      "| Topic 3 |  like (0.058)   | texture (0.035) | taste (0.028) | noodle (0.025)  |   try (0.014)   | pasta (0.014) | smell (0.013) |  rubber (0.012)  | product (0.012)  |  rice (0.010)  |\n",
      "| Topic 4 |  like (0.053)   |  Star (0.050)   | taste (0.043) |  smell (0.037)  | texture (0.031) | star (0.027)  | fish (0.025)  | horrible (0.016) | terrible (0.016) | noodle (0.015) |\n",
      "| Topic 5 | package (0.034) | product (0.020) | smell (0.017) |  order (0.016)  | noodle (0.016)  | open (0.014)  | taste (0.012) |   like (0.012)   |   rice (0.011)   | think (0.011)  |\n",
      "+---------+-----------------+-----------------+---------------+-----------------+-----------------+---------------+---------------+------------------+------------------+----------------+\n"
     ]
    }
   ],
   "source": [
    "from tabulate import tabulate\n",
    "\n",
    "def print_topics_table(lda_model, num_topics, orientation=\"rows\", print_output=True):\n",
    "    topics_words = lda_model.print_topics(num_topics=num_topics)\n",
    "\n",
    "    if orientation == \"rows\":\n",
    "        table_data = []\n",
    "        for idx, topic in topics_words:\n",
    "            words = topic.split(\" + \")\n",
    "            words = [\"{} ({})\".format(word.split('*')[1].replace('\"', ''), word.split('*')[0]) for word in words]\n",
    "            table_data.append([\"Topic {}\".format(idx + 1)] + words)\n",
    "\n",
    "        # Ensure all rows have the same number of columns\n",
    "        max_words = max(len(topic) for topic in table_data)\n",
    "        for topic in table_data:\n",
    "            while len(topic) < max_words:\n",
    "                topic.append(\"\")  # Fill shorter rows with empty strings\n",
    "\n",
    "        headers = [\"Topic\"] + [\"Word {}\".format(i + 1) for i in range(max_words - 1)]\n",
    "\n",
    "    elif orientation == \"columns\":\n",
    "        table_data = [[] for _ in range(num_topics)]\n",
    "        for idx, topic in topics_words:\n",
    "            words = topic.split(\" + \")\n",
    "            words = [\"{} ({})\".format(word.split('*')[1].replace('\"', ''), word.split('*')[0]) for word in words]\n",
    "            table_data[idx].extend(words)\n",
    "\n",
    "        # Transpose the data to have topics as columns\n",
    "        max_words = max(len(topic) for topic in table_data)\n",
    "        for topic in table_data:\n",
    "            while len(topic) < max_words:\n",
    "                topic.append(\"\")  # Fill shorter topics with empty strings\n",
    "\n",
    "        table_data = list(map(list, zip(*table_data)))\n",
    "        headers = [\"Topic {}\".format(i + 1) for i in range(num_topics)]\n",
    "\n",
    "    else:\n",
    "        raise ValueError(\"Invalid orientation. Choose 'rows' or 'columns'.\")\n",
    "\n",
    "    table = tabulate(table_data, headers=headers, tablefmt=\"pretty\")\n",
    "\n",
    "    if print_output:\n",
    "        print(table)\n",
    "    else:\n",
    "        return table\n",
    "\n",
    "# Print the topics for high-rating reviews as rows\n",
    "print(\"High Rating Reviews Topics (Rows):\")\n",
    "print_topics_table(high_lda, num_topics, orientation=\"rows\")\n",
    "\n",
    "# Print the topics for low-rating reviews as columns\n",
    "print(\"Low Rating Reviews Topics (Columns):\")\n",
    "print_topics_table(low_lda, num_topics, orientation=\"rows\")\n"
   ]
  },
  {
   "cell_type": "markdown",
   "id": "74673770",
   "metadata": {},
   "source": [
    "### Interactive Visualization"
   ]
  },
  {
   "cell_type": "code",
   "execution_count": 57,
   "id": "c0066bd4",
   "metadata": {},
   "outputs": [
    {
     "data": {
      "text/markdown": [
       "### High Rating Reviews LDA Visualization"
      ],
      "text/plain": [
       "<IPython.core.display.Markdown object>"
      ]
     },
     "metadata": {},
     "output_type": "display_data"
    },
    {
     "data": {
      "text/html": [
       "\n",
       "<link rel=\"stylesheet\" type=\"text/css\" href=\"https://cdn.jsdelivr.net/gh/bmabey/pyLDAvis@3.4.0/pyLDAvis/js/ldavis.v1.0.0.css\">\n",
       "\n",
       "\n",
       "<div id=\"ldavis_el1796137308567686079609101\" style=\"background-color:white;\"></div>\n",
       "<script type=\"text/javascript\">\n",
       "\n",
       "var ldavis_el1796137308567686079609101_data = {\"mdsDat\": {\"x\": [0.09388809487467442, 0.06962153397975922, 0.07561752506166983, -0.12019583868935464, -0.11893131522674888], \"y\": [0.015235201518561635, 0.009431842206936733, -0.026649457301858408, -0.12959323879517054, 0.13157565237153057], \"topics\": [1, 2, 3, 4, 5], \"cluster\": [1, 1, 1, 1, 1], \"Freq\": [38.87994767597301, 30.491594078111266, 20.96901656038133, 6.85657838438436, 2.802863301150034]}, \"tinfo\": {\"Term\": [\"star\", \"great\", \"love\", \"product\", \"good\", \"taste\", \"carb\", \"recommend\", \"noodle\", \"pasta\", \"diet\", \"definitely\", \"feel\", \"easy\", \"rice\", \"alternative\", \"little\", \"find\", \"weight\", \"help\", \"expect\", \"fast\", \"stuff\", \"excellent\", \"thing\", \"get\", \"free\", \"weird\", \"perfect\", \"work\", \"seed\", \"chinese\", \"ruin\", \"research\", \"nervous\", \"sweet\", \"obviously\", \"call\", \"couscous\", \"bunch\", \"seasoned\", \"miso\", \"let\", \"rest\", \"e.g.\", \"sprout\", \"taco\", \"slippery\", \"ball\", \"list\", \"steak\", \"original\", \"dressing\", \"currently\", \"Cincinnati\", \"resemble\", \"bullion\", \"takeout\", \"obvious\", \"cube\", \"complain\", \"fried\", \"life\", \"brown\", \"pepper\", \"dry\", \"rice\", \"usually\", \"spice\", \"garlic\", \"smell\", \"minute\", \"food\", \"add\", \"thai\", \"away\", \"flavor\", \"absorb\", \"throw\", \"like\", \"butter\", \"good\", \"rinse\", \"cook\", \"follow\", \"week\", \"sauce\", \"boil\", \"go\", \"water\", \"stir\", \"texture\", \"dish\", \"little\", \"noodle\", \"taste\", \"carb\", \"fishy\", \"pasta\", \"calorie\", \"open\", \"say\", \"find\", \"package\", \"great\", \"diet\", \"try\", \"love\", \"heavy\", \"worried\", \"require\", \"brine\", \"freeze\", \"hooked\", \"wrap\", \"cardboard\", \"lunch\", \"overcooked\", \"tuna\", \"ketosis\", \"Olive\", \"dice\", \"packing\", \"clump\", \"bone\", \"apply\", \"evaporate\", \"account\", \"nose\", \"Broccoli\", \"splurge\", \"bring\", \"Dukan\", \"grill\", \"zucchini\", \"replication\", \"nonetheless\", \"moment\", \"drop\", \"subscription\", \"appearance\", \"control\", \"absolutely\", \"fool\", \"mild\", \"chicken\", \"disappoint\", \"broth\", \"eating\", \"diabetic\", \"noodle\", \"maybe\", \"bad\", \"count\", \"read\", \"delicious\", \"guilt\", \"lose\", \"weight\", \"love\", \"paleo\", \"squash\", \"pasta\", \"sauce\", \"review\", \"miracle\", \"soup\", \"spaghetti\", \"calorie\", \"like\", \"product\", \"texture\", \"taste\", \"rinse\", \"free\", \"boil\", \"time\", \"little\", \"smell\", \"hair\", \"package\", \"great\", \"try\", \"open\", \"Miracle\", \"water\", \"carb\", \"cook\", \"flavor\", \"minute\", \"good\", \"rice\", \"vegan\", \"TASTE\", \"jicama\", \"shelf\", \"guest\", \"conventional\", \"konnyaku\", \"Konjac\", \"daikon\", \"Spiralizer\", \"oder\", \"starchy\", \"trade\", \"prove\", \"fettachini\", \"sub\", \"dissipate\", \"household\", \"cholesterol\", \"favs\", \"shellfish\", \"replica\", \"belly&nbsp;diet\", \"thousand\", \"ground\", \"wide\", \"warning\", \"hide\", \"sized\", \"spiralize\", \"possible\", \"alternative\", \"konjac\", \"awesome\", \"replacement\", \"Guilt\", \"nice\", \"starch\", \"carb\", \"PASTA\", \"great\", \"pasta\", \"free\", \"prefer\", \"diet\", \"substitute\", \"lifestyle\", \"easy\", \"gluten\", \"noodle\", \"Amazon\", \"love\", \"prepare\", \"one\", \"want\", \"regular\", \"calorie\", \"dish\", \"good\", \"rice\", \"taste\", \"like\", \"rinse\", \"make\", \"cook\", \"water\", \"amazing\", \"asian\", \"sauce\", \"texture\", \"smell\", \"product\", \"flavor\", \"star\", \"Euro\", \"service\", \"Variety\", \"adkin\", \"damage\", \"teenage\", \"pay\", \"kitty\", \"litter\", \"loce\", \"pallet\", \"greedy\", \"sceptical\", \"wave\", \"Beefaroni\", \"branding\", \"preppe\", \"earth\", \"biggie\", \"comparison\", \"diabete\", \"Spinach\", \"daughter\", \"Pack\", \"fast\", \"prebiotic\", \"Free\", \"gift\", \"conclusion\", \"Angle\", \"Yummy\", \"delivery\", \"product\", \"great\", \"item\", \"quality\", \"....\", \"love\", \"dukan\", \"thank\", \"seller\", \"good\", \"Great\", \"taste\", \"price\", \"easy\", \"interesting\", \"stuff\", \"work\", \"diet\", \"expect\", \"meal\", \"enjoy\", \"arrive\", \"quick\", \"keto\", \"Shirataki\", \"Noodle\", \"healthy\", \"flavor\", \"excellent\", \"fill\", \"noodle\", \"Miracle\", \"sauce\", \"like\", \"carb\", \"time\", \"order\", \"calorie\", \"delish\", \"Taste\", \"nood\", \"jellyfish\", \"Love\", \"NOODLE\", \"speck\", \"nutritionist\", \"sooooooooooooooooooooooooooo\", \"highlight\", \"Joseph\", \"happily\", \"system\", \"FINALLY\", \"DOESN'T\", \"thankful\", \"favourite\", \"fajita\", \"Stir\", \"gorge\", \"pile\", \"helps\", \"retailer\", \"Lonnger\", \"Available\", \"verrrrryyyyy\", \"yummmm\", \"expectex\", \"lowcarb\", \"Celiacs\", \"pain\", \"MIRACLE\", \"morning\", \"Super\", \"trouble\", \"magic\", \"additional\", \"quantity\", \"produce\", \"skinny\", \"exercise\", \"insanely\", \"fit\", \"Excellent\", \"recommend\", \"thank\", \"mean\", \"highly\", \"get\", \"definitely\", \"Delicious\", \"Perfect\", \"weird\", \"Diet\", \"night\", \"feel\", \"help\", \"excellent\", \"love\", \"find\", \"thing\", \"perfect\", \"good\", \"weight\", \"little\", \"pasta\", \"well\", \"pretty\", \"tell\", \"sure\", \"texture\", \"stir\", \"great\", \"hair\", \"try\", \"smell\"], \"Freq\": [342.0, 764.0, 678.0, 367.0, 638.0, 586.0, 676.0, 107.0, 1701.0, 853.0, 320.0, 74.0, 127.0, 125.0, 620.0, 131.0, 207.0, 170.0, 99.0, 83.0, 97.0, 37.0, 83.0, 69.0, 110.0, 44.0, 202.0, 41.0, 101.0, 129.0, 8.91092432022437, 16.84282821781224, 6.982632587649692, 6.965740035701344, 6.9507827460181595, 9.590815894578835, 7.802048447507083, 7.815132774122413, 6.927834712091514, 6.014109330562733, 5.9884759520353406, 5.98259291423519, 5.979950431482191, 9.409226194266667, 6.808523276556642, 5.940961101839208, 5.045847231710887, 5.0194552981570775, 6.709915608664606, 4.98681699788442, 7.517243430670011, 10.837857431904164, 6.635134144184466, 5.773301003651439, 4.071536379194052, 4.070448136815483, 4.069967934602636, 4.068561966317799, 4.06864270607751, 4.063513239367992, 26.45171287318459, 9.7538992445356, 26.0936091127633, 11.154652338968317, 32.99530956078107, 30.948580575008137, 410.38476834398824, 30.02602814481124, 36.751064017859186, 46.3827551633819, 301.6853681106199, 166.94931318906038, 103.2963912050995, 99.77106602866122, 21.9948601949885, 67.86788033563822, 205.1778071566113, 65.28750140966424, 36.83766488605252, 422.8729644065467, 37.96274652436704, 320.6770182483913, 286.50288028579445, 202.517135031573, 112.22773171987193, 32.7623424600397, 284.4199938426914, 114.06418048059501, 104.51164220962912, 155.3483214905401, 87.4064954964528, 180.9028023208879, 131.6644991561409, 107.50584729167062, 515.3886878460833, 218.11403113616555, 234.34917404448356, 88.7147188326828, 263.1092745257073, 153.64896684823134, 84.35572872397896, 50.473753064224475, 80.6148024726472, 94.96289970415678, 151.82382564101636, 101.31345460379522, 84.93811557543052, 108.83716419275218, 12.832143487973472, 9.42961353245555, 9.411739271374683, 8.507310259715094, 6.675420119438748, 5.748602745643777, 5.745849882735565, 6.537628836154764, 14.49494773063302, 4.796897818255936, 5.501774951980599, 3.8900563871913354, 3.8889525841453616, 3.8879742487968945, 3.88646550950601, 3.8858502878366186, 3.8843751629444427, 3.8833745482852033, 3.883635646172849, 3.866631059942298, 9.211617902987213, 3.832604689416742, 3.818566378439694, 6.122383524197952, 3.7755376029017933, 6.036611304646073, 12.064371859939094, 2.9657610704622797, 2.9658273220969438, 2.965401670001666, 10.538999695535468, 5.236875901225517, 6.738465096812449, 7.402888865151449, 41.62150170038429, 8.121758578636312, 9.3773337617009, 81.30810232651416, 19.37755171223872, 39.89999733681671, 18.458588772653677, 30.98881398526612, 760.6504035967695, 18.62897468759728, 8.570800041574035, 9.71558138476414, 40.6100710220627, 72.24035717692152, 38.44857137746108, 42.58930557956305, 53.63322715810375, 258.1038234465335, 14.247960073143425, 11.568599347224284, 286.09619364632056, 212.77052603309667, 60.30135451648309, 66.89945761024053, 71.02505438870071, 68.50386817023144, 145.84361405814326, 247.9570654791501, 132.27475395616116, 132.5840314396488, 170.7723398173209, 164.12743297287756, 79.03395535972786, 79.63322973298794, 77.34818232025755, 77.9148616709929, 146.81821273624243, 56.47578578975423, 79.17528592650379, 160.47278799147162, 74.25168644961697, 66.07627694545077, 64.12432164509794, 86.94248842659167, 125.90367782090189, 89.34785349825398, 82.48027236908013, 74.62518463270294, 91.02375797564754, 84.44297176933655, 10.227196873740231, 4.784699191140563, 4.781068815417838, 4.775467618223248, 4.773792473731612, 4.7617643341758225, 4.734491627113841, 3.863363000809964, 3.8600285708647246, 3.8598801947800996, 3.841353612793346, 12.2146870009679, 2.9446164032316777, 2.9420131018193727, 2.9405951963005386, 2.940329087018331, 2.939527264807396, 2.9393990485168775, 2.9398363816503643, 2.9383555775739176, 2.9370013770044605, 3.6852939586412465, 2.9317603681312416, 2.928861120941451, 12.664824560482277, 2.9259159094210974, 5.700286076989201, 2.9129862238728585, 2.8992143965254713, 2.894373626764583, 6.337978533792612, 89.5891444375526, 7.529504617455387, 65.92754571107551, 49.52721452077743, 5.414361598755414, 48.71591989458482, 9.065355146109102, 299.17800211304285, 10.130919073031983, 280.33955510018814, 286.927367242413, 85.07007338153377, 15.292553192110397, 122.42276781271589, 88.02466700126746, 17.893006428703988, 52.4999917372008, 39.70810241363962, 394.67694449742567, 14.923553696727431, 169.1581981357759, 58.54008108935596, 16.492622190123804, 47.294717846218354, 51.75102796881889, 102.28965559676521, 74.58768577007396, 129.4324497199561, 124.74549434975123, 119.08285225310148, 146.63171516348413, 107.1199723700103, 36.366905228714536, 77.05583807306601, 64.70055720559287, 35.467159102683134, 39.27823324232281, 80.40154245035883, 65.40914117517643, 65.21181818564959, 53.0265591081323, 45.058866581919936, 332.7946887802845, 4.8370283252342015, 4.0619261115821965, 2.4979363728091064, 2.4967039373809725, 2.4856668637500694, 2.4176981641493502, 1.7194534434027324, 1.7194486971815715, 1.719447466679789, 1.7193456866037815, 1.719316330346971, 1.7167507341305084, 1.716143393607872, 1.7154685512731684, 1.7143858854905585, 1.7134672280169558, 1.7104379084144687, 1.7071362963461167, 1.6998649097415284, 1.69372523320488, 3.2255308462853725, 3.2219571175371247, 9.138545087310359, 3.204264611336747, 23.517381005011515, 1.5150598901087458, 6.113264343245438, 2.4995101845888934, 0.9376144082776398, 1.4114838967495658, 4.062908052004612, 8.11232277303453, 99.33205529122526, 166.7103277920941, 12.229799711800636, 6.217134865995552, 14.124752768785129, 130.3592519576365, 3.9936086526191295, 11.802126512283284, 3.932107470387104, 87.66395643937702, 7.987622316110663, 78.45751929514839, 15.000196426075108, 25.04044126613798, 4.852699995935816, 16.702596345274507, 19.820505044660965, 32.82167608870914, 16.19710340045787, 19.545745950079965, 15.007407869664293, 7.417072390482583, 11.185206357484379, 10.42096560728032, 8.516297211365272, 10.68070976753961, 12.166246755739316, 21.067654461538034, 10.797343054777565, 12.499158661416256, 27.888708352070786, 13.03649699236337, 16.156994667500157, 16.167065094087942, 15.555279295869402, 12.50190232881924, 11.018172420380083, 11.541467561841706, 4.1650867352858345, 5.023538458306156, 2.146062191629619, 2.143379423105531, 3.5054728990573283, 3.5020656522491063, 1.4816765140069252, 1.4815441504878442, 1.481112855242717, 1.4808347625071885, 1.480653966299801, 1.4799681479360067, 1.480238623661208, 1.480088439212305, 1.4800489169889095, 1.4776729846355465, 1.473219907937691, 1.4693014591344948, 0.8080728167166354, 0.8080715232620516, 0.8080706609589956, 0.8080664931608921, 0.8080629002314925, 0.8080519058675297, 0.80804975010989, 0.8080092218662626, 0.8080041199065152, 0.8079592082890202, 0.8078320904468627, 0.8078015505469661, 2.8027505210238006, 2.689161926378954, 2.635426936581696, 2.817404211721453, 2.155511021081845, 3.3227807746842286, 1.4824612097877963, 1.4803852151807113, 1.4808612064675695, 1.4795959204502087, 2.1308020144493156, 1.4798743006200892, 2.9781734306356435, 2.136809104971083, 12.554142570029795, 6.0752665008420745, 4.5629410056020365, 5.7975709995879905, 6.956566093065936, 7.61219120279219, 4.826900594044299, 3.9448416002625404, 5.543884889753748, 2.709962688127782, 4.694334433745155, 7.116680249091993, 5.869508919460995, 5.324364376731763, 12.219517246156336, 6.84720709491029, 5.833727366721976, 5.450618191227352, 9.31778813116384, 5.234227838298293, 5.837998066323508, 7.624126051954582, 5.156871206021998, 4.676956727693907, 4.021011703533913, 4.690016307475547, 5.308327264498092, 4.651949651638387, 5.289079510552944, 4.551148149009516, 4.680178866779462, 4.985680479808524], \"Total\": [342.0, 764.0, 678.0, 367.0, 638.0, 586.0, 676.0, 107.0, 1701.0, 853.0, 320.0, 74.0, 127.0, 125.0, 620.0, 131.0, 207.0, 170.0, 99.0, 83.0, 97.0, 37.0, 83.0, 69.0, 110.0, 44.0, 202.0, 41.0, 101.0, 129.0, 9.588727031123813, 18.287663408760224, 7.6477528799754335, 7.646203958975105, 7.641920148426379, 10.546124012865029, 8.589401086689008, 8.608095166287358, 7.6450920910106985, 6.677353635471845, 6.6714092089962564, 6.673384777782279, 6.672125956004157, 10.53796460316111, 7.639880152263271, 6.673020852669836, 5.706993771382525, 5.701602102248882, 7.633311272195029, 5.701778912151121, 8.59502376250929, 12.456107051584102, 7.630467707324872, 6.6638407760142195, 4.735952282627555, 4.735564860338162, 4.735342817101901, 4.735191832912212, 4.735577298049155, 4.735239663102538, 31.669530111922874, 11.47247067172553, 31.628851900570705, 13.386368162150317, 41.26157754034396, 39.28965326241202, 620.8027791182213, 39.147002267775136, 49.23363721520513, 64.06737823340134, 520.8394738114481, 273.9689186895877, 160.5380704338711, 154.68731291338548, 28.678076689446197, 101.97965634126223, 355.7006730263553, 98.4396557685163, 51.49184651794405, 837.7750719405414, 54.44300534827473, 638.1149705145358, 564.7126691561217, 380.68151660395677, 196.09381487504714, 46.37571318624989, 594.188300265687, 207.35009960105327, 192.03489705590383, 312.0033050660316, 157.84766979071068, 393.42544348916846, 267.2575205338825, 207.33732742668508, 1701.1042185170968, 586.7753866816117, 676.3363818680392, 176.5689726225192, 853.5808440138982, 415.7682513096743, 174.0247243829316, 80.73062093199354, 170.90760528349634, 227.3887944281303, 764.6355760353231, 320.9227365987648, 208.09887958723, 678.6779549788545, 13.750759376390643, 10.126334875741646, 10.127473911989256, 9.199968629306762, 7.346006023948569, 6.418459608782192, 6.418400400199557, 7.324340756965024, 16.274147493221193, 5.490115497183665, 6.353554456780977, 4.562905186632161, 4.56284540572142, 4.562650645071288, 4.562681795315086, 4.5627910129374, 4.562674101418551, 4.562367304170498, 4.562794242839666, 4.5611353938007655, 10.872871526878841, 4.5618856951156666, 4.5657527221536975, 7.3384773579307065, 4.548959990796435, 7.373280346772875, 14.750694765110726, 3.6356791951297547, 3.6357748974240374, 3.6356690316774007, 12.97525063037702, 6.436612728172224, 8.311352676828768, 9.1918856422539, 56.23638395216563, 10.185813580950189, 11.880878884511475, 127.35471512340665, 27.035157303827535, 60.615590027833576, 25.783965033132503, 46.407224252017144, 1701.1042185170968, 26.748236652604398, 11.1311983163941, 12.966306943489489, 67.43896483893427, 131.8737872773888, 63.40646457472572, 73.59255619368133, 99.57555059277492, 678.6779549788545, 20.464515206169605, 15.85062318185968, 853.5808440138982, 594.188300265687, 124.0543031621627, 141.8952251749507, 157.08785614435013, 152.0381019376763, 415.7682513096743, 837.7750719405414, 367.56303520446244, 393.42544348916846, 586.7753866816117, 564.7126691561217, 202.21960841714778, 207.35009960105327, 199.16790028799682, 207.33732742668508, 520.8394738114481, 131.35782498802885, 227.3887944281303, 764.6355760353231, 208.09887958723, 174.0247243829316, 165.5867021099953, 312.0033050660316, 676.3363818680392, 380.68151660395677, 355.7006730263553, 273.9689186895877, 638.1149705145358, 620.8027791182213, 10.981591508066407, 5.456765015283153, 5.456680101837474, 5.4557068931355905, 5.456838652366429, 5.456895869427312, 5.45600695387306, 4.536015642648407, 4.536099887177506, 4.53606517824889, 4.529755178646084, 14.676386095276412, 3.6154893600616393, 3.6153123247954095, 3.6143831545853375, 3.6150758944868104, 3.614816863500365, 3.6148562032015996, 3.6155449202772534, 3.614504088310433, 3.615325059680499, 4.5369538809629875, 3.615504438861469, 3.614602578570628, 15.643420514895077, 3.6158621410260774, 7.050757682837844, 3.615096163483, 3.6158220795692664, 3.616820753189072, 8.023360155015315, 131.30200016428907, 9.860046700132312, 106.76242037794218, 81.88235963625412, 7.102798363013433, 81.82503958727149, 12.779114606230463, 676.3363818680392, 14.567350073071527, 764.6355760353231, 853.5808440138982, 202.21960841714778, 25.898585522573093, 320.9227365987648, 221.86365341242487, 31.692719925258732, 125.29769199446308, 89.44003219386038, 1701.1042185170968, 25.695127777171745, 678.6779549788545, 162.91087417009533, 29.960987474278628, 130.85841482053652, 155.74380267941223, 415.7682513096743, 267.2575205338825, 638.1149705145358, 620.8027791182213, 586.7753866816117, 837.7750719405414, 564.7126691561217, 104.92998601507463, 380.68151660395677, 312.0033050660316, 111.64552116766973, 138.77345861090478, 594.188300265687, 393.42544348916846, 520.8394738114481, 367.56303520446244, 355.7006730263553, 342.2555352709997, 5.5465281790642775, 4.76365437871126, 3.200132881551289, 3.200243577523029, 3.203455736674012, 3.214252401324538, 2.4179881410947943, 2.4179841921156626, 2.4179835642536256, 2.417910411606158, 2.4180122558764303, 2.4180322826006573, 2.4185006038306347, 2.4183042385338083, 2.4185068533235397, 2.4181021068203163, 2.4189585115610757, 2.4197195973298777, 2.4191464988272213, 2.4220933358010854, 4.95497675473845, 4.960213409772464, 14.075530607366046, 4.9688464117006745, 37.64295427433397, 2.4541374804097424, 9.97969360900255, 4.1680534444381365, 1.6361477470224437, 2.4730280465302426, 7.523616246565906, 16.09763331347042, 367.56303520446244, 764.6355760353231, 29.549829992276823, 12.729838069397868, 36.780739829182636, 678.6779549788545, 7.556524472967547, 32.93927779751567, 7.704476928781691, 638.1149705145358, 21.65512707470376, 586.7753866816117, 55.53335482025426, 125.29769199446308, 11.134360604365845, 83.0226255665365, 129.61946416833658, 320.9227365987648, 97.1106631017663, 152.55373968700565, 103.77595448304433, 26.410486450170055, 62.33751489357677, 58.17518161735893, 38.60011151605587, 64.25648864001275, 86.14220855325527, 355.7006730263553, 69.36912016552043, 114.23793073456817, 1701.1042185170968, 165.5867021099953, 594.188300265687, 837.7750719405414, 676.3363818680392, 199.16790028799682, 128.4737497936796, 415.7682513096743, 4.899681373466914, 6.424773205155366, 2.8781296587896916, 2.8791938715457968, 5.003281897990664, 5.148101885721798, 2.201858050868042, 2.201861162404084, 2.202083892545148, 2.2021878505893064, 2.2021765965431612, 2.2019004242720452, 2.2024010586118115, 2.202570197086636, 2.2025870917999897, 2.202133015531088, 2.2032656521909093, 2.2043457893064624, 1.5282438422511389, 1.5282439480458545, 1.5282437917358498, 1.5282400183523388, 1.5282385909228733, 1.5282283899805664, 1.528228613189599, 1.5281970206058708, 1.5281979288348113, 1.5281646510650257, 1.5282526886565897, 1.5282354298347216, 5.499552619485863, 5.549016125472388, 5.459605931390799, 6.387099581109462, 4.71502310387511, 8.051438519726947, 3.119640829335193, 3.119187481970415, 3.1209304546840313, 3.1215164306588288, 4.824376217789582, 3.1279700968922004, 7.303042977371446, 5.646178142606411, 107.34707925343578, 32.93927779751567, 20.625617701411507, 32.33903122418201, 44.98829670074992, 74.49771144241085, 27.969576528337402, 18.28104785717447, 41.63506699249545, 9.203142054907657, 38.6058079872537, 127.55758454894723, 83.91501498647332, 69.36912016552043, 678.6779549788545, 170.90760528349634, 110.10656216202383, 101.42497359801175, 638.1149705145358, 99.57555059277492, 207.33732742668508, 853.5808440138982, 139.24216202570025, 97.21111060650261, 47.62358015294116, 142.94418079578955, 393.42544348916846, 157.84766979071068, 764.6355760353231, 131.35782498802885, 208.09887958723, 520.8394738114481], \"Category\": [\"Default\", \"Default\", \"Default\", \"Default\", \"Default\", \"Default\", \"Default\", \"Default\", \"Default\", \"Default\", \"Default\", \"Default\", \"Default\", \"Default\", \"Default\", \"Default\", \"Default\", \"Default\", \"Default\", \"Default\", \"Default\", \"Default\", \"Default\", \"Default\", \"Default\", \"Default\", \"Default\", \"Default\", \"Default\", \"Default\", \"Topic1\", \"Topic1\", \"Topic1\", \"Topic1\", \"Topic1\", \"Topic1\", \"Topic1\", \"Topic1\", \"Topic1\", \"Topic1\", \"Topic1\", \"Topic1\", \"Topic1\", \"Topic1\", \"Topic1\", \"Topic1\", \"Topic1\", \"Topic1\", \"Topic1\", \"Topic1\", \"Topic1\", \"Topic1\", \"Topic1\", \"Topic1\", \"Topic1\", \"Topic1\", \"Topic1\", \"Topic1\", \"Topic1\", \"Topic1\", \"Topic1\", \"Topic1\", \"Topic1\", \"Topic1\", \"Topic1\", \"Topic1\", \"Topic1\", \"Topic1\", \"Topic1\", \"Topic1\", \"Topic1\", \"Topic1\", \"Topic1\", \"Topic1\", \"Topic1\", \"Topic1\", \"Topic1\", \"Topic1\", \"Topic1\", \"Topic1\", \"Topic1\", \"Topic1\", \"Topic1\", \"Topic1\", \"Topic1\", \"Topic1\", \"Topic1\", \"Topic1\", \"Topic1\", \"Topic1\", \"Topic1\", \"Topic1\", \"Topic1\", \"Topic1\", \"Topic1\", \"Topic1\", \"Topic1\", \"Topic1\", \"Topic1\", \"Topic1\", \"Topic1\", \"Topic1\", \"Topic1\", \"Topic1\", \"Topic1\", \"Topic1\", \"Topic1\", \"Topic1\", \"Topic2\", \"Topic2\", \"Topic2\", \"Topic2\", \"Topic2\", \"Topic2\", \"Topic2\", \"Topic2\", \"Topic2\", \"Topic2\", \"Topic2\", \"Topic2\", \"Topic2\", \"Topic2\", \"Topic2\", \"Topic2\", \"Topic2\", \"Topic2\", \"Topic2\", \"Topic2\", \"Topic2\", \"Topic2\", \"Topic2\", \"Topic2\", \"Topic2\", \"Topic2\", \"Topic2\", \"Topic2\", \"Topic2\", \"Topic2\", \"Topic2\", \"Topic2\", \"Topic2\", \"Topic2\", \"Topic2\", \"Topic2\", \"Topic2\", \"Topic2\", \"Topic2\", \"Topic2\", \"Topic2\", \"Topic2\", \"Topic2\", \"Topic2\", \"Topic2\", \"Topic2\", \"Topic2\", \"Topic2\", \"Topic2\", \"Topic2\", \"Topic2\", \"Topic2\", \"Topic2\", \"Topic2\", \"Topic2\", \"Topic2\", \"Topic2\", \"Topic2\", \"Topic2\", \"Topic2\", \"Topic2\", \"Topic2\", \"Topic2\", \"Topic2\", \"Topic2\", \"Topic2\", \"Topic2\", \"Topic2\", \"Topic2\", \"Topic2\", \"Topic2\", \"Topic2\", \"Topic2\", \"Topic2\", \"Topic2\", \"Topic2\", \"Topic2\", \"Topic2\", \"Topic2\", \"Topic2\", \"Topic2\", \"Topic2\", \"Topic2\", \"Topic2\", \"Topic3\", \"Topic3\", \"Topic3\", \"Topic3\", \"Topic3\", \"Topic3\", \"Topic3\", \"Topic3\", \"Topic3\", \"Topic3\", \"Topic3\", \"Topic3\", \"Topic3\", \"Topic3\", \"Topic3\", \"Topic3\", \"Topic3\", \"Topic3\", \"Topic3\", \"Topic3\", \"Topic3\", \"Topic3\", \"Topic3\", \"Topic3\", \"Topic3\", \"Topic3\", \"Topic3\", \"Topic3\", \"Topic3\", \"Topic3\", \"Topic3\", \"Topic3\", \"Topic3\", \"Topic3\", \"Topic3\", \"Topic3\", \"Topic3\", \"Topic3\", \"Topic3\", \"Topic3\", \"Topic3\", \"Topic3\", \"Topic3\", \"Topic3\", \"Topic3\", \"Topic3\", \"Topic3\", \"Topic3\", \"Topic3\", \"Topic3\", \"Topic3\", \"Topic3\", \"Topic3\", \"Topic3\", \"Topic3\", \"Topic3\", \"Topic3\", \"Topic3\", \"Topic3\", \"Topic3\", \"Topic3\", \"Topic3\", \"Topic3\", \"Topic3\", \"Topic3\", \"Topic3\", \"Topic3\", \"Topic3\", \"Topic3\", \"Topic3\", \"Topic3\", \"Topic3\", \"Topic3\", \"Topic4\", \"Topic4\", \"Topic4\", \"Topic4\", \"Topic4\", \"Topic4\", \"Topic4\", \"Topic4\", \"Topic4\", \"Topic4\", \"Topic4\", \"Topic4\", \"Topic4\", \"Topic4\", \"Topic4\", \"Topic4\", \"Topic4\", \"Topic4\", \"Topic4\", \"Topic4\", \"Topic4\", \"Topic4\", \"Topic4\", \"Topic4\", \"Topic4\", \"Topic4\", \"Topic4\", \"Topic4\", \"Topic4\", \"Topic4\", \"Topic4\", \"Topic4\", \"Topic4\", \"Topic4\", \"Topic4\", \"Topic4\", \"Topic4\", \"Topic4\", \"Topic4\", \"Topic4\", \"Topic4\", \"Topic4\", \"Topic4\", \"Topic4\", \"Topic4\", \"Topic4\", \"Topic4\", \"Topic4\", \"Topic4\", \"Topic4\", \"Topic4\", \"Topic4\", \"Topic4\", \"Topic4\", \"Topic4\", \"Topic4\", \"Topic4\", \"Topic4\", \"Topic4\", \"Topic4\", \"Topic4\", \"Topic4\", \"Topic4\", \"Topic4\", \"Topic4\", \"Topic4\", \"Topic4\", \"Topic4\", \"Topic4\", \"Topic4\", \"Topic4\", \"Topic5\", \"Topic5\", \"Topic5\", \"Topic5\", \"Topic5\", \"Topic5\", \"Topic5\", \"Topic5\", \"Topic5\", \"Topic5\", \"Topic5\", \"Topic5\", \"Topic5\", \"Topic5\", \"Topic5\", \"Topic5\", \"Topic5\", \"Topic5\", \"Topic5\", \"Topic5\", \"Topic5\", \"Topic5\", \"Topic5\", \"Topic5\", \"Topic5\", \"Topic5\", \"Topic5\", \"Topic5\", \"Topic5\", \"Topic5\", \"Topic5\", \"Topic5\", \"Topic5\", \"Topic5\", \"Topic5\", \"Topic5\", \"Topic5\", \"Topic5\", \"Topic5\", \"Topic5\", \"Topic5\", \"Topic5\", \"Topic5\", \"Topic5\", \"Topic5\", \"Topic5\", \"Topic5\", \"Topic5\", \"Topic5\", \"Topic5\", \"Topic5\", \"Topic5\", \"Topic5\", \"Topic5\", \"Topic5\", \"Topic5\", \"Topic5\", \"Topic5\", \"Topic5\", \"Topic5\", \"Topic5\", \"Topic5\", \"Topic5\", \"Topic5\", \"Topic5\", \"Topic5\", \"Topic5\", \"Topic5\", \"Topic5\", \"Topic5\", \"Topic5\", \"Topic5\", \"Topic5\", \"Topic5\", \"Topic5\", \"Topic5\"], \"logprob\": [30.0, 29.0, 28.0, 27.0, 26.0, 25.0, 24.0, 23.0, 22.0, 21.0, 20.0, 19.0, 18.0, 17.0, 16.0, 15.0, 14.0, 13.0, 12.0, 11.0, 10.0, 9.0, 8.0, 7.0, 6.0, 5.0, 4.0, 3.0, 2.0, 1.0, -7.561, -6.9244, -7.8048, -7.8073, -7.8094, -7.4875, -7.6939, -7.6922, -7.8127, -7.9542, -7.9584, -7.9594, -7.9599, -7.5066, -7.8301, -7.9664, -8.1297, -8.135, -7.8447, -8.1415, -7.7311, -7.3652, -7.8559, -7.995, -8.3443, -8.3445, -8.3446, -8.345, -8.345, -8.3462, -6.473, -7.4706, -6.4866, -7.3364, -6.2519, -6.3159, -3.7312, -6.3462, -6.1441, -5.9113, -4.0389, -4.6306, -5.1107, -5.1454, -6.6575, -5.5307, -4.4244, -5.5695, -6.1418, -3.7012, -6.1117, -3.9778, -4.0905, -4.4375, -5.0277, -6.259, -4.0978, -5.0115, -5.099, -4.7026, -5.2777, -4.5503, -4.868, -5.0707, -3.5034, -4.3633, -4.2915, -5.2628, -4.1757, -4.7136, -5.3132, -5.8268, -5.3586, -5.1948, -4.7256, -5.1301, -5.3064, -5.0584, -6.9533, -7.2614, -7.2633, -7.3643, -7.6068, -7.7563, -7.7568, -7.6277, -6.8314, -7.9373, -7.8002, -8.1468, -8.1471, -8.1474, -8.1477, -8.1479, -8.1483, -8.1485, -8.1485, -8.1529, -7.2848, -8.1617, -8.1654, -7.6933, -8.1767, -7.7074, -7.015, -8.4181, -8.4181, -8.4182, -7.1502, -7.8495, -7.5974, -7.5034, -5.7766, -7.4107, -7.267, -5.107, -6.5411, -5.8189, -6.5897, -6.0716, -2.8711, -6.5805, -7.3569, -7.2315, -5.8012, -5.2252, -5.8559, -5.7536, -5.5231, -3.9519, -6.8486, -7.057, -3.8489, -4.145, -5.4059, -5.3021, -5.2422, -5.2784, -4.5227, -3.992, -4.6204, -4.618, -4.3649, -4.4046, -5.1354, -5.1278, -5.1569, -5.1496, -4.5161, -5.4714, -5.1336, -4.4271, -5.1978, -5.3144, -5.3444, -5.04, -4.6697, -5.0127, -5.0927, -5.1928, -4.9941, -5.0692, -6.8058, -7.5654, -7.5662, -7.5674, -7.5677, -7.5702, -7.576, -7.7793, -7.7802, -7.7802, -7.785, -6.6282, -8.0509, -8.0517, -8.0522, -8.0523, -8.0526, -8.0526, -8.0525, -8.053, -8.0535, -7.8265, -8.0552, -8.0562, -6.592, -8.0572, -7.3903, -8.0617, -8.0664, -8.0681, -7.2843, -4.6356, -7.112, -4.9423, -5.2283, -7.4418, -5.2448, -6.9264, -3.4298, -6.8153, -3.4948, -3.4716, -4.6874, -6.4035, -4.3234, -4.6532, -6.2464, -5.17, -5.4493, -3.1528, -6.4279, -4.0, -5.0611, -6.3279, -5.2744, -5.1844, -4.503, -4.8189, -4.2677, -4.3046, -4.351, -4.1429, -4.4569, -5.5372, -4.7863, -4.9611, -5.5622, -5.4602, -4.7438, -4.9502, -4.9532, -5.16, -5.3229, -2.2055, -6.4367, -6.6113, -7.0975, -7.098, -7.1025, -7.1302, -7.471, -7.471, -7.471, -7.4711, -7.4711, -7.4726, -7.4729, -7.4733, -7.474, -7.4745, -7.4763, -7.4782, -7.4825, -7.4861, -6.8419, -6.843, -5.8005, -6.8485, -4.8553, -7.5976, -6.2025, -7.0969, -8.0774, -7.6684, -6.6111, -5.9196, -3.4145, -2.8967, -5.5091, -6.1857, -5.3651, -3.1427, -6.6283, -5.5447, -6.6438, -3.5395, -5.9351, -3.6504, -5.3049, -4.7925, -6.4335, -5.1974, -5.0263, -4.5219, -5.2282, -5.0402, -5.3045, -6.0092, -5.5984, -5.6692, -5.871, -5.6446, -5.5143, -4.9653, -5.6337, -5.4873, -4.6848, -5.4453, -5.2307, -5.23, -5.2686, -5.4871, -5.6135, -5.5671, -5.6917, -5.5043, -6.3548, -6.3561, -5.8641, -5.8651, -6.7253, -6.7254, -6.7256, -6.7258, -6.726, -6.7264, -6.7262, -6.7263, -6.7264, -6.728, -6.731, -6.7337, -7.3315, -7.3315, -7.3315, -7.3315, -7.3316, -7.3316, -7.3316, -7.3316, -7.3316, -7.3317, -7.3318, -7.3319, -6.0878, -6.1292, -6.1494, -6.0826, -6.3504, -5.9176, -6.7247, -6.7261, -6.7258, -6.7267, -6.3619, -6.7265, -6.0271, -6.3591, -4.5884, -5.3142, -5.6005, -5.361, -5.1788, -5.0887, -5.5442, -5.746, -5.4057, -6.1215, -5.5721, -5.156, -5.3487, -5.4461, -4.6154, -5.1946, -5.3548, -5.4227, -4.8865, -5.4632, -5.3541, -5.0871, -5.4781, -5.5758, -5.7269, -5.573, -5.4492, -5.5812, -5.4528, -5.6031, -5.5751, -5.5119], \"loglift\": [30.0, 29.0, 28.0, 27.0, 26.0, 25.0, 24.0, 23.0, 22.0, 21.0, 20.0, 19.0, 18.0, 17.0, 16.0, 15.0, 14.0, 13.0, 12.0, 11.0, 10.0, 9.0, 8.0, 7.0, 6.0, 5.0, 4.0, 3.0, 2.0, 1.0, 0.8714, 0.8624, 0.8537, 0.8515, 0.8499, 0.8497, 0.8485, 0.8481, 0.8462, 0.8401, 0.8367, 0.8354, 0.8352, 0.8314, 0.8295, 0.8285, 0.8216, 0.8173, 0.8158, 0.8107, 0.8107, 0.8055, 0.8049, 0.8012, 0.7935, 0.7933, 0.7933, 0.793, 0.7929, 0.7917, 0.7647, 0.7824, 0.7523, 0.7623, 0.7211, 0.7061, 0.5308, 0.6794, 0.6523, 0.6217, 0.3986, 0.4494, 0.5038, 0.5062, 0.6794, 0.5375, 0.3945, 0.534, 0.6098, 0.261, 0.5841, 0.2566, 0.2661, 0.3136, 0.3866, 0.5972, 0.2079, 0.347, 0.3363, 0.2473, 0.3536, 0.1678, 0.2367, 0.2879, -0.2494, -0.0449, -0.1152, 0.2564, -0.2322, -0.0508, 0.2205, 0.475, 0.1933, 0.0715, -0.672, -0.2083, 0.0486, -0.8856, 1.1186, 1.1164, 1.1144, 1.1094, 1.092, 1.0775, 1.077, 1.0741, 1.0719, 1.0527, 1.0438, 1.0282, 1.0279, 1.0277, 1.0273, 1.0271, 1.0268, 1.0266, 1.0266, 1.0225, 1.0219, 1.0135, 1.009, 1.0065, 1.0014, 0.9877, 0.9867, 0.9841, 0.9841, 0.9839, 0.9798, 0.9814, 0.9779, 0.9713, 0.8868, 0.9613, 0.9511, 0.739, 0.8547, 0.7695, 0.8535, 0.7839, 0.3829, 0.826, 0.9263, 0.8991, 0.6805, 0.5859, 0.6875, 0.6408, 0.569, 0.2209, 0.8256, 0.8728, 0.0946, 0.1607, 0.4664, 0.4358, 0.3939, 0.3905, 0.1401, -0.0298, 0.1657, 0.1, -0.0466, -0.048, 0.2482, 0.2307, 0.2419, 0.209, -0.0785, 0.3436, 0.1327, -0.3736, 0.1572, 0.2193, 0.239, -0.09, -0.4935, -0.2617, -0.2738, -0.1128, -0.7597, -0.8072, 1.491, 1.4307, 1.4299, 1.429, 1.4284, 1.4259, 1.4203, 1.4016, 1.4007, 1.4007, 1.3973, 1.3785, 1.3569, 1.356, 1.3558, 1.3555, 1.3553, 1.3553, 1.3552, 1.355, 1.3543, 1.3542, 1.3525, 1.3518, 1.3509, 1.3504, 1.3495, 1.3462, 1.3412, 1.3393, 1.3263, 1.1799, 1.2925, 1.0801, 1.0594, 1.2907, 1.0435, 1.2188, 0.7465, 1.1989, 0.5587, 0.4719, 0.6962, 1.0353, 0.5984, 0.6377, 0.9904, 0.6922, 0.7501, 0.1012, 1.0188, 0.1728, 0.5386, 0.9651, 0.5444, 0.4604, 0.1598, 0.2859, -0.0332, -0.0426, -0.0327, -0.1807, -0.1002, 0.5025, -0.0353, -0.0111, 0.4154, 0.3, -0.438, -0.2321, -0.5157, -0.374, -0.504, 2.6519, 2.5431, 2.5206, 2.4322, 2.4317, 2.4263, 2.3952, 2.339, 2.339, 2.339, 2.339, 2.3389, 2.3374, 2.3369, 2.3366, 2.3359, 2.3355, 2.3334, 2.3311, 2.3271, 2.3223, 2.2507, 2.2485, 2.248, 2.2413, 2.2096, 2.1976, 2.1899, 2.1686, 2.1232, 2.1192, 2.0638, 1.9947, 1.3715, 1.1568, 1.7978, 1.9633, 1.7229, 1.0301, 2.0422, 1.6536, 2.0073, 0.695, 1.6826, 0.6679, 1.371, 1.0698, 1.8495, 1.0764, 0.8021, 0.3999, 0.8889, 0.6252, 0.7463, 1.41, 0.962, 0.9603, 1.1687, 0.8855, 0.7226, -0.1464, 0.8198, 0.4673, -1.4308, 0.1382, -0.9249, -1.2678, -1.0923, -0.0883, 0.2238, -0.9042, 3.4121, 3.3285, 3.281, 3.2794, 3.2188, 3.1893, 3.1784, 3.1783, 3.1779, 3.1777, 3.1776, 3.1772, 3.1772, 3.177, 3.177, 3.1756, 3.172, 3.1689, 2.9373, 2.9373, 2.9373, 2.9373, 2.9373, 2.9373, 2.9373, 2.9373, 2.9373, 2.9372, 2.937, 2.937, 2.9005, 2.8501, 2.8462, 2.7561, 2.7918, 2.6895, 2.8305, 2.8293, 2.829, 2.828, 2.7573, 2.8261, 2.6775, 2.6029, 1.4285, 1.8841, 2.066, 1.8557, 1.7078, 1.2935, 1.8176, 2.0411, 1.5583, 2.3519, 1.4675, 0.6884, 0.9145, 1.0074, -0.4426, 0.3572, 0.6367, 0.6509, -0.6521, 0.6288, 0.0046, -1.1436, 0.2786, 0.5403, 1.1027, 0.1575, -0.7311, 0.0502, -1.3992, 0.212, -0.2201, -1.0743]}, \"token.table\": {\"Topic\": [1, 2, 3, 4, 5, 1, 2, 3, 5, 2, 4, 5, 4, 2, 5, 1, 5, 1, 2, 3, 5, 1, 3, 5, 2, 4, 2, 3, 5, 5, 1, 3, 4, 1, 2, 3, 4, 3, 4, 5, 3, 5, 4, 5, 1, 5, 1, 2, 3, 4, 2, 5, 1, 2, 3, 4, 5, 2, 1, 2, 3, 4, 1, 4, 1, 2, 3, 4, 5, 1, 2, 3, 4, 5, 1, 4, 3, 5, 1, 2, 5, 3, 3, 5, 4, 3, 4, 1, 2, 3, 5, 1, 2, 3, 4, 2, 1, 2, 3, 4, 3, 5, 4, 1, 2, 3, 5, 1, 2, 3, 4, 5, 1, 2, 2, 1, 2, 3, 4, 5, 1, 2, 3, 1, 2, 3, 4, 1, 2, 3, 1, 2, 1, 3, 4, 1, 2, 3, 4, 5, 2, 4, 2, 2, 3, 1, 2, 3, 1, 3, 1, 1, 1, 2, 1, 1, 2, 3, 4, 5, 1, 2, 3, 4, 5, 2, 1, 2, 3, 5, 1, 2, 3, 2, 4, 1, 2, 4, 2, 3, 3, 1, 2, 3, 4, 5, 1, 2, 3, 1, 1, 1, 3, 4, 1, 2, 4, 1, 2, 3, 5, 1, 2, 3, 4, 5, 5, 1, 2, 3, 4, 1, 4, 1, 2, 4, 2, 1, 2, 3, 4, 5, 1, 2, 3, 1, 2, 3, 4, 3, 1, 1, 2, 1, 2, 3, 2, 4, 1, 4, 1, 2, 3, 4, 5, 2, 3, 4, 1, 2, 3, 4, 2, 1, 2, 3, 4, 5, 1, 5, 1, 2, 3, 4, 5, 5, 5, 1, 2, 4, 5, 3, 1, 2, 3, 5, 3, 1, 2, 3, 4, 1, 2, 3, 4, 5, 1, 2, 3, 4, 5, 1, 3, 5, 1, 2, 3, 4, 5, 1, 2, 3, 5, 1, 2, 3, 4, 5, 1, 2, 1, 2, 3, 2, 1, 3, 1, 2, 3, 1, 2, 3, 4, 5, 1, 4, 1, 2, 3, 1, 2, 3, 4, 1, 2, 3, 4, 5, 5, 1, 2, 3, 4, 5, 4, 1, 2, 1, 2, 3, 3, 1, 2, 3, 4, 1, 2, 3, 4, 5, 5, 1, 2, 3, 4, 2, 1, 2, 3, 5, 5, 3, 5, 1, 2, 4, 5, 2, 3, 2, 5, 2, 4, 5, 1, 2, 3, 4, 5, 3, 1, 3, 4, 5, 2, 4, 1, 3, 5, 3, 1, 1, 2, 3, 1, 2, 3, 4, 1, 2, 3, 4, 5, 1, 4, 1, 2, 3, 4, 5, 4, 1, 2, 3, 5, 1, 2, 3, 4, 5, 5, 2, 5, 1, 2, 3, 5, 1, 2, 3, 4, 5, 1, 2, 3, 4, 1, 2, 3, 4, 5, 1, 2, 3, 4, 5, 1, 2, 4, 1, 2, 3, 4, 5, 1, 2, 3, 4, 1, 2, 3, 5, 1, 1, 2, 3, 4, 1, 2, 3, 4, 5, 2, 5, 1, 2, 3, 4, 5, 2, 4, 5, 1, 1, 3, 1, 2, 3, 1, 2, 3, 4, 1, 2, 3, 4, 5, 1, 2, 2, 1, 2, 3, 4, 5, 2, 1, 5, 2, 3, 4, 5, 4, 1, 2, 3, 4, 5, 4, 1, 2, 1, 2, 3, 4, 5, 5, 1, 3, 5, 4, 1, 2, 3, 1, 2, 3, 4, 5, 4, 1, 2, 3, 4, 5, 1, 2, 3, 4, 5, 3, 5, 1, 2, 3, 4, 5, 3, 1, 2, 4, 3, 5, 1, 2, 3, 4, 5, 1, 2, 3, 4, 5, 1, 2, 3, 4, 5, 1, 2, 3, 4, 1, 2, 3, 3, 2, 2, 1, 1, 1, 2, 5, 1, 2, 3, 4, 5, 1, 2, 3, 5, 1, 2, 3, 4, 5, 1, 1, 2, 3, 4, 1, 2, 3, 4, 5, 4, 1, 1, 1, 4, 4, 3, 3, 3, 3, 5, 1, 1, 2, 3, 4, 5, 5, 1, 2, 3, 4, 1, 2, 3, 4, 5, 5, 1, 2, 3, 5, 3, 2, 1, 1, 2, 2, 3, 4, 2, 3, 2, 3, 1, 3, 1, 2, 3, 4, 5, 1, 2, 3, 4, 5, 3, 1, 2, 1, 2, 3, 4, 5, 1, 2, 3, 4, 5, 1, 5, 1, 1, 1, 2, 3, 4, 4, 1, 2, 3, 5, 1, 2, 3, 4, 5, 1, 3, 1, 2, 4, 5, 5, 1, 2, 3, 4, 5, 3, 1, 2, 4, 1, 2, 3, 4, 5, 3, 3, 5, 1, 2, 3, 4, 5, 2, 1, 2, 3, 3, 5, 1, 2, 3, 4, 3, 5, 1, 2, 3, 4, 5, 4, 1, 2, 3, 4, 5, 1, 2, 3, 5, 1, 2, 3, 5, 1, 2, 3, 4, 5, 3, 1, 2, 3, 4, 5, 2, 2, 5, 2, 3], \"Freq\": [0.13594071308029784, 0.2718814261605957, 0.1631288556963574, 0.380633996624834, 0.05437628523211914, 0.07783576782898331, 0.1945894195724583, 0.5837682587173748, 0.11675365174347496, 0.4043625794713651, 0.4043625794713651, 0.6543523602223874, 0.8269565154432278, 0.8768303871100348, 0.6543494415046704, 0.8446031043582979, 0.45401155928085635, 0.14301253349143117, 0.6078032673385825, 0.07150626674571559, 0.17876566686428896, 0.21731708454217355, 0.4346341690843471, 0.3259756268132603, 0.8793218687552531, 0.9014648152104981, 0.17711095447979897, 0.35422190895959793, 0.35422190895959793, 0.4540150417556322, 0.10020347709852666, 0.20040695419705332, 0.60122086259116, 0.04617844063210975, 0.2770706437926585, 0.2770706437926585, 0.369427525056878, 0.7039479011591567, 0.14078958023183136, 0.4540961890021615, 0.8818311741236747, 0.6543524557953778, 0.19986881019068775, 0.799475240762751, 0.3604242544582153, 0.540636381687323, 0.3261131438207465, 0.38650446675051436, 0.20533049796121075, 0.07850871980869822, 0.19424634985828246, 0.7769853994331298, 0.3579405051037572, 0.3112526131337019, 0.12450104525348077, 0.17118893722353606, 0.031125261313370192, 0.8766459619658251, 0.06864666497227591, 0.2059399949168277, 0.6864666497227591, 0.06864666497227591, 0.2012539565813894, 0.6037618697441681, 0.16410437866791305, 0.16410437866791305, 0.2735072977798551, 0.21880583822388408, 0.21880583822388408, 0.36269325269116504, 0.3108799308781414, 0.10362664362604715, 0.23315994815860608, 0.025906660906511787, 0.2016042289692274, 0.6048126869076822, 0.8818215441834031, 0.6543458395533115, 0.15656558776030488, 0.31313117552060976, 0.46969676328091464, 0.916293808876897, 0.1556475175182184, 0.7782375875910921, 0.6249740476496978, 0.3987444204599518, 0.5316592272799358, 0.10669249297934177, 0.7468474508553924, 0.12447457514256541, 0.01778208216322363, 0.660302999767181, 0.22348716915196895, 0.07110955382108103, 0.04063403075490345, 0.8769746246595905, 0.6464654283314967, 0.20040428278276395, 0.12929308566629932, 0.025858617133259865, 0.3205497218130408, 0.3205497218130408, 0.6249524298859742, 0.10662442295229907, 0.19801678548284113, 0.6854427189790655, 0.007616030210878505, 0.4836736792952273, 0.17913839973897308, 0.3134921995432029, 0.008956919986948654, 0.017913839973897307, 0.12031735854356192, 0.8422215098049334, 0.876737827825385, 0.30290998293779964, 0.30290998293779964, 0.037863747867224955, 0.2650462350705747, 0.037863747867224955, 0.4611832885093987, 0.2522096109035774, 0.2810335664354148, 0.666799658281319, 0.25495281051932783, 0.06864114129366519, 0.009805877327666456, 0.14986546711248694, 0.22479820066873044, 0.6181950518390087, 0.17967517450968304, 0.8085382852935737, 0.9170332180082951, 0.8297597335946592, 0.8267378602203631, 0.5497947684584614, 0.38582089014628873, 0.053050372395114696, 0.004822761126828609, 0.009645522253657219, 0.8766788753894095, 0.8270949329885413, 0.9782642053072055, 0.8176083003807034, 0.13626805006345058, 0.18147146625066257, 0.6598962409115002, 0.14847665420508757, 0.8217314709080149, 0.14940572198327542, 0.844711809576663, 0.8985595682886157, 0.6979776328825352, 0.29388531910843585, 0.9293577551664514, 0.37039865241008274, 0.35115716397319535, 0.24532897757031455, 0.028862232655331124, 0.004810372109221854, 0.3459816834837314, 0.18629782956816304, 0.4420877066736567, 0.02365686724675086, 0.0014785542029219288, 0.9557174129758238, 0.2669708771053668, 0.6360188542804328, 0.07066876158671476, 0.02355625386223825, 0.9295884126922741, 0.05468167133483966, 0.8297504431973559, 0.8766564124147578, 0.8257320105868332, 0.8209783949466171, 0.1263043684533257, 0.611191747089991, 0.7615412410944183, 0.10879160587063119, 0.9162718365239281, 0.5332541537896407, 0.23379122998659121, 0.2022688169546913, 0.026268677526583285, 0.005253735505316656, 0.15424592435737608, 0.7712296217868805, 0.07712296217868804, 0.9156201019776838, 0.8447302110531808, 0.9003816570162295, 0.8818147967391691, 0.6243257795334797, 0.14209055813166677, 0.21313583719750015, 0.6394075115925004, 0.4161201653015074, 0.3892737030239908, 0.09396261797130812, 0.10738584911006642, 0.33365235736688575, 0.5459765847821767, 0.03791504060987338, 0.053081056853822736, 0.02274902436592403, 0.8163796163687441, 0.12424186593481476, 0.12424186593481476, 0.24848373186962952, 0.49696746373925904, 0.2018172939042951, 0.6054518817128852, 0.2801287991154726, 0.6679994440445886, 0.04309673832545733, 0.8766833823494508, 0.31471749577617414, 0.1994249478185658, 0.380153806779141, 0.10282848871894798, 0.0031160148096650905, 0.2219332379897247, 0.7027885869674615, 0.036988872998287445, 0.49390565225746474, 0.21701915023434057, 0.2806282115099231, 0.00748341897359795, 0.829917562433574, 0.9173749589792963, 0.15413960446495717, 0.8477678245572644, 0.7890117989322487, 0.10180797405577403, 0.10180797405577403, 0.397007911604349, 0.529343882139132, 0.9162447395102513, 0.8265420514868617, 0.15961985956520094, 0.20750581743476124, 0.41501163486952247, 0.1995248244565012, 0.007980992978260047, 0.6981083001342084, 0.2327027667114028, 0.038783794451900465, 0.24090359009017528, 0.3372650261262454, 0.27944816450460336, 0.14454215405410517, 0.8766557918488541, 0.3748065412673804, 0.14415636202591553, 0.2450658154440564, 0.15857199822850707, 0.07207818101295776, 0.41456136704785307, 0.41456136704785307, 0.3501160316902582, 0.329520971002596, 0.10297530343831124, 0.164760485501298, 0.0411901213753245, 0.6543797484800271, 0.4536493343517683, 0.2125231707824438, 0.15939237808683285, 0.6375695123473314, 0.4538717330820313, 0.8299893779902523, 0.4311778103550953, 0.352781844835987, 0.16463152759012728, 0.05487717586337576, 0.8300171486230206, 0.3589000582938035, 0.3589000582938035, 0.17507319916770903, 0.10504391950062542, 0.4739402899340826, 0.29840684921775573, 0.17553344071632687, 0.017553344071632688, 0.040957802833809606, 0.5040523183553323, 0.2831754597501867, 0.20388633102013443, 0.005663509195003733, 0.005663509195003733, 0.41078766882456136, 0.13692922294152046, 0.41078766882456136, 0.5763272761218834, 0.23053091044875335, 0.12651086549016952, 0.05903840389541244, 0.005622705132896423, 0.571155189526847, 0.3365735938283205, 0.07649399859734558, 0.01019919981297941, 0.641592363242137, 0.10589388519530417, 0.1868715621093603, 0.04360336449218407, 0.01868715621093603, 0.19635152205617226, 0.785406088224689, 0.18791451678420756, 0.39066439015664206, 0.42033510333309587, 0.952898755756453, 0.8716518251509235, 0.08716518251509235, 0.7179941066484602, 0.24973708057337746, 0.015608567535836091, 0.2000520281944788, 0.4001040563889576, 0.11114001566359932, 0.11114001566359932, 0.15559602192903907, 0.23992014817717924, 0.4798402963543585, 0.20125216369539292, 0.35778162434736516, 0.4472270304342065, 0.5467756205239778, 0.23953979565812358, 0.1978807007610586, 0.010414773724266243, 0.5030441453852208, 0.1426075303116981, 0.20215792758471487, 0.1379061831585652, 0.014104041459398713, 0.6543457942553523, 0.19878750709995505, 0.2092500074736369, 0.36618751307886455, 0.2184046953006085, 0.006539062733551153, 0.8271188165647431, 0.13562484443408943, 0.8137490666045365, 0.06392463841573763, 0.06392463841573763, 0.8310202994045892, 0.9162814439880287, 0.03154252509447143, 0.5993079767949573, 0.31542525094471435, 0.047313787641707156, 0.29689894761544827, 0.4263164376016693, 0.23599659938663836, 0.007612793528601238, 0.03806396764300619, 0.45415314379196003, 0.13930453144327382, 0.46434843814424603, 0.2553916409793353, 0.13930453144327382, 0.9454023333664278, 0.2740868246726463, 0.34558773545681487, 0.3098372800647306, 0.07150091078416859, 0.6543474768303364, 0.8298534435414909, 0.4540938683920173, 0.5256805586460483, 0.18553431481625238, 0.09276715740812619, 0.18553431481625238, 0.9348037326261855, 0.8299085306195486, 0.31969615086587677, 0.31969615086587677, 0.26943621700411635, 0.44906036167352725, 0.26943621700411635, 0.3384114224215033, 0.03384114224215033, 0.203046853452902, 0.406093706905804, 0.6946388778350064, 0.9163080676685276, 0.4125470575727197, 0.36097867537612977, 0.17189460732196654, 0.05156838219658996, 0.8766344765871332, 0.8271352668563399, 0.10141939794124717, 0.8113551835299774, 0.10141939794124717, 0.9164211193775414, 0.8992635989733797, 0.8220342642133924, 0.031616702469745864, 0.12646680987898345, 0.1577649381874308, 0.1577649381874308, 0.5679537774747508, 0.12621195054994463, 0.5049087925476269, 0.2960221762454172, 0.17546475769385617, 0.019098204919059173, 0.004774551229764793, 0.8769193048408888, 0.8271354816331652, 0.5208902870525763, 0.3761985406490829, 0.07234587320174671, 0.004823058213449781, 0.028938349280698685, 0.8271605061956987, 0.3261199398596328, 0.584298225581842, 0.0679416541374235, 0.027176661654969396, 0.16060636595069028, 0.380150847846588, 0.24901353986850144, 0.19154887682192417, 0.017681434783562232, 0.6543420518232819, 0.8602601153658916, 0.06144715109756369, 0.24840281585703858, 0.12420140792851929, 0.24840281585703858, 0.37260422378555785, 0.3812065694381533, 0.25731443437075346, 0.34308591249433795, 0.009530164235953832, 0.009530164235953832, 0.11215692604199756, 0.7103271982659846, 0.18692821006999594, 0.03738564201399919, 0.29497801949874486, 0.3277533549986054, 0.2490925497989401, 0.13110134199944215, 0.006555067099972108, 0.24241698223941321, 0.4363505680309438, 0.048483396447882646, 0.048483396447882646, 0.24241698223941321, 0.08416885734805793, 0.7575197161325214, 0.08416885734805793, 0.6095581965967984, 0.2737536811063466, 0.10220137427970273, 0.007300098162835909, 0.007300098162835909, 0.4933217443623844, 0.4721793838897108, 0.028189813963564823, 0.007047453490891206, 0.8990939680229167, 0.8251576185458994, 0.36632680547522833, 0.5494902082128424, 0.9160001497060183, 0.20776036389042554, 0.18331796813861076, 0.5988386959194618, 0.012221197875907384, 0.23312554429560156, 0.18131986778546788, 0.36263973557093576, 0.10361135302026736, 0.1295141912753342, 0.8251335917758587, 0.6948957264284744, 0.3027445316953836, 0.44735648275764456, 0.23220211654306122, 0.016459896868875227, 0.0011757069192053734, 0.8277482151565102, 0.09197202390627891, 0.45416124189599594, 0.8446699838788019, 0.931380420969932, 0.883049931452493, 0.3671441072976466, 0.06675347405411758, 0.5340277924329406, 0.4826900332573591, 0.3792564547022107, 0.13216512815380071, 0.005746309919730465, 0.37361717920652937, 0.36583348797306, 0.17124120713632596, 0.08562060356816298, 0.007783691233469362, 0.883100952363851, 0.08028190476035009, 0.9107276527360697, 0.41778663825066453, 0.34742257286107897, 0.18030791756081313, 0.043977540868491004, 0.013193262260547301, 0.8766773970753687, 0.36366594491952947, 0.5454989173792942, 0.6841110018467139, 0.1465952146814387, 0.09773014312095914, 0.04886507156047957, 0.8271256670182103, 0.3081137561185918, 0.33505906558903903, 0.3362306007834063, 0.011715351943672693, 0.009372281554938154, 0.8271339160060803, 0.7997755288860173, 0.19388497669964055, 0.3549421678203495, 0.40423969112873137, 0.13803306526346923, 0.04929752330838187, 0.04929752330838187, 0.6543458611823666, 0.12463606028889417, 0.747816361733365, 0.12463606028889417, 0.8149502690721631, 0.11583644200897432, 0.2702850313542734, 0.5791822100448716, 0.29463963191237424, 0.3130546089068976, 0.36216121422562664, 0.024553302659364517, 0.006138325664841129, 0.8268021094372964, 0.40118870936334333, 0.18516401970615845, 0.3188935894939396, 0.051434449918377353, 0.051434449918377353, 0.19807915505202026, 0.18007195913820023, 0.2881151346211204, 0.2701079387073003, 0.0720287836552801, 0.32041726482535215, 0.32041726482535215, 0.21764974259584838, 0.3591220752831498, 0.14419295446974953, 0.26934155646236235, 0.008161865347344314, 0.8298038261935696, 0.23566678410559724, 0.15711118940373148, 0.4713335682111945, 0.3205963109881078, 0.3205963109881078, 0.2887506829672274, 0.22458386453006574, 0.2887506829672274, 0.17645875070219452, 0.01604170460929041, 0.2520797885999795, 0.6079571372117152, 0.10379756001175626, 0.014828222858822323, 0.029656445717644645, 0.4378321266574722, 0.24220500623604846, 0.14904923460679906, 0.05589346297754964, 0.12110250311802423, 0.4687184898795968, 0.1926240369368206, 0.33388166402382236, 0.0064208012312273535, 0.19540228287358566, 0.19540228287358566, 0.6106321339799552, 0.8816488121653516, 0.8251553118379391, 0.8886717535105656, 0.9154869576534652, 0.8446722023599027, 0.8540548710232182, 0.09489498566924646, 0.6543480880142672, 0.43529324355167004, 0.4836591595018556, 0.024182957975092782, 0.024182957975092782, 0.024182957975092782, 0.6604351877779246, 0.13530867261791626, 0.20135219139570873, 0.0016108175311656699, 0.5082230586908532, 0.29041317639477326, 0.18947688947707766, 0.007083248204750567, 0.005312436153562926, 0.9153015414931249, 0.47796296203242555, 0.3584722215243191, 0.134637454093641, 0.026927490818728198, 0.6193436817749658, 0.2477374727099863, 0.08670811544849522, 0.012386873635499316, 0.037160620906497945, 0.8269586523287294, 0.8993602119188139, 0.9386021701094547, 0.38938399423234954, 0.519178658976466, 0.8396914809512573, 0.9164715220113888, 0.8298009032319551, 0.8296868413274843, 0.32035711559235314, 0.32035711559235314, 0.8769464986039365, 0.5798331639305216, 0.2822366725092274, 0.12479852866054272, 0.0038399547280166995, 0.009599886820041748, 0.454115305681751, 0.37558600294209954, 0.4519763764218486, 0.13368315358956087, 0.03819518673987453, 0.30913303573906964, 0.4538336056594853, 0.21047355624787722, 0.01973189589823849, 0.006577298632746163, 0.4541618836898993, 0.7515187195751822, 0.20311316745275196, 0.020311316745275195, 0.04062263349055039, 0.8294577488682012, 0.8760877435590011, 0.8991430017185448, 0.25235600860020563, 0.7570680258006168, 0.005843587009970166, 0.020452554534895584, 0.9729572371600327, 0.23475804799006567, 0.7042741439701969, 0.13627332962054597, 0.8176399777232758, 0.9307711323493101, 0.11634639154366376, 0.5511642972959487, 0.28508498135997346, 0.10136354892799056, 0.03167610903999705, 0.03167610903999705, 0.46975146514421395, 0.024089818725344304, 0.2890778247041317, 0.2047634591654266, 0.024089818725344304, 0.829858096361176, 0.15536121904975406, 0.7768060952487703, 0.32001636549280693, 0.23888545593125024, 0.3966400023009438, 0.036058182027358526, 0.009014545506839632, 0.4477272152227769, 0.24485082082495613, 0.24485082082495613, 0.027982950951423557, 0.03497868868927945, 0.9482156655659632, 0.45404990888912256, 0.8761180054326124, 0.8447387436761864, 0.37152205928891197, 0.29142326668992635, 0.2028033259421125, 0.13292991112172078, 0.6222286710203077, 0.4409580281986228, 0.4409580281986228, 0.02099800134279156, 0.08399200537116625, 0.46006175501708035, 0.33805642771973304, 0.16521554738182442, 0.022875998868252614, 0.012708888260140341, 0.7671365216795103, 0.20921905136713917, 0.21251224884256417, 0.21251224884256417, 0.3643067123015386, 0.1821533561507693, 0.45410517573064507, 0.39961287625394376, 0.35420232213417746, 0.15439588400720555, 0.03632844329581307, 0.054492664943719606, 0.8299667625386167, 0.7185603644473328, 0.2524671550760899, 0.019420550390468454, 0.33639959000982583, 0.3866084840411431, 0.20083557612526914, 0.06527156224071247, 0.010041778806263458, 0.8297631941997622, 0.42417607632850646, 0.42417607632850646, 0.40845967152057666, 0.3556001846179138, 0.1778000923089569, 0.038443263201936625, 0.024027039501210393, 0.9443532814291631, 0.7663422040541601, 0.10217896054055467, 0.10217896054055467, 0.9106148223283128, 0.654365887720118, 0.32095757890388754, 0.3056738846703691, 0.35916681448768367, 0.015283694233518455, 0.8509723734520789, 0.1418287289086798, 0.49678960922287724, 0.27884320001542146, 0.20833112644830337, 0.006410188506101642, 0.009615282759152462, 0.8270258010268297, 0.711579353345326, 0.19406709636690705, 0.04312602141486824, 0.02156301070743412, 0.02156301070743412, 0.3314066535766104, 0.5423017967617261, 0.07029838106170523, 0.050213129329789455, 0.624473595891809, 0.1921457218128643, 0.07205464567982411, 0.14410929135964823, 0.46681263099033754, 0.2513606474563356, 0.22263371631846865, 0.021545198353400193, 0.035908663922333654, 0.8296776489240507, 0.37031475409944975, 0.2391616120225613, 0.2314467213121561, 0.15429781420810407, 0.007714890710405204, 0.8887717135999659, 0.9348123560215177, 0.6543654988215167, 0.8135210029823922, 0.1355868338303987], \"Term\": [\"....\", \"....\", \"....\", \"....\", \"....\", \"Amazon\", \"Amazon\", \"Amazon\", \"Amazon\", \"Angle\", \"Angle\", \"Available\", \"Beefaroni\", \"Broccoli\", \"Celiacs\", \"Cincinnati\", \"DOESN'T\", \"Delicious\", \"Delicious\", \"Delicious\", \"Delicious\", \"Diet\", \"Diet\", \"Diet\", \"Dukan\", \"Euro\", \"Excellent\", \"Excellent\", \"Excellent\", \"FINALLY\", \"Free\", \"Free\", \"Free\", \"Great\", \"Great\", \"Great\", \"Great\", \"Guilt\", \"Guilt\", \"Joseph\", \"Konjac\", \"Lonnger\", \"Love\", \"Love\", \"MIRACLE\", \"MIRACLE\", \"Miracle\", \"Miracle\", \"Miracle\", \"Miracle\", \"NOODLE\", \"NOODLE\", \"Noodle\", \"Noodle\", \"Noodle\", \"Noodle\", \"Noodle\", \"Olive\", \"PASTA\", \"PASTA\", \"PASTA\", \"PASTA\", \"Pack\", \"Pack\", \"Perfect\", \"Perfect\", \"Perfect\", \"Perfect\", \"Perfect\", \"Shirataki\", \"Shirataki\", \"Shirataki\", \"Shirataki\", \"Shirataki\", \"Spinach\", \"Spinach\", \"Spiralizer\", \"Stir\", \"Super\", \"Super\", \"Super\", \"TASTE\", \"Taste\", \"Taste\", \"Variety\", \"Yummy\", \"Yummy\", \"absolutely\", \"absolutely\", \"absolutely\", \"absolutely\", \"absorb\", \"absorb\", \"absorb\", \"absorb\", \"account\", \"add\", \"add\", \"add\", \"add\", \"additional\", \"additional\", \"adkin\", \"alternative\", \"alternative\", \"alternative\", \"alternative\", \"amazing\", \"amazing\", \"amazing\", \"amazing\", \"amazing\", \"appearance\", \"appearance\", \"apply\", \"arrive\", \"arrive\", \"arrive\", \"arrive\", \"arrive\", \"asian\", \"asian\", \"asian\", \"away\", \"away\", \"away\", \"away\", \"awesome\", \"awesome\", \"awesome\", \"bad\", \"bad\", \"ball\", \"belly&nbsp;diet\", \"biggie\", \"boil\", \"boil\", \"boil\", \"boil\", \"boil\", \"bone\", \"branding\", \"brine\", \"bring\", \"bring\", \"broth\", \"broth\", \"broth\", \"brown\", \"brown\", \"bullion\", \"bunch\", \"butter\", \"butter\", \"call\", \"calorie\", \"calorie\", \"calorie\", \"calorie\", \"calorie\", \"carb\", \"carb\", \"carb\", \"carb\", \"carb\", \"cardboard\", \"chicken\", \"chicken\", \"chicken\", \"chicken\", \"chinese\", \"chinese\", \"cholesterol\", \"clump\", \"comparison\", \"complain\", \"complain\", \"conclusion\", \"control\", \"control\", \"conventional\", \"cook\", \"cook\", \"cook\", \"cook\", \"cook\", \"count\", \"count\", \"count\", \"couscous\", \"cube\", \"currently\", \"daikon\", \"damage\", \"daughter\", \"daughter\", \"daughter\", \"definitely\", \"definitely\", \"definitely\", \"definitely\", \"delicious\", \"delicious\", \"delicious\", \"delicious\", \"delicious\", \"delish\", \"delivery\", \"delivery\", \"delivery\", \"delivery\", \"diabete\", \"diabete\", \"diabetic\", \"diabetic\", \"diabetic\", \"dice\", \"diet\", \"diet\", \"diet\", \"diet\", \"diet\", \"disappoint\", \"disappoint\", \"disappoint\", \"dish\", \"dish\", \"dish\", \"dish\", \"dissipate\", \"dressing\", \"drop\", \"drop\", \"dry\", \"dry\", \"dry\", \"dukan\", \"dukan\", \"e.g.\", \"earth\", \"easy\", \"easy\", \"easy\", \"easy\", \"easy\", \"eating\", \"eating\", \"eating\", \"enjoy\", \"enjoy\", \"enjoy\", \"enjoy\", \"evaporate\", \"excellent\", \"excellent\", \"excellent\", \"excellent\", \"excellent\", \"exercise\", \"exercise\", \"expect\", \"expect\", \"expect\", \"expect\", \"expect\", \"expectex\", \"fajita\", \"fast\", \"fast\", \"fast\", \"favourite\", \"favs\", \"feel\", \"feel\", \"feel\", \"feel\", \"fettachini\", \"fill\", \"fill\", \"fill\", \"fill\", \"find\", \"find\", \"find\", \"find\", \"find\", \"fishy\", \"fishy\", \"fishy\", \"fishy\", \"fishy\", \"fit\", \"fit\", \"fit\", \"flavor\", \"flavor\", \"flavor\", \"flavor\", \"flavor\", \"follow\", \"follow\", \"follow\", \"follow\", \"food\", \"food\", \"food\", \"food\", \"food\", \"fool\", \"fool\", \"free\", \"free\", \"free\", \"freeze\", \"fried\", \"fried\", \"garlic\", \"garlic\", \"garlic\", \"get\", \"get\", \"get\", \"get\", \"get\", \"gift\", \"gift\", \"gluten\", \"gluten\", \"gluten\", \"go\", \"go\", \"go\", \"go\", \"good\", \"good\", \"good\", \"good\", \"good\", \"gorge\", \"great\", \"great\", \"great\", \"great\", \"great\", \"greedy\", \"grill\", \"grill\", \"ground\", \"ground\", \"ground\", \"guest\", \"guilt\", \"guilt\", \"guilt\", \"guilt\", \"hair\", \"hair\", \"hair\", \"hair\", \"hair\", \"happily\", \"healthy\", \"healthy\", \"healthy\", \"healthy\", \"heavy\", \"help\", \"help\", \"help\", \"help\", \"helps\", \"hide\", \"highlight\", \"highly\", \"highly\", \"highly\", \"highly\", \"hooked\", \"household\", \"insanely\", \"insanely\", \"interesting\", \"interesting\", \"interesting\", \"item\", \"item\", \"item\", \"item\", \"jellyfish\", \"jicama\", \"keto\", \"keto\", \"keto\", \"keto\", \"ketosis\", \"kitty\", \"konjac\", \"konjac\", \"konjac\", \"konnyaku\", \"let\", \"life\", \"life\", \"life\", \"lifestyle\", \"lifestyle\", \"lifestyle\", \"lifestyle\", \"like\", \"like\", \"like\", \"like\", \"like\", \"list\", \"litter\", \"little\", \"little\", \"little\", \"little\", \"little\", \"loce\", \"lose\", \"lose\", \"lose\", \"lose\", \"love\", \"love\", \"love\", \"love\", \"love\", \"lowcarb\", \"lunch\", \"lunch\", \"magic\", \"magic\", \"magic\", \"magic\", \"make\", \"make\", \"make\", \"make\", \"make\", \"maybe\", \"maybe\", \"maybe\", \"maybe\", \"meal\", \"meal\", \"meal\", \"meal\", \"meal\", \"mean\", \"mean\", \"mean\", \"mean\", \"mean\", \"mild\", \"mild\", \"mild\", \"minute\", \"minute\", \"minute\", \"minute\", \"minute\", \"miracle\", \"miracle\", \"miracle\", \"miracle\", \"miso\", \"moment\", \"morning\", \"morning\", \"nervous\", \"nice\", \"nice\", \"nice\", \"nice\", \"night\", \"night\", \"night\", \"night\", \"night\", \"nonetheless\", \"nood\", \"noodle\", \"noodle\", \"noodle\", \"noodle\", \"noodle\", \"nose\", \"nose\", \"nutritionist\", \"obvious\", \"obviously\", \"oder\", \"one\", \"one\", \"one\", \"open\", \"open\", \"open\", \"open\", \"order\", \"order\", \"order\", \"order\", \"order\", \"original\", \"original\", \"overcooked\", \"package\", \"package\", \"package\", \"package\", \"package\", \"packing\", \"pain\", \"pain\", \"paleo\", \"paleo\", \"paleo\", \"paleo\", \"pallet\", \"pasta\", \"pasta\", \"pasta\", \"pasta\", \"pasta\", \"pay\", \"pepper\", \"pepper\", \"perfect\", \"perfect\", \"perfect\", \"perfect\", \"perfect\", \"pile\", \"possible\", \"possible\", \"possible\", \"prebiotic\", \"prefer\", \"prefer\", \"prefer\", \"prepare\", \"prepare\", \"prepare\", \"prepare\", \"prepare\", \"preppe\", \"pretty\", \"pretty\", \"pretty\", \"pretty\", \"pretty\", \"price\", \"price\", \"price\", \"price\", \"price\", \"produce\", \"produce\", \"product\", \"product\", \"product\", \"product\", \"product\", \"prove\", \"quality\", \"quality\", \"quality\", \"quantity\", \"quantity\", \"quick\", \"quick\", \"quick\", \"quick\", \"quick\", \"read\", \"read\", \"read\", \"read\", \"read\", \"recommend\", \"recommend\", \"recommend\", \"recommend\", \"recommend\", \"regular\", \"regular\", \"regular\", \"regular\", \"replacement\", \"replacement\", \"replacement\", \"replica\", \"replication\", \"require\", \"research\", \"resemble\", \"rest\", \"rest\", \"retailer\", \"review\", \"review\", \"review\", \"review\", \"review\", \"rice\", \"rice\", \"rice\", \"rice\", \"rinse\", \"rinse\", \"rinse\", \"rinse\", \"rinse\", \"ruin\", \"sauce\", \"sauce\", \"sauce\", \"sauce\", \"say\", \"say\", \"say\", \"say\", \"say\", \"sceptical\", \"seasoned\", \"seed\", \"seller\", \"seller\", \"service\", \"shelf\", \"shellfish\", \"sized\", \"skinny\", \"skinny\", \"slippery\", \"smell\", \"smell\", \"smell\", \"smell\", \"smell\", \"sooooooooooooooooooooooooooo\", \"soup\", \"soup\", \"soup\", \"soup\", \"spaghetti\", \"spaghetti\", \"spaghetti\", \"spaghetti\", \"spaghetti\", \"speck\", \"spice\", \"spice\", \"spice\", \"spice\", \"spiralize\", \"splurge\", \"sprout\", \"squash\", \"squash\", \"star\", \"star\", \"star\", \"starch\", \"starch\", \"starchy\", \"starchy\", \"steak\", \"steak\", \"stir\", \"stir\", \"stir\", \"stir\", \"stir\", \"stuff\", \"stuff\", \"stuff\", \"stuff\", \"stuff\", \"sub\", \"subscription\", \"subscription\", \"substitute\", \"substitute\", \"substitute\", \"substitute\", \"substitute\", \"sure\", \"sure\", \"sure\", \"sure\", \"sure\", \"sweet\", \"system\", \"taco\", \"takeout\", \"taste\", \"taste\", \"taste\", \"taste\", \"teenage\", \"tell\", \"tell\", \"tell\", \"tell\", \"texture\", \"texture\", \"texture\", \"texture\", \"texture\", \"thai\", \"thai\", \"thank\", \"thank\", \"thank\", \"thank\", \"thankful\", \"thing\", \"thing\", \"thing\", \"thing\", \"thing\", \"thousand\", \"throw\", \"throw\", \"throw\", \"time\", \"time\", \"time\", \"time\", \"time\", \"trade\", \"trouble\", \"trouble\", \"try\", \"try\", \"try\", \"try\", \"try\", \"tuna\", \"usually\", \"usually\", \"usually\", \"vegan\", \"verrrrryyyyy\", \"want\", \"want\", \"want\", \"want\", \"warning\", \"warning\", \"water\", \"water\", \"water\", \"water\", \"water\", \"wave\", \"week\", \"week\", \"week\", \"week\", \"week\", \"weight\", \"weight\", \"weight\", \"weight\", \"weird\", \"weird\", \"weird\", \"weird\", \"well\", \"well\", \"well\", \"well\", \"well\", \"wide\", \"work\", \"work\", \"work\", \"work\", \"work\", \"worried\", \"wrap\", \"yummmm\", \"zucchini\", \"zucchini\"]}, \"R\": 30, \"lambda.step\": 0.01, \"plot.opts\": {\"xlab\": \"PC1\", \"ylab\": \"PC2\"}, \"topic.order\": [2, 1, 4, 5, 3]};\n",
       "\n",
       "function LDAvis_load_lib(url, callback){\n",
       "  var s = document.createElement('script');\n",
       "  s.src = url;\n",
       "  s.async = true;\n",
       "  s.onreadystatechange = s.onload = callback;\n",
       "  s.onerror = function(){console.warn(\"failed to load library \" + url);};\n",
       "  document.getElementsByTagName(\"head\")[0].appendChild(s);\n",
       "}\n",
       "\n",
       "if(typeof(LDAvis) !== \"undefined\"){\n",
       "   // already loaded: just create the visualization\n",
       "   !function(LDAvis){\n",
       "       new LDAvis(\"#\" + \"ldavis_el1796137308567686079609101\", ldavis_el1796137308567686079609101_data);\n",
       "   }(LDAvis);\n",
       "}else if(typeof define === \"function\" && define.amd){\n",
       "   // require.js is available: use it to load d3/LDAvis\n",
       "   require.config({paths: {d3: \"https://d3js.org/d3.v5\"}});\n",
       "   require([\"d3\"], function(d3){\n",
       "      window.d3 = d3;\n",
       "      LDAvis_load_lib(\"https://cdn.jsdelivr.net/gh/bmabey/pyLDAvis@3.4.0/pyLDAvis/js/ldavis.v3.0.0.js\", function(){\n",
       "        new LDAvis(\"#\" + \"ldavis_el1796137308567686079609101\", ldavis_el1796137308567686079609101_data);\n",
       "      });\n",
       "    });\n",
       "}else{\n",
       "    // require.js not available: dynamically load d3 & LDAvis\n",
       "    LDAvis_load_lib(\"https://d3js.org/d3.v5.js\", function(){\n",
       "         LDAvis_load_lib(\"https://cdn.jsdelivr.net/gh/bmabey/pyLDAvis@3.4.0/pyLDAvis/js/ldavis.v3.0.0.js\", function(){\n",
       "                 new LDAvis(\"#\" + \"ldavis_el1796137308567686079609101\", ldavis_el1796137308567686079609101_data);\n",
       "            })\n",
       "         });\n",
       "}\n",
       "</script>"
      ],
      "text/plain": [
       "<IPython.core.display.HTML object>"
      ]
     },
     "execution_count": 57,
     "metadata": {},
     "output_type": "execute_result"
    }
   ],
   "source": [
    "import pyLDAvis\n",
    "import pyLDAvis.gensim_models as gensimvis\n",
    "from IPython.display import display, Markdown, HTML\n",
    "\n",
    "\n",
    "# Display the LDA visualization for high-rating reviews\n",
    "display(Markdown(\"### High Rating Reviews LDA Visualization\" ))\n",
    "vis_data = gensimvis.prepare(high_lda, high_corpus, high_dictionary)\n",
    "pyLDAvis.display(vis_data)"
   ]
  },
  {
   "cell_type": "markdown",
   "id": "91fc0631",
   "metadata": {},
   "source": [
    "\n",
    "\n",
    "### Main Components of the `pyLDAvis` Visualization:\n",
    "The `pyLDAvis` visualization provides an interactive way to explore the topics generated by your LDA model. Let's walk through the main components of the visualization and what the relevance metric slider does.\n",
    "1. **Intertopic Distance Map (via multidimensional scaling)**:\n",
    "   - This plot shows the relationships between the topics.\n",
    "   - Each circle represents a topic. The size of the circle indicates the prevalence of the topic across the corpus.\n",
    "   - The distance between the circles represents the similarity between the topics. Topics that are closer together are more similar in terms of the words they contain.\n",
    "\n",
    "2. **Top-30 Most Relevant Terms for Selected Topic**:\n",
    "   - This bar chart shows the top words for the selected topic.\n",
    "   - The length of each bar represents the frequency of the term within the topic.\n",
    "   - The red part of the bar represents the estimated term frequency within the selected topic, while the blue part represents the overall term frequency across the corpus.\n",
    "\n",
    "3. **Marginal Topic Distribution**:\n",
    "   - This inset shows the overall distribution of topics in the corpus.\n",
    "   - It gives a quick view of how prevalent each topic is in the dataset.\n",
    "\n",
    "4. **Topic Selection and Navigation**:\n",
    "   - You can select a topic using the dropdown menu or navigate through topics using the \"Previous Topic\" and \"Next Topic\" buttons.\n",
    "   - The selected topic is highlighted in the Intertopic Distance Map and the corresponding top words are shown in the bar chart.\n",
    "\n",
    "#### The Relevance Metric Slider:\n",
    "\n",
    "The slider at the top right adjusts the relevance metric (λ) used to rank the terms for each topic. \n",
    "\n",
    "##### What the Relevance Metric (λ) Means:\n",
    "- The relevance metric balances two quantities: \n",
    "  1. **Term Frequency within the Topic (p(term | topic))**: This measures how often a term appears in a given topic.\n",
    "  2. **Term Frequency across the Corpus (p(term))**: This measures how often a term appears in the entire corpus.\n",
    "\n",
    "##### How the Slider Works:\n",
    "- **λ = 1**: When the slider is at 1, the ranking is based entirely on the term frequency within the topic (p(term | topic)).\n",
    "  - Terms that are most representative of the topic will appear at the top.\n",
    "- **λ = 0**: When the slider is at 0, the ranking is based entirely on the term frequency across the corpus (p(term)).\n",
    "  - This tends to highlight terms that are more common in the corpus but less specific to the topic.\n",
    "- **Intermediate Values of λ**: When the slider is between 0 and 1, the ranking is a weighted combination of both quantities.\n",
    "  - This allows you to see terms that are both relevant to the topic and frequent in the corpus.\n",
    "\n",
    "#### Practical Use of the Relevance Metric Slider:\n",
    "\n",
    "- **Exploring Topic-Specific Terms**: Set λ closer to 1 to focus on terms that are highly specific to the selected topic.\n",
    "- **Understanding Contextual Relevance**: Set λ closer to 0 to see more common terms and understand the broader context of the topic within the entire corpus.\n",
    "- **Balancing Specificity and Generality**: Use intermediate values of λ to get a balanced view of terms that are both topic-specific and common in the corpus.\n"
   ]
  },
  {
   "cell_type": "code",
   "execution_count": 58,
   "id": "bad394b6",
   "metadata": {},
   "outputs": [
    {
     "data": {
      "text/markdown": [
       "### High Rating Reviews LDA Visualization"
      ],
      "text/plain": [
       "<IPython.core.display.Markdown object>"
      ]
     },
     "metadata": {},
     "output_type": "display_data"
    },
    {
     "data": {
      "text/html": [
       "\n",
       "<link rel=\"stylesheet\" type=\"text/css\" href=\"https://cdn.jsdelivr.net/gh/bmabey/pyLDAvis@3.4.0/pyLDAvis/js/ldavis.v1.0.0.css\">\n",
       "\n",
       "\n",
       "<div id=\"ldavis_el179613730845568417590219\" style=\"background-color:white;\"></div>\n",
       "<script type=\"text/javascript\">\n",
       "\n",
       "var ldavis_el179613730845568417590219_data = {\"mdsDat\": {\"x\": [0.09388809487467442, 0.06962153397975922, 0.07561752506166983, -0.12019583868935464, -0.11893131522674888], \"y\": [0.015235201518561635, 0.009431842206936733, -0.026649457301858408, -0.12959323879517054, 0.13157565237153057], \"topics\": [1, 2, 3, 4, 5], \"cluster\": [1, 1, 1, 1, 1], \"Freq\": [38.88344156796198, 30.50423779328949, 20.951985500895713, 6.857907085638226, 2.802428052214593]}, \"tinfo\": {\"Term\": [\"star\", \"great\", \"love\", \"product\", \"good\", \"taste\", \"carb\", \"recommend\", \"noodle\", \"pasta\", \"diet\", \"definitely\", \"feel\", \"easy\", \"rice\", \"alternative\", \"little\", \"find\", \"weight\", \"help\", \"expect\", \"fast\", \"stuff\", \"excellent\", \"thing\", \"get\", \"free\", \"weird\", \"perfect\", \"work\", \"seed\", \"chinese\", \"ruin\", \"research\", \"nervous\", \"sweet\", \"obviously\", \"call\", \"couscous\", \"bunch\", \"seasoned\", \"miso\", \"let\", \"rest\", \"e.g.\", \"sprout\", \"taco\", \"slippery\", \"ball\", \"steak\", \"list\", \"original\", \"dressing\", \"currently\", \"Cincinnati\", \"resemble\", \"bullion\", \"takeout\", \"obvious\", \"cube\", \"complain\", \"fried\", \"life\", \"brown\", \"pepper\", \"dry\", \"rice\", \"usually\", \"spice\", \"garlic\", \"smell\", \"minute\", \"food\", \"add\", \"thai\", \"away\", \"flavor\", \"absorb\", \"throw\", \"like\", \"butter\", \"good\", \"rinse\", \"cook\", \"follow\", \"week\", \"sauce\", \"boil\", \"go\", \"water\", \"stir\", \"texture\", \"dish\", \"little\", \"noodle\", \"taste\", \"carb\", \"fishy\", \"pasta\", \"calorie\", \"open\", \"say\", \"find\", \"package\", \"great\", \"diet\", \"try\", \"love\", \"heavy\", \"worried\", \"require\", \"brine\", \"freeze\", \"hooked\", \"wrap\", \"cardboard\", \"lunch\", \"overcooked\", \"tuna\", \"ketosis\", \"Olive\", \"dice\", \"packing\", \"clump\", \"bone\", \"apply\", \"evaporate\", \"account\", \"nose\", \"Broccoli\", \"splurge\", \"bring\", \"Dukan\", \"grill\", \"zucchini\", \"replication\", \"nonetheless\", \"moment\", \"drop\", \"subscription\", \"appearance\", \"control\", \"absolutely\", \"fool\", \"mild\", \"chicken\", \"disappoint\", \"broth\", \"eating\", \"diabetic\", \"noodle\", \"maybe\", \"bad\", \"count\", \"read\", \"delicious\", \"guilt\", \"lose\", \"weight\", \"love\", \"paleo\", \"squash\", \"pasta\", \"sauce\", \"review\", \"miracle\", \"soup\", \"spaghetti\", \"calorie\", \"like\", \"product\", \"texture\", \"taste\", \"rinse\", \"free\", \"boil\", \"time\", \"little\", \"smell\", \"hair\", \"package\", \"great\", \"try\", \"open\", \"Miracle\", \"water\", \"carb\", \"cook\", \"flavor\", \"minute\", \"good\", \"rice\", \"vegan\", \"TASTE\", \"jicama\", \"shelf\", \"guest\", \"conventional\", \"konnyaku\", \"Konjac\", \"daikon\", \"Spiralizer\", \"oder\", \"starchy\", \"trade\", \"prove\", \"fettachini\", \"sub\", \"dissipate\", \"household\", \"cholesterol\", \"favs\", \"shellfish\", \"replica\", \"belly&nbsp;diet\", \"thousand\", \"ground\", \"wide\", \"warning\", \"hide\", \"sized\", \"spiralize\", \"possible\", \"alternative\", \"konjac\", \"awesome\", \"replacement\", \"Guilt\", \"nice\", \"starch\", \"carb\", \"PASTA\", \"great\", \"pasta\", \"free\", \"prefer\", \"diet\", \"substitute\", \"lifestyle\", \"easy\", \"gluten\", \"noodle\", \"Amazon\", \"love\", \"prepare\", \"one\", \"want\", \"regular\", \"calorie\", \"dish\", \"good\", \"rice\", \"taste\", \"like\", \"rinse\", \"make\", \"cook\", \"water\", \"amazing\", \"asian\", \"sauce\", \"texture\", \"smell\", \"product\", \"flavor\", \"star\", \"Euro\", \"service\", \"Variety\", \"adkin\", \"damage\", \"teenage\", \"pay\", \"kitty\", \"litter\", \"loce\", \"pallet\", \"greedy\", \"sceptical\", \"wave\", \"Beefaroni\", \"branding\", \"preppe\", \"earth\", \"biggie\", \"comparison\", \"diabete\", \"Spinach\", \"daughter\", \"Pack\", \"fast\", \"prebiotic\", \"Free\", \"gift\", \"conclusion\", \"Angle\", \"Yummy\", \"delivery\", \"product\", \"great\", \"item\", \"quality\", \"....\", \"love\", \"dukan\", \"thank\", \"seller\", \"good\", \"Great\", \"taste\", \"price\", \"easy\", \"interesting\", \"stuff\", \"work\", \"diet\", \"expect\", \"meal\", \"enjoy\", \"arrive\", \"quick\", \"keto\", \"Shirataki\", \"Noodle\", \"healthy\", \"flavor\", \"excellent\", \"fill\", \"noodle\", \"Miracle\", \"sauce\", \"like\", \"carb\", \"time\", \"order\", \"calorie\", \"delish\", \"Taste\", \"nood\", \"jellyfish\", \"Love\", \"NOODLE\", \"speck\", \"nutritionist\", \"sooooooooooooooooooooooooooo\", \"highlight\", \"Joseph\", \"happily\", \"system\", \"FINALLY\", \"DOESN'T\", \"thankful\", \"favourite\", \"fajita\", \"Stir\", \"gorge\", \"pile\", \"helps\", \"retailer\", \"Lonnger\", \"Available\", \"verrrrryyyyy\", \"yummmm\", \"expectex\", \"lowcarb\", \"Celiacs\", \"pain\", \"MIRACLE\", \"morning\", \"Super\", \"trouble\", \"magic\", \"additional\", \"quantity\", \"produce\", \"skinny\", \"exercise\", \"insanely\", \"fit\", \"Excellent\", \"recommend\", \"thank\", \"mean\", \"highly\", \"get\", \"definitely\", \"Delicious\", \"Perfect\", \"weird\", \"Diet\", \"night\", \"feel\", \"help\", \"excellent\", \"love\", \"find\", \"thing\", \"perfect\", \"good\", \"weight\", \"little\", \"pasta\", \"well\", \"pretty\", \"tell\", \"sure\", \"texture\", \"stir\", \"great\", \"hair\", \"try\", \"smell\"], \"Freq\": [342.0, 764.0, 678.0, 367.0, 638.0, 586.0, 676.0, 107.0, 1701.0, 853.0, 320.0, 74.0, 127.0, 125.0, 620.0, 131.0, 207.0, 170.0, 99.0, 83.0, 97.0, 37.0, 83.0, 69.0, 110.0, 44.0, 202.0, 41.0, 101.0, 129.0, 8.911725085638858, 16.844341770596927, 6.983260070330202, 6.966366000360729, 6.951407366565547, 9.591677757320468, 7.802749565632927, 7.8158350680495365, 6.928457270451946, 6.014649778509299, 5.9890140964809175, 5.983130530011346, 5.980487809796023, 9.410071738751471, 6.809135113193076, 5.941494976441686, 5.04630066839206, 5.019906363170974, 6.710518584086737, 7.51791895526603, 4.987265129911669, 10.838831357962421, 6.63573039949449, 5.773819811757649, 4.071902261048631, 4.070813920876968, 4.070333675511547, 4.068927580881704, 4.0690083278969595, 4.063878400236435, 26.45408991243009, 9.754775762491622, 26.095953971609116, 11.155654733274755, 32.99827462947508, 30.951361717801117, 410.4216468896153, 30.028726383962283, 36.75436659118981, 46.38692327264069, 301.7124785651764, 166.96431581181534, 103.30567376373719, 99.7800317898069, 21.996836726570155, 67.87397916998744, 205.19624511948555, 65.29336836254684, 36.84097524162634, 422.91096518317215, 37.966157983533705, 320.7058353560455, 286.5286263912982, 202.53533389756566, 112.23781687859152, 32.76528659353212, 284.4455527730642, 114.07443066873246, 104.52103397478001, 155.36228160944336, 87.41435013600308, 180.9190588507693, 131.67633096768495, 107.51550812608832, 515.4350023945425, 218.13363159132285, 234.37023344379446, 88.72269103355046, 263.13291840368225, 153.66277425745204, 84.36330921144004, 50.47828880421517, 80.62204678798376, 94.97143338742127, 151.83746903695373, 101.32255896912856, 84.94574839811877, 108.84694466375211, 12.837464491055766, 9.433523635449493, 9.415641962590666, 8.510837918531907, 6.678188162912111, 5.750986473113558, 5.748232468697536, 6.540339742810435, 14.500958235551755, 4.798886909797837, 5.50405632932843, 3.891669445995263, 3.8905651852440424, 3.889586444217022, 3.8880770793091917, 3.887461602530714, 3.8859858659602082, 3.8849848363840307, 3.8852460425390642, 3.8682344051517195, 9.215437611463871, 3.8341939251811885, 3.82014979304916, 6.1249222443762115, 3.7771031751104567, 6.039114458338887, 12.06937449725474, 2.9669908590640097, 2.9670571381707136, 2.96663130957366, 10.543369818883667, 5.239047434986664, 6.741259282646147, 7.405958562315159, 41.63876055811488, 8.12512636379793, 9.381222186257286, 81.34181771190556, 19.385586847793803, 39.91654235199766, 18.466242849141064, 31.001663870781098, 760.9658164618048, 18.636699416659546, 8.574354027194728, 9.71961006777747, 40.62691047786235, 72.27031251240889, 38.464514541360465, 42.60696574884607, 53.65546682268427, 258.21084931024814, 14.253868161650745, 11.573396406487383, 286.2148268839906, 212.85875389821558, 60.32635920050563, 66.92719827729911, 71.05450578422762, 68.53227412548158, 145.9040898719201, 248.05988386728043, 132.3296032784252, 132.63900900755198, 170.84315262793123, 164.19549039271206, 79.06672774264806, 79.66625061225564, 77.38025567705266, 77.94717000821625, 146.879092679117, 56.49920415555912, 79.20811691384829, 160.53932996868122, 74.2824758070485, 66.10367627071726, 64.15091156855408, 86.97854017814305, 125.9558852995967, 89.38490266344654, 82.51447380891874, 74.65612886566133, 91.06150207484689, 84.47798706615612, 10.218890329974197, 4.780813051690117, 4.777185624563689, 4.771588976669381, 4.769915192732472, 4.757896822448642, 4.730646266317911, 3.8602251719164276, 3.856893450199906, 3.856745194626547, 3.8382336599558866, 12.204766214909455, 2.9422247816241547, 2.939623594616939, 2.9382068407229727, 2.9379409475751004, 2.9371397766052993, 2.9370116644522333, 2.9374486423831305, 2.935969041017849, 2.93461594033201, 3.6823007576756175, 2.929379188213611, 2.9264822957964887, 12.65453817206133, 2.923539476381097, 5.695656296575077, 2.910620292341748, 2.896859650492011, 2.8920228124111698, 6.33283081866313, 89.51638000772698, 7.523389143155479, 65.87399926520212, 49.48698844709316, 5.409964046606919, 48.67635275554343, 9.05799225183754, 298.9350093165741, 10.122690726231857, 280.11186291702796, 286.69432442891326, 85.00097934761155, 15.280132558778224, 122.32333586754561, 87.95317324222835, 17.878473703575015, 52.457351169656704, 39.67585143669676, 394.35638732488013, 14.911432765307314, 169.02080760799538, 58.49253475269703, 16.479226859054087, 47.25630500949077, 51.708995710706795, 102.20657579381268, 74.52710554619588, 129.32732450122637, 124.64417588280233, 118.98613299207264, 146.5126206770348, 107.03296937694262, 36.337367976851006, 76.99325321239654, 64.64800732151906, 35.43835262589576, 39.246331405728895, 80.336240203862, 65.35601577820032, 65.15885305468466, 52.98349086182476, 45.02226970675156, 332.8591792746326, 4.837965666959857, 4.062713250415155, 2.4984204344752436, 2.4971877602200707, 2.486148547773981, 2.41816667688422, 1.7197866470454348, 1.7197818999045291, 1.7197806691642945, 1.7196788693648728, 1.719649507419271, 1.7170834140297049, 1.7164759558138125, 1.7158009827050393, 1.7147181071184454, 1.7137992716231476, 1.7107693649850941, 1.7074671131150816, 1.7001943174275584, 1.694053451115988, 3.226155904574537, 3.2225814832925996, 9.140315996853607, 3.2048855485565224, 23.521938311897465, 1.5153534854231367, 6.114448999890715, 2.4999945512355577, 0.9377961035352154, 1.4117574206288062, 4.063695381122528, 8.113894816470266, 99.35130431642402, 166.74263369063968, 12.232169658965606, 6.218339651151248, 14.12748992871981, 130.38451357654156, 3.9943825525788443, 11.804413582957174, 3.932869452363213, 87.68094436640195, 7.989170194514973, 78.47272315619321, 15.003103233531627, 25.04529371868723, 4.853640374590319, 16.705833051662914, 19.824345953821037, 32.82803642493942, 16.20024215008495, 19.549533615151613, 15.010316074587712, 7.418509705082858, 11.187373878516711, 10.42298503020459, 8.51794753883651, 10.682779524888868, 12.168604387318457, 21.0717370490816, 10.799435413864787, 12.501580806204577, 27.89411275499244, 13.039023265059267, 16.160125644671414, 16.170198022753052, 15.558293669852324, 12.504325005288122, 11.020307572803361, 11.543704120818335, 4.164439949340925, 5.022758365531372, 2.145728934977197, 2.143046583053551, 3.5049285429021095, 3.501521825196758, 1.481446428151559, 1.4813140851868791, 1.4808828569165164, 1.4806048073653162, 1.4804240392333212, 1.4797383273685525, 1.480008761092252, 1.4798585999651181, 1.4798190838790304, 1.4774435204782848, 1.472991135287618, 1.4690732949705765, 0.8079473331016394, 0.8079460398479128, 0.8079451776787617, 0.8079410105278653, 0.8079374181564027, 0.8079264254997274, 0.8079242700768499, 0.8078837481267525, 0.8078786469592756, 0.8078337423159939, 0.8077066442136495, 0.8076761090562179, 2.802315288876357, 2.6887443331214516, 2.6350176876969185, 2.81696670403888, 2.155176297144232, 3.322264788333962, 1.4822310020789768, 1.4801553298479235, 1.4806312472192804, 1.4793661576850339, 2.1304711275117985, 1.479644494625951, 2.977710957501502, 2.136477285207441, 12.552193068499394, 6.074323087839162, 4.562232437858447, 5.796670709227797, 6.955485825244449, 7.6110091245804155, 4.8261510366736795, 3.9442290156360715, 5.54302399367768, 2.709541864771797, 4.693605462243378, 7.115575117542022, 5.868597458040403, 5.323537569449391, 12.21761970775901, 6.84614380917524, 5.832821461729586, 5.449771778304593, 9.316341195053285, 5.233415028094465, 5.837091498144814, 7.6229421204098085, 5.15607040833692, 4.676230454732819, 4.020387290641828, 4.689288006524843, 5.307502947578933, 4.651227261963854, 5.288258182569554, 4.550441412549254, 4.679452093460421, 4.984906265904925], \"Total\": [342.0, 764.0, 678.0, 367.0, 638.0, 586.0, 676.0, 107.0, 1701.0, 853.0, 320.0, 74.0, 127.0, 125.0, 620.0, 131.0, 207.0, 170.0, 99.0, 83.0, 97.0, 37.0, 83.0, 69.0, 110.0, 44.0, 202.0, 41.0, 101.0, 129.0, 9.58945775342482, 18.289111466395937, 7.648316885761945, 7.64676746017568, 7.642487176936705, 10.547037414581728, 8.590062386750434, 8.608643097876048, 7.6456059421684435, 6.677831351856136, 6.671880852926363, 6.673867972639125, 6.672586555523567, 10.538930484997202, 7.640497719725921, 6.673518449467485, 5.707383679394406, 5.701992940084629, 7.633643147389321, 8.595303607449814, 5.702183690357966, 12.457414395170286, 7.631118259618942, 6.664237331956354, 4.7362564559372915, 4.735865803390047, 4.735646360178896, 4.735495574293357, 4.735877276912842, 4.735535484996086, 31.673478652089873, 11.472434216678367, 31.628705994522964, 13.386102118324532, 41.26759619462984, 39.290546714778365, 620.77328537483, 39.148052633468, 49.240547127951764, 64.07737664816531, 520.8741392519505, 273.99238782809687, 160.53070627852344, 154.69296934505167, 28.67532012332791, 101.99073464730135, 355.72050059932394, 98.44953254385034, 51.50067847287273, 837.7992856848457, 54.452695932121806, 638.0919474935739, 564.7196520948198, 380.6758972575982, 196.11854713001514, 46.38053070589036, 594.2398475828594, 207.38412846520478, 192.03264328413198, 312.00078401653207, 157.86141465958553, 393.4445147884751, 267.2333922646681, 207.36601399360885, 1701.150405023841, 586.7842304073091, 676.1694606468182, 176.56893495003243, 853.4907981019054, 415.7613116810431, 174.04143383141115, 80.73714218782914, 170.9115312440076, 227.3985430876416, 764.5195537958721, 320.86505678629914, 208.10829891231043, 678.6807348662962, 13.755912873246784, 10.130115631632448, 10.131234485483349, 9.203358090619794, 7.348651310862506, 6.420720580329703, 6.420659396863446, 7.326950404321594, 16.279757834918883, 5.491981593132633, 6.355688478478898, 4.564395581203492, 4.564334554140935, 4.5641394729031, 4.56416829171761, 4.564274232748156, 4.564157736737554, 4.563855378810719, 4.564279350792337, 4.5626176330479815, 10.87675561731889, 4.563357069318904, 4.56721992636764, 7.340478013641645, 4.550415513890079, 7.375715354484858, 14.753954823881879, 3.6367863701997583, 3.6368820463987674, 3.636775546494253, 12.979501973112898, 6.438689001665315, 8.31410325848026, 9.193953291588054, 56.24835974713799, 10.189183675981425, 11.88488910908187, 127.38342980980545, 27.04280666629189, 60.62553053446979, 25.786625923161434, 46.42131034720017, 1701.150405023841, 26.75265489519202, 11.134681974903957, 12.969593869398663, 67.45165134274369, 131.90420077830828, 63.4070495672554, 73.60790741850514, 99.59413347884433, 678.6807348662962, 20.468477049441397, 15.85558886753229, 853.4907981019054, 594.2398475828594, 124.08170458420221, 141.926575253965, 157.1066696375689, 152.04552998112183, 415.7613116810431, 837.7992856848457, 367.6008092183666, 393.4445147884751, 586.7842304073091, 564.7196520948198, 202.1866989815633, 207.38412846520478, 199.1755034218731, 207.36601399360885, 520.8741392519505, 131.35909104394463, 227.3985430876416, 764.5195537958721, 208.10829891231043, 174.04143383141115, 165.5931688457731, 312.00078401653207, 676.1694606468182, 380.6758972575982, 355.72050059932394, 273.99238782809687, 638.0919474935739, 620.77328537483, 10.973412077289096, 5.4529830342367465, 5.452902302466735, 5.451933492683626, 5.45306723338015, 5.45313886321131, 5.452270424257371, 4.5329819654938595, 4.533070424485816, 4.533035867705231, 4.526737616966782, 14.667289737794844, 3.613201535126262, 3.613027333855499, 3.612099437611395, 3.612791899773054, 3.612534348604499, 3.6125733521744445, 3.613261540930497, 3.61222283313626, 3.6130451976357634, 4.534139024931656, 3.613228665803364, 3.612332463203256, 15.63385774947623, 3.613591387879439, 7.046128127562153, 3.6128459100350017, 3.6135758041445416, 3.6145800023491437, 8.018264313687517, 131.24132192414115, 9.85402483214245, 106.7203789066715, 81.85017644072867, 7.098670537508781, 81.79338141904947, 12.773037478427169, 676.1694606468182, 14.560518776933892, 764.5195537958721, 853.4907981019054, 202.1866989815633, 25.889524667266233, 320.86505678629914, 221.82166181922068, 31.681305081761472, 125.27253866770262, 89.42256700688358, 1701.150405023841, 25.684866278129913, 678.6807348662962, 162.88944135986694, 29.949489615612887, 130.8404863878325, 155.72089696706942, 415.7613116810431, 267.2333922646681, 638.0919474935739, 620.77328537483, 586.7842304073091, 837.7992856848457, 564.7196520948198, 104.91506578646458, 380.6758972575982, 312.00078401653207, 111.62956156951368, 138.7619211052153, 594.2398475828594, 393.4445147884751, 520.8741392519505, 367.6008092183666, 355.72050059932394, 342.3151534976237, 5.5473862803462595, 4.764362920898006, 3.200541074374839, 3.200649106265513, 3.2038630932226195, 3.214684160575498, 2.41824525296049, 2.418241302993573, 2.4182406746897485, 2.4181674995821556, 2.4182693550287735, 2.4182889402537273, 2.418758469354213, 2.4185584356434244, 2.418761200357952, 2.4183563975250983, 2.4192177819340834, 2.4199798999479665, 2.4194016857754375, 2.4223563777239114, 4.955606805522464, 4.960879766701552, 14.078482416736488, 4.96948665643569, 37.65053592914118, 2.4544154136126557, 9.979596272221338, 4.168546375675748, 1.6362533506480346, 2.473375057855392, 7.522090227230705, 16.096466134760863, 367.6008092183666, 764.5195537958721, 29.548758645001644, 12.732110245539445, 36.7831922532072, 678.6807348662962, 7.558396011653492, 32.944204537387996, 7.705443164052842, 638.0919474935739, 21.65412043198892, 586.7842304073091, 55.52786946099619, 125.27253866770262, 11.13617131777704, 83.01017607775007, 129.6158437322937, 320.86505678629914, 97.12129494479588, 152.55141874630093, 103.77224853856063, 26.41473257483967, 62.332177018573795, 58.16217542032529, 38.60479361908521, 64.26206492498375, 86.1448087899437, 355.72050059932394, 69.36294746623891, 114.24479232112017, 1701.150405023841, 165.5931688457731, 594.2398475828594, 837.7992856848457, 676.1694606468182, 199.1755034218731, 128.48203329439787, 415.7613116810431, 4.8990141395429765, 6.423482351371523, 2.877773638553839, 2.878842580073841, 5.002862284548804, 5.147914828792385, 2.201603093945753, 2.2016062520457074, 2.201829354387882, 2.201933513950488, 2.2019219816237, 2.201645889557961, 2.202146831958274, 2.2023156937816832, 2.202332599550211, 2.201879462580141, 2.2030128948133068, 2.2040867693282893, 1.5280934867054041, 1.5280935924293737, 1.528093436101161, 1.5280896637634767, 1.5280882366118607, 1.5280780376120886, 1.5280782608457468, 1.5280466741829692, 1.5280475833081546, 1.528014311681674, 1.528102393005109, 1.528085224419121, 5.499270371283906, 5.548764654800415, 5.457471694442522, 6.387393617042975, 4.713172810918011, 8.05003301122369, 3.1186466903058907, 3.118227092343284, 3.1199307743347995, 3.1205265800092548, 4.8241990597555455, 3.1280997111145235, 7.3019726997949395, 5.644729344226077, 107.3484731144146, 32.944204537387996, 20.628406420682527, 32.34250573470418, 44.992325430725586, 74.50590137179319, 27.97424992107348, 18.279096203969544, 41.637586848749294, 9.199822672632031, 38.59792111256194, 127.56301699699127, 83.90689450534806, 69.36294746623891, 678.6807348662962, 170.9115312440076, 110.112650658093, 101.43423819995228, 638.0919474935739, 99.59413347884433, 207.36601399360885, 853.4907981019054, 139.23685753593827, 97.1974114537545, 47.63264373192095, 142.935836057437, 393.4445147884751, 157.86141465958553, 764.5195537958721, 131.35909104394463, 208.10829891231043, 520.8741392519505], \"Category\": [\"Default\", \"Default\", \"Default\", \"Default\", \"Default\", \"Default\", \"Default\", \"Default\", \"Default\", \"Default\", \"Default\", \"Default\", \"Default\", \"Default\", \"Default\", \"Default\", \"Default\", \"Default\", \"Default\", \"Default\", \"Default\", \"Default\", \"Default\", \"Default\", \"Default\", \"Default\", \"Default\", \"Default\", \"Default\", \"Default\", \"Topic1\", \"Topic1\", \"Topic1\", \"Topic1\", \"Topic1\", \"Topic1\", \"Topic1\", \"Topic1\", \"Topic1\", \"Topic1\", \"Topic1\", \"Topic1\", \"Topic1\", \"Topic1\", \"Topic1\", \"Topic1\", \"Topic1\", \"Topic1\", \"Topic1\", \"Topic1\", \"Topic1\", \"Topic1\", \"Topic1\", \"Topic1\", \"Topic1\", \"Topic1\", \"Topic1\", \"Topic1\", \"Topic1\", \"Topic1\", \"Topic1\", \"Topic1\", \"Topic1\", \"Topic1\", \"Topic1\", \"Topic1\", \"Topic1\", \"Topic1\", \"Topic1\", \"Topic1\", \"Topic1\", \"Topic1\", \"Topic1\", \"Topic1\", \"Topic1\", \"Topic1\", \"Topic1\", \"Topic1\", \"Topic1\", \"Topic1\", \"Topic1\", \"Topic1\", \"Topic1\", \"Topic1\", \"Topic1\", \"Topic1\", \"Topic1\", \"Topic1\", \"Topic1\", \"Topic1\", \"Topic1\", \"Topic1\", \"Topic1\", \"Topic1\", \"Topic1\", \"Topic1\", \"Topic1\", \"Topic1\", \"Topic1\", \"Topic1\", \"Topic1\", \"Topic1\", \"Topic1\", \"Topic1\", \"Topic1\", \"Topic1\", \"Topic1\", \"Topic1\", \"Topic2\", \"Topic2\", \"Topic2\", \"Topic2\", \"Topic2\", \"Topic2\", \"Topic2\", \"Topic2\", \"Topic2\", \"Topic2\", \"Topic2\", \"Topic2\", \"Topic2\", \"Topic2\", \"Topic2\", \"Topic2\", \"Topic2\", \"Topic2\", \"Topic2\", \"Topic2\", \"Topic2\", \"Topic2\", \"Topic2\", \"Topic2\", \"Topic2\", \"Topic2\", \"Topic2\", \"Topic2\", \"Topic2\", \"Topic2\", \"Topic2\", \"Topic2\", \"Topic2\", \"Topic2\", \"Topic2\", \"Topic2\", \"Topic2\", \"Topic2\", \"Topic2\", \"Topic2\", \"Topic2\", \"Topic2\", \"Topic2\", \"Topic2\", \"Topic2\", \"Topic2\", \"Topic2\", \"Topic2\", \"Topic2\", \"Topic2\", \"Topic2\", \"Topic2\", \"Topic2\", \"Topic2\", \"Topic2\", \"Topic2\", \"Topic2\", \"Topic2\", \"Topic2\", \"Topic2\", \"Topic2\", \"Topic2\", \"Topic2\", \"Topic2\", \"Topic2\", \"Topic2\", \"Topic2\", \"Topic2\", \"Topic2\", \"Topic2\", \"Topic2\", \"Topic2\", \"Topic2\", \"Topic2\", \"Topic2\", \"Topic2\", \"Topic2\", \"Topic2\", \"Topic2\", \"Topic2\", \"Topic2\", \"Topic2\", \"Topic2\", \"Topic2\", \"Topic3\", \"Topic3\", \"Topic3\", \"Topic3\", \"Topic3\", \"Topic3\", \"Topic3\", \"Topic3\", \"Topic3\", \"Topic3\", \"Topic3\", \"Topic3\", \"Topic3\", \"Topic3\", \"Topic3\", \"Topic3\", \"Topic3\", \"Topic3\", \"Topic3\", \"Topic3\", \"Topic3\", \"Topic3\", \"Topic3\", \"Topic3\", \"Topic3\", \"Topic3\", \"Topic3\", \"Topic3\", \"Topic3\", \"Topic3\", \"Topic3\", \"Topic3\", \"Topic3\", \"Topic3\", \"Topic3\", \"Topic3\", \"Topic3\", \"Topic3\", \"Topic3\", \"Topic3\", \"Topic3\", \"Topic3\", \"Topic3\", \"Topic3\", \"Topic3\", \"Topic3\", \"Topic3\", \"Topic3\", \"Topic3\", \"Topic3\", \"Topic3\", \"Topic3\", \"Topic3\", \"Topic3\", \"Topic3\", \"Topic3\", \"Topic3\", \"Topic3\", \"Topic3\", \"Topic3\", \"Topic3\", \"Topic3\", \"Topic3\", \"Topic3\", \"Topic3\", \"Topic3\", \"Topic3\", \"Topic3\", \"Topic3\", \"Topic3\", \"Topic3\", \"Topic3\", \"Topic3\", \"Topic4\", \"Topic4\", \"Topic4\", \"Topic4\", \"Topic4\", \"Topic4\", \"Topic4\", \"Topic4\", \"Topic4\", \"Topic4\", \"Topic4\", \"Topic4\", \"Topic4\", \"Topic4\", \"Topic4\", \"Topic4\", \"Topic4\", \"Topic4\", \"Topic4\", \"Topic4\", \"Topic4\", \"Topic4\", \"Topic4\", \"Topic4\", \"Topic4\", \"Topic4\", \"Topic4\", \"Topic4\", \"Topic4\", \"Topic4\", \"Topic4\", \"Topic4\", \"Topic4\", \"Topic4\", \"Topic4\", \"Topic4\", \"Topic4\", \"Topic4\", \"Topic4\", \"Topic4\", \"Topic4\", \"Topic4\", \"Topic4\", \"Topic4\", \"Topic4\", \"Topic4\", \"Topic4\", \"Topic4\", \"Topic4\", \"Topic4\", \"Topic4\", \"Topic4\", \"Topic4\", \"Topic4\", \"Topic4\", \"Topic4\", \"Topic4\", \"Topic4\", \"Topic4\", \"Topic4\", \"Topic4\", \"Topic4\", \"Topic4\", \"Topic4\", \"Topic4\", \"Topic4\", \"Topic4\", \"Topic4\", \"Topic4\", \"Topic4\", \"Topic4\", \"Topic5\", \"Topic5\", \"Topic5\", \"Topic5\", \"Topic5\", \"Topic5\", \"Topic5\", \"Topic5\", \"Topic5\", \"Topic5\", \"Topic5\", \"Topic5\", \"Topic5\", \"Topic5\", \"Topic5\", \"Topic5\", \"Topic5\", \"Topic5\", \"Topic5\", \"Topic5\", \"Topic5\", \"Topic5\", \"Topic5\", \"Topic5\", \"Topic5\", \"Topic5\", \"Topic5\", \"Topic5\", \"Topic5\", \"Topic5\", \"Topic5\", \"Topic5\", \"Topic5\", \"Topic5\", \"Topic5\", \"Topic5\", \"Topic5\", \"Topic5\", \"Topic5\", \"Topic5\", \"Topic5\", \"Topic5\", \"Topic5\", \"Topic5\", \"Topic5\", \"Topic5\", \"Topic5\", \"Topic5\", \"Topic5\", \"Topic5\", \"Topic5\", \"Topic5\", \"Topic5\", \"Topic5\", \"Topic5\", \"Topic5\", \"Topic5\", \"Topic5\", \"Topic5\", \"Topic5\", \"Topic5\", \"Topic5\", \"Topic5\", \"Topic5\", \"Topic5\", \"Topic5\", \"Topic5\", \"Topic5\", \"Topic5\", \"Topic5\", \"Topic5\", \"Topic5\", \"Topic5\", \"Topic5\", \"Topic5\", \"Topic5\"], \"logprob\": [30.0, 29.0, 28.0, 27.0, 26.0, 25.0, 24.0, 23.0, 22.0, 21.0, 20.0, 19.0, 18.0, 17.0, 16.0, 15.0, 14.0, 13.0, 12.0, 11.0, 10.0, 9.0, 8.0, 7.0, 6.0, 5.0, 4.0, 3.0, 2.0, 1.0, -7.561, -6.9244, -7.8048, -7.8073, -7.8094, -7.4875, -7.6939, -7.6922, -7.8127, -7.9542, -7.9584, -7.9594, -7.9599, -7.5066, -7.8301, -7.9664, -8.1297, -8.135, -7.8447, -7.7311, -8.1415, -7.3652, -7.8559, -7.995, -8.3443, -8.3445, -8.3446, -8.345, -8.345, -8.3462, -6.473, -7.4706, -6.4866, -7.3364, -6.2519, -6.3159, -3.7312, -6.3462, -6.1441, -5.9113, -4.0389, -4.6306, -5.1107, -5.1454, -6.6575, -5.5307, -4.4244, -5.5695, -6.1418, -3.7012, -6.1117, -3.9778, -4.0905, -4.4375, -5.0277, -6.259, -4.0978, -5.0115, -5.099, -4.7026, -5.2777, -4.5503, -4.868, -5.0707, -3.5034, -4.3633, -4.2915, -5.2628, -4.1757, -4.7136, -5.3132, -5.8268, -5.3586, -5.1948, -4.7256, -5.1301, -5.3064, -5.0584, -6.9533, -7.2614, -7.2633, -7.3643, -7.6068, -7.7563, -7.7568, -7.6277, -6.8314, -7.9373, -7.8002, -8.1468, -8.1471, -8.1474, -8.1477, -8.1479, -8.1483, -8.1485, -8.1485, -8.1529, -7.2848, -8.1617, -8.1654, -7.6933, -8.1767, -7.7074, -7.015, -8.4181, -8.4181, -8.4182, -7.1502, -7.8495, -7.5974, -7.5034, -5.7766, -7.4107, -7.267, -5.107, -6.5411, -5.8189, -6.5897, -6.0716, -2.8711, -6.5805, -7.3569, -7.2315, -5.8012, -5.2252, -5.8559, -5.7536, -5.5231, -3.9519, -6.8486, -7.057, -3.8489, -4.145, -5.4059, -5.3021, -5.2422, -5.2784, -4.5227, -3.992, -4.6204, -4.618, -4.3649, -4.4046, -5.1354, -5.1278, -5.1569, -5.1496, -4.5161, -5.4714, -5.1336, -4.4271, -5.1978, -5.3144, -5.3444, -5.04, -4.6697, -5.0127, -5.0927, -5.1928, -4.9941, -5.0692, -6.8058, -7.5654, -7.5662, -7.5674, -7.5677, -7.5702, -7.576, -7.7793, -7.7802, -7.7802, -7.785, -6.6282, -8.0509, -8.0517, -8.0522, -8.0523, -8.0526, -8.0526, -8.0525, -8.053, -8.0535, -7.8265, -8.0552, -8.0562, -6.592, -8.0572, -7.3903, -8.0617, -8.0664, -8.0681, -7.2843, -4.6356, -7.112, -4.9423, -5.2283, -7.4418, -5.2448, -6.9264, -3.4298, -6.8153, -3.4948, -3.4716, -4.6874, -6.4035, -4.3234, -4.6532, -6.2464, -5.17, -5.4493, -3.1528, -6.4279, -4.0, -5.0611, -6.3279, -5.2744, -5.1844, -4.503, -4.8189, -4.2677, -4.3046, -4.351, -4.1429, -4.4569, -5.5372, -4.7863, -4.9611, -5.5622, -5.4602, -4.7438, -4.9502, -4.9532, -5.16, -5.3229, -2.2055, -6.4367, -6.6113, -7.0975, -7.098, -7.1025, -7.1302, -7.471, -7.471, -7.471, -7.4711, -7.4711, -7.4726, -7.4729, -7.4733, -7.474, -7.4745, -7.4763, -7.4782, -7.4825, -7.4861, -6.8419, -6.843, -5.8005, -6.8485, -4.8553, -7.5976, -6.2025, -7.0969, -8.0774, -7.6684, -6.6111, -5.9196, -3.4145, -2.8967, -5.5091, -6.1857, -5.3651, -3.1427, -6.6283, -5.5447, -6.6438, -3.5395, -5.9351, -3.6504, -5.3049, -4.7925, -6.4335, -5.1974, -5.0263, -4.5219, -5.2282, -5.0402, -5.3045, -6.0092, -5.5984, -5.6692, -5.871, -5.6446, -5.5143, -4.9653, -5.6337, -5.4873, -4.6848, -5.4453, -5.2307, -5.23, -5.2686, -5.4871, -5.6135, -5.5671, -5.6917, -5.5043, -6.3548, -6.3561, -5.8641, -5.8651, -6.7253, -6.7254, -6.7256, -6.7258, -6.726, -6.7264, -6.7262, -6.7263, -6.7264, -6.728, -6.731, -6.7337, -7.3315, -7.3315, -7.3315, -7.3315, -7.3316, -7.3316, -7.3316, -7.3316, -7.3316, -7.3317, -7.3318, -7.3319, -6.0878, -6.1292, -6.1494, -6.0826, -6.3504, -5.9176, -6.7247, -6.7261, -6.7258, -6.7267, -6.3619, -6.7265, -6.0271, -6.3591, -4.5884, -5.3142, -5.6005, -5.361, -5.1788, -5.0887, -5.5442, -5.746, -5.4057, -6.1215, -5.5721, -5.156, -5.3487, -5.4461, -4.6154, -5.1946, -5.3548, -5.4227, -4.8865, -5.4632, -5.3541, -5.0871, -5.4781, -5.5758, -5.7269, -5.573, -5.4492, -5.5812, -5.4528, -5.6031, -5.5751, -5.5119], \"loglift\": [30.0, 29.0, 28.0, 27.0, 26.0, 25.0, 24.0, 23.0, 22.0, 21.0, 20.0, 19.0, 18.0, 17.0, 16.0, 15.0, 14.0, 13.0, 12.0, 11.0, 10.0, 9.0, 8.0, 7.0, 6.0, 5.0, 4.0, 3.0, 2.0, 1.0, 0.8713, 0.8623, 0.8536, 0.8514, 0.8498, 0.8497, 0.8485, 0.848, 0.8461, 0.84, 0.8366, 0.8353, 0.8351, 0.8313, 0.8294, 0.8284, 0.8215, 0.8172, 0.8157, 0.8107, 0.8106, 0.8054, 0.8048, 0.8012, 0.7935, 0.7933, 0.7932, 0.7929, 0.7928, 0.7916, 0.7645, 0.7824, 0.7523, 0.7623, 0.721, 0.706, 0.5308, 0.6794, 0.6521, 0.6215, 0.3986, 0.4493, 0.5038, 0.5061, 0.6795, 0.5374, 0.3944, 0.5339, 0.6096, 0.261, 0.584, 0.2566, 0.2661, 0.3136, 0.3865, 0.5971, 0.2079, 0.3469, 0.3363, 0.2474, 0.3535, 0.1677, 0.2368, 0.2878, -0.2494, -0.0449, -0.1149, 0.2564, -0.2321, -0.0507, 0.2204, 0.4749, 0.1932, 0.0715, -0.6718, -0.2081, 0.0486, -0.8856, 1.1182, 1.1161, 1.1141, 1.1091, 1.0916, 1.0771, 1.0767, 1.0737, 1.0716, 1.0524, 1.0434, 1.0279, 1.0276, 1.0274, 1.027, 1.0268, 1.0264, 1.0263, 1.0262, 1.0222, 1.0216, 1.0132, 1.0087, 1.0063, 1.001, 0.9874, 0.9865, 0.9838, 0.9837, 0.9836, 0.9794, 0.9811, 0.9776, 0.971, 0.8866, 0.9609, 0.9507, 0.7388, 0.8544, 0.7694, 0.8534, 0.7836, 0.3828, 0.8258, 0.926, 0.8988, 0.6803, 0.5856, 0.6875, 0.6406, 0.5688, 0.2209, 0.8254, 0.8725, 0.0947, 0.1607, 0.4661, 0.4356, 0.3938, 0.3904, 0.1401, -0.0298, 0.1656, 0.1, -0.0466, -0.048, 0.2484, 0.2306, 0.2418, 0.2089, -0.0786, 0.3436, 0.1327, -0.3734, 0.1571, 0.2192, 0.239, -0.09, -0.4932, -0.2617, -0.2739, -0.1129, -0.7596, -0.8072, 1.4917, 1.4314, 1.4306, 1.4296, 1.4291, 1.4266, 1.421, 1.4023, 1.4014, 1.4014, 1.3979, 1.3791, 1.3575, 1.3567, 1.3564, 1.3562, 1.356, 1.3559, 1.3559, 1.3557, 1.355, 1.3548, 1.3531, 1.3524, 1.3515, 1.351, 1.3502, 1.3468, 1.3419, 1.3399, 1.327, 1.1803, 1.2931, 1.0805, 1.0598, 1.2913, 1.0439, 1.2192, 0.7467, 1.1994, 0.5589, 0.472, 0.6964, 1.0357, 0.5986, 0.6379, 0.9908, 0.6924, 0.7503, 0.1011, 1.0192, 0.1728, 0.5388, 0.9655, 0.5445, 0.4605, 0.1598, 0.286, -0.0332, -0.0426, -0.0327, -0.1807, -0.1003, 0.5026, -0.0353, -0.0111, 0.4155, 0.3, -0.4381, -0.2322, -0.5157, -0.3741, -0.5041, 2.6518, 2.5429, 2.5205, 2.4321, 2.4316, 2.4261, 2.395, 2.3389, 2.3389, 2.3389, 2.3389, 2.3388, 2.3373, 2.3368, 2.3365, 2.3358, 2.3354, 2.3333, 2.331, 2.327, 2.3222, 2.2505, 2.2484, 2.2478, 2.2411, 2.2094, 2.1975, 2.1899, 2.1685, 2.1231, 2.119, 2.064, 1.9947, 1.3714, 1.157, 1.7978, 1.9631, 1.7228, 1.0301, 2.042, 1.6534, 2.0072, 0.695, 1.6827, 0.6679, 1.3711, 1.07, 1.8493, 1.0766, 0.8021, 0.4, 0.8888, 0.6252, 0.7463, 1.4098, 0.9621, 0.9605, 1.1686, 0.8854, 0.7226, -0.1464, 0.8199, 0.4673, -1.4309, 0.1382, -0.925, -1.2678, -1.0921, -0.0883, 0.2237, -0.9042, 3.4122, 3.3287, 3.2811, 3.2795, 3.2188, 3.1893, 3.1785, 3.1784, 3.178, 3.1778, 3.1777, 3.1773, 3.1773, 3.1771, 3.1771, 3.1757, 3.1722, 3.169, 2.9374, 2.9374, 2.9374, 2.9374, 2.9374, 2.9374, 2.9374, 2.9374, 2.9373, 2.9373, 2.9371, 2.9371, 2.9005, 2.8502, 2.8466, 2.756, 2.7922, 2.6897, 2.8308, 2.8296, 2.8293, 2.8283, 2.7574, 2.8261, 2.6777, 2.6031, 1.4285, 1.8839, 2.0658, 1.8556, 1.7077, 1.2934, 1.8174, 2.0412, 1.5582, 2.3523, 1.4677, 0.6884, 0.9146, 1.0075, -0.4426, 0.3572, 0.6367, 0.6508, -0.652, 0.6286, 0.0044, -1.1435, 0.2787, 0.5404, 1.1025, 0.1576, -0.7311, 0.0501, -1.3991, 0.212, -0.2202, -1.0744]}, \"token.table\": {\"Topic\": [1, 2, 3, 4, 5, 1, 2, 3, 5, 2, 4, 5, 4, 2, 5, 1, 5, 1, 2, 3, 5, 1, 3, 5, 2, 4, 2, 3, 5, 5, 1, 3, 4, 1, 2, 3, 4, 3, 4, 5, 3, 5, 4, 5, 1, 5, 1, 2, 3, 4, 2, 5, 1, 2, 3, 4, 5, 2, 1, 2, 3, 4, 1, 4, 1, 2, 3, 4, 5, 1, 2, 3, 4, 5, 1, 4, 3, 5, 1, 2, 5, 3, 3, 5, 4, 3, 4, 1, 2, 3, 5, 1, 2, 3, 4, 2, 1, 2, 3, 4, 3, 5, 4, 1, 2, 3, 5, 1, 2, 3, 4, 5, 1, 2, 2, 1, 2, 3, 4, 5, 1, 2, 3, 1, 2, 3, 4, 1, 2, 3, 1, 2, 1, 3, 4, 1, 2, 3, 4, 5, 2, 4, 2, 2, 3, 1, 2, 3, 1, 3, 1, 1, 1, 2, 1, 1, 2, 3, 4, 5, 1, 2, 3, 4, 5, 2, 1, 2, 3, 5, 1, 2, 3, 2, 4, 1, 2, 4, 2, 3, 3, 1, 2, 3, 4, 5, 1, 2, 3, 1, 1, 1, 3, 4, 1, 2, 4, 1, 2, 3, 5, 1, 2, 3, 4, 5, 5, 1, 2, 3, 4, 1, 4, 1, 2, 4, 2, 1, 2, 3, 4, 5, 1, 2, 3, 1, 2, 3, 4, 3, 1, 1, 2, 1, 2, 3, 2, 4, 1, 4, 1, 2, 3, 4, 5, 2, 3, 4, 1, 2, 3, 4, 2, 1, 2, 3, 4, 5, 1, 5, 1, 2, 3, 4, 5, 5, 5, 1, 2, 4, 5, 3, 1, 2, 3, 5, 3, 1, 2, 3, 4, 1, 2, 3, 4, 5, 1, 2, 3, 4, 5, 1, 3, 5, 1, 2, 3, 4, 5, 1, 2, 3, 5, 1, 2, 3, 4, 5, 1, 2, 1, 2, 3, 2, 1, 3, 1, 2, 3, 1, 2, 3, 4, 5, 1, 4, 1, 2, 3, 1, 2, 3, 4, 1, 2, 3, 4, 5, 5, 1, 2, 3, 4, 5, 4, 1, 2, 1, 2, 3, 3, 1, 2, 3, 4, 1, 2, 3, 4, 5, 5, 1, 2, 3, 4, 2, 1, 2, 3, 5, 5, 3, 5, 1, 2, 4, 5, 2, 3, 2, 5, 2, 4, 5, 1, 2, 3, 4, 5, 3, 1, 3, 4, 5, 2, 4, 1, 3, 5, 3, 1, 1, 2, 3, 1, 2, 3, 4, 1, 2, 3, 4, 5, 1, 4, 1, 2, 3, 4, 5, 4, 1, 2, 3, 5, 1, 2, 3, 4, 5, 5, 2, 5, 1, 2, 3, 5, 1, 2, 3, 4, 5, 1, 2, 3, 4, 1, 2, 3, 4, 5, 1, 2, 3, 4, 5, 1, 2, 4, 1, 2, 3, 4, 5, 1, 2, 3, 4, 1, 2, 3, 5, 1, 1, 2, 3, 4, 1, 2, 3, 4, 5, 2, 5, 1, 2, 3, 4, 5, 2, 4, 5, 1, 1, 3, 1, 2, 3, 1, 2, 3, 4, 1, 2, 3, 4, 5, 1, 2, 2, 1, 2, 3, 4, 5, 2, 1, 5, 2, 3, 4, 5, 4, 1, 2, 3, 4, 5, 4, 1, 2, 1, 2, 3, 4, 5, 5, 1, 3, 5, 4, 1, 2, 3, 1, 2, 3, 4, 5, 4, 1, 2, 3, 4, 5, 1, 2, 3, 4, 5, 3, 5, 1, 2, 3, 4, 5, 3, 1, 2, 4, 3, 5, 1, 2, 3, 4, 5, 1, 2, 3, 4, 5, 1, 2, 3, 4, 5, 1, 2, 3, 4, 1, 2, 3, 3, 2, 2, 1, 1, 1, 2, 5, 1, 2, 3, 4, 5, 1, 2, 3, 5, 1, 2, 3, 4, 5, 1, 1, 2, 3, 4, 1, 2, 3, 4, 5, 4, 1, 1, 1, 4, 4, 3, 3, 3, 3, 5, 1, 1, 2, 3, 4, 5, 5, 1, 2, 3, 4, 1, 2, 3, 4, 5, 5, 1, 2, 3, 5, 3, 2, 1, 1, 2, 2, 3, 4, 2, 3, 2, 3, 1, 3, 1, 2, 3, 4, 5, 1, 2, 3, 4, 5, 3, 1, 2, 1, 2, 3, 4, 5, 1, 2, 3, 4, 5, 1, 5, 1, 1, 1, 2, 3, 4, 4, 1, 2, 3, 5, 1, 2, 3, 4, 5, 1, 3, 1, 2, 4, 5, 5, 1, 2, 3, 4, 5, 3, 1, 2, 4, 1, 2, 3, 4, 5, 3, 3, 5, 1, 2, 3, 4, 5, 2, 1, 2, 3, 3, 5, 1, 2, 3, 4, 3, 5, 1, 2, 3, 4, 5, 4, 1, 2, 3, 4, 5, 1, 2, 3, 5, 1, 2, 3, 5, 1, 2, 3, 4, 5, 3, 1, 2, 3, 4, 5, 2, 2, 5, 2, 3], \"Freq\": [0.13593164958552612, 0.27186329917105223, 0.16311797950263135, 0.38060861883947317, 0.054372659834210454, 0.0778668644151344, 0.19466716103783602, 0.5840014831135081, 0.11680029662270162, 0.40430584792388, 0.40430584792388, 0.6544167439739174, 0.8268695560785498, 0.8765476685779079, 0.6544137617586973, 0.8445488619995792, 0.4540640229383305, 0.1429886417432316, 0.6077017274087342, 0.0714943208716158, 0.17873580217903948, 0.21739549458378943, 0.43479098916757886, 0.32609324187568417, 0.8790406036086279, 0.9013253715023263, 0.17715641247226274, 0.3543128249445255, 0.3543128249445255, 0.45406750849732197, 0.10020445444106248, 0.20040890888212495, 0.6012267266463749, 0.04618058734552584, 0.27708352407315506, 0.27708352407315506, 0.3694446987642067, 0.7043572417652599, 0.140871448353052, 0.4541486975222431, 0.8824213355466566, 0.6544168395762624, 0.1998855741219324, 0.7995422964877296, 0.3604405889281564, 0.5406608833922346, 0.3261004084672928, 0.38648937299827296, 0.20532247940533252, 0.0785056538902742, 0.19425340808029323, 0.7770136323211729, 0.3579094451267482, 0.3112256044580419, 0.12449024178321676, 0.17117408245192306, 0.03112256044580419, 0.876359949638453, 0.06867887163362299, 0.20603661490086897, 0.68678871633623, 0.06867887163362299, 0.201228027990569, 0.6036840839717069, 0.16412190003948396, 0.16412190003948396, 0.2735365000658066, 0.21882920005264525, 0.21882920005264525, 0.36264926418564675, 0.31084222644484005, 0.10361407548161335, 0.23313166983363004, 0.025903518870403337, 0.20157714901945542, 0.6047314470583662, 0.8824108426975515, 0.6544102233928222, 0.1565583804529878, 0.3131167609059756, 0.46967514135896343, 0.9169293153137142, 0.15567879621969896, 0.7783939810984948, 0.624894339276886, 0.39882531442386926, 0.5317670858984923, 0.10666977716279612, 0.7466884401395728, 0.12444807335659547, 0.01777829619379935, 0.6602367560358745, 0.22346474819675752, 0.07110241988078649, 0.04062995421759227, 0.8766897254390055, 0.6464417899752392, 0.20039695489232415, 0.12928835799504784, 0.025857671599009566, 0.3206519042725919, 0.3206519042725919, 0.6248732471437898, 0.10667371979148568, 0.1981083367556163, 0.6857596272309794, 0.007619551413677549, 0.4837428297733952, 0.1791640110271834, 0.313537019297571, 0.008958200551359171, 0.017916401102718343, 0.12027755356297927, 0.8419428749408548, 0.8764519617714853, 0.30286129065792966, 0.30286129065792966, 0.03785766133224121, 0.26500362932568844, 0.03785766133224121, 0.461221634078361, 0.2522305811366036, 0.2810569332665012, 0.6667272300288236, 0.25492511736396195, 0.06863368544414361, 0.00980481220630623, 0.14992450517808065, 0.22488675776712097, 0.6184385838595827, 0.1796189603356185, 0.8082853215102832, 0.9169933496817931, 0.8302823533956939, 0.8266506598547666, 0.5497045547491215, 0.3857575822800852, 0.05304166756351172, 0.004821969778501065, 0.00964393955700213, 0.8763939001939901, 0.8270079637752167, 0.9779039250002606, 0.8173854602996586, 0.13623091004994312, 0.18144171115740987, 0.6597880405723996, 0.1484523091287899, 0.8217478025168997, 0.14940869136670903, 0.8446576656642272, 0.898495287445717, 0.6978534184490889, 0.2938330182943532, 0.9292986024677671, 0.3704048348734843, 0.3511630252696669, 0.24533307244867142, 0.028862714405726048, 0.0048104524009543416, 0.3460670935598859, 0.18634381960916932, 0.4421968417709653, 0.023662707251958008, 0.0014789192032473755, 0.9553770141355465, 0.2669106967112203, 0.6358754833414366, 0.07065283148238184, 0.023550943827460615, 0.9295148116536702, 0.0546773418619806, 0.8302747991022625, 0.8763715316008946, 0.825642344946467, 0.8208760485575674, 0.12628862285501036, 0.611152300836513, 0.7613699763304871, 0.10876713947578387, 0.9169031131284158, 0.5332620254195728, 0.23379468109528068, 0.2022718027453552, 0.02626906529160457, 0.005253813058320914, 0.15420683331641827, 0.7710341665820913, 0.07710341665820913, 0.9155585643503179, 0.8446774420070271, 0.9003280797382166, 0.8824041158490756, 0.6242463993641786, 0.14206076626713698, 0.21309114940070548, 0.6392734482021164, 0.4160744240285929, 0.38923091280094174, 0.09395228929677904, 0.10737404491060462, 0.3335754262591751, 0.5458506975150138, 0.037906298438542624, 0.053068817813959675, 0.022743779063125576, 0.8164908053058111, 0.12425087489737467, 0.12425087489737467, 0.24850174979474934, 0.4970034995894987, 0.2017916350598302, 0.6053749051794906, 0.280043796755601, 0.66779674610951, 0.04308366103932323, 0.8763974071668171, 0.31477407048180844, 0.19946079713698756, 0.3802221445423825, 0.1028469735237592, 0.0031165749552654306, 0.22187046167359667, 0.7025897952997229, 0.03697841027893278, 0.49395024656674313, 0.21703874470356896, 0.2806535491856495, 0.007484094644950654, 0.8304419309283197, 0.9172967528286664, 0.15408911714355528, 0.8474901442895539, 0.7889938570984547, 0.10180565898044577, 0.10180565898044577, 0.39690960825214994, 0.5292128110028667, 0.9161706811229966, 0.8264531453517459, 0.15965190945041763, 0.20754748228554293, 0.41509496457108586, 0.19956488681302204, 0.007982595472520882, 0.6980362632023323, 0.23267875440077743, 0.03877979240012957, 0.24091219330869826, 0.33727707063217754, 0.27945814423809, 0.14454731598521897, 0.8763705489028885, 0.37483989579097693, 0.1441691906888373, 0.2450876241710234, 0.158586109757721, 0.07208459534441865, 0.41457659089659227, 0.41457659089659227, 0.350077704578854, 0.3294848984271567, 0.10296403075848648, 0.16474244921357836, 0.04118561230339459, 0.6544441320706207, 0.4537026463367215, 0.21248037518127522, 0.15936028138595643, 0.6374411255438257, 0.45392380696198537, 0.830513547636067, 0.4311594480498783, 0.35276682113171864, 0.16462451652813537, 0.054874838842711784, 0.8305419194062489, 0.35887850261705473, 0.35887850261705473, 0.17506268420344134, 0.11379074473223687, 0.47392940318554416, 0.2983999945983056, 0.16967842830099727, 0.01755294085872386, 0.040956862003689004, 0.5040524258991893, 0.2831755201680839, 0.2038863745210204, 0.0056635104033616775, 0.0056635104033616775, 0.410847879516757, 0.13694929317225232, 0.410847879516757, 0.5762951521056912, 0.23332925670620666, 0.12650381387685905, 0.05903511314253422, 0.005622391727860401, 0.5710831618885619, 0.33653114897004544, 0.07648435203864669, 0.01019791360515289, 0.6416217955292197, 0.10589874295142462, 0.1868801346201611, 0.04360536474470426, 0.01868801346201611, 0.1962865783560781, 0.7851463134243124, 0.18794510317152507, 0.3907279776460653, 0.4204035202520956, 0.9525557417117966, 0.8716545949300127, 0.08716545949300127, 0.7178820733029664, 0.24969811245320572, 0.015606132028325358, 0.20003411501495397, 0.40006823002990793, 0.11113006389719665, 0.11113006389719665, 0.1555820894560753, 0.23989177758347321, 0.47978355516694643, 0.20129147040270487, 0.357851502938142, 0.4473143786726775, 0.5467820377009639, 0.23954260699280322, 0.19788302316796788, 0.010414895956208836, 0.5030622957410581, 0.1426126757396769, 0.2021652216529486, 0.1379111589570502, 0.014104550347880133, 0.6544101781162456, 0.19881767476752366, 0.2105897739313902, 0.3662430850980699, 0.21843784004063455, 0.006540055091036962, 0.8270310328550564, 0.13558006944939147, 0.8134804166963487, 0.06396373921423855, 0.06396373921423855, 0.8315286097851012, 0.916915157288587, 0.03154223408358742, 0.5993024475881609, 0.31542234083587417, 0.047313351125381126, 0.296896086064976, 0.42631232870868346, 0.23599432482087834, 0.007612720155512205, 0.038063600777561026, 0.4542056489387476, 0.13930032660773456, 0.4643344220257819, 0.25538393211418003, 0.13930032660773456, 0.9450481490968933, 0.27411335070366627, 0.34562118132201397, 0.3098672660128401, 0.07150783061834771, 0.6544118605822752, 0.8303703160068998, 0.4541463189803131, 0.5256240855129121, 0.18551438312220425, 0.09275719156110213, 0.18551438312220425, 0.9344745538968621, 0.8304329649650628, 0.3196829041116806, 0.3196829041116806, 0.2693924073537734, 0.4489873455896224, 0.2693924073537734, 0.3384236921807733, 0.03384236921807733, 0.20305421530846396, 0.4061084306169279, 0.6947236413144552, 0.9169428907131061, 0.41263931114263286, 0.36105939724980374, 0.17193304630943035, 0.05157991389282911, 0.8763482324959491, 0.8270473246504282, 0.10148137609092885, 0.8118510087274308, 0.10148137609092885, 0.9170491576783864, 0.8992015240376613, 0.8220380563309271, 0.03161684832042028, 0.1264673932816811, 0.1578217812396383, 0.1578217812396383, 0.5681584124626978, 0.12625742499171064, 0.5048941998729748, 0.2960136207293091, 0.1754596864806792, 0.019097652950278005, 0.004774413237569501, 0.8768570553864629, 0.8270475395326782, 0.5208182282142368, 0.3761464981547266, 0.07233586502975511, 0.004822391001983674, 0.028934346011902045, 0.8270725664560407, 0.32605192623593543, 0.5841763678393843, 0.06792748463248655, 0.027170993852994617, 0.16060570810437633, 0.3801492907424688, 0.24901251990495046, 0.19154809223457728, 0.017681362360114826, 0.6544064092677961, 0.9213896270512147, 0.06142597513674765, 0.24844618614749991, 0.12422309307374996, 0.24844618614749991, 0.37266927922124987, 0.3812607817585768, 0.2573510276870393, 0.34313470358271914, 0.009531519543964419, 0.009531519543964419, 0.11213840315112648, 0.710209886623801, 0.1868973385852108, 0.03737946771704216, 0.29498250733961895, 0.3277583414884655, 0.2490963395312338, 0.1311033365953862, 0.006555166829769311, 0.24238421029880824, 0.43629157853785483, 0.04847684205976165, 0.04847684205976165, 0.24238421029880824, 0.08414045691312738, 0.7572641122181465, 0.08414045691312738, 0.6095059841763779, 0.273730232414541, 0.10219262010142863, 0.007299472864387759, 0.007299472864387759, 0.4932127748079682, 0.47207508445905527, 0.0281835871318839, 0.007045896782970975, 0.8990288727014404, 0.824906558473732, 0.3664700637910132, 0.5497050956865198, 0.9159321877731655, 0.20784077764072906, 0.1833889214477021, 0.5990704767291603, 0.012225928096513475, 0.23317317981332658, 0.18135691763258735, 0.3627138352651747, 0.10363252436147848, 0.1295406554518481, 0.8248824024883055, 0.6949816946009191, 0.3027363121327197, 0.44734433695728093, 0.23160797471901273, 0.016459449980031363, 0.0011756749985736687, 0.8274526261920824, 0.09193918068800916, 0.4542138264146059, 0.8446164809843772, 0.9313087192870027, 0.8836385800244964, 0.3672850569802572, 0.06677910126913766, 0.5342328101531013, 0.48264369093493187, 0.3792200428774465, 0.13215243918456468, 0.005745758225415855, 0.3735930913391991, 0.3658099019362991, 0.17123016686379958, 0.08561508343189979, 0.007783189402899981, 0.8830082753179245, 0.08027347957435678, 0.9104182006458609, 0.41776872758321093, 0.3474076787270912, 0.18030018769380682, 0.043975655535074834, 0.013192696660522451, 0.8763918734676414, 0.3636846099518222, 0.5455269149277333, 0.683978586495866, 0.14656683996339986, 0.09771122664226657, 0.048855613321133286, 0.827037730863609, 0.3081462630703117, 0.3350944153540271, 0.3362660741489713, 0.011716587949441509, 0.009373270359553206, 0.8270459737495767, 0.7996588859782993, 0.19385669963110286, 0.35490974880725173, 0.40420276947492556, 0.13802045786948677, 0.049293020667673854, 0.049293020667673854, 0.6544102450642286, 0.12471527014804908, 0.7482916208882945, 0.12471527014804908, 0.8148579856969683, 0.11587698262351993, 0.27037962612154653, 0.5793849131175997, 0.2946784002650914, 0.3130958002816596, 0.3560697336536521, 0.024556533355424282, 0.0061391333388560706, 0.8267135000971542, 0.4012452535174333, 0.18519011700804613, 0.3189385348471906, 0.051441699168901706, 0.051441699168901706, 0.1980987224393078, 0.18008974767209798, 0.2881435962753568, 0.270134621508147, 0.0720358990688392, 0.3205199321171509, 0.3205199321171509, 0.21762737729034065, 0.3590851725290621, 0.1441781374548507, 0.2693138793967966, 0.008161026648387774, 0.8303286199605551, 0.2356247269419472, 0.15708315129463146, 0.4712494538838944, 0.3206950521517406, 0.3206950521517406, 0.28877541040538895, 0.22460309698196917, 0.28877541040538895, 0.17647386191440434, 0.01604307835585494, 0.2520323766962723, 0.6078427908557156, 0.10377803746317096, 0.014825433923310137, 0.029650867846620275, 0.4378264416477192, 0.24220186133703617, 0.14904729928432994, 0.05589273723162373, 0.12110093066851808, 0.46878743586634647, 0.192652370903978, 0.3339307762335619, 0.006421745696799266, 0.19547911434969606, 0.19547911434969606, 0.5986547876959443, 0.8821961519056625, 0.8249041034090816, 0.8883418909014247, 0.9154194941138146, 0.8446185272261523, 0.8539765977972849, 0.09488628864414277, 0.6544124717674947, 0.43519711613371204, 0.48355235125968005, 0.024177617562984, 0.024177617562984, 0.024177617562984, 0.6604665659097061, 0.13531510130833005, 0.20136175789930066, 0.0016108940631944053, 0.5082167743505603, 0.29040958534317735, 0.1894745465348779, 0.0070831606181262765, 0.005312370463594708, 0.9152340448957015, 0.4779215011500886, 0.35844112586256643, 0.13462577497185593, 0.02692515499437119, 0.6192936564893343, 0.24771746259573374, 0.08670111190850681, 0.012385873129786687, 0.03715761938936006, 0.8268704896913425, 0.8992966349763772, 0.9385306480739958, 0.3893351668591227, 0.5191135558121637, 0.8395666044781627, 0.9171058316668553, 0.8303245146125168, 0.8302025922797001, 0.3204587348834677, 0.3204587348834677, 0.876886389116748, 0.5797945746235647, 0.28221788897239736, 0.12479022301500563, 0.003839699169692481, 0.009599247924231202, 0.45416780278960545, 0.37554102659109095, 0.4519222523384315, 0.13366714505784594, 0.03819061287367027, 0.3091179333311251, 0.4538114340393113, 0.21046327375736176, 0.019730931914752666, 0.006576977304917555, 0.45421447796377407, 0.751413259155211, 0.2030846646365435, 0.020308466463654352, 0.040616932927308703, 0.8299719464087879, 0.8758063032846425, 0.8990759590211025, 0.2522769752305356, 0.7568309256916068, 0.005842569280281317, 0.02044899248098461, 0.9727877851668393, 0.23486974066010574, 0.7046092219803172, 0.13635784359303796, 0.8181470615582277, 0.9307408284061256, 0.1163426035507657, 0.5511163078552663, 0.2850601592354826, 0.10135472328372715, 0.03167335102616473, 0.03167335102616473, 0.469821916333141, 0.024093431606827746, 0.2891211792819329, 0.20479416865803582, 0.024093431606827746, 0.8303827298185794, 0.15531111997199398, 0.77655559985997, 0.32007694567658274, 0.23893067775857582, 0.39671508759914476, 0.03606500796355862, 0.009016251990889654, 0.44775335398942495, 0.24486511546296677, 0.24486511546296677, 0.02798458462433906, 0.034980730780423824, 0.94813354754716, 0.454102326642199, 0.8760581521883133, 0.8446845609388813, 0.3715164598896565, 0.2914188745006021, 0.2028002693893079, 0.13292790766694132, 0.6221451004511612, 0.4408741223390647, 0.4408741223390647, 0.020994005825669747, 0.08397602330267899, 0.4600394546034269, 0.33804004122793246, 0.16520753894598203, 0.022874890007905203, 0.012708272226614001, 0.76721026671652, 0.20923916364996, 0.21248046806095383, 0.21248046806095383, 0.3642522309616351, 0.18212611548081756, 0.4541574672885181, 0.3995907803238965, 0.3541827371052719, 0.15438734694332365, 0.03632643457489968, 0.054489651862349525, 0.830488342520869, 0.7184371370852762, 0.25242385897590786, 0.019417219921223684, 0.33638674861580486, 0.38659372602114883, 0.20082790962137603, 0.06526907062694721, 0.010041395481068801, 0.8302885877898217, 0.42434259897430937, 0.42434259897430937, 0.4084411839617027, 0.3555840895666588, 0.1777920447833294, 0.03844152319639555, 0.02402595199774722, 0.9440362000618343, 0.7663216426339621, 0.1021762190178616, 0.1021762190178616, 0.911293582120761, 0.6544302715980124, 0.3210015581530717, 0.3057157696695921, 0.3592160293617707, 0.015285788483479605, 0.8515314923851525, 0.1419219153975254, 0.49679362341534045, 0.278845453142804, 0.2083328098193363, 0.006410240302133425, 0.009615360453200137, 0.826938878352107, 0.7115054419980791, 0.19404693872674886, 0.04312154193927752, 0.02156077096963876, 0.02156077096963876, 0.331344817684566, 0.5422006107565625, 0.07028526435733218, 0.05020376025523727, 0.6244358035072098, 0.19213409338683382, 0.07205028502006268, 0.14410057004012536, 0.46683041509481726, 0.2513702235125939, 0.22264219796829748, 0.021546019158222338, 0.03591003193037056, 0.8301990120029835, 0.3703250977491483, 0.23916829229632494, 0.2314531860932177, 0.15430212406214514, 0.007715106203107256, 0.8884400067356061, 0.9344834586508448, 0.6544298822390365, 0.813341246007876, 0.135556874334646], \"Term\": [\"....\", \"....\", \"....\", \"....\", \"....\", \"Amazon\", \"Amazon\", \"Amazon\", \"Amazon\", \"Angle\", \"Angle\", \"Available\", \"Beefaroni\", \"Broccoli\", \"Celiacs\", \"Cincinnati\", \"DOESN'T\", \"Delicious\", \"Delicious\", \"Delicious\", \"Delicious\", \"Diet\", \"Diet\", \"Diet\", \"Dukan\", \"Euro\", \"Excellent\", \"Excellent\", \"Excellent\", \"FINALLY\", \"Free\", \"Free\", \"Free\", \"Great\", \"Great\", \"Great\", \"Great\", \"Guilt\", \"Guilt\", \"Joseph\", \"Konjac\", \"Lonnger\", \"Love\", \"Love\", \"MIRACLE\", \"MIRACLE\", \"Miracle\", \"Miracle\", \"Miracle\", \"Miracle\", \"NOODLE\", \"NOODLE\", \"Noodle\", \"Noodle\", \"Noodle\", \"Noodle\", \"Noodle\", \"Olive\", \"PASTA\", \"PASTA\", \"PASTA\", \"PASTA\", \"Pack\", \"Pack\", \"Perfect\", \"Perfect\", \"Perfect\", \"Perfect\", \"Perfect\", \"Shirataki\", \"Shirataki\", \"Shirataki\", \"Shirataki\", \"Shirataki\", \"Spinach\", \"Spinach\", \"Spiralizer\", \"Stir\", \"Super\", \"Super\", \"Super\", \"TASTE\", \"Taste\", \"Taste\", \"Variety\", \"Yummy\", \"Yummy\", \"absolutely\", \"absolutely\", \"absolutely\", \"absolutely\", \"absorb\", \"absorb\", \"absorb\", \"absorb\", \"account\", \"add\", \"add\", \"add\", \"add\", \"additional\", \"additional\", \"adkin\", \"alternative\", \"alternative\", \"alternative\", \"alternative\", \"amazing\", \"amazing\", \"amazing\", \"amazing\", \"amazing\", \"appearance\", \"appearance\", \"apply\", \"arrive\", \"arrive\", \"arrive\", \"arrive\", \"arrive\", \"asian\", \"asian\", \"asian\", \"away\", \"away\", \"away\", \"away\", \"awesome\", \"awesome\", \"awesome\", \"bad\", \"bad\", \"ball\", \"belly&nbsp;diet\", \"biggie\", \"boil\", \"boil\", \"boil\", \"boil\", \"boil\", \"bone\", \"branding\", \"brine\", \"bring\", \"bring\", \"broth\", \"broth\", \"broth\", \"brown\", \"brown\", \"bullion\", \"bunch\", \"butter\", \"butter\", \"call\", \"calorie\", \"calorie\", \"calorie\", \"calorie\", \"calorie\", \"carb\", \"carb\", \"carb\", \"carb\", \"carb\", \"cardboard\", \"chicken\", \"chicken\", \"chicken\", \"chicken\", \"chinese\", \"chinese\", \"cholesterol\", \"clump\", \"comparison\", \"complain\", \"complain\", \"conclusion\", \"control\", \"control\", \"conventional\", \"cook\", \"cook\", \"cook\", \"cook\", \"cook\", \"count\", \"count\", \"count\", \"couscous\", \"cube\", \"currently\", \"daikon\", \"damage\", \"daughter\", \"daughter\", \"daughter\", \"definitely\", \"definitely\", \"definitely\", \"definitely\", \"delicious\", \"delicious\", \"delicious\", \"delicious\", \"delicious\", \"delish\", \"delivery\", \"delivery\", \"delivery\", \"delivery\", \"diabete\", \"diabete\", \"diabetic\", \"diabetic\", \"diabetic\", \"dice\", \"diet\", \"diet\", \"diet\", \"diet\", \"diet\", \"disappoint\", \"disappoint\", \"disappoint\", \"dish\", \"dish\", \"dish\", \"dish\", \"dissipate\", \"dressing\", \"drop\", \"drop\", \"dry\", \"dry\", \"dry\", \"dukan\", \"dukan\", \"e.g.\", \"earth\", \"easy\", \"easy\", \"easy\", \"easy\", \"easy\", \"eating\", \"eating\", \"eating\", \"enjoy\", \"enjoy\", \"enjoy\", \"enjoy\", \"evaporate\", \"excellent\", \"excellent\", \"excellent\", \"excellent\", \"excellent\", \"exercise\", \"exercise\", \"expect\", \"expect\", \"expect\", \"expect\", \"expect\", \"expectex\", \"fajita\", \"fast\", \"fast\", \"fast\", \"favourite\", \"favs\", \"feel\", \"feel\", \"feel\", \"feel\", \"fettachini\", \"fill\", \"fill\", \"fill\", \"fill\", \"find\", \"find\", \"find\", \"find\", \"find\", \"fishy\", \"fishy\", \"fishy\", \"fishy\", \"fishy\", \"fit\", \"fit\", \"fit\", \"flavor\", \"flavor\", \"flavor\", \"flavor\", \"flavor\", \"follow\", \"follow\", \"follow\", \"follow\", \"food\", \"food\", \"food\", \"food\", \"food\", \"fool\", \"fool\", \"free\", \"free\", \"free\", \"freeze\", \"fried\", \"fried\", \"garlic\", \"garlic\", \"garlic\", \"get\", \"get\", \"get\", \"get\", \"get\", \"gift\", \"gift\", \"gluten\", \"gluten\", \"gluten\", \"go\", \"go\", \"go\", \"go\", \"good\", \"good\", \"good\", \"good\", \"good\", \"gorge\", \"great\", \"great\", \"great\", \"great\", \"great\", \"greedy\", \"grill\", \"grill\", \"ground\", \"ground\", \"ground\", \"guest\", \"guilt\", \"guilt\", \"guilt\", \"guilt\", \"hair\", \"hair\", \"hair\", \"hair\", \"hair\", \"happily\", \"healthy\", \"healthy\", \"healthy\", \"healthy\", \"heavy\", \"help\", \"help\", \"help\", \"help\", \"helps\", \"hide\", \"highlight\", \"highly\", \"highly\", \"highly\", \"highly\", \"hooked\", \"household\", \"insanely\", \"insanely\", \"interesting\", \"interesting\", \"interesting\", \"item\", \"item\", \"item\", \"item\", \"jellyfish\", \"jicama\", \"keto\", \"keto\", \"keto\", \"keto\", \"ketosis\", \"kitty\", \"konjac\", \"konjac\", \"konjac\", \"konnyaku\", \"let\", \"life\", \"life\", \"life\", \"lifestyle\", \"lifestyle\", \"lifestyle\", \"lifestyle\", \"like\", \"like\", \"like\", \"like\", \"like\", \"list\", \"litter\", \"little\", \"little\", \"little\", \"little\", \"little\", \"loce\", \"lose\", \"lose\", \"lose\", \"lose\", \"love\", \"love\", \"love\", \"love\", \"love\", \"lowcarb\", \"lunch\", \"lunch\", \"magic\", \"magic\", \"magic\", \"magic\", \"make\", \"make\", \"make\", \"make\", \"make\", \"maybe\", \"maybe\", \"maybe\", \"maybe\", \"meal\", \"meal\", \"meal\", \"meal\", \"meal\", \"mean\", \"mean\", \"mean\", \"mean\", \"mean\", \"mild\", \"mild\", \"mild\", \"minute\", \"minute\", \"minute\", \"minute\", \"minute\", \"miracle\", \"miracle\", \"miracle\", \"miracle\", \"miso\", \"moment\", \"morning\", \"morning\", \"nervous\", \"nice\", \"nice\", \"nice\", \"nice\", \"night\", \"night\", \"night\", \"night\", \"night\", \"nonetheless\", \"nood\", \"noodle\", \"noodle\", \"noodle\", \"noodle\", \"noodle\", \"nose\", \"nose\", \"nutritionist\", \"obvious\", \"obviously\", \"oder\", \"one\", \"one\", \"one\", \"open\", \"open\", \"open\", \"open\", \"order\", \"order\", \"order\", \"order\", \"order\", \"original\", \"original\", \"overcooked\", \"package\", \"package\", \"package\", \"package\", \"package\", \"packing\", \"pain\", \"pain\", \"paleo\", \"paleo\", \"paleo\", \"paleo\", \"pallet\", \"pasta\", \"pasta\", \"pasta\", \"pasta\", \"pasta\", \"pay\", \"pepper\", \"pepper\", \"perfect\", \"perfect\", \"perfect\", \"perfect\", \"perfect\", \"pile\", \"possible\", \"possible\", \"possible\", \"prebiotic\", \"prefer\", \"prefer\", \"prefer\", \"prepare\", \"prepare\", \"prepare\", \"prepare\", \"prepare\", \"preppe\", \"pretty\", \"pretty\", \"pretty\", \"pretty\", \"pretty\", \"price\", \"price\", \"price\", \"price\", \"price\", \"produce\", \"produce\", \"product\", \"product\", \"product\", \"product\", \"product\", \"prove\", \"quality\", \"quality\", \"quality\", \"quantity\", \"quantity\", \"quick\", \"quick\", \"quick\", \"quick\", \"quick\", \"read\", \"read\", \"read\", \"read\", \"read\", \"recommend\", \"recommend\", \"recommend\", \"recommend\", \"recommend\", \"regular\", \"regular\", \"regular\", \"regular\", \"replacement\", \"replacement\", \"replacement\", \"replica\", \"replication\", \"require\", \"research\", \"resemble\", \"rest\", \"rest\", \"retailer\", \"review\", \"review\", \"review\", \"review\", \"review\", \"rice\", \"rice\", \"rice\", \"rice\", \"rinse\", \"rinse\", \"rinse\", \"rinse\", \"rinse\", \"ruin\", \"sauce\", \"sauce\", \"sauce\", \"sauce\", \"say\", \"say\", \"say\", \"say\", \"say\", \"sceptical\", \"seasoned\", \"seed\", \"seller\", \"seller\", \"service\", \"shelf\", \"shellfish\", \"sized\", \"skinny\", \"skinny\", \"slippery\", \"smell\", \"smell\", \"smell\", \"smell\", \"smell\", \"sooooooooooooooooooooooooooo\", \"soup\", \"soup\", \"soup\", \"soup\", \"spaghetti\", \"spaghetti\", \"spaghetti\", \"spaghetti\", \"spaghetti\", \"speck\", \"spice\", \"spice\", \"spice\", \"spice\", \"spiralize\", \"splurge\", \"sprout\", \"squash\", \"squash\", \"star\", \"star\", \"star\", \"starch\", \"starch\", \"starchy\", \"starchy\", \"steak\", \"steak\", \"stir\", \"stir\", \"stir\", \"stir\", \"stir\", \"stuff\", \"stuff\", \"stuff\", \"stuff\", \"stuff\", \"sub\", \"subscription\", \"subscription\", \"substitute\", \"substitute\", \"substitute\", \"substitute\", \"substitute\", \"sure\", \"sure\", \"sure\", \"sure\", \"sure\", \"sweet\", \"system\", \"taco\", \"takeout\", \"taste\", \"taste\", \"taste\", \"taste\", \"teenage\", \"tell\", \"tell\", \"tell\", \"tell\", \"texture\", \"texture\", \"texture\", \"texture\", \"texture\", \"thai\", \"thai\", \"thank\", \"thank\", \"thank\", \"thank\", \"thankful\", \"thing\", \"thing\", \"thing\", \"thing\", \"thing\", \"thousand\", \"throw\", \"throw\", \"throw\", \"time\", \"time\", \"time\", \"time\", \"time\", \"trade\", \"trouble\", \"trouble\", \"try\", \"try\", \"try\", \"try\", \"try\", \"tuna\", \"usually\", \"usually\", \"usually\", \"vegan\", \"verrrrryyyyy\", \"want\", \"want\", \"want\", \"want\", \"warning\", \"warning\", \"water\", \"water\", \"water\", \"water\", \"water\", \"wave\", \"week\", \"week\", \"week\", \"week\", \"week\", \"weight\", \"weight\", \"weight\", \"weight\", \"weird\", \"weird\", \"weird\", \"weird\", \"well\", \"well\", \"well\", \"well\", \"well\", \"wide\", \"work\", \"work\", \"work\", \"work\", \"work\", \"worried\", \"wrap\", \"yummmm\", \"zucchini\", \"zucchini\"]}, \"R\": 30, \"lambda.step\": 0.01, \"plot.opts\": {\"xlab\": \"PC1\", \"ylab\": \"PC2\"}, \"topic.order\": [2, 1, 4, 5, 3]};\n",
       "\n",
       "function LDAvis_load_lib(url, callback){\n",
       "  var s = document.createElement('script');\n",
       "  s.src = url;\n",
       "  s.async = true;\n",
       "  s.onreadystatechange = s.onload = callback;\n",
       "  s.onerror = function(){console.warn(\"failed to load library \" + url);};\n",
       "  document.getElementsByTagName(\"head\")[0].appendChild(s);\n",
       "}\n",
       "\n",
       "if(typeof(LDAvis) !== \"undefined\"){\n",
       "   // already loaded: just create the visualization\n",
       "   !function(LDAvis){\n",
       "       new LDAvis(\"#\" + \"ldavis_el179613730845568417590219\", ldavis_el179613730845568417590219_data);\n",
       "   }(LDAvis);\n",
       "}else if(typeof define === \"function\" && define.amd){\n",
       "   // require.js is available: use it to load d3/LDAvis\n",
       "   require.config({paths: {d3: \"https://d3js.org/d3.v5\"}});\n",
       "   require([\"d3\"], function(d3){\n",
       "      window.d3 = d3;\n",
       "      LDAvis_load_lib(\"https://cdn.jsdelivr.net/gh/bmabey/pyLDAvis@3.4.0/pyLDAvis/js/ldavis.v3.0.0.js\", function(){\n",
       "        new LDAvis(\"#\" + \"ldavis_el179613730845568417590219\", ldavis_el179613730845568417590219_data);\n",
       "      });\n",
       "    });\n",
       "}else{\n",
       "    // require.js not available: dynamically load d3 & LDAvis\n",
       "    LDAvis_load_lib(\"https://d3js.org/d3.v5.js\", function(){\n",
       "         LDAvis_load_lib(\"https://cdn.jsdelivr.net/gh/bmabey/pyLDAvis@3.4.0/pyLDAvis/js/ldavis.v3.0.0.js\", function(){\n",
       "                 new LDAvis(\"#\" + \"ldavis_el179613730845568417590219\", ldavis_el179613730845568417590219_data);\n",
       "            })\n",
       "         });\n",
       "}\n",
       "</script>"
      ],
      "text/plain": [
       "<IPython.core.display.HTML object>"
      ]
     },
     "execution_count": 58,
     "metadata": {},
     "output_type": "execute_result"
    }
   ],
   "source": [
    "\n",
    "# Display the LDA visualization for high-rating reviews\n",
    "display(Markdown(\"### High Rating Reviews LDA Visualization\" ))\n",
    "vis_data = gensimvis.prepare(high_lda, high_corpus, high_dictionary)\n",
    "pyLDAvis.display(vis_data)"
   ]
  },
  {
   "cell_type": "markdown",
   "id": "92ef0d29",
   "metadata": {},
   "source": [
    "\n",
    "### Example Walkthrough:\n",
    "\n",
    "1. **Selecting a Topic**:\n",
    "   - Select a topic from the dropdown or navigate using the buttons.\n",
    "   - Observe how the topic circle is highlighted in the Intertopic Distance Map.\n",
    "\n",
    "2. **Adjusting the Relevance Metric Slider**:\n",
    "   - Move the slider to λ = 1 to see the most specific terms for the topic.\n",
    "   - Move the slider to λ = 0 to see common terms that are less specific to the topic.\n",
    "   - Adjust the slider to intermediate values to balance specificity and generality.\n",
    "\n",
    "3. **Interpreting the Bar Chart**:\n",
    "   - Look at the top words and their frequencies in the bar chart.\n",
    "   - Use this information to understand what the topic is about and how it differs from other topics.\n",
    "\n",
    "By interacting with these components, you can gain a deeper understanding of the topics in your LDA model and how they relate to each other within your dataset."
   ]
  },
  {
   "cell_type": "markdown",
   "id": "a5fd49c2",
   "metadata": {},
   "source": [
    "### PyLDA Vis + Labels (HTML for Streamlit) -`WIP`"
   ]
  },
  {
   "cell_type": "code",
   "execution_count": 59,
   "id": "135be743",
   "metadata": {},
   "outputs": [
    {
     "data": {
      "text/markdown": [
       "## High Rating Reviews Topics"
      ],
      "text/plain": [
       "<IPython.core.display.Markdown object>"
      ]
     },
     "metadata": {},
     "output_type": "display_data"
    },
    {
     "data": {
      "text/html": [
       "\n",
       "<link rel=\"stylesheet\" type=\"text/css\" href=\"https://cdn.jsdelivr.net/gh/bmabey/pyLDAvis@3.4.0/pyLDAvis/js/ldavis.v1.0.0.css\">\n",
       "\n",
       "\n",
       "<div id=\"ldavis_el1796137308464646235514978\" style=\"background-color:white;\"></div>\n",
       "<script type=\"text/javascript\">\n",
       "\n",
       "var ldavis_el1796137308464646235514978_data = {\"mdsDat\": {\"x\": [0.09388809487467442, 0.06962153397975922, 0.07561752506166983, -0.12019583868935464, -0.11893131522674888], \"y\": [0.015235201518561635, 0.009431842206936733, -0.026649457301858408, -0.12959323879517054, 0.13157565237153057], \"topics\": [1, 2, 3, 4, 5], \"cluster\": [1, 1, 1, 1, 1], \"Freq\": [38.885556403779304, 30.50556271518149, 20.95415949977967, 6.853784371297772, 2.8009370099617654]}, \"tinfo\": {\"Term\": [\"star\", \"great\", \"love\", \"product\", \"good\", \"taste\", \"carb\", \"recommend\", \"noodle\", \"pasta\", \"diet\", \"definitely\", \"feel\", \"easy\", \"rice\", \"alternative\", \"little\", \"find\", \"weight\", \"help\", \"expect\", \"fast\", \"stuff\", \"excellent\", \"thing\", \"get\", \"free\", \"weird\", \"perfect\", \"work\", \"seed\", \"chinese\", \"ruin\", \"research\", \"nervous\", \"sweet\", \"obviously\", \"call\", \"couscous\", \"bunch\", \"seasoned\", \"miso\", \"let\", \"rest\", \"e.g.\", \"sprout\", \"taco\", \"slippery\", \"ball\", \"steak\", \"list\", \"original\", \"dressing\", \"currently\", \"Cincinnati\", \"resemble\", \"bullion\", \"takeout\", \"obvious\", \"cube\", \"complain\", \"fried\", \"life\", \"brown\", \"pepper\", \"dry\", \"rice\", \"usually\", \"spice\", \"garlic\", \"smell\", \"minute\", \"food\", \"add\", \"thai\", \"away\", \"flavor\", \"absorb\", \"throw\", \"like\", \"butter\", \"good\", \"rinse\", \"cook\", \"follow\", \"week\", \"sauce\", \"boil\", \"go\", \"water\", \"stir\", \"texture\", \"dish\", \"little\", \"noodle\", \"taste\", \"carb\", \"fishy\", \"pasta\", \"calorie\", \"open\", \"say\", \"find\", \"package\", \"great\", \"diet\", \"try\", \"love\", \"heavy\", \"worried\", \"require\", \"brine\", \"freeze\", \"hooked\", \"wrap\", \"cardboard\", \"lunch\", \"overcooked\", \"tuna\", \"ketosis\", \"Olive\", \"dice\", \"packing\", \"clump\", \"bone\", \"apply\", \"evaporate\", \"account\", \"nose\", \"Broccoli\", \"splurge\", \"bring\", \"Dukan\", \"grill\", \"zucchini\", \"replication\", \"nonetheless\", \"moment\", \"drop\", \"subscription\", \"appearance\", \"control\", \"absolutely\", \"fool\", \"mild\", \"chicken\", \"disappoint\", \"broth\", \"eating\", \"diabetic\", \"noodle\", \"maybe\", \"bad\", \"count\", \"read\", \"delicious\", \"guilt\", \"lose\", \"weight\", \"love\", \"paleo\", \"squash\", \"pasta\", \"sauce\", \"review\", \"miracle\", \"soup\", \"spaghetti\", \"calorie\", \"like\", \"product\", \"texture\", \"taste\", \"rinse\", \"free\", \"boil\", \"time\", \"little\", \"smell\", \"hair\", \"package\", \"great\", \"try\", \"open\", \"Miracle\", \"water\", \"carb\", \"cook\", \"flavor\", \"minute\", \"good\", \"rice\", \"vegan\", \"TASTE\", \"jicama\", \"shelf\", \"guest\", \"conventional\", \"konnyaku\", \"Konjac\", \"daikon\", \"Spiralizer\", \"oder\", \"starchy\", \"trade\", \"prove\", \"fettachini\", \"sub\", \"dissipate\", \"household\", \"cholesterol\", \"favs\", \"shellfish\", \"replica\", \"belly&nbsp;diet\", \"thousand\", \"ground\", \"wide\", \"warning\", \"hide\", \"sized\", \"spiralize\", \"possible\", \"alternative\", \"konjac\", \"awesome\", \"replacement\", \"Guilt\", \"nice\", \"starch\", \"carb\", \"PASTA\", \"great\", \"pasta\", \"free\", \"prefer\", \"diet\", \"substitute\", \"lifestyle\", \"easy\", \"gluten\", \"noodle\", \"Amazon\", \"love\", \"prepare\", \"one\", \"want\", \"regular\", \"calorie\", \"dish\", \"good\", \"rice\", \"taste\", \"like\", \"rinse\", \"make\", \"cook\", \"water\", \"amazing\", \"asian\", \"sauce\", \"texture\", \"smell\", \"product\", \"flavor\", \"star\", \"Euro\", \"service\", \"Variety\", \"adkin\", \"damage\", \"teenage\", \"pay\", \"kitty\", \"litter\", \"loce\", \"pallet\", \"greedy\", \"sceptical\", \"wave\", \"Beefaroni\", \"branding\", \"preppe\", \"earth\", \"biggie\", \"comparison\", \"diabete\", \"Spinach\", \"daughter\", \"Pack\", \"fast\", \"prebiotic\", \"Free\", \"gift\", \"conclusion\", \"Angle\", \"Yummy\", \"delivery\", \"product\", \"great\", \"item\", \"quality\", \"....\", \"love\", \"dukan\", \"thank\", \"seller\", \"good\", \"Great\", \"taste\", \"price\", \"easy\", \"interesting\", \"stuff\", \"work\", \"diet\", \"expect\", \"meal\", \"enjoy\", \"arrive\", \"quick\", \"keto\", \"Shirataki\", \"Noodle\", \"healthy\", \"flavor\", \"excellent\", \"fill\", \"noodle\", \"Miracle\", \"sauce\", \"like\", \"carb\", \"time\", \"order\", \"calorie\", \"delish\", \"Taste\", \"nood\", \"jellyfish\", \"Love\", \"NOODLE\", \"speck\", \"nutritionist\", \"sooooooooooooooooooooooooooo\", \"highlight\", \"Joseph\", \"happily\", \"system\", \"FINALLY\", \"DOESN'T\", \"thankful\", \"favourite\", \"fajita\", \"Stir\", \"gorge\", \"pile\", \"helps\", \"retailer\", \"Lonnger\", \"Available\", \"verrrrryyyyy\", \"yummmm\", \"expectex\", \"lowcarb\", \"Celiacs\", \"pain\", \"MIRACLE\", \"morning\", \"Super\", \"trouble\", \"magic\", \"additional\", \"quantity\", \"produce\", \"skinny\", \"exercise\", \"insanely\", \"fit\", \"Excellent\", \"recommend\", \"thank\", \"mean\", \"highly\", \"get\", \"definitely\", \"Delicious\", \"Perfect\", \"weird\", \"Diet\", \"night\", \"feel\", \"help\", \"excellent\", \"love\", \"find\", \"thing\", \"perfect\", \"good\", \"weight\", \"little\", \"pasta\", \"well\", \"pretty\", \"tell\", \"sure\", \"texture\", \"stir\", \"great\", \"hair\", \"try\", \"smell\"], \"Freq\": [342.0, 764.0, 678.0, 367.0, 638.0, 586.0, 676.0, 107.0, 1701.0, 853.0, 320.0, 74.0, 127.0, 125.0, 620.0, 131.0, 207.0, 170.0, 99.0, 83.0, 97.0, 37.0, 83.0, 69.0, 110.0, 44.0, 202.0, 41.0, 101.0, 129.0, 8.91220978487467, 16.845257916405455, 6.983639882407779, 6.966744893587833, 6.9517854462084925, 9.592199438457898, 7.803173948871342, 7.816260162994491, 6.928834101863607, 6.01497690890474, 5.989339832578917, 5.983455946108432, 5.980813082158371, 9.410583542530974, 6.809505454799689, 5.941818128025358, 5.04657513131076, 5.020179390531525, 6.710883562045366, 7.5183278468709105, 4.987536381950307, 10.839420870455886, 6.636091309803413, 5.774133843667698, 4.072123727475756, 4.07103532811043, 4.070555056624975, 4.069148885519143, 4.069229636926142, 4.064099430254316, 26.455528722205017, 9.755306314355842, 26.097373302751663, 11.156261477454164, 33.00006937048676, 30.953045129399637, 410.44396928586264, 30.030359614407665, 36.7563656220428, 46.38944620799226, 301.7288883855412, 166.97339682312398, 103.31129244930561, 99.78545871946342, 21.998033111091583, 67.87767076342406, 205.20740552470963, 65.2969195993102, 36.84297898303158, 422.93396686013944, 37.96822292242989, 320.7232782048569, 286.5442103781151, 202.54634957866242, 112.24392137391062, 32.767068662572676, 284.4610234637256, 114.0806350555195, 104.52671876249588, 155.37073159846867, 87.41910450940473, 180.92889884568905, 131.683492703082, 107.52135578006396, 515.4630363553493, 218.1454956472179, 234.3829805911712, 88.72751656622006, 263.1472299228597, 153.67113181208256, 84.36789764197538, 50.48103426458041, 80.62643173524059, 94.97659878253216, 151.84572731517738, 101.32806979519546, 84.95036850690113, 108.85286473314297, 12.838022071577267, 9.43393336971064, 9.416050920181897, 8.511207576998993, 6.67847822234255, 5.751236260603842, 5.748482136570801, 6.5406238149531175, 14.5015880680129, 4.7990953439374335, 5.504295391691611, 3.8918384761866003, 3.8907341674730826, 3.88975538393557, 3.888245953470209, 3.8876304499592047, 3.8861546492917767, 3.8851535762370295, 3.8854147937372523, 3.8684024174689817, 9.215837873409122, 3.8343604589893117, 3.820315716866539, 6.125188273337114, 3.7772672292474407, 6.039376760337185, 12.069898716669803, 2.967119726903266, 2.9671860088887265, 2.966760161796297, 10.543827758038715, 5.2392749869929816, 6.74155208149821, 7.406280231616778, 41.64056908984191, 8.125479269326773, 9.381629648865076, 81.34535070030613, 19.386428838486882, 39.918276081155526, 18.467044909183777, 31.003010392434227, 760.9988681377868, 18.637508880287434, 8.574726444411022, 9.720032227874126, 40.62867506104364, 72.27345149040316, 38.46618520335858, 42.60881633345321, 53.657797286242186, 258.22206440183544, 14.254487262038406, 11.57389908366389, 286.22725829617065, 212.86799917364263, 60.32897940660994, 66.93010518326517, 71.05759195505347, 68.53525074607307, 145.91042704843784, 248.07065806334595, 132.33535086271317, 132.64477003052232, 170.85057300398788, 164.20262203519684, 79.07016191512962, 79.66971082432427, 77.3836165995576, 77.95055555399385, 146.88547220376154, 56.50165813358098, 79.21155722740606, 160.54630281003847, 74.28570218104376, 66.10654740795108, 64.15369788969656, 86.98231799110805, 125.96135604876687, 89.38878499400147, 82.51805773028964, 74.6593714688479, 91.06545722657104, 84.48165627046953, 10.219950650414214, 4.781309112772575, 4.777681309261333, 4.772084080654252, 4.770410123044148, 4.758390505724362, 4.731137122053582, 3.860625712045608, 3.857293644626909, 3.8571453736704298, 3.838631918227753, 12.206032591459689, 2.942530069280088, 2.9399286123715753, 2.9385117114740633, 2.9382457907369, 2.937444536636942, 2.9373164111908543, 2.9377534344629397, 2.9362736795730076, 2.9349204384883314, 3.68268283622168, 2.9296831430002386, 2.9267859499991835, 12.655851217318645, 2.923842825234437, 5.696247282542785, 2.910922300689958, 2.8971602310247393, 2.8923228910696124, 6.333487918381726, 89.52566830071903, 7.524169776182069, 65.88083440538183, 49.492123257593214, 5.410525388912506, 48.68140345381942, 9.058932116541044, 298.9660270582642, 10.123741064922106, 280.14092755361287, 286.7240720671022, 85.00979911892853, 15.281718037862063, 122.33602823717902, 87.9622993356046, 17.88032878866665, 52.462794187428514, 39.67996823557559, 394.39730606699686, 14.912979987798254, 169.038345345588, 58.49860398606621, 16.480936757145766, 47.2612083624482, 51.71436107850254, 102.21718083192532, 74.53483853977876, 129.34074361046362, 124.65710906469879, 118.99847909079922, 146.52782294669498, 107.04407520561102, 36.34113837194853, 77.00124209548348, 64.6547152517694, 35.44202973842328, 39.250403637257115, 80.3445759580204, 65.36279717198867, 65.16561399070716, 52.988988472282465, 45.0269412543741, 332.65907686785835, 4.835057264145311, 4.06027090016598, 2.4969184781729963, 2.4956865449551766, 2.484653968867994, 2.4167129661195648, 1.7187527760614292, 1.7187480317743258, 1.7187468017739658, 1.7186450631727508, 1.7186157188784454, 1.7160511681276143, 1.7154440750927311, 1.7147695077523788, 1.7136872831498184, 1.7127690000238271, 1.7097409148515716, 1.706440648171057, 1.699172224614488, 1.6930350499605464, 3.2242164611061574, 3.2206441886317214, 9.134821182999792, 3.2029588920253738, 23.50779780816113, 1.5144425119592002, 6.110773223354696, 2.498491648633578, 0.9372323358248286, 1.4109087252187387, 4.061252440453348, 8.109017048386395, 99.29157805274338, 166.64239429695348, 12.22481613909524, 6.2146014194670665, 14.118997013660126, 130.30613131582214, 3.9919812801726273, 11.797317213935127, 3.9305051593169407, 87.62823388374622, 7.984367406178069, 78.425548309449, 14.994083932719029, 25.030237431033097, 4.850722548731682, 16.695790133789682, 19.81242830339983, 32.80830144538255, 16.190503174426766, 19.537781171562013, 15.001292437686628, 7.414049976347421, 11.180648450534063, 10.416719124019094, 8.512826869468123, 10.676357440034165, 12.161289080496237, 21.059069514096915, 10.792943199881604, 12.494065326495543, 27.877343864588788, 13.031184695178124, 16.150410785545944, 16.16047710849309, 15.548940609451758, 12.496807875869916, 11.013682578793833, 11.536764480509483, 4.162224242867434, 5.020085987405941, 2.144587291551089, 2.1419063667832177, 3.5030637320377194, 3.4996588268897737, 1.480658218817071, 1.4805259462659803, 1.480094947432296, 1.479817045818441, 1.479636373864834, 1.47895102683573, 1.479221316674115, 1.4790712354407929, 1.4790317403793924, 1.4766574409063944, 1.4722074246245866, 1.4682916688097252, 0.8075174615803855, 0.8075161690147398, 0.8075153073043092, 0.8075111423705614, 0.8075075519104341, 0.8074965651024445, 0.8074944108263681, 0.8074539104361319, 0.8074488119827511, 0.8074039312311595, 0.8072769007518548, 0.8072463818407725, 2.8008243061267297, 2.687313776240591, 2.6336157162867373, 2.8154679259468254, 2.154029627212336, 3.3204971644306984, 1.4814423753088788, 1.47936780744731, 1.4798434716049782, 1.4785790551665392, 2.129337602061501, 1.4788572440172043, 2.9761266548041454, 2.1353405641575796, 12.545514625352968, 6.07109122061295, 4.559805084344145, 5.793586568029611, 6.9517851319563375, 7.6069596575711, 4.823583264242313, 3.9421304732464137, 5.5400748062011145, 2.708100242483326, 4.691108211200449, 7.111789248123244, 5.865475047935739, 5.320705160578573, 12.211119275670557, 6.842501291732087, 5.8297180863829166, 5.44687220603194, 9.311384399482636, 5.230630569272325, 5.833985850908661, 7.618886304403646, 5.153327101020571, 4.67374244813022, 4.018248227945721, 4.686793052601024, 5.304679069991052, 4.648752558407223, 5.285444544233752, 4.548020332495831, 4.6769623727724055, 4.982254027136334], \"Total\": [342.0, 764.0, 678.0, 367.0, 638.0, 586.0, 676.0, 107.0, 1701.0, 853.0, 320.0, 74.0, 127.0, 125.0, 620.0, 131.0, 207.0, 170.0, 99.0, 83.0, 97.0, 37.0, 83.0, 69.0, 110.0, 44.0, 202.0, 41.0, 101.0, 129.0, 9.58980393790645, 18.289939135130414, 7.648557199790062, 7.647008111920559, 7.6427132137761555, 10.547433193795094, 8.590275698324449, 8.608937497599136, 7.645850075377338, 6.67801879805559, 6.672061931104266, 6.6740529558446795, 6.672772090109323, 10.539324510176813, 7.640736992951632, 6.67370587605675, 5.707519650235035, 5.702116885362988, 7.6338963425295105, 8.595616551799166, 5.702315855421352, 12.4579068908336, 7.631353044325353, 6.664429479533097, 4.736339551665776, 4.735948520576536, 4.735728119345973, 4.73557842786586, 4.735960359331681, 4.735618959935625, 31.674881546761522, 11.472934747138506, 31.63031089674403, 13.38672927751643, 41.26956131130777, 39.292663011524574, 620.8115318889224, 39.149980510267234, 49.24205671960172, 64.08044917279172, 520.8997515229552, 274.00495958060867, 160.53428410923829, 154.69950498737632, 28.67699047658051, 101.99564085287555, 355.7262296430614, 98.4520123919304, 51.502634844915434, 837.8363372211313, 54.4552093916194, 638.0690973251204, 564.7495188839682, 380.6918241943953, 196.12785292788044, 46.38194480060187, 594.2629507791802, 207.39361109005387, 192.04259184795845, 312.01689564539316, 157.8643012947812, 393.458528845363, 267.2492105091744, 207.37332987323026, 1701.2343108638688, 586.7685006225565, 676.2086249311976, 176.57858046510336, 853.537325962674, 415.7783713810968, 174.0506674377839, 80.73953871815262, 170.91577608560073, 227.4040340151935, 764.4607965200161, 320.86591568630587, 208.11288267301185, 678.630525072059, 13.756212861542059, 10.130390970463507, 10.131507725949144, 9.203593818482632, 7.34880500217046, 6.420834187299461, 6.420772795375526, 7.3270294129331885, 16.279782279407563, 5.49205521779359, 6.355704771218374, 4.564428711054919, 4.564366199151186, 4.564170485937913, 4.5642002309247545, 4.56430774744935, 4.564190876847836, 4.56388678504172, 4.564312429529251, 4.562645212440077, 10.876433014601659, 4.56339076220896, 4.567253602737528, 7.340661564286119, 4.550411335864131, 7.375878003479957, 14.754550886837654, 3.636778881690139, 3.636874903207774, 3.6367682735230877, 12.979918661344637, 6.438810437046406, 8.314308281290906, 9.194251639819175, 56.250366903485016, 10.18946919499361, 11.88474229789602, 127.38808596393483, 27.043814038575977, 60.62863674815587, 25.78770119363342, 46.42193349462172, 1701.2343108638688, 26.753451020257184, 11.135026671630111, 12.97004692910904, 67.453397209879, 131.90402696805825, 63.40922909157149, 73.61054052942231, 99.59607773525136, 678.630525072059, 20.467485138549517, 15.856153130541578, 853.537325962674, 594.2629507791802, 124.08417090912204, 141.9327498302711, 157.11136016553715, 152.05179423316173, 415.7783713810968, 837.8363372211313, 367.55514456400533, 393.458528845363, 586.7685006225565, 564.7495188839682, 202.20078895276103, 207.39361109005387, 199.17830581643287, 207.37332987323026, 520.8997515229552, 131.36400824480108, 227.4040340151935, 764.4607965200161, 208.11288267301185, 174.0506674377839, 165.59432373424576, 312.01689564539316, 676.2086249311976, 380.6918241943953, 355.7262296430614, 274.00495958060867, 638.0690973251204, 620.8115318889224, 10.974329065996606, 5.453332077119798, 5.453250511183927, 5.452281853649669, 5.453415493664833, 5.453486323102338, 5.452616562890496, 4.533235299261133, 4.533323374064081, 4.533288698594152, 4.526981948219093, 14.668486166676717, 3.613359766091478, 3.6131851798239008, 3.6122563308756273, 3.6129498952713495, 3.6126919751710114, 3.612730294811605, 3.6134194446780468, 3.61237860657849, 3.6132027740601584, 4.534381823376186, 3.6133858918135524, 3.6124878303235377, 15.635135006765882, 3.613748711631368, 7.046214262887911, 3.6130021055983805, 3.613731770271697, 3.6147355602128006, 8.018484851951433, 131.25195362901235, 9.854353329402118, 106.72883957844319, 81.85670496481673, 7.098491910685208, 81.79953923454815, 12.77374340025539, 676.2086249311976, 14.561120952852473, 764.4607965200161, 853.537325962674, 202.20078895276103, 25.891422972476253, 320.86591568630587, 221.83089850808943, 31.68097979493774, 125.2646220300386, 89.42884710239447, 1701.2343108638688, 25.685024043912914, 678.630525072059, 162.8974088014727, 29.95172046684784, 130.84806489904227, 155.73109153324464, 415.7783713810968, 267.2492105091744, 638.0690973251204, 620.8115318889224, 586.7685006225565, 837.8363372211313, 564.7495188839682, 104.92130227856177, 380.6918241943953, 312.01689564539316, 111.63563272574227, 138.7707034872087, 594.2629507791802, 393.458528845363, 520.8997515229552, 367.55514456400533, 355.7262296430614, 342.11579402951696, 5.544444594858879, 4.76188693602988, 3.1990053640710094, 3.1991143571432437, 3.2023356030668295, 3.21320079675249, 2.417177427352009, 2.417173479864383, 2.417172852267801, 2.4170997333568502, 2.4172016199961095, 2.417222612894326, 2.4176928061519063, 2.4174933808419503, 2.417696808385079, 2.4172926209277907, 2.4181556943902818, 2.4189198417270825, 2.418346654929648, 2.4213053475833175, 4.953679539363402, 4.958964042553541, 14.073155084774418, 4.967584054398147, 37.63702793630671, 2.4534828528814363, 9.976141898050273, 4.1670624139589645, 1.6356556281783208, 2.4725081042708346, 7.519899308087352, 16.092140967240308, 367.55514456400533, 764.4607965200161, 29.54242735700025, 12.728440300298129, 36.775109615261606, 678.630525072059, 7.55608591796853, 32.93462398122752, 7.703211310172208, 638.0690973251204, 21.65022068126111, 586.7685006225565, 55.51958664004542, 125.2646220300386, 11.132088617515246, 83.00376476145361, 129.61056916762246, 320.86591568630587, 97.11379892287817, 152.54756447302, 103.76899917897005, 26.410689358897848, 62.32863990815536, 58.15784555295447, 38.6009277350998, 64.25783823700493, 86.14202965666368, 355.7262296430614, 69.35725375388637, 114.24314306221098, 1701.2343108638688, 165.59432373424576, 594.2629507791802, 837.8363372211313, 676.2086249311976, 199.17830581643287, 128.48178215253313, 415.7783713810968, 4.896742807286829, 6.420816652996922, 2.8765747225608402, 2.8776465554076966, 5.000477051854974, 5.146035343744861, 2.2007585830703262, 2.200761727256005, 2.2009851784579952, 2.2010895025349666, 2.2010779766194393, 2.2008023824340044, 2.201303183712054, 2.201472153766679, 2.2014890837294323, 2.2010348020013755, 2.202173418990805, 2.203250003590875, 1.5276073135181054, 1.5276074199024232, 1.5276072639693479, 1.5276034934794114, 1.5276020682719178, 1.5275918749158026, 1.5275920990192513, 1.527560531756175, 1.5275614430916644, 1.5275281936097036, 1.5276163617249314, 1.5275992064805055, 5.497830178550222, 5.547392929464694, 5.456230950954419, 6.385976080034777, 4.712160317032588, 8.048499596778925, 3.117896354246521, 3.1174758543073224, 3.119181858111431, 3.119778078132672, 4.82311619210947, 3.12729642244331, 7.300574544460543, 5.643763324661215, 107.34330179754359, 32.93462398122752, 20.626361386028663, 32.33894507906621, 44.98731623516351, 74.50539627548362, 27.97276571842607, 18.275459836842433, 41.63645193693814, 9.198821953337436, 38.595344729593485, 127.56618594275476, 83.90888219410459, 69.35725375388637, 678.630525072059, 170.91577608560073, 110.11276548087561, 101.43341883276979, 638.0690973251204, 99.59607773525136, 207.37332987323026, 853.537325962674, 139.24042849879834, 97.19831195250899, 47.63259242404594, 142.93967440349928, 393.458528845363, 157.8643012947812, 764.4607965200161, 131.36400824480108, 208.11288267301185, 520.8997515229552], \"Category\": [\"Default\", \"Default\", \"Default\", \"Default\", \"Default\", \"Default\", \"Default\", \"Default\", \"Default\", \"Default\", \"Default\", \"Default\", \"Default\", \"Default\", \"Default\", \"Default\", \"Default\", \"Default\", \"Default\", \"Default\", \"Default\", \"Default\", \"Default\", \"Default\", \"Default\", \"Default\", \"Default\", \"Default\", \"Default\", \"Default\", \"Topic1\", \"Topic1\", \"Topic1\", \"Topic1\", \"Topic1\", \"Topic1\", \"Topic1\", \"Topic1\", \"Topic1\", \"Topic1\", \"Topic1\", \"Topic1\", \"Topic1\", \"Topic1\", \"Topic1\", \"Topic1\", \"Topic1\", \"Topic1\", \"Topic1\", \"Topic1\", \"Topic1\", \"Topic1\", \"Topic1\", \"Topic1\", \"Topic1\", \"Topic1\", \"Topic1\", \"Topic1\", \"Topic1\", \"Topic1\", \"Topic1\", \"Topic1\", \"Topic1\", \"Topic1\", \"Topic1\", \"Topic1\", \"Topic1\", \"Topic1\", \"Topic1\", \"Topic1\", \"Topic1\", \"Topic1\", \"Topic1\", \"Topic1\", \"Topic1\", \"Topic1\", \"Topic1\", \"Topic1\", \"Topic1\", \"Topic1\", \"Topic1\", \"Topic1\", \"Topic1\", \"Topic1\", \"Topic1\", \"Topic1\", \"Topic1\", \"Topic1\", \"Topic1\", \"Topic1\", \"Topic1\", \"Topic1\", \"Topic1\", \"Topic1\", \"Topic1\", \"Topic1\", \"Topic1\", \"Topic1\", \"Topic1\", \"Topic1\", \"Topic1\", \"Topic1\", \"Topic1\", \"Topic1\", \"Topic1\", \"Topic1\", \"Topic1\", \"Topic1\", \"Topic2\", \"Topic2\", \"Topic2\", \"Topic2\", \"Topic2\", \"Topic2\", \"Topic2\", \"Topic2\", \"Topic2\", \"Topic2\", \"Topic2\", \"Topic2\", \"Topic2\", \"Topic2\", \"Topic2\", \"Topic2\", \"Topic2\", \"Topic2\", \"Topic2\", \"Topic2\", \"Topic2\", \"Topic2\", \"Topic2\", \"Topic2\", \"Topic2\", \"Topic2\", \"Topic2\", \"Topic2\", \"Topic2\", \"Topic2\", \"Topic2\", \"Topic2\", \"Topic2\", \"Topic2\", \"Topic2\", \"Topic2\", \"Topic2\", \"Topic2\", \"Topic2\", \"Topic2\", \"Topic2\", \"Topic2\", \"Topic2\", \"Topic2\", \"Topic2\", \"Topic2\", \"Topic2\", \"Topic2\", \"Topic2\", \"Topic2\", \"Topic2\", \"Topic2\", \"Topic2\", \"Topic2\", \"Topic2\", \"Topic2\", \"Topic2\", \"Topic2\", \"Topic2\", \"Topic2\", \"Topic2\", \"Topic2\", \"Topic2\", \"Topic2\", \"Topic2\", \"Topic2\", \"Topic2\", \"Topic2\", \"Topic2\", \"Topic2\", \"Topic2\", \"Topic2\", \"Topic2\", \"Topic2\", \"Topic2\", \"Topic2\", \"Topic2\", \"Topic2\", \"Topic2\", \"Topic2\", \"Topic2\", \"Topic2\", \"Topic2\", \"Topic2\", \"Topic3\", \"Topic3\", \"Topic3\", \"Topic3\", \"Topic3\", \"Topic3\", \"Topic3\", \"Topic3\", \"Topic3\", \"Topic3\", \"Topic3\", \"Topic3\", \"Topic3\", \"Topic3\", \"Topic3\", \"Topic3\", \"Topic3\", \"Topic3\", \"Topic3\", \"Topic3\", \"Topic3\", \"Topic3\", \"Topic3\", \"Topic3\", \"Topic3\", \"Topic3\", \"Topic3\", \"Topic3\", \"Topic3\", \"Topic3\", \"Topic3\", \"Topic3\", \"Topic3\", \"Topic3\", \"Topic3\", \"Topic3\", \"Topic3\", \"Topic3\", \"Topic3\", \"Topic3\", \"Topic3\", \"Topic3\", \"Topic3\", \"Topic3\", \"Topic3\", \"Topic3\", \"Topic3\", \"Topic3\", \"Topic3\", \"Topic3\", \"Topic3\", \"Topic3\", \"Topic3\", \"Topic3\", \"Topic3\", \"Topic3\", \"Topic3\", \"Topic3\", \"Topic3\", \"Topic3\", \"Topic3\", \"Topic3\", \"Topic3\", \"Topic3\", \"Topic3\", \"Topic3\", \"Topic3\", \"Topic3\", \"Topic3\", \"Topic3\", \"Topic3\", \"Topic3\", \"Topic3\", \"Topic4\", \"Topic4\", \"Topic4\", \"Topic4\", \"Topic4\", \"Topic4\", \"Topic4\", \"Topic4\", \"Topic4\", \"Topic4\", \"Topic4\", \"Topic4\", \"Topic4\", \"Topic4\", \"Topic4\", \"Topic4\", \"Topic4\", \"Topic4\", \"Topic4\", \"Topic4\", \"Topic4\", \"Topic4\", \"Topic4\", \"Topic4\", \"Topic4\", \"Topic4\", \"Topic4\", \"Topic4\", \"Topic4\", \"Topic4\", \"Topic4\", \"Topic4\", \"Topic4\", \"Topic4\", \"Topic4\", \"Topic4\", \"Topic4\", \"Topic4\", \"Topic4\", \"Topic4\", \"Topic4\", \"Topic4\", \"Topic4\", \"Topic4\", \"Topic4\", \"Topic4\", \"Topic4\", \"Topic4\", \"Topic4\", \"Topic4\", \"Topic4\", \"Topic4\", \"Topic4\", \"Topic4\", \"Topic4\", \"Topic4\", \"Topic4\", \"Topic4\", \"Topic4\", \"Topic4\", \"Topic4\", \"Topic4\", \"Topic4\", \"Topic4\", \"Topic4\", \"Topic4\", \"Topic4\", \"Topic4\", \"Topic4\", \"Topic4\", \"Topic4\", \"Topic5\", \"Topic5\", \"Topic5\", \"Topic5\", \"Topic5\", \"Topic5\", \"Topic5\", \"Topic5\", \"Topic5\", \"Topic5\", \"Topic5\", \"Topic5\", \"Topic5\", \"Topic5\", \"Topic5\", \"Topic5\", \"Topic5\", \"Topic5\", \"Topic5\", \"Topic5\", \"Topic5\", \"Topic5\", \"Topic5\", \"Topic5\", \"Topic5\", \"Topic5\", \"Topic5\", \"Topic5\", \"Topic5\", \"Topic5\", \"Topic5\", \"Topic5\", \"Topic5\", \"Topic5\", \"Topic5\", \"Topic5\", \"Topic5\", \"Topic5\", \"Topic5\", \"Topic5\", \"Topic5\", \"Topic5\", \"Topic5\", \"Topic5\", \"Topic5\", \"Topic5\", \"Topic5\", \"Topic5\", \"Topic5\", \"Topic5\", \"Topic5\", \"Topic5\", \"Topic5\", \"Topic5\", \"Topic5\", \"Topic5\", \"Topic5\", \"Topic5\", \"Topic5\", \"Topic5\", \"Topic5\", \"Topic5\", \"Topic5\", \"Topic5\", \"Topic5\", \"Topic5\", \"Topic5\", \"Topic5\", \"Topic5\", \"Topic5\", \"Topic5\", \"Topic5\", \"Topic5\", \"Topic5\", \"Topic5\", \"Topic5\"], \"logprob\": [30.0, 29.0, 28.0, 27.0, 26.0, 25.0, 24.0, 23.0, 22.0, 21.0, 20.0, 19.0, 18.0, 17.0, 16.0, 15.0, 14.0, 13.0, 12.0, 11.0, 10.0, 9.0, 8.0, 7.0, 6.0, 5.0, 4.0, 3.0, 2.0, 1.0, -7.561, -6.9244, -7.8048, -7.8073, -7.8094, -7.4875, -7.6939, -7.6922, -7.8127, -7.9542, -7.9584, -7.9594, -7.9599, -7.5066, -7.8301, -7.9664, -8.1297, -8.135, -7.8447, -7.7311, -8.1415, -7.3652, -7.8559, -7.995, -8.3443, -8.3445, -8.3446, -8.345, -8.345, -8.3462, -6.473, -7.4706, -6.4866, -7.3364, -6.2519, -6.3159, -3.7312, -6.3462, -6.1441, -5.9113, -4.0389, -4.6306, -5.1107, -5.1454, -6.6575, -5.5307, -4.4244, -5.5695, -6.1418, -3.7012, -6.1117, -3.9778, -4.0905, -4.4375, -5.0277, -6.259, -4.0978, -5.0115, -5.099, -4.7026, -5.2777, -4.5503, -4.868, -5.0707, -3.5034, -4.3633, -4.2915, -5.2628, -4.1757, -4.7136, -5.3132, -5.8268, -5.3586, -5.1948, -4.7256, -5.1301, -5.3064, -5.0584, -6.9533, -7.2614, -7.2633, -7.3643, -7.6068, -7.7563, -7.7568, -7.6277, -6.8314, -7.9373, -7.8002, -8.1468, -8.1471, -8.1474, -8.1477, -8.1479, -8.1483, -8.1485, -8.1485, -8.1529, -7.2848, -8.1617, -8.1654, -7.6933, -8.1767, -7.7074, -7.015, -8.4181, -8.4181, -8.4182, -7.1502, -7.8495, -7.5974, -7.5034, -5.7766, -7.4107, -7.267, -5.107, -6.5411, -5.8189, -6.5897, -6.0716, -2.8711, -6.5805, -7.3569, -7.2315, -5.8012, -5.2252, -5.8559, -5.7536, -5.5231, -3.9519, -6.8486, -7.057, -3.8489, -4.145, -5.4059, -5.3021, -5.2422, -5.2784, -4.5227, -3.992, -4.6204, -4.618, -4.3649, -4.4046, -5.1354, -5.1278, -5.1569, -5.1496, -4.5161, -5.4714, -5.1336, -4.4271, -5.1978, -5.3144, -5.3444, -5.04, -4.6697, -5.0127, -5.0927, -5.1928, -4.9941, -5.0692, -6.8058, -7.5654, -7.5662, -7.5674, -7.5677, -7.5702, -7.576, -7.7793, -7.7802, -7.7802, -7.785, -6.6282, -8.0509, -8.0517, -8.0522, -8.0523, -8.0526, -8.0526, -8.0525, -8.053, -8.0535, -7.8265, -8.0552, -8.0562, -6.592, -8.0572, -7.3903, -8.0617, -8.0664, -8.0681, -7.2843, -4.6356, -7.112, -4.9423, -5.2283, -7.4418, -5.2448, -6.9264, -3.4298, -6.8153, -3.4948, -3.4716, -4.6874, -6.4035, -4.3234, -4.6532, -6.2464, -5.17, -5.4493, -3.1528, -6.4279, -4.0, -5.0611, -6.3279, -5.2744, -5.1844, -4.503, -4.8189, -4.2677, -4.3046, -4.351, -4.1429, -4.4569, -5.5372, -4.7863, -4.9611, -5.5622, -5.4602, -4.7438, -4.9502, -4.9532, -5.16, -5.3229, -2.2055, -6.4367, -6.6113, -7.0975, -7.098, -7.1025, -7.1302, -7.471, -7.471, -7.471, -7.4711, -7.4711, -7.4726, -7.4729, -7.4733, -7.474, -7.4745, -7.4763, -7.4782, -7.4825, -7.4861, -6.8419, -6.843, -5.8005, -6.8485, -4.8553, -7.5976, -6.2025, -7.0969, -8.0774, -7.6684, -6.6111, -5.9196, -3.4145, -2.8967, -5.5091, -6.1857, -5.3651, -3.1427, -6.6283, -5.5447, -6.6438, -3.5395, -5.9351, -3.6504, -5.3049, -4.7925, -6.4335, -5.1974, -5.0263, -4.5219, -5.2282, -5.0402, -5.3045, -6.0092, -5.5984, -5.6692, -5.871, -5.6446, -5.5143, -4.9653, -5.6337, -5.4873, -4.6848, -5.4453, -5.2307, -5.23, -5.2686, -5.4871, -5.6135, -5.5671, -5.6917, -5.5043, -6.3548, -6.3561, -5.8641, -5.8651, -6.7253, -6.7254, -6.7256, -6.7258, -6.726, -6.7264, -6.7262, -6.7263, -6.7264, -6.728, -6.731, -6.7337, -7.3315, -7.3315, -7.3315, -7.3315, -7.3316, -7.3316, -7.3316, -7.3316, -7.3316, -7.3317, -7.3318, -7.3319, -6.0878, -6.1292, -6.1494, -6.0826, -6.3504, -5.9176, -6.7247, -6.7261, -6.7258, -6.7267, -6.3619, -6.7265, -6.0271, -6.3591, -4.5884, -5.3142, -5.6005, -5.361, -5.1788, -5.0887, -5.5442, -5.746, -5.4057, -6.1215, -5.5721, -5.156, -5.3487, -5.4461, -4.6154, -5.1946, -5.3548, -5.4227, -4.8865, -5.4632, -5.3541, -5.0871, -5.4781, -5.5758, -5.7269, -5.573, -5.4492, -5.5812, -5.4528, -5.6031, -5.5751, -5.5119], \"loglift\": [30.0, 29.0, 28.0, 27.0, 26.0, 25.0, 24.0, 23.0, 22.0, 21.0, 20.0, 19.0, 18.0, 17.0, 16.0, 15.0, 14.0, 13.0, 12.0, 11.0, 10.0, 9.0, 8.0, 7.0, 6.0, 5.0, 4.0, 3.0, 2.0, 1.0, 0.8713, 0.8623, 0.8536, 0.8514, 0.8498, 0.8496, 0.8484, 0.848, 0.8461, 0.84, 0.8366, 0.8353, 0.8351, 0.8313, 0.8294, 0.8284, 0.8215, 0.8172, 0.8157, 0.8106, 0.8106, 0.8054, 0.8048, 0.8012, 0.7934, 0.7933, 0.7932, 0.7929, 0.7928, 0.7916, 0.7645, 0.7824, 0.7523, 0.7623, 0.7209, 0.706, 0.5308, 0.6794, 0.6521, 0.6215, 0.3985, 0.4492, 0.5038, 0.5061, 0.6794, 0.5373, 0.3944, 0.5339, 0.6096, 0.2609, 0.5839, 0.2567, 0.2661, 0.3135, 0.3865, 0.5971, 0.2078, 0.3468, 0.3363, 0.2473, 0.3535, 0.1677, 0.2368, 0.2877, -0.2495, -0.0449, -0.115, 0.2564, -0.2321, -0.0508, 0.2204, 0.4749, 0.1932, 0.0714, -0.6718, -0.2081, 0.0485, -0.8855, 1.1182, 1.116, 1.114, 1.1091, 1.0916, 1.0771, 1.0767, 1.0737, 1.0716, 1.0524, 1.0434, 1.0278, 1.0276, 1.0274, 1.027, 1.0268, 1.0264, 1.0262, 1.0262, 1.0222, 1.0216, 1.0132, 1.0087, 1.0062, 1.001, 0.9873, 0.9864, 0.9838, 0.9838, 0.9836, 0.9794, 0.9811, 0.9776, 0.971, 0.8865, 0.9609, 0.9508, 0.7387, 0.8544, 0.7693, 0.8534, 0.7836, 0.3828, 0.8258, 0.926, 0.8988, 0.6803, 0.5856, 0.6874, 0.6405, 0.5688, 0.221, 0.8255, 0.8725, 0.0947, 0.1606, 0.4661, 0.4356, 0.3938, 0.3904, 0.1401, -0.0298, 0.1657, 0.1, -0.0466, -0.048, 0.2483, 0.2305, 0.2418, 0.2088, -0.0786, 0.3436, 0.1327, -0.3733, 0.1571, 0.2192, 0.239, -0.0901, -0.4933, -0.2617, -0.2739, -0.1129, -0.7596, -0.8072, 1.4916, 1.4313, 1.4306, 1.4296, 1.429, 1.4265, 1.4209, 1.4022, 1.4013, 1.4013, 1.3979, 1.3791, 1.3575, 1.3566, 1.3564, 1.3561, 1.3559, 1.3559, 1.3558, 1.3556, 1.3549, 1.3548, 1.3531, 1.3523, 1.3514, 1.351, 1.3502, 1.3468, 1.3418, 1.3399, 1.3269, 1.1802, 1.293, 1.0804, 1.0597, 1.2913, 1.0439, 1.2192, 0.7467, 1.1994, 0.559, 0.472, 0.6963, 1.0356, 0.5986, 0.6378, 0.9908, 0.6925, 0.7502, 0.1011, 1.0192, 0.1729, 0.5387, 0.9655, 0.5445, 0.4604, 0.1598, 0.2859, -0.0332, -0.0426, -0.0327, -0.1808, -0.1003, 0.5026, -0.0353, -0.0112, 0.4155, 0.3, -0.4382, -0.2322, -0.5158, -0.374, -0.5041, 2.6523, 2.5435, 2.521, 2.4326, 2.4321, 2.4266, 2.3955, 2.3394, 2.3394, 2.3394, 2.3393, 2.3393, 2.3378, 2.3372, 2.3369, 2.3362, 2.3358, 2.3337, 2.3315, 2.3274, 2.3226, 2.2509, 2.2488, 2.2482, 2.2415, 2.2097, 2.1979, 2.1902, 2.1688, 2.1235, 2.1194, 2.0643, 1.995, 1.3716, 1.157, 1.798, 1.9634, 1.7231, 1.0302, 2.0423, 1.6537, 2.0075, 0.695, 1.6828, 0.6679, 1.3713, 1.07, 1.8497, 1.0766, 0.8021, 0.4, 0.8889, 0.6252, 0.7463, 1.41, 0.9621, 0.9606, 1.1687, 0.8855, 0.7226, -0.1465, 0.82, 0.4673, -1.4309, 0.1382, -0.925, -1.2679, -1.0921, -0.0884, 0.2237, -0.9042, 3.4127, 3.3291, 3.2816, 3.2799, 3.2193, 3.1897, 3.1789, 3.1788, 3.1784, 3.1782, 3.1781, 3.1777, 3.1777, 3.1775, 3.1775, 3.1761, 3.1725, 3.1694, 2.9377, 2.9377, 2.9377, 2.9377, 2.9377, 2.9377, 2.9377, 2.9377, 2.9377, 2.9376, 2.9374, 2.9374, 2.9008, 2.8504, 2.8468, 2.7562, 2.7924, 2.6898, 2.8311, 2.8298, 2.8296, 2.8285, 2.7576, 2.8263, 2.6779, 2.6033, 1.4285, 1.8842, 2.0659, 1.8557, 1.7078, 1.2934, 1.8175, 2.0414, 1.5582, 2.3524, 1.4678, 0.6883, 0.9146, 1.0076, -0.4425, 0.3572, 0.6367, 0.6509, -0.652, 0.6286, 0.0044, -1.1435, 0.2787, 0.5404, 1.1025, 0.1575, -0.7312, 0.0501, -1.399, 0.2119, -0.2202, -1.0745]}, \"token.table\": {\"Topic\": [1, 2, 3, 4, 5, 1, 2, 3, 5, 2, 4, 5, 4, 2, 5, 1, 5, 1, 2, 3, 5, 1, 3, 5, 2, 4, 2, 3, 5, 5, 1, 3, 4, 1, 2, 3, 4, 3, 4, 5, 3, 5, 4, 5, 1, 5, 1, 2, 3, 4, 2, 5, 1, 2, 3, 4, 5, 2, 1, 2, 3, 4, 1, 4, 1, 2, 3, 4, 5, 1, 2, 3, 4, 5, 1, 4, 3, 5, 1, 2, 5, 3, 3, 5, 4, 3, 4, 1, 2, 3, 5, 1, 2, 3, 4, 2, 1, 2, 3, 4, 3, 5, 4, 1, 2, 3, 5, 1, 2, 3, 4, 5, 1, 2, 2, 1, 2, 3, 4, 5, 1, 2, 3, 1, 2, 3, 4, 1, 2, 3, 1, 2, 1, 3, 4, 1, 2, 3, 4, 5, 2, 4, 2, 2, 3, 1, 2, 3, 1, 3, 1, 1, 1, 2, 1, 1, 2, 3, 4, 5, 1, 2, 3, 4, 5, 2, 1, 2, 3, 5, 1, 2, 3, 2, 4, 1, 2, 4, 2, 3, 3, 1, 2, 3, 4, 5, 1, 2, 3, 1, 1, 1, 3, 4, 1, 2, 4, 1, 2, 3, 5, 1, 2, 3, 4, 5, 5, 1, 2, 3, 4, 1, 4, 1, 2, 4, 2, 1, 2, 3, 4, 5, 1, 2, 3, 1, 2, 3, 4, 3, 1, 1, 2, 1, 2, 3, 2, 4, 1, 4, 1, 2, 3, 4, 5, 2, 3, 4, 1, 2, 3, 4, 2, 1, 2, 3, 4, 5, 1, 5, 1, 2, 3, 4, 5, 5, 5, 1, 2, 4, 5, 3, 1, 2, 3, 5, 3, 1, 2, 3, 4, 1, 2, 3, 4, 5, 1, 2, 3, 4, 5, 1, 3, 5, 1, 2, 3, 4, 5, 1, 2, 3, 5, 1, 2, 3, 4, 5, 1, 2, 1, 2, 3, 2, 1, 3, 1, 2, 3, 1, 2, 3, 4, 5, 1, 4, 1, 2, 3, 1, 2, 3, 4, 1, 2, 3, 4, 5, 5, 1, 2, 3, 4, 5, 4, 1, 2, 1, 2, 3, 3, 1, 2, 3, 4, 1, 2, 3, 4, 5, 5, 1, 2, 3, 4, 2, 1, 2, 3, 5, 5, 3, 5, 1, 2, 4, 5, 2, 3, 2, 5, 2, 4, 5, 1, 2, 3, 4, 5, 3, 1, 3, 4, 5, 2, 4, 1, 3, 5, 3, 1, 1, 2, 3, 1, 2, 3, 4, 1, 2, 3, 4, 5, 1, 4, 1, 2, 3, 4, 5, 4, 1, 2, 3, 5, 1, 2, 3, 4, 5, 5, 2, 5, 1, 2, 3, 5, 1, 2, 3, 4, 5, 1, 2, 3, 4, 1, 2, 3, 4, 5, 1, 2, 3, 4, 5, 1, 2, 4, 1, 2, 3, 4, 5, 1, 2, 3, 4, 1, 2, 3, 5, 1, 1, 2, 3, 4, 1, 2, 3, 4, 5, 2, 5, 1, 2, 3, 4, 5, 2, 4, 5, 1, 1, 3, 1, 2, 3, 1, 2, 3, 4, 1, 2, 3, 4, 5, 1, 2, 2, 1, 2, 3, 4, 5, 2, 1, 5, 2, 3, 4, 5, 4, 1, 2, 3, 4, 5, 4, 1, 2, 1, 2, 3, 4, 5, 5, 1, 3, 5, 4, 1, 2, 3, 1, 2, 3, 4, 5, 4, 1, 2, 3, 4, 5, 1, 2, 3, 4, 5, 3, 5, 1, 2, 3, 4, 5, 3, 1, 2, 4, 3, 5, 1, 2, 3, 4, 5, 1, 2, 3, 4, 5, 1, 2, 3, 4, 5, 1, 2, 3, 4, 1, 2, 3, 3, 2, 2, 1, 1, 1, 2, 5, 1, 2, 3, 4, 5, 1, 2, 3, 5, 1, 2, 3, 4, 5, 1, 1, 2, 3, 4, 1, 2, 3, 4, 5, 4, 1, 1, 1, 4, 4, 3, 3, 3, 3, 5, 1, 1, 2, 3, 4, 5, 5, 1, 2, 3, 4, 1, 2, 3, 4, 5, 5, 1, 2, 3, 5, 3, 2, 1, 1, 2, 2, 3, 4, 2, 3, 2, 3, 1, 3, 1, 2, 3, 4, 5, 1, 2, 3, 4, 5, 3, 1, 2, 1, 2, 3, 4, 5, 1, 2, 3, 4, 5, 1, 5, 1, 1, 1, 2, 3, 4, 4, 1, 2, 3, 5, 1, 2, 3, 4, 5, 1, 3, 1, 2, 4, 5, 5, 1, 2, 3, 4, 5, 3, 1, 2, 4, 1, 2, 3, 4, 5, 3, 3, 5, 1, 2, 3, 4, 5, 2, 1, 2, 3, 3, 5, 1, 2, 3, 4, 3, 5, 1, 2, 3, 4, 5, 4, 1, 2, 3, 4, 5, 1, 2, 3, 5, 1, 2, 3, 5, 1, 2, 3, 4, 5, 3, 1, 2, 3, 4, 5, 2, 2, 5, 2, 3], \"Freq\": [0.13596152539882597, 0.27192305079765194, 0.16315383047859117, 0.3806922711167127, 0.05438461015953039, 0.07786638613149281, 0.19466596532873204, 0.5839978959861961, 0.11679957919723923, 0.40444761263781953, 0.40444761263781953, 0.6546250145192704, 0.8272335857265398, 0.876541196762154, 0.6546219687452827, 0.8445340449869552, 0.4542380007199264, 0.14299622855544603, 0.6077339713606457, 0.07149811427772301, 0.17874528569430753, 0.21741914455408906, 0.4348382891081781, 0.3261287168311336, 0.8790414107124654, 0.9018035827495294, 0.1771867356007577, 0.3543734712015154, 0.3543734712015154, 0.4542414939425957, 0.10023915158979836, 0.20047830317959672, 0.6014349095387902, 0.04618890563390556, 0.27713343380343336, 0.27713343380343336, 0.3695112450712445, 0.7043749662479163, 0.14087499324958325, 0.4543228411816041, 0.8823720226152735, 0.6546251105552114, 0.19998091974625515, 0.7999236789850206, 0.360529716468632, 0.540794574702948, 0.32609813417676053, 0.38648667754282734, 0.205321047444627, 0.0785051063758868, 0.19432435519812855, 0.5829730655943857, 0.35793298733717305, 0.31124607594536785, 0.12449843037814715, 0.17118534176995231, 0.031124607594536786, 0.8763538737851186, 0.06867603141529453, 0.20602809424588361, 0.6867603141529454, 0.06867603141529453, 0.20130509902789276, 0.6039152970836783, 0.16415455626195224, 0.16415455626195224, 0.2735909271032538, 0.218872741682603, 0.218872741682603, 0.36268558351953306, 0.3108733573024569, 0.1036244524341523, 0.23315501797684268, 0.025906113108538076, 0.20165502137520352, 0.6049650641256106, 0.8823616288193749, 0.6546184946555297, 0.15659313274385991, 0.31318626548771983, 0.4697793982315797, 0.9168706268554936, 0.15574342860783125, 0.7787171430391562, 0.6251943252307736, 0.39894151199253686, 0.5319220159900492, 0.10666597091348515, 0.746661796394396, 0.12444363273239933, 0.01777766181891419, 0.6602201257323178, 0.22345911947863065, 0.07110062892501884, 0.040628930814296485, 0.8766844261951331, 0.6464144795302359, 0.20038848865437314, 0.1292828959060472, 0.025856579181209437, 0.32072907062417816, 0.32072907062417816, 0.6251730250074483, 0.10666507897910173, 0.1980922895326175, 0.6857040791513682, 0.007618934212792981, 0.48371652205943055, 0.17915426742941873, 0.3135199680014828, 0.008957713371470936, 0.017915426742941873, 0.1202745876346958, 0.8419221134428706, 0.8764459304972516, 0.30290765573314254, 0.30290765573314254, 0.03786345696664282, 0.2650441987664997, 0.03786345696664282, 0.4611924447432037, 0.25221461821893953, 0.28103914601538976, 0.6666951590420139, 0.25491285492782884, 0.06863038401903085, 0.009804340574147264, 0.14991262027392677, 0.22486893041089015, 0.6183895586299479, 0.17961340003752413, 0.8082603001688585, 0.9169629355591344, 0.8302462260664623, 0.8270112954745861, 0.5496794206958441, 0.3857399443479608, 0.05303924234784461, 0.004821749304349509, 0.009643498608699019, 0.8763875367899857, 0.8273719047023658, 0.9778788783492622, 0.8173650218655055, 0.13622750364425093, 0.18143241527419937, 0.6597542373607249, 0.14844470340616311, 0.8217093041894078, 0.14940169167080142, 0.8446430832166141, 0.8984700674617738, 0.6978212080082123, 0.2938194560034578, 0.9292668232556042, 0.37038963688384285, 0.35114861678598086, 0.24532300624774006, 0.02886153014679295, 0.0048102550244654915, 0.34604705023365956, 0.18633302704889362, 0.4421712308541206, 0.023661336768113474, 0.001478833548007092, 0.9553667121417668, 0.26690094087468924, 0.6358522414955832, 0.0706502490550648, 0.02355008301835493, 0.9294727486187878, 0.054674867565811046, 0.8302385167098413, 0.8763650965987779, 0.8260007363367786, 0.8208396915902049, 0.12628302947541614, 0.6113756360278173, 0.7613452703082282, 0.1087636100440326, 0.9168446941580736, 0.5332397154301394, 0.23378489986838624, 0.2022633403355701, 0.026267966277346767, 0.005253593255469354, 0.1542014466818423, 0.7710072334092114, 0.07710072334092115, 0.9155293304197487, 0.8446625528449136, 0.9003021216484316, 0.8823548796198136, 0.624544160232497, 0.14211454275550311, 0.21317181413325464, 0.639515442399764, 0.41607724473241553, 0.3892335515238726, 0.09395292622990029, 0.10737477283417175, 0.3335758658123076, 0.545851416783776, 0.037906348387762225, 0.05306888774286712, 0.022743809032657335, 0.8168695309150424, 0.12428427044428174, 0.12428427044428174, 0.24856854088856348, 0.49713708177712695, 0.20187014360814104, 0.6056104308244231, 0.2800400375720269, 0.6677877819025256, 0.04308308270338875, 0.8763914521431425, 0.31477322788856926, 0.19946026321651913, 0.38022112675648956, 0.10284669822101768, 0.0031165666127581115, 0.22186219707920818, 0.7025636240841592, 0.036977032846534696, 0.4939210100883294, 0.21702589837214473, 0.28063693755018715, 0.007483651668004991, 0.8304056976399133, 0.9172685314572329, 0.15408417049300774, 0.8474629377115426, 0.7889513620114694, 0.10180017574341542, 0.10180017574341542, 0.39703095393157684, 0.5293746052421024, 0.9161419908128373, 0.8268153270312677, 0.1596619993409151, 0.2075605991431896, 0.4151211982863792, 0.19957749917614387, 0.007983099967045755, 0.6980071571654444, 0.23266905238848146, 0.03877817539808024, 0.2409197370872064, 0.33728763192208894, 0.2794668950211594, 0.14455184225232384, 0.8763641976218852, 0.37487066734592434, 0.1441810259022786, 0.24510774403387361, 0.15859912849250646, 0.0720905129511393, 0.41466967005106853, 0.41466967005106853, 0.3501047263839479, 0.3295103307143039, 0.10297197834821997, 0.16475516535715196, 0.04118879133928799, 0.6546524012999714, 0.4538749567094936, 0.21255663474646383, 0.15941747605984788, 0.6376699042393915, 0.454096844225044, 0.8304777341269574, 0.4311487373674495, 0.35275805784609504, 0.16462042699484436, 0.05487347566494812, 0.8305058459881739, 0.3588836835281527, 0.3588836835281527, 0.17506521147714768, 0.1050391268862886, 0.47391763273761406, 0.2983925835755348, 0.16967421419000997, 0.017552504916207926, 0.040955844804485164, 0.5040248922920114, 0.28316005184944465, 0.20387523733160015, 0.0056632010369888925, 0.0056632010369888925, 0.4109265622493109, 0.1369755207497703, 0.4109265622493109, 0.576285870754312, 0.23332549889077023, 0.1265017765070441, 0.059034162369953916, 0.005622301178090849, 0.5710560653574498, 0.3365151813713544, 0.07648072303894417, 0.010197429738525889, 0.6416074956917732, 0.10589638278407908, 0.18687596961896308, 0.04360439291109138, 0.018687596961896306, 0.19628107821187188, 0.7851243128474875, 0.18793200658023998, 0.39070075052207787, 0.4203742252452736, 0.9525358201683892, 0.8716165671990879, 0.08716165671990879, 0.7178476523465351, 0.2496861399466209, 0.015605383746663806, 0.20005638818181634, 0.4001127763636327, 0.11114243787878686, 0.11114243787878686, 0.1555994130303016, 0.2399772071208165, 0.479954414241633, 0.20127733481110757, 0.35782637299752457, 0.4472829662469057, 0.5467537122344677, 0.2395301977408144, 0.19787277204675974, 0.01041435642351367, 0.5030803111225403, 0.1426177829038977, 0.2021724614791517, 0.13791609775321975, 0.01410505545203384, 0.6546184490671534, 0.1988329561070175, 0.21060596008703827, 0.3662712349339796, 0.21845462940705213, 0.006540557766678208, 0.8273958671953869, 0.1355770797087747, 0.8134624782526481, 0.06395851392183466, 0.06395851392183466, 0.8314606809838505, 0.9168566022171682, 0.031541149902827706, 0.5992818481537264, 0.3154114990282771, 0.047311724854241566, 0.29688497268842645, 0.433908806236931, 0.23598549111131334, 0.00761243519713914, 0.0380621759856957, 0.45437973349249, 0.13930482074578932, 0.46434940248596435, 0.2553921713672804, 0.13930482074578932, 0.9450275399811393, 0.2741068573264342, 0.34561299402028656, 0.30985992567336035, 0.07150613669385239, 0.6546201316431316, 0.8303344178381385, 0.4543204621385513, 0.5256819589642248, 0.18553480904619699, 0.09276740452309849, 0.18553480904619699, 0.9344580197800654, 0.8303968896622111, 0.3197650190187967, 0.3197650190187967, 0.26949120718279185, 0.44915201197131976, 0.26949120718279185, 0.33849622033953963, 0.03384962203395396, 0.2030977322037238, 0.4061954644074476, 0.6950123865078509, 0.9168843407699009, 0.4126700322512339, 0.36108627821982964, 0.17194584677134744, 0.051583754031404236, 0.8763418717247378, 0.8274126853783831, 0.10147799318462959, 0.8118239454770367, 0.10147799318462959, 0.9169909422989834, 0.8991765219875357, 0.82199634663333, 0.03161524410128192, 0.12646097640512768, 0.1578234016865521, 0.1578234016865521, 0.5681642460715876, 0.12625872134924168, 0.5048718719970688, 0.2960005301543099, 0.17545192714791755, 0.01909680839705225, 0.004774202099263062, 0.8768367320877813, 0.8274129002084365, 0.5207998543786786, 0.376133228162379, 0.0723333131081498, 0.004822220873876654, 0.028933325243259922, 0.8274379300114417, 0.32604026308443074, 0.584155471359605, 0.0679250548092564, 0.02717002192370256, 0.16061759082886237, 0.38017741682427975, 0.24903094357869487, 0.19156226429130377, 0.0176826705499665, 0.6546146172922858, 0.9213882435623005, 0.06142588290415337, 0.24849352055635518, 0.12424676027817759, 0.24849352055635518, 0.37274028083453276, 0.38123811972712307, 0.2573357308158081, 0.34311430775441076, 0.009530952993178077, 0.009530952993178077, 0.11213506615383785, 0.7101887523076397, 0.18689177692306308, 0.037378355384612615, 0.29498996038025127, 0.32776662264472367, 0.24910263320999, 0.13110664905788946, 0.006555332452894473, 0.2424082418815161, 0.436334835386729, 0.04848164837630322, 0.04848164837630322, 0.2424082418815161, 0.08414149629285879, 0.7572734666357291, 0.08414149629285879, 0.6094780191410031, 0.2737176732669176, 0.10218793135298256, 0.007299137953784469, 0.007299137953784469, 0.49319131830890917, 0.4720545475242416, 0.02818236104622338, 0.007045590261555845, 0.8990039545229574, 0.8249082081586067, 0.3665533988531322, 0.5498300982796983, 0.9159050986477353, 0.20782513152372412, 0.18337511605034482, 0.5990253790977931, 0.012225007736689653, 0.2331887449912873, 0.18136902388211235, 0.3627380477642247, 0.10363944221834992, 0.12954930277293739, 0.8248840226409653, 0.6952713532223217, 0.30272138100629326, 0.447322273681144, 0.23159655168248455, 0.01645863819063342, 0.001175617013616673, 0.827477169023839, 0.09194190766931545, 0.45438812735390427, 0.84460166397264, 0.9312855932622065, 0.8835908880912576, 0.36725770101171273, 0.06677412745667503, 0.5341930196534003, 0.4826180860813224, 0.3791999247781819, 0.13214542833179066, 0.005745453405730029, 0.3735938215973263, 0.3658106169807153, 0.1712305015654412, 0.0856152507827206, 0.007783204616610964, 0.8829733675480981, 0.08027030614073619, 0.9104059958830365, 0.4177586400848667, 0.3473992901758365, 0.18029583414188982, 0.04397459369314386, 0.013192378107943157, 0.8763857406820117, 0.36377987952465274, 0.5456698192869791, 0.6840117339883481, 0.14657394299750318, 0.09771596199833545, 0.04885798099916772, 0.8274030529580809, 0.3081294654611288, 0.3350761487524062, 0.33624774367811394, 0.01171594925707714, 0.009372759405661712, 0.8274113341323801, 0.7996208089315956, 0.19384746883190196, 0.3549126157263033, 0.40420603457717874, 0.13802157278245128, 0.04929341885087546, 0.04929341885087546, 0.6546185158884302, 0.12471184001259704, 0.7482710400755823, 0.12471184001259704, 0.8151677105267502, 0.11586848676448316, 0.2703598024504607, 0.5793424338224158, 0.29466398731055843, 0.31308048651746834, 0.3560523180002581, 0.02455533227587987, 0.0061388330689699675, 0.8270766041407783, 0.4012415361601688, 0.18518840130469327, 0.31893558002474953, 0.05144122258463702, 0.05144122258463702, 0.19812827626612534, 0.18011661478738666, 0.2881865836598187, 0.27017492218108, 0.07204664591495467, 0.3205968890205938, 0.3205968890205938, 0.21765441508075248, 0.3591297848832416, 0.14419604999099853, 0.2693473386624312, 0.008162040565528219, 0.8302923461415874, 0.23569266376884632, 0.15712844251256422, 0.47138532753769263, 0.32077233208344824, 0.32077233208344824, 0.28879179822508527, 0.2246158430639552, 0.28879179822508527, 0.17648387669310767, 0.016043988790282515, 0.25202585345116224, 0.6078270583233912, 0.1037753514210668, 0.014825050203009543, 0.029650100406019085, 0.43784753415397115, 0.24221352953198405, 0.14905447971199018, 0.05589542989199632, 0.12110676476599203, 0.4687567478098383, 0.19263975937390615, 0.333908916248104, 0.006421325312463538, 0.19546352381123874, 0.19546352381123874, 0.5986070416719187, 0.8821489137457995, 0.8249058019732545, 0.8883179328728054, 0.9153906858144993, 0.8446037752777463, 0.8539446708666731, 0.09488274120740813, 0.6546207423843294, 0.4351884660578426, 0.4835427400642696, 0.02417713700321348, 0.02417713700321348, 0.02417713700321348, 0.6604258763565598, 0.13530676491207566, 0.20134935254773165, 0.0016107948203818532, 0.508189897296692, 0.2903942270266811, 0.18946452616984683, 0.007082786025041003, 0.005312089518780752, 0.9152052886774693, 0.4779029209672713, 0.3584271907254535, 0.1346205411175412, 0.026924108223508245, 0.6192752744667159, 0.24771010978668637, 0.08669853842534023, 0.01238550548933432, 0.037156516468002956, 0.8272349551237147, 0.8992722282790568, 0.9384967678457867, 0.38944796906174106, 0.5192639587489881, 0.8400031444961004, 0.9170472353062747, 0.830288303091525, 0.8301667613184379, 0.3205356198279799, 0.3205356198279799, 0.8768673284889542, 0.5797660665359164, 0.2822040125191382, 0.1247840871683264, 0.003839510374410043, 0.009598775936025108, 0.45434199638754386, 0.375529814889489, 0.451908760290741, 0.13366315445219099, 0.038189472700626, 0.3091051982453328, 0.45379273784953106, 0.21045460306065208, 0.019730119036936132, 0.006576706345645378, 0.45438877653035353, 0.7513902234159009, 0.2030784387610543, 0.02030784387610543, 0.04061568775221086, 0.8299362290898505, 0.8757998455795126, 0.899050709070982, 0.25226799760752416, 0.7568039928225726, 0.005845973892182963, 0.02046090862264037, 0.9733546530484632, 0.23485676093509283, 0.7045702828052786, 0.13634672162308886, 0.8180803297385332, 0.9307069425200806, 0.11633836781501007, 0.551106230391786, 0.28505494675437204, 0.10135286995711006, 0.03167277186159689, 0.03167277186159689, 0.4698582059751504, 0.024095292614110277, 0.2891435113693233, 0.20480998721993735, 0.024095292614110277, 0.8303464169061459, 0.15530819081835204, 0.7765409540917603, 0.32006361817720747, 0.2389207290618591, 0.3966985690083698, 0.036063506273488165, 0.009015876568372041, 0.44774133050937764, 0.2448585401223159, 0.2448585401223159, 0.027983833156836103, 0.03497979144604513, 0.9480979700239163, 0.45427636111155834, 0.8760372817628583, 0.8446697823570083, 0.37152641930966607, 0.291426686706206, 0.20280570595344158, 0.13293147112914658, 0.6224323117376777, 0.4408745972305878, 0.4408745972305878, 0.0209940284395518, 0.0839761137582072, 0.4600230690923378, 0.338028001045751, 0.16520165464641964, 0.022874075258735027, 0.012707819588186127, 0.7671655788973611, 0.20922697606291668, 0.21254227781649931, 0.21254227781649931, 0.3643581905425703, 0.18217909527128515, 0.45433175299668666, 0.3995903636408253, 0.3541823677725497, 0.15438718595213705, 0.03632639669462048, 0.054489595041930725, 0.8304526245923207, 0.7184098466304545, 0.25241427043772724, 0.019416482341363634, 0.33638201572890514, 0.3865882867332193, 0.2008250840172568, 0.06024752520517704, 0.01004125420086284, 0.8302522290065402, 0.4244337767479588, 0.4244337767479588, 0.4084321878984901, 0.35557625769986195, 0.17778812884993098, 0.038440676508093186, 0.02402542281755824, 0.9440337800413303, 0.7662839063772301, 0.10217118751696401, 0.10217118751696401, 0.9112174366070802, 0.6546385424414837, 0.32098296625483697, 0.3056980630998447, 0.3591952241423175, 0.015284903154992235, 0.8515210829738354, 0.14192018049563923, 0.49676797046323196, 0.2788310543890399, 0.20832205212974245, 0.006409909296299767, 0.009614863944449652, 0.8273031958844296, 0.7114837495898141, 0.19404102261540382, 0.043120227247867515, 0.021560113623933758, 0.021560113623933758, 0.33133834936473483, 0.5421900262332024, 0.0702838922894892, 0.050202780206778, 0.6244528241594447, 0.19213933051059837, 0.07205224894147438, 0.14410449788294877, 0.466818442752501, 0.2513637768667313, 0.22263648808196201, 0.021545466588576968, 0.03590911098096162, 0.8301628694723765, 0.3703401683077456, 0.23917802536541902, 0.231462605192341, 0.15430840346156066, 0.0077154201730780326, 0.8884158593918723, 0.9344669545574668, 0.6546381518874151, 0.8133083881736479, 0.1355513980289413], \"Term\": [\"....\", \"....\", \"....\", \"....\", \"....\", \"Amazon\", \"Amazon\", \"Amazon\", \"Amazon\", \"Angle\", \"Angle\", \"Available\", \"Beefaroni\", \"Broccoli\", \"Celiacs\", \"Cincinnati\", \"DOESN'T\", \"Delicious\", \"Delicious\", \"Delicious\", \"Delicious\", \"Diet\", \"Diet\", \"Diet\", \"Dukan\", \"Euro\", \"Excellent\", \"Excellent\", \"Excellent\", \"FINALLY\", \"Free\", \"Free\", \"Free\", \"Great\", \"Great\", \"Great\", \"Great\", \"Guilt\", \"Guilt\", \"Joseph\", \"Konjac\", \"Lonnger\", \"Love\", \"Love\", \"MIRACLE\", \"MIRACLE\", \"Miracle\", \"Miracle\", \"Miracle\", \"Miracle\", \"NOODLE\", \"NOODLE\", \"Noodle\", \"Noodle\", \"Noodle\", \"Noodle\", \"Noodle\", \"Olive\", \"PASTA\", \"PASTA\", \"PASTA\", \"PASTA\", \"Pack\", \"Pack\", \"Perfect\", \"Perfect\", \"Perfect\", \"Perfect\", \"Perfect\", \"Shirataki\", \"Shirataki\", \"Shirataki\", \"Shirataki\", \"Shirataki\", \"Spinach\", \"Spinach\", \"Spiralizer\", \"Stir\", \"Super\", \"Super\", \"Super\", \"TASTE\", \"Taste\", \"Taste\", \"Variety\", \"Yummy\", \"Yummy\", \"absolutely\", \"absolutely\", \"absolutely\", \"absolutely\", \"absorb\", \"absorb\", \"absorb\", \"absorb\", \"account\", \"add\", \"add\", \"add\", \"add\", \"additional\", \"additional\", \"adkin\", \"alternative\", \"alternative\", \"alternative\", \"alternative\", \"amazing\", \"amazing\", \"amazing\", \"amazing\", \"amazing\", \"appearance\", \"appearance\", \"apply\", \"arrive\", \"arrive\", \"arrive\", \"arrive\", \"arrive\", \"asian\", \"asian\", \"asian\", \"away\", \"away\", \"away\", \"away\", \"awesome\", \"awesome\", \"awesome\", \"bad\", \"bad\", \"ball\", \"belly&nbsp;diet\", \"biggie\", \"boil\", \"boil\", \"boil\", \"boil\", \"boil\", \"bone\", \"branding\", \"brine\", \"bring\", \"bring\", \"broth\", \"broth\", \"broth\", \"brown\", \"brown\", \"bullion\", \"bunch\", \"butter\", \"butter\", \"call\", \"calorie\", \"calorie\", \"calorie\", \"calorie\", \"calorie\", \"carb\", \"carb\", \"carb\", \"carb\", \"carb\", \"cardboard\", \"chicken\", \"chicken\", \"chicken\", \"chicken\", \"chinese\", \"chinese\", \"cholesterol\", \"clump\", \"comparison\", \"complain\", \"complain\", \"conclusion\", \"control\", \"control\", \"conventional\", \"cook\", \"cook\", \"cook\", \"cook\", \"cook\", \"count\", \"count\", \"count\", \"couscous\", \"cube\", \"currently\", \"daikon\", \"damage\", \"daughter\", \"daughter\", \"daughter\", \"definitely\", \"definitely\", \"definitely\", \"definitely\", \"delicious\", \"delicious\", \"delicious\", \"delicious\", \"delicious\", \"delish\", \"delivery\", \"delivery\", \"delivery\", \"delivery\", \"diabete\", \"diabete\", \"diabetic\", \"diabetic\", \"diabetic\", \"dice\", \"diet\", \"diet\", \"diet\", \"diet\", \"diet\", \"disappoint\", \"disappoint\", \"disappoint\", \"dish\", \"dish\", \"dish\", \"dish\", \"dissipate\", \"dressing\", \"drop\", \"drop\", \"dry\", \"dry\", \"dry\", \"dukan\", \"dukan\", \"e.g.\", \"earth\", \"easy\", \"easy\", \"easy\", \"easy\", \"easy\", \"eating\", \"eating\", \"eating\", \"enjoy\", \"enjoy\", \"enjoy\", \"enjoy\", \"evaporate\", \"excellent\", \"excellent\", \"excellent\", \"excellent\", \"excellent\", \"exercise\", \"exercise\", \"expect\", \"expect\", \"expect\", \"expect\", \"expect\", \"expectex\", \"fajita\", \"fast\", \"fast\", \"fast\", \"favourite\", \"favs\", \"feel\", \"feel\", \"feel\", \"feel\", \"fettachini\", \"fill\", \"fill\", \"fill\", \"fill\", \"find\", \"find\", \"find\", \"find\", \"find\", \"fishy\", \"fishy\", \"fishy\", \"fishy\", \"fishy\", \"fit\", \"fit\", \"fit\", \"flavor\", \"flavor\", \"flavor\", \"flavor\", \"flavor\", \"follow\", \"follow\", \"follow\", \"follow\", \"food\", \"food\", \"food\", \"food\", \"food\", \"fool\", \"fool\", \"free\", \"free\", \"free\", \"freeze\", \"fried\", \"fried\", \"garlic\", \"garlic\", \"garlic\", \"get\", \"get\", \"get\", \"get\", \"get\", \"gift\", \"gift\", \"gluten\", \"gluten\", \"gluten\", \"go\", \"go\", \"go\", \"go\", \"good\", \"good\", \"good\", \"good\", \"good\", \"gorge\", \"great\", \"great\", \"great\", \"great\", \"great\", \"greedy\", \"grill\", \"grill\", \"ground\", \"ground\", \"ground\", \"guest\", \"guilt\", \"guilt\", \"guilt\", \"guilt\", \"hair\", \"hair\", \"hair\", \"hair\", \"hair\", \"happily\", \"healthy\", \"healthy\", \"healthy\", \"healthy\", \"heavy\", \"help\", \"help\", \"help\", \"help\", \"helps\", \"hide\", \"highlight\", \"highly\", \"highly\", \"highly\", \"highly\", \"hooked\", \"household\", \"insanely\", \"insanely\", \"interesting\", \"interesting\", \"interesting\", \"item\", \"item\", \"item\", \"item\", \"jellyfish\", \"jicama\", \"keto\", \"keto\", \"keto\", \"keto\", \"ketosis\", \"kitty\", \"konjac\", \"konjac\", \"konjac\", \"konnyaku\", \"let\", \"life\", \"life\", \"life\", \"lifestyle\", \"lifestyle\", \"lifestyle\", \"lifestyle\", \"like\", \"like\", \"like\", \"like\", \"like\", \"list\", \"litter\", \"little\", \"little\", \"little\", \"little\", \"little\", \"loce\", \"lose\", \"lose\", \"lose\", \"lose\", \"love\", \"love\", \"love\", \"love\", \"love\", \"lowcarb\", \"lunch\", \"lunch\", \"magic\", \"magic\", \"magic\", \"magic\", \"make\", \"make\", \"make\", \"make\", \"make\", \"maybe\", \"maybe\", \"maybe\", \"maybe\", \"meal\", \"meal\", \"meal\", \"meal\", \"meal\", \"mean\", \"mean\", \"mean\", \"mean\", \"mean\", \"mild\", \"mild\", \"mild\", \"minute\", \"minute\", \"minute\", \"minute\", \"minute\", \"miracle\", \"miracle\", \"miracle\", \"miracle\", \"miso\", \"moment\", \"morning\", \"morning\", \"nervous\", \"nice\", \"nice\", \"nice\", \"nice\", \"night\", \"night\", \"night\", \"night\", \"night\", \"nonetheless\", \"nood\", \"noodle\", \"noodle\", \"noodle\", \"noodle\", \"noodle\", \"nose\", \"nose\", \"nutritionist\", \"obvious\", \"obviously\", \"oder\", \"one\", \"one\", \"one\", \"open\", \"open\", \"open\", \"open\", \"order\", \"order\", \"order\", \"order\", \"order\", \"original\", \"original\", \"overcooked\", \"package\", \"package\", \"package\", \"package\", \"package\", \"packing\", \"pain\", \"pain\", \"paleo\", \"paleo\", \"paleo\", \"paleo\", \"pallet\", \"pasta\", \"pasta\", \"pasta\", \"pasta\", \"pasta\", \"pay\", \"pepper\", \"pepper\", \"perfect\", \"perfect\", \"perfect\", \"perfect\", \"perfect\", \"pile\", \"possible\", \"possible\", \"possible\", \"prebiotic\", \"prefer\", \"prefer\", \"prefer\", \"prepare\", \"prepare\", \"prepare\", \"prepare\", \"prepare\", \"preppe\", \"pretty\", \"pretty\", \"pretty\", \"pretty\", \"pretty\", \"price\", \"price\", \"price\", \"price\", \"price\", \"produce\", \"produce\", \"product\", \"product\", \"product\", \"product\", \"product\", \"prove\", \"quality\", \"quality\", \"quality\", \"quantity\", \"quantity\", \"quick\", \"quick\", \"quick\", \"quick\", \"quick\", \"read\", \"read\", \"read\", \"read\", \"read\", \"recommend\", \"recommend\", \"recommend\", \"recommend\", \"recommend\", \"regular\", \"regular\", \"regular\", \"regular\", \"replacement\", \"replacement\", \"replacement\", \"replica\", \"replication\", \"require\", \"research\", \"resemble\", \"rest\", \"rest\", \"retailer\", \"review\", \"review\", \"review\", \"review\", \"review\", \"rice\", \"rice\", \"rice\", \"rice\", \"rinse\", \"rinse\", \"rinse\", \"rinse\", \"rinse\", \"ruin\", \"sauce\", \"sauce\", \"sauce\", \"sauce\", \"say\", \"say\", \"say\", \"say\", \"say\", \"sceptical\", \"seasoned\", \"seed\", \"seller\", \"seller\", \"service\", \"shelf\", \"shellfish\", \"sized\", \"skinny\", \"skinny\", \"slippery\", \"smell\", \"smell\", \"smell\", \"smell\", \"smell\", \"sooooooooooooooooooooooooooo\", \"soup\", \"soup\", \"soup\", \"soup\", \"spaghetti\", \"spaghetti\", \"spaghetti\", \"spaghetti\", \"spaghetti\", \"speck\", \"spice\", \"spice\", \"spice\", \"spice\", \"spiralize\", \"splurge\", \"sprout\", \"squash\", \"squash\", \"star\", \"star\", \"star\", \"starch\", \"starch\", \"starchy\", \"starchy\", \"steak\", \"steak\", \"stir\", \"stir\", \"stir\", \"stir\", \"stir\", \"stuff\", \"stuff\", \"stuff\", \"stuff\", \"stuff\", \"sub\", \"subscription\", \"subscription\", \"substitute\", \"substitute\", \"substitute\", \"substitute\", \"substitute\", \"sure\", \"sure\", \"sure\", \"sure\", \"sure\", \"sweet\", \"system\", \"taco\", \"takeout\", \"taste\", \"taste\", \"taste\", \"taste\", \"teenage\", \"tell\", \"tell\", \"tell\", \"tell\", \"texture\", \"texture\", \"texture\", \"texture\", \"texture\", \"thai\", \"thai\", \"thank\", \"thank\", \"thank\", \"thank\", \"thankful\", \"thing\", \"thing\", \"thing\", \"thing\", \"thing\", \"thousand\", \"throw\", \"throw\", \"throw\", \"time\", \"time\", \"time\", \"time\", \"time\", \"trade\", \"trouble\", \"trouble\", \"try\", \"try\", \"try\", \"try\", \"try\", \"tuna\", \"usually\", \"usually\", \"usually\", \"vegan\", \"verrrrryyyyy\", \"want\", \"want\", \"want\", \"want\", \"warning\", \"warning\", \"water\", \"water\", \"water\", \"water\", \"water\", \"wave\", \"week\", \"week\", \"week\", \"week\", \"week\", \"weight\", \"weight\", \"weight\", \"weight\", \"weird\", \"weird\", \"weird\", \"weird\", \"well\", \"well\", \"well\", \"well\", \"well\", \"wide\", \"work\", \"work\", \"work\", \"work\", \"work\", \"worried\", \"wrap\", \"yummmm\", \"zucchini\", \"zucchini\"]}, \"R\": 30, \"lambda.step\": 0.01, \"plot.opts\": {\"xlab\": \"PC1\", \"ylab\": \"PC2\"}, \"topic.order\": [2, 1, 4, 5, 3]};\n",
       "\n",
       "function LDAvis_load_lib(url, callback){\n",
       "  var s = document.createElement('script');\n",
       "  s.src = url;\n",
       "  s.async = true;\n",
       "  s.onreadystatechange = s.onload = callback;\n",
       "  s.onerror = function(){console.warn(\"failed to load library \" + url);};\n",
       "  document.getElementsByTagName(\"head\")[0].appendChild(s);\n",
       "}\n",
       "\n",
       "if(typeof(LDAvis) !== \"undefined\"){\n",
       "   // already loaded: just create the visualization\n",
       "   !function(LDAvis){\n",
       "       new LDAvis(\"#\" + \"ldavis_el1796137308464646235514978\", ldavis_el1796137308464646235514978_data);\n",
       "   }(LDAvis);\n",
       "}else if(typeof define === \"function\" && define.amd){\n",
       "   // require.js is available: use it to load d3/LDAvis\n",
       "   require.config({paths: {d3: \"https://d3js.org/d3.v5\"}});\n",
       "   require([\"d3\"], function(d3){\n",
       "      window.d3 = d3;\n",
       "      LDAvis_load_lib(\"https://cdn.jsdelivr.net/gh/bmabey/pyLDAvis@3.4.0/pyLDAvis/js/ldavis.v3.0.0.js\", function(){\n",
       "        new LDAvis(\"#\" + \"ldavis_el1796137308464646235514978\", ldavis_el1796137308464646235514978_data);\n",
       "      });\n",
       "    });\n",
       "}else{\n",
       "    // require.js not available: dynamically load d3 & LDAvis\n",
       "    LDAvis_load_lib(\"https://d3js.org/d3.v5.js\", function(){\n",
       "         LDAvis_load_lib(\"https://cdn.jsdelivr.net/gh/bmabey/pyLDAvis@3.4.0/pyLDAvis/js/ldavis.v3.0.0.js\", function(){\n",
       "                 new LDAvis(\"#\" + \"ldavis_el1796137308464646235514978\", ldavis_el1796137308464646235514978_data);\n",
       "            })\n",
       "         });\n",
       "}\n",
       "</script>"
      ],
      "text/plain": [
       "<IPython.core.display.HTML object>"
      ]
     },
     "metadata": {},
     "output_type": "display_data"
    }
   ],
   "source": [
    "import pyLDAvis\n",
    "import pyLDAvis.gensim_models as gensimvis\n",
    "from IPython.display import display, Markdown, HTML\n",
    "\n",
    "# Function to create a labeled LDA visualization\n",
    "def create_labeled_lda_vis(lda_model, corpus, dictionary, topic_labels):\n",
    "    vis_data = gensimvis.prepare(lda_model, corpus, dictionary)\n",
    "    vis_data = pyLDAvis.prepared_data_to_html(vis_data)\n",
    "    for i, label in enumerate(topic_labels):\n",
    "        vis_data = vis_data.replace(f\"Topic {i+1}\", f\"Topic {i+1}: {label}\")\n",
    "    return vis_data\n",
    "\n",
    "# # Prepare the pyLDAvis labels for high-rating reviews\n",
    "topic_labels_high = topics_df_high.reset_index()['topic_labels'].tolist()\n",
    "# Create the visualizations\n",
    "high_lda_vis = create_labeled_lda_vis(high_lda, high_corpus, high_dictionary, topic_labels_high)\n",
    "# Display titles and visualizations\n",
    "display(Markdown(\"## High Rating Reviews Topics\"))\n",
    "# pyLDAvis.display(high_lda_vis)\n",
    "display(HTML(high_lda_vis))\n"
   ]
  },
  {
   "cell_type": "code",
   "execution_count": 60,
   "id": "8d9a7a06",
   "metadata": {},
   "outputs": [],
   "source": [
    "\n",
    "\n",
    "\n",
    "# topic_lables_low = topics_df_low['topic_labels'].tolist()\n",
    "\n",
    "\n",
    "\n",
    "# low_lda_vis = create_labeled_lda_vis(low_lda, low_corpus, low_dictionary, topic_labels_low)\n",
    "\n",
    "\n",
    "# # # Display the visualizations in the notebook\n",
    "# pyLDAvis.display(high_lda_vis)\n"
   ]
  },
  {
   "cell_type": "code",
   "execution_count": 61,
   "id": "45730c55",
   "metadata": {},
   "outputs": [],
   "source": [
    "\n",
    "# # Prepare the pyLDAvis data\n",
    "# low_lda_vis = gensimvis.prepare(low_lda, low_corpus, low_dictionary)\n",
    "# # Display the visualizations in the notebook\n",
    "# pyLDAvis.display(low_lda_vis)"
   ]
  },
  {
   "cell_type": "code",
   "execution_count": null,
   "id": "9faae848",
   "metadata": {},
   "outputs": [],
   "source": []
  },
  {
   "cell_type": "markdown",
   "id": "77dbaa41",
   "metadata": {},
   "source": [
    "# 📌 BOOKMARK 06/26/24"
   ]
  },
  {
   "cell_type": "markdown",
   "id": "128f758e",
   "metadata": {},
   "source": [
    "# Sentiment Analysis"
   ]
  },
  {
   "cell_type": "markdown",
   "id": "85986a5f-b0a8-4d79-ab83-84fb411afdf5",
   "metadata": {},
   "source": [
    "## Sentiment Analysis - NLTK's Vader"
   ]
  },
  {
   "cell_type": "markdown",
   "id": "2f3a5bec-266e-4553-8274-6a24fbfb6ed5",
   "metadata": {},
   "source": [
    "Perform sentiment analysis to create polarity scores according to VADERS's sentiment lexicon.  \n",
    "- Compare the sentiments of high-rating and low-rating texts.  \n",
    "- Compare the average scores for high and low-rating reviews.  \n",
    "- Which review polarity scores don't match the ratings?  Why do you think this is?"
   ]
  },
  {
   "cell_type": "code",
   "execution_count": 62,
   "id": "57e3766c",
   "metadata": {},
   "outputs": [],
   "source": [
    "# !pip install nltk"
   ]
  },
  {
   "cell_type": "code",
   "execution_count": 63,
   "id": "c802d77a-ec81-4a43-8cf5-1c6c04d3b68e",
   "metadata": {
    "execution": {
     "iopub.execute_input": "2024-02-13T01:39:15.334040Z",
     "iopub.status.busy": "2024-02-13T01:39:15.333389Z",
     "iopub.status.idle": "2024-02-13T01:39:15.524417Z",
     "shell.execute_reply": "2024-02-13T01:39:15.522852Z",
     "shell.execute_reply.started": "2024-02-13T01:39:15.334017Z"
    }
   },
   "outputs": [
    {
     "name": "stderr",
     "output_type": "stream",
     "text": [
      "[nltk_data] Downloading package vader_lexicon to\n",
      "[nltk_data]     /Users/codingdojo/nltk_data...\n",
      "[nltk_data]   Package vader_lexicon is already up-to-date!\n"
     ]
    },
    {
     "data": {
      "text/plain": [
       "True"
      ]
     },
     "execution_count": 63,
     "metadata": {},
     "output_type": "execute_result"
    }
   ],
   "source": [
    "import nltk\n",
    "from nltk.sentiment.vader import SentimentIntensityAnalyzer\n",
    "nltk.download('vader_lexicon')"
   ]
  },
  {
   "cell_type": "code",
   "execution_count": 64,
   "id": "365ec383-e248-4057-8b31-bd00d4de7ca2",
   "metadata": {
    "execution": {
     "iopub.execute_input": "2024-02-13T01:39:15.528716Z",
     "iopub.status.busy": "2024-02-13T01:39:15.528024Z",
     "iopub.status.idle": "2024-02-13T01:39:15.544865Z",
     "shell.execute_reply": "2024-02-13T01:39:15.544274Z",
     "shell.execute_reply.started": "2024-02-13T01:39:15.528666Z"
    }
   },
   "outputs": [],
   "source": [
    "# Initialize the VADER sentiment analyzer\n",
    "sia = SentimentIntensityAnalyzer()"
   ]
  },
  {
   "cell_type": "code",
   "execution_count": 65,
   "id": "ca8e0a7a-66a6-4aec-96ae-3e3b92503a18",
   "metadata": {
    "execution": {
     "iopub.execute_input": "2024-02-13T01:39:15.545614Z",
     "iopub.status.busy": "2024-02-13T01:39:15.545493Z",
     "iopub.status.idle": "2024-02-13T01:39:15.553501Z",
     "shell.execute_reply": "2024-02-13T01:39:15.553004Z",
     "shell.execute_reply.started": "2024-02-13T01:39:15.545605Z"
    }
   },
   "outputs": [
    {
     "data": {
      "text/html": [
       "<div>\n",
       "<style scoped>\n",
       "    .dataframe tbody tr th:only-of-type {\n",
       "        vertical-align: middle;\n",
       "    }\n",
       "\n",
       "    .dataframe tbody tr th {\n",
       "        vertical-align: top;\n",
       "    }\n",
       "\n",
       "    .dataframe thead th {\n",
       "        text-align: right;\n",
       "    }\n",
       "</style>\n",
       "<table border=\"1\" class=\"dataframe\">\n",
       "  <thead>\n",
       "    <tr style=\"text-align: right;\">\n",
       "      <th></th>\n",
       "      <th>asin</th>\n",
       "      <th>reviewerID</th>\n",
       "      <th>reviewText</th>\n",
       "      <th>summary</th>\n",
       "      <th>overall</th>\n",
       "      <th>year</th>\n",
       "      <th>title</th>\n",
       "      <th>brand</th>\n",
       "      <th>category</th>\n",
       "      <th>review-text-full</th>\n",
       "      <th>review-text-full_raw</th>\n",
       "      <th>tokens-dirty</th>\n",
       "      <th>tokens</th>\n",
       "      <th>lemmas</th>\n",
       "      <th>tokens-dirty-joined</th>\n",
       "      <th>tokens-joined</th>\n",
       "      <th>lemmas-joined</th>\n",
       "      <th>target-rating</th>\n",
       "    </tr>\n",
       "  </thead>\n",
       "  <tbody>\n",
       "    <tr>\n",
       "      <th>0</th>\n",
       "      <td>B007JINB0W</td>\n",
       "      <td>A3Y51NV9HU5T2</td>\n",
       "      <td>Great pasta taste and feel, but the spell in the packaged is SKRONG!</td>\n",
       "      <td>Four Stars</td>\n",
       "      <td>4</td>\n",
       "      <td>2018</td>\n",
       "      <td>Miracle Noodle Zero Carb, Gluten Free Shirataki Pasta, Spinach Angel Hair, 7-Ounce (Pack of 24)</td>\n",
       "      <td>Miracle Noodle</td>\n",
       "      <td>Grocery &amp; Gourmet Food; Pasta &amp; Noodles; Noodles; Shirataki</td>\n",
       "      <td>Four Stars: Great pasta taste and feel, but the spell in the packaged is SKRONG!</td>\n",
       "      <td>Four Stars: Great pasta taste and feel, but the spell in the packaged is SKRONG!</td>\n",
       "      <td>[four, stars, great, pasta, taste, and, feel, but, the, spell, in, the, packaged, is, skrong]</td>\n",
       "      <td>[stars, great, pasta, taste, feel, spell, packaged, skrong]</td>\n",
       "      <td>[star, great, pasta, taste, feel, spell, package, SKRONG]</td>\n",
       "      <td>four stars great pasta taste and feel but the spell in the packaged is skrong</td>\n",
       "      <td>stars great pasta taste feel spell packaged skrong</td>\n",
       "      <td>star great pasta taste feel spell package skrong</td>\n",
       "      <td>None</td>\n",
       "    </tr>\n",
       "    <tr>\n",
       "      <th>1</th>\n",
       "      <td>B007JINB0W</td>\n",
       "      <td>A3D7EFSRC6Y9MP</td>\n",
       "      <td>The texture just made it a little strange to eat. Otherwise the flavor is okay, very bland so add spices.</td>\n",
       "      <td>Okay but don't like texture</td>\n",
       "      <td>3</td>\n",
       "      <td>2014</td>\n",
       "      <td>Miracle Noodle Zero Carb, Gluten Free Shirataki Pasta, Spinach Angel Hair, 7-Ounce (Pack of 24)</td>\n",
       "      <td>Miracle Noodle</td>\n",
       "      <td>Grocery &amp; Gourmet Food; Pasta &amp; Noodles; Noodles; Shirataki</td>\n",
       "      <td>Okay but don't like texture: The texture just made it a little strange to eat. Otherwise the flavor is okay, very bland so add spices.</td>\n",
       "      <td>Okay but don't like texture: The texture just made it a little strange to eat. Otherwise the flavor is okay, very bland so add spices.</td>\n",
       "      <td>[okay, but, do, n't, like, texture, the, texture, just, made, it, a, little, strange, to, eat, otherwise, the, flavor, is, okay, very, bland, so, add, spices]</td>\n",
       "      <td>[okay, like, texture, texture, little, strange, eat, flavor, okay, bland, add, spices]</td>\n",
       "      <td>[okay, like, texture, texture, little, strange, flavor, okay, bland, spice]</td>\n",
       "      <td>okay but do n't like texture the texture just made it a little strange to eat otherwise the flavor is okay very bland so add spices</td>\n",
       "      <td>okay like texture texture little strange eat flavor okay bland add spices</td>\n",
       "      <td>okay like texture texture little strange eat flavor okay bland add spice</td>\n",
       "      <td>None</td>\n",
       "    </tr>\n",
       "  </tbody>\n",
       "</table>\n",
       "</div>"
      ],
      "text/plain": [
       "         asin      reviewerID  \\\n",
       "0  B007JINB0W   A3Y51NV9HU5T2   \n",
       "1  B007JINB0W  A3D7EFSRC6Y9MP   \n",
       "\n",
       "                                                                                                  reviewText  \\\n",
       "0                                       Great pasta taste and feel, but the spell in the packaged is SKRONG!   \n",
       "1  The texture just made it a little strange to eat. Otherwise the flavor is okay, very bland so add spices.   \n",
       "\n",
       "                       summary  overall  year  \\\n",
       "0                   Four Stars        4  2018   \n",
       "1  Okay but don't like texture        3  2014   \n",
       "\n",
       "                                                                                             title  \\\n",
       "0  Miracle Noodle Zero Carb, Gluten Free Shirataki Pasta, Spinach Angel Hair, 7-Ounce (Pack of 24)   \n",
       "1  Miracle Noodle Zero Carb, Gluten Free Shirataki Pasta, Spinach Angel Hair, 7-Ounce (Pack of 24)   \n",
       "\n",
       "            brand  \\\n",
       "0  Miracle Noodle   \n",
       "1  Miracle Noodle   \n",
       "\n",
       "                                                      category  \\\n",
       "0  Grocery & Gourmet Food; Pasta & Noodles; Noodles; Shirataki   \n",
       "1  Grocery & Gourmet Food; Pasta & Noodles; Noodles; Shirataki   \n",
       "\n",
       "                                                                                                                         review-text-full  \\\n",
       "0                                                        Four Stars: Great pasta taste and feel, but the spell in the packaged is SKRONG!   \n",
       "1  Okay but don't like texture: The texture just made it a little strange to eat. Otherwise the flavor is okay, very bland so add spices.   \n",
       "\n",
       "                                                                                                                     review-text-full_raw  \\\n",
       "0                                                        Four Stars: Great pasta taste and feel, but the spell in the packaged is SKRONG!   \n",
       "1  Okay but don't like texture: The texture just made it a little strange to eat. Otherwise the flavor is okay, very bland so add spices.   \n",
       "\n",
       "                                                                                                                                                     tokens-dirty  \\\n",
       "0                                                                   [four, stars, great, pasta, taste, and, feel, but, the, spell, in, the, packaged, is, skrong]   \n",
       "1  [okay, but, do, n't, like, texture, the, texture, just, made, it, a, little, strange, to, eat, otherwise, the, flavor, is, okay, very, bland, so, add, spices]   \n",
       "\n",
       "                                                                                   tokens  \\\n",
       "0                             [stars, great, pasta, taste, feel, spell, packaged, skrong]   \n",
       "1  [okay, like, texture, texture, little, strange, eat, flavor, okay, bland, add, spices]   \n",
       "\n",
       "                                                                        lemmas  \\\n",
       "0                    [star, great, pasta, taste, feel, spell, package, SKRONG]   \n",
       "1  [okay, like, texture, texture, little, strange, flavor, okay, bland, spice]   \n",
       "\n",
       "                                                                                                                   tokens-dirty-joined  \\\n",
       "0                                                        four stars great pasta taste and feel but the spell in the packaged is skrong   \n",
       "1  okay but do n't like texture the texture just made it a little strange to eat otherwise the flavor is okay very bland so add spices   \n",
       "\n",
       "                                                               tokens-joined  \\\n",
       "0                         stars great pasta taste feel spell packaged skrong   \n",
       "1  okay like texture texture little strange eat flavor okay bland add spices   \n",
       "\n",
       "                                                              lemmas-joined  \\\n",
       "0                          star great pasta taste feel spell package skrong   \n",
       "1  okay like texture texture little strange eat flavor okay bland add spice   \n",
       "\n",
       "  target-rating  \n",
       "0          None  \n",
       "1          None  "
      ]
     },
     "execution_count": 65,
     "metadata": {},
     "output_type": "execute_result"
    }
   ],
   "source": [
    "df.head(2)"
   ]
  },
  {
   "cell_type": "code",
   "execution_count": null,
   "id": "ba427f53",
   "metadata": {},
   "outputs": [],
   "source": []
  },
  {
   "cell_type": "code",
   "execution_count": 66,
   "id": "e7816624-8a84-4cdd-bf88-81c8d4a50617",
   "metadata": {
    "execution": {
     "iopub.execute_input": "2024-02-13T01:39:15.554380Z",
     "iopub.status.busy": "2024-02-13T01:39:15.554222Z",
     "iopub.status.idle": "2024-02-13T01:39:17.169275Z",
     "shell.execute_reply": "2024-02-13T01:39:17.168958Z",
     "shell.execute_reply.started": "2024-02-13T01:39:15.554364Z"
    }
   },
   "outputs": [
    {
     "data": {
      "text/html": [
       "<div>\n",
       "<style scoped>\n",
       "    .dataframe tbody tr th:only-of-type {\n",
       "        vertical-align: middle;\n",
       "    }\n",
       "\n",
       "    .dataframe tbody tr th {\n",
       "        vertical-align: top;\n",
       "    }\n",
       "\n",
       "    .dataframe thead th {\n",
       "        text-align: right;\n",
       "    }\n",
       "</style>\n",
       "<table border=\"1\" class=\"dataframe\">\n",
       "  <thead>\n",
       "    <tr style=\"text-align: right;\">\n",
       "      <th></th>\n",
       "      <th>asin</th>\n",
       "      <th>reviewerID</th>\n",
       "      <th>reviewText</th>\n",
       "      <th>summary</th>\n",
       "      <th>overall</th>\n",
       "      <th>year</th>\n",
       "      <th>title</th>\n",
       "      <th>brand</th>\n",
       "      <th>category</th>\n",
       "      <th>review-text-full</th>\n",
       "      <th>review-text-full_raw</th>\n",
       "      <th>tokens-dirty</th>\n",
       "      <th>tokens</th>\n",
       "      <th>lemmas</th>\n",
       "      <th>tokens-dirty-joined</th>\n",
       "      <th>tokens-joined</th>\n",
       "      <th>lemmas-joined</th>\n",
       "      <th>target-rating</th>\n",
       "      <th>neg</th>\n",
       "      <th>neu</th>\n",
       "      <th>pos</th>\n",
       "      <th>compound</th>\n",
       "    </tr>\n",
       "  </thead>\n",
       "  <tbody>\n",
       "    <tr>\n",
       "      <th>0</th>\n",
       "      <td>B007JINB0W</td>\n",
       "      <td>A3Y51NV9HU5T2</td>\n",
       "      <td>Great pasta taste and feel, but the spell in the packaged is SKRONG!</td>\n",
       "      <td>Four Stars</td>\n",
       "      <td>4</td>\n",
       "      <td>2018</td>\n",
       "      <td>Miracle Noodle Zero Carb, Gluten Free Shirataki Pasta, Spinach Angel Hair, 7-Ounce (Pack of 24)</td>\n",
       "      <td>Miracle Noodle</td>\n",
       "      <td>Grocery &amp; Gourmet Food; Pasta &amp; Noodles; Noodles; Shirataki</td>\n",
       "      <td>Four Stars: Great pasta taste and feel, but the spell in the packaged is SKRONG!</td>\n",
       "      <td>Four Stars: Great pasta taste and feel, but the spell in the packaged is SKRONG!</td>\n",
       "      <td>[four, stars, great, pasta, taste, and, feel, but, the, spell, in, the, packaged, is, skrong]</td>\n",
       "      <td>[stars, great, pasta, taste, feel, spell, packaged, skrong]</td>\n",
       "      <td>[star, great, pasta, taste, feel, spell, package, SKRONG]</td>\n",
       "      <td>four stars great pasta taste and feel but the spell in the packaged is skrong</td>\n",
       "      <td>stars great pasta taste feel spell packaged skrong</td>\n",
       "      <td>star great pasta taste feel spell package skrong</td>\n",
       "      <td>None</td>\n",
       "      <td>0.000</td>\n",
       "      <td>0.831</td>\n",
       "      <td>0.169</td>\n",
       "      <td>0.4295</td>\n",
       "    </tr>\n",
       "    <tr>\n",
       "      <th>1</th>\n",
       "      <td>B007JINB0W</td>\n",
       "      <td>A3D7EFSRC6Y9MP</td>\n",
       "      <td>The texture just made it a little strange to eat. Otherwise the flavor is okay, very bland so add spices.</td>\n",
       "      <td>Okay but don't like texture</td>\n",
       "      <td>3</td>\n",
       "      <td>2014</td>\n",
       "      <td>Miracle Noodle Zero Carb, Gluten Free Shirataki Pasta, Spinach Angel Hair, 7-Ounce (Pack of 24)</td>\n",
       "      <td>Miracle Noodle</td>\n",
       "      <td>Grocery &amp; Gourmet Food; Pasta &amp; Noodles; Noodles; Shirataki</td>\n",
       "      <td>Okay but don't like texture: The texture just made it a little strange to eat. Otherwise the flavor is okay, very bland so add spices.</td>\n",
       "      <td>Okay but don't like texture: The texture just made it a little strange to eat. Otherwise the flavor is okay, very bland so add spices.</td>\n",
       "      <td>[okay, but, do, n't, like, texture, the, texture, just, made, it, a, little, strange, to, eat, otherwise, the, flavor, is, okay, very, bland, so, add, spices]</td>\n",
       "      <td>[okay, like, texture, texture, little, strange, eat, flavor, okay, bland, add, spices]</td>\n",
       "      <td>[okay, like, texture, texture, little, strange, flavor, okay, bland, spice]</td>\n",
       "      <td>okay but do n't like texture the texture just made it a little strange to eat otherwise the flavor is okay very bland so add spices</td>\n",
       "      <td>okay like texture texture little strange eat flavor okay bland add spices</td>\n",
       "      <td>okay like texture texture little strange eat flavor okay bland add spice</td>\n",
       "      <td>None</td>\n",
       "      <td>0.157</td>\n",
       "      <td>0.709</td>\n",
       "      <td>0.135</td>\n",
       "      <td>-0.1594</td>\n",
       "    </tr>\n",
       "    <tr>\n",
       "      <th>2</th>\n",
       "      <td>B007JINB0W</td>\n",
       "      <td>A4AM5KBP3I2R</td>\n",
       "      <td>The herb flavor makes the odd texture of shirataki much more palatable.</td>\n",
       "      <td>Go for the green noodles</td>\n",
       "      <td>5</td>\n",
       "      <td>2018</td>\n",
       "      <td>Miracle Noodle Zero Carb, Gluten Free Shirataki Pasta, Spinach Angel Hair, 7-Ounce (Pack of 24)</td>\n",
       "      <td>Miracle Noodle</td>\n",
       "      <td>Grocery &amp; Gourmet Food; Pasta &amp; Noodles; Noodles; Shirataki</td>\n",
       "      <td>Go for the green noodles: The herb flavor makes the odd texture of shirataki much more palatable.</td>\n",
       "      <td>Go for the green noodles: The herb flavor makes the odd texture of shirataki much more palatable.</td>\n",
       "      <td>[go, for, the, green, noodles, the, herb, flavor, makes, the, odd, texture, of, shirataki, much, more, palatable]</td>\n",
       "      <td>[green, noodles, herb, flavor, makes, odd, texture, shirataki, palatable]</td>\n",
       "      <td>[green, noodle, herb, flavor, make, texture, shirataki, palatable]</td>\n",
       "      <td>go for the green noodles the herb flavor makes the odd texture of shirataki much more palatable</td>\n",
       "      <td>green noodles herb flavor makes odd texture shirataki palatable</td>\n",
       "      <td>green noodle herb flavor make odd texture shirataki palatable</td>\n",
       "      <td>High</td>\n",
       "      <td>0.114</td>\n",
       "      <td>0.743</td>\n",
       "      <td>0.143</td>\n",
       "      <td>0.1513</td>\n",
       "    </tr>\n",
       "    <tr>\n",
       "      <th>3</th>\n",
       "      <td>B007JINB0W</td>\n",
       "      <td>A3GHK4IL78DB7Y</td>\n",
       "      <td>I didn't have a problem at all with a half filled bag or anything that other users said. I was concerned at first but I took a chance and there were no problems.\\nI find the best way to get rid of the initial smell is to boil it will a cube of bo...</td>\n",
       "      <td>Its an awesome substitute.</td>\n",
       "      <td>5</td>\n",
       "      <td>2018</td>\n",
       "      <td>Miracle Noodle Zero Carb, Gluten Free Shirataki Pasta, Spinach Angel Hair, 7-Ounce (Pack of 24)</td>\n",
       "      <td>Miracle Noodle</td>\n",
       "      <td>Grocery &amp; Gourmet Food; Pasta &amp; Noodles; Noodles; Shirataki</td>\n",
       "      <td>Its an awesome substitute.: I didn't have a problem at all with a half filled bag or anything that other users said. I was concerned at first but I took a chance and there were no problems.\\nI find the best way to get rid of the initial smell is ...</td>\n",
       "      <td>Its an awesome substitute.: I didn't have a problem at all with a half filled bag or anything that other users said. I was concerned at first but I took a chance and there were no problems.\\nI find the best way to get rid of the initial smell is ...</td>\n",
       "      <td>[its, an, awesome, substitute, i, did, n't, have, a, problem, at, all, with, a, half, filled, bag, or, anything, that, other, users, said, i, was, concerned, at, first, but, i, took, a, chance, and, there, were, no, problems, i, find, the, best, ...</td>\n",
       "      <td>[awesome, substitute, problem, half, filled, bag, users, said, concerned, took, chance, problems, find, best, way, rid, initial, smell, boil, cube, bouillon, texture, good, notice, replace, noodle, eat, nt, mind]</td>\n",
       "      <td>[awesome, substitute, problem, half, fill, user, say, concern, take, chance, problem, find, good, initial, smell, boil, cube, bouillon, texture, good, notice, replace, noodle, mind]</td>\n",
       "      <td>its an awesome substitute i did n't have a problem at all with a half filled bag or anything that other users said i was concerned at first but i took a chance and there were no problems i find the best way to get rid of the initial smell is to b...</td>\n",
       "      <td>awesome substitute problem half filled bag users said concerned took chance problems find best way rid initial smell boil cube bouillon texture good notice replace noodle eat nt mind</td>\n",
       "      <td>awesome substitute problem half fill bag user say concern take chance problem find good way rid initial smell boil cube bouillon texture good notice replace noodle eat not mind</td>\n",
       "      <td>High</td>\n",
       "      <td>0.072</td>\n",
       "      <td>0.735</td>\n",
       "      <td>0.193</td>\n",
       "      <td>0.8936</td>\n",
       "    </tr>\n",
       "    <tr>\n",
       "      <th>4</th>\n",
       "      <td>B007JINB0W</td>\n",
       "      <td>AH3B94LQOPPY6</td>\n",
       "      <td>They taste like whatever you cook them with.</td>\n",
       "      <td>Five Stars</td>\n",
       "      <td>5</td>\n",
       "      <td>2016</td>\n",
       "      <td>Miracle Noodle Zero Carb, Gluten Free Shirataki Pasta, Spinach Angel Hair, 7-Ounce (Pack of 24)</td>\n",
       "      <td>Miracle Noodle</td>\n",
       "      <td>Grocery &amp; Gourmet Food; Pasta &amp; Noodles; Noodles; Shirataki</td>\n",
       "      <td>Five Stars: They taste like whatever you cook them with.</td>\n",
       "      <td>Five Stars: They taste like whatever you cook them with.</td>\n",
       "      <td>[five, stars, they, taste, like, whatever, you, cook, them, with]</td>\n",
       "      <td>[stars, taste, like, cook]</td>\n",
       "      <td>[star, taste, like, cook]</td>\n",
       "      <td>five stars they taste like whatever you cook them with</td>\n",
       "      <td>stars taste like cook</td>\n",
       "      <td>star taste like cook</td>\n",
       "      <td>High</td>\n",
       "      <td>0.000</td>\n",
       "      <td>0.783</td>\n",
       "      <td>0.217</td>\n",
       "      <td>0.3612</td>\n",
       "    </tr>\n",
       "    <tr>\n",
       "      <th>...</th>\n",
       "      <td>...</td>\n",
       "      <td>...</td>\n",
       "      <td>...</td>\n",
       "      <td>...</td>\n",
       "      <td>...</td>\n",
       "      <td>...</td>\n",
       "      <td>...</td>\n",
       "      <td>...</td>\n",
       "      <td>...</td>\n",
       "      <td>...</td>\n",
       "      <td>...</td>\n",
       "      <td>...</td>\n",
       "      <td>...</td>\n",
       "      <td>...</td>\n",
       "      <td>...</td>\n",
       "      <td>...</td>\n",
       "      <td>...</td>\n",
       "      <td>...</td>\n",
       "      <td>...</td>\n",
       "      <td>...</td>\n",
       "      <td>...</td>\n",
       "      <td>...</td>\n",
       "    </tr>\n",
       "    <tr>\n",
       "      <th>4358</th>\n",
       "      <td>B007JINB0W</td>\n",
       "      <td>A73IG1ED6S0JR</td>\n",
       "      <td>Product arrived with two of the bags punctured. Also smells really really bad.</td>\n",
       "      <td>would not recomend</td>\n",
       "      <td>1</td>\n",
       "      <td>2016</td>\n",
       "      <td>Miracle Noodle Zero Carb, Gluten Free Shirataki Pasta, Spinach Angel Hair, 7-Ounce (Pack of 24)</td>\n",
       "      <td>Miracle Noodle</td>\n",
       "      <td>Grocery &amp; Gourmet Food; Pasta &amp; Noodles; Noodles; Shirataki</td>\n",
       "      <td>would not recomend: Product arrived with two of the bags punctured. Also smells really really bad.</td>\n",
       "      <td>would not recomend: Product arrived with two of the bags punctured. Also smells really really bad.</td>\n",
       "      <td>[would, not, recomend, product, arrived, with, two, of, the, bags, punctured, also, smells, really, really, bad]</td>\n",
       "      <td>[recomend, product, arrived, bags, punctured, smells, bad]</td>\n",
       "      <td>[recomend, product, arrive, bag, puncture, smell]</td>\n",
       "      <td>would not recomend product arrived with two of the bags punctured also smells really really bad</td>\n",
       "      <td>recomend product arrived bags punctured smells bad</td>\n",
       "      <td>recomend product arrive bag puncture smell bad</td>\n",
       "      <td>Low</td>\n",
       "      <td>0.213</td>\n",
       "      <td>0.787</td>\n",
       "      <td>0.000</td>\n",
       "      <td>-0.6214</td>\n",
       "    </tr>\n",
       "    <tr>\n",
       "      <th>4359</th>\n",
       "      <td>B007JINB0W</td>\n",
       "      <td>A1XZ2H0MYG54M0</td>\n",
       "      <td>Ok.</td>\n",
       "      <td>Five Stars</td>\n",
       "      <td>5</td>\n",
       "      <td>2016</td>\n",
       "      <td>Miracle Noodle Zero Carb, Gluten Free Shirataki Pasta, Spinach Angel Hair, 7-Ounce (Pack of 24)</td>\n",
       "      <td>Miracle Noodle</td>\n",
       "      <td>Grocery &amp; Gourmet Food; Pasta &amp; Noodles; Noodles; Shirataki</td>\n",
       "      <td>Five Stars: Ok.</td>\n",
       "      <td>Five Stars: Ok.</td>\n",
       "      <td>[five, stars, ok]</td>\n",
       "      <td>[stars, ok]</td>\n",
       "      <td>[star]</td>\n",
       "      <td>five stars ok</td>\n",
       "      <td>stars ok</td>\n",
       "      <td>star ok</td>\n",
       "      <td>High</td>\n",
       "      <td>0.000</td>\n",
       "      <td>0.476</td>\n",
       "      <td>0.524</td>\n",
       "      <td>0.2960</td>\n",
       "    </tr>\n",
       "    <tr>\n",
       "      <th>4360</th>\n",
       "      <td>B007JINB0W</td>\n",
       "      <td>A3I2YF0MXB7P0B</td>\n",
       "      <td>I like these noodles but the spinach ones just taste odd. They have a bitter flavor compared to the other ones. I don't think it tastes like Spinach, it just tastes bitter and odd. Now I understand why these were on sale compared to the other one...</td>\n",
       "      <td>Not awful, but now I know why these were on sale.</td>\n",
       "      <td>2</td>\n",
       "      <td>2013</td>\n",
       "      <td>Miracle Noodle Zero Carb, Gluten Free Shirataki Pasta, Spinach Angel Hair, 7-Ounce (Pack of 24)</td>\n",
       "      <td>Miracle Noodle</td>\n",
       "      <td>Grocery &amp; Gourmet Food; Pasta &amp; Noodles; Noodles; Shirataki</td>\n",
       "      <td>Not awful, but now I know why these were on sale.: I like these noodles but the spinach ones just taste odd. They have a bitter flavor compared to the other ones. I don't think it tastes like Spinach, it just tastes bitter and odd. Now I understa...</td>\n",
       "      <td>Not awful, but now I know why these were on sale.: I like these noodles but the spinach ones just taste odd. They have a bitter flavor compared to the other ones. I don't think it tastes like Spinach, it just tastes bitter and odd. Now I understa...</td>\n",
       "      <td>[not, awful, but, now, i, know, why, these, were, on, sale, i, like, these, noodles, but, the, spinach, ones, just, taste, odd, they, have, a, bitter, flavor, compared, to, the, other, ones, i, do, n't, think, it, tastes, like, spinach, it, just,...</td>\n",
       "      <td>[awful, know, sale, like, noodles, spinach, ones, taste, odd, bitter, flavor, compared, ones, think, tastes, like, spinach, tastes, bitter, odd, understand, sale, compared, ones, drawer, fridge, know]</td>\n",
       "      <td>[awful, know, sale, like, noodle, spinach, one, taste, bitter, flavor, compare, one, think, taste, like, Spinach, taste, bitter, understand, sale, compare, one, drawer, fridge, know]</td>\n",
       "      <td>not awful but now i know why these were on sale i like these noodles but the spinach ones just taste odd they have a bitter flavor compared to the other ones i do n't think it tastes like spinach it just tastes bitter and odd now i understand why...</td>\n",
       "      <td>awful know sale like noodles spinach ones taste odd bitter flavor compared ones think tastes like spinach tastes bitter odd understand sale compared ones drawer fridge know</td>\n",
       "      <td>awful know sale like noodle spinach one taste odd bitter flavor compare one think taste like spinach taste bitter odd understand sale compare one drawer fridge know</td>\n",
       "      <td>Low</td>\n",
       "      <td>0.163</td>\n",
       "      <td>0.736</td>\n",
       "      <td>0.101</td>\n",
       "      <td>-0.7236</td>\n",
       "    </tr>\n",
       "    <tr>\n",
       "      <th>4361</th>\n",
       "      <td>B007JINB0W</td>\n",
       "      <td>A2UELLFLITPMT1</td>\n",
       "      <td>Truly horrific. Like eating dead worms.</td>\n",
       "      <td>Don't even try it.</td>\n",
       "      <td>1</td>\n",
       "      <td>2017</td>\n",
       "      <td>Miracle Noodle Zero Carb, Gluten Free Shirataki Pasta, Spinach Angel Hair, 7-Ounce (Pack of 24)</td>\n",
       "      <td>Miracle Noodle</td>\n",
       "      <td>Grocery &amp; Gourmet Food; Pasta &amp; Noodles; Noodles; Shirataki</td>\n",
       "      <td>Don't even try it.: Truly horrific. Like eating dead worms.</td>\n",
       "      <td>Don't even try it.: Truly horrific. Like eating dead worms.</td>\n",
       "      <td>[do, n't, even, try, it, truly, horrific, like, eating, dead, worms]</td>\n",
       "      <td>[try, truly, horrific, like, eating, dead, worms]</td>\n",
       "      <td>[truly, horrific, like, eat, dead, worm]</td>\n",
       "      <td>do n't even try it truly horrific like eating dead worms</td>\n",
       "      <td>try truly horrific like eating dead worms</td>\n",
       "      <td>try truly horrific like eat dead worm</td>\n",
       "      <td>Low</td>\n",
       "      <td>0.433</td>\n",
       "      <td>0.299</td>\n",
       "      <td>0.269</td>\n",
       "      <td>-0.6486</td>\n",
       "    </tr>\n",
       "    <tr>\n",
       "      <th>4362</th>\n",
       "      <td>B007JINB0W</td>\n",
       "      <td>A178M2AHNWQZB0</td>\n",
       "      <td>We love the rice noodles, and have problems finding them locally. It's nice to have them available via Amazon.\\n\\nIf you follow the directions on the package and rinse them well, there is no odor remaining. We don't bother to dry them out in the ...</td>\n",
       "      <td>As good as all the other Miracle noodle products</td>\n",
       "      <td>5</td>\n",
       "      <td>2017</td>\n",
       "      <td>Miracle Noodle Zero Carb, Gluten Free Shirataki Pasta, Spinach Angel Hair, 7-Ounce (Pack of 24)</td>\n",
       "      <td>Miracle Noodle</td>\n",
       "      <td>Grocery &amp; Gourmet Food; Pasta &amp; Noodles; Noodles; Shirataki</td>\n",
       "      <td>As good as all the other Miracle noodle products: We love the rice noodles, and have problems finding them locally. It's nice to have them available via Amazon.\\n\\nIf you follow the directions on the package and rinse them well, there is no odor ...</td>\n",
       "      <td>As good as all the other Miracle noodle products: We love the rice noodles, and have problems finding them locally. It's nice to have them available via Amazon.\\n\\nIf you follow the directions on the package and rinse them well, there is no odor ...</td>\n",
       "      <td>[as, good, as, all, the, other, miracle, noodle, products, we, love, the, rice, noodles, and, have, problems, finding, them, locally, it, 's, nice, to, have, them, available, via, amazon, if, you, follow, the, directions, on, the, package, and, r...</td>\n",
       "      <td>[good, miracle, noodle, products, love, rice, noodles, problems, finding, locally, nice, available, amazon, follow, directions, package, rinse, odor, remaining, bother, dry, pan, suggested, rice, substitute, stir, fry, asian, dishes, wet]</td>\n",
       "      <td>[good, Miracle, noodle, product, love, rice, noodle, problem, find, locally, nice, available, Amazon, follow, direction, package, rinse, odor, remain, bother, suggest, rice, substitute, stir, asian, dish]</td>\n",
       "      <td>as good as all the other miracle noodle products we love the rice noodles and have problems finding them locally it 's nice to have them available via amazon if you follow the directions on the package and rinse them well there is no odor remaini...</td>\n",
       "      <td>good miracle noodle products love rice noodles problems finding locally nice available amazon follow directions package rinse odor remaining bother dry pan suggested rice substitute stir fry asian dishes wet</td>\n",
       "      <td>good miracle noodle product love rice noodle problem find locally nice available amazon follow direction package rinse odor remain bother dry pan suggest rice substitute stir fry asian dish wet</td>\n",
       "      <td>High</td>\n",
       "      <td>0.054</td>\n",
       "      <td>0.733</td>\n",
       "      <td>0.214</td>\n",
       "      <td>0.9279</td>\n",
       "    </tr>\n",
       "  </tbody>\n",
       "</table>\n",
       "<p>4363 rows × 22 columns</p>\n",
       "</div>"
      ],
      "text/plain": [
       "            asin      reviewerID  \\\n",
       "0     B007JINB0W   A3Y51NV9HU5T2   \n",
       "1     B007JINB0W  A3D7EFSRC6Y9MP   \n",
       "2     B007JINB0W    A4AM5KBP3I2R   \n",
       "3     B007JINB0W  A3GHK4IL78DB7Y   \n",
       "4     B007JINB0W   AH3B94LQOPPY6   \n",
       "...          ...             ...   \n",
       "4358  B007JINB0W   A73IG1ED6S0JR   \n",
       "4359  B007JINB0W  A1XZ2H0MYG54M0   \n",
       "4360  B007JINB0W  A3I2YF0MXB7P0B   \n",
       "4361  B007JINB0W  A2UELLFLITPMT1   \n",
       "4362  B007JINB0W  A178M2AHNWQZB0   \n",
       "\n",
       "                                                                                                                                                                                                                                                     reviewText  \\\n",
       "0                                                                                                                                                                                          Great pasta taste and feel, but the spell in the packaged is SKRONG!   \n",
       "1                                                                                                                                                     The texture just made it a little strange to eat. Otherwise the flavor is okay, very bland so add spices.   \n",
       "2                                                                                                                                                                                       The herb flavor makes the odd texture of shirataki much more palatable.   \n",
       "3     I didn't have a problem at all with a half filled bag or anything that other users said. I was concerned at first but I took a chance and there were no problems.\\nI find the best way to get rid of the initial smell is to boil it will a cube of bo...   \n",
       "4                                                                                                                                                                                                                 They taste like whatever you cook them with.    \n",
       "...                                                                                                                                                                                                                                                         ...   \n",
       "4358                                                                                                                                                                             Product arrived with two of the bags punctured. Also smells really really bad.   \n",
       "4359                                                                                                                                                                                                                                                        Ok.   \n",
       "4360  I like these noodles but the spinach ones just taste odd. They have a bitter flavor compared to the other ones. I don't think it tastes like Spinach, it just tastes bitter and odd. Now I understand why these were on sale compared to the other one...   \n",
       "4361                                                                                                                                                                                                                    Truly horrific. Like eating dead worms.   \n",
       "4362  We love the rice noodles, and have problems finding them locally. It's nice to have them available via Amazon.\\n\\nIf you follow the directions on the package and rinse them well, there is no odor remaining. We don't bother to dry them out in the ...   \n",
       "\n",
       "                                                summary  overall  year  \\\n",
       "0                                            Four Stars        4  2018   \n",
       "1                           Okay but don't like texture        3  2014   \n",
       "2                              Go for the green noodles        5  2018   \n",
       "3                            Its an awesome substitute.        5  2018   \n",
       "4                                            Five Stars        5  2016   \n",
       "...                                                 ...      ...   ...   \n",
       "4358                                 would not recomend        1  2016   \n",
       "4359                                         Five Stars        5  2016   \n",
       "4360  Not awful, but now I know why these were on sale.        2  2013   \n",
       "4361                                 Don't even try it.        1  2017   \n",
       "4362   As good as all the other Miracle noodle products        5  2017   \n",
       "\n",
       "                                                                                                title  \\\n",
       "0     Miracle Noodle Zero Carb, Gluten Free Shirataki Pasta, Spinach Angel Hair, 7-Ounce (Pack of 24)   \n",
       "1     Miracle Noodle Zero Carb, Gluten Free Shirataki Pasta, Spinach Angel Hair, 7-Ounce (Pack of 24)   \n",
       "2     Miracle Noodle Zero Carb, Gluten Free Shirataki Pasta, Spinach Angel Hair, 7-Ounce (Pack of 24)   \n",
       "3     Miracle Noodle Zero Carb, Gluten Free Shirataki Pasta, Spinach Angel Hair, 7-Ounce (Pack of 24)   \n",
       "4     Miracle Noodle Zero Carb, Gluten Free Shirataki Pasta, Spinach Angel Hair, 7-Ounce (Pack of 24)   \n",
       "...                                                                                               ...   \n",
       "4358  Miracle Noodle Zero Carb, Gluten Free Shirataki Pasta, Spinach Angel Hair, 7-Ounce (Pack of 24)   \n",
       "4359  Miracle Noodle Zero Carb, Gluten Free Shirataki Pasta, Spinach Angel Hair, 7-Ounce (Pack of 24)   \n",
       "4360  Miracle Noodle Zero Carb, Gluten Free Shirataki Pasta, Spinach Angel Hair, 7-Ounce (Pack of 24)   \n",
       "4361  Miracle Noodle Zero Carb, Gluten Free Shirataki Pasta, Spinach Angel Hair, 7-Ounce (Pack of 24)   \n",
       "4362  Miracle Noodle Zero Carb, Gluten Free Shirataki Pasta, Spinach Angel Hair, 7-Ounce (Pack of 24)   \n",
       "\n",
       "               brand  \\\n",
       "0     Miracle Noodle   \n",
       "1     Miracle Noodle   \n",
       "2     Miracle Noodle   \n",
       "3     Miracle Noodle   \n",
       "4     Miracle Noodle   \n",
       "...              ...   \n",
       "4358  Miracle Noodle   \n",
       "4359  Miracle Noodle   \n",
       "4360  Miracle Noodle   \n",
       "4361  Miracle Noodle   \n",
       "4362  Miracle Noodle   \n",
       "\n",
       "                                                         category  \\\n",
       "0     Grocery & Gourmet Food; Pasta & Noodles; Noodles; Shirataki   \n",
       "1     Grocery & Gourmet Food; Pasta & Noodles; Noodles; Shirataki   \n",
       "2     Grocery & Gourmet Food; Pasta & Noodles; Noodles; Shirataki   \n",
       "3     Grocery & Gourmet Food; Pasta & Noodles; Noodles; Shirataki   \n",
       "4     Grocery & Gourmet Food; Pasta & Noodles; Noodles; Shirataki   \n",
       "...                                                           ...   \n",
       "4358  Grocery & Gourmet Food; Pasta & Noodles; Noodles; Shirataki   \n",
       "4359  Grocery & Gourmet Food; Pasta & Noodles; Noodles; Shirataki   \n",
       "4360  Grocery & Gourmet Food; Pasta & Noodles; Noodles; Shirataki   \n",
       "4361  Grocery & Gourmet Food; Pasta & Noodles; Noodles; Shirataki   \n",
       "4362  Grocery & Gourmet Food; Pasta & Noodles; Noodles; Shirataki   \n",
       "\n",
       "                                                                                                                                                                                                                                               review-text-full  \\\n",
       "0                                                                                                                                                                              Four Stars: Great pasta taste and feel, but the spell in the packaged is SKRONG!   \n",
       "1                                                                                                                        Okay but don't like texture: The texture just made it a little strange to eat. Otherwise the flavor is okay, very bland so add spices.   \n",
       "2                                                                                                                                                             Go for the green noodles: The herb flavor makes the odd texture of shirataki much more palatable.   \n",
       "3     Its an awesome substitute.: I didn't have a problem at all with a half filled bag or anything that other users said. I was concerned at first but I took a chance and there were no problems.\\nI find the best way to get rid of the initial smell is ...   \n",
       "4                                                                                                                                                                                                     Five Stars: They taste like whatever you cook them with.    \n",
       "...                                                                                                                                                                                                                                                         ...   \n",
       "4358                                                                                                                                                         would not recomend: Product arrived with two of the bags punctured. Also smells really really bad.   \n",
       "4359                                                                                                                                                                                                                                            Five Stars: Ok.   \n",
       "4360  Not awful, but now I know why these were on sale.: I like these noodles but the spinach ones just taste odd. They have a bitter flavor compared to the other ones. I don't think it tastes like Spinach, it just tastes bitter and odd. Now I understa...   \n",
       "4361                                                                                                                                                                                                Don't even try it.: Truly horrific. Like eating dead worms.   \n",
       "4362  As good as all the other Miracle noodle products: We love the rice noodles, and have problems finding them locally. It's nice to have them available via Amazon.\\n\\nIf you follow the directions on the package and rinse them well, there is no odor ...   \n",
       "\n",
       "                                                                                                                                                                                                                                           review-text-full_raw  \\\n",
       "0                                                                                                                                                                              Four Stars: Great pasta taste and feel, but the spell in the packaged is SKRONG!   \n",
       "1                                                                                                                        Okay but don't like texture: The texture just made it a little strange to eat. Otherwise the flavor is okay, very bland so add spices.   \n",
       "2                                                                                                                                                             Go for the green noodles: The herb flavor makes the odd texture of shirataki much more palatable.   \n",
       "3     Its an awesome substitute.: I didn't have a problem at all with a half filled bag or anything that other users said. I was concerned at first but I took a chance and there were no problems.\\nI find the best way to get rid of the initial smell is ...   \n",
       "4                                                                                                                                                                                                     Five Stars: They taste like whatever you cook them with.    \n",
       "...                                                                                                                                                                                                                                                         ...   \n",
       "4358                                                                                                                                                         would not recomend: Product arrived with two of the bags punctured. Also smells really really bad.   \n",
       "4359                                                                                                                                                                                                                                            Five Stars: Ok.   \n",
       "4360  Not awful, but now I know why these were on sale.: I like these noodles but the spinach ones just taste odd. They have a bitter flavor compared to the other ones. I don't think it tastes like Spinach, it just tastes bitter and odd. Now I understa...   \n",
       "4361                                                                                                                                                                                                Don't even try it.: Truly horrific. Like eating dead worms.   \n",
       "4362  As good as all the other Miracle noodle products: We love the rice noodles, and have problems finding them locally. It's nice to have them available via Amazon.\\n\\nIf you follow the directions on the package and rinse them well, there is no odor ...   \n",
       "\n",
       "                                                                                                                                                                                                                                                   tokens-dirty  \\\n",
       "0                                                                                                                                                                 [four, stars, great, pasta, taste, and, feel, but, the, spell, in, the, packaged, is, skrong]   \n",
       "1                                                                                                [okay, but, do, n't, like, texture, the, texture, just, made, it, a, little, strange, to, eat, otherwise, the, flavor, is, okay, very, bland, so, add, spices]   \n",
       "2                                                                                                                                             [go, for, the, green, noodles, the, herb, flavor, makes, the, odd, texture, of, shirataki, much, more, palatable]   \n",
       "3     [its, an, awesome, substitute, i, did, n't, have, a, problem, at, all, with, a, half, filled, bag, or, anything, that, other, users, said, i, was, concerned, at, first, but, i, took, a, chance, and, there, were, no, problems, i, find, the, best, ...   \n",
       "4                                                                                                                                                                                             [five, stars, they, taste, like, whatever, you, cook, them, with]   \n",
       "...                                                                                                                                                                                                                                                         ...   \n",
       "4358                                                                                                                                           [would, not, recomend, product, arrived, with, two, of, the, bags, punctured, also, smells, really, really, bad]   \n",
       "4359                                                                                                                                                                                                                                          [five, stars, ok]   \n",
       "4360  [not, awful, but, now, i, know, why, these, were, on, sale, i, like, these, noodles, but, the, spinach, ones, just, taste, odd, they, have, a, bitter, flavor, compared, to, the, other, ones, i, do, n't, think, it, tastes, like, spinach, it, just,...   \n",
       "4361                                                                                                                                                                                       [do, n't, even, try, it, truly, horrific, like, eating, dead, worms]   \n",
       "4362  [as, good, as, all, the, other, miracle, noodle, products, we, love, the, rice, noodles, and, have, problems, finding, them, locally, it, 's, nice, to, have, them, available, via, amazon, if, you, follow, the, directions, on, the, package, and, r...   \n",
       "\n",
       "                                                                                                                                                                                                                                              tokens  \\\n",
       "0                                                                                                                                                                                        [stars, great, pasta, taste, feel, spell, packaged, skrong]   \n",
       "1                                                                                                                                                             [okay, like, texture, texture, little, strange, eat, flavor, okay, bland, add, spices]   \n",
       "2                                                                                                                                                                          [green, noodles, herb, flavor, makes, odd, texture, shirataki, palatable]   \n",
       "3                               [awesome, substitute, problem, half, filled, bag, users, said, concerned, took, chance, problems, find, best, way, rid, initial, smell, boil, cube, bouillon, texture, good, notice, replace, noodle, eat, nt, mind]   \n",
       "4                                                                                                                                                                                                                         [stars, taste, like, cook]   \n",
       "...                                                                                                                                                                                                                                              ...   \n",
       "4358                                                                                                                                                                                      [recomend, product, arrived, bags, punctured, smells, bad]   \n",
       "4359                                                                                                                                                                                                                                     [stars, ok]   \n",
       "4360                                        [awful, know, sale, like, noodles, spinach, ones, taste, odd, bitter, flavor, compared, ones, think, tastes, like, spinach, tastes, bitter, odd, understand, sale, compared, ones, drawer, fridge, know]   \n",
       "4361                                                                                                                                                                                               [try, truly, horrific, like, eating, dead, worms]   \n",
       "4362  [good, miracle, noodle, products, love, rice, noodles, problems, finding, locally, nice, available, amazon, follow, directions, package, rinse, odor, remaining, bother, dry, pan, suggested, rice, substitute, stir, fry, asian, dishes, wet]   \n",
       "\n",
       "                                                                                                                                                                                                            lemmas  \\\n",
       "0                                                                                                                                                        [star, great, pasta, taste, feel, spell, package, SKRONG]   \n",
       "1                                                                                                                                      [okay, like, texture, texture, little, strange, flavor, okay, bland, spice]   \n",
       "2                                                                                                                                               [green, noodle, herb, flavor, make, texture, shirataki, palatable]   \n",
       "3                            [awesome, substitute, problem, half, fill, user, say, concern, take, chance, problem, find, good, initial, smell, boil, cube, bouillon, texture, good, notice, replace, noodle, mind]   \n",
       "4                                                                                                                                                                                        [star, taste, like, cook]   \n",
       "...                                                                                                                                                                                                            ...   \n",
       "4358                                                                                                                                                             [recomend, product, arrive, bag, puncture, smell]   \n",
       "4359                                                                                                                                                                                                        [star]   \n",
       "4360                        [awful, know, sale, like, noodle, spinach, one, taste, bitter, flavor, compare, one, think, taste, like, Spinach, taste, bitter, understand, sale, compare, one, drawer, fridge, know]   \n",
       "4361                                                                                                                                                                      [truly, horrific, like, eat, dead, worm]   \n",
       "4362  [good, Miracle, noodle, product, love, rice, noodle, problem, find, locally, nice, available, Amazon, follow, direction, package, rinse, odor, remain, bother, suggest, rice, substitute, stir, asian, dish]   \n",
       "\n",
       "                                                                                                                                                                                                                                            tokens-dirty-joined  \\\n",
       "0                                                                                                                                                                                 four stars great pasta taste and feel but the spell in the packaged is skrong   \n",
       "1                                                                                                                           okay but do n't like texture the texture just made it a little strange to eat otherwise the flavor is okay very bland so add spices   \n",
       "2                                                                                                                                                               go for the green noodles the herb flavor makes the odd texture of shirataki much more palatable   \n",
       "3     its an awesome substitute i did n't have a problem at all with a half filled bag or anything that other users said i was concerned at first but i took a chance and there were no problems i find the best way to get rid of the initial smell is to b...   \n",
       "4                                                                                                                                                                                                        five stars they taste like whatever you cook them with   \n",
       "...                                                                                                                                                                                                                                                         ...   \n",
       "4358                                                                                                                                                            would not recomend product arrived with two of the bags punctured also smells really really bad   \n",
       "4359                                                                                                                                                                                                                                              five stars ok   \n",
       "4360  not awful but now i know why these were on sale i like these noodles but the spinach ones just taste odd they have a bitter flavor compared to the other ones i do n't think it tastes like spinach it just tastes bitter and odd now i understand why...   \n",
       "4361                                                                                                                                                                                                   do n't even try it truly horrific like eating dead worms   \n",
       "4362  as good as all the other miracle noodle products we love the rice noodles and have problems finding them locally it 's nice to have them available via amazon if you follow the directions on the package and rinse them well there is no odor remaini...   \n",
       "\n",
       "                                                                                                                                                                                                        tokens-joined  \\\n",
       "0                                                                                                                                                                  stars great pasta taste feel spell packaged skrong   \n",
       "1                                                                                                                                           okay like texture texture little strange eat flavor okay bland add spices   \n",
       "2                                                                                                                                                     green noodles herb flavor makes odd texture shirataki palatable   \n",
       "3                              awesome substitute problem half filled bag users said concerned took chance problems find best way rid initial smell boil cube bouillon texture good notice replace noodle eat nt mind   \n",
       "4                                                                                                                                                                                               stars taste like cook   \n",
       "...                                                                                                                                                                                                               ...   \n",
       "4358                                                                                                                                                               recomend product arrived bags punctured smells bad   \n",
       "4359                                                                                                                                                                                                         stars ok   \n",
       "4360                                     awful know sale like noodles spinach ones taste odd bitter flavor compared ones think tastes like spinach tastes bitter odd understand sale compared ones drawer fridge know   \n",
       "4361                                                                                                                                                                        try truly horrific like eating dead worms   \n",
       "4362  good miracle noodle products love rice noodles problems finding locally nice available amazon follow directions package rinse odor remaining bother dry pan suggested rice substitute stir fry asian dishes wet   \n",
       "\n",
       "                                                                                                                                                                                          lemmas-joined  \\\n",
       "0                                                                                                                                                      star great pasta taste feel spell package skrong   \n",
       "1                                                                                                                              okay like texture texture little strange eat flavor okay bland add spice   \n",
       "2                                                                                                                                         green noodle herb flavor make odd texture shirataki palatable   \n",
       "3                      awesome substitute problem half fill bag user say concern take chance problem find good way rid initial smell boil cube bouillon texture good notice replace noodle eat not mind   \n",
       "4                                                                                                                                                                                  star taste like cook   \n",
       "...                                                                                                                                                                                                 ...   \n",
       "4358                                                                                                                                                     recomend product arrive bag puncture smell bad   \n",
       "4359                                                                                                                                                                                            star ok   \n",
       "4360                               awful know sale like noodle spinach one taste odd bitter flavor compare one think taste like spinach taste bitter odd understand sale compare one drawer fridge know   \n",
       "4361                                                                                                                                                              try truly horrific like eat dead worm   \n",
       "4362  good miracle noodle product love rice noodle problem find locally nice available amazon follow direction package rinse odor remain bother dry pan suggest rice substitute stir fry asian dish wet   \n",
       "\n",
       "     target-rating    neg    neu    pos  compound  \n",
       "0             None  0.000  0.831  0.169    0.4295  \n",
       "1             None  0.157  0.709  0.135   -0.1594  \n",
       "2             High  0.114  0.743  0.143    0.1513  \n",
       "3             High  0.072  0.735  0.193    0.8936  \n",
       "4             High  0.000  0.783  0.217    0.3612  \n",
       "...            ...    ...    ...    ...       ...  \n",
       "4358           Low  0.213  0.787  0.000   -0.6214  \n",
       "4359          High  0.000  0.476  0.524    0.2960  \n",
       "4360           Low  0.163  0.736  0.101   -0.7236  \n",
       "4361           Low  0.433  0.299  0.269   -0.6486  \n",
       "4362          High  0.054  0.733  0.214    0.9279  \n",
       "\n",
       "[4363 rows x 22 columns]"
      ]
     },
     "execution_count": 66,
     "metadata": {},
     "output_type": "execute_result"
    }
   ],
   "source": [
    "df['sentiment_scores'] = df['review-text-full'].map(sia.polarity_scores)\n",
    "# Convert the column of dictionaries into separate columns\n",
    "vader_scores = df['sentiment_scores'].apply(pd.Series)\n",
    "# Join the new DataFrame with the original DataFrame\n",
    "df_sentiment = pd.concat([df, vader_scores], axis=1).drop('sentiment_scores', axis=1)\n",
    "df_sentiment"
   ]
  },
  {
   "cell_type": "code",
   "execution_count": 67,
   "id": "2432069b-69a0-4153-962a-28a7dae78d12",
   "metadata": {
    "execution": {
     "iopub.execute_input": "2024-02-13T01:39:17.169840Z",
     "iopub.status.busy": "2024-02-13T01:39:17.169728Z",
     "iopub.status.idle": "2024-02-13T01:39:17.172625Z",
     "shell.execute_reply": "2024-02-13T01:39:17.172287Z",
     "shell.execute_reply.started": "2024-02-13T01:39:17.169829Z"
    }
   },
   "outputs": [
    {
     "data": {
      "text/plain": [
       "3023"
      ]
     },
     "execution_count": 67,
     "metadata": {},
     "output_type": "execute_result"
    }
   ],
   "source": [
    "# Define filter for positive reviews\n",
    "pos_sentiment_reviews = df_sentiment['compound'] > 0\n",
    "pos_sentiment_reviews.sum()"
   ]
  },
  {
   "cell_type": "markdown",
   "id": "3c3e55d4",
   "metadata": {},
   "source": [
    "### Sentiment Scores vs. Overall Rating"
   ]
  },
  {
   "cell_type": "code",
   "execution_count": 68,
   "id": "6ae76e5c",
   "metadata": {},
   "outputs": [
    {
     "data": {
      "image/png": "[encoded data removed]",
      "text/plain": [
       "<Figure size 1200x500 with 2 Axes>"
      ]
     },
     "metadata": {},
     "output_type": "display_data"
    }
   ],
   "source": [
    "fig, axes = plt.subplots(ncols=2, figsize=(12, 5))\n",
    "sns.barplot(data=df_sentiment, x='overall', y='compound', hue='overall', palette=palette_tab10,ax=axes[0], \n",
    "              legend=False)\n",
    "sns.stripplot(data=df_sentiment, x='overall', y='compound', hue='overall', palette=palette_tab10,ax=axes[0], \n",
    "              legend=False,alpha=0.3, edgecolor='white', linewidth=1, size=3)\n",
    "axes[0].set_title(\"Sentiment Scores by Rating\")\n",
    "axes[0].axhline(0, color='black', linestyle='--')\n",
    "sns.boxplot(data=df_sentiment, x='overall', y='compound', hue='overall', palette=palette_tab10, ax=axes[1], legend=False)\n",
    "fig.tight_layout()"
   ]
  },
  {
   "cell_type": "markdown",
   "id": "0f8ebcb8-bc05-4998-aac4-492d07572a64",
   "metadata": {
    "execution": {
     "iopub.execute_input": "2024-02-13T01:39:17.173247Z",
     "iopub.status.busy": "2024-02-13T01:39:17.173145Z",
     "iopub.status.idle": "2024-02-13T01:39:17.187332Z",
     "shell.execute_reply": "2024-02-13T01:39:17.186885Z",
     "shell.execute_reply.started": "2024-02-13T01:39:17.173238Z"
    }
   },
   "source": [
    "### Correlations"
   ]
  },
  {
   "cell_type": "code",
   "execution_count": 69,
   "id": "b9ee3088",
   "metadata": {},
   "outputs": [
    {
     "data": {
      "text/plain": [
       "<Axes: >"
      ]
     },
     "execution_count": 69,
     "metadata": {},
     "output_type": "execute_result"
    },
    {
     "data": {
      "image/png": "[encoded data removed]",
      "text/plain": [
       "<Figure size 640x480 with 2 Axes>"
      ]
     },
     "metadata": {},
     "output_type": "display_data"
    }
   ],
   "source": [
    "sentment_cols = ['compound','pos','neg','neu']\n",
    "sns.heatmap(df_sentiment[['overall',*sentment_cols]].corr(), cmap='coolwarm', annot=True, fmt=\".2f\")"
   ]
  },
  {
   "cell_type": "code",
   "execution_count": 70,
   "id": "96932cb0",
   "metadata": {},
   "outputs": [
    {
     "data": {
      "text/plain": [
       "<Axes: >"
      ]
     },
     "execution_count": 70,
     "metadata": {},
     "output_type": "execute_result"
    },
    {
     "data": {
      "image/png": "[encoded data removed]",
      "text/plain": [
       "<Figure size 640x480 with 2 Axes>"
      ]
     },
     "metadata": {},
     "output_type": "display_data"
    }
   ],
   "source": [
    "sns.heatmap(df_sentiment[sentment_cols].corrwith(df_sentiment['overall']).to_frame('Correlation with Ratings'),\n",
    "            cmap='coolwarm', annot=True, fmt=\".2f\")"
   ]
  },
  {
   "cell_type": "markdown",
   "id": "ad73864f-8029-4059-936b-06702230dade",
   "metadata": {
    "execution": {
     "iopub.execute_input": "2024-02-09T02:07:16.377015Z",
     "iopub.status.busy": "2024-02-09T02:07:16.376619Z",
     "iopub.status.idle": "2024-02-09T02:07:16.386037Z",
     "shell.execute_reply": "2024-02-09T02:07:16.384163Z",
     "shell.execute_reply.started": "2024-02-09T02:07:16.376990Z"
    }
   },
   "source": [
    "> To Do: Add Plotting Sentiment Scores"
   ]
  },
  {
   "cell_type": "code",
   "execution_count": 71,
   "id": "a2d3f119",
   "metadata": {},
   "outputs": [
    {
     "data": {
      "text/html": [
       "<div>\n",
       "<style scoped>\n",
       "    .dataframe tbody tr th:only-of-type {\n",
       "        vertical-align: middle;\n",
       "    }\n",
       "\n",
       "    .dataframe tbody tr th {\n",
       "        vertical-align: top;\n",
       "    }\n",
       "\n",
       "    .dataframe thead th {\n",
       "        text-align: right;\n",
       "    }\n",
       "</style>\n",
       "<table border=\"1\" class=\"dataframe\">\n",
       "  <thead>\n",
       "    <tr style=\"text-align: right;\">\n",
       "      <th></th>\n",
       "      <th>overall</th>\n",
       "      <th>compound</th>\n",
       "      <th>pos</th>\n",
       "      <th>neg</th>\n",
       "      <th>neu</th>\n",
       "    </tr>\n",
       "  </thead>\n",
       "  <tbody>\n",
       "    <tr>\n",
       "      <th>0</th>\n",
       "      <td>1</td>\n",
       "      <td>-0.205241</td>\n",
       "      <td>0.089313</td>\n",
       "      <td>0.197630</td>\n",
       "      <td>0.713057</td>\n",
       "    </tr>\n",
       "    <tr>\n",
       "      <th>1</th>\n",
       "      <td>2</td>\n",
       "      <td>0.034408</td>\n",
       "      <td>0.102199</td>\n",
       "      <td>0.123450</td>\n",
       "      <td>0.774368</td>\n",
       "    </tr>\n",
       "    <tr>\n",
       "      <th>2</th>\n",
       "      <td>3</td>\n",
       "      <td>0.260086</td>\n",
       "      <td>0.143318</td>\n",
       "      <td>0.086166</td>\n",
       "      <td>0.770501</td>\n",
       "    </tr>\n",
       "    <tr>\n",
       "      <th>3</th>\n",
       "      <td>4</td>\n",
       "      <td>0.602504</td>\n",
       "      <td>0.216955</td>\n",
       "      <td>0.054904</td>\n",
       "      <td>0.728124</td>\n",
       "    </tr>\n",
       "    <tr>\n",
       "      <th>4</th>\n",
       "      <td>5</td>\n",
       "      <td>0.715685</td>\n",
       "      <td>0.287794</td>\n",
       "      <td>0.041411</td>\n",
       "      <td>0.670793</td>\n",
       "    </tr>\n",
       "  </tbody>\n",
       "</table>\n",
       "</div>"
      ],
      "text/plain": [
       "   overall  compound       pos       neg       neu\n",
       "0        1 -0.205241  0.089313  0.197630  0.713057\n",
       "1        2  0.034408  0.102199  0.123450  0.774368\n",
       "2        3  0.260086  0.143318  0.086166  0.770501\n",
       "3        4  0.602504  0.216955  0.054904  0.728124\n",
       "4        5  0.715685  0.287794  0.041411  0.670793"
      ]
     },
     "execution_count": 71,
     "metadata": {},
     "output_type": "execute_result"
    }
   ],
   "source": [
    "plot_df = df_sentiment.groupby('overall')[sentment_cols].mean().reset_index()\n",
    "plot_df"
   ]
  },
  {
   "cell_type": "code",
   "execution_count": 72,
   "id": "8fc9d458-b8ca-400f-8bcb-a9131e6ed885",
   "metadata": {
    "execution": {
     "iopub.execute_input": "2024-02-13T01:39:17.188192Z",
     "iopub.status.busy": "2024-02-13T01:39:17.188004Z",
     "iopub.status.idle": "2024-02-13T01:39:17.977680Z",
     "shell.execute_reply": "2024-02-13T01:39:17.977136Z",
     "shell.execute_reply.started": "2024-02-13T01:39:17.188181Z"
    }
   },
   "outputs": [],
   "source": [
    "# raise Exception(\"stop here\")"
   ]
  },
  {
   "cell_type": "markdown",
   "id": "3d705254-9b2f-4e44-b42c-f50d67b0371a",
   "metadata": {},
   "source": [
    "## Sentiment - HuggingFace Pipelines"
   ]
  },
  {
   "cell_type": "code",
   "execution_count": 73,
   "id": "d3855479",
   "metadata": {},
   "outputs": [],
   "source": [
    "# !pip install transformers"
   ]
  },
  {
   "cell_type": "code",
   "execution_count": 74,
   "id": "211e68fd",
   "metadata": {},
   "outputs": [],
   "source": [
    "# # conda install tensorflow-mac tensorflow-metal\n",
    "# !pip install tensorflow-macos#\"<=2.13.1\"\n",
    "# !pip install tensorflow-metal"
   ]
  },
  {
   "cell_type": "code",
   "execution_count": 75,
   "id": "37236a6d",
   "metadata": {},
   "outputs": [],
   "source": [
    "import tensorflow as tf"
   ]
  },
  {
   "cell_type": "code",
   "execution_count": 77,
   "id": "0eedc8f7",
   "metadata": {},
   "outputs": [],
   "source": [
    "# dir(google)"
   ]
  },
  {
   "cell_type": "code",
   "execution_count": 78,
   "id": "f26b61ab",
   "metadata": {},
   "outputs": [],
   "source": [
    "# !pip install tensorflow-macos\n",
    "# !pip install tensorflow-metal\n",
    "# !pip install -U protobuf #==3.19.4\n",
    "# # !pip install tf-keras"
   ]
  },
  {
   "cell_type": "code",
   "execution_count": 79,
   "id": "0402ea59",
   "metadata": {},
   "outputs": [],
   "source": [
    "# !pip install -U torch torchvision torchaudio\n",
    "# !pip install transformers"
   ]
  },
  {
   "cell_type": "code",
   "execution_count": 80,
   "id": "998be1cc",
   "metadata": {},
   "outputs": [],
   "source": [
    "import tensorflow as tf\n"
   ]
  },
  {
   "cell_type": "code",
   "execution_count": 81,
   "id": "57295c48-e11b-442d-9d2d-53a29a1676e4",
   "metadata": {
    "execution": {
     "iopub.status.busy": "2024-02-13T01:39:17.977954Z",
     "iopub.status.idle": "2024-02-13T01:39:17.978088Z",
     "shell.execute_reply": "2024-02-13T01:39:17.978022Z",
     "shell.execute_reply.started": "2024-02-13T01:39:17.978016Z"
    }
   },
   "outputs": [
    {
     "ename": "RuntimeError",
     "evalue": "Failed to import transformers.models.distilbert.modeling_tf_distilbert because of the following error (look up to see its traceback):\nYour currently installed version of Keras is Keras 3, but this is not yet supported in Transformers. Please install the backwards-compatible tf-keras package with `pip install tf-keras`.",
     "output_type": "error",
     "traceback": [
      "\u001b[0;31m---------------------------------------------------------------------------\u001b[0m",
      "\u001b[0;31mModuleNotFoundError\u001b[0m                       Traceback (most recent call last)",
      "File \u001b[0;32m/opt/homebrew/Caskroom/miniforge/base/envs/nlp-env/lib/python3.10/site-packages/transformers/activations_tf.py:22\u001b[0m\n\u001b[1;32m     21\u001b[0m \u001b[38;5;28;01mtry\u001b[39;00m:\n\u001b[0;32m---> 22\u001b[0m     \u001b[38;5;28;01mimport\u001b[39;00m \u001b[38;5;21;01mtf_keras\u001b[39;00m \u001b[38;5;28;01mas\u001b[39;00m \u001b[38;5;21;01mkeras\u001b[39;00m\n\u001b[1;32m     23\u001b[0m \u001b[38;5;28;01mexcept\u001b[39;00m (\u001b[38;5;167;01mModuleNotFoundError\u001b[39;00m, \u001b[38;5;167;01mImportError\u001b[39;00m):\n",
      "\u001b[0;31mModuleNotFoundError\u001b[0m: No module named 'tf_keras'",
      "\nDuring handling of the above exception, another exception occurred:\n",
      "\u001b[0;31mValueError\u001b[0m                                Traceback (most recent call last)",
      "File \u001b[0;32m/opt/homebrew/Caskroom/miniforge/base/envs/nlp-env/lib/python3.10/site-packages/transformers/utils/import_utils.py:1535\u001b[0m, in \u001b[0;36m_LazyModule._get_module\u001b[0;34m(self, module_name)\u001b[0m\n\u001b[1;32m   1534\u001b[0m \u001b[38;5;28;01mtry\u001b[39;00m:\n\u001b[0;32m-> 1535\u001b[0m     \u001b[38;5;28;01mreturn\u001b[39;00m \u001b[43mimportlib\u001b[49m\u001b[38;5;241;43m.\u001b[39;49m\u001b[43mimport_module\u001b[49m\u001b[43m(\u001b[49m\u001b[38;5;124;43m\"\u001b[39;49m\u001b[38;5;124;43m.\u001b[39;49m\u001b[38;5;124;43m\"\u001b[39;49m\u001b[43m \u001b[49m\u001b[38;5;241;43m+\u001b[39;49m\u001b[43m \u001b[49m\u001b[43mmodule_name\u001b[49m\u001b[43m,\u001b[49m\u001b[43m \u001b[49m\u001b[38;5;28;43mself\u001b[39;49m\u001b[38;5;241;43m.\u001b[39;49m\u001b[38;5;18;43m__name__\u001b[39;49m\u001b[43m)\u001b[49m\n\u001b[1;32m   1536\u001b[0m \u001b[38;5;28;01mexcept\u001b[39;00m \u001b[38;5;167;01mException\u001b[39;00m \u001b[38;5;28;01mas\u001b[39;00m e:\n",
      "File \u001b[0;32m/opt/homebrew/Caskroom/miniforge/base/envs/nlp-env/lib/python3.10/importlib/__init__.py:126\u001b[0m, in \u001b[0;36mimport_module\u001b[0;34m(name, package)\u001b[0m\n\u001b[1;32m    125\u001b[0m         level \u001b[38;5;241m+\u001b[39m\u001b[38;5;241m=\u001b[39m \u001b[38;5;241m1\u001b[39m\n\u001b[0;32m--> 126\u001b[0m \u001b[38;5;28;01mreturn\u001b[39;00m \u001b[43m_bootstrap\u001b[49m\u001b[38;5;241;43m.\u001b[39;49m\u001b[43m_gcd_import\u001b[49m\u001b[43m(\u001b[49m\u001b[43mname\u001b[49m\u001b[43m[\u001b[49m\u001b[43mlevel\u001b[49m\u001b[43m:\u001b[49m\u001b[43m]\u001b[49m\u001b[43m,\u001b[49m\u001b[43m \u001b[49m\u001b[43mpackage\u001b[49m\u001b[43m,\u001b[49m\u001b[43m \u001b[49m\u001b[43mlevel\u001b[49m\u001b[43m)\u001b[49m\n",
      "File \u001b[0;32m<frozen importlib._bootstrap>:1050\u001b[0m, in \u001b[0;36m_gcd_import\u001b[0;34m(name, package, level)\u001b[0m\n",
      "File \u001b[0;32m<frozen importlib._bootstrap>:1027\u001b[0m, in \u001b[0;36m_find_and_load\u001b[0;34m(name, import_)\u001b[0m\n",
      "File \u001b[0;32m<frozen importlib._bootstrap>:1006\u001b[0m, in \u001b[0;36m_find_and_load_unlocked\u001b[0;34m(name, import_)\u001b[0m\n",
      "File \u001b[0;32m<frozen importlib._bootstrap>:688\u001b[0m, in \u001b[0;36m_load_unlocked\u001b[0;34m(spec)\u001b[0m\n",
      "File \u001b[0;32m<frozen importlib._bootstrap_external>:883\u001b[0m, in \u001b[0;36mexec_module\u001b[0;34m(self, module)\u001b[0m\n",
      "File \u001b[0;32m<frozen importlib._bootstrap>:241\u001b[0m, in \u001b[0;36m_call_with_frames_removed\u001b[0;34m(f, *args, **kwds)\u001b[0m\n",
      "File \u001b[0;32m/opt/homebrew/Caskroom/miniforge/base/envs/nlp-env/lib/python3.10/site-packages/transformers/models/distilbert/modeling_tf_distilbert.py:28\u001b[0m\n\u001b[1;32m     26\u001b[0m \u001b[38;5;28;01mimport\u001b[39;00m \u001b[38;5;21;01mtensorflow\u001b[39;00m \u001b[38;5;28;01mas\u001b[39;00m \u001b[38;5;21;01mtf\u001b[39;00m\n\u001b[0;32m---> 28\u001b[0m \u001b[38;5;28;01mfrom\u001b[39;00m \u001b[38;5;21;01m.\u001b[39;00m\u001b[38;5;21;01m.\u001b[39;00m\u001b[38;5;21;01m.\u001b[39;00m\u001b[38;5;21;01mactivations_tf\u001b[39;00m \u001b[38;5;28;01mimport\u001b[39;00m get_tf_activation\n\u001b[1;32m     29\u001b[0m \u001b[38;5;28;01mfrom\u001b[39;00m \u001b[38;5;21;01m.\u001b[39;00m\u001b[38;5;21;01m.\u001b[39;00m\u001b[38;5;21;01m.\u001b[39;00m\u001b[38;5;21;01mmodeling_tf_outputs\u001b[39;00m \u001b[38;5;28;01mimport\u001b[39;00m (\n\u001b[1;32m     30\u001b[0m     TFBaseModelOutput,\n\u001b[1;32m     31\u001b[0m     TFMaskedLMOutput,\n\u001b[0;32m   (...)\u001b[0m\n\u001b[1;32m     35\u001b[0m     TFTokenClassifierOutput,\n\u001b[1;32m     36\u001b[0m )\n",
      "File \u001b[0;32m/opt/homebrew/Caskroom/miniforge/base/envs/nlp-env/lib/python3.10/site-packages/transformers/activations_tf.py:27\u001b[0m\n\u001b[1;32m     26\u001b[0m     \u001b[38;5;28;01mif\u001b[39;00m parse(keras\u001b[38;5;241m.\u001b[39m__version__)\u001b[38;5;241m.\u001b[39mmajor \u001b[38;5;241m>\u001b[39m \u001b[38;5;241m2\u001b[39m:\n\u001b[0;32m---> 27\u001b[0m         \u001b[38;5;28;01mraise\u001b[39;00m \u001b[38;5;167;01mValueError\u001b[39;00m(\n\u001b[1;32m     28\u001b[0m             \u001b[38;5;124m\"\u001b[39m\u001b[38;5;124mYour currently installed version of Keras is Keras 3, but this is not yet supported in \u001b[39m\u001b[38;5;124m\"\u001b[39m\n\u001b[1;32m     29\u001b[0m             \u001b[38;5;124m\"\u001b[39m\u001b[38;5;124mTransformers. Please install the backwards-compatible tf-keras package with \u001b[39m\u001b[38;5;124m\"\u001b[39m\n\u001b[1;32m     30\u001b[0m             \u001b[38;5;124m\"\u001b[39m\u001b[38;5;124m`pip install tf-keras`.\u001b[39m\u001b[38;5;124m\"\u001b[39m\n\u001b[1;32m     31\u001b[0m         )\n\u001b[1;32m     34\u001b[0m \u001b[38;5;28;01mdef\u001b[39;00m \u001b[38;5;21m_gelu\u001b[39m(x):\n",
      "\u001b[0;31mValueError\u001b[0m: Your currently installed version of Keras is Keras 3, but this is not yet supported in Transformers. Please install the backwards-compatible tf-keras package with `pip install tf-keras`.",
      "\nThe above exception was the direct cause of the following exception:\n",
      "\u001b[0;31mRuntimeError\u001b[0m                              Traceback (most recent call last)",
      "Cell \u001b[0;32mIn[81], line 3\u001b[0m\n\u001b[1;32m      1\u001b[0m \u001b[38;5;28;01mfrom\u001b[39;00m \u001b[38;5;21;01mtransformers\u001b[39;00m \u001b[38;5;28;01mimport\u001b[39;00m pipeline\n\u001b[1;32m      2\u001b[0m model \u001b[38;5;241m=\u001b[39m \u001b[38;5;124m\"\u001b[39m\u001b[38;5;124mdistilbert-base-uncased-finetuned-sst-2-english\u001b[39m\u001b[38;5;124m\"\u001b[39m\n\u001b[0;32m----> 3\u001b[0m sentiment_analyzer \u001b[38;5;241m=\u001b[39m \u001b[43mpipeline\u001b[49m\u001b[43m(\u001b[49m\u001b[43mtask\u001b[49m\u001b[38;5;241;43m=\u001b[39;49m\u001b[38;5;124;43m\"\u001b[39;49m\u001b[38;5;124;43msentiment-analysis\u001b[39;49m\u001b[38;5;124;43m\"\u001b[39;49m\u001b[43m,\u001b[49m\u001b[43mmodel\u001b[49m\u001b[38;5;241;43m=\u001b[39;49m\u001b[43mmodel\u001b[49m\u001b[43m)\u001b[49m\n",
      "File \u001b[0;32m/opt/homebrew/Caskroom/miniforge/base/envs/nlp-env/lib/python3.10/site-packages/transformers/pipelines/__init__.py:906\u001b[0m, in \u001b[0;36mpipeline\u001b[0;34m(task, model, config, tokenizer, feature_extractor, image_processor, framework, revision, use_fast, token, device, device_map, torch_dtype, trust_remote_code, model_kwargs, pipeline_class, **kwargs)\u001b[0m\n\u001b[1;32m    904\u001b[0m \u001b[38;5;28;01mif\u001b[39;00m \u001b[38;5;28misinstance\u001b[39m(model, \u001b[38;5;28mstr\u001b[39m) \u001b[38;5;129;01mor\u001b[39;00m framework \u001b[38;5;129;01mis\u001b[39;00m \u001b[38;5;28;01mNone\u001b[39;00m:\n\u001b[1;32m    905\u001b[0m     model_classes \u001b[38;5;241m=\u001b[39m {\u001b[38;5;124m\"\u001b[39m\u001b[38;5;124mtf\u001b[39m\u001b[38;5;124m\"\u001b[39m: targeted_task[\u001b[38;5;124m\"\u001b[39m\u001b[38;5;124mtf\u001b[39m\u001b[38;5;124m\"\u001b[39m], \u001b[38;5;124m\"\u001b[39m\u001b[38;5;124mpt\u001b[39m\u001b[38;5;124m\"\u001b[39m: targeted_task[\u001b[38;5;124m\"\u001b[39m\u001b[38;5;124mpt\u001b[39m\u001b[38;5;124m\"\u001b[39m]}\n\u001b[0;32m--> 906\u001b[0m     framework, model \u001b[38;5;241m=\u001b[39m \u001b[43minfer_framework_load_model\u001b[49m\u001b[43m(\u001b[49m\n\u001b[1;32m    907\u001b[0m \u001b[43m        \u001b[49m\u001b[43mmodel\u001b[49m\u001b[43m,\u001b[49m\n\u001b[1;32m    908\u001b[0m \u001b[43m        \u001b[49m\u001b[43mmodel_classes\u001b[49m\u001b[38;5;241;43m=\u001b[39;49m\u001b[43mmodel_classes\u001b[49m\u001b[43m,\u001b[49m\n\u001b[1;32m    909\u001b[0m \u001b[43m        \u001b[49m\u001b[43mconfig\u001b[49m\u001b[38;5;241;43m=\u001b[39;49m\u001b[43mconfig\u001b[49m\u001b[43m,\u001b[49m\n\u001b[1;32m    910\u001b[0m \u001b[43m        \u001b[49m\u001b[43mframework\u001b[49m\u001b[38;5;241;43m=\u001b[39;49m\u001b[43mframework\u001b[49m\u001b[43m,\u001b[49m\n\u001b[1;32m    911\u001b[0m \u001b[43m        \u001b[49m\u001b[43mtask\u001b[49m\u001b[38;5;241;43m=\u001b[39;49m\u001b[43mtask\u001b[49m\u001b[43m,\u001b[49m\n\u001b[1;32m    912\u001b[0m \u001b[43m        \u001b[49m\u001b[38;5;241;43m*\u001b[39;49m\u001b[38;5;241;43m*\u001b[39;49m\u001b[43mhub_kwargs\u001b[49m\u001b[43m,\u001b[49m\n\u001b[1;32m    913\u001b[0m \u001b[43m        \u001b[49m\u001b[38;5;241;43m*\u001b[39;49m\u001b[38;5;241;43m*\u001b[39;49m\u001b[43mmodel_kwargs\u001b[49m\u001b[43m,\u001b[49m\n\u001b[1;32m    914\u001b[0m \u001b[43m    \u001b[49m\u001b[43m)\u001b[49m\n\u001b[1;32m    916\u001b[0m model_config \u001b[38;5;241m=\u001b[39m model\u001b[38;5;241m.\u001b[39mconfig\n\u001b[1;32m    917\u001b[0m hub_kwargs[\u001b[38;5;124m\"\u001b[39m\u001b[38;5;124m_commit_hash\u001b[39m\u001b[38;5;124m\"\u001b[39m] \u001b[38;5;241m=\u001b[39m model\u001b[38;5;241m.\u001b[39mconfig\u001b[38;5;241m.\u001b[39m_commit_hash\n",
      "File \u001b[0;32m/opt/homebrew/Caskroom/miniforge/base/envs/nlp-env/lib/python3.10/site-packages/transformers/pipelines/base.py:258\u001b[0m, in \u001b[0;36minfer_framework_load_model\u001b[0;34m(model, config, model_classes, task, framework, **model_kwargs)\u001b[0m\n\u001b[1;32m    256\u001b[0m         classes\u001b[38;5;241m.\u001b[39mappend(_class)\n\u001b[1;32m    257\u001b[0m \u001b[38;5;28;01mif\u001b[39;00m look_tf:\n\u001b[0;32m--> 258\u001b[0m     _class \u001b[38;5;241m=\u001b[39m \u001b[38;5;28;43mgetattr\u001b[39;49m\u001b[43m(\u001b[49m\u001b[43mtransformers_module\u001b[49m\u001b[43m,\u001b[49m\u001b[43m \u001b[49m\u001b[38;5;124;43mf\u001b[39;49m\u001b[38;5;124;43m\"\u001b[39;49m\u001b[38;5;124;43mTF\u001b[39;49m\u001b[38;5;132;43;01m{\u001b[39;49;00m\u001b[43marchitecture\u001b[49m\u001b[38;5;132;43;01m}\u001b[39;49;00m\u001b[38;5;124;43m\"\u001b[39;49m\u001b[43m,\u001b[49m\u001b[43m \u001b[49m\u001b[38;5;28;43;01mNone\u001b[39;49;00m\u001b[43m)\u001b[49m\n\u001b[1;32m    259\u001b[0m     \u001b[38;5;28;01mif\u001b[39;00m _class \u001b[38;5;129;01mis\u001b[39;00m \u001b[38;5;129;01mnot\u001b[39;00m \u001b[38;5;28;01mNone\u001b[39;00m:\n\u001b[1;32m    260\u001b[0m         classes\u001b[38;5;241m.\u001b[39mappend(_class)\n",
      "File \u001b[0;32m/opt/homebrew/Caskroom/miniforge/base/envs/nlp-env/lib/python3.10/site-packages/transformers/utils/import_utils.py:1526\u001b[0m, in \u001b[0;36m_LazyModule.__getattr__\u001b[0;34m(self, name)\u001b[0m\n\u001b[1;32m   1524\u001b[0m \u001b[38;5;28;01melif\u001b[39;00m name \u001b[38;5;129;01min\u001b[39;00m \u001b[38;5;28mself\u001b[39m\u001b[38;5;241m.\u001b[39m_class_to_module\u001b[38;5;241m.\u001b[39mkeys():\n\u001b[1;32m   1525\u001b[0m     module \u001b[38;5;241m=\u001b[39m \u001b[38;5;28mself\u001b[39m\u001b[38;5;241m.\u001b[39m_get_module(\u001b[38;5;28mself\u001b[39m\u001b[38;5;241m.\u001b[39m_class_to_module[name])\n\u001b[0;32m-> 1526\u001b[0m     value \u001b[38;5;241m=\u001b[39m \u001b[38;5;28;43mgetattr\u001b[39;49m\u001b[43m(\u001b[49m\u001b[43mmodule\u001b[49m\u001b[43m,\u001b[49m\u001b[43m \u001b[49m\u001b[43mname\u001b[49m\u001b[43m)\u001b[49m\n\u001b[1;32m   1527\u001b[0m \u001b[38;5;28;01melse\u001b[39;00m:\n\u001b[1;32m   1528\u001b[0m     \u001b[38;5;28;01mraise\u001b[39;00m \u001b[38;5;167;01mAttributeError\u001b[39;00m(\u001b[38;5;124mf\u001b[39m\u001b[38;5;124m\"\u001b[39m\u001b[38;5;124mmodule \u001b[39m\u001b[38;5;132;01m{\u001b[39;00m\u001b[38;5;28mself\u001b[39m\u001b[38;5;241m.\u001b[39m\u001b[38;5;18m__name__\u001b[39m\u001b[38;5;132;01m}\u001b[39;00m\u001b[38;5;124m has no attribute \u001b[39m\u001b[38;5;132;01m{\u001b[39;00mname\u001b[38;5;132;01m}\u001b[39;00m\u001b[38;5;124m\"\u001b[39m)\n",
      "File \u001b[0;32m/opt/homebrew/Caskroom/miniforge/base/envs/nlp-env/lib/python3.10/site-packages/transformers/utils/import_utils.py:1525\u001b[0m, in \u001b[0;36m_LazyModule.__getattr__\u001b[0;34m(self, name)\u001b[0m\n\u001b[1;32m   1523\u001b[0m     value \u001b[38;5;241m=\u001b[39m \u001b[38;5;28mself\u001b[39m\u001b[38;5;241m.\u001b[39m_get_module(name)\n\u001b[1;32m   1524\u001b[0m \u001b[38;5;28;01melif\u001b[39;00m name \u001b[38;5;129;01min\u001b[39;00m \u001b[38;5;28mself\u001b[39m\u001b[38;5;241m.\u001b[39m_class_to_module\u001b[38;5;241m.\u001b[39mkeys():\n\u001b[0;32m-> 1525\u001b[0m     module \u001b[38;5;241m=\u001b[39m \u001b[38;5;28;43mself\u001b[39;49m\u001b[38;5;241;43m.\u001b[39;49m\u001b[43m_get_module\u001b[49m\u001b[43m(\u001b[49m\u001b[38;5;28;43mself\u001b[39;49m\u001b[38;5;241;43m.\u001b[39;49m\u001b[43m_class_to_module\u001b[49m\u001b[43m[\u001b[49m\u001b[43mname\u001b[49m\u001b[43m]\u001b[49m\u001b[43m)\u001b[49m\n\u001b[1;32m   1526\u001b[0m     value \u001b[38;5;241m=\u001b[39m \u001b[38;5;28mgetattr\u001b[39m(module, name)\n\u001b[1;32m   1527\u001b[0m \u001b[38;5;28;01melse\u001b[39;00m:\n",
      "File \u001b[0;32m/opt/homebrew/Caskroom/miniforge/base/envs/nlp-env/lib/python3.10/site-packages/transformers/utils/import_utils.py:1537\u001b[0m, in \u001b[0;36m_LazyModule._get_module\u001b[0;34m(self, module_name)\u001b[0m\n\u001b[1;32m   1535\u001b[0m     \u001b[38;5;28;01mreturn\u001b[39;00m importlib\u001b[38;5;241m.\u001b[39mimport_module(\u001b[38;5;124m\"\u001b[39m\u001b[38;5;124m.\u001b[39m\u001b[38;5;124m\"\u001b[39m \u001b[38;5;241m+\u001b[39m module_name, \u001b[38;5;28mself\u001b[39m\u001b[38;5;241m.\u001b[39m\u001b[38;5;18m__name__\u001b[39m)\n\u001b[1;32m   1536\u001b[0m \u001b[38;5;28;01mexcept\u001b[39;00m \u001b[38;5;167;01mException\u001b[39;00m \u001b[38;5;28;01mas\u001b[39;00m e:\n\u001b[0;32m-> 1537\u001b[0m     \u001b[38;5;28;01mraise\u001b[39;00m \u001b[38;5;167;01mRuntimeError\u001b[39;00m(\n\u001b[1;32m   1538\u001b[0m         \u001b[38;5;124mf\u001b[39m\u001b[38;5;124m\"\u001b[39m\u001b[38;5;124mFailed to import \u001b[39m\u001b[38;5;132;01m{\u001b[39;00m\u001b[38;5;28mself\u001b[39m\u001b[38;5;241m.\u001b[39m\u001b[38;5;18m__name__\u001b[39m\u001b[38;5;132;01m}\u001b[39;00m\u001b[38;5;124m.\u001b[39m\u001b[38;5;132;01m{\u001b[39;00mmodule_name\u001b[38;5;132;01m}\u001b[39;00m\u001b[38;5;124m because of the following error (look up to see its\u001b[39m\u001b[38;5;124m\"\u001b[39m\n\u001b[1;32m   1539\u001b[0m         \u001b[38;5;124mf\u001b[39m\u001b[38;5;124m\"\u001b[39m\u001b[38;5;124m traceback):\u001b[39m\u001b[38;5;130;01m\\n\u001b[39;00m\u001b[38;5;132;01m{\u001b[39;00me\u001b[38;5;132;01m}\u001b[39;00m\u001b[38;5;124m\"\u001b[39m\n\u001b[1;32m   1540\u001b[0m     ) \u001b[38;5;28;01mfrom\u001b[39;00m \u001b[38;5;21;01me\u001b[39;00m\n",
      "\u001b[0;31mRuntimeError\u001b[0m: Failed to import transformers.models.distilbert.modeling_tf_distilbert because of the following error (look up to see its traceback):\nYour currently installed version of Keras is Keras 3, but this is not yet supported in Transformers. Please install the backwards-compatible tf-keras package with `pip install tf-keras`."
     ]
    }
   ],
   "source": [
    "from transformers import pipeline\n",
    "model = \"distilbert-base-uncased-finetuned-sst-2-english\"\n",
    "sentiment_analyzer = pipeline(task=\"sentiment-analysis\",model=model)"
   ]
  },
  {
   "cell_type": "code",
   "execution_count": null,
   "id": "770bdbf2-6397-474d-a4c9-e99ce626c993",
   "metadata": {
    "execution": {
     "iopub.status.busy": "2024-02-13T01:39:17.978693Z",
     "iopub.status.idle": "2024-02-13T01:39:17.978843Z",
     "shell.execute_reply": "2024-02-13T01:39:17.978772Z",
     "shell.execute_reply.started": "2024-02-13T01:39:17.978766Z"
    }
   },
   "outputs": [
    {
     "ename": "",
     "evalue": "",
     "output_type": "error",
     "traceback": [
      "\u001b[1;31mThe kernel failed to start as 'TypeAliasType' could not be imported from '/opt/homebrew/Caskroom/miniforge/base/envs/nlp-env/lib/python3.10/site-packages/typing_extensions.py'.\n",
      "\u001b[1;31mClick <a href='https://aka.ms/kernelFailuresModuleImportErrFromFile'>here</a> for more info."
     ]
    }
   ],
   "source": [
    "sentiment_analyzer(\"I think i enjoy it when I am being beat up\")"
   ]
  },
  {
   "cell_type": "code",
   "execution_count": null,
   "id": "b9d2ebde-a7cd-4490-ad9c-fd544240872d",
   "metadata": {
    "execution": {
     "iopub.status.busy": "2024-02-13T01:39:17.979602Z",
     "iopub.status.idle": "2024-02-13T01:39:17.979742Z",
     "shell.execute_reply": "2024-02-13T01:39:17.979675Z",
     "shell.execute_reply.started": "2024-02-13T01:39:17.979669Z"
    }
   },
   "outputs": [
    {
     "ename": "",
     "evalue": "",
     "output_type": "error",
     "traceback": [
      "\u001b[1;31mThe kernel failed to start as 'TypeAliasType' could not be imported from '/opt/homebrew/Caskroom/miniforge/base/envs/nlp-env/lib/python3.10/site-packages/typing_extensions.py'.\n",
      "\u001b[1;31mClick <a href='https://aka.ms/kernelFailuresModuleImportErrFromFile'>here</a> for more info."
     ]
    }
   ],
   "source": [
    "df['review-text-full'].isna().sum()"
   ]
  },
  {
   "cell_type": "code",
   "execution_count": null,
   "id": "4b2e2175-a734-4f16-ad94-2fa81cb49d36",
   "metadata": {
    "execution": {
     "iopub.status.busy": "2024-02-13T01:39:17.980071Z",
     "iopub.status.idle": "2024-02-13T01:39:17.980190Z",
     "shell.execute_reply": "2024-02-13T01:39:17.980127Z",
     "shell.execute_reply.started": "2024-02-13T01:39:17.980122Z"
    }
   },
   "outputs": [
    {
     "ename": "",
     "evalue": "",
     "output_type": "error",
     "traceback": [
      "\u001b[1;31mThe kernel failed to start as 'TypeAliasType' could not be imported from '/opt/homebrew/Caskroom/miniforge/base/envs/nlp-env/lib/python3.10/site-packages/typing_extensions.py'.\n",
      "\u001b[1;31mClick <a href='https://aka.ms/kernelFailuresModuleImportErrFromFile'>here</a> for more info."
     ]
    }
   ],
   "source": [
    "test_text = df.loc[0,'review-text-full']\n",
    "test_text"
   ]
  },
  {
   "cell_type": "code",
   "execution_count": null,
   "id": "78e7070e-54e2-4b85-8622-64fe8c327583",
   "metadata": {
    "execution": {
     "iopub.status.busy": "2024-02-13T01:39:17.981228Z",
     "iopub.status.idle": "2024-02-13T01:39:17.981383Z",
     "shell.execute_reply": "2024-02-13T01:39:17.981308Z",
     "shell.execute_reply.started": "2024-02-13T01:39:17.981302Z"
    }
   },
   "outputs": [
    {
     "ename": "",
     "evalue": "",
     "output_type": "error",
     "traceback": [
      "\u001b[1;31mThe kernel failed to start as 'TypeAliasType' could not be imported from '/opt/homebrew/Caskroom/miniforge/base/envs/nlp-env/lib/python3.10/site-packages/typing_extensions.py'.\n",
      "\u001b[1;31mClick <a href='https://aka.ms/kernelFailuresModuleImportErrFromFile'>here</a> for more info."
     ]
    }
   ],
   "source": [
    "sentiment_analyzer(test_text)"
   ]
  },
  {
   "cell_type": "code",
   "execution_count": null,
   "id": "3a689c1d-5daa-4266-93fd-1f8381c81f80",
   "metadata": {
    "execution": {
     "iopub.status.busy": "2024-02-13T01:39:17.981833Z",
     "iopub.status.idle": "2024-02-13T01:39:17.982184Z",
     "shell.execute_reply": "2024-02-13T01:39:17.982106Z",
     "shell.execute_reply.started": "2024-02-13T01:39:17.982100Z"
    }
   },
   "outputs": [
    {
     "ename": "",
     "evalue": "",
     "output_type": "error",
     "traceback": [
      "\u001b[1;31mThe kernel failed to start as 'TypeAliasType' could not be imported from '/opt/homebrew/Caskroom/miniforge/base/envs/nlp-env/lib/python3.10/site-packages/typing_extensions.py'.\n",
      "\u001b[1;31mClick <a href='https://aka.ms/kernelFailuresModuleImportErrFromFile'>here</a> for more info."
     ]
    }
   ],
   "source": [
    "sentiment_results = []\n",
    "for i in df.index:\n",
    "    text = df.loc[i, 'review-text-full']\n",
    "    try:\n",
    "        sent = sentiment_analyzer(text)[0]\n",
    "        \n",
    "    except Exception as e:\n",
    "        display(e)\n",
    "        sent = {'label':pd.NA,'score':pd.NA}\n",
    "    finally:\n",
    "        sentiment_results.append(sent)\n",
    "        \n",
    "\n",
    "# sentiment_results = df['review-text-full'].map(lambda x: sentiment_analyzer(x))\n",
    "len(sentiment_results)"
   ]
  },
  {
   "cell_type": "code",
   "execution_count": null,
   "id": "81451a73-8086-43ba-9bf1-868cab082ca0",
   "metadata": {
    "execution": {
     "iopub.status.busy": "2024-02-13T01:39:17.982767Z",
     "iopub.status.idle": "2024-02-13T01:39:17.982990Z",
     "shell.execute_reply": "2024-02-13T01:39:17.982868Z",
     "shell.execute_reply.started": "2024-02-13T01:39:17.982861Z"
    }
   },
   "outputs": [
    {
     "ename": "",
     "evalue": "",
     "output_type": "error",
     "traceback": [
      "\u001b[1;31mThe kernel failed to start as 'TypeAliasType' could not be imported from '/opt/homebrew/Caskroom/miniforge/base/envs/nlp-env/lib/python3.10/site-packages/typing_extensions.py'.\n",
      "\u001b[1;31mClick <a href='https://aka.ms/kernelFailuresModuleImportErrFromFile'>here</a> for more info."
     ]
    }
   ],
   "source": [
    "pd.DataFrame(sentiment_results)"
   ]
  },
  {
   "cell_type": "code",
   "execution_count": null,
   "id": "56f12a08-4735-4900-bbe9-7e71d0cc2ff2",
   "metadata": {},
   "outputs": [
    {
     "ename": "",
     "evalue": "",
     "output_type": "error",
     "traceback": [
      "\u001b[1;31mThe kernel failed to start as 'TypeAliasType' could not be imported from '/opt/homebrew/Caskroom/miniforge/base/envs/nlp-env/lib/python3.10/site-packages/typing_extensions.py'.\n",
      "\u001b[1;31mClick <a href='https://aka.ms/kernelFailuresModuleImportErrFromFile'>here</a> for more info."
     ]
    }
   ],
   "source": []
  }
 ],
 "metadata": {
  "kernelspec": {
   "display_name": "Python 3 (ipykernel)",
   "language": "python",
   "name": "python3"
  },
  "language_info": {
   "codemirror_mode": {
    "name": "ipython",
    "version": 3
   },
   "file_extension": ".py",
   "mimetype": "text/x-python",
   "name": "python",
   "nbconvert_exporter": "python",
   "pygments_lexer": "ipython3",
   "version": "3.10.14"
  }
 },
 "nbformat": 4,
 "nbformat_minor": 5
}
