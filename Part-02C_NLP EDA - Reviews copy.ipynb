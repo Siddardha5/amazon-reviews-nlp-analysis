{
 "cells": [
  {
   "cell_type": "markdown",
   "id": "55b8cab0-99f0-45b8-84f3-0712266f2394",
   "metadata": {},
   "source": [
    "# Part 2C - NLP EDA of Amazon Reviews for Miracle Noodles (In-Depth)"
   ]
  },
  {
   "cell_type": "markdown",
   "id": "03ab65b7-a2d4-4542-8b29-c4a0fcbdc7e8",
   "metadata": {},
   "source": [
    "In this notebook we will continue with the data we prepared in the last notebook.  \n",
    "Our goals will be:\n",
    "- compare sentiment analysis from VADER / TextBlob vs. the star rating.\n",
    "- Apply LDA topic modeling to the reviews to idntify consistent themes. \n",
    "- Applied Named Entity Recognition to see if an NE's appear in certain types of reviws."
   ]
  },
  {
   "cell_type": "code",
   "execution_count": 1,
   "id": "0444cbc5-fde5-4dc2-9502-c9466211acaa",
   "metadata": {
    "execution": {
     "iopub.execute_input": "2024-02-13T01:38:28.529889Z",
     "iopub.status.busy": "2024-02-13T01:38:28.529783Z",
     "iopub.status.idle": "2024-02-13T01:38:28.537479Z",
     "shell.execute_reply": "2024-02-13T01:38:28.537232Z",
     "shell.execute_reply.started": "2024-02-13T01:38:28.529879Z"
    }
   },
   "outputs": [
    {
     "data": {
      "text/markdown": [
       "# Amazon Product Reviews\n",
       "\n",
       "- URL: https://cseweb.ucsd.edu/~jmcauley/datasets.html#amazon_reviews \n",
       "\n",
       "## Description\n",
       "\n",
       "This is a large crawl of product reviews from Amazon. This dataset contains 82.83 million unique reviews, from around 20 million users.\n",
       "\n",
       "## Basic statistics\n",
       "\n",
       "| Ratings:  | 82.83 million        |\n",
       "| --------- | -------------------- |\n",
       "| Users:    | 20.98 million        |\n",
       "| Items:    | 9.35 million         |\n",
       "| Timespan: | May 1996 - July 2014 |\n",
       "\n",
       "## Metadata\n",
       "\n",
       "- reviews and ratings\n",
       "- item-to-item relationships (e.g. \"people who bought X also bought Y\")\n",
       "- timestamps\n",
       "- helpfulness votes\n",
       "- product image (and CNN features)\n",
       "- price\n",
       "- category\n",
       "- salesRank\n",
       "\n",
       "## Example\n",
       "\n",
       "```\n",
       "{  \"reviewerID\": \"A2SUAM1J3GNN3B\",  \"asin\": \"0000013714\",  \"reviewerName\": \"J. McDonald\",  \"helpful\": [2, 3],  \"reviewText\": \"I bought this for my husband who plays the piano.  He is having a wonderful time playing these old hymns.  The music  is at times hard to read because we think the book was published for singing from more than playing from.  Great purchase though!\",  \"overall\": 5.0,  \"summary\": \"Heavenly Highway Hymns\",  \"unixReviewTime\": 1252800000,  \"reviewTime\": \"09 13, 2009\" }\n",
       "```\n",
       "\n",
       "## Download link\n",
       "\n",
       "See the [Amazon Dataset Page](https://cseweb.ucsd.edu/~jmcauley/datasets/amazon_v2/) for download information.\n",
       "\n",
       "The 2014 version of this dataset is [also available](https://cseweb.ucsd.edu/~jmcauley/datasets/amazon/links.html).\n",
       "\n",
       "## Citation\n",
       "\n",
       "Please cite the following if you use the data:\n",
       "\n",
       "**Ups and downs: Modeling the visual evolution of fashion trends with one-class collaborative filtering**\n",
       "\n",
       "R. He, J. McAuley\n",
       "\n",
       "*WWW*, 2016\n",
       "[pdf](https://cseweb.ucsd.edu/~jmcauley/pdfs/www16a.pdf)\n",
       "\n",
       "**Image-based recommendations on styles and substitutes**\n",
       "\n",
       "J. McAuley, C. Targett, J. Shi, A. van den Hengel\n",
       "\n",
       "*SIGIR*, 2015\n",
       "[pdf](https://cseweb.ucsd.edu/~jmcauley/pdfs/sigir15.pdf)"
      ],
      "text/plain": [
       "<IPython.core.display.Markdown object>"
      ]
     },
     "metadata": {},
     "output_type": "display_data"
    }
   ],
   "source": [
    "from IPython.display import display, Markdown\n",
    "with open(\"data/Amazon Product Reviews.md\") as f:\n",
    "    info = f.read()\n",
    "\n",
    "display(Markdown(info))"
   ]
  },
  {
   "cell_type": "markdown",
   "id": "913a72d3-e087-4b21-aed4-9bb8d94accb0",
   "metadata": {},
   "source": [
    "# Part 2B - NLP EDA - Movie Reviews"
   ]
  },
  {
   "cell_type": "code",
   "execution_count": 2,
   "id": "5b0bf473-0450-45ed-a751-48a440f972ea",
   "metadata": {
    "execution": {
     "iopub.execute_input": "2024-02-13T01:38:28.538959Z",
     "iopub.status.busy": "2024-02-13T01:38:28.538747Z",
     "iopub.status.idle": "2024-02-13T01:38:33.023851Z",
     "shell.execute_reply": "2024-02-13T01:38:33.023502Z",
     "shell.execute_reply.started": "2024-02-13T01:38:28.538948Z"
    }
   },
   "outputs": [],
   "source": [
    "!pip install -U dojo_ds -q\n",
    "import dojo_ds as ds\n",
    "# ds.__version__"
   ]
  },
  {
   "cell_type": "code",
   "execution_count": 3,
   "id": "3186098c",
   "metadata": {},
   "outputs": [],
   "source": [
    "!pip install missingno seaborn -q\n"
   ]
  },
  {
   "cell_type": "code",
   "execution_count": 4,
   "id": "1b2e1204-f584-452d-b433-69b67e43e694",
   "metadata": {
    "execution": {
     "iopub.execute_input": "2024-02-13T01:38:33.024453Z",
     "iopub.status.busy": "2024-02-13T01:38:33.024303Z",
     "iopub.status.idle": "2024-02-13T01:38:33.030807Z",
     "shell.execute_reply": "2024-02-13T01:38:33.030431Z",
     "shell.execute_reply.started": "2024-02-13T01:38:33.024442Z"
    }
   },
   "outputs": [],
   "source": [
    "import matplotlib.pyplot as plt\n",
    "import missingno\n",
    "import matplotlib as mpl\n",
    "import seaborn as sns\n",
    "import numpy as np\n",
    "import pandas as pd\n",
    "import os, json\n",
    "from pprint import pprint\n",
    "pd.set_option(\"display.max_columns\",50)\n",
    "# pd.set_option('display.max_colwidth', 250)\n",
    "\n",
    "# fav_style = ('ggplot','tableau-colorblind10')\n",
    "# fav_context  ={'context':'notebook', 'font_scale':1.1}\n",
    "# plt.style.use(fav_style)\n",
    "# sns.set_context(**fav_context)\n",
    "# plt.rcParams['savefig.transparent'] = False\n",
    "# plt.rcParams['savefig.bbox'] = 'tight'"
   ]
  },
  {
   "cell_type": "code",
   "execution_count": 5,
   "id": "122bd9c0-9d2e-4fb2-a90d-ff0ae1d0ec7e",
   "metadata": {
    "execution": {
     "iopub.execute_input": "2024-02-13T01:38:33.031658Z",
     "iopub.status.busy": "2024-02-13T01:38:33.031509Z",
     "iopub.status.idle": "2024-02-13T01:38:33.035156Z",
     "shell.execute_reply": "2024-02-13T01:38:33.034857Z",
     "shell.execute_reply.started": "2024-02-13T01:38:33.031646Z"
    }
   },
   "outputs": [
    {
     "data": {
      "text/plain": [
       "dict_keys(['data', 'images', 'metadata', 'eda', 'models', 'results', 'readme'])"
      ]
     },
     "execution_count": 5,
     "metadata": {},
     "output_type": "execute_result"
    }
   ],
   "source": [
    "FPATHS_FILE = \"config/filepaths.json\"\n",
    "\n",
    "with open(FPATHS_FILE) as f:\n",
    "    FPATHS = json.load(f)\n",
    "FPATHS.keys()"
   ]
  },
  {
   "cell_type": "code",
   "execution_count": 6,
   "id": "b58c908e-403f-46a0-91e2-8794ca8d0e3b",
   "metadata": {
    "execution": {
     "iopub.execute_input": "2024-02-13T01:38:33.035768Z",
     "iopub.status.busy": "2024-02-13T01:38:33.035652Z",
     "iopub.status.idle": "2024-02-13T01:38:33.038361Z",
     "shell.execute_reply": "2024-02-13T01:38:33.037857Z",
     "shell.execute_reply.started": "2024-02-13T01:38:33.035758Z"
    }
   },
   "outputs": [
    {
     "data": {
      "text/plain": [
       "dict_keys(['raw', 'cleaned', 'subset', 'processed-nlp', 'app', 'ml-nlp', 'nn-nlp'])"
      ]
     },
     "execution_count": 6,
     "metadata": {},
     "output_type": "execute_result"
    }
   ],
   "source": [
    "FPATHS['data'].keys()"
   ]
  },
  {
   "cell_type": "code",
   "execution_count": 7,
   "id": "f6e49e30-099d-4551-b878-3939fcd06dab",
   "metadata": {
    "execution": {
     "iopub.execute_input": "2024-02-13T01:38:33.039208Z",
     "iopub.status.busy": "2024-02-13T01:38:33.039002Z",
     "iopub.status.idle": "2024-02-13T01:38:33.041960Z",
     "shell.execute_reply": "2024-02-13T01:38:33.041636Z",
     "shell.execute_reply.started": "2024-02-13T01:38:33.039197Z"
    }
   },
   "outputs": [
    {
     "data": {
      "text/plain": [
       "{'processed-reviews-spacy_json': 'data/processed/processed-reviews.json',\n",
       " 'processed-reviews-spacy_joblib': 'data/processed/processed-reviews.joblib',\n",
       " 'processed-reviews-with-target_json': 'data/processed/processed-reviews-with-target.json',\n",
       " 'processed-reviews-with-target_joblib': 'data/processed/processed-reviews-with-target.joblib'}"
      ]
     },
     "execution_count": 7,
     "metadata": {},
     "output_type": "execute_result"
    }
   ],
   "source": [
    "FPATHS['data']['processed-nlp']"
   ]
  },
  {
   "cell_type": "code",
   "execution_count": 8,
   "id": "fa1e0713-aa88-4997-b10a-fc6c7d372761",
   "metadata": {
    "execution": {
     "iopub.execute_input": "2024-02-13T01:38:33.044182Z",
     "iopub.status.busy": "2024-02-13T01:38:33.043953Z",
     "iopub.status.idle": "2024-02-13T01:38:33.046759Z",
     "shell.execute_reply": "2024-02-13T01:38:33.046280Z",
     "shell.execute_reply.started": "2024-02-13T01:38:33.044161Z"
    }
   },
   "outputs": [
    {
     "data": {
      "text/plain": [
       "{'train_joblib': 'data/modeling/training-data.joblib',\n",
       " 'test_joblib': 'data/modeling/testing-data.joblib'}"
      ]
     },
     "execution_count": 8,
     "metadata": {},
     "output_type": "execute_result"
    }
   ],
   "source": [
    "FPATHS['data']['ml-nlp']"
   ]
  },
  {
   "cell_type": "code",
   "execution_count": 9,
   "id": "e4f438a6-0ac0-4baf-99b2-2af035fa6e6d",
   "metadata": {
    "execution": {
     "iopub.execute_input": "2024-02-13T01:38:33.047681Z",
     "iopub.status.busy": "2024-02-13T01:38:33.047383Z",
     "iopub.status.idle": "2024-02-13T01:38:33.050509Z",
     "shell.execute_reply": "2024-02-13T01:38:33.050042Z",
     "shell.execute_reply.started": "2024-02-13T01:38:33.047668Z"
    }
   },
   "outputs": [
    {
     "data": {
      "text/plain": [
       "'data/processed/processed-reviews-with-target.json'"
      ]
     },
     "execution_count": 9,
     "metadata": {},
     "output_type": "execute_result"
    }
   ],
   "source": [
    "# Fpath for saving final df with target columns\n",
    "fpath_out_ml_with_targets = FPATHS['data']['processed-nlp']['processed-reviews-with-target_json']\n",
    "fpath_out_ml_with_targets"
   ]
  },
  {
   "cell_type": "code",
   "execution_count": 10,
   "id": "17131a83-4802-4f02-a42c-06cfd7737e3d",
   "metadata": {
    "execution": {
     "iopub.execute_input": "2024-02-13T01:38:33.051329Z",
     "iopub.status.busy": "2024-02-13T01:38:33.051175Z",
     "iopub.status.idle": "2024-02-13T01:38:33.054075Z",
     "shell.execute_reply": "2024-02-13T01:38:33.053628Z",
     "shell.execute_reply.started": "2024-02-13T01:38:33.051314Z"
    }
   },
   "outputs": [
    {
     "data": {
      "text/plain": [
       "'data/processed/processed-reviews.json'"
      ]
     },
     "execution_count": 10,
     "metadata": {},
     "output_type": "execute_result"
    }
   ],
   "source": [
    "## If using json\n",
    "reviews_fpath = FPATHS['data']['processed-nlp']['processed-reviews-spacy_json']\n",
    "reviews_fpath"
   ]
  },
  {
   "cell_type": "code",
   "execution_count": 11,
   "id": "de46d2d4-9f5b-4a02-a6c1-096de6df5a2b",
   "metadata": {
    "execution": {
     "iopub.execute_input": "2024-02-13T01:38:33.054789Z",
     "iopub.status.busy": "2024-02-13T01:38:33.054685Z",
     "iopub.status.idle": "2024-02-13T01:38:33.136636Z",
     "shell.execute_reply": "2024-02-13T01:38:33.134138Z",
     "shell.execute_reply.started": "2024-02-13T01:38:33.054781Z"
    },
    "scrolled": true
   },
   "outputs": [
    {
     "data": {
      "text/html": [
       "<div>\n",
       "<style scoped>\n",
       "    .dataframe tbody tr th:only-of-type {\n",
       "        vertical-align: middle;\n",
       "    }\n",
       "\n",
       "    .dataframe tbody tr th {\n",
       "        vertical-align: top;\n",
       "    }\n",
       "\n",
       "    .dataframe thead th {\n",
       "        text-align: right;\n",
       "    }\n",
       "</style>\n",
       "<table border=\"1\" class=\"dataframe\">\n",
       "  <thead>\n",
       "    <tr style=\"text-align: right;\">\n",
       "      <th></th>\n",
       "      <th>asin</th>\n",
       "      <th>reviewerID</th>\n",
       "      <th>reviewText</th>\n",
       "      <th>summary</th>\n",
       "      <th>overall</th>\n",
       "      <th>year</th>\n",
       "      <th>title</th>\n",
       "      <th>brand</th>\n",
       "      <th>category</th>\n",
       "      <th>review-text-full</th>\n",
       "      <th>review-text-full_raw</th>\n",
       "      <th>tokens-dirty</th>\n",
       "      <th>tokens</th>\n",
       "      <th>lemmas</th>\n",
       "      <th>tokens-dirty-joined</th>\n",
       "      <th>tokens-joined</th>\n",
       "      <th>lemmas-joined</th>\n",
       "    </tr>\n",
       "  </thead>\n",
       "  <tbody>\n",
       "    <tr>\n",
       "      <th>0</th>\n",
       "      <td>B007JINB0W</td>\n",
       "      <td>A3Y51NV9HU5T2</td>\n",
       "      <td>Great pasta taste and feel, but the spell in t...</td>\n",
       "      <td>Four Stars</td>\n",
       "      <td>4</td>\n",
       "      <td>2018</td>\n",
       "      <td>Miracle Noodle Zero Carb, Gluten Free Shiratak...</td>\n",
       "      <td>Miracle Noodle</td>\n",
       "      <td>Grocery &amp; Gourmet Food; Pasta &amp; Noodles; Noodl...</td>\n",
       "      <td>Four Stars: Great pasta taste and feel, but th...</td>\n",
       "      <td>Four Stars: Great pasta taste and feel, but th...</td>\n",
       "      <td>[four, stars, great, pasta, taste, and, feel, ...</td>\n",
       "      <td>[stars, great, pasta, taste, feel, spell, pack...</td>\n",
       "      <td>[star, great, pasta, taste, feel, spell, packa...</td>\n",
       "      <td>four stars great pasta taste and feel but the ...</td>\n",
       "      <td>stars great pasta taste feel spell packaged sk...</td>\n",
       "      <td>star great pasta taste feel spell package skrong</td>\n",
       "    </tr>\n",
       "    <tr>\n",
       "      <th>1</th>\n",
       "      <td>B007JINB0W</td>\n",
       "      <td>A3D7EFSRC6Y9MP</td>\n",
       "      <td>The texture just made it a little strange to e...</td>\n",
       "      <td>Okay but don't like texture</td>\n",
       "      <td>3</td>\n",
       "      <td>2014</td>\n",
       "      <td>Miracle Noodle Zero Carb, Gluten Free Shiratak...</td>\n",
       "      <td>Miracle Noodle</td>\n",
       "      <td>Grocery &amp; Gourmet Food; Pasta &amp; Noodles; Noodl...</td>\n",
       "      <td>Okay but don't like texture: The texture just ...</td>\n",
       "      <td>Okay but don't like texture: The texture just ...</td>\n",
       "      <td>[okay, but, do, n't, like, texture, the, textu...</td>\n",
       "      <td>[okay, like, texture, texture, little, strange...</td>\n",
       "      <td>[okay, like, texture, texture, little, strange...</td>\n",
       "      <td>okay but do n't like texture the texture just ...</td>\n",
       "      <td>okay like texture texture little strange eat f...</td>\n",
       "      <td>okay like texture texture little strange eat f...</td>\n",
       "    </tr>\n",
       "    <tr>\n",
       "      <th>2</th>\n",
       "      <td>B007JINB0W</td>\n",
       "      <td>A4AM5KBP3I2R</td>\n",
       "      <td>The herb flavor makes the odd texture of shira...</td>\n",
       "      <td>Go for the green noodles</td>\n",
       "      <td>5</td>\n",
       "      <td>2018</td>\n",
       "      <td>Miracle Noodle Zero Carb, Gluten Free Shiratak...</td>\n",
       "      <td>Miracle Noodle</td>\n",
       "      <td>Grocery &amp; Gourmet Food; Pasta &amp; Noodles; Noodl...</td>\n",
       "      <td>Go for the green noodles: The herb flavor make...</td>\n",
       "      <td>Go for the green noodles: The herb flavor make...</td>\n",
       "      <td>[go, for, the, green, noodles, the, herb, flav...</td>\n",
       "      <td>[green, noodles, herb, flavor, makes, odd, tex...</td>\n",
       "      <td>[green, noodle, herb, flavor, make, odd, textu...</td>\n",
       "      <td>go for the green noodles the herb flavor makes...</td>\n",
       "      <td>green noodles herb flavor makes odd texture sh...</td>\n",
       "      <td>green noodle herb flavor make odd texture shir...</td>\n",
       "    </tr>\n",
       "    <tr>\n",
       "      <th>3</th>\n",
       "      <td>B007JINB0W</td>\n",
       "      <td>A3GHK4IL78DB7Y</td>\n",
       "      <td>I didn't have a problem at all with a half fil...</td>\n",
       "      <td>Its an awesome substitute.</td>\n",
       "      <td>5</td>\n",
       "      <td>2018</td>\n",
       "      <td>Miracle Noodle Zero Carb, Gluten Free Shiratak...</td>\n",
       "      <td>Miracle Noodle</td>\n",
       "      <td>Grocery &amp; Gourmet Food; Pasta &amp; Noodles; Noodl...</td>\n",
       "      <td>Its an awesome substitute.: I didn't have a pr...</td>\n",
       "      <td>Its an awesome substitute.: I didn't have a pr...</td>\n",
       "      <td>[its, an, awesome, substitute, i, did, n't, ha...</td>\n",
       "      <td>[awesome, substitute, problem, half, filled, b...</td>\n",
       "      <td>[awesome, substitute, problem, half, fill, bag...</td>\n",
       "      <td>its an awesome substitute i did n't have a pro...</td>\n",
       "      <td>awesome substitute problem half filled bag use...</td>\n",
       "      <td>awesome substitute problem half fill bag user ...</td>\n",
       "    </tr>\n",
       "    <tr>\n",
       "      <th>4</th>\n",
       "      <td>B007JINB0W</td>\n",
       "      <td>AH3B94LQOPPY6</td>\n",
       "      <td>They taste like whatever you cook them with.</td>\n",
       "      <td>Five Stars</td>\n",
       "      <td>5</td>\n",
       "      <td>2016</td>\n",
       "      <td>Miracle Noodle Zero Carb, Gluten Free Shiratak...</td>\n",
       "      <td>Miracle Noodle</td>\n",
       "      <td>Grocery &amp; Gourmet Food; Pasta &amp; Noodles; Noodl...</td>\n",
       "      <td>Five Stars: They taste like whatever you cook ...</td>\n",
       "      <td>Five Stars: They taste like whatever you cook ...</td>\n",
       "      <td>[five, stars, they, taste, like, whatever, you...</td>\n",
       "      <td>[stars, taste, like, cook]</td>\n",
       "      <td>[star, taste, like, cook]</td>\n",
       "      <td>five stars they taste like whatever you cook t...</td>\n",
       "      <td>stars taste like cook</td>\n",
       "      <td>star taste like cook</td>\n",
       "    </tr>\n",
       "    <tr>\n",
       "      <th>...</th>\n",
       "      <td>...</td>\n",
       "      <td>...</td>\n",
       "      <td>...</td>\n",
       "      <td>...</td>\n",
       "      <td>...</td>\n",
       "      <td>...</td>\n",
       "      <td>...</td>\n",
       "      <td>...</td>\n",
       "      <td>...</td>\n",
       "      <td>...</td>\n",
       "      <td>...</td>\n",
       "      <td>...</td>\n",
       "      <td>...</td>\n",
       "      <td>...</td>\n",
       "      <td>...</td>\n",
       "      <td>...</td>\n",
       "      <td>...</td>\n",
       "    </tr>\n",
       "    <tr>\n",
       "      <th>4358</th>\n",
       "      <td>B007JINB0W</td>\n",
       "      <td>A73IG1ED6S0JR</td>\n",
       "      <td>Product arrived with two of the bags punctured...</td>\n",
       "      <td>would not recomend</td>\n",
       "      <td>1</td>\n",
       "      <td>2016</td>\n",
       "      <td>Miracle Noodle Zero Carb, Gluten Free Shiratak...</td>\n",
       "      <td>Miracle Noodle</td>\n",
       "      <td>Grocery &amp; Gourmet Food; Pasta &amp; Noodles; Noodl...</td>\n",
       "      <td>would not recomend: Product arrived with two o...</td>\n",
       "      <td>would not recomend: Product arrived with two o...</td>\n",
       "      <td>[would, not, recomend, product, arrived, with,...</td>\n",
       "      <td>[recomend, product, arrived, bags, punctured, ...</td>\n",
       "      <td>[recomend, product, arrive, bag, puncture, sme...</td>\n",
       "      <td>would not recomend product arrived with two of...</td>\n",
       "      <td>recomend product arrived bags punctured smells...</td>\n",
       "      <td>recomend product arrive bag puncture smell bad</td>\n",
       "    </tr>\n",
       "    <tr>\n",
       "      <th>4359</th>\n",
       "      <td>B007JINB0W</td>\n",
       "      <td>A1XZ2H0MYG54M0</td>\n",
       "      <td>Ok.</td>\n",
       "      <td>Five Stars</td>\n",
       "      <td>5</td>\n",
       "      <td>2016</td>\n",
       "      <td>Miracle Noodle Zero Carb, Gluten Free Shiratak...</td>\n",
       "      <td>Miracle Noodle</td>\n",
       "      <td>Grocery &amp; Gourmet Food; Pasta &amp; Noodles; Noodl...</td>\n",
       "      <td>Five Stars: Ok.</td>\n",
       "      <td>Five Stars: Ok.</td>\n",
       "      <td>[five, stars, ok]</td>\n",
       "      <td>[stars, ok]</td>\n",
       "      <td>[star, ok]</td>\n",
       "      <td>five stars ok</td>\n",
       "      <td>stars ok</td>\n",
       "      <td>star ok</td>\n",
       "    </tr>\n",
       "    <tr>\n",
       "      <th>4360</th>\n",
       "      <td>B007JINB0W</td>\n",
       "      <td>A3I2YF0MXB7P0B</td>\n",
       "      <td>I like these noodles but the spinach ones just...</td>\n",
       "      <td>Not awful, but now I know why these were on sale.</td>\n",
       "      <td>2</td>\n",
       "      <td>2013</td>\n",
       "      <td>Miracle Noodle Zero Carb, Gluten Free Shiratak...</td>\n",
       "      <td>Miracle Noodle</td>\n",
       "      <td>Grocery &amp; Gourmet Food; Pasta &amp; Noodles; Noodl...</td>\n",
       "      <td>Not awful, but now I know why these were on sa...</td>\n",
       "      <td>Not awful, but now I know why these were on sa...</td>\n",
       "      <td>[not, awful, but, now, i, know, why, these, we...</td>\n",
       "      <td>[awful, know, sale, like, noodles, spinach, on...</td>\n",
       "      <td>[awful, know, sale, like, noodle, spinach, one...</td>\n",
       "      <td>not awful but now i know why these were on sal...</td>\n",
       "      <td>awful know sale like noodles spinach ones tast...</td>\n",
       "      <td>awful know sale like noodle spinach one taste ...</td>\n",
       "    </tr>\n",
       "    <tr>\n",
       "      <th>4361</th>\n",
       "      <td>B007JINB0W</td>\n",
       "      <td>A2UELLFLITPMT1</td>\n",
       "      <td>Truly horrific. Like eating dead worms.</td>\n",
       "      <td>Don't even try it.</td>\n",
       "      <td>1</td>\n",
       "      <td>2017</td>\n",
       "      <td>Miracle Noodle Zero Carb, Gluten Free Shiratak...</td>\n",
       "      <td>Miracle Noodle</td>\n",
       "      <td>Grocery &amp; Gourmet Food; Pasta &amp; Noodles; Noodl...</td>\n",
       "      <td>Don't even try it.: Truly horrific. Like eatin...</td>\n",
       "      <td>Don't even try it.: Truly horrific. Like eatin...</td>\n",
       "      <td>[do, n't, even, try, it, truly, horrific, like...</td>\n",
       "      <td>[try, truly, horrific, like, eating, dead, worms]</td>\n",
       "      <td>[try, truly, horrific, like, eat, dead, worm]</td>\n",
       "      <td>do n't even try it truly horrific like eating ...</td>\n",
       "      <td>try truly horrific like eating dead worms</td>\n",
       "      <td>try truly horrific like eat dead worm</td>\n",
       "    </tr>\n",
       "    <tr>\n",
       "      <th>4362</th>\n",
       "      <td>B007JINB0W</td>\n",
       "      <td>A178M2AHNWQZB0</td>\n",
       "      <td>We love the rice noodles, and have problems fi...</td>\n",
       "      <td>As good as all the other Miracle noodle products</td>\n",
       "      <td>5</td>\n",
       "      <td>2017</td>\n",
       "      <td>Miracle Noodle Zero Carb, Gluten Free Shiratak...</td>\n",
       "      <td>Miracle Noodle</td>\n",
       "      <td>Grocery &amp; Gourmet Food; Pasta &amp; Noodles; Noodl...</td>\n",
       "      <td>As good as all the other Miracle noodle produc...</td>\n",
       "      <td>As good as all the other Miracle noodle produc...</td>\n",
       "      <td>[as, good, as, all, the, other, miracle, noodl...</td>\n",
       "      <td>[good, miracle, noodle, products, love, rice, ...</td>\n",
       "      <td>[good, miracle, noodle, product, love, rice, n...</td>\n",
       "      <td>as good as all the other miracle noodle produc...</td>\n",
       "      <td>good miracle noodle products love rice noodles...</td>\n",
       "      <td>good miracle noodle product love rice noodle p...</td>\n",
       "    </tr>\n",
       "  </tbody>\n",
       "</table>\n",
       "<p>4363 rows × 17 columns</p>\n",
       "</div>"
      ],
      "text/plain": [
       "            asin      reviewerID  \\\n",
       "0     B007JINB0W   A3Y51NV9HU5T2   \n",
       "1     B007JINB0W  A3D7EFSRC6Y9MP   \n",
       "2     B007JINB0W    A4AM5KBP3I2R   \n",
       "3     B007JINB0W  A3GHK4IL78DB7Y   \n",
       "4     B007JINB0W   AH3B94LQOPPY6   \n",
       "...          ...             ...   \n",
       "4358  B007JINB0W   A73IG1ED6S0JR   \n",
       "4359  B007JINB0W  A1XZ2H0MYG54M0   \n",
       "4360  B007JINB0W  A3I2YF0MXB7P0B   \n",
       "4361  B007JINB0W  A2UELLFLITPMT1   \n",
       "4362  B007JINB0W  A178M2AHNWQZB0   \n",
       "\n",
       "                                             reviewText  \\\n",
       "0     Great pasta taste and feel, but the spell in t...   \n",
       "1     The texture just made it a little strange to e...   \n",
       "2     The herb flavor makes the odd texture of shira...   \n",
       "3     I didn't have a problem at all with a half fil...   \n",
       "4         They taste like whatever you cook them with.    \n",
       "...                                                 ...   \n",
       "4358  Product arrived with two of the bags punctured...   \n",
       "4359                                                Ok.   \n",
       "4360  I like these noodles but the spinach ones just...   \n",
       "4361            Truly horrific. Like eating dead worms.   \n",
       "4362  We love the rice noodles, and have problems fi...   \n",
       "\n",
       "                                                summary  overall  year  \\\n",
       "0                                            Four Stars        4  2018   \n",
       "1                           Okay but don't like texture        3  2014   \n",
       "2                              Go for the green noodles        5  2018   \n",
       "3                            Its an awesome substitute.        5  2018   \n",
       "4                                            Five Stars        5  2016   \n",
       "...                                                 ...      ...   ...   \n",
       "4358                                 would not recomend        1  2016   \n",
       "4359                                         Five Stars        5  2016   \n",
       "4360  Not awful, but now I know why these were on sale.        2  2013   \n",
       "4361                                 Don't even try it.        1  2017   \n",
       "4362   As good as all the other Miracle noodle products        5  2017   \n",
       "\n",
       "                                                  title           brand  \\\n",
       "0     Miracle Noodle Zero Carb, Gluten Free Shiratak...  Miracle Noodle   \n",
       "1     Miracle Noodle Zero Carb, Gluten Free Shiratak...  Miracle Noodle   \n",
       "2     Miracle Noodle Zero Carb, Gluten Free Shiratak...  Miracle Noodle   \n",
       "3     Miracle Noodle Zero Carb, Gluten Free Shiratak...  Miracle Noodle   \n",
       "4     Miracle Noodle Zero Carb, Gluten Free Shiratak...  Miracle Noodle   \n",
       "...                                                 ...             ...   \n",
       "4358  Miracle Noodle Zero Carb, Gluten Free Shiratak...  Miracle Noodle   \n",
       "4359  Miracle Noodle Zero Carb, Gluten Free Shiratak...  Miracle Noodle   \n",
       "4360  Miracle Noodle Zero Carb, Gluten Free Shiratak...  Miracle Noodle   \n",
       "4361  Miracle Noodle Zero Carb, Gluten Free Shiratak...  Miracle Noodle   \n",
       "4362  Miracle Noodle Zero Carb, Gluten Free Shiratak...  Miracle Noodle   \n",
       "\n",
       "                                               category  \\\n",
       "0     Grocery & Gourmet Food; Pasta & Noodles; Noodl...   \n",
       "1     Grocery & Gourmet Food; Pasta & Noodles; Noodl...   \n",
       "2     Grocery & Gourmet Food; Pasta & Noodles; Noodl...   \n",
       "3     Grocery & Gourmet Food; Pasta & Noodles; Noodl...   \n",
       "4     Grocery & Gourmet Food; Pasta & Noodles; Noodl...   \n",
       "...                                                 ...   \n",
       "4358  Grocery & Gourmet Food; Pasta & Noodles; Noodl...   \n",
       "4359  Grocery & Gourmet Food; Pasta & Noodles; Noodl...   \n",
       "4360  Grocery & Gourmet Food; Pasta & Noodles; Noodl...   \n",
       "4361  Grocery & Gourmet Food; Pasta & Noodles; Noodl...   \n",
       "4362  Grocery & Gourmet Food; Pasta & Noodles; Noodl...   \n",
       "\n",
       "                                       review-text-full  \\\n",
       "0     Four Stars: Great pasta taste and feel, but th...   \n",
       "1     Okay but don't like texture: The texture just ...   \n",
       "2     Go for the green noodles: The herb flavor make...   \n",
       "3     Its an awesome substitute.: I didn't have a pr...   \n",
       "4     Five Stars: They taste like whatever you cook ...   \n",
       "...                                                 ...   \n",
       "4358  would not recomend: Product arrived with two o...   \n",
       "4359                                    Five Stars: Ok.   \n",
       "4360  Not awful, but now I know why these were on sa...   \n",
       "4361  Don't even try it.: Truly horrific. Like eatin...   \n",
       "4362  As good as all the other Miracle noodle produc...   \n",
       "\n",
       "                                   review-text-full_raw  \\\n",
       "0     Four Stars: Great pasta taste and feel, but th...   \n",
       "1     Okay but don't like texture: The texture just ...   \n",
       "2     Go for the green noodles: The herb flavor make...   \n",
       "3     Its an awesome substitute.: I didn't have a pr...   \n",
       "4     Five Stars: They taste like whatever you cook ...   \n",
       "...                                                 ...   \n",
       "4358  would not recomend: Product arrived with two o...   \n",
       "4359                                    Five Stars: Ok.   \n",
       "4360  Not awful, but now I know why these were on sa...   \n",
       "4361  Don't even try it.: Truly horrific. Like eatin...   \n",
       "4362  As good as all the other Miracle noodle produc...   \n",
       "\n",
       "                                           tokens-dirty  \\\n",
       "0     [four, stars, great, pasta, taste, and, feel, ...   \n",
       "1     [okay, but, do, n't, like, texture, the, textu...   \n",
       "2     [go, for, the, green, noodles, the, herb, flav...   \n",
       "3     [its, an, awesome, substitute, i, did, n't, ha...   \n",
       "4     [five, stars, they, taste, like, whatever, you...   \n",
       "...                                                 ...   \n",
       "4358  [would, not, recomend, product, arrived, with,...   \n",
       "4359                                  [five, stars, ok]   \n",
       "4360  [not, awful, but, now, i, know, why, these, we...   \n",
       "4361  [do, n't, even, try, it, truly, horrific, like...   \n",
       "4362  [as, good, as, all, the, other, miracle, noodl...   \n",
       "\n",
       "                                                 tokens  \\\n",
       "0     [stars, great, pasta, taste, feel, spell, pack...   \n",
       "1     [okay, like, texture, texture, little, strange...   \n",
       "2     [green, noodles, herb, flavor, makes, odd, tex...   \n",
       "3     [awesome, substitute, problem, half, filled, b...   \n",
       "4                            [stars, taste, like, cook]   \n",
       "...                                                 ...   \n",
       "4358  [recomend, product, arrived, bags, punctured, ...   \n",
       "4359                                        [stars, ok]   \n",
       "4360  [awful, know, sale, like, noodles, spinach, on...   \n",
       "4361  [try, truly, horrific, like, eating, dead, worms]   \n",
       "4362  [good, miracle, noodle, products, love, rice, ...   \n",
       "\n",
       "                                                 lemmas  \\\n",
       "0     [star, great, pasta, taste, feel, spell, packa...   \n",
       "1     [okay, like, texture, texture, little, strange...   \n",
       "2     [green, noodle, herb, flavor, make, odd, textu...   \n",
       "3     [awesome, substitute, problem, half, fill, bag...   \n",
       "4                             [star, taste, like, cook]   \n",
       "...                                                 ...   \n",
       "4358  [recomend, product, arrive, bag, puncture, sme...   \n",
       "4359                                         [star, ok]   \n",
       "4360  [awful, know, sale, like, noodle, spinach, one...   \n",
       "4361      [try, truly, horrific, like, eat, dead, worm]   \n",
       "4362  [good, miracle, noodle, product, love, rice, n...   \n",
       "\n",
       "                                    tokens-dirty-joined  \\\n",
       "0     four stars great pasta taste and feel but the ...   \n",
       "1     okay but do n't like texture the texture just ...   \n",
       "2     go for the green noodles the herb flavor makes...   \n",
       "3     its an awesome substitute i did n't have a pro...   \n",
       "4     five stars they taste like whatever you cook t...   \n",
       "...                                                 ...   \n",
       "4358  would not recomend product arrived with two of...   \n",
       "4359                                      five stars ok   \n",
       "4360  not awful but now i know why these were on sal...   \n",
       "4361  do n't even try it truly horrific like eating ...   \n",
       "4362  as good as all the other miracle noodle produc...   \n",
       "\n",
       "                                          tokens-joined  \\\n",
       "0     stars great pasta taste feel spell packaged sk...   \n",
       "1     okay like texture texture little strange eat f...   \n",
       "2     green noodles herb flavor makes odd texture sh...   \n",
       "3     awesome substitute problem half filled bag use...   \n",
       "4                                 stars taste like cook   \n",
       "...                                                 ...   \n",
       "4358  recomend product arrived bags punctured smells...   \n",
       "4359                                           stars ok   \n",
       "4360  awful know sale like noodles spinach ones tast...   \n",
       "4361          try truly horrific like eating dead worms   \n",
       "4362  good miracle noodle products love rice noodles...   \n",
       "\n",
       "                                          lemmas-joined  \n",
       "0      star great pasta taste feel spell package skrong  \n",
       "1     okay like texture texture little strange eat f...  \n",
       "2     green noodle herb flavor make odd texture shir...  \n",
       "3     awesome substitute problem half fill bag user ...  \n",
       "4                                  star taste like cook  \n",
       "...                                                 ...  \n",
       "4358     recomend product arrive bag puncture smell bad  \n",
       "4359                                            star ok  \n",
       "4360  awful know sale like noodle spinach one taste ...  \n",
       "4361              try truly horrific like eat dead worm  \n",
       "4362  good miracle noodle product love rice noodle p...  \n",
       "\n",
       "[4363 rows x 17 columns]"
      ]
     },
     "execution_count": 11,
     "metadata": {},
     "output_type": "execute_result"
    }
   ],
   "source": [
    "df = pd.read_json(reviews_fpath)\n",
    "# df = df.reset_index(drop=False)\n",
    "df"
   ]
  },
  {
   "cell_type": "code",
   "execution_count": 12,
   "id": "638d553e-3cef-43e3-a2e5-abc8a723a156",
   "metadata": {
    "execution": {
     "iopub.execute_input": "2024-02-13T01:38:33.137539Z",
     "iopub.status.busy": "2024-02-13T01:38:33.137399Z",
     "iopub.status.idle": "2024-02-13T01:38:33.147793Z",
     "shell.execute_reply": "2024-02-13T01:38:33.147289Z",
     "shell.execute_reply.started": "2024-02-13T01:38:33.137528Z"
    }
   },
   "outputs": [
    {
     "data": {
      "text/plain": [
       "0"
      ]
     },
     "execution_count": 12,
     "metadata": {},
     "output_type": "execute_result"
    }
   ],
   "source": [
    "# Check for duplciate review ids\n",
    "dup_subset_cols = ['asin','reviewerID','review-text-full']\n",
    "df.duplicated(subset=dup_subset_cols).sum()"
   ]
  },
  {
   "cell_type": "code",
   "execution_count": 13,
   "id": "5b3947fb-f36d-40f8-9eaa-eddeef3e907f",
   "metadata": {
    "execution": {
     "iopub.execute_input": "2024-02-13T01:38:33.148620Z",
     "iopub.status.busy": "2024-02-13T01:38:33.148372Z",
     "iopub.status.idle": "2024-02-13T01:38:33.155327Z",
     "shell.execute_reply": "2024-02-13T01:38:33.154661Z",
     "shell.execute_reply.started": "2024-02-13T01:38:33.148608Z"
    }
   },
   "outputs": [
    {
     "data": {
      "text/plain": [
       "42"
      ]
     },
     "execution_count": 13,
     "metadata": {},
     "output_type": "execute_result"
    }
   ],
   "source": [
    "# Check for duplicated review text\n",
    "df.duplicated(subset=['review-text-full']).sum()"
   ]
  },
  {
   "cell_type": "code",
   "execution_count": 14,
   "id": "90cd2783-7931-4e8a-8500-e28e971f1b69",
   "metadata": {
    "execution": {
     "iopub.execute_input": "2024-02-13T01:38:33.157349Z",
     "iopub.status.busy": "2024-02-13T01:38:33.157168Z",
     "iopub.status.idle": "2024-02-13T01:38:33.172420Z",
     "shell.execute_reply": "2024-02-13T01:38:33.171823Z",
     "shell.execute_reply.started": "2024-02-13T01:38:33.157319Z"
    }
   },
   "outputs": [
    {
     "data": {
      "text/plain": [
       "asin                    0\n",
       "reviewerID              0\n",
       "reviewText              0\n",
       "summary                 0\n",
       "overall                 0\n",
       "year                    0\n",
       "title                   0\n",
       "brand                   0\n",
       "category                0\n",
       "review-text-full        0\n",
       "review-text-full_raw    0\n",
       "tokens-dirty            0\n",
       "tokens                  0\n",
       "lemmas                  0\n",
       "tokens-dirty-joined     0\n",
       "tokens-joined           0\n",
       "lemmas-joined           0\n",
       "dtype: int64"
      ]
     },
     "execution_count": 14,
     "metadata": {},
     "output_type": "execute_result"
    }
   ],
   "source": [
    "df.isna().sum()"
   ]
  },
  {
   "cell_type": "code",
   "execution_count": 15,
   "id": "5aa2df62-d2dc-43a9-825a-54863c9fe60b",
   "metadata": {
    "execution": {
     "iopub.execute_input": "2024-02-13T01:38:33.174266Z",
     "iopub.status.busy": "2024-02-13T01:38:33.173905Z",
     "iopub.status.idle": "2024-02-13T01:38:33.503688Z",
     "shell.execute_reply": "2024-02-13T01:38:33.503034Z",
     "shell.execute_reply.started": "2024-02-13T01:38:33.174252Z"
    }
   },
   "outputs": [
    {
     "data": {
      "text/plain": [
       "<Axes: >"
      ]
     },
     "execution_count": 15,
     "metadata": {},
     "output_type": "execute_result"
    },
    {
     "data": {
      "image/png": "[encoded data removed]",
      "text/plain": [
       "<Figure size 2500x1000 with 2 Axes>"
      ]
     },
     "metadata": {},
     "output_type": "display_data"
    }
   ],
   "source": [
    "import missingno\n",
    "missingno.matrix(df)"
   ]
  },
  {
   "cell_type": "markdown",
   "id": "f58bd930-aad1-4b01-80b3-dbb653e41e81",
   "metadata": {},
   "source": [
    "## Set Groups (for EDA & Modeling)"
   ]
  },
  {
   "cell_type": "code",
   "execution_count": 16,
   "id": "4ce9e587",
   "metadata": {},
   "outputs": [
    {
     "data": {
      "text/html": [
       "<svg  width=\"275\" height=\"55\"><rect x=\"0\" y=\"0\" width=\"55\" height=\"55\" style=\"fill:#1f77b4;stroke-width:2;stroke:rgb(255,255,255)\"/><rect x=\"55\" y=\"0\" width=\"55\" height=\"55\" style=\"fill:#ff7f0e;stroke-width:2;stroke:rgb(255,255,255)\"/><rect x=\"110\" y=\"0\" width=\"55\" height=\"55\" style=\"fill:#2ca02c;stroke-width:2;stroke:rgb(255,255,255)\"/><rect x=\"165\" y=\"0\" width=\"55\" height=\"55\" style=\"fill:#d62728;stroke-width:2;stroke:rgb(255,255,255)\"/><rect x=\"220\" y=\"0\" width=\"55\" height=\"55\" style=\"fill:#9467bd;stroke-width:2;stroke:rgb(255,255,255)\"/></svg>"
      ],
      "text/plain": [
       "[(0.12156862745098039, 0.4666666666666667, 0.7058823529411765),\n",
       " (1.0, 0.4980392156862745, 0.054901960784313725),\n",
       " (0.17254901960784313, 0.6274509803921569, 0.17254901960784313),\n",
       " (0.8392156862745098, 0.15294117647058825, 0.1568627450980392),\n",
       " (0.5803921568627451, 0.403921568627451, 0.7411764705882353)]"
      ]
     },
     "execution_count": 16,
     "metadata": {},
     "output_type": "execute_result"
    }
   ],
   "source": [
    "palette_tab10 = sns.palettes.color_palette('tab10',n_colors=len(df['overall'].unique()))\n",
    "palette_tab10"
   ]
  },
  {
   "cell_type": "code",
   "execution_count": 17,
   "id": "281507bf-c58e-4771-b2f8-e91910ff6e84",
   "metadata": {
    "execution": {
     "iopub.execute_input": "2024-02-13T01:38:33.504721Z",
     "iopub.status.busy": "2024-02-13T01:38:33.504538Z",
     "iopub.status.idle": "2024-02-13T01:38:33.590183Z",
     "shell.execute_reply": "2024-02-13T01:38:33.589426Z",
     "shell.execute_reply.started": "2024-02-13T01:38:33.504704Z"
    }
   },
   "outputs": [
    {
     "data": {
      "image/png": "[encoded data removed]",
      "text/plain": [
       "<Figure size 750x500 with 1 Axes>"
      ]
     },
     "metadata": {},
     "output_type": "display_data"
    }
   ],
   "source": [
    "# ds.eda.explore_categorical(df,x='overall');\n",
    "ax = sns.catplot(data=df,x='overall',kind='count', aspect=1.5, hue=\"overall\",\n",
    "            palette=palette_tab10,legend=False)"
   ]
  },
  {
   "cell_type": "markdown",
   "id": "ee844050-97ae-40ba-ba53-cc69c84193e0",
   "metadata": {},
   "source": [
    "To understand what customers do and do not like about Hoover products, we will define 2 groups:\n",
    "- High Ratings\n",
    "    - Overall rating = 5.0\n",
    "- Low Ratings\n",
    "    - Overall rating = 1.0 or 2.0\n",
    "\n",
    "\n",
    "We can use a function and .map to define group names based on the numeric overall ratings."
   ]
  },
  {
   "cell_type": "markdown",
   "id": "1556c634-01bb-4402-ae42-fb95db14d11f",
   "metadata": {},
   "source": [
    "### Define Target Groups (02/08)"
   ]
  },
  {
   "cell_type": "markdown",
   "id": "64f7afea-9d26-410e-8674-777fcef0320c",
   "metadata": {},
   "source": [
    "Binary:\n",
    "- \"High Rating\": = 5\n",
    "- \"Low Rating\": <= 2\n",
    "<!-- \n",
    "Multiclass:\n",
    "- \"High Rating\": >= 8\n",
    "- \"Mid Rating\": 4< x < 8\n",
    "- \"Low Rating\": <4 -->"
   ]
  },
  {
   "cell_type": "code",
   "execution_count": 18,
   "id": "01cf5245-d14b-4a08-8a3c-4b5b1147e323",
   "metadata": {
    "execution": {
     "iopub.execute_input": "2024-02-13T01:38:33.591234Z",
     "iopub.status.busy": "2024-02-13T01:38:33.591093Z",
     "iopub.status.idle": "2024-02-13T01:38:33.595424Z",
     "shell.execute_reply": "2024-02-13T01:38:33.594600Z",
     "shell.execute_reply.started": "2024-02-13T01:38:33.591224Z"
    }
   },
   "outputs": [],
   "source": [
    "def create_groups(x):\n",
    "    if x>=5.0:\n",
    "        return \"High\"\n",
    "    elif x <=2.0:\n",
    "        return \"Low\"\n",
    "    else: \n",
    "        return None\n",
    "    \n",
    "\n",
    "# def set_groups_multi(x):\n",
    "#     if x >= 8:\n",
    "#         group = \"High\"\n",
    "#     elif x>=4:\n",
    "#         group = \"Mid\"\n",
    "#     else:\n",
    "#         group= \"Low\"\n",
    "#     return group"
   ]
  },
  {
   "cell_type": "code",
   "execution_count": 19,
   "id": "a4017876-3aea-4e4e-9a3e-3626c6cc6d5d",
   "metadata": {
    "execution": {
     "iopub.execute_input": "2024-02-13T01:38:33.596274Z",
     "iopub.status.busy": "2024-02-13T01:38:33.596157Z",
     "iopub.status.idle": "2024-02-13T01:38:33.602860Z",
     "shell.execute_reply": "2024-02-13T01:38:33.601729Z",
     "shell.execute_reply.started": "2024-02-13T01:38:33.596264Z"
    }
   },
   "outputs": [
    {
     "data": {
      "text/plain": [
       "target-rating\n",
       "High    1868\n",
       "Low     1437\n",
       "None    1058\n",
       "Name: count, dtype: int64"
      ]
     },
     "execution_count": 19,
     "metadata": {},
     "output_type": "execute_result"
    }
   ],
   "source": [
    "df['target-rating'] = df['overall'].map(create_groups)#set_group_binary)\n",
    "df['target-rating'].value_counts(dropna=False)"
   ]
  },
  {
   "cell_type": "markdown",
   "id": "bc0c12d8-8488-40b5-9288-0bf44f6ec101",
   "metadata": {},
   "source": [
    "### Class Balance\n",
    "\n",
    "It's always a good idea to check the class balance when creating a classification model.  This can affect modeling bias and interpretation of metrics."
   ]
  },
  {
   "cell_type": "code",
   "execution_count": 20,
   "id": "e3aab28f-76e3-4480-a308-b6ae460e3984",
   "metadata": {
    "execution": {
     "iopub.execute_input": "2024-02-13T01:38:33.604029Z",
     "iopub.status.busy": "2024-02-13T01:38:33.603885Z",
     "iopub.status.idle": "2024-02-13T01:38:33.609049Z",
     "shell.execute_reply": "2024-02-13T01:38:33.608541Z",
     "shell.execute_reply.started": "2024-02-13T01:38:33.604019Z"
    }
   },
   "outputs": [
    {
     "data": {
      "text/plain": [
       "target-rating\n",
       "High    0.565204\n",
       "Low     0.434796\n",
       "Name: proportion, dtype: float64"
      ]
     },
     "execution_count": 20,
     "metadata": {},
     "output_type": "execute_result"
    }
   ],
   "source": [
    "df['target-rating'].value_counts(dropna=True, normalize=True)"
   ]
  },
  {
   "cell_type": "code",
   "execution_count": 21,
   "id": "c4cfb390-c3b3-4d48-949f-86992ff31833",
   "metadata": {
    "execution": {
     "iopub.execute_input": "2024-02-13T01:38:33.610216Z",
     "iopub.status.busy": "2024-02-13T01:38:33.610099Z",
     "iopub.status.idle": "2024-02-13T01:38:33.807980Z",
     "shell.execute_reply": "2024-02-13T01:38:33.807615Z",
     "shell.execute_reply.started": "2024-02-13T01:38:33.610207Z"
    }
   },
   "outputs": [],
   "source": [
    "# fig, axes =  plt.subplots(ncols=2, figsize=(10,5))\n",
    "# sns.histplot(data=df, x='overall', hue='target-rating', ax=axes[0])\n",
    "# sns.histplot(data=df, x='target-rating', hue='target-rating', ax=axes[1], legend=False, stat='percent')\n",
    "# fig.tight_layout()"
   ]
  },
  {
   "cell_type": "markdown",
   "id": "05fed98e-841c-47a0-bbaf-9511c70912a0",
   "metadata": {},
   "source": [
    "#### Save Reviews with Target for Modeling (Part 3)"
   ]
  },
  {
   "cell_type": "code",
   "execution_count": 22,
   "id": "13ea02b2-c22a-437f-b260-48b3ae845a6e",
   "metadata": {
    "execution": {
     "iopub.execute_input": "2024-02-13T01:38:33.808780Z",
     "iopub.status.busy": "2024-02-13T01:38:33.808673Z",
     "iopub.status.idle": "2024-02-13T01:38:33.818491Z",
     "shell.execute_reply": "2024-02-13T01:38:33.817980Z",
     "shell.execute_reply.started": "2024-02-13T01:38:33.808770Z"
    }
   },
   "outputs": [
    {
     "data": {
      "text/html": [
       "<div>\n",
       "<style scoped>\n",
       "    .dataframe tbody tr th:only-of-type {\n",
       "        vertical-align: middle;\n",
       "    }\n",
       "\n",
       "    .dataframe tbody tr th {\n",
       "        vertical-align: top;\n",
       "    }\n",
       "\n",
       "    .dataframe thead th {\n",
       "        text-align: right;\n",
       "    }\n",
       "</style>\n",
       "<table border=\"1\" class=\"dataframe\">\n",
       "  <thead>\n",
       "    <tr style=\"text-align: right;\">\n",
       "      <th></th>\n",
       "      <th>asin</th>\n",
       "      <th>reviewerID</th>\n",
       "      <th>reviewText</th>\n",
       "      <th>summary</th>\n",
       "      <th>overall</th>\n",
       "      <th>year</th>\n",
       "      <th>title</th>\n",
       "      <th>brand</th>\n",
       "      <th>category</th>\n",
       "      <th>review-text-full</th>\n",
       "      <th>review-text-full_raw</th>\n",
       "      <th>tokens-dirty</th>\n",
       "      <th>tokens</th>\n",
       "      <th>lemmas</th>\n",
       "      <th>tokens-dirty-joined</th>\n",
       "      <th>tokens-joined</th>\n",
       "      <th>lemmas-joined</th>\n",
       "      <th>target-rating</th>\n",
       "    </tr>\n",
       "  </thead>\n",
       "  <tbody>\n",
       "    <tr>\n",
       "      <th>0</th>\n",
       "      <td>B007JINB0W</td>\n",
       "      <td>A3Y51NV9HU5T2</td>\n",
       "      <td>Great pasta taste and feel, but the spell in t...</td>\n",
       "      <td>Four Stars</td>\n",
       "      <td>4</td>\n",
       "      <td>2018</td>\n",
       "      <td>Miracle Noodle Zero Carb, Gluten Free Shiratak...</td>\n",
       "      <td>Miracle Noodle</td>\n",
       "      <td>Grocery &amp; Gourmet Food; Pasta &amp; Noodles; Noodl...</td>\n",
       "      <td>Four Stars: Great pasta taste and feel, but th...</td>\n",
       "      <td>Four Stars: Great pasta taste and feel, but th...</td>\n",
       "      <td>[four, stars, great, pasta, taste, and, feel, ...</td>\n",
       "      <td>[stars, great, pasta, taste, feel, spell, pack...</td>\n",
       "      <td>[star, great, pasta, taste, feel, spell, packa...</td>\n",
       "      <td>four stars great pasta taste and feel but the ...</td>\n",
       "      <td>stars great pasta taste feel spell packaged sk...</td>\n",
       "      <td>star great pasta taste feel spell package skrong</td>\n",
       "      <td>None</td>\n",
       "    </tr>\n",
       "    <tr>\n",
       "      <th>1</th>\n",
       "      <td>B007JINB0W</td>\n",
       "      <td>A3D7EFSRC6Y9MP</td>\n",
       "      <td>The texture just made it a little strange to e...</td>\n",
       "      <td>Okay but don't like texture</td>\n",
       "      <td>3</td>\n",
       "      <td>2014</td>\n",
       "      <td>Miracle Noodle Zero Carb, Gluten Free Shiratak...</td>\n",
       "      <td>Miracle Noodle</td>\n",
       "      <td>Grocery &amp; Gourmet Food; Pasta &amp; Noodles; Noodl...</td>\n",
       "      <td>Okay but don't like texture: The texture just ...</td>\n",
       "      <td>Okay but don't like texture: The texture just ...</td>\n",
       "      <td>[okay, but, do, n't, like, texture, the, textu...</td>\n",
       "      <td>[okay, like, texture, texture, little, strange...</td>\n",
       "      <td>[okay, like, texture, texture, little, strange...</td>\n",
       "      <td>okay but do n't like texture the texture just ...</td>\n",
       "      <td>okay like texture texture little strange eat f...</td>\n",
       "      <td>okay like texture texture little strange eat f...</td>\n",
       "      <td>None</td>\n",
       "    </tr>\n",
       "    <tr>\n",
       "      <th>2</th>\n",
       "      <td>B007JINB0W</td>\n",
       "      <td>A4AM5KBP3I2R</td>\n",
       "      <td>The herb flavor makes the odd texture of shira...</td>\n",
       "      <td>Go for the green noodles</td>\n",
       "      <td>5</td>\n",
       "      <td>2018</td>\n",
       "      <td>Miracle Noodle Zero Carb, Gluten Free Shiratak...</td>\n",
       "      <td>Miracle Noodle</td>\n",
       "      <td>Grocery &amp; Gourmet Food; Pasta &amp; Noodles; Noodl...</td>\n",
       "      <td>Go for the green noodles: The herb flavor make...</td>\n",
       "      <td>Go for the green noodles: The herb flavor make...</td>\n",
       "      <td>[go, for, the, green, noodles, the, herb, flav...</td>\n",
       "      <td>[green, noodles, herb, flavor, makes, odd, tex...</td>\n",
       "      <td>[green, noodle, herb, flavor, make, odd, textu...</td>\n",
       "      <td>go for the green noodles the herb flavor makes...</td>\n",
       "      <td>green noodles herb flavor makes odd texture sh...</td>\n",
       "      <td>green noodle herb flavor make odd texture shir...</td>\n",
       "      <td>High</td>\n",
       "    </tr>\n",
       "  </tbody>\n",
       "</table>\n",
       "</div>"
      ],
      "text/plain": [
       "         asin      reviewerID  \\\n",
       "0  B007JINB0W   A3Y51NV9HU5T2   \n",
       "1  B007JINB0W  A3D7EFSRC6Y9MP   \n",
       "2  B007JINB0W    A4AM5KBP3I2R   \n",
       "\n",
       "                                          reviewText  \\\n",
       "0  Great pasta taste and feel, but the spell in t...   \n",
       "1  The texture just made it a little strange to e...   \n",
       "2  The herb flavor makes the odd texture of shira...   \n",
       "\n",
       "                       summary  overall  year  \\\n",
       "0                   Four Stars        4  2018   \n",
       "1  Okay but don't like texture        3  2014   \n",
       "2     Go for the green noodles        5  2018   \n",
       "\n",
       "                                               title           brand  \\\n",
       "0  Miracle Noodle Zero Carb, Gluten Free Shiratak...  Miracle Noodle   \n",
       "1  Miracle Noodle Zero Carb, Gluten Free Shiratak...  Miracle Noodle   \n",
       "2  Miracle Noodle Zero Carb, Gluten Free Shiratak...  Miracle Noodle   \n",
       "\n",
       "                                            category  \\\n",
       "0  Grocery & Gourmet Food; Pasta & Noodles; Noodl...   \n",
       "1  Grocery & Gourmet Food; Pasta & Noodles; Noodl...   \n",
       "2  Grocery & Gourmet Food; Pasta & Noodles; Noodl...   \n",
       "\n",
       "                                    review-text-full  \\\n",
       "0  Four Stars: Great pasta taste and feel, but th...   \n",
       "1  Okay but don't like texture: The texture just ...   \n",
       "2  Go for the green noodles: The herb flavor make...   \n",
       "\n",
       "                                review-text-full_raw  \\\n",
       "0  Four Stars: Great pasta taste and feel, but th...   \n",
       "1  Okay but don't like texture: The texture just ...   \n",
       "2  Go for the green noodles: The herb flavor make...   \n",
       "\n",
       "                                        tokens-dirty  \\\n",
       "0  [four, stars, great, pasta, taste, and, feel, ...   \n",
       "1  [okay, but, do, n't, like, texture, the, textu...   \n",
       "2  [go, for, the, green, noodles, the, herb, flav...   \n",
       "\n",
       "                                              tokens  \\\n",
       "0  [stars, great, pasta, taste, feel, spell, pack...   \n",
       "1  [okay, like, texture, texture, little, strange...   \n",
       "2  [green, noodles, herb, flavor, makes, odd, tex...   \n",
       "\n",
       "                                              lemmas  \\\n",
       "0  [star, great, pasta, taste, feel, spell, packa...   \n",
       "1  [okay, like, texture, texture, little, strange...   \n",
       "2  [green, noodle, herb, flavor, make, odd, textu...   \n",
       "\n",
       "                                 tokens-dirty-joined  \\\n",
       "0  four stars great pasta taste and feel but the ...   \n",
       "1  okay but do n't like texture the texture just ...   \n",
       "2  go for the green noodles the herb flavor makes...   \n",
       "\n",
       "                                       tokens-joined  \\\n",
       "0  stars great pasta taste feel spell packaged sk...   \n",
       "1  okay like texture texture little strange eat f...   \n",
       "2  green noodles herb flavor makes odd texture sh...   \n",
       "\n",
       "                                       lemmas-joined target-rating  \n",
       "0   star great pasta taste feel spell package skrong          None  \n",
       "1  okay like texture texture little strange eat f...          None  \n",
       "2  green noodle herb flavor make odd texture shir...          High  "
      ]
     },
     "execution_count": 22,
     "metadata": {},
     "output_type": "execute_result"
    }
   ],
   "source": [
    "df.head(3)"
   ]
  },
  {
   "cell_type": "code",
   "execution_count": 23,
   "id": "3d67a023-ccba-42a7-8d58-dd25c942ac4f",
   "metadata": {
    "execution": {
     "iopub.execute_input": "2024-02-13T01:38:33.819342Z",
     "iopub.status.busy": "2024-02-13T01:38:33.819212Z",
     "iopub.status.idle": "2024-02-13T01:38:33.822036Z",
     "shell.execute_reply": "2024-02-13T01:38:33.821713Z",
     "shell.execute_reply.started": "2024-02-13T01:38:33.819330Z"
    }
   },
   "outputs": [
    {
     "data": {
      "text/plain": [
       "'data/processed/processed-reviews-with-target.json'"
      ]
     },
     "execution_count": 23,
     "metadata": {},
     "output_type": "execute_result"
    }
   ],
   "source": [
    "# Save the df with target columns\n",
    "fpath_out_ml_with_targets =  FPATHS['data']['processed-nlp']['processed-reviews-with-target_json']\n",
    "fpath_out_ml_with_targets"
   ]
  },
  {
   "cell_type": "code",
   "execution_count": 24,
   "id": "924d01ba-c91f-44cc-8352-1bebe5cdf7d3",
   "metadata": {
    "execution": {
     "iopub.execute_input": "2024-02-13T01:38:33.828922Z",
     "iopub.status.busy": "2024-02-13T01:38:33.828565Z",
     "iopub.status.idle": "2024-02-13T01:38:33.832116Z",
     "shell.execute_reply": "2024-02-13T01:38:33.831512Z",
     "shell.execute_reply.started": "2024-02-13T01:38:33.828903Z"
    }
   },
   "outputs": [
    {
     "data": {
      "text/plain": [
       "{'processed-reviews-spacy_json': 'data/processed/processed-reviews.json',\n",
       " 'processed-reviews-spacy_joblib': 'data/processed/processed-reviews.joblib',\n",
       " 'processed-reviews-with-target_json': 'data/processed/processed-reviews-with-target.json',\n",
       " 'processed-reviews-with-target_joblib': 'data/processed/processed-reviews-with-target.joblib'}"
      ]
     },
     "execution_count": 24,
     "metadata": {},
     "output_type": "execute_result"
    }
   ],
   "source": [
    "FPATHS['data']['processed-nlp']"
   ]
  },
  {
   "cell_type": "code",
   "execution_count": 25,
   "id": "5509ae84-6671-43cb-b300-052f30110cf7",
   "metadata": {
    "execution": {
     "iopub.execute_input": "2024-02-13T01:38:33.832680Z",
     "iopub.status.busy": "2024-02-13T01:38:33.832574Z",
     "iopub.status.idle": "2024-02-13T01:38:33.876875Z",
     "shell.execute_reply": "2024-02-13T01:38:33.876503Z",
     "shell.execute_reply.started": "2024-02-13T01:38:33.832671Z"
    }
   },
   "outputs": [],
   "source": [
    "# Save to json\n",
    "df.to_json(fpath_out_ml_with_targets)"
   ]
  },
  {
   "cell_type": "code",
   "execution_count": 26,
   "id": "4997f0a6-1ecb-48f7-a83b-b302052c5cbc",
   "metadata": {
    "execution": {
     "iopub.execute_input": "2024-02-13T01:38:33.877566Z",
     "iopub.status.busy": "2024-02-13T01:38:33.877468Z",
     "iopub.status.idle": "2024-02-13T01:38:33.955604Z",
     "shell.execute_reply": "2024-02-13T01:38:33.955281Z",
     "shell.execute_reply.started": "2024-02-13T01:38:33.877557Z"
    }
   },
   "outputs": [
    {
     "data": {
      "text/html": [
       "<div>\n",
       "<style scoped>\n",
       "    .dataframe tbody tr th:only-of-type {\n",
       "        vertical-align: middle;\n",
       "    }\n",
       "\n",
       "    .dataframe tbody tr th {\n",
       "        vertical-align: top;\n",
       "    }\n",
       "\n",
       "    .dataframe thead th {\n",
       "        text-align: right;\n",
       "    }\n",
       "</style>\n",
       "<table border=\"1\" class=\"dataframe\">\n",
       "  <thead>\n",
       "    <tr style=\"text-align: right;\">\n",
       "      <th></th>\n",
       "      <th>asin</th>\n",
       "      <th>reviewerID</th>\n",
       "      <th>reviewText</th>\n",
       "      <th>summary</th>\n",
       "      <th>overall</th>\n",
       "      <th>year</th>\n",
       "      <th>title</th>\n",
       "      <th>brand</th>\n",
       "      <th>category</th>\n",
       "      <th>review-text-full</th>\n",
       "      <th>review-text-full_raw</th>\n",
       "      <th>tokens-dirty</th>\n",
       "      <th>tokens</th>\n",
       "      <th>lemmas</th>\n",
       "      <th>tokens-dirty-joined</th>\n",
       "      <th>tokens-joined</th>\n",
       "      <th>lemmas-joined</th>\n",
       "      <th>target-rating</th>\n",
       "    </tr>\n",
       "  </thead>\n",
       "  <tbody>\n",
       "    <tr>\n",
       "      <th>0</th>\n",
       "      <td>B007JINB0W</td>\n",
       "      <td>A3Y51NV9HU5T2</td>\n",
       "      <td>Great pasta taste and feel, but the spell in t...</td>\n",
       "      <td>Four Stars</td>\n",
       "      <td>4</td>\n",
       "      <td>2018</td>\n",
       "      <td>Miracle Noodle Zero Carb, Gluten Free Shiratak...</td>\n",
       "      <td>Miracle Noodle</td>\n",
       "      <td>Grocery &amp; Gourmet Food; Pasta &amp; Noodles; Noodl...</td>\n",
       "      <td>Four Stars: Great pasta taste and feel, but th...</td>\n",
       "      <td>Four Stars: Great pasta taste and feel, but th...</td>\n",
       "      <td>[four, stars, great, pasta, taste, and, feel, ...</td>\n",
       "      <td>[stars, great, pasta, taste, feel, spell, pack...</td>\n",
       "      <td>[star, great, pasta, taste, feel, spell, packa...</td>\n",
       "      <td>four stars great pasta taste and feel but the ...</td>\n",
       "      <td>stars great pasta taste feel spell packaged sk...</td>\n",
       "      <td>star great pasta taste feel spell package skrong</td>\n",
       "      <td>None</td>\n",
       "    </tr>\n",
       "    <tr>\n",
       "      <th>1</th>\n",
       "      <td>B007JINB0W</td>\n",
       "      <td>A3D7EFSRC6Y9MP</td>\n",
       "      <td>The texture just made it a little strange to e...</td>\n",
       "      <td>Okay but don't like texture</td>\n",
       "      <td>3</td>\n",
       "      <td>2014</td>\n",
       "      <td>Miracle Noodle Zero Carb, Gluten Free Shiratak...</td>\n",
       "      <td>Miracle Noodle</td>\n",
       "      <td>Grocery &amp; Gourmet Food; Pasta &amp; Noodles; Noodl...</td>\n",
       "      <td>Okay but don't like texture: The texture just ...</td>\n",
       "      <td>Okay but don't like texture: The texture just ...</td>\n",
       "      <td>[okay, but, do, n't, like, texture, the, textu...</td>\n",
       "      <td>[okay, like, texture, texture, little, strange...</td>\n",
       "      <td>[okay, like, texture, texture, little, strange...</td>\n",
       "      <td>okay but do n't like texture the texture just ...</td>\n",
       "      <td>okay like texture texture little strange eat f...</td>\n",
       "      <td>okay like texture texture little strange eat f...</td>\n",
       "      <td>None</td>\n",
       "    </tr>\n",
       "    <tr>\n",
       "      <th>2</th>\n",
       "      <td>B007JINB0W</td>\n",
       "      <td>A4AM5KBP3I2R</td>\n",
       "      <td>The herb flavor makes the odd texture of shira...</td>\n",
       "      <td>Go for the green noodles</td>\n",
       "      <td>5</td>\n",
       "      <td>2018</td>\n",
       "      <td>Miracle Noodle Zero Carb, Gluten Free Shiratak...</td>\n",
       "      <td>Miracle Noodle</td>\n",
       "      <td>Grocery &amp; Gourmet Food; Pasta &amp; Noodles; Noodl...</td>\n",
       "      <td>Go for the green noodles: The herb flavor make...</td>\n",
       "      <td>Go for the green noodles: The herb flavor make...</td>\n",
       "      <td>[go, for, the, green, noodles, the, herb, flav...</td>\n",
       "      <td>[green, noodles, herb, flavor, makes, odd, tex...</td>\n",
       "      <td>[green, noodle, herb, flavor, make, odd, textu...</td>\n",
       "      <td>go for the green noodles the herb flavor makes...</td>\n",
       "      <td>green noodles herb flavor makes odd texture sh...</td>\n",
       "      <td>green noodle herb flavor make odd texture shir...</td>\n",
       "      <td>High</td>\n",
       "    </tr>\n",
       "    <tr>\n",
       "      <th>3</th>\n",
       "      <td>B007JINB0W</td>\n",
       "      <td>A3GHK4IL78DB7Y</td>\n",
       "      <td>I didn't have a problem at all with a half fil...</td>\n",
       "      <td>Its an awesome substitute.</td>\n",
       "      <td>5</td>\n",
       "      <td>2018</td>\n",
       "      <td>Miracle Noodle Zero Carb, Gluten Free Shiratak...</td>\n",
       "      <td>Miracle Noodle</td>\n",
       "      <td>Grocery &amp; Gourmet Food; Pasta &amp; Noodles; Noodl...</td>\n",
       "      <td>Its an awesome substitute.: I didn't have a pr...</td>\n",
       "      <td>Its an awesome substitute.: I didn't have a pr...</td>\n",
       "      <td>[its, an, awesome, substitute, i, did, n't, ha...</td>\n",
       "      <td>[awesome, substitute, problem, half, filled, b...</td>\n",
       "      <td>[awesome, substitute, problem, half, fill, bag...</td>\n",
       "      <td>its an awesome substitute i did n't have a pro...</td>\n",
       "      <td>awesome substitute problem half filled bag use...</td>\n",
       "      <td>awesome substitute problem half fill bag user ...</td>\n",
       "      <td>High</td>\n",
       "    </tr>\n",
       "    <tr>\n",
       "      <th>4</th>\n",
       "      <td>B007JINB0W</td>\n",
       "      <td>AH3B94LQOPPY6</td>\n",
       "      <td>They taste like whatever you cook them with.</td>\n",
       "      <td>Five Stars</td>\n",
       "      <td>5</td>\n",
       "      <td>2016</td>\n",
       "      <td>Miracle Noodle Zero Carb, Gluten Free Shiratak...</td>\n",
       "      <td>Miracle Noodle</td>\n",
       "      <td>Grocery &amp; Gourmet Food; Pasta &amp; Noodles; Noodl...</td>\n",
       "      <td>Five Stars: They taste like whatever you cook ...</td>\n",
       "      <td>Five Stars: They taste like whatever you cook ...</td>\n",
       "      <td>[five, stars, they, taste, like, whatever, you...</td>\n",
       "      <td>[stars, taste, like, cook]</td>\n",
       "      <td>[star, taste, like, cook]</td>\n",
       "      <td>five stars they taste like whatever you cook t...</td>\n",
       "      <td>stars taste like cook</td>\n",
       "      <td>star taste like cook</td>\n",
       "      <td>High</td>\n",
       "    </tr>\n",
       "    <tr>\n",
       "      <th>...</th>\n",
       "      <td>...</td>\n",
       "      <td>...</td>\n",
       "      <td>...</td>\n",
       "      <td>...</td>\n",
       "      <td>...</td>\n",
       "      <td>...</td>\n",
       "      <td>...</td>\n",
       "      <td>...</td>\n",
       "      <td>...</td>\n",
       "      <td>...</td>\n",
       "      <td>...</td>\n",
       "      <td>...</td>\n",
       "      <td>...</td>\n",
       "      <td>...</td>\n",
       "      <td>...</td>\n",
       "      <td>...</td>\n",
       "      <td>...</td>\n",
       "      <td>...</td>\n",
       "    </tr>\n",
       "    <tr>\n",
       "      <th>4358</th>\n",
       "      <td>B007JINB0W</td>\n",
       "      <td>A73IG1ED6S0JR</td>\n",
       "      <td>Product arrived with two of the bags punctured...</td>\n",
       "      <td>would not recomend</td>\n",
       "      <td>1</td>\n",
       "      <td>2016</td>\n",
       "      <td>Miracle Noodle Zero Carb, Gluten Free Shiratak...</td>\n",
       "      <td>Miracle Noodle</td>\n",
       "      <td>Grocery &amp; Gourmet Food; Pasta &amp; Noodles; Noodl...</td>\n",
       "      <td>would not recomend: Product arrived with two o...</td>\n",
       "      <td>would not recomend: Product arrived with two o...</td>\n",
       "      <td>[would, not, recomend, product, arrived, with,...</td>\n",
       "      <td>[recomend, product, arrived, bags, punctured, ...</td>\n",
       "      <td>[recomend, product, arrive, bag, puncture, sme...</td>\n",
       "      <td>would not recomend product arrived with two of...</td>\n",
       "      <td>recomend product arrived bags punctured smells...</td>\n",
       "      <td>recomend product arrive bag puncture smell bad</td>\n",
       "      <td>Low</td>\n",
       "    </tr>\n",
       "    <tr>\n",
       "      <th>4359</th>\n",
       "      <td>B007JINB0W</td>\n",
       "      <td>A1XZ2H0MYG54M0</td>\n",
       "      <td>Ok.</td>\n",
       "      <td>Five Stars</td>\n",
       "      <td>5</td>\n",
       "      <td>2016</td>\n",
       "      <td>Miracle Noodle Zero Carb, Gluten Free Shiratak...</td>\n",
       "      <td>Miracle Noodle</td>\n",
       "      <td>Grocery &amp; Gourmet Food; Pasta &amp; Noodles; Noodl...</td>\n",
       "      <td>Five Stars: Ok.</td>\n",
       "      <td>Five Stars: Ok.</td>\n",
       "      <td>[five, stars, ok]</td>\n",
       "      <td>[stars, ok]</td>\n",
       "      <td>[star, ok]</td>\n",
       "      <td>five stars ok</td>\n",
       "      <td>stars ok</td>\n",
       "      <td>star ok</td>\n",
       "      <td>High</td>\n",
       "    </tr>\n",
       "    <tr>\n",
       "      <th>4360</th>\n",
       "      <td>B007JINB0W</td>\n",
       "      <td>A3I2YF0MXB7P0B</td>\n",
       "      <td>I like these noodles but the spinach ones just...</td>\n",
       "      <td>Not awful, but now I know why these were on sale.</td>\n",
       "      <td>2</td>\n",
       "      <td>2013</td>\n",
       "      <td>Miracle Noodle Zero Carb, Gluten Free Shiratak...</td>\n",
       "      <td>Miracle Noodle</td>\n",
       "      <td>Grocery &amp; Gourmet Food; Pasta &amp; Noodles; Noodl...</td>\n",
       "      <td>Not awful, but now I know why these were on sa...</td>\n",
       "      <td>Not awful, but now I know why these were on sa...</td>\n",
       "      <td>[not, awful, but, now, i, know, why, these, we...</td>\n",
       "      <td>[awful, know, sale, like, noodles, spinach, on...</td>\n",
       "      <td>[awful, know, sale, like, noodle, spinach, one...</td>\n",
       "      <td>not awful but now i know why these were on sal...</td>\n",
       "      <td>awful know sale like noodles spinach ones tast...</td>\n",
       "      <td>awful know sale like noodle spinach one taste ...</td>\n",
       "      <td>Low</td>\n",
       "    </tr>\n",
       "    <tr>\n",
       "      <th>4361</th>\n",
       "      <td>B007JINB0W</td>\n",
       "      <td>A2UELLFLITPMT1</td>\n",
       "      <td>Truly horrific. Like eating dead worms.</td>\n",
       "      <td>Don't even try it.</td>\n",
       "      <td>1</td>\n",
       "      <td>2017</td>\n",
       "      <td>Miracle Noodle Zero Carb, Gluten Free Shiratak...</td>\n",
       "      <td>Miracle Noodle</td>\n",
       "      <td>Grocery &amp; Gourmet Food; Pasta &amp; Noodles; Noodl...</td>\n",
       "      <td>Don't even try it.: Truly horrific. Like eatin...</td>\n",
       "      <td>Don't even try it.: Truly horrific. Like eatin...</td>\n",
       "      <td>[do, n't, even, try, it, truly, horrific, like...</td>\n",
       "      <td>[try, truly, horrific, like, eating, dead, worms]</td>\n",
       "      <td>[try, truly, horrific, like, eat, dead, worm]</td>\n",
       "      <td>do n't even try it truly horrific like eating ...</td>\n",
       "      <td>try truly horrific like eating dead worms</td>\n",
       "      <td>try truly horrific like eat dead worm</td>\n",
       "      <td>Low</td>\n",
       "    </tr>\n",
       "    <tr>\n",
       "      <th>4362</th>\n",
       "      <td>B007JINB0W</td>\n",
       "      <td>A178M2AHNWQZB0</td>\n",
       "      <td>We love the rice noodles, and have problems fi...</td>\n",
       "      <td>As good as all the other Miracle noodle products</td>\n",
       "      <td>5</td>\n",
       "      <td>2017</td>\n",
       "      <td>Miracle Noodle Zero Carb, Gluten Free Shiratak...</td>\n",
       "      <td>Miracle Noodle</td>\n",
       "      <td>Grocery &amp; Gourmet Food; Pasta &amp; Noodles; Noodl...</td>\n",
       "      <td>As good as all the other Miracle noodle produc...</td>\n",
       "      <td>As good as all the other Miracle noodle produc...</td>\n",
       "      <td>[as, good, as, all, the, other, miracle, noodl...</td>\n",
       "      <td>[good, miracle, noodle, products, love, rice, ...</td>\n",
       "      <td>[good, miracle, noodle, product, love, rice, n...</td>\n",
       "      <td>as good as all the other miracle noodle produc...</td>\n",
       "      <td>good miracle noodle products love rice noodles...</td>\n",
       "      <td>good miracle noodle product love rice noodle p...</td>\n",
       "      <td>High</td>\n",
       "    </tr>\n",
       "  </tbody>\n",
       "</table>\n",
       "<p>4363 rows × 18 columns</p>\n",
       "</div>"
      ],
      "text/plain": [
       "            asin      reviewerID  \\\n",
       "0     B007JINB0W   A3Y51NV9HU5T2   \n",
       "1     B007JINB0W  A3D7EFSRC6Y9MP   \n",
       "2     B007JINB0W    A4AM5KBP3I2R   \n",
       "3     B007JINB0W  A3GHK4IL78DB7Y   \n",
       "4     B007JINB0W   AH3B94LQOPPY6   \n",
       "...          ...             ...   \n",
       "4358  B007JINB0W   A73IG1ED6S0JR   \n",
       "4359  B007JINB0W  A1XZ2H0MYG54M0   \n",
       "4360  B007JINB0W  A3I2YF0MXB7P0B   \n",
       "4361  B007JINB0W  A2UELLFLITPMT1   \n",
       "4362  B007JINB0W  A178M2AHNWQZB0   \n",
       "\n",
       "                                             reviewText  \\\n",
       "0     Great pasta taste and feel, but the spell in t...   \n",
       "1     The texture just made it a little strange to e...   \n",
       "2     The herb flavor makes the odd texture of shira...   \n",
       "3     I didn't have a problem at all with a half fil...   \n",
       "4         They taste like whatever you cook them with.    \n",
       "...                                                 ...   \n",
       "4358  Product arrived with two of the bags punctured...   \n",
       "4359                                                Ok.   \n",
       "4360  I like these noodles but the spinach ones just...   \n",
       "4361            Truly horrific. Like eating dead worms.   \n",
       "4362  We love the rice noodles, and have problems fi...   \n",
       "\n",
       "                                                summary  overall  year  \\\n",
       "0                                            Four Stars        4  2018   \n",
       "1                           Okay but don't like texture        3  2014   \n",
       "2                              Go for the green noodles        5  2018   \n",
       "3                            Its an awesome substitute.        5  2018   \n",
       "4                                            Five Stars        5  2016   \n",
       "...                                                 ...      ...   ...   \n",
       "4358                                 would not recomend        1  2016   \n",
       "4359                                         Five Stars        5  2016   \n",
       "4360  Not awful, but now I know why these were on sale.        2  2013   \n",
       "4361                                 Don't even try it.        1  2017   \n",
       "4362   As good as all the other Miracle noodle products        5  2017   \n",
       "\n",
       "                                                  title           brand  \\\n",
       "0     Miracle Noodle Zero Carb, Gluten Free Shiratak...  Miracle Noodle   \n",
       "1     Miracle Noodle Zero Carb, Gluten Free Shiratak...  Miracle Noodle   \n",
       "2     Miracle Noodle Zero Carb, Gluten Free Shiratak...  Miracle Noodle   \n",
       "3     Miracle Noodle Zero Carb, Gluten Free Shiratak...  Miracle Noodle   \n",
       "4     Miracle Noodle Zero Carb, Gluten Free Shiratak...  Miracle Noodle   \n",
       "...                                                 ...             ...   \n",
       "4358  Miracle Noodle Zero Carb, Gluten Free Shiratak...  Miracle Noodle   \n",
       "4359  Miracle Noodle Zero Carb, Gluten Free Shiratak...  Miracle Noodle   \n",
       "4360  Miracle Noodle Zero Carb, Gluten Free Shiratak...  Miracle Noodle   \n",
       "4361  Miracle Noodle Zero Carb, Gluten Free Shiratak...  Miracle Noodle   \n",
       "4362  Miracle Noodle Zero Carb, Gluten Free Shiratak...  Miracle Noodle   \n",
       "\n",
       "                                               category  \\\n",
       "0     Grocery & Gourmet Food; Pasta & Noodles; Noodl...   \n",
       "1     Grocery & Gourmet Food; Pasta & Noodles; Noodl...   \n",
       "2     Grocery & Gourmet Food; Pasta & Noodles; Noodl...   \n",
       "3     Grocery & Gourmet Food; Pasta & Noodles; Noodl...   \n",
       "4     Grocery & Gourmet Food; Pasta & Noodles; Noodl...   \n",
       "...                                                 ...   \n",
       "4358  Grocery & Gourmet Food; Pasta & Noodles; Noodl...   \n",
       "4359  Grocery & Gourmet Food; Pasta & Noodles; Noodl...   \n",
       "4360  Grocery & Gourmet Food; Pasta & Noodles; Noodl...   \n",
       "4361  Grocery & Gourmet Food; Pasta & Noodles; Noodl...   \n",
       "4362  Grocery & Gourmet Food; Pasta & Noodles; Noodl...   \n",
       "\n",
       "                                       review-text-full  \\\n",
       "0     Four Stars: Great pasta taste and feel, but th...   \n",
       "1     Okay but don't like texture: The texture just ...   \n",
       "2     Go for the green noodles: The herb flavor make...   \n",
       "3     Its an awesome substitute.: I didn't have a pr...   \n",
       "4     Five Stars: They taste like whatever you cook ...   \n",
       "...                                                 ...   \n",
       "4358  would not recomend: Product arrived with two o...   \n",
       "4359                                    Five Stars: Ok.   \n",
       "4360  Not awful, but now I know why these were on sa...   \n",
       "4361  Don't even try it.: Truly horrific. Like eatin...   \n",
       "4362  As good as all the other Miracle noodle produc...   \n",
       "\n",
       "                                   review-text-full_raw  \\\n",
       "0     Four Stars: Great pasta taste and feel, but th...   \n",
       "1     Okay but don't like texture: The texture just ...   \n",
       "2     Go for the green noodles: The herb flavor make...   \n",
       "3     Its an awesome substitute.: I didn't have a pr...   \n",
       "4     Five Stars: They taste like whatever you cook ...   \n",
       "...                                                 ...   \n",
       "4358  would not recomend: Product arrived with two o...   \n",
       "4359                                    Five Stars: Ok.   \n",
       "4360  Not awful, but now I know why these were on sa...   \n",
       "4361  Don't even try it.: Truly horrific. Like eatin...   \n",
       "4362  As good as all the other Miracle noodle produc...   \n",
       "\n",
       "                                           tokens-dirty  \\\n",
       "0     [four, stars, great, pasta, taste, and, feel, ...   \n",
       "1     [okay, but, do, n't, like, texture, the, textu...   \n",
       "2     [go, for, the, green, noodles, the, herb, flav...   \n",
       "3     [its, an, awesome, substitute, i, did, n't, ha...   \n",
       "4     [five, stars, they, taste, like, whatever, you...   \n",
       "...                                                 ...   \n",
       "4358  [would, not, recomend, product, arrived, with,...   \n",
       "4359                                  [five, stars, ok]   \n",
       "4360  [not, awful, but, now, i, know, why, these, we...   \n",
       "4361  [do, n't, even, try, it, truly, horrific, like...   \n",
       "4362  [as, good, as, all, the, other, miracle, noodl...   \n",
       "\n",
       "                                                 tokens  \\\n",
       "0     [stars, great, pasta, taste, feel, spell, pack...   \n",
       "1     [okay, like, texture, texture, little, strange...   \n",
       "2     [green, noodles, herb, flavor, makes, odd, tex...   \n",
       "3     [awesome, substitute, problem, half, filled, b...   \n",
       "4                            [stars, taste, like, cook]   \n",
       "...                                                 ...   \n",
       "4358  [recomend, product, arrived, bags, punctured, ...   \n",
       "4359                                        [stars, ok]   \n",
       "4360  [awful, know, sale, like, noodles, spinach, on...   \n",
       "4361  [try, truly, horrific, like, eating, dead, worms]   \n",
       "4362  [good, miracle, noodle, products, love, rice, ...   \n",
       "\n",
       "                                                 lemmas  \\\n",
       "0     [star, great, pasta, taste, feel, spell, packa...   \n",
       "1     [okay, like, texture, texture, little, strange...   \n",
       "2     [green, noodle, herb, flavor, make, odd, textu...   \n",
       "3     [awesome, substitute, problem, half, fill, bag...   \n",
       "4                             [star, taste, like, cook]   \n",
       "...                                                 ...   \n",
       "4358  [recomend, product, arrive, bag, puncture, sme...   \n",
       "4359                                         [star, ok]   \n",
       "4360  [awful, know, sale, like, noodle, spinach, one...   \n",
       "4361      [try, truly, horrific, like, eat, dead, worm]   \n",
       "4362  [good, miracle, noodle, product, love, rice, n...   \n",
       "\n",
       "                                    tokens-dirty-joined  \\\n",
       "0     four stars great pasta taste and feel but the ...   \n",
       "1     okay but do n't like texture the texture just ...   \n",
       "2     go for the green noodles the herb flavor makes...   \n",
       "3     its an awesome substitute i did n't have a pro...   \n",
       "4     five stars they taste like whatever you cook t...   \n",
       "...                                                 ...   \n",
       "4358  would not recomend product arrived with two of...   \n",
       "4359                                      five stars ok   \n",
       "4360  not awful but now i know why these were on sal...   \n",
       "4361  do n't even try it truly horrific like eating ...   \n",
       "4362  as good as all the other miracle noodle produc...   \n",
       "\n",
       "                                          tokens-joined  \\\n",
       "0     stars great pasta taste feel spell packaged sk...   \n",
       "1     okay like texture texture little strange eat f...   \n",
       "2     green noodles herb flavor makes odd texture sh...   \n",
       "3     awesome substitute problem half filled bag use...   \n",
       "4                                 stars taste like cook   \n",
       "...                                                 ...   \n",
       "4358  recomend product arrived bags punctured smells...   \n",
       "4359                                           stars ok   \n",
       "4360  awful know sale like noodles spinach ones tast...   \n",
       "4361          try truly horrific like eating dead worms   \n",
       "4362  good miracle noodle products love rice noodles...   \n",
       "\n",
       "                                          lemmas-joined target-rating  \n",
       "0      star great pasta taste feel spell package skrong          None  \n",
       "1     okay like texture texture little strange eat f...          None  \n",
       "2     green noodle herb flavor make odd texture shir...          High  \n",
       "3     awesome substitute problem half fill bag user ...          High  \n",
       "4                                  star taste like cook          High  \n",
       "...                                                 ...           ...  \n",
       "4358     recomend product arrive bag puncture smell bad           Low  \n",
       "4359                                            star ok          High  \n",
       "4360  awful know sale like noodle spinach one taste ...           Low  \n",
       "4361              try truly horrific like eat dead worm           Low  \n",
       "4362  good miracle noodle product love rice noodle p...          High  \n",
       "\n",
       "[4363 rows x 18 columns]"
      ]
     },
     "execution_count": 26,
     "metadata": {},
     "output_type": "execute_result"
    }
   ],
   "source": [
    "# Test saved json file\n",
    "pd.read_json(fpath_out_ml_with_targets)"
   ]
  },
  {
   "cell_type": "code",
   "execution_count": 27,
   "id": "640d3f17-f104-44a5-babf-b9228291eb08",
   "metadata": {
    "execution": {
     "iopub.execute_input": "2024-02-13T01:38:33.956120Z",
     "iopub.status.busy": "2024-02-13T01:38:33.956029Z",
     "iopub.status.idle": "2024-02-13T01:38:33.958760Z",
     "shell.execute_reply": "2024-02-13T01:38:33.958459Z",
     "shell.execute_reply.started": "2024-02-13T01:38:33.956111Z"
    }
   },
   "outputs": [
    {
     "data": {
      "text/plain": [
       "'data/processed/processed-reviews-with-target.joblib'"
      ]
     },
     "execution_count": 27,
     "metadata": {},
     "output_type": "execute_result"
    }
   ],
   "source": [
    "FPATHS['data']['processed-nlp']['processed-reviews-with-target_joblib']"
   ]
  },
  {
   "cell_type": "code",
   "execution_count": 28,
   "id": "46b07bdf-fc59-4d18-8339-e0d6a514c69b",
   "metadata": {
    "execution": {
     "iopub.execute_input": "2024-02-13T01:38:33.959465Z",
     "iopub.status.busy": "2024-02-13T01:38:33.959354Z",
     "iopub.status.idle": "2024-02-13T01:38:36.345844Z",
     "shell.execute_reply": "2024-02-13T01:38:36.345486Z",
     "shell.execute_reply.started": "2024-02-13T01:38:33.959456Z"
    },
    "scrolled": true
   },
   "outputs": [
    {
     "data": {
      "text/plain": [
       "['data/processed/processed-reviews-with-target.joblib']"
      ]
     },
     "execution_count": 28,
     "metadata": {},
     "output_type": "execute_result"
    }
   ],
   "source": [
    "import joblib\n",
    "joblib.dump(df, FPATHS['data']['processed-nlp']['processed-reviews-with-target_joblib'],compress=9)"
   ]
  },
  {
   "cell_type": "code",
   "execution_count": 29,
   "id": "d4e9ee2f-d518-4926-b2ed-a4078b2b43d3",
   "metadata": {
    "execution": {
     "iopub.execute_input": "2024-02-13T01:38:36.346988Z",
     "iopub.status.busy": "2024-02-13T01:38:36.346809Z",
     "iopub.status.idle": "2024-02-13T01:38:36.354251Z",
     "shell.execute_reply": "2024-02-13T01:38:36.353896Z",
     "shell.execute_reply.started": "2024-02-13T01:38:36.346977Z"
    }
   },
   "outputs": [
    {
     "data": {
      "text/html": [
       "<div>\n",
       "<style scoped>\n",
       "    .dataframe tbody tr th:only-of-type {\n",
       "        vertical-align: middle;\n",
       "    }\n",
       "\n",
       "    .dataframe tbody tr th {\n",
       "        vertical-align: top;\n",
       "    }\n",
       "\n",
       "    .dataframe thead th {\n",
       "        text-align: right;\n",
       "    }\n",
       "</style>\n",
       "<table border=\"1\" class=\"dataframe\">\n",
       "  <thead>\n",
       "    <tr style=\"text-align: right;\">\n",
       "      <th></th>\n",
       "      <th>reviewerID</th>\n",
       "      <th>review-text-full</th>\n",
       "      <th>overall</th>\n",
       "      <th>target-rating</th>\n",
       "    </tr>\n",
       "  </thead>\n",
       "  <tbody>\n",
       "    <tr>\n",
       "      <th>0</th>\n",
       "      <td>A3Y51NV9HU5T2</td>\n",
       "      <td>Four Stars: Great pasta taste and feel, but th...</td>\n",
       "      <td>4</td>\n",
       "      <td>None</td>\n",
       "    </tr>\n",
       "    <tr>\n",
       "      <th>1</th>\n",
       "      <td>A3D7EFSRC6Y9MP</td>\n",
       "      <td>Okay but don't like texture: The texture just ...</td>\n",
       "      <td>3</td>\n",
       "      <td>None</td>\n",
       "    </tr>\n",
       "    <tr>\n",
       "      <th>2</th>\n",
       "      <td>A4AM5KBP3I2R</td>\n",
       "      <td>Go for the green noodles: The herb flavor make...</td>\n",
       "      <td>5</td>\n",
       "      <td>High</td>\n",
       "    </tr>\n",
       "    <tr>\n",
       "      <th>3</th>\n",
       "      <td>A3GHK4IL78DB7Y</td>\n",
       "      <td>Its an awesome substitute.: I didn't have a pr...</td>\n",
       "      <td>5</td>\n",
       "      <td>High</td>\n",
       "    </tr>\n",
       "    <tr>\n",
       "      <th>4</th>\n",
       "      <td>AH3B94LQOPPY6</td>\n",
       "      <td>Five Stars: They taste like whatever you cook ...</td>\n",
       "      <td>5</td>\n",
       "      <td>High</td>\n",
       "    </tr>\n",
       "    <tr>\n",
       "      <th>...</th>\n",
       "      <td>...</td>\n",
       "      <td>...</td>\n",
       "      <td>...</td>\n",
       "      <td>...</td>\n",
       "    </tr>\n",
       "    <tr>\n",
       "      <th>4358</th>\n",
       "      <td>A73IG1ED6S0JR</td>\n",
       "      <td>would not recomend: Product arrived with two o...</td>\n",
       "      <td>1</td>\n",
       "      <td>Low</td>\n",
       "    </tr>\n",
       "    <tr>\n",
       "      <th>4359</th>\n",
       "      <td>A1XZ2H0MYG54M0</td>\n",
       "      <td>Five Stars: Ok.</td>\n",
       "      <td>5</td>\n",
       "      <td>High</td>\n",
       "    </tr>\n",
       "    <tr>\n",
       "      <th>4360</th>\n",
       "      <td>A3I2YF0MXB7P0B</td>\n",
       "      <td>Not awful, but now I know why these were on sa...</td>\n",
       "      <td>2</td>\n",
       "      <td>Low</td>\n",
       "    </tr>\n",
       "    <tr>\n",
       "      <th>4361</th>\n",
       "      <td>A2UELLFLITPMT1</td>\n",
       "      <td>Don't even try it.: Truly horrific. Like eatin...</td>\n",
       "      <td>1</td>\n",
       "      <td>Low</td>\n",
       "    </tr>\n",
       "    <tr>\n",
       "      <th>4362</th>\n",
       "      <td>A178M2AHNWQZB0</td>\n",
       "      <td>As good as all the other Miracle noodle produc...</td>\n",
       "      <td>5</td>\n",
       "      <td>High</td>\n",
       "    </tr>\n",
       "  </tbody>\n",
       "</table>\n",
       "<p>4363 rows × 4 columns</p>\n",
       "</div>"
      ],
      "text/plain": [
       "          reviewerID                                   review-text-full  \\\n",
       "0      A3Y51NV9HU5T2  Four Stars: Great pasta taste and feel, but th...   \n",
       "1     A3D7EFSRC6Y9MP  Okay but don't like texture: The texture just ...   \n",
       "2       A4AM5KBP3I2R  Go for the green noodles: The herb flavor make...   \n",
       "3     A3GHK4IL78DB7Y  Its an awesome substitute.: I didn't have a pr...   \n",
       "4      AH3B94LQOPPY6  Five Stars: They taste like whatever you cook ...   \n",
       "...              ...                                                ...   \n",
       "4358   A73IG1ED6S0JR  would not recomend: Product arrived with two o...   \n",
       "4359  A1XZ2H0MYG54M0                                    Five Stars: Ok.   \n",
       "4360  A3I2YF0MXB7P0B  Not awful, but now I know why these were on sa...   \n",
       "4361  A2UELLFLITPMT1  Don't even try it.: Truly horrific. Like eatin...   \n",
       "4362  A178M2AHNWQZB0  As good as all the other Miracle noodle produc...   \n",
       "\n",
       "      overall target-rating  \n",
       "0           4          None  \n",
       "1           3          None  \n",
       "2           5          High  \n",
       "3           5          High  \n",
       "4           5          High  \n",
       "...       ...           ...  \n",
       "4358        1           Low  \n",
       "4359        5          High  \n",
       "4360        2           Low  \n",
       "4361        1           Low  \n",
       "4362        5          High  \n",
       "\n",
       "[4363 rows x 4 columns]"
      ]
     },
     "execution_count": 29,
     "metadata": {},
     "output_type": "execute_result"
    }
   ],
   "source": [
    "# Saving MVP test case \n",
    "mvp_cols = ['reviewerID','review-text-full',\n",
    "            'overall',\n",
    "            'target-rating']\n",
    "df[mvp_cols]"
   ]
  },
  {
   "cell_type": "code",
   "execution_count": 30,
   "id": "a4915397-a737-4195-af76-b4859c14baf4",
   "metadata": {
    "execution": {
     "iopub.execute_input": "2024-02-13T01:38:36.355111Z",
     "iopub.status.busy": "2024-02-13T01:38:36.354928Z",
     "iopub.status.idle": "2024-02-13T01:38:36.384440Z",
     "shell.execute_reply": "2024-02-13T01:38:36.384061Z",
     "shell.execute_reply.started": "2024-02-13T01:38:36.355095Z"
    }
   },
   "outputs": [],
   "source": [
    "fpath_llm = FPATHS['data']['app']['reviews-with-target-for-llm_csv']\n",
    "df[mvp_cols].to_csv(fpath_llm, index=False)"
   ]
  },
  {
   "cell_type": "markdown",
   "id": "c95e30c6-a531-4582-a8f8-621be53d8917",
   "metadata": {},
   "source": [
    "# Part 2) EDA and Visualization"
   ]
  },
  {
   "cell_type": "markdown",
   "id": "d3b011c1-3106-42ca-aa16-240d4306a2aa",
   "metadata": {},
   "source": [
    "**2) EDA and Visualization:**\n",
    "\n",
    "- Create word clouds to visualize the most frequent and significant words in each group.\n",
    "    - Remember, you can use this analysis to identify additional custom EDA stop words to use for visualization. (e.g., if the words are common in both groups)\n",
    "    - **Save your wordclouds as .png files in the \"Images/\" folder in your repo.**\n",
    "\n",
    "\n",
    "\n",
    "- Apply nltk's `FreqDist` class to compare the frequency distribution of words in the review groups.\n",
    "    - Remember, you can use this analysis to identify additional custom EDA stop words to use for visualization. (e.g., if the words are common in both groups)\n",
    "    - **Save your freq dist plots as .png files in the \"Images/\" folder in your repo.**\n",
    "\n",
    "\n",
    "\n",
    "- Perform n-grams analysis (bigrams and trigrams),\n",
    "    - Remember, you can use this analysis to identify additional custom stop words to use for EDA. (e.g., if the words are common in both groups)\n",
    "    - Focus on bigrams or trigrams, using NLTK's `BigramCollocationFinder` and BigramAssocMeasures classes (or the Trigram equivalent Finder and Measures) to explore commonly used groups of words for each rating-group.\n",
    "    - Describe any differences. What do these differences tell you?\n",
    "    - `Save your...`?\n",
    "\n",
    "\n",
    "\n",
    "- Perform sentiment analysis to create polarity scores according to VADERS's sentiment lexicon.\n",
    "\n",
    "    - Compare the sentiments of high-rating and low-rating texts.\n",
    "\n",
    "    - Compare the average sentiment scores for high and low-rating reviews.\n",
    "\n",
    "    - Which review polarity scores don't match the ratings? Why do you think this is?\n",
    "\n",
    "        \n",
    "\n",
    "**3) Evaluation and Reporting:**\n",
    "\n",
    "- Based on your analyses, what should someone do (or not do) if they want to make a highly-rated movie?\n",
    "    - List 3 things associated with high-rating reviews\n",
    "    - List 3 things associated with low-rating reviews."
   ]
  },
  {
   "cell_type": "markdown",
   "id": "ebee29ae-1b9b-4d0a-a685-094462a123b4",
   "metadata": {},
   "source": [
    "> Adding imports as-if standalone notebook"
   ]
  },
  {
   "cell_type": "code",
   "execution_count": 31,
   "id": "54bf32a6-73c4-48df-bfd8-a4a69de471c9",
   "metadata": {
    "execution": {
     "iopub.execute_input": "2024-02-13T01:38:36.385198Z",
     "iopub.status.busy": "2024-02-13T01:38:36.385062Z",
     "iopub.status.idle": "2024-02-13T01:38:42.500315Z",
     "shell.execute_reply": "2024-02-13T01:38:42.499725Z",
     "shell.execute_reply.started": "2024-02-13T01:38:36.385186Z"
    }
   },
   "outputs": [],
   "source": [
    "import matplotlib.pyplot as plt\n",
    "import missingno\n",
    "import matplotlib as mpl\n",
    "import seaborn as sns\n",
    "import numpy as np\n",
    "import pandas as pd\n",
    "\n",
    "import spacy\n",
    "# nlp_custom = fn.nlp.make_custom_nlp(disable=['ner','parser'],contractions=[],\n",
    "#                             stopwords_to_add=[\"★\"])\n",
    "# nlp_custom\n",
    "# # Disable parser and ner\n",
    "# # nlp_light = spacy.load(\"en_core_web_sm\", disable=['parser','ner'])"
   ]
  },
  {
   "cell_type": "markdown",
   "id": "eb668e76",
   "metadata": {},
   "source": [
    "## Topic Analysis"
   ]
  },
  {
   "cell_type": "code",
   "execution_count": 32,
   "id": "e29ee382",
   "metadata": {},
   "outputs": [
    {
     "data": {
      "text/plain": [
       "<spacy.lang.en.English at 0x32c240370>"
      ]
     },
     "execution_count": 32,
     "metadata": {},
     "output_type": "execute_result"
    }
   ],
   "source": [
    "import spacy\n",
    "nlp = spacy.load(\"en_core_web_sm\", disable=['parser','ner'])\n",
    "nlp"
   ]
  },
  {
   "cell_type": "code",
   "execution_count": 33,
   "id": "f6935b76",
   "metadata": {},
   "outputs": [
    {
     "data": {
      "text/plain": [
       "0    Four Stars: Great pasta taste and feel, but th...\n",
       "1    Okay but don't like texture: The texture just ...\n",
       "2    Go for the green noodles: The herb flavor make...\n",
       "Name: review-text-full, dtype: object"
      ]
     },
     "execution_count": 33,
     "metadata": {},
     "output_type": "execute_result"
    }
   ],
   "source": [
    "df['review-text-full'].head(3)"
   ]
  },
  {
   "cell_type": "code",
   "execution_count": 35,
   "id": "c2967403",
   "metadata": {},
   "outputs": [
    {
     "data": {
      "text/plain": [
       "spacy.tokens.doc.Doc"
      ]
     },
     "execution_count": 35,
     "metadata": {},
     "output_type": "execute_result"
    }
   ],
   "source": [
    "spacy.tokens.Doc"
   ]
  },
  {
   "cell_type": "code",
   "execution_count": 36,
   "id": "910feb01",
   "metadata": {},
   "outputs": [],
   "source": [
    "def preprocess(text):\n",
    "    if isinstance(text, spacy.tokens.Doc)==False:\n",
    "        doc = nlp(text)\n",
    "    else:\n",
    "        doc = text\n",
    "    result = [token.lemma_ for token in doc if not token.is_stop and len(token) > 3]\n",
    "    return result"
   ]
  },
  {
   "cell_type": "code",
   "execution_count": 37,
   "id": "4e4fc100",
   "metadata": {},
   "outputs": [],
   "source": [
    "lemmas = []\n",
    "for doc in  nlp.pipe(df['review-text-full'], batch_size=100, n_process=-1):\n",
    "    lemmas.append(preprocess(doc))"
   ]
  },
  {
   "cell_type": "code",
   "execution_count": 38,
   "id": "16a961e0",
   "metadata": {},
   "outputs": [
    {
     "name": "stdout",
     "output_type": "stream",
     "text": [
      "len(lemmas)=4363, len(df['review-text-full'])=4363\n"
     ]
    },
    {
     "data": {
      "text/plain": [
       "[['star', 'great', 'pasta', 'taste', 'feel', 'spell', 'package', 'SKRONG'],\n",
       " ['okay',\n",
       "  'like',\n",
       "  'texture',\n",
       "  'texture',\n",
       "  'little',\n",
       "  'strange',\n",
       "  'flavor',\n",
       "  'okay',\n",
       "  'bland',\n",
       "  'spice'],\n",
       " ['green',\n",
       "  'noodle',\n",
       "  'herb',\n",
       "  'flavor',\n",
       "  'make',\n",
       "  'texture',\n",
       "  'shirataki',\n",
       "  'palatable'],\n",
       " ['awesome',\n",
       "  'substitute',\n",
       "  'problem',\n",
       "  'half',\n",
       "  'fill',\n",
       "  'user',\n",
       "  'say',\n",
       "  'concern',\n",
       "  'take',\n",
       "  'chance',\n",
       "  'problem',\n",
       "  'find',\n",
       "  'good',\n",
       "  'initial',\n",
       "  'smell',\n",
       "  'boil',\n",
       "  'cube',\n",
       "  'bouillon',\n",
       "  'texture',\n",
       "  'good',\n",
       "  'notice',\n",
       "  'replace',\n",
       "  'noodle',\n",
       "  'mind'],\n",
       " ['star', 'taste', 'like', 'cook'],\n",
       " ['love',\n",
       "  'come',\n",
       "  'italian',\n",
       "  'girl',\n",
       "  'resist',\n",
       "  'pasta',\n",
       "  'dish',\n",
       "  'savior',\n",
       "  'avoid',\n",
       "  'carb',\n",
       "  'want',\n",
       "  'tasty',\n",
       "  'meal',\n",
       "  'smell',\n",
       "  'little',\n",
       "  'funky',\n",
       "  'open',\n",
       "  'package',\n",
       "  'go',\n",
       "  'away',\n",
       "  'rince',\n",
       "  'water',\n",
       "  'miss',\n",
       "  'regular',\n",
       "  'pasta',\n",
       "  'anymore',\n",
       "  'love'],\n",
       " ['taste',\n",
       "  'okay',\n",
       "  'taste',\n",
       "  'okay',\n",
       "  'expect',\n",
       "  'zero',\n",
       "  'calorie',\n",
       "  'lunch',\n",
       "  'day',\n",
       "  'dieting',\n",
       "  'usually',\n",
       "  'little',\n",
       "  'free',\n",
       "  'italian',\n",
       "  'dressing',\n",
       "  'calorie',\n",
       "  'yeah',\n",
       "  'gourmet',\n",
       "  'meal',\n",
       "  'lose',\n",
       "  'feel',\n",
       "  'hungry',\n",
       "  'pretty',\n",
       "  'sick',\n",
       "  'lose',\n",
       "  'smell-',\n",
       "  'liquid',\n",
       "  'pack',\n",
       "  'rinse',\n",
       "  'minute',\n",
       "  'smell',\n",
       "  'go',\n",
       "  'away',\n",
       "  'deal'],\n",
       " ['rate',\n",
       "  'noodle',\n",
       "  'like',\n",
       "  'noodle',\n",
       "  'rate',\n",
       "  'thing',\n",
       "  'invest',\n",
       "  'dollar',\n",
       "  'package',\n",
       "  'tell',\n",
       "  'like',\n",
       "  'know',\n",
       "  'people',\n",
       "  'consider',\n",
       "  'tasteless',\n",
       "  'think',\n",
       "  'good',\n",
       "  'bland',\n",
       "  'like',\n",
       "  'noodle',\n",
       "  'taste',\n",
       "  'versatile',\n",
       "  'think',\n",
       "  'replacement',\n",
       "  'noodle',\n",
       "  'recipe'],\n",
       " ['star', 'smell', 'rinse', 'rice', 'good'],\n",
       " ['rinse',\n",
       "  'thoroughly',\n",
       "  'band',\n",
       "  'like',\n",
       "  'able',\n",
       "  'zucchini',\n",
       "  'spiral',\n",
       "  'lazy',\n",
       "  'pasta',\n",
       "  'guilt',\n",
       "  'kid',\n",
       "  'touch',\n",
       "  'pole']]"
      ]
     },
     "execution_count": 38,
     "metadata": {},
     "output_type": "execute_result"
    }
   ],
   "source": [
    "print(f\"{len(lemmas)=}, {len(df['review-text-full'])=}\")\n",
    "lemmas[:10]"
   ]
  },
  {
   "cell_type": "code",
   "execution_count": 39,
   "id": "48d24422",
   "metadata": {},
   "outputs": [
    {
     "data": {
      "text/html": [
       "<div>\n",
       "<style scoped>\n",
       "    .dataframe tbody tr th:only-of-type {\n",
       "        vertical-align: middle;\n",
       "    }\n",
       "\n",
       "    .dataframe tbody tr th {\n",
       "        vertical-align: top;\n",
       "    }\n",
       "\n",
       "    .dataframe thead th {\n",
       "        text-align: right;\n",
       "    }\n",
       "</style>\n",
       "<table border=\"1\" class=\"dataframe\">\n",
       "  <thead>\n",
       "    <tr style=\"text-align: right;\">\n",
       "      <th></th>\n",
       "      <th>asin</th>\n",
       "      <th>reviewerID</th>\n",
       "      <th>reviewText</th>\n",
       "      <th>summary</th>\n",
       "      <th>overall</th>\n",
       "      <th>year</th>\n",
       "      <th>title</th>\n",
       "      <th>brand</th>\n",
       "      <th>category</th>\n",
       "      <th>review-text-full</th>\n",
       "      <th>review-text-full_raw</th>\n",
       "      <th>tokens-dirty</th>\n",
       "      <th>tokens</th>\n",
       "      <th>lemmas</th>\n",
       "      <th>tokens-dirty-joined</th>\n",
       "      <th>tokens-joined</th>\n",
       "      <th>lemmas-joined</th>\n",
       "      <th>target-rating</th>\n",
       "    </tr>\n",
       "  </thead>\n",
       "  <tbody>\n",
       "    <tr>\n",
       "      <th>0</th>\n",
       "      <td>B007JINB0W</td>\n",
       "      <td>A3Y51NV9HU5T2</td>\n",
       "      <td>Great pasta taste and feel, but the spell in t...</td>\n",
       "      <td>Four Stars</td>\n",
       "      <td>4</td>\n",
       "      <td>2018</td>\n",
       "      <td>Miracle Noodle Zero Carb, Gluten Free Shiratak...</td>\n",
       "      <td>Miracle Noodle</td>\n",
       "      <td>Grocery &amp; Gourmet Food; Pasta &amp; Noodles; Noodl...</td>\n",
       "      <td>Four Stars: Great pasta taste and feel, but th...</td>\n",
       "      <td>Four Stars: Great pasta taste and feel, but th...</td>\n",
       "      <td>[four, stars, great, pasta, taste, and, feel, ...</td>\n",
       "      <td>[stars, great, pasta, taste, feel, spell, pack...</td>\n",
       "      <td>[star, great, pasta, taste, feel, spell, packa...</td>\n",
       "      <td>four stars great pasta taste and feel but the ...</td>\n",
       "      <td>stars great pasta taste feel spell packaged sk...</td>\n",
       "      <td>star great pasta taste feel spell package skrong</td>\n",
       "      <td>None</td>\n",
       "    </tr>\n",
       "    <tr>\n",
       "      <th>1</th>\n",
       "      <td>B007JINB0W</td>\n",
       "      <td>A3D7EFSRC6Y9MP</td>\n",
       "      <td>The texture just made it a little strange to e...</td>\n",
       "      <td>Okay but don't like texture</td>\n",
       "      <td>3</td>\n",
       "      <td>2014</td>\n",
       "      <td>Miracle Noodle Zero Carb, Gluten Free Shiratak...</td>\n",
       "      <td>Miracle Noodle</td>\n",
       "      <td>Grocery &amp; Gourmet Food; Pasta &amp; Noodles; Noodl...</td>\n",
       "      <td>Okay but don't like texture: The texture just ...</td>\n",
       "      <td>Okay but don't like texture: The texture just ...</td>\n",
       "      <td>[okay, but, do, n't, like, texture, the, textu...</td>\n",
       "      <td>[okay, like, texture, texture, little, strange...</td>\n",
       "      <td>[okay, like, texture, texture, little, strange...</td>\n",
       "      <td>okay but do n't like texture the texture just ...</td>\n",
       "      <td>okay like texture texture little strange eat f...</td>\n",
       "      <td>okay like texture texture little strange eat f...</td>\n",
       "      <td>None</td>\n",
       "    </tr>\n",
       "  </tbody>\n",
       "</table>\n",
       "</div>"
      ],
      "text/plain": [
       "         asin      reviewerID  \\\n",
       "0  B007JINB0W   A3Y51NV9HU5T2   \n",
       "1  B007JINB0W  A3D7EFSRC6Y9MP   \n",
       "\n",
       "                                          reviewText  \\\n",
       "0  Great pasta taste and feel, but the spell in t...   \n",
       "1  The texture just made it a little strange to e...   \n",
       "\n",
       "                       summary  overall  year  \\\n",
       "0                   Four Stars        4  2018   \n",
       "1  Okay but don't like texture        3  2014   \n",
       "\n",
       "                                               title           brand  \\\n",
       "0  Miracle Noodle Zero Carb, Gluten Free Shiratak...  Miracle Noodle   \n",
       "1  Miracle Noodle Zero Carb, Gluten Free Shiratak...  Miracle Noodle   \n",
       "\n",
       "                                            category  \\\n",
       "0  Grocery & Gourmet Food; Pasta & Noodles; Noodl...   \n",
       "1  Grocery & Gourmet Food; Pasta & Noodles; Noodl...   \n",
       "\n",
       "                                    review-text-full  \\\n",
       "0  Four Stars: Great pasta taste and feel, but th...   \n",
       "1  Okay but don't like texture: The texture just ...   \n",
       "\n",
       "                                review-text-full_raw  \\\n",
       "0  Four Stars: Great pasta taste and feel, but th...   \n",
       "1  Okay but don't like texture: The texture just ...   \n",
       "\n",
       "                                        tokens-dirty  \\\n",
       "0  [four, stars, great, pasta, taste, and, feel, ...   \n",
       "1  [okay, but, do, n't, like, texture, the, textu...   \n",
       "\n",
       "                                              tokens  \\\n",
       "0  [stars, great, pasta, taste, feel, spell, pack...   \n",
       "1  [okay, like, texture, texture, little, strange...   \n",
       "\n",
       "                                              lemmas  \\\n",
       "0  [star, great, pasta, taste, feel, spell, packa...   \n",
       "1  [okay, like, texture, texture, little, strange...   \n",
       "\n",
       "                                 tokens-dirty-joined  \\\n",
       "0  four stars great pasta taste and feel but the ...   \n",
       "1  okay but do n't like texture the texture just ...   \n",
       "\n",
       "                                       tokens-joined  \\\n",
       "0  stars great pasta taste feel spell packaged sk...   \n",
       "1  okay like texture texture little strange eat f...   \n",
       "\n",
       "                                       lemmas-joined target-rating  \n",
       "0   star great pasta taste feel spell package skrong          None  \n",
       "1  okay like texture texture little strange eat f...          None  "
      ]
     },
     "execution_count": 39,
     "metadata": {},
     "output_type": "execute_result"
    }
   ],
   "source": [
    "df['lemmas'] = lemmas\n",
    "df.head(2)"
   ]
  },
  {
   "cell_type": "markdown",
   "id": "bb5c7579",
   "metadata": {},
   "source": [
    "## @ChatGPT Here:"
   ]
  },
  {
   "cell_type": "markdown",
   "id": "7472519e",
   "metadata": {},
   "source": [
    "### Step 3: Prepare the data for LDA\n"
   ]
  },
  {
   "cell_type": "markdown",
   "id": "e3724311",
   "metadata": {},
   "source": [
    "> Needed to install `pip install scipy==1.10.1` due to triu missing from scipy error.\n"
   ]
  },
  {
   "cell_type": "code",
   "execution_count": 47,
   "id": "a28cc018",
   "metadata": {},
   "outputs": [
    {
     "name": "stdout",
     "output_type": "stream",
     "text": [
      "gensim.__version__='4.3.2', scipy.__version__='1.10.1'\n"
     ]
    }
   ],
   "source": [
    "import gensim\n",
    "import  scipy\n",
    "from gensim.models.ldamodel import LdaModel\n",
    "import pyLDAvis.gensim_models as gensimvis\n",
    "import pyLDAvis\n",
    "from gensim import corpora\n",
    "\n",
    "\n",
    "print(f\"{gensim.__version__=}, {scipy.__version__=}\")"
   ]
  },
  {
   "cell_type": "code",
   "execution_count": 48,
   "id": "e4465d30",
   "metadata": {},
   "outputs": [],
   "source": [
    "\n",
    "# Separate group\n",
    "high_reviews = df.loc[df['target-rating']=='High','lemmas']\n",
    "low_reviews = df.loc[df['target-rating']=='Low','lemmas']\n",
    "\n",
    "# Create dictionary and corpus for high-rating reviews\n",
    "high_dictionary = corpora.Dictionary(high_reviews)\n",
    "high_corpus = [high_dictionary.doc2bow(text) for text in high_reviews]\n",
    "\n",
    "# Create dictionary and corpus for low-rating reviews\n",
    "low_dictionary = corpora.Dictionary(low_reviews)\n",
    "low_corpus = [low_dictionary.doc2bow(text) for text in low_reviews]\n"
   ]
  },
  {
   "cell_type": "code",
   "execution_count": 49,
   "id": "da79b72b",
   "metadata": {},
   "outputs": [],
   "source": [
    "# Number of topics\n",
    "num_topics = 5\n",
    "\n",
    "# LDA model for high-rating reviews\n",
    "high_lda = LdaModel(high_corpus, num_topics=num_topics, id2word=high_dictionary, passes=15)\n",
    "\n",
    "# LDA model for low-rating reviews\n",
    "low_lda = LdaModel(low_corpus, num_topics=num_topics, id2word=low_dictionary, passes=15)"
   ]
  },
  {
   "cell_type": "code",
   "execution_count": 50,
   "id": "d6d7f4fe",
   "metadata": {},
   "outputs": [
    {
     "name": "stdout",
     "output_type": "stream",
     "text": [
      "High Rating Reviews Topics:\n",
      "Topic: 0 \n",
      "Words: 0.015*\"love\" + 0.015*\"calorie\" + 0.013*\"soup\" + 0.013*\"great\" + 0.013*\"good\" + 0.009*\"pasta\" + 0.009*\"food\" + 0.008*\"cook\" + 0.008*\"diet\" + 0.007*\"carb\"\n",
      "Topic: 1 \n",
      "Words: 0.034*\"noodle\" + 0.021*\"sauce\" + 0.019*\"great\" + 0.018*\"pasta\" + 0.017*\"taste\" + 0.016*\"carb\" + 0.015*\"good\" + 0.015*\"like\" + 0.015*\"rinse\" + 0.014*\"rice\"\n",
      "Topic: 2 \n",
      "Words: 0.038*\"noodle\" + 0.026*\"pasta\" + 0.021*\"sauce\" + 0.018*\"rinse\" + 0.016*\"like\" + 0.015*\"water\" + 0.014*\"smell\" + 0.013*\"calorie\" + 0.011*\"minute\" + 0.010*\"dish\"\n",
      "Topic: 3 \n",
      "Words: 0.056*\"noodle\" + 0.028*\"like\" + 0.027*\"love\" + 0.020*\"rice\" + 0.017*\"carb\" + 0.013*\"texture\" + 0.013*\"smell\" + 0.013*\"pasta\" + 0.012*\"taste\" + 0.011*\"rinse\"\n",
      "Topic: 4 \n",
      "Words: 0.079*\"star\" + 0.066*\"great\" + 0.038*\"good\" + 0.035*\"product\" + 0.027*\"love\" + 0.027*\"carb\" + 0.023*\"pasta\" + 0.023*\"taste\" + 0.015*\"rice\" + 0.013*\"substitute\"\n",
      "Low Rating Reviews Topics:\n",
      "Topic: 0 \n",
      "Words: 0.039*\"noodle\" + 0.028*\"package\" + 0.024*\"order\" + 0.018*\"product\" + 0.014*\"bag\" + 0.013*\"receive\" + 0.013*\"pack\" + 0.012*\"water\" + 0.011*\"leak\" + 0.010*\"hair\"\n",
      "Topic: 1 \n",
      "Words: 0.012*\"carb\" + 0.011*\"disgusting\" + 0.010*\"smell\" + 0.010*\"texture\" + 0.010*\"wrong\" + 0.009*\"noodle\" + 0.008*\"eat\" + 0.008*\"follow\" + 0.007*\"like\" + 0.007*\"sorry\"\n",
      "Topic: 2 \n",
      "Words: 0.056*\"noodle\" + 0.033*\"like\" + 0.021*\"smell\" + 0.012*\"texture\" + 0.011*\"good\" + 0.011*\"time\" + 0.010*\"eat\" + 0.010*\"rinse\" + 0.010*\"taste\" + 0.009*\"water\"\n",
      "Topic: 3 \n",
      "Words: 0.060*\"like\" + 0.047*\"taste\" + 0.044*\"texture\" + 0.037*\"smell\" + 0.027*\"Star\" + 0.017*\"horrible\" + 0.017*\"star\" + 0.017*\"fish\" + 0.015*\"noodle\" + 0.014*\"product\"\n",
      "Topic: 4 \n",
      "Words: 0.042*\"like\" + 0.026*\"texture\" + 0.022*\"taste\" + 0.021*\"rice\" + 0.021*\"pasta\" + 0.018*\"try\" + 0.015*\"noodle\" + 0.012*\"sauce\" + 0.011*\"look\" + 0.010*\"good\"\n"
     ]
    }
   ],
   "source": [
    "# Print the topics for high-rating reviews\n",
    "print(\"High Rating Reviews Topics:\")\n",
    "for idx, topic in high_lda.print_topics(-1):\n",
    "    print(f\"Topic: {idx} \\nWords: {topic}\")\n",
    "\n",
    "# Print the topics for low-rating reviews\n",
    "print(\"Low Rating Reviews Topics:\")\n",
    "for idx, topic in low_lda.print_topics(-1):\n",
    "    print(f\"Topic: {idx} \\nWords: {topic}\")"
   ]
  },
  {
   "cell_type": "code",
   "execution_count": 53,
   "id": "4f7dd79a",
   "metadata": {},
   "outputs": [
    {
     "name": "stdout",
     "output_type": "stream",
     "text": [
      "Requirement already satisfied: tabulate in /opt/homebrew/Caskroom/miniforge/base/envs/nlp-env/lib/python3.10/site-packages (0.9.0)\n"
     ]
    }
   ],
   "source": [
    "!pip install tabulate"
   ]
  },
  {
   "cell_type": "code",
   "execution_count": 66,
   "id": "f9d91633",
   "metadata": {},
   "outputs": [
    {
     "name": "stdout",
     "output_type": "stream",
     "text": [
      "High Rating Reviews Topics (Rows):\n",
      "+---------+----------------+-----------------+---------------+-----------------+---------------+-----------------+---------------+-----------------+----------------+--------------------+\n",
      "|  Topic  |     Word 1     |     Word 2      |    Word 3     |     Word 4      |    Word 5     |     Word 6      |    Word 7     |     Word 8      |     Word 9     |      Word 10       |\n",
      "+---------+----------------+-----------------+---------------+-----------------+---------------+-----------------+---------------+-----------------+----------------+--------------------+\n",
      "| Topic 1 |  love (0.015)  | calorie (0.015) | soup (0.013)  |  great (0.013)  | good (0.013)  |  pasta (0.009)  | food (0.009)  |  cook (0.008)   |  diet (0.008)  |    carb (0.007)    |\n",
      "| Topic 2 | noodle (0.034) |  sauce (0.021)  | great (0.019) |  pasta (0.018)  | taste (0.017) |  carb (0.016)   | good (0.015)  |  like (0.015)   | rinse (0.015)  |    rice (0.014)    |\n",
      "| Topic 3 | noodle (0.038) |  pasta (0.026)  | sauce (0.021) |  rinse (0.018)  | like (0.016)  |  water (0.015)  | smell (0.014) | calorie (0.013) | minute (0.011) |    dish (0.010)    |\n",
      "| Topic 4 | noodle (0.056) |  like (0.028)   | love (0.027)  |  rice (0.020)   | carb (0.017)  | texture (0.013) | smell (0.013) |  pasta (0.013)  | taste (0.012)  |   rinse (0.011)    |\n",
      "| Topic 5 |  star (0.079)  |  great (0.066)  | good (0.038)  | product (0.035) | love (0.027)  |  carb (0.027)   | pasta (0.023) |  taste (0.023)  |  rice (0.015)  | substitute (0.013) |\n",
      "+---------+----------------+-----------------+---------------+-----------------+---------------+-----------------+---------------+-----------------+----------------+--------------------+\n",
      "Low Rating Reviews Topics (Columns):\n",
      "+---------+----------------+--------------------+-----------------+-----------------+---------------+------------------+----------------+----------------+----------------+-----------------+\n",
      "|  Topic  |     Word 1     |       Word 2       |     Word 3      |     Word 4      |    Word 5     |      Word 6      |     Word 7     |     Word 8     |     Word 9     |     Word 10     |\n",
      "+---------+----------------+--------------------+-----------------+-----------------+---------------+------------------+----------------+----------------+----------------+-----------------+\n",
      "| Topic 1 | noodle (0.039) |  package (0.028)   |  order (0.024)  | product (0.018) |  bag (0.014)  | receive (0.013)  |  pack (0.013)  | water (0.012)  |  leak (0.011)  |  hair (0.010)   |\n",
      "| Topic 2 |  carb (0.012)  | disgusting (0.011) |  smell (0.010)  | texture (0.010) | wrong (0.010) |  noodle (0.009)  |  eat (0.008)   | follow (0.008) |  like (0.007)  |  sorry (0.007)  |\n",
      "| Topic 3 | noodle (0.056) |    like (0.033)    |  smell (0.021)  | texture (0.012) | good (0.011)  |   time (0.011)   |  eat (0.010)   | rinse (0.010)  | taste (0.010)  |  water (0.009)  |\n",
      "| Topic 4 |  like (0.060)  |   taste (0.047)    | texture (0.044) |  smell (0.037)  | Star (0.027)  | horrible (0.017) |  star (0.017)  |  fish (0.017)  | noodle (0.015) | product (0.014) |\n",
      "| Topic 5 |  like (0.042)  |  texture (0.026)   |  taste (0.022)  |  rice (0.021)   | pasta (0.021) |   try (0.018)    | noodle (0.015) | sauce (0.012)  |  look (0.011)  |  good (0.010)   |\n",
      "+---------+----------------+--------------------+-----------------+-----------------+---------------+------------------+----------------+----------------+----------------+-----------------+\n"
     ]
    }
   ],
   "source": [
    "from tabulate import tabulate\n",
    "\n",
    "def print_topics_table(lda_model, num_topics, orientation=\"rows\", print_output=True):\n",
    "    topics_words = lda_model.print_topics(num_topics=num_topics)\n",
    "\n",
    "    if orientation == \"rows\":\n",
    "        table_data = []\n",
    "        for idx, topic in topics_words:\n",
    "            words = topic.split(\" + \")\n",
    "            words = [\"{} ({})\".format(word.split('*')[1].replace('\"', ''), word.split('*')[0]) for word in words]\n",
    "            table_data.append([\"Topic {}\".format(idx + 1)] + words)\n",
    "\n",
    "        # Ensure all rows have the same number of columns\n",
    "        max_words = max(len(topic) for topic in table_data)\n",
    "        for topic in table_data:\n",
    "            while len(topic) < max_words:\n",
    "                topic.append(\"\")  # Fill shorter rows with empty strings\n",
    "\n",
    "        headers = [\"Topic\"] + [\"Word {}\".format(i + 1) for i in range(max_words - 1)]\n",
    "\n",
    "    elif orientation == \"columns\":\n",
    "        table_data = [[] for _ in range(num_topics)]\n",
    "        for idx, topic in topics_words:\n",
    "            words = topic.split(\" + \")\n",
    "            words = [\"{} ({})\".format(word.split('*')[1].replace('\"', ''), word.split('*')[0]) for word in words]\n",
    "            table_data[idx].extend(words)\n",
    "\n",
    "        # Transpose the data to have topics as columns\n",
    "        max_words = max(len(topic) for topic in table_data)\n",
    "        for topic in table_data:\n",
    "            while len(topic) < max_words:\n",
    "                topic.append(\"\")  # Fill shorter topics with empty strings\n",
    "\n",
    "        table_data = list(map(list, zip(*table_data)))\n",
    "        headers = [\"Topic {}\".format(i + 1) for i in range(num_topics)]\n",
    "\n",
    "    else:\n",
    "        raise ValueError(\"Invalid orientation. Choose 'rows' or 'columns'.\")\n",
    "\n",
    "    table = tabulate(table_data, headers=headers, tablefmt=\"pretty\")\n",
    "\n",
    "    if print_output:\n",
    "        print(table)\n",
    "    else:\n",
    "        return table\n",
    "\n",
    "# Print the topics for high-rating reviews as rows\n",
    "print(\"High Rating Reviews Topics (Rows):\")\n",
    "print_topics_table(high_lda, num_topics, orientation=\"rows\")\n",
    "\n",
    "# Print the topics for low-rating reviews as columns\n",
    "print(\"Low Rating Reviews Topics (Columns):\")\n",
    "print_topics_table(low_lda, num_topics, orientation=\"rows\")\n"
   ]
  },
  {
   "cell_type": "markdown",
   "id": "7e14fad2",
   "metadata": {},
   "source": [
    "\n",
    "\n",
    "#### Explanation:\n",
    "\n",
    "1. **Define Function with `orientation` kwarg**:\n",
    "   - The function `print_topics_table` accepts an additional keyword argument `orientation` which can be either `\"rows\"` or `\"columns\"`, and a boolean `print_output` to control whether to print or return the table.\n",
    "\n",
    "2. **Handle Rows Orientation**:\n",
    "   - If `orientation` is `\"rows\"`, the function processes the topics to have each topic as a row with words as columns.\n",
    "   - Ensures all rows have the same number of columns by filling shorter rows with empty strings.\n",
    "   - Defines headers accordingly and uses `tabulate` to format the table.\n",
    "\n",
    "3. **Handle Columns Orientation**:\n",
    "   - If `orientation` is `\"columns\"`, the function processes the topics to have each topic as a column with words as rows.\n",
    "   - Ensures all topics (columns) have the same number of rows by filling shorter columns with empty strings.\n",
    "   - Transposes the data to have topics as columns.\n",
    "   - Defines headers accordingly and uses `tabulate` to format the table.\n",
    "\n",
    "4. **Raise Error for Invalid Orientation**:\n",
    "   - If an invalid orientation is provided, the function raises a `ValueError`.\n",
    "\n",
    "5. **Print or Return Table**:\n",
    "   - If `print_output` is `True`, the table is printed.\n",
    "   - If `print_output` is `False`, the table is returned as a string.\n",
    "\n",
    "This modification makes the function flexible, allowing you to choose the orientation of the topics table and control whether the output is printed or returned."
   ]
  },
  {
   "cell_type": "code",
   "execution_count": 68,
   "id": "bec926dd",
   "metadata": {},
   "outputs": [],
   "source": [
    "\n",
    "# def topics_to_dataframe(lda_model, num_topics, orientation=\"rows\"):\n",
    "#     topics_words = lda_model.print_topics(num_topics=num_topics)\n",
    "    \n",
    "#     if orientation == \"rows\":\n",
    "#         data = {\"Topic\": [], \"Word\": [], \"Weight\": []}\n",
    "#         for idx, topic in topics_words:\n",
    "#             words = topic.split(\" + \")\n",
    "#             for word in words:\n",
    "#                 weight, term = word.split('*')\n",
    "#                 data[\"Topic\"].append(f\"Topic {idx + 1}\")\n",
    "#                 data[\"Word\"].append(term.replace('\"', ''))\n",
    "#                 data[\"Weight\"].append(float(weight))\n",
    "#         df = pd.DataFrame(data)\n",
    "\n",
    "#     elif orientation == \"columns\":\n",
    "#         data = {}\n",
    "#         for idx, topic in topics_words:\n",
    "#             words = topic.split(\" + \")\n",
    "#             topic_words = []\n",
    "#             topic_weights = []\n",
    "#             for word in words:\n",
    "#                 weight, term = word.split('*')\n",
    "#                 topic_words.append(term.replace('\"', ''))\n",
    "#                 topic_weights.append(float(weight))\n",
    "#             data[f\"Topic {idx + 1} Words\"] = topic_words\n",
    "#             data[f\"Topic {idx + 1} Weights\"] = topic_weights\n",
    "\n",
    "#         # Convert dictionary to DataFrame and fill shorter columns with NaN\n",
    "#         df = pd.DataFrame.from_dict(data, orient='index').transpose()\n",
    "\n",
    "#     else:\n",
    "#         raise ValueError(\"Invalid orientation. Choose 'rows' or 'columns'.\")\n",
    "    \n",
    "#     return df\n",
    "\n",
    "# # Get the topics for high-rating reviews as rows in a DataFrame\n",
    "# print(\"High Rating Reviews Topics (Rows):\")\n",
    "# df_high_rows = topics_to_dataframe(high_lda, num_topics, orientation=\"rows\")\n",
    "# display(df_high_rows)\n",
    "# # Get the topics for low-rating reviews as columns in a DataFrame\n",
    "# print(\"Low Rating Reviews Topics (Columns):\")\n",
    "# df_low_columns = topics_to_dataframe(low_lda, num_topics, orientation=\"columns\")\n",
    "# display(df_low_columns)"
   ]
  },
  {
   "cell_type": "code",
   "execution_count": 80,
   "id": "a4333011",
   "metadata": {},
   "outputs": [
    {
     "data": {
      "text/plain": [
       "[(0,\n",
       "  '0.015*\"love\" + 0.015*\"calorie\" + 0.013*\"soup\" + 0.013*\"great\" + 0.013*\"good\"'),\n",
       " (1,\n",
       "  '0.034*\"noodle\" + 0.021*\"sauce\" + 0.019*\"great\" + 0.018*\"pasta\" + 0.017*\"taste\"'),\n",
       " (2,\n",
       "  '0.038*\"noodle\" + 0.026*\"pasta\" + 0.021*\"sauce\" + 0.018*\"rinse\" + 0.016*\"like\"'),\n",
       " (3,\n",
       "  '0.056*\"noodle\" + 0.028*\"like\" + 0.027*\"love\" + 0.020*\"rice\" + 0.017*\"carb\"'),\n",
       " (4,\n",
       "  '0.079*\"star\" + 0.066*\"great\" + 0.038*\"good\" + 0.035*\"product\" + 0.027*\"love\"')]"
      ]
     },
     "execution_count": 80,
     "metadata": {},
     "output_type": "execute_result"
    }
   ],
   "source": [
    "high_lda.show_topics(num_topics=num_topics, num_words=5)"
   ]
  },
  {
   "cell_type": "code",
   "execution_count": 123,
   "id": "9770c0de",
   "metadata": {},
   "outputs": [
    {
     "name": "stdout",
     "output_type": "stream",
     "text": [
      "High Rating Reviews Topics (Rows) with Combined Words and Weights:\n"
     ]
    },
    {
     "data": {
      "text/html": [
       "<div>\n",
       "<style scoped>\n",
       "    .dataframe tbody tr th:only-of-type {\n",
       "        vertical-align: middle;\n",
       "    }\n",
       "\n",
       "    .dataframe tbody tr th {\n",
       "        vertical-align: top;\n",
       "    }\n",
       "\n",
       "    .dataframe thead th {\n",
       "        text-align: right;\n",
       "    }\n",
       "</style>\n",
       "<table border=\"1\" class=\"dataframe\">\n",
       "  <thead>\n",
       "    <tr style=\"text-align: right;\">\n",
       "      <th></th>\n",
       "      <th>group</th>\n",
       "      <th>Word 1</th>\n",
       "      <th>Word 2</th>\n",
       "      <th>Word 3</th>\n",
       "      <th>Word 4</th>\n",
       "      <th>Word 5</th>\n",
       "      <th>Word 6</th>\n",
       "      <th>Word 7</th>\n",
       "      <th>Word 8</th>\n",
       "      <th>Word 9</th>\n",
       "      <th>Word 10</th>\n",
       "    </tr>\n",
       "    <tr>\n",
       "      <th>Topic</th>\n",
       "      <th></th>\n",
       "      <th></th>\n",
       "      <th></th>\n",
       "      <th></th>\n",
       "      <th></th>\n",
       "      <th></th>\n",
       "      <th></th>\n",
       "      <th></th>\n",
       "      <th></th>\n",
       "      <th></th>\n",
       "      <th></th>\n",
       "    </tr>\n",
       "  </thead>\n",
       "  <tbody>\n",
       "    <tr>\n",
       "      <th>1</th>\n",
       "      <td>High Rating Reviews</td>\n",
       "      <td>love (0.0150)</td>\n",
       "      <td>calorie (0.0150)</td>\n",
       "      <td>soup (0.0130)</td>\n",
       "      <td>great (0.0130)</td>\n",
       "      <td>good (0.0130)</td>\n",
       "      <td>pasta (0.0090)</td>\n",
       "      <td>food (0.0090)</td>\n",
       "      <td>cook (0.0080)</td>\n",
       "      <td>diet (0.0080)</td>\n",
       "      <td>carb (0.0070)</td>\n",
       "    </tr>\n",
       "    <tr>\n",
       "      <th>2</th>\n",
       "      <td>High Rating Reviews</td>\n",
       "      <td>noodle (0.0340)</td>\n",
       "      <td>sauce (0.0210)</td>\n",
       "      <td>great (0.0190)</td>\n",
       "      <td>pasta (0.0180)</td>\n",
       "      <td>taste (0.0170)</td>\n",
       "      <td>carb (0.0160)</td>\n",
       "      <td>good (0.0150)</td>\n",
       "      <td>like (0.0150)</td>\n",
       "      <td>rinse (0.0150)</td>\n",
       "      <td>rice (0.0140)</td>\n",
       "    </tr>\n",
       "    <tr>\n",
       "      <th>3</th>\n",
       "      <td>High Rating Reviews</td>\n",
       "      <td>noodle (0.0380)</td>\n",
       "      <td>pasta (0.0260)</td>\n",
       "      <td>sauce (0.0210)</td>\n",
       "      <td>rinse (0.0180)</td>\n",
       "      <td>like (0.0160)</td>\n",
       "      <td>water (0.0150)</td>\n",
       "      <td>smell (0.0140)</td>\n",
       "      <td>calorie (0.0130)</td>\n",
       "      <td>minute (0.0110)</td>\n",
       "      <td>dish (0.0100)</td>\n",
       "    </tr>\n",
       "    <tr>\n",
       "      <th>4</th>\n",
       "      <td>High Rating Reviews</td>\n",
       "      <td>noodle (0.0560)</td>\n",
       "      <td>like (0.0280)</td>\n",
       "      <td>love (0.0270)</td>\n",
       "      <td>rice (0.0200)</td>\n",
       "      <td>carb (0.0170)</td>\n",
       "      <td>texture (0.0130)</td>\n",
       "      <td>smell (0.0130)</td>\n",
       "      <td>pasta (0.0130)</td>\n",
       "      <td>taste (0.0120)</td>\n",
       "      <td>rinse (0.0110)</td>\n",
       "    </tr>\n",
       "    <tr>\n",
       "      <th>5</th>\n",
       "      <td>High Rating Reviews</td>\n",
       "      <td>star (0.0790)</td>\n",
       "      <td>great (0.0660)</td>\n",
       "      <td>good (0.0380)</td>\n",
       "      <td>product (0.0350)</td>\n",
       "      <td>love (0.0270)</td>\n",
       "      <td>carb (0.0270)</td>\n",
       "      <td>pasta (0.0230)</td>\n",
       "      <td>taste (0.0230)</td>\n",
       "      <td>rice (0.0150)</td>\n",
       "      <td>substitute (0.0130)</td>\n",
       "    </tr>\n",
       "  </tbody>\n",
       "</table>\n",
       "</div>"
      ],
      "text/plain": [
       "                     group           Word 1            Word 2          Word 3  \\\n",
       "Topic                                                                           \n",
       "1      High Rating Reviews    love (0.0150)  calorie (0.0150)   soup (0.0130)   \n",
       "2      High Rating Reviews  noodle (0.0340)    sauce (0.0210)  great (0.0190)   \n",
       "3      High Rating Reviews  noodle (0.0380)    pasta (0.0260)  sauce (0.0210)   \n",
       "4      High Rating Reviews  noodle (0.0560)     like (0.0280)   love (0.0270)   \n",
       "5      High Rating Reviews    star (0.0790)    great (0.0660)   good (0.0380)   \n",
       "\n",
       "                 Word 4          Word 5            Word 6          Word 7  \\\n",
       "Topic                                                                       \n",
       "1        great (0.0130)   good (0.0130)    pasta (0.0090)   food (0.0090)   \n",
       "2        pasta (0.0180)  taste (0.0170)     carb (0.0160)   good (0.0150)   \n",
       "3        rinse (0.0180)   like (0.0160)    water (0.0150)  smell (0.0140)   \n",
       "4         rice (0.0200)   carb (0.0170)  texture (0.0130)  smell (0.0130)   \n",
       "5      product (0.0350)   love (0.0270)     carb (0.0270)  pasta (0.0230)   \n",
       "\n",
       "                 Word 8           Word 9              Word 10  \n",
       "Topic                                                          \n",
       "1         cook (0.0080)    diet (0.0080)        carb (0.0070)  \n",
       "2         like (0.0150)   rinse (0.0150)        rice (0.0140)  \n",
       "3      calorie (0.0130)  minute (0.0110)        dish (0.0100)  \n",
       "4        pasta (0.0130)   taste (0.0120)       rinse (0.0110)  \n",
       "5        taste (0.0230)    rice (0.0150)  substitute (0.0130)  "
      ]
     },
     "metadata": {},
     "output_type": "display_data"
    },
    {
     "name": "stdout",
     "output_type": "stream",
     "text": [
      "Low Rating Reviews Topics (Rows) with Combined Words and Weights:\n"
     ]
    },
    {
     "data": {
      "text/html": [
       "<div>\n",
       "<style scoped>\n",
       "    .dataframe tbody tr th:only-of-type {\n",
       "        vertical-align: middle;\n",
       "    }\n",
       "\n",
       "    .dataframe tbody tr th {\n",
       "        vertical-align: top;\n",
       "    }\n",
       "\n",
       "    .dataframe thead th {\n",
       "        text-align: right;\n",
       "    }\n",
       "</style>\n",
       "<table border=\"1\" class=\"dataframe\">\n",
       "  <thead>\n",
       "    <tr style=\"text-align: right;\">\n",
       "      <th></th>\n",
       "      <th>group</th>\n",
       "      <th>Word 1</th>\n",
       "      <th>Word 2</th>\n",
       "      <th>Word 3</th>\n",
       "      <th>Word 4</th>\n",
       "      <th>Word 5</th>\n",
       "      <th>Word 6</th>\n",
       "      <th>Word 7</th>\n",
       "      <th>Word 8</th>\n",
       "      <th>Word 9</th>\n",
       "      <th>Word 10</th>\n",
       "    </tr>\n",
       "    <tr>\n",
       "      <th>Topic</th>\n",
       "      <th></th>\n",
       "      <th></th>\n",
       "      <th></th>\n",
       "      <th></th>\n",
       "      <th></th>\n",
       "      <th></th>\n",
       "      <th></th>\n",
       "      <th></th>\n",
       "      <th></th>\n",
       "      <th></th>\n",
       "      <th></th>\n",
       "    </tr>\n",
       "  </thead>\n",
       "  <tbody>\n",
       "    <tr>\n",
       "      <th>1</th>\n",
       "      <td>Low Rating Reviews</td>\n",
       "      <td>noodle (0.0390)</td>\n",
       "      <td>package (0.0280)</td>\n",
       "      <td>order (0.0240)</td>\n",
       "      <td>product (0.0180)</td>\n",
       "      <td>bag (0.0140)</td>\n",
       "      <td>receive (0.0130)</td>\n",
       "      <td>pack (0.0130)</td>\n",
       "      <td>water (0.0120)</td>\n",
       "      <td>leak (0.0110)</td>\n",
       "      <td>hair (0.0100)</td>\n",
       "    </tr>\n",
       "    <tr>\n",
       "      <th>2</th>\n",
       "      <td>Low Rating Reviews</td>\n",
       "      <td>carb (0.0120)</td>\n",
       "      <td>disgusting (0.0110)</td>\n",
       "      <td>smell (0.0100)</td>\n",
       "      <td>texture (0.0100)</td>\n",
       "      <td>wrong (0.0100)</td>\n",
       "      <td>noodle (0.0090)</td>\n",
       "      <td>eat (0.0080)</td>\n",
       "      <td>follow (0.0080)</td>\n",
       "      <td>like (0.0070)</td>\n",
       "      <td>sorry (0.0070)</td>\n",
       "    </tr>\n",
       "    <tr>\n",
       "      <th>3</th>\n",
       "      <td>Low Rating Reviews</td>\n",
       "      <td>noodle (0.0560)</td>\n",
       "      <td>like (0.0330)</td>\n",
       "      <td>smell (0.0210)</td>\n",
       "      <td>texture (0.0120)</td>\n",
       "      <td>good (0.0110)</td>\n",
       "      <td>time (0.0110)</td>\n",
       "      <td>eat (0.0100)</td>\n",
       "      <td>rinse (0.0100)</td>\n",
       "      <td>taste (0.0100)</td>\n",
       "      <td>water (0.0090)</td>\n",
       "    </tr>\n",
       "    <tr>\n",
       "      <th>4</th>\n",
       "      <td>Low Rating Reviews</td>\n",
       "      <td>like (0.0600)</td>\n",
       "      <td>taste (0.0470)</td>\n",
       "      <td>texture (0.0440)</td>\n",
       "      <td>smell (0.0370)</td>\n",
       "      <td>Star (0.0270)</td>\n",
       "      <td>horrible (0.0170)</td>\n",
       "      <td>star (0.0170)</td>\n",
       "      <td>fish (0.0170)</td>\n",
       "      <td>noodle (0.0150)</td>\n",
       "      <td>product (0.0140)</td>\n",
       "    </tr>\n",
       "    <tr>\n",
       "      <th>5</th>\n",
       "      <td>Low Rating Reviews</td>\n",
       "      <td>like (0.0420)</td>\n",
       "      <td>texture (0.0260)</td>\n",
       "      <td>taste (0.0220)</td>\n",
       "      <td>rice (0.0210)</td>\n",
       "      <td>pasta (0.0210)</td>\n",
       "      <td>try (0.0180)</td>\n",
       "      <td>noodle (0.0150)</td>\n",
       "      <td>sauce (0.0120)</td>\n",
       "      <td>look (0.0110)</td>\n",
       "      <td>good (0.0100)</td>\n",
       "    </tr>\n",
       "  </tbody>\n",
       "</table>\n",
       "</div>"
      ],
      "text/plain": [
       "                    group           Word 1               Word 2  \\\n",
       "Topic                                                             \n",
       "1      Low Rating Reviews  noodle (0.0390)     package (0.0280)   \n",
       "2      Low Rating Reviews    carb (0.0120)  disgusting (0.0110)   \n",
       "3      Low Rating Reviews  noodle (0.0560)        like (0.0330)   \n",
       "4      Low Rating Reviews    like (0.0600)       taste (0.0470)   \n",
       "5      Low Rating Reviews    like (0.0420)     texture (0.0260)   \n",
       "\n",
       "                 Word 3            Word 4          Word 5             Word 6  \\\n",
       "Topic                                                                          \n",
       "1        order (0.0240)  product (0.0180)    bag (0.0140)   receive (0.0130)   \n",
       "2        smell (0.0100)  texture (0.0100)  wrong (0.0100)    noodle (0.0090)   \n",
       "3        smell (0.0210)  texture (0.0120)   good (0.0110)      time (0.0110)   \n",
       "4      texture (0.0440)    smell (0.0370)   Star (0.0270)  horrible (0.0170)   \n",
       "5        taste (0.0220)     rice (0.0210)  pasta (0.0210)       try (0.0180)   \n",
       "\n",
       "                Word 7           Word 8           Word 9           Word 10  \n",
       "Topic                                                                       \n",
       "1        pack (0.0130)   water (0.0120)    leak (0.0110)     hair (0.0100)  \n",
       "2         eat (0.0080)  follow (0.0080)    like (0.0070)    sorry (0.0070)  \n",
       "3         eat (0.0100)   rinse (0.0100)   taste (0.0100)    water (0.0090)  \n",
       "4        star (0.0170)    fish (0.0170)  noodle (0.0150)  product (0.0140)  \n",
       "5      noodle (0.0150)   sauce (0.0120)    look (0.0110)     good (0.0100)  "
      ]
     },
     "metadata": {},
     "output_type": "display_data"
    }
   ],
   "source": [
    "import pandas as pd\n",
    "\n",
    "def topics_to_dataframe(lda_model, num_topics, group_name=None, combine=False, num_words=10):\n",
    "    topics_words = lda_model.print_topics(num_topics=num_topics, num_words=num_words)\n",
    "    data = {\"Topic\": []}\n",
    "\n",
    "    for i in range(1, num_words + 1):\n",
    "        data[f\"Word {i}\"] = []\n",
    "        if not combine:\n",
    "            data[f\"Weight {i}\"] = []\n",
    "\n",
    "    for idx, topic in topics_words:\n",
    "        words = topic.split(\" + \")\n",
    "        data[\"Topic\"].append(idx + 1)\n",
    "        for i, word in enumerate(words):\n",
    "            weight, term = word.split('*')\n",
    "            term = term.replace('\"', '')\n",
    "            weight = float(weight)\n",
    "            if combine:\n",
    "                data[f\"Word {i + 1}\"].append(f\"{term} ({weight:.4f})\")\n",
    "            else:\n",
    "                data[f\"Word {i + 1}\"].append(term)\n",
    "                data[f\"Weight {i + 1}\"].append(weight)\n",
    "\n",
    "        # Ensure all lists are of the same length\n",
    "        for j in range(i + 1, num_words):\n",
    "            data[f\"Word {j + 1}\"].append(\"\")\n",
    "            if not combine:\n",
    "                data[f\"Weight {j + 1}\"].append(None)\n",
    "\n",
    "    df = pd.DataFrame(data).set_index(\"Topic\")\n",
    "    \n",
    "    if group_name:\n",
    "        df.insert(0,'group', group_name)\n",
    "        df = df.copy()\n",
    "    \n",
    "    return df\n",
    "\n",
    "# Get the topics for high-rating reviews as rows in a DataFrame, combined words and weights\n",
    "print(\"High Rating Reviews Topics (Rows) with Combined Words and Weights:\")\n",
    "df_high_rows_combined = topics_to_dataframe(high_lda, num_topics, group_name= \"High Rating Reviews\",combine=True, num_words=10)\n",
    "display(df_high_rows_combined)\n",
    "\n",
    "# # Get the topics for high-rating reviews as rows in a DataFrame, separate words and weights\n",
    "# print(\"High Rating Reviews Topics (Rows) with Separate Words and Weights:\")\n",
    "# df_high_rows_separate = topics_to_dataframe(high_lda, num_topics, combine=False, num_words=10)\n",
    "# display(df_high_rows_separate)\n",
    "\n",
    "# Get the topics for low-rating reviews as rows in a DataFrame, combined words and weights\n",
    "print(\"Low Rating Reviews Topics (Rows) with Combined Words and Weights:\")\n",
    "df_low_rows_combined = topics_to_dataframe(low_lda, num_topics, group_name=\"Low Rating Reviews\", combine=True, num_words=10)\n",
    "display(df_low_rows_combined)\n",
    "\n",
    "# # Get the topics for low-rating reviews as rows in a DataFrame, separate words and weights\n",
    "# print(\"Low Rating Reviews Topics (Rows) with Separate Words and Weights:\")\n",
    "# df_low_rows_separate = topics_to_dataframe(low_lda, num_topics, combine=False, num_words=10)\n",
    "# display(df_low_rows_separate)"
   ]
  },
  {
   "cell_type": "markdown",
   "id": "9bd922f9",
   "metadata": {},
   "source": [
    "\n",
    "### Steps to Interpret Topics:\n",
    "\n",
    "1. **Review Top Words**: Look at the top words in each topic. These words represent the main concepts or themes within that topic.\n",
    "2. **Label Topics**: Based on the top words, assign a label or a brief description to each topic that captures its essence.\n",
    "3. **Analyze Topic Distribution**: Examine the distribution of topics across high-rating and low-rating reviews to identify patterns or trends.\n",
    "4. **Draw Insights**: Relate the identified topics to your specific use case or business questions to draw actionable insights.\n",
    "\n",
    "#### Interpretation for High-Rating Reviews:\n",
    "\n",
    "Let's interpret the high-rating reviews based on the top words and their weights.\n",
    "\n",
    "1. **Topic 1**:\n",
    "   - **Top Words**: love, calorie, soup, great, good, pasta, food, cook, diet, carb\n",
    "   - **Label**: Positive Health and Diet\n",
    "   - **Insight**: Customers who gave high ratings often mention love for the product, health-related terms like calorie and diet, and food items like soup and pasta. This suggests that health-conscious consumers appreciate these aspects.\n",
    "\n",
    "2. **Topic 2**:\n",
    "   - **Top Words**: noodle, sauce, great, pasta, taste, carb, good, like, rinse, rice\n",
    "   - **Label**: Flavor and Quality\n",
    "   - **Insight**: High ratings are associated with positive comments about the taste and quality of the product, particularly noodles and pasta, indicating satisfaction with the product's flavor.\n",
    "\n",
    "3. **Topic 3**:\n",
    "   - **Top Words**: noodle, pasta, sauce, rinse, water, smell, calorie, minute, dish, like\n",
    "   - **Label**: Preparation and Smell\n",
    "   - **Insight**: This topic highlights the ease of preparation and the product's smell. High ratings suggest customers find the product easy to prepare and appreciate its aroma.\n",
    "\n",
    "4. **Topic 4**:\n",
    "   - **Top Words**: noodle, like, love, rice, carb, texture, smell, pasta, taste, rinse\n",
    "   - **Label**: Texture and Satisfaction\n",
    "   - **Insight**: Texture and overall satisfaction are prominent in this topic. High ratings indicate customers are happy with the product's texture and overall experience.\n",
    "\n",
    "5. **Topic 5**:\n",
    "   - **Top Words**: star, great, good, product, love, carb, pasta, taste, rice, substitute\n",
    "   - **Label**: General Satisfaction\n",
    "   - **Insight**: General positive feedback is captured in this topic, with high ratings reflecting overall satisfaction with the product.\n"
   ]
  },
  {
   "cell_type": "code",
   "execution_count": 137,
   "id": "f16558be",
   "metadata": {},
   "outputs": [],
   "source": [
    "# !pip install langchain langchain_openai pydantic\n",
    "from langchain_openai import ChatOpenAI #, JsonOutputParser\n",
    "from langchain_core.prompts import ChatPromptTemplate, PromptTemplate\n",
    "from langchain_core.output_parsers import JsonOutputParser, StrOutputParser\n",
    "from pydantic import BaseModel, Field, validator\n",
    "from typing import List, Optional, Text, Dict\n",
    "\n",
    "pd.set_option('display.max_colwidth', 250)\n",
    "from IPython.display import display, Markdown"
   ]
  },
  {
   "cell_type": "code",
   "execution_count": 151,
   "id": "68ba88fc",
   "metadata": {},
   "outputs": [],
   "source": [
    "\n",
    "\n",
    "class TopicLabels(BaseModel):\n",
    "    group : str = Field(description=\"Group name.\")\n",
    "    topic_number: List[int] = Field(description=\"Topic number.\")\n",
    "    top_words: List[List[str]] = Field(description=\"Top words for each LDA topic.\")\n",
    "    topic_labels: List[str] = Field(description=\"Descriptive labels for each LDA topic, based on top words for each topic.\")\n",
    "    topic_insights: List[str] = Field(description=\"Short insights or summaries for each LDA topic, based on top words for each topic.\")\n",
    "    \n",
    "def analyze_topics(topic_string: str, group=\"N/A\", temperature=0.1, model_type='gpt-4o',\n",
    "                       return_llm = False, return_json=True) -> str:\n",
    "    prompt = \"\"\"\n",
    "    Help me interpret these LDA topics. Examine the top words for each topic # and provide a descriptive label and short insight for each topic.\n",
    "    \n",
    "    Group Name: {group}\n",
    "\n",
    "    Topics:\n",
    "    {topic_string}\n",
    "    \n",
    "    Format Instructions:\n",
    "    {format_instructions}\n",
    "    \"\"\"\n",
    "    final_prompt_template = PromptTemplate.from_template(prompt)\n",
    "    # final_prompt_template = final_prompt_template.partial(resume=resume, job=job_listing)\n",
    "\n",
    "    try:\n",
    "        api_key = st.session_state.OPENAI_API_KEY\n",
    "    except:\n",
    "        api_key = os.getenv('OPENAI_API_KEY')\n",
    "        \n",
    "        \n",
    "    llm = ChatOpenAI(temperature=temperature, model=model_type, api_key=api_key)\n",
    "    parser = JsonOutputParser(pydantic_object=TopicLabels,) # PydanticOutputParser(pydantic_object=ResumeRating)#StrOutputParser(output_key=\"response\")\n",
    "    \n",
    "    if return_json:\n",
    "        parser = JsonOutputParser(pydantic_object=TopicLabels,)    \n",
    "        # Add formatting instructions for pydantic\n",
    "        instructions =  parser.get_format_instructions()\n",
    "            \n",
    "    else:\n",
    "        parser = StrOutputParser(output_key=\"response\")\n",
    "        instructions = \"Respond with each topic as a nested list with the topic number,  descriptive label,top words, and short insight.\"\n",
    "        \n",
    "    # Making the chain\n",
    "    final_prompt_template = final_prompt_template.partial(format_instructions=instructions)\n",
    "    llm_chain = final_prompt_template | llm | parser\n",
    "    \n",
    "    if return_llm:\n",
    "        return llm_chain\n",
    "    else:\n",
    "        response = llm_chain.invoke(input=dict(topic_string=topic_string, group=group))\n",
    "        return response\n",
    "\n"
   ]
  },
  {
   "cell_type": "code",
   "execution_count": 152,
   "id": "041faf74",
   "metadata": {},
   "outputs": [
    {
     "data": {
      "text/plain": [
       "'|   Topic | group              | Word 1          | Word 2              | Word 3           | Word 4           | Word 5         | Word 6            | Word 7          | Word 8          | Word 9          | Word 10          |\\n|--------:|:-------------------|:----------------|:--------------------|:-----------------|:-----------------|:---------------|:------------------|:----------------|:----------------|:----------------|:-----------------|\\n|       1 | Low Rating Reviews | noodle (0.0390) | package (0.0280)    | order (0.0240)   | product (0.0180) | bag (0.0140)   | receive (0.0130)  | pack (0.0130)   | water (0.0120)  | leak (0.0110)   | hair (0.0100)    |\\n|       2 | Low Rating Reviews | carb (0.0120)   | disgusting (0.0110) | smell (0.0100)   | texture (0.0100) | wrong (0.0100) | noodle (0.0090)   | eat (0.0080)    | follow (0.0080) | like (0.0070)   | sorry (0.0070)   |\\n|       3 | Low Rating Reviews | noodle (0.0560) | like (0.0330)       | smell (0.0210)   | texture (0.0120) | good (0.0110)  | time (0.0110)     | eat (0.0100)    | rinse (0.0100)  | taste (0.0100)  | water (0.0090)   |\\n|       4 | Low Rating Reviews | like (0.0600)   | taste (0.0470)      | texture (0.0440) | smell (0.0370)   | Star (0.0270)  | horrible (0.0170) | star (0.0170)   | fish (0.0170)   | noodle (0.0150) | product (0.0140) |\\n|       5 | Low Rating Reviews | like (0.0420)   | texture (0.0260)    | taste (0.0220)   | rice (0.0210)    | pasta (0.0210) | try (0.0180)      | noodle (0.0150) | sauce (0.0120)  | look (0.0110)   | good (0.0100)    |'"
      ]
     },
     "execution_count": 152,
     "metadata": {},
     "output_type": "execute_result"
    }
   ],
   "source": [
    "df_low_rows_combined.to_markdown()"
   ]
  },
  {
   "cell_type": "code",
   "execution_count": 153,
   "id": "adf0666c",
   "metadata": {},
   "outputs": [
    {
     "data": {
      "text/markdown": [
       "Sure, here is the interpretation of the LDA topics for the group \"High Rating Reviews\":\n",
       "\n",
       "1. **Topic 1**\n",
       "   - **Descriptive Label:** Healthy and Delicious Meals\n",
       "   - **Top Words:** love, calorie, soup, great, good, pasta, food, cook, diet, carb\n",
       "   - **Short Insight:** This topic focuses on reviews that highlight the enjoyment of healthy and delicious meals, particularly those that are low in calories and carbs. Reviewers often mention their love for the food and its great taste.\n",
       "\n",
       "2. **Topic 2**\n",
       "   - **Descriptive Label:** Tasty Pasta and Noodle Dishes\n",
       "   - **Top Words:** noodle, sauce, great, pasta, taste, carb, good, like, rinse, rice\n",
       "   - **Short Insight:** This topic centers around positive reviews of pasta and noodle dishes, emphasizing their great taste and the quality of the sauce. The reviews also mention the low-carb aspect and the overall satisfaction with the product.\n",
       "\n",
       "3. **Topic 3**\n",
       "   - **Descriptive Label:** Convenient and Flavorful Noodles\n",
       "   - **Top Words:** noodle, pasta, sauce, rinse, like, water, smell, calorie, minute, dish\n",
       "   - **Short Insight:** This topic highlights the convenience and flavor of noodle dishes. Reviewers appreciate the ease of preparation (e.g., rinsing and cooking in minutes) and the pleasant smell and taste, often noting the low-calorie content.\n",
       "\n",
       "4. **Topic 4**\n",
       "   - **Descriptive Label:** Enjoyable Low-Carb Alternatives\n",
       "   - **Top Words:** noodle, like, love, rice, carb, texture, smell, pasta, taste, rinse\n",
       "   - **Short Insight:** This topic focuses on the enjoyment of low-carb alternatives such as noodles and rice. Reviewers frequently mention their love for the product, its good texture, and pleasant smell, making it a favorable substitute for traditional high-carb options.\n",
       "\n",
       "5. **Topic 5**\n",
       "   - **Descriptive Label:** Highly Rated Products\n",
       "   - **Top Words:** star, great, good, product, love, carb, pasta, taste, rice, substitute\n",
       "   - **Short Insight:** This topic is about highly rated products, with reviewers giving them high star ratings and praising their great taste and quality. The reviews often mention the products as good low-carb substitutes for traditional pasta and rice, expressing overall satisfaction and love for the product."
      ],
      "text/plain": [
       "<IPython.core.display.Markdown object>"
      ]
     },
     "metadata": {},
     "output_type": "display_data"
    }
   ],
   "source": [
    "\n",
    "response_high = analyze_topics(df_high_rows_combined.to_markdown(),#topics_string_high, \n",
    "                               group=\"High Rating Reviews\", temperature=0.1, model_type='gpt-4o',\n",
    "                               return_json=False)\n",
    "display(Markdown(response_high))"
   ]
  },
  {
   "cell_type": "code",
   "execution_count": 154,
   "id": "9a764178",
   "metadata": {},
   "outputs": [
    {
     "data": {
      "text/markdown": [
       "Sure, here is the interpretation of the LDA topics for the \"High Rating Reviews\" group:\n",
       "\n",
       "1. **Topic 1: Healthy and Delicious Meals**\n",
       "   - **Top Words:** love, calorie, soup, great, good, pasta, food, cook, diet, carb\n",
       "   - **Insight:** This topic focuses on high-rated reviews that emphasize the health benefits and deliciousness of meals, particularly low-calorie and low-carb options like soups and pasta. Reviewers appreciate the taste and nutritional value of these foods.\n",
       "\n",
       "2. **Topic 2: Flavorful Pasta and Noodle Dishes**\n",
       "   - **Top Words:** noodle, sauce, great, pasta, taste, carb, good, like, rinse, rice\n",
       "   - **Insight:** This topic highlights reviews that praise the flavor and quality of pasta and noodle dishes. The emphasis is on the taste and the satisfaction of consuming low-carb alternatives, with positive mentions of sauces and preparation methods.\n",
       "\n",
       "3. **Topic 3: Easy and Tasty Noodle Recipes**\n",
       "   - **Top Words:** noodle, pasta, sauce, rinse, like, water, smell, calorie, minute, dish\n",
       "   - **Insight:** Reviews in this topic focus on the ease of preparation and the enjoyable taste of noodle dishes. There is a notable mention of rinsing and the overall sensory experience, including smell and quick cooking times.\n",
       "\n",
       "4. **Topic 4: Enjoyable Low-Carb Noodles**\n",
       "   - **Top Words:** noodle, like, love, rice, carb, texture, smell, pasta, taste, rinse\n",
       "   - **Insight:** This topic centers on the enjoyment of low-carb noodle options. Reviewers frequently mention their love for the product, its texture, and its pleasant smell, indicating a high level of satisfaction with these alternatives to traditional noodles.\n",
       "\n",
       "5. **Topic 5: Highly Rated Carb Substitutes**\n",
       "   - **Top Words:** star, great, good, product, love, carb, pasta, taste, rice, substitute\n",
       "   - **Insight:** This topic is characterized by high ratings and positive feedback for carb substitute products. Reviewers often give high star ratings and express their love for the product, highlighting its great taste and effectiveness as a substitute for traditional carb-heavy foods like pasta and rice."
      ],
      "text/plain": [
       "<IPython.core.display.Markdown object>"
      ]
     },
     "metadata": {},
     "output_type": "display_data"
    }
   ],
   "source": [
    "\n",
    "response_low = analyze_topics(df_high_rows_combined.to_markdown(),#topics_string_high, \n",
    "                               group=\"High Rating Reviews\", temperature=0.1, model_type='gpt-4o',\n",
    "                               return_json=False)\n",
    "display(Markdown(response_low))"
   ]
  },
  {
   "cell_type": "code",
   "execution_count": 155,
   "id": "9d09c9fe",
   "metadata": {},
   "outputs": [
    {
     "data": {
      "text/html": [
       "<div>\n",
       "<style scoped>\n",
       "    .dataframe tbody tr th:only-of-type {\n",
       "        vertical-align: middle;\n",
       "    }\n",
       "\n",
       "    .dataframe tbody tr th {\n",
       "        vertical-align: top;\n",
       "    }\n",
       "\n",
       "    .dataframe thead th {\n",
       "        text-align: right;\n",
       "    }\n",
       "</style>\n",
       "<table border=\"1\" class=\"dataframe\">\n",
       "  <thead>\n",
       "    <tr style=\"text-align: right;\">\n",
       "      <th></th>\n",
       "      <th></th>\n",
       "      <th>group</th>\n",
       "      <th>top_words</th>\n",
       "      <th>topic_insights</th>\n",
       "    </tr>\n",
       "    <tr>\n",
       "      <th>topic_number</th>\n",
       "      <th>topic_labels</th>\n",
       "      <th></th>\n",
       "      <th></th>\n",
       "      <th></th>\n",
       "    </tr>\n",
       "  </thead>\n",
       "  <tbody>\n",
       "    <tr>\n",
       "      <th>1</th>\n",
       "      <th>Healthy and Delicious Meals</th>\n",
       "      <td>High Rating Reviews</td>\n",
       "      <td>[love, calorie, soup, great, good, pasta, food, cook, diet, carb]</td>\n",
       "      <td>This topic focuses on high ratings for meals that are both healthy and delicious, with mentions of calories, soup, and pasta.</td>\n",
       "    </tr>\n",
       "    <tr>\n",
       "      <th>2</th>\n",
       "      <th>Tasty Noodle Dishes</th>\n",
       "      <td>High Rating Reviews</td>\n",
       "      <td>[noodle, sauce, great, pasta, taste, carb, good, like, rinse, rice]</td>\n",
       "      <td>This topic highlights the enjoyment of noodle dishes, emphasizing great taste and the use of sauces.</td>\n",
       "    </tr>\n",
       "    <tr>\n",
       "      <th>3</th>\n",
       "      <th>Noodle Preparation and Taste</th>\n",
       "      <td>High Rating Reviews</td>\n",
       "      <td>[noodle, pasta, sauce, rinse, like, water, smell, calorie, minute, dish]</td>\n",
       "      <td>This topic discusses the preparation and taste of noodles, including rinsing and the overall dish experience.</td>\n",
       "    </tr>\n",
       "    <tr>\n",
       "      <th>4</th>\n",
       "      <th>Noodle Texture and Aroma</th>\n",
       "      <td>High Rating Reviews</td>\n",
       "      <td>[noodle, like, love, rice, carb, texture, smell, pasta, taste, rinse]</td>\n",
       "      <td>This topic centers on the texture and aroma of noodles, with positive mentions of rice and pasta.</td>\n",
       "    </tr>\n",
       "    <tr>\n",
       "      <th>5</th>\n",
       "      <th>Overall Product Satisfaction</th>\n",
       "      <td>High Rating Reviews</td>\n",
       "      <td>[star, great, good, product, love, carb, pasta, taste, rice, substitute]</td>\n",
       "      <td>This topic reflects overall satisfaction with products, highlighting star ratings, great taste, and carb substitutes.</td>\n",
       "    </tr>\n",
       "  </tbody>\n",
       "</table>\n",
       "</div>"
      ],
      "text/plain": [
       "                                                         group  \\\n",
       "topic_number topic_labels                                        \n",
       "1            Healthy and Delicious Meals   High Rating Reviews   \n",
       "2            Tasty Noodle Dishes           High Rating Reviews   \n",
       "3            Noodle Preparation and Taste  High Rating Reviews   \n",
       "4            Noodle Texture and Aroma      High Rating Reviews   \n",
       "5            Overall Product Satisfaction  High Rating Reviews   \n",
       "\n",
       "                                                                                                          top_words  \\\n",
       "topic_number topic_labels                                                                                             \n",
       "1            Healthy and Delicious Meals          [love, calorie, soup, great, good, pasta, food, cook, diet, carb]   \n",
       "2            Tasty Noodle Dishes                [noodle, sauce, great, pasta, taste, carb, good, like, rinse, rice]   \n",
       "3            Noodle Preparation and Taste  [noodle, pasta, sauce, rinse, like, water, smell, calorie, minute, dish]   \n",
       "4            Noodle Texture and Aroma         [noodle, like, love, rice, carb, texture, smell, pasta, taste, rinse]   \n",
       "5            Overall Product Satisfaction  [star, great, good, product, love, carb, pasta, taste, rice, substitute]   \n",
       "\n",
       "                                                                                                                                                          topic_insights  \n",
       "topic_number topic_labels                                                                                                                                                 \n",
       "1            Healthy and Delicious Meals   This topic focuses on high ratings for meals that are both healthy and delicious, with mentions of calories, soup, and pasta.  \n",
       "2            Tasty Noodle Dishes                                    This topic highlights the enjoyment of noodle dishes, emphasizing great taste and the use of sauces.  \n",
       "3            Noodle Preparation and Taste                  This topic discusses the preparation and taste of noodles, including rinsing and the overall dish experience.  \n",
       "4            Noodle Texture and Aroma                                  This topic centers on the texture and aroma of noodles, with positive mentions of rice and pasta.  \n",
       "5            Overall Product Satisfaction          This topic reflects overall satisfaction with products, highlighting star ratings, great taste, and carb substitutes.  "
      ]
     },
     "execution_count": 155,
     "metadata": {},
     "output_type": "execute_result"
    }
   ],
   "source": [
    "## Getting dataframe of topic labels and insights\n",
    "response_high = analyze_topics(df_high_rows_combined.to_markdown(),#topics_string_high, \n",
    "                               group=\"High Rating Reviews\", temperature=0.1, model_type='gpt-4o')\n",
    "topics_df_high = pd.DataFrame(response_high).set_index(['topic_number','topic_labels'])\n",
    "topics_df_high"
   ]
  },
  {
   "cell_type": "code",
   "execution_count": 156,
   "id": "525cf07e",
   "metadata": {},
   "outputs": [
    {
     "data": {
      "text/html": [
       "<div>\n",
       "<style scoped>\n",
       "    .dataframe tbody tr th:only-of-type {\n",
       "        vertical-align: middle;\n",
       "    }\n",
       "\n",
       "    .dataframe tbody tr th {\n",
       "        vertical-align: top;\n",
       "    }\n",
       "\n",
       "    .dataframe thead th {\n",
       "        text-align: right;\n",
       "    }\n",
       "</style>\n",
       "<table border=\"1\" class=\"dataframe\">\n",
       "  <thead>\n",
       "    <tr style=\"text-align: right;\">\n",
       "      <th></th>\n",
       "      <th></th>\n",
       "      <th>group</th>\n",
       "      <th>top_words</th>\n",
       "      <th>topic_insights</th>\n",
       "    </tr>\n",
       "    <tr>\n",
       "      <th>topic_number</th>\n",
       "      <th>topic_labels</th>\n",
       "      <th></th>\n",
       "      <th></th>\n",
       "      <th></th>\n",
       "    </tr>\n",
       "  </thead>\n",
       "  <tbody>\n",
       "    <tr>\n",
       "      <th>1</th>\n",
       "      <th>Positive Feedback on Low-Calorie Foods</th>\n",
       "      <td>Low Rating Reviews</td>\n",
       "      <td>[love, calorie, soup, great, good, pasta, food, cook, diet, carb]</td>\n",
       "      <td>This topic highlights positive feedback on low-calorie foods, with mentions of love, great taste, and suitability for diets.</td>\n",
       "    </tr>\n",
       "    <tr>\n",
       "      <th>2</th>\n",
       "      <th>Positive Reviews on Noodles and Sauces</th>\n",
       "      <td>Low Rating Reviews</td>\n",
       "      <td>[noodle, sauce, great, pasta, taste, carb, good, like, rinse, rice]</td>\n",
       "      <td>This topic focuses on positive reviews of noodles and sauces, emphasizing great taste and good quality.</td>\n",
       "    </tr>\n",
       "    <tr>\n",
       "      <th>3</th>\n",
       "      <th>Noodle Preparation and Taste</th>\n",
       "      <td>Low Rating Reviews</td>\n",
       "      <td>[noodle, pasta, sauce, rinse, like, water, smell, calorie, minute, dish]</td>\n",
       "      <td>This topic discusses the preparation and taste of noodles, including mentions of rinsing and the overall dish quality.</td>\n",
       "    </tr>\n",
       "    <tr>\n",
       "      <th>4</th>\n",
       "      <th>Noodle Texture and Aroma</th>\n",
       "      <td>Low Rating Reviews</td>\n",
       "      <td>[noodle, like, love, rice, carb, texture, smell, pasta, taste, rinse]</td>\n",
       "      <td>This topic centers on the texture and aroma of noodles, with positive mentions of liking and loving the product.</td>\n",
       "    </tr>\n",
       "    <tr>\n",
       "      <th>5</th>\n",
       "      <th>Overall Product Satisfaction</th>\n",
       "      <td>Low Rating Reviews</td>\n",
       "      <td>[star, great, good, product, love, carb, pasta, taste, rice, substitute]</td>\n",
       "      <td>This topic reflects overall satisfaction with the product, highlighting high ratings and positive comments on taste and quality.</td>\n",
       "    </tr>\n",
       "  </tbody>\n",
       "</table>\n",
       "</div>"
      ],
      "text/plain": [
       "                                                                  group  \\\n",
       "topic_number topic_labels                                                 \n",
       "1            Positive Feedback on Low-Calorie Foods  Low Rating Reviews   \n",
       "2            Positive Reviews on Noodles and Sauces  Low Rating Reviews   \n",
       "3            Noodle Preparation and Taste            Low Rating Reviews   \n",
       "4            Noodle Texture and Aroma                Low Rating Reviews   \n",
       "5            Overall Product Satisfaction            Low Rating Reviews   \n",
       "\n",
       "                                                                                                                    top_words  \\\n",
       "topic_number topic_labels                                                                                                       \n",
       "1            Positive Feedback on Low-Calorie Foods         [love, calorie, soup, great, good, pasta, food, cook, diet, carb]   \n",
       "2            Positive Reviews on Noodles and Sauces       [noodle, sauce, great, pasta, taste, carb, good, like, rinse, rice]   \n",
       "3            Noodle Preparation and Taste            [noodle, pasta, sauce, rinse, like, water, smell, calorie, minute, dish]   \n",
       "4            Noodle Texture and Aroma                   [noodle, like, love, rice, carb, texture, smell, pasta, taste, rinse]   \n",
       "5            Overall Product Satisfaction            [star, great, good, product, love, carb, pasta, taste, rice, substitute]   \n",
       "\n",
       "                                                                                                                                                                       topic_insights  \n",
       "topic_number topic_labels                                                                                                                                                              \n",
       "1            Positive Feedback on Low-Calorie Foods      This topic highlights positive feedback on low-calorie foods, with mentions of love, great taste, and suitability for diets.  \n",
       "2            Positive Reviews on Noodles and Sauces                           This topic focuses on positive reviews of noodles and sauces, emphasizing great taste and good quality.  \n",
       "3            Noodle Preparation and Taste                      This topic discusses the preparation and taste of noodles, including mentions of rinsing and the overall dish quality.  \n",
       "4            Noodle Texture and Aroma                                This topic centers on the texture and aroma of noodles, with positive mentions of liking and loving the product.  \n",
       "5            Overall Product Satisfaction            This topic reflects overall satisfaction with the product, highlighting high ratings and positive comments on taste and quality.  "
      ]
     },
     "execution_count": 156,
     "metadata": {},
     "output_type": "execute_result"
    }
   ],
   "source": [
    "## Getting dataframe of topic labels and insights\n",
    "response_low = analyze_topics(df_high_rows_combined.to_markdown(),#topics_string_high, \n",
    "                               group=\"Low Rating Reviews\", temperature=0.1, model_type='gpt-4o')\n",
    "topics_df_low = pd.DataFrame(response_low).set_index(['topic_number','topic_labels'])\n",
    "topics_df_low"
   ]
  },
  {
   "cell_type": "markdown",
   "id": "c5d34b2d",
   "metadata": {},
   "source": [
    "\n",
    "#### Drawing Insights:\n",
    "\n",
    "1. **Health Consciousness**: High-rating reviews often mention health-related aspects, indicating that promoting these features could attract more positive feedback.\n",
    "2. **Packaging and Delivery**: Addressing packaging and delivery issues could help improve the overall customer experience and reduce negative reviews.\n",
    "3. **Quality and Flavor**: Maintaining and improving the quality and flavor of the product is crucial, as these are frequently mentioned in high-rating reviews.\n",
    "4. **Negative Experiences**: Understanding the specific negative experiences can help in addressing them, possibly through product improvements or better instructions.\n"
   ]
  },
  {
   "cell_type": "code",
   "execution_count": 158,
   "id": "bc5e8722",
   "metadata": {},
   "outputs": [
    {
     "name": "stdout",
     "output_type": "stream",
     "text": [
      "High Rating Reviews Topics (Rows):\n",
      "+---------+----------------+-----------------+---------------+-----------------+---------------+-----------------+---------------+-----------------+----------------+--------------------+\n",
      "|  Topic  |     Word 1     |     Word 2      |    Word 3     |     Word 4      |    Word 5     |     Word 6      |    Word 7     |     Word 8      |     Word 9     |      Word 10       |\n",
      "+---------+----------------+-----------------+---------------+-----------------+---------------+-----------------+---------------+-----------------+----------------+--------------------+\n",
      "| Topic 1 |  love (0.015)  | calorie (0.015) | soup (0.013)  |  great (0.013)  | good (0.013)  |  pasta (0.009)  | food (0.009)  |  cook (0.008)   |  diet (0.008)  |    carb (0.007)    |\n",
      "| Topic 2 | noodle (0.034) |  sauce (0.021)  | great (0.019) |  pasta (0.018)  | taste (0.017) |  carb (0.016)   | good (0.015)  |  like (0.015)   | rinse (0.015)  |    rice (0.014)    |\n",
      "| Topic 3 | noodle (0.038) |  pasta (0.026)  | sauce (0.021) |  rinse (0.018)  | like (0.016)  |  water (0.015)  | smell (0.014) | calorie (0.013) | minute (0.011) |    dish (0.010)    |\n",
      "| Topic 4 | noodle (0.056) |  like (0.028)   | love (0.027)  |  rice (0.020)   | carb (0.017)  | texture (0.013) | smell (0.013) |  pasta (0.013)  | taste (0.012)  |   rinse (0.011)    |\n",
      "| Topic 5 |  star (0.079)  |  great (0.066)  | good (0.038)  | product (0.035) | love (0.027)  |  carb (0.027)   | pasta (0.023) |  taste (0.023)  |  rice (0.015)  | substitute (0.013) |\n",
      "+---------+----------------+-----------------+---------------+-----------------+---------------+-----------------+---------------+-----------------+----------------+--------------------+\n",
      "Low Rating Reviews Topics (Columns):\n",
      "+---------+----------------+--------------------+-----------------+-----------------+---------------+------------------+----------------+----------------+----------------+-----------------+\n",
      "|  Topic  |     Word 1     |       Word 2       |     Word 3      |     Word 4      |    Word 5     |      Word 6      |     Word 7     |     Word 8     |     Word 9     |     Word 10     |\n",
      "+---------+----------------+--------------------+-----------------+-----------------+---------------+------------------+----------------+----------------+----------------+-----------------+\n",
      "| Topic 1 | noodle (0.039) |  package (0.028)   |  order (0.024)  | product (0.018) |  bag (0.014)  | receive (0.013)  |  pack (0.013)  | water (0.012)  |  leak (0.011)  |  hair (0.010)   |\n",
      "| Topic 2 |  carb (0.012)  | disgusting (0.011) |  smell (0.010)  | texture (0.010) | wrong (0.010) |  noodle (0.009)  |  eat (0.008)   | follow (0.008) |  like (0.007)  |  sorry (0.007)  |\n",
      "| Topic 3 | noodle (0.056) |    like (0.033)    |  smell (0.021)  | texture (0.012) | good (0.011)  |   time (0.011)   |  eat (0.010)   | rinse (0.010)  | taste (0.010)  |  water (0.009)  |\n",
      "| Topic 4 |  like (0.060)  |   taste (0.047)    | texture (0.044) |  smell (0.037)  | Star (0.027)  | horrible (0.017) |  star (0.017)  |  fish (0.017)  | noodle (0.015) | product (0.014) |\n",
      "| Topic 5 |  like (0.042)  |  texture (0.026)   |  taste (0.022)  |  rice (0.021)   | pasta (0.021) |   try (0.018)    | noodle (0.015) | sauce (0.012)  |  look (0.011)  |  good (0.010)   |\n",
      "+---------+----------------+--------------------+-----------------+-----------------+---------------+------------------+----------------+----------------+----------------+-----------------+\n"
     ]
    }
   ],
   "source": [
    "from tabulate import tabulate\n",
    "\n",
    "def print_topics_table(lda_model, num_topics, orientation=\"rows\", print_output=True):\n",
    "    topics_words = lda_model.print_topics(num_topics=num_topics)\n",
    "\n",
    "    if orientation == \"rows\":\n",
    "        table_data = []\n",
    "        for idx, topic in topics_words:\n",
    "            words = topic.split(\" + \")\n",
    "            words = [\"{} ({})\".format(word.split('*')[1].replace('\"', ''), word.split('*')[0]) for word in words]\n",
    "            table_data.append([\"Topic {}\".format(idx + 1)] + words)\n",
    "\n",
    "        # Ensure all rows have the same number of columns\n",
    "        max_words = max(len(topic) for topic in table_data)\n",
    "        for topic in table_data:\n",
    "            while len(topic) < max_words:\n",
    "                topic.append(\"\")  # Fill shorter rows with empty strings\n",
    "\n",
    "        headers = [\"Topic\"] + [\"Word {}\".format(i + 1) for i in range(max_words - 1)]\n",
    "\n",
    "    elif orientation == \"columns\":\n",
    "        table_data = [[] for _ in range(num_topics)]\n",
    "        for idx, topic in topics_words:\n",
    "            words = topic.split(\" + \")\n",
    "            words = [\"{} ({})\".format(word.split('*')[1].replace('\"', ''), word.split('*')[0]) for word in words]\n",
    "            table_data[idx].extend(words)\n",
    "\n",
    "        # Transpose the data to have topics as columns\n",
    "        max_words = max(len(topic) for topic in table_data)\n",
    "        for topic in table_data:\n",
    "            while len(topic) < max_words:\n",
    "                topic.append(\"\")  # Fill shorter topics with empty strings\n",
    "\n",
    "        table_data = list(map(list, zip(*table_data)))\n",
    "        headers = [\"Topic {}\".format(i + 1) for i in range(num_topics)]\n",
    "\n",
    "    else:\n",
    "        raise ValueError(\"Invalid orientation. Choose 'rows' or 'columns'.\")\n",
    "\n",
    "    table = tabulate(table_data, headers=headers, tablefmt=\"pretty\")\n",
    "\n",
    "    if print_output:\n",
    "        print(table)\n",
    "    else:\n",
    "        return table\n",
    "\n",
    "# Print the topics for high-rating reviews as rows\n",
    "print(\"High Rating Reviews Topics (Rows):\")\n",
    "print_topics_table(high_lda, num_topics, orientation=\"rows\")\n",
    "\n",
    "# Print the topics for low-rating reviews as columns\n",
    "print(\"Low Rating Reviews Topics (Columns):\")\n",
    "print_topics_table(low_lda, num_topics, orientation=\"rows\")\n"
   ]
  },
  {
   "cell_type": "markdown",
   "id": "74673770",
   "metadata": {},
   "source": [
    "### Interactive Visualization"
   ]
  },
  {
   "cell_type": "code",
   "execution_count": 169,
   "id": "c0066bd4",
   "metadata": {},
   "outputs": [
    {
     "data": {
      "text/markdown": [
       "### High Rating Reviews LDA Visualization"
      ],
      "text/plain": [
       "<IPython.core.display.Markdown object>"
      ]
     },
     "metadata": {},
     "output_type": "display_data"
    },
    {
     "data": {
      "text/html": [
       "\n",
       "<link rel=\"stylesheet\" type=\"text/css\" href=\"https://cdn.jsdelivr.net/gh/bmabey/pyLDAvis@3.4.0/pyLDAvis/js/ldavis.v1.0.0.css\">\n",
       "\n",
       "\n",
       "<div id=\"ldavis_el19110138652428486908261923\" style=\"background-color:white;\"></div>\n",
       "<script type=\"text/javascript\">\n",
       "\n",
       "var ldavis_el19110138652428486908261923_data = {\"mdsDat\": {\"x\": [0.061041198688246104, 0.0857537091260048, 0.05809837216676542, -0.1392033532998386, -0.06568992668117783], \"y\": [0.041737484571714646, -0.0010500043387180137, 0.01364504708766959, 0.09276562657392493, -0.14709815389459113], \"topics\": [1, 2, 3, 4, 5], \"cluster\": [1, 1, 1, 1, 1], \"Freq\": [33.39544467712246, 30.34908595940577, 22.516702794865644, 10.622448134072396, 3.11631843453373]}, \"tinfo\": {\"Term\": [\"star\", \"great\", \"good\", \"love\", \"product\", \"calorie\", \"carb\", \"soup\", \"taste\", \"pasta\", \"sauce\", \"diet\", \"stir\", \"food\", \"substitute\", \"easy\", \"cook\", \"rice\", \"add\", \"chicken\", \"awesome\", \"smell\", \"water\", \"noodle\", \"alternative\", \"replacement\", \"excellent\", \"say\", \"minute\", \"throw\", \"fried\", \"online\", \"firm\", \"future\", \"Tasty\", \"dukan\", \"tiny\", \"forever\", \"daily\", \"whatsoever\", \"NOODLE\", \"daughter\", \"child\", \"mesh\", \"nasty\", \"game\", \"opening\", \"unusual\", \"mush\", \"afraid\", \"fettucine\", \"cube\", \"monthly\", \"splurge\", \"packing\", \"korean\", \"substance\", \"hair\", \"wide\", \"teenage\", \"angel\", \"family\", \"prefer\", \"picky\", \"size\", \"fettuccini\", \"love\", \"understand\", \"turn\", \"noodle\", \"get\", \"like\", \"Noodles\", \"rice\", \"texture\", \"miracle\", \"raman\", \"version\", \"find\", \"follow\", \"carb\", \"Miracle\", \"smell\", \"package\", \"cook\", \"free\", \"favorite\", \"instruction\", \"try\", \"definitely\", \"little\", \"taste\", \"eat\", \"diet\", \"rinse\", \"product\", \"flavor\", \"order\", \"pasta\", \"good\", \"fishy\", \"great\", \"go\", \"calorie\", \"sauce\", \"turkey\", \"ginger\", \"lean\", \"sense\", \"min\", \"Euro\", \"cheesy\", \"refrigerate\", \"trouble\", \"answer\", \"Boil\", \"ocean\", \"conventional\", \"konnyaku\", \"oil\", \"overall\", \"wrap\", \"bubble\", \"baggie\", \"Japanese\", \"generally\", \"fruit\", \"repeat\", \"starve\", \"grow\", \"fork\", \"Cheese\", \"clump\", \"honest\", \"entire\", \"contain\", \"tend\", \"wheat\", \"water\", \"heat\", \"stick\", \"boil\", \"asian\", \"gelatinous\", \"italian\", \"minute\", \"sauce\", \"dish\", \"olive\", \"pasta\", \"rinse\", \"place\", \"microwave\", \"vegetable\", \"packet\", \"add\", \"calorie\", \"noodle\", \"open\", \"colander\", \"smell\", \"salt\", \"recommend\", \"fish\", \"regular\", \"meal\", \"like\", \"shirataki\", \"flavor\", \"go\", \"cook\", \"prepare\", \"time\", \"taste\", \"good\", \"spaghetti\", \"texture\", \"try\", \"carb\", \"free\", \"great\", \"rice\", \"package\", \"love\", \"squeak\", \"void\", \"noddle\", \"fully\", \"bunch\", \"concern\", \"promise\", \"cauliflower\", \"Parmesan\", \"topping\", \"load\", \"stew\", \"Cincinnati\", \"con\", \"pro\", \"soupy\", \"individual\", \"upset\", \"smelling\", \"grandmother\", \"Watchers\", \"kinda\", \"lifesaver\", \"sausage\", \"Weight\", \"trade\", \"crush\", \"kimchi\", \"compromise\", \"fettachini\", \"taco\", \"fettucini\", \"lunch\", \"batch\", \"Keto\", \"pretty\", \"lose\", \"fry\", \"funky\", \"sauce\", \"cheese\", \"sort\", \"tapioca\", \"real\", \"pudding\", \"taste\", \"stir\", \"great\", \"noodle\", \"rinse\", \"fill\", \"smell\", \"good\", \"carb\", \"pasta\", \"rice\", \"diet\", \"weight\", \"flavor\", \"follow\", \"chicken\", \"drain\", \"like\", \"come\", \"want\", \"cook\", \"direction\", \"texture\", \"minute\", \"package\", \"little\", \"calorie\", \"water\", \"fishy\", \"love\", \"substitute\", \"star\", \"watcher\", \"jicama\", \"Taste\", \"Spiralizer\", \"daikon\", \"gift\", \"creation\", \"favs\", \"solve\", \"spagetti\", \"throughly\", \"classic\", \"dupe\", \"radish\", \"speck\", \"j&iacute;cama\", \"amazon\", \"Fried\", \"oyster\", \"Diabetes\", \"ratio\", \"fan\", \"tabouleh\", \"insert\", \"justify\", \"award\", \"SUBSTITUTE\", \"Love\", \"send\", \"thank\", \"item\", \"helpful\", \"product\", \"great\", \"delivery\", \"snack\", \"convenient\", \"excellent\", \"Amazon\", \"replacement\", \"good\", \"fast\", \"easy\", \"awesome\", \"substitute\", \"alternative\", \"carb\", \"love\", \"taste\", \"stuff\", \"price\", \"pasta\", \"wonderful\", \"filling\", \"rice\", \"diet\", \"cheap\", \"calorie\", \"prepare\", \"nice\", \"healthy\", \"time\", \"work\", \"like\", \"flavor\", \"noodle\", \"cook\", \"service\", \"dice\", \"Balsamic\", \"Whisked\", \"granddaughter\", \"nutritionist\", \"lucky\", \"Slimy\", \"SMELLS\", \"pallet\", \"textually\", \"doodle\", \"sooooooooooooooooooooooooooo\", \"Dairy\", \"highlight\", \"craze\", \"energy\", \"Persian\", \"endure\", \"Amino\", \"wife\", \"Olive\", \"bag)before\", \"thyme\", \"gummie\", \"salsa\", \"marjoram\", \"restrictive\", \"shed\", \"biased\", \"Excellent\", \"freeze\", \"suck\", \"volume\", \"auto\", \"ferment\", \"KETO\", \"Style\", \"dress\", \"mushroom\", \"dieting\", \"soup\", \"calorie\", \"easily\", \"food\", \"vinegar\", \"love\", \"stir\", \"dinner\", \"good\", \"yummy\", \"great\", \"highly\", \"throw\", \"diet\", \"cook\", \"cabbage\", \"add\", \"pasta\", \"chicken\", \"carb\", \"purchase\", \"say\", \"like\", \"taste\", \"texture\", \"enjoy\", \"smell\", \"want\", \"sauce\", \"flavor\"], \"Freq\": [376.0, 768.0, 630.0, 693.0, 373.0, 407.0, 664.0, 150.0, 587.0, 846.0, 590.0, 319.0, 154.0, 155.0, 218.0, 127.0, 373.0, 603.0, 150.0, 125.0, 104.0, 514.0, 311.0, 1706.0, 130.0, 79.0, 70.0, 78.0, 272.0, 48.0, 10.434860286409648, 10.427353318949253, 9.52029195449516, 9.465708047503538, 9.456142828472114, 7.678969311210916, 7.604154777608702, 6.75048766101231, 6.734982280000934, 6.732208263740478, 5.814930128904897, 13.668910328014485, 4.873237226265869, 4.863948552682632, 5.6710853993102335, 4.843564670235429, 4.794500969984328, 4.733365590022022, 3.931450572151372, 3.9298037140411908, 3.926146122231108, 3.921680726611846, 3.9057934902757276, 3.902923582095157, 3.889538097460598, 4.660807513165004, 3.8663472359053994, 108.68732696924286, 2.9997725959637704, 2.9996287580835985, 101.77181402269167, 22.757272539555185, 20.976539034759735, 16.130841197390687, 17.610773735276865, 17.105455851031895, 399.7650038662039, 8.192812158389641, 28.360355584391698, 827.2504987944997, 33.153768352318295, 411.7246989382713, 62.931442475472814, 299.8662535685323, 198.29520297944615, 79.7561524697451, 39.71752576290937, 20.876225812185638, 90.1914536877517, 95.60573067894985, 251.72713978646433, 81.35897221561378, 195.50832350284895, 103.0040868409692, 148.843493197159, 92.01829750727651, 52.47738068823809, 54.685956542893116, 92.09278498093691, 42.960987767709014, 85.74670565371727, 177.56420548027396, 73.46007392944232, 112.95709964675976, 166.7365145251587, 121.19118129026869, 111.04669971770086, 59.468997572245904, 188.78658757858062, 154.6079126852325, 70.24339316804608, 153.00340798133897, 70.66487240406379, 92.42058466042558, 92.13625826786313, 14.14137955131937, 8.69286675071502, 6.835521557499837, 6.816611182820665, 18.757096693231354, 5.887106044207367, 5.8374869297055225, 5.830302948080573, 4.937225801638499, 4.935332741171316, 4.935288390802787, 4.933496480298914, 4.933959046861899, 4.932532054302583, 4.9237362869161165, 6.444436895510364, 5.616631042315755, 3.988734425873546, 3.9885309588319644, 3.9860317766615605, 3.9827307865127626, 3.98169166515891, 3.9780424857133325, 3.9761194692954764, 3.975376017065146, 3.9518512588674244, 7.735887725913375, 3.9255203672644843, 3.907312206753678, 9.436692457832972, 8.552318876695425, 7.697341809125761, 34.22172784534183, 195.95974732640556, 43.32431263744136, 27.032685609919387, 124.44841636082856, 84.50437676958106, 6.824149189317201, 31.666399664534186, 150.87706551292476, 281.0082922247564, 137.31537640133644, 21.087156124980662, 353.5820526080393, 242.80908638830417, 25.731946878654576, 35.9756588722219, 29.9958815658596, 17.3933119679119, 76.08046465900142, 170.39747717697404, 505.3589606437983, 78.50971330092605, 29.70699415833896, 181.43336767242818, 23.418889977661077, 53.9820858962024, 40.12939300863033, 67.99435607819927, 65.74224125202358, 210.10984911686884, 28.941419652956025, 110.77411154855045, 71.5439541629745, 110.44517809247863, 63.790183901624516, 71.1562728082121, 129.57097418274225, 129.48254732866314, 58.06549435350442, 95.55646370839109, 68.21110333188705, 122.51393109328642, 63.99932467807135, 99.8856510150042, 90.96921016615461, 66.37390876751655, 82.44897839205112, 8.497490058978947, 7.57439523305921, 6.621379171527881, 6.603102695230169, 5.745672720190555, 5.735298539661617, 5.7301902472182045, 5.717068822510466, 5.663121467394428, 4.8085235957255215, 11.276920694268437, 4.789410361613737, 3.8905056008481154, 3.888347752825347, 3.8881566753252037, 3.8878377317637858, 3.8851109807911945, 3.8826232210121363, 3.881968304323578, 3.876681634395137, 4.646964682987137, 3.8636664279956356, 5.2474713317877555, 5.278888282815878, 6.578138506427436, 2.9653276838127653, 2.964174868804347, 2.963139528935745, 2.963160599415368, 2.9618233455510707, 4.3449892076735255, 12.926817757939368, 12.625439471972882, 5.740939655466457, 21.436210040174988, 59.326485772705325, 43.155621181046016, 47.29758563799307, 9.722431916877607, 207.54540192503, 35.62023346713996, 17.25609358327481, 11.637309023194641, 42.05630787266767, 8.255065820450989, 164.64578533958408, 59.1808650902999, 189.73390319890612, 341.9357242006868, 145.2117142095832, 44.54872509363288, 131.61757184831797, 151.40643060057923, 155.8565620788453, 182.60925937385835, 142.13767324183684, 89.81430369499438, 39.20653069910784, 95.30020222418926, 62.25729827907525, 46.16632832795932, 48.29804664690141, 150.10726061797226, 36.75704183832592, 43.85259801057239, 82.6203870602269, 38.61082379011067, 83.19990491359259, 65.35059246973637, 58.119905827569696, 54.91741459785377, 73.48561255185705, 57.356311646029546, 47.536272031163236, 65.4545293934398, 45.62840186954935, 367.4967632175348, 5.345366337642647, 4.482393958816024, 6.608873772785967, 3.620835808874816, 3.6205888022121795, 3.5841524599694883, 2.7522337478761747, 2.7464526481689564, 2.72192001179599, 2.6921367817563957, 1.8975517514354165, 1.896916941589104, 1.8965600482799694, 1.8963424536565443, 1.896141743722296, 1.8960826473101768, 1.8952529827040887, 1.8950778721373023, 1.8937646790532527, 1.8933904925543965, 1.8930710451285173, 1.8924565241425866, 1.8911374758840642, 1.8836734900999308, 1.882907823912497, 1.8794348884491328, 1.879359860515774, 4.360159430189327, 4.753814520333825, 23.714380370088136, 19.18366052451191, 5.3418009448893535, 165.45492982839298, 307.3615091587114, 9.181714234166146, 4.958766868904527, 4.442415372184234, 31.176646094595007, 13.241059309983932, 33.39702629475061, 177.4098649344148, 18.23852098447541, 45.86868953499486, 37.79930267575587, 62.93843054794857, 38.3675650600158, 124.1532023072915, 125.36502189619253, 108.11704392561774, 26.382239692145095, 20.0027901738885, 108.99651182876912, 20.123059270228264, 10.472062878426831, 69.04137203890488, 45.78883258053155, 8.551487219296513, 50.43223103766143, 29.39555757609214, 19.583470356195093, 20.563189739665916, 31.636656923869992, 24.07037279935505, 47.72826244613116, 29.791356477094713, 29.921621309427213, 20.101050350219854, 3.568489406012272, 2.8796452674807607, 2.193870368125846, 2.193068703561655, 1.5129450839838479, 1.512943805666823, 1.5129035386805412, 1.5128309941893825, 1.512842818621862, 1.5127769852950839, 1.5126734416160732, 1.5118546795616752, 1.511216639576661, 1.5111068641021546, 1.5110383143516986, 1.5109528269006636, 1.5097443379433229, 1.5089407559035946, 1.506744127886067, 1.4919514432748324, 7.347380846090989, 2.1963269738682967, 0.8251196842263053, 0.8251164884337433, 0.8251156095907888, 0.8251155296959747, 0.8251152900115325, 0.8251106561123176, 0.8251065814768009, 0.8251056227390323, 2.885591359121718, 3.1721881186111607, 2.656396786473372, 2.885735808945523, 2.496593736041924, 1.514188566869743, 1.5139442485283738, 1.5086858914467707, 2.4749692458811596, 4.64355753925897, 4.588280874050895, 18.04512323560904, 20.35974119284473, 4.771578432660793, 11.744845739950497, 4.077808299474133, 20.888242192001808, 10.042762147291086, 5.327852467078398, 17.360192025490505, 5.228558872596132, 18.020711215386022, 4.596813959770835, 5.327351686383924, 10.99904235142699, 11.570568945005508, 2.738277466022776, 7.6961888210689064, 12.871331938465847, 6.731143197093801, 10.292800318187659, 4.571657000301604, 5.053157797827812, 8.279801902117113, 7.354809146322227, 6.6246191219398884, 5.126159606902062, 5.857956795363856, 4.722310496627892, 5.294647223620891, 4.722407009563266], \"Total\": [376.0, 768.0, 630.0, 693.0, 373.0, 407.0, 664.0, 150.0, 587.0, 846.0, 590.0, 319.0, 154.0, 155.0, 218.0, 127.0, 373.0, 603.0, 150.0, 125.0, 104.0, 514.0, 311.0, 1706.0, 130.0, 79.0, 70.0, 78.0, 272.0, 48.0, 11.187277170069544, 11.189327706804665, 10.251452768996895, 10.249763627375051, 10.252188585200383, 8.375649976358854, 8.375334555459263, 7.438722979801184, 7.436843594354731, 7.438165069741078, 6.500954115769492, 15.476997381124205, 5.5624271872419255, 5.561101676090947, 6.492352707676982, 5.561144124488383, 5.559204575022096, 5.560471454190504, 4.624336275013194, 4.624123029190685, 4.6233541997656875, 4.6223143431456375, 4.6234161769647875, 4.622050429115262, 4.622789888954651, 5.543012129109699, 4.61767083024201, 133.1191881372492, 3.6861022844128755, 3.6861633314156945, 125.63653023204364, 28.07920564632715, 26.166856132118998, 20.315550476929438, 22.842229852556542, 22.434589434877484, 693.9217757398892, 10.264327116417425, 40.350385254306374, 1706.1390687604644, 48.649284245555116, 827.9498730213605, 101.56886599434168, 603.7210007245585, 391.27966038012613, 140.55260985284733, 63.116480755644076, 29.995879423198154, 171.85309502590115, 191.77729528838955, 664.5436355840752, 166.4893074975192, 514.7363387082753, 228.7404380331993, 373.5806776450899, 200.93809743352037, 98.4885587227698, 104.19720521426231, 209.69088055419854, 76.79389083868887, 206.07479522265828, 587.2528180745403, 170.1336294408247, 319.2030668578052, 561.5042915357741, 373.18893008374334, 351.63477697709857, 129.32157281372073, 846.8457433277132, 630.2669475743802, 175.57918808221297, 768.0051825693467, 190.04023661455557, 407.0956466197629, 590.97109607181, 15.121201920000436, 9.42620609854355, 7.5260393130674395, 7.521004621501838, 20.783551213092945, 6.575449470019802, 6.572667795391434, 6.573158012277846, 5.624347939817364, 5.6242142858834585, 5.624484416210871, 5.624185965019911, 5.624838309034561, 5.624489122629651, 5.623574539066695, 7.519187005504213, 6.5702414975009376, 4.6743354327854965, 4.67435181316089, 4.674171807640225, 4.673275178408597, 4.673247096335774, 4.673287645420843, 4.67300055186459, 4.673252079850241, 4.671097804750742, 9.162525151081526, 4.672847230638963, 4.665681239105675, 11.2992002339851, 10.35997311448147, 9.399776070983243, 46.26782264262323, 311.94735814706905, 62.339908872739585, 37.658104947705745, 206.54801942054385, 137.7010724112505, 8.451080908078511, 47.079051338697255, 272.27092533610687, 590.97109607181, 264.7341201636239, 30.519831909482335, 846.8457433277132, 561.5042915357741, 39.50117058301096, 59.22313358573124, 48.337326759291265, 25.30540233668149, 150.44772038097733, 407.0956466197629, 1706.1390687604644, 173.10429356955643, 50.882598727658774, 514.7363387082753, 37.659177678655105, 111.3088514611945, 76.25450365543325, 154.56534507875983, 155.3343936091511, 827.9498730213605, 50.81229857792184, 351.63477697709857, 190.04023661455557, 373.5806776450899, 162.26778101825042, 198.97843502968703, 587.2528180745403, 630.2669475743802, 153.18040153674065, 391.27966038012613, 209.69088055419854, 664.5436355840752, 200.93809743352037, 768.0051825693467, 603.7210007245585, 228.7404380331993, 693.9217757398892, 9.22052619591425, 8.290855333349697, 7.3626372650735785, 7.366011818702692, 6.438320420942072, 6.437711652975502, 6.437726837345449, 6.433977247880344, 6.438865034447274, 5.509945599394343, 12.92515291252897, 5.5079046800717135, 4.58293870722435, 4.582228105843656, 4.582255938654907, 4.582277366642748, 4.581484601650837, 4.58200637960825, 4.582565172084075, 4.581851822336887, 5.5097754224801205, 4.581283642672495, 6.3088327897987035, 6.447606863622964, 8.05309194603679, 3.655150167533579, 3.6548259321773235, 3.654452515844424, 3.654811249996993, 3.6544278001291883, 5.387961807305212, 16.690928010483717, 16.415230212991958, 7.386286319186407, 31.33841448120306, 97.82244784428583, 73.33137997471337, 87.38761606217403, 13.697018307103729, 590.97109607181, 70.1730869140165, 28.85811985684891, 18.356935374708478, 95.56395239561915, 11.917038180185003, 587.2528180745403, 154.78214643548947, 768.0051825693467, 1706.1390687604644, 561.5042915357741, 114.77922944029872, 514.7363387082753, 630.2669475743802, 664.5436355840752, 846.8457433277132, 603.7210007245585, 319.2030668578052, 98.31177406036758, 351.63477697709857, 191.77729528838955, 125.99306906812339, 135.17165306156977, 827.9498730213605, 94.63047110320719, 128.23959558807516, 373.5806776450899, 106.06492385303339, 391.27966038012613, 272.27092533610687, 228.7404380331993, 206.07479522265828, 407.0956466197629, 311.94735814706905, 175.57918808221297, 693.9217757398892, 218.64162881425057, 376.9287228190922, 6.050901016182245, 5.188647959396657, 7.6884713292590545, 4.325439034603622, 4.325454562280039, 4.327313094522079, 3.462190068037132, 3.462644403120853, 3.461733283516028, 3.4675418996891425, 2.5988602232635554, 2.5987929348174332, 2.5989131110465284, 2.5991277698110986, 2.599126658112757, 2.5991386280706257, 2.5986875854701963, 2.5987220505040955, 2.59864544598826, 2.5985668186344086, 2.5984596551231394, 2.5986208741754413, 2.5982107627414353, 2.598994089965325, 2.598904678970541, 2.5981310522286476, 2.600420814197549, 6.135037269888366, 7.042951672637541, 35.474099169853574, 28.899288762859825, 7.9501197769392435, 373.18893008374334, 768.0051825693467, 16.24576425713566, 7.9483523441038395, 7.044161712310146, 70.30469756543351, 25.99456489050635, 79.64614946448177, 630.2669475743802, 40.199284055295536, 127.42991098611563, 104.37960116680816, 218.64162881425057, 130.0481300973182, 664.5436355840752, 693.9217757398892, 587.2528180745403, 83.1005266133008, 58.16229309368677, 846.8457433277132, 73.55886600800858, 25.29015310673304, 603.7210007245585, 319.2030668578052, 18.899564311790265, 407.0956466197629, 162.26778101825042, 79.80538775424495, 87.69104915751234, 198.97843502968703, 130.8477657646104, 827.9498730213605, 351.63477697709857, 1706.1390687604644, 373.5806776450899, 4.313980876890734, 3.6278051847760553, 2.939236398897156, 2.939548247658703, 2.2488847580281845, 2.2488829717376233, 2.248858399353984, 2.2488165167135534, 2.2489263095709786, 2.2489501254522475, 2.248897269859016, 2.2490761795268726, 2.249506007860603, 2.2494661787823524, 2.2495655582246705, 2.2495019144370834, 2.24969185890947, 2.250362943564385, 2.250647281387672, 2.2555859401130105, 12.30285598858095, 3.8857848764323117, 1.5610538923010182, 1.5610514525763972, 1.561050698376416, 1.5610514076339548, 1.5610511172675188, 1.5610478831615044, 1.5610438075527089, 1.5610438389208783, 5.49916177122587, 6.307088213740448, 5.548719018614133, 6.4274007324532025, 5.531283009674588, 3.1718173962991534, 3.1729475847406494, 3.176534835681738, 6.585551925281683, 17.054563954107337, 17.639434281426393, 150.46195521941712, 407.0956466197629, 22.72971077015364, 155.3799324095525, 19.297860125853024, 693.9217757398892, 154.78214643548947, 39.215641018365226, 630.2669475743802, 38.68304082252391, 768.0051825693467, 32.897265495131144, 48.8844142006883, 319.2030668578052, 373.5806776450899, 10.17024538093667, 150.44772038097733, 846.8457433277132, 125.99306906812339, 664.5436355840752, 45.32065434630611, 78.99169675348159, 827.9498730213605, 587.2528180745403, 391.27966038012613, 104.60762728041306, 514.7363387082753, 128.23959558807516, 590.97109607181, 351.63477697709857], \"Category\": [\"Default\", \"Default\", \"Default\", \"Default\", \"Default\", \"Default\", \"Default\", \"Default\", \"Default\", \"Default\", \"Default\", \"Default\", \"Default\", \"Default\", \"Default\", \"Default\", \"Default\", \"Default\", \"Default\", \"Default\", \"Default\", \"Default\", \"Default\", \"Default\", \"Default\", \"Default\", \"Default\", \"Default\", \"Default\", \"Default\", \"Topic1\", \"Topic1\", \"Topic1\", \"Topic1\", \"Topic1\", \"Topic1\", \"Topic1\", \"Topic1\", \"Topic1\", \"Topic1\", \"Topic1\", \"Topic1\", \"Topic1\", \"Topic1\", \"Topic1\", \"Topic1\", \"Topic1\", \"Topic1\", \"Topic1\", \"Topic1\", \"Topic1\", \"Topic1\", \"Topic1\", \"Topic1\", \"Topic1\", \"Topic1\", \"Topic1\", \"Topic1\", \"Topic1\", \"Topic1\", \"Topic1\", \"Topic1\", \"Topic1\", \"Topic1\", \"Topic1\", \"Topic1\", \"Topic1\", \"Topic1\", \"Topic1\", \"Topic1\", \"Topic1\", \"Topic1\", \"Topic1\", \"Topic1\", \"Topic1\", \"Topic1\", \"Topic1\", \"Topic1\", \"Topic1\", \"Topic1\", \"Topic1\", \"Topic1\", \"Topic1\", \"Topic1\", \"Topic1\", \"Topic1\", \"Topic1\", \"Topic1\", \"Topic1\", \"Topic1\", \"Topic1\", \"Topic1\", \"Topic1\", \"Topic1\", \"Topic1\", \"Topic1\", \"Topic1\", \"Topic1\", \"Topic1\", \"Topic1\", \"Topic1\", \"Topic1\", \"Topic1\", \"Topic1\", \"Topic1\", \"Topic2\", \"Topic2\", \"Topic2\", \"Topic2\", \"Topic2\", \"Topic2\", \"Topic2\", \"Topic2\", \"Topic2\", \"Topic2\", \"Topic2\", \"Topic2\", \"Topic2\", \"Topic2\", \"Topic2\", \"Topic2\", \"Topic2\", \"Topic2\", \"Topic2\", \"Topic2\", \"Topic2\", \"Topic2\", \"Topic2\", \"Topic2\", \"Topic2\", \"Topic2\", \"Topic2\", \"Topic2\", \"Topic2\", \"Topic2\", \"Topic2\", \"Topic2\", \"Topic2\", \"Topic2\", \"Topic2\", \"Topic2\", \"Topic2\", \"Topic2\", \"Topic2\", \"Topic2\", \"Topic2\", \"Topic2\", \"Topic2\", \"Topic2\", \"Topic2\", \"Topic2\", \"Topic2\", \"Topic2\", \"Topic2\", \"Topic2\", \"Topic2\", \"Topic2\", \"Topic2\", \"Topic2\", \"Topic2\", \"Topic2\", \"Topic2\", \"Topic2\", \"Topic2\", \"Topic2\", \"Topic2\", \"Topic2\", \"Topic2\", \"Topic2\", \"Topic2\", \"Topic2\", \"Topic2\", \"Topic2\", \"Topic2\", \"Topic2\", \"Topic2\", \"Topic2\", \"Topic2\", \"Topic2\", \"Topic2\", \"Topic2\", \"Topic2\", \"Topic2\", \"Topic2\", \"Topic3\", \"Topic3\", \"Topic3\", \"Topic3\", \"Topic3\", \"Topic3\", \"Topic3\", \"Topic3\", \"Topic3\", \"Topic3\", \"Topic3\", \"Topic3\", \"Topic3\", \"Topic3\", \"Topic3\", \"Topic3\", \"Topic3\", \"Topic3\", \"Topic3\", \"Topic3\", \"Topic3\", \"Topic3\", \"Topic3\", \"Topic3\", \"Topic3\", \"Topic3\", \"Topic3\", \"Topic3\", \"Topic3\", \"Topic3\", \"Topic3\", \"Topic3\", \"Topic3\", \"Topic3\", \"Topic3\", \"Topic3\", \"Topic3\", \"Topic3\", \"Topic3\", \"Topic3\", \"Topic3\", \"Topic3\", \"Topic3\", \"Topic3\", \"Topic3\", \"Topic3\", \"Topic3\", \"Topic3\", \"Topic3\", \"Topic3\", \"Topic3\", \"Topic3\", \"Topic3\", \"Topic3\", \"Topic3\", \"Topic3\", \"Topic3\", \"Topic3\", \"Topic3\", \"Topic3\", \"Topic3\", \"Topic3\", \"Topic3\", \"Topic3\", \"Topic3\", \"Topic3\", \"Topic3\", \"Topic3\", \"Topic3\", \"Topic3\", \"Topic3\", \"Topic3\", \"Topic3\", \"Topic3\", \"Topic3\", \"Topic3\", \"Topic4\", \"Topic4\", \"Topic4\", \"Topic4\", \"Topic4\", \"Topic4\", \"Topic4\", \"Topic4\", \"Topic4\", \"Topic4\", \"Topic4\", \"Topic4\", \"Topic4\", \"Topic4\", \"Topic4\", \"Topic4\", \"Topic4\", \"Topic4\", \"Topic4\", \"Topic4\", \"Topic4\", \"Topic4\", \"Topic4\", \"Topic4\", \"Topic4\", \"Topic4\", \"Topic4\", \"Topic4\", \"Topic4\", \"Topic4\", \"Topic4\", \"Topic4\", \"Topic4\", \"Topic4\", \"Topic4\", \"Topic4\", \"Topic4\", \"Topic4\", \"Topic4\", \"Topic4\", \"Topic4\", \"Topic4\", \"Topic4\", \"Topic4\", \"Topic4\", \"Topic4\", \"Topic4\", \"Topic4\", \"Topic4\", \"Topic4\", \"Topic4\", \"Topic4\", \"Topic4\", \"Topic4\", \"Topic4\", \"Topic4\", \"Topic4\", \"Topic4\", \"Topic4\", \"Topic4\", \"Topic4\", \"Topic4\", \"Topic4\", \"Topic4\", \"Topic4\", \"Topic4\", \"Topic4\", \"Topic4\", \"Topic5\", \"Topic5\", \"Topic5\", \"Topic5\", \"Topic5\", \"Topic5\", \"Topic5\", \"Topic5\", \"Topic5\", \"Topic5\", \"Topic5\", \"Topic5\", \"Topic5\", \"Topic5\", \"Topic5\", \"Topic5\", \"Topic5\", \"Topic5\", \"Topic5\", \"Topic5\", \"Topic5\", \"Topic5\", \"Topic5\", \"Topic5\", \"Topic5\", \"Topic5\", \"Topic5\", \"Topic5\", \"Topic5\", \"Topic5\", \"Topic5\", \"Topic5\", \"Topic5\", \"Topic5\", \"Topic5\", \"Topic5\", \"Topic5\", \"Topic5\", \"Topic5\", \"Topic5\", \"Topic5\", \"Topic5\", \"Topic5\", \"Topic5\", \"Topic5\", \"Topic5\", \"Topic5\", \"Topic5\", \"Topic5\", \"Topic5\", \"Topic5\", \"Topic5\", \"Topic5\", \"Topic5\", \"Topic5\", \"Topic5\", \"Topic5\", \"Topic5\", \"Topic5\", \"Topic5\", \"Topic5\", \"Topic5\", \"Topic5\", \"Topic5\", \"Topic5\", \"Topic5\", \"Topic5\", \"Topic5\", \"Topic5\", \"Topic5\", \"Topic5\"], \"logprob\": [30.0, 29.0, 28.0, 27.0, 26.0, 25.0, 24.0, 23.0, 22.0, 21.0, 20.0, 19.0, 18.0, 17.0, 16.0, 15.0, 14.0, 13.0, 12.0, 11.0, 10.0, 9.0, 8.0, 7.0, 6.0, 5.0, 4.0, 3.0, 2.0, 1.0, -7.2511, -7.2518, -7.3428, -7.3485, -7.3496, -7.5577, -7.5675, -7.6866, -7.6889, -7.6893, -7.8358, -6.9811, -8.0125, -8.0144, -7.8608, -8.0186, -8.0287, -8.0416, -8.2272, -8.2276, -8.2286, -8.2297, -8.2338, -8.2345, -8.2379, -8.057, -8.2439, -4.9077, -8.4977, -8.4977, -4.9735, -6.4713, -6.5528, -6.8155, -6.7277, -6.7568, -3.6053, -7.493, -6.2512, -2.8781, -6.0951, -3.5759, -5.4542, -3.8929, -4.3065, -5.2172, -5.9144, -6.5576, -5.0943, -5.036, -4.0679, -5.1973, -4.3206, -4.9614, -4.5933, -5.0742, -5.6358, -5.5946, -5.0734, -5.8359, -5.1448, -4.4169, -5.2995, -4.8692, -4.4798, -4.7988, -4.8863, -5.5108, -4.3556, -4.5553, -5.3443, -4.5658, -5.3383, -5.0699, -5.0729, -6.8515, -7.3381, -7.5784, -7.5812, -6.569, -7.7278, -7.7363, -7.7375, -7.9038, -7.9041, -7.9042, -7.9045, -7.9044, -7.9047, -7.9065, -7.6373, -7.7748, -8.1171, -8.1171, -8.1178, -8.1186, -8.1189, -8.1198, -8.1203, -8.1204, -8.1264, -7.4547, -8.1331, -8.1377, -7.256, -7.3544, -7.4597, -5.9677, -4.2227, -5.7318, -6.2035, -4.6767, -5.0638, -7.5801, -6.0453, -4.4841, -3.8622, -4.5783, -6.4519, -3.6324, -4.0083, -6.2528, -5.9177, -6.0995, -6.6445, -5.1688, -4.3624, -3.2753, -5.1373, -6.1092, -4.2997, -6.347, -5.5119, -5.8085, -5.2811, -5.3148, -4.1529, -6.1353, -4.7931, -5.2303, -4.796, -5.345, -5.2357, -4.6363, -4.637, -5.439, -4.9408, -5.278, -4.6923, -5.3417, -4.8965, -4.99, -5.3053, -5.0884, -7.0623, -7.1773, -7.3118, -7.3145, -7.4536, -7.4554, -7.4563, -7.4586, -7.4681, -7.6317, -6.7793, -7.6356, -7.8435, -7.8441, -7.8441, -7.8442, -7.8449, -7.8455, -7.8457, -7.8471, -7.6658, -7.8504, -7.5443, -7.5383, -7.3183, -8.1151, -8.1155, -8.1158, -8.1158, -8.1162, -7.733, -6.6428, -6.6663, -7.4544, -6.137, -5.119, -5.4372, -5.3456, -6.9276, -3.8667, -5.6291, -6.3539, -6.7478, -5.463, -7.0912, -4.0983, -5.1215, -3.9564, -3.3674, -4.2239, -5.4055, -4.3222, -4.1821, -4.1531, -3.9947, -4.2453, -4.7043, -5.5332, -4.645, -5.0708, -5.3698, -5.3247, -4.1907, -5.5977, -5.4212, -4.7878, -5.5485, -4.7808, -5.0223, -5.1395, -5.1962, -4.905, -5.1528, -5.3406, -5.0207, -5.3815, -2.5441, -6.7745, -6.9506, -6.5624, -7.1641, -7.1641, -7.1742, -7.4384, -7.4405, -7.4494, -7.4604, -7.8102, -7.8105, -7.8107, -7.8108, -7.8109, -7.811, -7.8114, -7.8115, -7.8122, -7.8124, -7.8126, -7.8129, -7.8136, -7.8175, -7.8179, -7.8198, -7.8198, -6.9783, -6.8918, -5.2847, -5.4967, -6.7752, -3.3421, -2.7227, -6.2336, -6.8496, -6.9596, -5.0111, -5.8674, -4.9423, -3.2723, -5.5472, -4.625, -4.8185, -4.3086, -4.8036, -3.6293, -3.6195, -3.7676, -5.1781, -5.4549, -3.7595, -5.4489, -6.1021, -4.2161, -4.6267, -6.3047, -4.5301, -5.0699, -5.4761, -5.4273, -4.9964, -5.2698, -4.5852, -5.0565, -5.0522, -5.45, -5.9523, -6.1668, -6.4388, -6.4391, -6.8104, -6.8104, -6.8104, -6.8105, -6.8105, -6.8105, -6.8106, -6.8111, -6.8115, -6.8116, -6.8117, -6.8117, -6.8125, -6.813, -6.8145, -6.8244, -5.2301, -6.4377, -7.4167, -7.4167, -7.4167, -7.4167, -7.4167, -7.4167, -7.4167, -7.4167, -6.1647, -6.07, -6.2475, -6.1647, -6.3095, -6.8096, -6.8097, -6.8132, -6.3182, -5.689, -5.7009, -4.3316, -4.2109, -5.6618, -4.761, -5.8189, -4.1853, -4.9176, -5.5515, -4.3703, -5.5703, -4.3329, -5.6991, -5.5516, -4.8266, -4.776, -6.2171, -5.1837, -4.6694, -5.3177, -4.893, -5.7046, -5.6044, -5.1106, -5.2291, -5.3337, -5.5901, -5.4566, -5.6722, -5.5578, -5.6721], \"loglift\": [30.0, 29.0, 28.0, 27.0, 26.0, 25.0, 24.0, 23.0, 22.0, 21.0, 20.0, 19.0, 18.0, 17.0, 16.0, 15.0, 14.0, 13.0, 12.0, 11.0, 10.0, 9.0, 8.0, 7.0, 6.0, 5.0, 4.0, 3.0, 2.0, 1.0, 1.0271, 1.0262, 1.0228, 1.0172, 1.0159, 1.0099, 1.0002, 0.9997, 0.9976, 0.997, 0.9852, 0.9725, 0.9645, 0.9628, 0.9615, 0.9586, 0.9488, 0.9357, 0.9344, 0.9341, 0.9333, 0.9324, 0.9281, 0.9276, 0.924, 0.9234, 0.9192, 0.894, 0.8907, 0.8907, 0.8861, 0.8866, 0.8757, 0.8661, 0.8367, 0.8255, 0.5453, 0.8713, 0.7441, 0.3729, 0.7133, 0.3982, 0.6181, 0.397, 0.4171, 0.5301, 0.6336, 0.7343, 0.452, 0.4006, 0.126, 0.3807, 0.1287, 0.2989, 0.1765, 0.3157, 0.4672, 0.4521, 0.2739, 0.5159, 0.2199, -0.0994, 0.2569, 0.0579, -0.1175, -0.028, -0.0559, 0.3199, -0.4042, -0.3085, 0.1806, -0.5166, 0.1075, -0.3859, -0.7617, 1.1254, 1.1114, 1.0962, 1.0941, 1.0898, 1.0818, 1.0738, 1.0725, 1.0621, 1.0617, 1.0617, 1.0614, 1.0614, 1.0611, 1.0595, 1.0382, 1.0356, 1.0338, 1.0337, 1.0331, 1.0325, 1.0323, 1.0313, 1.0309, 1.0307, 1.0252, 1.0232, 1.0181, 1.015, 1.0123, 1.0007, 0.9926, 0.8908, 0.7275, 0.8285, 0.8609, 0.6858, 0.7041, 0.9786, 0.7958, 0.6021, 0.449, 0.536, 0.8227, 0.319, 0.3541, 0.7638, 0.6939, 0.7153, 0.8175, 0.5106, 0.3215, -0.0243, 0.4017, 0.6543, 0.1496, 0.7174, 0.4687, 0.5504, 0.3712, 0.3326, -0.1789, 0.6295, 0.0373, 0.2155, -0.0262, 0.2588, 0.1641, -0.3188, -0.3902, 0.2224, -0.2173, 0.0694, -0.4985, 0.0483, -0.8474, -0.7002, -0.0449, -0.9378, 1.4093, 1.4005, 1.3848, 1.3816, 1.3771, 1.3754, 1.3745, 1.3728, 1.3625, 1.3547, 1.3545, 1.3511, 1.3271, 1.3267, 1.3267, 1.3266, 1.326, 1.3253, 1.325, 1.3238, 1.3206, 1.3206, 1.3067, 1.2909, 1.2886, 1.2818, 1.2815, 1.2812, 1.2811, 1.2808, 1.2758, 1.2354, 1.2284, 1.2389, 1.1111, 0.9908, 0.9607, 0.877, 1.1482, 0.4445, 0.8129, 0.9767, 1.0351, 0.6701, 1.1238, 0.2193, 0.5295, 0.0927, -0.1165, 0.1385, 0.5445, 0.1272, 0.0647, 0.0407, -0.0433, 0.0446, 0.2228, 0.5716, 0.1854, 0.3659, 0.4869, 0.4618, -0.2167, 0.5453, 0.4178, -0.018, 0.4804, -0.0573, 0.0639, 0.1208, 0.1685, -0.221, -0.2026, 0.1843, -0.8701, -0.076, 2.2169, 2.1182, 2.0959, 2.0909, 2.0644, 2.0643, 2.0538, 2.0127, 2.0105, 2.0018, 1.9891, 1.9277, 1.9274, 1.9271, 1.927, 1.9268, 1.9268, 1.9265, 1.9264, 1.9258, 1.9256, 1.9255, 1.9251, 1.9246, 1.9203, 1.9199, 1.9184, 1.9175, 1.9007, 1.8491, 1.8395, 1.8324, 1.8446, 1.4288, 1.3264, 1.6716, 1.7704, 1.7812, 1.429, 1.5676, 1.3731, 0.9745, 1.4519, 1.2204, 1.2265, 0.9969, 1.0215, 0.5646, 0.5311, 0.55, 1.0948, 1.1748, 0.192, 0.946, 1.3605, 0.0738, 0.3004, 1.4492, 0.1538, 0.5338, 0.8373, 0.7919, 0.4033, 0.5491, -0.6112, -0.2262, -1.8012, -0.6802, 3.2788, 3.2376, 3.176, 3.1756, 3.0721, 3.0721, 3.0721, 3.0721, 3.0721, 3.072, 3.072, 3.0713, 3.0707, 3.0707, 3.0706, 3.0705, 3.0697, 3.0688, 3.0673, 3.0552, 2.953, 2.898, 2.8309, 2.8309, 2.8309, 2.8309, 2.8309, 2.8309, 2.8309, 2.8309, 2.8237, 2.7813, 2.7319, 2.6677, 2.673, 2.7291, 2.7286, 2.724, 2.4899, 2.1676, 2.1219, 1.3477, 0.473, 1.9075, 0.8861, 1.9141, -0.0347, 0.7334, 1.4724, -0.1234, 1.4673, -0.2838, 1.5005, 1.2519, 0.1005, -0.0062, 2.1564, 0.4956, -0.718, 0.539, -0.6991, 1.1746, 0.7192, -1.1366, -0.9116, -0.6101, 0.4527, -1.0073, 0.1669, -1.2466, -0.8418]}, \"token.table\": {\"Topic\": [1, 2, 3, 4, 5, 5, 2, 2, 5, 3, 5, 4, 2, 1, 5, 4, 2, 3, 5, 1, 3, 5, 1, 4, 1, 2, 3, 4, 1, 1, 2, 3, 4, 5, 2, 5, 3, 5, 5, 4, 5, 4, 3, 5, 4, 1, 3, 3, 5, 5, 1, 2, 3, 4, 5, 1, 1, 2, 3, 4, 4, 1, 2, 3, 4, 2, 1, 2, 3, 4, 5, 1, 4, 5, 4, 1, 2, 3, 4, 5, 2, 2, 3, 5, 1, 2, 3, 4, 2, 3, 1, 2, 3, 4, 5, 1, 2, 3, 4, 5, 1, 2, 3, 4, 5, 3, 1, 4, 1, 2, 3, 4, 5, 2, 1, 2, 3, 5, 1, 4, 2, 1, 2, 3, 1, 2, 3, 4, 3, 3, 3, 1, 2, 3, 4, 2, 1, 2, 3, 4, 5, 5, 4, 3, 1, 4, 1, 1, 5, 1, 2, 3, 4, 1, 2, 3, 4, 5, 5, 1, 2, 3, 4, 5, 1, 2, 3, 4, 5, 1, 2, 3, 5, 1, 2, 3, 4, 1, 2, 3, 4, 5, 5, 1, 2, 3, 2, 3, 5, 1, 4, 1, 2, 3, 5, 1, 2, 3, 4, 1, 2, 3, 4, 5, 5, 5, 1, 2, 3, 4, 5, 2, 3, 1, 2, 3, 4, 5, 1, 2, 4, 4, 1, 2, 3, 4, 5, 1, 2, 3, 4, 3, 5, 3, 1, 2, 3, 1, 1, 2, 3, 1, 2, 3, 4, 1, 2, 3, 4, 1, 2, 3, 4, 1, 1, 2, 3, 1, 2, 3, 1, 2, 3, 4, 5, 1, 2, 3, 4, 5, 1, 2, 3, 4, 5, 1, 2, 1, 2, 3, 4, 5, 3, 5, 1, 2, 1, 2, 3, 5, 3, 1, 2, 3, 5, 1, 1, 2, 3, 2, 1, 2, 5, 4, 2, 1, 2, 3, 4, 5, 1, 2, 3, 4, 5, 5, 3, 1, 2, 3, 4, 5, 2, 5, 1, 2, 3, 4, 1, 2, 3, 4, 1, 2, 3, 2, 4, 5, 1, 2, 3, 4, 5, 2, 3, 4, 1, 2, 3, 4, 5, 1, 2, 3, 4, 1, 2, 3, 4, 5, 4, 4, 4, 3, 3, 2, 1, 2, 3, 5, 1, 2, 3, 4, 5, 1, 2, 3, 4, 5, 1, 3, 1, 2, 3, 4, 1, 2, 3, 4, 5, 5, 3, 4, 5, 1, 2, 3, 4, 1, 1, 2, 3, 4, 1, 2, 1, 2, 3, 1, 2, 3, 1, 1, 1, 2, 3, 5, 1, 1, 2, 3, 4, 5, 3, 1, 2, 3, 4, 5, 5, 2, 2, 1, 2, 3, 5, 1, 1, 2, 3, 1, 1, 2, 3, 4, 5, 1, 2, 4, 1, 2, 3, 5, 1, 2, 3, 5, 1, 5, 1, 2, 3, 4, 5, 1, 2, 3, 5, 1, 2, 3, 4, 1, 2, 4, 1, 2, 3, 4, 1, 2, 3, 4, 5, 1, 2, 3, 4, 3, 1, 2, 3, 4, 5, 3, 1, 3, 4, 1, 2, 3, 4, 5, 4, 1, 2, 3, 4, 5, 4, 1, 2, 3, 4, 1, 2, 3, 4, 5, 2, 1, 2, 3, 4, 2, 1, 2, 3, 4, 5, 1, 2, 3, 4, 5, 1, 2, 3, 4, 5, 5, 1, 2, 3, 1, 2, 3, 4, 5, 2, 3, 1, 2, 3, 5, 2, 3, 4, 2, 5, 5, 1, 2, 4, 1, 3, 5, 1, 2, 3, 5, 3, 1, 3, 4, 4, 5, 1, 2, 3, 1, 2, 3, 4, 5, 3, 4, 1, 2, 3, 4, 4, 1, 3, 1, 3, 4, 2, 3, 1, 2, 3, 4, 1, 2, 3, 4, 5, 1, 2, 3, 4, 5, 1, 1, 2, 3, 4, 5, 1, 3, 5, 4, 3, 1, 3, 5, 1, 2, 3, 4, 5, 1, 2, 3, 5, 1, 2, 3, 4, 5, 1, 2, 3, 4, 4, 1, 2, 3, 5, 5, 1, 2, 3, 4, 5, 1, 3, 3, 2, 1, 2, 3, 4, 2, 1, 2, 3, 1, 2, 1, 3, 1, 2, 3, 4, 5, 1, 2, 3, 1, 2, 5, 3, 2, 3, 5, 1, 2, 3, 4, 5, 4, 1, 2, 3, 5, 1, 2, 3, 4, 5, 1, 1, 2, 3, 1, 1, 3, 5, 1, 2, 3, 4, 5, 1, 2, 3, 4, 5, 2, 1, 2, 3, 4, 5], \"Freq\": [0.34622622220874144, 0.03846958024541571, 0.07693916049083142, 0.5001045431904043, 0.44334378141668035, 0.6804488406412049, 0.8889703713266617, 0.8731217506186814, 0.10914021882733517, 0.8728024212269236, 0.8890998312686836, 0.7696550212439925, 0.9124851506131232, 0.3636917921682019, 0.5455376882523029, 0.7696090467281961, 0.8557665752597606, 0.31516436162047035, 0.6303287232409407, 0.2871874709997931, 0.6701040989995173, 0.031909718999977014, 0.1629981947963286, 0.6519927791853144, 0.4865177302825105, 0.19220453542025107, 0.22223649407966528, 0.09009587597824269, 0.9229414472324428, 0.6202688135113144, 0.1378375141136254, 0.18706519772563449, 0.03938214688960726, 0.009845536722401816, 0.2573482660002883, 0.5146965320005766, 0.9318412434335258, 0.8887455269025044, 0.8893132653962034, 0.7691062881363568, 0.8893566838982592, 0.9247616179536687, 0.3148084474840595, 0.629616894968119, 0.9104540682048166, 0.8778613390892958, 0.907478003477199, 0.8692313519957942, 0.12417590742797059, 0.680376653655188, 0.3057540511980816, 0.5051588671968303, 0.09305558079941613, 0.03988096319974977, 0.05317461759966636, 0.865028887585649, 0.22299436353524338, 0.2921995108392844, 0.19223652028900293, 0.2921995108392844, 0.769619253650349, 0.8118657830776742, 0.10347309000009573, 0.07163521615391243, 0.007959468461545825, 0.8890130684653659, 0.19607690432042008, 0.6172791432309521, 0.1670284740507282, 0.007262107567422966, 0.021786322702268896, 0.18078988152494319, 0.18078988152494319, 0.36157976304988637, 0.7697841101142386, 0.28741247968611466, 0.09580415989537155, 0.24909081572796604, 0.3640558076024119, 0.6405928744240752, 0.8557336203787194, 0.13538603254553352, 0.8123161952732012, 0.6405969999479849, 0.23239148036694166, 0.6003446576145993, 0.1597691427522724, 0.004841489174311284, 0.8557366191446703, 0.9319200673025938, 0.19665208901929188, 0.2949781335289378, 0.19665208901929188, 0.09832604450964594, 0.2949781335289378, 0.22599111723228574, 0.41759228184226715, 0.17931903867344412, 0.12282125936537268, 0.04912850374614908, 0.3792076042960132, 0.1850894259063874, 0.23474756456419865, 0.18659421798692713, 0.015047920805397349, 0.9325491478815352, 0.5291127263585448, 0.47620145372269024, 0.09975334288168258, 0.342011461308626, 0.5130171919629389, 0.014250477554526082, 0.04275143266357825, 0.9128713312130317, 0.3016038920319793, 0.2777930584505073, 0.3650994482492381, 0.055558611690101456, 0.8988881708812445, 0.7695880549792634, 0.856009153000502, 0.23583701108168906, 0.5895925277042227, 0.1768777583112668, 0.2747529384234336, 0.3275900419664016, 0.39099456621796325, 0.010567420708593601, 0.8208358229176591, 0.8729377734161361, 0.932008192262977, 0.09652534702065695, 0.8687281231859125, 0.2839230673118798, 0.5678461346237595, 0.8889144407882886, 0.39884289770884074, 0.29444777683203005, 0.22217423160962269, 0.05353595942400547, 0.03212157565440328, 0.889085707002157, 0.8665035544108161, 0.8208325254529378, 0.8653673686064951, 0.9247582982102845, 0.9412595425986453, 0.9045682218098999, 0.06461201584356428, 0.5599403745582395, 0.31252486021855225, 0.07813121505463806, 0.03906560752731903, 0.12310901280754064, 0.12310901280754064, 0.06155450640377032, 0.5539905576339329, 0.12310901280754064, 0.826946279416928, 0.35400662378453246, 0.18796811882364553, 0.2819521782354683, 0.14410889109812824, 0.034460821784335016, 0.17007348150381887, 0.17007348150381887, 0.1133823210025459, 0.28345580250636476, 0.28345580250636476, 0.1020001177113679, 0.2805003237062617, 0.4845005591289975, 0.12750014713920987, 0.4525530048605907, 0.12256643881640997, 0.36769931644922993, 0.056569125607573836, 0.2493067382444222, 0.5175003505982704, 0.16242711734106294, 0.06043799715016296, 0.00755474964377037, 0.8892540049135776, 0.25153202783214634, 0.39209404338540466, 0.35510403929244194, 0.30369512270066173, 0.30369512270066173, 0.30369512270066173, 0.9551497522676848, 0.7695524684912, 0.30796696318686523, 0.3959575240973981, 0.08799056091053292, 0.21997640227633228, 0.3923725569065794, 0.15694902276263176, 0.08632196251944746, 0.360982752354053, 0.4290744883297197, 0.3173975667096557, 0.22335384324012808, 0.017633198150536426, 0.011755465433690951, 0.8886332463285266, 0.8890106403147552, 0.49709568366948886, 0.17207158280866922, 0.23898830945648503, 0.04779766189129701, 0.04779766189129701, 0.7965165510502509, 0.08850183900558344, 0.24180461034168982, 0.18490940790835103, 0.12801420547501227, 0.4409378188583756, 0.014223800608334695, 0.8191114908910706, 0.14245417232888186, 0.035613543082220464, 0.7696390111676497, 0.1741324544579265, 0.24876064922560925, 0.07462819476768277, 0.44776916860609667, 0.024876064922560927, 0.5279801093076408, 0.25383659101328887, 0.21322273645116266, 0.8663898601011771, 0.3152766616283745, 0.630553323256749, 0.8209219511448403, 0.7577584626341006, 0.08914805442754126, 0.13372208164131189, 0.8651727354574565, 0.11982557223563499, 0.11982557223563499, 0.7788662195316275, 0.17424755417444932, 0.2875084643878414, 0.392056996892511, 0.13939804333955946, 0.1977054064836342, 0.15816432518690735, 0.1977054064836342, 0.3954108129672684, 0.5237031080902878, 0.2618515540451439, 0.14547308558063549, 0.06400815765547961, 0.975471499048666, 0.30162152918768903, 0.5245591811959809, 0.17048173388869378, 0.3986805085761263, 0.32463984269770285, 0.27338092016648663, 0.31566843573958914, 0.31566843573958914, 0.2701666792365853, 0.0853157934431322, 0.014219298907188701, 0.5005806336753148, 0.10428763201569058, 0.3232916592486408, 0.05735819760862982, 0.015643144802353588, 0.38615025164157746, 0.2638693386217446, 0.20594680087550798, 0.07079421280095587, 0.0772300503283155, 0.9410217343766565, 0.8563297467100343, 0.4578524489634817, 0.3185060514528568, 0.10948645518691955, 0.08957982697111598, 0.024883285269754443, 0.4756553100786323, 0.4756553100786323, 0.8938725525415615, 0.8559359087038951, 0.16020576634153014, 0.27463845658548025, 0.5378336441465655, 0.022886538048790022, 0.9503107206842422, 0.0730085904522276, 0.1460171809044552, 0.7300859045222761, 0.0730085904522276, 0.8780690294128164, 0.8990955616457779, 0.8282964127474627, 0.11832805896392323, 0.855930765318667, 0.6783244709918846, 0.2877740179965571, 0.02055528699975408, 0.9243611249353731, 0.954784979864868, 0.3736050915575526, 0.37886713510061676, 0.22626787235175724, 0.021048174172256486, 0.010524087086128243, 0.2459275400630268, 0.20467517850406747, 0.23958102290011, 0.2808333844590693, 0.026972697942396488, 0.8893296968020692, 0.8730094632261319, 0.19921740565361995, 0.1302074546755686, 0.24739416388358032, 0.3997368858539956, 0.023437341841602347, 0.8559349959414524, 0.6405941850831997, 0.8188150898848502, 0.09765684558259681, 0.0751206504481514, 0.0075120650448151395, 0.2508807935514967, 0.4219358800638808, 0.07982570703911258, 0.23947712111733774, 0.1924930629028789, 0.689766808735316, 0.11228762002667936, 0.25156853684159086, 0.6289213421039771, 0.8890605533534108, 0.1823859797978653, 0.3343742962960864, 0.3039766329964422, 0.060795326599288435, 0.1519883164982211, 0.8573238922697441, 0.8730794377348093, 0.7695284909349999, 0.527845251577551, 0.0959718639231911, 0.25912403259261596, 0.0959718639231911, 0.01919437278463822, 0.08496347921760579, 0.6797078337408463, 0.2336495678484159, 0.021240869804401447, 0.03460292771236498, 0.10380878313709493, 0.06920585542472996, 0.6574556265349345, 0.1384117108494599, 0.7694856974537853, 0.770913739244149, 0.7695549652833845, 0.8209163991030264, 0.8731177355494621, 0.8889696274605506, 0.90203663342932, 0.9301040970973831, 0.7925396292139699, 0.158507925842794, 0.49761466656976067, 0.25363854363992655, 0.18117038831423324, 0.05797452426055464, 0.00966242071009244, 0.41732420457863034, 0.29115642179904444, 0.26689338664912404, 0.014557821089952221, 0.014557821089952221, 0.07736852374339433, 0.8510537611773377, 0.10909381499105314, 0.23182435685598793, 0.5863792555769106, 0.06818363436940822, 0.5764338488635882, 0.11816893901703557, 0.09367050044033308, 0.1801355777698713, 0.030262777065338378, 0.8893401205582921, 0.791947467767528, 0.1827571079463526, 0.6405940131867117, 0.20600717752513764, 0.4248898036455964, 0.25107124760876154, 0.11587903735788993, 0.8991024245243866, 0.0675411745008327, 0.6078705705074944, 0.3039352852537472, 0.016885293625208176, 0.048114972737191966, 0.9141844820066473, 0.20200467579160294, 0.5545946553551281, 0.23873279866280347, 0.5691818891428386, 0.1707545667428516, 0.2561318501142774, 0.8651611377598172, 0.8649889977970054, 0.1759059925585195, 0.23454132341135933, 0.29317665426419914, 0.29317665426419914, 0.9241642082854198, 0.388444951805288, 0.23807916400969265, 0.07518289389779768, 0.25060964632599225, 0.03759144694889884, 0.9507462812552461, 0.48472015859810763, 0.295989939651807, 0.200452592793897, 0.017583560771394474, 0.0011722373847596315, 0.8893304031977612, 0.8890175451341604, 0.8891142040112114, 0.13106232078418567, 0.6880771841169748, 0.09829674058813927, 0.06553116039209284, 0.8937087430122018, 0.3061738037058199, 0.45637227344829767, 0.23685143305544562, 0.8994092468669633, 0.45622705258144086, 0.19331654770400036, 0.30930647632640057, 0.023197985724480043, 0.015465323816320029, 0.13299310141747742, 0.7979586085048644, 0.7696317337509673, 0.45029204667803696, 0.28853665126942174, 0.25356251172161304, 0.004371767443476087, 0.15806901414887972, 0.6717933101327388, 0.11855176061165978, 0.03951725353721993, 0.8652783483751448, 0.8893038477666616, 0.22318114188933297, 0.41802182131652843, 0.2160960262737986, 0.1287129336822079, 0.015351083833657823, 0.7875740319303568, 0.0492233769956473, 0.0984467539912946, 0.0492233769956473, 0.1772099382546052, 0.6582083420885336, 0.126578527324718, 0.025315705464943602, 0.8025419597206849, 0.15286513518489236, 0.03821628379622309, 0.3512712113416351, 0.39440978115552006, 0.07395183396666001, 0.17871693208609504, 0.1328938325147358, 0.18400684502040343, 0.6031335475668779, 0.05111301250566762, 0.020445205002267045, 0.4470250159862107, 0.10315961907374092, 0.08596634922811744, 0.34386539691246976, 0.8729324711561562, 0.32423255419941766, 0.13933961006917123, 0.08306784446431362, 0.44213530118102407, 0.008038823657836801, 0.9320059939781568, 0.16782693566640494, 0.6713077426656198, 0.16782693566640494, 0.2868449316875226, 0.22064994745194047, 0.15445496321635832, 0.24271494219713452, 0.11032497372597024, 0.7694889120996763, 0.6337488960270187, 0.1425935016060792, 0.12674977920540373, 0.09506233440405279, 0.015843722400675466, 0.7696867627160527, 0.34531849272396553, 0.136034557739744, 0.4394962634668652, 0.07324937724447754, 0.3054563905176345, 0.48513662023389015, 0.12577616080137893, 0.05390406891487668, 0.02695203445743834, 0.9128032505521307, 0.4011248444365551, 0.43994337776912495, 0.09057657777599631, 0.06469755555428308, 0.8559284819370001, 0.20088855654139573, 0.25111069567674466, 0.12555534783837233, 0.41433264786662866, 0.640595340339436, 0.4969182778799373, 0.15073187762358098, 0.23520798486317032, 0.11429120391238558, 0.003312788519199582, 0.29741535820365184, 0.4327660601406431, 0.25823489185347015, 0.008904651443223109, 0.0035618605772892433, 0.6405938940317629, 0.15932371256743474, 0.6107408981751665, 0.21243161675657965, 0.15567597233016098, 0.4754885676606003, 0.35196306787688564, 0.008460650670117444, 0.008460650670117444, 0.15509630490065143, 0.7754815245032571, 0.4810632200823707, 0.30382940215728677, 0.15191470107864338, 0.06329779211610141, 0.14198592386840933, 0.14198592386840933, 0.7099296193420467, 0.9307267249893272, 0.9272178329364702, 0.6405970128203688, 0.393605496301836, 0.5707279696376621, 0.0393605496301836, 0.7880141350554446, 0.13133568917590743, 0.08755712611727162, 0.3807774685033112, 0.3516363357096904, 0.2564419685838626, 0.0116564531174483, 0.8728735653050989, 0.2516244767990964, 0.1258122383995482, 0.629061191997741, 0.8666178917611316, 0.8890840891339089, 0.24256604500652135, 0.17326146071894383, 0.589088966444409, 0.29243272783365903, 0.27914033111394726, 0.25920173603437957, 0.0531695868788471, 0.11963157047740597, 0.8729283890841032, 0.8651661859569579, 0.41780801824474567, 0.37863851653430075, 0.19584750855222452, 0.006528250285074151, 0.7694892412254405, 0.8654167801379153, 0.8676294421835619, 0.005306042970251181, 0.018571150395879133, 0.9736588850410918, 0.8559810673259918, 0.907786225511604, 0.10621883404793298, 0.7169771298235476, 0.15932825107189946, 0.026554708511983244, 0.23904565773301872, 0.31011328570769997, 0.3811809136823812, 0.006460693452243749, 0.0646069345224375, 0.32490768831877015, 0.18050427128820565, 0.15643703511644488, 0.31287407023288977, 0.036100854257641125, 0.8662375788683842, 0.2561268881123065, 0.24697949925115267, 0.21038994380653747, 0.2881427491263448, 0.004573694430576901, 0.360443553420286, 0.180221776710143, 0.540665330130429, 0.7697604939061031, 0.7423957598542443, 0.32685194328605544, 0.6537038865721109, 0.05447532388100924, 0.3031062508709943, 0.22136973378218686, 0.2809692774927756, 0.18390716344981678, 0.011919908742117754, 0.8138543331577852, 0.8510841045134788, 0.10638551306418485, 0.8893247489803661, 0.506031925624869, 0.2453488124241789, 0.21212449407507136, 0.02044573436868158, 0.01789001757259638, 0.08456874368072595, 0.1691374873614519, 0.0563791624538173, 0.6765499494458076, 0.7695681291733619, 0.26593343118790935, 0.4500411912410774, 0.184107760053168, 0.10228208891842668, 0.6405938755891587, 0.26636052289833595, 0.3568225872789028, 0.2110781502213228, 0.16082144778767452, 0.005025670243364829, 0.9551857238688322, 0.9074499756494153, 0.8207597123223911, 0.8889919424441515, 0.43874106378327155, 0.32428687323111377, 0.19075698425359633, 0.04292032145705917, 0.9258523280138565, 0.693921503438724, 0.22304619753387558, 0.07434873251129186, 0.7793983871776928, 0.0974247983972116, 0.8992043284804351, 0.8729800154363796, 0.10343972940205913, 0.6206383764123548, 0.20687945880411826, 0.04137589176082365, 0.020687945880411826, 0.7000961599998652, 0.20002747428567577, 0.10001373714283789, 0.10363843384482993, 0.6218306030689795, 0.20727686768965986, 0.9649185371526456, 0.15558388867070394, 0.3111677773414079, 0.4667516660121118, 0.2729266248813296, 0.23393710704113965, 0.3431077569936715, 0.11696855352056983, 0.03898951784018994, 0.8263232180840895, 0.18272313745041266, 0.6283111393031733, 0.18272313745041266, 0.0032056690780774147, 0.08137377314631371, 0.29497992765538716, 0.39669714408827933, 0.19326271122249505, 0.040686886573156854, 0.9410923170388404, 0.08645317137346953, 0.734851956674491, 0.15129304990357167, 0.8138678117223873, 0.24384581944098896, 0.16256387962732596, 0.5689735786956409, 0.339863858114373, 0.3126747494652231, 0.04078366297372476, 0.27189108649149835, 0.04078366297372476, 0.1452069119329114, 0.343911107209527, 0.3209837000622252, 0.1834192571784144, 0.0076424690491006, 0.9132084417722187, 0.4136179488424216, 0.1551067308159081, 0.07755336540795404, 0.2068089744212108, 0.12925560901325675], \"Term\": [\"Amazon\", \"Amazon\", \"Amazon\", \"Amazon\", \"Amino\", \"Balsamic\", \"Boil\", \"Cheese\", \"Cheese\", \"Cincinnati\", \"Dairy\", \"Diabetes\", \"Euro\", \"Excellent\", \"Excellent\", \"Fried\", \"Japanese\", \"KETO\", \"KETO\", \"Keto\", \"Keto\", \"Keto\", \"Love\", \"Love\", \"Miracle\", \"Miracle\", \"Miracle\", \"Miracle\", \"NOODLE\", \"Noodles\", \"Noodles\", \"Noodles\", \"Noodles\", \"Noodles\", \"Olive\", \"Olive\", \"Parmesan\", \"Persian\", \"SMELLS\", \"SUBSTITUTE\", \"Slimy\", \"Spiralizer\", \"Style\", \"Style\", \"Taste\", \"Tasty\", \"Watchers\", \"Weight\", \"Weight\", \"Whisked\", \"add\", \"add\", \"add\", \"add\", \"add\", \"afraid\", \"alternative\", \"alternative\", \"alternative\", \"alternative\", \"amazon\", \"angel\", \"angel\", \"angel\", \"angel\", \"answer\", \"asian\", \"asian\", \"asian\", \"asian\", \"asian\", \"auto\", \"auto\", \"auto\", \"award\", \"awesome\", \"awesome\", \"awesome\", \"awesome\", \"bag)before\", \"baggie\", \"batch\", \"batch\", \"biased\", \"boil\", \"boil\", \"boil\", \"boil\", \"bubble\", \"bunch\", \"cabbage\", \"cabbage\", \"cabbage\", \"cabbage\", \"cabbage\", \"calorie\", \"calorie\", \"calorie\", \"calorie\", \"calorie\", \"carb\", \"carb\", \"carb\", \"carb\", \"carb\", \"cauliflower\", \"cheap\", \"cheap\", \"cheese\", \"cheese\", \"cheese\", \"cheese\", \"cheese\", \"cheesy\", \"chicken\", \"chicken\", \"chicken\", \"chicken\", \"child\", \"classic\", \"clump\", \"colander\", \"colander\", \"colander\", \"come\", \"come\", \"come\", \"come\", \"compromise\", \"con\", \"concern\", \"contain\", \"contain\", \"convenient\", \"convenient\", \"conventional\", \"cook\", \"cook\", \"cook\", \"cook\", \"cook\", \"craze\", \"creation\", \"crush\", \"cube\", \"daikon\", \"daily\", \"daughter\", \"daughter\", \"definitely\", \"definitely\", \"definitely\", \"definitely\", \"delivery\", \"delivery\", \"delivery\", \"delivery\", \"delivery\", \"dice\", \"diet\", \"diet\", \"diet\", \"diet\", \"diet\", \"dieting\", \"dieting\", \"dieting\", \"dieting\", \"dieting\", \"dinner\", \"dinner\", \"dinner\", \"dinner\", \"direction\", \"direction\", \"direction\", \"direction\", \"dish\", \"dish\", \"dish\", \"dish\", \"dish\", \"doodle\", \"drain\", \"drain\", \"drain\", \"dress\", \"dress\", \"dress\", \"dukan\", \"dupe\", \"easily\", \"easily\", \"easily\", \"easily\", \"easy\", \"easy\", \"easy\", \"easy\", \"eat\", \"eat\", \"eat\", \"eat\", \"eat\", \"endure\", \"energy\", \"enjoy\", \"enjoy\", \"enjoy\", \"enjoy\", \"enjoy\", \"entire\", \"entire\", \"excellent\", \"excellent\", \"excellent\", \"excellent\", \"excellent\", \"family\", \"family\", \"family\", \"fan\", \"fast\", \"fast\", \"fast\", \"fast\", \"fast\", \"favorite\", \"favorite\", \"favorite\", \"favs\", \"ferment\", \"ferment\", \"fettachini\", \"fettuccini\", \"fettuccini\", \"fettuccini\", \"fettucine\", \"fettucini\", \"fettucini\", \"fettucini\", \"fill\", \"fill\", \"fill\", \"fill\", \"filling\", \"filling\", \"filling\", \"filling\", \"find\", \"find\", \"find\", \"find\", \"firm\", \"fish\", \"fish\", \"fish\", \"fishy\", \"fishy\", \"fishy\", \"flavor\", \"flavor\", \"flavor\", \"flavor\", \"flavor\", \"follow\", \"follow\", \"follow\", \"follow\", \"follow\", \"food\", \"food\", \"food\", \"food\", \"food\", \"forever\", \"fork\", \"free\", \"free\", \"free\", \"free\", \"free\", \"freeze\", \"freeze\", \"fried\", \"fruit\", \"fry\", \"fry\", \"fry\", \"fry\", \"fully\", \"funky\", \"funky\", \"funky\", \"funky\", \"future\", \"game\", \"gelatinous\", \"gelatinous\", \"generally\", \"get\", \"get\", \"get\", \"gift\", \"ginger\", \"go\", \"go\", \"go\", \"go\", \"go\", \"good\", \"good\", \"good\", \"good\", \"good\", \"granddaughter\", \"grandmother\", \"great\", \"great\", \"great\", \"great\", \"great\", \"grow\", \"gummie\", \"hair\", \"hair\", \"hair\", \"hair\", \"healthy\", \"healthy\", \"healthy\", \"healthy\", \"heat\", \"heat\", \"heat\", \"helpful\", \"helpful\", \"highlight\", \"highly\", \"highly\", \"highly\", \"highly\", \"highly\", \"honest\", \"individual\", \"insert\", \"instruction\", \"instruction\", \"instruction\", \"instruction\", \"instruction\", \"italian\", \"italian\", \"italian\", \"italian\", \"item\", \"item\", \"item\", \"item\", \"item\", \"j&iacute;cama\", \"jicama\", \"justify\", \"kimchi\", \"kinda\", \"konnyaku\", \"korean\", \"lean\", \"lifesaver\", \"lifesaver\", \"like\", \"like\", \"like\", \"like\", \"like\", \"little\", \"little\", \"little\", \"little\", \"little\", \"load\", \"load\", \"lose\", \"lose\", \"lose\", \"lose\", \"love\", \"love\", \"love\", \"love\", \"love\", \"lucky\", \"lunch\", \"lunch\", \"marjoram\", \"meal\", \"meal\", \"meal\", \"meal\", \"mesh\", \"microwave\", \"microwave\", \"microwave\", \"microwave\", \"min\", \"min\", \"minute\", \"minute\", \"minute\", \"miracle\", \"miracle\", \"miracle\", \"monthly\", \"mush\", \"mushroom\", \"mushroom\", \"mushroom\", \"mushroom\", \"nasty\", \"nice\", \"nice\", \"nice\", \"nice\", \"nice\", \"noddle\", \"noodle\", \"noodle\", \"noodle\", \"noodle\", \"noodle\", \"nutritionist\", \"ocean\", \"oil\", \"olive\", \"olive\", \"olive\", \"olive\", \"online\", \"open\", \"open\", \"open\", \"opening\", \"order\", \"order\", \"order\", \"order\", \"order\", \"overall\", \"overall\", \"oyster\", \"package\", \"package\", \"package\", \"package\", \"packet\", \"packet\", \"packet\", \"packet\", \"packing\", \"pallet\", \"pasta\", \"pasta\", \"pasta\", \"pasta\", \"pasta\", \"picky\", \"picky\", \"picky\", \"picky\", \"place\", \"place\", \"place\", \"place\", \"prefer\", \"prefer\", \"prefer\", \"prepare\", \"prepare\", \"prepare\", \"prepare\", \"pretty\", \"pretty\", \"pretty\", \"pretty\", \"pretty\", \"price\", \"price\", \"price\", \"price\", \"pro\", \"product\", \"product\", \"product\", \"product\", \"product\", \"promise\", \"pudding\", \"pudding\", \"pudding\", \"purchase\", \"purchase\", \"purchase\", \"purchase\", \"purchase\", \"radish\", \"raman\", \"raman\", \"raman\", \"raman\", \"raman\", \"ratio\", \"real\", \"real\", \"real\", \"real\", \"recommend\", \"recommend\", \"recommend\", \"recommend\", \"recommend\", \"refrigerate\", \"regular\", \"regular\", \"regular\", \"regular\", \"repeat\", \"replacement\", \"replacement\", \"replacement\", \"replacement\", \"restrictive\", \"rice\", \"rice\", \"rice\", \"rice\", \"rice\", \"rinse\", \"rinse\", \"rinse\", \"rinse\", \"rinse\", \"salsa\", \"salt\", \"salt\", \"salt\", \"sauce\", \"sauce\", \"sauce\", \"sauce\", \"sauce\", \"sausage\", \"sausage\", \"say\", \"say\", \"say\", \"say\", \"send\", \"send\", \"send\", \"sense\", \"service\", \"shed\", \"shirataki\", \"shirataki\", \"shirataki\", \"size\", \"size\", \"size\", \"smell\", \"smell\", \"smell\", \"smell\", \"smelling\", \"snack\", \"snack\", \"snack\", \"solve\", \"sooooooooooooooooooooooooooo\", \"sort\", \"sort\", \"sort\", \"soup\", \"soup\", \"soup\", \"soup\", \"soup\", \"soupy\", \"spagetti\", \"spaghetti\", \"spaghetti\", \"spaghetti\", \"spaghetti\", \"speck\", \"splurge\", \"squeak\", \"star\", \"star\", \"star\", \"starve\", \"stew\", \"stick\", \"stick\", \"stick\", \"stick\", \"stir\", \"stir\", \"stir\", \"stir\", \"stir\", \"stuff\", \"stuff\", \"stuff\", \"stuff\", \"stuff\", \"substance\", \"substitute\", \"substitute\", \"substitute\", \"substitute\", \"substitute\", \"suck\", \"suck\", \"suck\", \"tabouleh\", \"taco\", \"tapioca\", \"tapioca\", \"tapioca\", \"taste\", \"taste\", \"taste\", \"taste\", \"taste\", \"teenage\", \"tend\", \"tend\", \"textually\", \"texture\", \"texture\", \"texture\", \"texture\", \"texture\", \"thank\", \"thank\", \"thank\", \"thank\", \"throughly\", \"throw\", \"throw\", \"throw\", \"throw\", \"thyme\", \"time\", \"time\", \"time\", \"time\", \"time\", \"tiny\", \"topping\", \"trade\", \"trouble\", \"try\", \"try\", \"try\", \"try\", \"turkey\", \"turn\", \"turn\", \"turn\", \"understand\", \"understand\", \"unusual\", \"upset\", \"vegetable\", \"vegetable\", \"vegetable\", \"vegetable\", \"vegetable\", \"version\", \"version\", \"version\", \"vinegar\", \"vinegar\", \"vinegar\", \"void\", \"volume\", \"volume\", \"volume\", \"want\", \"want\", \"want\", \"want\", \"want\", \"watcher\", \"water\", \"water\", \"water\", \"water\", \"weight\", \"weight\", \"weight\", \"weight\", \"weight\", \"whatsoever\", \"wheat\", \"wheat\", \"wheat\", \"wide\", \"wife\", \"wife\", \"wife\", \"wonderful\", \"wonderful\", \"wonderful\", \"wonderful\", \"wonderful\", \"work\", \"work\", \"work\", \"work\", \"work\", \"wrap\", \"yummy\", \"yummy\", \"yummy\", \"yummy\", \"yummy\"]}, \"R\": 30, \"lambda.step\": 0.01, \"plot.opts\": {\"xlab\": \"PC1\", \"ylab\": \"PC2\"}, \"topic.order\": [4, 3, 2, 5, 1]};\n",
       "\n",
       "function LDAvis_load_lib(url, callback){\n",
       "  var s = document.createElement('script');\n",
       "  s.src = url;\n",
       "  s.async = true;\n",
       "  s.onreadystatechange = s.onload = callback;\n",
       "  s.onerror = function(){console.warn(\"failed to load library \" + url);};\n",
       "  document.getElementsByTagName(\"head\")[0].appendChild(s);\n",
       "}\n",
       "\n",
       "if(typeof(LDAvis) !== \"undefined\"){\n",
       "   // already loaded: just create the visualization\n",
       "   !function(LDAvis){\n",
       "       new LDAvis(\"#\" + \"ldavis_el19110138652428486908261923\", ldavis_el19110138652428486908261923_data);\n",
       "   }(LDAvis);\n",
       "}else if(typeof define === \"function\" && define.amd){\n",
       "   // require.js is available: use it to load d3/LDAvis\n",
       "   require.config({paths: {d3: \"https://d3js.org/d3.v5\"}});\n",
       "   require([\"d3\"], function(d3){\n",
       "      window.d3 = d3;\n",
       "      LDAvis_load_lib(\"https://cdn.jsdelivr.net/gh/bmabey/pyLDAvis@3.4.0/pyLDAvis/js/ldavis.v3.0.0.js\", function(){\n",
       "        new LDAvis(\"#\" + \"ldavis_el19110138652428486908261923\", ldavis_el19110138652428486908261923_data);\n",
       "      });\n",
       "    });\n",
       "}else{\n",
       "    // require.js not available: dynamically load d3 & LDAvis\n",
       "    LDAvis_load_lib(\"https://d3js.org/d3.v5.js\", function(){\n",
       "         LDAvis_load_lib(\"https://cdn.jsdelivr.net/gh/bmabey/pyLDAvis@3.4.0/pyLDAvis/js/ldavis.v3.0.0.js\", function(){\n",
       "                 new LDAvis(\"#\" + \"ldavis_el19110138652428486908261923\", ldavis_el19110138652428486908261923_data);\n",
       "            })\n",
       "         });\n",
       "}\n",
       "</script>"
      ],
      "text/plain": [
       "<IPython.core.display.HTML object>"
      ]
     },
     "execution_count": 169,
     "metadata": {},
     "output_type": "execute_result"
    }
   ],
   "source": [
    "import pyLDAvis\n",
    "import pyLDAvis.gensim_models as gensimvis\n",
    "from IPython.display import display, Markdown, HTML\n",
    "\n",
    "\n",
    "# Display the LDA visualization for high-rating reviews\n",
    "display(Markdown(\"### High Rating Reviews LDA Visualization\" ))\n",
    "vis_data = gensimvis.prepare(high_lda, high_corpus, high_dictionary)\n",
    "pyLDAvis.display(vis_data)"
   ]
  },
  {
   "cell_type": "markdown",
   "id": "91fc0631",
   "metadata": {},
   "source": [
    "\n",
    "\n",
    "### Main Components of the `pyLDAvis` Visualization:\n",
    "The `pyLDAvis` visualization provides an interactive way to explore the topics generated by your LDA model. Let's walk through the main components of the visualization and what the relevance metric slider does.\n",
    "1. **Intertopic Distance Map (via multidimensional scaling)**:\n",
    "   - This plot shows the relationships between the topics.\n",
    "   - Each circle represents a topic. The size of the circle indicates the prevalence of the topic across the corpus.\n",
    "   - The distance between the circles represents the similarity between the topics. Topics that are closer together are more similar in terms of the words they contain.\n",
    "\n",
    "2. **Top-30 Most Relevant Terms for Selected Topic**:\n",
    "   - This bar chart shows the top words for the selected topic.\n",
    "   - The length of each bar represents the frequency of the term within the topic.\n",
    "   - The red part of the bar represents the estimated term frequency within the selected topic, while the blue part represents the overall term frequency across the corpus.\n",
    "\n",
    "3. **Marginal Topic Distribution**:\n",
    "   - This inset shows the overall distribution of topics in the corpus.\n",
    "   - It gives a quick view of how prevalent each topic is in the dataset.\n",
    "\n",
    "4. **Topic Selection and Navigation**:\n",
    "   - You can select a topic using the dropdown menu or navigate through topics using the \"Previous Topic\" and \"Next Topic\" buttons.\n",
    "   - The selected topic is highlighted in the Intertopic Distance Map and the corresponding top words are shown in the bar chart.\n",
    "\n",
    "#### The Relevance Metric Slider:\n",
    "\n",
    "The slider at the top right adjusts the relevance metric (λ) used to rank the terms for each topic. \n",
    "\n",
    "##### What the Relevance Metric (λ) Means:\n",
    "- The relevance metric balances two quantities: \n",
    "  1. **Term Frequency within the Topic (p(term | topic))**: This measures how often a term appears in a given topic.\n",
    "  2. **Term Frequency across the Corpus (p(term))**: This measures how often a term appears in the entire corpus.\n",
    "\n",
    "##### How the Slider Works:\n",
    "- **λ = 1**: When the slider is at 1, the ranking is based entirely on the term frequency within the topic (p(term | topic)).\n",
    "  - Terms that are most representative of the topic will appear at the top.\n",
    "- **λ = 0**: When the slider is at 0, the ranking is based entirely on the term frequency across the corpus (p(term)).\n",
    "  - This tends to highlight terms that are more common in the corpus but less specific to the topic.\n",
    "- **Intermediate Values of λ**: When the slider is between 0 and 1, the ranking is a weighted combination of both quantities.\n",
    "  - This allows you to see terms that are both relevant to the topic and frequent in the corpus.\n",
    "\n",
    "#### Practical Use of the Relevance Metric Slider:\n",
    "\n",
    "- **Exploring Topic-Specific Terms**: Set λ closer to 1 to focus on terms that are highly specific to the selected topic.\n",
    "- **Understanding Contextual Relevance**: Set λ closer to 0 to see more common terms and understand the broader context of the topic within the entire corpus.\n",
    "- **Balancing Specificity and Generality**: Use intermediate values of λ to get a balanced view of terms that are both topic-specific and common in the corpus.\n"
   ]
  },
  {
   "cell_type": "code",
   "execution_count": 170,
   "id": "bad394b6",
   "metadata": {},
   "outputs": [
    {
     "data": {
      "text/markdown": [
       "### High Rating Reviews LDA Visualization"
      ],
      "text/plain": [
       "<IPython.core.display.Markdown object>"
      ]
     },
     "metadata": {},
     "output_type": "display_data"
    },
    {
     "data": {
      "text/html": [
       "\n",
       "<link rel=\"stylesheet\" type=\"text/css\" href=\"https://cdn.jsdelivr.net/gh/bmabey/pyLDAvis@3.4.0/pyLDAvis/js/ldavis.v1.0.0.css\">\n",
       "\n",
       "\n",
       "<div id=\"ldavis_el19110138652431846879174418\" style=\"background-color:white;\"></div>\n",
       "<script type=\"text/javascript\">\n",
       "\n",
       "var ldavis_el19110138652431846879174418_data = {\"mdsDat\": {\"x\": [0.061041198688246104, 0.0857537091260048, 0.05809837216676542, -0.1392033532998386, -0.06568992668117783], \"y\": [0.041737484571714646, -0.0010500043387180137, 0.01364504708766959, 0.09276562657392493, -0.14709815389459113], \"topics\": [1, 2, 3, 4, 5], \"cluster\": [1, 1, 1, 1, 1], \"Freq\": [33.39811509391909, 30.34388259708659, 22.526156867964332, 10.619223840946189, 3.1126216000838]}, \"tinfo\": {\"Term\": [\"star\", \"great\", \"good\", \"love\", \"product\", \"calorie\", \"carb\", \"soup\", \"taste\", \"pasta\", \"sauce\", \"diet\", \"stir\", \"food\", \"substitute\", \"easy\", \"cook\", \"rice\", \"add\", \"chicken\", \"awesome\", \"smell\", \"water\", \"noodle\", \"alternative\", \"replacement\", \"excellent\", \"say\", \"minute\", \"throw\", \"fried\", \"online\", \"firm\", \"future\", \"Tasty\", \"dukan\", \"tiny\", \"forever\", \"daily\", \"whatsoever\", \"NOODLE\", \"daughter\", \"child\", \"mesh\", \"nasty\", \"game\", \"opening\", \"unusual\", \"mush\", \"afraid\", \"fettucine\", \"cube\", \"monthly\", \"splurge\", \"packing\", \"korean\", \"substance\", \"hair\", \"wide\", \"teenage\", \"angel\", \"family\", \"prefer\", \"picky\", \"size\", \"fettuccini\", \"love\", \"understand\", \"turn\", \"noodle\", \"get\", \"like\", \"Noodles\", \"rice\", \"texture\", \"miracle\", \"raman\", \"version\", \"find\", \"follow\", \"carb\", \"Miracle\", \"smell\", \"package\", \"cook\", \"free\", \"favorite\", \"instruction\", \"try\", \"definitely\", \"little\", \"taste\", \"eat\", \"diet\", \"rinse\", \"product\", \"flavor\", \"order\", \"pasta\", \"good\", \"fishy\", \"great\", \"go\", \"calorie\", \"sauce\", \"turkey\", \"ginger\", \"lean\", \"sense\", \"min\", \"Euro\", \"cheesy\", \"refrigerate\", \"trouble\", \"answer\", \"Boil\", \"ocean\", \"conventional\", \"konnyaku\", \"oil\", \"overall\", \"wrap\", \"bubble\", \"baggie\", \"Japanese\", \"generally\", \"fruit\", \"repeat\", \"starve\", \"grow\", \"fork\", \"Cheese\", \"clump\", \"honest\", \"entire\", \"contain\", \"tend\", \"wheat\", \"water\", \"heat\", \"stick\", \"boil\", \"asian\", \"gelatinous\", \"italian\", \"minute\", \"sauce\", \"dish\", \"olive\", \"pasta\", \"rinse\", \"place\", \"microwave\", \"vegetable\", \"packet\", \"add\", \"calorie\", \"noodle\", \"open\", \"colander\", \"smell\", \"salt\", \"recommend\", \"fish\", \"regular\", \"meal\", \"like\", \"shirataki\", \"flavor\", \"go\", \"cook\", \"prepare\", \"time\", \"taste\", \"good\", \"spaghetti\", \"texture\", \"try\", \"carb\", \"free\", \"great\", \"rice\", \"package\", \"love\", \"squeak\", \"void\", \"noddle\", \"fully\", \"bunch\", \"concern\", \"promise\", \"cauliflower\", \"Parmesan\", \"topping\", \"load\", \"stew\", \"Cincinnati\", \"con\", \"pro\", \"soupy\", \"individual\", \"upset\", \"smelling\", \"grandmother\", \"Watchers\", \"kinda\", \"lifesaver\", \"sausage\", \"Weight\", \"trade\", \"crush\", \"kimchi\", \"compromise\", \"fettachini\", \"taco\", \"fettucini\", \"lunch\", \"batch\", \"Keto\", \"pretty\", \"lose\", \"fry\", \"funky\", \"sauce\", \"cheese\", \"sort\", \"tapioca\", \"real\", \"pudding\", \"taste\", \"stir\", \"great\", \"noodle\", \"rinse\", \"fill\", \"smell\", \"good\", \"carb\", \"pasta\", \"rice\", \"diet\", \"weight\", \"flavor\", \"follow\", \"chicken\", \"drain\", \"like\", \"come\", \"want\", \"cook\", \"direction\", \"texture\", \"minute\", \"package\", \"little\", \"calorie\", \"water\", \"fishy\", \"love\", \"substitute\", \"star\", \"watcher\", \"jicama\", \"Taste\", \"Spiralizer\", \"daikon\", \"gift\", \"creation\", \"favs\", \"solve\", \"spagetti\", \"throughly\", \"classic\", \"dupe\", \"radish\", \"speck\", \"j&iacute;cama\", \"amazon\", \"Fried\", \"oyster\", \"Diabetes\", \"ratio\", \"fan\", \"tabouleh\", \"insert\", \"justify\", \"award\", \"SUBSTITUTE\", \"Love\", \"send\", \"thank\", \"item\", \"helpful\", \"product\", \"great\", \"delivery\", \"snack\", \"convenient\", \"excellent\", \"Amazon\", \"replacement\", \"good\", \"fast\", \"easy\", \"awesome\", \"substitute\", \"alternative\", \"carb\", \"love\", \"taste\", \"stuff\", \"price\", \"pasta\", \"wonderful\", \"filling\", \"rice\", \"diet\", \"cheap\", \"calorie\", \"prepare\", \"nice\", \"healthy\", \"time\", \"work\", \"like\", \"flavor\", \"noodle\", \"cook\", \"service\", \"dice\", \"Balsamic\", \"Whisked\", \"granddaughter\", \"nutritionist\", \"lucky\", \"Slimy\", \"SMELLS\", \"pallet\", \"textually\", \"doodle\", \"sooooooooooooooooooooooooooo\", \"Dairy\", \"highlight\", \"craze\", \"energy\", \"Persian\", \"endure\", \"Amino\", \"wife\", \"Olive\", \"bag)before\", \"thyme\", \"gummie\", \"salsa\", \"marjoram\", \"restrictive\", \"shed\", \"biased\", \"Excellent\", \"freeze\", \"suck\", \"volume\", \"auto\", \"ferment\", \"KETO\", \"Style\", \"dress\", \"mushroom\", \"dieting\", \"soup\", \"calorie\", \"easily\", \"food\", \"vinegar\", \"love\", \"stir\", \"dinner\", \"yummy\", \"good\", \"great\", \"highly\", \"throw\", \"diet\", \"cook\", \"cabbage\", \"add\", \"pasta\", \"chicken\", \"carb\", \"purchase\", \"say\", \"like\", \"taste\", \"texture\", \"enjoy\", \"smell\", \"want\", \"sauce\", \"flavor\"], \"Freq\": [376.0, 767.0, 630.0, 693.0, 373.0, 407.0, 664.0, 150.0, 587.0, 846.0, 591.0, 319.0, 154.0, 155.0, 218.0, 127.0, 373.0, 603.0, 150.0, 126.0, 104.0, 514.0, 311.0, 1706.0, 130.0, 79.0, 70.0, 78.0, 272.0, 48.0, 10.435694739458215, 10.428187171681984, 9.521053271506277, 9.466464999558504, 9.456899015617347, 7.679583381660899, 7.604762865303389, 6.751027482807086, 6.735520861864163, 6.732746623771669, 5.815395136201601, 13.670003401000681, 4.873626928432283, 4.8643375120540515, 5.6715389036572255, 4.843951999552168, 4.794884375783825, 4.733744106958346, 3.9317649616903956, 3.9301179718845582, 3.9264600875848252, 3.921994334877602, 3.906105828073798, 3.9032356903929215, 3.8898491353503117, 4.661180227789962, 3.8666564192724273, 108.69601845804489, 3.000012481244359, 2.999868631861785, 101.77995249298628, 22.759092389071753, 20.978216482896606, 16.13213114562609, 17.612182030493827, 17.106823737078305, 399.7969722028209, 8.193467319732894, 28.36262350025509, 827.3166522150248, 33.15641958696004, 411.7576236656532, 62.93647496585438, 299.8902332196809, 198.31106021491462, 79.76253039553842, 39.72070188693448, 20.877895238492595, 90.19866610185393, 95.61337606099003, 251.74726985753728, 81.36547831541101, 195.5239578776359, 103.01232385343702, 148.8553958871087, 92.02565601009987, 52.48157719006889, 54.69032965972444, 92.10014944036129, 42.96442326432595, 85.75356263100046, 177.57840490302735, 73.46594837154848, 112.96613257998266, 166.74984808105057, 121.20087268506568, 111.05557988040255, 59.47375317845023, 188.80168443078657, 154.62027634325298, 70.24901037919813, 153.0156433306131, 70.67052331999228, 92.42797533327632, 92.14362620375157, 14.138955067457779, 8.69137639292697, 6.834349634234389, 6.815442501664522, 18.7538808628339, 5.886096723048574, 5.836486115548604, 5.829303365589026, 4.936379333708432, 4.934486597799014, 4.934442255034182, 4.932650651746312, 4.933113139004079, 4.9316863910970214, 4.922892131710251, 6.44333202217085, 5.61566809303141, 3.988050573056457, 3.987847140898498, 3.98534838720304, 3.98204796299601, 3.9810090197954233, 3.977360465987298, 3.9754377792630375, 3.974694454494666, 3.9511737295241405, 7.734561438412322, 3.9248473522489236, 3.906642313455567, 9.43507457405524, 8.55085261528716, 7.696022130170419, 34.21586066480434, 195.92615079905192, 43.316884854570326, 27.028050962376067, 124.42708016969017, 84.48988882680516, 6.822979215799515, 31.66097058495516, 150.85119823391616, 280.9601144591431, 137.2918342205453, 21.08354081506508, 353.5214323568689, 242.767457726174, 25.727535237646833, 35.969490987113566, 29.990738890033196, 17.39032995303755, 76.06742096279918, 170.36826320022075, 505.2723188391607, 78.49625311960601, 29.70190101112147, 181.4022616356883, 23.41487490115449, 53.97283088005667, 40.122512982154, 67.98269871348514, 65.73097000353172, 210.07382661026003, 28.93645776047407, 110.75511976314812, 71.53168823364044, 110.42624270142262, 63.77924732568182, 71.14407334532035, 129.54875974922842, 129.4603480555854, 58.055539253051556, 95.54008092881213, 68.19940880670941, 122.49292656203274, 63.988352245765746, 99.86852601330182, 90.95361385313937, 66.36252922211551, 82.43484283923671, 8.501057931203253, 7.577575522083425, 6.624159314213394, 6.605875164104747, 5.748085176806101, 5.737706640432048, 5.732596203151208, 5.719469269102896, 5.665499262913593, 4.810542568111253, 11.281655576197279, 4.79142130885597, 3.8921391216613705, 3.8899803676150624, 3.88978920988651, 3.889470132409093, 3.8867422365455995, 3.8842534322217457, 3.8835982405509224, 3.8783093508890465, 4.6489158210413954, 3.865288679747241, 5.249674606764551, 5.281104748942787, 6.580900493496772, 2.966572746790846, 2.965419447745774, 2.9643836731652353, 2.964404752491798, 2.9630669371498306, 4.346813554180715, 12.932245388181604, 12.630740561412122, 5.743350124792809, 21.445210540071532, 59.35139540122915, 43.173741089520846, 47.31744464823059, 9.726514109919101, 207.63254477187903, 35.635189464820286, 17.263338962388932, 11.642195222689002, 42.07396620844379, 8.258531905123778, 164.71491576754397, 59.20571357653531, 189.8135674666527, 342.0792940035822, 145.27268478303208, 44.567429929741735, 131.67283459950318, 151.47000217225175, 155.92200214349464, 182.68593219134902, 142.19735310646357, 89.85201435511573, 39.22299248852116, 95.34021626858666, 62.2834384785634, 46.18571235305335, 48.31832572436119, 150.17028670239344, 36.772475151894085, 43.871010561257314, 82.65507718426443, 38.62703545788576, 83.23483836191035, 65.37803146196777, 58.144308844959795, 54.940472973540516, 73.5164672247181, 57.38039405033836, 47.556231259529476, 65.48201202604741, 45.647560033494216, 367.38521638520564, 5.343743850746755, 4.4810334111938355, 6.60686777162241, 3.619736771263361, 3.6194898395750195, 3.583064556908808, 2.751398358324122, 2.7456190133625893, 2.7210938234167754, 2.6913196335247416, 1.8969757847651252, 1.8963411676035775, 1.8959843826227933, 1.8957668540461838, 1.8955662050337168, 1.8955071265592185, 1.8946777137824466, 1.8945026563672278, 1.8931898618786038, 1.8928157889571253, 1.8924964384935925, 1.8918821040341192, 1.8905634561482523, 1.8831017359186872, 1.882336302135036, 1.8788644208168739, 1.878789415656854, 4.358835984593155, 4.75237158802993, 23.707182309382045, 19.177837679855397, 5.340179540202361, 165.40470905051723, 307.26821526837506, 9.178927294958283, 4.957261727113229, 4.4410669593211685, 31.167183001412766, 13.237040231802725, 33.386889246304854, 177.35601545752658, 18.23298501941173, 45.85476694428705, 37.787829397894, 62.91932675367858, 38.35591929663776, 124.11551790343539, 125.32696966695666, 108.0842270004696, 26.37423185218035, 19.996718697606347, 108.96342795743654, 20.116951288490647, 10.468884277799676, 69.02041580983997, 45.77493422892243, 8.548891573820171, 50.416923268498266, 29.38663509932403, 19.577526156673112, 20.55694816448043, 31.627054202925063, 24.063066683744008, 47.713775416526246, 29.782313862904825, 29.912539155761426, 20.094949048882054, 3.5642561843763, 2.876229206715753, 2.191267827259893, 2.190467113692998, 1.5111503100235364, 1.5111490332229514, 1.5111088140045226, 1.5110363555713213, 1.511048165976733, 1.5109824107466032, 1.510878989899215, 1.5100611991244954, 1.509423916032486, 1.5093142707822456, 1.5092458023508728, 1.509160416311748, 1.5079533609586637, 1.5071507321908915, 1.5049567099855696, 1.4901815736154607, 7.338664807446459, 2.1937215187841974, 0.8241408626292317, 0.8241376706277691, 0.8241367928273668, 0.8241367130273304, 0.8241364736272206, 0.8241318452250999, 0.824127775423235, 0.8241268178227963, 2.882168244637077, 3.1684250206026716, 2.653245560542512, 2.8823125231031868, 2.493632081006088, 1.5123923177926362, 1.51214828928082, 1.5068961700742487, 2.4720332435092938, 4.63804898759844, 4.582837895900189, 18.023716697039507, 20.33558887316147, 4.7659180125892515, 11.73091308401666, 4.072970883874245, 20.863462923038412, 10.030848636230857, 5.321532151176968, 5.222356346533665, 17.339598005969776, 17.999333636266957, 4.591360859005493, 5.321031964547777, 10.985994425887801, 11.556843029856095, 2.7350291068165156, 7.6870589990840115, 12.856062956371101, 6.723158187815434, 10.28059019226483, 4.566233742692008, 5.0471633462585554, 8.26997975258388, 7.346084295646139, 6.616760479862986, 5.120078554869002, 5.851007628187699, 4.7167085220409914, 5.288366298380057, 4.7168049204851625], \"Total\": [376.0, 767.0, 630.0, 693.0, 373.0, 407.0, 664.0, 150.0, 587.0, 846.0, 591.0, 319.0, 154.0, 155.0, 218.0, 127.0, 373.0, 603.0, 150.0, 126.0, 104.0, 514.0, 311.0, 1706.0, 130.0, 79.0, 70.0, 78.0, 272.0, 48.0, 11.187937278804394, 11.190020612584968, 10.252052576831012, 10.2503262249476, 10.252757758089368, 8.376092916040985, 8.375806102250555, 7.439092099976014, 7.437210174292524, 7.438538682304031, 6.501248811358931, 15.476601693869538, 5.562646380881871, 5.5613228530782095, 6.492665148942312, 5.561372641108343, 5.559400209656964, 5.560719701995765, 4.624479981571942, 4.6242704475396375, 4.623497766488413, 4.622456042324727, 4.623570142874201, 4.6221959028316775, 4.622947330582076, 5.543156510935162, 4.617809930454992, 133.12905194808496, 3.686171763765304, 3.686233051718492, 125.6456776904745, 28.080001442384834, 26.167542354068306, 20.316298786285003, 22.843045491696884, 22.436771645945026, 693.9042596581, 10.264666180868078, 40.352158625385655, 1706.2510842552674, 48.64853825855789, 827.985492147417, 101.57723840869699, 603.7660833241271, 391.3039017499434, 140.5698335126462, 63.119094939763315, 29.99747032165815, 171.85945309400742, 191.80097850189514, 664.5583066587649, 166.5010401949114, 514.7690837677062, 228.76042559502602, 373.5885078515339, 200.93287971419147, 98.49684018174429, 104.20580784257263, 209.70009042514917, 76.79465958061071, 206.08982363299947, 587.2723917159155, 170.14340318433946, 319.2126384812148, 561.5333620884066, 373.14862700259386, 351.65003469552727, 129.33572399955906, 846.8285398928122, 630.2462400345864, 175.59466524759134, 767.9652857152097, 190.048698347634, 407.06521789987494, 591.0096346051074, 15.118658717722429, 9.424611141742185, 7.5247453986842885, 7.519699942385096, 20.780212159850667, 6.574317814661144, 6.571562638210929, 6.572042428398761, 5.623378248860785, 5.623247030783391, 5.623516249796012, 5.623218348238378, 5.62387088329976, 5.623520248793393, 5.622612409075355, 7.517990474049676, 6.56917695753415, 4.673529113615279, 4.6735457103165645, 4.673366125083283, 4.6724703900094795, 4.672443552927551, 4.672481735663863, 4.672200168713485, 4.672447814982978, 4.670300262459321, 9.1602854859058, 4.672056673783729, 4.664866605662483, 11.297884308305111, 10.358473524046435, 9.398746174835413, 46.26513754235561, 311.94071769716925, 62.33605381864877, 37.655624596087975, 206.54382209651672, 137.69469652353024, 8.45017695907911, 47.078024542952384, 272.2765837825658, 591.0096346051074, 264.7269223051591, 30.515787779219387, 846.8285398928122, 561.5333620884066, 39.49880463126353, 59.22426664583454, 48.3341647587528, 25.303461388869835, 150.43357436035998, 407.06521789987494, 1706.2510842552674, 173.11198628456717, 50.88191397548982, 514.7690837677062, 37.658869218218385, 111.30204457404861, 76.25454354388985, 154.5613060559405, 155.3359843868779, 827.985492147417, 50.8082301221776, 351.65003469552727, 190.048698347634, 373.5885078515339, 162.257305534575, 198.97718408738288, 587.2723917159155, 630.2462400345864, 153.18758267238573, 391.3039017499434, 209.70009042514917, 664.5583066587649, 200.93287971419147, 767.9652857152097, 603.7660833241271, 228.76042559502602, 693.9042596581, 9.223856360286034, 8.29379643404995, 7.365185678159501, 7.36855655503755, 6.440499065979385, 6.4398872884794915, 6.439899906331556, 6.436135156032725, 6.440996494779243, 5.511728786251926, 12.92965706139223, 5.5096740254148, 4.58433928889555, 4.583627037452935, 4.583654988807122, 4.583676130777441, 4.582882475434753, 4.5834003119181, 4.583961835388602, 4.583243043338964, 5.5114982425001795, 4.5826714827798245, 6.310365800732209, 6.449512752734369, 8.054807955830794, 3.656162116693188, 3.655836904728567, 3.6554635490643173, 3.655822329157623, 3.6554370252922492, 5.389137530425353, 16.696028167877433, 16.41936528960056, 7.38830014662796, 31.347039948237352, 97.84134804491742, 73.34550986164051, 87.40265767650878, 13.699875148523084, 591.0096346051074, 70.18101466118824, 28.864834068290765, 18.361341068724943, 95.57942707742613, 11.91998257602468, 587.2723917159155, 154.78962870008843, 767.9652857152097, 1706.2510842552674, 561.5333620884066, 114.78865420669324, 514.7690837677062, 630.2462400345864, 664.5583066587649, 846.8285398928122, 603.7660833241271, 319.2126384812148, 98.31390171791352, 351.65003469552727, 191.80097850189514, 126.00140478124736, 135.18532741776397, 827.985492147417, 94.6423280954553, 128.24565147853082, 373.5885078515339, 106.08057298151742, 391.3039017499434, 272.2765837825658, 228.76042559502602, 206.08982363299947, 407.06521789987494, 311.94071769716925, 175.59466524759134, 693.9042596581, 218.6359865083781, 376.81983440283204, 6.0491771861847905, 5.187186228880591, 7.685941101640059, 4.324238219157199, 4.324253972357021, 4.32612577255002, 3.461252976317206, 3.461708270562573, 3.4608035209968504, 3.4666276524704123, 2.5981808805896973, 2.598114110953193, 2.5982344437457847, 2.598449842142331, 2.5984488725574333, 2.5984608477943136, 2.5980103032077246, 2.5980441249773265, 2.5979687563743394, 2.5978906665408785, 2.597783166415575, 2.5979435546139156, 2.5975346123504615, 2.59832548865511, 2.5982315439686947, 2.5974616796154955, 2.5997444973980435, 6.133690083301743, 7.041511314871596, 35.466614668743595, 28.88968779797784, 7.94807505359018, 373.14862700259386, 767.9652857152097, 16.240882448760413, 7.9471715854493175, 7.043477914787784, 70.29723274192266, 25.991746776672276, 79.63766081751128, 630.2462400345864, 40.191999337668925, 127.42105736129366, 104.3797238478973, 218.6359865083781, 130.04241897492113, 664.5583066587649, 693.9042596581, 587.2723917159155, 83.09439680145614, 58.15907767931584, 846.8285398928122, 73.54909456913255, 25.2886508338744, 603.7660833241271, 319.2126384812148, 18.89755751858409, 407.06521789987494, 162.257305534575, 79.79737824490061, 87.68301891844017, 198.97718408738288, 130.85051080770288, 827.985492147417, 351.65003469552727, 1706.2510842552674, 373.5885078515339, 4.309754699317357, 3.6243951250612034, 2.9366402744269267, 2.936952852783816, 2.247097899055328, 2.2470961139044223, 2.247071589162865, 2.247029792519415, 2.247139633261998, 2.247163564811104, 2.2471106475670566, 2.247290384388122, 2.2477218148435965, 2.247681150392194, 2.2477816758119133, 2.2477184497618135, 2.247909341952801, 2.2485799839656924, 2.2488661890911015, 2.2538256026430084, 12.29494700208608, 3.8830260810806556, 1.5600829855236658, 1.5600805495373953, 1.5600797963770812, 1.5600805057141407, 1.560080215635147, 1.560076987035867, 1.560072916351295, 1.5600729487194984, 5.495881785095793, 6.304326076907144, 5.545767866445141, 6.424599845148343, 5.5280314108092465, 3.170399890574915, 3.171544840767214, 3.1751400158492418, 6.583140228606254, 17.05051361015653, 17.633114237340656, 150.45092323428747, 407.06521789987494, 22.723875179072195, 155.37374617689704, 19.29111819566437, 693.9042596581, 154.78962870008843, 39.215720359135496, 38.67599464548605, 630.2462400345864, 767.9652857152097, 32.8940106564903, 48.87914655414575, 319.2126384812148, 373.5885078515339, 10.166970907199293, 150.43357436035998, 846.8285398928122, 126.00140478124736, 664.5583066587649, 45.31420027386006, 78.98982139116029, 827.985492147417, 587.2723917159155, 391.3039017499434, 104.61188405604656, 514.7690837677062, 128.24565147853082, 591.0096346051074, 351.65003469552727], \"Category\": [\"Default\", \"Default\", \"Default\", \"Default\", \"Default\", \"Default\", \"Default\", \"Default\", \"Default\", \"Default\", \"Default\", \"Default\", \"Default\", \"Default\", \"Default\", \"Default\", \"Default\", \"Default\", \"Default\", \"Default\", \"Default\", \"Default\", \"Default\", \"Default\", \"Default\", \"Default\", \"Default\", \"Default\", \"Default\", \"Default\", \"Topic1\", \"Topic1\", \"Topic1\", \"Topic1\", \"Topic1\", \"Topic1\", \"Topic1\", \"Topic1\", \"Topic1\", \"Topic1\", \"Topic1\", \"Topic1\", \"Topic1\", \"Topic1\", \"Topic1\", \"Topic1\", \"Topic1\", \"Topic1\", \"Topic1\", \"Topic1\", \"Topic1\", \"Topic1\", \"Topic1\", \"Topic1\", \"Topic1\", \"Topic1\", \"Topic1\", \"Topic1\", \"Topic1\", \"Topic1\", \"Topic1\", \"Topic1\", \"Topic1\", \"Topic1\", \"Topic1\", \"Topic1\", \"Topic1\", \"Topic1\", \"Topic1\", \"Topic1\", \"Topic1\", \"Topic1\", \"Topic1\", \"Topic1\", \"Topic1\", \"Topic1\", \"Topic1\", \"Topic1\", \"Topic1\", \"Topic1\", \"Topic1\", \"Topic1\", \"Topic1\", \"Topic1\", \"Topic1\", \"Topic1\", \"Topic1\", \"Topic1\", \"Topic1\", \"Topic1\", \"Topic1\", \"Topic1\", \"Topic1\", \"Topic1\", \"Topic1\", \"Topic1\", \"Topic1\", \"Topic1\", \"Topic1\", \"Topic1\", \"Topic1\", \"Topic1\", \"Topic1\", \"Topic1\", \"Topic1\", \"Topic2\", \"Topic2\", \"Topic2\", \"Topic2\", \"Topic2\", \"Topic2\", \"Topic2\", \"Topic2\", \"Topic2\", \"Topic2\", \"Topic2\", \"Topic2\", \"Topic2\", \"Topic2\", \"Topic2\", \"Topic2\", \"Topic2\", \"Topic2\", \"Topic2\", \"Topic2\", \"Topic2\", \"Topic2\", \"Topic2\", \"Topic2\", \"Topic2\", \"Topic2\", \"Topic2\", \"Topic2\", \"Topic2\", \"Topic2\", \"Topic2\", \"Topic2\", \"Topic2\", \"Topic2\", \"Topic2\", \"Topic2\", \"Topic2\", \"Topic2\", \"Topic2\", \"Topic2\", \"Topic2\", \"Topic2\", \"Topic2\", \"Topic2\", \"Topic2\", \"Topic2\", \"Topic2\", \"Topic2\", \"Topic2\", \"Topic2\", \"Topic2\", \"Topic2\", \"Topic2\", \"Topic2\", \"Topic2\", \"Topic2\", \"Topic2\", \"Topic2\", \"Topic2\", \"Topic2\", \"Topic2\", \"Topic2\", \"Topic2\", \"Topic2\", \"Topic2\", \"Topic2\", \"Topic2\", \"Topic2\", \"Topic2\", \"Topic2\", \"Topic2\", \"Topic2\", \"Topic2\", \"Topic2\", \"Topic2\", \"Topic2\", \"Topic2\", \"Topic2\", \"Topic2\", \"Topic3\", \"Topic3\", \"Topic3\", \"Topic3\", \"Topic3\", \"Topic3\", \"Topic3\", \"Topic3\", \"Topic3\", \"Topic3\", \"Topic3\", \"Topic3\", \"Topic3\", \"Topic3\", \"Topic3\", \"Topic3\", \"Topic3\", \"Topic3\", \"Topic3\", \"Topic3\", \"Topic3\", \"Topic3\", \"Topic3\", \"Topic3\", \"Topic3\", \"Topic3\", \"Topic3\", \"Topic3\", \"Topic3\", \"Topic3\", \"Topic3\", \"Topic3\", \"Topic3\", \"Topic3\", \"Topic3\", \"Topic3\", \"Topic3\", \"Topic3\", \"Topic3\", \"Topic3\", \"Topic3\", \"Topic3\", \"Topic3\", \"Topic3\", \"Topic3\", \"Topic3\", \"Topic3\", \"Topic3\", \"Topic3\", \"Topic3\", \"Topic3\", \"Topic3\", \"Topic3\", \"Topic3\", \"Topic3\", \"Topic3\", \"Topic3\", \"Topic3\", \"Topic3\", \"Topic3\", \"Topic3\", \"Topic3\", \"Topic3\", \"Topic3\", \"Topic3\", \"Topic3\", \"Topic3\", \"Topic3\", \"Topic3\", \"Topic3\", \"Topic3\", \"Topic3\", \"Topic3\", \"Topic3\", \"Topic3\", \"Topic3\", \"Topic4\", \"Topic4\", \"Topic4\", \"Topic4\", \"Topic4\", \"Topic4\", \"Topic4\", \"Topic4\", \"Topic4\", \"Topic4\", \"Topic4\", \"Topic4\", \"Topic4\", \"Topic4\", \"Topic4\", \"Topic4\", \"Topic4\", \"Topic4\", \"Topic4\", \"Topic4\", \"Topic4\", \"Topic4\", \"Topic4\", \"Topic4\", \"Topic4\", \"Topic4\", \"Topic4\", \"Topic4\", \"Topic4\", \"Topic4\", \"Topic4\", \"Topic4\", \"Topic4\", \"Topic4\", \"Topic4\", \"Topic4\", \"Topic4\", \"Topic4\", \"Topic4\", \"Topic4\", \"Topic4\", \"Topic4\", \"Topic4\", \"Topic4\", \"Topic4\", \"Topic4\", \"Topic4\", \"Topic4\", \"Topic4\", \"Topic4\", \"Topic4\", \"Topic4\", \"Topic4\", \"Topic4\", \"Topic4\", \"Topic4\", \"Topic4\", \"Topic4\", \"Topic4\", \"Topic4\", \"Topic4\", \"Topic4\", \"Topic4\", \"Topic4\", \"Topic4\", \"Topic4\", \"Topic4\", \"Topic4\", \"Topic5\", \"Topic5\", \"Topic5\", \"Topic5\", \"Topic5\", \"Topic5\", \"Topic5\", \"Topic5\", \"Topic5\", \"Topic5\", \"Topic5\", \"Topic5\", \"Topic5\", \"Topic5\", \"Topic5\", \"Topic5\", \"Topic5\", \"Topic5\", \"Topic5\", \"Topic5\", \"Topic5\", \"Topic5\", \"Topic5\", \"Topic5\", \"Topic5\", \"Topic5\", \"Topic5\", \"Topic5\", \"Topic5\", \"Topic5\", \"Topic5\", \"Topic5\", \"Topic5\", \"Topic5\", \"Topic5\", \"Topic5\", \"Topic5\", \"Topic5\", \"Topic5\", \"Topic5\", \"Topic5\", \"Topic5\", \"Topic5\", \"Topic5\", \"Topic5\", \"Topic5\", \"Topic5\", \"Topic5\", \"Topic5\", \"Topic5\", \"Topic5\", \"Topic5\", \"Topic5\", \"Topic5\", \"Topic5\", \"Topic5\", \"Topic5\", \"Topic5\", \"Topic5\", \"Topic5\", \"Topic5\", \"Topic5\", \"Topic5\", \"Topic5\", \"Topic5\", \"Topic5\", \"Topic5\", \"Topic5\", \"Topic5\", \"Topic5\", \"Topic5\"], \"logprob\": [30.0, 29.0, 28.0, 27.0, 26.0, 25.0, 24.0, 23.0, 22.0, 21.0, 20.0, 19.0, 18.0, 17.0, 16.0, 15.0, 14.0, 13.0, 12.0, 11.0, 10.0, 9.0, 8.0, 7.0, 6.0, 5.0, 4.0, 3.0, 2.0, 1.0, -7.2511, -7.2518, -7.3428, -7.3485, -7.3496, -7.5577, -7.5675, -7.6866, -7.6889, -7.6893, -7.8358, -6.9811, -8.0125, -8.0144, -7.8608, -8.0186, -8.0287, -8.0416, -8.2272, -8.2276, -8.2286, -8.2297, -8.2338, -8.2345, -8.2379, -8.057, -8.2439, -4.9077, -8.4977, -8.4977, -4.9735, -6.4713, -6.5528, -6.8155, -6.7277, -6.7568, -3.6053, -7.493, -6.2512, -2.8781, -6.0951, -3.5759, -5.4542, -3.8929, -4.3065, -5.2172, -5.9144, -6.5576, -5.0943, -5.036, -4.0679, -5.1973, -4.3206, -4.9614, -4.5933, -5.0742, -5.6358, -5.5946, -5.0734, -5.8359, -5.1448, -4.4169, -5.2995, -4.8692, -4.4798, -4.7988, -4.8863, -5.5108, -4.3556, -4.5553, -5.3443, -4.5658, -5.3383, -5.0699, -5.0729, -6.8515, -7.3381, -7.5784, -7.5812, -6.569, -7.7278, -7.7363, -7.7375, -7.9038, -7.9041, -7.9042, -7.9045, -7.9044, -7.9047, -7.9065, -7.6373, -7.7748, -8.1171, -8.1171, -8.1178, -8.1186, -8.1189, -8.1198, -8.1203, -8.1204, -8.1264, -7.4547, -8.1331, -8.1377, -7.256, -7.3544, -7.4597, -5.9677, -4.2227, -5.7318, -6.2035, -4.6767, -5.0638, -7.5801, -6.0453, -4.4841, -3.8622, -4.5783, -6.4519, -3.6324, -4.0083, -6.2528, -5.9177, -6.0995, -6.6445, -5.1688, -4.3624, -3.2753, -5.1373, -6.1092, -4.2997, -6.347, -5.5119, -5.8085, -5.2811, -5.3148, -4.1529, -6.1353, -4.7931, -5.2303, -4.796, -5.345, -5.2357, -4.6363, -4.637, -5.439, -4.9408, -5.278, -4.6923, -5.3417, -4.8965, -4.99, -5.3053, -5.0884, -7.0623, -7.1773, -7.3118, -7.3145, -7.4536, -7.4554, -7.4563, -7.4586, -7.4681, -7.6317, -6.7793, -7.6356, -7.8435, -7.8441, -7.8441, -7.8442, -7.8449, -7.8455, -7.8457, -7.8471, -7.6658, -7.8504, -7.5443, -7.5383, -7.3183, -8.1151, -8.1155, -8.1158, -8.1158, -8.1162, -7.733, -6.6428, -6.6663, -7.4544, -6.137, -5.119, -5.4372, -5.3456, -6.9276, -3.8667, -5.6291, -6.3539, -6.7478, -5.463, -7.0912, -4.0983, -5.1215, -3.9564, -3.3674, -4.2239, -5.4055, -4.3222, -4.1821, -4.1531, -3.9947, -4.2453, -4.7043, -5.5332, -4.645, -5.0708, -5.3698, -5.3247, -4.1907, -5.5977, -5.4212, -4.7878, -5.5485, -4.7808, -5.0223, -5.1395, -5.1962, -4.905, -5.1528, -5.3406, -5.0207, -5.3815, -2.5441, -6.7745, -6.9506, -6.5624, -7.1641, -7.1641, -7.1742, -7.4384, -7.4405, -7.4494, -7.4604, -7.8102, -7.8105, -7.8107, -7.8108, -7.8109, -7.811, -7.8114, -7.8115, -7.8122, -7.8124, -7.8126, -7.8129, -7.8136, -7.8175, -7.8179, -7.8198, -7.8198, -6.9783, -6.8918, -5.2847, -5.4967, -6.7752, -3.3421, -2.7227, -6.2336, -6.8496, -6.9596, -5.0111, -5.8674, -4.9423, -3.2723, -5.5472, -4.625, -4.8185, -4.3086, -4.8036, -3.6293, -3.6195, -3.7676, -5.1781, -5.4549, -3.7595, -5.4489, -6.1021, -4.2161, -4.6267, -6.3047, -4.5301, -5.0699, -5.4761, -5.4273, -4.9964, -5.2698, -4.5852, -5.0565, -5.0522, -5.45, -5.9523, -6.1668, -6.4388, -6.4391, -6.8104, -6.8104, -6.8104, -6.8105, -6.8105, -6.8105, -6.8106, -6.8111, -6.8115, -6.8116, -6.8117, -6.8117, -6.8125, -6.813, -6.8145, -6.8244, -5.2301, -6.4377, -7.4167, -7.4167, -7.4167, -7.4167, -7.4167, -7.4167, -7.4167, -7.4167, -6.1647, -6.07, -6.2475, -6.1647, -6.3095, -6.8096, -6.8097, -6.8132, -6.3182, -5.689, -5.7009, -4.3316, -4.2109, -5.6618, -4.761, -5.8189, -4.1853, -4.9176, -5.5515, -5.5703, -4.3703, -4.3329, -5.6991, -5.5516, -4.8266, -4.776, -6.2171, -5.1837, -4.6694, -5.3177, -4.893, -5.7046, -5.6044, -5.1106, -5.2291, -5.3337, -5.5901, -5.4566, -5.6722, -5.5578, -5.6721], \"loglift\": [30.0, 29.0, 28.0, 27.0, 26.0, 25.0, 24.0, 23.0, 22.0, 21.0, 20.0, 19.0, 18.0, 17.0, 16.0, 15.0, 14.0, 13.0, 12.0, 11.0, 10.0, 9.0, 8.0, 7.0, 6.0, 5.0, 4.0, 3.0, 2.0, 1.0, 1.0271, 1.0262, 1.0227, 1.0171, 1.0159, 1.0099, 1.0001, 0.9996, 0.9976, 0.997, 0.9852, 0.9725, 0.9644, 0.9628, 0.9615, 0.9586, 0.9487, 0.9357, 0.9344, 0.934, 0.9333, 0.9323, 0.928, 0.9276, 0.924, 0.9234, 0.9191, 0.8939, 0.8907, 0.8906, 0.886, 0.8866, 0.8756, 0.8661, 0.8366, 0.8254, 0.5453, 0.8713, 0.7441, 0.3728, 0.7133, 0.3981, 0.618, 0.3969, 0.417, 0.53, 0.6335, 0.7342, 0.452, 0.4005, 0.126, 0.3806, 0.1286, 0.2988, 0.1765, 0.3158, 0.4671, 0.452, 0.2739, 0.5159, 0.2198, -0.0994, 0.2569, 0.0579, -0.1175, -0.0279, -0.0559, 0.3198, -0.4041, -0.3085, 0.1805, -0.5165, 0.1074, -0.3859, -0.7618, 1.1256, 1.1116, 1.0963, 1.0942, 1.09, 1.082, 1.074, 1.0726, 1.0623, 1.0619, 1.0619, 1.0615, 1.0615, 1.0613, 1.0597, 1.0383, 1.0357, 1.034, 1.0339, 1.0333, 1.0327, 1.0324, 1.0315, 1.0311, 1.0308, 1.0254, 1.0234, 1.0183, 1.0152, 1.0124, 1.0008, 0.9927, 0.8909, 0.7275, 0.8286, 0.861, 0.6858, 0.7042, 0.9787, 0.7959, 0.6021, 0.449, 0.536, 0.8228, 0.319, 0.354, 0.7639, 0.6939, 0.7153, 0.8175, 0.5107, 0.3216, -0.0244, 0.4017, 0.6543, 0.1496, 0.7174, 0.4688, 0.5504, 0.3712, 0.3326, -0.179, 0.6296, 0.0373, 0.2154, -0.0262, 0.2588, 0.1641, -0.3189, -0.3902, 0.2223, -0.2174, 0.0693, -0.4985, 0.0483, -0.8473, -0.7003, -0.045, -0.9378, 1.4089, 1.4002, 1.3845, 1.3812, 1.3768, 1.375, 1.3741, 1.3724, 1.3622, 1.3544, 1.3541, 1.3508, 1.3268, 1.3264, 1.3264, 1.3263, 1.3257, 1.325, 1.3247, 1.3235, 1.3203, 1.3202, 1.3065, 1.2906, 1.2884, 1.2815, 1.2812, 1.2809, 1.2808, 1.2805, 1.2756, 1.235, 1.2282, 1.2386, 1.1109, 0.9906, 0.9605, 0.8768, 1.148, 0.4444, 0.8127, 0.9765, 1.0349, 0.67, 1.1235, 0.2192, 0.5294, 0.0928, -0.1165, 0.1384, 0.5444, 0.1271, 0.0648, 0.0407, -0.0432, 0.0445, 0.2228, 0.5716, 0.1853, 0.3657, 0.4869, 0.4617, -0.2167, 0.5451, 0.4178, -0.018, 0.4802, -0.0573, 0.0639, 0.1207, 0.1684, -0.221, -0.2026, 0.1842, -0.8701, -0.076, 2.2171, 2.1185, 2.0962, 2.0912, 2.0647, 2.0646, 2.0541, 2.013, 2.0107, 2.002, 1.9894, 1.928, 1.9276, 1.9274, 1.9272, 1.9271, 1.9271, 1.9268, 1.9267, 1.926, 1.9259, 1.9257, 1.9254, 1.9248, 1.9206, 1.9202, 1.9186, 1.9177, 1.9009, 1.8493, 1.8397, 1.8328, 1.8448, 1.4289, 1.3265, 1.6719, 1.7705, 1.7813, 1.4291, 1.5677, 1.3732, 0.9746, 1.4521, 1.2205, 1.2265, 0.9969, 1.0216, 0.5646, 0.5311, 0.5499, 1.0949, 1.1749, 0.192, 0.9461, 1.3606, 0.0737, 0.3004, 1.4493, 0.1539, 0.5339, 0.8374, 0.792, 0.4033, 0.5491, -0.6113, -0.2262, -1.8013, -0.6802, 3.2798, 3.2385, 3.1769, 3.1764, 3.0729, 3.0729, 3.0729, 3.0729, 3.0729, 3.0728, 3.0728, 3.0721, 3.0715, 3.0715, 3.0714, 3.0713, 3.0705, 3.0696, 3.068, 3.056, 2.9537, 2.8987, 2.8316, 2.8315, 2.8315, 2.8315, 2.8315, 2.8315, 2.8315, 2.8315, 2.8242, 2.7817, 2.7325, 2.6682, 2.6736, 2.7295, 2.729, 2.7244, 2.4902, 2.1678, 2.1222, 1.3478, 0.4731, 1.9078, 0.8861, 1.9144, -0.0346, 0.7333, 1.4724, 1.4674, -0.1234, -0.2837, 1.5006, 1.252, 0.1005, -0.0062, 2.1567, 0.4957, -0.718, 0.539, -0.6992, 1.1748, 0.7192, -1.1367, -0.9116, -0.6102, 0.4526, -1.0074, 0.1669, -1.2466, -0.8418]}, \"token.table\": {\"Topic\": [1, 2, 3, 4, 5, 5, 2, 2, 5, 3, 5, 4, 2, 1, 5, 4, 2, 3, 5, 1, 3, 5, 1, 4, 1, 2, 3, 4, 1, 1, 2, 3, 4, 5, 2, 5, 3, 5, 5, 4, 5, 4, 3, 5, 4, 1, 3, 3, 5, 5, 1, 2, 3, 4, 5, 1, 1, 2, 3, 4, 4, 1, 2, 3, 4, 2, 1, 2, 3, 4, 5, 1, 4, 5, 4, 1, 2, 3, 4, 5, 2, 2, 3, 5, 1, 2, 3, 4, 2, 3, 1, 2, 3, 4, 5, 1, 2, 3, 4, 5, 1, 2, 3, 4, 5, 3, 1, 4, 1, 2, 3, 4, 5, 2, 1, 2, 3, 5, 1, 4, 2, 1, 2, 3, 1, 2, 3, 4, 3, 3, 3, 1, 2, 3, 4, 2, 1, 2, 3, 4, 5, 5, 4, 3, 1, 4, 1, 1, 5, 1, 2, 3, 4, 1, 2, 3, 4, 5, 5, 1, 2, 3, 4, 5, 1, 2, 3, 4, 5, 1, 2, 3, 5, 1, 2, 3, 4, 1, 2, 3, 4, 5, 5, 1, 2, 3, 2, 3, 5, 1, 4, 1, 2, 3, 5, 1, 2, 3, 4, 1, 2, 3, 4, 5, 5, 5, 1, 2, 3, 4, 5, 2, 3, 1, 2, 3, 4, 5, 1, 2, 4, 4, 1, 2, 3, 4, 5, 1, 2, 3, 4, 3, 5, 3, 1, 2, 3, 1, 1, 2, 3, 1, 2, 3, 4, 1, 2, 3, 4, 1, 2, 3, 4, 1, 1, 2, 3, 1, 2, 3, 1, 2, 3, 4, 5, 1, 2, 3, 4, 5, 1, 2, 3, 4, 5, 1, 2, 1, 2, 3, 4, 5, 3, 5, 1, 2, 1, 2, 3, 5, 3, 1, 2, 3, 5, 1, 1, 2, 3, 2, 1, 2, 5, 4, 2, 1, 2, 3, 4, 5, 1, 2, 3, 4, 5, 5, 3, 1, 2, 3, 4, 5, 2, 5, 1, 2, 3, 4, 1, 2, 3, 4, 1, 2, 3, 2, 4, 5, 1, 2, 3, 4, 5, 2, 3, 4, 1, 2, 3, 4, 5, 1, 2, 3, 4, 1, 2, 3, 4, 5, 4, 4, 4, 3, 3, 2, 1, 2, 3, 5, 1, 2, 3, 4, 5, 1, 2, 3, 4, 5, 1, 3, 1, 2, 3, 4, 1, 2, 3, 4, 5, 5, 3, 4, 5, 1, 2, 3, 4, 1, 1, 2, 3, 4, 1, 2, 1, 2, 3, 1, 2, 3, 1, 1, 1, 2, 3, 5, 1, 1, 2, 3, 4, 5, 3, 1, 2, 3, 4, 5, 5, 2, 2, 1, 2, 3, 5, 1, 1, 2, 3, 1, 1, 2, 3, 4, 5, 1, 2, 4, 1, 2, 3, 5, 1, 2, 3, 5, 1, 5, 1, 2, 3, 4, 5, 1, 2, 3, 5, 1, 2, 3, 4, 1, 2, 4, 1, 2, 3, 4, 1, 2, 3, 4, 5, 1, 2, 3, 4, 3, 1, 2, 3, 4, 5, 3, 1, 3, 4, 1, 2, 3, 4, 5, 4, 1, 2, 3, 4, 5, 4, 1, 2, 3, 4, 1, 2, 3, 4, 5, 2, 1, 2, 3, 4, 2, 1, 2, 3, 4, 5, 1, 2, 3, 4, 5, 1, 2, 3, 4, 5, 5, 1, 2, 3, 1, 2, 3, 4, 5, 2, 3, 1, 2, 3, 5, 2, 3, 4, 2, 5, 5, 1, 2, 4, 1, 3, 5, 1, 2, 3, 5, 3, 1, 3, 4, 4, 5, 1, 2, 3, 1, 2, 3, 4, 5, 3, 4, 1, 2, 3, 4, 4, 1, 3, 1, 3, 4, 2, 3, 1, 2, 3, 4, 1, 2, 3, 4, 5, 1, 2, 3, 4, 5, 1, 1, 2, 3, 4, 5, 1, 3, 5, 4, 3, 1, 3, 5, 1, 2, 3, 4, 5, 1, 2, 3, 5, 1, 2, 3, 4, 5, 1, 2, 3, 4, 4, 1, 2, 3, 5, 5, 1, 2, 3, 4, 5, 1, 3, 3, 2, 1, 2, 3, 4, 2, 1, 2, 3, 1, 2, 1, 3, 1, 2, 3, 4, 5, 1, 2, 3, 1, 2, 5, 3, 2, 3, 5, 1, 2, 3, 4, 5, 4, 1, 2, 3, 5, 1, 2, 3, 4, 5, 1, 1, 2, 3, 1, 1, 3, 5, 1, 2, 3, 4, 5, 1, 2, 3, 4, 5, 2, 1, 2, 3, 4, 5], \"Freq\": [0.34626376123660707, 0.03847375124851189, 0.07694750249702378, 0.5001587662306546, 0.4436900525166293, 0.6810503885738242, 0.8891234199210095, 0.8733352265394961, 0.10916690331743702, 0.8725357675181307, 0.8898059227177412, 0.7698553390866996, 0.9126422191850265, 0.3639088463335898, 0.5458632695003847, 0.7698098661112825, 0.8559141083620357, 0.31530375580567055, 0.6306075116113411, 0.287108448353066, 0.6699197128238207, 0.03190093870589622, 0.16303399526532708, 0.6521359810613083, 0.4864834472215839, 0.1921909914949467, 0.22222083391603215, 0.09008952726325627, 0.9228996111511449, 0.6202176884010068, 0.1378261529780015, 0.18704977904157347, 0.03937890085085757, 0.009844725212714393, 0.25753110566841664, 0.5150622113368333, 0.9315328776942057, 0.8894502371548794, 0.8900203487118222, 0.7693063691457763, 0.8900638552538104, 0.9250184188001571, 0.314946740933733, 0.629893481867466, 0.9107537915566788, 0.8778126053840539, 0.9071943380919688, 0.8690461694909524, 0.12414945278442177, 0.6809779047369735, 0.3057828027791729, 0.5052063698090683, 0.0997117835149477, 0.03988471340597908, 0.05317961787463877, 0.8650013110994009, 0.2230041568635592, 0.2922123434763879, 0.1922449628134131, 0.2922123434763879, 0.7698198877543441, 0.8118066763209704, 0.10346555678600602, 0.07163000085185033, 0.007958888983538925, 0.8891659876630807, 0.19608598356862678, 0.6100452822135055, 0.1670362082251265, 0.007262443835875066, 0.021787331507625195, 0.1808962224861183, 0.1808962224861183, 0.3617924449722366, 0.7699824854763831, 0.28741214188031544, 0.09580404729343847, 0.24909052296294001, 0.3640553797150662, 0.6409915429366309, 0.8558812190860242, 0.13534913040266816, 0.812094782416009, 0.6409956667864769, 0.23239620295963093, 0.6003568576457132, 0.15977238953474626, 0.004841587561658978, 0.8558842585032576, 0.931604824181059, 0.196715424707647, 0.2950731370614705, 0.196715424707647, 0.0983577123538235, 0.2950731370614705, 0.22600801039854274, 0.4176234974755681, 0.18178905184230612, 0.12283044043399062, 0.04913217617359625, 0.37919923274602313, 0.1835805809325985, 0.23474238217610957, 0.18659009865280504, 0.015047588601032664, 0.9322364826935112, 0.5291689145629469, 0.47625202310665227, 0.0997420746022808, 0.34197282720781985, 0.5129592408117298, 0.014248867800325828, 0.04274660340097748, 0.9130248512146065, 0.3015839392106166, 0.2777746808518837, 0.36507529483390433, 0.05555493617037674, 0.8988527505872713, 0.7697891295722351, 0.856153997969495, 0.23584018489910746, 0.5896004622477686, 0.1768801386743306, 0.274718516790676, 0.3275490007888829, 0.3909455815867312, 0.010566096799641383, 0.8206088069633466, 0.8726713511627139, 0.9316933249334318, 0.09653932094131182, 0.8688538884718063, 0.2839506312358841, 0.5679012624717682, 0.8890673530303902, 0.39883453818449205, 0.2944416053711015, 0.22216957496183112, 0.05353483734020027, 0.03212090240412016, 0.8897911569894069, 0.8667381496026961, 0.820605535252328, 0.8653408411837095, 0.925015048970336, 0.9412131479349898, 0.9045913487290664, 0.06461366776636189, 0.5599347693554557, 0.31252173173327763, 0.07813043293331941, 0.039065216466659704, 0.12314601785401447, 0.12314601785401447, 0.06157300892700723, 0.5541570803430651, 0.12314601785401447, 0.8277243226755914, 0.35399600885993704, 0.18796248258049755, 0.28194372387074634, 0.14410456997838145, 0.03445978847309122, 0.1701344390798007, 0.1701344390798007, 0.1134229593865338, 0.2835573984663345, 0.2835573984663345, 0.10199991134596563, 0.2804997562014055, 0.4844995788933367, 0.12749988918245703, 0.45248624371931995, 0.12254835767398249, 0.3676450730219475, 0.05656078046491499, 0.24931351683195904, 0.5175144213027029, 0.16243153369354907, 0.06043964044411128, 0.00755495505551391, 0.8899606450034038, 0.25150658469709225, 0.3920543820278203, 0.3550681195723655, 0.30380637971362623, 0.30380637971362623, 0.30380637971362623, 0.9550992425930791, 0.7697534781028725, 0.30804605045739414, 0.39605920773093534, 0.08801315727354118, 0.22003289318385297, 0.3923998202136122, 0.15695992808544487, 0.08632796044699469, 0.36100783459652325, 0.42904984050959166, 0.3173793340755884, 0.22334101286800662, 0.017632185226421578, 0.011754790150947717, 0.8893370400167371, 0.8897155960313606, 0.4970754562850682, 0.1720645810217544, 0.23897858475243666, 0.04779571695048733, 0.04779571695048733, 0.796609325640206, 0.08851214729335623, 0.2418302874369311, 0.18492904333412377, 0.12802779923131646, 0.4409846417967567, 0.014225311025701829, 0.8190882770142269, 0.14245013513290902, 0.035612533783227256, 0.7698396666271, 0.1741640156089331, 0.24880573658419017, 0.07464172097525705, 0.4478503258515423, 0.024880573658419017, 0.5279357175727739, 0.2538152488330644, 0.21320480901977407, 0.8666241536039259, 0.3154176238060183, 0.6308352476120366, 0.8206953038016439, 0.7576847626860967, 0.08913938384542314, 0.1337090757681347, 0.8651458705122367, 0.11978896896256615, 0.11978896896256615, 0.77862829825668, 0.1742332475123122, 0.2874848583953151, 0.39202480690270247, 0.13938659800984976, 0.197717151177652, 0.1581737209421216, 0.197717151177652, 0.395434302355304, 0.5236837333048525, 0.26184186665242626, 0.14546770369579237, 0.06400578962614864, 0.9754144279945818, 0.3016213714106345, 0.5245589068011034, 0.17048164471035862, 0.39864536830489045, 0.3246112284768394, 0.2733568239804963, 0.315654739224207, 0.315654739224207, 0.2701549569936907, 0.08531209168221811, 0.01421868194703635, 0.5005188229477747, 0.1042747547807864, 0.3232517398204378, 0.05735111512943252, 0.01564121321711796, 0.38616562628082896, 0.2638798446252331, 0.20595500068310876, 0.07079703148481864, 0.0772331252561658, 0.940975041836432, 0.8564759812452938, 0.45786433823504413, 0.3185143222504655, 0.1094892982735975, 0.08958215313294342, 0.024883931425817615, 0.47586371063340965, 0.47586371063340965, 0.8938198124282527, 0.8560831082686431, 0.16017819563126146, 0.27459119251073394, 0.5377410853335206, 0.022882599375894496, 0.9499825301896361, 0.07299336593646294, 0.14598673187292588, 0.7299336593646294, 0.07299336593646294, 0.8780208358730562, 0.8990586178385512, 0.8283850189053142, 0.11834071698647347, 0.8560781912182187, 0.6783348725631008, 0.2877784307843458, 0.02055560219888184, 0.9246148194258841, 0.9549465611518383, 0.3735884571549548, 0.37885026641065844, 0.22625779799525433, 0.021047237022814358, 0.010523618511407179, 0.24593562032435762, 0.20468190336672343, 0.23958889463856772, 0.28084261159620194, 0.026973584164606965, 0.8900368786071995, 0.8727444654748088, 0.19922775527218053, 0.13021421913214415, 0.24740701635107387, 0.39975765273568253, 0.023438559443785947, 0.8560823273773839, 0.6409928532644709, 0.8187544221565227, 0.0976496099819706, 0.07511508460151585, 0.0075115084601515844, 0.25090376986750046, 0.4219745220498871, 0.07983301768511378, 0.23949905305534133, 0.19250496726839675, 0.6898094660450883, 0.1122945642398981, 0.25163325541277964, 0.6290831385319491, 0.8897661287667482, 0.18240402675908243, 0.33440738239165113, 0.3040067112651374, 0.06080134225302748, 0.1520033556325687, 0.857473608172326, 0.8728131304786606, 0.7697265060641796, 0.5278016757289616, 0.09596394104162938, 0.2591026408123993, 0.09596394104162938, 0.019192788208325876, 0.08496533231445462, 0.679722658515637, 0.2336546638647502, 0.021241333078613655, 0.0346144273691319, 0.1038432821073957, 0.0692288547382638, 0.6576741200135061, 0.1384577094765276, 0.7696864094364504, 0.7711309799770213, 0.7697543371923966, 0.8206893488974619, 0.8728533160255295, 0.8891227876476165, 0.9020131382067852, 0.9302640327503917, 0.7923470933206179, 0.1584694186641236, 0.4975932596734996, 0.25362763235785174, 0.18116259454132266, 0.057972030253223256, 0.009662005042203875, 0.4172937726083314, 0.2862829370219948, 0.26687392434253754, 0.014556759509592955, 0.014556759509592955, 0.07734157180285822, 0.8507572898314404, 0.10907279825433427, 0.23177969629046033, 0.5862662906170467, 0.06817049890895892, 0.57644839966408, 0.1181719219311364, 0.093672864945413, 0.180140124895025, 0.0302635409823642, 0.8900472996256829, 0.7917480225763499, 0.18271108213300383, 0.6409926810031851, 0.20600506782962275, 0.4248854523985969, 0.2510686764173527, 0.1158778506541628, 0.8990666667072718, 0.06753988232425559, 0.6078589409183003, 0.30392947045915014, 0.016884970581063898, 0.048122704056510764, 0.9143313770737045, 0.20200047773451502, 0.554583129780214, 0.23872783732260866, 0.5691121487513385, 0.17073364462540158, 0.25610046693810234, 0.8651323277023836, 0.8649621181061594, 0.1759477789697186, 0.2345970386262915, 0.29324629828286436, 0.29324629828286436, 0.9241197354798791, 0.3884839412249867, 0.2381030607507983, 0.07519044023709419, 0.25063480079031397, 0.037595220118547094, 0.9504173154463149, 0.4846883366881277, 0.2959705078929921, 0.20043943306812537, 0.01758240640948468, 0.0011721604272989788, 0.8900375856753707, 0.8891705230628972, 0.8892663474241248, 0.13107968992771396, 0.6881683721204982, 0.09830976744578547, 0.06553984496385698, 0.8936534029931456, 0.3061601980170042, 0.45057538576087414, 0.23684090789994666, 0.8993775967621009, 0.4561771347891565, 0.19329539609710022, 0.30927263375536035, 0.023195447531652025, 0.015463631687768018, 0.1330142680350239, 0.7980856082101434, 0.7698321987486679, 0.45025270315915844, 0.28851144085926655, 0.2535403571187494, 0.004371385467564645, 0.15808113911875588, 0.6718448412547124, 0.1185608543390669, 0.03952028477968897, 0.8652488799815851, 0.8900108702893282, 0.22318567584404134, 0.4180303134856647, 0.21610041629343685, 0.12871554850264819, 0.015351395692976388, 0.7875450232500606, 0.04922156395312879, 0.09844312790625757, 0.04922156395312879, 0.17722055301034248, 0.6582477683241292, 0.12658610929310177, 0.025317221858620356, 0.8025209137278839, 0.15286112642435884, 0.03821528160608971, 0.35129388974016956, 0.39443524462054125, 0.07395660836635148, 0.17872847021868277, 0.1328681611585309, 0.18397130006565815, 0.6030170391041018, 0.05110313890712727, 0.020441255562850907, 0.447049730454148, 0.10316532241249568, 0.08597110201041307, 0.34388440804165227, 0.8726660295697745, 0.3242675739475758, 0.13935465987829707, 0.08307681646590787, 0.44218305538305797, 0.0080396919160556, 0.9316914994441052, 0.16778548015856254, 0.6711419206342502, 0.16778548015856254, 0.2868857868269426, 0.22068137448226352, 0.15447696213758447, 0.24274951193048988, 0.11034068724113176, 0.7696896694188524, 0.6337226482441384, 0.14258759585493114, 0.12674452964882768, 0.09505839723662075, 0.01584306620610346, 0.7698871968439164, 0.3452625843139618, 0.136012533214591, 0.4394251073086786, 0.07323751788477977, 0.30547507128119283, 0.4851662896818945, 0.12578385288049115, 0.0539073655202105, 0.02695368276010525, 0.9129581960811937, 0.40113532670046337, 0.43995487444566955, 0.09057894473881431, 0.06469924624201022, 0.8560761125012045, 0.20090996942594538, 0.25113746178243174, 0.12556873089121587, 0.4143768119410124, 0.6409940075457375, 0.4968811734973648, 0.150720622627534, 0.23519042212208602, 0.11428266990439391, 0.0033125411566490987, 0.2973999610261943, 0.4327436558644624, 0.25822152304669566, 0.008904190449886058, 0.003561676179954423, 0.640992561817982, 0.15932501757374476, 0.610745900699355, 0.21243335676499303, 0.15566582101740403, 0.47545756202054923, 0.35194011708282646, 0.008460098968337175, 0.008460098968337175, 0.15505047254554769, 0.7752523627277385, 0.48107464139996853, 0.30383661562103276, 0.15191830781051638, 0.0632992949210485, 0.1420149674243952, 0.1420149674243952, 0.710074837121976, 0.9308882074594776, 0.9281270696528459, 0.6409956800857771, 0.3936370141590521, 0.5707736705306256, 0.03936370141590521, 0.7879859980379035, 0.1313309996729839, 0.08755399978198927, 0.3807532468061866, 0.35161396771387643, 0.25642565601232975, 0.01165571163692408, 0.8726076140337025, 0.25166186214751574, 0.12583093107375787, 0.6291546553687892, 0.8668507130782968, 0.8897898248761563, 0.24250962203485502, 0.173221158596325, 0.588951939227505, 0.29245417079615826, 0.27916079939633287, 0.2592207422965948, 0.0531734855993015, 0.11964034259842837, 0.8726620044426124, 0.8653943546149582, 0.4177884322182526, 0.3786207666977915, 0.19583832760230593, 0.006527944253410197, 0.7696899566207624, 0.865389542998274, 0.9757307191762153, 0.005307576240432021, 0.018576516841512073, 0.9739402401192758, 0.856127703343117, 0.9074947042123007, 0.10622583061377656, 0.7170243566429918, 0.15933874592066485, 0.02655645765344414, 0.23903410267679556, 0.31009829536449157, 0.38116248805218755, 0.006460381153426908, 0.06460381153426907, 0.32493165651726413, 0.18051758695403564, 0.1564485753601642, 0.3128971507203284, 0.036103517390807124, 0.866211485583141, 0.25613349794021256, 0.2469858730137764, 0.21039537330803174, 0.2881501851827391, 0.004573812463218081, 0.36063536162432414, 0.18031768081216207, 0.5409530424364862, 0.7699608661577128, 0.7422337948173107, 0.3267735171163429, 0.6535470342326858, 0.05446225285272382, 0.30309614841575067, 0.221362355584537, 0.280959912857297, 0.18390103387023074, 0.011919511454551992, 0.8138389401618068, 0.8511773646382245, 0.10639717057977806, 0.8900318291693367, 0.5060005768266752, 0.2453336130068728, 0.21211135291219213, 0.020444467750572733, 0.017888909281751145, 0.08458659017839311, 0.16917318035678622, 0.05639106011892874, 0.6766927214271449, 0.7697693470618062, 0.2659620905123473, 0.45008969163628004, 0.18412760112393275, 0.1022931117355182, 0.6409925438122578, 0.26636219747046225, 0.3568248305736381, 0.2110794772407437, 0.16082245885009042, 0.0050257018390653255, 0.9551319481775519, 0.9071563921054412, 0.8205325432104599, 0.8891452395209103, 0.4387217946042741, 0.32427263079446345, 0.19074860634968438, 0.042918436428678985, 0.9260080713105117, 0.6938910074165183, 0.22303639524102373, 0.07434546508034125, 0.7793726419385071, 0.09742158024231339, 0.8991641852052854, 0.8727145193054381, 0.10344649638524174, 0.6206789783114505, 0.20689299277048348, 0.041378598554096695, 0.020689299277048347, 0.7000590308056082, 0.2000168659444595, 0.10000843297222975, 0.10367465378183702, 0.622047922691022, 0.20734930756367403, 0.9645763630219115, 0.1556517174770299, 0.3113034349540598, 0.4669551524310897, 0.2729137370077553, 0.23392606029236165, 0.34309155509546374, 0.11696303014618083, 0.03898767671539361, 0.8265586948616882, 0.1827270271761552, 0.6283245145004634, 0.1827270271761552, 0.0032057373188799157, 0.081372012098085, 0.2949735438555582, 0.3966885589781644, 0.1932585287329519, 0.0406860060490425, 0.9410450491643881, 0.08645818887576008, 0.7348946054439607, 0.15130183053258014, 0.813852471414842, 0.24400267845733625, 0.16266845230489083, 0.569339583067118, 0.3399090110688069, 0.3127162901833023, 0.04078908132825683, 0.2719272088550455, 0.04078908132825683, 0.145203865714535, 0.3439038924817934, 0.32097696631634054, 0.18341540932362316, 0.007642308721817632, 0.9133564278731501, 0.41369330373168284, 0.15513498889938107, 0.07756749444969054, 0.20684665186584142, 0.1292791574161509], \"Term\": [\"Amazon\", \"Amazon\", \"Amazon\", \"Amazon\", \"Amino\", \"Balsamic\", \"Boil\", \"Cheese\", \"Cheese\", \"Cincinnati\", \"Dairy\", \"Diabetes\", \"Euro\", \"Excellent\", \"Excellent\", \"Fried\", \"Japanese\", \"KETO\", \"KETO\", \"Keto\", \"Keto\", \"Keto\", \"Love\", \"Love\", \"Miracle\", \"Miracle\", \"Miracle\", \"Miracle\", \"NOODLE\", \"Noodles\", \"Noodles\", \"Noodles\", \"Noodles\", \"Noodles\", \"Olive\", \"Olive\", \"Parmesan\", \"Persian\", \"SMELLS\", \"SUBSTITUTE\", \"Slimy\", \"Spiralizer\", \"Style\", \"Style\", \"Taste\", \"Tasty\", \"Watchers\", \"Weight\", \"Weight\", \"Whisked\", \"add\", \"add\", \"add\", \"add\", \"add\", \"afraid\", \"alternative\", \"alternative\", \"alternative\", \"alternative\", \"amazon\", \"angel\", \"angel\", \"angel\", \"angel\", \"answer\", \"asian\", \"asian\", \"asian\", \"asian\", \"asian\", \"auto\", \"auto\", \"auto\", \"award\", \"awesome\", \"awesome\", \"awesome\", \"awesome\", \"bag)before\", \"baggie\", \"batch\", \"batch\", \"biased\", \"boil\", \"boil\", \"boil\", \"boil\", \"bubble\", \"bunch\", \"cabbage\", \"cabbage\", \"cabbage\", \"cabbage\", \"cabbage\", \"calorie\", \"calorie\", \"calorie\", \"calorie\", \"calorie\", \"carb\", \"carb\", \"carb\", \"carb\", \"carb\", \"cauliflower\", \"cheap\", \"cheap\", \"cheese\", \"cheese\", \"cheese\", \"cheese\", \"cheese\", \"cheesy\", \"chicken\", \"chicken\", \"chicken\", \"chicken\", \"child\", \"classic\", \"clump\", \"colander\", \"colander\", \"colander\", \"come\", \"come\", \"come\", \"come\", \"compromise\", \"con\", \"concern\", \"contain\", \"contain\", \"convenient\", \"convenient\", \"conventional\", \"cook\", \"cook\", \"cook\", \"cook\", \"cook\", \"craze\", \"creation\", \"crush\", \"cube\", \"daikon\", \"daily\", \"daughter\", \"daughter\", \"definitely\", \"definitely\", \"definitely\", \"definitely\", \"delivery\", \"delivery\", \"delivery\", \"delivery\", \"delivery\", \"dice\", \"diet\", \"diet\", \"diet\", \"diet\", \"diet\", \"dieting\", \"dieting\", \"dieting\", \"dieting\", \"dieting\", \"dinner\", \"dinner\", \"dinner\", \"dinner\", \"direction\", \"direction\", \"direction\", \"direction\", \"dish\", \"dish\", \"dish\", \"dish\", \"dish\", \"doodle\", \"drain\", \"drain\", \"drain\", \"dress\", \"dress\", \"dress\", \"dukan\", \"dupe\", \"easily\", \"easily\", \"easily\", \"easily\", \"easy\", \"easy\", \"easy\", \"easy\", \"eat\", \"eat\", \"eat\", \"eat\", \"eat\", \"endure\", \"energy\", \"enjoy\", \"enjoy\", \"enjoy\", \"enjoy\", \"enjoy\", \"entire\", \"entire\", \"excellent\", \"excellent\", \"excellent\", \"excellent\", \"excellent\", \"family\", \"family\", \"family\", \"fan\", \"fast\", \"fast\", \"fast\", \"fast\", \"fast\", \"favorite\", \"favorite\", \"favorite\", \"favs\", \"ferment\", \"ferment\", \"fettachini\", \"fettuccini\", \"fettuccini\", \"fettuccini\", \"fettucine\", \"fettucini\", \"fettucini\", \"fettucini\", \"fill\", \"fill\", \"fill\", \"fill\", \"filling\", \"filling\", \"filling\", \"filling\", \"find\", \"find\", \"find\", \"find\", \"firm\", \"fish\", \"fish\", \"fish\", \"fishy\", \"fishy\", \"fishy\", \"flavor\", \"flavor\", \"flavor\", \"flavor\", \"flavor\", \"follow\", \"follow\", \"follow\", \"follow\", \"follow\", \"food\", \"food\", \"food\", \"food\", \"food\", \"forever\", \"fork\", \"free\", \"free\", \"free\", \"free\", \"free\", \"freeze\", \"freeze\", \"fried\", \"fruit\", \"fry\", \"fry\", \"fry\", \"fry\", \"fully\", \"funky\", \"funky\", \"funky\", \"funky\", \"future\", \"game\", \"gelatinous\", \"gelatinous\", \"generally\", \"get\", \"get\", \"get\", \"gift\", \"ginger\", \"go\", \"go\", \"go\", \"go\", \"go\", \"good\", \"good\", \"good\", \"good\", \"good\", \"granddaughter\", \"grandmother\", \"great\", \"great\", \"great\", \"great\", \"great\", \"grow\", \"gummie\", \"hair\", \"hair\", \"hair\", \"hair\", \"healthy\", \"healthy\", \"healthy\", \"healthy\", \"heat\", \"heat\", \"heat\", \"helpful\", \"helpful\", \"highlight\", \"highly\", \"highly\", \"highly\", \"highly\", \"highly\", \"honest\", \"individual\", \"insert\", \"instruction\", \"instruction\", \"instruction\", \"instruction\", \"instruction\", \"italian\", \"italian\", \"italian\", \"italian\", \"item\", \"item\", \"item\", \"item\", \"item\", \"j&iacute;cama\", \"jicama\", \"justify\", \"kimchi\", \"kinda\", \"konnyaku\", \"korean\", \"lean\", \"lifesaver\", \"lifesaver\", \"like\", \"like\", \"like\", \"like\", \"like\", \"little\", \"little\", \"little\", \"little\", \"little\", \"load\", \"load\", \"lose\", \"lose\", \"lose\", \"lose\", \"love\", \"love\", \"love\", \"love\", \"love\", \"lucky\", \"lunch\", \"lunch\", \"marjoram\", \"meal\", \"meal\", \"meal\", \"meal\", \"mesh\", \"microwave\", \"microwave\", \"microwave\", \"microwave\", \"min\", \"min\", \"minute\", \"minute\", \"minute\", \"miracle\", \"miracle\", \"miracle\", \"monthly\", \"mush\", \"mushroom\", \"mushroom\", \"mushroom\", \"mushroom\", \"nasty\", \"nice\", \"nice\", \"nice\", \"nice\", \"nice\", \"noddle\", \"noodle\", \"noodle\", \"noodle\", \"noodle\", \"noodle\", \"nutritionist\", \"ocean\", \"oil\", \"olive\", \"olive\", \"olive\", \"olive\", \"online\", \"open\", \"open\", \"open\", \"opening\", \"order\", \"order\", \"order\", \"order\", \"order\", \"overall\", \"overall\", \"oyster\", \"package\", \"package\", \"package\", \"package\", \"packet\", \"packet\", \"packet\", \"packet\", \"packing\", \"pallet\", \"pasta\", \"pasta\", \"pasta\", \"pasta\", \"pasta\", \"picky\", \"picky\", \"picky\", \"picky\", \"place\", \"place\", \"place\", \"place\", \"prefer\", \"prefer\", \"prefer\", \"prepare\", \"prepare\", \"prepare\", \"prepare\", \"pretty\", \"pretty\", \"pretty\", \"pretty\", \"pretty\", \"price\", \"price\", \"price\", \"price\", \"pro\", \"product\", \"product\", \"product\", \"product\", \"product\", \"promise\", \"pudding\", \"pudding\", \"pudding\", \"purchase\", \"purchase\", \"purchase\", \"purchase\", \"purchase\", \"radish\", \"raman\", \"raman\", \"raman\", \"raman\", \"raman\", \"ratio\", \"real\", \"real\", \"real\", \"real\", \"recommend\", \"recommend\", \"recommend\", \"recommend\", \"recommend\", \"refrigerate\", \"regular\", \"regular\", \"regular\", \"regular\", \"repeat\", \"replacement\", \"replacement\", \"replacement\", \"replacement\", \"restrictive\", \"rice\", \"rice\", \"rice\", \"rice\", \"rice\", \"rinse\", \"rinse\", \"rinse\", \"rinse\", \"rinse\", \"salsa\", \"salt\", \"salt\", \"salt\", \"sauce\", \"sauce\", \"sauce\", \"sauce\", \"sauce\", \"sausage\", \"sausage\", \"say\", \"say\", \"say\", \"say\", \"send\", \"send\", \"send\", \"sense\", \"service\", \"shed\", \"shirataki\", \"shirataki\", \"shirataki\", \"size\", \"size\", \"size\", \"smell\", \"smell\", \"smell\", \"smell\", \"smelling\", \"snack\", \"snack\", \"snack\", \"solve\", \"sooooooooooooooooooooooooooo\", \"sort\", \"sort\", \"sort\", \"soup\", \"soup\", \"soup\", \"soup\", \"soup\", \"soupy\", \"spagetti\", \"spaghetti\", \"spaghetti\", \"spaghetti\", \"spaghetti\", \"speck\", \"splurge\", \"squeak\", \"star\", \"star\", \"star\", \"starve\", \"stew\", \"stick\", \"stick\", \"stick\", \"stick\", \"stir\", \"stir\", \"stir\", \"stir\", \"stir\", \"stuff\", \"stuff\", \"stuff\", \"stuff\", \"stuff\", \"substance\", \"substitute\", \"substitute\", \"substitute\", \"substitute\", \"substitute\", \"suck\", \"suck\", \"suck\", \"tabouleh\", \"taco\", \"tapioca\", \"tapioca\", \"tapioca\", \"taste\", \"taste\", \"taste\", \"taste\", \"taste\", \"teenage\", \"tend\", \"tend\", \"textually\", \"texture\", \"texture\", \"texture\", \"texture\", \"texture\", \"thank\", \"thank\", \"thank\", \"thank\", \"throughly\", \"throw\", \"throw\", \"throw\", \"throw\", \"thyme\", \"time\", \"time\", \"time\", \"time\", \"time\", \"tiny\", \"topping\", \"trade\", \"trouble\", \"try\", \"try\", \"try\", \"try\", \"turkey\", \"turn\", \"turn\", \"turn\", \"understand\", \"understand\", \"unusual\", \"upset\", \"vegetable\", \"vegetable\", \"vegetable\", \"vegetable\", \"vegetable\", \"version\", \"version\", \"version\", \"vinegar\", \"vinegar\", \"vinegar\", \"void\", \"volume\", \"volume\", \"volume\", \"want\", \"want\", \"want\", \"want\", \"want\", \"watcher\", \"water\", \"water\", \"water\", \"water\", \"weight\", \"weight\", \"weight\", \"weight\", \"weight\", \"whatsoever\", \"wheat\", \"wheat\", \"wheat\", \"wide\", \"wife\", \"wife\", \"wife\", \"wonderful\", \"wonderful\", \"wonderful\", \"wonderful\", \"wonderful\", \"work\", \"work\", \"work\", \"work\", \"work\", \"wrap\", \"yummy\", \"yummy\", \"yummy\", \"yummy\", \"yummy\"]}, \"R\": 30, \"lambda.step\": 0.01, \"plot.opts\": {\"xlab\": \"PC1\", \"ylab\": \"PC2\"}, \"topic.order\": [4, 3, 2, 5, 1]};\n",
       "\n",
       "function LDAvis_load_lib(url, callback){\n",
       "  var s = document.createElement('script');\n",
       "  s.src = url;\n",
       "  s.async = true;\n",
       "  s.onreadystatechange = s.onload = callback;\n",
       "  s.onerror = function(){console.warn(\"failed to load library \" + url);};\n",
       "  document.getElementsByTagName(\"head\")[0].appendChild(s);\n",
       "}\n",
       "\n",
       "if(typeof(LDAvis) !== \"undefined\"){\n",
       "   // already loaded: just create the visualization\n",
       "   !function(LDAvis){\n",
       "       new LDAvis(\"#\" + \"ldavis_el19110138652431846879174418\", ldavis_el19110138652431846879174418_data);\n",
       "   }(LDAvis);\n",
       "}else if(typeof define === \"function\" && define.amd){\n",
       "   // require.js is available: use it to load d3/LDAvis\n",
       "   require.config({paths: {d3: \"https://d3js.org/d3.v5\"}});\n",
       "   require([\"d3\"], function(d3){\n",
       "      window.d3 = d3;\n",
       "      LDAvis_load_lib(\"https://cdn.jsdelivr.net/gh/bmabey/pyLDAvis@3.4.0/pyLDAvis/js/ldavis.v3.0.0.js\", function(){\n",
       "        new LDAvis(\"#\" + \"ldavis_el19110138652431846879174418\", ldavis_el19110138652431846879174418_data);\n",
       "      });\n",
       "    });\n",
       "}else{\n",
       "    // require.js not available: dynamically load d3 & LDAvis\n",
       "    LDAvis_load_lib(\"https://d3js.org/d3.v5.js\", function(){\n",
       "         LDAvis_load_lib(\"https://cdn.jsdelivr.net/gh/bmabey/pyLDAvis@3.4.0/pyLDAvis/js/ldavis.v3.0.0.js\", function(){\n",
       "                 new LDAvis(\"#\" + \"ldavis_el19110138652431846879174418\", ldavis_el19110138652431846879174418_data);\n",
       "            })\n",
       "         });\n",
       "}\n",
       "</script>"
      ],
      "text/plain": [
       "<IPython.core.display.HTML object>"
      ]
     },
     "execution_count": 170,
     "metadata": {},
     "output_type": "execute_result"
    }
   ],
   "source": [
    "\n",
    "# Display the LDA visualization for high-rating reviews\n",
    "display(Markdown(\"### High Rating Reviews LDA Visualization\" ))\n",
    "vis_data = gensimvis.prepare(high_lda, high_corpus, high_dictionary)\n",
    "pyLDAvis.display(vis_data)"
   ]
  },
  {
   "cell_type": "markdown",
   "id": "92ef0d29",
   "metadata": {},
   "source": [
    "\n",
    "### Example Walkthrough:\n",
    "\n",
    "1. **Selecting a Topic**:\n",
    "   - Select a topic from the dropdown or navigate using the buttons.\n",
    "   - Observe how the topic circle is highlighted in the Intertopic Distance Map.\n",
    "\n",
    "2. **Adjusting the Relevance Metric Slider**:\n",
    "   - Move the slider to λ = 1 to see the most specific terms for the topic.\n",
    "   - Move the slider to λ = 0 to see common terms that are less specific to the topic.\n",
    "   - Adjust the slider to intermediate values to balance specificity and generality.\n",
    "\n",
    "3. **Interpreting the Bar Chart**:\n",
    "   - Look at the top words and their frequencies in the bar chart.\n",
    "   - Use this information to understand what the topic is about and how it differs from other topics.\n",
    "\n",
    "By interacting with these components, you can gain a deeper understanding of the topics in your LDA model and how they relate to each other within your dataset."
   ]
  },
  {
   "cell_type": "markdown",
   "id": "a5fd49c2",
   "metadata": {},
   "source": [
    "### PyLDA Vis + Labels (HTML for Streamlit) -`WIP`"
   ]
  },
  {
   "cell_type": "code",
   "execution_count": 165,
   "id": "135be743",
   "metadata": {},
   "outputs": [
    {
     "data": {
      "text/markdown": [
       "## High Rating Reviews Topics"
      ],
      "text/plain": [
       "<IPython.core.display.Markdown object>"
      ]
     },
     "metadata": {},
     "output_type": "display_data"
    },
    {
     "data": {
      "text/html": [
       "\n",
       "<link rel=\"stylesheet\" type=\"text/css\" href=\"https://cdn.jsdelivr.net/gh/bmabey/pyLDAvis@3.4.0/pyLDAvis/js/ldavis.v1.0.0.css\">\n",
       "\n",
       "\n",
       "<div id=\"ldavis_el19110138187466246646822095\" style=\"background-color:white;\"></div>\n",
       "<script type=\"text/javascript\">\n",
       "\n",
       "var ldavis_el19110138187466246646822095_data = {\"mdsDat\": {\"x\": [0.061041198688246104, 0.0857537091260048, 0.05809837216676542, -0.1392033532998386, -0.06568992668117783], \"y\": [0.041737484571714646, -0.0010500043387180137, 0.01364504708766959, 0.09276562657392493, -0.14709815389459113], \"topics\": [1, 2, 3, 4, 5], \"cluster\": [1, 1, 1, 1, 1], \"Freq\": [33.42341783179808, 30.34277357446215, 22.521852667718058, 10.601080278067542, 3.1108756479541624]}, \"tinfo\": {\"Term\": [\"star\", \"great\", \"good\", \"love\", \"product\", \"calorie\", \"carb\", \"soup\", \"taste\", \"pasta\", \"sauce\", \"diet\", \"stir\", \"food\", \"substitute\", \"easy\", \"cook\", \"rice\", \"add\", \"chicken\", \"awesome\", \"smell\", \"water\", \"noodle\", \"alternative\", \"replacement\", \"excellent\", \"say\", \"minute\", \"throw\", \"fried\", \"online\", \"firm\", \"future\", \"Tasty\", \"dukan\", \"tiny\", \"forever\", \"daily\", \"whatsoever\", \"NOODLE\", \"daughter\", \"child\", \"mesh\", \"nasty\", \"game\", \"opening\", \"unusual\", \"mush\", \"afraid\", \"fettucine\", \"cube\", \"monthly\", \"splurge\", \"packing\", \"korean\", \"substance\", \"hair\", \"wide\", \"teenage\", \"angel\", \"family\", \"prefer\", \"picky\", \"size\", \"fettuccini\", \"love\", \"understand\", \"turn\", \"noodle\", \"get\", \"like\", \"Noodles\", \"rice\", \"texture\", \"miracle\", \"raman\", \"version\", \"find\", \"follow\", \"carb\", \"Miracle\", \"smell\", \"package\", \"free\", \"cook\", \"favorite\", \"instruction\", \"try\", \"definitely\", \"little\", \"taste\", \"eat\", \"diet\", \"rinse\", \"product\", \"flavor\", \"order\", \"pasta\", \"good\", \"fishy\", \"great\", \"go\", \"calorie\", \"sauce\", \"turkey\", \"ginger\", \"lean\", \"sense\", \"min\", \"Euro\", \"cheesy\", \"refrigerate\", \"trouble\", \"answer\", \"Boil\", \"ocean\", \"conventional\", \"konnyaku\", \"oil\", \"overall\", \"wrap\", \"bubble\", \"baggie\", \"Japanese\", \"generally\", \"fruit\", \"repeat\", \"starve\", \"grow\", \"fork\", \"Cheese\", \"clump\", \"honest\", \"entire\", \"contain\", \"tend\", \"wheat\", \"water\", \"heat\", \"stick\", \"boil\", \"asian\", \"gelatinous\", \"italian\", \"minute\", \"sauce\", \"dish\", \"olive\", \"pasta\", \"rinse\", \"place\", \"microwave\", \"vegetable\", \"packet\", \"add\", \"calorie\", \"noodle\", \"open\", \"colander\", \"smell\", \"salt\", \"recommend\", \"fish\", \"regular\", \"meal\", \"like\", \"shirataki\", \"flavor\", \"go\", \"cook\", \"prepare\", \"time\", \"taste\", \"good\", \"spaghetti\", \"texture\", \"try\", \"carb\", \"free\", \"great\", \"rice\", \"package\", \"love\", \"squeak\", \"void\", \"noddle\", \"fully\", \"bunch\", \"concern\", \"promise\", \"cauliflower\", \"Parmesan\", \"topping\", \"load\", \"stew\", \"Cincinnati\", \"con\", \"pro\", \"soupy\", \"individual\", \"upset\", \"smelling\", \"grandmother\", \"Watchers\", \"kinda\", \"lifesaver\", \"sausage\", \"Weight\", \"trade\", \"crush\", \"kimchi\", \"compromise\", \"fettachini\", \"taco\", \"fettucini\", \"lunch\", \"batch\", \"Keto\", \"pretty\", \"lose\", \"fry\", \"funky\", \"sauce\", \"cheese\", \"sort\", \"tapioca\", \"real\", \"pudding\", \"taste\", \"stir\", \"great\", \"noodle\", \"rinse\", \"fill\", \"smell\", \"good\", \"carb\", \"pasta\", \"rice\", \"diet\", \"weight\", \"flavor\", \"follow\", \"chicken\", \"drain\", \"like\", \"come\", \"want\", \"cook\", \"direction\", \"texture\", \"minute\", \"package\", \"little\", \"calorie\", \"water\", \"fishy\", \"love\", \"substitute\", \"star\", \"watcher\", \"jicama\", \"Taste\", \"Spiralizer\", \"daikon\", \"gift\", \"creation\", \"favs\", \"solve\", \"spagetti\", \"throughly\", \"classic\", \"dupe\", \"radish\", \"speck\", \"j&iacute;cama\", \"amazon\", \"Fried\", \"oyster\", \"Diabetes\", \"ratio\", \"fan\", \"tabouleh\", \"insert\", \"justify\", \"award\", \"SUBSTITUTE\", \"Love\", \"send\", \"thank\", \"item\", \"helpful\", \"product\", \"great\", \"delivery\", \"snack\", \"convenient\", \"excellent\", \"Amazon\", \"replacement\", \"good\", \"fast\", \"easy\", \"awesome\", \"substitute\", \"alternative\", \"carb\", \"love\", \"taste\", \"stuff\", \"price\", \"pasta\", \"wonderful\", \"filling\", \"rice\", \"diet\", \"cheap\", \"calorie\", \"prepare\", \"nice\", \"healthy\", \"time\", \"work\", \"like\", \"flavor\", \"noodle\", \"cook\", \"service\", \"dice\", \"Balsamic\", \"Whisked\", \"granddaughter\", \"nutritionist\", \"lucky\", \"Slimy\", \"SMELLS\", \"pallet\", \"textually\", \"doodle\", \"sooooooooooooooooooooooooooo\", \"Dairy\", \"highlight\", \"craze\", \"energy\", \"Persian\", \"endure\", \"Amino\", \"wife\", \"Olive\", \"bag)before\", \"thyme\", \"gummie\", \"salsa\", \"marjoram\", \"restrictive\", \"shed\", \"biased\", \"Excellent\", \"freeze\", \"suck\", \"volume\", \"auto\", \"ferment\", \"KETO\", \"Style\", \"dress\", \"mushroom\", \"dieting\", \"soup\", \"calorie\", \"easily\", \"food\", \"vinegar\", \"love\", \"stir\", \"dinner\", \"good\", \"yummy\", \"great\", \"highly\", \"throw\", \"diet\", \"cook\", \"cabbage\", \"add\", \"pasta\", \"chicken\", \"carb\", \"purchase\", \"say\", \"like\", \"taste\", \"texture\", \"enjoy\", \"smell\", \"want\", \"sauce\", \"flavor\"], \"Freq\": [376.0, 767.0, 630.0, 693.0, 372.0, 407.0, 664.0, 150.0, 587.0, 846.0, 591.0, 319.0, 154.0, 155.0, 218.0, 127.0, 373.0, 603.0, 150.0, 126.0, 104.0, 514.0, 311.0, 1706.0, 129.0, 79.0, 70.0, 79.0, 272.0, 48.0, 10.443600874869022, 10.43608761932126, 9.528266469889076, 9.473636841588837, 9.464063610409594, 7.685401473089391, 7.610524272328149, 6.756142095563948, 6.740623726726132, 6.737847386856749, 5.819800909134026, 13.680359865103243, 4.877319212980647, 4.868022758893321, 5.675835690376219, 4.847621802223485, 4.798517004573816, 4.737330415569714, 3.9347436868224235, 3.9330954492487327, 3.92943479371725, 3.9249656577330625, 3.909065113715695, 3.906192801603914, 3.8927961048391193, 4.66471156163741, 3.8695858178415756, 108.77836711445927, 3.002285305958285, 3.0021413475946876, 101.85706150265025, 22.776334793219007, 20.99410968639976, 16.144352930230422, 17.62552510917611, 17.11978395374723, 400.09986042233874, 8.199674732246496, 28.38411116807187, 827.9434315184952, 33.181539059073465, 412.0695733355515, 62.984155959384935, 300.11743158561706, 198.46130168274826, 79.82295889424023, 39.750794492704465, 20.893712438110754, 90.26700107004528, 95.68581324098577, 251.937994869574, 81.42712121560953, 195.67208782256355, 103.09036651391153, 92.09537511513783, 148.9681694921149, 52.521337499870654, 54.73176333163098, 92.16992498200088, 42.996973329909096, 85.81852996619439, 177.7129392057499, 73.52160654768434, 113.05171629657372, 166.8761786140505, 121.29269508264244, 111.13971615255129, 59.51881079634316, 188.94472154716124, 154.73741745101307, 70.30223138674955, 153.1315687602416, 70.72406366789149, 92.49799923747972, 92.21343468360823, 14.13843824421855, 8.691058695807252, 6.834099817278388, 6.8151933758236325, 18.753195349554495, 5.885881567716352, 5.836272773639987, 5.829090286232491, 4.936198893531266, 4.934306226807294, 4.93426188566333, 4.932470347864189, 4.932932818216594, 4.931506122461656, 4.922712184532702, 6.443096498137338, 5.615462822715433, 3.987904797275606, 3.987701372553732, 3.9852027101955736, 3.9819024066294197, 3.980863501405472, 3.9772150809634543, 3.9752924645194354, 3.97454916692192, 3.951029301707806, 7.7342787158859725, 3.9247038867444086, 3.906499513402429, 9.43472969242994, 8.55054005475311, 7.695740816376895, 34.21460996757407, 195.9189890825444, 43.315301486306055, 27.027063002178032, 124.42253196889921, 84.48680045585998, 6.8227298144680395, 31.65981327698602, 150.84568414857247, 280.9498444840455, 137.28681577256643, 21.082770145393493, 353.508510037579, 242.7585838127, 25.726594815385397, 35.968176189184256, 29.989642634281193, 17.389694281828845, 76.06464045952194, 170.36203570482036, 505.25384954809437, 78.49338383488087, 29.700815313301614, 181.39563081297086, 23.414019013895864, 53.970858003478966, 40.121046378219944, 67.98021373221226, 65.72856733001923, 210.0661477517427, 28.93540004201042, 110.75107131547401, 71.52907352564795, 110.42220627523861, 63.77691599376647, 71.1414728058701, 129.544024334954, 129.4556158730362, 58.053417140652954, 95.5365886386205, 68.19691590400163, 122.4884490606342, 63.98601327040846, 99.86487550484027, 90.9502892127323, 66.36010346312892, 82.43182958668034, 8.499433546289875, 7.576127596489027, 6.6228935676979725, 6.604612911330673, 5.746986830821687, 5.736610277581739, 5.731500816804915, 5.718376391055429, 5.664416697472456, 4.809623368073323, 11.279499873781862, 4.790505762514476, 3.8913954104525827, 3.889237068901699, 3.889045947699628, 3.888726931191639, 3.885999556575374, 3.8835112278130595, 3.882856161336474, 3.877568282277354, 4.648027504694845, 3.8645500991296236, 5.248671497233905, 5.280095633730354, 6.579643012890878, 2.96600589310589, 2.964852814433575, 2.9638172377691796, 2.963838313067898, 2.962500753356121, 4.345982963633536, 12.92977429052827, 12.628327075399113, 5.742252683583673, 21.44111278226922, 59.34005451729942, 43.16549143703672, 47.308403215523256, 9.724655564440672, 207.59287027771805, 35.62838028123156, 17.260040277967303, 11.639970628240714, 42.0659267013015, 8.256953862162314, 164.68344198788662, 59.19440052953601, 189.77729782846856, 342.01392938086644, 145.24492603119236, 44.558913970740896, 131.64767451145812, 151.4410592349904, 155.89220851663134, 182.65102450403063, 142.17018199000046, 89.83484540299986, 39.215497746364186, 95.32199862906482, 62.27153733888918, 46.17688717212092, 48.309093042972414, 150.14159211518665, 36.76544865538651, 43.86262767429583, 82.63928342524305, 38.619654591391956, 83.21893382193466, 65.36553900646017, 58.133198611521685, 54.92997493010236, 73.50241967425896, 57.36942978598758, 47.547144199398815, 65.46949970189982, 45.63883768288198, 366.7575156177727, 5.334613728013232, 4.473377283550012, 6.595579522162129, 3.6135522231435884, 3.61330571335358, 3.576942665575611, 2.746697421040835, 2.7409279504539525, 2.7164446633389105, 2.686721344524458, 1.8937346822308025, 1.8931011493526215, 1.892744973961435, 1.8925278170460913, 1.8923275108550919, 1.8922685333198859, 1.8914405376470511, 1.8912657793284453, 1.8899552278318397, 1.8895817940374937, 1.8892629892043293, 1.8886497043739496, 1.8873333094809985, 1.8798843380701273, 1.8791202120782762, 1.8756542626878854, 1.8755793856789025, 4.351388638944454, 4.7442518620314695, 23.666677096146493, 19.145071137021166, 5.33105550731776, 165.1221046936256, 306.74322818144367, 9.163244519902863, 4.9487919334152375, 4.433479116876076, 31.113931907421556, 13.214423915354837, 33.32984564447377, 177.05299154135784, 18.20183281682207, 45.77642118861242, 37.72326651279464, 62.8118251234327, 38.2903857941877, 123.90345872858651, 125.11284065051439, 107.89955829522573, 26.329169816922214, 19.96255304500843, 108.77725708201598, 20.082580210943103, 10.450997530042109, 68.90249008490565, 45.69672487246711, 8.534285254452215, 50.330782781576595, 29.336426183500983, 19.544076720917655, 20.521825324574447, 31.573017390039254, 24.021953419653546, 47.63225342786061, 29.731428905008006, 29.86143169975467, 20.060615563545824, 3.5622568817839095, 2.8746158399396773, 2.1900386767103712, 2.1892384122887196, 1.510302658626994, 1.5103013825426064, 1.510261185884393, 1.5101887680953896, 1.5102005718759761, 1.5101348535300083, 1.5100314906946026, 1.5092141586442651, 1.5085772330242422, 1.5084676492774465, 1.5083992192521547, 1.5083138811087258, 1.5071075028306808, 1.5063053242824476, 1.5041125327726919, 1.489345684237946, 7.33454832119653, 2.1924909918824804, 0.8236785762845038, 0.8236753860735344, 0.823674508765518, 0.8236744290102437, 0.823674189744421, 0.8236695639385154, 0.8236654964195296, 0.8236645393562388, 2.880551546469177, 3.1666477520703893, 2.6517572722565315, 2.88069574400499, 2.4922333249049196, 1.511543969715153, 1.511300078086549, 1.5060509049576452, 2.47064660287053, 4.635447361092134, 4.580267239019256, 18.01360663152995, 20.32418200635708, 4.76324466035395, 11.72433284855469, 4.070686227321622, 20.851759955195888, 10.025222020004392, 5.318547137621553, 17.32987168399654, 5.2194269637839685, 17.989237247977577, 4.588785421328413, 5.3180472315626615, 10.979832038562238, 11.55036043572307, 2.7334949435856317, 7.682747087652928, 12.848851589211447, 6.719386958448458, 10.274823488201077, 4.563672399599095, 5.044332234733345, 8.265340862699693, 7.341963647573595, 6.613048932292807, 5.117206542926408, 5.847725615303663, 4.71406277294557, 5.285399888587123, 4.714159117316843], \"Total\": [376.0, 767.0, 630.0, 693.0, 372.0, 407.0, 664.0, 150.0, 587.0, 846.0, 591.0, 319.0, 154.0, 155.0, 218.0, 127.0, 373.0, 603.0, 150.0, 126.0, 104.0, 514.0, 311.0, 1706.0, 129.0, 79.0, 70.0, 79.0, 272.0, 48.0, 11.195366091222235, 11.197492313685652, 10.258844568375382, 10.25706847903311, 10.259497569205879, 8.38148528239495, 8.381135883885925, 7.443792202882719, 7.4418805402846315, 7.443218454872537, 6.5052402451714615, 15.485916369140032, 5.565922054498008, 5.56459034976344, 6.496517065697424, 5.564620308484918, 5.562563368869215, 5.563869326933922, 4.62704375810818, 4.626831949206893, 4.626053011366933, 4.625010891607015, 4.626107310638434, 4.624733685622706, 4.625471687610712, 5.5459548671114565, 4.620264111352589, 133.20674622263738, 3.688029713755635, 3.6880913438823235, 125.7185471146586, 28.09568459761685, 26.181345839390676, 20.3273692294448, 22.854488288977524, 22.448679288776184, 693.9657903166292, 10.270381043052646, 40.372373474705704, 1706.7419852767166, 48.672288070207216, 828.1749074930411, 101.61282795423446, 603.8439041193062, 391.4180477767062, 140.62194188117684, 63.13703198441334, 30.012114252158526, 171.90231488564748, 191.8400996665736, 664.496934663627, 166.52796219082825, 514.8815957197738, 228.82397467193138, 200.96234961880702, 373.6406351918654, 98.53105860080468, 104.2233058959137, 209.74356398796036, 76.81949813805556, 206.13579512453373, 587.1819274713898, 170.18364626395464, 319.19450170778765, 561.6135602808005, 372.94823034476605, 351.65837411941493, 129.36535245719435, 846.7303647599982, 630.0169557843941, 175.63628797632526, 767.5062075229717, 190.08457438562365, 407.0174194044927, 591.0180150488936, 15.117990419061039, 9.424024502295405, 7.524233106563265, 7.5191805067047515, 20.7801409441606, 6.573837367524453, 6.571080464843663, 6.571596558085233, 5.622929350218313, 5.622801689917947, 5.6230741482815825, 5.622775276024478, 5.623427421792101, 5.623075119418129, 5.622169119236768, 7.517781738693165, 6.568908475732082, 4.673118785388655, 4.6731353322720475, 4.67295669314563, 4.672062591288612, 4.672029485268742, 4.6720599576776625, 4.6717874632288705, 4.672041694139792, 4.669916070704443, 9.159347246923408, 4.671696405268374, 4.664335024955603, 11.297226628287756, 10.35873832102446, 9.398044016789463, 46.26551823078963, 311.96433440160746, 62.34182717552425, 37.65448505805274, 206.56728510033852, 137.70377493101944, 8.449488994407515, 47.076408081470206, 272.2996899019081, 591.0180150488936, 264.7344873745211, 30.516025728713544, 846.7303647599982, 561.6135602808005, 39.499809789144734, 59.2207599273211, 48.33000792613616, 25.304315436974925, 150.4489017985548, 407.0174194044927, 1706.7419852767166, 173.14115076020923, 50.88798341010195, 514.8815957197738, 37.660201772291444, 111.30997322191794, 76.26719312430342, 154.58549678914625, 155.3186948728084, 828.1749074930411, 50.81844208142494, 351.65837411941493, 190.08457438562365, 373.6406351918654, 162.24558518482476, 198.95178180541754, 587.1819274713898, 630.0169557843941, 153.22641552655568, 391.4180477767062, 209.74356398796036, 664.496934663627, 200.96234961880702, 767.5062075229717, 603.8439041193062, 228.82397467193138, 693.9657903166292, 9.22200081410904, 8.29208569646812, 7.363709899489768, 7.367112976372361, 6.4391641770951376, 6.438563264727348, 6.438578565650289, 6.434810044770313, 6.439680160248185, 5.510572818934178, 12.927543755117973, 5.508477457487555, 4.583361895175946, 4.582649048479162, 4.58267763796624, 4.582698485639204, 4.5819067874771315, 4.582404763585041, 4.582989148890094, 4.582249310048309, 5.510448179972196, 4.581700014147939, 6.3089203315492135, 6.448264552640294, 8.052972955759964, 3.655359619385302, 3.655032875487425, 3.654662480998815, 3.655021248000591, 3.654629208210478, 5.387865820177204, 16.694574366904426, 16.411574917306314, 7.386933756645331, 31.348754532170837, 97.83038259146552, 73.3341858496637, 87.40245006515107, 13.697941219492678, 591.0180150488936, 70.17580135650198, 28.865736624674547, 18.36267495200239, 95.58399110404295, 11.917053077227097, 587.1819274713898, 154.79769836283367, 767.5062075229717, 1706.7419852767166, 561.6135602808005, 114.76600144930832, 514.8815957197738, 630.0169557843941, 664.496934663627, 846.7303647599982, 603.8439041193062, 319.19450170778765, 98.27725664562217, 351.65837411941493, 191.8400996665736, 126.01573432964759, 135.19921477529647, 828.1749074930411, 94.65279554629039, 128.23510151672136, 373.6406351918654, 106.09772607258837, 391.4180477767062, 272.2996899019081, 228.82397467193138, 206.13579512453373, 407.0174194044927, 311.96433440160746, 175.63628797632526, 693.9657903166292, 218.55951199936953, 376.1926153112489, 6.0400699735573955, 5.179552201046555, 7.6744779150165625, 4.318075899159346, 4.3180919714881885, 4.320057896161073, 3.4565798198952202, 3.4570396558805774, 3.456182290241156, 3.462108317466987, 2.5949622285648406, 2.5948967407586556, 2.5950180806255, 2.5952333103486547, 2.5952325252499304, 2.595244656938015, 2.5947958662817454, 2.5948318696049637, 2.594757076491234, 2.594679556070315, 2.5945732964173986, 2.5947339721646143, 2.5943287395339834, 2.595128007739617, 2.5950493942224067, 2.594272309873695, 2.596557758777134, 6.127056372159379, 7.033260595570487, 35.42811592200089, 28.85473389916809, 7.938915382196825, 372.94823034476605, 767.5062075229717, 16.22527722856948, 7.939763467393728, 7.035619799863129, 70.25414398969437, 25.97543301035128, 79.59011105041566, 630.0169557843941, 40.16451740571476, 127.37746145600283, 104.33254866624242, 218.55951199936953, 129.99273078486408, 664.496934663627, 693.9657903166292, 587.1819274713898, 83.0652503360085, 58.143359883629174, 846.7303647599982, 73.53053181470901, 25.27342852852647, 603.8439041193062, 319.19450170778765, 18.8900481705086, 407.0174194044927, 162.24558518482476, 79.78372683042583, 87.66197510999203, 198.95178180541754, 130.81350214577205, 828.1749074930411, 351.65837411941493, 1706.7419852767166, 373.6406351918654, 4.307551658647249, 3.622584444804991, 2.9352142171392686, 2.935527323669776, 2.246055164640196, 2.2460533799371425, 2.2460288711895453, 2.245987101250976, 2.2460969286177472, 2.2461208804540975, 2.246067582921592, 2.246247096237032, 2.2466806417975302, 2.2466395208138055, 2.2467405598861117, 2.246676515422491, 2.246867334263451, 2.247538479355008, 2.247823753697144, 2.2528134515257445, 12.29251030135666, 3.8815705348512752, 1.5594256180226767, 1.5594231830767764, 1.5594224307002351, 1.559423139567612, 1.5594228498935894, 1.5594196230628996, 1.5594155550205742, 1.5594155873979996, 5.495438465890974, 6.301899534072307, 5.544594644945503, 6.4223978555145775, 5.525085135636045, 3.1692232813686423, 3.1703275000595346, 3.173922851485305, 6.581147650320577, 17.04914054813781, 17.62402303924575, 150.4513870133081, 407.0174194044927, 22.72527687776941, 155.38674564700008, 19.289894679254385, 693.9657903166292, 154.79769836283367, 39.21070094172777, 630.0169557843941, 38.6702891147548, 767.5062075229717, 32.89010674268857, 48.88289061826745, 319.19450170778765, 373.6406351918654, 10.164128234436856, 150.4489017985548, 846.7303647599982, 126.01573432964759, 664.496934663627, 45.301859130276775, 79.01181193237339, 828.1749074930411, 587.1819274713898, 391.4180477767062, 104.63451005537588, 514.8815957197738, 128.23510151672136, 591.0180150488936, 351.65837411941493], \"Category\": [\"Default\", \"Default\", \"Default\", \"Default\", \"Default\", \"Default\", \"Default\", \"Default\", \"Default\", \"Default\", \"Default\", \"Default\", \"Default\", \"Default\", \"Default\", \"Default\", \"Default\", \"Default\", \"Default\", \"Default\", \"Default\", \"Default\", \"Default\", \"Default\", \"Default\", \"Default\", \"Default\", \"Default\", \"Default\", \"Default\", \"Topic1\", \"Topic1\", \"Topic1\", \"Topic1\", \"Topic1\", \"Topic1\", \"Topic1\", \"Topic1\", \"Topic1\", \"Topic1\", \"Topic1\", \"Topic1\", \"Topic1\", \"Topic1\", \"Topic1\", \"Topic1\", \"Topic1\", \"Topic1\", \"Topic1\", \"Topic1\", \"Topic1\", \"Topic1\", \"Topic1\", \"Topic1\", \"Topic1\", \"Topic1\", \"Topic1\", \"Topic1\", \"Topic1\", \"Topic1\", \"Topic1\", \"Topic1\", \"Topic1\", \"Topic1\", \"Topic1\", \"Topic1\", \"Topic1\", \"Topic1\", \"Topic1\", \"Topic1\", \"Topic1\", \"Topic1\", \"Topic1\", \"Topic1\", \"Topic1\", \"Topic1\", \"Topic1\", \"Topic1\", \"Topic1\", \"Topic1\", \"Topic1\", \"Topic1\", \"Topic1\", \"Topic1\", \"Topic1\", \"Topic1\", \"Topic1\", \"Topic1\", \"Topic1\", \"Topic1\", \"Topic1\", \"Topic1\", \"Topic1\", \"Topic1\", \"Topic1\", \"Topic1\", \"Topic1\", \"Topic1\", \"Topic1\", \"Topic1\", \"Topic1\", \"Topic1\", \"Topic1\", \"Topic1\", \"Topic1\", \"Topic2\", \"Topic2\", \"Topic2\", \"Topic2\", \"Topic2\", \"Topic2\", \"Topic2\", \"Topic2\", \"Topic2\", \"Topic2\", \"Topic2\", \"Topic2\", \"Topic2\", \"Topic2\", \"Topic2\", \"Topic2\", \"Topic2\", \"Topic2\", \"Topic2\", \"Topic2\", \"Topic2\", \"Topic2\", \"Topic2\", \"Topic2\", \"Topic2\", \"Topic2\", \"Topic2\", \"Topic2\", \"Topic2\", \"Topic2\", \"Topic2\", \"Topic2\", \"Topic2\", \"Topic2\", \"Topic2\", \"Topic2\", \"Topic2\", \"Topic2\", \"Topic2\", \"Topic2\", \"Topic2\", \"Topic2\", \"Topic2\", \"Topic2\", \"Topic2\", \"Topic2\", \"Topic2\", \"Topic2\", \"Topic2\", \"Topic2\", \"Topic2\", \"Topic2\", \"Topic2\", \"Topic2\", \"Topic2\", \"Topic2\", \"Topic2\", \"Topic2\", \"Topic2\", \"Topic2\", \"Topic2\", \"Topic2\", \"Topic2\", \"Topic2\", \"Topic2\", \"Topic2\", \"Topic2\", \"Topic2\", \"Topic2\", \"Topic2\", \"Topic2\", \"Topic2\", \"Topic2\", \"Topic2\", \"Topic2\", \"Topic2\", \"Topic2\", \"Topic2\", \"Topic2\", \"Topic3\", \"Topic3\", \"Topic3\", \"Topic3\", \"Topic3\", \"Topic3\", \"Topic3\", \"Topic3\", \"Topic3\", \"Topic3\", \"Topic3\", \"Topic3\", \"Topic3\", \"Topic3\", \"Topic3\", \"Topic3\", \"Topic3\", \"Topic3\", \"Topic3\", \"Topic3\", \"Topic3\", \"Topic3\", \"Topic3\", \"Topic3\", \"Topic3\", \"Topic3\", \"Topic3\", \"Topic3\", \"Topic3\", \"Topic3\", \"Topic3\", \"Topic3\", \"Topic3\", \"Topic3\", \"Topic3\", \"Topic3\", \"Topic3\", \"Topic3\", \"Topic3\", \"Topic3\", \"Topic3\", \"Topic3\", \"Topic3\", \"Topic3\", \"Topic3\", \"Topic3\", \"Topic3\", \"Topic3\", \"Topic3\", \"Topic3\", \"Topic3\", \"Topic3\", \"Topic3\", \"Topic3\", \"Topic3\", \"Topic3\", \"Topic3\", \"Topic3\", \"Topic3\", \"Topic3\", \"Topic3\", \"Topic3\", \"Topic3\", \"Topic3\", \"Topic3\", \"Topic3\", \"Topic3\", \"Topic3\", \"Topic3\", \"Topic3\", \"Topic3\", \"Topic3\", \"Topic3\", \"Topic3\", \"Topic3\", \"Topic3\", \"Topic4\", \"Topic4\", \"Topic4\", \"Topic4\", \"Topic4\", \"Topic4\", \"Topic4\", \"Topic4\", \"Topic4\", \"Topic4\", \"Topic4\", \"Topic4\", \"Topic4\", \"Topic4\", \"Topic4\", \"Topic4\", \"Topic4\", \"Topic4\", \"Topic4\", \"Topic4\", \"Topic4\", \"Topic4\", \"Topic4\", \"Topic4\", \"Topic4\", \"Topic4\", \"Topic4\", \"Topic4\", \"Topic4\", \"Topic4\", \"Topic4\", \"Topic4\", \"Topic4\", \"Topic4\", \"Topic4\", \"Topic4\", \"Topic4\", \"Topic4\", \"Topic4\", \"Topic4\", \"Topic4\", \"Topic4\", \"Topic4\", \"Topic4\", \"Topic4\", \"Topic4\", \"Topic4\", \"Topic4\", \"Topic4\", \"Topic4\", \"Topic4\", \"Topic4\", \"Topic4\", \"Topic4\", \"Topic4\", \"Topic4\", \"Topic4\", \"Topic4\", \"Topic4\", \"Topic4\", \"Topic4\", \"Topic4\", \"Topic4\", \"Topic4\", \"Topic4\", \"Topic4\", \"Topic4\", \"Topic4\", \"Topic5\", \"Topic5\", \"Topic5\", \"Topic5\", \"Topic5\", \"Topic5\", \"Topic5\", \"Topic5\", \"Topic5\", \"Topic5\", \"Topic5\", \"Topic5\", \"Topic5\", \"Topic5\", \"Topic5\", \"Topic5\", \"Topic5\", \"Topic5\", \"Topic5\", \"Topic5\", \"Topic5\", \"Topic5\", \"Topic5\", \"Topic5\", \"Topic5\", \"Topic5\", \"Topic5\", \"Topic5\", \"Topic5\", \"Topic5\", \"Topic5\", \"Topic5\", \"Topic5\", \"Topic5\", \"Topic5\", \"Topic5\", \"Topic5\", \"Topic5\", \"Topic5\", \"Topic5\", \"Topic5\", \"Topic5\", \"Topic5\", \"Topic5\", \"Topic5\", \"Topic5\", \"Topic5\", \"Topic5\", \"Topic5\", \"Topic5\", \"Topic5\", \"Topic5\", \"Topic5\", \"Topic5\", \"Topic5\", \"Topic5\", \"Topic5\", \"Topic5\", \"Topic5\", \"Topic5\", \"Topic5\", \"Topic5\", \"Topic5\", \"Topic5\", \"Topic5\", \"Topic5\", \"Topic5\", \"Topic5\", \"Topic5\", \"Topic5\", \"Topic5\"], \"logprob\": [30.0, 29.0, 28.0, 27.0, 26.0, 25.0, 24.0, 23.0, 22.0, 21.0, 20.0, 19.0, 18.0, 17.0, 16.0, 15.0, 14.0, 13.0, 12.0, 11.0, 10.0, 9.0, 8.0, 7.0, 6.0, 5.0, 4.0, 3.0, 2.0, 1.0, -7.2511, -7.2518, -7.3428, -7.3485, -7.3496, -7.5577, -7.5675, -7.6866, -7.6889, -7.6893, -7.8358, -6.9811, -8.0125, -8.0144, -7.8608, -8.0186, -8.0287, -8.0416, -8.2272, -8.2276, -8.2286, -8.2297, -8.2338, -8.2345, -8.2379, -8.057, -8.2439, -4.9077, -8.4977, -8.4977, -4.9735, -6.4713, -6.5528, -6.8155, -6.7277, -6.7568, -3.6053, -7.493, -6.2512, -2.8781, -6.0951, -3.5759, -5.4542, -3.8929, -4.3065, -5.2172, -5.9144, -6.5576, -5.0943, -5.036, -4.0679, -5.1973, -4.3206, -4.9614, -5.0742, -4.5933, -5.6358, -5.5946, -5.0734, -5.8359, -5.1448, -4.4169, -5.2995, -4.8692, -4.4798, -4.7988, -4.8863, -5.5108, -4.3556, -4.5553, -5.3443, -4.5658, -5.3383, -5.0699, -5.0729, -6.8515, -7.3381, -7.5784, -7.5812, -6.569, -7.7278, -7.7363, -7.7375, -7.9038, -7.9041, -7.9042, -7.9045, -7.9044, -7.9047, -7.9065, -7.6373, -7.7748, -8.1171, -8.1171, -8.1178, -8.1186, -8.1189, -8.1198, -8.1203, -8.1204, -8.1264, -7.4547, -8.1331, -8.1377, -7.256, -7.3544, -7.4597, -5.9677, -4.2227, -5.7318, -6.2035, -4.6767, -5.0638, -7.5801, -6.0453, -4.4841, -3.8622, -4.5783, -6.4519, -3.6324, -4.0083, -6.2528, -5.9177, -6.0995, -6.6445, -5.1688, -4.3624, -3.2753, -5.1373, -6.1092, -4.2997, -6.347, -5.5119, -5.8085, -5.2811, -5.3148, -4.1529, -6.1353, -4.7931, -5.2303, -4.796, -5.345, -5.2357, -4.6363, -4.637, -5.439, -4.9408, -5.278, -4.6923, -5.3417, -4.8965, -4.99, -5.3053, -5.0884, -7.0623, -7.1773, -7.3118, -7.3145, -7.4536, -7.4554, -7.4563, -7.4586, -7.4681, -7.6317, -6.7793, -7.6356, -7.8435, -7.8441, -7.8441, -7.8442, -7.8449, -7.8455, -7.8457, -7.8471, -7.6658, -7.8504, -7.5443, -7.5383, -7.3183, -8.1151, -8.1155, -8.1158, -8.1158, -8.1162, -7.733, -6.6428, -6.6663, -7.4544, -6.137, -5.119, -5.4372, -5.3456, -6.9276, -3.8667, -5.6291, -6.3539, -6.7478, -5.463, -7.0912, -4.0983, -5.1215, -3.9564, -3.3674, -4.2239, -5.4055, -4.3222, -4.1821, -4.1531, -3.9947, -4.2453, -4.7043, -5.5332, -4.645, -5.0708, -5.3698, -5.3247, -4.1907, -5.5977, -5.4212, -4.7878, -5.5485, -4.7808, -5.0223, -5.1395, -5.1962, -4.905, -5.1528, -5.3406, -5.0207, -5.3815, -2.5441, -6.7745, -6.9506, -6.5624, -7.1641, -7.1641, -7.1742, -7.4384, -7.4405, -7.4494, -7.4604, -7.8102, -7.8105, -7.8107, -7.8108, -7.8109, -7.811, -7.8114, -7.8115, -7.8122, -7.8124, -7.8126, -7.8129, -7.8136, -7.8175, -7.8179, -7.8198, -7.8198, -6.9783, -6.8918, -5.2847, -5.4967, -6.7752, -3.3421, -2.7227, -6.2336, -6.8496, -6.9596, -5.0111, -5.8674, -4.9423, -3.2723, -5.5472, -4.625, -4.8185, -4.3086, -4.8036, -3.6293, -3.6195, -3.7676, -5.1781, -5.4549, -3.7595, -5.4489, -6.1021, -4.2161, -4.6267, -6.3047, -4.5301, -5.0699, -5.4761, -5.4273, -4.9964, -5.2698, -4.5852, -5.0565, -5.0522, -5.45, -5.9523, -6.1668, -6.4388, -6.4391, -6.8104, -6.8104, -6.8104, -6.8105, -6.8105, -6.8105, -6.8106, -6.8111, -6.8115, -6.8116, -6.8117, -6.8117, -6.8125, -6.813, -6.8145, -6.8244, -5.2301, -6.4377, -7.4167, -7.4167, -7.4167, -7.4167, -7.4167, -7.4167, -7.4167, -7.4167, -6.1647, -6.07, -6.2475, -6.1647, -6.3095, -6.8096, -6.8097, -6.8132, -6.3182, -5.689, -5.7009, -4.3316, -4.2109, -5.6618, -4.761, -5.8189, -4.1853, -4.9176, -5.5515, -4.3703, -5.5703, -4.3329, -5.6991, -5.5516, -4.8266, -4.776, -6.2171, -5.1837, -4.6694, -5.3177, -4.893, -5.7046, -5.6044, -5.1106, -5.2291, -5.3337, -5.5901, -5.4566, -5.6722, -5.5578, -5.6721], \"loglift\": [30.0, 29.0, 28.0, 27.0, 26.0, 25.0, 24.0, 23.0, 22.0, 21.0, 20.0, 19.0, 18.0, 17.0, 16.0, 15.0, 14.0, 13.0, 12.0, 11.0, 10.0, 9.0, 8.0, 7.0, 6.0, 5.0, 4.0, 3.0, 2.0, 1.0, 1.0264, 1.0255, 1.022, 1.0165, 1.0152, 1.0092, 0.9995, 0.999, 0.9969, 0.9964, 0.9846, 0.9719, 0.9638, 0.9622, 0.9609, 0.958, 0.9482, 0.9351, 0.9338, 0.9335, 0.9327, 0.9318, 0.9275, 0.9271, 0.9235, 0.9229, 0.9186, 0.8933, 0.8902, 0.8901, 0.8854, 0.886, 0.8751, 0.8655, 0.8361, 0.8249, 0.5452, 0.8707, 0.7436, 0.3725, 0.7128, 0.3979, 0.6176, 0.3968, 0.4167, 0.5296, 0.6332, 0.7338, 0.4518, 0.4003, 0.1261, 0.3805, 0.1284, 0.2986, 0.3156, 0.1764, 0.4668, 0.4518, 0.2737, 0.5156, 0.2196, -0.0993, 0.2566, 0.058, -0.1176, -0.0273, -0.056, 0.3196, -0.404, -0.3081, 0.1803, -0.5159, 0.1072, -0.3858, -0.7618, 1.1256, 1.1116, 1.0964, 1.0943, 1.09, 1.0821, 1.074, 1.0727, 1.0624, 1.062, 1.0619, 1.0616, 1.0616, 1.0614, 1.0598, 1.0383, 1.0358, 1.0341, 1.034, 1.0334, 1.0328, 1.0325, 1.0316, 1.0312, 1.0309, 1.0254, 1.0235, 1.0184, 1.0153, 1.0125, 1.0008, 0.9928, 0.8909, 0.7274, 0.8285, 0.861, 0.6857, 0.7041, 0.9788, 0.7959, 0.602, 0.4489, 0.536, 0.8228, 0.3191, 0.3539, 0.7638, 0.694, 0.7154, 0.8175, 0.5106, 0.3217, -0.0247, 0.4015, 0.6542, 0.1494, 0.7173, 0.4687, 0.5503, 0.3711, 0.3327, -0.1792, 0.6294, 0.0372, 0.2152, -0.0264, 0.2589, 0.1642, -0.3187, -0.3898, 0.2221, -0.2177, 0.0691, -0.4984, 0.0482, -0.8467, -0.7004, -0.0452, -0.9378, 1.4091, 1.4004, 1.3847, 1.3814, 1.377, 1.3752, 1.3744, 1.3726, 1.3624, 1.3546, 1.3543, 1.351, 1.327, 1.3266, 1.3266, 1.3265, 1.3259, 1.3252, 1.3249, 1.3237, 1.3205, 1.3205, 1.3067, 1.2908, 1.2886, 1.2817, 1.2814, 1.2812, 1.2811, 1.2807, 1.2758, 1.2351, 1.2286, 1.2388, 1.1108, 0.9907, 0.9607, 0.8768, 1.1481, 0.4444, 0.8128, 0.9764, 1.0348, 0.6699, 1.1238, 0.2194, 0.5294, 0.0934, -0.1168, 0.1383, 0.5446, 0.1269, 0.0651, 0.0408, -0.0431, 0.0444, 0.2229, 0.572, 0.1853, 0.3655, 0.4868, 0.4616, -0.217, 0.545, 0.4179, -0.0181, 0.4801, -0.0576, 0.0638, 0.1205, 0.1682, -0.2209, -0.2027, 0.184, -0.8702, -0.0756, 2.2188, 2.12, 2.0976, 2.0927, 2.0661, 2.066, 2.0555, 2.0143, 2.0121, 2.0034, 1.9907, 1.9292, 1.9289, 1.9286, 1.9285, 1.9283, 1.9283, 1.928, 1.9279, 1.9273, 1.9271, 1.927, 1.9266, 1.9261, 1.9218, 1.9214, 1.9199, 1.9189, 1.902, 1.8505, 1.8408, 1.834, 1.846, 1.4295, 1.3271, 1.6728, 1.7715, 1.7824, 1.4298, 1.5684, 1.3738, 0.9749, 1.4528, 1.2208, 1.2269, 0.9973, 1.0219, 0.5647, 0.531, 0.5501, 1.0953, 1.1752, 0.1921, 0.9464, 1.3612, 0.0736, 0.3004, 1.4497, 0.154, 0.5339, 0.8376, 0.7922, 0.4035, 0.5494, -0.6115, -0.2262, -1.8016, -0.6803, 3.2803, 3.239, 3.1774, 3.1769, 3.0734, 3.0734, 3.0734, 3.0734, 3.0733, 3.0733, 3.0732, 3.0726, 3.072, 3.0719, 3.0718, 3.0718, 3.0709, 3.0701, 3.0685, 3.0564, 2.9539, 2.8991, 2.832, 2.832, 2.832, 2.832, 2.832, 2.832, 2.832, 2.832, 2.8243, 2.7821, 2.7327, 2.6685, 2.6741, 2.7299, 2.7294, 2.7248, 2.4905, 2.1679, 2.1228, 1.3478, 0.4732, 1.9077, 0.886, 1.9145, -0.0347, 0.7333, 1.4725, -0.123, 1.4676, -0.2831, 1.5007, 1.2519, 0.1005, -0.0063, 2.157, 0.4956, -0.7179, 0.5389, -0.6991, 1.175, 0.7189, -1.1369, -0.9115, -0.6105, 0.4524, -1.0076, 0.167, -1.2466, -0.8418]}, \"token.table\": {\"Topic\": [1, 2, 3, 4, 5, 5, 2, 2, 5, 3, 5, 4, 2, 1, 5, 4, 2, 3, 5, 1, 3, 5, 1, 4, 1, 2, 3, 4, 1, 1, 2, 3, 4, 5, 2, 5, 3, 5, 5, 4, 5, 4, 3, 5, 4, 1, 3, 3, 5, 5, 1, 2, 3, 4, 5, 1, 1, 2, 3, 4, 4, 1, 2, 3, 4, 2, 1, 2, 3, 4, 5, 1, 4, 5, 4, 1, 2, 3, 4, 5, 2, 2, 3, 5, 1, 2, 3, 4, 2, 3, 1, 2, 3, 4, 5, 1, 2, 3, 4, 5, 1, 2, 3, 4, 5, 3, 1, 4, 1, 2, 3, 4, 5, 2, 1, 2, 3, 5, 1, 4, 2, 1, 2, 3, 1, 2, 3, 4, 3, 3, 3, 1, 2, 3, 4, 2, 1, 2, 3, 4, 5, 5, 4, 3, 1, 4, 1, 1, 5, 1, 2, 3, 4, 1, 2, 3, 4, 5, 5, 1, 2, 3, 4, 5, 1, 2, 3, 4, 5, 1, 2, 3, 5, 1, 2, 3, 4, 1, 2, 3, 4, 5, 5, 1, 2, 3, 2, 3, 5, 1, 4, 1, 2, 3, 5, 1, 2, 3, 4, 1, 2, 3, 4, 5, 5, 5, 1, 2, 3, 4, 5, 2, 3, 1, 2, 3, 4, 5, 1, 2, 4, 4, 1, 2, 3, 4, 5, 1, 2, 3, 4, 3, 5, 3, 1, 2, 3, 1, 1, 2, 3, 1, 2, 3, 4, 1, 2, 3, 4, 1, 2, 3, 4, 1, 1, 2, 3, 1, 2, 3, 1, 2, 3, 4, 5, 1, 2, 3, 4, 5, 1, 2, 3, 4, 5, 1, 2, 1, 2, 3, 4, 5, 3, 5, 1, 2, 1, 2, 3, 5, 3, 1, 2, 3, 5, 1, 1, 2, 3, 2, 1, 2, 5, 4, 2, 1, 2, 3, 4, 5, 1, 2, 3, 4, 5, 5, 3, 1, 2, 3, 4, 5, 2, 5, 1, 2, 3, 4, 1, 2, 3, 4, 1, 2, 3, 2, 4, 5, 1, 2, 3, 4, 5, 2, 3, 4, 1, 2, 3, 4, 5, 1, 2, 3, 4, 1, 2, 3, 4, 5, 4, 4, 4, 3, 3, 2, 1, 2, 3, 5, 1, 2, 3, 4, 5, 1, 2, 3, 4, 5, 1, 3, 1, 2, 3, 4, 1, 2, 3, 4, 5, 5, 3, 4, 5, 1, 2, 3, 4, 1, 1, 2, 3, 4, 1, 2, 1, 2, 3, 1, 2, 3, 1, 1, 1, 2, 3, 5, 1, 1, 2, 3, 4, 5, 3, 1, 2, 3, 4, 5, 5, 2, 2, 1, 2, 3, 5, 1, 1, 2, 3, 1, 1, 2, 3, 4, 5, 1, 2, 4, 1, 2, 3, 5, 1, 2, 3, 5, 1, 5, 1, 2, 3, 4, 5, 1, 2, 3, 5, 1, 2, 3, 4, 1, 2, 4, 1, 2, 3, 4, 1, 2, 3, 4, 5, 1, 2, 3, 4, 3, 1, 2, 3, 4, 5, 3, 1, 3, 4, 1, 2, 3, 4, 5, 4, 1, 2, 3, 4, 5, 4, 1, 2, 3, 4, 1, 2, 3, 4, 5, 2, 1, 2, 3, 4, 2, 1, 2, 3, 4, 5, 1, 2, 3, 4, 5, 1, 2, 3, 4, 5, 5, 1, 2, 3, 1, 2, 3, 4, 5, 2, 3, 1, 2, 3, 5, 2, 3, 4, 2, 5, 5, 1, 2, 4, 1, 3, 5, 1, 2, 3, 5, 3, 1, 3, 4, 4, 5, 1, 2, 3, 1, 2, 3, 4, 5, 3, 4, 1, 2, 3, 4, 4, 1, 3, 1, 3, 4, 2, 3, 1, 2, 3, 4, 1, 2, 3, 4, 5, 1, 2, 3, 4, 5, 1, 1, 2, 3, 4, 5, 1, 3, 5, 4, 3, 1, 3, 5, 1, 2, 3, 4, 5, 1, 2, 3, 5, 1, 2, 3, 4, 5, 1, 2, 3, 4, 4, 1, 2, 3, 5, 5, 1, 2, 3, 4, 5, 1, 3, 3, 2, 1, 2, 3, 4, 2, 1, 2, 3, 1, 2, 1, 3, 1, 2, 3, 4, 5, 1, 2, 3, 1, 2, 5, 3, 2, 3, 5, 1, 2, 3, 4, 5, 4, 1, 2, 3, 5, 1, 2, 3, 4, 5, 1, 1, 2, 3, 1, 1, 3, 5, 1, 2, 3, 4, 5, 1, 2, 3, 4, 5, 2, 1, 2, 3, 4, 5], \"Freq\": [0.3464812308004057, 0.03849791453337841, 0.07699582906675682, 0.5004728889339194, 0.4438893949797477, 0.6813812730674386, 0.8891933252432755, 0.8734246867523415, 0.10917808584404269, 0.8727218342086531, 0.8902184713974653, 0.7708080927839248, 0.9127089193962603, 0.3639382030048335, 0.5459073045072502, 0.7707628472685898, 0.8559891012615773, 0.31542482597814303, 0.6308496519562861, 0.28709274528798223, 0.6698830723386252, 0.031899193920886915, 0.16321051076727186, 0.6528420430690874, 0.4864047991362569, 0.19215992064642248, 0.222184908247426, 0.09007496280301054, 0.9223333457136379, 0.620000459276408, 0.13777787983920178, 0.18698426549605957, 0.03936510852548623, 0.009841277131371557, 0.25762767699861355, 0.5152553539972271, 0.9317232922587821, 0.8898624065266078, 0.8904335224886328, 0.7702505338998942, 0.8904770641318619, 0.9263385112750635, 0.31506751953092643, 0.6301350390618529, 0.9121141630107737, 0.8772359405799471, 0.9073672116494214, 0.8692441957095093, 0.12417774224421561, 0.6813085962012951, 0.305751650228675, 0.5051549003778109, 0.09305485006959674, 0.03988065002982717, 0.05317420003976957, 0.8645224300151335, 0.2230893975755809, 0.29232403820248537, 0.19231844618584562, 0.29232403820248537, 0.7707735417606982, 0.8113361340946244, 0.10340558571794231, 0.07158848242011391, 0.007954275824457102, 0.8892364119768493, 0.19607305619272405, 0.6100050637106971, 0.1670251960160242, 0.0072619650441749645, 0.021785895132524893, 0.18099268616697622, 0.18099268616697622, 0.36198537233395245, 0.7709290934448483, 0.287542098640467, 0.095847366213489, 0.24920315215507138, 0.3642199916112582, 0.6412617494818265, 0.8559563795160253, 0.13537416645985134, 0.8122449987591079, 0.6412658742680482, 0.23236980617082884, 0.6002886659413078, 0.15975424174244482, 0.0048410376285589335, 0.8559594103421292, 0.9317979531167576, 0.1967704414849711, 0.29515566222745665, 0.1967704414849711, 0.09838522074248555, 0.29515566222745665, 0.22603455187398422, 0.4176725415062752, 0.1818104004203786, 0.12284486514890447, 0.04913794605956179, 0.3792342550497455, 0.18359753617487679, 0.23476406264984245, 0.18660733184987477, 0.015048978374989901, 0.9324284568238823, 0.5293792747237213, 0.4764413472513491, 0.09974948436198272, 0.3419982320982265, 0.5129973481473398, 0.014249926337426104, 0.04274977901227831, 0.9130918472389684, 0.3015496453847175, 0.2777430944332924, 0.3650337812551843, 0.055548618886658484, 0.8983237549938976, 0.7707435785731, 0.8562200222362721, 0.23581205612517625, 0.5895301403129406, 0.1768590420938822, 0.2746881362556754, 0.3275127778433053, 0.3909023477484611, 0.010564928317525977, 0.820788662074425, 0.8728575890679376, 0.9318849180018238, 0.0965368531388002, 0.8688316782492018, 0.2842677769539093, 0.5685355539078186, 0.8891374645689969, 0.39877889599317307, 0.29440052724328214, 0.22213857964720377, 0.05352736858968766, 0.032116421153812594, 0.8902038127299768, 0.8679099446026793, 0.8207860509599187, 0.864862828163017, 0.9263350633593473, 0.940622462576142, 0.9040472430742859, 0.0645748030767347, 0.5597537219355805, 0.31242068201055656, 0.07810517050263914, 0.03905258525131957, 0.12326445778555933, 0.12326445778555933, 0.06163222889277967, 0.554690060035017, 0.12326445778555933, 0.828138045008774, 0.3540161230704653, 0.18797316269228245, 0.28195974403842367, 0.14411275806408322, 0.03446174649358512, 0.17022220144171976, 0.17022220144171976, 0.11348146762781318, 0.2837036690695329, 0.2837036690695329, 0.10201296849919932, 0.2805356633727981, 0.4845616003711967, 0.12751621062399915, 0.4524130891095637, 0.1225285449671735, 0.36758563490152046, 0.05655163613869546, 0.2493063924332212, 0.51749963277805, 0.16242689203982594, 0.06043791331714453, 0.007554739164643066, 0.8903739946288406, 0.25148075050959884, 0.3920141110884923, 0.3550316477782572, 0.3038983633656323, 0.3038983633656323, 0.3038983633656323, 0.954484763792851, 0.7707075395474402, 0.3080270501279403, 0.3960347787359232, 0.08800772860798294, 0.22001932151995734, 0.3925341220375191, 0.15701364881500762, 0.0863575068482542, 0.36113139227451757, 0.4348243889734627, 0.3173042838454998, 0.2232881997431295, 0.017628015769194434, 0.01175201051279629, 0.8897494728892636, 0.8901282107319536, 0.49696796948234345, 0.17202737405158042, 0.2389269084049728, 0.04778538168099456, 0.04778538168099456, 0.7966557010960901, 0.08851730012178778, 0.24197860844327904, 0.18504246528015456, 0.12810632211703007, 0.4412551095142147, 0.01423403579078112, 0.818631057737277, 0.14237061873691773, 0.03559265468422943, 0.7707919275946169, 0.17428318456538988, 0.24897597795055698, 0.07469279338516709, 0.44815676031100254, 0.024897597795055695, 0.5379014571915617, 0.2537271024488499, 0.21313076605703388, 0.8677945000997797, 0.31553472608851524, 0.6310694521770305, 0.8208767098068963, 0.7572828575487558, 0.08909210088808892, 0.1336381513321334, 0.8646679988688796, 0.11979940045460698, 0.11979940045460698, 0.7786961029549453, 0.17426763804116605, 0.28754160276792395, 0.3921021855926236, 0.13941411043293284, 0.1978362371514585, 0.15826898972116682, 0.1978362371514585, 0.395672474302917, 0.523553159012836, 0.261776579506418, 0.1454314330591211, 0.06398983054601329, 0.9747686431303079, 0.3015713448705743, 0.5244719041227379, 0.17045336883988982, 0.3985508963240876, 0.3245343012924713, 0.2732920431936601, 0.31564725361070745, 0.31564725361070745, 0.2701485503875424, 0.08531006854343444, 0.014218344757239074, 0.5004167541971265, 0.10425349045773467, 0.32318582041897753, 0.05733941975175407, 0.015638023568660203, 0.3861333201243884, 0.2638577687516654, 0.20593777073300715, 0.07079110868947121, 0.07722666402487768, 0.9403808985007865, 0.856546443113401, 0.45779719521845297, 0.3184676140650108, 0.10947324233484745, 0.08956901645578427, 0.024880282348828966, 0.47604694168480194, 0.47604694168480194, 0.8932267081324419, 0.8561589802916054, 0.16017857611044306, 0.27459184476075954, 0.5377423626564874, 0.022882653730063294, 0.9501686783479828, 0.07300367142596312, 0.14600734285192624, 0.7300367142596311, 0.07300367142596312, 0.8774436885546065, 0.8985339021920352, 0.8284524667270539, 0.11835035238957912, 0.8561529135885894, 0.6780038767111017, 0.2876380083016795, 0.020545572021548535, 0.9259135169356213, 0.9550060059593303, 0.3735179471005503, 0.37877876325689613, 0.22621509472286852, 0.021043264625383116, 0.010521632312691558, 0.24602512452544922, 0.20475639395989, 0.23967608905382473, 0.28094481961938395, 0.02698340075440411, 0.8904500795377337, 0.8729337339259329, 0.199346921888473, 0.1302921058094595, 0.247555001037973, 0.3999967648350406, 0.023452579045702707, 0.8561567429968051, 0.6412630601645027, 0.8182768747899674, 0.09759265479146399, 0.07507127291651076, 0.007507127291651076, 0.25096400089543913, 0.42207581968778396, 0.07985218210309426, 0.23955654630928278, 0.19248713975312015, 0.6897455841153471, 0.11228416485598675, 0.2519235819649923, 0.6298089549124808, 0.8901784370249589, 0.18242567733027476, 0.33444707510550375, 0.30404279555045793, 0.06080855911009159, 0.15202139777522897, 0.8575713319473816, 0.8729989904928777, 0.7706748931209835, 0.5277130630928911, 0.09594782965325294, 0.25905914006378294, 0.09594782965325294, 0.019189565930650587, 0.08496824976700897, 0.6797459981360717, 0.23366268685927466, 0.02124206244175224, 0.0346563584157271, 0.1039690752471813, 0.0693127168314542, 0.6584708098988149, 0.1386254336629084, 0.7706402533777639, 0.7722675329330169, 0.7706982396762008, 0.820869236378869, 0.8730383891674064, 0.8891931716746113, 0.9015580039518406, 0.9303273703593813, 0.7925286320380913, 0.15850572640761829, 0.497479453038683, 0.2535696241216588, 0.18112116008689916, 0.05795877122780773, 0.009659795204634622, 0.417200709600409, 0.28621909147004804, 0.26681440730258715, 0.014553513125595663, 0.014553513125595663, 0.07735421507307629, 0.8508963658038392, 0.10908964089954082, 0.23181548691152423, 0.5863568198350319, 0.068181025562213, 0.5763972887157677, 0.11816144418673237, 0.09366455941631224, 0.1801241527236774, 0.030260857657577803, 0.890460503715946, 0.7921238556021369, 0.18279781283126237, 0.6412628877845654, 0.20602799956698728, 0.42493274910691126, 0.2510966244722658, 0.11589074975643035, 0.898538739731768, 0.06754388165415329, 0.6078949348873797, 0.30394746744368983, 0.016885970413538322, 0.048122868977989716, 0.9143345105818046, 0.20198333688816514, 0.5545360703656897, 0.23870757995874062, 0.5689012605699802, 0.17067037817099406, 0.2560055672564911, 0.8646578497652647, 0.8644828553848485, 0.17596194902198015, 0.23461593202930686, 0.2932699150366336, 0.2932699150366336, 0.9235718061422314, 0.38855041286662517, 0.23814380143438318, 0.07520330571612101, 0.25067768572040333, 0.037601652858060504, 0.9506077908480657, 0.4851348400301731, 0.2958853794870017, 0.20038178175159324, 0.01757734927645555, 0.0011718232850970365, 0.8904507870850209, 0.8892405893082741, 0.8893364631974588, 0.1310786678304661, 0.6881630061099471, 0.09830900087284958, 0.06553933391523305, 0.8930570988450629, 0.30610862736728617, 0.45049948933298717, 0.23680101362374967, 0.8988661644705765, 0.46380270188537054, 0.19325112578557108, 0.3092018012569137, 0.023190135094268528, 0.015460090062845685, 0.13301796124954177, 0.7981077674972505, 0.7707850642822042, 0.45012765881578953, 0.2884313153576904, 0.2534699437991825, 0.004370171444813491, 0.15807580370876814, 0.6718221657622646, 0.11855685278157611, 0.039518950927192036, 0.8647766693100657, 0.8904240272213937, 0.22321155336571774, 0.41807878249451896, 0.21612547230648863, 0.12873047257599596, 0.015353175628329793, 0.7871161201137393, 0.04919475750710871, 0.09838951501421742, 0.04919475750710871, 0.17721604325101656, 0.65823101778949, 0.12658288803644038, 0.025316577607288077, 0.8020978038647969, 0.15278053406948514, 0.038195133517371284, 0.35131926662329516, 0.3944637379629981, 0.07396195086806215, 0.17874138126448352, 0.13288305386975036, 0.18399192074273127, 0.6030846291011747, 0.051108866872980906, 0.02044354674919236, 0.44717058064820486, 0.10319321091881652, 0.08599434243234709, 0.34397736972938836, 0.8728521436596556, 0.3244418129780197, 0.1394295394616283, 0.08312145621750919, 0.44242065406093595, 0.008044011892017018, 0.9318827034292789, 0.1678267258725147, 0.6713069034900588, 0.1678267258725147, 0.286963940323404, 0.22074149255646464, 0.15451904478952525, 0.22074149255646464, 0.11037074627823232, 0.7706436226850493, 0.6335426095080746, 0.1425470871393168, 0.12670852190161494, 0.0950313914262112, 0.015838565237701867, 0.7708396609036295, 0.34524609841913356, 0.13600603877117384, 0.43940412526071543, 0.0732340208767859, 0.3054533121862713, 0.4851317311193721, 0.12577489325317054, 0.05390352567993023, 0.026951762839965115, 0.9130201385564395, 0.4010725539444858, 0.4398860269068554, 0.09056477024552906, 0.06468912160394932, 0.856153396196627, 0.20102999969261182, 0.2512874996157648, 0.1256437498078824, 0.41462437436601185, 0.6412642147184682, 0.49681713759708107, 0.15070119840444793, 0.23516011179595173, 0.11426794164732865, 0.003312114250647207, 0.29735749243038556, 0.4326818602430161, 0.25818464911620304, 0.008902918935041483, 0.0035611675740165934, 0.6412627686653889, 0.15931938007869384, 0.6107242903016598, 0.21242584010492513, 0.15566361372654444, 0.4754508201865107, 0.35193512668610044, 0.008459979006877415, 0.008459979006877415, 0.1550804858945407, 0.7754024294727035, 0.48094074886580745, 0.3037520519152468, 0.1518760259576234, 0.06328167748234309, 0.14218156520885847, 0.14218156520885847, 0.7109078260442924, 0.930952514540407, 0.9286017480417559, 0.6412658875823555, 0.39355791285286884, 0.5706589736366598, 0.039355791285286885, 0.787591468791765, 0.1312652447986275, 0.087510163199085, 0.38067004458763704, 0.3515371330120525, 0.2563696218651433, 0.011653164630233786, 0.8727928149183417, 0.2518966727678238, 0.1259483363839119, 0.6297416819195595, 0.8680097714957836, 0.8902021777335628, 0.24250203939075549, 0.1732157424219682, 0.5889335242346919, 0.2924532692816451, 0.27915993885975215, 0.2592199432269127, 0.053173321687571835, 0.11963997379703664, 0.8728481728690627, 0.8665240151108029, 0.4176825502317396, 0.378524811147514, 0.19578869542112795, 0.0065262898473709315, 0.7706438558168859, 0.8649146679375577, 0.86749070632921, 0.005316425465569727, 0.01860748912949405, 0.9755640729320451, 0.856203333624135, 0.9076918329226541, 0.10622904532708687, 0.7170460559578363, 0.1593435679906303, 0.026557261331771716, 0.2390216417383345, 0.3100821298227042, 0.38114261790707393, 0.006460044371306338, 0.06460044371306338, 0.32504567061174067, 0.1805809281176337, 0.15650347103528253, 0.31300694207056506, 0.03611618562352674, 0.8657513734272204, 0.2562231196790078, 0.24707229397618607, 0.21046899116489926, 0.2882510096388838, 0.004575412851410853, 0.360711671108945, 0.1803558355544725, 0.5410675066634175, 0.7709123248425556, 0.7424089859514063, 0.32674977995761556, 0.6534995599152311, 0.0544582966596026, 0.3031428449552766, 0.22139645979879752, 0.28100319897539683, 0.18392936660207795, 0.011921347835319866, 0.8134288769653969, 0.8512409588322977, 0.10640511985403721, 0.8904451563289483, 0.5058530160391425, 0.24526206838261452, 0.21204949662246883, 0.020438505698551213, 0.01788369248623231, 0.0846785080698293, 0.1693570161396586, 0.05645233871321952, 0.6774280645586344, 0.7707241276903333, 0.2659417198037369, 0.45005521812940086, 0.18411349832566398, 0.1022852768475911, 0.6412627507736405, 0.26639620675443876, 0.35687039018047456, 0.21110642799408355, 0.160842992757397, 0.005026343523668656, 0.9545245550046838, 0.9073466886818257, 0.8207126828480122, 0.8892162231783817, 0.43863086070798796, 0.32420541878416503, 0.19070906987303823, 0.0429095407214336, 0.9260490059808838, 0.6935435692811743, 0.2229247186975203, 0.07430823956584011, 0.7789389669637977, 0.09736737087047471, 0.8986551815291008, 0.8729041205147934, 0.10345539375126138, 0.6207323625075682, 0.20691078750252276, 0.04138215750050455, 0.020691078750252275, 0.6997174482130876, 0.19991927091802503, 0.09995963545901251, 0.10368122964149364, 0.6220873778489618, 0.20736245928298727, 0.9647753644668036, 0.15570508437769115, 0.3114101687553823, 0.46711525313307345, 0.272936189748609, 0.23394530549880774, 0.34311978139825133, 0.11697265274940387, 0.03899088424980129, 0.8278049793941659, 0.18271319415193474, 0.6282769483119159, 0.18271319415193474, 0.003205494634244469, 0.08140235363759887, 0.2950835319362959, 0.3968364739832945, 0.19333058988929733, 0.04070117681879944, 0.940453386185059, 0.08645747746834934, 0.7348885584809693, 0.15130058556961135, 0.8134424700567304, 0.24405104624308557, 0.16270069749539037, 0.5694524412338663, 0.3399948209676761, 0.312795235290262, 0.04079937851612113, 0.2719958567741409, 0.04079937851612113, 0.14524494557776876, 0.34400118689471554, 0.32106777443506784, 0.18346729967718162, 0.007644470819882567, 0.9133937582120629, 0.4137543412856238, 0.15515787798210892, 0.07757893899105446, 0.2068771706428119, 0.12929823165175744], \"Term\": [\"Amazon\", \"Amazon\", \"Amazon\", \"Amazon\", \"Amino\", \"Balsamic\", \"Boil\", \"Cheese\", \"Cheese\", \"Cincinnati\", \"Dairy\", \"Diabetes\", \"Euro\", \"Excellent\", \"Excellent\", \"Fried\", \"Japanese\", \"KETO\", \"KETO\", \"Keto\", \"Keto\", \"Keto\", \"Love\", \"Love\", \"Miracle\", \"Miracle\", \"Miracle\", \"Miracle\", \"NOODLE\", \"Noodles\", \"Noodles\", \"Noodles\", \"Noodles\", \"Noodles\", \"Olive\", \"Olive\", \"Parmesan\", \"Persian\", \"SMELLS\", \"SUBSTITUTE\", \"Slimy\", \"Spiralizer\", \"Style\", \"Style\", \"Taste\", \"Tasty\", \"Watchers\", \"Weight\", \"Weight\", \"Whisked\", \"add\", \"add\", \"add\", \"add\", \"add\", \"afraid\", \"alternative\", \"alternative\", \"alternative\", \"alternative\", \"amazon\", \"angel\", \"angel\", \"angel\", \"angel\", \"answer\", \"asian\", \"asian\", \"asian\", \"asian\", \"asian\", \"auto\", \"auto\", \"auto\", \"award\", \"awesome\", \"awesome\", \"awesome\", \"awesome\", \"bag)before\", \"baggie\", \"batch\", \"batch\", \"biased\", \"boil\", \"boil\", \"boil\", \"boil\", \"bubble\", \"bunch\", \"cabbage\", \"cabbage\", \"cabbage\", \"cabbage\", \"cabbage\", \"calorie\", \"calorie\", \"calorie\", \"calorie\", \"calorie\", \"carb\", \"carb\", \"carb\", \"carb\", \"carb\", \"cauliflower\", \"cheap\", \"cheap\", \"cheese\", \"cheese\", \"cheese\", \"cheese\", \"cheese\", \"cheesy\", \"chicken\", \"chicken\", \"chicken\", \"chicken\", \"child\", \"classic\", \"clump\", \"colander\", \"colander\", \"colander\", \"come\", \"come\", \"come\", \"come\", \"compromise\", \"con\", \"concern\", \"contain\", \"contain\", \"convenient\", \"convenient\", \"conventional\", \"cook\", \"cook\", \"cook\", \"cook\", \"cook\", \"craze\", \"creation\", \"crush\", \"cube\", \"daikon\", \"daily\", \"daughter\", \"daughter\", \"definitely\", \"definitely\", \"definitely\", \"definitely\", \"delivery\", \"delivery\", \"delivery\", \"delivery\", \"delivery\", \"dice\", \"diet\", \"diet\", \"diet\", \"diet\", \"diet\", \"dieting\", \"dieting\", \"dieting\", \"dieting\", \"dieting\", \"dinner\", \"dinner\", \"dinner\", \"dinner\", \"direction\", \"direction\", \"direction\", \"direction\", \"dish\", \"dish\", \"dish\", \"dish\", \"dish\", \"doodle\", \"drain\", \"drain\", \"drain\", \"dress\", \"dress\", \"dress\", \"dukan\", \"dupe\", \"easily\", \"easily\", \"easily\", \"easily\", \"easy\", \"easy\", \"easy\", \"easy\", \"eat\", \"eat\", \"eat\", \"eat\", \"eat\", \"endure\", \"energy\", \"enjoy\", \"enjoy\", \"enjoy\", \"enjoy\", \"enjoy\", \"entire\", \"entire\", \"excellent\", \"excellent\", \"excellent\", \"excellent\", \"excellent\", \"family\", \"family\", \"family\", \"fan\", \"fast\", \"fast\", \"fast\", \"fast\", \"fast\", \"favorite\", \"favorite\", \"favorite\", \"favs\", \"ferment\", \"ferment\", \"fettachini\", \"fettuccini\", \"fettuccini\", \"fettuccini\", \"fettucine\", \"fettucini\", \"fettucini\", \"fettucini\", \"fill\", \"fill\", \"fill\", \"fill\", \"filling\", \"filling\", \"filling\", \"filling\", \"find\", \"find\", \"find\", \"find\", \"firm\", \"fish\", \"fish\", \"fish\", \"fishy\", \"fishy\", \"fishy\", \"flavor\", \"flavor\", \"flavor\", \"flavor\", \"flavor\", \"follow\", \"follow\", \"follow\", \"follow\", \"follow\", \"food\", \"food\", \"food\", \"food\", \"food\", \"forever\", \"fork\", \"free\", \"free\", \"free\", \"free\", \"free\", \"freeze\", \"freeze\", \"fried\", \"fruit\", \"fry\", \"fry\", \"fry\", \"fry\", \"fully\", \"funky\", \"funky\", \"funky\", \"funky\", \"future\", \"game\", \"gelatinous\", \"gelatinous\", \"generally\", \"get\", \"get\", \"get\", \"gift\", \"ginger\", \"go\", \"go\", \"go\", \"go\", \"go\", \"good\", \"good\", \"good\", \"good\", \"good\", \"granddaughter\", \"grandmother\", \"great\", \"great\", \"great\", \"great\", \"great\", \"grow\", \"gummie\", \"hair\", \"hair\", \"hair\", \"hair\", \"healthy\", \"healthy\", \"healthy\", \"healthy\", \"heat\", \"heat\", \"heat\", \"helpful\", \"helpful\", \"highlight\", \"highly\", \"highly\", \"highly\", \"highly\", \"highly\", \"honest\", \"individual\", \"insert\", \"instruction\", \"instruction\", \"instruction\", \"instruction\", \"instruction\", \"italian\", \"italian\", \"italian\", \"italian\", \"item\", \"item\", \"item\", \"item\", \"item\", \"j&iacute;cama\", \"jicama\", \"justify\", \"kimchi\", \"kinda\", \"konnyaku\", \"korean\", \"lean\", \"lifesaver\", \"lifesaver\", \"like\", \"like\", \"like\", \"like\", \"like\", \"little\", \"little\", \"little\", \"little\", \"little\", \"load\", \"load\", \"lose\", \"lose\", \"lose\", \"lose\", \"love\", \"love\", \"love\", \"love\", \"love\", \"lucky\", \"lunch\", \"lunch\", \"marjoram\", \"meal\", \"meal\", \"meal\", \"meal\", \"mesh\", \"microwave\", \"microwave\", \"microwave\", \"microwave\", \"min\", \"min\", \"minute\", \"minute\", \"minute\", \"miracle\", \"miracle\", \"miracle\", \"monthly\", \"mush\", \"mushroom\", \"mushroom\", \"mushroom\", \"mushroom\", \"nasty\", \"nice\", \"nice\", \"nice\", \"nice\", \"nice\", \"noddle\", \"noodle\", \"noodle\", \"noodle\", \"noodle\", \"noodle\", \"nutritionist\", \"ocean\", \"oil\", \"olive\", \"olive\", \"olive\", \"olive\", \"online\", \"open\", \"open\", \"open\", \"opening\", \"order\", \"order\", \"order\", \"order\", \"order\", \"overall\", \"overall\", \"oyster\", \"package\", \"package\", \"package\", \"package\", \"packet\", \"packet\", \"packet\", \"packet\", \"packing\", \"pallet\", \"pasta\", \"pasta\", \"pasta\", \"pasta\", \"pasta\", \"picky\", \"picky\", \"picky\", \"picky\", \"place\", \"place\", \"place\", \"place\", \"prefer\", \"prefer\", \"prefer\", \"prepare\", \"prepare\", \"prepare\", \"prepare\", \"pretty\", \"pretty\", \"pretty\", \"pretty\", \"pretty\", \"price\", \"price\", \"price\", \"price\", \"pro\", \"product\", \"product\", \"product\", \"product\", \"product\", \"promise\", \"pudding\", \"pudding\", \"pudding\", \"purchase\", \"purchase\", \"purchase\", \"purchase\", \"purchase\", \"radish\", \"raman\", \"raman\", \"raman\", \"raman\", \"raman\", \"ratio\", \"real\", \"real\", \"real\", \"real\", \"recommend\", \"recommend\", \"recommend\", \"recommend\", \"recommend\", \"refrigerate\", \"regular\", \"regular\", \"regular\", \"regular\", \"repeat\", \"replacement\", \"replacement\", \"replacement\", \"replacement\", \"restrictive\", \"rice\", \"rice\", \"rice\", \"rice\", \"rice\", \"rinse\", \"rinse\", \"rinse\", \"rinse\", \"rinse\", \"salsa\", \"salt\", \"salt\", \"salt\", \"sauce\", \"sauce\", \"sauce\", \"sauce\", \"sauce\", \"sausage\", \"sausage\", \"say\", \"say\", \"say\", \"say\", \"send\", \"send\", \"send\", \"sense\", \"service\", \"shed\", \"shirataki\", \"shirataki\", \"shirataki\", \"size\", \"size\", \"size\", \"smell\", \"smell\", \"smell\", \"smell\", \"smelling\", \"snack\", \"snack\", \"snack\", \"solve\", \"sooooooooooooooooooooooooooo\", \"sort\", \"sort\", \"sort\", \"soup\", \"soup\", \"soup\", \"soup\", \"soup\", \"soupy\", \"spagetti\", \"spaghetti\", \"spaghetti\", \"spaghetti\", \"spaghetti\", \"speck\", \"splurge\", \"squeak\", \"star\", \"star\", \"star\", \"starve\", \"stew\", \"stick\", \"stick\", \"stick\", \"stick\", \"stir\", \"stir\", \"stir\", \"stir\", \"stir\", \"stuff\", \"stuff\", \"stuff\", \"stuff\", \"stuff\", \"substance\", \"substitute\", \"substitute\", \"substitute\", \"substitute\", \"substitute\", \"suck\", \"suck\", \"suck\", \"tabouleh\", \"taco\", \"tapioca\", \"tapioca\", \"tapioca\", \"taste\", \"taste\", \"taste\", \"taste\", \"taste\", \"teenage\", \"tend\", \"tend\", \"textually\", \"texture\", \"texture\", \"texture\", \"texture\", \"texture\", \"thank\", \"thank\", \"thank\", \"thank\", \"throughly\", \"throw\", \"throw\", \"throw\", \"throw\", \"thyme\", \"time\", \"time\", \"time\", \"time\", \"time\", \"tiny\", \"topping\", \"trade\", \"trouble\", \"try\", \"try\", \"try\", \"try\", \"turkey\", \"turn\", \"turn\", \"turn\", \"understand\", \"understand\", \"unusual\", \"upset\", \"vegetable\", \"vegetable\", \"vegetable\", \"vegetable\", \"vegetable\", \"version\", \"version\", \"version\", \"vinegar\", \"vinegar\", \"vinegar\", \"void\", \"volume\", \"volume\", \"volume\", \"want\", \"want\", \"want\", \"want\", \"want\", \"watcher\", \"water\", \"water\", \"water\", \"water\", \"weight\", \"weight\", \"weight\", \"weight\", \"weight\", \"whatsoever\", \"wheat\", \"wheat\", \"wheat\", \"wide\", \"wife\", \"wife\", \"wife\", \"wonderful\", \"wonderful\", \"wonderful\", \"wonderful\", \"wonderful\", \"work\", \"work\", \"work\", \"work\", \"work\", \"wrap\", \"yummy\", \"yummy\", \"yummy\", \"yummy\", \"yummy\"]}, \"R\": 30, \"lambda.step\": 0.01, \"plot.opts\": {\"xlab\": \"PC1\", \"ylab\": \"PC2\"}, \"topic.order\": [4, 3, 2, 5, 1]};\n",
       "\n",
       "function LDAvis_load_lib(url, callback){\n",
       "  var s = document.createElement('script');\n",
       "  s.src = url;\n",
       "  s.async = true;\n",
       "  s.onreadystatechange = s.onload = callback;\n",
       "  s.onerror = function(){console.warn(\"failed to load library \" + url);};\n",
       "  document.getElementsByTagName(\"head\")[0].appendChild(s);\n",
       "}\n",
       "\n",
       "if(typeof(LDAvis) !== \"undefined\"){\n",
       "   // already loaded: just create the visualization\n",
       "   !function(LDAvis){\n",
       "       new LDAvis(\"#\" + \"ldavis_el19110138187466246646822095\", ldavis_el19110138187466246646822095_data);\n",
       "   }(LDAvis);\n",
       "}else if(typeof define === \"function\" && define.amd){\n",
       "   // require.js is available: use it to load d3/LDAvis\n",
       "   require.config({paths: {d3: \"https://d3js.org/d3.v5\"}});\n",
       "   require([\"d3\"], function(d3){\n",
       "      window.d3 = d3;\n",
       "      LDAvis_load_lib(\"https://cdn.jsdelivr.net/gh/bmabey/pyLDAvis@3.4.0/pyLDAvis/js/ldavis.v3.0.0.js\", function(){\n",
       "        new LDAvis(\"#\" + \"ldavis_el19110138187466246646822095\", ldavis_el19110138187466246646822095_data);\n",
       "      });\n",
       "    });\n",
       "}else{\n",
       "    // require.js not available: dynamically load d3 & LDAvis\n",
       "    LDAvis_load_lib(\"https://d3js.org/d3.v5.js\", function(){\n",
       "         LDAvis_load_lib(\"https://cdn.jsdelivr.net/gh/bmabey/pyLDAvis@3.4.0/pyLDAvis/js/ldavis.v3.0.0.js\", function(){\n",
       "                 new LDAvis(\"#\" + \"ldavis_el19110138187466246646822095\", ldavis_el19110138187466246646822095_data);\n",
       "            })\n",
       "         });\n",
       "}\n",
       "</script>"
      ],
      "text/plain": [
       "<IPython.core.display.HTML object>"
      ]
     },
     "metadata": {},
     "output_type": "display_data"
    }
   ],
   "source": [
    "import pyLDAvis\n",
    "import pyLDAvis.gensim_models as gensimvis\n",
    "from IPython.display import display, Markdown, HTML\n",
    "\n",
    "# Function to create a labeled LDA visualization\n",
    "def create_labeled_lda_vis(lda_model, corpus, dictionary, topic_labels):\n",
    "    vis_data = gensimvis.prepare(lda_model, corpus, dictionary)\n",
    "    vis_data = pyLDAvis.prepared_data_to_html(vis_data)\n",
    "    for i, label in enumerate(topic_labels):\n",
    "        vis_data = vis_data.replace(f\"Topic {i+1}\", f\"Topic {i+1}: {label}\")\n",
    "    return vis_data\n",
    "\n",
    "# # Prepare the pyLDAvis labels for high-rating reviews\n",
    "topic_labels_high = topics_df_high.reset_index()['topic_labels'].tolist()\n",
    "# Create the visualizations\n",
    "high_lda_vis = create_labeled_lda_vis(high_lda, high_corpus, high_dictionary, topic_labels_high)\n",
    "# Display titles and visualizations\n",
    "display(Markdown(\"## High Rating Reviews Topics\"))\n",
    "# pyLDAvis.display(high_lda_vis)\n",
    "display(HTML(high_lda_vis))\n"
   ]
  },
  {
   "cell_type": "code",
   "execution_count": 171,
   "id": "8d9a7a06",
   "metadata": {},
   "outputs": [],
   "source": [
    "\n",
    "\n",
    "\n",
    "# topic_lables_low = topics_df_low['topic_labels'].tolist()\n",
    "\n",
    "\n",
    "\n",
    "# low_lda_vis = create_labeled_lda_vis(low_lda, low_corpus, low_dictionary, topic_labels_low)\n",
    "\n",
    "\n",
    "# # # Display the visualizations in the notebook\n",
    "# pyLDAvis.display(high_lda_vis)\n"
   ]
  },
  {
   "cell_type": "code",
   "execution_count": 172,
   "id": "45730c55",
   "metadata": {},
   "outputs": [],
   "source": [
    "\n",
    "# # Prepare the pyLDAvis data\n",
    "# low_lda_vis = gensimvis.prepare(low_lda, low_corpus, low_dictionary)\n",
    "# # Display the visualizations in the notebook\n",
    "# pyLDAvis.display(low_lda_vis)"
   ]
  },
  {
   "cell_type": "code",
   "execution_count": null,
   "id": "9faae848",
   "metadata": {},
   "outputs": [],
   "source": []
  },
  {
   "cell_type": "markdown",
   "id": "77dbaa41",
   "metadata": {},
   "source": [
    "# 📌 BOOKMARK 06/26/24"
   ]
  },
  {
   "cell_type": "markdown",
   "id": "128f758e",
   "metadata": {},
   "source": [
    "# Sentiment Analysis"
   ]
  },
  {
   "cell_type": "markdown",
   "id": "85986a5f-b0a8-4d79-ab83-84fb411afdf5",
   "metadata": {},
   "source": [
    "## Sentiment Analysis - NLTK's Vader"
   ]
  },
  {
   "cell_type": "markdown",
   "id": "2f3a5bec-266e-4553-8274-6a24fbfb6ed5",
   "metadata": {},
   "source": [
    "Perform sentiment analysis to create polarity scores according to VADERS's sentiment lexicon.  \n",
    "- Compare the sentiments of high-rating and low-rating texts.  \n",
    "- Compare the average scores for high and low-rating reviews.  \n",
    "- Which review polarity scores don't match the ratings?  Why do you think this is?"
   ]
  },
  {
   "cell_type": "code",
   "execution_count": null,
   "id": "c802d77a-ec81-4a43-8cf5-1c6c04d3b68e",
   "metadata": {
    "execution": {
     "iopub.execute_input": "2024-02-13T01:39:15.334040Z",
     "iopub.status.busy": "2024-02-13T01:39:15.333389Z",
     "iopub.status.idle": "2024-02-13T01:39:15.524417Z",
     "shell.execute_reply": "2024-02-13T01:39:15.522852Z",
     "shell.execute_reply.started": "2024-02-13T01:39:15.334017Z"
    }
   },
   "outputs": [],
   "source": [
    "from nltk.sentiment.vader import SentimentIntensityAnalyzer\n",
    "nltk.download('vader_lexicon')"
   ]
  },
  {
   "cell_type": "code",
   "execution_count": null,
   "id": "365ec383-e248-4057-8b31-bd00d4de7ca2",
   "metadata": {
    "execution": {
     "iopub.execute_input": "2024-02-13T01:39:15.528716Z",
     "iopub.status.busy": "2024-02-13T01:39:15.528024Z",
     "iopub.status.idle": "2024-02-13T01:39:15.544865Z",
     "shell.execute_reply": "2024-02-13T01:39:15.544274Z",
     "shell.execute_reply.started": "2024-02-13T01:39:15.528666Z"
    }
   },
   "outputs": [],
   "source": [
    "# Initialize the VADER sentiment analyzer\n",
    "sia = SentimentIntensityAnalyzer()"
   ]
  },
  {
   "cell_type": "code",
   "execution_count": null,
   "id": "ca8e0a7a-66a6-4aec-96ae-3e3b92503a18",
   "metadata": {
    "execution": {
     "iopub.execute_input": "2024-02-13T01:39:15.545614Z",
     "iopub.status.busy": "2024-02-13T01:39:15.545493Z",
     "iopub.status.idle": "2024-02-13T01:39:15.553501Z",
     "shell.execute_reply": "2024-02-13T01:39:15.553004Z",
     "shell.execute_reply.started": "2024-02-13T01:39:15.545605Z"
    }
   },
   "outputs": [],
   "source": [
    "df.head(2)"
   ]
  },
  {
   "cell_type": "code",
   "execution_count": null,
   "id": "e7816624-8a84-4cdd-bf88-81c8d4a50617",
   "metadata": {
    "execution": {
     "iopub.execute_input": "2024-02-13T01:39:15.554380Z",
     "iopub.status.busy": "2024-02-13T01:39:15.554222Z",
     "iopub.status.idle": "2024-02-13T01:39:17.169275Z",
     "shell.execute_reply": "2024-02-13T01:39:17.168958Z",
     "shell.execute_reply.started": "2024-02-13T01:39:15.554364Z"
    }
   },
   "outputs": [],
   "source": [
    "df['sentiment_scores'] = df['review-text-full'].map(sia.polarity_scores)\n",
    "# Convert the column of dictionaries into separate columns\n",
    "vader_scores = df['sentiment_scores'].apply(pd.Series)\n",
    "# Join the new DataFrame with the original DataFrame\n",
    "df_sentiment = pd.concat([df, vader_scores], axis=1).drop('sentiment_scores', axis=1)\n",
    "df_sentiment"
   ]
  },
  {
   "cell_type": "code",
   "execution_count": null,
   "id": "2432069b-69a0-4153-962a-28a7dae78d12",
   "metadata": {
    "execution": {
     "iopub.execute_input": "2024-02-13T01:39:17.169840Z",
     "iopub.status.busy": "2024-02-13T01:39:17.169728Z",
     "iopub.status.idle": "2024-02-13T01:39:17.172625Z",
     "shell.execute_reply": "2024-02-13T01:39:17.172287Z",
     "shell.execute_reply.started": "2024-02-13T01:39:17.169829Z"
    }
   },
   "outputs": [],
   "source": [
    "# Define filter for positive reviews\n",
    "pos_sentiment_reviews = df_sentiment['compound'] > 0\n",
    "pos_sentiment_reviews.sum()"
   ]
  },
  {
   "cell_type": "code",
   "execution_count": null,
   "id": "0f8ebcb8-bc05-4998-aac4-492d07572a64",
   "metadata": {
    "execution": {
     "iopub.execute_input": "2024-02-13T01:39:17.173247Z",
     "iopub.status.busy": "2024-02-13T01:39:17.173145Z",
     "iopub.status.idle": "2024-02-13T01:39:17.187332Z",
     "shell.execute_reply": "2024-02-13T01:39:17.186885Z",
     "shell.execute_reply.started": "2024-02-13T01:39:17.173238Z"
    }
   },
   "outputs": [],
   "source": [
    "df_sentiment"
   ]
  },
  {
   "cell_type": "markdown",
   "id": "ad73864f-8029-4059-936b-06702230dade",
   "metadata": {
    "execution": {
     "iopub.execute_input": "2024-02-09T02:07:16.377015Z",
     "iopub.status.busy": "2024-02-09T02:07:16.376619Z",
     "iopub.status.idle": "2024-02-09T02:07:16.386037Z",
     "shell.execute_reply": "2024-02-09T02:07:16.384163Z",
     "shell.execute_reply.started": "2024-02-09T02:07:16.376990Z"
    }
   },
   "source": [
    "> To Do: Add Plotting Sentiment Scores"
   ]
  },
  {
   "cell_type": "code",
   "execution_count": null,
   "id": "8fc9d458-b8ca-400f-8bcb-a9131e6ed885",
   "metadata": {
    "execution": {
     "iopub.execute_input": "2024-02-13T01:39:17.188192Z",
     "iopub.status.busy": "2024-02-13T01:39:17.188004Z",
     "iopub.status.idle": "2024-02-13T01:39:17.977680Z",
     "shell.execute_reply": "2024-02-13T01:39:17.977136Z",
     "shell.execute_reply.started": "2024-02-13T01:39:17.188181Z"
    }
   },
   "outputs": [],
   "source": [
    "raise Exception(\"stop here\")"
   ]
  },
  {
   "cell_type": "markdown",
   "id": "3d705254-9b2f-4e44-b42c-f50d67b0371a",
   "metadata": {},
   "source": [
    "## Sentiment - HuggingFace Pipelines"
   ]
  },
  {
   "cell_type": "code",
   "execution_count": null,
   "id": "57295c48-e11b-442d-9d2d-53a29a1676e4",
   "metadata": {
    "execution": {
     "iopub.status.busy": "2024-02-13T01:39:17.977954Z",
     "iopub.status.idle": "2024-02-13T01:39:17.978088Z",
     "shell.execute_reply": "2024-02-13T01:39:17.978022Z",
     "shell.execute_reply.started": "2024-02-13T01:39:17.978016Z"
    }
   },
   "outputs": [],
   "source": [
    "from transformers import pipeline\n",
    "model = \"distilbert-base-uncased-finetuned-sst-2-english\"\n",
    "sentiment_analyzer = pipeline(task=\"sentiment-analysis\",model=model)"
   ]
  },
  {
   "cell_type": "code",
   "execution_count": null,
   "id": "770bdbf2-6397-474d-a4c9-e99ce626c993",
   "metadata": {
    "execution": {
     "iopub.status.busy": "2024-02-13T01:39:17.978693Z",
     "iopub.status.idle": "2024-02-13T01:39:17.978843Z",
     "shell.execute_reply": "2024-02-13T01:39:17.978772Z",
     "shell.execute_reply.started": "2024-02-13T01:39:17.978766Z"
    }
   },
   "outputs": [],
   "source": [
    "sentiment_analyzer(\"I think i enjoy it when I am being beat up\")"
   ]
  },
  {
   "cell_type": "code",
   "execution_count": null,
   "id": "b9d2ebde-a7cd-4490-ad9c-fd544240872d",
   "metadata": {
    "execution": {
     "iopub.status.busy": "2024-02-13T01:39:17.979602Z",
     "iopub.status.idle": "2024-02-13T01:39:17.979742Z",
     "shell.execute_reply": "2024-02-13T01:39:17.979675Z",
     "shell.execute_reply.started": "2024-02-13T01:39:17.979669Z"
    }
   },
   "outputs": [],
   "source": [
    "df['review-text-full'].isna().sum()"
   ]
  },
  {
   "cell_type": "code",
   "execution_count": null,
   "id": "4b2e2175-a734-4f16-ad94-2fa81cb49d36",
   "metadata": {
    "execution": {
     "iopub.status.busy": "2024-02-13T01:39:17.980071Z",
     "iopub.status.idle": "2024-02-13T01:39:17.980190Z",
     "shell.execute_reply": "2024-02-13T01:39:17.980127Z",
     "shell.execute_reply.started": "2024-02-13T01:39:17.980122Z"
    }
   },
   "outputs": [],
   "source": [
    "test_text = df.loc[0,'review-text-full']\n",
    "test_text"
   ]
  },
  {
   "cell_type": "code",
   "execution_count": null,
   "id": "78e7070e-54e2-4b85-8622-64fe8c327583",
   "metadata": {
    "execution": {
     "iopub.status.busy": "2024-02-13T01:39:17.981228Z",
     "iopub.status.idle": "2024-02-13T01:39:17.981383Z",
     "shell.execute_reply": "2024-02-13T01:39:17.981308Z",
     "shell.execute_reply.started": "2024-02-13T01:39:17.981302Z"
    }
   },
   "outputs": [],
   "source": [
    "sentiment_analyzer(test_text)"
   ]
  },
  {
   "cell_type": "code",
   "execution_count": null,
   "id": "3a689c1d-5daa-4266-93fd-1f8381c81f80",
   "metadata": {
    "execution": {
     "iopub.status.busy": "2024-02-13T01:39:17.981833Z",
     "iopub.status.idle": "2024-02-13T01:39:17.982184Z",
     "shell.execute_reply": "2024-02-13T01:39:17.982106Z",
     "shell.execute_reply.started": "2024-02-13T01:39:17.982100Z"
    }
   },
   "outputs": [],
   "source": [
    "sentiment_results = []\n",
    "for i in df.index:\n",
    "    text = df.loc[i, 'review-text-full']\n",
    "    try:\n",
    "        sent = sentiment_analyzer(text)[0]\n",
    "        \n",
    "    except Exception as e:\n",
    "        display(e)\n",
    "        sent = {'label':pd.NA,'score':pd.NA}\n",
    "    finally:\n",
    "        sentiment_results.append(sent)\n",
    "        \n",
    "\n",
    "# sentiment_results = df['review-text-full'].map(lambda x: sentiment_analyzer(x))\n",
    "len(sentiment_results)"
   ]
  },
  {
   "cell_type": "code",
   "execution_count": null,
   "id": "81451a73-8086-43ba-9bf1-868cab082ca0",
   "metadata": {
    "execution": {
     "iopub.status.busy": "2024-02-13T01:39:17.982767Z",
     "iopub.status.idle": "2024-02-13T01:39:17.982990Z",
     "shell.execute_reply": "2024-02-13T01:39:17.982868Z",
     "shell.execute_reply.started": "2024-02-13T01:39:17.982861Z"
    }
   },
   "outputs": [],
   "source": [
    "pd.DataFrame(sentiment_results)"
   ]
  },
  {
   "cell_type": "code",
   "execution_count": null,
   "id": "56f12a08-4735-4900-bbe9-7e71d0cc2ff2",
   "metadata": {},
   "outputs": [],
   "source": []
  }
 ],
 "metadata": {
  "kernelspec": {
   "display_name": "Python 3 (ipykernel)",
   "language": "python",
   "name": "python3"
  },
  "language_info": {
   "codemirror_mode": {
    "name": "ipython",
    "version": 3
   },
   "file_extension": ".py",
   "mimetype": "text/x-python",
   "name": "python",
   "nbconvert_exporter": "python",
   "pygments_lexer": "ipython3",
   "version": "3.10.14"
  }
 },
 "nbformat": 4,
 "nbformat_minor": 5
}
