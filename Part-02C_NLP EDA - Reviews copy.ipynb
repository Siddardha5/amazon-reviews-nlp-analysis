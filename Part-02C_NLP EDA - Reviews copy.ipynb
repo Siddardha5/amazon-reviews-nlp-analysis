{
 "cells": [
  {
   "cell_type": "markdown",
   "id": "55b8cab0-99f0-45b8-84f3-0712266f2394",
   "metadata": {},
   "source": [
    "# Part 2C - NLP EDA of Amazon Reviews for Miracle Noodles (In-Depth)"
   ]
  },
  {
   "cell_type": "markdown",
   "id": "03ab65b7-a2d4-4542-8b29-c4a0fcbdc7e8",
   "metadata": {},
   "source": [
    "In this notebook we will continue with the data we prepared in the last notebook.  \n",
    "Our goals will be:\n",
    "- compare sentiment analysis from VADER / TextBlob vs. the star rating.\n",
    "- Apply LDA topic modeling to the reviews to idntify consistent themes. \n",
    "- Applied Named Entity Recognition to see if an NE's appear in certain types of reviws."
   ]
  },
  {
   "cell_type": "code",
   "execution_count": 1,
   "id": "0444cbc5-fde5-4dc2-9502-c9466211acaa",
   "metadata": {
    "execution": {
     "iopub.execute_input": "2024-02-13T01:38:28.529889Z",
     "iopub.status.busy": "2024-02-13T01:38:28.529783Z",
     "iopub.status.idle": "2024-02-13T01:38:28.537479Z",
     "shell.execute_reply": "2024-02-13T01:38:28.537232Z",
     "shell.execute_reply.started": "2024-02-13T01:38:28.529879Z"
    }
   },
   "outputs": [
    {
     "data": {
      "text/markdown": [
       "# Amazon Product Reviews\n",
       "\n",
       "- URL: https://cseweb.ucsd.edu/~jmcauley/datasets.html#amazon_reviews \n",
       "\n",
       "## Description\n",
       "\n",
       "This is a large crawl of product reviews from Amazon. This dataset contains 82.83 million unique reviews, from around 20 million users.\n",
       "\n",
       "## Basic statistics\n",
       "\n",
       "| Ratings:  | 82.83 million        |\n",
       "| --------- | -------------------- |\n",
       "| Users:    | 20.98 million        |\n",
       "| Items:    | 9.35 million         |\n",
       "| Timespan: | May 1996 - July 2014 |\n",
       "\n",
       "## Metadata\n",
       "\n",
       "- reviews and ratings\n",
       "- item-to-item relationships (e.g. \"people who bought X also bought Y\")\n",
       "- timestamps\n",
       "- helpfulness votes\n",
       "- product image (and CNN features)\n",
       "- price\n",
       "- category\n",
       "- salesRank\n",
       "\n",
       "## Example\n",
       "\n",
       "```\n",
       "{  \"reviewerID\": \"A2SUAM1J3GNN3B\",  \"asin\": \"0000013714\",  \"reviewerName\": \"J. McDonald\",  \"helpful\": [2, 3],  \"reviewText\": \"I bought this for my husband who plays the piano.  He is having a wonderful time playing these old hymns.  The music  is at times hard to read because we think the book was published for singing from more than playing from.  Great purchase though!\",  \"overall\": 5.0,  \"summary\": \"Heavenly Highway Hymns\",  \"unixReviewTime\": 1252800000,  \"reviewTime\": \"09 13, 2009\" }\n",
       "```\n",
       "\n",
       "## Download link\n",
       "\n",
       "See the [Amazon Dataset Page](https://cseweb.ucsd.edu/~jmcauley/datasets/amazon_v2/) for download information.\n",
       "\n",
       "The 2014 version of this dataset is [also available](https://cseweb.ucsd.edu/~jmcauley/datasets/amazon/links.html).\n",
       "\n",
       "## Citation\n",
       "\n",
       "Please cite the following if you use the data:\n",
       "\n",
       "**Ups and downs: Modeling the visual evolution of fashion trends with one-class collaborative filtering**\n",
       "\n",
       "R. He, J. McAuley\n",
       "\n",
       "*WWW*, 2016\n",
       "[pdf](https://cseweb.ucsd.edu/~jmcauley/pdfs/www16a.pdf)\n",
       "\n",
       "**Image-based recommendations on styles and substitutes**\n",
       "\n",
       "J. McAuley, C. Targett, J. Shi, A. van den Hengel\n",
       "\n",
       "*SIGIR*, 2015\n",
       "[pdf](https://cseweb.ucsd.edu/~jmcauley/pdfs/sigir15.pdf)"
      ],
      "text/plain": [
       "<IPython.core.display.Markdown object>"
      ]
     },
     "metadata": {},
     "output_type": "display_data"
    }
   ],
   "source": [
    "from IPython.display import display, Markdown\n",
    "with open(\"data/Amazon Product Reviews.md\") as f:\n",
    "    info = f.read()\n",
    "\n",
    "display(Markdown(info))"
   ]
  },
  {
   "cell_type": "markdown",
   "id": "913a72d3-e087-4b21-aed4-9bb8d94accb0",
   "metadata": {},
   "source": [
    "# Part 2B - NLP EDA - Movie Reviews"
   ]
  },
  {
   "cell_type": "code",
   "execution_count": 2,
   "id": "5b0bf473-0450-45ed-a751-48a440f972ea",
   "metadata": {
    "execution": {
     "iopub.execute_input": "2024-02-13T01:38:28.538959Z",
     "iopub.status.busy": "2024-02-13T01:38:28.538747Z",
     "iopub.status.idle": "2024-02-13T01:38:33.023851Z",
     "shell.execute_reply": "2024-02-13T01:38:33.023502Z",
     "shell.execute_reply.started": "2024-02-13T01:38:28.538948Z"
    }
   },
   "outputs": [],
   "source": [
    "# !pip install -U dojo_ds -q\n",
    "import dojo_ds as ds\n",
    "# ds.__version__"
   ]
  },
  {
   "cell_type": "code",
   "execution_count": 3,
   "id": "3186098c",
   "metadata": {},
   "outputs": [],
   "source": [
    "# !pip install missingno seaborn -q\n"
   ]
  },
  {
   "cell_type": "code",
   "execution_count": 4,
   "id": "1b2e1204-f584-452d-b433-69b67e43e694",
   "metadata": {
    "execution": {
     "iopub.execute_input": "2024-02-13T01:38:33.024453Z",
     "iopub.status.busy": "2024-02-13T01:38:33.024303Z",
     "iopub.status.idle": "2024-02-13T01:38:33.030807Z",
     "shell.execute_reply": "2024-02-13T01:38:33.030431Z",
     "shell.execute_reply.started": "2024-02-13T01:38:33.024442Z"
    }
   },
   "outputs": [],
   "source": [
    "import matplotlib.pyplot as plt\n",
    "import missingno\n",
    "import matplotlib as mpl\n",
    "import seaborn as sns\n",
    "import numpy as np\n",
    "import pandas as pd\n",
    "import os, json\n",
    "from pprint import pprint\n",
    "pd.set_option(\"display.max_columns\",50)\n",
    "# pd.set_option('display.max_colwidth', 250)\n",
    "\n",
    "# fav_style = ('ggplot','tableau-colorblind10')\n",
    "# fav_context  ={'context':'notebook', 'font_scale':1.1}\n",
    "# plt.style.use(fav_style)\n",
    "# sns.set_context(**fav_context)\n",
    "# plt.rcParams['savefig.transparent'] = False\n",
    "# plt.rcParams['savefig.bbox'] = 'tight'"
   ]
  },
  {
   "cell_type": "code",
   "execution_count": 5,
   "id": "122bd9c0-9d2e-4fb2-a90d-ff0ae1d0ec7e",
   "metadata": {
    "execution": {
     "iopub.execute_input": "2024-02-13T01:38:33.031658Z",
     "iopub.status.busy": "2024-02-13T01:38:33.031509Z",
     "iopub.status.idle": "2024-02-13T01:38:33.035156Z",
     "shell.execute_reply": "2024-02-13T01:38:33.034857Z",
     "shell.execute_reply.started": "2024-02-13T01:38:33.031646Z"
    }
   },
   "outputs": [
    {
     "data": {
      "text/plain": [
       "dict_keys(['data', 'images', 'metadata', 'eda', 'models', 'results', 'readme'])"
      ]
     },
     "execution_count": 5,
     "metadata": {},
     "output_type": "execute_result"
    }
   ],
   "source": [
    "FPATHS_FILE = \"config/filepaths.json\"\n",
    "\n",
    "with open(FPATHS_FILE) as f:\n",
    "    FPATHS = json.load(f)\n",
    "FPATHS.keys()"
   ]
  },
  {
   "cell_type": "code",
   "execution_count": 6,
   "id": "b58c908e-403f-46a0-91e2-8794ca8d0e3b",
   "metadata": {
    "execution": {
     "iopub.execute_input": "2024-02-13T01:38:33.035768Z",
     "iopub.status.busy": "2024-02-13T01:38:33.035652Z",
     "iopub.status.idle": "2024-02-13T01:38:33.038361Z",
     "shell.execute_reply": "2024-02-13T01:38:33.037857Z",
     "shell.execute_reply.started": "2024-02-13T01:38:33.035758Z"
    }
   },
   "outputs": [
    {
     "data": {
      "text/plain": [
       "dict_keys(['raw', 'cleaned', 'subset', 'processed-nlp', 'app', 'ml-nlp', 'nn-nlp'])"
      ]
     },
     "execution_count": 6,
     "metadata": {},
     "output_type": "execute_result"
    }
   ],
   "source": [
    "FPATHS['data'].keys()"
   ]
  },
  {
   "cell_type": "code",
   "execution_count": 7,
   "id": "f6e49e30-099d-4551-b878-3939fcd06dab",
   "metadata": {
    "execution": {
     "iopub.execute_input": "2024-02-13T01:38:33.039208Z",
     "iopub.status.busy": "2024-02-13T01:38:33.039002Z",
     "iopub.status.idle": "2024-02-13T01:38:33.041960Z",
     "shell.execute_reply": "2024-02-13T01:38:33.041636Z",
     "shell.execute_reply.started": "2024-02-13T01:38:33.039197Z"
    }
   },
   "outputs": [
    {
     "data": {
      "text/plain": [
       "{'processed-reviews-spacy_json': 'data/processed/processed-reviews.json',\n",
       " 'processed-reviews-spacy_joblib': 'data/processed/processed-reviews.joblib',\n",
       " 'processed-reviews-with-target_json': 'data/processed/processed-reviews-with-target.json',\n",
       " 'processed-reviews-with-target_joblib': 'data/processed/processed-reviews-with-target.joblib'}"
      ]
     },
     "execution_count": 7,
     "metadata": {},
     "output_type": "execute_result"
    }
   ],
   "source": [
    "FPATHS['data']['processed-nlp']"
   ]
  },
  {
   "cell_type": "code",
   "execution_count": 8,
   "id": "fa1e0713-aa88-4997-b10a-fc6c7d372761",
   "metadata": {
    "execution": {
     "iopub.execute_input": "2024-02-13T01:38:33.044182Z",
     "iopub.status.busy": "2024-02-13T01:38:33.043953Z",
     "iopub.status.idle": "2024-02-13T01:38:33.046759Z",
     "shell.execute_reply": "2024-02-13T01:38:33.046280Z",
     "shell.execute_reply.started": "2024-02-13T01:38:33.044161Z"
    }
   },
   "outputs": [
    {
     "data": {
      "text/plain": [
       "{'train_joblib': 'data/modeling/training-data.joblib',\n",
       " 'test_joblib': 'data/modeling/testing-data.joblib'}"
      ]
     },
     "execution_count": 8,
     "metadata": {},
     "output_type": "execute_result"
    }
   ],
   "source": [
    "FPATHS['data']['ml-nlp']"
   ]
  },
  {
   "cell_type": "code",
   "execution_count": 9,
   "id": "e4f438a6-0ac0-4baf-99b2-2af035fa6e6d",
   "metadata": {
    "execution": {
     "iopub.execute_input": "2024-02-13T01:38:33.047681Z",
     "iopub.status.busy": "2024-02-13T01:38:33.047383Z",
     "iopub.status.idle": "2024-02-13T01:38:33.050509Z",
     "shell.execute_reply": "2024-02-13T01:38:33.050042Z",
     "shell.execute_reply.started": "2024-02-13T01:38:33.047668Z"
    }
   },
   "outputs": [
    {
     "data": {
      "text/plain": [
       "'data/processed/processed-reviews-with-target.json'"
      ]
     },
     "execution_count": 9,
     "metadata": {},
     "output_type": "execute_result"
    }
   ],
   "source": [
    "# Fpath for saving final df with target columns\n",
    "fpath_out_ml_with_targets = FPATHS['data']['processed-nlp']['processed-reviews-with-target_json']\n",
    "fpath_out_ml_with_targets"
   ]
  },
  {
   "cell_type": "code",
   "execution_count": 10,
   "id": "17131a83-4802-4f02-a42c-06cfd7737e3d",
   "metadata": {
    "execution": {
     "iopub.execute_input": "2024-02-13T01:38:33.051329Z",
     "iopub.status.busy": "2024-02-13T01:38:33.051175Z",
     "iopub.status.idle": "2024-02-13T01:38:33.054075Z",
     "shell.execute_reply": "2024-02-13T01:38:33.053628Z",
     "shell.execute_reply.started": "2024-02-13T01:38:33.051314Z"
    }
   },
   "outputs": [
    {
     "data": {
      "text/plain": [
       "'data/processed/processed-reviews.json'"
      ]
     },
     "execution_count": 10,
     "metadata": {},
     "output_type": "execute_result"
    }
   ],
   "source": [
    "## If using json\n",
    "reviews_fpath = FPATHS['data']['processed-nlp']['processed-reviews-spacy_json']\n",
    "reviews_fpath"
   ]
  },
  {
   "cell_type": "code",
   "execution_count": 11,
   "id": "de46d2d4-9f5b-4a02-a6c1-096de6df5a2b",
   "metadata": {
    "execution": {
     "iopub.execute_input": "2024-02-13T01:38:33.054789Z",
     "iopub.status.busy": "2024-02-13T01:38:33.054685Z",
     "iopub.status.idle": "2024-02-13T01:38:33.136636Z",
     "shell.execute_reply": "2024-02-13T01:38:33.134138Z",
     "shell.execute_reply.started": "2024-02-13T01:38:33.054781Z"
    },
    "scrolled": true
   },
   "outputs": [
    {
     "data": {
      "text/html": [
       "<div>\n",
       "<style scoped>\n",
       "    .dataframe tbody tr th:only-of-type {\n",
       "        vertical-align: middle;\n",
       "    }\n",
       "\n",
       "    .dataframe tbody tr th {\n",
       "        vertical-align: top;\n",
       "    }\n",
       "\n",
       "    .dataframe thead th {\n",
       "        text-align: right;\n",
       "    }\n",
       "</style>\n",
       "<table border=\"1\" class=\"dataframe\">\n",
       "  <thead>\n",
       "    <tr style=\"text-align: right;\">\n",
       "      <th></th>\n",
       "      <th>asin</th>\n",
       "      <th>reviewerID</th>\n",
       "      <th>reviewText</th>\n",
       "      <th>summary</th>\n",
       "      <th>overall</th>\n",
       "      <th>year</th>\n",
       "      <th>title</th>\n",
       "      <th>brand</th>\n",
       "      <th>category</th>\n",
       "      <th>review-text-full</th>\n",
       "      <th>review-text-full_raw</th>\n",
       "      <th>tokens-dirty</th>\n",
       "      <th>tokens</th>\n",
       "      <th>lemmas</th>\n",
       "      <th>tokens-dirty-joined</th>\n",
       "      <th>tokens-joined</th>\n",
       "      <th>lemmas-joined</th>\n",
       "    </tr>\n",
       "  </thead>\n",
       "  <tbody>\n",
       "    <tr>\n",
       "      <th>0</th>\n",
       "      <td>B007JINB0W</td>\n",
       "      <td>A3Y51NV9HU5T2</td>\n",
       "      <td>Great pasta taste and feel, but the spell in t...</td>\n",
       "      <td>Four Stars</td>\n",
       "      <td>4</td>\n",
       "      <td>2018</td>\n",
       "      <td>Miracle Noodle Zero Carb, Gluten Free Shiratak...</td>\n",
       "      <td>Miracle Noodle</td>\n",
       "      <td>Grocery &amp; Gourmet Food; Pasta &amp; Noodles; Noodl...</td>\n",
       "      <td>Four Stars: Great pasta taste and feel, but th...</td>\n",
       "      <td>Four Stars: Great pasta taste and feel, but th...</td>\n",
       "      <td>[four, stars, great, pasta, taste, and, feel, ...</td>\n",
       "      <td>[stars, great, pasta, taste, feel, spell, pack...</td>\n",
       "      <td>[star, great, pasta, taste, feel, spell, packa...</td>\n",
       "      <td>four stars great pasta taste and feel but the ...</td>\n",
       "      <td>stars great pasta taste feel spell packaged sk...</td>\n",
       "      <td>star great pasta taste feel spell package skrong</td>\n",
       "    </tr>\n",
       "    <tr>\n",
       "      <th>1</th>\n",
       "      <td>B007JINB0W</td>\n",
       "      <td>A3D7EFSRC6Y9MP</td>\n",
       "      <td>The texture just made it a little strange to e...</td>\n",
       "      <td>Okay but don't like texture</td>\n",
       "      <td>3</td>\n",
       "      <td>2014</td>\n",
       "      <td>Miracle Noodle Zero Carb, Gluten Free Shiratak...</td>\n",
       "      <td>Miracle Noodle</td>\n",
       "      <td>Grocery &amp; Gourmet Food; Pasta &amp; Noodles; Noodl...</td>\n",
       "      <td>Okay but don't like texture: The texture just ...</td>\n",
       "      <td>Okay but don't like texture: The texture just ...</td>\n",
       "      <td>[okay, but, do, n't, like, texture, the, textu...</td>\n",
       "      <td>[okay, like, texture, texture, little, strange...</td>\n",
       "      <td>[okay, like, texture, texture, little, strange...</td>\n",
       "      <td>okay but do n't like texture the texture just ...</td>\n",
       "      <td>okay like texture texture little strange eat f...</td>\n",
       "      <td>okay like texture texture little strange eat f...</td>\n",
       "    </tr>\n",
       "    <tr>\n",
       "      <th>2</th>\n",
       "      <td>B007JINB0W</td>\n",
       "      <td>A4AM5KBP3I2R</td>\n",
       "      <td>The herb flavor makes the odd texture of shira...</td>\n",
       "      <td>Go for the green noodles</td>\n",
       "      <td>5</td>\n",
       "      <td>2018</td>\n",
       "      <td>Miracle Noodle Zero Carb, Gluten Free Shiratak...</td>\n",
       "      <td>Miracle Noodle</td>\n",
       "      <td>Grocery &amp; Gourmet Food; Pasta &amp; Noodles; Noodl...</td>\n",
       "      <td>Go for the green noodles: The herb flavor make...</td>\n",
       "      <td>Go for the green noodles: The herb flavor make...</td>\n",
       "      <td>[go, for, the, green, noodles, the, herb, flav...</td>\n",
       "      <td>[green, noodles, herb, flavor, makes, odd, tex...</td>\n",
       "      <td>[green, noodle, herb, flavor, make, odd, textu...</td>\n",
       "      <td>go for the green noodles the herb flavor makes...</td>\n",
       "      <td>green noodles herb flavor makes odd texture sh...</td>\n",
       "      <td>green noodle herb flavor make odd texture shir...</td>\n",
       "    </tr>\n",
       "    <tr>\n",
       "      <th>3</th>\n",
       "      <td>B007JINB0W</td>\n",
       "      <td>A3GHK4IL78DB7Y</td>\n",
       "      <td>I didn't have a problem at all with a half fil...</td>\n",
       "      <td>Its an awesome substitute.</td>\n",
       "      <td>5</td>\n",
       "      <td>2018</td>\n",
       "      <td>Miracle Noodle Zero Carb, Gluten Free Shiratak...</td>\n",
       "      <td>Miracle Noodle</td>\n",
       "      <td>Grocery &amp; Gourmet Food; Pasta &amp; Noodles; Noodl...</td>\n",
       "      <td>Its an awesome substitute.: I didn't have a pr...</td>\n",
       "      <td>Its an awesome substitute.: I didn't have a pr...</td>\n",
       "      <td>[its, an, awesome, substitute, i, did, n't, ha...</td>\n",
       "      <td>[awesome, substitute, problem, half, filled, b...</td>\n",
       "      <td>[awesome, substitute, problem, half, fill, bag...</td>\n",
       "      <td>its an awesome substitute i did n't have a pro...</td>\n",
       "      <td>awesome substitute problem half filled bag use...</td>\n",
       "      <td>awesome substitute problem half fill bag user ...</td>\n",
       "    </tr>\n",
       "    <tr>\n",
       "      <th>4</th>\n",
       "      <td>B007JINB0W</td>\n",
       "      <td>AH3B94LQOPPY6</td>\n",
       "      <td>They taste like whatever you cook them with.</td>\n",
       "      <td>Five Stars</td>\n",
       "      <td>5</td>\n",
       "      <td>2016</td>\n",
       "      <td>Miracle Noodle Zero Carb, Gluten Free Shiratak...</td>\n",
       "      <td>Miracle Noodle</td>\n",
       "      <td>Grocery &amp; Gourmet Food; Pasta &amp; Noodles; Noodl...</td>\n",
       "      <td>Five Stars: They taste like whatever you cook ...</td>\n",
       "      <td>Five Stars: They taste like whatever you cook ...</td>\n",
       "      <td>[five, stars, they, taste, like, whatever, you...</td>\n",
       "      <td>[stars, taste, like, cook]</td>\n",
       "      <td>[star, taste, like, cook]</td>\n",
       "      <td>five stars they taste like whatever you cook t...</td>\n",
       "      <td>stars taste like cook</td>\n",
       "      <td>star taste like cook</td>\n",
       "    </tr>\n",
       "    <tr>\n",
       "      <th>...</th>\n",
       "      <td>...</td>\n",
       "      <td>...</td>\n",
       "      <td>...</td>\n",
       "      <td>...</td>\n",
       "      <td>...</td>\n",
       "      <td>...</td>\n",
       "      <td>...</td>\n",
       "      <td>...</td>\n",
       "      <td>...</td>\n",
       "      <td>...</td>\n",
       "      <td>...</td>\n",
       "      <td>...</td>\n",
       "      <td>...</td>\n",
       "      <td>...</td>\n",
       "      <td>...</td>\n",
       "      <td>...</td>\n",
       "      <td>...</td>\n",
       "    </tr>\n",
       "    <tr>\n",
       "      <th>4358</th>\n",
       "      <td>B007JINB0W</td>\n",
       "      <td>A73IG1ED6S0JR</td>\n",
       "      <td>Product arrived with two of the bags punctured...</td>\n",
       "      <td>would not recomend</td>\n",
       "      <td>1</td>\n",
       "      <td>2016</td>\n",
       "      <td>Miracle Noodle Zero Carb, Gluten Free Shiratak...</td>\n",
       "      <td>Miracle Noodle</td>\n",
       "      <td>Grocery &amp; Gourmet Food; Pasta &amp; Noodles; Noodl...</td>\n",
       "      <td>would not recomend: Product arrived with two o...</td>\n",
       "      <td>would not recomend: Product arrived with two o...</td>\n",
       "      <td>[would, not, recomend, product, arrived, with,...</td>\n",
       "      <td>[recomend, product, arrived, bags, punctured, ...</td>\n",
       "      <td>[recomend, product, arrive, bag, puncture, sme...</td>\n",
       "      <td>would not recomend product arrived with two of...</td>\n",
       "      <td>recomend product arrived bags punctured smells...</td>\n",
       "      <td>recomend product arrive bag puncture smell bad</td>\n",
       "    </tr>\n",
       "    <tr>\n",
       "      <th>4359</th>\n",
       "      <td>B007JINB0W</td>\n",
       "      <td>A1XZ2H0MYG54M0</td>\n",
       "      <td>Ok.</td>\n",
       "      <td>Five Stars</td>\n",
       "      <td>5</td>\n",
       "      <td>2016</td>\n",
       "      <td>Miracle Noodle Zero Carb, Gluten Free Shiratak...</td>\n",
       "      <td>Miracle Noodle</td>\n",
       "      <td>Grocery &amp; Gourmet Food; Pasta &amp; Noodles; Noodl...</td>\n",
       "      <td>Five Stars: Ok.</td>\n",
       "      <td>Five Stars: Ok.</td>\n",
       "      <td>[five, stars, ok]</td>\n",
       "      <td>[stars, ok]</td>\n",
       "      <td>[star, ok]</td>\n",
       "      <td>five stars ok</td>\n",
       "      <td>stars ok</td>\n",
       "      <td>star ok</td>\n",
       "    </tr>\n",
       "    <tr>\n",
       "      <th>4360</th>\n",
       "      <td>B007JINB0W</td>\n",
       "      <td>A3I2YF0MXB7P0B</td>\n",
       "      <td>I like these noodles but the spinach ones just...</td>\n",
       "      <td>Not awful, but now I know why these were on sale.</td>\n",
       "      <td>2</td>\n",
       "      <td>2013</td>\n",
       "      <td>Miracle Noodle Zero Carb, Gluten Free Shiratak...</td>\n",
       "      <td>Miracle Noodle</td>\n",
       "      <td>Grocery &amp; Gourmet Food; Pasta &amp; Noodles; Noodl...</td>\n",
       "      <td>Not awful, but now I know why these were on sa...</td>\n",
       "      <td>Not awful, but now I know why these were on sa...</td>\n",
       "      <td>[not, awful, but, now, i, know, why, these, we...</td>\n",
       "      <td>[awful, know, sale, like, noodles, spinach, on...</td>\n",
       "      <td>[awful, know, sale, like, noodle, spinach, one...</td>\n",
       "      <td>not awful but now i know why these were on sal...</td>\n",
       "      <td>awful know sale like noodles spinach ones tast...</td>\n",
       "      <td>awful know sale like noodle spinach one taste ...</td>\n",
       "    </tr>\n",
       "    <tr>\n",
       "      <th>4361</th>\n",
       "      <td>B007JINB0W</td>\n",
       "      <td>A2UELLFLITPMT1</td>\n",
       "      <td>Truly horrific. Like eating dead worms.</td>\n",
       "      <td>Don't even try it.</td>\n",
       "      <td>1</td>\n",
       "      <td>2017</td>\n",
       "      <td>Miracle Noodle Zero Carb, Gluten Free Shiratak...</td>\n",
       "      <td>Miracle Noodle</td>\n",
       "      <td>Grocery &amp; Gourmet Food; Pasta &amp; Noodles; Noodl...</td>\n",
       "      <td>Don't even try it.: Truly horrific. Like eatin...</td>\n",
       "      <td>Don't even try it.: Truly horrific. Like eatin...</td>\n",
       "      <td>[do, n't, even, try, it, truly, horrific, like...</td>\n",
       "      <td>[try, truly, horrific, like, eating, dead, worms]</td>\n",
       "      <td>[try, truly, horrific, like, eat, dead, worm]</td>\n",
       "      <td>do n't even try it truly horrific like eating ...</td>\n",
       "      <td>try truly horrific like eating dead worms</td>\n",
       "      <td>try truly horrific like eat dead worm</td>\n",
       "    </tr>\n",
       "    <tr>\n",
       "      <th>4362</th>\n",
       "      <td>B007JINB0W</td>\n",
       "      <td>A178M2AHNWQZB0</td>\n",
       "      <td>We love the rice noodles, and have problems fi...</td>\n",
       "      <td>As good as all the other Miracle noodle products</td>\n",
       "      <td>5</td>\n",
       "      <td>2017</td>\n",
       "      <td>Miracle Noodle Zero Carb, Gluten Free Shiratak...</td>\n",
       "      <td>Miracle Noodle</td>\n",
       "      <td>Grocery &amp; Gourmet Food; Pasta &amp; Noodles; Noodl...</td>\n",
       "      <td>As good as all the other Miracle noodle produc...</td>\n",
       "      <td>As good as all the other Miracle noodle produc...</td>\n",
       "      <td>[as, good, as, all, the, other, miracle, noodl...</td>\n",
       "      <td>[good, miracle, noodle, products, love, rice, ...</td>\n",
       "      <td>[good, miracle, noodle, product, love, rice, n...</td>\n",
       "      <td>as good as all the other miracle noodle produc...</td>\n",
       "      <td>good miracle noodle products love rice noodles...</td>\n",
       "      <td>good miracle noodle product love rice noodle p...</td>\n",
       "    </tr>\n",
       "  </tbody>\n",
       "</table>\n",
       "<p>4363 rows × 17 columns</p>\n",
       "</div>"
      ],
      "text/plain": [
       "            asin      reviewerID  \\\n",
       "0     B007JINB0W   A3Y51NV9HU5T2   \n",
       "1     B007JINB0W  A3D7EFSRC6Y9MP   \n",
       "2     B007JINB0W    A4AM5KBP3I2R   \n",
       "3     B007JINB0W  A3GHK4IL78DB7Y   \n",
       "4     B007JINB0W   AH3B94LQOPPY6   \n",
       "...          ...             ...   \n",
       "4358  B007JINB0W   A73IG1ED6S0JR   \n",
       "4359  B007JINB0W  A1XZ2H0MYG54M0   \n",
       "4360  B007JINB0W  A3I2YF0MXB7P0B   \n",
       "4361  B007JINB0W  A2UELLFLITPMT1   \n",
       "4362  B007JINB0W  A178M2AHNWQZB0   \n",
       "\n",
       "                                             reviewText  \\\n",
       "0     Great pasta taste and feel, but the spell in t...   \n",
       "1     The texture just made it a little strange to e...   \n",
       "2     The herb flavor makes the odd texture of shira...   \n",
       "3     I didn't have a problem at all with a half fil...   \n",
       "4         They taste like whatever you cook them with.    \n",
       "...                                                 ...   \n",
       "4358  Product arrived with two of the bags punctured...   \n",
       "4359                                                Ok.   \n",
       "4360  I like these noodles but the spinach ones just...   \n",
       "4361            Truly horrific. Like eating dead worms.   \n",
       "4362  We love the rice noodles, and have problems fi...   \n",
       "\n",
       "                                                summary  overall  year  \\\n",
       "0                                            Four Stars        4  2018   \n",
       "1                           Okay but don't like texture        3  2014   \n",
       "2                              Go for the green noodles        5  2018   \n",
       "3                            Its an awesome substitute.        5  2018   \n",
       "4                                            Five Stars        5  2016   \n",
       "...                                                 ...      ...   ...   \n",
       "4358                                 would not recomend        1  2016   \n",
       "4359                                         Five Stars        5  2016   \n",
       "4360  Not awful, but now I know why these were on sale.        2  2013   \n",
       "4361                                 Don't even try it.        1  2017   \n",
       "4362   As good as all the other Miracle noodle products        5  2017   \n",
       "\n",
       "                                                  title           brand  \\\n",
       "0     Miracle Noodle Zero Carb, Gluten Free Shiratak...  Miracle Noodle   \n",
       "1     Miracle Noodle Zero Carb, Gluten Free Shiratak...  Miracle Noodle   \n",
       "2     Miracle Noodle Zero Carb, Gluten Free Shiratak...  Miracle Noodle   \n",
       "3     Miracle Noodle Zero Carb, Gluten Free Shiratak...  Miracle Noodle   \n",
       "4     Miracle Noodle Zero Carb, Gluten Free Shiratak...  Miracle Noodle   \n",
       "...                                                 ...             ...   \n",
       "4358  Miracle Noodle Zero Carb, Gluten Free Shiratak...  Miracle Noodle   \n",
       "4359  Miracle Noodle Zero Carb, Gluten Free Shiratak...  Miracle Noodle   \n",
       "4360  Miracle Noodle Zero Carb, Gluten Free Shiratak...  Miracle Noodle   \n",
       "4361  Miracle Noodle Zero Carb, Gluten Free Shiratak...  Miracle Noodle   \n",
       "4362  Miracle Noodle Zero Carb, Gluten Free Shiratak...  Miracle Noodle   \n",
       "\n",
       "                                               category  \\\n",
       "0     Grocery & Gourmet Food; Pasta & Noodles; Noodl...   \n",
       "1     Grocery & Gourmet Food; Pasta & Noodles; Noodl...   \n",
       "2     Grocery & Gourmet Food; Pasta & Noodles; Noodl...   \n",
       "3     Grocery & Gourmet Food; Pasta & Noodles; Noodl...   \n",
       "4     Grocery & Gourmet Food; Pasta & Noodles; Noodl...   \n",
       "...                                                 ...   \n",
       "4358  Grocery & Gourmet Food; Pasta & Noodles; Noodl...   \n",
       "4359  Grocery & Gourmet Food; Pasta & Noodles; Noodl...   \n",
       "4360  Grocery & Gourmet Food; Pasta & Noodles; Noodl...   \n",
       "4361  Grocery & Gourmet Food; Pasta & Noodles; Noodl...   \n",
       "4362  Grocery & Gourmet Food; Pasta & Noodles; Noodl...   \n",
       "\n",
       "                                       review-text-full  \\\n",
       "0     Four Stars: Great pasta taste and feel, but th...   \n",
       "1     Okay but don't like texture: The texture just ...   \n",
       "2     Go for the green noodles: The herb flavor make...   \n",
       "3     Its an awesome substitute.: I didn't have a pr...   \n",
       "4     Five Stars: They taste like whatever you cook ...   \n",
       "...                                                 ...   \n",
       "4358  would not recomend: Product arrived with two o...   \n",
       "4359                                    Five Stars: Ok.   \n",
       "4360  Not awful, but now I know why these were on sa...   \n",
       "4361  Don't even try it.: Truly horrific. Like eatin...   \n",
       "4362  As good as all the other Miracle noodle produc...   \n",
       "\n",
       "                                   review-text-full_raw  \\\n",
       "0     Four Stars: Great pasta taste and feel, but th...   \n",
       "1     Okay but don't like texture: The texture just ...   \n",
       "2     Go for the green noodles: The herb flavor make...   \n",
       "3     Its an awesome substitute.: I didn't have a pr...   \n",
       "4     Five Stars: They taste like whatever you cook ...   \n",
       "...                                                 ...   \n",
       "4358  would not recomend: Product arrived with two o...   \n",
       "4359                                    Five Stars: Ok.   \n",
       "4360  Not awful, but now I know why these were on sa...   \n",
       "4361  Don't even try it.: Truly horrific. Like eatin...   \n",
       "4362  As good as all the other Miracle noodle produc...   \n",
       "\n",
       "                                           tokens-dirty  \\\n",
       "0     [four, stars, great, pasta, taste, and, feel, ...   \n",
       "1     [okay, but, do, n't, like, texture, the, textu...   \n",
       "2     [go, for, the, green, noodles, the, herb, flav...   \n",
       "3     [its, an, awesome, substitute, i, did, n't, ha...   \n",
       "4     [five, stars, they, taste, like, whatever, you...   \n",
       "...                                                 ...   \n",
       "4358  [would, not, recomend, product, arrived, with,...   \n",
       "4359                                  [five, stars, ok]   \n",
       "4360  [not, awful, but, now, i, know, why, these, we...   \n",
       "4361  [do, n't, even, try, it, truly, horrific, like...   \n",
       "4362  [as, good, as, all, the, other, miracle, noodl...   \n",
       "\n",
       "                                                 tokens  \\\n",
       "0     [stars, great, pasta, taste, feel, spell, pack...   \n",
       "1     [okay, like, texture, texture, little, strange...   \n",
       "2     [green, noodles, herb, flavor, makes, odd, tex...   \n",
       "3     [awesome, substitute, problem, half, filled, b...   \n",
       "4                            [stars, taste, like, cook]   \n",
       "...                                                 ...   \n",
       "4358  [recomend, product, arrived, bags, punctured, ...   \n",
       "4359                                        [stars, ok]   \n",
       "4360  [awful, know, sale, like, noodles, spinach, on...   \n",
       "4361  [try, truly, horrific, like, eating, dead, worms]   \n",
       "4362  [good, miracle, noodle, products, love, rice, ...   \n",
       "\n",
       "                                                 lemmas  \\\n",
       "0     [star, great, pasta, taste, feel, spell, packa...   \n",
       "1     [okay, like, texture, texture, little, strange...   \n",
       "2     [green, noodle, herb, flavor, make, odd, textu...   \n",
       "3     [awesome, substitute, problem, half, fill, bag...   \n",
       "4                             [star, taste, like, cook]   \n",
       "...                                                 ...   \n",
       "4358  [recomend, product, arrive, bag, puncture, sme...   \n",
       "4359                                         [star, ok]   \n",
       "4360  [awful, know, sale, like, noodle, spinach, one...   \n",
       "4361      [try, truly, horrific, like, eat, dead, worm]   \n",
       "4362  [good, miracle, noodle, product, love, rice, n...   \n",
       "\n",
       "                                    tokens-dirty-joined  \\\n",
       "0     four stars great pasta taste and feel but the ...   \n",
       "1     okay but do n't like texture the texture just ...   \n",
       "2     go for the green noodles the herb flavor makes...   \n",
       "3     its an awesome substitute i did n't have a pro...   \n",
       "4     five stars they taste like whatever you cook t...   \n",
       "...                                                 ...   \n",
       "4358  would not recomend product arrived with two of...   \n",
       "4359                                      five stars ok   \n",
       "4360  not awful but now i know why these were on sal...   \n",
       "4361  do n't even try it truly horrific like eating ...   \n",
       "4362  as good as all the other miracle noodle produc...   \n",
       "\n",
       "                                          tokens-joined  \\\n",
       "0     stars great pasta taste feel spell packaged sk...   \n",
       "1     okay like texture texture little strange eat f...   \n",
       "2     green noodles herb flavor makes odd texture sh...   \n",
       "3     awesome substitute problem half filled bag use...   \n",
       "4                                 stars taste like cook   \n",
       "...                                                 ...   \n",
       "4358  recomend product arrived bags punctured smells...   \n",
       "4359                                           stars ok   \n",
       "4360  awful know sale like noodles spinach ones tast...   \n",
       "4361          try truly horrific like eating dead worms   \n",
       "4362  good miracle noodle products love rice noodles...   \n",
       "\n",
       "                                          lemmas-joined  \n",
       "0      star great pasta taste feel spell package skrong  \n",
       "1     okay like texture texture little strange eat f...  \n",
       "2     green noodle herb flavor make odd texture shir...  \n",
       "3     awesome substitute problem half fill bag user ...  \n",
       "4                                  star taste like cook  \n",
       "...                                                 ...  \n",
       "4358     recomend product arrive bag puncture smell bad  \n",
       "4359                                            star ok  \n",
       "4360  awful know sale like noodle spinach one taste ...  \n",
       "4361              try truly horrific like eat dead worm  \n",
       "4362  good miracle noodle product love rice noodle p...  \n",
       "\n",
       "[4363 rows x 17 columns]"
      ]
     },
     "execution_count": 11,
     "metadata": {},
     "output_type": "execute_result"
    }
   ],
   "source": [
    "df = pd.read_json(reviews_fpath)\n",
    "# df = df.reset_index(drop=False)\n",
    "df"
   ]
  },
  {
   "cell_type": "code",
   "execution_count": 12,
   "id": "638d553e-3cef-43e3-a2e5-abc8a723a156",
   "metadata": {
    "execution": {
     "iopub.execute_input": "2024-02-13T01:38:33.137539Z",
     "iopub.status.busy": "2024-02-13T01:38:33.137399Z",
     "iopub.status.idle": "2024-02-13T01:38:33.147793Z",
     "shell.execute_reply": "2024-02-13T01:38:33.147289Z",
     "shell.execute_reply.started": "2024-02-13T01:38:33.137528Z"
    }
   },
   "outputs": [
    {
     "data": {
      "text/plain": [
       "0"
      ]
     },
     "execution_count": 12,
     "metadata": {},
     "output_type": "execute_result"
    }
   ],
   "source": [
    "# Check for duplciate review ids\n",
    "dup_subset_cols = ['asin','reviewerID','review-text-full']\n",
    "df.duplicated(subset=dup_subset_cols).sum()"
   ]
  },
  {
   "cell_type": "code",
   "execution_count": 13,
   "id": "5b3947fb-f36d-40f8-9eaa-eddeef3e907f",
   "metadata": {
    "execution": {
     "iopub.execute_input": "2024-02-13T01:38:33.148620Z",
     "iopub.status.busy": "2024-02-13T01:38:33.148372Z",
     "iopub.status.idle": "2024-02-13T01:38:33.155327Z",
     "shell.execute_reply": "2024-02-13T01:38:33.154661Z",
     "shell.execute_reply.started": "2024-02-13T01:38:33.148608Z"
    }
   },
   "outputs": [
    {
     "data": {
      "text/plain": [
       "42"
      ]
     },
     "execution_count": 13,
     "metadata": {},
     "output_type": "execute_result"
    }
   ],
   "source": [
    "# Check for duplicated review text\n",
    "df.duplicated(subset=['review-text-full']).sum()"
   ]
  },
  {
   "cell_type": "code",
   "execution_count": 14,
   "id": "90cd2783-7931-4e8a-8500-e28e971f1b69",
   "metadata": {
    "execution": {
     "iopub.execute_input": "2024-02-13T01:38:33.157349Z",
     "iopub.status.busy": "2024-02-13T01:38:33.157168Z",
     "iopub.status.idle": "2024-02-13T01:38:33.172420Z",
     "shell.execute_reply": "2024-02-13T01:38:33.171823Z",
     "shell.execute_reply.started": "2024-02-13T01:38:33.157319Z"
    }
   },
   "outputs": [
    {
     "data": {
      "text/plain": [
       "asin                    0\n",
       "reviewerID              0\n",
       "reviewText              0\n",
       "summary                 0\n",
       "overall                 0\n",
       "year                    0\n",
       "title                   0\n",
       "brand                   0\n",
       "category                0\n",
       "review-text-full        0\n",
       "review-text-full_raw    0\n",
       "tokens-dirty            0\n",
       "tokens                  0\n",
       "lemmas                  0\n",
       "tokens-dirty-joined     0\n",
       "tokens-joined           0\n",
       "lemmas-joined           0\n",
       "dtype: int64"
      ]
     },
     "execution_count": 14,
     "metadata": {},
     "output_type": "execute_result"
    }
   ],
   "source": [
    "df.isna().sum()"
   ]
  },
  {
   "cell_type": "code",
   "execution_count": 15,
   "id": "5aa2df62-d2dc-43a9-825a-54863c9fe60b",
   "metadata": {
    "execution": {
     "iopub.execute_input": "2024-02-13T01:38:33.174266Z",
     "iopub.status.busy": "2024-02-13T01:38:33.173905Z",
     "iopub.status.idle": "2024-02-13T01:38:33.503688Z",
     "shell.execute_reply": "2024-02-13T01:38:33.503034Z",
     "shell.execute_reply.started": "2024-02-13T01:38:33.174252Z"
    }
   },
   "outputs": [
    {
     "data": {
      "text/plain": [
       "<Axes: >"
      ]
     },
     "execution_count": 15,
     "metadata": {},
     "output_type": "execute_result"
    },
    {
     "data": {
      "image/png": "[encoded data removed]",
      "text/plain": [
       "<Figure size 2500x1000 with 2 Axes>"
      ]
     },
     "metadata": {},
     "output_type": "display_data"
    }
   ],
   "source": [
    "import missingno\n",
    "missingno.matrix(df)"
   ]
  },
  {
   "cell_type": "markdown",
   "id": "f58bd930-aad1-4b01-80b3-dbb653e41e81",
   "metadata": {},
   "source": [
    "## Set Groups (for EDA & Modeling)"
   ]
  },
  {
   "cell_type": "code",
   "execution_count": 16,
   "id": "4ce9e587",
   "metadata": {},
   "outputs": [
    {
     "data": {
      "text/html": [
       "<svg  width=\"275\" height=\"55\"><rect x=\"0\" y=\"0\" width=\"55\" height=\"55\" style=\"fill:#1f77b4;stroke-width:2;stroke:rgb(255,255,255)\"/><rect x=\"55\" y=\"0\" width=\"55\" height=\"55\" style=\"fill:#ff7f0e;stroke-width:2;stroke:rgb(255,255,255)\"/><rect x=\"110\" y=\"0\" width=\"55\" height=\"55\" style=\"fill:#2ca02c;stroke-width:2;stroke:rgb(255,255,255)\"/><rect x=\"165\" y=\"0\" width=\"55\" height=\"55\" style=\"fill:#d62728;stroke-width:2;stroke:rgb(255,255,255)\"/><rect x=\"220\" y=\"0\" width=\"55\" height=\"55\" style=\"fill:#9467bd;stroke-width:2;stroke:rgb(255,255,255)\"/></svg>"
      ],
      "text/plain": [
       "[(0.12156862745098039, 0.4666666666666667, 0.7058823529411765),\n",
       " (1.0, 0.4980392156862745, 0.054901960784313725),\n",
       " (0.17254901960784313, 0.6274509803921569, 0.17254901960784313),\n",
       " (0.8392156862745098, 0.15294117647058825, 0.1568627450980392),\n",
       " (0.5803921568627451, 0.403921568627451, 0.7411764705882353)]"
      ]
     },
     "execution_count": 16,
     "metadata": {},
     "output_type": "execute_result"
    }
   ],
   "source": [
    "palette_tab10 = sns.palettes.color_palette('tab10',n_colors=len(df['overall'].unique()))\n",
    "palette_tab10"
   ]
  },
  {
   "cell_type": "code",
   "execution_count": 17,
   "id": "281507bf-c58e-4771-b2f8-e91910ff6e84",
   "metadata": {
    "execution": {
     "iopub.execute_input": "2024-02-13T01:38:33.504721Z",
     "iopub.status.busy": "2024-02-13T01:38:33.504538Z",
     "iopub.status.idle": "2024-02-13T01:38:33.590183Z",
     "shell.execute_reply": "2024-02-13T01:38:33.589426Z",
     "shell.execute_reply.started": "2024-02-13T01:38:33.504704Z"
    }
   },
   "outputs": [
    {
     "data": {
      "image/png": "[encoded data removed]",
      "text/plain": [
       "<Figure size 750x500 with 1 Axes>"
      ]
     },
     "metadata": {},
     "output_type": "display_data"
    }
   ],
   "source": [
    "# ds.eda.explore_categorical(df,x='overall');\n",
    "ax = sns.catplot(data=df,x='overall',kind='count', aspect=1.5, hue=\"overall\",\n",
    "            palette=palette_tab10,legend=False)"
   ]
  },
  {
   "cell_type": "markdown",
   "id": "ee844050-97ae-40ba-ba53-cc69c84193e0",
   "metadata": {},
   "source": [
    "To understand what customers do and do not like about Hoover products, we will define 2 groups:\n",
    "- High Ratings\n",
    "    - Overall rating = 5.0\n",
    "- Low Ratings\n",
    "    - Overall rating = 1.0 or 2.0\n",
    "\n",
    "\n",
    "We can use a function and .map to define group names based on the numeric overall ratings."
   ]
  },
  {
   "cell_type": "markdown",
   "id": "1556c634-01bb-4402-ae42-fb95db14d11f",
   "metadata": {},
   "source": [
    "### Define Target Groups (02/08)"
   ]
  },
  {
   "cell_type": "markdown",
   "id": "64f7afea-9d26-410e-8674-777fcef0320c",
   "metadata": {},
   "source": [
    "Binary:\n",
    "- \"High Rating\": = 5\n",
    "- \"Low Rating\": <= 2\n",
    "<!-- \n",
    "Multiclass:\n",
    "- \"High Rating\": >= 8\n",
    "- \"Mid Rating\": 4< x < 8\n",
    "- \"Low Rating\": <4 -->"
   ]
  },
  {
   "cell_type": "code",
   "execution_count": 18,
   "id": "01cf5245-d14b-4a08-8a3c-4b5b1147e323",
   "metadata": {
    "execution": {
     "iopub.execute_input": "2024-02-13T01:38:33.591234Z",
     "iopub.status.busy": "2024-02-13T01:38:33.591093Z",
     "iopub.status.idle": "2024-02-13T01:38:33.595424Z",
     "shell.execute_reply": "2024-02-13T01:38:33.594600Z",
     "shell.execute_reply.started": "2024-02-13T01:38:33.591224Z"
    }
   },
   "outputs": [],
   "source": [
    "def create_groups(x):\n",
    "    if x>=5.0:\n",
    "        return \"High\"\n",
    "    elif x <=2.0:\n",
    "        return \"Low\"\n",
    "    else: \n",
    "        return None\n",
    "    \n",
    "\n",
    "# def set_groups_multi(x):\n",
    "#     if x >= 8:\n",
    "#         group = \"High\"\n",
    "#     elif x>=4:\n",
    "#         group = \"Mid\"\n",
    "#     else:\n",
    "#         group= \"Low\"\n",
    "#     return group"
   ]
  },
  {
   "cell_type": "code",
   "execution_count": 19,
   "id": "a4017876-3aea-4e4e-9a3e-3626c6cc6d5d",
   "metadata": {
    "execution": {
     "iopub.execute_input": "2024-02-13T01:38:33.596274Z",
     "iopub.status.busy": "2024-02-13T01:38:33.596157Z",
     "iopub.status.idle": "2024-02-13T01:38:33.602860Z",
     "shell.execute_reply": "2024-02-13T01:38:33.601729Z",
     "shell.execute_reply.started": "2024-02-13T01:38:33.596264Z"
    }
   },
   "outputs": [
    {
     "data": {
      "text/plain": [
       "target-rating\n",
       "High    1868\n",
       "Low     1437\n",
       "None    1058\n",
       "Name: count, dtype: int64"
      ]
     },
     "execution_count": 19,
     "metadata": {},
     "output_type": "execute_result"
    }
   ],
   "source": [
    "df['target-rating'] = df['overall'].map(create_groups)#set_group_binary)\n",
    "df['target-rating'].value_counts(dropna=False)"
   ]
  },
  {
   "cell_type": "markdown",
   "id": "bc0c12d8-8488-40b5-9288-0bf44f6ec101",
   "metadata": {},
   "source": [
    "### Class Balance\n",
    "\n",
    "It's always a good idea to check the class balance when creating a classification model.  This can affect modeling bias and interpretation of metrics."
   ]
  },
  {
   "cell_type": "code",
   "execution_count": 20,
   "id": "e3aab28f-76e3-4480-a308-b6ae460e3984",
   "metadata": {
    "execution": {
     "iopub.execute_input": "2024-02-13T01:38:33.604029Z",
     "iopub.status.busy": "2024-02-13T01:38:33.603885Z",
     "iopub.status.idle": "2024-02-13T01:38:33.609049Z",
     "shell.execute_reply": "2024-02-13T01:38:33.608541Z",
     "shell.execute_reply.started": "2024-02-13T01:38:33.604019Z"
    }
   },
   "outputs": [
    {
     "data": {
      "text/plain": [
       "target-rating\n",
       "High    0.565204\n",
       "Low     0.434796\n",
       "Name: proportion, dtype: float64"
      ]
     },
     "execution_count": 20,
     "metadata": {},
     "output_type": "execute_result"
    }
   ],
   "source": [
    "df['target-rating'].value_counts(dropna=True, normalize=True)"
   ]
  },
  {
   "cell_type": "code",
   "execution_count": 21,
   "id": "c4cfb390-c3b3-4d48-949f-86992ff31833",
   "metadata": {
    "execution": {
     "iopub.execute_input": "2024-02-13T01:38:33.610216Z",
     "iopub.status.busy": "2024-02-13T01:38:33.610099Z",
     "iopub.status.idle": "2024-02-13T01:38:33.807980Z",
     "shell.execute_reply": "2024-02-13T01:38:33.807615Z",
     "shell.execute_reply.started": "2024-02-13T01:38:33.610207Z"
    }
   },
   "outputs": [],
   "source": [
    "# fig, axes =  plt.subplots(ncols=2, figsize=(10,5))\n",
    "# sns.histplot(data=df, x='overall', hue='target-rating', ax=axes[0])\n",
    "# sns.histplot(data=df, x='target-rating', hue='target-rating', ax=axes[1], legend=False, stat='percent')\n",
    "# fig.tight_layout()"
   ]
  },
  {
   "cell_type": "markdown",
   "id": "05fed98e-841c-47a0-bbaf-9511c70912a0",
   "metadata": {},
   "source": [
    "#### Save Reviews with Target for Modeling (Part 3)"
   ]
  },
  {
   "cell_type": "code",
   "execution_count": 22,
   "id": "13ea02b2-c22a-437f-b260-48b3ae845a6e",
   "metadata": {
    "execution": {
     "iopub.execute_input": "2024-02-13T01:38:33.808780Z",
     "iopub.status.busy": "2024-02-13T01:38:33.808673Z",
     "iopub.status.idle": "2024-02-13T01:38:33.818491Z",
     "shell.execute_reply": "2024-02-13T01:38:33.817980Z",
     "shell.execute_reply.started": "2024-02-13T01:38:33.808770Z"
    }
   },
   "outputs": [
    {
     "data": {
      "text/html": [
       "<div>\n",
       "<style scoped>\n",
       "    .dataframe tbody tr th:only-of-type {\n",
       "        vertical-align: middle;\n",
       "    }\n",
       "\n",
       "    .dataframe tbody tr th {\n",
       "        vertical-align: top;\n",
       "    }\n",
       "\n",
       "    .dataframe thead th {\n",
       "        text-align: right;\n",
       "    }\n",
       "</style>\n",
       "<table border=\"1\" class=\"dataframe\">\n",
       "  <thead>\n",
       "    <tr style=\"text-align: right;\">\n",
       "      <th></th>\n",
       "      <th>asin</th>\n",
       "      <th>reviewerID</th>\n",
       "      <th>reviewText</th>\n",
       "      <th>summary</th>\n",
       "      <th>overall</th>\n",
       "      <th>year</th>\n",
       "      <th>title</th>\n",
       "      <th>brand</th>\n",
       "      <th>category</th>\n",
       "      <th>review-text-full</th>\n",
       "      <th>review-text-full_raw</th>\n",
       "      <th>tokens-dirty</th>\n",
       "      <th>tokens</th>\n",
       "      <th>lemmas</th>\n",
       "      <th>tokens-dirty-joined</th>\n",
       "      <th>tokens-joined</th>\n",
       "      <th>lemmas-joined</th>\n",
       "      <th>target-rating</th>\n",
       "    </tr>\n",
       "  </thead>\n",
       "  <tbody>\n",
       "    <tr>\n",
       "      <th>0</th>\n",
       "      <td>B007JINB0W</td>\n",
       "      <td>A3Y51NV9HU5T2</td>\n",
       "      <td>Great pasta taste and feel, but the spell in t...</td>\n",
       "      <td>Four Stars</td>\n",
       "      <td>4</td>\n",
       "      <td>2018</td>\n",
       "      <td>Miracle Noodle Zero Carb, Gluten Free Shiratak...</td>\n",
       "      <td>Miracle Noodle</td>\n",
       "      <td>Grocery &amp; Gourmet Food; Pasta &amp; Noodles; Noodl...</td>\n",
       "      <td>Four Stars: Great pasta taste and feel, but th...</td>\n",
       "      <td>Four Stars: Great pasta taste and feel, but th...</td>\n",
       "      <td>[four, stars, great, pasta, taste, and, feel, ...</td>\n",
       "      <td>[stars, great, pasta, taste, feel, spell, pack...</td>\n",
       "      <td>[star, great, pasta, taste, feel, spell, packa...</td>\n",
       "      <td>four stars great pasta taste and feel but the ...</td>\n",
       "      <td>stars great pasta taste feel spell packaged sk...</td>\n",
       "      <td>star great pasta taste feel spell package skrong</td>\n",
       "      <td>None</td>\n",
       "    </tr>\n",
       "    <tr>\n",
       "      <th>1</th>\n",
       "      <td>B007JINB0W</td>\n",
       "      <td>A3D7EFSRC6Y9MP</td>\n",
       "      <td>The texture just made it a little strange to e...</td>\n",
       "      <td>Okay but don't like texture</td>\n",
       "      <td>3</td>\n",
       "      <td>2014</td>\n",
       "      <td>Miracle Noodle Zero Carb, Gluten Free Shiratak...</td>\n",
       "      <td>Miracle Noodle</td>\n",
       "      <td>Grocery &amp; Gourmet Food; Pasta &amp; Noodles; Noodl...</td>\n",
       "      <td>Okay but don't like texture: The texture just ...</td>\n",
       "      <td>Okay but don't like texture: The texture just ...</td>\n",
       "      <td>[okay, but, do, n't, like, texture, the, textu...</td>\n",
       "      <td>[okay, like, texture, texture, little, strange...</td>\n",
       "      <td>[okay, like, texture, texture, little, strange...</td>\n",
       "      <td>okay but do n't like texture the texture just ...</td>\n",
       "      <td>okay like texture texture little strange eat f...</td>\n",
       "      <td>okay like texture texture little strange eat f...</td>\n",
       "      <td>None</td>\n",
       "    </tr>\n",
       "    <tr>\n",
       "      <th>2</th>\n",
       "      <td>B007JINB0W</td>\n",
       "      <td>A4AM5KBP3I2R</td>\n",
       "      <td>The herb flavor makes the odd texture of shira...</td>\n",
       "      <td>Go for the green noodles</td>\n",
       "      <td>5</td>\n",
       "      <td>2018</td>\n",
       "      <td>Miracle Noodle Zero Carb, Gluten Free Shiratak...</td>\n",
       "      <td>Miracle Noodle</td>\n",
       "      <td>Grocery &amp; Gourmet Food; Pasta &amp; Noodles; Noodl...</td>\n",
       "      <td>Go for the green noodles: The herb flavor make...</td>\n",
       "      <td>Go for the green noodles: The herb flavor make...</td>\n",
       "      <td>[go, for, the, green, noodles, the, herb, flav...</td>\n",
       "      <td>[green, noodles, herb, flavor, makes, odd, tex...</td>\n",
       "      <td>[green, noodle, herb, flavor, make, odd, textu...</td>\n",
       "      <td>go for the green noodles the herb flavor makes...</td>\n",
       "      <td>green noodles herb flavor makes odd texture sh...</td>\n",
       "      <td>green noodle herb flavor make odd texture shir...</td>\n",
       "      <td>High</td>\n",
       "    </tr>\n",
       "  </tbody>\n",
       "</table>\n",
       "</div>"
      ],
      "text/plain": [
       "         asin      reviewerID  \\\n",
       "0  B007JINB0W   A3Y51NV9HU5T2   \n",
       "1  B007JINB0W  A3D7EFSRC6Y9MP   \n",
       "2  B007JINB0W    A4AM5KBP3I2R   \n",
       "\n",
       "                                          reviewText  \\\n",
       "0  Great pasta taste and feel, but the spell in t...   \n",
       "1  The texture just made it a little strange to e...   \n",
       "2  The herb flavor makes the odd texture of shira...   \n",
       "\n",
       "                       summary  overall  year  \\\n",
       "0                   Four Stars        4  2018   \n",
       "1  Okay but don't like texture        3  2014   \n",
       "2     Go for the green noodles        5  2018   \n",
       "\n",
       "                                               title           brand  \\\n",
       "0  Miracle Noodle Zero Carb, Gluten Free Shiratak...  Miracle Noodle   \n",
       "1  Miracle Noodle Zero Carb, Gluten Free Shiratak...  Miracle Noodle   \n",
       "2  Miracle Noodle Zero Carb, Gluten Free Shiratak...  Miracle Noodle   \n",
       "\n",
       "                                            category  \\\n",
       "0  Grocery & Gourmet Food; Pasta & Noodles; Noodl...   \n",
       "1  Grocery & Gourmet Food; Pasta & Noodles; Noodl...   \n",
       "2  Grocery & Gourmet Food; Pasta & Noodles; Noodl...   \n",
       "\n",
       "                                    review-text-full  \\\n",
       "0  Four Stars: Great pasta taste and feel, but th...   \n",
       "1  Okay but don't like texture: The texture just ...   \n",
       "2  Go for the green noodles: The herb flavor make...   \n",
       "\n",
       "                                review-text-full_raw  \\\n",
       "0  Four Stars: Great pasta taste and feel, but th...   \n",
       "1  Okay but don't like texture: The texture just ...   \n",
       "2  Go for the green noodles: The herb flavor make...   \n",
       "\n",
       "                                        tokens-dirty  \\\n",
       "0  [four, stars, great, pasta, taste, and, feel, ...   \n",
       "1  [okay, but, do, n't, like, texture, the, textu...   \n",
       "2  [go, for, the, green, noodles, the, herb, flav...   \n",
       "\n",
       "                                              tokens  \\\n",
       "0  [stars, great, pasta, taste, feel, spell, pack...   \n",
       "1  [okay, like, texture, texture, little, strange...   \n",
       "2  [green, noodles, herb, flavor, makes, odd, tex...   \n",
       "\n",
       "                                              lemmas  \\\n",
       "0  [star, great, pasta, taste, feel, spell, packa...   \n",
       "1  [okay, like, texture, texture, little, strange...   \n",
       "2  [green, noodle, herb, flavor, make, odd, textu...   \n",
       "\n",
       "                                 tokens-dirty-joined  \\\n",
       "0  four stars great pasta taste and feel but the ...   \n",
       "1  okay but do n't like texture the texture just ...   \n",
       "2  go for the green noodles the herb flavor makes...   \n",
       "\n",
       "                                       tokens-joined  \\\n",
       "0  stars great pasta taste feel spell packaged sk...   \n",
       "1  okay like texture texture little strange eat f...   \n",
       "2  green noodles herb flavor makes odd texture sh...   \n",
       "\n",
       "                                       lemmas-joined target-rating  \n",
       "0   star great pasta taste feel spell package skrong          None  \n",
       "1  okay like texture texture little strange eat f...          None  \n",
       "2  green noodle herb flavor make odd texture shir...          High  "
      ]
     },
     "execution_count": 22,
     "metadata": {},
     "output_type": "execute_result"
    }
   ],
   "source": [
    "df.head(3)"
   ]
  },
  {
   "cell_type": "code",
   "execution_count": 23,
   "id": "3d67a023-ccba-42a7-8d58-dd25c942ac4f",
   "metadata": {
    "execution": {
     "iopub.execute_input": "2024-02-13T01:38:33.819342Z",
     "iopub.status.busy": "2024-02-13T01:38:33.819212Z",
     "iopub.status.idle": "2024-02-13T01:38:33.822036Z",
     "shell.execute_reply": "2024-02-13T01:38:33.821713Z",
     "shell.execute_reply.started": "2024-02-13T01:38:33.819330Z"
    }
   },
   "outputs": [
    {
     "data": {
      "text/plain": [
       "'data/processed/processed-reviews-with-target.json'"
      ]
     },
     "execution_count": 23,
     "metadata": {},
     "output_type": "execute_result"
    }
   ],
   "source": [
    "# Save the df with target columns\n",
    "fpath_out_ml_with_targets =  FPATHS['data']['processed-nlp']['processed-reviews-with-target_json']\n",
    "fpath_out_ml_with_targets"
   ]
  },
  {
   "cell_type": "code",
   "execution_count": 24,
   "id": "924d01ba-c91f-44cc-8352-1bebe5cdf7d3",
   "metadata": {
    "execution": {
     "iopub.execute_input": "2024-02-13T01:38:33.828922Z",
     "iopub.status.busy": "2024-02-13T01:38:33.828565Z",
     "iopub.status.idle": "2024-02-13T01:38:33.832116Z",
     "shell.execute_reply": "2024-02-13T01:38:33.831512Z",
     "shell.execute_reply.started": "2024-02-13T01:38:33.828903Z"
    }
   },
   "outputs": [
    {
     "data": {
      "text/plain": [
       "{'processed-reviews-spacy_json': 'data/processed/processed-reviews.json',\n",
       " 'processed-reviews-spacy_joblib': 'data/processed/processed-reviews.joblib',\n",
       " 'processed-reviews-with-target_json': 'data/processed/processed-reviews-with-target.json',\n",
       " 'processed-reviews-with-target_joblib': 'data/processed/processed-reviews-with-target.joblib'}"
      ]
     },
     "execution_count": 24,
     "metadata": {},
     "output_type": "execute_result"
    }
   ],
   "source": [
    "FPATHS['data']['processed-nlp']"
   ]
  },
  {
   "cell_type": "code",
   "execution_count": 25,
   "id": "5509ae84-6671-43cb-b300-052f30110cf7",
   "metadata": {
    "execution": {
     "iopub.execute_input": "2024-02-13T01:38:33.832680Z",
     "iopub.status.busy": "2024-02-13T01:38:33.832574Z",
     "iopub.status.idle": "2024-02-13T01:38:33.876875Z",
     "shell.execute_reply": "2024-02-13T01:38:33.876503Z",
     "shell.execute_reply.started": "2024-02-13T01:38:33.832671Z"
    }
   },
   "outputs": [],
   "source": [
    "# Save to json\n",
    "df.to_json(fpath_out_ml_with_targets)"
   ]
  },
  {
   "cell_type": "code",
   "execution_count": 26,
   "id": "4997f0a6-1ecb-48f7-a83b-b302052c5cbc",
   "metadata": {
    "execution": {
     "iopub.execute_input": "2024-02-13T01:38:33.877566Z",
     "iopub.status.busy": "2024-02-13T01:38:33.877468Z",
     "iopub.status.idle": "2024-02-13T01:38:33.955604Z",
     "shell.execute_reply": "2024-02-13T01:38:33.955281Z",
     "shell.execute_reply.started": "2024-02-13T01:38:33.877557Z"
    }
   },
   "outputs": [
    {
     "data": {
      "text/html": [
       "<div>\n",
       "<style scoped>\n",
       "    .dataframe tbody tr th:only-of-type {\n",
       "        vertical-align: middle;\n",
       "    }\n",
       "\n",
       "    .dataframe tbody tr th {\n",
       "        vertical-align: top;\n",
       "    }\n",
       "\n",
       "    .dataframe thead th {\n",
       "        text-align: right;\n",
       "    }\n",
       "</style>\n",
       "<table border=\"1\" class=\"dataframe\">\n",
       "  <thead>\n",
       "    <tr style=\"text-align: right;\">\n",
       "      <th></th>\n",
       "      <th>asin</th>\n",
       "      <th>reviewerID</th>\n",
       "      <th>reviewText</th>\n",
       "      <th>summary</th>\n",
       "      <th>overall</th>\n",
       "      <th>year</th>\n",
       "      <th>title</th>\n",
       "      <th>brand</th>\n",
       "      <th>category</th>\n",
       "      <th>review-text-full</th>\n",
       "      <th>review-text-full_raw</th>\n",
       "      <th>tokens-dirty</th>\n",
       "      <th>tokens</th>\n",
       "      <th>lemmas</th>\n",
       "      <th>tokens-dirty-joined</th>\n",
       "      <th>tokens-joined</th>\n",
       "      <th>lemmas-joined</th>\n",
       "      <th>target-rating</th>\n",
       "    </tr>\n",
       "  </thead>\n",
       "  <tbody>\n",
       "    <tr>\n",
       "      <th>0</th>\n",
       "      <td>B007JINB0W</td>\n",
       "      <td>A3Y51NV9HU5T2</td>\n",
       "      <td>Great pasta taste and feel, but the spell in t...</td>\n",
       "      <td>Four Stars</td>\n",
       "      <td>4</td>\n",
       "      <td>2018</td>\n",
       "      <td>Miracle Noodle Zero Carb, Gluten Free Shiratak...</td>\n",
       "      <td>Miracle Noodle</td>\n",
       "      <td>Grocery &amp; Gourmet Food; Pasta &amp; Noodles; Noodl...</td>\n",
       "      <td>Four Stars: Great pasta taste and feel, but th...</td>\n",
       "      <td>Four Stars: Great pasta taste and feel, but th...</td>\n",
       "      <td>[four, stars, great, pasta, taste, and, feel, ...</td>\n",
       "      <td>[stars, great, pasta, taste, feel, spell, pack...</td>\n",
       "      <td>[star, great, pasta, taste, feel, spell, packa...</td>\n",
       "      <td>four stars great pasta taste and feel but the ...</td>\n",
       "      <td>stars great pasta taste feel spell packaged sk...</td>\n",
       "      <td>star great pasta taste feel spell package skrong</td>\n",
       "      <td>None</td>\n",
       "    </tr>\n",
       "    <tr>\n",
       "      <th>1</th>\n",
       "      <td>B007JINB0W</td>\n",
       "      <td>A3D7EFSRC6Y9MP</td>\n",
       "      <td>The texture just made it a little strange to e...</td>\n",
       "      <td>Okay but don't like texture</td>\n",
       "      <td>3</td>\n",
       "      <td>2014</td>\n",
       "      <td>Miracle Noodle Zero Carb, Gluten Free Shiratak...</td>\n",
       "      <td>Miracle Noodle</td>\n",
       "      <td>Grocery &amp; Gourmet Food; Pasta &amp; Noodles; Noodl...</td>\n",
       "      <td>Okay but don't like texture: The texture just ...</td>\n",
       "      <td>Okay but don't like texture: The texture just ...</td>\n",
       "      <td>[okay, but, do, n't, like, texture, the, textu...</td>\n",
       "      <td>[okay, like, texture, texture, little, strange...</td>\n",
       "      <td>[okay, like, texture, texture, little, strange...</td>\n",
       "      <td>okay but do n't like texture the texture just ...</td>\n",
       "      <td>okay like texture texture little strange eat f...</td>\n",
       "      <td>okay like texture texture little strange eat f...</td>\n",
       "      <td>None</td>\n",
       "    </tr>\n",
       "    <tr>\n",
       "      <th>2</th>\n",
       "      <td>B007JINB0W</td>\n",
       "      <td>A4AM5KBP3I2R</td>\n",
       "      <td>The herb flavor makes the odd texture of shira...</td>\n",
       "      <td>Go for the green noodles</td>\n",
       "      <td>5</td>\n",
       "      <td>2018</td>\n",
       "      <td>Miracle Noodle Zero Carb, Gluten Free Shiratak...</td>\n",
       "      <td>Miracle Noodle</td>\n",
       "      <td>Grocery &amp; Gourmet Food; Pasta &amp; Noodles; Noodl...</td>\n",
       "      <td>Go for the green noodles: The herb flavor make...</td>\n",
       "      <td>Go for the green noodles: The herb flavor make...</td>\n",
       "      <td>[go, for, the, green, noodles, the, herb, flav...</td>\n",
       "      <td>[green, noodles, herb, flavor, makes, odd, tex...</td>\n",
       "      <td>[green, noodle, herb, flavor, make, odd, textu...</td>\n",
       "      <td>go for the green noodles the herb flavor makes...</td>\n",
       "      <td>green noodles herb flavor makes odd texture sh...</td>\n",
       "      <td>green noodle herb flavor make odd texture shir...</td>\n",
       "      <td>High</td>\n",
       "    </tr>\n",
       "    <tr>\n",
       "      <th>3</th>\n",
       "      <td>B007JINB0W</td>\n",
       "      <td>A3GHK4IL78DB7Y</td>\n",
       "      <td>I didn't have a problem at all with a half fil...</td>\n",
       "      <td>Its an awesome substitute.</td>\n",
       "      <td>5</td>\n",
       "      <td>2018</td>\n",
       "      <td>Miracle Noodle Zero Carb, Gluten Free Shiratak...</td>\n",
       "      <td>Miracle Noodle</td>\n",
       "      <td>Grocery &amp; Gourmet Food; Pasta &amp; Noodles; Noodl...</td>\n",
       "      <td>Its an awesome substitute.: I didn't have a pr...</td>\n",
       "      <td>Its an awesome substitute.: I didn't have a pr...</td>\n",
       "      <td>[its, an, awesome, substitute, i, did, n't, ha...</td>\n",
       "      <td>[awesome, substitute, problem, half, filled, b...</td>\n",
       "      <td>[awesome, substitute, problem, half, fill, bag...</td>\n",
       "      <td>its an awesome substitute i did n't have a pro...</td>\n",
       "      <td>awesome substitute problem half filled bag use...</td>\n",
       "      <td>awesome substitute problem half fill bag user ...</td>\n",
       "      <td>High</td>\n",
       "    </tr>\n",
       "    <tr>\n",
       "      <th>4</th>\n",
       "      <td>B007JINB0W</td>\n",
       "      <td>AH3B94LQOPPY6</td>\n",
       "      <td>They taste like whatever you cook them with.</td>\n",
       "      <td>Five Stars</td>\n",
       "      <td>5</td>\n",
       "      <td>2016</td>\n",
       "      <td>Miracle Noodle Zero Carb, Gluten Free Shiratak...</td>\n",
       "      <td>Miracle Noodle</td>\n",
       "      <td>Grocery &amp; Gourmet Food; Pasta &amp; Noodles; Noodl...</td>\n",
       "      <td>Five Stars: They taste like whatever you cook ...</td>\n",
       "      <td>Five Stars: They taste like whatever you cook ...</td>\n",
       "      <td>[five, stars, they, taste, like, whatever, you...</td>\n",
       "      <td>[stars, taste, like, cook]</td>\n",
       "      <td>[star, taste, like, cook]</td>\n",
       "      <td>five stars they taste like whatever you cook t...</td>\n",
       "      <td>stars taste like cook</td>\n",
       "      <td>star taste like cook</td>\n",
       "      <td>High</td>\n",
       "    </tr>\n",
       "    <tr>\n",
       "      <th>...</th>\n",
       "      <td>...</td>\n",
       "      <td>...</td>\n",
       "      <td>...</td>\n",
       "      <td>...</td>\n",
       "      <td>...</td>\n",
       "      <td>...</td>\n",
       "      <td>...</td>\n",
       "      <td>...</td>\n",
       "      <td>...</td>\n",
       "      <td>...</td>\n",
       "      <td>...</td>\n",
       "      <td>...</td>\n",
       "      <td>...</td>\n",
       "      <td>...</td>\n",
       "      <td>...</td>\n",
       "      <td>...</td>\n",
       "      <td>...</td>\n",
       "      <td>...</td>\n",
       "    </tr>\n",
       "    <tr>\n",
       "      <th>4358</th>\n",
       "      <td>B007JINB0W</td>\n",
       "      <td>A73IG1ED6S0JR</td>\n",
       "      <td>Product arrived with two of the bags punctured...</td>\n",
       "      <td>would not recomend</td>\n",
       "      <td>1</td>\n",
       "      <td>2016</td>\n",
       "      <td>Miracle Noodle Zero Carb, Gluten Free Shiratak...</td>\n",
       "      <td>Miracle Noodle</td>\n",
       "      <td>Grocery &amp; Gourmet Food; Pasta &amp; Noodles; Noodl...</td>\n",
       "      <td>would not recomend: Product arrived with two o...</td>\n",
       "      <td>would not recomend: Product arrived with two o...</td>\n",
       "      <td>[would, not, recomend, product, arrived, with,...</td>\n",
       "      <td>[recomend, product, arrived, bags, punctured, ...</td>\n",
       "      <td>[recomend, product, arrive, bag, puncture, sme...</td>\n",
       "      <td>would not recomend product arrived with two of...</td>\n",
       "      <td>recomend product arrived bags punctured smells...</td>\n",
       "      <td>recomend product arrive bag puncture smell bad</td>\n",
       "      <td>Low</td>\n",
       "    </tr>\n",
       "    <tr>\n",
       "      <th>4359</th>\n",
       "      <td>B007JINB0W</td>\n",
       "      <td>A1XZ2H0MYG54M0</td>\n",
       "      <td>Ok.</td>\n",
       "      <td>Five Stars</td>\n",
       "      <td>5</td>\n",
       "      <td>2016</td>\n",
       "      <td>Miracle Noodle Zero Carb, Gluten Free Shiratak...</td>\n",
       "      <td>Miracle Noodle</td>\n",
       "      <td>Grocery &amp; Gourmet Food; Pasta &amp; Noodles; Noodl...</td>\n",
       "      <td>Five Stars: Ok.</td>\n",
       "      <td>Five Stars: Ok.</td>\n",
       "      <td>[five, stars, ok]</td>\n",
       "      <td>[stars, ok]</td>\n",
       "      <td>[star, ok]</td>\n",
       "      <td>five stars ok</td>\n",
       "      <td>stars ok</td>\n",
       "      <td>star ok</td>\n",
       "      <td>High</td>\n",
       "    </tr>\n",
       "    <tr>\n",
       "      <th>4360</th>\n",
       "      <td>B007JINB0W</td>\n",
       "      <td>A3I2YF0MXB7P0B</td>\n",
       "      <td>I like these noodles but the spinach ones just...</td>\n",
       "      <td>Not awful, but now I know why these were on sale.</td>\n",
       "      <td>2</td>\n",
       "      <td>2013</td>\n",
       "      <td>Miracle Noodle Zero Carb, Gluten Free Shiratak...</td>\n",
       "      <td>Miracle Noodle</td>\n",
       "      <td>Grocery &amp; Gourmet Food; Pasta &amp; Noodles; Noodl...</td>\n",
       "      <td>Not awful, but now I know why these were on sa...</td>\n",
       "      <td>Not awful, but now I know why these were on sa...</td>\n",
       "      <td>[not, awful, but, now, i, know, why, these, we...</td>\n",
       "      <td>[awful, know, sale, like, noodles, spinach, on...</td>\n",
       "      <td>[awful, know, sale, like, noodle, spinach, one...</td>\n",
       "      <td>not awful but now i know why these were on sal...</td>\n",
       "      <td>awful know sale like noodles spinach ones tast...</td>\n",
       "      <td>awful know sale like noodle spinach one taste ...</td>\n",
       "      <td>Low</td>\n",
       "    </tr>\n",
       "    <tr>\n",
       "      <th>4361</th>\n",
       "      <td>B007JINB0W</td>\n",
       "      <td>A2UELLFLITPMT1</td>\n",
       "      <td>Truly horrific. Like eating dead worms.</td>\n",
       "      <td>Don't even try it.</td>\n",
       "      <td>1</td>\n",
       "      <td>2017</td>\n",
       "      <td>Miracle Noodle Zero Carb, Gluten Free Shiratak...</td>\n",
       "      <td>Miracle Noodle</td>\n",
       "      <td>Grocery &amp; Gourmet Food; Pasta &amp; Noodles; Noodl...</td>\n",
       "      <td>Don't even try it.: Truly horrific. Like eatin...</td>\n",
       "      <td>Don't even try it.: Truly horrific. Like eatin...</td>\n",
       "      <td>[do, n't, even, try, it, truly, horrific, like...</td>\n",
       "      <td>[try, truly, horrific, like, eating, dead, worms]</td>\n",
       "      <td>[try, truly, horrific, like, eat, dead, worm]</td>\n",
       "      <td>do n't even try it truly horrific like eating ...</td>\n",
       "      <td>try truly horrific like eating dead worms</td>\n",
       "      <td>try truly horrific like eat dead worm</td>\n",
       "      <td>Low</td>\n",
       "    </tr>\n",
       "    <tr>\n",
       "      <th>4362</th>\n",
       "      <td>B007JINB0W</td>\n",
       "      <td>A178M2AHNWQZB0</td>\n",
       "      <td>We love the rice noodles, and have problems fi...</td>\n",
       "      <td>As good as all the other Miracle noodle products</td>\n",
       "      <td>5</td>\n",
       "      <td>2017</td>\n",
       "      <td>Miracle Noodle Zero Carb, Gluten Free Shiratak...</td>\n",
       "      <td>Miracle Noodle</td>\n",
       "      <td>Grocery &amp; Gourmet Food; Pasta &amp; Noodles; Noodl...</td>\n",
       "      <td>As good as all the other Miracle noodle produc...</td>\n",
       "      <td>As good as all the other Miracle noodle produc...</td>\n",
       "      <td>[as, good, as, all, the, other, miracle, noodl...</td>\n",
       "      <td>[good, miracle, noodle, products, love, rice, ...</td>\n",
       "      <td>[good, miracle, noodle, product, love, rice, n...</td>\n",
       "      <td>as good as all the other miracle noodle produc...</td>\n",
       "      <td>good miracle noodle products love rice noodles...</td>\n",
       "      <td>good miracle noodle product love rice noodle p...</td>\n",
       "      <td>High</td>\n",
       "    </tr>\n",
       "  </tbody>\n",
       "</table>\n",
       "<p>4363 rows × 18 columns</p>\n",
       "</div>"
      ],
      "text/plain": [
       "            asin      reviewerID  \\\n",
       "0     B007JINB0W   A3Y51NV9HU5T2   \n",
       "1     B007JINB0W  A3D7EFSRC6Y9MP   \n",
       "2     B007JINB0W    A4AM5KBP3I2R   \n",
       "3     B007JINB0W  A3GHK4IL78DB7Y   \n",
       "4     B007JINB0W   AH3B94LQOPPY6   \n",
       "...          ...             ...   \n",
       "4358  B007JINB0W   A73IG1ED6S0JR   \n",
       "4359  B007JINB0W  A1XZ2H0MYG54M0   \n",
       "4360  B007JINB0W  A3I2YF0MXB7P0B   \n",
       "4361  B007JINB0W  A2UELLFLITPMT1   \n",
       "4362  B007JINB0W  A178M2AHNWQZB0   \n",
       "\n",
       "                                             reviewText  \\\n",
       "0     Great pasta taste and feel, but the spell in t...   \n",
       "1     The texture just made it a little strange to e...   \n",
       "2     The herb flavor makes the odd texture of shira...   \n",
       "3     I didn't have a problem at all with a half fil...   \n",
       "4         They taste like whatever you cook them with.    \n",
       "...                                                 ...   \n",
       "4358  Product arrived with two of the bags punctured...   \n",
       "4359                                                Ok.   \n",
       "4360  I like these noodles but the spinach ones just...   \n",
       "4361            Truly horrific. Like eating dead worms.   \n",
       "4362  We love the rice noodles, and have problems fi...   \n",
       "\n",
       "                                                summary  overall  year  \\\n",
       "0                                            Four Stars        4  2018   \n",
       "1                           Okay but don't like texture        3  2014   \n",
       "2                              Go for the green noodles        5  2018   \n",
       "3                            Its an awesome substitute.        5  2018   \n",
       "4                                            Five Stars        5  2016   \n",
       "...                                                 ...      ...   ...   \n",
       "4358                                 would not recomend        1  2016   \n",
       "4359                                         Five Stars        5  2016   \n",
       "4360  Not awful, but now I know why these were on sale.        2  2013   \n",
       "4361                                 Don't even try it.        1  2017   \n",
       "4362   As good as all the other Miracle noodle products        5  2017   \n",
       "\n",
       "                                                  title           brand  \\\n",
       "0     Miracle Noodle Zero Carb, Gluten Free Shiratak...  Miracle Noodle   \n",
       "1     Miracle Noodle Zero Carb, Gluten Free Shiratak...  Miracle Noodle   \n",
       "2     Miracle Noodle Zero Carb, Gluten Free Shiratak...  Miracle Noodle   \n",
       "3     Miracle Noodle Zero Carb, Gluten Free Shiratak...  Miracle Noodle   \n",
       "4     Miracle Noodle Zero Carb, Gluten Free Shiratak...  Miracle Noodle   \n",
       "...                                                 ...             ...   \n",
       "4358  Miracle Noodle Zero Carb, Gluten Free Shiratak...  Miracle Noodle   \n",
       "4359  Miracle Noodle Zero Carb, Gluten Free Shiratak...  Miracle Noodle   \n",
       "4360  Miracle Noodle Zero Carb, Gluten Free Shiratak...  Miracle Noodle   \n",
       "4361  Miracle Noodle Zero Carb, Gluten Free Shiratak...  Miracle Noodle   \n",
       "4362  Miracle Noodle Zero Carb, Gluten Free Shiratak...  Miracle Noodle   \n",
       "\n",
       "                                               category  \\\n",
       "0     Grocery & Gourmet Food; Pasta & Noodles; Noodl...   \n",
       "1     Grocery & Gourmet Food; Pasta & Noodles; Noodl...   \n",
       "2     Grocery & Gourmet Food; Pasta & Noodles; Noodl...   \n",
       "3     Grocery & Gourmet Food; Pasta & Noodles; Noodl...   \n",
       "4     Grocery & Gourmet Food; Pasta & Noodles; Noodl...   \n",
       "...                                                 ...   \n",
       "4358  Grocery & Gourmet Food; Pasta & Noodles; Noodl...   \n",
       "4359  Grocery & Gourmet Food; Pasta & Noodles; Noodl...   \n",
       "4360  Grocery & Gourmet Food; Pasta & Noodles; Noodl...   \n",
       "4361  Grocery & Gourmet Food; Pasta & Noodles; Noodl...   \n",
       "4362  Grocery & Gourmet Food; Pasta & Noodles; Noodl...   \n",
       "\n",
       "                                       review-text-full  \\\n",
       "0     Four Stars: Great pasta taste and feel, but th...   \n",
       "1     Okay but don't like texture: The texture just ...   \n",
       "2     Go for the green noodles: The herb flavor make...   \n",
       "3     Its an awesome substitute.: I didn't have a pr...   \n",
       "4     Five Stars: They taste like whatever you cook ...   \n",
       "...                                                 ...   \n",
       "4358  would not recomend: Product arrived with two o...   \n",
       "4359                                    Five Stars: Ok.   \n",
       "4360  Not awful, but now I know why these were on sa...   \n",
       "4361  Don't even try it.: Truly horrific. Like eatin...   \n",
       "4362  As good as all the other Miracle noodle produc...   \n",
       "\n",
       "                                   review-text-full_raw  \\\n",
       "0     Four Stars: Great pasta taste and feel, but th...   \n",
       "1     Okay but don't like texture: The texture just ...   \n",
       "2     Go for the green noodles: The herb flavor make...   \n",
       "3     Its an awesome substitute.: I didn't have a pr...   \n",
       "4     Five Stars: They taste like whatever you cook ...   \n",
       "...                                                 ...   \n",
       "4358  would not recomend: Product arrived with two o...   \n",
       "4359                                    Five Stars: Ok.   \n",
       "4360  Not awful, but now I know why these were on sa...   \n",
       "4361  Don't even try it.: Truly horrific. Like eatin...   \n",
       "4362  As good as all the other Miracle noodle produc...   \n",
       "\n",
       "                                           tokens-dirty  \\\n",
       "0     [four, stars, great, pasta, taste, and, feel, ...   \n",
       "1     [okay, but, do, n't, like, texture, the, textu...   \n",
       "2     [go, for, the, green, noodles, the, herb, flav...   \n",
       "3     [its, an, awesome, substitute, i, did, n't, ha...   \n",
       "4     [five, stars, they, taste, like, whatever, you...   \n",
       "...                                                 ...   \n",
       "4358  [would, not, recomend, product, arrived, with,...   \n",
       "4359                                  [five, stars, ok]   \n",
       "4360  [not, awful, but, now, i, know, why, these, we...   \n",
       "4361  [do, n't, even, try, it, truly, horrific, like...   \n",
       "4362  [as, good, as, all, the, other, miracle, noodl...   \n",
       "\n",
       "                                                 tokens  \\\n",
       "0     [stars, great, pasta, taste, feel, spell, pack...   \n",
       "1     [okay, like, texture, texture, little, strange...   \n",
       "2     [green, noodles, herb, flavor, makes, odd, tex...   \n",
       "3     [awesome, substitute, problem, half, filled, b...   \n",
       "4                            [stars, taste, like, cook]   \n",
       "...                                                 ...   \n",
       "4358  [recomend, product, arrived, bags, punctured, ...   \n",
       "4359                                        [stars, ok]   \n",
       "4360  [awful, know, sale, like, noodles, spinach, on...   \n",
       "4361  [try, truly, horrific, like, eating, dead, worms]   \n",
       "4362  [good, miracle, noodle, products, love, rice, ...   \n",
       "\n",
       "                                                 lemmas  \\\n",
       "0     [star, great, pasta, taste, feel, spell, packa...   \n",
       "1     [okay, like, texture, texture, little, strange...   \n",
       "2     [green, noodle, herb, flavor, make, odd, textu...   \n",
       "3     [awesome, substitute, problem, half, fill, bag...   \n",
       "4                             [star, taste, like, cook]   \n",
       "...                                                 ...   \n",
       "4358  [recomend, product, arrive, bag, puncture, sme...   \n",
       "4359                                         [star, ok]   \n",
       "4360  [awful, know, sale, like, noodle, spinach, one...   \n",
       "4361      [try, truly, horrific, like, eat, dead, worm]   \n",
       "4362  [good, miracle, noodle, product, love, rice, n...   \n",
       "\n",
       "                                    tokens-dirty-joined  \\\n",
       "0     four stars great pasta taste and feel but the ...   \n",
       "1     okay but do n't like texture the texture just ...   \n",
       "2     go for the green noodles the herb flavor makes...   \n",
       "3     its an awesome substitute i did n't have a pro...   \n",
       "4     five stars they taste like whatever you cook t...   \n",
       "...                                                 ...   \n",
       "4358  would not recomend product arrived with two of...   \n",
       "4359                                      five stars ok   \n",
       "4360  not awful but now i know why these were on sal...   \n",
       "4361  do n't even try it truly horrific like eating ...   \n",
       "4362  as good as all the other miracle noodle produc...   \n",
       "\n",
       "                                          tokens-joined  \\\n",
       "0     stars great pasta taste feel spell packaged sk...   \n",
       "1     okay like texture texture little strange eat f...   \n",
       "2     green noodles herb flavor makes odd texture sh...   \n",
       "3     awesome substitute problem half filled bag use...   \n",
       "4                                 stars taste like cook   \n",
       "...                                                 ...   \n",
       "4358  recomend product arrived bags punctured smells...   \n",
       "4359                                           stars ok   \n",
       "4360  awful know sale like noodles spinach ones tast...   \n",
       "4361          try truly horrific like eating dead worms   \n",
       "4362  good miracle noodle products love rice noodles...   \n",
       "\n",
       "                                          lemmas-joined target-rating  \n",
       "0      star great pasta taste feel spell package skrong          None  \n",
       "1     okay like texture texture little strange eat f...          None  \n",
       "2     green noodle herb flavor make odd texture shir...          High  \n",
       "3     awesome substitute problem half fill bag user ...          High  \n",
       "4                                  star taste like cook          High  \n",
       "...                                                 ...           ...  \n",
       "4358     recomend product arrive bag puncture smell bad           Low  \n",
       "4359                                            star ok          High  \n",
       "4360  awful know sale like noodle spinach one taste ...           Low  \n",
       "4361              try truly horrific like eat dead worm           Low  \n",
       "4362  good miracle noodle product love rice noodle p...          High  \n",
       "\n",
       "[4363 rows x 18 columns]"
      ]
     },
     "execution_count": 26,
     "metadata": {},
     "output_type": "execute_result"
    }
   ],
   "source": [
    "# Test saved json file\n",
    "pd.read_json(fpath_out_ml_with_targets)"
   ]
  },
  {
   "cell_type": "code",
   "execution_count": 27,
   "id": "640d3f17-f104-44a5-babf-b9228291eb08",
   "metadata": {
    "execution": {
     "iopub.execute_input": "2024-02-13T01:38:33.956120Z",
     "iopub.status.busy": "2024-02-13T01:38:33.956029Z",
     "iopub.status.idle": "2024-02-13T01:38:33.958760Z",
     "shell.execute_reply": "2024-02-13T01:38:33.958459Z",
     "shell.execute_reply.started": "2024-02-13T01:38:33.956111Z"
    }
   },
   "outputs": [
    {
     "data": {
      "text/plain": [
       "'data/processed/processed-reviews-with-target.joblib'"
      ]
     },
     "execution_count": 27,
     "metadata": {},
     "output_type": "execute_result"
    }
   ],
   "source": [
    "FPATHS['data']['processed-nlp']['processed-reviews-with-target_joblib']"
   ]
  },
  {
   "cell_type": "code",
   "execution_count": 28,
   "id": "46b07bdf-fc59-4d18-8339-e0d6a514c69b",
   "metadata": {
    "execution": {
     "iopub.execute_input": "2024-02-13T01:38:33.959465Z",
     "iopub.status.busy": "2024-02-13T01:38:33.959354Z",
     "iopub.status.idle": "2024-02-13T01:38:36.345844Z",
     "shell.execute_reply": "2024-02-13T01:38:36.345486Z",
     "shell.execute_reply.started": "2024-02-13T01:38:33.959456Z"
    },
    "scrolled": true
   },
   "outputs": [
    {
     "data": {
      "text/plain": [
       "['data/processed/processed-reviews-with-target.joblib']"
      ]
     },
     "execution_count": 28,
     "metadata": {},
     "output_type": "execute_result"
    }
   ],
   "source": [
    "import joblib\n",
    "joblib.dump(df, FPATHS['data']['processed-nlp']['processed-reviews-with-target_joblib'],compress=9)"
   ]
  },
  {
   "cell_type": "code",
   "execution_count": 29,
   "id": "d4e9ee2f-d518-4926-b2ed-a4078b2b43d3",
   "metadata": {
    "execution": {
     "iopub.execute_input": "2024-02-13T01:38:36.346988Z",
     "iopub.status.busy": "2024-02-13T01:38:36.346809Z",
     "iopub.status.idle": "2024-02-13T01:38:36.354251Z",
     "shell.execute_reply": "2024-02-13T01:38:36.353896Z",
     "shell.execute_reply.started": "2024-02-13T01:38:36.346977Z"
    }
   },
   "outputs": [
    {
     "data": {
      "text/html": [
       "<div>\n",
       "<style scoped>\n",
       "    .dataframe tbody tr th:only-of-type {\n",
       "        vertical-align: middle;\n",
       "    }\n",
       "\n",
       "    .dataframe tbody tr th {\n",
       "        vertical-align: top;\n",
       "    }\n",
       "\n",
       "    .dataframe thead th {\n",
       "        text-align: right;\n",
       "    }\n",
       "</style>\n",
       "<table border=\"1\" class=\"dataframe\">\n",
       "  <thead>\n",
       "    <tr style=\"text-align: right;\">\n",
       "      <th></th>\n",
       "      <th>reviewerID</th>\n",
       "      <th>review-text-full</th>\n",
       "      <th>overall</th>\n",
       "      <th>target-rating</th>\n",
       "    </tr>\n",
       "  </thead>\n",
       "  <tbody>\n",
       "    <tr>\n",
       "      <th>0</th>\n",
       "      <td>A3Y51NV9HU5T2</td>\n",
       "      <td>Four Stars: Great pasta taste and feel, but th...</td>\n",
       "      <td>4</td>\n",
       "      <td>None</td>\n",
       "    </tr>\n",
       "    <tr>\n",
       "      <th>1</th>\n",
       "      <td>A3D7EFSRC6Y9MP</td>\n",
       "      <td>Okay but don't like texture: The texture just ...</td>\n",
       "      <td>3</td>\n",
       "      <td>None</td>\n",
       "    </tr>\n",
       "    <tr>\n",
       "      <th>2</th>\n",
       "      <td>A4AM5KBP3I2R</td>\n",
       "      <td>Go for the green noodles: The herb flavor make...</td>\n",
       "      <td>5</td>\n",
       "      <td>High</td>\n",
       "    </tr>\n",
       "    <tr>\n",
       "      <th>3</th>\n",
       "      <td>A3GHK4IL78DB7Y</td>\n",
       "      <td>Its an awesome substitute.: I didn't have a pr...</td>\n",
       "      <td>5</td>\n",
       "      <td>High</td>\n",
       "    </tr>\n",
       "    <tr>\n",
       "      <th>4</th>\n",
       "      <td>AH3B94LQOPPY6</td>\n",
       "      <td>Five Stars: They taste like whatever you cook ...</td>\n",
       "      <td>5</td>\n",
       "      <td>High</td>\n",
       "    </tr>\n",
       "    <tr>\n",
       "      <th>...</th>\n",
       "      <td>...</td>\n",
       "      <td>...</td>\n",
       "      <td>...</td>\n",
       "      <td>...</td>\n",
       "    </tr>\n",
       "    <tr>\n",
       "      <th>4358</th>\n",
       "      <td>A73IG1ED6S0JR</td>\n",
       "      <td>would not recomend: Product arrived with two o...</td>\n",
       "      <td>1</td>\n",
       "      <td>Low</td>\n",
       "    </tr>\n",
       "    <tr>\n",
       "      <th>4359</th>\n",
       "      <td>A1XZ2H0MYG54M0</td>\n",
       "      <td>Five Stars: Ok.</td>\n",
       "      <td>5</td>\n",
       "      <td>High</td>\n",
       "    </tr>\n",
       "    <tr>\n",
       "      <th>4360</th>\n",
       "      <td>A3I2YF0MXB7P0B</td>\n",
       "      <td>Not awful, but now I know why these were on sa...</td>\n",
       "      <td>2</td>\n",
       "      <td>Low</td>\n",
       "    </tr>\n",
       "    <tr>\n",
       "      <th>4361</th>\n",
       "      <td>A2UELLFLITPMT1</td>\n",
       "      <td>Don't even try it.: Truly horrific. Like eatin...</td>\n",
       "      <td>1</td>\n",
       "      <td>Low</td>\n",
       "    </tr>\n",
       "    <tr>\n",
       "      <th>4362</th>\n",
       "      <td>A178M2AHNWQZB0</td>\n",
       "      <td>As good as all the other Miracle noodle produc...</td>\n",
       "      <td>5</td>\n",
       "      <td>High</td>\n",
       "    </tr>\n",
       "  </tbody>\n",
       "</table>\n",
       "<p>4363 rows × 4 columns</p>\n",
       "</div>"
      ],
      "text/plain": [
       "          reviewerID                                   review-text-full  \\\n",
       "0      A3Y51NV9HU5T2  Four Stars: Great pasta taste and feel, but th...   \n",
       "1     A3D7EFSRC6Y9MP  Okay but don't like texture: The texture just ...   \n",
       "2       A4AM5KBP3I2R  Go for the green noodles: The herb flavor make...   \n",
       "3     A3GHK4IL78DB7Y  Its an awesome substitute.: I didn't have a pr...   \n",
       "4      AH3B94LQOPPY6  Five Stars: They taste like whatever you cook ...   \n",
       "...              ...                                                ...   \n",
       "4358   A73IG1ED6S0JR  would not recomend: Product arrived with two o...   \n",
       "4359  A1XZ2H0MYG54M0                                    Five Stars: Ok.   \n",
       "4360  A3I2YF0MXB7P0B  Not awful, but now I know why these were on sa...   \n",
       "4361  A2UELLFLITPMT1  Don't even try it.: Truly horrific. Like eatin...   \n",
       "4362  A178M2AHNWQZB0  As good as all the other Miracle noodle produc...   \n",
       "\n",
       "      overall target-rating  \n",
       "0           4          None  \n",
       "1           3          None  \n",
       "2           5          High  \n",
       "3           5          High  \n",
       "4           5          High  \n",
       "...       ...           ...  \n",
       "4358        1           Low  \n",
       "4359        5          High  \n",
       "4360        2           Low  \n",
       "4361        1           Low  \n",
       "4362        5          High  \n",
       "\n",
       "[4363 rows x 4 columns]"
      ]
     },
     "execution_count": 29,
     "metadata": {},
     "output_type": "execute_result"
    }
   ],
   "source": [
    "# Saving MVP test case \n",
    "mvp_cols = ['reviewerID','review-text-full',\n",
    "            'overall',\n",
    "            'target-rating']\n",
    "df[mvp_cols]"
   ]
  },
  {
   "cell_type": "code",
   "execution_count": 30,
   "id": "a4915397-a737-4195-af76-b4859c14baf4",
   "metadata": {
    "execution": {
     "iopub.execute_input": "2024-02-13T01:38:36.355111Z",
     "iopub.status.busy": "2024-02-13T01:38:36.354928Z",
     "iopub.status.idle": "2024-02-13T01:38:36.384440Z",
     "shell.execute_reply": "2024-02-13T01:38:36.384061Z",
     "shell.execute_reply.started": "2024-02-13T01:38:36.355095Z"
    }
   },
   "outputs": [],
   "source": [
    "fpath_llm = FPATHS['data']['app']['reviews-with-target-for-llm_csv']\n",
    "df[mvp_cols].to_csv(fpath_llm, index=False)"
   ]
  },
  {
   "cell_type": "markdown",
   "id": "c95e30c6-a531-4582-a8f8-621be53d8917",
   "metadata": {},
   "source": [
    "# Part 2) EDA and Visualization"
   ]
  },
  {
   "cell_type": "markdown",
   "id": "d3b011c1-3106-42ca-aa16-240d4306a2aa",
   "metadata": {},
   "source": [
    "**2) EDA and Visualization:**\n",
    "\n",
    "- Create word clouds to visualize the most frequent and significant words in each group.\n",
    "    - Remember, you can use this analysis to identify additional custom EDA stop words to use for visualization. (e.g., if the words are common in both groups)\n",
    "    - **Save your wordclouds as .png files in the \"Images/\" folder in your repo.**\n",
    "\n",
    "\n",
    "\n",
    "- Apply nltk's `FreqDist` class to compare the frequency distribution of words in the review groups.\n",
    "    - Remember, you can use this analysis to identify additional custom EDA stop words to use for visualization. (e.g., if the words are common in both groups)\n",
    "    - **Save your freq dist plots as .png files in the \"Images/\" folder in your repo.**\n",
    "\n",
    "\n",
    "\n",
    "- Perform n-grams analysis (bigrams and trigrams),\n",
    "    - Remember, you can use this analysis to identify additional custom stop words to use for EDA. (e.g., if the words are common in both groups)\n",
    "    - Focus on bigrams or trigrams, using NLTK's `BigramCollocationFinder` and BigramAssocMeasures classes (or the Trigram equivalent Finder and Measures) to explore commonly used groups of words for each rating-group.\n",
    "    - Describe any differences. What do these differences tell you?\n",
    "    - `Save your...`?\n",
    "\n",
    "\n",
    "\n",
    "- Perform sentiment analysis to create polarity scores according to VADERS's sentiment lexicon.\n",
    "\n",
    "    - Compare the sentiments of high-rating and low-rating texts.\n",
    "\n",
    "    - Compare the average sentiment scores for high and low-rating reviews.\n",
    "\n",
    "    - Which review polarity scores don't match the ratings? Why do you think this is?\n",
    "\n",
    "        \n",
    "\n",
    "**3) Evaluation and Reporting:**\n",
    "\n",
    "- Based on your analyses, what should someone do (or not do) if they want to make a highly-rated movie?\n",
    "    - List 3 things associated with high-rating reviews\n",
    "    - List 3 things associated with low-rating reviews."
   ]
  },
  {
   "cell_type": "markdown",
   "id": "ebee29ae-1b9b-4d0a-a685-094462a123b4",
   "metadata": {},
   "source": [
    "> Adding imports as-if standalone notebook"
   ]
  },
  {
   "cell_type": "code",
   "execution_count": 31,
   "id": "54bf32a6-73c4-48df-bfd8-a4a69de471c9",
   "metadata": {
    "execution": {
     "iopub.execute_input": "2024-02-13T01:38:36.385198Z",
     "iopub.status.busy": "2024-02-13T01:38:36.385062Z",
     "iopub.status.idle": "2024-02-13T01:38:42.500315Z",
     "shell.execute_reply": "2024-02-13T01:38:42.499725Z",
     "shell.execute_reply.started": "2024-02-13T01:38:36.385186Z"
    }
   },
   "outputs": [],
   "source": [
    "import matplotlib.pyplot as plt\n",
    "import missingno\n",
    "import matplotlib as mpl\n",
    "import seaborn as sns\n",
    "import numpy as np\n",
    "import pandas as pd\n",
    "\n",
    "import spacy\n",
    "# nlp_custom = fn.nlp.make_custom_nlp(disable=['ner','parser'],contractions=[],\n",
    "#                             stopwords_to_add=[\"★\"])\n",
    "# nlp_custom\n",
    "# # Disable parser and ner\n",
    "# # nlp_light = spacy.load(\"en_core_web_sm\", disable=['parser','ner'])"
   ]
  },
  {
   "cell_type": "markdown",
   "id": "eb668e76",
   "metadata": {},
   "source": [
    "## Topic Analysis"
   ]
  },
  {
   "cell_type": "code",
   "execution_count": 32,
   "id": "e29ee382",
   "metadata": {},
   "outputs": [
    {
     "data": {
      "text/plain": [
       "<spacy.lang.en.English at 0x327fc8d90>"
      ]
     },
     "execution_count": 32,
     "metadata": {},
     "output_type": "execute_result"
    }
   ],
   "source": [
    "import spacy\n",
    "nlp = spacy.load(\"en_core_web_sm\", disable=['parser','ner'])\n",
    "nlp"
   ]
  },
  {
   "cell_type": "code",
   "execution_count": 33,
   "id": "f6935b76",
   "metadata": {},
   "outputs": [
    {
     "data": {
      "text/plain": [
       "0    Four Stars: Great pasta taste and feel, but th...\n",
       "1    Okay but don't like texture: The texture just ...\n",
       "2    Go for the green noodles: The herb flavor make...\n",
       "Name: review-text-full, dtype: object"
      ]
     },
     "execution_count": 33,
     "metadata": {},
     "output_type": "execute_result"
    }
   ],
   "source": [
    "df['review-text-full'].head(3)"
   ]
  },
  {
   "cell_type": "code",
   "execution_count": 34,
   "id": "c2967403",
   "metadata": {},
   "outputs": [
    {
     "data": {
      "text/plain": [
       "spacy.tokens.doc.Doc"
      ]
     },
     "execution_count": 34,
     "metadata": {},
     "output_type": "execute_result"
    }
   ],
   "source": [
    "spacy.tokens.Doc"
   ]
  },
  {
   "cell_type": "code",
   "execution_count": 35,
   "id": "910feb01",
   "metadata": {},
   "outputs": [],
   "source": [
    "def preprocess(text):\n",
    "    if isinstance(text, spacy.tokens.Doc)==False:\n",
    "        doc = nlp(text)\n",
    "    else:\n",
    "        doc = text\n",
    "    result = [token.lemma_ for token in doc if not token.is_stop and len(token) > 3]\n",
    "    return result"
   ]
  },
  {
   "cell_type": "code",
   "execution_count": 36,
   "id": "4e4fc100",
   "metadata": {},
   "outputs": [],
   "source": [
    "lemmas = []\n",
    "for doc in  nlp.pipe(df['review-text-full'], batch_size=100, n_process=-1):\n",
    "    lemmas.append(preprocess(doc))"
   ]
  },
  {
   "cell_type": "code",
   "execution_count": 37,
   "id": "16a961e0",
   "metadata": {},
   "outputs": [
    {
     "name": "stdout",
     "output_type": "stream",
     "text": [
      "len(lemmas)=4363, len(df['review-text-full'])=4363\n"
     ]
    },
    {
     "data": {
      "text/plain": [
       "[['star', 'great', 'pasta', 'taste', 'feel', 'spell', 'package', 'SKRONG'],\n",
       " ['okay',\n",
       "  'like',\n",
       "  'texture',\n",
       "  'texture',\n",
       "  'little',\n",
       "  'strange',\n",
       "  'flavor',\n",
       "  'okay',\n",
       "  'bland',\n",
       "  'spice'],\n",
       " ['green',\n",
       "  'noodle',\n",
       "  'herb',\n",
       "  'flavor',\n",
       "  'make',\n",
       "  'texture',\n",
       "  'shirataki',\n",
       "  'palatable'],\n",
       " ['awesome',\n",
       "  'substitute',\n",
       "  'problem',\n",
       "  'half',\n",
       "  'fill',\n",
       "  'user',\n",
       "  'say',\n",
       "  'concern',\n",
       "  'take',\n",
       "  'chance',\n",
       "  'problem',\n",
       "  'find',\n",
       "  'good',\n",
       "  'initial',\n",
       "  'smell',\n",
       "  'boil',\n",
       "  'cube',\n",
       "  'bouillon',\n",
       "  'texture',\n",
       "  'good',\n",
       "  'notice',\n",
       "  'replace',\n",
       "  'noodle',\n",
       "  'mind'],\n",
       " ['star', 'taste', 'like', 'cook'],\n",
       " ['love',\n",
       "  'come',\n",
       "  'italian',\n",
       "  'girl',\n",
       "  'resist',\n",
       "  'pasta',\n",
       "  'dish',\n",
       "  'savior',\n",
       "  'avoid',\n",
       "  'carb',\n",
       "  'want',\n",
       "  'tasty',\n",
       "  'meal',\n",
       "  'smell',\n",
       "  'little',\n",
       "  'funky',\n",
       "  'open',\n",
       "  'package',\n",
       "  'go',\n",
       "  'away',\n",
       "  'rince',\n",
       "  'water',\n",
       "  'miss',\n",
       "  'regular',\n",
       "  'pasta',\n",
       "  'anymore',\n",
       "  'love'],\n",
       " ['taste',\n",
       "  'okay',\n",
       "  'taste',\n",
       "  'okay',\n",
       "  'expect',\n",
       "  'zero',\n",
       "  'calorie',\n",
       "  'lunch',\n",
       "  'day',\n",
       "  'dieting',\n",
       "  'usually',\n",
       "  'little',\n",
       "  'free',\n",
       "  'italian',\n",
       "  'dressing',\n",
       "  'calorie',\n",
       "  'yeah',\n",
       "  'gourmet',\n",
       "  'meal',\n",
       "  'lose',\n",
       "  'feel',\n",
       "  'hungry',\n",
       "  'pretty',\n",
       "  'sick',\n",
       "  'lose',\n",
       "  'smell-',\n",
       "  'liquid',\n",
       "  'pack',\n",
       "  'rinse',\n",
       "  'minute',\n",
       "  'smell',\n",
       "  'go',\n",
       "  'away',\n",
       "  'deal'],\n",
       " ['rate',\n",
       "  'noodle',\n",
       "  'like',\n",
       "  'noodle',\n",
       "  'rate',\n",
       "  'thing',\n",
       "  'invest',\n",
       "  'dollar',\n",
       "  'package',\n",
       "  'tell',\n",
       "  'like',\n",
       "  'know',\n",
       "  'people',\n",
       "  'consider',\n",
       "  'tasteless',\n",
       "  'think',\n",
       "  'good',\n",
       "  'bland',\n",
       "  'like',\n",
       "  'noodle',\n",
       "  'taste',\n",
       "  'versatile',\n",
       "  'think',\n",
       "  'replacement',\n",
       "  'noodle',\n",
       "  'recipe'],\n",
       " ['star', 'smell', 'rinse', 'rice', 'good'],\n",
       " ['rinse',\n",
       "  'thoroughly',\n",
       "  'band',\n",
       "  'like',\n",
       "  'able',\n",
       "  'zucchini',\n",
       "  'spiral',\n",
       "  'lazy',\n",
       "  'pasta',\n",
       "  'guilt',\n",
       "  'kid',\n",
       "  'touch',\n",
       "  'pole']]"
      ]
     },
     "execution_count": 37,
     "metadata": {},
     "output_type": "execute_result"
    }
   ],
   "source": [
    "print(f\"{len(lemmas)=}, {len(df['review-text-full'])=}\")\n",
    "lemmas[:10]"
   ]
  },
  {
   "cell_type": "code",
   "execution_count": 38,
   "id": "48d24422",
   "metadata": {},
   "outputs": [
    {
     "data": {
      "text/html": [
       "<div>\n",
       "<style scoped>\n",
       "    .dataframe tbody tr th:only-of-type {\n",
       "        vertical-align: middle;\n",
       "    }\n",
       "\n",
       "    .dataframe tbody tr th {\n",
       "        vertical-align: top;\n",
       "    }\n",
       "\n",
       "    .dataframe thead th {\n",
       "        text-align: right;\n",
       "    }\n",
       "</style>\n",
       "<table border=\"1\" class=\"dataframe\">\n",
       "  <thead>\n",
       "    <tr style=\"text-align: right;\">\n",
       "      <th></th>\n",
       "      <th>asin</th>\n",
       "      <th>reviewerID</th>\n",
       "      <th>reviewText</th>\n",
       "      <th>summary</th>\n",
       "      <th>overall</th>\n",
       "      <th>year</th>\n",
       "      <th>title</th>\n",
       "      <th>brand</th>\n",
       "      <th>category</th>\n",
       "      <th>review-text-full</th>\n",
       "      <th>review-text-full_raw</th>\n",
       "      <th>tokens-dirty</th>\n",
       "      <th>tokens</th>\n",
       "      <th>lemmas</th>\n",
       "      <th>tokens-dirty-joined</th>\n",
       "      <th>tokens-joined</th>\n",
       "      <th>lemmas-joined</th>\n",
       "      <th>target-rating</th>\n",
       "    </tr>\n",
       "  </thead>\n",
       "  <tbody>\n",
       "    <tr>\n",
       "      <th>0</th>\n",
       "      <td>B007JINB0W</td>\n",
       "      <td>A3Y51NV9HU5T2</td>\n",
       "      <td>Great pasta taste and feel, but the spell in t...</td>\n",
       "      <td>Four Stars</td>\n",
       "      <td>4</td>\n",
       "      <td>2018</td>\n",
       "      <td>Miracle Noodle Zero Carb, Gluten Free Shiratak...</td>\n",
       "      <td>Miracle Noodle</td>\n",
       "      <td>Grocery &amp; Gourmet Food; Pasta &amp; Noodles; Noodl...</td>\n",
       "      <td>Four Stars: Great pasta taste and feel, but th...</td>\n",
       "      <td>Four Stars: Great pasta taste and feel, but th...</td>\n",
       "      <td>[four, stars, great, pasta, taste, and, feel, ...</td>\n",
       "      <td>[stars, great, pasta, taste, feel, spell, pack...</td>\n",
       "      <td>[star, great, pasta, taste, feel, spell, packa...</td>\n",
       "      <td>four stars great pasta taste and feel but the ...</td>\n",
       "      <td>stars great pasta taste feel spell packaged sk...</td>\n",
       "      <td>star great pasta taste feel spell package skrong</td>\n",
       "      <td>None</td>\n",
       "    </tr>\n",
       "    <tr>\n",
       "      <th>1</th>\n",
       "      <td>B007JINB0W</td>\n",
       "      <td>A3D7EFSRC6Y9MP</td>\n",
       "      <td>The texture just made it a little strange to e...</td>\n",
       "      <td>Okay but don't like texture</td>\n",
       "      <td>3</td>\n",
       "      <td>2014</td>\n",
       "      <td>Miracle Noodle Zero Carb, Gluten Free Shiratak...</td>\n",
       "      <td>Miracle Noodle</td>\n",
       "      <td>Grocery &amp; Gourmet Food; Pasta &amp; Noodles; Noodl...</td>\n",
       "      <td>Okay but don't like texture: The texture just ...</td>\n",
       "      <td>Okay but don't like texture: The texture just ...</td>\n",
       "      <td>[okay, but, do, n't, like, texture, the, textu...</td>\n",
       "      <td>[okay, like, texture, texture, little, strange...</td>\n",
       "      <td>[okay, like, texture, texture, little, strange...</td>\n",
       "      <td>okay but do n't like texture the texture just ...</td>\n",
       "      <td>okay like texture texture little strange eat f...</td>\n",
       "      <td>okay like texture texture little strange eat f...</td>\n",
       "      <td>None</td>\n",
       "    </tr>\n",
       "  </tbody>\n",
       "</table>\n",
       "</div>"
      ],
      "text/plain": [
       "         asin      reviewerID  \\\n",
       "0  B007JINB0W   A3Y51NV9HU5T2   \n",
       "1  B007JINB0W  A3D7EFSRC6Y9MP   \n",
       "\n",
       "                                          reviewText  \\\n",
       "0  Great pasta taste and feel, but the spell in t...   \n",
       "1  The texture just made it a little strange to e...   \n",
       "\n",
       "                       summary  overall  year  \\\n",
       "0                   Four Stars        4  2018   \n",
       "1  Okay but don't like texture        3  2014   \n",
       "\n",
       "                                               title           brand  \\\n",
       "0  Miracle Noodle Zero Carb, Gluten Free Shiratak...  Miracle Noodle   \n",
       "1  Miracle Noodle Zero Carb, Gluten Free Shiratak...  Miracle Noodle   \n",
       "\n",
       "                                            category  \\\n",
       "0  Grocery & Gourmet Food; Pasta & Noodles; Noodl...   \n",
       "1  Grocery & Gourmet Food; Pasta & Noodles; Noodl...   \n",
       "\n",
       "                                    review-text-full  \\\n",
       "0  Four Stars: Great pasta taste and feel, but th...   \n",
       "1  Okay but don't like texture: The texture just ...   \n",
       "\n",
       "                                review-text-full_raw  \\\n",
       "0  Four Stars: Great pasta taste and feel, but th...   \n",
       "1  Okay but don't like texture: The texture just ...   \n",
       "\n",
       "                                        tokens-dirty  \\\n",
       "0  [four, stars, great, pasta, taste, and, feel, ...   \n",
       "1  [okay, but, do, n't, like, texture, the, textu...   \n",
       "\n",
       "                                              tokens  \\\n",
       "0  [stars, great, pasta, taste, feel, spell, pack...   \n",
       "1  [okay, like, texture, texture, little, strange...   \n",
       "\n",
       "                                              lemmas  \\\n",
       "0  [star, great, pasta, taste, feel, spell, packa...   \n",
       "1  [okay, like, texture, texture, little, strange...   \n",
       "\n",
       "                                 tokens-dirty-joined  \\\n",
       "0  four stars great pasta taste and feel but the ...   \n",
       "1  okay but do n't like texture the texture just ...   \n",
       "\n",
       "                                       tokens-joined  \\\n",
       "0  stars great pasta taste feel spell packaged sk...   \n",
       "1  okay like texture texture little strange eat f...   \n",
       "\n",
       "                                       lemmas-joined target-rating  \n",
       "0   star great pasta taste feel spell package skrong          None  \n",
       "1  okay like texture texture little strange eat f...          None  "
      ]
     },
     "execution_count": 38,
     "metadata": {},
     "output_type": "execute_result"
    }
   ],
   "source": [
    "df['lemmas'] = lemmas\n",
    "df.head(2)"
   ]
  },
  {
   "cell_type": "markdown",
   "id": "bb5c7579",
   "metadata": {},
   "source": [
    "## @ChatGPT Here:"
   ]
  },
  {
   "cell_type": "markdown",
   "id": "7472519e",
   "metadata": {},
   "source": [
    "### Step 3: Prepare the data for LDA\n"
   ]
  },
  {
   "cell_type": "markdown",
   "id": "e3724311",
   "metadata": {},
   "source": [
    "> Needed to install `pip install scipy==1.10.1` due to triu missing from scipy error.\n"
   ]
  },
  {
   "cell_type": "code",
   "execution_count": 39,
   "id": "a28cc018",
   "metadata": {},
   "outputs": [
    {
     "name": "stdout",
     "output_type": "stream",
     "text": [
      "gensim.__version__='4.3.2', scipy.__version__='1.10.1'\n"
     ]
    }
   ],
   "source": [
    "import gensim\n",
    "import  scipy\n",
    "from gensim.models.ldamodel import LdaModel\n",
    "import pyLDAvis.gensim_models as gensimvis\n",
    "import pyLDAvis\n",
    "from gensim import corpora\n",
    "\n",
    "\n",
    "print(f\"{gensim.__version__=}, {scipy.__version__=}\")"
   ]
  },
  {
   "cell_type": "code",
   "execution_count": 40,
   "id": "e4465d30",
   "metadata": {},
   "outputs": [],
   "source": [
    "\n",
    "# Separate group\n",
    "high_reviews = df.loc[df['target-rating']=='High','lemmas']\n",
    "low_reviews = df.loc[df['target-rating']=='Low','lemmas']\n",
    "\n",
    "# Create dictionary and corpus for high-rating reviews\n",
    "high_dictionary = corpora.Dictionary(high_reviews)\n",
    "high_corpus = [high_dictionary.doc2bow(text) for text in high_reviews]\n",
    "\n",
    "# Create dictionary and corpus for low-rating reviews\n",
    "low_dictionary = corpora.Dictionary(low_reviews)\n",
    "low_corpus = [low_dictionary.doc2bow(text) for text in low_reviews]\n"
   ]
  },
  {
   "cell_type": "code",
   "execution_count": 41,
   "id": "da79b72b",
   "metadata": {},
   "outputs": [],
   "source": [
    "# Number of topics\n",
    "num_topics = 5\n",
    "\n",
    "# LDA model for high-rating reviews\n",
    "high_lda = LdaModel(high_corpus, num_topics=num_topics, id2word=high_dictionary, passes=15)\n",
    "\n",
    "# LDA model for low-rating reviews\n",
    "low_lda = LdaModel(low_corpus, num_topics=num_topics, id2word=low_dictionary, passes=15)"
   ]
  },
  {
   "cell_type": "code",
   "execution_count": 42,
   "id": "d6d7f4fe",
   "metadata": {},
   "outputs": [
    {
     "name": "stdout",
     "output_type": "stream",
     "text": [
      "High Rating Reviews Topics:\n",
      "Topic: 0 \n",
      "Words: 0.048*\"noodle\" + 0.025*\"like\" + 0.017*\"rice\" + 0.017*\"smell\" + 0.014*\"taste\" + 0.014*\"good\" + 0.013*\"pasta\" + 0.012*\"rinse\" + 0.010*\"sauce\" + 0.009*\"water\"\n",
      "Topic: 1 \n",
      "Words: 0.038*\"noodle\" + 0.027*\"sauce\" + 0.019*\"like\" + 0.017*\"pasta\" + 0.014*\"good\" + 0.014*\"calorie\" + 0.011*\"flavor\" + 0.010*\"cook\" + 0.010*\"taste\" + 0.009*\"smell\"\n",
      "Topic: 2 \n",
      "Words: 0.050*\"star\" + 0.038*\"good\" + 0.037*\"great\" + 0.030*\"love\" + 0.029*\"taste\" + 0.028*\"product\" + 0.022*\"rice\" + 0.017*\"carb\" + 0.017*\"pasta\" + 0.017*\"like\"\n",
      "Topic: 3 \n",
      "Words: 0.047*\"noodle\" + 0.024*\"rinse\" + 0.022*\"love\" + 0.019*\"smell\" + 0.016*\"like\" + 0.014*\"carb\" + 0.014*\"sauce\" + 0.014*\"water\" + 0.013*\"pasta\" + 0.013*\"cook\"\n",
      "Topic: 4 \n",
      "Words: 0.052*\"great\" + 0.051*\"pasta\" + 0.043*\"carb\" + 0.026*\"noodle\" + 0.023*\"love\" + 0.021*\"diet\" + 0.016*\"alternative\" + 0.016*\"substitute\" + 0.015*\"rice\" + 0.013*\"calorie\"\n",
      "Low Rating Reviews Topics:\n",
      "Topic: 0 \n",
      "Words: 0.026*\"noodle\" + 0.023*\"product\" + 0.022*\"package\" + 0.020*\"Star\" + 0.020*\"smell\" + 0.018*\"taste\" + 0.016*\"horrible\" + 0.014*\"texture\" + 0.013*\"water\" + 0.012*\"cook\"\n",
      "Topic: 1 \n",
      "Words: 0.072*\"like\" + 0.057*\"taste\" + 0.033*\"noodle\" + 0.031*\"texture\" + 0.025*\"smell\" + 0.020*\"star\" + 0.014*\"fish\" + 0.012*\"Star\" + 0.011*\"good\" + 0.011*\"rubber\"\n",
      "Topic: 2 \n",
      "Words: 0.032*\"awful\" + 0.031*\"gross\" + 0.028*\"Star\" + 0.026*\"smell\" + 0.026*\"texture\" + 0.020*\"like\" + 0.015*\"waste\" + 0.015*\"money\" + 0.014*\"throw\" + 0.013*\"rubber\"\n",
      "Topic: 3 \n",
      "Words: 0.052*\"like\" + 0.031*\"texture\" + 0.021*\"rice\" + 0.017*\"smell\" + 0.016*\"eat\" + 0.015*\"pasta\" + 0.011*\"taste\" + 0.010*\"noodle\" + 0.010*\"try\" + 0.009*\"feel\"\n",
      "Topic: 4 \n",
      "Words: 0.043*\"noodle\" + 0.021*\"like\" + 0.018*\"texture\" + 0.014*\"smell\" + 0.012*\"try\" + 0.012*\"pasta\" + 0.011*\"taste\" + 0.010*\"sauce\" + 0.010*\"time\" + 0.009*\"order\"\n"
     ]
    }
   ],
   "source": [
    "# Print the topics for high-rating reviews\n",
    "print(\"High Rating Reviews Topics:\")\n",
    "for idx, topic in high_lda.print_topics(-1):\n",
    "    print(f\"Topic: {idx} \\nWords: {topic}\")\n",
    "\n",
    "# Print the topics for low-rating reviews\n",
    "print(\"Low Rating Reviews Topics:\")\n",
    "for idx, topic in low_lda.print_topics(-1):\n",
    "    print(f\"Topic: {idx} \\nWords: {topic}\")"
   ]
  },
  {
   "cell_type": "code",
   "execution_count": 43,
   "id": "4f7dd79a",
   "metadata": {},
   "outputs": [
    {
     "name": "stdout",
     "output_type": "stream",
     "text": [
      "Collecting tabulate\n",
      "  Using cached tabulate-0.9.0-py3-none-any.whl.metadata (34 kB)\n",
      "Using cached tabulate-0.9.0-py3-none-any.whl (35 kB)\n",
      "Installing collected packages: tabulate\n",
      "Successfully installed tabulate-0.9.0\n"
     ]
    }
   ],
   "source": [
    "!pip install tabulate"
   ]
  },
  {
   "cell_type": "code",
   "execution_count": 44,
   "id": "f9d91633",
   "metadata": {},
   "outputs": [
    {
     "name": "stdout",
     "output_type": "stream",
     "text": [
      "High Rating Reviews Topics (Rows):\n",
      "+---------+----------------+---------------+---------------+----------------+---------------+-----------------+---------------------+--------------------+---------------+-----------------+\n",
      "|  Topic  |     Word 1     |    Word 2     |    Word 3     |     Word 4     |    Word 5     |     Word 6      |       Word 7        |       Word 8       |    Word 9     |     Word 10     |\n",
      "+---------+----------------+---------------+---------------+----------------+---------------+-----------------+---------------------+--------------------+---------------+-----------------+\n",
      "| Topic 1 | noodle (0.048) | like (0.025)  | rice (0.017)  | smell (0.017)  | taste (0.014) |  good (0.014)   |    pasta (0.013)    |   rinse (0.012)    | sauce (0.010) |  water (0.009)  |\n",
      "| Topic 2 | noodle (0.038) | sauce (0.027) | like (0.019)  | pasta (0.017)  | good (0.014)  | calorie (0.014) |   flavor (0.011)    |    cook (0.010)    | taste (0.010) |  smell (0.009)  |\n",
      "| Topic 3 |  star (0.050)  | good (0.038)  | great (0.037) |  love (0.030)  | taste (0.029) | product (0.028) |    rice (0.022)     |    carb (0.017)    | pasta (0.017) |  like (0.017)   |\n",
      "| Topic 4 | noodle (0.047) | rinse (0.024) | love (0.022)  | smell (0.019)  | like (0.016)  |  carb (0.014)   |    sauce (0.014)    |   water (0.014)    | pasta (0.013) |  cook (0.013)   |\n",
      "| Topic 5 | great (0.052)  | pasta (0.051) | carb (0.043)  | noodle (0.026) | love (0.023)  |  diet (0.021)   | alternative (0.016) | substitute (0.016) | rice (0.015)  | calorie (0.013) |\n",
      "+---------+----------------+---------------+---------------+----------------+---------------+-----------------+---------------------+--------------------+---------------+-----------------+\n",
      "Low Rating Reviews Topics (Columns):\n",
      "+---------+----------------+-----------------+-----------------+-----------------+-----------------+---------------+------------------+-----------------+---------------+----------------+\n",
      "|  Topic  |     Word 1     |     Word 2      |     Word 3      |     Word 4      |     Word 5      |    Word 6     |      Word 7      |     Word 8      |    Word 9     |    Word 10     |\n",
      "+---------+----------------+-----------------+-----------------+-----------------+-----------------+---------------+------------------+-----------------+---------------+----------------+\n",
      "| Topic 1 | noodle (0.026) | product (0.023) | package (0.022) |  Star (0.020)   |  smell (0.020)  | taste (0.018) | horrible (0.016) | texture (0.014) | water (0.013) |  cook (0.012)  |\n",
      "| Topic 2 |  like (0.072)  |  taste (0.057)  | noodle (0.033)  | texture (0.031) |  smell (0.025)  | star (0.020)  |   fish (0.014)   |  Star (0.012)   | good (0.011)  | rubber (0.011) |\n",
      "| Topic 3 | awful (0.032)  |  gross (0.031)  |  Star (0.028)   |  smell (0.026)  | texture (0.026) | like (0.020)  |  waste (0.015)   |  money (0.015)  | throw (0.014) | rubber (0.013) |\n",
      "| Topic 4 |  like (0.052)  | texture (0.031) |  rice (0.021)   |  smell (0.017)  |   eat (0.016)   | pasta (0.015) |  taste (0.011)   | noodle (0.010)  |  try (0.010)  |  feel (0.009)  |\n",
      "| Topic 5 | noodle (0.043) |  like (0.021)   | texture (0.018) |  smell (0.014)  |   try (0.012)   | pasta (0.012) |  taste (0.011)   |  sauce (0.010)  | time (0.010)  | order (0.009)  |\n",
      "+---------+----------------+-----------------+-----------------+-----------------+-----------------+---------------+------------------+-----------------+---------------+----------------+\n"
     ]
    }
   ],
   "source": [
    "from tabulate import tabulate\n",
    "\n",
    "def print_topics_table(lda_model, num_topics, orientation=\"rows\", print_output=True):\n",
    "    topics_words = lda_model.print_topics(num_topics=num_topics)\n",
    "\n",
    "    if orientation == \"rows\":\n",
    "        table_data = []\n",
    "        for idx, topic in topics_words:\n",
    "            words = topic.split(\" + \")\n",
    "            words = [\"{} ({})\".format(word.split('*')[1].replace('\"', ''), word.split('*')[0]) for word in words]\n",
    "            table_data.append([\"Topic {}\".format(idx + 1)] + words)\n",
    "\n",
    "        # Ensure all rows have the same number of columns\n",
    "        max_words = max(len(topic) for topic in table_data)\n",
    "        for topic in table_data:\n",
    "            while len(topic) < max_words:\n",
    "                topic.append(\"\")  # Fill shorter rows with empty strings\n",
    "\n",
    "        headers = [\"Topic\"] + [\"Word {}\".format(i + 1) for i in range(max_words - 1)]\n",
    "\n",
    "    elif orientation == \"columns\":\n",
    "        table_data = [[] for _ in range(num_topics)]\n",
    "        for idx, topic in topics_words:\n",
    "            words = topic.split(\" + \")\n",
    "            words = [\"{} ({})\".format(word.split('*')[1].replace('\"', ''), word.split('*')[0]) for word in words]\n",
    "            table_data[idx].extend(words)\n",
    "\n",
    "        # Transpose the data to have topics as columns\n",
    "        max_words = max(len(topic) for topic in table_data)\n",
    "        for topic in table_data:\n",
    "            while len(topic) < max_words:\n",
    "                topic.append(\"\")  # Fill shorter topics with empty strings\n",
    "\n",
    "        table_data = list(map(list, zip(*table_data)))\n",
    "        headers = [\"Topic {}\".format(i + 1) for i in range(num_topics)]\n",
    "\n",
    "    else:\n",
    "        raise ValueError(\"Invalid orientation. Choose 'rows' or 'columns'.\")\n",
    "\n",
    "    table = tabulate(table_data, headers=headers, tablefmt=\"pretty\")\n",
    "\n",
    "    if print_output:\n",
    "        print(table)\n",
    "    else:\n",
    "        return table\n",
    "\n",
    "# Print the topics for high-rating reviews as rows\n",
    "print(\"High Rating Reviews Topics (Rows):\")\n",
    "print_topics_table(high_lda, num_topics, orientation=\"rows\")\n",
    "\n",
    "# Print the topics for low-rating reviews as columns\n",
    "print(\"Low Rating Reviews Topics (Columns):\")\n",
    "print_topics_table(low_lda, num_topics, orientation=\"rows\")\n"
   ]
  },
  {
   "cell_type": "markdown",
   "id": "7e14fad2",
   "metadata": {},
   "source": [
    "\n",
    "\n",
    "#### Explanation:\n",
    "\n",
    "1. **Define Function with `orientation` kwarg**:\n",
    "   - The function `print_topics_table` accepts an additional keyword argument `orientation` which can be either `\"rows\"` or `\"columns\"`, and a boolean `print_output` to control whether to print or return the table.\n",
    "\n",
    "2. **Handle Rows Orientation**:\n",
    "   - If `orientation` is `\"rows\"`, the function processes the topics to have each topic as a row with words as columns.\n",
    "   - Ensures all rows have the same number of columns by filling shorter rows with empty strings.\n",
    "   - Defines headers accordingly and uses `tabulate` to format the table.\n",
    "\n",
    "3. **Handle Columns Orientation**:\n",
    "   - If `orientation` is `\"columns\"`, the function processes the topics to have each topic as a column with words as rows.\n",
    "   - Ensures all topics (columns) have the same number of rows by filling shorter columns with empty strings.\n",
    "   - Transposes the data to have topics as columns.\n",
    "   - Defines headers accordingly and uses `tabulate` to format the table.\n",
    "\n",
    "4. **Raise Error for Invalid Orientation**:\n",
    "   - If an invalid orientation is provided, the function raises a `ValueError`.\n",
    "\n",
    "5. **Print or Return Table**:\n",
    "   - If `print_output` is `True`, the table is printed.\n",
    "   - If `print_output` is `False`, the table is returned as a string.\n",
    "\n",
    "This modification makes the function flexible, allowing you to choose the orientation of the topics table and control whether the output is printed or returned."
   ]
  },
  {
   "cell_type": "code",
   "execution_count": 45,
   "id": "bec926dd",
   "metadata": {},
   "outputs": [],
   "source": [
    "\n",
    "# def topics_to_dataframe(lda_model, num_topics, orientation=\"rows\"):\n",
    "#     topics_words = lda_model.print_topics(num_topics=num_topics)\n",
    "    \n",
    "#     if orientation == \"rows\":\n",
    "#         data = {\"Topic\": [], \"Word\": [], \"Weight\": []}\n",
    "#         for idx, topic in topics_words:\n",
    "#             words = topic.split(\" + \")\n",
    "#             for word in words:\n",
    "#                 weight, term = word.split('*')\n",
    "#                 data[\"Topic\"].append(f\"Topic {idx + 1}\")\n",
    "#                 data[\"Word\"].append(term.replace('\"', ''))\n",
    "#                 data[\"Weight\"].append(float(weight))\n",
    "#         df = pd.DataFrame(data)\n",
    "\n",
    "#     elif orientation == \"columns\":\n",
    "#         data = {}\n",
    "#         for idx, topic in topics_words:\n",
    "#             words = topic.split(\" + \")\n",
    "#             topic_words = []\n",
    "#             topic_weights = []\n",
    "#             for word in words:\n",
    "#                 weight, term = word.split('*')\n",
    "#                 topic_words.append(term.replace('\"', ''))\n",
    "#                 topic_weights.append(float(weight))\n",
    "#             data[f\"Topic {idx + 1} Words\"] = topic_words\n",
    "#             data[f\"Topic {idx + 1} Weights\"] = topic_weights\n",
    "\n",
    "#         # Convert dictionary to DataFrame and fill shorter columns with NaN\n",
    "#         df = pd.DataFrame.from_dict(data, orient='index').transpose()\n",
    "\n",
    "#     else:\n",
    "#         raise ValueError(\"Invalid orientation. Choose 'rows' or 'columns'.\")\n",
    "    \n",
    "#     return df\n",
    "\n",
    "# # Get the topics for high-rating reviews as rows in a DataFrame\n",
    "# print(\"High Rating Reviews Topics (Rows):\")\n",
    "# df_high_rows = topics_to_dataframe(high_lda, num_topics, orientation=\"rows\")\n",
    "# display(df_high_rows)\n",
    "# # Get the topics for low-rating reviews as columns in a DataFrame\n",
    "# print(\"Low Rating Reviews Topics (Columns):\")\n",
    "# df_low_columns = topics_to_dataframe(low_lda, num_topics, orientation=\"columns\")\n",
    "# display(df_low_columns)"
   ]
  },
  {
   "cell_type": "code",
   "execution_count": 46,
   "id": "a4333011",
   "metadata": {},
   "outputs": [
    {
     "data": {
      "text/plain": [
       "[(0,\n",
       "  '0.048*\"noodle\" + 0.025*\"like\" + 0.017*\"rice\" + 0.017*\"smell\" + 0.014*\"taste\"'),\n",
       " (1,\n",
       "  '0.038*\"noodle\" + 0.027*\"sauce\" + 0.019*\"like\" + 0.017*\"pasta\" + 0.014*\"good\"'),\n",
       " (2,\n",
       "  '0.050*\"star\" + 0.038*\"good\" + 0.037*\"great\" + 0.030*\"love\" + 0.029*\"taste\"'),\n",
       " (3,\n",
       "  '0.047*\"noodle\" + 0.024*\"rinse\" + 0.022*\"love\" + 0.019*\"smell\" + 0.016*\"like\"'),\n",
       " (4,\n",
       "  '0.052*\"great\" + 0.051*\"pasta\" + 0.043*\"carb\" + 0.026*\"noodle\" + 0.023*\"love\"')]"
      ]
     },
     "execution_count": 46,
     "metadata": {},
     "output_type": "execute_result"
    }
   ],
   "source": [
    "high_lda.show_topics(num_topics=num_topics, num_words=5)"
   ]
  },
  {
   "cell_type": "code",
   "execution_count": 47,
   "id": "9770c0de",
   "metadata": {},
   "outputs": [
    {
     "name": "stdout",
     "output_type": "stream",
     "text": [
      "High Rating Reviews Topics (Rows) with Combined Words and Weights:\n"
     ]
    },
    {
     "data": {
      "text/html": [
       "<div>\n",
       "<style scoped>\n",
       "    .dataframe tbody tr th:only-of-type {\n",
       "        vertical-align: middle;\n",
       "    }\n",
       "\n",
       "    .dataframe tbody tr th {\n",
       "        vertical-align: top;\n",
       "    }\n",
       "\n",
       "    .dataframe thead th {\n",
       "        text-align: right;\n",
       "    }\n",
       "</style>\n",
       "<table border=\"1\" class=\"dataframe\">\n",
       "  <thead>\n",
       "    <tr style=\"text-align: right;\">\n",
       "      <th></th>\n",
       "      <th>group</th>\n",
       "      <th>Word 1</th>\n",
       "      <th>Word 2</th>\n",
       "      <th>Word 3</th>\n",
       "      <th>Word 4</th>\n",
       "      <th>Word 5</th>\n",
       "      <th>Word 6</th>\n",
       "      <th>Word 7</th>\n",
       "      <th>Word 8</th>\n",
       "      <th>Word 9</th>\n",
       "      <th>Word 10</th>\n",
       "    </tr>\n",
       "    <tr>\n",
       "      <th>Topic</th>\n",
       "      <th></th>\n",
       "      <th></th>\n",
       "      <th></th>\n",
       "      <th></th>\n",
       "      <th></th>\n",
       "      <th></th>\n",
       "      <th></th>\n",
       "      <th></th>\n",
       "      <th></th>\n",
       "      <th></th>\n",
       "      <th></th>\n",
       "    </tr>\n",
       "  </thead>\n",
       "  <tbody>\n",
       "    <tr>\n",
       "      <th>1</th>\n",
       "      <td>High Rating Reviews</td>\n",
       "      <td>noodle (0.0480)</td>\n",
       "      <td>like (0.0250)</td>\n",
       "      <td>rice (0.0170)</td>\n",
       "      <td>smell (0.0170)</td>\n",
       "      <td>taste (0.0140)</td>\n",
       "      <td>good (0.0140)</td>\n",
       "      <td>pasta (0.0130)</td>\n",
       "      <td>rinse (0.0120)</td>\n",
       "      <td>sauce (0.0100)</td>\n",
       "      <td>water (0.0090)</td>\n",
       "    </tr>\n",
       "    <tr>\n",
       "      <th>2</th>\n",
       "      <td>High Rating Reviews</td>\n",
       "      <td>noodle (0.0380)</td>\n",
       "      <td>sauce (0.0270)</td>\n",
       "      <td>like (0.0190)</td>\n",
       "      <td>pasta (0.0170)</td>\n",
       "      <td>good (0.0140)</td>\n",
       "      <td>calorie (0.0140)</td>\n",
       "      <td>flavor (0.0110)</td>\n",
       "      <td>cook (0.0100)</td>\n",
       "      <td>taste (0.0100)</td>\n",
       "      <td>smell (0.0090)</td>\n",
       "    </tr>\n",
       "    <tr>\n",
       "      <th>3</th>\n",
       "      <td>High Rating Reviews</td>\n",
       "      <td>star (0.0500)</td>\n",
       "      <td>good (0.0380)</td>\n",
       "      <td>great (0.0370)</td>\n",
       "      <td>love (0.0300)</td>\n",
       "      <td>taste (0.0290)</td>\n",
       "      <td>product (0.0280)</td>\n",
       "      <td>rice (0.0220)</td>\n",
       "      <td>carb (0.0170)</td>\n",
       "      <td>pasta (0.0170)</td>\n",
       "      <td>like (0.0170)</td>\n",
       "    </tr>\n",
       "    <tr>\n",
       "      <th>4</th>\n",
       "      <td>High Rating Reviews</td>\n",
       "      <td>noodle (0.0470)</td>\n",
       "      <td>rinse (0.0240)</td>\n",
       "      <td>love (0.0220)</td>\n",
       "      <td>smell (0.0190)</td>\n",
       "      <td>like (0.0160)</td>\n",
       "      <td>carb (0.0140)</td>\n",
       "      <td>sauce (0.0140)</td>\n",
       "      <td>water (0.0140)</td>\n",
       "      <td>pasta (0.0130)</td>\n",
       "      <td>cook (0.0130)</td>\n",
       "    </tr>\n",
       "    <tr>\n",
       "      <th>5</th>\n",
       "      <td>High Rating Reviews</td>\n",
       "      <td>great (0.0520)</td>\n",
       "      <td>pasta (0.0510)</td>\n",
       "      <td>carb (0.0430)</td>\n",
       "      <td>noodle (0.0260)</td>\n",
       "      <td>love (0.0230)</td>\n",
       "      <td>diet (0.0210)</td>\n",
       "      <td>alternative (0.0160)</td>\n",
       "      <td>substitute (0.0160)</td>\n",
       "      <td>rice (0.0150)</td>\n",
       "      <td>calorie (0.0130)</td>\n",
       "    </tr>\n",
       "  </tbody>\n",
       "</table>\n",
       "</div>"
      ],
      "text/plain": [
       "                     group           Word 1          Word 2          Word 3  \\\n",
       "Topic                                                                         \n",
       "1      High Rating Reviews  noodle (0.0480)   like (0.0250)   rice (0.0170)   \n",
       "2      High Rating Reviews  noodle (0.0380)  sauce (0.0270)   like (0.0190)   \n",
       "3      High Rating Reviews    star (0.0500)   good (0.0380)  great (0.0370)   \n",
       "4      High Rating Reviews  noodle (0.0470)  rinse (0.0240)   love (0.0220)   \n",
       "5      High Rating Reviews   great (0.0520)  pasta (0.0510)   carb (0.0430)   \n",
       "\n",
       "                Word 4          Word 5            Word 6  \\\n",
       "Topic                                                      \n",
       "1       smell (0.0170)  taste (0.0140)     good (0.0140)   \n",
       "2       pasta (0.0170)   good (0.0140)  calorie (0.0140)   \n",
       "3        love (0.0300)  taste (0.0290)  product (0.0280)   \n",
       "4       smell (0.0190)   like (0.0160)     carb (0.0140)   \n",
       "5      noodle (0.0260)   love (0.0230)     diet (0.0210)   \n",
       "\n",
       "                     Word 7               Word 8          Word 9  \\\n",
       "Topic                                                              \n",
       "1            pasta (0.0130)       rinse (0.0120)  sauce (0.0100)   \n",
       "2           flavor (0.0110)        cook (0.0100)  taste (0.0100)   \n",
       "3             rice (0.0220)        carb (0.0170)  pasta (0.0170)   \n",
       "4            sauce (0.0140)       water (0.0140)  pasta (0.0130)   \n",
       "5      alternative (0.0160)  substitute (0.0160)   rice (0.0150)   \n",
       "\n",
       "                Word 10  \n",
       "Topic                    \n",
       "1        water (0.0090)  \n",
       "2        smell (0.0090)  \n",
       "3         like (0.0170)  \n",
       "4         cook (0.0130)  \n",
       "5      calorie (0.0130)  "
      ]
     },
     "metadata": {},
     "output_type": "display_data"
    },
    {
     "name": "stdout",
     "output_type": "stream",
     "text": [
      "Low Rating Reviews Topics (Rows) with Combined Words and Weights:\n"
     ]
    },
    {
     "data": {
      "text/html": [
       "<div>\n",
       "<style scoped>\n",
       "    .dataframe tbody tr th:only-of-type {\n",
       "        vertical-align: middle;\n",
       "    }\n",
       "\n",
       "    .dataframe tbody tr th {\n",
       "        vertical-align: top;\n",
       "    }\n",
       "\n",
       "    .dataframe thead th {\n",
       "        text-align: right;\n",
       "    }\n",
       "</style>\n",
       "<table border=\"1\" class=\"dataframe\">\n",
       "  <thead>\n",
       "    <tr style=\"text-align: right;\">\n",
       "      <th></th>\n",
       "      <th>group</th>\n",
       "      <th>Word 1</th>\n",
       "      <th>Word 2</th>\n",
       "      <th>Word 3</th>\n",
       "      <th>Word 4</th>\n",
       "      <th>Word 5</th>\n",
       "      <th>Word 6</th>\n",
       "      <th>Word 7</th>\n",
       "      <th>Word 8</th>\n",
       "      <th>Word 9</th>\n",
       "      <th>Word 10</th>\n",
       "    </tr>\n",
       "    <tr>\n",
       "      <th>Topic</th>\n",
       "      <th></th>\n",
       "      <th></th>\n",
       "      <th></th>\n",
       "      <th></th>\n",
       "      <th></th>\n",
       "      <th></th>\n",
       "      <th></th>\n",
       "      <th></th>\n",
       "      <th></th>\n",
       "      <th></th>\n",
       "      <th></th>\n",
       "    </tr>\n",
       "  </thead>\n",
       "  <tbody>\n",
       "    <tr>\n",
       "      <th>1</th>\n",
       "      <td>Low Rating Reviews</td>\n",
       "      <td>noodle (0.0260)</td>\n",
       "      <td>product (0.0230)</td>\n",
       "      <td>package (0.0220)</td>\n",
       "      <td>Star (0.0200)</td>\n",
       "      <td>smell (0.0200)</td>\n",
       "      <td>taste (0.0180)</td>\n",
       "      <td>horrible (0.0160)</td>\n",
       "      <td>texture (0.0140)</td>\n",
       "      <td>water (0.0130)</td>\n",
       "      <td>cook (0.0120)</td>\n",
       "    </tr>\n",
       "    <tr>\n",
       "      <th>2</th>\n",
       "      <td>Low Rating Reviews</td>\n",
       "      <td>like (0.0720)</td>\n",
       "      <td>taste (0.0570)</td>\n",
       "      <td>noodle (0.0330)</td>\n",
       "      <td>texture (0.0310)</td>\n",
       "      <td>smell (0.0250)</td>\n",
       "      <td>star (0.0200)</td>\n",
       "      <td>fish (0.0140)</td>\n",
       "      <td>Star (0.0120)</td>\n",
       "      <td>good (0.0110)</td>\n",
       "      <td>rubber (0.0110)</td>\n",
       "    </tr>\n",
       "    <tr>\n",
       "      <th>3</th>\n",
       "      <td>Low Rating Reviews</td>\n",
       "      <td>awful (0.0320)</td>\n",
       "      <td>gross (0.0310)</td>\n",
       "      <td>Star (0.0280)</td>\n",
       "      <td>smell (0.0260)</td>\n",
       "      <td>texture (0.0260)</td>\n",
       "      <td>like (0.0200)</td>\n",
       "      <td>waste (0.0150)</td>\n",
       "      <td>money (0.0150)</td>\n",
       "      <td>throw (0.0140)</td>\n",
       "      <td>rubber (0.0130)</td>\n",
       "    </tr>\n",
       "    <tr>\n",
       "      <th>4</th>\n",
       "      <td>Low Rating Reviews</td>\n",
       "      <td>like (0.0520)</td>\n",
       "      <td>texture (0.0310)</td>\n",
       "      <td>rice (0.0210)</td>\n",
       "      <td>smell (0.0170)</td>\n",
       "      <td>eat (0.0160)</td>\n",
       "      <td>pasta (0.0150)</td>\n",
       "      <td>taste (0.0110)</td>\n",
       "      <td>noodle (0.0100)</td>\n",
       "      <td>try (0.0100)</td>\n",
       "      <td>feel (0.0090)</td>\n",
       "    </tr>\n",
       "    <tr>\n",
       "      <th>5</th>\n",
       "      <td>Low Rating Reviews</td>\n",
       "      <td>noodle (0.0430)</td>\n",
       "      <td>like (0.0210)</td>\n",
       "      <td>texture (0.0180)</td>\n",
       "      <td>smell (0.0140)</td>\n",
       "      <td>try (0.0120)</td>\n",
       "      <td>pasta (0.0120)</td>\n",
       "      <td>taste (0.0110)</td>\n",
       "      <td>sauce (0.0100)</td>\n",
       "      <td>time (0.0100)</td>\n",
       "      <td>order (0.0090)</td>\n",
       "    </tr>\n",
       "  </tbody>\n",
       "</table>\n",
       "</div>"
      ],
      "text/plain": [
       "                    group           Word 1            Word 2  \\\n",
       "Topic                                                          \n",
       "1      Low Rating Reviews  noodle (0.0260)  product (0.0230)   \n",
       "2      Low Rating Reviews    like (0.0720)    taste (0.0570)   \n",
       "3      Low Rating Reviews   awful (0.0320)    gross (0.0310)   \n",
       "4      Low Rating Reviews    like (0.0520)  texture (0.0310)   \n",
       "5      Low Rating Reviews  noodle (0.0430)     like (0.0210)   \n",
       "\n",
       "                 Word 3            Word 4            Word 5          Word 6  \\\n",
       "Topic                                                                         \n",
       "1      package (0.0220)     Star (0.0200)    smell (0.0200)  taste (0.0180)   \n",
       "2       noodle (0.0330)  texture (0.0310)    smell (0.0250)   star (0.0200)   \n",
       "3         Star (0.0280)    smell (0.0260)  texture (0.0260)   like (0.0200)   \n",
       "4         rice (0.0210)    smell (0.0170)      eat (0.0160)  pasta (0.0150)   \n",
       "5      texture (0.0180)    smell (0.0140)      try (0.0120)  pasta (0.0120)   \n",
       "\n",
       "                  Word 7            Word 8          Word 9          Word 10  \n",
       "Topic                                                                        \n",
       "1      horrible (0.0160)  texture (0.0140)  water (0.0130)    cook (0.0120)  \n",
       "2          fish (0.0140)     Star (0.0120)   good (0.0110)  rubber (0.0110)  \n",
       "3         waste (0.0150)    money (0.0150)  throw (0.0140)  rubber (0.0130)  \n",
       "4         taste (0.0110)   noodle (0.0100)    try (0.0100)    feel (0.0090)  \n",
       "5         taste (0.0110)    sauce (0.0100)   time (0.0100)   order (0.0090)  "
      ]
     },
     "metadata": {},
     "output_type": "display_data"
    }
   ],
   "source": [
    "import pandas as pd\n",
    "\n",
    "def topics_to_dataframe(lda_model, num_topics, group_name=None, combine=False, num_words=10):\n",
    "    topics_words = lda_model.print_topics(num_topics=num_topics, num_words=num_words)\n",
    "    data = {\"Topic\": []}\n",
    "\n",
    "    for i in range(1, num_words + 1):\n",
    "        data[f\"Word {i}\"] = []\n",
    "        if not combine:\n",
    "            data[f\"Weight {i}\"] = []\n",
    "\n",
    "    for idx, topic in topics_words:\n",
    "        words = topic.split(\" + \")\n",
    "        data[\"Topic\"].append(idx + 1)\n",
    "        for i, word in enumerate(words):\n",
    "            weight, term = word.split('*')\n",
    "            term = term.replace('\"', '')\n",
    "            weight = float(weight)\n",
    "            if combine:\n",
    "                data[f\"Word {i + 1}\"].append(f\"{term} ({weight:.4f})\")\n",
    "            else:\n",
    "                data[f\"Word {i + 1}\"].append(term)\n",
    "                data[f\"Weight {i + 1}\"].append(weight)\n",
    "\n",
    "        # Ensure all lists are of the same length\n",
    "        for j in range(i + 1, num_words):\n",
    "            data[f\"Word {j + 1}\"].append(\"\")\n",
    "            if not combine:\n",
    "                data[f\"Weight {j + 1}\"].append(None)\n",
    "\n",
    "    df = pd.DataFrame(data).set_index(\"Topic\")\n",
    "    \n",
    "    if group_name:\n",
    "        df.insert(0,'group', group_name)\n",
    "        df = df.copy()\n",
    "    \n",
    "    return df\n",
    "\n",
    "# Get the topics for high-rating reviews as rows in a DataFrame, combined words and weights\n",
    "print(\"High Rating Reviews Topics (Rows) with Combined Words and Weights:\")\n",
    "df_high_rows_combined = topics_to_dataframe(high_lda, num_topics, group_name= \"High Rating Reviews\",combine=True, num_words=10)\n",
    "display(df_high_rows_combined)\n",
    "\n",
    "# # Get the topics for high-rating reviews as rows in a DataFrame, separate words and weights\n",
    "# print(\"High Rating Reviews Topics (Rows) with Separate Words and Weights:\")\n",
    "# df_high_rows_separate = topics_to_dataframe(high_lda, num_topics, combine=False, num_words=10)\n",
    "# display(df_high_rows_separate)\n",
    "\n",
    "# Get the topics for low-rating reviews as rows in a DataFrame, combined words and weights\n",
    "print(\"Low Rating Reviews Topics (Rows) with Combined Words and Weights:\")\n",
    "df_low_rows_combined = topics_to_dataframe(low_lda, num_topics, group_name=\"Low Rating Reviews\", combine=True, num_words=10)\n",
    "display(df_low_rows_combined)\n",
    "\n",
    "# # Get the topics for low-rating reviews as rows in a DataFrame, separate words and weights\n",
    "# print(\"Low Rating Reviews Topics (Rows) with Separate Words and Weights:\")\n",
    "# df_low_rows_separate = topics_to_dataframe(low_lda, num_topics, combine=False, num_words=10)\n",
    "# display(df_low_rows_separate)"
   ]
  },
  {
   "cell_type": "markdown",
   "id": "9bd922f9",
   "metadata": {},
   "source": [
    "\n",
    "### Steps to Interpret Topics:\n",
    "\n",
    "1. **Review Top Words**: Look at the top words in each topic. These words represent the main concepts or themes within that topic.\n",
    "2. **Label Topics**: Based on the top words, assign a label or a brief description to each topic that captures its essence.\n",
    "3. **Analyze Topic Distribution**: Examine the distribution of topics across high-rating and low-rating reviews to identify patterns or trends.\n",
    "4. **Draw Insights**: Relate the identified topics to your specific use case or business questions to draw actionable insights.\n",
    "\n",
    "#### Interpretation for High-Rating Reviews:\n",
    "\n",
    "Let's interpret the high-rating reviews based on the top words and their weights.\n",
    "\n",
    "1. **Topic 1**:\n",
    "   - **Top Words**: love, calorie, soup, great, good, pasta, food, cook, diet, carb\n",
    "   - **Label**: Positive Health and Diet\n",
    "   - **Insight**: Customers who gave high ratings often mention love for the product, health-related terms like calorie and diet, and food items like soup and pasta. This suggests that health-conscious consumers appreciate these aspects.\n",
    "\n",
    "2. **Topic 2**:\n",
    "   - **Top Words**: noodle, sauce, great, pasta, taste, carb, good, like, rinse, rice\n",
    "   - **Label**: Flavor and Quality\n",
    "   - **Insight**: High ratings are associated with positive comments about the taste and quality of the product, particularly noodles and pasta, indicating satisfaction with the product's flavor.\n",
    "\n",
    "3. **Topic 3**:\n",
    "   - **Top Words**: noodle, pasta, sauce, rinse, water, smell, calorie, minute, dish, like\n",
    "   - **Label**: Preparation and Smell\n",
    "   - **Insight**: This topic highlights the ease of preparation and the product's smell. High ratings suggest customers find the product easy to prepare and appreciate its aroma.\n",
    "\n",
    "4. **Topic 4**:\n",
    "   - **Top Words**: noodle, like, love, rice, carb, texture, smell, pasta, taste, rinse\n",
    "   - **Label**: Texture and Satisfaction\n",
    "   - **Insight**: Texture and overall satisfaction are prominent in this topic. High ratings indicate customers are happy with the product's texture and overall experience.\n",
    "\n",
    "5. **Topic 5**:\n",
    "   - **Top Words**: star, great, good, product, love, carb, pasta, taste, rice, substitute\n",
    "   - **Label**: General Satisfaction\n",
    "   - **Insight**: General positive feedback is captured in this topic, with high ratings reflecting overall satisfaction with the product.\n"
   ]
  },
  {
   "cell_type": "code",
   "execution_count": 48,
   "id": "f16558be",
   "metadata": {},
   "outputs": [],
   "source": [
    "# !pip install langchain langchain_openai pydantic\n",
    "from langchain_openai import ChatOpenAI #, JsonOutputParser\n",
    "from langchain_core.prompts import ChatPromptTemplate, PromptTemplate\n",
    "from langchain_core.output_parsers import JsonOutputParser, StrOutputParser\n",
    "from pydantic import BaseModel, Field, validator\n",
    "from typing import List, Optional, Text, Dict\n",
    "\n",
    "pd.set_option('display.max_colwidth', 250)\n",
    "from IPython.display import display, Markdown"
   ]
  },
  {
   "cell_type": "code",
   "execution_count": 49,
   "id": "68ba88fc",
   "metadata": {},
   "outputs": [],
   "source": [
    "\n",
    "\n",
    "class TopicLabels(BaseModel):\n",
    "    group : str = Field(description=\"Group name.\")\n",
    "    topic_number: List[int] = Field(description=\"Topic number.\")\n",
    "    top_words: List[List[str]] = Field(description=\"Top words for each LDA topic.\")\n",
    "    topic_labels: List[str] = Field(description=\"Descriptive labels for each LDA topic, based on top words for each topic.\")\n",
    "    topic_insights: List[str] = Field(description=\"Short insights or summaries for each LDA topic, based on top words for each topic.\")\n",
    "    \n",
    "def analyze_topics(topic_string: str, group=\"N/A\", temperature=0.1, model_type='gpt-4o',\n",
    "                       return_llm = False, return_json=True) -> str:\n",
    "    prompt = \"\"\"\n",
    "    Help me interpret these LDA topics. Examine the top words for each topic # and provide a descriptive label and short insight for each topic.\n",
    "    \n",
    "    Group Name: {group}\n",
    "\n",
    "    Topics:\n",
    "    {topic_string}\n",
    "    \n",
    "    Format Instructions:\n",
    "    {format_instructions}\n",
    "    \"\"\"\n",
    "    final_prompt_template = PromptTemplate.from_template(prompt)\n",
    "    # final_prompt_template = final_prompt_template.partial(resume=resume, job=job_listing)\n",
    "\n",
    "    try:\n",
    "        api_key = st.session_state.OPENAI_API_KEY\n",
    "    except:\n",
    "        api_key = os.getenv('OPENAI_API_KEY')\n",
    "        \n",
    "        \n",
    "    llm = ChatOpenAI(temperature=temperature, model=model_type, api_key=api_key)\n",
    "    parser = JsonOutputParser(pydantic_object=TopicLabels,) # PydanticOutputParser(pydantic_object=ResumeRating)#StrOutputParser(output_key=\"response\")\n",
    "    \n",
    "    if return_json:\n",
    "        parser = JsonOutputParser(pydantic_object=TopicLabels,)    \n",
    "        # Add formatting instructions for pydantic\n",
    "        instructions =  parser.get_format_instructions()\n",
    "            \n",
    "    else:\n",
    "        parser = StrOutputParser(output_key=\"response\")\n",
    "        instructions = \"Respond with each topic as a nested list with the topic number,  descriptive label,top words, and short insight.\"\n",
    "        \n",
    "    # Making the chain\n",
    "    final_prompt_template = final_prompt_template.partial(format_instructions=instructions)\n",
    "    llm_chain = final_prompt_template | llm | parser\n",
    "    \n",
    "    if return_llm:\n",
    "        return llm_chain\n",
    "    else:\n",
    "        response = llm_chain.invoke(input=dict(topic_string=topic_string, group=group))\n",
    "        return response\n",
    "\n"
   ]
  },
  {
   "cell_type": "code",
   "execution_count": 50,
   "id": "041faf74",
   "metadata": {},
   "outputs": [
    {
     "data": {
      "text/plain": [
       "'|   Topic | group              | Word 1          | Word 2           | Word 3           | Word 4           | Word 5           | Word 6         | Word 7            | Word 8           | Word 9         | Word 10         |\\n|--------:|:-------------------|:----------------|:-----------------|:-----------------|:-----------------|:-----------------|:---------------|:------------------|:-----------------|:---------------|:----------------|\\n|       1 | Low Rating Reviews | noodle (0.0260) | product (0.0230) | package (0.0220) | Star (0.0200)    | smell (0.0200)   | taste (0.0180) | horrible (0.0160) | texture (0.0140) | water (0.0130) | cook (0.0120)   |\\n|       2 | Low Rating Reviews | like (0.0720)   | taste (0.0570)   | noodle (0.0330)  | texture (0.0310) | smell (0.0250)   | star (0.0200)  | fish (0.0140)     | Star (0.0120)    | good (0.0110)  | rubber (0.0110) |\\n|       3 | Low Rating Reviews | awful (0.0320)  | gross (0.0310)   | Star (0.0280)    | smell (0.0260)   | texture (0.0260) | like (0.0200)  | waste (0.0150)    | money (0.0150)   | throw (0.0140) | rubber (0.0130) |\\n|       4 | Low Rating Reviews | like (0.0520)   | texture (0.0310) | rice (0.0210)    | smell (0.0170)   | eat (0.0160)     | pasta (0.0150) | taste (0.0110)    | noodle (0.0100)  | try (0.0100)   | feel (0.0090)   |\\n|       5 | Low Rating Reviews | noodle (0.0430) | like (0.0210)    | texture (0.0180) | smell (0.0140)   | try (0.0120)     | pasta (0.0120) | taste (0.0110)    | sauce (0.0100)   | time (0.0100)  | order (0.0090)  |'"
      ]
     },
     "execution_count": 50,
     "metadata": {},
     "output_type": "execute_result"
    }
   ],
   "source": [
    "df_low_rows_combined.to_markdown()"
   ]
  },
  {
   "cell_type": "code",
   "execution_count": 51,
   "id": "adf0666c",
   "metadata": {},
   "outputs": [
    {
     "data": {
      "text/markdown": [
       "Sure, here is the interpretation of the LDA topics for the \"High Rating Reviews\" group:\n",
       "\n",
       "1. **Topic 1: \"Noodle and Rice Dishes\"**\n",
       "   - **Top Words:** noodle, like, rice, smell, taste, good, pasta, rinse, sauce, water\n",
       "   - **Insight:** This topic focuses on reviews that highlight the quality and taste of noodle and rice dishes. Reviewers often mention their positive experiences with the smell and taste, indicating satisfaction with these types of meals.\n",
       "\n",
       "2. **Topic 2: \"Sauce and Flavor\"**\n",
       "   - **Top Words:** noodle, sauce, like, pasta, good, calorie, flavor, cook, taste, smell\n",
       "   - **Insight:** This topic centers around the importance of sauce and flavor in noodle and pasta dishes. High ratings are given to products that have good taste and are low in calories, suggesting a preference for flavorful yet healthy options.\n",
       "\n",
       "3. **Topic 3: \"Overall Product Satisfaction\"**\n",
       "   - **Top Words:** star, good, great, love, taste, product, rice, carb, pasta, like\n",
       "   - **Insight:** This topic reflects general satisfaction with the products, with reviewers frequently using words like \"star,\" \"good,\" \"great,\" and \"love.\" The emphasis is on the overall quality and taste of the products, including rice and pasta.\n",
       "\n",
       "4. **Topic 4: \"Noodle Preparation and Enjoyment\"**\n",
       "   - **Top Words:** noodle, rinse, love, smell, like, carb, sauce, water, pasta, cook\n",
       "   - **Insight:** This topic highlights the preparation process and enjoyment of noodle dishes. Reviewers mention rinsing noodles and express their love for the product, indicating a positive experience with both the preparation and consumption.\n",
       "\n",
       "5. **Topic 5: \"Healthy Pasta Alternatives\"**\n",
       "   - **Top Words:** great, pasta, carb, noodle, love, diet, alternative, substitute, rice, calorie\n",
       "   - **Insight:** This topic focuses on pasta and noodle products that serve as healthy alternatives. High ratings are given to products that are low in carbs and calories, making them suitable for diets. Reviewers appreciate these alternatives as great substitutes for traditional pasta and rice."
      ],
      "text/plain": [
       "<IPython.core.display.Markdown object>"
      ]
     },
     "metadata": {},
     "output_type": "display_data"
    }
   ],
   "source": [
    "\n",
    "response_high = analyze_topics(df_high_rows_combined.to_markdown(),#topics_string_high, \n",
    "                               group=\"High Rating Reviews\", temperature=0.1, model_type='gpt-4o',\n",
    "                               return_json=False)\n",
    "display(Markdown(response_high))"
   ]
  },
  {
   "cell_type": "code",
   "execution_count": 52,
   "id": "9a764178",
   "metadata": {},
   "outputs": [
    {
     "data": {
      "text/markdown": [
       "Sure, here are the interpretations for each topic:\n",
       "\n",
       "1. **Topic 1**\n",
       "   - **Descriptive Label:** Noodle and Rice Dishes\n",
       "   - **Top Words:** noodle, like, rice, smell, taste, good, pasta, rinse, sauce, water\n",
       "   - **Short Insight:** This topic focuses on high ratings for noodle and rice dishes, emphasizing their taste, smell, and overall quality. The presence of words like \"rinse\" and \"water\" suggests that preparation methods are also discussed.\n",
       "\n",
       "2. **Topic 2**\n",
       "   - **Descriptive Label:** Sauces and Flavors\n",
       "   - **Top Words:** noodle, sauce, like, pasta, good, calorie, flavor, cook, taste, smell\n",
       "   - **Short Insight:** This topic highlights the importance of sauces and flavors in high-rated reviews. It also touches on the health aspect with mentions of calories and the cooking process.\n",
       "\n",
       "3. **Topic 3**\n",
       "   - **Descriptive Label:** General Product Satisfaction\n",
       "   - **Top Words:** star, good, great, love, taste, product, rice, carb, pasta, like\n",
       "   - **Short Insight:** This topic is centered around overall satisfaction with the product, with frequent mentions of high ratings (stars), taste, and general positive sentiments like \"good\" and \"great.\"\n",
       "\n",
       "4. **Topic 4**\n",
       "   - **Descriptive Label:** Noodle Preparation and Enjoyment\n",
       "   - **Top Words:** noodle, rinse, love, smell, like, carb, sauce, water, pasta, cook\n",
       "   - **Short Insight:** This topic focuses on the preparation and enjoyment of noodles, with specific mentions of rinsing and cooking. It also includes positive sentiments like \"love\" and \"like.\"\n",
       "\n",
       "5. **Topic 5**\n",
       "   - **Descriptive Label:** Low-Carb Alternatives\n",
       "   - **Top Words:** great, pasta, carb, noodle, love, diet, alternative, substitute, rice, calorie\n",
       "   - **Short Insight:** This topic emphasizes high ratings for low-carb alternatives to traditional pasta and noodles. It highlights the suitability of these products for diets and their role as substitutes."
      ],
      "text/plain": [
       "<IPython.core.display.Markdown object>"
      ]
     },
     "metadata": {},
     "output_type": "display_data"
    }
   ],
   "source": [
    "\n",
    "response_low = analyze_topics(df_high_rows_combined.to_markdown(),#topics_string_high, \n",
    "                               group=\"High Rating Reviews\", temperature=0.1, model_type='gpt-4o',\n",
    "                               return_json=False)\n",
    "display(Markdown(response_low))"
   ]
  },
  {
   "cell_type": "code",
   "execution_count": 53,
   "id": "9d09c9fe",
   "metadata": {},
   "outputs": [
    {
     "data": {
      "text/html": [
       "<div>\n",
       "<style scoped>\n",
       "    .dataframe tbody tr th:only-of-type {\n",
       "        vertical-align: middle;\n",
       "    }\n",
       "\n",
       "    .dataframe tbody tr th {\n",
       "        vertical-align: top;\n",
       "    }\n",
       "\n",
       "    .dataframe thead th {\n",
       "        text-align: right;\n",
       "    }\n",
       "</style>\n",
       "<table border=\"1\" class=\"dataframe\">\n",
       "  <thead>\n",
       "    <tr style=\"text-align: right;\">\n",
       "      <th></th>\n",
       "      <th></th>\n",
       "      <th>group</th>\n",
       "      <th>top_words</th>\n",
       "      <th>topic_insights</th>\n",
       "    </tr>\n",
       "    <tr>\n",
       "      <th>topic_number</th>\n",
       "      <th>topic_labels</th>\n",
       "      <th></th>\n",
       "      <th></th>\n",
       "      <th></th>\n",
       "    </tr>\n",
       "  </thead>\n",
       "  <tbody>\n",
       "    <tr>\n",
       "      <th>1</th>\n",
       "      <th>Noodle and Rice Preferences</th>\n",
       "      <td>High Rating Reviews</td>\n",
       "      <td>[noodle, like, rice, smell, taste, good, pasta, rinse, sauce, water]</td>\n",
       "      <td>This topic focuses on the positive reviews of noodles and rice, highlighting their taste, smell, and overall quality.</td>\n",
       "    </tr>\n",
       "    <tr>\n",
       "      <th>2</th>\n",
       "      <th>Noodle and Sauce Preferences</th>\n",
       "      <td>High Rating Reviews</td>\n",
       "      <td>[noodle, sauce, like, pasta, good, calorie, flavor, cook, taste, smell]</td>\n",
       "      <td>This topic emphasizes the favorable opinions on noodles and sauces, including aspects like flavor, calorie content, and cooking experience.</td>\n",
       "    </tr>\n",
       "    <tr>\n",
       "      <th>3</th>\n",
       "      <th>General Product Satisfaction</th>\n",
       "      <td>High Rating Reviews</td>\n",
       "      <td>[star, good, great, love, taste, product, rice, carb, pasta, like]</td>\n",
       "      <td>This topic captures general satisfaction with products, featuring high ratings and positive sentiments about taste and quality.</td>\n",
       "    </tr>\n",
       "    <tr>\n",
       "      <th>4</th>\n",
       "      <th>Noodle Preparation and Enjoyment</th>\n",
       "      <td>High Rating Reviews</td>\n",
       "      <td>[noodle, rinse, love, smell, like, carb, sauce, water, pasta, cook]</td>\n",
       "      <td>This topic discusses the preparation and enjoyment of noodles, including rinsing, smell, and overall love for the product.</td>\n",
       "    </tr>\n",
       "    <tr>\n",
       "      <th>5</th>\n",
       "      <th>Low-Carb Pasta Alternatives</th>\n",
       "      <td>High Rating Reviews</td>\n",
       "      <td>[great, pasta, carb, noodle, love, diet, alternative, substitute, rice, calorie]</td>\n",
       "      <td>This topic highlights the appreciation for low-carb pasta alternatives, mentioning their suitability for diets and as substitutes for traditional pasta.</td>\n",
       "    </tr>\n",
       "  </tbody>\n",
       "</table>\n",
       "</div>"
      ],
      "text/plain": [
       "                                                             group  \\\n",
       "topic_number topic_labels                                            \n",
       "1            Noodle and Rice Preferences       High Rating Reviews   \n",
       "2            Noodle and Sauce Preferences      High Rating Reviews   \n",
       "3            General Product Satisfaction      High Rating Reviews   \n",
       "4            Noodle Preparation and Enjoyment  High Rating Reviews   \n",
       "5            Low-Carb Pasta Alternatives       High Rating Reviews   \n",
       "\n",
       "                                                                                                                      top_words  \\\n",
       "topic_number topic_labels                                                                                                         \n",
       "1            Noodle and Rice Preferences                   [noodle, like, rice, smell, taste, good, pasta, rinse, sauce, water]   \n",
       "2            Noodle and Sauce Preferences               [noodle, sauce, like, pasta, good, calorie, flavor, cook, taste, smell]   \n",
       "3            General Product Satisfaction                    [star, good, great, love, taste, product, rice, carb, pasta, like]   \n",
       "4            Noodle Preparation and Enjoyment               [noodle, rinse, love, smell, like, carb, sauce, water, pasta, cook]   \n",
       "5            Low-Carb Pasta Alternatives       [great, pasta, carb, noodle, love, diet, alternative, substitute, rice, calorie]   \n",
       "\n",
       "                                                                                                                                                                                         topic_insights  \n",
       "topic_number topic_labels                                                                                                                                                                                \n",
       "1            Noodle and Rice Preferences                                          This topic focuses on the positive reviews of noodles and rice, highlighting their taste, smell, and overall quality.  \n",
       "2            Noodle and Sauce Preferences                   This topic emphasizes the favorable opinions on noodles and sauces, including aspects like flavor, calorie content, and cooking experience.  \n",
       "3            General Product Satisfaction                               This topic captures general satisfaction with products, featuring high ratings and positive sentiments about taste and quality.  \n",
       "4            Noodle Preparation and Enjoyment                                This topic discusses the preparation and enjoyment of noodles, including rinsing, smell, and overall love for the product.  \n",
       "5            Low-Carb Pasta Alternatives       This topic highlights the appreciation for low-carb pasta alternatives, mentioning their suitability for diets and as substitutes for traditional pasta.  "
      ]
     },
     "execution_count": 53,
     "metadata": {},
     "output_type": "execute_result"
    }
   ],
   "source": [
    "## Getting dataframe of topic labels and insights\n",
    "response_high = analyze_topics(df_high_rows_combined.to_markdown(),#topics_string_high, \n",
    "                               group=\"High Rating Reviews\", temperature=0.1, model_type='gpt-4o')\n",
    "topics_df_high = pd.DataFrame(response_high).set_index(['topic_number','topic_labels'])\n",
    "topics_df_high"
   ]
  },
  {
   "cell_type": "code",
   "execution_count": 54,
   "id": "525cf07e",
   "metadata": {},
   "outputs": [
    {
     "data": {
      "text/html": [
       "<div>\n",
       "<style scoped>\n",
       "    .dataframe tbody tr th:only-of-type {\n",
       "        vertical-align: middle;\n",
       "    }\n",
       "\n",
       "    .dataframe tbody tr th {\n",
       "        vertical-align: top;\n",
       "    }\n",
       "\n",
       "    .dataframe thead th {\n",
       "        text-align: right;\n",
       "    }\n",
       "</style>\n",
       "<table border=\"1\" class=\"dataframe\">\n",
       "  <thead>\n",
       "    <tr style=\"text-align: right;\">\n",
       "      <th></th>\n",
       "      <th></th>\n",
       "      <th>group</th>\n",
       "      <th>top_words</th>\n",
       "      <th>topic_insights</th>\n",
       "    </tr>\n",
       "    <tr>\n",
       "      <th>topic_number</th>\n",
       "      <th>topic_labels</th>\n",
       "      <th></th>\n",
       "      <th></th>\n",
       "      <th></th>\n",
       "    </tr>\n",
       "  </thead>\n",
       "  <tbody>\n",
       "    <tr>\n",
       "      <th>1</th>\n",
       "      <th>Noodle and Rice Preferences</th>\n",
       "      <td>Low Rating Reviews</td>\n",
       "      <td>[noodle, like, rice, smell, taste, good, pasta, rinse, sauce, water]</td>\n",
       "      <td>This topic focuses on preferences for noodles and rice, with mentions of smell and taste.</td>\n",
       "    </tr>\n",
       "    <tr>\n",
       "      <th>2</th>\n",
       "      <th>Noodle and Sauce Preferences</th>\n",
       "      <td>Low Rating Reviews</td>\n",
       "      <td>[noodle, sauce, like, pasta, good, calorie, flavor, cook, taste, smell]</td>\n",
       "      <td>This topic highlights preferences for noodles and sauce, with mentions of flavor and cooking.</td>\n",
       "    </tr>\n",
       "    <tr>\n",
       "      <th>3</th>\n",
       "      <th>General Positive Feedback</th>\n",
       "      <td>Low Rating Reviews</td>\n",
       "      <td>[star, good, great, love, taste, product, rice, carb, pasta, like]</td>\n",
       "      <td>This topic captures general positive feedback, with mentions of taste, product quality, and liking.</td>\n",
       "    </tr>\n",
       "    <tr>\n",
       "      <th>4</th>\n",
       "      <th>Noodle Preparation and Smell</th>\n",
       "      <td>Low Rating Reviews</td>\n",
       "      <td>[noodle, rinse, love, smell, like, carb, sauce, water, pasta, cook]</td>\n",
       "      <td>This topic discusses noodle preparation, including rinsing and smell, with mentions of love and cooking.</td>\n",
       "    </tr>\n",
       "    <tr>\n",
       "      <th>5</th>\n",
       "      <th>Dietary Alternatives and Preferences</th>\n",
       "      <td>Low Rating Reviews</td>\n",
       "      <td>[great, pasta, carb, noodle, love, diet, alternative, substitute, rice, calorie]</td>\n",
       "      <td>This topic emphasizes dietary alternatives, particularly low-carb options like pasta and noodles, with mentions of diet and substitutes.</td>\n",
       "    </tr>\n",
       "  </tbody>\n",
       "</table>\n",
       "</div>"
      ],
      "text/plain": [
       "                                                                group  \\\n",
       "topic_number topic_labels                                               \n",
       "1            Noodle and Rice Preferences           Low Rating Reviews   \n",
       "2            Noodle and Sauce Preferences          Low Rating Reviews   \n",
       "3            General Positive Feedback             Low Rating Reviews   \n",
       "4            Noodle Preparation and Smell          Low Rating Reviews   \n",
       "5            Dietary Alternatives and Preferences  Low Rating Reviews   \n",
       "\n",
       "                                                                                                                          top_words  \\\n",
       "topic_number topic_labels                                                                                                             \n",
       "1            Noodle and Rice Preferences                       [noodle, like, rice, smell, taste, good, pasta, rinse, sauce, water]   \n",
       "2            Noodle and Sauce Preferences                   [noodle, sauce, like, pasta, good, calorie, flavor, cook, taste, smell]   \n",
       "3            General Positive Feedback                           [star, good, great, love, taste, product, rice, carb, pasta, like]   \n",
       "4            Noodle Preparation and Smell                       [noodle, rinse, love, smell, like, carb, sauce, water, pasta, cook]   \n",
       "5            Dietary Alternatives and Preferences  [great, pasta, carb, noodle, love, diet, alternative, substitute, rice, calorie]   \n",
       "\n",
       "                                                                                                                                                                             topic_insights  \n",
       "topic_number topic_labels                                                                                                                                                                    \n",
       "1            Noodle and Rice Preferences                                                          This topic focuses on preferences for noodles and rice, with mentions of smell and taste.  \n",
       "2            Noodle and Sauce Preferences                                                     This topic highlights preferences for noodles and sauce, with mentions of flavor and cooking.  \n",
       "3            General Positive Feedback                                                  This topic captures general positive feedback, with mentions of taste, product quality, and liking.  \n",
       "4            Noodle Preparation and Smell                                          This topic discusses noodle preparation, including rinsing and smell, with mentions of love and cooking.  \n",
       "5            Dietary Alternatives and Preferences  This topic emphasizes dietary alternatives, particularly low-carb options like pasta and noodles, with mentions of diet and substitutes.  "
      ]
     },
     "execution_count": 54,
     "metadata": {},
     "output_type": "execute_result"
    }
   ],
   "source": [
    "## Getting dataframe of topic labels and insights\n",
    "response_low = analyze_topics(df_high_rows_combined.to_markdown(),#topics_string_high, \n",
    "                               group=\"Low Rating Reviews\", temperature=0.1, model_type='gpt-4o')\n",
    "topics_df_low = pd.DataFrame(response_low).set_index(['topic_number','topic_labels'])\n",
    "topics_df_low"
   ]
  },
  {
   "cell_type": "markdown",
   "id": "c5d34b2d",
   "metadata": {},
   "source": [
    "\n",
    "#### Drawing Insights:\n",
    "\n",
    "1. **Health Consciousness**: High-rating reviews often mention health-related aspects, indicating that promoting these features could attract more positive feedback.\n",
    "2. **Packaging and Delivery**: Addressing packaging and delivery issues could help improve the overall customer experience and reduce negative reviews.\n",
    "3. **Quality and Flavor**: Maintaining and improving the quality and flavor of the product is crucial, as these are frequently mentioned in high-rating reviews.\n",
    "4. **Negative Experiences**: Understanding the specific negative experiences can help in addressing them, possibly through product improvements or better instructions.\n"
   ]
  },
  {
   "cell_type": "code",
   "execution_count": 55,
   "id": "bc5e8722",
   "metadata": {},
   "outputs": [
    {
     "name": "stdout",
     "output_type": "stream",
     "text": [
      "High Rating Reviews Topics (Rows):\n",
      "+---------+----------------+---------------+---------------+----------------+---------------+-----------------+---------------------+--------------------+---------------+-----------------+\n",
      "|  Topic  |     Word 1     |    Word 2     |    Word 3     |     Word 4     |    Word 5     |     Word 6      |       Word 7        |       Word 8       |    Word 9     |     Word 10     |\n",
      "+---------+----------------+---------------+---------------+----------------+---------------+-----------------+---------------------+--------------------+---------------+-----------------+\n",
      "| Topic 1 | noodle (0.048) | like (0.025)  | rice (0.017)  | smell (0.017)  | taste (0.014) |  good (0.014)   |    pasta (0.013)    |   rinse (0.012)    | sauce (0.010) |  water (0.009)  |\n",
      "| Topic 2 | noodle (0.038) | sauce (0.027) | like (0.019)  | pasta (0.017)  | good (0.014)  | calorie (0.014) |   flavor (0.011)    |    cook (0.010)    | taste (0.010) |  smell (0.009)  |\n",
      "| Topic 3 |  star (0.050)  | good (0.038)  | great (0.037) |  love (0.030)  | taste (0.029) | product (0.028) |    rice (0.022)     |    carb (0.017)    | pasta (0.017) |  like (0.017)   |\n",
      "| Topic 4 | noodle (0.047) | rinse (0.024) | love (0.022)  | smell (0.019)  | like (0.016)  |  carb (0.014)   |    sauce (0.014)    |   water (0.014)    | pasta (0.013) |  cook (0.013)   |\n",
      "| Topic 5 | great (0.052)  | pasta (0.051) | carb (0.043)  | noodle (0.026) | love (0.023)  |  diet (0.021)   | alternative (0.016) | substitute (0.016) | rice (0.015)  | calorie (0.013) |\n",
      "+---------+----------------+---------------+---------------+----------------+---------------+-----------------+---------------------+--------------------+---------------+-----------------+\n",
      "Low Rating Reviews Topics (Columns):\n",
      "+---------+----------------+-----------------+-----------------+-----------------+-----------------+---------------+------------------+-----------------+---------------+----------------+\n",
      "|  Topic  |     Word 1     |     Word 2      |     Word 3      |     Word 4      |     Word 5      |    Word 6     |      Word 7      |     Word 8      |    Word 9     |    Word 10     |\n",
      "+---------+----------------+-----------------+-----------------+-----------------+-----------------+---------------+------------------+-----------------+---------------+----------------+\n",
      "| Topic 1 | noodle (0.026) | product (0.023) | package (0.022) |  Star (0.020)   |  smell (0.020)  | taste (0.018) | horrible (0.016) | texture (0.014) | water (0.013) |  cook (0.012)  |\n",
      "| Topic 2 |  like (0.072)  |  taste (0.057)  | noodle (0.033)  | texture (0.031) |  smell (0.025)  | star (0.020)  |   fish (0.014)   |  Star (0.012)   | good (0.011)  | rubber (0.011) |\n",
      "| Topic 3 | awful (0.032)  |  gross (0.031)  |  Star (0.028)   |  smell (0.026)  | texture (0.026) | like (0.020)  |  waste (0.015)   |  money (0.015)  | throw (0.014) | rubber (0.013) |\n",
      "| Topic 4 |  like (0.052)  | texture (0.031) |  rice (0.021)   |  smell (0.017)  |   eat (0.016)   | pasta (0.015) |  taste (0.011)   | noodle (0.010)  |  try (0.010)  |  feel (0.009)  |\n",
      "| Topic 5 | noodle (0.043) |  like (0.021)   | texture (0.018) |  smell (0.014)  |   try (0.012)   | pasta (0.012) |  taste (0.011)   |  sauce (0.010)  | time (0.010)  | order (0.009)  |\n",
      "+---------+----------------+-----------------+-----------------+-----------------+-----------------+---------------+------------------+-----------------+---------------+----------------+\n"
     ]
    }
   ],
   "source": [
    "from tabulate import tabulate\n",
    "\n",
    "def print_topics_table(lda_model, num_topics, orientation=\"rows\", print_output=True):\n",
    "    topics_words = lda_model.print_topics(num_topics=num_topics)\n",
    "\n",
    "    if orientation == \"rows\":\n",
    "        table_data = []\n",
    "        for idx, topic in topics_words:\n",
    "            words = topic.split(\" + \")\n",
    "            words = [\"{} ({})\".format(word.split('*')[1].replace('\"', ''), word.split('*')[0]) for word in words]\n",
    "            table_data.append([\"Topic {}\".format(idx + 1)] + words)\n",
    "\n",
    "        # Ensure all rows have the same number of columns\n",
    "        max_words = max(len(topic) for topic in table_data)\n",
    "        for topic in table_data:\n",
    "            while len(topic) < max_words:\n",
    "                topic.append(\"\")  # Fill shorter rows with empty strings\n",
    "\n",
    "        headers = [\"Topic\"] + [\"Word {}\".format(i + 1) for i in range(max_words - 1)]\n",
    "\n",
    "    elif orientation == \"columns\":\n",
    "        table_data = [[] for _ in range(num_topics)]\n",
    "        for idx, topic in topics_words:\n",
    "            words = topic.split(\" + \")\n",
    "            words = [\"{} ({})\".format(word.split('*')[1].replace('\"', ''), word.split('*')[0]) for word in words]\n",
    "            table_data[idx].extend(words)\n",
    "\n",
    "        # Transpose the data to have topics as columns\n",
    "        max_words = max(len(topic) for topic in table_data)\n",
    "        for topic in table_data:\n",
    "            while len(topic) < max_words:\n",
    "                topic.append(\"\")  # Fill shorter topics with empty strings\n",
    "\n",
    "        table_data = list(map(list, zip(*table_data)))\n",
    "        headers = [\"Topic {}\".format(i + 1) for i in range(num_topics)]\n",
    "\n",
    "    else:\n",
    "        raise ValueError(\"Invalid orientation. Choose 'rows' or 'columns'.\")\n",
    "\n",
    "    table = tabulate(table_data, headers=headers, tablefmt=\"pretty\")\n",
    "\n",
    "    if print_output:\n",
    "        print(table)\n",
    "    else:\n",
    "        return table\n",
    "\n",
    "# Print the topics for high-rating reviews as rows\n",
    "print(\"High Rating Reviews Topics (Rows):\")\n",
    "print_topics_table(high_lda, num_topics, orientation=\"rows\")\n",
    "\n",
    "# Print the topics for low-rating reviews as columns\n",
    "print(\"Low Rating Reviews Topics (Columns):\")\n",
    "print_topics_table(low_lda, num_topics, orientation=\"rows\")\n"
   ]
  },
  {
   "cell_type": "markdown",
   "id": "74673770",
   "metadata": {},
   "source": [
    "### Interactive Visualization"
   ]
  },
  {
   "cell_type": "code",
   "execution_count": 56,
   "id": "c0066bd4",
   "metadata": {},
   "outputs": [
    {
     "data": {
      "text/markdown": [
       "### High Rating Reviews LDA Visualization"
      ],
      "text/plain": [
       "<IPython.core.display.Markdown object>"
      ]
     },
     "metadata": {},
     "output_type": "display_data"
    },
    {
     "data": {
      "text/html": [
       "\n",
       "<link rel=\"stylesheet\" type=\"text/css\" href=\"https://cdn.jsdelivr.net/gh/bmabey/pyLDAvis@3.4.0/pyLDAvis/js/ldavis.v1.0.0.css\">\n",
       "\n",
       "\n",
       "<div id=\"ldavis_el27359136779387209985620279\" style=\"background-color:white;\"></div>\n",
       "<script type=\"text/javascript\">\n",
       "\n",
       "var ldavis_el27359136779387209985620279_data = {\"mdsDat\": {\"x\": [0.07061601923936457, 0.06726385490080082, 0.055436007766185104, -0.09253837994222808, -0.10077750196412252], \"y\": [-0.021275311135373537, 0.023485240558048927, 0.0023198342381523184, -0.08040063565707732, 0.07587087199624966], \"topics\": [1, 2, 3, 4, 5], \"cluster\": [1, 1, 1, 1, 1], \"Freq\": [28.683525944926824, 26.957669144755386, 17.84131698615444, 14.803376740918054, 11.714111183245299]}, \"tinfo\": {\"Term\": [\"star\", \"great\", \"pasta\", \"carb\", \"love\", \"good\", \"product\", \"alternative\", \"diet\", \"taste\", \"substitute\", \"rice\", \"sauce\", \"smell\", \"replacement\", \"water\", \"rinse\", \"calorie\", \"minute\", \"excellent\", \"healthy\", \"free\", \"fishy\", \"stuff\", \"awesome\", \"away\", \"Miracle\", \"option\", \"drain\", \"open\", \"seed\", \"research\", \"e.g.\", \"hardly\", \"lime\", \"scare\", \"scared\", \"stand\", \"NOODLE\", \"list\", \"slippery\", \"jicama\", \"explain\", \"suggest\", \"sound\", \"transparent\", \"oil\", \"preservative\", \"takeout\", \"grandmother\", \"break\", \"amazed\", \"jelly\", \"mush\", \"ketosis\", \"upset\", \"pleasant\", \"daikon\", \"soupy\", \"Spiralizer\", \"fettuccini\", \"sesame\", \"negative\", \"imagine\", \"angel\", \"creative\", \"hair\", \"away\", \"brand\", \"instruction\", \"shirataki\", \"wrong\", \"fish\", \"follow\", \"review\", \"go\", \"noodle\", \"fine\", \"read\", \"like\", \"smell\", \"light\", \"think\", \"rice\", \"say\", \"butter\", \"try\", \"boil\", \"dinner\", \"taste\", \"water\", \"food\", \"actually\", \"good\", \"rinse\", \"dish\", \"minute\", \"texture\", \"direction\", \"pasta\", \"sauce\", \"package\", \"sure\", \"cook\", \"prepare\", \"time\", \"calorie\", \"carb\", \"great\", \"flavor\", \"funky\", \"mushy\", \"typical\", \"tablespoon\", \"warning\", \"improve\", \"sink\", \"burn\", \"freeze\", \"careful\", \"answer\", \"evaporate\", \"sorry\", \"previous\", \"oder\", \"nuke\", \"use\", \"glucose\", \"sour\", \"brine\", \"jellyfish\", \"imagination\", \"lastly\", \"dog\", \"prior\", \"breath\", \"combination\", \"eye\", \"offer\", \"choke\", \"thoroughly\", \"paper\", \"step\", \"liquid\", \"LOVE\", \"grill\", \"carber\", \"dump\", \"throw\", \"open\", \"rinse\", \"fishy\", \"drain\", \"water\", \"minute\", \"smell\", \"love\", \"noodle\", \"cook\", \"colander\", \"boil\", \"package\", \"flavor\", \"texture\", \"little\", \"microwave\", \"recommend\", \"come\", \"stick\", \"sauce\", \"carb\", \"like\", \"add\", \"dish\", \"stir\", \"pasta\", \"soup\", \"rice\", \"find\", \"calorie\", \"taste\", \"great\", \"diet\", \"time\", \"good\", \"product\", \"flavour\", \"Euro\", \"Walden\", \"shipping\", \"Fettuccine\", \"conventional\", \"grateful\", \"overnight\", \"Farms\", \"savory\", \"replication\", \"creation\", \"adkin\", \"penne\", \"crab\", \"aromatic\", \"virtue\", \"belly&nbsp;diet\", \"feta\", \"foot\", \"convert\", \"shellfish\", \"fluid\", \"Liquid\", \"fruit\", \"shallot\", \"comfort\", \"changer\", \"paste\", \"branding\", \"accord\", \"complain\", \"usually\", \"pick\", \"fast\", \"wheat\", \"sauce\", \"beat\", \"cooking\", \"super\", \"miso\", \"pair\", \"add\", \"veggie\", \"neutral\", \"alfredo\", \"meal\", \"meat\", \"vegetable\", \"feel\", \"calorie\", \"noodle\", \"soup\", \"flavor\", \"like\", \"asian\", \"cook\", \"tomato\", \"pasta\", \"good\", \"dish\", \"pretty\", \"stir\", \"food\", \"work\", \"chicken\", \"taste\", \"smell\", \"rinse\", \"texture\", \"package\", \"carb\", \"great\", \"eat\", \"love\", \"minute\", \"diet\", \"rice\", \"water\", \"Taste\", \"star\", \"item\", \"dice\", \"Cincinnati\", \"Dukan\", \"service\", \"Whisked\", \"Balsamic\", \"Style\", \"Option\", \"damage\", \"cheddar\", \"sacrifice\", \"enjoyable\", \"thumb\", \"restriction\", \"bill\", \"watcher\", \"insulin\", \"WIERD\", \"Mircle\", \"absoulutely\", \"vermacelli\", \"subitute\", \"pay\", \"Excellent-\", \"vinaigrette\", \"pallet\", \"scale\", \"thank\", \"receive\", \"forever\", \"yummy\", \"yeah\", \"price\", \"product\", \"value\", \"TASTE\", \"hook\", \"extend\", \"good\", \"daughter\", \"great\", \"taste\", \"love\", \"stuff\", \"rice\", \"easy\", \"awesome\", \"friend\", \"order\", \"well\", \"delivery\", \"Carb\", \"carb\", \"quick\", \"weight\", \"pasta\", \"like\", \"one\", \"substitute\", \"diet\", \"expect\", \"calorie\", \"regular\", \"time\", \"real\", \"texture\", \"noodle\", \"fill\", \"work\", \"try\", \"flavor\", \"sauce\", \"cook\", \"Pack\", \"gift\", \"crunch\", \"sub\", \"Variety\", \"spagetti\", \"CARBS\", \"wide\", \"Healthy\", \"pretend\", \"fight\", \"diabete\", \"Save\", \"Subscribe\", \"dupe\", \"doodle\", \"lucky\", \"loce\", \"repurchase\", \"sooooooooooooooooooooooooooo\", \"highlight\", \"carb'd\", \"specialized\", \"affordable\", \"age\", \"side\", \"cost\", \"Diabetes\", \"question\", \"Singapore\", \"Atkins\", \"fabulous\", \"alternative\", \"craving\", \"replacement\", \"Spinach\", \"ounce\", \"Keto\", \"snack\", \"Awesome\", \"excellent\", \"great\", \"Super\", \"carb\", \"Rice\", \"pasta\", \"substitute\", \"diet\", \"healthy\", \"Gluten\", \"option\", \"satisfy\", \"Shirataki\", \"addition\", \"free\", \"love\", \"miss\", \"Miracle\", \"spaghetti\", \"calorie\", \"rice\", \"make\", \"noodle\", \"product\", \"star\", \"perfect\", \"stuff\", \"awesome\", \"like\", \"rinse\", \"sauce\", \"find\", \"good\", \"taste\", \"texture\", \"follow\", \"delicious\", \"flavor\", \"eat\"], \"Freq\": [373.0, 763.0, 832.0, 656.0, 687.0, 626.0, 367.0, 127.0, 316.0, 580.0, 215.0, 594.0, 584.0, 517.0, 79.0, 312.0, 560.0, 407.0, 272.0, 71.0, 86.0, 199.0, 176.0, 81.0, 102.0, 101.0, 164.0, 49.0, 135.0, 173.0, 8.657213111308167, 6.813168726133254, 6.796012410107102, 6.702119635558493, 5.8487528574810055, 5.843515143769206, 5.8287315175698176, 4.923980727311903, 5.743900410583671, 4.916879939161516, 4.915117243511509, 4.903770395835404, 4.898419434259567, 18.589420681516543, 8.05485654699418, 4.785717219020134, 4.793446385740788, 3.9808628108563715, 3.9796255411729593, 3.9783320152453983, 3.9782478147231095, 3.978111770211115, 3.977468316438167, 3.9747540445799356, 3.9731156274300745, 3.972382825504654, 4.750829155450879, 3.965376533136923, 3.9646599094777937, 3.9624545176319974, 18.74411726379367, 16.167988679921, 14.267971905632736, 7.655974773201245, 85.40123791475985, 10.378215898332042, 87.29771900248774, 68.35541062286859, 20.540794626770705, 64.65851793415335, 33.16821679289457, 10.47437289478569, 47.537285213829975, 104.32615612886735, 68.43221914821362, 97.54854502591509, 602.5609987698471, 32.92150999796454, 40.6556508001278, 318.8566855438782, 209.19185449704563, 16.035009214012682, 60.95461858538252, 211.5422330238414, 42.133764863066396, 30.37250942515937, 84.84244648006529, 81.92553448277886, 24.12866492045203, 175.73742358293774, 110.6266672173871, 66.64766224819171, 37.545849746105, 174.22287900581418, 157.52908490541503, 87.74330375418486, 88.24198263434698, 108.43570638512254, 46.669533015516585, 163.31790390466855, 129.71438585443218, 73.38571013630441, 55.37619940999846, 90.17710330498434, 57.71683567898392, 61.44483770302578, 79.37412776055073, 86.57713313886863, 75.04039379754593, 63.42842845947179, 13.192164839237899, 7.7065297120364145, 6.786516788750999, 6.783296127723583, 6.76972511915398, 5.815911842176112, 5.783880433097323, 9.904345426981104, 6.530378861272727, 4.893373879177464, 4.892257014752506, 3.9628689269098145, 3.961002533110557, 3.9530110087629144, 3.9530870329502568, 5.5300805949443195, 4.720954132365183, 3.932970687414957, 3.911349408534765, 7.659132086873278, 3.0195376575440305, 3.01865715922881, 3.0166397537483314, 3.014251903136803, 3.013964739047341, 3.012830941962475, 2.9891888019569253, 2.9782907347013854, 7.419134785496783, 2.9736909258026794, 40.25946817163921, 14.194673681595532, 20.16010505753394, 46.28545212166691, 12.418112826618177, 5.771821269162372, 5.789648941094176, 13.653787851555098, 33.64270440854722, 103.28887158131741, 287.7915682233823, 100.13481327104478, 78.32923517363909, 161.1010584620441, 140.888521595887, 223.34550522612176, 266.6635232126043, 562.3372128312699, 158.7105815604072, 29.415972460031675, 90.64942746470224, 97.61369640587861, 136.85479432516465, 147.2518400699906, 88.70977122949016, 32.475044768380705, 51.50950529844742, 44.038843392156856, 22.279763069987762, 164.36686956319423, 169.75261098161468, 185.00959827810527, 57.713642946835456, 82.90762183860996, 57.21554905846316, 160.10669526579574, 56.20374729589638, 118.18713529418778, 56.853884029921765, 89.65346637826171, 103.19810699517824, 114.26919700756184, 64.22488513789614, 56.95170918967812, 63.08035343777715, 59.53491155300198, 6.624866568103619, 5.723918438612009, 5.705412629337735, 12.201620414974366, 4.793775334367591, 4.788205020824111, 3.878646187402791, 3.8573817510156303, 3.8391023586574358, 3.7069707066241095, 2.9592171773680707, 2.9566033198591026, 2.9571007509626117, 2.9558483681015466, 2.9550623126060245, 2.953476250673686, 2.953513529418455, 2.9533811098281415, 2.952234845602492, 2.951172744432516, 2.9487887343989625, 2.941529213439152, 2.890021880774457, 2.8665602854854977, 3.546423502918784, 2.8421177789308136, 9.182629400465123, 5.618559100329435, 5.458491031411167, 2.034073541593864, 9.872273371265155, 21.785731376216777, 23.380328540179523, 14.23751466875905, 23.214132120066022, 25.50273235222323, 209.77872892232594, 8.975207720124429, 22.133774885535885, 21.111744478219613, 4.682165516977474, 9.927790799087978, 56.75261580568784, 33.377505374960116, 6.923949592008001, 14.723237044555448, 54.426480680331586, 24.882093853733636, 21.770576537300485, 45.58011287620701, 106.26274452218104, 298.30355325315065, 50.022414599328854, 88.5043324563997, 146.62823156524033, 41.744352339749334, 81.90419976369024, 18.311286497031702, 134.4665236497878, 107.00355505675186, 60.96021238137739, 31.91074457403989, 41.99958229497626, 41.644011681069244, 35.779467754215524, 34.89688272272988, 80.42849206402552, 73.29752468286247, 67.86849529501639, 56.5654481476583, 42.95463903592397, 63.4646377920212, 63.20112692396859, 36.388039832005745, 53.106434381767926, 39.048869474198526, 40.191159739915, 41.507773649512465, 38.28970407496414, 6.979605162583201, 322.86764359514535, 24.705631938044945, 3.5800393744317742, 3.5680069923650355, 3.546015939296807, 4.154232282649708, 2.727354356983315, 2.72731735353733, 2.7262537416668393, 2.7259375994052446, 2.725057107152064, 2.7225306257169684, 2.716677629368456, 2.7130066977654868, 2.712872346792372, 2.6875443419413467, 2.6803912911905625, 4.572319227694063, 1.8750129971793619, 1.8749714394631019, 1.874970680418056, 1.8749695418504873, 1.8749651773414735, 1.8748985711387007, 1.8749437343189284, 1.8749401288549608, 1.8748236154404234, 1.874774087751182, 1.8747310119448304, 24.951211854087624, 12.522785889958413, 4.985679978760462, 25.23695132541588, 5.8607431622505315, 32.7151116959661, 181.0236206823686, 9.316943957930132, 3.5758547590940295, 3.5748714162371367, 3.5716204263057816, 248.5184405266395, 8.843546538962602, 240.24132755791368, 189.3343138039226, 197.99850331186732, 35.21945026898458, 145.10551195520605, 42.93390439848662, 34.357247965228794, 11.487989646543197, 38.9968956270569, 40.81853694112144, 8.790703340960949, 10.341374682199287, 114.02462120676455, 21.9309017845252, 29.869102658371215, 112.63885999218655, 109.9345221581284, 12.482413043014951, 44.38617010380139, 56.32502263999106, 26.998567357254977, 63.740279429502, 33.492404184713465, 39.05597362106513, 25.040370803262697, 50.803917219684166, 97.50316172585195, 27.300239184095524, 28.83973738225902, 34.13917128737727, 38.25352030713809, 43.91153620045418, 37.86654699804545, 4.60964932412584, 3.718218586746366, 2.835947047720875, 2.835985789165811, 2.834798318830325, 2.83495328461007, 2.834014480293244, 2.8320176441119984, 2.831696300343923, 2.8236425846163744, 2.7718053300066416, 4.091923970383842, 2.682414701438765, 2.657352290099116, 1.9507916736178663, 1.9507858173529342, 1.9506563788818683, 1.9506511232594932, 1.9504326395293299, 1.9500168447191426, 1.9500058829924747, 1.9499118824322805, 1.9498006133985686, 1.9493516330870988, 1.9483394002176615, 1.9473047934129701, 1.946157866450092, 1.9456365087104857, 1.944615866845248, 1.944286864884569, 5.138540923326539, 4.526619199916905, 83.62538741134331, 19.83378184110296, 48.497542642904456, 3.707275179676368, 6.587393481050068, 17.37497465116135, 5.240653161254857, 7.152602932468853, 34.50119438856406, 270.42006196420107, 4.624456064123428, 222.36740805566706, 22.088968801600434, 262.4513131327872, 81.48344800114116, 106.53223196245332, 36.38351205986361, 8.15994176635055, 21.34214666403149, 12.103446059898744, 16.959339611894332, 13.62830933258707, 52.99837355495139, 116.42841873405983, 21.10710081599725, 41.66027945550968, 36.53410275922207, 68.11026159470363, 77.9017924071523, 25.068441790922574, 134.48630955727958, 51.11039062305281, 49.51255648738142, 23.72169786727202, 20.78436115461908, 23.144677380609433, 61.70072317996619, 41.053462292871984, 37.22784010759009, 25.291770303951928, 33.202785372772496, 31.484894802777927, 25.77427848296182, 23.93653809968373, 23.00431922785458, 23.687177738227486, 23.14954258532235], \"Total\": [373.0, 763.0, 832.0, 656.0, 687.0, 626.0, 367.0, 127.0, 316.0, 580.0, 215.0, 594.0, 584.0, 517.0, 79.0, 312.0, 560.0, 407.0, 272.0, 71.0, 86.0, 199.0, 176.0, 81.0, 102.0, 101.0, 164.0, 49.0, 135.0, 173.0, 9.440826400681932, 7.548620627902845, 7.5484786349554716, 7.541470868929374, 6.599967448423218, 6.598748776171032, 6.596816251713927, 5.652325563344793, 6.599618675314954, 5.651872688438675, 5.650920620054167, 5.651356911600931, 5.649125857761483, 21.74020177419336, 9.427579670881936, 5.637988329912888, 5.651485686649458, 4.704207338227408, 4.704180908478553, 4.7036844528463995, 4.703818425263352, 4.703994421375992, 4.704064083277449, 4.703614355087968, 4.70389092546668, 4.703128735451356, 5.6341190126924685, 4.703365023152136, 4.7035261044544, 4.703205562472577, 22.650487422574802, 19.851555971378332, 17.927919625622653, 9.4326271995484, 124.62805687034353, 13.112907493513534, 131.91554054363064, 101.24681409894647, 28.74012713165182, 105.55478539449518, 50.67443352445798, 13.893212434989383, 76.44096524995443, 192.5539736499454, 124.91442267271877, 189.90988706740438, 1695.1912361373993, 53.289631030622594, 68.57925418994444, 822.1297607253184, 517.7812228098906, 23.249789522578094, 122.26138367668192, 594.2444463299, 80.68773261349556, 53.53320343424909, 206.70852216056062, 206.0989930443412, 40.74622738993634, 580.183231248842, 312.1451415586631, 158.37207850319461, 74.20498899956672, 626.0280133997552, 560.713415840318, 263.80822621327866, 272.23611408884807, 388.8311903054174, 104.9242790413871, 832.9812959452258, 584.9993606479966, 228.33642242218824, 143.21243474456213, 375.71385780155987, 162.0888794838093, 197.9078413052106, 407.1408796851991, 656.1864111749362, 763.1721072511912, 350.72825328640175, 14.122611077782745, 8.462433967422662, 7.520203521143152, 7.520710251377715, 7.5194330259993025, 6.5755163978324385, 6.575167693809822, 11.259773084520305, 7.506218612481164, 5.630440975748533, 5.630372261711405, 4.688060585877905, 4.687829686439016, 4.6867239012748545, 4.687400031842214, 6.568086609383338, 5.624239218692623, 4.686831984387052, 4.682426044673817, 9.411250611152006, 3.7434748263656092, 3.743291968563796, 3.7433613739392366, 3.742679582092918, 3.7430194716875085, 3.74296192919719, 3.741352392354557, 3.7415931822348565, 9.333111155553837, 3.740879295537307, 50.836860381083184, 17.869082599156837, 26.173126183072554, 65.09157432452092, 16.670111203113873, 7.431159413039615, 7.461494944444528, 18.740807748358435, 50.71181047360877, 173.18743038288005, 560.713415840318, 176.36335394839983, 135.44163087159973, 312.1451415586631, 272.23611408884807, 517.7812228098906, 687.1373028095079, 1695.1912361373993, 375.71385780155987, 50.73981867171683, 206.0989930443412, 228.33642242218824, 350.72825328640175, 388.8311903054174, 205.4408295986933, 59.37642500753249, 111.55527657715035, 93.73865646336981, 37.420481599489435, 584.9993606479966, 656.1864111749362, 822.1297607253184, 151.8206234939574, 263.80822621327866, 156.8220639481641, 832.9812959452258, 155.43942290445986, 594.2444463299, 170.15214432560114, 407.1408796851991, 580.183231248842, 763.1721072511912, 316.03274681828435, 197.9078413052106, 626.0280133997552, 367.8446639497105, 7.3863134707829445, 6.46122986094897, 6.458753967479288, 13.880658400804668, 5.535399956466036, 5.536243559966328, 4.61025842765944, 4.610415592688145, 4.607092783713413, 4.608986582522829, 3.6858310385551403, 3.6851223780531446, 3.6858712279805794, 3.6857983693494205, 3.685531948623922, 3.685507538313857, 3.6857544889486005, 3.6857764451666646, 3.685188142921324, 3.6856477575468483, 3.6847546906538717, 3.6853894818563218, 3.679616718364616, 3.686884375215274, 4.596492688814678, 3.6872891206547056, 12.007961920684284, 7.404863850302996, 7.402618588455712, 2.7606601205262193, 13.641448919321107, 30.671267210831726, 38.17333435168246, 22.332833990048464, 40.65324103555833, 45.7097931298274, 584.9993606479966, 13.946499799152395, 41.823978901524626, 40.17514437074157, 6.477862018061104, 16.730734386069848, 151.8206234939574, 78.88821272241454, 10.881791693734332, 28.640097880087374, 153.77691449328532, 57.64840037225701, 48.47218981257737, 128.20078311471326, 407.1408796851991, 1695.1912361373993, 155.43942290445986, 350.72825328640175, 822.1297607253184, 137.3434333500088, 375.71385780155987, 40.89890414743364, 832.9812959452258, 626.0280133997552, 263.80822621327866, 97.59840299099247, 156.8220639481641, 158.37207850319461, 130.12784880000302, 126.84665496028256, 580.183231248842, 517.7812228098906, 560.713415840318, 388.8311903054174, 228.33642242218824, 656.1864111749362, 763.1721072511912, 167.76407571129647, 687.1373028095079, 272.23611408884807, 316.03274681828435, 594.2444463299, 312.1451415586631, 7.73267747955212, 373.83403197471273, 29.366750548795988, 4.32158044532375, 4.32276007495382, 4.322255212599378, 5.1970508631509285, 3.4688492542616363, 3.4688504736054475, 3.4689217163777326, 3.468663359512033, 3.4689940402975328, 3.4687626985763713, 3.4677076171816825, 3.4689420595540983, 3.470106134091182, 3.466582463272894, 3.4690747066595695, 6.070120147048334, 2.616073088335777, 2.6160394883940397, 2.6160388822585445, 2.61603868762322, 2.616034694106278, 2.6159800139345637, 2.616064448061528, 2.616059802285128, 2.616067404086667, 2.6160661795338123, 2.616095246883597, 35.07814324374732, 17.536588936046783, 7.007360334571498, 38.814783642985354, 8.80606941340032, 56.803317281123014, 367.8446639497105, 14.874429697508306, 5.2678724657341744, 5.267897065397154, 5.2681031064726636, 626.0280133997552, 14.812589973235683, 763.1721072511912, 580.183231248842, 687.1373028095079, 81.63513611162897, 594.2444463299, 126.44161077967993, 102.9467837191094, 24.22430781409455, 126.38884269250183, 136.35108130816207, 16.915283187291234, 21.258840884814656, 656.1864111749362, 62.54443712182641, 97.94583363623694, 832.9812959452258, 822.1297607253184, 28.784841584071184, 215.33395802695276, 316.03274681828435, 98.82002657335696, 407.1408796851991, 150.42658546664933, 197.9078413052106, 93.79168225501098, 388.8311903054174, 1695.1912361373993, 113.24656757288868, 130.12784880000302, 206.70852216056062, 350.72825328640175, 584.9993606479966, 375.71385780155987, 5.346219463551872, 4.459081414318484, 3.57204200129766, 3.5721704919926034, 3.571993318537787, 3.5722401939871156, 3.5720688851759097, 3.5718825420127875, 3.572081807740902, 3.5720938675867995, 3.5744590335240547, 5.378140730459785, 3.5816475484211505, 3.58323296233781, 2.6849847909313986, 2.684979339742524, 2.6848718249142833, 2.6848715836291053, 2.685027374359813, 2.6849534834398945, 2.684956324307864, 2.684935249932429, 2.6849650170778423, 2.6848408595445448, 2.6849870979099144, 2.6847414058029098, 2.6846756418589384, 2.684828691914409, 2.684513481694029, 2.684700797015748, 7.1066302869299705, 6.2922271784755575, 127.45649482629497, 30.788673491746014, 79.72070892231649, 5.311562912187311, 9.933966780535757, 30.821871848512398, 8.136896673209248, 11.62055350280014, 71.03965391694848, 763.1721072511912, 7.233688923999003, 656.1864111749362, 44.87464071932544, 832.9812959452258, 215.33395802695276, 316.03274681828435, 86.61776384592855, 14.226911170632357, 49.36926517054968, 24.47951341373439, 39.05642602978901, 30.1959216563938, 199.27366650832295, 687.1373028095079, 60.58149471358052, 164.1347098691553, 149.75327010076467, 407.1408796851991, 594.2444463299, 102.73022794945125, 1695.1912361373993, 367.8446639497105, 373.83403197471273, 102.13595462978353, 81.63513611162897, 102.9467837191094, 822.1297607253184, 560.713415840318, 584.9993606479966, 170.15214432560114, 626.0280133997552, 580.183231248842, 388.8311903054174, 192.5539736499454, 132.28365247678605, 350.72825328640175, 167.76407571129647], \"Category\": [\"Default\", \"Default\", \"Default\", \"Default\", \"Default\", \"Default\", \"Default\", \"Default\", \"Default\", \"Default\", \"Default\", \"Default\", \"Default\", \"Default\", \"Default\", \"Default\", \"Default\", \"Default\", \"Default\", \"Default\", \"Default\", \"Default\", \"Default\", \"Default\", \"Default\", \"Default\", \"Default\", \"Default\", \"Default\", \"Default\", \"Topic1\", \"Topic1\", \"Topic1\", \"Topic1\", \"Topic1\", \"Topic1\", \"Topic1\", \"Topic1\", \"Topic1\", \"Topic1\", \"Topic1\", \"Topic1\", \"Topic1\", \"Topic1\", \"Topic1\", \"Topic1\", \"Topic1\", \"Topic1\", \"Topic1\", \"Topic1\", \"Topic1\", \"Topic1\", \"Topic1\", \"Topic1\", \"Topic1\", \"Topic1\", \"Topic1\", \"Topic1\", \"Topic1\", \"Topic1\", \"Topic1\", \"Topic1\", \"Topic1\", \"Topic1\", \"Topic1\", \"Topic1\", \"Topic1\", \"Topic1\", \"Topic1\", \"Topic1\", \"Topic1\", \"Topic1\", \"Topic1\", \"Topic1\", \"Topic1\", \"Topic1\", \"Topic1\", \"Topic1\", \"Topic1\", \"Topic1\", \"Topic1\", \"Topic1\", \"Topic1\", \"Topic1\", \"Topic1\", \"Topic1\", \"Topic1\", \"Topic1\", \"Topic1\", \"Topic1\", \"Topic1\", \"Topic1\", \"Topic1\", \"Topic1\", \"Topic1\", \"Topic1\", \"Topic1\", \"Topic1\", \"Topic1\", \"Topic1\", \"Topic1\", \"Topic1\", \"Topic1\", \"Topic1\", \"Topic1\", \"Topic1\", \"Topic1\", \"Topic1\", \"Topic1\", \"Topic1\", \"Topic2\", \"Topic2\", \"Topic2\", \"Topic2\", \"Topic2\", \"Topic2\", \"Topic2\", \"Topic2\", \"Topic2\", \"Topic2\", \"Topic2\", \"Topic2\", \"Topic2\", \"Topic2\", \"Topic2\", \"Topic2\", \"Topic2\", \"Topic2\", \"Topic2\", \"Topic2\", \"Topic2\", \"Topic2\", \"Topic2\", \"Topic2\", \"Topic2\", \"Topic2\", \"Topic2\", \"Topic2\", \"Topic2\", \"Topic2\", \"Topic2\", \"Topic2\", \"Topic2\", \"Topic2\", \"Topic2\", \"Topic2\", \"Topic2\", \"Topic2\", \"Topic2\", \"Topic2\", \"Topic2\", \"Topic2\", \"Topic2\", \"Topic2\", \"Topic2\", \"Topic2\", \"Topic2\", \"Topic2\", \"Topic2\", \"Topic2\", \"Topic2\", \"Topic2\", \"Topic2\", \"Topic2\", \"Topic2\", \"Topic2\", \"Topic2\", \"Topic2\", \"Topic2\", \"Topic2\", \"Topic2\", \"Topic2\", \"Topic2\", \"Topic2\", \"Topic2\", \"Topic2\", \"Topic2\", \"Topic2\", \"Topic2\", \"Topic2\", \"Topic2\", \"Topic2\", \"Topic2\", \"Topic2\", \"Topic2\", \"Topic2\", \"Topic3\", \"Topic3\", \"Topic3\", \"Topic3\", \"Topic3\", \"Topic3\", \"Topic3\", \"Topic3\", \"Topic3\", \"Topic3\", \"Topic3\", \"Topic3\", \"Topic3\", \"Topic3\", \"Topic3\", \"Topic3\", \"Topic3\", \"Topic3\", \"Topic3\", \"Topic3\", \"Topic3\", \"Topic3\", \"Topic3\", \"Topic3\", \"Topic3\", \"Topic3\", \"Topic3\", \"Topic3\", \"Topic3\", \"Topic3\", \"Topic3\", \"Topic3\", \"Topic3\", \"Topic3\", \"Topic3\", \"Topic3\", \"Topic3\", \"Topic3\", \"Topic3\", \"Topic3\", \"Topic3\", \"Topic3\", \"Topic3\", \"Topic3\", \"Topic3\", \"Topic3\", \"Topic3\", \"Topic3\", \"Topic3\", \"Topic3\", \"Topic3\", \"Topic3\", \"Topic3\", \"Topic3\", \"Topic3\", \"Topic3\", \"Topic3\", \"Topic3\", \"Topic3\", \"Topic3\", \"Topic3\", \"Topic3\", \"Topic3\", \"Topic3\", \"Topic3\", \"Topic3\", \"Topic3\", \"Topic3\", \"Topic3\", \"Topic3\", \"Topic3\", \"Topic3\", \"Topic3\", \"Topic3\", \"Topic3\", \"Topic3\", \"Topic3\", \"Topic3\", \"Topic3\", \"Topic4\", \"Topic4\", \"Topic4\", \"Topic4\", \"Topic4\", \"Topic4\", \"Topic4\", \"Topic4\", \"Topic4\", \"Topic4\", \"Topic4\", \"Topic4\", \"Topic4\", \"Topic4\", \"Topic4\", \"Topic4\", \"Topic4\", \"Topic4\", \"Topic4\", \"Topic4\", \"Topic4\", \"Topic4\", \"Topic4\", \"Topic4\", \"Topic4\", \"Topic4\", \"Topic4\", \"Topic4\", \"Topic4\", \"Topic4\", \"Topic4\", \"Topic4\", \"Topic4\", \"Topic4\", \"Topic4\", \"Topic4\", \"Topic4\", \"Topic4\", \"Topic4\", \"Topic4\", \"Topic4\", \"Topic4\", \"Topic4\", \"Topic4\", \"Topic4\", \"Topic4\", \"Topic4\", \"Topic4\", \"Topic4\", \"Topic4\", \"Topic4\", \"Topic4\", \"Topic4\", \"Topic4\", \"Topic4\", \"Topic4\", \"Topic4\", \"Topic4\", \"Topic4\", \"Topic4\", \"Topic4\", \"Topic4\", \"Topic4\", \"Topic4\", \"Topic4\", \"Topic4\", \"Topic4\", \"Topic4\", \"Topic4\", \"Topic4\", \"Topic4\", \"Topic4\", \"Topic4\", \"Topic4\", \"Topic4\", \"Topic4\", \"Topic5\", \"Topic5\", \"Topic5\", \"Topic5\", \"Topic5\", \"Topic5\", \"Topic5\", \"Topic5\", \"Topic5\", \"Topic5\", \"Topic5\", \"Topic5\", \"Topic5\", \"Topic5\", \"Topic5\", \"Topic5\", \"Topic5\", \"Topic5\", \"Topic5\", \"Topic5\", \"Topic5\", \"Topic5\", \"Topic5\", \"Topic5\", \"Topic5\", \"Topic5\", \"Topic5\", \"Topic5\", \"Topic5\", \"Topic5\", \"Topic5\", \"Topic5\", \"Topic5\", \"Topic5\", \"Topic5\", \"Topic5\", \"Topic5\", \"Topic5\", \"Topic5\", \"Topic5\", \"Topic5\", \"Topic5\", \"Topic5\", \"Topic5\", \"Topic5\", \"Topic5\", \"Topic5\", \"Topic5\", \"Topic5\", \"Topic5\", \"Topic5\", \"Topic5\", \"Topic5\", \"Topic5\", \"Topic5\", \"Topic5\", \"Topic5\", \"Topic5\", \"Topic5\", \"Topic5\", \"Topic5\", \"Topic5\", \"Topic5\", \"Topic5\", \"Topic5\", \"Topic5\", \"Topic5\", \"Topic5\", \"Topic5\", \"Topic5\", \"Topic5\", \"Topic5\", \"Topic5\", \"Topic5\", \"Topic5\", \"Topic5\", \"Topic5\", \"Topic5\", \"Topic5\"], \"logprob\": [30.0, 29.0, 28.0, 27.0, 26.0, 25.0, 24.0, 23.0, 22.0, 21.0, 20.0, 19.0, 18.0, 17.0, 16.0, 15.0, 14.0, 13.0, 12.0, 11.0, 10.0, 9.0, 8.0, 7.0, 6.0, 5.0, 4.0, 3.0, 2.0, 1.0, -7.2857, -7.5253, -7.5278, -7.5417, -7.6779, -7.6788, -7.6813, -7.85, -7.696, -7.8514, -7.8518, -7.8541, -7.8552, -6.5215, -7.3578, -7.8785, -7.8769, -8.0626, -8.0629, -8.0633, -8.0633, -8.0633, -8.0635, -8.0642, -8.0646, -8.0648, -7.8858, -8.0665, -8.0667, -8.0673, -6.5132, -6.6611, -6.7861, -7.4086, -4.9968, -7.1044, -4.9748, -5.2194, -6.4217, -5.275, -5.9425, -7.0952, -5.5826, -4.7966, -5.2183, -4.8638, -3.0429, -5.95, -5.739, -3.6794, -4.1009, -6.6693, -5.334, -4.0897, -5.7033, -6.0306, -5.0033, -5.0383, -6.2607, -4.2751, -4.738, -5.2447, -5.8186, -4.2838, -4.3845, -4.9697, -4.964, -4.758, -5.601, -4.3484, -4.5788, -5.1484, -5.43, -4.9423, -5.3886, -5.326, -5.0699, -4.9831, -5.1261, -5.2942, -6.8024, -7.34, -7.4671, -7.4676, -7.4696, -7.6215, -7.627, -7.0891, -7.5056, -7.7942, -7.7944, -8.0051, -8.0056, -8.0076, -8.0076, -7.6719, -7.8301, -8.0127, -8.0182, -7.3462, -8.277, -8.2773, -8.2779, -8.2787, -8.2788, -8.2792, -8.2871, -8.2907, -7.378, -8.2923, -5.6867, -6.7292, -6.3784, -5.5472, -6.8629, -7.6291, -7.626, -6.768, -5.8663, -4.7445, -3.7198, -4.7755, -5.0211, -4.3, -4.4341, -3.9733, -3.7961, -3.05, -4.315, -6.0005, -4.8751, -4.801, -4.4631, -4.3899, -4.8967, -5.9016, -5.4403, -5.597, -6.2784, -4.28, -4.2477, -4.1617, -5.3266, -4.9643, -5.3352, -4.3062, -5.3531, -4.6098, -5.3416, -4.8861, -4.7454, -4.6435, -5.2197, -5.3399, -5.2377, -5.2955, -7.0785, -7.2247, -7.2279, -6.4677, -7.402, -7.4032, -7.6138, -7.6193, -7.6241, -7.6591, -7.8844, -7.8853, -7.8851, -7.8855, -7.8858, -7.8863, -7.8863, -7.8864, -7.8868, -7.8871, -7.8879, -7.8904, -7.908, -7.9162, -7.7034, -7.9248, -6.752, -7.2432, -7.2721, -8.2593, -6.6796, -5.8881, -5.8174, -6.3134, -5.8246, -5.7305, -3.6233, -6.7748, -5.8722, -5.9195, -7.4256, -6.674, -4.9306, -5.4614, -7.0343, -6.2799, -4.9725, -5.7552, -5.8888, -5.1498, -4.3034, -3.2712, -5.0568, -4.4863, -3.9814, -5.2377, -4.5638, -6.0618, -4.068, -4.2965, -4.8591, -5.5064, -5.2317, -5.2402, -5.3919, -5.4169, -4.5819, -4.6748, -4.7517, -4.9339, -5.2092, -4.8188, -4.823, -5.3751, -4.997, -5.3045, -5.2757, -5.2434, -5.3241, -6.8397, -3.0054, -5.5756, -7.5073, -7.5106, -7.5168, -7.3585, -7.7793, -7.7793, -7.7797, -7.7798, -7.7802, -7.7811, -7.7832, -7.7846, -7.7846, -7.794, -7.7967, -7.2626, -8.154, -8.1541, -8.1541, -8.1541, -8.1541, -8.1541, -8.1541, -8.1541, -8.1541, -8.1542, -8.1542, -5.5657, -6.2551, -7.1761, -5.5543, -7.0144, -5.2948, -3.584, -6.5508, -7.5084, -7.5087, -7.5096, -3.2671, -6.603, -3.301, -3.5391, -3.4944, -5.2211, -3.8052, -5.023, -5.2458, -6.3414, -5.1192, -5.0735, -6.609, -6.4465, -4.0462, -5.6948, -5.3858, -4.0585, -4.0828, -6.2583, -4.9897, -4.7515, -5.4869, -4.6278, -5.2713, -5.1177, -5.5622, -4.8547, -4.2028, -5.4758, -5.4209, -5.2522, -5.1384, -5.0005, -5.1486, -7.0204, -7.2353, -7.5062, -7.5062, -7.5066, -7.5066, -7.5069, -7.5076, -7.5077, -7.5106, -7.5291, -7.1396, -7.5619, -7.5713, -7.8804, -7.8804, -7.8804, -7.8804, -7.8805, -7.8808, -7.8808, -7.8808, -7.8809, -7.8811, -7.8816, -7.8821, -7.8827, -7.883, -7.8835, -7.8837, -6.9118, -7.0386, -4.1222, -5.5612, -4.6671, -7.2383, -6.6634, -5.6936, -6.8921, -6.5811, -5.0076, -2.9486, -7.0172, -3.1443, -5.4535, -2.9785, -4.1482, -3.8801, -4.9545, -6.4494, -5.4879, -6.0551, -5.7178, -5.9364, -4.5783, -3.7913, -5.499, -4.819, -4.9503, -4.3275, -4.1931, -5.327, -3.6471, -4.6146, -4.6464, -5.3822, -5.5144, -5.4068, -4.4263, -4.8337, -4.9315, -5.3181, -5.046, -5.0991, -5.2992, -5.3732, -5.4129, -5.3837, -5.4066], \"loglift\": [30.0, 29.0, 28.0, 27.0, 26.0, 25.0, 24.0, 23.0, 22.0, 21.0, 20.0, 19.0, 18.0, 17.0, 16.0, 15.0, 14.0, 13.0, 12.0, 11.0, 10.0, 9.0, 8.0, 7.0, 6.0, 5.0, 4.0, 3.0, 2.0, 1.0, 1.1622, 1.1463, 1.1438, 1.1309, 1.128, 1.1273, 1.1251, 1.1109, 1.11, 1.1095, 1.1093, 1.107, 1.1063, 1.0923, 1.0915, 1.085, 1.0842, 1.0819, 1.0816, 1.0814, 1.0813, 1.0812, 1.0811, 1.0805, 1.08, 1.08, 1.0783, 1.0782, 1.078, 1.0775, 1.0595, 1.0436, 1.0205, 1.0402, 0.8709, 1.015, 0.836, 0.856, 0.913, 0.7587, 0.825, 0.9664, 0.7738, 0.636, 0.6471, 0.5826, 0.2145, 0.7672, 0.726, 0.3017, 0.3425, 0.8773, 0.5528, 0.216, 0.5991, 0.6821, 0.3583, 0.3263, 0.7249, 0.0545, 0.2115, 0.3833, 0.5676, -0.0302, -0.0208, 0.148, 0.1223, -0.0281, 0.4387, -0.3805, -0.2574, 0.1138, 0.2987, -0.1782, 0.2163, 0.0792, -0.3861, -0.7766, -1.0706, -0.4613, 1.2427, 1.2173, 1.2082, 1.2077, 1.2059, 1.1881, 1.1827, 1.1826, 1.1716, 1.1706, 1.1704, 1.1429, 1.1424, 1.1406, 1.1405, 1.1389, 1.1358, 1.1355, 1.131, 1.1049, 1.096, 1.0957, 1.0951, 1.0945, 1.0943, 1.0939, 1.0865, 1.0827, 1.0814, 1.0814, 1.0776, 1.0807, 1.0499, 0.9699, 1.0164, 1.0582, 1.0572, 0.9942, 0.9005, 0.7941, 0.6439, 0.7449, 0.7633, 0.6495, 0.6522, 0.4701, 0.3644, 0.2075, 0.4492, 0.7657, 0.4895, 0.4611, 0.3698, 0.3399, 0.4711, 0.7075, 0.5381, 0.5555, 0.7924, 0.0414, -0.0412, -0.1806, 0.3437, 0.1534, 0.3026, -0.3383, 0.2936, -0.3041, 0.2147, -0.2023, -0.4158, -0.588, -0.2826, 0.0653, -0.9841, -0.5102, 1.6149, 1.6025, 1.5996, 1.5947, 1.5798, 1.5785, 1.5509, 1.5453, 1.5413, 1.5059, 1.5041, 1.5034, 1.5034, 1.503, 1.5028, 1.5022, 1.5022, 1.5021, 1.5019, 1.5014, 1.5008, 1.4982, 1.4821, 1.472, 1.4643, 1.4633, 1.4554, 1.4476, 1.419, 1.4182, 1.4003, 1.3816, 1.2334, 1.2735, 1.1633, 1.1401, 0.6981, 1.2829, 1.0873, 1.0802, 1.399, 1.2017, 0.7397, 0.8635, 1.2715, 1.0583, 0.685, 0.8834, 0.9232, 0.6895, 0.3804, -0.0138, 0.5899, 0.3467, -0.0003, 0.5327, 0.2004, 0.9201, -0.1, -0.0429, 0.2587, 0.6057, 0.4062, 0.3879, 0.4325, 0.4331, -0.2523, -0.2314, -0.388, -0.2041, 0.053, -0.6123, -0.7675, 0.1953, -0.8366, -0.2182, -0.3385, -0.9378, -0.3746, 1.8079, 1.7637, 1.7375, 1.7221, 1.7184, 1.7124, 1.6864, 1.6698, 1.6698, 1.6694, 1.6694, 1.6689, 1.6681, 1.6662, 1.6645, 1.6641, 1.6558, 1.6524, 1.627, 1.5773, 1.5772, 1.5772, 1.5772, 1.5772, 1.5772, 1.5772, 1.5772, 1.5772, 1.5771, 1.5771, 1.5697, 1.5736, 1.5699, 1.4798, 1.5032, 1.3586, 1.2013, 1.4425, 1.5229, 1.5226, 1.5217, 0.9864, 1.3945, 0.7545, 0.7905, 0.666, 1.0697, 0.5005, 0.8302, 0.8129, 1.1643, 0.7344, 0.7042, 1.2558, 1.1897, 0.1603, 0.8623, 0.7227, -0.0905, -0.1017, 1.0748, 0.3311, 0.1856, 0.6128, 0.056, 0.4082, 0.2875, 0.5897, -0.1249, -0.9454, 0.4876, 0.4036, 0.1095, -0.3055, -0.6791, -0.3844, 1.9961, 1.9627, 1.9136, 1.9136, 1.9132, 1.9132, 1.9129, 1.9123, 1.9121, 1.9093, 1.8901, 1.871, 1.8553, 1.8454, 1.8249, 1.8249, 1.8249, 1.8249, 1.8247, 1.8246, 1.8245, 1.8245, 1.8244, 1.8243, 1.8237, 1.8232, 1.8227, 1.8223, 1.8219, 1.8217, 1.8201, 1.815, 1.7229, 1.7046, 1.6474, 1.7848, 1.7336, 1.5712, 1.7044, 1.6591, 1.4221, 1.1069, 1.697, 1.0623, 1.4356, 0.9894, 1.1726, 1.057, 1.277, 1.5885, 1.3057, 1.44, 1.3102, 1.3488, 0.82, 0.3691, 1.09, 0.7732, 0.7336, 0.3563, 0.1125, 0.7339, -0.3897, 0.1707, 0.1228, 0.6845, 0.7763, 0.6519, -0.4452, -0.47, -0.6102, 0.2382, -0.7924, -0.7695, -0.5694, 0.0594, 0.3951, -0.5507, 0.1638]}, \"token.table\": {\"Topic\": [4, 5, 1, 3, 4, 5, 4, 5, 1, 2, 3, 4, 5, 4, 5, 4, 3, 4, 3, 3, 2, 3, 4, 5, 5, 1, 2, 3, 4, 5, 2, 3, 4, 3, 1, 2, 3, 4, 5, 4, 1, 4, 5, 1, 2, 3, 4, 5, 5, 1, 2, 3, 4, 5, 5, 4, 5, 1, 4, 5, 1, 2, 5, 1, 4, 4, 5, 4, 3, 4, 4, 1, 3, 4, 1, 2, 3, 4, 5, 1, 2, 3, 4, 5, 1, 2, 3, 4, 5, 3, 5, 5, 1, 2, 3, 4, 5, 1, 2, 3, 4, 5, 1, 1, 2, 3, 4, 5, 2, 3, 1, 2, 3, 4, 5, 1, 2, 3, 4, 1, 2, 3, 4, 5, 2, 3, 3, 4, 1, 2, 3, 4, 5, 1, 2, 4, 3, 1, 2, 1, 2, 2, 5, 1, 2, 3, 4, 1, 2, 3, 4, 5, 1, 2, 3, 4, 5, 5, 2, 5, 2, 2, 3, 4, 1, 2, 3, 4, 5, 2, 1, 2, 3, 4, 2, 1, 2, 3, 4, 1, 3, 5, 1, 2, 3, 3, 3, 1, 2, 3, 4, 5, 1, 2, 3, 4, 5, 3, 1, 2, 3, 5, 3, 1, 3, 4, 5, 1, 4, 3, 4, 5, 1, 2, 3, 4, 5, 1, 3, 4, 5, 4, 1, 2, 3, 4, 5, 1, 3, 4, 5, 1, 2, 3, 4, 5, 1, 2, 3, 4, 5, 2, 5, 1, 2, 3, 5, 1, 2, 3, 5, 5, 1, 1, 2, 3, 4, 5, 1, 2, 3, 4, 5, 4, 2, 1, 2, 4, 5, 1, 2, 3, 4, 1, 1, 4, 2, 1, 5, 1, 2, 3, 4, 5, 1, 2, 3, 4, 5, 3, 1, 2, 4, 5, 1, 2, 3, 4, 5, 1, 2, 3, 4, 5, 1, 2, 3, 4, 5, 1, 2, 3, 5, 1, 2, 3, 4, 5, 1, 2, 3, 4, 5, 3, 3, 1, 2, 3, 4, 5, 1, 2, 3, 4, 5, 3, 1, 4, 1, 2, 3, 4, 5, 2, 1, 2, 3, 4, 3, 2, 5, 2, 1, 2, 3, 4, 1, 2, 3, 4, 5, 1, 3, 1, 2, 3, 4, 5, 2, 4, 1, 2, 3, 4, 5, 1, 1, 2, 3, 4, 5, 5, 1, 4, 2, 1, 2, 2, 1, 2, 3, 4, 5, 4, 1, 3, 4, 5, 1, 2, 1, 1, 2, 1, 2, 4, 5, 1, 2, 3, 4, 5, 1, 1, 2, 3, 1, 1, 2, 3, 4, 5, 5, 1, 2, 3, 4, 5, 5, 1, 2, 3, 4, 5, 1, 2, 3, 4, 5, 1, 2, 3, 4, 5, 1, 2, 3, 5, 1, 2, 3, 4, 5, 2, 3, 1, 2, 3, 4, 5, 1, 2, 1, 2, 3, 4, 5, 1, 2, 3, 4, 5, 2, 2, 2, 5, 1, 1, 2, 3, 4, 5, 1, 2, 3, 4, 5, 2, 3, 4, 5, 1, 2, 3, 4, 5, 2, 5, 3, 1, 2, 3, 4, 1, 2, 3, 5, 4, 1, 2, 3, 1, 2, 3, 4, 5, 1, 3, 4, 3, 1, 2, 3, 4, 5, 1, 2, 3, 1, 1, 2, 3, 4, 5, 1, 5, 1, 2, 3, 4, 2, 1, 2, 3, 4, 5, 2, 1, 2, 3, 4, 5, 5, 1, 2, 3, 4, 5, 1, 2, 3, 4, 5, 1, 2, 3, 4, 5, 1, 2, 4, 1, 2, 3, 4, 5, 1, 2, 3, 4, 5, 1, 2, 3, 4, 5, 3, 5, 1, 4, 1, 2, 3, 4, 1, 2, 3, 4, 5, 1, 2, 3, 4, 5, 4, 1, 2, 3, 4, 5, 1, 2, 3, 4, 5, 3, 1, 2, 3, 4, 5, 4, 1, 1, 1, 4, 1, 2, 3, 3, 3, 1, 3, 1, 2, 3, 4, 5, 5, 2, 1, 1, 2, 3, 4, 5, 2, 5, 5, 2, 1, 3, 1, 2, 3, 4, 5, 1, 2, 5, 1, 2, 3, 4, 5, 5, 1, 1, 2, 4, 5, 1, 2, 4, 1, 2, 3, 4, 1, 2, 3, 4, 5, 1, 2, 3, 4, 5, 5, 4, 1, 2, 3, 4, 5, 1, 2, 3, 1, 2, 3, 4, 5, 1, 2, 3, 4, 5, 2, 1, 1, 2, 3, 4, 5, 1, 2, 3, 4, 5, 1, 2, 4, 1, 2, 3, 4, 5, 1, 2, 3, 1, 2, 3, 4, 5, 4, 1, 2, 3, 4, 5, 1, 2, 3, 4, 5, 1, 1, 2, 3, 4, 5, 2, 1, 2, 1, 2, 3, 4, 2, 3, 4, 5, 1, 2, 3, 5, 1, 2, 3, 4, 5, 4, 4, 3, 2, 3, 4, 5, 1, 2, 3, 5, 1, 2, 3, 4, 5, 1, 2, 3, 4, 5, 1, 2, 3, 4, 5, 1, 2, 3, 4, 5, 1, 4, 1, 4, 1, 2, 4], \"Freq\": [0.14071366591830897, 0.7035683295915448, 0.08605442070887893, 0.17210884141775787, 0.17210884141775787, 0.6023809449621526, 0.8648398144650684, 0.8398494252028575, 0.04703925324142706, 0.18815701296570825, 0.04703925324142706, 0.47039253241427065, 0.18815701296570825, 0.9253347237974414, 0.7449264848901426, 0.9254428078055169, 0.9286157789035494, 0.7645085170656267, 0.8682264907145882, 0.9032770963838626, 0.07028932619360356, 0.07028932619360356, 0.21086797858081066, 0.5623146095488285, 0.8398463869161203, 0.12977797129453245, 0.12977797129453245, 0.12977797129453245, 0.03244449282363311, 0.5515563780017629, 0.7198512267727689, 0.05998760223106408, 0.17996280669319223, 0.8136951677050714, 0.18277669619007073, 0.3350906096817963, 0.12185113079338047, 0.10966601771404243, 0.255887374666099, 0.764514630712717, 0.9091434361870403, 0.8648864675129604, 0.9352403196478856, 0.08913720390584395, 0.06685290292938297, 0.2005587087881489, 0.15599010683522693, 0.4902546214821418, 0.8376033541665622, 0.2816437938179523, 0.05120796251235496, 0.15362388753706488, 0.07681194376853244, 0.43526768135501714, 0.7449619720093779, 0.1882685033637676, 0.7530740134550704, 0.8504837704557217, 0.8648220528691022, 0.8372327536423165, 0.1382420519470126, 0.1382420519470126, 0.6912102597350631, 0.18982995630677854, 0.7593198252271142, 0.9052491867804427, 0.8398671924806581, 0.7645144535749266, 0.9289717537176401, 0.8648401184670582, 0.7645146875932035, 0.07330599600630744, 0.7330599600630744, 0.21991798801892232, 0.512094948228102, 0.13476182848107948, 0.18866655987351127, 0.12128564563297153, 0.040428548544323845, 0.1646680103444248, 0.3820297839990655, 0.3754430635852885, 0.03952032248266195, 0.04610704289643894, 0.09935116517182938, 0.3974046606873175, 0.03311705505727646, 0.03311705505727646, 0.4636387708018704, 0.8139188307030586, 0.7449231089023575, 0.7448825365145584, 0.10474824536426645, 0.24441257251662174, 0.5237412268213323, 0.03491608178808882, 0.10474824536426645, 0.05492070066370491, 0.1490704732300562, 0.05492070066370491, 0.07845814380529273, 0.659048407964459, 0.8503411445011744, 0.6820294092238759, 0.11233425563687367, 0.008023875402633834, 0.12838200644214134, 0.06419100322107067, 0.8880407489220264, 0.8139991490486868, 0.3567698782884465, 0.26939766319739833, 0.30580275281866837, 0.036405089621270044, 0.036405089621270044, 0.6716260714489739, 0.3061824737487969, 0.009876853991896676, 0.009876853991896676, 0.11656507922328137, 0.07771005281552092, 0.24284391504850283, 0.33026772446596386, 0.2234164018446226, 0.28681031496111314, 0.6453232086625046, 0.8139397613043091, 0.8647839131976349, 0.39786705790628535, 0.4415353935301459, 0.13100500687158176, 0.014556111874620196, 0.014556111874620196, 0.730685703086973, 0.06958911457971172, 0.20876734373913514, 0.7244644080339643, 0.8503729605115556, 0.8015042783626324, 0.10625580396456924, 0.8500464317165539, 0.8881173647937707, 0.08881173647937707, 0.5603998654189788, 0.3175599237374213, 0.037359991027931916, 0.056039986541897874, 0.19403603013552145, 0.22105370521768267, 0.26035214170082627, 0.15719374593257435, 0.16701835505336024, 0.1325842756240897, 0.25907272248385343, 0.09600930303813393, 0.17373111978328995, 0.338318496420091, 0.7448969207172998, 0.8041284011680947, 0.13402140019468245, 0.8880299112513618, 0.13504637225154134, 0.810278233509248, 0.8648616987351836, 0.18920483167265806, 0.3784096633453161, 0.2759237128559597, 0.11036948514238387, 0.055184742571191936, 0.8019504942538132, 0.21679226075223584, 0.5715432328922581, 0.17737548607001113, 0.019708387341112348, 0.80184908701209, 0.29870280902672786, 0.4693901284705723, 0.06400774479144168, 0.1600193619786042, 0.08327807887843586, 0.7495027099059227, 0.08327807887843586, 0.2282266315207189, 0.03260380450295984, 0.7172836990651166, 0.9031394565361952, 0.8141654606232797, 0.23954399905987803, 0.4231943983391178, 0.2182511991434444, 0.1011407996030596, 0.0186311999268794, 0.3347362055858739, 0.0717291869112587, 0.5260140373492305, 0.04781945794083913, 0.7449689522325865, 0.8139937577043983, 0.19487685955708714, 0.09743842977854357, 0.06495895318569572, 0.6495895318569571, 0.8140842263113401, 0.7626073778791337, 0.07626073778791337, 0.07626073778791337, 0.8398557460718975, 0.8504549360532622, 0.8648040224775632, 0.13502027691401203, 0.6075912461130542, 0.27004055382802405, 0.35529711434485717, 0.2343449052061824, 0.16630928756567784, 0.07559513071167173, 0.173868800636845, 0.23647254117538358, 0.23647254117538358, 0.5320632176446131, 0.7437514562133881, 0.9255873055257544, 0.1550472237238583, 0.20251065955769246, 0.1265691622235578, 0.1771968271129809, 0.3385725089480171, 0.5890115855468773, 0.17179504578450586, 0.09816859759114621, 0.12271074698893276, 0.44794208194140633, 0.10483750853947807, 0.18108296929546214, 0.16202160410646613, 0.11436819113397609, 0.33357564797412886, 0.314622486157417, 0.2312285741638848, 0.04548758836010848, 0.07960327963018984, 0.801564743707606, 0.7448846888303393, 0.20673111966987706, 0.5758938333660861, 0.20673111966987706, 0.007383254273924181, 0.10671898601463356, 0.7470329021024349, 0.05335949300731678, 0.05335949300731678, 0.7448831765286152, 0.9273391816444206, 0.2372636651416435, 0.17399335443720523, 0.12654062140887654, 0.3400779200363557, 0.11863183257082174, 0.30399833685350724, 0.22650856471437797, 0.21458706130835806, 0.11325428235718898, 0.13709728916922875, 0.8648169812284565, 0.8532312939916803, 0.09853651607289089, 0.35191612883175316, 0.056306580613080505, 0.49268258036445445, 0.3339404080761216, 0.20238812610674034, 0.19226871980140334, 0.2732239702440995, 0.8850926897177142, 0.18982164543654212, 0.7592865817461685, 0.8017974840888762, 0.1589262389350465, 0.7946311946752326, 0.02459828477452329, 0.04919656954904658, 0.5657605498140357, 0.2705811325197562, 0.07379485432356987, 0.34321163202746646, 0.17160581601373323, 0.35881216075598765, 0.05460185054982421, 0.07020237927834541, 0.8140696983850162, 0.8388340456225012, 0.13244748088776334, 0.044149160295921114, 0.8392878396041663, 0.24724811179798814, 0.19426637355556212, 0.24724811179798814, 0.23841782209091714, 0.061812027949497035, 0.33499430892228704, 0.33499430892228704, 0.0764022108068374, 0.10578767650177485, 0.1469273284746873, 0.6192574307943084, 0.15012301352589294, 0.09382688345368309, 0.018765376690736617, 0.13135763683515633, 0.6279355557984482, 0.24855782417021907, 0.11773791671220904, 0.013081990745801004, 0.32886650600310974, 0.5670112172467409, 0.09072179475947854, 0.005670112172467409, 0.011340224344934818, 0.17962624741427582, 0.3906158078691395, 0.25375771460111984, 0.10834599050384891, 0.06842904663400984, 0.9476987441284433, 0.8153023071743549, 0.5401083032909381, 0.16618717024336555, 0.09348028326189313, 0.07270688698147243, 0.12464037768252417, 0.4230543706518855, 0.10734215374749333, 0.2651982621996894, 0.06314244338087843, 0.1452276197760204, 0.8139681807240275, 0.14270708972484292, 0.7135354486242146, 0.2057472054306161, 0.2760023487483874, 0.17563785829442835, 0.08029159236316726, 0.2659658997029915, 0.9325601026808045, 0.2889659450218493, 0.12384254786650684, 0.08256169857767122, 0.4540893421771917, 0.8702287310787612, 0.9205096655569025, 0.8970457429092156, 0.8534549591973744, 0.5160342176667033, 0.22642317713947185, 0.18429793488096546, 0.07371917395238618, 0.27794283366819705, 0.1006344742591748, 0.1709188689798683, 0.39774577921483373, 0.052713296040520136, 0.8503971812096005, 0.8676303211121161, 0.09827403188271192, 0.1493765284617221, 0.082550186781478, 0.31447690202467815, 0.3537865147777629, 0.8074110198028683, 0.13456850330047807, 0.6595128947011746, 0.12128972776113556, 0.007580607985070972, 0.12887033574620652, 0.0833866878357807, 0.9282008936532239, 0.12699473539361122, 0.12699473539361122, 0.28862439862184364, 0.034634927834621236, 0.41561913401545486, 0.7448910739788537, 0.18982906985191986, 0.7593162794076794, 0.8014336111620548, 0.8481200232723086, 0.10601500290903858, 0.9124758630330307, 0.6157939666787464, 0.1515800533363068, 0.12315879333574929, 0.0757900266681534, 0.0378950133340767, 0.7645046344145936, 0.0681042322567077, 0.03405211612835385, 0.8513029032088462, 0.03405211612835385, 0.8503285519046526, 0.8013944634730136, 0.8847432710781644, 0.8503598538699437, 0.8014187518430853, 0.6881782729457506, 0.08602228411821883, 0.08602228411821883, 0.12903342617732824, 0.3880166066711469, 0.22502530480928581, 0.17880389084845955, 0.13379882988660238, 0.07541388593608497, 0.909095392801285, 0.21508160073378346, 0.7066966881252885, 0.07681485740492267, 0.8846625314522514, 0.2774521506330723, 0.43321476151479715, 0.1362922845215092, 0.10221921339113191, 0.053543397490592906, 0.7449145844422944, 0.07713160060339928, 0.3885686294548606, 0.07713160060339928, 0.2881520173485483, 0.1688163333961192, 0.7449145174980007, 0.2628242975698004, 0.1460134986498891, 0.2628242975698004, 0.08760809918993347, 0.2433558310831485, 0.24060828715363258, 0.20159072707466516, 0.35115804071070705, 0.14306438695621398, 0.05852634011845117, 0.2081584210925467, 0.12142574563731891, 0.43366337727613896, 0.19081188600150115, 0.052039605273136676, 0.31999232014372136, 0.5389344339262676, 0.11789190742137103, 0.016841701060195863, 0.3232488103003115, 0.5179327528675445, 0.14325799547400167, 0.003673281935230812, 0.014693127740923248, 0.15437192042866502, 0.771859602143325, 0.33013381552496773, 0.18157359853873226, 0.08253345388124193, 0.04952007232874516, 0.3466405063012161, 0.8504098546414933, 0.9453544962119803, 0.7809048842449708, 0.16733676090963662, 0.6432764196387398, 0.18379326275392568, 0.09189663137696284, 0.3557120796435768, 0.331526017843599, 0.17579137600959518, 0.05781058674141049, 0.07904712880968373, 0.9135080514054498, 0.853351532369202, 0.7500178539965768, 0.10714540771379669, 0.884723111271702, 0.24318355129922362, 0.2084430439707631, 0.06948101465692104, 0.4168860879415262, 0.03474050732846052, 0.2656081904922541, 0.5947313830587428, 0.10393363975783856, 0.005774091097657698, 0.023096364390630793, 0.4861324128906977, 0.02025551720377907, 0.04051103440755814, 0.4253658612793605, 0.36395617698562094, 0.14241763447263428, 0.11076927125649333, 0.3085715413573743, 0.07120881723631714, 0.3019941646954254, 0.7046530509559925, 0.8676007443545373, 0.3197037039716111, 0.4291912738249025, 0.1883186201476613, 0.061313039117843214, 0.17931071827294237, 0.17931071827294237, 0.5977023942431412, 0.05977023942431412, 0.7645066534044653, 0.05596258198768333, 0.7834761478275666, 0.11192516397536666, 0.19568266513719937, 0.19208114369295645, 0.16086795784285102, 0.1356573077331505, 0.3145328727972162, 0.13508733268515105, 0.6754366634257553, 0.7645071594019696, 0.8139349197578405, 0.3035170142812783, 0.29372614285285, 0.07832697142742666, 0.10769958571271165, 0.23498091428228, 0.22388560279577618, 0.1343313616774657, 0.6268796878281734, 0.887450192077247, 0.35782837283290303, 0.32081164460880957, 0.14806691289637366, 0.15423636760038922, 0.024677818816062277, 0.8503026572606894, 0.8398435514872712, 0.3073820788109489, 0.18442924728656934, 0.3278742173983455, 0.18442924728656934, 0.8534746411906073, 0.2288598733708143, 0.10562763386345275, 0.07041842257563516, 0.5809519862489901, 0.01760460564390879, 0.8014919566120974, 0.1304898635326195, 0.1631123294157744, 0.0761190870606947, 0.4920555270709194, 0.1386454800034082, 0.7450139526726924, 0.30378401140601974, 0.19186358615117036, 0.11192042525484938, 0.35174990794381233, 0.04796589653779259, 0.5978484380486556, 0.24788837675188158, 0.10207168454489242, 0.04374500766209675, 0.014581669220698916, 0.39449127161831254, 0.12794311511945272, 0.07463348381968074, 0.2665481564988598, 0.12794311511945272, 0.22809452936300093, 0.05702363234075023, 0.7413072204297529, 0.22410414609756524, 0.4661366238829357, 0.17928331687805218, 0.0986058242829287, 0.035856663375610436, 0.23267163773892718, 0.21937611558241704, 0.18613731019114174, 0.21937611558241704, 0.1396029826433563, 0.15052550538271492, 0.16306929749794116, 0.05017516846090497, 0.025087584230452487, 0.6021020215308597, 0.8139277054805018, 0.7448713629881918, 0.9273217379775432, 0.8654056356033195, 0.5443726876772506, 0.3042082666431694, 0.08806028771249641, 0.05603836490795226, 0.35675554278938326, 0.19857148136390199, 0.0706779848922363, 0.24400732879462533, 0.1312591147998674, 0.2817838766408183, 0.5136313700794661, 0.12127407349098507, 0.010700653543322213, 0.07312113254603511, 0.8651248407263922, 0.08170097036642432, 0.20425242591606077, 0.16340194073284864, 0.08170097036642432, 0.49020582219854586, 0.22222246509124488, 0.28034218673049355, 0.35897475130124173, 0.07521375741549827, 0.06324793237212355, 0.8678697428124239, 0.5205252228512272, 0.28504952679948153, 0.1115411191824058, 0.024786915373867957, 0.06196728843466989, 0.7644981589957339, 0.909263286650161, 0.9095296535569158, 0.9533063757373942, 0.7696672796415222, 0.8059821619558968, 0.1007477702444871, 0.05037388512224355, 0.8136058502153277, 0.8140252244082781, 0.07204269214938894, 0.8645123057926672, 0.6512159624650283, 0.21707198748834275, 0.039467634088789595, 0.05920145113318439, 0.019733817044394798, 0.7449507038842245, 0.9125242548032179, 0.8848115795956929, 0.4036453830167897, 0.43068382972604835, 0.1409861864125629, 0.01351922335462932, 0.009656588110449515, 0.2457939531891814, 0.6144848829729536, 0.7448918621255407, 0.8532733199696282, 0.8485741069586328, 0.1060717633698291, 0.14153423622475877, 0.36026896493574956, 0.3216687186926336, 0.07720049248623205, 0.09650061560779007, 0.8504258105874789, 0.8542580196327787, 0.8398091497457745, 0.20700716571425112, 0.24707306875571908, 0.22036246672807377, 0.08013180608293592, 0.24707306875571908, 0.7448886623396986, 0.8845916506340133, 0.0026749838550483894, 0.0026749838550483894, 0.8640197851806298, 0.13374919275241948, 0.11462138603604209, 0.7641425735736139, 0.07641425735736139, 0.21378666596608292, 0.5879133314067281, 0.13361666622880183, 0.05344666649152073, 0.2231828807684159, 0.36346926296570586, 0.2678194569220991, 0.08927315230736635, 0.05101322988992363, 0.13474590138440456, 0.08574739179007562, 0.09799701918865786, 0.4287369589503781, 0.25724217537022687, 0.8398255365259906, 0.7645318348559937, 0.18111402566202994, 0.11609873439873714, 0.11145478502278766, 0.20433377254177737, 0.37615989945190836, 0.8739569299928897, 0.0459977331575205, 0.0459977331575205, 0.049782023968445124, 0.1244550599211128, 0.5227112516686738, 0.09956404793689025, 0.22401910785800305, 0.38404486382833725, 0.31421852495045777, 0.1536179455313349, 0.10473950831681926, 0.04887843721451565, 0.9307631548120968, 0.8503074345611631, 0.3033524419883021, 0.17753012229997223, 0.1378874736310464, 0.32575915645334713, 0.053431396032030475, 0.2777554956822487, 0.378056091345283, 0.1465931782767424, 0.13116231740550635, 0.06686706377535617, 0.028507780273639486, 0.2280622421891159, 0.7126945068409871, 0.4989310456465422, 0.23719672661884794, 0.040895987348077235, 0.15540475192269348, 0.07361277722653901, 0.059012298901061265, 0.7868306520141501, 0.13769536410247626, 0.15775417847018747, 0.6704552584982967, 0.13803490616141403, 0.019719272308773433, 0.019719272308773433, 0.8645268715349242, 0.30822427043669626, 0.28801284286707685, 0.1616914205569554, 0.1970614188037894, 0.04042285513923885, 0.19560426292013477, 0.29340639438020216, 0.4401095915703032, 0.048901065730033694, 0.024450532865016847, 0.8868411403890321, 0.411207042223331, 0.20802238606592038, 0.14996962716380308, 0.1644828168893324, 0.06772821871913687, 0.9308258719753272, 0.850497663363689, 0.8890091273824355, 0.20957037512882093, 0.13098148445551308, 0.6025148284953602, 0.026196296891102616, 0.0672294683114819, 0.1344589366229638, 0.6050652148033371, 0.1344589366229638, 0.10315193143394194, 0.371346953162191, 0.45386849830934456, 0.06189115886036517, 0.27887562971431257, 0.07605698992208525, 0.4183134445714689, 0.17746630981819891, 0.050704659948056834, 0.7645158546657824, 0.7645062955471703, 0.8139446099829023, 0.9309212510832527, 0.1647413849767474, 0.823706924883737, 0.1647413849767474, 0.35560380483813864, 0.5157856989093723, 0.12173823949413756, 0.006407275762849345, 0.3267111914003965, 0.061258348387574345, 0.22461394408777258, 0.30629174193787173, 0.08167779785009913, 0.3226963774534154, 0.154014180148221, 0.14668017156973429, 0.3006943517179553, 0.08067409436335385, 0.32815724974725213, 0.1093857499157507, 0.5688058995619036, 0.02187714998315014, 0.8398932396890838, 0.24591200342658132, 0.23054250321241998, 0.276651003854904, 0.22285775310533934, 0.030739000428322664, 0.7197759371198762, 0.21593278113596284, 0.22711608393144983, 0.6813482517943494, 0.05152675893792962, 0.28339717415861293, 0.6440844867241202], \"Term\": [\"Atkins\", \"Atkins\", \"Awesome\", \"Awesome\", \"Awesome\", \"Awesome\", \"Balsamic\", \"CARBS\", \"Carb\", \"Carb\", \"Carb\", \"Carb\", \"Carb\", \"Cincinnati\", \"Diabetes\", \"Dukan\", \"Euro\", \"Excellent-\", \"Farms\", \"Fettuccine\", \"Gluten\", \"Gluten\", \"Gluten\", \"Gluten\", \"Healthy\", \"Keto\", \"Keto\", \"Keto\", \"Keto\", \"Keto\", \"LOVE\", \"LOVE\", \"LOVE\", \"Liquid\", \"Miracle\", \"Miracle\", \"Miracle\", \"Miracle\", \"Miracle\", \"Mircle\", \"NOODLE\", \"Option\", \"Pack\", \"Rice\", \"Rice\", \"Rice\", \"Rice\", \"Rice\", \"Save\", \"Shirataki\", \"Shirataki\", \"Shirataki\", \"Shirataki\", \"Shirataki\", \"Singapore\", \"Spinach\", \"Spinach\", \"Spiralizer\", \"Style\", \"Subscribe\", \"Super\", \"Super\", \"Super\", \"TASTE\", \"TASTE\", \"Taste\", \"Variety\", \"WIERD\", \"Walden\", \"Whisked\", \"absoulutely\", \"accord\", \"accord\", \"accord\", \"actually\", \"actually\", \"actually\", \"actually\", \"actually\", \"add\", \"add\", \"add\", \"add\", \"add\", \"addition\", \"addition\", \"addition\", \"addition\", \"addition\", \"adkin\", \"affordable\", \"age\", \"alfredo\", \"alfredo\", \"alfredo\", \"alfredo\", \"alfredo\", \"alternative\", \"alternative\", \"alternative\", \"alternative\", \"alternative\", \"amazed\", \"angel\", \"angel\", \"angel\", \"angel\", \"angel\", \"answer\", \"aromatic\", \"asian\", \"asian\", \"asian\", \"asian\", \"asian\", \"away\", \"away\", \"away\", \"away\", \"awesome\", \"awesome\", \"awesome\", \"awesome\", \"awesome\", \"beat\", \"beat\", \"belly&nbsp;diet\", \"bill\", \"boil\", \"boil\", \"boil\", \"boil\", \"boil\", \"brand\", \"brand\", \"brand\", \"branding\", \"break\", \"breath\", \"brine\", \"brine\", \"burn\", \"burn\", \"butter\", \"butter\", \"butter\", \"butter\", \"calorie\", \"calorie\", \"calorie\", \"calorie\", \"calorie\", \"carb\", \"carb\", \"carb\", \"carb\", \"carb\", \"carb'd\", \"carber\", \"carber\", \"careful\", \"changer\", \"changer\", \"cheddar\", \"chicken\", \"chicken\", \"chicken\", \"chicken\", \"chicken\", \"choke\", \"colander\", \"colander\", \"colander\", \"colander\", \"combination\", \"come\", \"come\", \"come\", \"come\", \"comfort\", \"comfort\", \"comfort\", \"complain\", \"complain\", \"complain\", \"conventional\", \"convert\", \"cook\", \"cook\", \"cook\", \"cook\", \"cook\", \"cooking\", \"cooking\", \"cooking\", \"cooking\", \"cost\", \"crab\", \"craving\", \"craving\", \"craving\", \"craving\", \"creation\", \"creative\", \"creative\", \"creative\", \"crunch\", \"daikon\", \"damage\", \"daughter\", \"daughter\", \"daughter\", \"delicious\", \"delicious\", \"delicious\", \"delicious\", \"delicious\", \"delivery\", \"delivery\", \"delivery\", \"diabete\", \"dice\", \"diet\", \"diet\", \"diet\", \"diet\", \"diet\", \"dinner\", \"dinner\", \"dinner\", \"dinner\", \"direction\", \"direction\", \"direction\", \"direction\", \"direction\", \"dish\", \"dish\", \"dish\", \"dish\", \"dish\", \"dog\", \"doodle\", \"drain\", \"drain\", \"drain\", \"drain\", \"dump\", \"dump\", \"dump\", \"dump\", \"dupe\", \"e.g.\", \"easy\", \"easy\", \"easy\", \"easy\", \"easy\", \"eat\", \"eat\", \"eat\", \"eat\", \"eat\", \"enjoyable\", \"evaporate\", \"excellent\", \"excellent\", \"excellent\", \"excellent\", \"expect\", \"expect\", \"expect\", \"expect\", \"explain\", \"extend\", \"extend\", \"eye\", \"fabulous\", \"fabulous\", \"fast\", \"fast\", \"fast\", \"fast\", \"fast\", \"feel\", \"feel\", \"feel\", \"feel\", \"feel\", \"feta\", \"fettuccini\", \"fettuccini\", \"fettuccini\", \"fight\", \"fill\", \"fill\", \"fill\", \"fill\", \"fill\", \"find\", \"find\", \"find\", \"find\", \"find\", \"fine\", \"fine\", \"fine\", \"fine\", \"fine\", \"fish\", \"fish\", \"fish\", \"fish\", \"fishy\", \"fishy\", \"fishy\", \"fishy\", \"fishy\", \"flavor\", \"flavor\", \"flavor\", \"flavor\", \"flavor\", \"flavour\", \"fluid\", \"follow\", \"follow\", \"follow\", \"follow\", \"follow\", \"food\", \"food\", \"food\", \"food\", \"food\", \"foot\", \"forever\", \"forever\", \"free\", \"free\", \"free\", \"free\", \"free\", \"freeze\", \"friend\", \"friend\", \"friend\", \"friend\", \"fruit\", \"funky\", \"gift\", \"glucose\", \"go\", \"go\", \"go\", \"go\", \"good\", \"good\", \"good\", \"good\", \"good\", \"grandmother\", \"grateful\", \"great\", \"great\", \"great\", \"great\", \"great\", \"grill\", \"grill\", \"hair\", \"hair\", \"hair\", \"hair\", \"hair\", \"hardly\", \"healthy\", \"healthy\", \"healthy\", \"healthy\", \"healthy\", \"highlight\", \"hook\", \"hook\", \"imagination\", \"imagine\", \"imagine\", \"improve\", \"instruction\", \"instruction\", \"instruction\", \"instruction\", \"instruction\", \"insulin\", \"item\", \"item\", \"item\", \"item\", \"jelly\", \"jellyfish\", \"jicama\", \"ketosis\", \"lastly\", \"light\", \"light\", \"light\", \"light\", \"like\", \"like\", \"like\", \"like\", \"like\", \"lime\", \"liquid\", \"liquid\", \"liquid\", \"list\", \"little\", \"little\", \"little\", \"little\", \"little\", \"loce\", \"love\", \"love\", \"love\", \"love\", \"love\", \"lucky\", \"make\", \"make\", \"make\", \"make\", \"make\", \"meal\", \"meal\", \"meal\", \"meal\", \"meal\", \"meat\", \"meat\", \"meat\", \"meat\", \"meat\", \"microwave\", \"microwave\", \"microwave\", \"microwave\", \"minute\", \"minute\", \"minute\", \"minute\", \"minute\", \"miso\", \"miso\", \"miss\", \"miss\", \"miss\", \"miss\", \"miss\", \"mush\", \"mushy\", \"negative\", \"negative\", \"neutral\", \"neutral\", \"neutral\", \"noodle\", \"noodle\", \"noodle\", \"noodle\", \"noodle\", \"nuke\", \"oder\", \"offer\", \"offer\", \"oil\", \"one\", \"one\", \"one\", \"one\", \"one\", \"open\", \"open\", \"open\", \"open\", \"open\", \"option\", \"option\", \"option\", \"option\", \"order\", \"order\", \"order\", \"order\", \"order\", \"ounce\", \"ounce\", \"overnight\", \"package\", \"package\", \"package\", \"package\", \"pair\", \"pair\", \"pair\", \"pair\", \"pallet\", \"paper\", \"paper\", \"paper\", \"pasta\", \"pasta\", \"pasta\", \"pasta\", \"pasta\", \"paste\", \"paste\", \"pay\", \"penne\", \"perfect\", \"perfect\", \"perfect\", \"perfect\", \"perfect\", \"pick\", \"pick\", \"pick\", \"pleasant\", \"prepare\", \"prepare\", \"prepare\", \"prepare\", \"prepare\", \"preservative\", \"pretend\", \"pretty\", \"pretty\", \"pretty\", \"pretty\", \"previous\", \"price\", \"price\", \"price\", \"price\", \"price\", \"prior\", \"product\", \"product\", \"product\", \"product\", \"product\", \"question\", \"quick\", \"quick\", \"quick\", \"quick\", \"quick\", \"read\", \"read\", \"read\", \"read\", \"read\", \"real\", \"real\", \"real\", \"real\", \"real\", \"receive\", \"receive\", \"receive\", \"recommend\", \"recommend\", \"recommend\", \"recommend\", \"recommend\", \"regular\", \"regular\", \"regular\", \"regular\", \"regular\", \"replacement\", \"replacement\", \"replacement\", \"replacement\", \"replacement\", \"replication\", \"repurchase\", \"research\", \"restriction\", \"review\", \"review\", \"review\", \"review\", \"rice\", \"rice\", \"rice\", \"rice\", \"rice\", \"rinse\", \"rinse\", \"rinse\", \"rinse\", \"rinse\", \"sacrifice\", \"satisfy\", \"satisfy\", \"satisfy\", \"satisfy\", \"satisfy\", \"sauce\", \"sauce\", \"sauce\", \"sauce\", \"sauce\", \"savory\", \"say\", \"say\", \"say\", \"say\", \"say\", \"scale\", \"scare\", \"scared\", \"seed\", \"service\", \"sesame\", \"sesame\", \"sesame\", \"shallot\", \"shellfish\", \"shipping\", \"shipping\", \"shirataki\", \"shirataki\", \"shirataki\", \"shirataki\", \"shirataki\", \"side\", \"sink\", \"slippery\", \"smell\", \"smell\", \"smell\", \"smell\", \"smell\", \"snack\", \"snack\", \"sooooooooooooooooooooooooooo\", \"sorry\", \"sound\", \"sound\", \"soup\", \"soup\", \"soup\", \"soup\", \"soup\", \"soupy\", \"sour\", \"spagetti\", \"spaghetti\", \"spaghetti\", \"spaghetti\", \"spaghetti\", \"spaghetti\", \"specialized\", \"stand\", \"star\", \"star\", \"star\", \"star\", \"step\", \"step\", \"step\", \"stick\", \"stick\", \"stick\", \"stick\", \"stir\", \"stir\", \"stir\", \"stir\", \"stir\", \"stuff\", \"stuff\", \"stuff\", \"stuff\", \"stuff\", \"sub\", \"subitute\", \"substitute\", \"substitute\", \"substitute\", \"substitute\", \"substitute\", \"suggest\", \"suggest\", \"suggest\", \"super\", \"super\", \"super\", \"super\", \"super\", \"sure\", \"sure\", \"sure\", \"sure\", \"sure\", \"tablespoon\", \"takeout\", \"taste\", \"taste\", \"taste\", \"taste\", \"taste\", \"texture\", \"texture\", \"texture\", \"texture\", \"texture\", \"thank\", \"thank\", \"thank\", \"think\", \"think\", \"think\", \"think\", \"think\", \"thoroughly\", \"thoroughly\", \"thoroughly\", \"throw\", \"throw\", \"throw\", \"throw\", \"throw\", \"thumb\", \"time\", \"time\", \"time\", \"time\", \"time\", \"tomato\", \"tomato\", \"tomato\", \"tomato\", \"tomato\", \"transparent\", \"try\", \"try\", \"try\", \"try\", \"try\", \"typical\", \"upset\", \"use\", \"usually\", \"usually\", \"usually\", \"usually\", \"value\", \"value\", \"value\", \"value\", \"vegetable\", \"vegetable\", \"vegetable\", \"vegetable\", \"veggie\", \"veggie\", \"veggie\", \"veggie\", \"veggie\", \"vermacelli\", \"vinaigrette\", \"virtue\", \"warning\", \"watcher\", \"watcher\", \"watcher\", \"water\", \"water\", \"water\", \"water\", \"weight\", \"weight\", \"weight\", \"weight\", \"weight\", \"well\", \"well\", \"well\", \"well\", \"well\", \"wheat\", \"wheat\", \"wheat\", \"wheat\", \"wide\", \"work\", \"work\", \"work\", \"work\", \"work\", \"wrong\", \"wrong\", \"yeah\", \"yeah\", \"yummy\", \"yummy\", \"yummy\"]}, \"R\": 30, \"lambda.step\": 0.01, \"plot.opts\": {\"xlab\": \"PC1\", \"ylab\": \"PC2\"}, \"topic.order\": [1, 4, 2, 3, 5]};\n",
       "\n",
       "function LDAvis_load_lib(url, callback){\n",
       "  var s = document.createElement('script');\n",
       "  s.src = url;\n",
       "  s.async = true;\n",
       "  s.onreadystatechange = s.onload = callback;\n",
       "  s.onerror = function(){console.warn(\"failed to load library \" + url);};\n",
       "  document.getElementsByTagName(\"head\")[0].appendChild(s);\n",
       "}\n",
       "\n",
       "if(typeof(LDAvis) !== \"undefined\"){\n",
       "   // already loaded: just create the visualization\n",
       "   !function(LDAvis){\n",
       "       new LDAvis(\"#\" + \"ldavis_el27359136779387209985620279\", ldavis_el27359136779387209985620279_data);\n",
       "   }(LDAvis);\n",
       "}else if(typeof define === \"function\" && define.amd){\n",
       "   // require.js is available: use it to load d3/LDAvis\n",
       "   require.config({paths: {d3: \"https://d3js.org/d3.v5\"}});\n",
       "   require([\"d3\"], function(d3){\n",
       "      window.d3 = d3;\n",
       "      LDAvis_load_lib(\"https://cdn.jsdelivr.net/gh/bmabey/pyLDAvis@3.4.0/pyLDAvis/js/ldavis.v3.0.0.js\", function(){\n",
       "        new LDAvis(\"#\" + \"ldavis_el27359136779387209985620279\", ldavis_el27359136779387209985620279_data);\n",
       "      });\n",
       "    });\n",
       "}else{\n",
       "    // require.js not available: dynamically load d3 & LDAvis\n",
       "    LDAvis_load_lib(\"https://d3js.org/d3.v5.js\", function(){\n",
       "         LDAvis_load_lib(\"https://cdn.jsdelivr.net/gh/bmabey/pyLDAvis@3.4.0/pyLDAvis/js/ldavis.v3.0.0.js\", function(){\n",
       "                 new LDAvis(\"#\" + \"ldavis_el27359136779387209985620279\", ldavis_el27359136779387209985620279_data);\n",
       "            })\n",
       "         });\n",
       "}\n",
       "</script>"
      ],
      "text/plain": [
       "<IPython.core.display.HTML object>"
      ]
     },
     "execution_count": 56,
     "metadata": {},
     "output_type": "execute_result"
    }
   ],
   "source": [
    "import pyLDAvis\n",
    "import pyLDAvis.gensim_models as gensimvis\n",
    "from IPython.display import display, Markdown, HTML\n",
    "\n",
    "\n",
    "# Display the LDA visualization for high-rating reviews\n",
    "display(Markdown(\"### High Rating Reviews LDA Visualization\" ))\n",
    "vis_data = gensimvis.prepare(high_lda, high_corpus, high_dictionary)\n",
    "pyLDAvis.display(vis_data)"
   ]
  },
  {
   "cell_type": "markdown",
   "id": "91fc0631",
   "metadata": {},
   "source": [
    "\n",
    "\n",
    "### Main Components of the `pyLDAvis` Visualization:\n",
    "The `pyLDAvis` visualization provides an interactive way to explore the topics generated by your LDA model. Let's walk through the main components of the visualization and what the relevance metric slider does.\n",
    "1. **Intertopic Distance Map (via multidimensional scaling)**:\n",
    "   - This plot shows the relationships between the topics.\n",
    "   - Each circle represents a topic. The size of the circle indicates the prevalence of the topic across the corpus.\n",
    "   - The distance between the circles represents the similarity between the topics. Topics that are closer together are more similar in terms of the words they contain.\n",
    "\n",
    "2. **Top-30 Most Relevant Terms for Selected Topic**:\n",
    "   - This bar chart shows the top words for the selected topic.\n",
    "   - The length of each bar represents the frequency of the term within the topic.\n",
    "   - The red part of the bar represents the estimated term frequency within the selected topic, while the blue part represents the overall term frequency across the corpus.\n",
    "\n",
    "3. **Marginal Topic Distribution**:\n",
    "   - This inset shows the overall distribution of topics in the corpus.\n",
    "   - It gives a quick view of how prevalent each topic is in the dataset.\n",
    "\n",
    "4. **Topic Selection and Navigation**:\n",
    "   - You can select a topic using the dropdown menu or navigate through topics using the \"Previous Topic\" and \"Next Topic\" buttons.\n",
    "   - The selected topic is highlighted in the Intertopic Distance Map and the corresponding top words are shown in the bar chart.\n",
    "\n",
    "#### The Relevance Metric Slider:\n",
    "\n",
    "The slider at the top right adjusts the relevance metric (λ) used to rank the terms for each topic. \n",
    "\n",
    "##### What the Relevance Metric (λ) Means:\n",
    "- The relevance metric balances two quantities: \n",
    "  1. **Term Frequency within the Topic (p(term | topic))**: This measures how often a term appears in a given topic.\n",
    "  2. **Term Frequency across the Corpus (p(term))**: This measures how often a term appears in the entire corpus.\n",
    "\n",
    "##### How the Slider Works:\n",
    "- **λ = 1**: When the slider is at 1, the ranking is based entirely on the term frequency within the topic (p(term | topic)).\n",
    "  - Terms that are most representative of the topic will appear at the top.\n",
    "- **λ = 0**: When the slider is at 0, the ranking is based entirely on the term frequency across the corpus (p(term)).\n",
    "  - This tends to highlight terms that are more common in the corpus but less specific to the topic.\n",
    "- **Intermediate Values of λ**: When the slider is between 0 and 1, the ranking is a weighted combination of both quantities.\n",
    "  - This allows you to see terms that are both relevant to the topic and frequent in the corpus.\n",
    "\n",
    "#### Practical Use of the Relevance Metric Slider:\n",
    "\n",
    "- **Exploring Topic-Specific Terms**: Set λ closer to 1 to focus on terms that are highly specific to the selected topic.\n",
    "- **Understanding Contextual Relevance**: Set λ closer to 0 to see more common terms and understand the broader context of the topic within the entire corpus.\n",
    "- **Balancing Specificity and Generality**: Use intermediate values of λ to get a balanced view of terms that are both topic-specific and common in the corpus.\n"
   ]
  },
  {
   "cell_type": "code",
   "execution_count": 57,
   "id": "bad394b6",
   "metadata": {},
   "outputs": [
    {
     "data": {
      "text/markdown": [
       "### High Rating Reviews LDA Visualization"
      ],
      "text/plain": [
       "<IPython.core.display.Markdown object>"
      ]
     },
     "metadata": {},
     "output_type": "display_data"
    },
    {
     "data": {
      "text/html": [
       "\n",
       "<link rel=\"stylesheet\" type=\"text/css\" href=\"https://cdn.jsdelivr.net/gh/bmabey/pyLDAvis@3.4.0/pyLDAvis/js/ldavis.v1.0.0.css\">\n",
       "\n",
       "\n",
       "<div id=\"ldavis_el27359136681436647833609057\" style=\"background-color:white;\"></div>\n",
       "<script type=\"text/javascript\">\n",
       "\n",
       "var ldavis_el27359136681436647833609057_data = {\"mdsDat\": {\"x\": [0.07061601923936457, 0.06726385490080082, 0.055436007766185104, -0.09253837994222808, -0.10077750196412252], \"y\": [-0.021275311135373537, 0.023485240558048927, 0.0023198342381523184, -0.08040063565707732, 0.07587087199624966], \"topics\": [1, 2, 3, 4, 5], \"cluster\": [1, 1, 1, 1, 1], \"Freq\": [28.670290736822967, 26.976899452267, 17.835735188822007, 14.803441765072403, 11.713632857015622]}, \"tinfo\": {\"Term\": [\"star\", \"great\", \"pasta\", \"carb\", \"love\", \"good\", \"product\", \"alternative\", \"diet\", \"taste\", \"substitute\", \"rice\", \"sauce\", \"smell\", \"replacement\", \"water\", \"rinse\", \"calorie\", \"minute\", \"excellent\", \"healthy\", \"free\", \"fishy\", \"stuff\", \"awesome\", \"away\", \"Miracle\", \"option\", \"drain\", \"open\", \"seed\", \"research\", \"e.g.\", \"hardly\", \"lime\", \"scare\", \"scared\", \"stand\", \"NOODLE\", \"list\", \"slippery\", \"jicama\", \"explain\", \"suggest\", \"sound\", \"transparent\", \"oil\", \"preservative\", \"takeout\", \"grandmother\", \"break\", \"amazed\", \"jelly\", \"mush\", \"ketosis\", \"upset\", \"pleasant\", \"daikon\", \"soupy\", \"Spiralizer\", \"fettuccini\", \"sesame\", \"negative\", \"imagine\", \"angel\", \"creative\", \"hair\", \"away\", \"brand\", \"instruction\", \"shirataki\", \"wrong\", \"fish\", \"follow\", \"review\", \"go\", \"noodle\", \"fine\", \"read\", \"like\", \"smell\", \"light\", \"think\", \"rice\", \"say\", \"butter\", \"try\", \"boil\", \"taste\", \"water\", \"food\", \"actually\", \"good\", \"rinse\", \"dish\", \"minute\", \"texture\", \"direction\", \"pasta\", \"sauce\", \"package\", \"sure\", \"cook\", \"prepare\", \"time\", \"calorie\", \"carb\", \"great\", \"flavor\", \"funky\", \"mushy\", \"typical\", \"tablespoon\", \"warning\", \"improve\", \"sink\", \"burn\", \"freeze\", \"careful\", \"answer\", \"evaporate\", \"sorry\", \"previous\", \"oder\", \"nuke\", \"use\", \"glucose\", \"sour\", \"brine\", \"jellyfish\", \"imagination\", \"lastly\", \"dog\", \"prior\", \"breath\", \"combination\", \"eye\", \"choke\", \"offer\", \"thoroughly\", \"paper\", \"step\", \"liquid\", \"LOVE\", \"grill\", \"carber\", \"dump\", \"throw\", \"open\", \"rinse\", \"fishy\", \"drain\", \"water\", \"minute\", \"smell\", \"love\", \"noodle\", \"cook\", \"colander\", \"boil\", \"package\", \"flavor\", \"texture\", \"little\", \"microwave\", \"recommend\", \"come\", \"stick\", \"sauce\", \"carb\", \"like\", \"add\", \"dish\", \"stir\", \"pasta\", \"soup\", \"rice\", \"find\", \"calorie\", \"taste\", \"great\", \"diet\", \"time\", \"good\", \"product\", \"flavour\", \"Euro\", \"Walden\", \"shipping\", \"Fettuccine\", \"conventional\", \"grateful\", \"overnight\", \"Farms\", \"savory\", \"replication\", \"creation\", \"adkin\", \"penne\", \"crab\", \"aromatic\", \"virtue\", \"belly&nbsp;diet\", \"feta\", \"foot\", \"convert\", \"shellfish\", \"fluid\", \"Liquid\", \"fruit\", \"shallot\", \"comfort\", \"changer\", \"paste\", \"branding\", \"accord\", \"complain\", \"usually\", \"pick\", \"fast\", \"wheat\", \"sauce\", \"beat\", \"cooking\", \"super\", \"miso\", \"pair\", \"add\", \"veggie\", \"neutral\", \"alfredo\", \"meal\", \"meat\", \"vegetable\", \"feel\", \"calorie\", \"noodle\", \"soup\", \"flavor\", \"like\", \"asian\", \"cook\", \"tomato\", \"pasta\", \"good\", \"dish\", \"pretty\", \"stir\", \"food\", \"work\", \"chicken\", \"taste\", \"smell\", \"rinse\", \"texture\", \"package\", \"carb\", \"great\", \"eat\", \"love\", \"minute\", \"diet\", \"rice\", \"water\", \"Taste\", \"star\", \"item\", \"dice\", \"Cincinnati\", \"Dukan\", \"service\", \"Whisked\", \"Balsamic\", \"Style\", \"Option\", \"damage\", \"cheddar\", \"sacrifice\", \"enjoyable\", \"thumb\", \"restriction\", \"bill\", \"watcher\", \"insulin\", \"WIERD\", \"Mircle\", \"absoulutely\", \"vermacelli\", \"subitute\", \"pay\", \"Excellent-\", \"vinaigrette\", \"pallet\", \"scale\", \"thank\", \"receive\", \"forever\", \"yummy\", \"yeah\", \"price\", \"product\", \"value\", \"TASTE\", \"hook\", \"extend\", \"good\", \"daughter\", \"great\", \"taste\", \"love\", \"stuff\", \"rice\", \"easy\", \"awesome\", \"friend\", \"order\", \"well\", \"delivery\", \"Carb\", \"carb\", \"quick\", \"weight\", \"pasta\", \"like\", \"one\", \"substitute\", \"diet\", \"expect\", \"calorie\", \"regular\", \"time\", \"real\", \"texture\", \"noodle\", \"fill\", \"work\", \"try\", \"flavor\", \"sauce\", \"cook\", \"Pack\", \"gift\", \"crunch\", \"sub\", \"Variety\", \"spagetti\", \"CARBS\", \"wide\", \"Healthy\", \"pretend\", \"fight\", \"diabete\", \"Save\", \"Subscribe\", \"dupe\", \"doodle\", \"lucky\", \"loce\", \"repurchase\", \"sooooooooooooooooooooooooooo\", \"highlight\", \"carb'd\", \"specialized\", \"affordable\", \"age\", \"side\", \"cost\", \"Diabetes\", \"question\", \"Singapore\", \"Atkins\", \"fabulous\", \"alternative\", \"craving\", \"replacement\", \"Spinach\", \"ounce\", \"Keto\", \"snack\", \"Awesome\", \"excellent\", \"great\", \"Super\", \"carb\", \"Rice\", \"pasta\", \"substitute\", \"diet\", \"healthy\", \"Gluten\", \"option\", \"satisfy\", \"Shirataki\", \"addition\", \"free\", \"love\", \"miss\", \"Miracle\", \"spaghetti\", \"calorie\", \"rice\", \"make\", \"noodle\", \"product\", \"star\", \"perfect\", \"stuff\", \"awesome\", \"like\", \"rinse\", \"sauce\", \"find\", \"good\", \"taste\", \"texture\", \"follow\", \"delicious\", \"flavor\", \"eat\"], \"Freq\": [373.0, 763.0, 832.0, 656.0, 687.0, 625.0, 367.0, 127.0, 316.0, 580.0, 215.0, 594.0, 584.0, 517.0, 79.0, 312.0, 560.0, 407.0, 272.0, 71.0, 86.0, 199.0, 176.0, 81.0, 102.0, 101.0, 164.0, 49.0, 135.0, 173.0, 8.653218475424312, 6.81002497445171, 6.79287657474167, 6.699027124464004, 5.846054109311139, 5.840818812400091, 5.826042007703529, 4.9217086901272085, 5.741250043727918, 4.914611178442676, 4.912849296140705, 4.901507684159311, 4.896159191639375, 18.58084309818116, 8.051139852188564, 4.783508979776479, 4.791234580083054, 3.9790259498217075, 3.97778925104279, 3.9764963219776397, 3.976412160307395, 3.976276178569446, 3.9756330217007667, 3.9729200022695728, 3.97128234112281, 3.970549877328937, 4.748637014356694, 3.9635468178245477, 3.9628305248319444, 3.9606261506043228, 18.735468299921532, 16.160528400623246, 14.261388337476188, 7.652442131557601, 85.3618318327894, 10.373427152449871, 87.25743784082263, 68.3238698749837, 20.53131663492229, 64.62868301700212, 33.15291222001404, 10.469539779868867, 47.515350424551414, 104.27801765733632, 68.40064295912062, 97.50353389896603, 602.2829633608824, 32.90631926123464, 40.63689135416298, 318.7095577856142, 209.0953285968697, 16.02761029447811, 60.92649273199794, 211.44462260532416, 42.114323381508775, 30.358494855519872, 84.80329823722714, 81.88773216976647, 175.6563343213758, 110.575621546119, 66.6169094944165, 37.52852523338281, 174.14248858971644, 157.45639738724688, 87.70281698953696, 88.20126576787258, 108.38567167322996, 46.64799862692414, 163.24254529318176, 129.65453267376952, 73.35184829331828, 55.350647566647666, 90.1354935296291, 57.69020381259212, 61.416485651342384, 79.33750272488103, 86.53718447198113, 75.00576844572103, 63.399161133702755, 13.201575484601552, 7.712027173521182, 6.79135795800045, 6.788134999510931, 6.774554310047371, 5.8200606293145345, 5.788006370594689, 9.911410702734422, 6.535037314248613, 4.8968645728407, 4.89574691169927, 3.965695843837267, 3.963828118643931, 3.955830893533565, 3.9559069719528455, 5.534025484046724, 4.7243218302115295, 3.935776276400232, 3.9141395739568625, 7.664595737209767, 3.0216916480682254, 3.020810521648559, 3.018791677049652, 3.0164021230622517, 3.0161147541239695, 3.0149801482437, 2.991321143091456, 2.9804153016875983, 2.9758122115101324, 7.424427233493171, 40.28818730774079, 14.204799467749519, 20.174486290750956, 46.31846990007715, 12.426971301123402, 5.77593860424182, 5.793778993563095, 13.663527796204617, 33.666703468907755, 103.36255281198036, 287.9968646565457, 100.20624455072728, 78.38511142009355, 161.21598008009317, 140.98902457843045, 223.50482898904178, 266.8537479315156, 562.7383567033506, 158.82379792911732, 29.436956376486762, 90.7140923339397, 97.68332924405985, 136.9524198439028, 147.35688233279816, 88.77305244280916, 32.49821087744682, 51.5462496609632, 44.0702585497477, 22.295656363589902, 164.4841208512006, 169.8737041942124, 185.14157507944785, 57.754813037797454, 82.96676408225038, 57.25636383359956, 160.2209075537601, 56.24384030112754, 118.2714442177309, 56.89444081091046, 89.71742077755776, 103.27172347882339, 114.3507110654994, 64.27070003066919, 56.99233575435262, 63.12535187759736, 59.577380847936446, 6.62279392012448, 5.722127660207254, 5.703627640638749, 12.197803030331922, 4.792275559442755, 4.786706988621033, 3.877432718708822, 3.856174935088272, 3.837901261599317, 3.705810948119568, 2.9582913601550818, 2.955678320414506, 2.956175595892304, 2.954923604850271, 2.9541377952791485, 2.952552229560285, 2.9525894966420694, 2.9524571184803934, 2.951311212873624, 2.9502494439913742, 2.947866179816401, 2.9406089300617984, 2.8891177119207483, 2.865663456798955, 3.545313973023965, 2.8412285972981843, 9.179756533808202, 5.616801284523598, 5.456783294313507, 2.033437163732957, 9.869184743404938, 21.77891551786751, 23.37301379803306, 14.233060336629821, 23.206869373936495, 25.494753597311117, 209.71309779540476, 8.972399747170975, 22.126850138702782, 21.10513948262022, 4.680700660169115, 9.924684802110452, 56.73486024891529, 33.367062927802436, 6.9217833732650265, 14.718630749893801, 54.40945287546426, 24.874309271053736, 21.763765420276336, 45.56585273558823, 106.22949928464644, 298.2102263535876, 50.00676464540675, 88.47664309482161, 146.58235762880489, 41.7312922506701, 81.87857531188007, 18.305557649429513, 134.42445461101704, 106.97007805010288, 60.94114044087847, 31.9007610159449, 41.98644235495279, 41.630982984450725, 35.76827383192697, 34.88596492495841, 80.40332930039428, 73.27459290531675, 67.84726203723311, 56.54775114793958, 42.941200297969445, 63.444782319927654, 63.18135389357595, 36.37665551257119, 53.08981956503628, 39.03665269072503, 40.17858558084963, 41.4947875761646, 38.27772480308644, 6.979635814326763, 322.8690615057557, 24.70574043568587, 3.580055096588872, 3.5680226616805357, 3.5460315120360537, 4.154250526441392, 2.727366334475509, 2.7273293308670192, 2.726265714325554, 2.725949570675584, 2.7250690745556203, 2.7225425820251887, 2.7166895599725653, 2.7130186122482756, 2.712884260685143, 2.687556144603254, 2.6804030624390203, 4.572339307562936, 1.8750212315158648, 1.8749796736170992, 1.87497891456872, 1.874977775996151, 1.8749734114679701, 1.8749068049726885, 1.8749519683512554, 1.8749483628714538, 1.8748318489452345, 1.8747823210384866, 1.8747392450429625, 24.95132143022116, 12.522840885221449, 4.985701873950897, 25.23706215640736, 5.860768900382175, 32.71525536816402, 181.024415668542, 9.316984874367428, 3.575870462873905, 3.574887115698549, 3.571636111490095, 248.5195319241229, 8.843585376420364, 240.24238260549788, 189.33514528746633, 197.99937284520163, 35.21960493927508, 145.10614920284948, 42.93409294769493, 34.35739884905813, 11.488040097378809, 38.99706688643571, 40.81871620044883, 8.790741946351693, 10.341420097542628, 114.02512195908044, 21.93099809661764, 29.869233831991185, 112.63935465877174, 109.93500494830111, 12.482467860975957, 44.38636503080257, 56.325269997844394, 26.998685924587072, 63.74055935231342, 33.49255127048128, 39.05614513989178, 25.040480770948072, 50.804140330964294, 97.50358992226711, 27.30035907625435, 28.83986403530229, 34.139321213497645, 38.25368830189818, 43.91172904304566, 37.86671329336749, 4.609461092592947, 3.7180667561113214, 2.835831243974763, 2.8358699838377217, 2.834682561991686, 2.8348375214435206, 2.833898755462057, 2.8319020008201017, 2.8315806701738553, 2.8235272833136786, 2.7716921454389096, 4.09175687977298, 2.6823051670695315, 2.657243779134435, 1.9507120145199046, 1.9507061584941086, 1.9505767253085644, 1.9505714699007988, 1.9503529950922527, 1.9499372172607312, 1.949926255981677, 1.9498322592599244, 1.9497209947697989, 1.9492720327920996, 1.9482598412564236, 1.9472252766991163, 1.9460783965701303, 1.9455570601197718, 1.9445364599316706, 1.9442074714055368, 5.138331094906453, 4.526434358856141, 83.62197263209343, 19.832971943669016, 48.49556228254484, 3.707123795907049, 6.587124489835006, 17.37426515725355, 5.240439163159006, 7.152310861354656, 34.49978555846664, 270.40901956613357, 4.624267227968541, 222.35832785126524, 22.088066815317923, 262.4405961325325, 81.48012068636206, 106.52788179958522, 36.38202636675216, 8.15960856131932, 21.341275173664364, 12.102951824861554, 16.958647090128025, 13.627752830915028, 52.996209406576185, 116.42366446791297, 21.106238923549004, 41.65857828960502, 36.53261091685367, 68.10748036384544, 77.89861134656203, 25.067418140121017, 134.48081791086113, 51.108303569028244, 49.510534679701536, 23.720729209736835, 20.783512441000052, 23.143732285268047, 61.69820367774636, 41.05178590588578, 37.22631993698339, 25.29073753369998, 33.20142956222215, 31.483609140985678, 25.773226009854447, 23.93556066931065, 23.003379863931873, 23.68621049029558, 23.14859729131402], \"Total\": [373.0, 763.0, 832.0, 656.0, 687.0, 625.0, 367.0, 127.0, 316.0, 580.0, 215.0, 594.0, 584.0, 517.0, 79.0, 312.0, 560.0, 407.0, 272.0, 71.0, 86.0, 199.0, 176.0, 81.0, 102.0, 101.0, 164.0, 49.0, 135.0, 173.0, 9.436905285579561, 7.545552835826592, 7.5454312141330355, 7.538442171475697, 6.597350989969651, 6.596120600915081, 6.594195267247753, 5.650127866522706, 6.597132583664335, 5.649672549762196, 5.6487235915082445, 5.649164027328824, 5.646936661746618, 21.732257500735315, 9.42374426971688, 5.635850400097579, 5.649440825862016, 4.70244112550251, 4.702415768781071, 4.701919453511413, 4.70205429772839, 4.702230032189003, 4.702299450466058, 4.701849773820228, 4.702132127467607, 4.701366268374019, 5.631998253768378, 4.7016051722544265, 4.701778435073992, 4.701446635591535, 22.64374353824046, 19.845594019957225, 17.922980890522368, 9.429846139830802, 124.598083792962, 13.107880262158364, 131.88597979551062, 101.23668212670133, 28.73189051933979, 105.5320075406214, 50.66636118543824, 13.888472568747751, 76.42990005945418, 192.52243202023735, 124.90666311384096, 189.8843933948046, 1695.2159542509487, 53.278116589715, 68.57017406905264, 822.0666991199143, 517.820901678306, 23.243404647385198, 122.25187971700682, 594.2156149486311, 80.6815176116287, 53.53069802867942, 206.68970287015532, 206.11715228102244, 580.1501415290454, 312.1969721130111, 158.3396759946107, 74.19054549833974, 625.9588800037618, 560.8231435278333, 263.8070186484984, 272.28354070832114, 388.8676714947864, 104.90402900528778, 832.9678582492631, 584.9898003004039, 228.35880298509005, 143.21180476643093, 375.7597181354516, 162.09175078681724, 197.90991465509, 407.132462503244, 656.2391207964668, 763.1892355764278, 350.7681228646209, 14.13182201351178, 8.467774355593882, 7.524889430744595, 7.525392073892659, 7.524104830548812, 6.579503207097614, 6.579115014444289, 11.26664319281931, 7.510697348432856, 5.633775154156716, 5.633709070944258, 4.690734835109207, 4.690502368474001, 4.689387690880378, 4.6900626931876905, 6.57178937342613, 5.62739911489284, 4.6894720482673335, 4.685049912177509, 9.416096296157155, 3.7454766490655036, 3.745292989093358, 3.745360319194521, 3.744677008126575, 3.745015134050582, 3.7449564156797037, 3.7433212059779595, 3.743547933271803, 3.742829857672962, 9.338197219742675, 50.86189264292482, 17.877992994471867, 26.18600258573527, 65.11678700550254, 16.67852255743766, 7.435069550254575, 7.465409882910948, 18.749155864887907, 50.72987339999039, 173.23392610503248, 560.8231435278333, 176.40297529973373, 135.47588447671066, 312.1969721130111, 272.28354070832114, 517.820901678306, 687.2826000583215, 1695.2159542509487, 375.7597181354516, 50.75285148701685, 206.11715228102244, 228.35880298509005, 350.7681228646209, 388.8676714947864, 205.4686556915499, 59.38855912988566, 111.57420051702351, 93.75519794541407, 37.431381612450345, 584.9898003004039, 656.2391207964668, 822.0666991199143, 151.83228355771266, 263.8070186484984, 156.83320722352948, 832.9678582492631, 155.45318632221716, 594.2156149486311, 170.16149972616492, 407.132462503244, 580.1501415290454, 763.1892355764278, 316.0393860241771, 197.90991465509, 625.9588800037618, 367.8548427600812, 7.384270393439017, 6.459483313695529, 6.457009808602457, 13.876456776615983, 5.533936418443052, 5.534781993085181, 4.609086959241867, 4.60925602192012, 4.605932633102876, 4.607989067543083, 3.6849459390004142, 3.6842381418528523, 3.684988283839899, 3.684915016703748, 3.68464785088853, 3.684627309819006, 3.6848733792284145, 3.684893880593847, 3.684307136215763, 3.6847640869812897, 3.6838728756102905, 3.6845166406728604, 3.6787525451074674, 3.6860937969933327, 4.595411814103609, 3.6865236134764476, 12.004503415732394, 7.403894427211711, 7.400472328848687, 2.7600644618555448, 13.638270169575748, 30.662243605541082, 38.166007304252524, 22.328460124575482, 40.64676361217328, 45.69832043437561, 584.9898003004039, 13.946748412382481, 41.813007651550514, 40.17039374551685, 6.477149696178131, 16.728311718562985, 151.83228355771266, 78.87159618224179, 10.879796003614176, 28.638920272861547, 153.76504618754845, 57.639633099583286, 48.47579703564728, 128.1819973447146, 407.132462503244, 1695.2159542509487, 155.45318632221716, 350.7681228646209, 822.0666991199143, 137.33419485960252, 375.7597181354516, 40.89800016989313, 832.9678582492631, 625.9588800037618, 263.8070186484984, 97.58749163395943, 156.83320722352948, 158.3396759946107, 130.1230043263303, 126.85888072549534, 580.1501415290454, 517.820901678306, 560.8231435278333, 388.8676714947864, 228.35880298509005, 656.2391207964668, 763.1892355764278, 167.7550332420751, 687.2826000583215, 272.28354070832114, 316.0393860241771, 594.2156149486311, 312.1969721130111, 7.732686883590265, 373.83342920526985, 29.365610942161155, 4.321578231978985, 4.322751752724757, 4.322266487811619, 5.1969567654504365, 3.4688432983568296, 3.4688445159719783, 3.468915223554929, 3.4686574511805164, 3.4689867747920684, 3.46875500897434, 3.467704957484618, 3.468941176922848, 3.4700938609444325, 3.4665766337265094, 3.4690689155204373, 6.069983949402295, 2.6160634073906546, 2.61602980697975, 2.61602920118351, 2.616029006106104, 2.616025012791485, 2.615970330806601, 2.616054807423597, 2.6160501189140524, 2.6160577149067095, 2.6160563936111543, 2.6160854896572117, 35.083353646712176, 17.53545155600351, 7.006774734282112, 38.82207264955501, 8.805060712146501, 56.80028518188341, 367.8548427600812, 14.874742647714621, 5.267434573925526, 5.267459746605598, 5.267664606699256, 625.9588800037618, 14.812094131242512, 763.1892355764278, 580.1501415290454, 687.2826000583215, 81.63207402092934, 594.2156149486311, 126.4382557751774, 102.93836044567655, 24.22199480597162, 126.37608064929539, 136.3392921488549, 16.912484961438654, 21.260755786820713, 656.2391207964668, 62.54226699729898, 97.92807192627313, 832.9678582492631, 822.0666991199143, 28.785181603965285, 215.32313388200146, 316.0393860241771, 98.81292786282934, 407.132462503244, 150.4251660575003, 197.90991465509, 93.78031996599421, 388.8676714947864, 1695.2159542509487, 113.24051437777149, 130.1230043263303, 206.68970287015532, 350.7681228646209, 584.9898003004039, 375.7597181354516, 5.3460217101715255, 4.458922332329067, 3.571916550634347, 3.572046080545589, 3.5718694919781977, 3.5721167074359084, 3.5719430490366033, 3.57176084936078, 3.5719571519601403, 3.571977611547518, 3.5743779679612526, 5.378047978359783, 3.5814539197717203, 3.583028485470767, 2.6848952098116174, 2.6848897591117744, 2.6847822495468616, 2.6847820106979343, 2.6849377950226287, 2.684863753691789, 2.68486657707054, 2.6848453206501395, 2.684875481035853, 2.684750933903673, 2.6848965853236026, 2.6846539257965576, 2.684586282820785, 2.6847395620017216, 2.684423137904229, 2.684614471181931, 7.106273963077299, 6.291584143203674, 127.46156674019176, 30.786894075652423, 79.72137735071897, 5.311413319941319, 9.935321842326182, 30.82105099173132, 8.138135282225715, 11.619355510515469, 71.05288861484561, 763.1892355764278, 7.233710504081765, 656.2391207964668, 44.87182496348491, 832.9678582492631, 215.32313388200146, 316.0393860241771, 86.61147288688352, 14.227119894105979, 49.38510659010237, 24.480807522431494, 39.05044784772202, 30.201989777028288, 199.2806589223873, 687.2826000583215, 60.577970116418726, 164.15229205446792, 149.7535607590757, 407.132462503244, 594.2156149486311, 102.71958337802701, 1695.2159542509487, 367.8548427600812, 373.83342920526985, 102.13973521497003, 81.63207402092934, 102.93836044567655, 822.0666991199143, 560.8231435278333, 584.9898003004039, 170.16149972616492, 625.9588800037618, 580.1501415290454, 388.8676714947864, 192.52243202023735, 132.2759454587338, 350.7681228646209, 167.7550332420751], \"Category\": [\"Default\", \"Default\", \"Default\", \"Default\", \"Default\", \"Default\", \"Default\", \"Default\", \"Default\", \"Default\", \"Default\", \"Default\", \"Default\", \"Default\", \"Default\", \"Default\", \"Default\", \"Default\", \"Default\", \"Default\", \"Default\", \"Default\", \"Default\", \"Default\", \"Default\", \"Default\", \"Default\", \"Default\", \"Default\", \"Default\", \"Topic1\", \"Topic1\", \"Topic1\", \"Topic1\", \"Topic1\", \"Topic1\", \"Topic1\", \"Topic1\", \"Topic1\", \"Topic1\", \"Topic1\", \"Topic1\", \"Topic1\", \"Topic1\", \"Topic1\", \"Topic1\", \"Topic1\", \"Topic1\", \"Topic1\", \"Topic1\", \"Topic1\", \"Topic1\", \"Topic1\", \"Topic1\", \"Topic1\", \"Topic1\", \"Topic1\", \"Topic1\", \"Topic1\", \"Topic1\", \"Topic1\", \"Topic1\", \"Topic1\", \"Topic1\", \"Topic1\", \"Topic1\", \"Topic1\", \"Topic1\", \"Topic1\", \"Topic1\", \"Topic1\", \"Topic1\", \"Topic1\", \"Topic1\", \"Topic1\", \"Topic1\", \"Topic1\", \"Topic1\", \"Topic1\", \"Topic1\", \"Topic1\", \"Topic1\", \"Topic1\", \"Topic1\", \"Topic1\", \"Topic1\", \"Topic1\", \"Topic1\", \"Topic1\", \"Topic1\", \"Topic1\", \"Topic1\", \"Topic1\", \"Topic1\", \"Topic1\", \"Topic1\", \"Topic1\", \"Topic1\", \"Topic1\", \"Topic1\", \"Topic1\", \"Topic1\", \"Topic1\", \"Topic1\", \"Topic1\", \"Topic1\", \"Topic1\", \"Topic1\", \"Topic1\", \"Topic2\", \"Topic2\", \"Topic2\", \"Topic2\", \"Topic2\", \"Topic2\", \"Topic2\", \"Topic2\", \"Topic2\", \"Topic2\", \"Topic2\", \"Topic2\", \"Topic2\", \"Topic2\", \"Topic2\", \"Topic2\", \"Topic2\", \"Topic2\", \"Topic2\", \"Topic2\", \"Topic2\", \"Topic2\", \"Topic2\", \"Topic2\", \"Topic2\", \"Topic2\", \"Topic2\", \"Topic2\", \"Topic2\", \"Topic2\", \"Topic2\", \"Topic2\", \"Topic2\", \"Topic2\", \"Topic2\", \"Topic2\", \"Topic2\", \"Topic2\", \"Topic2\", \"Topic2\", \"Topic2\", \"Topic2\", \"Topic2\", \"Topic2\", \"Topic2\", \"Topic2\", \"Topic2\", \"Topic2\", \"Topic2\", \"Topic2\", \"Topic2\", \"Topic2\", \"Topic2\", \"Topic2\", \"Topic2\", \"Topic2\", \"Topic2\", \"Topic2\", \"Topic2\", \"Topic2\", \"Topic2\", \"Topic2\", \"Topic2\", \"Topic2\", \"Topic2\", \"Topic2\", \"Topic2\", \"Topic2\", \"Topic2\", \"Topic2\", \"Topic2\", \"Topic2\", \"Topic2\", \"Topic2\", \"Topic2\", \"Topic2\", \"Topic3\", \"Topic3\", \"Topic3\", \"Topic3\", \"Topic3\", \"Topic3\", \"Topic3\", \"Topic3\", \"Topic3\", \"Topic3\", \"Topic3\", \"Topic3\", \"Topic3\", \"Topic3\", \"Topic3\", \"Topic3\", \"Topic3\", \"Topic3\", \"Topic3\", \"Topic3\", \"Topic3\", \"Topic3\", \"Topic3\", \"Topic3\", \"Topic3\", \"Topic3\", \"Topic3\", \"Topic3\", \"Topic3\", \"Topic3\", \"Topic3\", \"Topic3\", \"Topic3\", \"Topic3\", \"Topic3\", \"Topic3\", \"Topic3\", \"Topic3\", \"Topic3\", \"Topic3\", \"Topic3\", \"Topic3\", \"Topic3\", \"Topic3\", \"Topic3\", \"Topic3\", \"Topic3\", \"Topic3\", \"Topic3\", \"Topic3\", \"Topic3\", \"Topic3\", \"Topic3\", \"Topic3\", \"Topic3\", \"Topic3\", \"Topic3\", \"Topic3\", \"Topic3\", \"Topic3\", \"Topic3\", \"Topic3\", \"Topic3\", \"Topic3\", \"Topic3\", \"Topic3\", \"Topic3\", \"Topic3\", \"Topic3\", \"Topic3\", \"Topic3\", \"Topic3\", \"Topic3\", \"Topic3\", \"Topic3\", \"Topic3\", \"Topic3\", \"Topic3\", \"Topic3\", \"Topic4\", \"Topic4\", \"Topic4\", \"Topic4\", \"Topic4\", \"Topic4\", \"Topic4\", \"Topic4\", \"Topic4\", \"Topic4\", \"Topic4\", \"Topic4\", \"Topic4\", \"Topic4\", \"Topic4\", \"Topic4\", \"Topic4\", \"Topic4\", \"Topic4\", \"Topic4\", \"Topic4\", \"Topic4\", \"Topic4\", \"Topic4\", \"Topic4\", \"Topic4\", \"Topic4\", \"Topic4\", \"Topic4\", \"Topic4\", \"Topic4\", \"Topic4\", \"Topic4\", \"Topic4\", \"Topic4\", \"Topic4\", \"Topic4\", \"Topic4\", \"Topic4\", \"Topic4\", \"Topic4\", \"Topic4\", \"Topic4\", \"Topic4\", \"Topic4\", \"Topic4\", \"Topic4\", \"Topic4\", \"Topic4\", \"Topic4\", \"Topic4\", \"Topic4\", \"Topic4\", \"Topic4\", \"Topic4\", \"Topic4\", \"Topic4\", \"Topic4\", \"Topic4\", \"Topic4\", \"Topic4\", \"Topic4\", \"Topic4\", \"Topic4\", \"Topic4\", \"Topic4\", \"Topic4\", \"Topic4\", \"Topic4\", \"Topic4\", \"Topic4\", \"Topic4\", \"Topic4\", \"Topic4\", \"Topic4\", \"Topic4\", \"Topic5\", \"Topic5\", \"Topic5\", \"Topic5\", \"Topic5\", \"Topic5\", \"Topic5\", \"Topic5\", \"Topic5\", \"Topic5\", \"Topic5\", \"Topic5\", \"Topic5\", \"Topic5\", \"Topic5\", \"Topic5\", \"Topic5\", \"Topic5\", \"Topic5\", \"Topic5\", \"Topic5\", \"Topic5\", \"Topic5\", \"Topic5\", \"Topic5\", \"Topic5\", \"Topic5\", \"Topic5\", \"Topic5\", \"Topic5\", \"Topic5\", \"Topic5\", \"Topic5\", \"Topic5\", \"Topic5\", \"Topic5\", \"Topic5\", \"Topic5\", \"Topic5\", \"Topic5\", \"Topic5\", \"Topic5\", \"Topic5\", \"Topic5\", \"Topic5\", \"Topic5\", \"Topic5\", \"Topic5\", \"Topic5\", \"Topic5\", \"Topic5\", \"Topic5\", \"Topic5\", \"Topic5\", \"Topic5\", \"Topic5\", \"Topic5\", \"Topic5\", \"Topic5\", \"Topic5\", \"Topic5\", \"Topic5\", \"Topic5\", \"Topic5\", \"Topic5\", \"Topic5\", \"Topic5\", \"Topic5\", \"Topic5\", \"Topic5\", \"Topic5\", \"Topic5\", \"Topic5\", \"Topic5\", \"Topic5\", \"Topic5\", \"Topic5\", \"Topic5\", \"Topic5\"], \"logprob\": [30.0, 29.0, 28.0, 27.0, 26.0, 25.0, 24.0, 23.0, 22.0, 21.0, 20.0, 19.0, 18.0, 17.0, 16.0, 15.0, 14.0, 13.0, 12.0, 11.0, 10.0, 9.0, 8.0, 7.0, 6.0, 5.0, 4.0, 3.0, 2.0, 1.0, -7.2857, -7.5253, -7.5278, -7.5417, -7.6779, -7.6788, -7.6813, -7.85, -7.696, -7.8514, -7.8518, -7.8541, -7.8552, -6.5215, -7.3578, -7.8785, -7.8769, -8.0626, -8.0629, -8.0633, -8.0633, -8.0633, -8.0635, -8.0642, -8.0646, -8.0648, -7.8858, -8.0665, -8.0667, -8.0673, -6.5132, -6.6611, -6.7861, -7.4086, -4.9968, -7.1044, -4.9748, -5.2194, -6.4217, -5.275, -5.9425, -7.0952, -5.5826, -4.7966, -5.2183, -4.8638, -3.0429, -5.95, -5.739, -3.6794, -4.1009, -6.6693, -5.334, -4.0897, -5.7033, -6.0306, -5.0033, -5.0383, -4.2751, -4.738, -5.2447, -5.8186, -4.2838, -4.3845, -4.9697, -4.964, -4.758, -5.601, -4.3484, -4.5788, -5.1484, -5.43, -4.9423, -5.3886, -5.326, -5.0699, -4.9831, -5.1261, -5.2942, -6.8024, -7.34, -7.4671, -7.4676, -7.4696, -7.6215, -7.627, -7.0891, -7.5056, -7.7942, -7.7944, -8.0051, -8.0056, -8.0076, -8.0076, -7.6719, -7.8301, -8.0127, -8.0182, -7.3462, -8.277, -8.2773, -8.2779, -8.2787, -8.2788, -8.2792, -8.2871, -8.2907, -8.2923, -7.378, -5.6867, -6.7292, -6.3784, -5.5472, -6.8629, -7.6291, -7.626, -6.768, -5.8663, -4.7445, -3.7198, -4.7755, -5.0211, -4.3, -4.4341, -3.9733, -3.7961, -3.05, -4.315, -6.0005, -4.8751, -4.801, -4.4631, -4.3899, -4.8967, -5.9016, -5.4403, -5.597, -6.2784, -4.28, -4.2477, -4.1617, -5.3266, -4.9643, -5.3352, -4.3062, -5.3531, -4.6098, -5.3416, -4.8861, -4.7454, -4.6435, -5.2197, -5.3399, -5.2377, -5.2955, -7.0785, -7.2247, -7.2279, -6.4677, -7.402, -7.4032, -7.6138, -7.6193, -7.6241, -7.6591, -7.8844, -7.8853, -7.8851, -7.8855, -7.8858, -7.8863, -7.8863, -7.8864, -7.8868, -7.8871, -7.8879, -7.8904, -7.908, -7.9162, -7.7034, -7.9248, -6.752, -7.2432, -7.2721, -8.2593, -6.6796, -5.8881, -5.8174, -6.3134, -5.8246, -5.7305, -3.6233, -6.7748, -5.8722, -5.9195, -7.4256, -6.674, -4.9306, -5.4614, -7.0343, -6.2799, -4.9725, -5.7552, -5.8888, -5.1498, -4.3034, -3.2712, -5.0568, -4.4863, -3.9814, -5.2377, -4.5638, -6.0618, -4.068, -4.2965, -4.8591, -5.5064, -5.2317, -5.2402, -5.3919, -5.4169, -4.5819, -4.6748, -4.7517, -4.9339, -5.2092, -4.8188, -4.823, -5.3751, -4.997, -5.3045, -5.2757, -5.2434, -5.3241, -6.8397, -3.0054, -5.5756, -7.5073, -7.5106, -7.5168, -7.3585, -7.7793, -7.7793, -7.7797, -7.7798, -7.7802, -7.7811, -7.7832, -7.7846, -7.7846, -7.794, -7.7967, -7.2626, -8.154, -8.1541, -8.1541, -8.1541, -8.1541, -8.1541, -8.1541, -8.1541, -8.1541, -8.1542, -8.1542, -5.5657, -6.2551, -7.1761, -5.5543, -7.0144, -5.2948, -3.584, -6.5508, -7.5084, -7.5087, -7.5096, -3.2671, -6.603, -3.301, -3.5391, -3.4944, -5.2211, -3.8052, -5.023, -5.2458, -6.3414, -5.1192, -5.0735, -6.609, -6.4465, -4.0462, -5.6948, -5.3858, -4.0585, -4.0828, -6.2583, -4.9897, -4.7515, -5.4869, -4.6278, -5.2713, -5.1177, -5.5622, -4.8547, -4.2028, -5.4758, -5.4209, -5.2522, -5.1384, -5.0005, -5.1486, -7.0204, -7.2353, -7.5062, -7.5062, -7.5066, -7.5066, -7.5069, -7.5076, -7.5077, -7.5106, -7.5291, -7.1396, -7.5619, -7.5713, -7.8804, -7.8804, -7.8804, -7.8804, -7.8805, -7.8808, -7.8808, -7.8808, -7.8809, -7.8811, -7.8816, -7.8821, -7.8827, -7.883, -7.8835, -7.8837, -6.9118, -7.0386, -4.1222, -5.5612, -4.6671, -7.2383, -6.6634, -5.6936, -6.8921, -6.5811, -5.0076, -2.9486, -7.0172, -3.1443, -5.4535, -2.9785, -4.1482, -3.8801, -4.9545, -6.4494, -5.4879, -6.0551, -5.7178, -5.9364, -4.5783, -3.7913, -5.499, -4.819, -4.9503, -4.3275, -4.1931, -5.327, -3.6471, -4.6146, -4.6464, -5.3822, -5.5144, -5.4068, -4.4263, -4.8337, -4.9315, -5.3181, -5.046, -5.0991, -5.2992, -5.3732, -5.4129, -5.3837, -5.4066], \"loglift\": [30.0, 29.0, 28.0, 27.0, 26.0, 25.0, 24.0, 23.0, 22.0, 21.0, 20.0, 19.0, 18.0, 17.0, 16.0, 15.0, 14.0, 13.0, 12.0, 11.0, 10.0, 9.0, 8.0, 7.0, 6.0, 5.0, 4.0, 3.0, 2.0, 1.0, 1.1626, 1.1467, 1.1442, 1.1313, 1.1284, 1.1277, 1.1255, 1.1113, 1.1104, 1.1099, 1.1097, 1.1073, 1.1066, 1.0926, 1.0919, 1.0853, 1.0845, 1.0823, 1.082, 1.0817, 1.0817, 1.0816, 1.0814, 1.0809, 1.0804, 1.0804, 1.0787, 1.0785, 1.0783, 1.0778, 1.0598, 1.0439, 1.0208, 1.0405, 0.8711, 1.0153, 0.8362, 0.8561, 0.9133, 0.759, 0.8252, 0.9667, 0.774, 0.6362, 0.6471, 0.5828, 0.2145, 0.7674, 0.7261, 0.3018, 0.3425, 0.8776, 0.5529, 0.216, 0.5992, 0.6821, 0.3584, 0.3262, 0.0546, 0.2114, 0.3835, 0.5678, -0.0301, -0.0209, 0.148, 0.1221, -0.0282, 0.4389, -0.3804, -0.2574, 0.1137, 0.2987, -0.1783, 0.2162, 0.0792, -0.3861, -0.7766, -1.0706, -0.4614, 1.2421, 1.2167, 1.2076, 1.2071, 1.2053, 1.1875, 1.1821, 1.182, 1.171, 1.17, 1.1698, 1.1423, 1.1419, 1.1401, 1.14, 1.1383, 1.1353, 1.135, 1.1304, 1.1044, 1.0955, 1.0952, 1.0945, 1.0939, 1.0937, 1.0934, 1.0859, 1.0822, 1.0809, 1.0809, 1.0771, 1.0802, 1.0494, 0.9695, 1.0159, 1.0577, 1.0567, 0.9938, 0.9002, 0.7938, 0.6437, 0.7446, 0.763, 0.6493, 0.652, 0.47, 0.3641, 0.2074, 0.449, 0.7655, 0.4895, 0.461, 0.3697, 0.3398, 0.471, 0.7073, 0.538, 0.5553, 0.7921, 0.0414, -0.0413, -0.1805, 0.3436, 0.1534, 0.3025, -0.3383, 0.2935, -0.3041, 0.2146, -0.2023, -0.4157, -0.588, -0.2826, 0.0653, -0.984, -0.5102, 1.6151, 1.6028, 1.5999, 1.595, 1.5801, 1.5788, 1.5511, 1.5456, 1.5415, 1.5061, 1.5043, 1.5036, 1.5036, 1.5032, 1.503, 1.5025, 1.5024, 1.5024, 1.5021, 1.5016, 1.5011, 1.4984, 1.4823, 1.4722, 1.4645, 1.4635, 1.4557, 1.4477, 1.4193, 1.4184, 1.4005, 1.3819, 1.2336, 1.2737, 1.1635, 1.1404, 0.6981, 1.2829, 1.0876, 1.0804, 1.3991, 1.2019, 0.7396, 0.8637, 1.2717, 1.0583, 0.6851, 0.8836, 0.9231, 0.6897, 0.3804, -0.0138, 0.5898, 0.3466, -0.0003, 0.5328, 0.2003, 0.9201, -0.1, -0.0428, 0.2587, 0.6058, 0.4061, 0.3881, 0.4325, 0.433, -0.2523, -0.2314, -0.3882, -0.2042, 0.0529, -0.6124, -0.7675, 0.1954, -0.8368, -0.2184, -0.3386, -0.9377, -0.3748, 1.8079, 1.7637, 1.7375, 1.7221, 1.7184, 1.7124, 1.6864, 1.6698, 1.6698, 1.6694, 1.6694, 1.6689, 1.6681, 1.6662, 1.6645, 1.6641, 1.6558, 1.6524, 1.627, 1.5773, 1.5773, 1.5773, 1.5772, 1.5772, 1.5772, 1.5772, 1.5772, 1.5772, 1.5771, 1.5771, 1.5695, 1.5736, 1.57, 1.4796, 1.5033, 1.3586, 1.2013, 1.4425, 1.523, 1.5227, 1.5217, 0.9865, 1.3946, 0.7545, 0.7905, 0.6658, 1.0697, 0.5005, 0.8302, 0.813, 1.1644, 0.7345, 0.7043, 1.256, 1.1896, 0.1602, 0.8624, 0.7229, -0.0905, -0.1016, 1.0748, 0.3311, 0.1856, 0.6129, 0.056, 0.4082, 0.2875, 0.5898, -0.125, -0.9454, 0.4877, 0.4036, 0.1095, -0.3056, -0.6791, -0.3846, 1.9962, 1.9627, 1.9136, 1.9136, 1.9133, 1.9132, 1.913, 1.9123, 1.9121, 1.9093, 1.8901, 1.8711, 1.8553, 1.8455, 1.825, 1.825, 1.8249, 1.8249, 1.8248, 1.8246, 1.8246, 1.8245, 1.8245, 1.8243, 1.8237, 1.8233, 1.8227, 1.8224, 1.822, 1.8217, 1.8202, 1.8151, 1.7229, 1.7047, 1.6474, 1.7848, 1.7334, 1.5712, 1.7043, 1.6592, 1.4219, 1.1068, 1.697, 1.0622, 1.4356, 0.9894, 1.1726, 1.057, 1.2771, 1.5885, 1.3054, 1.44, 1.3103, 1.3486, 0.8199, 0.3689, 1.0901, 0.7731, 0.7336, 0.3564, 0.1126, 0.734, -0.3897, 0.1707, 0.1228, 0.6844, 0.7764, 0.652, -0.4451, -0.4702, -0.6102, 0.2381, -0.7923, -0.7694, -0.5695, 0.0596, 0.3952, -0.5508, 0.1638]}, \"token.table\": {\"Topic\": [4, 5, 1, 3, 4, 5, 4, 5, 1, 2, 3, 4, 5, 4, 5, 4, 3, 4, 3, 3, 2, 3, 4, 5, 5, 1, 2, 3, 4, 5, 2, 3, 4, 3, 1, 2, 3, 4, 5, 4, 1, 4, 5, 1, 2, 3, 4, 5, 5, 1, 2, 3, 4, 5, 5, 4, 5, 1, 4, 5, 1, 2, 5, 1, 4, 4, 5, 4, 3, 4, 4, 1, 3, 4, 1, 2, 3, 4, 5, 1, 2, 3, 4, 5, 1, 2, 3, 4, 5, 3, 5, 5, 1, 2, 3, 4, 5, 1, 2, 3, 4, 5, 1, 1, 2, 3, 4, 5, 2, 3, 1, 2, 3, 4, 5, 1, 2, 3, 4, 1, 2, 3, 4, 5, 2, 3, 3, 4, 1, 2, 3, 4, 5, 1, 2, 4, 3, 1, 2, 1, 2, 2, 5, 1, 2, 3, 4, 1, 2, 3, 4, 5, 1, 2, 3, 4, 5, 5, 2, 5, 2, 2, 3, 4, 1, 2, 3, 4, 5, 2, 1, 2, 3, 4, 2, 1, 2, 3, 4, 1, 3, 5, 1, 2, 3, 3, 3, 1, 2, 3, 4, 5, 1, 2, 3, 4, 5, 3, 1, 2, 3, 5, 3, 1, 3, 4, 5, 1, 4, 3, 4, 5, 1, 2, 3, 4, 5, 1, 3, 4, 5, 4, 1, 2, 3, 4, 5, 1, 2, 3, 4, 5, 1, 2, 3, 4, 5, 2, 5, 1, 2, 3, 5, 1, 2, 3, 5, 5, 1, 1, 2, 3, 4, 5, 1, 2, 3, 4, 5, 4, 2, 1, 2, 4, 5, 1, 2, 3, 4, 1, 1, 4, 2, 1, 5, 1, 2, 3, 4, 5, 1, 2, 3, 4, 5, 3, 1, 2, 4, 5, 1, 2, 3, 4, 5, 1, 2, 3, 4, 5, 1, 2, 3, 4, 5, 1, 2, 3, 5, 1, 2, 3, 4, 5, 1, 2, 3, 4, 5, 3, 3, 1, 2, 3, 4, 5, 1, 2, 3, 4, 5, 3, 1, 4, 1, 2, 3, 4, 5, 2, 1, 2, 3, 4, 3, 2, 5, 2, 1, 2, 3, 4, 1, 2, 3, 4, 5, 1, 3, 1, 2, 3, 4, 5, 2, 4, 1, 2, 3, 4, 5, 1, 1, 2, 3, 4, 5, 5, 1, 4, 2, 1, 2, 2, 1, 2, 3, 4, 5, 4, 1, 3, 4, 5, 1, 2, 1, 1, 2, 1, 2, 4, 5, 1, 2, 3, 4, 5, 1, 1, 2, 3, 1, 1, 2, 3, 4, 5, 5, 1, 2, 3, 4, 5, 5, 1, 2, 3, 4, 5, 1, 2, 3, 4, 5, 1, 2, 3, 4, 5, 1, 2, 3, 5, 1, 2, 3, 4, 5, 2, 3, 1, 2, 3, 4, 5, 1, 2, 1, 2, 3, 4, 5, 1, 2, 3, 4, 5, 2, 2, 2, 5, 1, 1, 2, 3, 4, 5, 1, 2, 3, 4, 5, 2, 3, 4, 5, 1, 2, 3, 4, 5, 2, 5, 3, 1, 2, 3, 4, 1, 2, 3, 5, 4, 1, 2, 3, 1, 2, 3, 4, 5, 1, 3, 4, 3, 1, 2, 3, 4, 5, 1, 2, 3, 1, 1, 2, 3, 4, 5, 1, 5, 1, 2, 3, 4, 2, 1, 2, 3, 4, 5, 2, 1, 2, 3, 4, 5, 5, 1, 2, 3, 4, 5, 1, 2, 3, 4, 5, 1, 2, 3, 4, 5, 1, 2, 4, 1, 2, 3, 4, 5, 1, 2, 3, 4, 5, 1, 2, 3, 4, 5, 3, 5, 1, 4, 1, 2, 3, 4, 1, 2, 3, 4, 5, 1, 2, 3, 4, 5, 4, 1, 2, 3, 4, 5, 1, 2, 3, 4, 5, 3, 1, 2, 3, 4, 5, 4, 1, 1, 1, 4, 1, 2, 3, 3, 3, 1, 3, 1, 2, 3, 4, 5, 5, 2, 1, 1, 2, 3, 4, 5, 2, 5, 5, 2, 1, 3, 1, 2, 3, 4, 5, 1, 2, 5, 1, 2, 3, 4, 5, 5, 1, 1, 2, 4, 5, 1, 2, 4, 1, 2, 3, 4, 1, 2, 3, 4, 5, 1, 2, 3, 4, 5, 5, 4, 1, 2, 3, 4, 5, 1, 2, 3, 1, 2, 3, 4, 5, 1, 2, 3, 4, 5, 2, 1, 1, 2, 3, 4, 5, 1, 2, 3, 4, 5, 1, 2, 4, 1, 2, 3, 4, 5, 1, 2, 3, 1, 2, 3, 4, 5, 4, 1, 2, 3, 4, 5, 1, 2, 3, 4, 5, 1, 1, 2, 3, 4, 5, 2, 1, 2, 1, 2, 3, 4, 2, 3, 4, 5, 1, 2, 3, 5, 1, 2, 3, 4, 5, 4, 4, 3, 2, 3, 4, 5, 1, 2, 3, 5, 1, 2, 3, 4, 5, 1, 2, 3, 4, 5, 1, 2, 3, 4, 5, 1, 2, 3, 4, 5, 1, 4, 1, 4, 1, 2, 4], \"Freq\": [0.14072072160400642, 0.7036036080200322, 0.08606329319169244, 0.17212658638338488, 0.17212658638338488, 0.6024430523418471, 0.8648412998007762, 0.839879012295321, 0.04703501653595438, 0.1881400661438175, 0.04703501653595438, 0.47035016535954377, 0.1881400661438175, 0.9253365052662769, 0.7449512154947406, 0.9254403936637458, 0.9288668626604666, 0.764511346911893, 0.8684451811674289, 0.9035159824634789, 0.0702882949917559, 0.0702882949917559, 0.2108648849752677, 0.5623063599340472, 0.8398756962562459, 0.12978142767010512, 0.12978142767010512, 0.12978142767010512, 0.03244535691752628, 0.5515710675979468, 0.7194881895967873, 0.05995734913306561, 0.17987204739919682, 0.8138696856946601, 0.1766652151916186, 0.33505471846686286, 0.12183807944249558, 0.10965427149824603, 0.2558599668292407, 0.76451745993324, 0.909486041686817, 0.8648879407157907, 0.9352749148935978, 0.08914279736237733, 0.066857098021783, 0.200571294065349, 0.15599989538416031, 0.4902853854930753, 0.8376486385705664, 0.2816869102985634, 0.05121580187246607, 0.1536474056173982, 0.0768237028086991, 0.4353343159159616, 0.7449859268319737, 0.18827380581465428, 0.7530952232586171, 0.8508019573632194, 0.8648236715700458, 0.8372805329807017, 0.1382416395341962, 0.1382416395341962, 0.691208197670981, 0.18984573723043996, 0.7593829489217598, 0.9052480858697228, 0.8398963082882738, 0.7645172828932838, 0.9292226863286472, 0.8648416033728252, 0.764517516943343, 0.07332308185467684, 0.7332308185467684, 0.21996924556403052, 0.5121946434650541, 0.13478806406975108, 0.18870328969765152, 0.12130925766277598, 0.04043641922092532, 0.16465536455227786, 0.3820004457612846, 0.3754142311791935, 0.03951728749254668, 0.0461035020746378, 0.09933120374346355, 0.3973248149738542, 0.033110401247821185, 0.033110401247821185, 0.4635456174694965, 0.8141138502817397, 0.744948060076458, 0.7449076478150259, 0.10475255252003415, 0.24442262254674635, 0.5237627626001707, 0.03491751750667805, 0.10475255252003415, 0.05491851527502626, 0.14906454146078557, 0.05491851527502626, 0.07845502182146609, 0.6590221833003151, 0.8506602128390351, 0.6821934769176705, 0.11236127855114574, 0.008025805610796124, 0.128412889772738, 0.064206444886369, 0.8875147681635532, 0.8141936070455289, 0.3567938782478243, 0.26941578561570406, 0.3058233242124208, 0.03640753859671677, 0.03640753859671677, 0.6716932891468684, 0.30621311711107235, 0.009877842487453948, 0.009877842487453948, 0.11657461754826312, 0.07771641169884208, 0.2428637865588815, 0.33029474972007883, 0.223434683634171, 0.286805202311432, 0.6453117052007219, 0.8141347070533625, 0.8647853568368599, 0.39783200520934947, 0.4414964935859854, 0.13099346512990775, 0.01455482945887864, 0.01455482945887864, 0.7308951698066871, 0.06960906379111306, 0.2088271913733392, 0.7246207571019677, 0.8506920053927154, 0.8010774137288603, 0.10620112290144212, 0.849608983211537, 0.8875758137413464, 0.08875758137413464, 0.5604260939008736, 0.31757478654382837, 0.03736173959339157, 0.05604260939008736, 0.19404004169618513, 0.22105827535008432, 0.26035752430121045, 0.1571969958045044, 0.16702180804228595, 0.13257362635499315, 0.259051913567228, 0.09600159149844331, 0.17371716556861172, 0.33829132242308596, 0.744921871147384, 0.8037067078841291, 0.13395111798068818, 0.8875043577681471, 0.13506405444203473, 0.8103843266522084, 0.8648636159770349, 0.18918659744391567, 0.37837319488783133, 0.27589712127237703, 0.11035884850895081, 0.055179424254475404, 0.8015325606772831, 0.21673659070789203, 0.5713964664117154, 0.17732993785191167, 0.019703326427990185, 0.8014273515211838, 0.2986501080857628, 0.46930731270619874, 0.06399645173266347, 0.15999112933165865, 0.08330207134511362, 0.7497186421060226, 0.08330207134511362, 0.2282937964374859, 0.032613399491069416, 0.7174947888035271, 0.903377948082995, 0.8143603488225699, 0.23951476344134723, 0.42314274874638014, 0.2182245622465608, 0.1011284556752355, 0.01862892604543812, 0.3348240364976675, 0.07174800782092876, 0.5261520573534775, 0.0478320052139525, 0.744993749241143, 0.8141890681022798, 0.19488812301936795, 0.09744406150968397, 0.06496270767312265, 0.6496270767312265, 0.8142796107341911, 0.7628998587108992, 0.07628998587108991, 0.07628998587108991, 0.8398852429705339, 0.8507732685860548, 0.8648058337379566, 0.1350247967828861, 0.6076115855229874, 0.2700495935657722, 0.3553178156240253, 0.23435855924137838, 0.1663189775261395, 0.07559953523915432, 0.17387893105005495, 0.23651166632935422, 0.23651166632935422, 0.532151249241047, 0.7437642832669438, 0.925587779575675, 0.15504396656514036, 0.2025064053095711, 0.12656650331848193, 0.1771931046458747, 0.33856539637693917, 0.4480285499580852, 0.10485774573487101, 0.18111792445114083, 0.1620528797720734, 0.11439026807440474, 0.33357717490167654, 0.3146239263277177, 0.23122963260229853, 0.04548779657750135, 0.07960364401062736, 0.8011371857945289, 0.7449095417093206, 0.20667884995291108, 0.5757482248688237, 0.20667884995291108, 0.0073813874983182535, 0.10667146907373352, 0.7467002835161347, 0.05333573453686676, 0.05333573453686676, 0.7449080294423587, 0.9277137119597074, 0.23726996086804336, 0.1739979713032318, 0.12654397912962315, 0.3400869439108622, 0.11863498043402168, 0.3040147232208861, 0.22652077416458177, 0.21459862815591957, 0.11326038708229089, 0.1371046790996153, 0.8648172012709578, 0.852744855680352, 0.09851816212490251, 0.351850579017509, 0.056296092642801436, 0.4785167874638122, 0.3339643983205327, 0.20240266564880768, 0.1922825323663673, 0.27324359862589037, 0.8854358211366022, 0.18983744688836687, 0.7593497875534675, 0.8013788132206568, 0.15894248209017833, 0.7947124104508917, 0.02460220473003441, 0.04920440946006882, 0.5658507087907914, 0.2706242520303785, 0.07380661419010323, 0.3432619315618292, 0.1716309657809146, 0.3588647466328215, 0.05460985274847283, 0.07021266781946507, 0.8142643620861015, 0.839083871795008, 0.1324869271255276, 0.044162309041842526, 0.8393068743401904, 0.24726132827860284, 0.19427675793318794, 0.24726132827860284, 0.238430566554367, 0.06181533206965071, 0.33497589109010056, 0.33497589109010056, 0.07639801024861943, 0.10578186034424229, 0.1469192504781143, 0.6193912644121216, 0.1501554580393022, 0.09384716127456387, 0.018769432254912774, 0.1313860257843894, 0.6280264655934549, 0.24859380929740924, 0.11775496229877279, 0.013083884699863643, 0.32879264026839544, 0.5668838625317163, 0.09070141800507461, 0.005668838625317163, 0.011337677250634327, 0.17960583044290734, 0.39057140905838583, 0.250877985380569, 0.10833367550524571, 0.06842126874015518, 0.9479609530847564, 0.8154938292845574, 0.5401967911410336, 0.17140859718898183, 0.09349559846671736, 0.07271879880744683, 0.12466079795562314, 0.4231409441704329, 0.10736412016264715, 0.26525253216654004, 0.06315536480155715, 0.14525733904358143, 0.8141633844618051, 0.14271901665502257, 0.7135950832751128, 0.2057399861166057, 0.27599266430276376, 0.17563169546539512, 0.08028877506989492, 0.2659565674190269, 0.9320040037907511, 0.2889935389745126, 0.12385437384621967, 0.08256958256414645, 0.4541327041028055, 0.8704334152869059, 0.9199096894632824, 0.8970777470148591, 0.8529744838713603, 0.516103499860781, 0.22645357646952632, 0.18432267852170747, 0.07372907140868298, 0.2779735307836104, 0.10064558873199689, 0.1709377459416455, 0.3977897078455115, 0.05271911790723646, 0.8507164020031827, 0.867850842340789, 0.09827182630970074, 0.14937317599074515, 0.08254833410014863, 0.3144698441910424, 0.3537785747149227, 0.8069863986402873, 0.13449773310671456, 0.6596607170443258, 0.12131691347941624, 0.007582307092463515, 0.12889922057187975, 0.08340537801709866, 0.9285738141610904, 0.12700395956048735, 0.12700395956048735, 0.2886453626374712, 0.034637443516496544, 0.4156493221979586, 0.7449159735088965, 0.18984482997604482, 0.7593793199041793, 0.8010054243383039, 0.8483701516834655, 0.10604626896043319, 0.9119229539287287, 0.615926878629502, 0.15161277012418511, 0.1231853757259004, 0.07580638506209256, 0.03790319253104628, 0.7645074635231659, 0.06810687521329704, 0.03405343760664852, 0.8513359401662131, 0.03405343760664852, 0.8506476548624629, 0.8009661469251184, 0.8850867094337536, 0.8506779247299141, 0.8009910247153955, 0.6883673129099848, 0.0860459141137481, 0.0860459141137481, 0.12906887117062213, 0.38804637183517354, 0.22504256673826678, 0.17881760708392008, 0.13380909373626673, 0.0754196710149867, 0.9094559330134414, 0.21499832291812804, 0.7064230610167064, 0.07678511532790287, 0.885007043498558, 0.2774145760001883, 0.43315609235117125, 0.13627382680711006, 0.10220537010533254, 0.053536146245650375, 0.7449394371798853, 0.07711529434253468, 0.38848648281993886, 0.07711529434253468, 0.2880910996192805, 0.16878064422139666, 0.7449393709071045, 0.262851533389062, 0.14602862966058996, 0.262851533389062, 0.08761717779635399, 0.24338104943431663, 0.24062685842704984, 0.20160628679023093, 0.35118514473137, 0.1430754293350026, 0.05853085745522834, 0.20819008301575667, 0.12144421509252472, 0.4337293396161597, 0.1908409094311103, 0.05204752075393917, 0.31992694011057043, 0.538824320186224, 0.11786782004073648, 0.0168382600058195, 0.32319250649920267, 0.5178425388225861, 0.14323304265305573, 0.0036726421193091214, 0.014690568477236486, 0.15438889741733994, 0.7719444870866997, 0.3301530236414988, 0.18158416300282434, 0.0825382559103747, 0.049522953546224824, 0.34666067482357377, 0.8507290093086112, 0.9447582876030622, 0.7811200651005084, 0.1673828710929661, 0.6433944163727573, 0.1838269761065021, 0.09191348805325104, 0.3551169976252382, 0.3321110791744337, 0.1757888127779418, 0.05780974379945738, 0.07904597621558458, 0.9129933506788527, 0.8528670641887143, 0.749609355561768, 0.10708705079453829, 0.8850433439555636, 0.24318067873630228, 0.20844058177397337, 0.06948019392465779, 0.41688116354794674, 0.034740096962328895, 0.2655369016581082, 0.5945717580605467, 0.10390574412708584, 0.005772541340393658, 0.02309016536157463, 0.4859764746323341, 0.020249019776347254, 0.04049803955269451, 0.42522941530329234, 0.3639929309696983, 0.1424320164664037, 0.1107804572516473, 0.30860270234387466, 0.07121600823320184, 0.3019529762206075, 0.7045569445147508, 0.8678190104818008, 0.3196723710483204, 0.42914921044843013, 0.18830016376818873, 0.06130703006406144, 0.17933668683797754, 0.17933668683797754, 0.5977889561265918, 0.05977889561265918, 0.7645095132063412, 0.05593469022553115, 0.7830856631574361, 0.1118693804510623, 0.19568582195067452, 0.1920842424055701, 0.16087055301466494, 0.13565949619893386, 0.314537946939121, 0.1351265102501333, 0.6756325512506666, 0.7645099767499466, 0.8141300373009899, 0.3035057799470045, 0.29371527091645594, 0.07832407224438825, 0.10769559933603386, 0.23497221673316476, 0.2239294591791767, 0.13435767550750602, 0.6270024857016947, 0.887784366171366, 0.3578220342396171, 0.3208059617320705, 0.14806429003018637, 0.1542336354481108, 0.02467738167169773, 0.8506220265697753, 0.8398708856129378, 0.30741644751488123, 0.18444986850892872, 0.32791087734920665, 0.18444986850892872, 0.8529898280278564, 0.22887209031384198, 0.10563327245254245, 0.0704221816350283, 0.5809829984889835, 0.017605545408757074, 0.8010648535764984, 0.13048625278342768, 0.1631078159792846, 0.07611698079033281, 0.49204191153750854, 0.13864164358239192, 0.7450390259865779, 0.3037945522636804, 0.19187024353495605, 0.11192430872872436, 0.35176211314741945, 0.04796756088373901, 0.5979276056483613, 0.2479212023420035, 0.10208520096435438, 0.04375080041329473, 0.014583600137764911, 0.3945390676147897, 0.12795861652371557, 0.07464252630550075, 0.2665804510910741, 0.12795861652371557, 0.22810932397292866, 0.057027330993232164, 0.7413553029120181, 0.22406613611527162, 0.466057563119765, 0.1792529088922173, 0.09858909989071951, 0.03585058177844346, 0.22602600941788847, 0.22602600941788847, 0.18613906657943757, 0.21937818561148, 0.13960429993457818, 0.1505242432930918, 0.16306793023418278, 0.05017474776436393, 0.025087373882181966, 0.6020969731723672, 0.8141232055126936, 0.7448962146190593, 0.9276987587660529, 0.8654070909071617, 0.5444065056643475, 0.3042271649300765, 0.08806575826923267, 0.05604184617132989, 0.3550899617779997, 0.19858111606542161, 0.06899852337866344, 0.24401916804649268, 0.13126548350087192, 0.2799456509808037, 0.5135308756845316, 0.12125034564773664, 0.01069855991009441, 0.0731068260523118, 0.8651255042690025, 0.08169665147554557, 0.20424162868886392, 0.16339330295109114, 0.08169665147554557, 0.4901799088532734, 0.22222609681953842, 0.2803467682954177, 0.3589806179392544, 0.07521498661584378, 0.06324896601786863, 0.8680576150178988, 0.5205653195837568, 0.2850714845339621, 0.11154971133937645, 0.024788824742083656, 0.06197206185520914, 0.7645010103481221, 0.9096255758525122, 0.9098911628839655, 0.9537024827146255, 0.7696812154744388, 0.8062242926016727, 0.10077803657520909, 0.050389018287604545, 0.8137747955914908, 0.8142180623866432, 0.0720645058099527, 0.8647740697194324, 0.6513197164331659, 0.21710657214438864, 0.03947392220807066, 0.05921088331210599, 0.01973696110403533, 0.744974978257797, 0.9119767608298599, 0.8851557204031945, 0.4036144530331075, 0.4325819975091678, 0.14097538311682703, 0.013518187422161494, 0.009655848158686782, 0.2457565438077869, 0.6143913595194672, 0.7449167568558831, 0.852787118685829, 0.8489194709695095, 0.10611493387118869, 0.14152170515436896, 0.36023706766566643, 0.3216402389872022, 0.07719365735692853, 0.09649207169616066, 0.8507419171777821, 0.8537795914624284, 0.8398381815899353, 0.20700676393179698, 0.24707258920891897, 0.22036203902417098, 0.080131650554244, 0.24707258920891897, 0.7449135031127698, 0.8849357250169952, 0.0026749881681953744, 0.0026749881681953744, 0.8640211783271059, 0.13374940840976873, 0.11456502343867632, 0.7637668229245088, 0.07637668229245088, 0.21372441131959333, 0.5877421311288816, 0.13357775707474584, 0.05343110282989833, 0.22316702323198423, 0.3634434378349457, 0.26780042787838104, 0.0892668092927937, 0.05100960531016782, 0.13475095582135707, 0.08575060824995451, 0.09800069514280514, 0.42875304124977254, 0.2572518247498635, 0.8398547869633821, 0.7645346648038341, 0.1811231301387814, 0.12074875342585427, 0.11146038777771163, 0.204344044259138, 0.37617880874977677, 0.8742764068278287, 0.04601454772778046, 0.04601454772778046, 0.049787911282876254, 0.12446977820719064, 0.5227730684702007, 0.09957582256575251, 0.22404560077294314, 0.38404655321327313, 0.3142199071744962, 0.15361862128530926, 0.1047399690581654, 0.048878652227143854, 0.9301840929038944, 0.8506266133581066, 0.3033697441426695, 0.177540247992585, 0.13789533824666794, 0.32577773660775305, 0.05343444357058383, 0.27772943835843644, 0.37802062443231627, 0.1465794258002859, 0.13115001255815056, 0.06686079071591988, 0.028503546441710104, 0.22802837153368083, 0.7125886610427525, 0.4989698329482137, 0.237215166483577, 0.04089916663509948, 0.15541683321337801, 0.07361849994317907, 0.058983255323616375, 0.786443404314885, 0.1376275957551049, 0.15769800836919723, 0.6702165355690882, 0.13798575732304758, 0.019712251046149654, 0.019712251046149654, 0.8645299292231565, 0.3082210414082009, 0.2880098255781549, 0.16168972664036768, 0.1970593543429481, 0.04042243166009192, 0.1711575131038563, 0.2934128796066108, 0.44011931940991617, 0.048902146601101794, 0.024451073300550897, 0.8871775588495803, 0.4112444830084153, 0.2080413266983748, 0.14998328203836322, 0.16449779320336613, 0.06773438543668017, 0.9302462267950353, 0.8508165013451316, 0.8885099311274305, 0.20961060810541285, 0.13100663006588303, 0.6026304983030619, 0.026201326013176606, 0.06722805386845745, 0.1344561077369149, 0.6050524848161171, 0.1344561077369149, 0.10314425560291846, 0.37131932017050645, 0.4538347246528412, 0.06188655336175107, 0.27893438278041816, 0.0760730134855686, 0.4184015741706273, 0.17750369813299338, 0.050715342323712394, 0.7645186839654327, 0.7645091270745613, 0.8141392366182683, 0.930343231207933, 0.16474508142619865, 0.8237254071309933, 0.16474508142619865, 0.3555447679352236, 0.515700068806946, 0.12171802866250897, 0.006406212034868893, 0.32677044866248117, 0.06126945912421522, 0.2246546834554558, 0.3063472956210761, 0.08169261216562029, 0.32272428077418, 0.15402749764222226, 0.14669285489735454, 0.3007203525395768, 0.080681070193545, 0.3282396345734528, 0.10941321152448426, 0.5470660576224213, 0.02188264230489685, 0.8399218555007384, 0.24592115871954875, 0.23055108629957696, 0.27666130355949237, 0.22286605008959107, 0.030740144839943594, 0.7200215826830586, 0.21600647480491758, 0.22714210218233002, 0.68142630654699, 0.051517084573353515, 0.28334396515344434, 0.643963557166919], \"Term\": [\"Atkins\", \"Atkins\", \"Awesome\", \"Awesome\", \"Awesome\", \"Awesome\", \"Balsamic\", \"CARBS\", \"Carb\", \"Carb\", \"Carb\", \"Carb\", \"Carb\", \"Cincinnati\", \"Diabetes\", \"Dukan\", \"Euro\", \"Excellent-\", \"Farms\", \"Fettuccine\", \"Gluten\", \"Gluten\", \"Gluten\", \"Gluten\", \"Healthy\", \"Keto\", \"Keto\", \"Keto\", \"Keto\", \"Keto\", \"LOVE\", \"LOVE\", \"LOVE\", \"Liquid\", \"Miracle\", \"Miracle\", \"Miracle\", \"Miracle\", \"Miracle\", \"Mircle\", \"NOODLE\", \"Option\", \"Pack\", \"Rice\", \"Rice\", \"Rice\", \"Rice\", \"Rice\", \"Save\", \"Shirataki\", \"Shirataki\", \"Shirataki\", \"Shirataki\", \"Shirataki\", \"Singapore\", \"Spinach\", \"Spinach\", \"Spiralizer\", \"Style\", \"Subscribe\", \"Super\", \"Super\", \"Super\", \"TASTE\", \"TASTE\", \"Taste\", \"Variety\", \"WIERD\", \"Walden\", \"Whisked\", \"absoulutely\", \"accord\", \"accord\", \"accord\", \"actually\", \"actually\", \"actually\", \"actually\", \"actually\", \"add\", \"add\", \"add\", \"add\", \"add\", \"addition\", \"addition\", \"addition\", \"addition\", \"addition\", \"adkin\", \"affordable\", \"age\", \"alfredo\", \"alfredo\", \"alfredo\", \"alfredo\", \"alfredo\", \"alternative\", \"alternative\", \"alternative\", \"alternative\", \"alternative\", \"amazed\", \"angel\", \"angel\", \"angel\", \"angel\", \"angel\", \"answer\", \"aromatic\", \"asian\", \"asian\", \"asian\", \"asian\", \"asian\", \"away\", \"away\", \"away\", \"away\", \"awesome\", \"awesome\", \"awesome\", \"awesome\", \"awesome\", \"beat\", \"beat\", \"belly&nbsp;diet\", \"bill\", \"boil\", \"boil\", \"boil\", \"boil\", \"boil\", \"brand\", \"brand\", \"brand\", \"branding\", \"break\", \"breath\", \"brine\", \"brine\", \"burn\", \"burn\", \"butter\", \"butter\", \"butter\", \"butter\", \"calorie\", \"calorie\", \"calorie\", \"calorie\", \"calorie\", \"carb\", \"carb\", \"carb\", \"carb\", \"carb\", \"carb'd\", \"carber\", \"carber\", \"careful\", \"changer\", \"changer\", \"cheddar\", \"chicken\", \"chicken\", \"chicken\", \"chicken\", \"chicken\", \"choke\", \"colander\", \"colander\", \"colander\", \"colander\", \"combination\", \"come\", \"come\", \"come\", \"come\", \"comfort\", \"comfort\", \"comfort\", \"complain\", \"complain\", \"complain\", \"conventional\", \"convert\", \"cook\", \"cook\", \"cook\", \"cook\", \"cook\", \"cooking\", \"cooking\", \"cooking\", \"cooking\", \"cost\", \"crab\", \"craving\", \"craving\", \"craving\", \"craving\", \"creation\", \"creative\", \"creative\", \"creative\", \"crunch\", \"daikon\", \"damage\", \"daughter\", \"daughter\", \"daughter\", \"delicious\", \"delicious\", \"delicious\", \"delicious\", \"delicious\", \"delivery\", \"delivery\", \"delivery\", \"diabete\", \"dice\", \"diet\", \"diet\", \"diet\", \"diet\", \"diet\", \"direction\", \"direction\", \"direction\", \"direction\", \"direction\", \"dish\", \"dish\", \"dish\", \"dish\", \"dish\", \"dog\", \"doodle\", \"drain\", \"drain\", \"drain\", \"drain\", \"dump\", \"dump\", \"dump\", \"dump\", \"dupe\", \"e.g.\", \"easy\", \"easy\", \"easy\", \"easy\", \"easy\", \"eat\", \"eat\", \"eat\", \"eat\", \"eat\", \"enjoyable\", \"evaporate\", \"excellent\", \"excellent\", \"excellent\", \"excellent\", \"expect\", \"expect\", \"expect\", \"expect\", \"explain\", \"extend\", \"extend\", \"eye\", \"fabulous\", \"fabulous\", \"fast\", \"fast\", \"fast\", \"fast\", \"fast\", \"feel\", \"feel\", \"feel\", \"feel\", \"feel\", \"feta\", \"fettuccini\", \"fettuccini\", \"fettuccini\", \"fight\", \"fill\", \"fill\", \"fill\", \"fill\", \"fill\", \"find\", \"find\", \"find\", \"find\", \"find\", \"fine\", \"fine\", \"fine\", \"fine\", \"fine\", \"fish\", \"fish\", \"fish\", \"fish\", \"fishy\", \"fishy\", \"fishy\", \"fishy\", \"fishy\", \"flavor\", \"flavor\", \"flavor\", \"flavor\", \"flavor\", \"flavour\", \"fluid\", \"follow\", \"follow\", \"follow\", \"follow\", \"follow\", \"food\", \"food\", \"food\", \"food\", \"food\", \"foot\", \"forever\", \"forever\", \"free\", \"free\", \"free\", \"free\", \"free\", \"freeze\", \"friend\", \"friend\", \"friend\", \"friend\", \"fruit\", \"funky\", \"gift\", \"glucose\", \"go\", \"go\", \"go\", \"go\", \"good\", \"good\", \"good\", \"good\", \"good\", \"grandmother\", \"grateful\", \"great\", \"great\", \"great\", \"great\", \"great\", \"grill\", \"grill\", \"hair\", \"hair\", \"hair\", \"hair\", \"hair\", \"hardly\", \"healthy\", \"healthy\", \"healthy\", \"healthy\", \"healthy\", \"highlight\", \"hook\", \"hook\", \"imagination\", \"imagine\", \"imagine\", \"improve\", \"instruction\", \"instruction\", \"instruction\", \"instruction\", \"instruction\", \"insulin\", \"item\", \"item\", \"item\", \"item\", \"jelly\", \"jellyfish\", \"jicama\", \"ketosis\", \"lastly\", \"light\", \"light\", \"light\", \"light\", \"like\", \"like\", \"like\", \"like\", \"like\", \"lime\", \"liquid\", \"liquid\", \"liquid\", \"list\", \"little\", \"little\", \"little\", \"little\", \"little\", \"loce\", \"love\", \"love\", \"love\", \"love\", \"love\", \"lucky\", \"make\", \"make\", \"make\", \"make\", \"make\", \"meal\", \"meal\", \"meal\", \"meal\", \"meal\", \"meat\", \"meat\", \"meat\", \"meat\", \"meat\", \"microwave\", \"microwave\", \"microwave\", \"microwave\", \"minute\", \"minute\", \"minute\", \"minute\", \"minute\", \"miso\", \"miso\", \"miss\", \"miss\", \"miss\", \"miss\", \"miss\", \"mush\", \"mushy\", \"negative\", \"negative\", \"neutral\", \"neutral\", \"neutral\", \"noodle\", \"noodle\", \"noodle\", \"noodle\", \"noodle\", \"nuke\", \"oder\", \"offer\", \"offer\", \"oil\", \"one\", \"one\", \"one\", \"one\", \"one\", \"open\", \"open\", \"open\", \"open\", \"open\", \"option\", \"option\", \"option\", \"option\", \"order\", \"order\", \"order\", \"order\", \"order\", \"ounce\", \"ounce\", \"overnight\", \"package\", \"package\", \"package\", \"package\", \"pair\", \"pair\", \"pair\", \"pair\", \"pallet\", \"paper\", \"paper\", \"paper\", \"pasta\", \"pasta\", \"pasta\", \"pasta\", \"pasta\", \"paste\", \"paste\", \"pay\", \"penne\", \"perfect\", \"perfect\", \"perfect\", \"perfect\", \"perfect\", \"pick\", \"pick\", \"pick\", \"pleasant\", \"prepare\", \"prepare\", \"prepare\", \"prepare\", \"prepare\", \"preservative\", \"pretend\", \"pretty\", \"pretty\", \"pretty\", \"pretty\", \"previous\", \"price\", \"price\", \"price\", \"price\", \"price\", \"prior\", \"product\", \"product\", \"product\", \"product\", \"product\", \"question\", \"quick\", \"quick\", \"quick\", \"quick\", \"quick\", \"read\", \"read\", \"read\", \"read\", \"read\", \"real\", \"real\", \"real\", \"real\", \"real\", \"receive\", \"receive\", \"receive\", \"recommend\", \"recommend\", \"recommend\", \"recommend\", \"recommend\", \"regular\", \"regular\", \"regular\", \"regular\", \"regular\", \"replacement\", \"replacement\", \"replacement\", \"replacement\", \"replacement\", \"replication\", \"repurchase\", \"research\", \"restriction\", \"review\", \"review\", \"review\", \"review\", \"rice\", \"rice\", \"rice\", \"rice\", \"rice\", \"rinse\", \"rinse\", \"rinse\", \"rinse\", \"rinse\", \"sacrifice\", \"satisfy\", \"satisfy\", \"satisfy\", \"satisfy\", \"satisfy\", \"sauce\", \"sauce\", \"sauce\", \"sauce\", \"sauce\", \"savory\", \"say\", \"say\", \"say\", \"say\", \"say\", \"scale\", \"scare\", \"scared\", \"seed\", \"service\", \"sesame\", \"sesame\", \"sesame\", \"shallot\", \"shellfish\", \"shipping\", \"shipping\", \"shirataki\", \"shirataki\", \"shirataki\", \"shirataki\", \"shirataki\", \"side\", \"sink\", \"slippery\", \"smell\", \"smell\", \"smell\", \"smell\", \"smell\", \"snack\", \"snack\", \"sooooooooooooooooooooooooooo\", \"sorry\", \"sound\", \"sound\", \"soup\", \"soup\", \"soup\", \"soup\", \"soup\", \"soupy\", \"sour\", \"spagetti\", \"spaghetti\", \"spaghetti\", \"spaghetti\", \"spaghetti\", \"spaghetti\", \"specialized\", \"stand\", \"star\", \"star\", \"star\", \"star\", \"step\", \"step\", \"step\", \"stick\", \"stick\", \"stick\", \"stick\", \"stir\", \"stir\", \"stir\", \"stir\", \"stir\", \"stuff\", \"stuff\", \"stuff\", \"stuff\", \"stuff\", \"sub\", \"subitute\", \"substitute\", \"substitute\", \"substitute\", \"substitute\", \"substitute\", \"suggest\", \"suggest\", \"suggest\", \"super\", \"super\", \"super\", \"super\", \"super\", \"sure\", \"sure\", \"sure\", \"sure\", \"sure\", \"tablespoon\", \"takeout\", \"taste\", \"taste\", \"taste\", \"taste\", \"taste\", \"texture\", \"texture\", \"texture\", \"texture\", \"texture\", \"thank\", \"thank\", \"thank\", \"think\", \"think\", \"think\", \"think\", \"think\", \"thoroughly\", \"thoroughly\", \"thoroughly\", \"throw\", \"throw\", \"throw\", \"throw\", \"throw\", \"thumb\", \"time\", \"time\", \"time\", \"time\", \"time\", \"tomato\", \"tomato\", \"tomato\", \"tomato\", \"tomato\", \"transparent\", \"try\", \"try\", \"try\", \"try\", \"try\", \"typical\", \"upset\", \"use\", \"usually\", \"usually\", \"usually\", \"usually\", \"value\", \"value\", \"value\", \"value\", \"vegetable\", \"vegetable\", \"vegetable\", \"vegetable\", \"veggie\", \"veggie\", \"veggie\", \"veggie\", \"veggie\", \"vermacelli\", \"vinaigrette\", \"virtue\", \"warning\", \"watcher\", \"watcher\", \"watcher\", \"water\", \"water\", \"water\", \"water\", \"weight\", \"weight\", \"weight\", \"weight\", \"weight\", \"well\", \"well\", \"well\", \"well\", \"well\", \"wheat\", \"wheat\", \"wheat\", \"wheat\", \"wide\", \"work\", \"work\", \"work\", \"work\", \"work\", \"wrong\", \"wrong\", \"yeah\", \"yeah\", \"yummy\", \"yummy\", \"yummy\"]}, \"R\": 30, \"lambda.step\": 0.01, \"plot.opts\": {\"xlab\": \"PC1\", \"ylab\": \"PC2\"}, \"topic.order\": [1, 4, 2, 3, 5]};\n",
       "\n",
       "function LDAvis_load_lib(url, callback){\n",
       "  var s = document.createElement('script');\n",
       "  s.src = url;\n",
       "  s.async = true;\n",
       "  s.onreadystatechange = s.onload = callback;\n",
       "  s.onerror = function(){console.warn(\"failed to load library \" + url);};\n",
       "  document.getElementsByTagName(\"head\")[0].appendChild(s);\n",
       "}\n",
       "\n",
       "if(typeof(LDAvis) !== \"undefined\"){\n",
       "   // already loaded: just create the visualization\n",
       "   !function(LDAvis){\n",
       "       new LDAvis(\"#\" + \"ldavis_el27359136681436647833609057\", ldavis_el27359136681436647833609057_data);\n",
       "   }(LDAvis);\n",
       "}else if(typeof define === \"function\" && define.amd){\n",
       "   // require.js is available: use it to load d3/LDAvis\n",
       "   require.config({paths: {d3: \"https://d3js.org/d3.v5\"}});\n",
       "   require([\"d3\"], function(d3){\n",
       "      window.d3 = d3;\n",
       "      LDAvis_load_lib(\"https://cdn.jsdelivr.net/gh/bmabey/pyLDAvis@3.4.0/pyLDAvis/js/ldavis.v3.0.0.js\", function(){\n",
       "        new LDAvis(\"#\" + \"ldavis_el27359136681436647833609057\", ldavis_el27359136681436647833609057_data);\n",
       "      });\n",
       "    });\n",
       "}else{\n",
       "    // require.js not available: dynamically load d3 & LDAvis\n",
       "    LDAvis_load_lib(\"https://d3js.org/d3.v5.js\", function(){\n",
       "         LDAvis_load_lib(\"https://cdn.jsdelivr.net/gh/bmabey/pyLDAvis@3.4.0/pyLDAvis/js/ldavis.v3.0.0.js\", function(){\n",
       "                 new LDAvis(\"#\" + \"ldavis_el27359136681436647833609057\", ldavis_el27359136681436647833609057_data);\n",
       "            })\n",
       "         });\n",
       "}\n",
       "</script>"
      ],
      "text/plain": [
       "<IPython.core.display.HTML object>"
      ]
     },
     "execution_count": 57,
     "metadata": {},
     "output_type": "execute_result"
    }
   ],
   "source": [
    "\n",
    "# Display the LDA visualization for high-rating reviews\n",
    "display(Markdown(\"### High Rating Reviews LDA Visualization\" ))\n",
    "vis_data = gensimvis.prepare(high_lda, high_corpus, high_dictionary)\n",
    "pyLDAvis.display(vis_data)"
   ]
  },
  {
   "cell_type": "markdown",
   "id": "92ef0d29",
   "metadata": {},
   "source": [
    "\n",
    "### Example Walkthrough:\n",
    "\n",
    "1. **Selecting a Topic**:\n",
    "   - Select a topic from the dropdown or navigate using the buttons.\n",
    "   - Observe how the topic circle is highlighted in the Intertopic Distance Map.\n",
    "\n",
    "2. **Adjusting the Relevance Metric Slider**:\n",
    "   - Move the slider to λ = 1 to see the most specific terms for the topic.\n",
    "   - Move the slider to λ = 0 to see common terms that are less specific to the topic.\n",
    "   - Adjust the slider to intermediate values to balance specificity and generality.\n",
    "\n",
    "3. **Interpreting the Bar Chart**:\n",
    "   - Look at the top words and their frequencies in the bar chart.\n",
    "   - Use this information to understand what the topic is about and how it differs from other topics.\n",
    "\n",
    "By interacting with these components, you can gain a deeper understanding of the topics in your LDA model and how they relate to each other within your dataset."
   ]
  },
  {
   "cell_type": "markdown",
   "id": "a5fd49c2",
   "metadata": {},
   "source": [
    "### PyLDA Vis + Labels (HTML for Streamlit) -`WIP`"
   ]
  },
  {
   "cell_type": "code",
   "execution_count": 58,
   "id": "135be743",
   "metadata": {},
   "outputs": [
    {
     "data": {
      "text/markdown": [
       "## High Rating Reviews Topics"
      ],
      "text/plain": [
       "<IPython.core.display.Markdown object>"
      ]
     },
     "metadata": {},
     "output_type": "display_data"
    },
    {
     "data": {
      "text/html": [
       "\n",
       "<link rel=\"stylesheet\" type=\"text/css\" href=\"https://cdn.jsdelivr.net/gh/bmabey/pyLDAvis@3.4.0/pyLDAvis/js/ldavis.v1.0.0.css\">\n",
       "\n",
       "\n",
       "<div id=\"ldavis_el273591359972811217104878\" style=\"background-color:white;\"></div>\n",
       "<script type=\"text/javascript\">\n",
       "\n",
       "var ldavis_el273591359972811217104878_data = {\"mdsDat\": {\"x\": [0.07061601923936457, 0.06726385490080082, 0.055436007766185104, -0.09253837994222808, -0.10077750196412252], \"y\": [-0.021275311135373537, 0.023485240558048927, 0.0023198342381523184, -0.08040063565707732, 0.07587087199624966], \"topics\": [1, 2, 3, 4, 5], \"cluster\": [1, 1, 1, 1, 1], \"Freq\": [28.651575526092326, 26.983346567225485, 17.83647096112853, 14.820095938420346, 11.708511007133307]}, \"tinfo\": {\"Term\": [\"star\", \"great\", \"pasta\", \"carb\", \"love\", \"good\", \"product\", \"alternative\", \"diet\", \"taste\", \"substitute\", \"rice\", \"sauce\", \"smell\", \"replacement\", \"water\", \"rinse\", \"calorie\", \"minute\", \"excellent\", \"healthy\", \"free\", \"fishy\", \"stuff\", \"awesome\", \"away\", \"Miracle\", \"option\", \"drain\", \"open\", \"seed\", \"research\", \"e.g.\", \"hardly\", \"lime\", \"scare\", \"scared\", \"stand\", \"NOODLE\", \"list\", \"slippery\", \"jicama\", \"explain\", \"suggest\", \"sound\", \"transparent\", \"oil\", \"preservative\", \"takeout\", \"grandmother\", \"break\", \"amazed\", \"jelly\", \"mush\", \"ketosis\", \"upset\", \"pleasant\", \"daikon\", \"soupy\", \"Spiralizer\", \"fettuccini\", \"sesame\", \"negative\", \"imagine\", \"angel\", \"creative\", \"hair\", \"away\", \"brand\", \"instruction\", \"shirataki\", \"wrong\", \"fish\", \"follow\", \"review\", \"go\", \"noodle\", \"fine\", \"read\", \"like\", \"smell\", \"light\", \"think\", \"rice\", \"say\", \"butter\", \"try\", \"boil\", \"taste\", \"water\", \"food\", \"actually\", \"good\", \"rinse\", \"dish\", \"minute\", \"texture\", \"direction\", \"pasta\", \"sauce\", \"package\", \"sure\", \"cook\", \"prepare\", \"time\", \"calorie\", \"carb\", \"great\", \"flavor\", \"funky\", \"mushy\", \"typical\", \"tablespoon\", \"warning\", \"improve\", \"sink\", \"burn\", \"freeze\", \"careful\", \"answer\", \"evaporate\", \"sorry\", \"previous\", \"oder\", \"nuke\", \"use\", \"glucose\", \"sour\", \"brine\", \"jellyfish\", \"imagination\", \"lastly\", \"dog\", \"prior\", \"breath\", \"combination\", \"eye\", \"offer\", \"choke\", \"thoroughly\", \"paper\", \"step\", \"liquid\", \"LOVE\", \"grill\", \"carber\", \"dump\", \"throw\", \"open\", \"rinse\", \"fishy\", \"drain\", \"water\", \"minute\", \"smell\", \"love\", \"noodle\", \"cook\", \"colander\", \"boil\", \"package\", \"flavor\", \"texture\", \"little\", \"microwave\", \"recommend\", \"come\", \"stick\", \"sauce\", \"carb\", \"like\", \"add\", \"dish\", \"stir\", \"pasta\", \"soup\", \"rice\", \"find\", \"calorie\", \"taste\", \"great\", \"diet\", \"time\", \"good\", \"product\", \"flavour\", \"Euro\", \"Walden\", \"shipping\", \"Fettuccine\", \"conventional\", \"grateful\", \"overnight\", \"Farms\", \"savory\", \"replication\", \"creation\", \"adkin\", \"penne\", \"crab\", \"aromatic\", \"virtue\", \"belly&nbsp;diet\", \"feta\", \"foot\", \"convert\", \"shellfish\", \"fluid\", \"Liquid\", \"fruit\", \"shallot\", \"comfort\", \"changer\", \"paste\", \"branding\", \"accord\", \"complain\", \"usually\", \"pick\", \"fast\", \"wheat\", \"sauce\", \"beat\", \"cooking\", \"super\", \"miso\", \"pair\", \"add\", \"veggie\", \"neutral\", \"alfredo\", \"meal\", \"meat\", \"feel\", \"vegetable\", \"calorie\", \"noodle\", \"soup\", \"flavor\", \"like\", \"asian\", \"cook\", \"tomato\", \"pasta\", \"good\", \"dish\", \"pretty\", \"stir\", \"food\", \"work\", \"chicken\", \"taste\", \"smell\", \"rinse\", \"texture\", \"package\", \"carb\", \"great\", \"eat\", \"love\", \"minute\", \"diet\", \"rice\", \"water\", \"Taste\", \"star\", \"item\", \"dice\", \"Cincinnati\", \"Dukan\", \"service\", \"Whisked\", \"Balsamic\", \"Style\", \"Option\", \"damage\", \"cheddar\", \"sacrifice\", \"enjoyable\", \"thumb\", \"restriction\", \"bill\", \"watcher\", \"insulin\", \"WIERD\", \"Mircle\", \"absoulutely\", \"vermacelli\", \"subitute\", \"pay\", \"Excellent-\", \"vinaigrette\", \"pallet\", \"scale\", \"thank\", \"receive\", \"forever\", \"yummy\", \"yeah\", \"price\", \"product\", \"value\", \"TASTE\", \"hook\", \"extend\", \"good\", \"daughter\", \"great\", \"taste\", \"love\", \"stuff\", \"rice\", \"easy\", \"awesome\", \"friend\", \"order\", \"well\", \"delivery\", \"Carb\", \"carb\", \"quick\", \"weight\", \"pasta\", \"like\", \"one\", \"substitute\", \"diet\", \"expect\", \"calorie\", \"regular\", \"time\", \"real\", \"texture\", \"noodle\", \"fill\", \"work\", \"try\", \"flavor\", \"sauce\", \"cook\", \"Pack\", \"gift\", \"crunch\", \"sub\", \"Variety\", \"spagetti\", \"CARBS\", \"wide\", \"Healthy\", \"pretend\", \"fight\", \"diabete\", \"Save\", \"Subscribe\", \"dupe\", \"doodle\", \"lucky\", \"loce\", \"repurchase\", \"sooooooooooooooooooooooooooo\", \"highlight\", \"carb'd\", \"specialized\", \"affordable\", \"age\", \"side\", \"cost\", \"Diabetes\", \"question\", \"Singapore\", \"Atkins\", \"fabulous\", \"alternative\", \"craving\", \"replacement\", \"Spinach\", \"ounce\", \"Keto\", \"snack\", \"Awesome\", \"excellent\", \"great\", \"Super\", \"carb\", \"Rice\", \"pasta\", \"substitute\", \"diet\", \"healthy\", \"Gluten\", \"option\", \"satisfy\", \"Shirataki\", \"addition\", \"free\", \"love\", \"miss\", \"Miracle\", \"spaghetti\", \"calorie\", \"rice\", \"make\", \"noodle\", \"product\", \"star\", \"perfect\", \"stuff\", \"awesome\", \"like\", \"rinse\", \"sauce\", \"find\", \"good\", \"taste\", \"texture\", \"follow\", \"delicious\", \"flavor\", \"eat\"], \"Freq\": [374.0, 763.0, 832.0, 656.0, 687.0, 626.0, 368.0, 127.0, 316.0, 580.0, 215.0, 594.0, 584.0, 517.0, 79.0, 312.0, 560.0, 407.0, 272.0, 71.0, 86.0, 199.0, 176.0, 81.0, 102.0, 101.0, 164.0, 49.0, 135.0, 173.0, 8.647569879242063, 6.805579567094787, 6.788442361414506, 6.69465417361947, 5.842237957087909, 5.837006077642655, 5.822238918860249, 4.918495926576148, 5.737502304875553, 4.9114030479628275, 4.909642315771844, 4.89830810730006, 4.89296310613707, 18.568714006596856, 8.04588427728762, 4.780386429405462, 4.7881069866408925, 3.976428545069583, 3.975192653575495, 3.9739005685008437, 3.973816461769151, 3.973680568796547, 3.9730378317639605, 3.970326583321358, 3.96868999119724, 3.9679580055367003, 4.745537227498617, 3.960959517447593, 3.960243692032444, 3.958040756763041, 18.723238273023195, 16.149979227585934, 14.252078873726319, 7.647446816169232, 85.3061098469445, 10.366655648739824, 87.20047845262961, 68.27926982800366, 20.517914324892793, 64.5864950919901, 33.13127086033633, 10.462705536332956, 47.484333638396215, 104.2099476768886, 68.35599279666607, 97.43988612549286, 601.8898086916531, 32.884838871033146, 40.61036464736439, 318.5015124673933, 208.95883659933224, 16.01714788692685, 60.88672150060914, 211.30659704970023, 42.08683224547119, 30.338677618889736, 84.7479408476009, 81.83427798591325, 175.54167043044853, 110.50344065348473, 66.57342370682058, 37.5040275872225, 174.0288128979482, 157.3536139422572, 87.64556686940806, 88.1436902733325, 108.31492032297076, 46.617548025485846, 163.13598480118185, 129.56989756368273, 73.30396611266985, 55.314516102104385, 90.0766554214636, 57.652545146520694, 61.376394565307436, 79.28571326454627, 86.48069524647279, 74.95680662897128, 63.35777580862922, 13.204730478345885, 7.713870241230561, 6.792980998515426, 6.789757269783455, 6.776173334723159, 5.821451543217087, 5.789389623973249, 9.913779392653373, 6.536599097678893, 4.89803485566885, 4.896916927421883, 3.9666435902326747, 3.964775418678879, 3.956776282342446, 3.9568523789434153, 5.535348039510162, 4.725450877713317, 3.936716872433306, 3.915074999117646, 7.66642746946263, 3.0224137905320614, 3.021532453535381, 3.019513126460569, 3.0171230014028523, 3.016835563787373, 3.015700686752009, 2.9920360274251294, 2.9811275796761847, 7.426201568799154, 2.976523389423903, 40.2978156266543, 14.208194218134619, 20.179307713627093, 46.329539373031515, 12.429941175193493, 5.77731897359132, 5.795163626518613, 13.666793190154973, 33.674749344868594, 103.38725503088602, 288.065691919431, 100.23019245566253, 78.40384437635834, 161.25450846704462, 141.02271900309086, 223.5582435483958, 266.9175222822632, 562.8728433786089, 158.8617546176582, 29.443991401459982, 90.73577174592884, 97.70667420717052, 136.98514957592477, 147.3920985872889, 88.79426797314107, 32.505977499857906, 51.55856850089363, 44.08079073131935, 22.300984716742526, 164.5234302785438, 169.91430165734735, 185.18582135231682, 57.76861563840766, 82.98659199006127, 57.270047311751775, 160.2591981321561, 56.25728180017547, 118.29970945524559, 56.90803779447164, 89.73886199884542, 103.29640399077608, 114.37803930207939, 64.28605983804803, 57.00595613344977, 63.140437962626756, 59.59161901701697, 6.623067125944163, 5.722363711426209, 5.7038629286884035, 12.198306218384491, 4.792473252076432, 4.786904451538071, 3.877592671924482, 3.85633401137038, 3.8380595840494314, 3.705963821533701, 2.9584133966287607, 2.955800249094152, 2.9562975450857323, 2.9550455023961257, 2.954259660408511, 2.9526740292813334, 2.9527112979004726, 2.952578914277886, 2.9514329613998167, 2.950371148717104, 2.947987786226881, 2.940730237093663, 2.8892368948188074, 2.865781672153848, 3.5454602255605403, 2.8413458046576756, 9.18013522034723, 5.61703299078193, 5.457008399453533, 2.0335210477966608, 9.869591870478489, 21.779813949335804, 23.373977989803205, 14.233647483831254, 23.207826711858537, 25.495805315836286, 209.72174895373348, 8.97276987975505, 22.127762923292195, 21.106010119242985, 4.680893750075879, 9.925094218691907, 56.737200695286695, 33.36843939759563, 6.9220689131025885, 14.719237928016378, 54.41169739331438, 24.875335394791758, 45.567732434140886, 21.76466322676749, 106.23388150124212, 298.22252822652996, 50.008827542016455, 88.48029296436172, 146.58840449567862, 41.73301376458753, 81.88195299561178, 18.306312796719716, 134.42999993580753, 106.97449081731378, 60.94365440619694, 31.90207699733689, 41.98817439441189, 41.63270036037509, 35.769749357315305, 34.88740405302999, 80.40664612675965, 73.27761565454587, 67.85006089630402, 56.550083875620665, 42.942971723438376, 63.447399566359806, 63.18396027296619, 36.378156135134184, 53.09200964490982, 39.03826304442539, 40.18024304196645, 41.49649933370817, 38.279303849227176, 6.987488044239349, 323.2322956586609, 24.733534887892596, 3.5840827301883844, 3.5720367585500776, 3.5500208684223318, 4.158924141385762, 2.730434676160356, 2.730397630922066, 2.729332817790715, 2.729016318472815, 2.728134831777102, 2.725605496892034, 2.719745890072517, 2.7160708124586033, 2.7159363097472746, 2.690579699028127, 2.6834185695033668, 4.577483280749566, 1.8771306679094686, 1.8770890632572357, 1.8770883033549117, 1.877087163501426, 1.8770827940630634, 1.8770161126341423, 1.8770613268224137, 1.8770577172863752, 1.876941072279658, 1.8768914886530241, 1.8768483641961435, 24.97939216595937, 12.536929331725727, 4.991310888293667, 25.265454356178527, 5.867362382634625, 32.75206068489308, 181.22807175740311, 9.32746666872917, 3.579893388676778, 3.578908935216178, 3.575654273562957, 248.79912136895192, 8.853534586876975, 240.51266009176635, 189.54815111339758, 198.22212610045557, 35.25922769936895, 145.2693965234234, 42.982394661119805, 34.39605161005282, 11.500964372296485, 39.04093936678493, 40.86463807271681, 8.800631706892391, 10.353054402023366, 114.15340250225655, 21.955670908186637, 29.902837317559893, 112.76607618601395, 110.05868402802092, 12.496510887020332, 44.43630057937237, 56.3886370533294, 27.029059986337167, 63.81226875665853, 33.53023106064956, 39.10008408445795, 25.068651812728156, 50.861296005128715, 97.6132834114031, 27.331072526334776, 28.872309459258087, 34.177728632789886, 38.296724466469165, 43.961130616634556, 37.90931410331278, 4.607445578951912, 3.7164410098223977, 2.834591260288798, 2.8346299832125266, 2.8334430805735913, 2.833597972268506, 2.832659616767921, 2.830663735218533, 2.8303425450759785, 2.8222926796059915, 2.7704802069463907, 4.089967735306562, 2.681132313552591, 2.6560818838549616, 1.949859054359049, 1.9498532008938343, 1.9497238243037025, 1.9497185711938942, 1.9495001919147275, 1.9490845958844782, 1.949073639398307, 1.9489796837771671, 1.9488684679380863, 1.9484197022716199, 1.947407953322573, 1.9463738411346287, 1.9452274624856418, 1.9447063539926748, 1.943686200067935, 1.9433573553939456, 5.136084329784478, 4.524455149136769, 83.58540843876483, 19.824299861468567, 48.474357316205676, 3.7055028344910466, 6.584244231384448, 17.366668158879122, 5.238147750690999, 7.149183471879746, 34.48470032680743, 270.2907816514085, 4.622245240258798, 222.26110038063922, 22.07840867978405, 262.32584245724576, 81.44449303023964, 106.48130186440306, 36.3661181143648, 8.156040725073284, 21.331943577114235, 12.097659738864994, 16.95123182316795, 13.62179401682036, 52.973036506135884, 116.37275754427033, 21.09701009796466, 41.64036283423568, 36.51663682049697, 68.07769997239134, 77.86454972620494, 25.056457265912073, 134.42201539197399, 51.08595616638305, 49.488885910785314, 23.71035718308618, 20.774424729445055, 23.133612553874634, 61.67122577975745, 41.03383577401134, 37.21004251232758, 25.279679011788833, 33.186912044265, 31.46984274998725, 25.761956517054127, 23.92509470635625, 22.993321502450055, 23.675853557155538, 23.138475432668454], \"Total\": [374.0, 763.0, 832.0, 656.0, 687.0, 626.0, 368.0, 127.0, 316.0, 580.0, 215.0, 594.0, 584.0, 517.0, 79.0, 312.0, 560.0, 407.0, 272.0, 71.0, 86.0, 199.0, 176.0, 81.0, 102.0, 101.0, 164.0, 49.0, 135.0, 173.0, 9.431481119874062, 7.541279522250227, 7.541172190803507, 7.534189648142691, 6.593707596145509, 6.592484962135976, 6.590599360659608, 5.64708388464103, 6.5935833218707005, 5.646636744864258, 5.645695903424064, 5.646123773429789, 5.643937889561277, 21.720652107574242, 9.418669450224193, 5.632991998707324, 5.646512839499572, 4.700011923825154, 4.699986873458016, 4.69949201057862, 4.699625536967493, 4.699803549587208, 4.699872264060697, 4.6994263142121815, 4.699710554880308, 4.698942997536094, 5.629246477957938, 4.699181031440376, 4.699362506794819, 4.6990236062880495, 22.632833869767982, 19.83578840085223, 17.914768224302936, 9.425249815903511, 124.56046466593449, 13.102307168854097, 131.84750923263408, 101.19999676924431, 28.725140540295843, 105.50167603804188, 50.65024759545501, 13.884652822234957, 76.40402987438421, 192.46781095533976, 124.87936076090396, 189.84756094684883, 1695.0204791001688, 53.25743385425327, 68.55076820183639, 822.0056481231671, 517.746007495761, 23.23413794771212, 122.23628301839271, 594.2367520882823, 80.65969324302748, 53.51884885209165, 206.67824560531463, 206.0885268675007, 580.2627144113692, 312.16468556341044, 158.30288701116388, 74.1781357414415, 626.1297750911057, 560.7813158901021, 263.7761210251643, 272.26028868834857, 388.88035530806314, 104.89056670868514, 832.9171015124052, 584.9862499249222, 228.35170453907062, 143.20099801242569, 375.7817303093959, 162.09397434752069, 197.92503359292323, 407.1484254936837, 656.2568993530757, 763.3222479471917, 350.79579637254045, 14.135036958753515, 8.46963036889601, 7.526510778616562, 7.52700699531351, 7.525711482495924, 6.5808987238130205, 6.580470936742749, 11.268737513545869, 7.51220661828941, 5.634939322828122, 5.634870304240991, 4.691679770599954, 4.6914478720433355, 4.690327397182237, 4.690998665566232, 6.572933743151128, 5.628535187798912, 4.690392059143556, 4.685983598225187, 9.417294296793925, 3.746196690958551, 3.7460135736478115, 3.746078894352367, 3.7453989365130407, 3.745730190457231, 3.7456725931667765, 3.744023959681838, 3.7442350765415306, 9.339451792249523, 3.7435111850372134, 50.86960376407328, 17.8808267237406, 26.19139768945508, 65.11923144388803, 16.68428388325578, 7.437274267472603, 7.466371221675526, 18.750866758278157, 50.733492101132065, 173.22905312094545, 560.7813158901021, 176.38938426939234, 135.47713438872978, 312.16468556341044, 272.26028868834857, 517.746007495761, 687.4858686337836, 1695.0204791001688, 375.7817303093959, 50.754081971678644, 206.0885268675007, 228.35170453907062, 350.79579637254045, 388.88035530806314, 205.47274082817373, 59.38402261394863, 111.5819121171662, 93.76443899350666, 37.43451444405001, 584.9862499249222, 656.2568993530757, 822.0056481231671, 151.83550372374404, 263.7761210251643, 156.83837222219785, 832.9171015124052, 155.4609630926337, 594.2367520882823, 170.14810341759383, 407.1484254936837, 580.2627144113692, 763.3222479471917, 316.0413761992626, 197.92503359292323, 626.1297750911057, 368.02006901678027, 7.384560659470398, 6.459755898518146, 6.4573074067309335, 13.876401314847179, 5.53416292950825, 5.535005525099246, 4.609283463563859, 4.609449428770236, 4.606170947583354, 4.608217520804426, 3.6851036451787977, 3.684397683226764, 3.685146387699672, 3.685073125315825, 3.684804907146892, 3.6847854931447532, 3.685032119613065, 3.685050211826713, 3.684464746448819, 3.6849188822113375, 3.684039983873056, 3.6846780742145455, 3.678971012692362, 3.686269488326367, 4.595454199085872, 3.6867041464831143, 12.003742481178346, 7.4044155203832664, 7.400134676950989, 2.7601840296056803, 13.641483700673044, 30.65946785759466, 38.16342680236186, 22.327166571660108, 40.65829412043093, 45.69142814626665, 584.9862499249222, 13.948163784237156, 41.80828251426594, 40.1710059371432, 6.477631522957432, 16.7273502226749, 151.83550372374404, 78.87345704394718, 10.881782774136454, 28.639731981452435, 153.77194487002973, 57.64574377237239, 128.16472326863416, 48.476548615085264, 407.1484254936837, 1695.0204791001688, 155.4609630926337, 350.79579637254045, 822.0056481231671, 137.31640269392298, 375.7817303093959, 40.89815400284636, 832.9171015124052, 626.1297750911057, 263.7761210251643, 97.59410343140743, 156.83837222219785, 158.30288701116388, 130.14141635393523, 126.86905675679238, 580.2627144113692, 517.746007495761, 560.7813158901021, 388.88035530806314, 228.35170453907062, 656.2568993530757, 763.3222479471917, 167.74382676589929, 687.4858686337836, 272.26028868834857, 316.0413761992626, 594.2367520882823, 312.16468556341044, 7.740387148025225, 374.1747475803202, 29.391600868405874, 4.3254571043496375, 4.326609494033948, 4.3261069437480515, 5.201494102978038, 3.4717628987809985, 3.4717640579768, 3.471833089271112, 3.471575160509219, 3.471902113693411, 3.4716688408526877, 3.470612427452082, 3.4718452245663878, 3.4729923118159047, 3.4694428926239325, 3.4719186740710173, 6.074827379062818, 2.618024292214623, 2.6179906432272495, 2.617990036887605, 2.6179898400099657, 2.617985841922722, 2.6179310819842505, 2.6180156273705926, 2.618010896837893, 2.6180183073619436, 2.618016861638949, 2.6180460736661435, 35.11236981568456, 17.54721251948743, 7.011400754046981, 38.85188186042326, 8.81006805313291, 56.82964472378656, 368.02006901678027, 14.88447734793846, 5.270692690845281, 5.270714824353678, 5.270913500864835, 626.1297750911057, 14.820312036846637, 763.3222479471917, 580.2627144113692, 687.4858686337836, 81.65757400456918, 594.2367520882823, 126.46666197180662, 102.96180777763104, 24.230691601061444, 126.3910867368388, 136.35779574281023, 16.920075412660232, 21.270773052095493, 656.2568993530757, 62.55652613049481, 97.93959942728252, 832.9171015124052, 822.0056481231671, 28.795525297288783, 215.31877720435722, 316.0413761992626, 98.8272509475479, 407.1484254936837, 150.44021297396537, 197.92503359292323, 93.78184834363296, 388.88035530806314, 1695.0204791001688, 113.25620785201099, 130.14141635393523, 206.67824560531463, 350.79579637254045, 584.9862499249222, 375.7817303093959, 5.344127521180419, 4.457419353508973, 3.5707975275298, 3.5709274229251564, 3.570751928769727, 3.570998784077774, 3.5708242635484044, 3.5706446947697374, 3.5708399145875087, 3.5708667919811683, 3.5732992332632025, 5.376281733750115, 3.5802979862801014, 3.5818679704653102, 2.684163136443725, 2.6841576886247327, 2.6840502402104547, 2.6840500064757804, 2.684205745251549, 2.684132184548964, 2.684134958502733, 2.6841130879804385, 2.6841449381742972, 2.684019551176134, 2.6841644596977696, 2.6839245987820837, 2.6838569314182594, 2.6840086286921667, 2.683693915286488, 2.6838860412663283, 7.104911963186839, 6.289150018751952, 127.43728873169148, 30.775555756845442, 79.69794626708517, 5.310866071831854, 9.933142732265296, 30.81295402793704, 8.136423210142226, 11.617234944764743, 71.04355955867746, 763.3222479471917, 7.231423928792077, 656.2568993530757, 44.868769970002845, 832.9171015124052, 215.31877720435722, 316.0413761992626, 86.59489714999776, 14.2272104234729, 49.383712195710594, 24.477406804260376, 39.04078686563017, 30.197532012716362, 199.2629456273701, 687.4858686337836, 60.56241456391757, 164.14897835838877, 149.74080870909336, 407.1484254936837, 594.2367520882823, 102.70630924191826, 1695.0204791001688, 368.02006901678027, 374.1747475803202, 102.12868023239349, 81.65757400456918, 102.96180777763104, 822.0056481231671, 560.7813158901021, 584.9862499249222, 170.14810341759383, 626.1297750911057, 580.2627144113692, 388.88035530806314, 192.46781095533976, 132.25409946589946, 350.79579637254045, 167.74382676589929], \"Category\": [\"Default\", \"Default\", \"Default\", \"Default\", \"Default\", \"Default\", \"Default\", \"Default\", \"Default\", \"Default\", \"Default\", \"Default\", \"Default\", \"Default\", \"Default\", \"Default\", \"Default\", \"Default\", \"Default\", \"Default\", \"Default\", \"Default\", \"Default\", \"Default\", \"Default\", \"Default\", \"Default\", \"Default\", \"Default\", \"Default\", \"Topic1\", \"Topic1\", \"Topic1\", \"Topic1\", \"Topic1\", \"Topic1\", \"Topic1\", \"Topic1\", \"Topic1\", \"Topic1\", \"Topic1\", \"Topic1\", \"Topic1\", \"Topic1\", \"Topic1\", \"Topic1\", \"Topic1\", \"Topic1\", \"Topic1\", \"Topic1\", \"Topic1\", \"Topic1\", \"Topic1\", \"Topic1\", \"Topic1\", \"Topic1\", \"Topic1\", \"Topic1\", \"Topic1\", \"Topic1\", \"Topic1\", \"Topic1\", \"Topic1\", \"Topic1\", \"Topic1\", \"Topic1\", \"Topic1\", \"Topic1\", \"Topic1\", \"Topic1\", \"Topic1\", \"Topic1\", \"Topic1\", \"Topic1\", \"Topic1\", \"Topic1\", \"Topic1\", \"Topic1\", \"Topic1\", \"Topic1\", \"Topic1\", \"Topic1\", \"Topic1\", \"Topic1\", \"Topic1\", \"Topic1\", \"Topic1\", \"Topic1\", \"Topic1\", \"Topic1\", \"Topic1\", \"Topic1\", \"Topic1\", \"Topic1\", \"Topic1\", \"Topic1\", \"Topic1\", \"Topic1\", \"Topic1\", \"Topic1\", \"Topic1\", \"Topic1\", \"Topic1\", \"Topic1\", \"Topic1\", \"Topic1\", \"Topic1\", \"Topic1\", \"Topic1\", \"Topic2\", \"Topic2\", \"Topic2\", \"Topic2\", \"Topic2\", \"Topic2\", \"Topic2\", \"Topic2\", \"Topic2\", \"Topic2\", \"Topic2\", \"Topic2\", \"Topic2\", \"Topic2\", \"Topic2\", \"Topic2\", \"Topic2\", \"Topic2\", \"Topic2\", \"Topic2\", \"Topic2\", \"Topic2\", \"Topic2\", \"Topic2\", \"Topic2\", \"Topic2\", \"Topic2\", \"Topic2\", \"Topic2\", \"Topic2\", \"Topic2\", \"Topic2\", \"Topic2\", \"Topic2\", \"Topic2\", \"Topic2\", \"Topic2\", \"Topic2\", \"Topic2\", \"Topic2\", \"Topic2\", \"Topic2\", \"Topic2\", \"Topic2\", \"Topic2\", \"Topic2\", \"Topic2\", \"Topic2\", \"Topic2\", \"Topic2\", \"Topic2\", \"Topic2\", \"Topic2\", \"Topic2\", \"Topic2\", \"Topic2\", \"Topic2\", \"Topic2\", \"Topic2\", \"Topic2\", \"Topic2\", \"Topic2\", \"Topic2\", \"Topic2\", \"Topic2\", \"Topic2\", \"Topic2\", \"Topic2\", \"Topic2\", \"Topic2\", \"Topic2\", \"Topic2\", \"Topic2\", \"Topic2\", \"Topic2\", \"Topic2\", \"Topic3\", \"Topic3\", \"Topic3\", \"Topic3\", \"Topic3\", \"Topic3\", \"Topic3\", \"Topic3\", \"Topic3\", \"Topic3\", \"Topic3\", \"Topic3\", \"Topic3\", \"Topic3\", \"Topic3\", \"Topic3\", \"Topic3\", \"Topic3\", \"Topic3\", \"Topic3\", \"Topic3\", \"Topic3\", \"Topic3\", \"Topic3\", \"Topic3\", \"Topic3\", \"Topic3\", \"Topic3\", \"Topic3\", \"Topic3\", \"Topic3\", \"Topic3\", \"Topic3\", \"Topic3\", \"Topic3\", \"Topic3\", \"Topic3\", \"Topic3\", \"Topic3\", \"Topic3\", \"Topic3\", \"Topic3\", \"Topic3\", \"Topic3\", \"Topic3\", \"Topic3\", \"Topic3\", \"Topic3\", \"Topic3\", \"Topic3\", \"Topic3\", \"Topic3\", \"Topic3\", \"Topic3\", \"Topic3\", \"Topic3\", \"Topic3\", \"Topic3\", \"Topic3\", \"Topic3\", \"Topic3\", \"Topic3\", \"Topic3\", \"Topic3\", \"Topic3\", \"Topic3\", \"Topic3\", \"Topic3\", \"Topic3\", \"Topic3\", \"Topic3\", \"Topic3\", \"Topic3\", \"Topic3\", \"Topic3\", \"Topic3\", \"Topic3\", \"Topic3\", \"Topic3\", \"Topic4\", \"Topic4\", \"Topic4\", \"Topic4\", \"Topic4\", \"Topic4\", \"Topic4\", \"Topic4\", \"Topic4\", \"Topic4\", \"Topic4\", \"Topic4\", \"Topic4\", \"Topic4\", \"Topic4\", \"Topic4\", \"Topic4\", \"Topic4\", \"Topic4\", \"Topic4\", \"Topic4\", \"Topic4\", \"Topic4\", \"Topic4\", \"Topic4\", \"Topic4\", \"Topic4\", \"Topic4\", \"Topic4\", \"Topic4\", \"Topic4\", \"Topic4\", \"Topic4\", \"Topic4\", \"Topic4\", \"Topic4\", \"Topic4\", \"Topic4\", \"Topic4\", \"Topic4\", \"Topic4\", \"Topic4\", \"Topic4\", \"Topic4\", \"Topic4\", \"Topic4\", \"Topic4\", \"Topic4\", \"Topic4\", \"Topic4\", \"Topic4\", \"Topic4\", \"Topic4\", \"Topic4\", \"Topic4\", \"Topic4\", \"Topic4\", \"Topic4\", \"Topic4\", \"Topic4\", \"Topic4\", \"Topic4\", \"Topic4\", \"Topic4\", \"Topic4\", \"Topic4\", \"Topic4\", \"Topic4\", \"Topic4\", \"Topic4\", \"Topic4\", \"Topic4\", \"Topic4\", \"Topic4\", \"Topic4\", \"Topic4\", \"Topic5\", \"Topic5\", \"Topic5\", \"Topic5\", \"Topic5\", \"Topic5\", \"Topic5\", \"Topic5\", \"Topic5\", \"Topic5\", \"Topic5\", \"Topic5\", \"Topic5\", \"Topic5\", \"Topic5\", \"Topic5\", \"Topic5\", \"Topic5\", \"Topic5\", \"Topic5\", \"Topic5\", \"Topic5\", \"Topic5\", \"Topic5\", \"Topic5\", \"Topic5\", \"Topic5\", \"Topic5\", \"Topic5\", \"Topic5\", \"Topic5\", \"Topic5\", \"Topic5\", \"Topic5\", \"Topic5\", \"Topic5\", \"Topic5\", \"Topic5\", \"Topic5\", \"Topic5\", \"Topic5\", \"Topic5\", \"Topic5\", \"Topic5\", \"Topic5\", \"Topic5\", \"Topic5\", \"Topic5\", \"Topic5\", \"Topic5\", \"Topic5\", \"Topic5\", \"Topic5\", \"Topic5\", \"Topic5\", \"Topic5\", \"Topic5\", \"Topic5\", \"Topic5\", \"Topic5\", \"Topic5\", \"Topic5\", \"Topic5\", \"Topic5\", \"Topic5\", \"Topic5\", \"Topic5\", \"Topic5\", \"Topic5\", \"Topic5\", \"Topic5\", \"Topic5\", \"Topic5\", \"Topic5\", \"Topic5\", \"Topic5\", \"Topic5\", \"Topic5\", \"Topic5\"], \"logprob\": [30.0, 29.0, 28.0, 27.0, 26.0, 25.0, 24.0, 23.0, 22.0, 21.0, 20.0, 19.0, 18.0, 17.0, 16.0, 15.0, 14.0, 13.0, 12.0, 11.0, 10.0, 9.0, 8.0, 7.0, 6.0, 5.0, 4.0, 3.0, 2.0, 1.0, -7.2857, -7.5253, -7.5278, -7.5417, -7.6779, -7.6788, -7.6813, -7.85, -7.696, -7.8514, -7.8518, -7.8541, -7.8552, -6.5215, -7.3578, -7.8785, -7.8769, -8.0626, -8.0629, -8.0633, -8.0633, -8.0633, -8.0635, -8.0642, -8.0646, -8.0648, -7.8858, -8.0665, -8.0667, -8.0673, -6.5132, -6.6611, -6.7861, -7.4086, -4.9968, -7.1044, -4.9748, -5.2194, -6.4217, -5.275, -5.9425, -7.0952, -5.5826, -4.7966, -5.2183, -4.8638, -3.0429, -5.95, -5.739, -3.6794, -4.1009, -6.6693, -5.334, -4.0897, -5.7033, -6.0306, -5.0033, -5.0383, -4.2751, -4.738, -5.2447, -5.8186, -4.2838, -4.3845, -4.9697, -4.964, -4.758, -5.601, -4.3484, -4.5788, -5.1484, -5.43, -4.9423, -5.3886, -5.326, -5.0699, -4.9831, -5.1261, -5.2942, -6.8024, -7.34, -7.4671, -7.4676, -7.4696, -7.6215, -7.627, -7.0891, -7.5056, -7.7942, -7.7944, -8.0051, -8.0056, -8.0076, -8.0076, -7.6719, -7.8301, -8.0127, -8.0182, -7.3462, -8.277, -8.2773, -8.2779, -8.2787, -8.2788, -8.2792, -8.2871, -8.2907, -7.378, -8.2923, -5.6867, -6.7292, -6.3784, -5.5472, -6.8629, -7.6291, -7.626, -6.768, -5.8663, -4.7445, -3.7198, -4.7755, -5.0211, -4.3, -4.4341, -3.9733, -3.7961, -3.05, -4.315, -6.0005, -4.8751, -4.801, -4.4631, -4.3899, -4.8967, -5.9016, -5.4403, -5.597, -6.2784, -4.28, -4.2477, -4.1617, -5.3266, -4.9643, -5.3352, -4.3062, -5.3531, -4.6098, -5.3416, -4.8861, -4.7454, -4.6435, -5.2197, -5.3399, -5.2377, -5.2955, -7.0785, -7.2247, -7.2279, -6.4677, -7.402, -7.4032, -7.6138, -7.6193, -7.6241, -7.6591, -7.8844, -7.8853, -7.8851, -7.8855, -7.8858, -7.8863, -7.8863, -7.8864, -7.8868, -7.8871, -7.8879, -7.8904, -7.908, -7.9162, -7.7034, -7.9248, -6.752, -7.2432, -7.2721, -8.2593, -6.6796, -5.8881, -5.8174, -6.3134, -5.8246, -5.7305, -3.6233, -6.7748, -5.8722, -5.9195, -7.4256, -6.674, -4.9306, -5.4614, -7.0343, -6.2799, -4.9725, -5.7552, -5.1498, -5.8888, -4.3034, -3.2712, -5.0568, -4.4863, -3.9814, -5.2377, -4.5638, -6.0618, -4.068, -4.2965, -4.8591, -5.5064, -5.2317, -5.2402, -5.3919, -5.4169, -4.5819, -4.6748, -4.7517, -4.9339, -5.2092, -4.8188, -4.823, -5.3751, -4.997, -5.3045, -5.2757, -5.2434, -5.3241, -6.8397, -3.0054, -5.5756, -7.5073, -7.5106, -7.5168, -7.3585, -7.7793, -7.7793, -7.7797, -7.7798, -7.7802, -7.7811, -7.7832, -7.7846, -7.7846, -7.794, -7.7967, -7.2626, -8.154, -8.1541, -8.1541, -8.1541, -8.1541, -8.1541, -8.1541, -8.1541, -8.1541, -8.1542, -8.1542, -5.5657, -6.2551, -7.1761, -5.5543, -7.0144, -5.2948, -3.584, -6.5508, -7.5084, -7.5087, -7.5096, -3.2671, -6.603, -3.301, -3.5391, -3.4944, -5.2211, -3.8052, -5.023, -5.2458, -6.3414, -5.1192, -5.0735, -6.609, -6.4465, -4.0462, -5.6948, -5.3858, -4.0585, -4.0828, -6.2583, -4.9897, -4.7515, -5.4869, -4.6278, -5.2713, -5.1177, -5.5622, -4.8547, -4.2028, -5.4758, -5.4209, -5.2522, -5.1384, -5.0005, -5.1486, -7.0204, -7.2353, -7.5062, -7.5062, -7.5066, -7.5066, -7.5069, -7.5076, -7.5077, -7.5106, -7.5291, -7.1396, -7.5619, -7.5713, -7.8804, -7.8804, -7.8804, -7.8804, -7.8805, -7.8808, -7.8808, -7.8808, -7.8809, -7.8811, -7.8816, -7.8821, -7.8827, -7.883, -7.8835, -7.8837, -6.9118, -7.0386, -4.1222, -5.5612, -4.6671, -7.2383, -6.6634, -5.6936, -6.8921, -6.5811, -5.0076, -2.9486, -7.0172, -3.1443, -5.4535, -2.9785, -4.1482, -3.8801, -4.9545, -6.4494, -5.4879, -6.0551, -5.7178, -5.9364, -4.5783, -3.7913, -5.499, -4.819, -4.9503, -4.3275, -4.1931, -5.327, -3.6471, -4.6146, -4.6464, -5.3822, -5.5144, -5.4068, -4.4263, -4.8337, -4.9315, -5.3181, -5.046, -5.0991, -5.2992, -5.3732, -5.4129, -5.3837, -5.4066], \"loglift\": [30.0, 29.0, 28.0, 27.0, 26.0, 25.0, 24.0, 23.0, 22.0, 21.0, 20.0, 19.0, 18.0, 17.0, 16.0, 15.0, 14.0, 13.0, 12.0, 11.0, 10.0, 9.0, 8.0, 7.0, 6.0, 5.0, 4.0, 3.0, 2.0, 1.0, 1.1632, 1.1473, 1.1448, 1.1318, 1.129, 1.1282, 1.126, 1.1118, 1.1109, 1.1105, 1.1103, 1.1079, 1.1072, 1.0932, 1.0924, 1.0858, 1.0851, 1.0828, 1.0825, 1.0823, 1.0822, 1.0821, 1.082, 1.0814, 1.0809, 1.0809, 1.0792, 1.0791, 1.0788, 1.0784, 1.0603, 1.0444, 1.0212, 1.0409, 0.8714, 1.0158, 0.8365, 0.8565, 0.9135, 0.7592, 0.8255, 0.967, 0.7743, 0.6364, 0.6473, 0.583, 0.2146, 0.7678, 0.7264, 0.3018, 0.3426, 0.878, 0.553, 0.216, 0.5995, 0.6824, 0.3585, 0.3264, 0.0544, 0.2115, 0.3838, 0.5679, -0.0304, -0.0209, 0.1482, 0.1222, -0.0283, 0.439, -0.3804, -0.2574, 0.1137, 0.2987, -0.1784, 0.2162, 0.0791, -0.3862, -0.7767, -1.0708, -0.4614, 1.2419, 1.2165, 1.2074, 1.2069, 1.205, 1.1873, 1.1819, 1.1818, 1.1708, 1.1698, 1.1696, 1.1421, 1.1417, 1.1399, 1.1398, 1.1381, 1.1351, 1.1348, 1.1302, 1.1043, 1.0953, 1.095, 1.0943, 1.0937, 1.0935, 1.0932, 1.0857, 1.082, 1.0807, 1.0807, 1.077, 1.08, 1.0492, 0.9695, 1.0156, 1.0574, 1.0566, 0.9937, 0.9001, 0.7938, 0.6438, 0.7447, 0.763, 0.6494, 0.6521, 0.4701, 0.3638, 0.2076, 0.449, 0.7654, 0.4896, 0.461, 0.3696, 0.3398, 0.471, 0.7073, 0.5379, 0.5552, 0.792, 0.0414, -0.0413, -0.1804, 0.3436, 0.1535, 0.3025, -0.3382, 0.2935, -0.3041, 0.2147, -0.2023, -0.4159, -0.5882, -0.2826, 0.0652, -0.9842, -0.5107, 1.6151, 1.6027, 1.5999, 1.595, 1.58, 1.5787, 1.5511, 1.5455, 1.5415, 1.506, 1.5043, 1.5036, 1.5036, 1.5031, 1.503, 1.5024, 1.5024, 1.5023, 1.5021, 1.5016, 1.501, 1.4984, 1.4823, 1.4722, 1.4645, 1.4635, 1.4557, 1.4477, 1.4193, 1.4184, 1.4003, 1.382, 1.2337, 1.2737, 1.1632, 1.1405, 0.6981, 1.2828, 1.0877, 1.0803, 1.3991, 1.2019, 0.7396, 0.8637, 1.2715, 1.0583, 0.685, 0.8835, 0.6898, 0.9231, 0.3804, -0.0137, 0.5897, 0.3465, -0.0002, 0.5329, 0.2002, 0.9201, -0.1, -0.043, 0.2588, 0.6058, 0.4061, 0.3883, 0.4324, 0.4329, -0.2525, -0.2313, -0.3881, -0.2042, 0.0529, -0.6124, -0.7677, 0.1955, -0.8371, -0.2183, -0.3386, -0.9377, -0.3747, 1.8069, 1.7628, 1.7366, 1.7212, 1.7175, 1.7115, 1.6855, 1.669, 1.669, 1.6686, 1.6685, 1.6681, 1.6672, 1.6654, 1.6637, 1.6633, 1.6549, 1.6516, 1.6262, 1.5765, 1.5765, 1.5765, 1.5765, 1.5765, 1.5765, 1.5765, 1.5765, 1.5764, 1.5764, 1.5764, 1.5687, 1.573, 1.5693, 1.4789, 1.5027, 1.3581, 1.2008, 1.4418, 1.5224, 1.5221, 1.5211, 0.9863, 1.394, 0.7543, 0.7903, 0.6655, 1.0694, 0.5005, 0.83, 0.8128, 1.164, 0.7344, 0.7042, 1.2555, 1.1891, 0.1602, 0.8621, 0.7228, -0.0904, -0.1015, 1.0744, 0.3311, 0.1856, 0.6127, 0.056, 0.4081, 0.2874, 0.5898, -0.125, -0.9453, 0.4876, 0.4034, 0.1096, -0.3057, -0.6791, -0.3846, 1.9965, 1.9631, 1.914, 1.9139, 1.9136, 1.9136, 1.9133, 1.9126, 1.9125, 1.9096, 1.8904, 1.8714, 1.8556, 1.8458, 1.8252, 1.8252, 1.8252, 1.8252, 1.825, 1.8249, 1.8248, 1.8248, 1.8247, 1.8246, 1.824, 1.8235, 1.823, 1.8227, 1.8222, 1.822, 1.8204, 1.8155, 1.7231, 1.705, 1.6476, 1.7849, 1.7337, 1.5715, 1.7045, 1.6594, 1.4221, 1.1067, 1.6973, 1.0622, 1.4357, 0.9895, 1.1727, 1.057, 1.2773, 1.5885, 1.3054, 1.4401, 1.3106, 1.3488, 0.82, 0.3686, 1.0903, 0.7731, 0.7337, 0.3563, 0.1125, 0.7341, -0.3896, 0.1702, 0.1219, 0.6845, 0.776, 0.6518, -0.4451, -0.4701, -0.6102, 0.2382, -0.7925, -0.7696, -0.5695, 0.0599, 0.3953, -0.5509, 0.1639]}, \"token.table\": {\"Topic\": [4, 5, 1, 3, 4, 5, 4, 5, 1, 2, 3, 4, 5, 4, 5, 4, 3, 4, 3, 3, 2, 3, 4, 5, 5, 1, 2, 3, 4, 5, 2, 3, 4, 3, 1, 2, 3, 4, 5, 4, 1, 4, 5, 1, 2, 3, 4, 5, 5, 1, 2, 3, 4, 5, 5, 4, 5, 1, 4, 5, 1, 2, 5, 1, 4, 4, 5, 4, 3, 4, 4, 1, 3, 4, 1, 2, 3, 4, 5, 1, 2, 3, 4, 5, 1, 2, 3, 4, 5, 3, 5, 5, 1, 2, 3, 4, 5, 1, 2, 3, 4, 5, 1, 1, 2, 3, 4, 5, 2, 3, 1, 2, 3, 4, 5, 1, 2, 3, 4, 1, 2, 3, 4, 5, 2, 3, 3, 4, 1, 2, 3, 4, 5, 1, 2, 4, 3, 1, 2, 1, 2, 2, 5, 1, 2, 3, 4, 1, 2, 3, 4, 5, 1, 2, 3, 4, 5, 5, 2, 5, 2, 2, 3, 4, 1, 2, 3, 4, 5, 2, 1, 2, 3, 4, 2, 1, 2, 3, 4, 1, 3, 5, 1, 2, 3, 3, 3, 1, 2, 3, 4, 5, 1, 2, 3, 4, 5, 3, 1, 2, 3, 5, 3, 1, 3, 4, 5, 1, 4, 3, 4, 5, 1, 2, 3, 4, 5, 1, 3, 4, 5, 4, 1, 2, 3, 4, 5, 1, 2, 3, 4, 5, 1, 2, 3, 4, 5, 2, 5, 1, 2, 3, 5, 1, 2, 3, 5, 5, 1, 1, 2, 3, 4, 5, 1, 2, 3, 4, 5, 4, 2, 1, 2, 4, 5, 1, 2, 3, 4, 1, 1, 4, 2, 1, 5, 1, 2, 3, 4, 5, 1, 2, 3, 4, 5, 3, 1, 2, 4, 5, 1, 2, 3, 4, 5, 1, 2, 3, 4, 5, 1, 2, 3, 4, 5, 1, 2, 3, 5, 1, 2, 3, 4, 5, 1, 2, 3, 4, 5, 3, 3, 1, 2, 3, 4, 5, 1, 2, 3, 4, 5, 3, 1, 4, 1, 2, 3, 4, 5, 2, 1, 2, 3, 4, 3, 2, 5, 2, 1, 2, 3, 4, 1, 2, 3, 4, 5, 1, 3, 1, 2, 3, 4, 5, 2, 4, 1, 2, 3, 4, 5, 1, 1, 2, 3, 4, 5, 5, 1, 4, 2, 1, 2, 2, 1, 2, 3, 4, 5, 4, 1, 3, 4, 5, 1, 2, 1, 1, 2, 1, 2, 4, 5, 1, 2, 3, 4, 5, 1, 1, 2, 3, 1, 1, 2, 3, 4, 5, 5, 1, 2, 3, 4, 5, 5, 1, 2, 3, 4, 5, 1, 2, 3, 4, 5, 1, 2, 3, 4, 5, 1, 2, 3, 5, 1, 2, 3, 4, 5, 2, 3, 1, 2, 3, 4, 5, 1, 2, 1, 2, 3, 4, 5, 1, 2, 3, 4, 5, 2, 2, 2, 5, 1, 1, 2, 3, 4, 5, 1, 2, 3, 4, 5, 2, 3, 4, 5, 1, 2, 3, 4, 5, 2, 5, 3, 1, 2, 3, 4, 1, 2, 3, 5, 4, 1, 2, 3, 1, 2, 3, 4, 5, 1, 3, 4, 3, 1, 2, 3, 4, 5, 1, 2, 3, 1, 1, 2, 3, 4, 5, 1, 5, 1, 2, 3, 4, 2, 1, 2, 3, 4, 5, 2, 1, 2, 3, 4, 5, 5, 1, 2, 3, 4, 5, 1, 2, 3, 4, 5, 1, 2, 3, 4, 5, 1, 2, 4, 1, 2, 3, 4, 5, 1, 2, 3, 4, 5, 1, 2, 3, 4, 5, 3, 5, 1, 4, 1, 2, 3, 4, 1, 2, 3, 4, 5, 1, 2, 3, 4, 5, 4, 1, 2, 3, 4, 5, 1, 2, 3, 4, 5, 3, 1, 2, 3, 4, 5, 4, 1, 1, 1, 4, 1, 2, 3, 3, 3, 1, 3, 1, 2, 3, 4, 5, 5, 2, 1, 1, 2, 3, 4, 5, 2, 5, 5, 2, 1, 3, 1, 2, 3, 4, 5, 1, 2, 5, 1, 2, 3, 4, 5, 5, 1, 1, 2, 4, 5, 1, 2, 4, 1, 2, 3, 4, 1, 2, 3, 4, 5, 1, 2, 3, 4, 5, 5, 4, 1, 2, 3, 4, 5, 1, 2, 3, 1, 2, 3, 4, 5, 1, 2, 3, 4, 5, 2, 1, 1, 2, 3, 4, 5, 1, 2, 3, 4, 5, 1, 2, 4, 1, 2, 3, 4, 5, 1, 2, 3, 1, 2, 3, 4, 5, 4, 1, 2, 3, 4, 5, 1, 2, 3, 4, 5, 1, 1, 2, 3, 4, 5, 2, 1, 2, 1, 2, 3, 4, 2, 3, 4, 5, 1, 2, 3, 5, 1, 2, 3, 4, 5, 4, 4, 3, 2, 3, 4, 5, 1, 2, 3, 5, 1, 2, 3, 4, 5, 1, 2, 3, 4, 5, 1, 2, 3, 4, 5, 1, 2, 3, 4, 5, 1, 4, 1, 4, 1, 2, 4], \"Freq\": [0.14074769753395505, 0.7037384876697752, 0.08607900285692731, 0.17215800571385462, 0.17215800571385462, 0.6025530199984911, 0.8641140209707325, 0.8401421572673072, 0.04701286584887355, 0.1880514633954942, 0.04701286584887355, 0.47012865848873553, 0.1880514633954942, 0.9245114460909132, 0.7451540872931312, 0.9246188436882424, 0.9288276669055541, 0.7639387606887565, 0.8684002494737232, 0.9034790019173298, 0.07028784773929683, 0.07028784773929683, 0.2108635432178905, 0.5623027819143747, 0.8401384749129953, 0.12981553136298904, 0.12981553136298904, 0.12981553136298904, 0.03245388284074726, 0.5517160082927034, 0.7192397398633997, 0.059936644988616644, 0.17980993496584993, 0.8138308958420872, 0.1766687815545455, 0.33506148225862076, 0.12184053900313481, 0.10965648510282133, 0.2558651319065831, 0.7639448476960967, 0.9099756091802459, 0.8641610396705203, 0.9356064166102819, 0.0891488668549241, 0.06686165014119307, 0.2005849504235792, 0.15601051699611715, 0.4903187677020825, 0.8379190814552768, 0.2817566161732239, 0.05122847566785889, 0.15368542700357668, 0.07684271350178834, 0.4354420431768006, 0.7451881224645243, 0.18829320613145764, 0.7531728245258306, 0.8512406693695593, 0.8640968395833308, 0.8375518094851159, 0.13828535152232985, 0.13828535152232985, 0.6914267576116493, 0.18972838271085507, 0.7589135308434203, 0.9043475301859911, 0.8401591765109332, 0.7639446707626731, 0.9291798612136309, 0.864114309491975, 0.7639449051461509, 0.07330580909983142, 0.7330580909983142, 0.21991742729949426, 0.5122803319357396, 0.1348106136672999, 0.18873485913421986, 0.12132955230056991, 0.04044318410018997, 0.16465187249937316, 0.3819923441985457, 0.3754062692985708, 0.03951644939984955, 0.046102524299824484, 0.09934586703101042, 0.3973834681240417, 0.03311528901033681, 0.03311528901033681, 0.46361404614471524, 0.8140789223498524, 0.7451510549256627, 0.7451108268623731, 0.1047495836184099, 0.2444156951096231, 0.5237479180920495, 0.0349165278728033, 0.1047495836184099, 0.054928977771474034, 0.14909293966542952, 0.054928977771474034, 0.07846996824496291, 0.6591477332576884, 0.8510994040062222, 0.6823995095712443, 0.11239521334114612, 0.00802822952436758, 0.12845167238988128, 0.06422583619494064, 0.8873318692422847, 0.8141586547117217, 0.3568401082368911, 0.2694506939747953, 0.3058629499173352, 0.036412255942539905, 0.036412255942539905, 0.6719367803445018, 0.3063241204511699, 0.00988142324036032, 0.00988142324036032, 0.1165480701923637, 0.0776987134615758, 0.24280847956742435, 0.33021953221169714, 0.2233838012020304, 0.2867760991249907, 0.645246223031229, 0.8141001689398617, 0.8640755390973296, 0.39788726352884163, 0.44155781684298273, 0.13101165994242345, 0.014556851104713718, 0.014556851104713718, 0.7310669192563581, 0.06962542088155792, 0.20887626264467374, 0.7245893674291419, 0.8511316419863236, 0.8009242466821298, 0.10618761275629301, 0.8495009020503441, 0.8874108557395404, 0.08874108557395403, 0.5605501733213667, 0.3176450982154411, 0.037370011554757776, 0.056055017332136664, 0.194032434005386, 0.22104960836056634, 0.2603473165135559, 0.15719083261195826, 0.16701525965020567, 0.13104624131918002, 0.25904489563093724, 0.09599899073381793, 0.1737124594230991, 0.33828215782392984, 0.7451250876708873, 0.8036032259662469, 0.13393387099437448, 0.8873210009101834, 0.13505454917368523, 0.8103272950421114, 0.8641377209420587, 0.1891714229893577, 0.3783428459787154, 0.27587499185948, 0.11034999674379199, 0.055174998371895996, 0.8013866799679877, 0.21673133613446352, 0.5713826134454039, 0.17732563865547016, 0.019702848739496685, 0.8012769235202587, 0.2986206743255729, 0.4692610596544717, 0.06399014449833705, 0.15997536124584263, 0.08330735198359863, 0.7497661678523877, 0.08330735198359863, 0.22831446496440183, 0.03261635213777169, 0.7175597470309771, 0.9033414650313917, 0.8143234093909262, 0.23950073338025094, 0.42311796230511, 0.21821177930200641, 0.10112253187166151, 0.018627834818463963, 0.3348618780315331, 0.07175611672104282, 0.5262115226209806, 0.047837411147361876, 0.745196204979197, 0.8141543651826252, 0.19495992362917486, 0.09747996181458743, 0.06498664120972496, 0.6498664120972495, 0.8142443508901095, 0.7632243597350024, 0.07632243597350025, 0.07632243597350025, 0.840148447754565, 0.8512121523383691, 0.864079660589451, 0.1349499251451352, 0.6072746631531084, 0.2698998502902704, 0.355376507721173, 0.2343972710501354, 0.16634645042267673, 0.07561202291939852, 0.17390765271461658, 0.23640556572265928, 0.23640556572265928, 0.5319125228759835, 0.7440086286567951, 0.9247577547301623, 0.15504299022260218, 0.20250513008666404, 0.12656570630416503, 0.17719198882583104, 0.33539912170603736, 0.44808605268130663, 0.10487120381902922, 0.18114117023286863, 0.16207367862940877, 0.11440494962075914, 0.3336162487263386, 0.31466078004870573, 0.23125671786712107, 0.0454931248263189, 0.07961296844605807, 0.8009827660155728, 0.7451127064836228, 0.20667694313387613, 0.5757429130157978, 0.20667694313387613, 0.007381319397638433, 0.10666173600305903, 0.7466321520214132, 0.053330868001529516, 0.053330868001529516, 0.7451111941913562, 0.9282376562806153, 0.2372166666871301, 0.1739588889038954, 0.12651555556646937, 0.34001055558488646, 0.11860833334356505, 0.30403503355849165, 0.2265359073573075, 0.21461296486481765, 0.11326795367865375, 0.1371138386636335, 0.864093819267154, 0.8525731071983405, 0.09853109899734748, 0.3518967821333838, 0.05630348514134141, 0.478579623701402, 0.33391599668713434, 0.20237333132553598, 0.19225466475925918, 0.2732039972894736, 0.885906276404588, 0.18972043457664844, 0.7588817383065938, 0.8012317439136422, 0.15900399847648167, 0.7950199923824083, 0.0245952276560835, 0.049190455312167, 0.5656902360899205, 0.2705475042169185, 0.0737856829682505, 0.34330819649784355, 0.17165409824892178, 0.3589131145204728, 0.054617213079202385, 0.07022213110183163, 0.8142295303249886, 0.8394883340428451, 0.13255078958571237, 0.04418359652857079, 0.8395602506707351, 0.24722706623363983, 0.19424983775500274, 0.24722706623363983, 0.23839752815386697, 0.061806766558409956, 0.3350022648216367, 0.3350022648216367, 0.07640402531019785, 0.10579018889104318, 0.14693081790422663, 0.619631807463899, 0.15021377150639975, 0.09388360719149985, 0.01877672143829997, 0.1314370500680998, 0.6151507986852611, 0.24867798244723324, 0.1177948337907947, 0.013088314865643855, 0.3288179741668521, 0.5669275416669864, 0.09070840666671783, 0.005669275416669864, 0.011338550833339728, 0.17959166173443777, 0.39054059773996785, 0.2508581941687385, 0.10832512930013707, 0.06841587113692868, 0.9479236914416548, 0.8154454029809074, 0.5403500953420838, 0.17145724179123814, 0.09352213188612989, 0.07273943591143436, 0.12469617584817319, 0.42323928050203535, 0.10738907117215823, 0.2653141758370968, 0.06317004186597543, 0.1452910962917435, 0.8141291832724648, 0.14262485273328585, 0.7131242636664292, 0.2057582751821389, 0.2760171984150644, 0.1756473080823137, 0.08029591226620054, 0.26598020938178935, 0.9318167558061597, 0.28888981442417266, 0.12380992046750257, 0.08253994697833505, 0.4952396818700103, 0.8704253870696133, 0.919700460489379, 0.8973802289549259, 0.8528071746587388, 0.5109362454604137, 0.226497510874204, 0.18435843908365443, 0.07374337563346177, 0.27789766103150415, 0.1006181186493377, 0.1708910904044307, 0.397681135614049, 0.05270472881631975, 0.8511558251393866, 0.8678138438696139, 0.0982547019973518, 0.14934714703597474, 0.08253394967777551, 0.31572510908482376, 0.35371692719046643, 0.8067471743299002, 0.1344578623883167, 0.6598531933318184, 0.1213523114173459, 0.007584519463584119, 0.12893683088093003, 0.0834297140994253, 0.9290979291615816, 0.12702827027955288, 0.12702827027955288, 0.2887006142717111, 0.03464407371260533, 0.415728884551264, 0.745119016338747, 0.18972758597741535, 0.7589103439096614, 0.8008513426390619, 0.84878386846589, 0.10609798355823626, 0.9117295755196726, 0.6161039562685454, 0.15165635846610348, 0.12322079125370908, 0.07582817923305174, 0.03791408961652587, 0.7639348519215505, 0.06804665077463931, 0.034023325387319656, 0.8505831346829914, 0.034023325387319656, 0.8510869605090062, 0.8008121963378224, 0.8855632998216588, 0.8511162449879579, 0.8008373781243197, 0.6886418612133415, 0.08608023265166768, 0.08608023265166768, 0.12912034897750152, 0.38807519234004323, 0.22505928082416302, 0.17883088800622682, 0.13381903184139424, 0.0754252724924222, 0.9099584585017731, 0.21499025233526486, 0.7063965433872988, 0.0767822329768803, 0.8854828503972052, 0.27740906054135017, 0.4331474804943889, 0.13627111745890885, 0.10220333809418164, 0.05353508185885705, 0.7451425998675957, 0.07709249370510703, 0.38837161923138824, 0.07709249370510703, 0.28800591987945645, 0.1687307409394795, 0.7451425349784739, 0.2628855052750771, 0.14604750293059837, 0.2628855052750771, 0.08762850175835903, 0.2434125048843306, 0.24061606316596265, 0.20159724211202276, 0.351169389485459, 0.14306901053111293, 0.058528231580909834, 0.20816801405815472, 0.12143134153392358, 0.43368336262115564, 0.19082067955330848, 0.05204200351453868, 0.31995138024780956, 0.5557050288514587, 0.11787682430182457, 0.016839546328832083, 0.32322010831602405, 0.5178867644609022, 0.14324527527641975, 0.003672955776318455, 0.01469182310527382, 0.15437741348143855, 0.7718870674071928, 0.3302378239707071, 0.1816308031838889, 0.08255945599267678, 0.04953567359560607, 0.34674971516924247, 0.8511677240055983, 0.944551255669824, 0.7814781539293255, 0.16745960441342692, 0.6432769469206299, 0.18379341340589425, 0.09189670670294713, 0.3551579508464595, 0.33214937927999455, 0.17580908530273245, 0.05781641060291201, 0.07905509204887969, 0.9128343954861687, 0.8526968957295953, 0.7495086602201908, 0.10707266574574155, 0.8855022811642328, 0.24309332535979397, 0.20836570745125196, 0.06945523581708399, 0.4167314149025039, 0.034727617908541994, 0.26554437128905634, 0.5945884835385392, 0.10390866702615248, 0.005772703723675138, 0.02309081489470055, 0.48599019662366755, 0.020249591525986148, 0.040499183051972296, 0.4252414220457091, 0.363949715028382, 0.14241510588067124, 0.1107673045738554, 0.30856606274145437, 0.07120755294033562, 0.30201921797169595, 0.7047115086006239, 0.8677825978594514, 0.3196823082505601, 0.4291625508021218, 0.1883060171886861, 0.06130893582887454, 0.17934699519433298, 0.17934699519433298, 0.5978233173144433, 0.05978233173144432, 0.7639370201565265, 0.055925825771371486, 0.7829615607992008, 0.11185165154274297, 0.19569774675538024, 0.19209594773534255, 0.1608803562283494, 0.13566776308808567, 0.31455711441662343, 0.1351326757761145, 0.6756633788805726, 0.7639373803160612, 0.8140951069303105, 0.303538633119116, 0.2937470643088219, 0.0783325504823525, 0.1077072569132347, 0.23499765144705753, 0.22394243281843493, 0.13436545969106095, 0.6270388118916178, 0.8882183467322249, 0.3578171257350452, 0.3208015610038336, 0.14806225892484629, 0.15423151971338156, 0.02467704315414105, 0.8510616706573284, 0.8401321513131988, 0.3073956206901891, 0.18443737241411345, 0.32788866206953504, 0.18443737241411345, 0.8528189316598754, 0.22875384956539652, 0.10557869979941377, 0.07038579986627586, 0.5806828488967758, 0.017596449966568964, 0.8009119310416211, 0.13042766968725117, 0.163034587109064, 0.07608280731756319, 0.49182100444567634, 0.1385793990427044, 0.7452414705745224, 0.30372530534009234, 0.19182650863584777, 0.11189879670424455, 0.3516819324990543, 0.04795662715896194, 0.598096871493581, 0.2479913857412409, 0.1021141000110992, 0.043763185719042516, 0.014587728573014172, 0.3945326377491045, 0.12795653116187175, 0.07464130984442519, 0.2665761065872328, 0.12795653116187175, 0.22795643442271613, 0.05698910860567903, 0.7408584118738274, 0.22405065055480353, 0.4660253531539913, 0.1792405204438428, 0.09858228624411355, 0.03584810408876856, 0.22600340246715758, 0.22600340246715758, 0.18612044909060038, 0.22600340246715758, 0.13959033681795027, 0.1505684972080132, 0.16311587197534763, 0.050189499069337735, 0.025094749534668868, 0.6022739888320529, 0.814088364631178, 0.7450993663723684, 0.9282244451152878, 0.8646921401640671, 0.5445255291640537, 0.3042936780622653, 0.08808501207065575, 0.056054098590417295, 0.35507733114536977, 0.19857405248887977, 0.06899606908511924, 0.24401048822786073, 0.1312608143570561, 0.27996653160742563, 0.5135691789996089, 0.12125938948601875, 0.010699357895825183, 0.07311227895480542, 0.8644007542502872, 0.08170800183179099, 0.20427000457947747, 0.16341600366358197, 0.08170800183179099, 0.49024801099074594, 0.22222744554540275, 0.2820579116537804, 0.35898279665026595, 0.07521544310767478, 0.06324934988599924, 0.8680145808962912, 0.5207061707196691, 0.28514861729886637, 0.11157989372564336, 0.02479553193903186, 0.06198882984757965, 0.7639284961854504, 0.910127218258529, 0.9103876099365112, 0.9542509692390898, 0.769009811567384, 0.8066228413342306, 0.10082785516677882, 0.05041392758338941, 0.8137349461203207, 0.8141823897707816, 0.07206479384031947, 0.8647775260838336, 0.6515269236899285, 0.21717564122997615, 0.03948648022363203, 0.05922972033544804, 0.019743240111816013, 0.7451774170211651, 0.9117888457645745, 0.8856304139526084, 0.4036728375963598, 0.43264457235207937, 0.14099577581116873, 0.01352014288600248, 0.0096572449185732, 0.24580825607829213, 0.6145206401957303, 0.7451197863923664, 0.8526152499394224, 0.8493768724211439, 0.10617210905264299, 0.14151462568060239, 0.3602190471869879, 0.3216241492740963, 0.07718979582578311, 0.09648724478222889, 0.8511792810655467, 0.8536094751836086, 0.8401010981511053, 0.20702439279745558, 0.24709363011309213, 0.2203808052360011, 0.08013847463127313, 0.24709363011309213, 0.7451162459805024, 0.8854127372888912, 0.00267254807136695, 0.00267254807136695, 0.8632330270515248, 0.13095485549698055, 0.11454142446196486, 0.763609496413099, 0.0763609496413099, 0.21370652508280502, 0.5876929439777138, 0.13356657817675313, 0.08013994690605188, 0.22315967389928276, 0.3634314689216891, 0.2677916086791393, 0.0892638695597131, 0.051007925462693206, 0.1347088758647727, 0.08572383009576444, 0.0979700915380165, 0.4286191504788222, 0.2571714902872933, 0.8401178866700472, 0.7639620514700899, 0.18112679491480407, 0.12075119660986938, 0.11146264302449481, 0.2043481788782405, 0.37618642020767, 0.8747435346738269, 0.04603913340388562, 0.04603913340388562, 0.04978715253308471, 0.12446788133271178, 0.5227651015973894, 0.09957430506616942, 0.2240421863988812, 0.38407553552963086, 0.3142436199787889, 0.15363021421185236, 0.10474787332626297, 0.04888234088558938, 0.9299845216509515, 0.851066206714105, 0.30331088941073553, 0.17750580459832815, 0.13786858609578886, 0.32743789197749856, 0.05342407711211818, 0.27772037986965065, 0.37800829482258, 0.1465746449312045, 0.1311457349384461, 0.06685860996861959, 0.028479991673854604, 0.22783993339083683, 0.7119997918463651, 0.4990334988411045, 0.2372454338752792, 0.0409043851509102, 0.15543666357345878, 0.07362789327163836, 0.05897431428626054, 0.7863241904834739, 0.13760673333460793, 0.15768676013968863, 0.6701687305936768, 0.13797591512222757, 0.01971084501746108, 0.01971084501746108, 0.8638084195560474, 0.3081974972678799, 0.2879878253158878, 0.161677375615937, 0.19704430153192323, 0.04041934390398425, 0.17115686931769158, 0.2934117759731856, 0.44011766395977836, 0.048901962662197596, 0.024450981331098798, 0.8876277475890992, 0.4112672804583467, 0.20805285952598718, 0.14999159640245588, 0.16450691218333868, 0.06773814031078652, 0.9300458347694893, 0.8512552721106454, 0.8883305928047851, 0.209624781375893, 0.13101548835993312, 0.6026712464556924, 0.026203097671986624, 0.0671840855828574, 0.1343681711657148, 0.6046567702457166, 0.1343681711657148, 0.10314265645644718, 0.37131356324320985, 0.4538276884083676, 0.061885593873868314, 0.2789278018807, 0.07607121869473636, 0.41839170282105, 0.17749951028771815, 0.0507141457964909, 0.7639460718134151, 0.7639365982949553, 0.8141041658858066, 0.930144613739355, 0.16461373099201926, 0.8230686549600963, 0.16461373099201926, 0.35558154119727425, 0.5157534066014519, 0.12173061770717497, 0.006406874616167104, 0.326731987746786, 0.06126224770252237, 0.22462824157591538, 0.3063112385126119, 0.0816829969366965, 0.3226804874654187, 0.15400659629031346, 0.1466729488479176, 0.3006795451382311, 0.08067012186635468, 0.3282891476270395, 0.10942971587567983, 0.5471485793783991, 0.021885943175135966, 0.8401844082650914, 0.2458863665120422, 0.23051846860503955, 0.27662216232604747, 0.22283451965153825, 0.030735795814005276, 0.7202196646923679, 0.21606589940771037, 0.2270130023897816, 0.6810390071693448, 0.05147755795163461, 0.28312656873399034, 0.6434694743954327], \"Term\": [\"Atkins\", \"Atkins\", \"Awesome\", \"Awesome\", \"Awesome\", \"Awesome\", \"Balsamic\", \"CARBS\", \"Carb\", \"Carb\", \"Carb\", \"Carb\", \"Carb\", \"Cincinnati\", \"Diabetes\", \"Dukan\", \"Euro\", \"Excellent-\", \"Farms\", \"Fettuccine\", \"Gluten\", \"Gluten\", \"Gluten\", \"Gluten\", \"Healthy\", \"Keto\", \"Keto\", \"Keto\", \"Keto\", \"Keto\", \"LOVE\", \"LOVE\", \"LOVE\", \"Liquid\", \"Miracle\", \"Miracle\", \"Miracle\", \"Miracle\", \"Miracle\", \"Mircle\", \"NOODLE\", \"Option\", \"Pack\", \"Rice\", \"Rice\", \"Rice\", \"Rice\", \"Rice\", \"Save\", \"Shirataki\", \"Shirataki\", \"Shirataki\", \"Shirataki\", \"Shirataki\", \"Singapore\", \"Spinach\", \"Spinach\", \"Spiralizer\", \"Style\", \"Subscribe\", \"Super\", \"Super\", \"Super\", \"TASTE\", \"TASTE\", \"Taste\", \"Variety\", \"WIERD\", \"Walden\", \"Whisked\", \"absoulutely\", \"accord\", \"accord\", \"accord\", \"actually\", \"actually\", \"actually\", \"actually\", \"actually\", \"add\", \"add\", \"add\", \"add\", \"add\", \"addition\", \"addition\", \"addition\", \"addition\", \"addition\", \"adkin\", \"affordable\", \"age\", \"alfredo\", \"alfredo\", \"alfredo\", \"alfredo\", \"alfredo\", \"alternative\", \"alternative\", \"alternative\", \"alternative\", \"alternative\", \"amazed\", \"angel\", \"angel\", \"angel\", \"angel\", \"angel\", \"answer\", \"aromatic\", \"asian\", \"asian\", \"asian\", \"asian\", \"asian\", \"away\", \"away\", \"away\", \"away\", \"awesome\", \"awesome\", \"awesome\", \"awesome\", \"awesome\", \"beat\", \"beat\", \"belly&nbsp;diet\", \"bill\", \"boil\", \"boil\", \"boil\", \"boil\", \"boil\", \"brand\", \"brand\", \"brand\", \"branding\", \"break\", \"breath\", \"brine\", \"brine\", \"burn\", \"burn\", \"butter\", \"butter\", \"butter\", \"butter\", \"calorie\", \"calorie\", \"calorie\", \"calorie\", \"calorie\", \"carb\", \"carb\", \"carb\", \"carb\", \"carb\", \"carb'd\", \"carber\", \"carber\", \"careful\", \"changer\", \"changer\", \"cheddar\", \"chicken\", \"chicken\", \"chicken\", \"chicken\", \"chicken\", \"choke\", \"colander\", \"colander\", \"colander\", \"colander\", \"combination\", \"come\", \"come\", \"come\", \"come\", \"comfort\", \"comfort\", \"comfort\", \"complain\", \"complain\", \"complain\", \"conventional\", \"convert\", \"cook\", \"cook\", \"cook\", \"cook\", \"cook\", \"cooking\", \"cooking\", \"cooking\", \"cooking\", \"cost\", \"crab\", \"craving\", \"craving\", \"craving\", \"craving\", \"creation\", \"creative\", \"creative\", \"creative\", \"crunch\", \"daikon\", \"damage\", \"daughter\", \"daughter\", \"daughter\", \"delicious\", \"delicious\", \"delicious\", \"delicious\", \"delicious\", \"delivery\", \"delivery\", \"delivery\", \"diabete\", \"dice\", \"diet\", \"diet\", \"diet\", \"diet\", \"diet\", \"direction\", \"direction\", \"direction\", \"direction\", \"direction\", \"dish\", \"dish\", \"dish\", \"dish\", \"dish\", \"dog\", \"doodle\", \"drain\", \"drain\", \"drain\", \"drain\", \"dump\", \"dump\", \"dump\", \"dump\", \"dupe\", \"e.g.\", \"easy\", \"easy\", \"easy\", \"easy\", \"easy\", \"eat\", \"eat\", \"eat\", \"eat\", \"eat\", \"enjoyable\", \"evaporate\", \"excellent\", \"excellent\", \"excellent\", \"excellent\", \"expect\", \"expect\", \"expect\", \"expect\", \"explain\", \"extend\", \"extend\", \"eye\", \"fabulous\", \"fabulous\", \"fast\", \"fast\", \"fast\", \"fast\", \"fast\", \"feel\", \"feel\", \"feel\", \"feel\", \"feel\", \"feta\", \"fettuccini\", \"fettuccini\", \"fettuccini\", \"fight\", \"fill\", \"fill\", \"fill\", \"fill\", \"fill\", \"find\", \"find\", \"find\", \"find\", \"find\", \"fine\", \"fine\", \"fine\", \"fine\", \"fine\", \"fish\", \"fish\", \"fish\", \"fish\", \"fishy\", \"fishy\", \"fishy\", \"fishy\", \"fishy\", \"flavor\", \"flavor\", \"flavor\", \"flavor\", \"flavor\", \"flavour\", \"fluid\", \"follow\", \"follow\", \"follow\", \"follow\", \"follow\", \"food\", \"food\", \"food\", \"food\", \"food\", \"foot\", \"forever\", \"forever\", \"free\", \"free\", \"free\", \"free\", \"free\", \"freeze\", \"friend\", \"friend\", \"friend\", \"friend\", \"fruit\", \"funky\", \"gift\", \"glucose\", \"go\", \"go\", \"go\", \"go\", \"good\", \"good\", \"good\", \"good\", \"good\", \"grandmother\", \"grateful\", \"great\", \"great\", \"great\", \"great\", \"great\", \"grill\", \"grill\", \"hair\", \"hair\", \"hair\", \"hair\", \"hair\", \"hardly\", \"healthy\", \"healthy\", \"healthy\", \"healthy\", \"healthy\", \"highlight\", \"hook\", \"hook\", \"imagination\", \"imagine\", \"imagine\", \"improve\", \"instruction\", \"instruction\", \"instruction\", \"instruction\", \"instruction\", \"insulin\", \"item\", \"item\", \"item\", \"item\", \"jelly\", \"jellyfish\", \"jicama\", \"ketosis\", \"lastly\", \"light\", \"light\", \"light\", \"light\", \"like\", \"like\", \"like\", \"like\", \"like\", \"lime\", \"liquid\", \"liquid\", \"liquid\", \"list\", \"little\", \"little\", \"little\", \"little\", \"little\", \"loce\", \"love\", \"love\", \"love\", \"love\", \"love\", \"lucky\", \"make\", \"make\", \"make\", \"make\", \"make\", \"meal\", \"meal\", \"meal\", \"meal\", \"meal\", \"meat\", \"meat\", \"meat\", \"meat\", \"meat\", \"microwave\", \"microwave\", \"microwave\", \"microwave\", \"minute\", \"minute\", \"minute\", \"minute\", \"minute\", \"miso\", \"miso\", \"miss\", \"miss\", \"miss\", \"miss\", \"miss\", \"mush\", \"mushy\", \"negative\", \"negative\", \"neutral\", \"neutral\", \"neutral\", \"noodle\", \"noodle\", \"noodle\", \"noodle\", \"noodle\", \"nuke\", \"oder\", \"offer\", \"offer\", \"oil\", \"one\", \"one\", \"one\", \"one\", \"one\", \"open\", \"open\", \"open\", \"open\", \"open\", \"option\", \"option\", \"option\", \"option\", \"order\", \"order\", \"order\", \"order\", \"order\", \"ounce\", \"ounce\", \"overnight\", \"package\", \"package\", \"package\", \"package\", \"pair\", \"pair\", \"pair\", \"pair\", \"pallet\", \"paper\", \"paper\", \"paper\", \"pasta\", \"pasta\", \"pasta\", \"pasta\", \"pasta\", \"paste\", \"paste\", \"pay\", \"penne\", \"perfect\", \"perfect\", \"perfect\", \"perfect\", \"perfect\", \"pick\", \"pick\", \"pick\", \"pleasant\", \"prepare\", \"prepare\", \"prepare\", \"prepare\", \"prepare\", \"preservative\", \"pretend\", \"pretty\", \"pretty\", \"pretty\", \"pretty\", \"previous\", \"price\", \"price\", \"price\", \"price\", \"price\", \"prior\", \"product\", \"product\", \"product\", \"product\", \"product\", \"question\", \"quick\", \"quick\", \"quick\", \"quick\", \"quick\", \"read\", \"read\", \"read\", \"read\", \"read\", \"real\", \"real\", \"real\", \"real\", \"real\", \"receive\", \"receive\", \"receive\", \"recommend\", \"recommend\", \"recommend\", \"recommend\", \"recommend\", \"regular\", \"regular\", \"regular\", \"regular\", \"regular\", \"replacement\", \"replacement\", \"replacement\", \"replacement\", \"replacement\", \"replication\", \"repurchase\", \"research\", \"restriction\", \"review\", \"review\", \"review\", \"review\", \"rice\", \"rice\", \"rice\", \"rice\", \"rice\", \"rinse\", \"rinse\", \"rinse\", \"rinse\", \"rinse\", \"sacrifice\", \"satisfy\", \"satisfy\", \"satisfy\", \"satisfy\", \"satisfy\", \"sauce\", \"sauce\", \"sauce\", \"sauce\", \"sauce\", \"savory\", \"say\", \"say\", \"say\", \"say\", \"say\", \"scale\", \"scare\", \"scared\", \"seed\", \"service\", \"sesame\", \"sesame\", \"sesame\", \"shallot\", \"shellfish\", \"shipping\", \"shipping\", \"shirataki\", \"shirataki\", \"shirataki\", \"shirataki\", \"shirataki\", \"side\", \"sink\", \"slippery\", \"smell\", \"smell\", \"smell\", \"smell\", \"smell\", \"snack\", \"snack\", \"sooooooooooooooooooooooooooo\", \"sorry\", \"sound\", \"sound\", \"soup\", \"soup\", \"soup\", \"soup\", \"soup\", \"soupy\", \"sour\", \"spagetti\", \"spaghetti\", \"spaghetti\", \"spaghetti\", \"spaghetti\", \"spaghetti\", \"specialized\", \"stand\", \"star\", \"star\", \"star\", \"star\", \"step\", \"step\", \"step\", \"stick\", \"stick\", \"stick\", \"stick\", \"stir\", \"stir\", \"stir\", \"stir\", \"stir\", \"stuff\", \"stuff\", \"stuff\", \"stuff\", \"stuff\", \"sub\", \"subitute\", \"substitute\", \"substitute\", \"substitute\", \"substitute\", \"substitute\", \"suggest\", \"suggest\", \"suggest\", \"super\", \"super\", \"super\", \"super\", \"super\", \"sure\", \"sure\", \"sure\", \"sure\", \"sure\", \"tablespoon\", \"takeout\", \"taste\", \"taste\", \"taste\", \"taste\", \"taste\", \"texture\", \"texture\", \"texture\", \"texture\", \"texture\", \"thank\", \"thank\", \"thank\", \"think\", \"think\", \"think\", \"think\", \"think\", \"thoroughly\", \"thoroughly\", \"thoroughly\", \"throw\", \"throw\", \"throw\", \"throw\", \"throw\", \"thumb\", \"time\", \"time\", \"time\", \"time\", \"time\", \"tomato\", \"tomato\", \"tomato\", \"tomato\", \"tomato\", \"transparent\", \"try\", \"try\", \"try\", \"try\", \"try\", \"typical\", \"upset\", \"use\", \"usually\", \"usually\", \"usually\", \"usually\", \"value\", \"value\", \"value\", \"value\", \"vegetable\", \"vegetable\", \"vegetable\", \"vegetable\", \"veggie\", \"veggie\", \"veggie\", \"veggie\", \"veggie\", \"vermacelli\", \"vinaigrette\", \"virtue\", \"warning\", \"watcher\", \"watcher\", \"watcher\", \"water\", \"water\", \"water\", \"water\", \"weight\", \"weight\", \"weight\", \"weight\", \"weight\", \"well\", \"well\", \"well\", \"well\", \"well\", \"wheat\", \"wheat\", \"wheat\", \"wheat\", \"wide\", \"work\", \"work\", \"work\", \"work\", \"work\", \"wrong\", \"wrong\", \"yeah\", \"yeah\", \"yummy\", \"yummy\", \"yummy\"]}, \"R\": 30, \"lambda.step\": 0.01, \"plot.opts\": {\"xlab\": \"PC1\", \"ylab\": \"PC2\"}, \"topic.order\": [1, 4, 2, 3, 5]};\n",
       "\n",
       "function LDAvis_load_lib(url, callback){\n",
       "  var s = document.createElement('script');\n",
       "  s.src = url;\n",
       "  s.async = true;\n",
       "  s.onreadystatechange = s.onload = callback;\n",
       "  s.onerror = function(){console.warn(\"failed to load library \" + url);};\n",
       "  document.getElementsByTagName(\"head\")[0].appendChild(s);\n",
       "}\n",
       "\n",
       "if(typeof(LDAvis) !== \"undefined\"){\n",
       "   // already loaded: just create the visualization\n",
       "   !function(LDAvis){\n",
       "       new LDAvis(\"#\" + \"ldavis_el273591359972811217104878\", ldavis_el273591359972811217104878_data);\n",
       "   }(LDAvis);\n",
       "}else if(typeof define === \"function\" && define.amd){\n",
       "   // require.js is available: use it to load d3/LDAvis\n",
       "   require.config({paths: {d3: \"https://d3js.org/d3.v5\"}});\n",
       "   require([\"d3\"], function(d3){\n",
       "      window.d3 = d3;\n",
       "      LDAvis_load_lib(\"https://cdn.jsdelivr.net/gh/bmabey/pyLDAvis@3.4.0/pyLDAvis/js/ldavis.v3.0.0.js\", function(){\n",
       "        new LDAvis(\"#\" + \"ldavis_el273591359972811217104878\", ldavis_el273591359972811217104878_data);\n",
       "      });\n",
       "    });\n",
       "}else{\n",
       "    // require.js not available: dynamically load d3 & LDAvis\n",
       "    LDAvis_load_lib(\"https://d3js.org/d3.v5.js\", function(){\n",
       "         LDAvis_load_lib(\"https://cdn.jsdelivr.net/gh/bmabey/pyLDAvis@3.4.0/pyLDAvis/js/ldavis.v3.0.0.js\", function(){\n",
       "                 new LDAvis(\"#\" + \"ldavis_el273591359972811217104878\", ldavis_el273591359972811217104878_data);\n",
       "            })\n",
       "         });\n",
       "}\n",
       "</script>"
      ],
      "text/plain": [
       "<IPython.core.display.HTML object>"
      ]
     },
     "metadata": {},
     "output_type": "display_data"
    }
   ],
   "source": [
    "import pyLDAvis\n",
    "import pyLDAvis.gensim_models as gensimvis\n",
    "from IPython.display import display, Markdown, HTML\n",
    "\n",
    "# Function to create a labeled LDA visualization\n",
    "def create_labeled_lda_vis(lda_model, corpus, dictionary, topic_labels):\n",
    "    vis_data = gensimvis.prepare(lda_model, corpus, dictionary)\n",
    "    vis_data = pyLDAvis.prepared_data_to_html(vis_data)\n",
    "    for i, label in enumerate(topic_labels):\n",
    "        vis_data = vis_data.replace(f\"Topic {i+1}\", f\"Topic {i+1}: {label}\")\n",
    "    return vis_data\n",
    "\n",
    "# # Prepare the pyLDAvis labels for high-rating reviews\n",
    "topic_labels_high = topics_df_high.reset_index()['topic_labels'].tolist()\n",
    "# Create the visualizations\n",
    "high_lda_vis = create_labeled_lda_vis(high_lda, high_corpus, high_dictionary, topic_labels_high)\n",
    "# Display titles and visualizations\n",
    "display(Markdown(\"## High Rating Reviews Topics\"))\n",
    "# pyLDAvis.display(high_lda_vis)\n",
    "display(HTML(high_lda_vis))\n"
   ]
  },
  {
   "cell_type": "code",
   "execution_count": 59,
   "id": "8d9a7a06",
   "metadata": {},
   "outputs": [],
   "source": [
    "\n",
    "\n",
    "\n",
    "# topic_lables_low = topics_df_low['topic_labels'].tolist()\n",
    "\n",
    "\n",
    "\n",
    "# low_lda_vis = create_labeled_lda_vis(low_lda, low_corpus, low_dictionary, topic_labels_low)\n",
    "\n",
    "\n",
    "# # # Display the visualizations in the notebook\n",
    "# pyLDAvis.display(high_lda_vis)\n"
   ]
  },
  {
   "cell_type": "code",
   "execution_count": 60,
   "id": "45730c55",
   "metadata": {},
   "outputs": [],
   "source": [
    "\n",
    "# # Prepare the pyLDAvis data\n",
    "# low_lda_vis = gensimvis.prepare(low_lda, low_corpus, low_dictionary)\n",
    "# # Display the visualizations in the notebook\n",
    "# pyLDAvis.display(low_lda_vis)"
   ]
  },
  {
   "cell_type": "code",
   "execution_count": null,
   "id": "9faae848",
   "metadata": {},
   "outputs": [],
   "source": []
  },
  {
   "cell_type": "markdown",
   "id": "77dbaa41",
   "metadata": {},
   "source": [
    "# 📌 BOOKMARK 06/26/24"
   ]
  },
  {
   "cell_type": "markdown",
   "id": "128f758e",
   "metadata": {},
   "source": [
    "# Sentiment Analysis"
   ]
  },
  {
   "cell_type": "markdown",
   "id": "85986a5f-b0a8-4d79-ab83-84fb411afdf5",
   "metadata": {},
   "source": [
    "## Sentiment Analysis - NLTK's Vader"
   ]
  },
  {
   "cell_type": "markdown",
   "id": "2f3a5bec-266e-4553-8274-6a24fbfb6ed5",
   "metadata": {},
   "source": [
    "Perform sentiment analysis to create polarity scores according to VADERS's sentiment lexicon.  \n",
    "- Compare the sentiments of high-rating and low-rating texts.  \n",
    "- Compare the average scores for high and low-rating reviews.  \n",
    "- Which review polarity scores don't match the ratings?  Why do you think this is?"
   ]
  },
  {
   "cell_type": "code",
   "execution_count": 61,
   "id": "57e3766c",
   "metadata": {},
   "outputs": [],
   "source": [
    "# !pip install nltk"
   ]
  },
  {
   "cell_type": "code",
   "execution_count": 62,
   "id": "c802d77a-ec81-4a43-8cf5-1c6c04d3b68e",
   "metadata": {
    "execution": {
     "iopub.execute_input": "2024-02-13T01:39:15.334040Z",
     "iopub.status.busy": "2024-02-13T01:39:15.333389Z",
     "iopub.status.idle": "2024-02-13T01:39:15.524417Z",
     "shell.execute_reply": "2024-02-13T01:39:15.522852Z",
     "shell.execute_reply.started": "2024-02-13T01:39:15.334017Z"
    }
   },
   "outputs": [
    {
     "name": "stderr",
     "output_type": "stream",
     "text": [
      "[nltk_data] Downloading package vader_lexicon to\n",
      "[nltk_data]     /Users/codingdojo/nltk_data...\n",
      "[nltk_data]   Package vader_lexicon is already up-to-date!\n"
     ]
    },
    {
     "data": {
      "text/plain": [
       "True"
      ]
     },
     "execution_count": 62,
     "metadata": {},
     "output_type": "execute_result"
    }
   ],
   "source": [
    "import nltk\n",
    "from nltk.sentiment.vader import SentimentIntensityAnalyzer\n",
    "nltk.download('vader_lexicon')"
   ]
  },
  {
   "cell_type": "code",
   "execution_count": 63,
   "id": "365ec383-e248-4057-8b31-bd00d4de7ca2",
   "metadata": {
    "execution": {
     "iopub.execute_input": "2024-02-13T01:39:15.528716Z",
     "iopub.status.busy": "2024-02-13T01:39:15.528024Z",
     "iopub.status.idle": "2024-02-13T01:39:15.544865Z",
     "shell.execute_reply": "2024-02-13T01:39:15.544274Z",
     "shell.execute_reply.started": "2024-02-13T01:39:15.528666Z"
    }
   },
   "outputs": [],
   "source": [
    "# Initialize the VADER sentiment analyzer\n",
    "sia = SentimentIntensityAnalyzer()"
   ]
  },
  {
   "cell_type": "code",
   "execution_count": 64,
   "id": "ca8e0a7a-66a6-4aec-96ae-3e3b92503a18",
   "metadata": {
    "execution": {
     "iopub.execute_input": "2024-02-13T01:39:15.545614Z",
     "iopub.status.busy": "2024-02-13T01:39:15.545493Z",
     "iopub.status.idle": "2024-02-13T01:39:15.553501Z",
     "shell.execute_reply": "2024-02-13T01:39:15.553004Z",
     "shell.execute_reply.started": "2024-02-13T01:39:15.545605Z"
    }
   },
   "outputs": [
    {
     "data": {
      "text/html": [
       "<div>\n",
       "<style scoped>\n",
       "    .dataframe tbody tr th:only-of-type {\n",
       "        vertical-align: middle;\n",
       "    }\n",
       "\n",
       "    .dataframe tbody tr th {\n",
       "        vertical-align: top;\n",
       "    }\n",
       "\n",
       "    .dataframe thead th {\n",
       "        text-align: right;\n",
       "    }\n",
       "</style>\n",
       "<table border=\"1\" class=\"dataframe\">\n",
       "  <thead>\n",
       "    <tr style=\"text-align: right;\">\n",
       "      <th></th>\n",
       "      <th>asin</th>\n",
       "      <th>reviewerID</th>\n",
       "      <th>reviewText</th>\n",
       "      <th>summary</th>\n",
       "      <th>overall</th>\n",
       "      <th>year</th>\n",
       "      <th>title</th>\n",
       "      <th>brand</th>\n",
       "      <th>category</th>\n",
       "      <th>review-text-full</th>\n",
       "      <th>review-text-full_raw</th>\n",
       "      <th>tokens-dirty</th>\n",
       "      <th>tokens</th>\n",
       "      <th>lemmas</th>\n",
       "      <th>tokens-dirty-joined</th>\n",
       "      <th>tokens-joined</th>\n",
       "      <th>lemmas-joined</th>\n",
       "      <th>target-rating</th>\n",
       "    </tr>\n",
       "  </thead>\n",
       "  <tbody>\n",
       "    <tr>\n",
       "      <th>0</th>\n",
       "      <td>B007JINB0W</td>\n",
       "      <td>A3Y51NV9HU5T2</td>\n",
       "      <td>Great pasta taste and feel, but the spell in the packaged is SKRONG!</td>\n",
       "      <td>Four Stars</td>\n",
       "      <td>4</td>\n",
       "      <td>2018</td>\n",
       "      <td>Miracle Noodle Zero Carb, Gluten Free Shirataki Pasta, Spinach Angel Hair, 7-Ounce (Pack of 24)</td>\n",
       "      <td>Miracle Noodle</td>\n",
       "      <td>Grocery &amp; Gourmet Food; Pasta &amp; Noodles; Noodles; Shirataki</td>\n",
       "      <td>Four Stars: Great pasta taste and feel, but the spell in the packaged is SKRONG!</td>\n",
       "      <td>Four Stars: Great pasta taste and feel, but the spell in the packaged is SKRONG!</td>\n",
       "      <td>[four, stars, great, pasta, taste, and, feel, but, the, spell, in, the, packaged, is, skrong]</td>\n",
       "      <td>[stars, great, pasta, taste, feel, spell, packaged, skrong]</td>\n",
       "      <td>[star, great, pasta, taste, feel, spell, package, SKRONG]</td>\n",
       "      <td>four stars great pasta taste and feel but the spell in the packaged is skrong</td>\n",
       "      <td>stars great pasta taste feel spell packaged skrong</td>\n",
       "      <td>star great pasta taste feel spell package skrong</td>\n",
       "      <td>None</td>\n",
       "    </tr>\n",
       "    <tr>\n",
       "      <th>1</th>\n",
       "      <td>B007JINB0W</td>\n",
       "      <td>A3D7EFSRC6Y9MP</td>\n",
       "      <td>The texture just made it a little strange to eat. Otherwise the flavor is okay, very bland so add spices.</td>\n",
       "      <td>Okay but don't like texture</td>\n",
       "      <td>3</td>\n",
       "      <td>2014</td>\n",
       "      <td>Miracle Noodle Zero Carb, Gluten Free Shirataki Pasta, Spinach Angel Hair, 7-Ounce (Pack of 24)</td>\n",
       "      <td>Miracle Noodle</td>\n",
       "      <td>Grocery &amp; Gourmet Food; Pasta &amp; Noodles; Noodles; Shirataki</td>\n",
       "      <td>Okay but don't like texture: The texture just made it a little strange to eat. Otherwise the flavor is okay, very bland so add spices.</td>\n",
       "      <td>Okay but don't like texture: The texture just made it a little strange to eat. Otherwise the flavor is okay, very bland so add spices.</td>\n",
       "      <td>[okay, but, do, n't, like, texture, the, texture, just, made, it, a, little, strange, to, eat, otherwise, the, flavor, is, okay, very, bland, so, add, spices]</td>\n",
       "      <td>[okay, like, texture, texture, little, strange, eat, flavor, okay, bland, add, spices]</td>\n",
       "      <td>[okay, like, texture, texture, little, strange, flavor, okay, bland, spice]</td>\n",
       "      <td>okay but do n't like texture the texture just made it a little strange to eat otherwise the flavor is okay very bland so add spices</td>\n",
       "      <td>okay like texture texture little strange eat flavor okay bland add spices</td>\n",
       "      <td>okay like texture texture little strange eat flavor okay bland add spice</td>\n",
       "      <td>None</td>\n",
       "    </tr>\n",
       "  </tbody>\n",
       "</table>\n",
       "</div>"
      ],
      "text/plain": [
       "         asin      reviewerID  \\\n",
       "0  B007JINB0W   A3Y51NV9HU5T2   \n",
       "1  B007JINB0W  A3D7EFSRC6Y9MP   \n",
       "\n",
       "                                                                                                  reviewText  \\\n",
       "0                                       Great pasta taste and feel, but the spell in the packaged is SKRONG!   \n",
       "1  The texture just made it a little strange to eat. Otherwise the flavor is okay, very bland so add spices.   \n",
       "\n",
       "                       summary  overall  year  \\\n",
       "0                   Four Stars        4  2018   \n",
       "1  Okay but don't like texture        3  2014   \n",
       "\n",
       "                                                                                             title  \\\n",
       "0  Miracle Noodle Zero Carb, Gluten Free Shirataki Pasta, Spinach Angel Hair, 7-Ounce (Pack of 24)   \n",
       "1  Miracle Noodle Zero Carb, Gluten Free Shirataki Pasta, Spinach Angel Hair, 7-Ounce (Pack of 24)   \n",
       "\n",
       "            brand  \\\n",
       "0  Miracle Noodle   \n",
       "1  Miracle Noodle   \n",
       "\n",
       "                                                      category  \\\n",
       "0  Grocery & Gourmet Food; Pasta & Noodles; Noodles; Shirataki   \n",
       "1  Grocery & Gourmet Food; Pasta & Noodles; Noodles; Shirataki   \n",
       "\n",
       "                                                                                                                         review-text-full  \\\n",
       "0                                                        Four Stars: Great pasta taste and feel, but the spell in the packaged is SKRONG!   \n",
       "1  Okay but don't like texture: The texture just made it a little strange to eat. Otherwise the flavor is okay, very bland so add spices.   \n",
       "\n",
       "                                                                                                                     review-text-full_raw  \\\n",
       "0                                                        Four Stars: Great pasta taste and feel, but the spell in the packaged is SKRONG!   \n",
       "1  Okay but don't like texture: The texture just made it a little strange to eat. Otherwise the flavor is okay, very bland so add spices.   \n",
       "\n",
       "                                                                                                                                                     tokens-dirty  \\\n",
       "0                                                                   [four, stars, great, pasta, taste, and, feel, but, the, spell, in, the, packaged, is, skrong]   \n",
       "1  [okay, but, do, n't, like, texture, the, texture, just, made, it, a, little, strange, to, eat, otherwise, the, flavor, is, okay, very, bland, so, add, spices]   \n",
       "\n",
       "                                                                                   tokens  \\\n",
       "0                             [stars, great, pasta, taste, feel, spell, packaged, skrong]   \n",
       "1  [okay, like, texture, texture, little, strange, eat, flavor, okay, bland, add, spices]   \n",
       "\n",
       "                                                                        lemmas  \\\n",
       "0                    [star, great, pasta, taste, feel, spell, package, SKRONG]   \n",
       "1  [okay, like, texture, texture, little, strange, flavor, okay, bland, spice]   \n",
       "\n",
       "                                                                                                                   tokens-dirty-joined  \\\n",
       "0                                                        four stars great pasta taste and feel but the spell in the packaged is skrong   \n",
       "1  okay but do n't like texture the texture just made it a little strange to eat otherwise the flavor is okay very bland so add spices   \n",
       "\n",
       "                                                               tokens-joined  \\\n",
       "0                         stars great pasta taste feel spell packaged skrong   \n",
       "1  okay like texture texture little strange eat flavor okay bland add spices   \n",
       "\n",
       "                                                              lemmas-joined  \\\n",
       "0                          star great pasta taste feel spell package skrong   \n",
       "1  okay like texture texture little strange eat flavor okay bland add spice   \n",
       "\n",
       "  target-rating  \n",
       "0          None  \n",
       "1          None  "
      ]
     },
     "execution_count": 64,
     "metadata": {},
     "output_type": "execute_result"
    }
   ],
   "source": [
    "df.head(2)"
   ]
  },
  {
   "cell_type": "code",
   "execution_count": null,
   "id": "ba427f53",
   "metadata": {},
   "outputs": [],
   "source": []
  },
  {
   "cell_type": "code",
   "execution_count": 65,
   "id": "e7816624-8a84-4cdd-bf88-81c8d4a50617",
   "metadata": {
    "execution": {
     "iopub.execute_input": "2024-02-13T01:39:15.554380Z",
     "iopub.status.busy": "2024-02-13T01:39:15.554222Z",
     "iopub.status.idle": "2024-02-13T01:39:17.169275Z",
     "shell.execute_reply": "2024-02-13T01:39:17.168958Z",
     "shell.execute_reply.started": "2024-02-13T01:39:15.554364Z"
    }
   },
   "outputs": [
    {
     "data": {
      "text/html": [
       "<div>\n",
       "<style scoped>\n",
       "    .dataframe tbody tr th:only-of-type {\n",
       "        vertical-align: middle;\n",
       "    }\n",
       "\n",
       "    .dataframe tbody tr th {\n",
       "        vertical-align: top;\n",
       "    }\n",
       "\n",
       "    .dataframe thead th {\n",
       "        text-align: right;\n",
       "    }\n",
       "</style>\n",
       "<table border=\"1\" class=\"dataframe\">\n",
       "  <thead>\n",
       "    <tr style=\"text-align: right;\">\n",
       "      <th></th>\n",
       "      <th>asin</th>\n",
       "      <th>reviewerID</th>\n",
       "      <th>reviewText</th>\n",
       "      <th>summary</th>\n",
       "      <th>overall</th>\n",
       "      <th>year</th>\n",
       "      <th>title</th>\n",
       "      <th>brand</th>\n",
       "      <th>category</th>\n",
       "      <th>review-text-full</th>\n",
       "      <th>review-text-full_raw</th>\n",
       "      <th>tokens-dirty</th>\n",
       "      <th>tokens</th>\n",
       "      <th>lemmas</th>\n",
       "      <th>tokens-dirty-joined</th>\n",
       "      <th>tokens-joined</th>\n",
       "      <th>lemmas-joined</th>\n",
       "      <th>target-rating</th>\n",
       "      <th>neg</th>\n",
       "      <th>neu</th>\n",
       "      <th>pos</th>\n",
       "      <th>compound</th>\n",
       "    </tr>\n",
       "  </thead>\n",
       "  <tbody>\n",
       "    <tr>\n",
       "      <th>0</th>\n",
       "      <td>B007JINB0W</td>\n",
       "      <td>A3Y51NV9HU5T2</td>\n",
       "      <td>Great pasta taste and feel, but the spell in the packaged is SKRONG!</td>\n",
       "      <td>Four Stars</td>\n",
       "      <td>4</td>\n",
       "      <td>2018</td>\n",
       "      <td>Miracle Noodle Zero Carb, Gluten Free Shirataki Pasta, Spinach Angel Hair, 7-Ounce (Pack of 24)</td>\n",
       "      <td>Miracle Noodle</td>\n",
       "      <td>Grocery &amp; Gourmet Food; Pasta &amp; Noodles; Noodles; Shirataki</td>\n",
       "      <td>Four Stars: Great pasta taste and feel, but the spell in the packaged is SKRONG!</td>\n",
       "      <td>Four Stars: Great pasta taste and feel, but the spell in the packaged is SKRONG!</td>\n",
       "      <td>[four, stars, great, pasta, taste, and, feel, but, the, spell, in, the, packaged, is, skrong]</td>\n",
       "      <td>[stars, great, pasta, taste, feel, spell, packaged, skrong]</td>\n",
       "      <td>[star, great, pasta, taste, feel, spell, package, SKRONG]</td>\n",
       "      <td>four stars great pasta taste and feel but the spell in the packaged is skrong</td>\n",
       "      <td>stars great pasta taste feel spell packaged skrong</td>\n",
       "      <td>star great pasta taste feel spell package skrong</td>\n",
       "      <td>None</td>\n",
       "      <td>0.000</td>\n",
       "      <td>0.831</td>\n",
       "      <td>0.169</td>\n",
       "      <td>0.4295</td>\n",
       "    </tr>\n",
       "    <tr>\n",
       "      <th>1</th>\n",
       "      <td>B007JINB0W</td>\n",
       "      <td>A3D7EFSRC6Y9MP</td>\n",
       "      <td>The texture just made it a little strange to eat. Otherwise the flavor is okay, very bland so add spices.</td>\n",
       "      <td>Okay but don't like texture</td>\n",
       "      <td>3</td>\n",
       "      <td>2014</td>\n",
       "      <td>Miracle Noodle Zero Carb, Gluten Free Shirataki Pasta, Spinach Angel Hair, 7-Ounce (Pack of 24)</td>\n",
       "      <td>Miracle Noodle</td>\n",
       "      <td>Grocery &amp; Gourmet Food; Pasta &amp; Noodles; Noodles; Shirataki</td>\n",
       "      <td>Okay but don't like texture: The texture just made it a little strange to eat. Otherwise the flavor is okay, very bland so add spices.</td>\n",
       "      <td>Okay but don't like texture: The texture just made it a little strange to eat. Otherwise the flavor is okay, very bland so add spices.</td>\n",
       "      <td>[okay, but, do, n't, like, texture, the, texture, just, made, it, a, little, strange, to, eat, otherwise, the, flavor, is, okay, very, bland, so, add, spices]</td>\n",
       "      <td>[okay, like, texture, texture, little, strange, eat, flavor, okay, bland, add, spices]</td>\n",
       "      <td>[okay, like, texture, texture, little, strange, flavor, okay, bland, spice]</td>\n",
       "      <td>okay but do n't like texture the texture just made it a little strange to eat otherwise the flavor is okay very bland so add spices</td>\n",
       "      <td>okay like texture texture little strange eat flavor okay bland add spices</td>\n",
       "      <td>okay like texture texture little strange eat flavor okay bland add spice</td>\n",
       "      <td>None</td>\n",
       "      <td>0.157</td>\n",
       "      <td>0.709</td>\n",
       "      <td>0.135</td>\n",
       "      <td>-0.1594</td>\n",
       "    </tr>\n",
       "    <tr>\n",
       "      <th>2</th>\n",
       "      <td>B007JINB0W</td>\n",
       "      <td>A4AM5KBP3I2R</td>\n",
       "      <td>The herb flavor makes the odd texture of shirataki much more palatable.</td>\n",
       "      <td>Go for the green noodles</td>\n",
       "      <td>5</td>\n",
       "      <td>2018</td>\n",
       "      <td>Miracle Noodle Zero Carb, Gluten Free Shirataki Pasta, Spinach Angel Hair, 7-Ounce (Pack of 24)</td>\n",
       "      <td>Miracle Noodle</td>\n",
       "      <td>Grocery &amp; Gourmet Food; Pasta &amp; Noodles; Noodles; Shirataki</td>\n",
       "      <td>Go for the green noodles: The herb flavor makes the odd texture of shirataki much more palatable.</td>\n",
       "      <td>Go for the green noodles: The herb flavor makes the odd texture of shirataki much more palatable.</td>\n",
       "      <td>[go, for, the, green, noodles, the, herb, flavor, makes, the, odd, texture, of, shirataki, much, more, palatable]</td>\n",
       "      <td>[green, noodles, herb, flavor, makes, odd, texture, shirataki, palatable]</td>\n",
       "      <td>[green, noodle, herb, flavor, make, texture, shirataki, palatable]</td>\n",
       "      <td>go for the green noodles the herb flavor makes the odd texture of shirataki much more palatable</td>\n",
       "      <td>green noodles herb flavor makes odd texture shirataki palatable</td>\n",
       "      <td>green noodle herb flavor make odd texture shirataki palatable</td>\n",
       "      <td>High</td>\n",
       "      <td>0.114</td>\n",
       "      <td>0.743</td>\n",
       "      <td>0.143</td>\n",
       "      <td>0.1513</td>\n",
       "    </tr>\n",
       "    <tr>\n",
       "      <th>3</th>\n",
       "      <td>B007JINB0W</td>\n",
       "      <td>A3GHK4IL78DB7Y</td>\n",
       "      <td>I didn't have a problem at all with a half filled bag or anything that other users said. I was concerned at first but I took a chance and there were no problems.\\nI find the best way to get rid of the initial smell is to boil it will a cube of bo...</td>\n",
       "      <td>Its an awesome substitute.</td>\n",
       "      <td>5</td>\n",
       "      <td>2018</td>\n",
       "      <td>Miracle Noodle Zero Carb, Gluten Free Shirataki Pasta, Spinach Angel Hair, 7-Ounce (Pack of 24)</td>\n",
       "      <td>Miracle Noodle</td>\n",
       "      <td>Grocery &amp; Gourmet Food; Pasta &amp; Noodles; Noodles; Shirataki</td>\n",
       "      <td>Its an awesome substitute.: I didn't have a problem at all with a half filled bag or anything that other users said. I was concerned at first but I took a chance and there were no problems.\\nI find the best way to get rid of the initial smell is ...</td>\n",
       "      <td>Its an awesome substitute.: I didn't have a problem at all with a half filled bag or anything that other users said. I was concerned at first but I took a chance and there were no problems.\\nI find the best way to get rid of the initial smell is ...</td>\n",
       "      <td>[its, an, awesome, substitute, i, did, n't, have, a, problem, at, all, with, a, half, filled, bag, or, anything, that, other, users, said, i, was, concerned, at, first, but, i, took, a, chance, and, there, were, no, problems, i, find, the, best, ...</td>\n",
       "      <td>[awesome, substitute, problem, half, filled, bag, users, said, concerned, took, chance, problems, find, best, way, rid, initial, smell, boil, cube, bouillon, texture, good, notice, replace, noodle, eat, nt, mind]</td>\n",
       "      <td>[awesome, substitute, problem, half, fill, user, say, concern, take, chance, problem, find, good, initial, smell, boil, cube, bouillon, texture, good, notice, replace, noodle, mind]</td>\n",
       "      <td>its an awesome substitute i did n't have a problem at all with a half filled bag or anything that other users said i was concerned at first but i took a chance and there were no problems i find the best way to get rid of the initial smell is to b...</td>\n",
       "      <td>awesome substitute problem half filled bag users said concerned took chance problems find best way rid initial smell boil cube bouillon texture good notice replace noodle eat nt mind</td>\n",
       "      <td>awesome substitute problem half fill bag user say concern take chance problem find good way rid initial smell boil cube bouillon texture good notice replace noodle eat not mind</td>\n",
       "      <td>High</td>\n",
       "      <td>0.072</td>\n",
       "      <td>0.735</td>\n",
       "      <td>0.193</td>\n",
       "      <td>0.8936</td>\n",
       "    </tr>\n",
       "    <tr>\n",
       "      <th>4</th>\n",
       "      <td>B007JINB0W</td>\n",
       "      <td>AH3B94LQOPPY6</td>\n",
       "      <td>They taste like whatever you cook them with.</td>\n",
       "      <td>Five Stars</td>\n",
       "      <td>5</td>\n",
       "      <td>2016</td>\n",
       "      <td>Miracle Noodle Zero Carb, Gluten Free Shirataki Pasta, Spinach Angel Hair, 7-Ounce (Pack of 24)</td>\n",
       "      <td>Miracle Noodle</td>\n",
       "      <td>Grocery &amp; Gourmet Food; Pasta &amp; Noodles; Noodles; Shirataki</td>\n",
       "      <td>Five Stars: They taste like whatever you cook them with.</td>\n",
       "      <td>Five Stars: They taste like whatever you cook them with.</td>\n",
       "      <td>[five, stars, they, taste, like, whatever, you, cook, them, with]</td>\n",
       "      <td>[stars, taste, like, cook]</td>\n",
       "      <td>[star, taste, like, cook]</td>\n",
       "      <td>five stars they taste like whatever you cook them with</td>\n",
       "      <td>stars taste like cook</td>\n",
       "      <td>star taste like cook</td>\n",
       "      <td>High</td>\n",
       "      <td>0.000</td>\n",
       "      <td>0.783</td>\n",
       "      <td>0.217</td>\n",
       "      <td>0.3612</td>\n",
       "    </tr>\n",
       "    <tr>\n",
       "      <th>...</th>\n",
       "      <td>...</td>\n",
       "      <td>...</td>\n",
       "      <td>...</td>\n",
       "      <td>...</td>\n",
       "      <td>...</td>\n",
       "      <td>...</td>\n",
       "      <td>...</td>\n",
       "      <td>...</td>\n",
       "      <td>...</td>\n",
       "      <td>...</td>\n",
       "      <td>...</td>\n",
       "      <td>...</td>\n",
       "      <td>...</td>\n",
       "      <td>...</td>\n",
       "      <td>...</td>\n",
       "      <td>...</td>\n",
       "      <td>...</td>\n",
       "      <td>...</td>\n",
       "      <td>...</td>\n",
       "      <td>...</td>\n",
       "      <td>...</td>\n",
       "      <td>...</td>\n",
       "    </tr>\n",
       "    <tr>\n",
       "      <th>4358</th>\n",
       "      <td>B007JINB0W</td>\n",
       "      <td>A73IG1ED6S0JR</td>\n",
       "      <td>Product arrived with two of the bags punctured. Also smells really really bad.</td>\n",
       "      <td>would not recomend</td>\n",
       "      <td>1</td>\n",
       "      <td>2016</td>\n",
       "      <td>Miracle Noodle Zero Carb, Gluten Free Shirataki Pasta, Spinach Angel Hair, 7-Ounce (Pack of 24)</td>\n",
       "      <td>Miracle Noodle</td>\n",
       "      <td>Grocery &amp; Gourmet Food; Pasta &amp; Noodles; Noodles; Shirataki</td>\n",
       "      <td>would not recomend: Product arrived with two of the bags punctured. Also smells really really bad.</td>\n",
       "      <td>would not recomend: Product arrived with two of the bags punctured. Also smells really really bad.</td>\n",
       "      <td>[would, not, recomend, product, arrived, with, two, of, the, bags, punctured, also, smells, really, really, bad]</td>\n",
       "      <td>[recomend, product, arrived, bags, punctured, smells, bad]</td>\n",
       "      <td>[recomend, product, arrive, bag, puncture, smell]</td>\n",
       "      <td>would not recomend product arrived with two of the bags punctured also smells really really bad</td>\n",
       "      <td>recomend product arrived bags punctured smells bad</td>\n",
       "      <td>recomend product arrive bag puncture smell bad</td>\n",
       "      <td>Low</td>\n",
       "      <td>0.213</td>\n",
       "      <td>0.787</td>\n",
       "      <td>0.000</td>\n",
       "      <td>-0.6214</td>\n",
       "    </tr>\n",
       "    <tr>\n",
       "      <th>4359</th>\n",
       "      <td>B007JINB0W</td>\n",
       "      <td>A1XZ2H0MYG54M0</td>\n",
       "      <td>Ok.</td>\n",
       "      <td>Five Stars</td>\n",
       "      <td>5</td>\n",
       "      <td>2016</td>\n",
       "      <td>Miracle Noodle Zero Carb, Gluten Free Shirataki Pasta, Spinach Angel Hair, 7-Ounce (Pack of 24)</td>\n",
       "      <td>Miracle Noodle</td>\n",
       "      <td>Grocery &amp; Gourmet Food; Pasta &amp; Noodles; Noodles; Shirataki</td>\n",
       "      <td>Five Stars: Ok.</td>\n",
       "      <td>Five Stars: Ok.</td>\n",
       "      <td>[five, stars, ok]</td>\n",
       "      <td>[stars, ok]</td>\n",
       "      <td>[star]</td>\n",
       "      <td>five stars ok</td>\n",
       "      <td>stars ok</td>\n",
       "      <td>star ok</td>\n",
       "      <td>High</td>\n",
       "      <td>0.000</td>\n",
       "      <td>0.476</td>\n",
       "      <td>0.524</td>\n",
       "      <td>0.2960</td>\n",
       "    </tr>\n",
       "    <tr>\n",
       "      <th>4360</th>\n",
       "      <td>B007JINB0W</td>\n",
       "      <td>A3I2YF0MXB7P0B</td>\n",
       "      <td>I like these noodles but the spinach ones just taste odd. They have a bitter flavor compared to the other ones. I don't think it tastes like Spinach, it just tastes bitter and odd. Now I understand why these were on sale compared to the other one...</td>\n",
       "      <td>Not awful, but now I know why these were on sale.</td>\n",
       "      <td>2</td>\n",
       "      <td>2013</td>\n",
       "      <td>Miracle Noodle Zero Carb, Gluten Free Shirataki Pasta, Spinach Angel Hair, 7-Ounce (Pack of 24)</td>\n",
       "      <td>Miracle Noodle</td>\n",
       "      <td>Grocery &amp; Gourmet Food; Pasta &amp; Noodles; Noodles; Shirataki</td>\n",
       "      <td>Not awful, but now I know why these were on sale.: I like these noodles but the spinach ones just taste odd. They have a bitter flavor compared to the other ones. I don't think it tastes like Spinach, it just tastes bitter and odd. Now I understa...</td>\n",
       "      <td>Not awful, but now I know why these were on sale.: I like these noodles but the spinach ones just taste odd. They have a bitter flavor compared to the other ones. I don't think it tastes like Spinach, it just tastes bitter and odd. Now I understa...</td>\n",
       "      <td>[not, awful, but, now, i, know, why, these, were, on, sale, i, like, these, noodles, but, the, spinach, ones, just, taste, odd, they, have, a, bitter, flavor, compared, to, the, other, ones, i, do, n't, think, it, tastes, like, spinach, it, just,...</td>\n",
       "      <td>[awful, know, sale, like, noodles, spinach, ones, taste, odd, bitter, flavor, compared, ones, think, tastes, like, spinach, tastes, bitter, odd, understand, sale, compared, ones, drawer, fridge, know]</td>\n",
       "      <td>[awful, know, sale, like, noodle, spinach, one, taste, bitter, flavor, compare, one, think, taste, like, Spinach, taste, bitter, understand, sale, compare, one, drawer, fridge, know]</td>\n",
       "      <td>not awful but now i know why these were on sale i like these noodles but the spinach ones just taste odd they have a bitter flavor compared to the other ones i do n't think it tastes like spinach it just tastes bitter and odd now i understand why...</td>\n",
       "      <td>awful know sale like noodles spinach ones taste odd bitter flavor compared ones think tastes like spinach tastes bitter odd understand sale compared ones drawer fridge know</td>\n",
       "      <td>awful know sale like noodle spinach one taste odd bitter flavor compare one think taste like spinach taste bitter odd understand sale compare one drawer fridge know</td>\n",
       "      <td>Low</td>\n",
       "      <td>0.163</td>\n",
       "      <td>0.736</td>\n",
       "      <td>0.101</td>\n",
       "      <td>-0.7236</td>\n",
       "    </tr>\n",
       "    <tr>\n",
       "      <th>4361</th>\n",
       "      <td>B007JINB0W</td>\n",
       "      <td>A2UELLFLITPMT1</td>\n",
       "      <td>Truly horrific. Like eating dead worms.</td>\n",
       "      <td>Don't even try it.</td>\n",
       "      <td>1</td>\n",
       "      <td>2017</td>\n",
       "      <td>Miracle Noodle Zero Carb, Gluten Free Shirataki Pasta, Spinach Angel Hair, 7-Ounce (Pack of 24)</td>\n",
       "      <td>Miracle Noodle</td>\n",
       "      <td>Grocery &amp; Gourmet Food; Pasta &amp; Noodles; Noodles; Shirataki</td>\n",
       "      <td>Don't even try it.: Truly horrific. Like eating dead worms.</td>\n",
       "      <td>Don't even try it.: Truly horrific. Like eating dead worms.</td>\n",
       "      <td>[do, n't, even, try, it, truly, horrific, like, eating, dead, worms]</td>\n",
       "      <td>[try, truly, horrific, like, eating, dead, worms]</td>\n",
       "      <td>[truly, horrific, like, eat, dead, worm]</td>\n",
       "      <td>do n't even try it truly horrific like eating dead worms</td>\n",
       "      <td>try truly horrific like eating dead worms</td>\n",
       "      <td>try truly horrific like eat dead worm</td>\n",
       "      <td>Low</td>\n",
       "      <td>0.433</td>\n",
       "      <td>0.299</td>\n",
       "      <td>0.269</td>\n",
       "      <td>-0.6486</td>\n",
       "    </tr>\n",
       "    <tr>\n",
       "      <th>4362</th>\n",
       "      <td>B007JINB0W</td>\n",
       "      <td>A178M2AHNWQZB0</td>\n",
       "      <td>We love the rice noodles, and have problems finding them locally. It's nice to have them available via Amazon.\\n\\nIf you follow the directions on the package and rinse them well, there is no odor remaining. We don't bother to dry them out in the ...</td>\n",
       "      <td>As good as all the other Miracle noodle products</td>\n",
       "      <td>5</td>\n",
       "      <td>2017</td>\n",
       "      <td>Miracle Noodle Zero Carb, Gluten Free Shirataki Pasta, Spinach Angel Hair, 7-Ounce (Pack of 24)</td>\n",
       "      <td>Miracle Noodle</td>\n",
       "      <td>Grocery &amp; Gourmet Food; Pasta &amp; Noodles; Noodles; Shirataki</td>\n",
       "      <td>As good as all the other Miracle noodle products: We love the rice noodles, and have problems finding them locally. It's nice to have them available via Amazon.\\n\\nIf you follow the directions on the package and rinse them well, there is no odor ...</td>\n",
       "      <td>As good as all the other Miracle noodle products: We love the rice noodles, and have problems finding them locally. It's nice to have them available via Amazon.\\n\\nIf you follow the directions on the package and rinse them well, there is no odor ...</td>\n",
       "      <td>[as, good, as, all, the, other, miracle, noodle, products, we, love, the, rice, noodles, and, have, problems, finding, them, locally, it, 's, nice, to, have, them, available, via, amazon, if, you, follow, the, directions, on, the, package, and, r...</td>\n",
       "      <td>[good, miracle, noodle, products, love, rice, noodles, problems, finding, locally, nice, available, amazon, follow, directions, package, rinse, odor, remaining, bother, dry, pan, suggested, rice, substitute, stir, fry, asian, dishes, wet]</td>\n",
       "      <td>[good, Miracle, noodle, product, love, rice, noodle, problem, find, locally, nice, available, Amazon, follow, direction, package, rinse, odor, remain, bother, suggest, rice, substitute, stir, asian, dish]</td>\n",
       "      <td>as good as all the other miracle noodle products we love the rice noodles and have problems finding them locally it 's nice to have them available via amazon if you follow the directions on the package and rinse them well there is no odor remaini...</td>\n",
       "      <td>good miracle noodle products love rice noodles problems finding locally nice available amazon follow directions package rinse odor remaining bother dry pan suggested rice substitute stir fry asian dishes wet</td>\n",
       "      <td>good miracle noodle product love rice noodle problem find locally nice available amazon follow direction package rinse odor remain bother dry pan suggest rice substitute stir fry asian dish wet</td>\n",
       "      <td>High</td>\n",
       "      <td>0.054</td>\n",
       "      <td>0.733</td>\n",
       "      <td>0.214</td>\n",
       "      <td>0.9279</td>\n",
       "    </tr>\n",
       "  </tbody>\n",
       "</table>\n",
       "<p>4363 rows × 22 columns</p>\n",
       "</div>"
      ],
      "text/plain": [
       "            asin      reviewerID  \\\n",
       "0     B007JINB0W   A3Y51NV9HU5T2   \n",
       "1     B007JINB0W  A3D7EFSRC6Y9MP   \n",
       "2     B007JINB0W    A4AM5KBP3I2R   \n",
       "3     B007JINB0W  A3GHK4IL78DB7Y   \n",
       "4     B007JINB0W   AH3B94LQOPPY6   \n",
       "...          ...             ...   \n",
       "4358  B007JINB0W   A73IG1ED6S0JR   \n",
       "4359  B007JINB0W  A1XZ2H0MYG54M0   \n",
       "4360  B007JINB0W  A3I2YF0MXB7P0B   \n",
       "4361  B007JINB0W  A2UELLFLITPMT1   \n",
       "4362  B007JINB0W  A178M2AHNWQZB0   \n",
       "\n",
       "                                                                                                                                                                                                                                                     reviewText  \\\n",
       "0                                                                                                                                                                                          Great pasta taste and feel, but the spell in the packaged is SKRONG!   \n",
       "1                                                                                                                                                     The texture just made it a little strange to eat. Otherwise the flavor is okay, very bland so add spices.   \n",
       "2                                                                                                                                                                                       The herb flavor makes the odd texture of shirataki much more palatable.   \n",
       "3     I didn't have a problem at all with a half filled bag or anything that other users said. I was concerned at first but I took a chance and there were no problems.\\nI find the best way to get rid of the initial smell is to boil it will a cube of bo...   \n",
       "4                                                                                                                                                                                                                 They taste like whatever you cook them with.    \n",
       "...                                                                                                                                                                                                                                                         ...   \n",
       "4358                                                                                                                                                                             Product arrived with two of the bags punctured. Also smells really really bad.   \n",
       "4359                                                                                                                                                                                                                                                        Ok.   \n",
       "4360  I like these noodles but the spinach ones just taste odd. They have a bitter flavor compared to the other ones. I don't think it tastes like Spinach, it just tastes bitter and odd. Now I understand why these were on sale compared to the other one...   \n",
       "4361                                                                                                                                                                                                                    Truly horrific. Like eating dead worms.   \n",
       "4362  We love the rice noodles, and have problems finding them locally. It's nice to have them available via Amazon.\\n\\nIf you follow the directions on the package and rinse them well, there is no odor remaining. We don't bother to dry them out in the ...   \n",
       "\n",
       "                                                summary  overall  year  \\\n",
       "0                                            Four Stars        4  2018   \n",
       "1                           Okay but don't like texture        3  2014   \n",
       "2                              Go for the green noodles        5  2018   \n",
       "3                            Its an awesome substitute.        5  2018   \n",
       "4                                            Five Stars        5  2016   \n",
       "...                                                 ...      ...   ...   \n",
       "4358                                 would not recomend        1  2016   \n",
       "4359                                         Five Stars        5  2016   \n",
       "4360  Not awful, but now I know why these were on sale.        2  2013   \n",
       "4361                                 Don't even try it.        1  2017   \n",
       "4362   As good as all the other Miracle noodle products        5  2017   \n",
       "\n",
       "                                                                                                title  \\\n",
       "0     Miracle Noodle Zero Carb, Gluten Free Shirataki Pasta, Spinach Angel Hair, 7-Ounce (Pack of 24)   \n",
       "1     Miracle Noodle Zero Carb, Gluten Free Shirataki Pasta, Spinach Angel Hair, 7-Ounce (Pack of 24)   \n",
       "2     Miracle Noodle Zero Carb, Gluten Free Shirataki Pasta, Spinach Angel Hair, 7-Ounce (Pack of 24)   \n",
       "3     Miracle Noodle Zero Carb, Gluten Free Shirataki Pasta, Spinach Angel Hair, 7-Ounce (Pack of 24)   \n",
       "4     Miracle Noodle Zero Carb, Gluten Free Shirataki Pasta, Spinach Angel Hair, 7-Ounce (Pack of 24)   \n",
       "...                                                                                               ...   \n",
       "4358  Miracle Noodle Zero Carb, Gluten Free Shirataki Pasta, Spinach Angel Hair, 7-Ounce (Pack of 24)   \n",
       "4359  Miracle Noodle Zero Carb, Gluten Free Shirataki Pasta, Spinach Angel Hair, 7-Ounce (Pack of 24)   \n",
       "4360  Miracle Noodle Zero Carb, Gluten Free Shirataki Pasta, Spinach Angel Hair, 7-Ounce (Pack of 24)   \n",
       "4361  Miracle Noodle Zero Carb, Gluten Free Shirataki Pasta, Spinach Angel Hair, 7-Ounce (Pack of 24)   \n",
       "4362  Miracle Noodle Zero Carb, Gluten Free Shirataki Pasta, Spinach Angel Hair, 7-Ounce (Pack of 24)   \n",
       "\n",
       "               brand  \\\n",
       "0     Miracle Noodle   \n",
       "1     Miracle Noodle   \n",
       "2     Miracle Noodle   \n",
       "3     Miracle Noodle   \n",
       "4     Miracle Noodle   \n",
       "...              ...   \n",
       "4358  Miracle Noodle   \n",
       "4359  Miracle Noodle   \n",
       "4360  Miracle Noodle   \n",
       "4361  Miracle Noodle   \n",
       "4362  Miracle Noodle   \n",
       "\n",
       "                                                         category  \\\n",
       "0     Grocery & Gourmet Food; Pasta & Noodles; Noodles; Shirataki   \n",
       "1     Grocery & Gourmet Food; Pasta & Noodles; Noodles; Shirataki   \n",
       "2     Grocery & Gourmet Food; Pasta & Noodles; Noodles; Shirataki   \n",
       "3     Grocery & Gourmet Food; Pasta & Noodles; Noodles; Shirataki   \n",
       "4     Grocery & Gourmet Food; Pasta & Noodles; Noodles; Shirataki   \n",
       "...                                                           ...   \n",
       "4358  Grocery & Gourmet Food; Pasta & Noodles; Noodles; Shirataki   \n",
       "4359  Grocery & Gourmet Food; Pasta & Noodles; Noodles; Shirataki   \n",
       "4360  Grocery & Gourmet Food; Pasta & Noodles; Noodles; Shirataki   \n",
       "4361  Grocery & Gourmet Food; Pasta & Noodles; Noodles; Shirataki   \n",
       "4362  Grocery & Gourmet Food; Pasta & Noodles; Noodles; Shirataki   \n",
       "\n",
       "                                                                                                                                                                                                                                               review-text-full  \\\n",
       "0                                                                                                                                                                              Four Stars: Great pasta taste and feel, but the spell in the packaged is SKRONG!   \n",
       "1                                                                                                                        Okay but don't like texture: The texture just made it a little strange to eat. Otherwise the flavor is okay, very bland so add spices.   \n",
       "2                                                                                                                                                             Go for the green noodles: The herb flavor makes the odd texture of shirataki much more palatable.   \n",
       "3     Its an awesome substitute.: I didn't have a problem at all with a half filled bag or anything that other users said. I was concerned at first but I took a chance and there were no problems.\\nI find the best way to get rid of the initial smell is ...   \n",
       "4                                                                                                                                                                                                     Five Stars: They taste like whatever you cook them with.    \n",
       "...                                                                                                                                                                                                                                                         ...   \n",
       "4358                                                                                                                                                         would not recomend: Product arrived with two of the bags punctured. Also smells really really bad.   \n",
       "4359                                                                                                                                                                                                                                            Five Stars: Ok.   \n",
       "4360  Not awful, but now I know why these were on sale.: I like these noodles but the spinach ones just taste odd. They have a bitter flavor compared to the other ones. I don't think it tastes like Spinach, it just tastes bitter and odd. Now I understa...   \n",
       "4361                                                                                                                                                                                                Don't even try it.: Truly horrific. Like eating dead worms.   \n",
       "4362  As good as all the other Miracle noodle products: We love the rice noodles, and have problems finding them locally. It's nice to have them available via Amazon.\\n\\nIf you follow the directions on the package and rinse them well, there is no odor ...   \n",
       "\n",
       "                                                                                                                                                                                                                                           review-text-full_raw  \\\n",
       "0                                                                                                                                                                              Four Stars: Great pasta taste and feel, but the spell in the packaged is SKRONG!   \n",
       "1                                                                                                                        Okay but don't like texture: The texture just made it a little strange to eat. Otherwise the flavor is okay, very bland so add spices.   \n",
       "2                                                                                                                                                             Go for the green noodles: The herb flavor makes the odd texture of shirataki much more palatable.   \n",
       "3     Its an awesome substitute.: I didn't have a problem at all with a half filled bag or anything that other users said. I was concerned at first but I took a chance and there were no problems.\\nI find the best way to get rid of the initial smell is ...   \n",
       "4                                                                                                                                                                                                     Five Stars: They taste like whatever you cook them with.    \n",
       "...                                                                                                                                                                                                                                                         ...   \n",
       "4358                                                                                                                                                         would not recomend: Product arrived with two of the bags punctured. Also smells really really bad.   \n",
       "4359                                                                                                                                                                                                                                            Five Stars: Ok.   \n",
       "4360  Not awful, but now I know why these were on sale.: I like these noodles but the spinach ones just taste odd. They have a bitter flavor compared to the other ones. I don't think it tastes like Spinach, it just tastes bitter and odd. Now I understa...   \n",
       "4361                                                                                                                                                                                                Don't even try it.: Truly horrific. Like eating dead worms.   \n",
       "4362  As good as all the other Miracle noodle products: We love the rice noodles, and have problems finding them locally. It's nice to have them available via Amazon.\\n\\nIf you follow the directions on the package and rinse them well, there is no odor ...   \n",
       "\n",
       "                                                                                                                                                                                                                                                   tokens-dirty  \\\n",
       "0                                                                                                                                                                 [four, stars, great, pasta, taste, and, feel, but, the, spell, in, the, packaged, is, skrong]   \n",
       "1                                                                                                [okay, but, do, n't, like, texture, the, texture, just, made, it, a, little, strange, to, eat, otherwise, the, flavor, is, okay, very, bland, so, add, spices]   \n",
       "2                                                                                                                                             [go, for, the, green, noodles, the, herb, flavor, makes, the, odd, texture, of, shirataki, much, more, palatable]   \n",
       "3     [its, an, awesome, substitute, i, did, n't, have, a, problem, at, all, with, a, half, filled, bag, or, anything, that, other, users, said, i, was, concerned, at, first, but, i, took, a, chance, and, there, were, no, problems, i, find, the, best, ...   \n",
       "4                                                                                                                                                                                             [five, stars, they, taste, like, whatever, you, cook, them, with]   \n",
       "...                                                                                                                                                                                                                                                         ...   \n",
       "4358                                                                                                                                           [would, not, recomend, product, arrived, with, two, of, the, bags, punctured, also, smells, really, really, bad]   \n",
       "4359                                                                                                                                                                                                                                          [five, stars, ok]   \n",
       "4360  [not, awful, but, now, i, know, why, these, were, on, sale, i, like, these, noodles, but, the, spinach, ones, just, taste, odd, they, have, a, bitter, flavor, compared, to, the, other, ones, i, do, n't, think, it, tastes, like, spinach, it, just,...   \n",
       "4361                                                                                                                                                                                       [do, n't, even, try, it, truly, horrific, like, eating, dead, worms]   \n",
       "4362  [as, good, as, all, the, other, miracle, noodle, products, we, love, the, rice, noodles, and, have, problems, finding, them, locally, it, 's, nice, to, have, them, available, via, amazon, if, you, follow, the, directions, on, the, package, and, r...   \n",
       "\n",
       "                                                                                                                                                                                                                                              tokens  \\\n",
       "0                                                                                                                                                                                        [stars, great, pasta, taste, feel, spell, packaged, skrong]   \n",
       "1                                                                                                                                                             [okay, like, texture, texture, little, strange, eat, flavor, okay, bland, add, spices]   \n",
       "2                                                                                                                                                                          [green, noodles, herb, flavor, makes, odd, texture, shirataki, palatable]   \n",
       "3                               [awesome, substitute, problem, half, filled, bag, users, said, concerned, took, chance, problems, find, best, way, rid, initial, smell, boil, cube, bouillon, texture, good, notice, replace, noodle, eat, nt, mind]   \n",
       "4                                                                                                                                                                                                                         [stars, taste, like, cook]   \n",
       "...                                                                                                                                                                                                                                              ...   \n",
       "4358                                                                                                                                                                                      [recomend, product, arrived, bags, punctured, smells, bad]   \n",
       "4359                                                                                                                                                                                                                                     [stars, ok]   \n",
       "4360                                        [awful, know, sale, like, noodles, spinach, ones, taste, odd, bitter, flavor, compared, ones, think, tastes, like, spinach, tastes, bitter, odd, understand, sale, compared, ones, drawer, fridge, know]   \n",
       "4361                                                                                                                                                                                               [try, truly, horrific, like, eating, dead, worms]   \n",
       "4362  [good, miracle, noodle, products, love, rice, noodles, problems, finding, locally, nice, available, amazon, follow, directions, package, rinse, odor, remaining, bother, dry, pan, suggested, rice, substitute, stir, fry, asian, dishes, wet]   \n",
       "\n",
       "                                                                                                                                                                                                            lemmas  \\\n",
       "0                                                                                                                                                        [star, great, pasta, taste, feel, spell, package, SKRONG]   \n",
       "1                                                                                                                                      [okay, like, texture, texture, little, strange, flavor, okay, bland, spice]   \n",
       "2                                                                                                                                               [green, noodle, herb, flavor, make, texture, shirataki, palatable]   \n",
       "3                            [awesome, substitute, problem, half, fill, user, say, concern, take, chance, problem, find, good, initial, smell, boil, cube, bouillon, texture, good, notice, replace, noodle, mind]   \n",
       "4                                                                                                                                                                                        [star, taste, like, cook]   \n",
       "...                                                                                                                                                                                                            ...   \n",
       "4358                                                                                                                                                             [recomend, product, arrive, bag, puncture, smell]   \n",
       "4359                                                                                                                                                                                                        [star]   \n",
       "4360                        [awful, know, sale, like, noodle, spinach, one, taste, bitter, flavor, compare, one, think, taste, like, Spinach, taste, bitter, understand, sale, compare, one, drawer, fridge, know]   \n",
       "4361                                                                                                                                                                      [truly, horrific, like, eat, dead, worm]   \n",
       "4362  [good, Miracle, noodle, product, love, rice, noodle, problem, find, locally, nice, available, Amazon, follow, direction, package, rinse, odor, remain, bother, suggest, rice, substitute, stir, asian, dish]   \n",
       "\n",
       "                                                                                                                                                                                                                                            tokens-dirty-joined  \\\n",
       "0                                                                                                                                                                                 four stars great pasta taste and feel but the spell in the packaged is skrong   \n",
       "1                                                                                                                           okay but do n't like texture the texture just made it a little strange to eat otherwise the flavor is okay very bland so add spices   \n",
       "2                                                                                                                                                               go for the green noodles the herb flavor makes the odd texture of shirataki much more palatable   \n",
       "3     its an awesome substitute i did n't have a problem at all with a half filled bag or anything that other users said i was concerned at first but i took a chance and there were no problems i find the best way to get rid of the initial smell is to b...   \n",
       "4                                                                                                                                                                                                        five stars they taste like whatever you cook them with   \n",
       "...                                                                                                                                                                                                                                                         ...   \n",
       "4358                                                                                                                                                            would not recomend product arrived with two of the bags punctured also smells really really bad   \n",
       "4359                                                                                                                                                                                                                                              five stars ok   \n",
       "4360  not awful but now i know why these were on sale i like these noodles but the spinach ones just taste odd they have a bitter flavor compared to the other ones i do n't think it tastes like spinach it just tastes bitter and odd now i understand why...   \n",
       "4361                                                                                                                                                                                                   do n't even try it truly horrific like eating dead worms   \n",
       "4362  as good as all the other miracle noodle products we love the rice noodles and have problems finding them locally it 's nice to have them available via amazon if you follow the directions on the package and rinse them well there is no odor remaini...   \n",
       "\n",
       "                                                                                                                                                                                                        tokens-joined  \\\n",
       "0                                                                                                                                                                  stars great pasta taste feel spell packaged skrong   \n",
       "1                                                                                                                                           okay like texture texture little strange eat flavor okay bland add spices   \n",
       "2                                                                                                                                                     green noodles herb flavor makes odd texture shirataki palatable   \n",
       "3                              awesome substitute problem half filled bag users said concerned took chance problems find best way rid initial smell boil cube bouillon texture good notice replace noodle eat nt mind   \n",
       "4                                                                                                                                                                                               stars taste like cook   \n",
       "...                                                                                                                                                                                                               ...   \n",
       "4358                                                                                                                                                               recomend product arrived bags punctured smells bad   \n",
       "4359                                                                                                                                                                                                         stars ok   \n",
       "4360                                     awful know sale like noodles spinach ones taste odd bitter flavor compared ones think tastes like spinach tastes bitter odd understand sale compared ones drawer fridge know   \n",
       "4361                                                                                                                                                                        try truly horrific like eating dead worms   \n",
       "4362  good miracle noodle products love rice noodles problems finding locally nice available amazon follow directions package rinse odor remaining bother dry pan suggested rice substitute stir fry asian dishes wet   \n",
       "\n",
       "                                                                                                                                                                                          lemmas-joined  \\\n",
       "0                                                                                                                                                      star great pasta taste feel spell package skrong   \n",
       "1                                                                                                                              okay like texture texture little strange eat flavor okay bland add spice   \n",
       "2                                                                                                                                         green noodle herb flavor make odd texture shirataki palatable   \n",
       "3                      awesome substitute problem half fill bag user say concern take chance problem find good way rid initial smell boil cube bouillon texture good notice replace noodle eat not mind   \n",
       "4                                                                                                                                                                                  star taste like cook   \n",
       "...                                                                                                                                                                                                 ...   \n",
       "4358                                                                                                                                                     recomend product arrive bag puncture smell bad   \n",
       "4359                                                                                                                                                                                            star ok   \n",
       "4360                               awful know sale like noodle spinach one taste odd bitter flavor compare one think taste like spinach taste bitter odd understand sale compare one drawer fridge know   \n",
       "4361                                                                                                                                                              try truly horrific like eat dead worm   \n",
       "4362  good miracle noodle product love rice noodle problem find locally nice available amazon follow direction package rinse odor remain bother dry pan suggest rice substitute stir fry asian dish wet   \n",
       "\n",
       "     target-rating    neg    neu    pos  compound  \n",
       "0             None  0.000  0.831  0.169    0.4295  \n",
       "1             None  0.157  0.709  0.135   -0.1594  \n",
       "2             High  0.114  0.743  0.143    0.1513  \n",
       "3             High  0.072  0.735  0.193    0.8936  \n",
       "4             High  0.000  0.783  0.217    0.3612  \n",
       "...            ...    ...    ...    ...       ...  \n",
       "4358           Low  0.213  0.787  0.000   -0.6214  \n",
       "4359          High  0.000  0.476  0.524    0.2960  \n",
       "4360           Low  0.163  0.736  0.101   -0.7236  \n",
       "4361           Low  0.433  0.299  0.269   -0.6486  \n",
       "4362          High  0.054  0.733  0.214    0.9279  \n",
       "\n",
       "[4363 rows x 22 columns]"
      ]
     },
     "execution_count": 65,
     "metadata": {},
     "output_type": "execute_result"
    }
   ],
   "source": [
    "df['sentiment_scores'] = df['review-text-full'].map(sia.polarity_scores)\n",
    "# Convert the column of dictionaries into separate columns\n",
    "vader_scores = df['sentiment_scores'].apply(pd.Series)\n",
    "# Join the new DataFrame with the original DataFrame\n",
    "df_sentiment = pd.concat([df, vader_scores], axis=1).drop('sentiment_scores', axis=1)\n",
    "df_sentiment"
   ]
  },
  {
   "cell_type": "code",
   "execution_count": 66,
   "id": "2432069b-69a0-4153-962a-28a7dae78d12",
   "metadata": {
    "execution": {
     "iopub.execute_input": "2024-02-13T01:39:17.169840Z",
     "iopub.status.busy": "2024-02-13T01:39:17.169728Z",
     "iopub.status.idle": "2024-02-13T01:39:17.172625Z",
     "shell.execute_reply": "2024-02-13T01:39:17.172287Z",
     "shell.execute_reply.started": "2024-02-13T01:39:17.169829Z"
    }
   },
   "outputs": [
    {
     "data": {
      "text/plain": [
       "3023"
      ]
     },
     "execution_count": 66,
     "metadata": {},
     "output_type": "execute_result"
    }
   ],
   "source": [
    "# Define filter for positive reviews\n",
    "pos_sentiment_reviews = df_sentiment['compound'] > 0\n",
    "pos_sentiment_reviews.sum()"
   ]
  },
  {
   "cell_type": "markdown",
   "id": "0f8ebcb8-bc05-4998-aac4-492d07572a64",
   "metadata": {
    "execution": {
     "iopub.execute_input": "2024-02-13T01:39:17.173247Z",
     "iopub.status.busy": "2024-02-13T01:39:17.173145Z",
     "iopub.status.idle": "2024-02-13T01:39:17.187332Z",
     "shell.execute_reply": "2024-02-13T01:39:17.186885Z",
     "shell.execute_reply.started": "2024-02-13T01:39:17.173238Z"
    }
   },
   "source": [
    "### Correlations"
   ]
  },
  {
   "cell_type": "code",
   "execution_count": 67,
   "id": "2cf619ff",
   "metadata": {},
   "outputs": [
    {
     "data": {
      "image/png": "[encoded data removed]",
      "text/plain": [
       "<Figure size 1200x500 with 2 Axes>"
      ]
     },
     "metadata": {},
     "output_type": "display_data"
    }
   ],
   "source": [
    "fig, axes = plt.subplots(ncols=2, figsize=(12, 5))\n",
    "sns.barplot(data=df_sentiment, x='overall', y='compound', hue='overall', palette=palette_tab10,ax=axes[0], \n",
    "              legend=False)\n",
    "sns.stripplot(data=df_sentiment, x='overall', y='compound', hue='overall', palette=palette_tab10,ax=axes[0], \n",
    "              legend=False,alpha=0.3, edgecolor='white', linewidth=1, size=3)\n",
    "axes[0].set_title(\"Sentiment Scores by Rating\")\n",
    "axes[0].axhline(0, color='black', linestyle='--')\n",
    "sns.boxplot(data=df_sentiment, x='overall', y='compound', hue='overall', palette=palette_tab10, ax=axes[1], legend=False)\n",
    "fig.tight_layout()"
   ]
  },
  {
   "cell_type": "code",
   "execution_count": 68,
   "id": "b9ee3088",
   "metadata": {},
   "outputs": [
    {
     "data": {
      "text/plain": [
       "<Axes: >"
      ]
     },
     "execution_count": 68,
     "metadata": {},
     "output_type": "execute_result"
    },
    {
     "data": {
      "image/png": "[encoded data removed]",
      "text/plain": [
       "<Figure size 640x480 with 2 Axes>"
      ]
     },
     "metadata": {},
     "output_type": "display_data"
    }
   ],
   "source": [
    "sentment_cols = ['compound','pos','neg','neu']\n",
    "sns.heatmap(df_sentiment[['overall',*sentment_cols]].corr(), cmap='coolwarm', annot=True, fmt=\".2f\")"
   ]
  },
  {
   "cell_type": "code",
   "execution_count": 69,
   "id": "96932cb0",
   "metadata": {},
   "outputs": [
    {
     "data": {
      "text/plain": [
       "<Axes: >"
      ]
     },
     "execution_count": 69,
     "metadata": {},
     "output_type": "execute_result"
    },
    {
     "data": {
      "image/png": "[encoded data removed]",
      "text/plain": [
       "<Figure size 640x480 with 2 Axes>"
      ]
     },
     "metadata": {},
     "output_type": "display_data"
    }
   ],
   "source": [
    "sns.heatmap(df_sentiment[sentment_cols].corrwith(df_sentiment['overall']).to_frame('Correlation with Ratings'),\n",
    "            cmap='coolwarm', annot=True, fmt=\".2f\")"
   ]
  },
  {
   "cell_type": "markdown",
   "id": "ad73864f-8029-4059-936b-06702230dade",
   "metadata": {
    "execution": {
     "iopub.execute_input": "2024-02-09T02:07:16.377015Z",
     "iopub.status.busy": "2024-02-09T02:07:16.376619Z",
     "iopub.status.idle": "2024-02-09T02:07:16.386037Z",
     "shell.execute_reply": "2024-02-09T02:07:16.384163Z",
     "shell.execute_reply.started": "2024-02-09T02:07:16.376990Z"
    }
   },
   "source": [
    "> To Do: Add Plotting Sentiment Scores"
   ]
  },
  {
   "cell_type": "code",
   "execution_count": null,
   "id": "8fc9d458-b8ca-400f-8bcb-a9131e6ed885",
   "metadata": {
    "execution": {
     "iopub.execute_input": "2024-02-13T01:39:17.188192Z",
     "iopub.status.busy": "2024-02-13T01:39:17.188004Z",
     "iopub.status.idle": "2024-02-13T01:39:17.977680Z",
     "shell.execute_reply": "2024-02-13T01:39:17.977136Z",
     "shell.execute_reply.started": "2024-02-13T01:39:17.188181Z"
    }
   },
   "outputs": [
    {
     "ename": "",
     "evalue": "",
     "output_type": "error",
     "traceback": [
      "\u001b[1;31mThe kernel failed to start as 'TypeAliasType' could not be imported from '/opt/homebrew/Caskroom/miniforge/base/envs/nlp-env/lib/python3.10/site-packages/typing_extensions.py'.\n",
      "\u001b[1;31mClick <a href='https://aka.ms/kernelFailuresModuleImportErrFromFile'>here</a> for more info."
     ]
    }
   ],
   "source": [
    "raise Exception(\"stop here\")"
   ]
  },
  {
   "cell_type": "markdown",
   "id": "3d705254-9b2f-4e44-b42c-f50d67b0371a",
   "metadata": {},
   "source": [
    "## Sentiment - HuggingFace Pipelines"
   ]
  },
  {
   "cell_type": "code",
   "execution_count": null,
   "id": "d3855479",
   "metadata": {},
   "outputs": [
    {
     "ename": "",
     "evalue": "",
     "output_type": "error",
     "traceback": [
      "\u001b[1;31mThe kernel failed to start as 'TypeAliasType' could not be imported from '/opt/homebrew/Caskroom/miniforge/base/envs/nlp-env/lib/python3.10/site-packages/typing_extensions.py'.\n",
      "\u001b[1;31mClick <a href='https://aka.ms/kernelFailuresModuleImportErrFromFile'>here</a> for more info."
     ]
    }
   ],
   "source": [
    "!pip install transformers"
   ]
  },
  {
   "cell_type": "code",
   "execution_count": null,
   "id": "211e68fd",
   "metadata": {},
   "outputs": [
    {
     "ename": "",
     "evalue": "",
     "output_type": "error",
     "traceback": [
      "\u001b[1;31mThe kernel failed to start as 'TypeAliasType' could not be imported from '/opt/homebrew/Caskroom/miniforge/base/envs/nlp-env/lib/python3.10/site-packages/typing_extensions.py'.\n",
      "\u001b[1;31mClick <a href='https://aka.ms/kernelFailuresModuleImportErrFromFile'>here</a> for more info."
     ]
    }
   ],
   "source": [
    "# conda install tensorflow-mac tensorflow-metal\n",
    "!pip install tensorflow-macos\"<=2.13.1\"\n",
    "!pip install tensorflow-metal\n",
    "!pip install google"
   ]
  },
  {
   "cell_type": "code",
   "execution_count": null,
   "id": "c67320ea",
   "metadata": {},
   "outputs": [
    {
     "ename": "",
     "evalue": "",
     "output_type": "error",
     "traceback": [
      "\u001b[1;31mThe kernel failed to start as 'TypeAliasType' could not be imported from '/opt/homebrew/Caskroom/miniforge/base/envs/nlp-env/lib/python3.10/site-packages/typing_extensions.py'.\n",
      "\u001b[1;31mClick <a href='https://aka.ms/kernelFailuresModuleImportErrFromFile'>here</a> for more info."
     ]
    }
   ],
   "source": [
    "# del tf\n",
    "import google\n",
    "help(google)"
   ]
  },
  {
   "cell_type": "code",
   "execution_count": null,
   "id": "0eedc8f7",
   "metadata": {},
   "outputs": [
    {
     "ename": "",
     "evalue": "",
     "output_type": "error",
     "traceback": [
      "\u001b[1;31mThe kernel failed to start as 'TypeAliasType' could not be imported from '/opt/homebrew/Caskroom/miniforge/base/envs/nlp-env/lib/python3.10/site-packages/typing_extensions.py'.\n",
      "\u001b[1;31mClick <a href='https://aka.ms/kernelFailuresModuleImportErrFromFile'>here</a> for more info."
     ]
    }
   ],
   "source": [
    "dir(google)"
   ]
  },
  {
   "cell_type": "code",
   "execution_count": null,
   "id": "998be1cc",
   "metadata": {},
   "outputs": [
    {
     "ename": "",
     "evalue": "",
     "output_type": "error",
     "traceback": [
      "\u001b[1;31mThe kernel failed to start as 'TypeAliasType' could not be imported from '/opt/homebrew/Caskroom/miniforge/base/envs/nlp-env/lib/python3.10/site-packages/typing_extensions.py'.\n",
      "\u001b[1;31mClick <a href='https://aka.ms/kernelFailuresModuleImportErrFromFile'>here</a> for more info."
     ]
    }
   ],
   "source": [
    "import tensorflow as tf"
   ]
  },
  {
   "cell_type": "code",
   "execution_count": null,
   "id": "57295c48-e11b-442d-9d2d-53a29a1676e4",
   "metadata": {
    "execution": {
     "iopub.status.busy": "2024-02-13T01:39:17.977954Z",
     "iopub.status.idle": "2024-02-13T01:39:17.978088Z",
     "shell.execute_reply": "2024-02-13T01:39:17.978022Z",
     "shell.execute_reply.started": "2024-02-13T01:39:17.978016Z"
    }
   },
   "outputs": [
    {
     "ename": "",
     "evalue": "",
     "output_type": "error",
     "traceback": [
      "\u001b[1;31mThe kernel failed to start as 'TypeAliasType' could not be imported from '/opt/homebrew/Caskroom/miniforge/base/envs/nlp-env/lib/python3.10/site-packages/typing_extensions.py'.\n",
      "\u001b[1;31mClick <a href='https://aka.ms/kernelFailuresModuleImportErrFromFile'>here</a> for more info."
     ]
    }
   ],
   "source": [
    "from transformers import pipeline\n",
    "model = \"distilbert-base-uncased-finetuned-sst-2-english\"\n",
    "sentiment_analyzer = pipeline(task=\"sentiment-analysis\",model=model)"
   ]
  },
  {
   "cell_type": "code",
   "execution_count": null,
   "id": "770bdbf2-6397-474d-a4c9-e99ce626c993",
   "metadata": {
    "execution": {
     "iopub.status.busy": "2024-02-13T01:39:17.978693Z",
     "iopub.status.idle": "2024-02-13T01:39:17.978843Z",
     "shell.execute_reply": "2024-02-13T01:39:17.978772Z",
     "shell.execute_reply.started": "2024-02-13T01:39:17.978766Z"
    }
   },
   "outputs": [
    {
     "ename": "",
     "evalue": "",
     "output_type": "error",
     "traceback": [
      "\u001b[1;31mThe kernel failed to start as 'TypeAliasType' could not be imported from '/opt/homebrew/Caskroom/miniforge/base/envs/nlp-env/lib/python3.10/site-packages/typing_extensions.py'.\n",
      "\u001b[1;31mClick <a href='https://aka.ms/kernelFailuresModuleImportErrFromFile'>here</a> for more info."
     ]
    }
   ],
   "source": [
    "sentiment_analyzer(\"I think i enjoy it when I am being beat up\")"
   ]
  },
  {
   "cell_type": "code",
   "execution_count": null,
   "id": "b9d2ebde-a7cd-4490-ad9c-fd544240872d",
   "metadata": {
    "execution": {
     "iopub.status.busy": "2024-02-13T01:39:17.979602Z",
     "iopub.status.idle": "2024-02-13T01:39:17.979742Z",
     "shell.execute_reply": "2024-02-13T01:39:17.979675Z",
     "shell.execute_reply.started": "2024-02-13T01:39:17.979669Z"
    }
   },
   "outputs": [
    {
     "ename": "",
     "evalue": "",
     "output_type": "error",
     "traceback": [
      "\u001b[1;31mThe kernel failed to start as 'TypeAliasType' could not be imported from '/opt/homebrew/Caskroom/miniforge/base/envs/nlp-env/lib/python3.10/site-packages/typing_extensions.py'.\n",
      "\u001b[1;31mClick <a href='https://aka.ms/kernelFailuresModuleImportErrFromFile'>here</a> for more info."
     ]
    }
   ],
   "source": [
    "df['review-text-full'].isna().sum()"
   ]
  },
  {
   "cell_type": "code",
   "execution_count": null,
   "id": "4b2e2175-a734-4f16-ad94-2fa81cb49d36",
   "metadata": {
    "execution": {
     "iopub.status.busy": "2024-02-13T01:39:17.980071Z",
     "iopub.status.idle": "2024-02-13T01:39:17.980190Z",
     "shell.execute_reply": "2024-02-13T01:39:17.980127Z",
     "shell.execute_reply.started": "2024-02-13T01:39:17.980122Z"
    }
   },
   "outputs": [
    {
     "ename": "",
     "evalue": "",
     "output_type": "error",
     "traceback": [
      "\u001b[1;31mThe kernel failed to start as 'TypeAliasType' could not be imported from '/opt/homebrew/Caskroom/miniforge/base/envs/nlp-env/lib/python3.10/site-packages/typing_extensions.py'.\n",
      "\u001b[1;31mClick <a href='https://aka.ms/kernelFailuresModuleImportErrFromFile'>here</a> for more info."
     ]
    }
   ],
   "source": [
    "test_text = df.loc[0,'review-text-full']\n",
    "test_text"
   ]
  },
  {
   "cell_type": "code",
   "execution_count": null,
   "id": "78e7070e-54e2-4b85-8622-64fe8c327583",
   "metadata": {
    "execution": {
     "iopub.status.busy": "2024-02-13T01:39:17.981228Z",
     "iopub.status.idle": "2024-02-13T01:39:17.981383Z",
     "shell.execute_reply": "2024-02-13T01:39:17.981308Z",
     "shell.execute_reply.started": "2024-02-13T01:39:17.981302Z"
    }
   },
   "outputs": [
    {
     "ename": "",
     "evalue": "",
     "output_type": "error",
     "traceback": [
      "\u001b[1;31mThe kernel failed to start as 'TypeAliasType' could not be imported from '/opt/homebrew/Caskroom/miniforge/base/envs/nlp-env/lib/python3.10/site-packages/typing_extensions.py'.\n",
      "\u001b[1;31mClick <a href='https://aka.ms/kernelFailuresModuleImportErrFromFile'>here</a> for more info."
     ]
    }
   ],
   "source": [
    "sentiment_analyzer(test_text)"
   ]
  },
  {
   "cell_type": "code",
   "execution_count": null,
   "id": "3a689c1d-5daa-4266-93fd-1f8381c81f80",
   "metadata": {
    "execution": {
     "iopub.status.busy": "2024-02-13T01:39:17.981833Z",
     "iopub.status.idle": "2024-02-13T01:39:17.982184Z",
     "shell.execute_reply": "2024-02-13T01:39:17.982106Z",
     "shell.execute_reply.started": "2024-02-13T01:39:17.982100Z"
    }
   },
   "outputs": [
    {
     "ename": "",
     "evalue": "",
     "output_type": "error",
     "traceback": [
      "\u001b[1;31mThe kernel failed to start as 'TypeAliasType' could not be imported from '/opt/homebrew/Caskroom/miniforge/base/envs/nlp-env/lib/python3.10/site-packages/typing_extensions.py'.\n",
      "\u001b[1;31mClick <a href='https://aka.ms/kernelFailuresModuleImportErrFromFile'>here</a> for more info."
     ]
    }
   ],
   "source": [
    "sentiment_results = []\n",
    "for i in df.index:\n",
    "    text = df.loc[i, 'review-text-full']\n",
    "    try:\n",
    "        sent = sentiment_analyzer(text)[0]\n",
    "        \n",
    "    except Exception as e:\n",
    "        display(e)\n",
    "        sent = {'label':pd.NA,'score':pd.NA}\n",
    "    finally:\n",
    "        sentiment_results.append(sent)\n",
    "        \n",
    "\n",
    "# sentiment_results = df['review-text-full'].map(lambda x: sentiment_analyzer(x))\n",
    "len(sentiment_results)"
   ]
  },
  {
   "cell_type": "code",
   "execution_count": null,
   "id": "81451a73-8086-43ba-9bf1-868cab082ca0",
   "metadata": {
    "execution": {
     "iopub.status.busy": "2024-02-13T01:39:17.982767Z",
     "iopub.status.idle": "2024-02-13T01:39:17.982990Z",
     "shell.execute_reply": "2024-02-13T01:39:17.982868Z",
     "shell.execute_reply.started": "2024-02-13T01:39:17.982861Z"
    }
   },
   "outputs": [
    {
     "ename": "",
     "evalue": "",
     "output_type": "error",
     "traceback": [
      "\u001b[1;31mThe kernel failed to start as 'TypeAliasType' could not be imported from '/opt/homebrew/Caskroom/miniforge/base/envs/nlp-env/lib/python3.10/site-packages/typing_extensions.py'.\n",
      "\u001b[1;31mClick <a href='https://aka.ms/kernelFailuresModuleImportErrFromFile'>here</a> for more info."
     ]
    }
   ],
   "source": [
    "pd.DataFrame(sentiment_results)"
   ]
  },
  {
   "cell_type": "code",
   "execution_count": null,
   "id": "56f12a08-4735-4900-bbe9-7e71d0cc2ff2",
   "metadata": {},
   "outputs": [
    {
     "ename": "",
     "evalue": "",
     "output_type": "error",
     "traceback": [
      "\u001b[1;31mThe kernel failed to start as 'TypeAliasType' could not be imported from '/opt/homebrew/Caskroom/miniforge/base/envs/nlp-env/lib/python3.10/site-packages/typing_extensions.py'.\n",
      "\u001b[1;31mClick <a href='https://aka.ms/kernelFailuresModuleImportErrFromFile'>here</a> for more info."
     ]
    }
   ],
   "source": []
  }
 ],
 "metadata": {
  "kernelspec": {
   "display_name": "Python 3 (ipykernel)",
   "language": "python",
   "name": "python3"
  },
  "language_info": {
   "codemirror_mode": {
    "name": "ipython",
    "version": 3
   },
   "file_extension": ".py",
   "mimetype": "text/x-python",
   "name": "python",
   "nbconvert_exporter": "python",
   "pygments_lexer": "ipython3",
   "version": "3.10.14"
  }
 },
 "nbformat": 4,
 "nbformat_minor": 5
}
