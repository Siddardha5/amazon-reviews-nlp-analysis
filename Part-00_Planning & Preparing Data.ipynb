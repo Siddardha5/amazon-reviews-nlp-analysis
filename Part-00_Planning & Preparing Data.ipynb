{
 "cells": [
  {
   "cell_type": "markdown",
   "id": "dd946865-a456-4f06-8b77-e980c15d24c2",
   "metadata": {},
   "source": [
    "# Part 3A - Planning & Preparing Data"
   ]
  },
  {
   "cell_type": "markdown",
   "id": "9d171a09-f30d-4be4-a9fd-2a27f326ae33",
   "metadata": {},
   "source": [
    "- 01/26/24"
   ]
  },
  {
   "cell_type": "markdown",
   "id": "77ed8ae3-4ed2-4d9e-b115-7422a2efff3b",
   "metadata": {},
   "source": [
    "- NEED TO PREPARE/PLAN FOR FULL APP WITH TABULAR DATA + REVIEWS + MANUSCRIPTS."
   ]
  },
  {
   "cell_type": "markdown",
   "id": "83eae818-23fd-42a3-8e87-4c8e260454b0",
   "metadata": {},
   "source": [
    "### Prep TMDB API Data (Was Split Across Several Notebooks)"
   ]
  },
  {
   "cell_type": "code",
   "execution_count": 1,
   "id": "d46bf414-d601-4f50-8747-b20c73a5319b",
   "metadata": {
    "execution": {
     "iopub.execute_input": "2024-02-08T04:04:25.729818Z",
     "iopub.status.busy": "2024-02-08T04:04:25.729630Z",
     "iopub.status.idle": "2024-02-08T04:04:29.919428Z",
     "shell.execute_reply": "2024-02-08T04:04:29.919092Z",
     "shell.execute_reply.started": "2024-02-08T04:04:25.729796Z"
    }
   },
   "outputs": [
    {
     "name": "stdout",
     "output_type": "stream",
     "text": [
      "\n",
      "\u001b[1m[\u001b[0m\u001b[34;49mnotice\u001b[0m\u001b[1;39;49m]\u001b[0m\u001b[39;49m A new release of pip is available: \u001b[0m\u001b[31;49m23.3.2\u001b[0m\u001b[39;49m -> \u001b[0m\u001b[32;49m24.0\u001b[0m\n",
      "\u001b[1m[\u001b[0m\u001b[34;49mnotice\u001b[0m\u001b[1;39;49m]\u001b[0m\u001b[39;49m To update, run: \u001b[0m\u001b[32;49mpip install --upgrade pip\u001b[0m\n"
     ]
    }
   ],
   "source": [
    "## Importing custom function for project\n",
    "!pip install -U dojo_ds -q \n",
    "import dojo_ds as fn\n",
    "# %load_ext autoreload\n",
    "# %autoreload 2\n",
    "# import custom_functions as fn\n",
    "\n",
    "\n",
    "import os,glob,json\n",
    "from pprint import pprint\n",
    "import pandas as pd\n",
    "pd.set_option(\"display.max_columns\",200)"
   ]
  },
  {
   "cell_type": "code",
   "execution_count": 2,
   "id": "c0f8378c-63d8-4290-b460-4b0136da212b",
   "metadata": {
    "execution": {
     "iopub.execute_input": "2024-02-08T04:04:29.920626Z",
     "iopub.status.busy": "2024-02-08T04:04:29.920458Z",
     "iopub.status.idle": "2024-02-08T04:04:29.922270Z",
     "shell.execute_reply": "2024-02-08T04:04:29.921997Z",
     "shell.execute_reply.started": "2024-02-08T04:04:29.920616Z"
    }
   },
   "outputs": [],
   "source": [
    "# !pip install -U dojo_ds -q\n",
    "# import dojo_ds as ds\n",
    "# ds.__version__"
   ]
  },
  {
   "cell_type": "markdown",
   "id": "382c05b6-2ac3-40d0-87a9-72c973c94415",
   "metadata": {},
   "source": [
    "## Setting Filepaths Config Files"
   ]
  },
  {
   "cell_type": "markdown",
   "id": "5642897e-91ca-4e59-8d98-d5862f462ad7",
   "metadata": {},
   "source": [
    ">- Filepath to-dos:\n",
    ">    - Add names of model insights figures to FPATHS     "
   ]
  },
  {
   "cell_type": "code",
   "execution_count": 9,
   "id": "0847aa73-1f5c-4632-ae3d-0cd3da7f6376",
   "metadata": {
    "execution": {
     "iopub.execute_input": "2024-02-08T04:06:11.496758Z",
     "iopub.status.busy": "2024-02-08T04:06:11.496126Z",
     "iopub.status.idle": "2024-02-08T04:06:11.515669Z",
     "shell.execute_reply": "2024-02-08T04:06:11.514741Z",
     "shell.execute_reply.started": "2024-02-08T04:06:11.496731Z"
    }
   },
   "outputs": [
    {
     "name": "stdout",
     "output_type": "stream",
     "text": [
      "[i] FPATHS Dictionary:\n",
      "\n",
      "{'data': {'app': {},\n",
      "          'ml-nlp': {'reviews-with-target_json': 'data/modeling/processed-nlp-reviews-for-ml.json',\n",
      "                     'test_joblib': 'Data-NLP/modeling/testing-data.joblib',\n",
      "                     'train_joblib': 'data/modeling/training-data.joblib'},\n",
      "          'ml-tabular': {'reviews-with-ml-target_json': 'Data/modeling/processed-movie-data-for-ml.json',\n",
      "                         'test_joblib': 'data/modeling/testing-data.joblib',\n",
      "                         'train_joblib': 'data/modeling/training-data.joblib'},\n",
      "          'nn': {'test_dir': 'data/modeling/testing-data-tf/',\n",
      "                 'train_dir': 'data/modeling/training-data-tf/'},\n",
      "          'processed': {'processed-reviews-spacy_joblib': 'data/processed/processed-reviews.joblib',\n",
      "                        'processed-reviews-spacy_json': 'data/processed/processed-reviews.json'},\n",
      "          'raw': {'metadata_csv': 'data/subset/amazon-metadata-subset-grocery-most-common-products.csv.gz',\n",
      "                  'reviews-subset_most-commonly-reviewed_csv': 'data/subset/amazon-reviews-subset-grocery-most-common-products.csv.gz',\n",
      "                  'reviews-subset_selected-brand_csv': 'data/subset/amazon-reviews-subset-brand-Miracle '\n",
      "                                                       'Noodle.csv.gz'}},\n",
      " 'eda': {'scattertext-by-group_html': 'app-assets/scattertext-roi.html',\n",
      "         'wordclouds-by-group_png': 'images/wordclouds-compare-groups.png'},\n",
      " 'images': {'banner': 'images/app-banner.png'},\n",
      " 'metadata': {'target_lookup': 'data/metadata/target-lookup.json'},\n",
      " 'models': {'ml': {'bayes_joblib': 'models/bayes-clf.joblib',\n",
      "                   'logreg_joblib': 'models/log-reg.joblib',\n",
      "                   'random_forest_joblib': 'models/random-forest.joblib'},\n",
      "            'nn': {'Attention_model_dir': 'models/keras/attn/',\n",
      "                   'GRU_dir': 'models/keras/gru/',\n",
      "                   'LSTM_dir': 'models/keras/lstm/'}}}\n",
      "\n",
      "[i] Saved FPATHS to config/filepaths.json\n"
     ]
    }
   ],
   "source": [
    "import json, os\n",
    "from pprint import pprint\n",
    "\n",
    "# Define filename for project config filepaths json file\n",
    "FPATHS_FILE = \"config/filepaths.json\"\n",
    "os.makedirs(os.path.dirname(FPATHS_FILE), exist_ok=True)\n",
    "\n",
    "# Define Filepaths\n",
    "FPATHS = dict(\n",
    "    data={\n",
    "        \"raw\": {\n",
    "\n",
    "            # TO DO: ADD THE DIRS FOR THE SPLIT REVIEWS AND UPDATE DATA/01_ Notebook\n",
    "            'reviews-subset_most-commonly-reviewed_csv':'data/subset/amazon-reviews-subset-grocery-most-common-products.csv.gz',\n",
    "            # Brand subset\n",
    "            \"reviews-subset_selected-brand_csv\":\"data/subset/amazon-reviews-subset-brand-Miracle Noodle.csv.gz\",\n",
    "            \"metadata_csv\":'data/subset/amazon-metadata-subset-grocery-most-common-products.csv.gz',\n",
    "            # Movie Reviews (no movie data or categories\n",
    "            # \"movie-reviews-tmdb_csv\": \"Data-NLP/tmdb-movie-reviews.csv.gz\",\n",
    "            # TMDB Movie Info to Use for...NLP? (Why save this separate? )\n",
    "            # \"cleaned-tmdb-movie-info-tmdb_csv\": \"Data-NLP/tmdb-movie-info.csv.gz\", \n",
    "            # Combined Movie Reviews with financial data\n",
    "            # \"reviews-with-movie-info_json\": \"Data-NLP/combined-tmdb-movie-reviews-with-info.json\", \n",
    "            # \"movie-reviews-with-info_json\":\n",
    "            # ...??\n",
    "            # \"eda\": \"Data-NLP/eda-movie-reviews.csv.gz\",\n",
    "        },\n",
    "        \"processed\":{\n",
    "            # \"processed-reviews-spacy_csv\":\"data/processed/processed-reviews.csv\",\n",
    "            \"processed-reviews-spacy_json\":\"data/processed/processed-reviews.json\",\n",
    "            \"processed-reviews-spacy_joblib\": \"data/processed/processed-reviews.joblib\",\n",
    "            # \"processed-reviews-spacy_json\": \"Data-NLP/processed-nlp-reviews.json\",\n",
    "        },\n",
    "        \"app\": {\n",
    "            # Version of tabular data to load into streamlit app (unless decide to do AWS)\n",
    "            # \"movie-data_csv\": \"app-assets/movie-data-streamlit.csv\", \n",
    "            \n",
    "            # \"movie-reviews\": ???:\n",
    "                # Same as raw>movie-reviews-with-info-json?\n",
    "                # or Same as ml>'reviews-with-target-json'?? \n",
    "        },\n",
    "        \"ml-nlp\": {\n",
    "            # Final dataframe of machine learning for NLP ( Use Data-NLP Folder for these models)\n",
    "            \"reviews-with-target_json\": \"data/modeling/processed-nlp-reviews-for-ml.json\",\n",
    "            \"train_joblib\": \"data/modeling/training-data.joblib\",  # (X_train,y_train)\n",
    "            \"test_joblib\": \"Data-NLP/modeling/testing-data.joblib\",  # (X_test,y_test)\n",
    "        },\n",
    "        \"ml-tabular\": {\n",
    "            # Final dataframe of machine learning ( Use Data Folder for these models)\n",
    "            \"reviews-with-ml-target_json\": \"Data/modeling/processed-movie-data-for-ml.json\", # \"Data-NLP/modeling/processed-nlp-reviews-for-ml.json\",\n",
    "            \"train_joblib\": \"data/modeling/training-data.joblib\",  # (X_train,y_train)\n",
    "            \"test_joblib\": \"data/modeling/testing-data.joblib\",  # (X_test,y_test)\n",
    "        },\n",
    "        \"nn\": {\n",
    "            \"train_dir\": \"data/modeling/training-data-tf/\",  # train_ds\n",
    "            \"test_dir\": \"data/modeling/testing-data-tf/\",  # test_ds\n",
    "        },\n",
    "    },\n",
    "    images={\n",
    "        \"banner\": \"images/app-banner.png\",\n",
    "    },\n",
    "    # # Additional metadata (target lookup,etc.)\n",
    "    metadata={\n",
    "        \"target_lookup\": \"data/metadata/target-lookup.json\",\n",
    "    },\n",
    "    # Any images to be displayed in the app\n",
    "    eda={\n",
    "        \"wordclouds-by-group_png\": \"images/wordclouds-compare-groups.png\",\n",
    "        # \"wordclouds-by-rating_png\": \"images/wordclouds-compare-rating.png\",\n",
    "        \"scattertext-by-group_html\": \"app-assets/scattertext-roi.html\",\n",
    "        # \"scattertext-by-rating_html\": \"app-assets/scattertext-rating.html\",\n",
    "\n",
    "    },\n",
    "    models={\n",
    "        # Machine Learning Models and results\n",
    "        \"ml\": {\n",
    "            \"bayes_joblib\": \"models/bayes-clf.joblib\",\n",
    "            \"random_forest_joblib\": \"models/random-forest.joblib\",\n",
    "            \"logreg_joblib\": \"models/log-reg.joblib\",\n",
    "        },\n",
    "        # Neural networks and results\n",
    "        \"nn\": {\n",
    "            \"LSTM_dir\": \"models/keras/lstm/\",\n",
    "            \"GRU_dir\": \"models/keras/gru/\",\n",
    "            \"Attention_model_dir\": \"models/keras/attn/\",\n",
    "        },\n",
    "    },\n",
    ")\n",
    "# Use fn for local package, ds for pip version\n",
    "fn.utils.create_directories_from_paths(FPATHS)\n",
    "# ds.utils.create_directories_from_paths(FPATHS)\n",
    "\n",
    "print('[i] FPATHS Dictionary:\\n')\n",
    "pprint(FPATHS)\n",
    "\n",
    "## Save the filepaths\n",
    "with open(FPATHS_FILE, \"w\") as f:\n",
    "    json.dump(FPATHS, f)\n",
    "    print(f\"\\n[i] Saved FPATHS to {FPATHS_FILE}\")"
   ]
  },
  {
   "cell_type": "code",
   "execution_count": 10,
   "id": "d7ee5bc9-d304-439f-9446-736e5e404f48",
   "metadata": {
    "execution": {
     "iopub.execute_input": "2024-02-08T04:06:12.658197Z",
     "iopub.status.busy": "2024-02-08T04:06:12.657687Z",
     "iopub.status.idle": "2024-02-08T04:06:12.669991Z",
     "shell.execute_reply": "2024-02-08T04:06:12.665582Z",
     "shell.execute_reply.started": "2024-02-08T04:06:12.658168Z"
    }
   },
   "outputs": [
    {
     "data": {
      "text/plain": [
       "{'data': {'raw': {'reviews-subset_most-commonly-reviewed_csv': 'data/subset/amazon-reviews-subset-grocery-most-common-products.csv.gz',\n",
       "   'reviews-subset_selected-brand_csv': 'data/subset/amazon-reviews-subset-brand-Miracle Noodle.csv.gz',\n",
       "   'metadata_csv': 'data/subset/amazon-metadata-subset-grocery-most-common-products.csv.gz'},\n",
       "  'processed': {'processed-reviews-spacy_json': 'data/processed/processed-reviews.json',\n",
       "   'processed-reviews-spacy_joblib': 'data/processed/processed-reviews.joblib'},\n",
       "  'app': {},\n",
       "  'ml-nlp': {'reviews-with-target_json': 'data/modeling/processed-nlp-reviews-for-ml.json',\n",
       "   'train_joblib': 'data/modeling/training-data.joblib',\n",
       "   'test_joblib': 'Data-NLP/modeling/testing-data.joblib'},\n",
       "  'ml-tabular': {'reviews-with-ml-target_json': 'Data/modeling/processed-movie-data-for-ml.json',\n",
       "   'train_joblib': 'data/modeling/training-data.joblib',\n",
       "   'test_joblib': 'data/modeling/testing-data.joblib'},\n",
       "  'nn': {'train_dir': 'data/modeling/training-data-tf/',\n",
       "   'test_dir': 'data/modeling/testing-data-tf/'}},\n",
       " 'images': {'banner': 'images/app-banner.png'},\n",
       " 'metadata': {'target_lookup': 'data/metadata/target-lookup.json'},\n",
       " 'eda': {'wordclouds-by-group_png': 'images/wordclouds-compare-groups.png',\n",
       "  'scattertext-by-group_html': 'app-assets/scattertext-roi.html'},\n",
       " 'models': {'ml': {'bayes_joblib': 'models/bayes-clf.joblib',\n",
       "   'random_forest_joblib': 'models/random-forest.joblib',\n",
       "   'logreg_joblib': 'models/log-reg.joblib'},\n",
       "  'nn': {'LSTM_dir': 'models/keras/lstm/',\n",
       "   'GRU_dir': 'models/keras/gru/',\n",
       "   'Attention_model_dir': 'models/keras/attn/'}}}"
      ]
     },
     "execution_count": 10,
     "metadata": {},
     "output_type": "execute_result"
    }
   ],
   "source": [
    "with open(FPATHS_FILE) as f:\n",
    "    TEST = json.load(f)\n",
    "# pprint(TEST)\n",
    "TEST"
   ]
  },
  {
   "cell_type": "code",
   "execution_count": 7,
   "id": "86a2e563-74ea-4e81-960c-8e5fc04285ea",
   "metadata": {
    "execution": {
     "iopub.execute_input": "2024-02-08T04:05:02.538433Z",
     "iopub.status.busy": "2024-02-08T04:05:02.538022Z",
     "iopub.status.idle": "2024-02-08T04:05:02.546078Z",
     "shell.execute_reply": "2024-02-08T04:05:02.543818Z",
     "shell.execute_reply.started": "2024-02-08T04:05:02.538406Z"
    }
   },
   "outputs": [
    {
     "data": {
      "text/plain": [
       "dict_keys(['raw', 'processed', 'app', 'ml-nlp', 'ml-tabular', 'nn'])"
      ]
     },
     "execution_count": 7,
     "metadata": {},
     "output_type": "execute_result"
    }
   ],
   "source": [
    "TEST['data'].keys()"
   ]
  },
  {
   "cell_type": "code",
   "execution_count": null,
   "id": "29d54e10-f669-439d-9533-1e30030597eb",
   "metadata": {},
   "outputs": [],
   "source": []
  }
 ],
 "metadata": {
  "kernelspec": {
   "display_name": "Python (dojo-env)",
   "language": "python",
   "name": "dojo-env"
  },
  "language_info": {
   "codemirror_mode": {
    "name": "ipython",
    "version": 3
   },
   "file_extension": ".py",
   "mimetype": "text/x-python",
   "name": "python",
   "nbconvert_exporter": "python",
   "pygments_lexer": "ipython3",
   "version": "3.10.10"
  }
 },
 "nbformat": 4,
 "nbformat_minor": 5
}
