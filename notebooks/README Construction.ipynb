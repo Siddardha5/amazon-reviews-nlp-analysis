{
 "cells": [
  {
   "cell_type": "markdown",
   "metadata": {},
   "source": [
    "# README Maker\n",
    "> Complete README in this notebook and then convert this notebook to markdown. Delete every above the horizontal line:"
   ]
  },
  {
   "cell_type": "code",
   "execution_count": 33,
   "metadata": {
    "execution": {
     "iopub.execute_input": "2024-02-13T01:28:26.932164Z",
     "iopub.status.busy": "2024-02-13T01:28:26.931411Z",
     "iopub.status.idle": "2024-02-13T01:28:26.943936Z",
     "shell.execute_reply": "2024-02-13T01:28:26.941782Z",
     "shell.execute_reply.started": "2024-02-13T01:28:26.932124Z"
    }
   },
   "outputs": [
    {
     "data": {
      "text/plain": [
       "{'histogram-reviews-dist_png': 'images/01_histogram_reviews.png',\n",
       " 'avg-reviews-by-year_png': 'images/02_avg_rating_by_year.png',\n",
       " 'number-reviews-stars-by-year_png': 'images/03_count_stars_by_year.png',\n",
       " 'ngrams-by-group_png': 'images/04_ngrams_by_group.png',\n",
       " 'wordclouds-by-group_png': 'images/05_wordclouds.png'}"
      ]
     },
     "execution_count": 33,
     "metadata": {},
     "output_type": "execute_result"
    }
   ],
   "source": [
    "import json\n",
    "from IPython.display import display, Markdown\n",
    "import matplotlib.pyplot as plt\n",
    "\n",
    "import pandas as pd\n",
    "with open('config/filepaths.json') as f:\n",
    "    FPATHS = json.load(f)\n",
    "FPATHS['readme']"
   ]
  },
  {
   "cell_type": "code",
   "execution_count": null,
   "metadata": {},
   "outputs": [],
   "source": []
  },
  {
   "cell_type": "code",
   "execution_count": 34,
   "metadata": {
    "execution": {
     "iopub.execute_input": "2024-02-13T01:28:26.946362Z",
     "iopub.status.busy": "2024-02-13T01:28:26.945873Z",
     "iopub.status.idle": "2024-02-13T01:28:27.037727Z",
     "shell.execute_reply": "2024-02-13T01:28:27.037333Z",
     "shell.execute_reply.started": "2024-02-13T01:28:26.946335Z"
    }
   },
   "outputs": [],
   "source": [
    "import joblib\n",
    "df = joblib.load(FPATHS['data']['processed-nlp']['processed-reviews-with-target_joblib'])"
   ]
  },
  {
   "cell_type": "code",
   "execution_count": 35,
   "metadata": {
    "execution": {
     "iopub.execute_input": "2024-02-13T01:28:27.038238Z",
     "iopub.status.busy": "2024-02-13T01:28:27.038145Z",
     "iopub.status.idle": "2024-02-13T01:28:27.042356Z",
     "shell.execute_reply": "2024-02-13T01:28:27.041904Z",
     "shell.execute_reply.started": "2024-02-13T01:28:27.038229Z"
    }
   },
   "outputs": [
    {
     "name": "stdout",
     "output_type": "stream",
     "text": [
      "\n",
      "- Product Title:\n",
      "\n",
      "***\"Miracle Noodle Zero Carb, Gluten Free Shirataki Pasta, Spinach Angel Hair, 7-Ounce (Pack of 24)\"***<p><img src='images/selected-products/miracle-noodle-2024.jpg' width=300px></p>\n",
      "- Brand: Miracle Noodle\n",
      "- Price: $59.76\n",
      "- Ranked 119,683 in Grocery & Gourmet Food (2018)\n",
      "- Categories:\n",
      "    - Grocery & Gourmet Food; Pasta & Noodles; Noodles; Shirataki\n"
     ]
    }
   ],
   "source": [
    "from IPython.display import Markdown\n",
    "with open(FPATHS['metadata']['product-information_md']) as f:\n",
    "    print(f.read())"
   ]
  },
  {
   "cell_type": "code",
   "execution_count": 36,
   "metadata": {
    "execution": {
     "iopub.execute_input": "2024-02-13T01:28:27.043408Z",
     "iopub.status.busy": "2024-02-13T01:28:27.043155Z",
     "iopub.status.idle": "2024-02-13T01:28:27.164269Z",
     "shell.execute_reply": "2024-02-13T01:28:27.163972Z",
     "shell.execute_reply.started": "2024-02-13T01:28:27.043395Z"
    }
   },
   "outputs": [
    {
     "data": {
      "text/plain": [
       "dict_keys(['model', 'train', 'test'])"
      ]
     },
     "execution_count": 36,
     "metadata": {},
     "output_type": "execute_result"
    }
   ],
   "source": [
    "fpath_model_results = FPATHS['results']['best-ml-clf_joblib']\n",
    "results_dict = joblib.load(fpath_model_results)\n",
    "results_dict.keys()"
   ]
  },
  {
   "cell_type": "markdown",
   "metadata": {},
   "source": [
    "To Do:\n",
    "- Change your name and social media links below and remove code block syntax\n",
    "- Uncomment any sections at the bottom that you wish to add back.\n",
    "\n",
    "<hr style=\"color:red;\">"
   ]
  },
  {
   "cell_type": "markdown",
   "metadata": {},
   "source": [
    "# Understanding Consumer Taste Preferences from Reviews"
   ]
  },
  {
   "cell_type": "markdown",
   "metadata": {},
   "source": [
    "## Natural Language Processing Analysis of Amazon Reviews for Gourmet and Grocery Foods"
   ]
  },
  {
   "cell_type": "markdown",
   "metadata": {},
   "source": [
    "- James M. Irving, Ph.D.\n",
    "\n",
    "<blockquote>\n",
    "    <ul>\n",
    "  <li><a href=\"https://www.linkedin.com/in/james-irving-phd\" rel=\"nofollow noreferrer\">\n",
    "    <img src=\"https://i.stack.imgur.com/gVE0j.png\" alt=\"linkedin\"> LinkedIn\n",
    "  </a> </li>\n",
    "  <li><a href=\"https://github.com/jirvingphd\" rel=\"nofollow noreferrer\">\n",
    "    <img src=\"https://i.stack.imgur.com/tskMh.png\" alt=\"github\"> Github\n",
    "  </a></li>\n",
    "</ul>\n",
    "</blockquote>\n",
    "\n",
    "- Updated 02/12/2024"
   ]
  },
  {
   "cell_type": "markdown",
   "metadata": {},
   "source": [
    "___\n",
    "\n",
    "#### Companion Streamlit Dashboard \n",
    "\n",
    "- [https://amazon-reviews-nlp-analysis-predictions.streamlit.app/](https://amazon-reviews-nlp-analysis-predictions.streamlit.app/)\n",
    "\n",
    "\n",
    "<img src=\"images/streamlit-app-preview.png\" width=1000>\n",
    "\n",
    "___"
   ]
  },
  {
   "cell_type": "markdown",
   "metadata": {},
   "source": [
    "### Business problem:\n",
    "\n",
    "Consumer preferences are essential to understand in order to make the best products enjoyed by the most customers. For this reason, we have selected the Grocery and Gourmet Food category, as food products tend to have divergent opinions. \n",
    "\n",
    "### Data:\n",
    "\n",
    "- A subset of the updated Amazon Reviews dataset (Jianmo et al 2019).\n",
    "    - The large version of the reviews for Groceries & Gourmet Food category, consisting of 5,074,160 reviews.\n",
    "    - The relevant prodcut metadata for 287,209 Gourmet products\n",
    "\n",
    "- The raw files are too large to fit in the project repository so they were split into multi-part csv's. \n",
    "\n",
    "\n",
    "#### Raw Amazon Data Prep & Filtering\n",
    "\n",
    "For the metadata,\n",
    "- First, I filtered the metadata to only keep products that belonged to the `main_cat` of Grocery\n",
    "- I also one-hot-encoded any category that appeared `...<lookup criterion used>`\n",
    "- Dropped several unwanted features `<add list>`\n",
    "\n",
    "For reviews, \n",
    "- I kept only reviews that were verified purchases.\n",
    "\n",
    "In the absence of a true stakehodler, I identified a good brand/prodcut to analyze based on the following crtiera:\n",
    "- First, I filtered for the most common products with both 1-star and 5-star reviews.\n",
    "    - Each brand/product was ranked by the number of 1 star reviews and 5-star reviews.\n",
    "    - The products that appeared within the top 100 most 1-star reviews and 5-star reviews were further analyzed to identify the final product\n",
    "- Finally, I selected the product with the largest proportion of 1-star reviews.\n",
    "- The final selected produt was:\n",
    "\n",
    ">Product Title:\n",
    "***\"Miracle Noodle Zero Carb, Gluten Free Shirataki Pasta, Spinach Angel Hair, 7-Ounce (Pack of 24)\"***<p><img src='images/selected-products/miracle-noodle-2024.jpg' width=300px></p>\n",
    ">- Brand: Miracle Noodle\n",
    ">- Price: $59.76\n",
    ">- Ranked 119,683 in Grocery & Gourmet Food (2018)\n",
    ">- Categories:\n",
    "    - Grocery & Gourmet Food; Pasta & Noodles; Noodles; Shirataki"
   ]
  },
  {
   "cell_type": "markdown",
   "metadata": {},
   "source": [
    "###  Need for Insights into Customers\n",
    "\n",
    "Overall, Miracle Noodle has a large number of 5-star reviews. However, there is also a large portion of 1-star reviews.  \n",
    "Since this is a multi-year dataset, it is important to understand if there was a trend in the average rating over time.\n",
    "\n",
    "![png](images/01_histogram_reviews.png)\n",
    "\n",
    "\n",
    "#### Reviews Over Time\n",
    "\n",
    "The overall average customer rating has drecreased year-over year.\n",
    "\n",
    "![png](images/02_avg_rating_by_year.png)\n",
    "\n",
    "\n",
    "\n",
    "Additionally,  the proportion of One-Star reviews has increased while 5-Star reviews have decreased.\n",
    "![png](images/03_count_stars_by_year.png)\n",
    "\n",
    "\n",
    "We will use the text from the customer reviews to provide insights into customer preferences and provide recommendations on how to improve their product."
   ]
  },
  {
   "cell_type": "markdown",
   "metadata": {},
   "source": [
    "#### Reference\n",
    "\n",
    "**Justifying recommendations using distantly-labeled reviews and fined-grained aspects**\n",
    "Jianmo Ni, Jiacheng Li, Julian McAuley\n",
    "*Empirical Methods in Natural Language Processing (EMNLP)*, 2019\n"
   ]
  },
  {
   "cell_type": "markdown",
   "metadata": {},
   "source": [
    "## Methods `[TO DO]`\n",
    "- For analysis and machine learning, we used a subset of the reviews.\n",
    "\n",
    "\n",
    " \n",
    "- EDA for Insights:\n",
    "    - Used spacy for preprocessing text for EDA\n",
    "    - Generated bar graphs of top bigrams, trigrams, and quadrams for\n",
    "- key relevant findings from exploritory data analysis for mod 1, will be more involved in future mod\n",
    "\n",
    "### Streamlit App Methods\n",
    "- Leveraged Hugging Face pre-trained BART transformers to summarize the 1,000+ reviews for each of the two groups.\n",
    "- Summaries from the transformer were then used as the context for ChatGPT for providing a final summary and recommendations.\n"
   ]
  },
  {
   "cell_type": "markdown",
   "metadata": {},
   "source": [
    "## Results"
   ]
  },
  {
   "cell_type": "markdown",
   "metadata": {},
   "source": [
    "#### WordClouds (Bigrams)\n",
    "<img src='images/05_wordclouds.png' width=90%>\n",
    "\n",
    "> Preliminary review of the word clouds provides some hints as to what may underly the 1-star reviews, however it is diffcult to tell as many of the same phrases appear for both groups. Quantifying trigrams or quadgrams may be a better approach to unveil the differences. "
   ]
  },
  {
   "cell_type": "markdown",
   "metadata": {},
   "source": [
    "#### Most Frequent Trigrams \n",
    "\n",
    "<img src=\"images/04_ngrams_by_group.png\" width=90%>"
   ]
  },
  {
   "cell_type": "markdown",
   "metadata": {},
   "source": [
    "> We can see that now that there are complaints about the noodles feeling like chewing on rubber bands. There's also clearly a smell that may or may not go away (as it appears in both groups). Further exploration of the texts via Scattertext (see app at top of README) uncovers alternative opinions on how easy it is to address the smell."
   ]
  },
  {
   "cell_type": "markdown",
   "metadata": {},
   "source": [
    "### Machine Learning Text Classification"
   ]
  },
  {
   "cell_type": "code",
   "execution_count": 37,
   "metadata": {
    "execution": {
     "iopub.execute_input": "2024-02-13T01:28:31.236079Z",
     "iopub.status.busy": "2024-02-13T01:28:31.233778Z",
     "iopub.status.idle": "2024-02-13T01:28:31.253175Z",
     "shell.execute_reply": "2024-02-13T01:28:31.249467Z",
     "shell.execute_reply.started": "2024-02-13T01:28:31.235987Z"
    }
   },
   "outputs": [
    {
     "data": {
      "text/plain": [
       "{'best-ml-clf_joblib': 'models/best-ml-clf.joblib',\n",
       " 'best-network': 'models/keras/best-network/',\n",
       " 'review-summary-01_json': 'app-assets/review-summary-bart-01.json',\n",
       " 'review-summary-02_json': 'app-assets/review-summary-bart-02.json',\n",
       " 'best-ml-clf-diagram_html': 'app-assets/best-clf-diagram.html'}"
      ]
     },
     "execution_count": 37,
     "metadata": {},
     "output_type": "execute_result"
    }
   ],
   "source": [
    "FPATHS['results']['best-ml-clf-diagram_html']"
   ]
  },
  {
   "cell_type": "code",
   "execution_count": 41,
   "metadata": {
    "execution": {
     "iopub.execute_input": "2024-02-13T01:33:42.795445Z",
     "iopub.status.busy": "2024-02-13T01:33:42.794335Z",
     "iopub.status.idle": "2024-02-13T01:33:42.815223Z",
     "shell.execute_reply": "2024-02-13T01:33:42.814405Z",
     "shell.execute_reply.started": "2024-02-13T01:33:42.795381Z"
    }
   },
   "outputs": [
    {
     "data": {
      "text/html": [
       "<style>#sk-container-id-7 {color: black;background-color: white;}#sk-container-id-7 pre{padding: 0;}#sk-container-id-7 div.sk-toggleable {background-color: white;}#sk-container-id-7 label.sk-toggleable__label {cursor: pointer;display: block;width: 100%;margin-bottom: 0;padding: 0.3em;box-sizing: border-box;text-align: center;}#sk-container-id-7 label.sk-toggleable__label-arrow:before {content: \"▸\";float: left;margin-right: 0.25em;color: #696969;}#sk-container-id-7 label.sk-toggleable__label-arrow:hover:before {color: black;}#sk-container-id-7 div.sk-estimator:hover label.sk-toggleable__label-arrow:before {color: black;}#sk-container-id-7 div.sk-toggleable__content {max-height: 0;max-width: 0;overflow: hidden;text-align: left;background-color: #f0f8ff;}#sk-container-id-7 div.sk-toggleable__content pre {margin: 0.2em;color: black;border-radius: 0.25em;background-color: #f0f8ff;}#sk-container-id-7 input.sk-toggleable__control:checked~div.sk-toggleable__content {max-height: 200px;max-width: 100%;overflow: auto;}#sk-container-id-7 input.sk-toggleable__control:checked~label.sk-toggleable__label-arrow:before {content: \"▾\";}#sk-container-id-7 div.sk-estimator input.sk-toggleable__control:checked~label.sk-toggleable__label {background-color: #d4ebff;}#sk-container-id-7 div.sk-label input.sk-toggleable__control:checked~label.sk-toggleable__label {background-color: #d4ebff;}#sk-container-id-7 input.sk-hidden--visually {border: 0;clip: rect(1px 1px 1px 1px);clip: rect(1px, 1px, 1px, 1px);height: 1px;margin: -1px;overflow: hidden;padding: 0;position: absolute;width: 1px;}#sk-container-id-7 div.sk-estimator {font-family: monospace;background-color: #f0f8ff;border: 1px dotted black;border-radius: 0.25em;box-sizing: border-box;margin-bottom: 0.5em;}#sk-container-id-7 div.sk-estimator:hover {background-color: #d4ebff;}#sk-container-id-7 div.sk-parallel-item::after {content: \"\";width: 100%;border-bottom: 1px solid gray;flex-grow: 1;}#sk-container-id-7 div.sk-label:hover label.sk-toggleable__label {background-color: #d4ebff;}#sk-container-id-7 div.sk-serial::before {content: \"\";position: absolute;border-left: 1px solid gray;box-sizing: border-box;top: 0;bottom: 0;left: 50%;z-index: 0;}#sk-container-id-7 div.sk-serial {display: flex;flex-direction: column;align-items: center;background-color: white;padding-right: 0.2em;padding-left: 0.2em;position: relative;}#sk-container-id-7 div.sk-item {position: relative;z-index: 1;}#sk-container-id-7 div.sk-parallel {display: flex;align-items: stretch;justify-content: center;background-color: white;position: relative;}#sk-container-id-7 div.sk-item::before, #sk-container-id-7 div.sk-parallel-item::before {content: \"\";position: absolute;border-left: 1px solid gray;box-sizing: border-box;top: 0;bottom: 0;left: 50%;z-index: -1;}#sk-container-id-7 div.sk-parallel-item {display: flex;flex-direction: column;z-index: 1;position: relative;background-color: white;}#sk-container-id-7 div.sk-parallel-item:first-child::after {align-self: flex-end;width: 50%;}#sk-container-id-7 div.sk-parallel-item:last-child::after {align-self: flex-start;width: 50%;}#sk-container-id-7 div.sk-parallel-item:only-child::after {width: 0;}#sk-container-id-7 div.sk-dashed-wrapped {border: 1px dashed gray;margin: 0 0.4em 0.5em 0.4em;box-sizing: border-box;padding-bottom: 0.4em;background-color: white;}#sk-container-id-7 div.sk-label label {font-family: monospace;font-weight: bold;display: inline-block;line-height: 1.2em;}#sk-container-id-7 div.sk-label-container {text-align: center;}#sk-container-id-7 div.sk-container {/* jupyter's `normalize.less` sets `[hidden] { display: none; }` but bootstrap.min.css set `[hidden] { display: none !important; }` so we also need the `!important` here to be able to override the default hidden behavior on the sphinx rendered scikit-learn.org. See: https://github.com/scikit-learn/scikit-learn/issues/21755 */display: inline-block !important;position: relative;}#sk-container-id-7 div.sk-text-repr-fallback {display: none;}</style><div id=\"sk-container-id-7\" class=\"sk-top-container\"><div class=\"sk-text-repr-fallback\"><pre>Pipeline(steps=[(&#x27;vectorizer&#x27;,\n",
       "                 TfidfVectorizer(ngram_range=(1, 2), stop_words=&#x27;english&#x27;)),\n",
       "                (&#x27;clf&#x27;, LogisticRegression(C=1000000000000.0, max_iter=500))])</pre><b>In a Jupyter environment, please rerun this cell to show the HTML representation or trust the notebook. <br />On GitHub, the HTML representation is unable to render, please try loading this page with nbviewer.org.</b></div><div class=\"sk-container\" hidden><div class=\"sk-item sk-dashed-wrapped\"><div class=\"sk-label-container\"><div class=\"sk-label sk-toggleable\"><input class=\"sk-toggleable__control sk-hidden--visually\" id=\"sk-estimator-id-19\" type=\"checkbox\" ><label for=\"sk-estimator-id-19\" class=\"sk-toggleable__label sk-toggleable__label-arrow\">Pipeline</label><div class=\"sk-toggleable__content\"><pre>Pipeline(steps=[(&#x27;vectorizer&#x27;,\n",
       "                 TfidfVectorizer(ngram_range=(1, 2), stop_words=&#x27;english&#x27;)),\n",
       "                (&#x27;clf&#x27;, LogisticRegression(C=1000000000000.0, max_iter=500))])</pre></div></div></div><div class=\"sk-serial\"><div class=\"sk-item\"><div class=\"sk-estimator sk-toggleable\"><input class=\"sk-toggleable__control sk-hidden--visually\" id=\"sk-estimator-id-20\" type=\"checkbox\" ><label for=\"sk-estimator-id-20\" class=\"sk-toggleable__label sk-toggleable__label-arrow\">TfidfVectorizer</label><div class=\"sk-toggleable__content\"><pre>TfidfVectorizer(ngram_range=(1, 2), stop_words=&#x27;english&#x27;)</pre></div></div></div><div class=\"sk-item\"><div class=\"sk-estimator sk-toggleable\"><input class=\"sk-toggleable__control sk-hidden--visually\" id=\"sk-estimator-id-21\" type=\"checkbox\" ><label for=\"sk-estimator-id-21\" class=\"sk-toggleable__label sk-toggleable__label-arrow\">LogisticRegression</label><div class=\"sk-toggleable__content\"><pre>LogisticRegression(C=1000000000000.0, max_iter=500)</pre></div></div></div></div></div></div></div>"
      ],
      "text/plain": [
       "Pipeline(steps=[('vectorizer',\n",
       "                 TfidfVectorizer(ngram_range=(1, 2), stop_words='english')),\n",
       "                ('clf', LogisticRegression(C=1000000000000.0, max_iter=500))])"
      ]
     },
     "execution_count": 41,
     "metadata": {},
     "output_type": "execute_result"
    }
   ],
   "source": [
    "from sklearn.utils import estimator_html_repr\n",
    "from IPython.display import HTML\n",
    "diagram = results_dict['model']\n",
    "diagram\n",
    "# with open(FPATHS['results']['best-ml-clf-diagram_html'],'w') as f:\n",
    "#     f.write(estimator_html_repr(diagram))\n",
    "\n",
    "\n",
    "# with open(FPATHS['results']['best-ml-clf-diagram_html'],'r') as f:\n",
    "#     html_model = f.read()\n",
    "# HTML(html_model)"
   ]
  },
  {
   "cell_type": "code",
   "execution_count": 26,
   "metadata": {
    "execution": {
     "iopub.execute_input": "2024-02-13T01:22:50.119229Z",
     "iopub.status.busy": "2024-02-13T01:22:50.118831Z",
     "iopub.status.idle": "2024-02-13T01:22:50.210003Z",
     "shell.execute_reply": "2024-02-13T01:22:50.209671Z",
     "shell.execute_reply.started": "2024-02-13T01:22:50.119204Z"
    }
   },
   "outputs": [
    {
     "name": "stdout",
     "output_type": "stream",
     "text": [
      "----------------------------------------------------------------------\n",
      " Classification Metrics: Training Data\n",
      "----------------------------------------------------------------------\n",
      "              precision    recall  f1-score   support\n",
      "\n",
      "           0       1.00      1.00      1.00      1376\n",
      "           1       1.00      1.00      1.00      1102\n",
      "\n",
      "    accuracy                           1.00      2478\n",
      "   macro avg       1.00      1.00      1.00      2478\n",
      "weighted avg       1.00      1.00      1.00      2478\n",
      "\n",
      "\n",
      "\n"
     ]
    },
    {
     "data": {
      "image/png": "[encoded data removed]",
      "text/plain": [
       "<Figure size 800x400 with 2 Axes>"
      ]
     },
     "execution_count": 26,
     "metadata": {},
     "output_type": "execute_result"
    }
   ],
   "source": [
    "print(results_dict['train']['classification_report'])\n",
    "fig = results_dict['train']['confusion_matrix']"
   ]
  },
  {
   "cell_type": "code",
   "execution_count": 27,
   "metadata": {
    "execution": {
     "iopub.execute_input": "2024-02-13T01:23:06.042869Z",
     "iopub.status.busy": "2024-02-13T01:23:06.041981Z",
     "iopub.status.idle": "2024-02-13T01:23:06.136514Z",
     "shell.execute_reply": "2024-02-13T01:23:06.136111Z",
     "shell.execute_reply.started": "2024-02-13T01:23:06.042808Z"
    }
   },
   "outputs": [
    {
     "name": "stdout",
     "output_type": "stream",
     "text": [
      "----------------------------------------------------------------------\n",
      " Classification Metrics: Test Data\n",
      "----------------------------------------------------------------------\n",
      "              precision    recall  f1-score   support\n",
      "\n",
      "           0       0.96      0.95      0.95       492\n",
      "           1       0.92      0.94      0.93       335\n",
      "\n",
      "    accuracy                           0.94       827\n",
      "   macro avg       0.94      0.94      0.94       827\n",
      "weighted avg       0.94      0.94      0.94       827\n",
      "\n",
      "\n",
      "\n"
     ]
    },
    {
     "data": {
      "image/png": "[encoded data removed]",
      "text/plain": [
       "<Figure size 800x400 with 2 Axes>"
      ]
     },
     "execution_count": 27,
     "metadata": {},
     "output_type": "execute_result"
    }
   ],
   "source": [
    "print(results_dict['test']['classification_report'])\n",
    "fig = results_dict['test']['confusion_matrix']\n",
    "fig"
   ]
  },
  {
   "cell_type": "code",
   "execution_count": null,
   "metadata": {},
   "outputs": [],
   "source": []
  },
  {
   "cell_type": "code",
   "execution_count": null,
   "metadata": {},
   "outputs": [],
   "source": []
  },
  {
   "cell_type": "markdown",
   "metadata": {},
   "source": [
    "## Recommendations:\n",
    "\n",
    "Based on the analysis of the 1-star and 5-star reviews, here are 5 actionable business recommendations to improve the product:\n",
    "\n",
    "1. **Improve Texture**: Address the issue of rubbery texture mentioned in the 1-star reviews. Consider reformulating the product to make it less chewy and more similar to traditional noodles. Conduct taste tests and gather feedback from customers to ensure the texture is satisfactory.\n",
    "2. **Enhance Absorption**: Work on improving the noodles' ability to absorb cooking sauces. This will address the complaint mentioned in the 1-star reviews and make the product more versatile for different recipes. Conduct experiments to find the optimal formulation that allows the noodles to absorb flavors effectively.\n",
    "3. **Address Smell**: Although the smell issue was mentioned in both positive and negative reviews, it is important to minimize any unpleasant odor when the package is first opened. Explore ways to reduce or eliminate the initial smell, such as using different packaging materials or adding natural odor-neutralizing ingredients.\n",
    "4. **Simplify Preparation**: Make the cooking process easier for customers. Provide clear instructions on the packaging and consider offering pre-cooked or partially cooked options for those who find it difficult to prepare the noodles. This will address the complaints about the difficulty of cooking mentioned in the 1-star reviews.\n",
    "5. **Highlight Health Benefits**: Emphasize the low-calorie and healthy aspects of the product in marketing materials and product descriptions. This will reinforce the positive feedback from the 5-star reviews and attract customers who are conscious about their calorie intake and overall health.\n",
    "\n",
    "By implementing these recommendations, you can address the concerns raised in the 1-star reviews and further enhance the positive aspects highlighted in the 5-star reviews. Regularly gather customer feedback to continuously improve the product and meet the needs of your target audience.\n",
    "\n",
    "## Limitations & Next Steps\n",
    "\n",
    "More of your own text here\n",
    "\n",
    "\n",
    "<!-- ### For further information\n",
    "Please review the narrative of our analysis in [our jupyter notebook](./index.ipynb) or review our [presentation](./SampleProjectSlides.pdf)\n",
    "\n",
    "For any additional questions, please contact **email, email, email) -->\n",
    "\n",
    "<!-- \n",
    "##### Repository Structure:\n",
    "\n",
    "Here is where you would describe the structure of your repoistory and its contents, for exampe:\n",
    "\n",
    "```\n",
    "\n",
    "├── README.md               <- The top-level README for reviewers of this project.\n",
    "├── index.ipynb             <- narrative documentation of analysis in jupyter notebook\n",
    "├── presentation.pdf        <- pdf version of project presentation\n",
    "└── images\n",
    "    └── images               <- both sourced externally and generated from code\n",
    "└── data\n",
    "    └── \n",
    "\n",
    "``` -->"
   ]
  },
  {
   "cell_type": "markdown",
   "metadata": {},
   "source": []
  }
 ],
 "metadata": {
  "kernelspec": {
   "display_name": "Python 3 (ipykernel)",
   "language": "python",
   "name": "python3"
  },
  "language_info": {
   "codemirror_mode": {
    "name": "ipython",
    "version": 3
   },
   "file_extension": ".py",
   "mimetype": "text/x-python",
   "name": "python",
   "nbconvert_exporter": "python",
   "pygments_lexer": "ipython3",
   "version": "3.10.10"
  }
 },
 "nbformat": 4,
 "nbformat_minor": 4
}
