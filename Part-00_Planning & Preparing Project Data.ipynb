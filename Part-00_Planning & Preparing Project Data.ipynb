{
 "cells": [
  {
   "cell_type": "markdown",
   "id": "dd946865-a456-4f06-8b77-e980c15d24c2",
   "metadata": {},
   "source": [
    "# Part 3A - Planning & Preparing Data"
   ]
  },
  {
   "cell_type": "markdown",
   "id": "9d171a09-f30d-4be4-a9fd-2a27f326ae33",
   "metadata": {},
   "source": [
    "- 01/26/24"
   ]
  },
  {
   "cell_type": "markdown",
   "id": "77ed8ae3-4ed2-4d9e-b115-7422a2efff3b",
   "metadata": {},
   "source": [
    "- NEED TO PREPARE/PLAN FOR FULL APP WITH TABULAR DATA + REVIEWS + MANUSCRIPTS."
   ]
  },
  {
   "cell_type": "markdown",
   "id": "83eae818-23fd-42a3-8e87-4c8e260454b0",
   "metadata": {},
   "source": [
    "### Prep TMDB API Data (Was Split Across Several Notebooks)"
   ]
  },
  {
   "cell_type": "code",
   "execution_count": 1,
   "id": "d46bf414-d601-4f50-8747-b20c73a5319b",
   "metadata": {
    "execution": {
     "iopub.execute_input": "2024-02-09T03:00:22.972737Z",
     "iopub.status.busy": "2024-02-09T03:00:22.971903Z",
     "iopub.status.idle": "2024-02-09T03:00:26.641051Z",
     "shell.execute_reply": "2024-02-09T03:00:26.640717Z",
     "shell.execute_reply.started": "2024-02-09T03:00:22.972708Z"
    }
   },
   "outputs": [],
   "source": [
    "## Importing custom function for project\n",
    "!pip install -U dojo_ds -q \n",
    "import dojo_ds as fn\n",
    "# %load_ext autoreload\n",
    "# %autoreload 2\n",
    "# import custom_functions as fn\n",
    "\n",
    "\n",
    "import os,glob,json\n",
    "from pprint import pprint\n",
    "import pandas as pd\n",
    "pd.set_option(\"display.max_columns\",200)"
   ]
  },
  {
   "cell_type": "code",
   "execution_count": 2,
   "id": "c0f8378c-63d8-4290-b460-4b0136da212b",
   "metadata": {
    "execution": {
     "iopub.execute_input": "2024-02-09T03:00:26.642292Z",
     "iopub.status.busy": "2024-02-09T03:00:26.642116Z",
     "iopub.status.idle": "2024-02-09T03:00:26.643904Z",
     "shell.execute_reply": "2024-02-09T03:00:26.643671Z",
     "shell.execute_reply.started": "2024-02-09T03:00:26.642282Z"
    }
   },
   "outputs": [],
   "source": [
    "# !pip install -U dojo_ds -q\n",
    "# import dojo_ds as ds\n",
    "# ds.__version__"
   ]
  },
  {
   "cell_type": "markdown",
   "id": "382c05b6-2ac3-40d0-87a9-72c973c94415",
   "metadata": {},
   "source": [
    "## Setting Filepaths Config Files"
   ]
  },
  {
   "cell_type": "markdown",
   "id": "5642897e-91ca-4e59-8d98-d5862f462ad7",
   "metadata": {},
   "source": [
    ">- Filepath to-dos:\n",
    ">    - Add names of model insights figures to FPATHS     "
   ]
  },
  {
   "cell_type": "code",
   "execution_count": 3,
   "id": "eb790932-187a-4a01-8085-fa16c96eec1c",
   "metadata": {
    "execution": {
     "iopub.execute_input": "2024-02-09T03:00:26.644407Z",
     "iopub.status.busy": "2024-02-09T03:00:26.644328Z",
     "iopub.status.idle": "2024-02-09T03:00:26.651120Z",
     "shell.execute_reply": "2024-02-09T03:00:26.650740Z",
     "shell.execute_reply.started": "2024-02-09T03:00:26.644399Z"
    }
   },
   "outputs": [
    {
     "data": {
      "text/plain": [
       "'data/reviews-by-year'"
      ]
     },
     "execution_count": 3,
     "metadata": {},
     "output_type": "execute_result"
    }
   ],
   "source": [
    "import os, glob\n",
    "os.path.dirname('data/reviews-by-year/*.*')"
   ]
  },
  {
   "cell_type": "code",
   "execution_count": 4,
   "id": "bc98b04f-a144-4341-87d4-b94a7c2a8339",
   "metadata": {
    "execution": {
     "iopub.execute_input": "2024-02-09T03:00:26.651806Z",
     "iopub.status.busy": "2024-02-09T03:00:26.651690Z",
     "iopub.status.idle": "2024-02-09T03:00:26.655449Z",
     "shell.execute_reply": "2024-02-09T03:00:26.655127Z",
     "shell.execute_reply.started": "2024-02-09T03:00:26.651796Z"
    }
   },
   "outputs": [
    {
     "data": {
      "text/plain": [
       "['data/reviews-by-year/amazon-reviews-groceries-gourmet-2005.csv.gz',\n",
       " 'data/reviews-by-year/amazon-reviews-groceries-gourmet-2009.csv.gz',\n",
       " 'data/reviews-by-year/amazon-reviews-groceries-gourmet-2017.csv.gz',\n",
       " 'data/reviews-by-year/amazon-reviews-groceries-gourmet-2015.csv.gz',\n",
       " 'data/reviews-by-year/amazon-reviews-groceries-gourmet-2007.csv.gz',\n",
       " 'data/reviews-by-year/amazon-reviews-groceries-gourmet-2003.csv.gz',\n",
       " 'data/reviews-by-year/amazon-reviews-groceries-gourmet-2011.csv.gz',\n",
       " 'data/reviews-by-year/amazon-reviews-groceries-gourmet-2013.csv.gz',\n",
       " 'data/reviews-by-year/amazon-reviews-groceries-gourmet-2004.csv.gz',\n",
       " 'data/reviews-by-year/amazon-reviews-groceries-gourmet-2016.csv.gz',\n",
       " 'data/reviews-by-year/amazon-reviews-groceries-gourmet-2008.csv.gz',\n",
       " 'data/reviews-by-year/amazon-reviews-groceries-gourmet-2014.csv.gz',\n",
       " 'data/reviews-by-year/amazon-reviews-groceries-gourmet-2018.csv.gz',\n",
       " 'data/reviews-by-year/amazon-reviews-groceries-gourmet-2006.csv.gz',\n",
       " 'data/reviews-by-year/amazon-reviews-groceries-gourmet-2002.csv.gz',\n",
       " 'data/reviews-by-year/amazon-reviews-groceries-gourmet-2010.csv.gz',\n",
       " 'data/reviews-by-year/amazon-reviews-groceries-gourmet-2012.csv.gz']"
      ]
     },
     "execution_count": 4,
     "metadata": {},
     "output_type": "execute_result"
    }
   ],
   "source": [
    "glob.glob('data/reviews-by-year/*.*')"
   ]
  },
  {
   "cell_type": "code",
   "execution_count": 5,
   "id": "0847aa73-1f5c-4632-ae3d-0cd3da7f6376",
   "metadata": {
    "execution": {
     "iopub.execute_input": "2024-02-09T03:00:26.656258Z",
     "iopub.status.busy": "2024-02-09T03:00:26.656093Z",
     "iopub.status.idle": "2024-02-09T03:00:26.669359Z",
     "shell.execute_reply": "2024-02-09T03:00:26.668702Z",
     "shell.execute_reply.started": "2024-02-09T03:00:26.656242Z"
    }
   },
   "outputs": [
    {
     "name": "stdout",
     "output_type": "stream",
     "text": [
      "Directory created: data/modeling/validation-data-tf\n",
      "[i] FPATHS Dictionary:\n",
      "\n",
      "{'data': {'app': {},\n",
      "          'cleaned': {'asin-id-title-dict_json': 'data/metadata/amazon-groceries-asin-titles-lookup.json',\n",
      "                      'metadata_csv-gz': 'data/metadata/amazon-metadata-groceries-combined.csv.gz',\n",
      "                      'reviews-by-years_dict': {'dir': 'data/reviews-by-year/',\n",
      "                                                'glob': 'data/reviews-by-year/*.*'}},\n",
      "          'ml-nlp': {'test_joblib': 'data/modeling/testing-data.joblib',\n",
      "                     'train_joblib': 'data/modeling/training-data.joblib'},\n",
      "          'nn-nlp': {'test_dir': 'data/modeling/testing-data-tf/',\n",
      "                     'train_dir': 'data/modeling/training-data-tf/',\n",
      "                     'val_dir': 'data/modeling/validation-data-tf/'},\n",
      "          'processed-nlp': {'processed-reviews-spacy_joblib': 'data/processed/processed-reviews.joblib',\n",
      "                            'processed-reviews-spacy_json': 'data/processed/processed-reviews.json',\n",
      "                            'processed-reviews-with-target_json': 'data/processed/processed-reviews-witht-target.json'},\n",
      "          'raw': {'large-metadata': 'data/raw/meta_Grocery_and_Gourmet_Food.json.gz',\n",
      "                  'large-reviews': 'data/raw/Grocery_and_Gourmet_Food.json.gz',\n",
      "                  'split-metadata_dict': {'dir': 'data/raw-split/',\n",
      "                                          'glob': 'data/raw-split/*meta*part*'},\n",
      "                  'split-reviews_dict': {'dir': 'data/raw-split/',\n",
      "                                         'glob': 'data/raw-split/*review*part*'}},\n",
      "          'subset': {'metadata_csv': 'data/subset/amazon-metadata-subset-grocery-most-common-products.csv.gz',\n",
      "                     'reviews-subset_most-commonly-reviewed_csv': 'data/subset/amazon-reviews-subset-grocery-most-common-products.csv.gz',\n",
      "                     'reviews-subset_selected-brand_csv': 'data/subset/amazon-reviews-subset-brand-Miracle '\n",
      "                                                          'Noodle.csv'}},\n",
      " 'eda': {'bigrams': {'ngram-fig_png': 'eda/bigrams-plot.png',\n",
      "                     'ngram-table_md': 'eda/bigrams-table.md'},\n",
      "         'quadgrams': {'ngram-fig_png': 'eda/quadgrams-plot.png',\n",
      "                       'ngram-table_md': 'eda/quadgrams-table.md'},\n",
      "         'scattertext-by-group_html': 'eda/scattertext.html',\n",
      "         'trigrams': {'ngram-fig_png': 'eda/trigrams-plot.png',\n",
      "                      'ngram-table_md': 'eda/trigrams-table.md'},\n",
      "         'wordclouds': {'bigram-clouds-by-group_png': 'eda/bigram-wordclouds.png',\n",
      "                        'default-clouds-by-group_png': 'eda/default-wordclouds.png',\n",
      "                        'trigram-clouds-by-group_png': 'eda/trigram-wordclouds.png'}},\n",
      " 'images': {'banner': 'images/app-banner.png'},\n",
      " 'metadata': {'target_lookup': 'data/metadata/target-lookup.json'},\n",
      " 'models': {'ml': {'bayes_joblib': 'models/bayes-clf.joblib',\n",
      "                   'logreg_joblib': 'models/log-reg.joblib',\n",
      "                   'random_forest_joblib': 'models/random-forest.joblib'},\n",
      "            'nn': {'Attention_model_dir': 'models/keras/attn/',\n",
      "                   'GRU_dir': 'models/keras/gru/',\n",
      "                   'LSTM_dir': 'models/keras/lstm/'}}}\n",
      "\n",
      "[i] Saved FPATHS to config/filepaths.json\n"
     ]
    }
   ],
   "source": [
    "import json, os\n",
    "from pprint import pprint\n",
    "\n",
    "# Define filename for project config filepaths json file\n",
    "FPATHS_FILE = \"config/filepaths.json\"\n",
    "os.makedirs(os.path.dirname(FPATHS_FILE), exist_ok=True)\n",
    "\n",
    "# Define Filepaths\n",
    "FPATHS = dict(\n",
    "    data={\n",
    "        \"raw\": {\n",
    "            'large-metadata': \"data/raw/meta_Grocery_and_Gourmet_Food.json.gz\",\n",
    "            'large-reviews':'data/raw/Grocery_and_Gourmet_Food.json.gz',\n",
    "            # Smaller split raw data files from original .json.gz files\n",
    "            'split-metadata_dict': {'dir': \"data/raw-split/\",\n",
    "                                    'glob':\"data/raw-split/*meta*part*\"\n",
    "                                   },\n",
    "            'split-reviews_dict': {\"dir\":'data/raw-split/',\n",
    "                                   'glob': \"data/raw-split/*review*part*\"\n",
    "                                  },\n",
    "            },\n",
    "        'cleaned': {\n",
    "            'reviews-by-years_dict':{'dir':'data/reviews-by-year/',\n",
    "                                     \"glob\":'data/reviews-by-year/*.*'\n",
    "                                    },\n",
    "            \"metadata_csv-gz\":\"data/metadata/amazon-metadata-groceries-combined.csv.gz\",\n",
    "            'asin-id-title-dict_json': \"data/metadata/amazon-groceries-asin-titles-lookup.json\"\n",
    "        },\n",
    "        \"subset\":{\n",
    "            'reviews-subset_most-commonly-reviewed_csv':'data/subset/amazon-reviews-subset-grocery-most-common-products.csv.gz',\n",
    "            # Brand subset\n",
    "            \"reviews-subset_selected-brand_csv\":\"data/subset/amazon-reviews-subset-brand-Miracle Noodle.csv\",\n",
    "            \"metadata_csv\":'data/subset/amazon-metadata-subset-grocery-most-common-products.csv.gz',\n",
    "\n",
    "        },\n",
    "        \"processed-nlp\":{\n",
    "            # \"processed-reviews-spacy_csv\":\"data/processed/processed-reviews.csv\",\n",
    "            \"processed-reviews-spacy_json\":\"data/processed/processed-reviews.json\",\n",
    "            \"processed-reviews-spacy_joblib\": \"data/processed/processed-reviews.joblib\",\n",
    "             \"processed-reviews-with-target_json\": \"data/processed/processed-reviews-witht-target.json\",\n",
    "            # \"processed-reviews-spacy_json\": \"Data-NLP/processed-nlp-reviews.json\",\n",
    "        },\n",
    "        \"app\": {\n",
    "            # Version of tabular data to load into streamlit app (unless decide to do AWS)\n",
    "            # \"movie-data_csv\": \"app-assets/movie-data-streamlit.csv\", \n",
    "            \n",
    "            # \"movie-reviews\": ???:\n",
    "                # Same as raw>movie-reviews-with-info-json?\n",
    "                # or Same as ml>'reviews-with-target-json'?? \n",
    "        },\n",
    "        \"ml-nlp\": {\n",
    "            # Final dataframe of machine learning for NLP ( Use Data-NLP Folder for these models)\n",
    "            # \"reviews-with-target_json\": \"data/modeling/processed-nlp-reviews-for-ml.json\",\n",
    "            \"train_joblib\": \"data/modeling/training-data.joblib\",  # (X_train,y_train)\n",
    "            \"test_joblib\": \"data/modeling/testing-data.joblib\",  # (X_test,y_test)\n",
    "        },\n",
    "        # \"ml-tabular\": {\n",
    "        #     # Final dataframe of machine learning ( Use Data Folder for these models)\n",
    "        #     \"reviews-with-ml-target_json\": \"Data/modeling/processed-movie-data-for-ml.json\", # \"Data-NLP/modeling/processed-nlp-reviews-for-ml.json\",\n",
    "        #     \"train_joblib\": \"data/modeling/training-data.joblib\",  # (X_train,y_train)\n",
    "        #     \"test_joblib\": \"data/modeling/testing-data.joblib\",  # (X_test,y_test)\n",
    "        # },\n",
    "        \"nn-nlp\": {\n",
    "            \"train_dir\": \"data/modeling/training-data-tf/\",  # train_ds\n",
    "            \"val_dir\":'data/modeling/validation-data-tf/',\n",
    "            \"test_dir\": \"data/modeling/testing-data-tf/\",  # test_ds\n",
    "        },\n",
    "    },\n",
    "    images={\n",
    "        \"banner\": \"images/app-banner.png\",\n",
    "    },\n",
    "    # # Additional metadata (target lookup,etc.)\n",
    "    metadata={\n",
    "        \"target_lookup\": \"data/metadata/target-lookup.json\",\n",
    "    },\n",
    "    # Any images to be displayed in the app\n",
    "    eda={\n",
    "        \"wordclouds\":{\n",
    "            \"default-clouds-by-group_png\": \"eda/default-wordclouds.png\",\n",
    "            \"bigram-clouds-by-group_png\":\"eda/bigram-wordclouds.png\",\n",
    "            'trigram-clouds-by-group_png':\"eda/trigram-wordclouds.png\"\n",
    "        },\n",
    "        \"scattertext-by-group_html\": \"eda/scattertext.html\",\n",
    "        \n",
    "        \"bigrams\":{\n",
    "            \"ngram-table_md\": \"eda/bigrams-table.md\",\n",
    "            \"ngram-fig_png\": \"eda/bigrams-plot.png\"\n",
    "        },\n",
    "        \"trigrams\":{\n",
    "            \"ngram-table_md\": \"eda/trigrams-table.md\",\n",
    "            \"ngram-fig_png\": \"eda/trigrams-plot.png\"\n",
    "        },        \n",
    "        \"quadgrams\":{\n",
    "            \"ngram-table_md\": \"eda/quadgrams-table.md\",\n",
    "            \"ngram-fig_png\": \"eda/quadgrams-plot.png\"\n",
    "        },        \n",
    "    },\n",
    "    models={\n",
    "        # Machine Learning Models and results\n",
    "        \"ml\": {\n",
    "            \"bayes_joblib\": \"models/bayes-clf.joblib\",\n",
    "            \"random_forest_joblib\": \"models/random-forest.joblib\",\n",
    "            \"logreg_joblib\": \"models/log-reg.joblib\",\n",
    "        },\n",
    "        # Neural networks and results\n",
    "        \"nn\": {\n",
    "            \"LSTM_dir\": \"models/keras/lstm/\",\n",
    "            \"GRU_dir\": \"models/keras/gru/\",\n",
    "            \"Attention_model_dir\": \"models/keras/attn/\",\n",
    "        },\n",
    "    },\n",
    ")\n",
    "# Use fn for local package, ds for pip version\n",
    "fn.utils.create_directories_from_paths(FPATHS)\n",
    "# ds.utils.create_directories_from_paths(FPATHS)\n",
    "\n",
    "print('[i] FPATHS Dictionary:\\n')\n",
    "pprint(FPATHS)\n",
    "\n",
    "## Save the filepaths\n",
    "with open(FPATHS_FILE, \"w\") as f:\n",
    "    json.dump(FPATHS, f)\n",
    "    print(f\"\\n[i] Saved FPATHS to {FPATHS_FILE}\")"
   ]
  },
  {
   "cell_type": "code",
   "execution_count": 6,
   "id": "d7ee5bc9-d304-439f-9446-736e5e404f48",
   "metadata": {
    "execution": {
     "iopub.execute_input": "2024-02-09T03:00:26.670410Z",
     "iopub.status.busy": "2024-02-09T03:00:26.670237Z",
     "iopub.status.idle": "2024-02-09T03:00:26.676414Z",
     "shell.execute_reply": "2024-02-09T03:00:26.676104Z",
     "shell.execute_reply.started": "2024-02-09T03:00:26.670392Z"
    }
   },
   "outputs": [
    {
     "data": {
      "text/plain": [
       "{'data': {'raw': {'large-metadata': 'data/raw/meta_Grocery_and_Gourmet_Food.json.gz',\n",
       "   'large-reviews': 'data/raw/Grocery_and_Gourmet_Food.json.gz',\n",
       "   'split-metadata_dict': {'dir': 'data/raw-split/',\n",
       "    'glob': 'data/raw-split/*meta*part*'},\n",
       "   'split-reviews_dict': {'dir': 'data/raw-split/',\n",
       "    'glob': 'data/raw-split/*review*part*'}},\n",
       "  'cleaned': {'reviews-by-years_dict': {'dir': 'data/reviews-by-year/',\n",
       "    'glob': 'data/reviews-by-year/*.*'},\n",
       "   'metadata_csv-gz': 'data/metadata/amazon-metadata-groceries-combined.csv.gz',\n",
       "   'asin-id-title-dict_json': 'data/metadata/amazon-groceries-asin-titles-lookup.json'},\n",
       "  'subset': {'reviews-subset_most-commonly-reviewed_csv': 'data/subset/amazon-reviews-subset-grocery-most-common-products.csv.gz',\n",
       "   'reviews-subset_selected-brand_csv': 'data/subset/amazon-reviews-subset-brand-Miracle Noodle.csv',\n",
       "   'metadata_csv': 'data/subset/amazon-metadata-subset-grocery-most-common-products.csv.gz'},\n",
       "  'processed-nlp': {'processed-reviews-spacy_json': 'data/processed/processed-reviews.json',\n",
       "   'processed-reviews-spacy_joblib': 'data/processed/processed-reviews.joblib',\n",
       "   'processed-reviews-with-target_json': 'data/processed/processed-reviews-witht-target.json'},\n",
       "  'app': {},\n",
       "  'ml-nlp': {'train_joblib': 'data/modeling/training-data.joblib',\n",
       "   'test_joblib': 'data/modeling/testing-data.joblib'},\n",
       "  'nn-nlp': {'train_dir': 'data/modeling/training-data-tf/',\n",
       "   'val_dir': 'data/modeling/validation-data-tf/',\n",
       "   'test_dir': 'data/modeling/testing-data-tf/'}},\n",
       " 'images': {'banner': 'images/app-banner.png'},\n",
       " 'metadata': {'target_lookup': 'data/metadata/target-lookup.json'},\n",
       " 'eda': {'wordclouds': {'default-clouds-by-group_png': 'eda/default-wordclouds.png',\n",
       "   'bigram-clouds-by-group_png': 'eda/bigram-wordclouds.png',\n",
       "   'trigram-clouds-by-group_png': 'eda/trigram-wordclouds.png'},\n",
       "  'scattertext-by-group_html': 'eda/scattertext.html',\n",
       "  'bigrams': {'ngram-table_md': 'eda/bigrams-table.md',\n",
       "   'ngram-fig_png': 'eda/bigrams-plot.png'},\n",
       "  'trigrams': {'ngram-table_md': 'eda/trigrams-table.md',\n",
       "   'ngram-fig_png': 'eda/trigrams-plot.png'},\n",
       "  'quadgrams': {'ngram-table_md': 'eda/quadgrams-table.md',\n",
       "   'ngram-fig_png': 'eda/quadgrams-plot.png'}},\n",
       " 'models': {'ml': {'bayes_joblib': 'models/bayes-clf.joblib',\n",
       "   'random_forest_joblib': 'models/random-forest.joblib',\n",
       "   'logreg_joblib': 'models/log-reg.joblib'},\n",
       "  'nn': {'LSTM_dir': 'models/keras/lstm/',\n",
       "   'GRU_dir': 'models/keras/gru/',\n",
       "   'Attention_model_dir': 'models/keras/attn/'}}}"
      ]
     },
     "execution_count": 6,
     "metadata": {},
     "output_type": "execute_result"
    }
   ],
   "source": [
    "with open(FPATHS_FILE) as f:\n",
    "    TEST = json.load(f)\n",
    "# pprint(TEST)\n",
    "TEST"
   ]
  },
  {
   "cell_type": "code",
   "execution_count": 7,
   "id": "86a2e563-74ea-4e81-960c-8e5fc04285ea",
   "metadata": {
    "execution": {
     "iopub.execute_input": "2024-02-09T03:00:26.678359Z",
     "iopub.status.busy": "2024-02-09T03:00:26.678088Z",
     "iopub.status.idle": "2024-02-09T03:00:26.680919Z",
     "shell.execute_reply": "2024-02-09T03:00:26.680469Z",
     "shell.execute_reply.started": "2024-02-09T03:00:26.678342Z"
    }
   },
   "outputs": [
    {
     "data": {
      "text/plain": [
       "dict_keys(['raw', 'cleaned', 'subset', 'processed-nlp', 'app', 'ml-nlp', 'nn-nlp'])"
      ]
     },
     "execution_count": 7,
     "metadata": {},
     "output_type": "execute_result"
    }
   ],
   "source": [
    "TEST['data'].keys()"
   ]
  },
  {
   "cell_type": "code",
   "execution_count": 8,
   "id": "29d54e10-f669-439d-9533-1e30030597eb",
   "metadata": {
    "execution": {
     "iopub.execute_input": "2024-02-09T03:00:26.681966Z",
     "iopub.status.busy": "2024-02-09T03:00:26.681653Z",
     "iopub.status.idle": "2024-02-09T03:00:26.684681Z",
     "shell.execute_reply": "2024-02-09T03:00:26.684190Z",
     "shell.execute_reply.started": "2024-02-09T03:00:26.681952Z"
    }
   },
   "outputs": [
    {
     "data": {
      "text/plain": [
       "{'large-metadata': 'data/raw/meta_Grocery_and_Gourmet_Food.json.gz',\n",
       " 'large-reviews': 'data/raw/Grocery_and_Gourmet_Food.json.gz',\n",
       " 'split-metadata_dict': {'dir': 'data/raw-split/',\n",
       "  'glob': 'data/raw-split/*meta*part*'},\n",
       " 'split-reviews_dict': {'dir': 'data/raw-split/',\n",
       "  'glob': 'data/raw-split/*review*part*'}}"
      ]
     },
     "execution_count": 8,
     "metadata": {},
     "output_type": "execute_result"
    }
   ],
   "source": [
    "TEST['data']['raw']"
   ]
  },
  {
   "cell_type": "markdown",
   "id": "4f13091e-b93e-4ace-85eb-f05ef8cdc49b",
   "metadata": {},
   "source": [
    "## Notebook Order of Operations"
   ]
  },
  {
   "cell_type": "markdown",
   "id": "41ab46ab-da16-4740-8f5b-402921c90cbd",
   "metadata": {},
   "source": [
    "- Part-00_Planning & Preparing Project Data.ipynb\n",
    "    - Define config/filepaths.json\n",
    "        - Update as needed when working on other parts of the project. \n",
    "- Part-01_Splitting Large Raw Amazon Reviews & Metadata.ipynb:\n",
    "    - Process raw .json.gz of reviews and metadata and split into small files for storage in repo."
   ]
  },
  {
   "cell_type": "code",
   "execution_count": null,
   "id": "d8ddf2b0-8518-47ff-95ce-0018e8194214",
   "metadata": {},
   "outputs": [],
   "source": []
  }
 ],
 "metadata": {
  "kernelspec": {
   "display_name": "Python (dojo-env)",
   "language": "python",
   "name": "dojo-env"
  },
  "language_info": {
   "codemirror_mode": {
    "name": "ipython",
    "version": 3
   },
   "file_extension": ".py",
   "mimetype": "text/x-python",
   "name": "python",
   "nbconvert_exporter": "python",
   "pygments_lexer": "ipython3",
   "version": "3.10.10"
  }
 },
 "nbformat": 4,
 "nbformat_minor": 5
}
