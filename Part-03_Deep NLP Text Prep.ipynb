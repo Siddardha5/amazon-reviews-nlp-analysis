{
 "cells": [
  {
   "cell_type": "markdown",
   "id": "69383602-32d0-44b4-86d5-a29d46674555",
   "metadata": {},
   "source": [
    "# Preparing Text for Deep NLP Models (TextVectorization)"
   ]
  },
  {
   "cell_type": "markdown",
   "id": "a36e37a1-8e2d-49f0-9652-39896926fd19",
   "metadata": {},
   "source": [
    "## Learning Objectives"
   ]
  },
  {
   "cell_type": "markdown",
   "id": "8cc57c4f-3b2c-4f6f-86aa-68f474a45656",
   "metadata": {},
   "source": [
    "- How to create a train-test-val split for Tensorflow datasets from a train-test split. \n",
    "- How to use a Keras TextVectorization Layer\n",
    "- Demonstrate how tensorflow models using Sequences with Embedding Layers.\n"
   ]
  },
  {
   "cell_type": "code",
   "execution_count": 1,
   "id": "8a3487b0-db87-4f70-bc6c-a48e62956740",
   "metadata": {
    "execution": {
     "iopub.execute_input": "2024-02-08T03:16:57.801755Z",
     "iopub.status.busy": "2024-02-08T03:16:57.801563Z",
     "iopub.status.idle": "2024-02-08T03:16:57.808689Z",
     "shell.execute_reply": "2024-02-08T03:16:57.808147Z",
     "shell.execute_reply.started": "2024-02-08T03:16:57.801726Z"
    }
   },
   "outputs": [],
   "source": [
    "# Adding parent directory to python path\n",
    "import sys, os\n",
    "sys.path.append( os.path.abspath('../'))"
   ]
  },
  {
   "cell_type": "code",
   "execution_count": 2,
   "id": "23f8d776-63e5-4a02-afd8-04628e4c858e",
   "metadata": {
    "execution": {
     "iopub.execute_input": "2024-02-08T03:16:57.811474Z",
     "iopub.status.busy": "2024-02-08T03:16:57.811060Z",
     "iopub.status.idle": "2024-02-08T03:17:01.265953Z",
     "shell.execute_reply": "2024-02-08T03:17:01.265628Z",
     "shell.execute_reply.started": "2024-02-08T03:16:57.811454Z"
    }
   },
   "outputs": [
    {
     "name": "stdout",
     "output_type": "stream",
     "text": [
      "\n",
      "\u001b[1m[\u001b[0m\u001b[34;49mnotice\u001b[0m\u001b[1;39;49m]\u001b[0m\u001b[39;49m A new release of pip is available: \u001b[0m\u001b[31;49m23.3.2\u001b[0m\u001b[39;49m -> \u001b[0m\u001b[32;49m24.0\u001b[0m\n",
      "\u001b[1m[\u001b[0m\u001b[34;49mnotice\u001b[0m\u001b[1;39;49m]\u001b[0m\u001b[39;49m To update, run: \u001b[0m\u001b[32;49mpip install --upgrade pip\u001b[0m\n"
     ]
    }
   ],
   "source": [
    "## Load the autoreload extension\n",
    "!pip install -U dojo_ds -q\n",
    "import dojo_ds as fn\n",
    "# %load_ext autoreload \n",
    "# %autoreload 2\n",
    "\n",
    "# import custom_functions_SOLUTION  as fn"
   ]
  },
  {
   "cell_type": "markdown",
   "id": "d90fe76e-5fa7-436e-9634-d67e5b470eab",
   "metadata": {},
   "source": [
    "## Data"
   ]
  },
  {
   "cell_type": "code",
   "execution_count": 3,
   "id": "d36b5806-1bf5-4c55-8e39-3f9159e26d1a",
   "metadata": {
    "execution": {
     "iopub.execute_input": "2024-02-08T03:17:01.266552Z",
     "iopub.status.busy": "2024-02-08T03:17:01.266415Z",
     "iopub.status.idle": "2024-02-08T03:17:01.270512Z",
     "shell.execute_reply": "2024-02-08T03:17:01.270238Z",
     "shell.execute_reply.started": "2024-02-08T03:17:01.266544Z"
    }
   },
   "outputs": [
    {
     "data": {
      "text/markdown": [
       "# Amazon Product Reviews\n",
       "\n",
       "- URL: https://cseweb.ucsd.edu/~jmcauley/datasets.html#amazon_reviews \n",
       "\n",
       "## Description\n",
       "\n",
       "This is a large crawl of product reviews from Amazon. This dataset contains 82.83 million unique reviews, from around 20 million users.\n",
       "\n",
       "## Basic statistics\n",
       "\n",
       "| Ratings:  | 82.83 million        |\n",
       "| --------- | -------------------- |\n",
       "| Users:    | 20.98 million        |\n",
       "| Items:    | 9.35 million         |\n",
       "| Timespan: | May 1996 - July 2014 |\n",
       "\n",
       "## Metadata\n",
       "\n",
       "- reviews and ratings\n",
       "- item-to-item relationships (e.g. \"people who bought X also bought Y\")\n",
       "- timestamps\n",
       "- helpfulness votes\n",
       "- product image (and CNN features)\n",
       "- price\n",
       "- category\n",
       "- salesRank\n",
       "\n",
       "## Example\n",
       "\n",
       "```\n",
       "{  \"reviewerID\": \"A2SUAM1J3GNN3B\",  \"asin\": \"0000013714\",  \"reviewerName\": \"J. McDonald\",  \"helpful\": [2, 3],  \"reviewText\": \"I bought this for my husband who plays the piano.  He is having a wonderful time playing these old hymns.  The music  is at times hard to read because we think the book was published for singing from more than playing from.  Great purchase though!\",  \"overall\": 5.0,  \"summary\": \"Heavenly Highway Hymns\",  \"unixReviewTime\": 1252800000,  \"reviewTime\": \"09 13, 2009\" }\n",
       "```\n",
       "\n",
       "## Download link\n",
       "\n",
       "See the [Amazon Dataset Page](https://cseweb.ucsd.edu/~jmcauley/datasets/amazon_v2/) for download information.\n",
       "\n",
       "The 2014 version of this dataset is [also available](https://cseweb.ucsd.edu/~jmcauley/datasets/amazon/links.html).\n",
       "\n",
       "## Citation\n",
       "\n",
       "Please cite the following if you use the data:\n",
       "\n",
       "**Ups and downs: Modeling the visual evolution of fashion trends with one-class collaborative filtering**\n",
       "\n",
       "R. He, J. McAuley\n",
       "\n",
       "*WWW*, 2016\n",
       "[pdf](https://cseweb.ucsd.edu/~jmcauley/pdfs/www16a.pdf)\n",
       "\n",
       "**Image-based recommendations on styles and substitutes**\n",
       "\n",
       "J. McAuley, C. Targett, J. Shi, A. van den Hengel\n",
       "\n",
       "*SIGIR*, 2015\n",
       "[pdf](https://cseweb.ucsd.edu/~jmcauley/pdfs/sigir15.pdf)"
      ],
      "text/plain": [
       "<IPython.core.display.Markdown object>"
      ]
     },
     "metadata": {},
     "output_type": "display_data"
    }
   ],
   "source": [
    "from IPython.display import display, Markdown\n",
    "with open(\"data/Amazon Product Reviews.md\") as f:\n",
    "    display(Markdown(f.read()))"
   ]
  },
  {
   "cell_type": "code",
   "execution_count": 4,
   "id": "d1f7e2ff-dcf2-4b44-addc-6215aa8a9223",
   "metadata": {
    "execution": {
     "iopub.execute_input": "2024-02-08T03:17:01.271162Z",
     "iopub.status.busy": "2024-02-08T03:17:01.271056Z",
     "iopub.status.idle": "2024-02-08T03:17:04.725722Z",
     "shell.execute_reply": "2024-02-08T03:17:04.725417Z",
     "shell.execute_reply.started": "2024-02-08T03:17:01.271153Z"
    }
   },
   "outputs": [],
   "source": [
    "import tensorflow as tf\n",
    "import numpy as np\n",
    "# Then Set Random Seeds\n",
    "tf.keras.utils.set_random_seed(42)\n",
    "tf.random.set_seed(42)\n",
    "np.random.seed(42)\n",
    "# Then run the Enable Deterministic Operations Function\n",
    "tf.config.experimental.enable_op_determinism()\n",
    "\n",
    "# MacOS Sonoma Fix\n",
    "tf.config.set_visible_devices([], 'GPU')"
   ]
  },
  {
   "cell_type": "code",
   "execution_count": 5,
   "id": "89879753-84c6-40cb-a2a8-8d6e7221cdf3",
   "metadata": {
    "execution": {
     "iopub.execute_input": "2024-02-08T03:17:04.726448Z",
     "iopub.status.busy": "2024-02-08T03:17:04.726234Z",
     "iopub.status.idle": "2024-02-08T03:17:04.906585Z",
     "shell.execute_reply": "2024-02-08T03:17:04.906265Z",
     "shell.execute_reply.started": "2024-02-08T03:17:04.726438Z"
    }
   },
   "outputs": [],
   "source": [
    "import pandas as pd \n",
    "import seaborn as sns\n",
    "\n",
    "import pandas as pd\n",
    "import matplotlib.pyplot as plt\n",
    "import seaborn as sns\n",
    "import numpy as np\n",
    "\n",
    "\n",
    "from tensorflow.keras.layers import TextVectorization\n",
    "from tensorflow.keras import layers\n",
    "from tensorflow.keras import optimizers\n",
    "\n",
    "from sklearn.model_selection import train_test_split\n",
    "from sklearn.pipeline import make_pipeline, Pipeline\n",
    "from sklearn.model_selection import GridSearchCV\n",
    "from imblearn.under_sampling import RandomUnderSampler\n",
    "from sklearn.preprocessing import LabelEncoder\n",
    "from sklearn import set_config\n",
    "set_config(transform_output='pandas')\n",
    "pd.set_option('display.max_colwidth', 250)\n",
    "\n",
    "# Define a function for building an LSTM model\n",
    "from tensorflow.keras.models import Sequential\n",
    "from tensorflow.keras import layers, optimizers, regularizers"
   ]
  },
  {
   "cell_type": "code",
   "execution_count": 6,
   "id": "8b67cf1a-97b6-4d3b-b103-694e4a6c6c29",
   "metadata": {
    "execution": {
     "iopub.execute_input": "2024-02-08T03:17:04.907294Z",
     "iopub.status.busy": "2024-02-08T03:17:04.907098Z",
     "iopub.status.idle": "2024-02-08T03:17:05.075110Z",
     "shell.execute_reply": "2024-02-08T03:17:05.074794Z",
     "shell.execute_reply.started": "2024-02-08T03:17:04.907285Z"
    }
   },
   "outputs": [
    {
     "name": "stdout",
     "output_type": "stream",
     "text": [
      "<class 'pandas.core.frame.DataFrame'>\n",
      "Int64Index: 4363 entries, 0 to 4362\n",
      "Data columns (total 14 columns):\n",
      " #   Column             Non-Null Count  Dtype  \n",
      "---  ------             --------------  -----  \n",
      " 0   asin               4363 non-null   object \n",
      " 1   reviewerID         4363 non-null   object \n",
      " 2   overall            4363 non-null   float64\n",
      " 3   year               4363 non-null   int64  \n",
      " 4   category           4363 non-null   object \n",
      " 5   text-raw           4363 non-null   object \n",
      " 6   length             4363 non-null   int64  \n",
      " 7   text               4363 non-null   object \n",
      " 8   lower_text         4363 non-null   object \n",
      " 9   tokens             4363 non-null   object \n",
      " 10  no_stops           4363 non-null   object \n",
      " 11  no_stops_no_punct  4363 non-null   object \n",
      " 12  spacy_lemmas       4363 non-null   object \n",
      " 13  bigrams            4363 non-null   object \n",
      "dtypes: float64(1), int64(2), object(11)\n",
      "memory usage: 511.3+ KB\n"
     ]
    },
    {
     "data": {
      "text/html": [
       "<div>\n",
       "<style scoped>\n",
       "    .dataframe tbody tr th:only-of-type {\n",
       "        vertical-align: middle;\n",
       "    }\n",
       "\n",
       "    .dataframe tbody tr th {\n",
       "        vertical-align: top;\n",
       "    }\n",
       "\n",
       "    .dataframe thead th {\n",
       "        text-align: right;\n",
       "    }\n",
       "</style>\n",
       "<table border=\"1\" class=\"dataframe\">\n",
       "  <thead>\n",
       "    <tr style=\"text-align: right;\">\n",
       "      <th></th>\n",
       "      <th>asin</th>\n",
       "      <th>reviewerID</th>\n",
       "      <th>overall</th>\n",
       "      <th>year</th>\n",
       "      <th>category</th>\n",
       "      <th>text-raw</th>\n",
       "      <th>length</th>\n",
       "      <th>text</th>\n",
       "      <th>lower_text</th>\n",
       "      <th>tokens</th>\n",
       "      <th>no_stops</th>\n",
       "      <th>no_stops_no_punct</th>\n",
       "      <th>spacy_lemmas</th>\n",
       "      <th>bigrams</th>\n",
       "    </tr>\n",
       "  </thead>\n",
       "  <tbody>\n",
       "    <tr>\n",
       "      <th>0</th>\n",
       "      <td>B007JINB0W</td>\n",
       "      <td>A1P9BVW2JB1OVL</td>\n",
       "      <td>3.0</td>\n",
       "      <td>2014</td>\n",
       "      <td>Grocery &amp; Gourmet Food; Pasta &amp; Noodles; Noodles; Shirataki</td>\n",
       "      <td>Odd chewy texture: This has a odd chewy texture and not much flavor, but used as a substitute for pasta, it helps cut calories and carbs. I can tolerate it, but it isn't really tasty. Surprisingly, my husband enjoyed it more than I did. I just co...</td>\n",
       "      <td>291</td>\n",
       "      <td>Odd chewy texture: This has a odd chewy texture and not much flavor, but used as a substitute for pasta, it helps cut calories and carbs. I can tolerate it, but it isn't really tasty. Surprisingly, my husband enjoyed it more than I did. I just co...</td>\n",
       "      <td>odd chewy texture: this has a odd chewy texture and not much flavor, but used as a substitute for pasta, it helps cut calories and carbs. i can tolerate it, but it isn't really tasty. surprisingly, my husband enjoyed it more than i did. i just co...</td>\n",
       "      <td>[odd, chewy, texture, :, this, has, a, odd, chewy, texture, and, not, much, flavor, ,, but, used, as, a, substitute, for, pasta, ,, it, helps, cut, calories, and, carbs, ., i, can, tolerate, it, ,, but, it, is, n't, really, tasty, ., surprisingly...</td>\n",
       "      <td>[odd, chewy, texture, :, odd, chewy, texture, much, flavor, ,, used, substitute, pasta, ,, helps, cut, calories, carbs, ., tolerate, ,, n't, really, tasty, ., surprisingly, ,, husband, enjoyed, ., could, n't, get, past, texture, (, rubber, noodle...</td>\n",
       "      <td>[odd, chewy, texture, odd, chewy, texture, much, flavor, used, substitute, pasta, helps, cut, calories, carbs, tolerate, n't, really, tasty, surprisingly, husband, enjoyed, could, n't, get, past, texture, rubber, noodles]</td>\n",
       "      <td>[odd, chewy, texture, odd, chewy, texture, flavor, substitute, pasta, help, cut, calorie, carb, tolerate, tasty, surprisingly, husband, enjoy, past, texture, rubber, noodle]</td>\n",
       "      <td>[(odd, chewy), (chewy, texture), (texture, odd), (odd, chewy), (chewy, texture), (texture, flavor), (flavor, substitute), (substitute, pasta), (pasta, help), (help, cut), (cut, calorie), (calorie, carb), (carb, tolerate), (tolerate, tasty), (tast...</td>\n",
       "    </tr>\n",
       "    <tr>\n",
       "      <th>1</th>\n",
       "      <td>B007JINB0W</td>\n",
       "      <td>A5JZ2DBS9H3F6</td>\n",
       "      <td>1.0</td>\n",
       "      <td>2016</td>\n",
       "      <td>Grocery &amp; Gourmet Food; Pasta &amp; Noodles; Noodles; Shirataki</td>\n",
       "      <td>Fishy gross: They smell of fish and have a rubbery hard to chew texture. Yuck</td>\n",
       "      <td>77</td>\n",
       "      <td>Fishy gross: They smell of fish and have a rubbery hard to chew texture. Yuck</td>\n",
       "      <td>fishy gross: they smell of fish and have a rubbery hard to chew texture. yuck</td>\n",
       "      <td>[fishy, gross, :, they, smell, of, fish, and, have, a, rubbery, hard, to, chew, texture, ., yuck]</td>\n",
       "      <td>[fishy, gross, :, smell, fish, rubbery, hard, chew, texture, ., yuck]</td>\n",
       "      <td>[fishy, gross, smell, fish, rubbery, hard, chew, texture, yuck]</td>\n",
       "      <td>[fishy, gross, smell, fish, rubbery, hard, chew, texture, yuck]</td>\n",
       "      <td>[(fishy, gross), (gross, smell), (smell, fish), (fish, rubbery), (rubbery, hard), (hard, chew), (chew, texture), (texture, yuck)]</td>\n",
       "    </tr>\n",
       "    <tr>\n",
       "      <th>2</th>\n",
       "      <td>B007JINB0W</td>\n",
       "      <td>A3VYMBAX7IFV3B</td>\n",
       "      <td>1.0</td>\n",
       "      <td>2014</td>\n",
       "      <td>Grocery &amp; Gourmet Food; Pasta &amp; Noodles; Noodles; Shirataki</td>\n",
       "      <td>One Star: MOM DID NOT LIKE THESE</td>\n",
       "      <td>32</td>\n",
       "      <td>One Star: MOM DID NOT LIKE THESE</td>\n",
       "      <td>one star: mom did not like these</td>\n",
       "      <td>[one, star, :, mom, did, not, like, these]</td>\n",
       "      <td>[one, star, :, mom, like]</td>\n",
       "      <td>[one, star, mom, like]</td>\n",
       "      <td>[star, mom, like]</td>\n",
       "      <td>[(star, mom), (mom, like)]</td>\n",
       "    </tr>\n",
       "    <tr>\n",
       "      <th>3</th>\n",
       "      <td>B007JINB0W</td>\n",
       "      <td>A25MLB8QXVM2LS</td>\n",
       "      <td>2.0</td>\n",
       "      <td>2018</td>\n",
       "      <td>Grocery &amp; Gourmet Food; Pasta &amp; Noodles; Noodles; Shirataki</td>\n",
       "      <td>The noodles themselves are fine. The Amazon label description claims they are certified ...: The noodles themselves are fine. The Amazon label description claims they are certified non GMO and Vegan but the actual package contains no such symbol ...</td>\n",
       "      <td>289</td>\n",
       "      <td>The noodles themselves are fine. The Amazon label description claims they are certified ...: The noodles themselves are fine. The Amazon label description claims they are certified non GMO and Vegan but the actual package contains no such symbol ...</td>\n",
       "      <td>the noodles themselves are fine. the amazon label description claims they are certified ...: the noodles themselves are fine. the amazon label description claims they are certified non gmo and vegan but the actual package contains no such symbol ...</td>\n",
       "      <td>[the, noodles, themselves, are, fine, ., the, amazon, label, description, claims, they, are, certified, ..., :, the, noodles, themselves, are, fine, ., the, amazon, label, description, claims, they, are, certified, non, gmo, and, vegan, but, the,...</td>\n",
       "      <td>[noodles, fine, ., amazon, label, description, claims, certified, ..., :, noodles, fine, ., amazon, label, description, claims, certified, non, gmo, vegan, actual, package, contains, symbol, claim, online, description, shows, .]</td>\n",
       "      <td>[noodles, fine, amazon, label, description, claims, certified, ..., noodles, fine, amazon, label, description, claims, certified, non, gmo, vegan, actual, package, contains, symbol, claim, online, description, shows]</td>\n",
       "      <td>[noodle, fine, amazon, label, description, claim, certify, noodle, fine, amazon, label, description, claim, certify, non, gmo, vegan, actual, package, contain, symbol, claim, online, description, show]</td>\n",
       "      <td>[(noodle, fine), (fine, amazon), (amazon, label), (label, description), (description, claim), (claim, certify), (certify, noodle), (noodle, fine), (fine, amazon), (amazon, label), (label, description), (description, claim), (claim, certify), (cer...</td>\n",
       "    </tr>\n",
       "    <tr>\n",
       "      <th>4</th>\n",
       "      <td>B007JINB0W</td>\n",
       "      <td>A2DZN9RBFVVY7L</td>\n",
       "      <td>4.0</td>\n",
       "      <td>2014</td>\n",
       "      <td>Grocery &amp; Gourmet Food; Pasta &amp; Noodles; Noodles; Shirataki</td>\n",
       "      <td>What's important to you?: So how bad do you want to restrict your calories? I gain weight easily, so I'm obsessive about counting my calories, but many times I am left not feeling very full. I read about these noodles and decided to give them a t...</td>\n",
       "      <td>882</td>\n",
       "      <td>What's important to you?: So how bad do you want to restrict your calories? I gain weight easily, so I'm obsessive about counting my calories, but many times I am left not feeling very full. I read about these noodles and decided to give them a t...</td>\n",
       "      <td>what's important to you?: so how bad do you want to restrict your calories? i gain weight easily, so i'm obsessive about counting my calories, but many times i am left not feeling very full. i read about these noodles and decided to give them a t...</td>\n",
       "      <td>[what, 's, important, to, you, ?, :, so, how, bad, do, you, want, to, restrict, your, calories, ?, i, gain, weight, easily, ,, so, i, 'm, obsessive, about, counting, my, calories, ,, but, many, times, i, am, left, not, feeling, very, full, ., i, ...</td>\n",
       "      <td>['s, important, ?, :, bad, want, restrict, calories, ?, gain, weight, easily, ,, 'm, obsessive, counting, calories, ,, many, times, left, feeling, full, ., read, noodles, decided, give, try, ., bag, ,, smell, like, fish, ,, goes, away, rinsing, ....</td>\n",
       "      <td>['s, important, bad, want, restrict, calories, gain, weight, easily, 'm, obsessive, counting, calories, many, times, left, feeling, full, read, noodles, decided, give, try, bag, smell, like, fish, goes, away, rinsing, yes, texture, like, chewing,...</td>\n",
       "      <td>[important, bad, want, restrict, calorie, gain, weight, easily, obsessive, count, calorie, time, leave, feel, read, noodle, decide, try, bag, smell, like, fish, go, away, rinse, yes, texture, like, chew, rubber, band, try, trick, boil, 30, minute...</td>\n",
       "      <td>[(important, bad), (bad, want), (want, restrict), (restrict, calorie), (calorie, gain), (gain, weight), (weight, easily), (easily, obsessive), (obsessive, count), (count, calorie), (calorie, time), (time, leave), (leave, feel), (feel, read), (rea...</td>\n",
       "    </tr>\n",
       "  </tbody>\n",
       "</table>\n",
       "</div>"
      ],
      "text/plain": [
       "         asin      reviewerID  overall  year  \\\n",
       "0  B007JINB0W  A1P9BVW2JB1OVL      3.0  2014   \n",
       "1  B007JINB0W   A5JZ2DBS9H3F6      1.0  2016   \n",
       "2  B007JINB0W  A3VYMBAX7IFV3B      1.0  2014   \n",
       "3  B007JINB0W  A25MLB8QXVM2LS      2.0  2018   \n",
       "4  B007JINB0W  A2DZN9RBFVVY7L      4.0  2014   \n",
       "\n",
       "                                                      category  \\\n",
       "0  Grocery & Gourmet Food; Pasta & Noodles; Noodles; Shirataki   \n",
       "1  Grocery & Gourmet Food; Pasta & Noodles; Noodles; Shirataki   \n",
       "2  Grocery & Gourmet Food; Pasta & Noodles; Noodles; Shirataki   \n",
       "3  Grocery & Gourmet Food; Pasta & Noodles; Noodles; Shirataki   \n",
       "4  Grocery & Gourmet Food; Pasta & Noodles; Noodles; Shirataki   \n",
       "\n",
       "                                                                                                                                                                                                                                                    text-raw  \\\n",
       "0  Odd chewy texture: This has a odd chewy texture and not much flavor, but used as a substitute for pasta, it helps cut calories and carbs. I can tolerate it, but it isn't really tasty. Surprisingly, my husband enjoyed it more than I did. I just co...   \n",
       "1                                                                                                                                                                              Fishy gross: They smell of fish and have a rubbery hard to chew texture. Yuck   \n",
       "2                                                                                                                                                                                                                           One Star: MOM DID NOT LIKE THESE   \n",
       "3  The noodles themselves are fine. The Amazon label description claims they are certified ...: The noodles themselves are fine. The Amazon label description claims they are certified non GMO and Vegan but the actual package contains no such symbol ...   \n",
       "4  What's important to you?: So how bad do you want to restrict your calories? I gain weight easily, so I'm obsessive about counting my calories, but many times I am left not feeling very full. I read about these noodles and decided to give them a t...   \n",
       "\n",
       "   length  \\\n",
       "0     291   \n",
       "1      77   \n",
       "2      32   \n",
       "3     289   \n",
       "4     882   \n",
       "\n",
       "                                                                                                                                                                                                                                                        text  \\\n",
       "0  Odd chewy texture: This has a odd chewy texture and not much flavor, but used as a substitute for pasta, it helps cut calories and carbs. I can tolerate it, but it isn't really tasty. Surprisingly, my husband enjoyed it more than I did. I just co...   \n",
       "1                                                                                                                                                                              Fishy gross: They smell of fish and have a rubbery hard to chew texture. Yuck   \n",
       "2                                                                                                                                                                                                                           One Star: MOM DID NOT LIKE THESE   \n",
       "3  The noodles themselves are fine. The Amazon label description claims they are certified ...: The noodles themselves are fine. The Amazon label description claims they are certified non GMO and Vegan but the actual package contains no such symbol ...   \n",
       "4  What's important to you?: So how bad do you want to restrict your calories? I gain weight easily, so I'm obsessive about counting my calories, but many times I am left not feeling very full. I read about these noodles and decided to give them a t...   \n",
       "\n",
       "                                                                                                                                                                                                                                                  lower_text  \\\n",
       "0  odd chewy texture: this has a odd chewy texture and not much flavor, but used as a substitute for pasta, it helps cut calories and carbs. i can tolerate it, but it isn't really tasty. surprisingly, my husband enjoyed it more than i did. i just co...   \n",
       "1                                                                                                                                                                              fishy gross: they smell of fish and have a rubbery hard to chew texture. yuck   \n",
       "2                                                                                                                                                                                                                           one star: mom did not like these   \n",
       "3  the noodles themselves are fine. the amazon label description claims they are certified ...: the noodles themselves are fine. the amazon label description claims they are certified non gmo and vegan but the actual package contains no such symbol ...   \n",
       "4  what's important to you?: so how bad do you want to restrict your calories? i gain weight easily, so i'm obsessive about counting my calories, but many times i am left not feeling very full. i read about these noodles and decided to give them a t...   \n",
       "\n",
       "                                                                                                                                                                                                                                                      tokens  \\\n",
       "0  [odd, chewy, texture, :, this, has, a, odd, chewy, texture, and, not, much, flavor, ,, but, used, as, a, substitute, for, pasta, ,, it, helps, cut, calories, and, carbs, ., i, can, tolerate, it, ,, but, it, is, n't, really, tasty, ., surprisingly...   \n",
       "1                                                                                                                                                          [fishy, gross, :, they, smell, of, fish, and, have, a, rubbery, hard, to, chew, texture, ., yuck]   \n",
       "2                                                                                                                                                                                                                 [one, star, :, mom, did, not, like, these]   \n",
       "3  [the, noodles, themselves, are, fine, ., the, amazon, label, description, claims, they, are, certified, ..., :, the, noodles, themselves, are, fine, ., the, amazon, label, description, claims, they, are, certified, non, gmo, and, vegan, but, the,...   \n",
       "4  [what, 's, important, to, you, ?, :, so, how, bad, do, you, want, to, restrict, your, calories, ?, i, gain, weight, easily, ,, so, i, 'm, obsessive, about, counting, my, calories, ,, but, many, times, i, am, left, not, feeling, very, full, ., i, ...   \n",
       "\n",
       "                                                                                                                                                                                                                                                    no_stops  \\\n",
       "0  [odd, chewy, texture, :, odd, chewy, texture, much, flavor, ,, used, substitute, pasta, ,, helps, cut, calories, carbs, ., tolerate, ,, n't, really, tasty, ., surprisingly, ,, husband, enjoyed, ., could, n't, get, past, texture, (, rubber, noodle...   \n",
       "1                                                                                                                                                                                      [fishy, gross, :, smell, fish, rubbery, hard, chew, texture, ., yuck]   \n",
       "2                                                                                                                                                                                                                                  [one, star, :, mom, like]   \n",
       "3                       [noodles, fine, ., amazon, label, description, claims, certified, ..., :, noodles, fine, ., amazon, label, description, claims, certified, non, gmo, vegan, actual, package, contains, symbol, claim, online, description, shows, .]   \n",
       "4  ['s, important, ?, :, bad, want, restrict, calories, ?, gain, weight, easily, ,, 'm, obsessive, counting, calories, ,, many, times, left, feeling, full, ., read, noodles, decided, give, try, ., bag, ,, smell, like, fish, ,, goes, away, rinsing, ....   \n",
       "\n",
       "                                                                                                                                                                                                                                           no_stops_no_punct  \\\n",
       "0                              [odd, chewy, texture, odd, chewy, texture, much, flavor, used, substitute, pasta, helps, cut, calories, carbs, tolerate, n't, really, tasty, surprisingly, husband, enjoyed, could, n't, get, past, texture, rubber, noodles]   \n",
       "1                                                                                                                                                                                            [fishy, gross, smell, fish, rubbery, hard, chew, texture, yuck]   \n",
       "2                                                                                                                                                                                                                                     [one, star, mom, like]   \n",
       "3                                   [noodles, fine, amazon, label, description, claims, certified, ..., noodles, fine, amazon, label, description, claims, certified, non, gmo, vegan, actual, package, contains, symbol, claim, online, description, shows]   \n",
       "4  ['s, important, bad, want, restrict, calories, gain, weight, easily, 'm, obsessive, counting, calories, many, times, left, feeling, full, read, noodles, decided, give, try, bag, smell, like, fish, goes, away, rinsing, yes, texture, like, chewing,...   \n",
       "\n",
       "                                                                                                                                                                                                                                                spacy_lemmas  \\\n",
       "0                                                                              [odd, chewy, texture, odd, chewy, texture, flavor, substitute, pasta, help, cut, calorie, carb, tolerate, tasty, surprisingly, husband, enjoy, past, texture, rubber, noodle]   \n",
       "1                                                                                                                                                                                            [fishy, gross, smell, fish, rubbery, hard, chew, texture, yuck]   \n",
       "2                                                                                                                                                                                                                                          [star, mom, like]   \n",
       "3                                                  [noodle, fine, amazon, label, description, claim, certify, noodle, fine, amazon, label, description, claim, certify, non, gmo, vegan, actual, package, contain, symbol, claim, online, description, show]   \n",
       "4  [important, bad, want, restrict, calorie, gain, weight, easily, obsessive, count, calorie, time, leave, feel, read, noodle, decide, try, bag, smell, like, fish, go, away, rinse, yes, texture, like, chew, rubber, band, try, trick, boil, 30, minute...   \n",
       "\n",
       "                                                                                                                                                                                                                                                     bigrams  \n",
       "0  [(odd, chewy), (chewy, texture), (texture, odd), (odd, chewy), (chewy, texture), (texture, flavor), (flavor, substitute), (substitute, pasta), (pasta, help), (help, cut), (cut, calorie), (calorie, carb), (carb, tolerate), (tolerate, tasty), (tast...  \n",
       "1                                                                                                                          [(fishy, gross), (gross, smell), (smell, fish), (fish, rubbery), (rubbery, hard), (hard, chew), (chew, texture), (texture, yuck)]  \n",
       "2                                                                                                                                                                                                                                 [(star, mom), (mom, like)]  \n",
       "3  [(noodle, fine), (fine, amazon), (amazon, label), (label, description), (description, claim), (claim, certify), (certify, noodle), (noodle, fine), (fine, amazon), (amazon, label), (label, description), (description, claim), (claim, certify), (cer...  \n",
       "4  [(important, bad), (bad, want), (want, restrict), (restrict, calorie), (calorie, gain), (gain, weight), (weight, easily), (easily, obsessive), (obsessive, count), (count, calorie), (calorie, time), (time, leave), (leave, feel), (feel, read), (rea...  "
      ]
     },
     "execution_count": 6,
     "metadata": {},
     "output_type": "execute_result"
    }
   ],
   "source": [
    "import joblib\n",
    "df = joblib.load('data/processed/processed-reviews.joblib')\n",
    "df.info()\n",
    "df.head()"
   ]
  },
  {
   "cell_type": "code",
   "execution_count": 7,
   "id": "88999b3f-1b93-49ee-950b-9f0bdb426be0",
   "metadata": {
    "execution": {
     "iopub.execute_input": "2024-02-08T03:17:05.076867Z",
     "iopub.status.busy": "2024-02-08T03:17:05.076754Z",
     "iopub.status.idle": "2024-02-08T03:17:05.078735Z",
     "shell.execute_reply": "2024-02-08T03:17:05.078430Z",
     "shell.execute_reply.started": "2024-02-08T03:17:05.076858Z"
    }
   },
   "outputs": [],
   "source": [
    "def create_groups(x):\n",
    "    if x>=5.0:\n",
    "        return \"high\"\n",
    "    elif x <=2.0:\n",
    "        return \"low\"\n",
    "    else: \n",
    "        return None"
   ]
  },
  {
   "cell_type": "markdown",
   "id": "292f5e92-f195-4ded-ac66-934ecb6644a2",
   "metadata": {},
   "source": [
    "To understand what customers do and do not like about Hoover products, we will define 2 groups:\n",
    "- High Ratings\n",
    "    - Overall rating = 5.0\n",
    "- Low Ratings\n",
    "    - Overall rating = 1.0 or 2.0\n",
    "\n",
    "\n",
    "We can use a function and .map to define group names based on the numeric overall ratings."
   ]
  },
  {
   "cell_type": "code",
   "execution_count": 8,
   "id": "9cda1d0b-e442-4f09-b334-c3397ab11834",
   "metadata": {
    "execution": {
     "iopub.execute_input": "2024-02-08T03:17:05.079201Z",
     "iopub.status.busy": "2024-02-08T03:17:05.079121Z",
     "iopub.status.idle": "2024-02-08T03:17:05.083221Z",
     "shell.execute_reply": "2024-02-08T03:17:05.082936Z",
     "shell.execute_reply.started": "2024-02-08T03:17:05.079194Z"
    }
   },
   "outputs": [
    {
     "data": {
      "text/plain": [
       "high    1868\n",
       "low     1437\n",
       "None    1058\n",
       "Name: rating, dtype: int64"
      ]
     },
     "execution_count": 8,
     "metadata": {},
     "output_type": "execute_result"
    }
   ],
   "source": [
    "## Use the function to create a new \"rating\" column with groups\n",
    "df['rating'] = df['overall'].map(create_groups)\n",
    "df['rating'].value_counts(dropna=False)"
   ]
  },
  {
   "cell_type": "code",
   "execution_count": 9,
   "id": "5caeeaad-6db4-4dbf-a9e2-fcd3dfd30334",
   "metadata": {
    "execution": {
     "iopub.execute_input": "2024-02-08T03:17:05.083811Z",
     "iopub.status.busy": "2024-02-08T03:17:05.083700Z",
     "iopub.status.idle": "2024-02-08T03:17:05.086967Z",
     "shell.execute_reply": "2024-02-08T03:17:05.086614Z",
     "shell.execute_reply.started": "2024-02-08T03:17:05.083802Z"
    }
   },
   "outputs": [
    {
     "data": {
      "text/plain": [
       "high    0.565204\n",
       "low     0.434796\n",
       "Name: rating, dtype: float64"
      ]
     },
     "execution_count": 9,
     "metadata": {},
     "output_type": "execute_result"
    }
   ],
   "source": [
    "## Check class balance of 'rating'\n",
    "df['rating'].value_counts(normalize=True)"
   ]
  },
  {
   "cell_type": "code",
   "execution_count": 10,
   "id": "34a9010c-9582-42e3-b958-507c65ad08fd",
   "metadata": {
    "execution": {
     "iopub.execute_input": "2024-02-08T03:17:05.087756Z",
     "iopub.status.busy": "2024-02-08T03:17:05.087649Z",
     "iopub.status.idle": "2024-02-08T03:17:05.097218Z",
     "shell.execute_reply": "2024-02-08T03:17:05.096934Z",
     "shell.execute_reply.started": "2024-02-08T03:17:05.087747Z"
    }
   },
   "outputs": [
    {
     "data": {
      "text/plain": [
       "asin                 0\n",
       "reviewerID           0\n",
       "overall              0\n",
       "year                 0\n",
       "category             0\n",
       "text-raw             0\n",
       "length               0\n",
       "text                 0\n",
       "lower_text           0\n",
       "tokens               0\n",
       "no_stops             0\n",
       "no_stops_no_punct    0\n",
       "spacy_lemmas         0\n",
       "bigrams              0\n",
       "rating               0\n",
       "dtype: int64"
      ]
     },
     "execution_count": 10,
     "metadata": {},
     "output_type": "execute_result"
    }
   ],
   "source": [
    "# Create a df_ml without null ratings\n",
    "df_ml = df.dropna(subset=['rating']).copy()\n",
    "df_ml.isna().sum()"
   ]
  },
  {
   "cell_type": "code",
   "execution_count": 11,
   "id": "2cd85e99-a07d-4475-9d20-134e1695c248",
   "metadata": {
    "execution": {
     "iopub.execute_input": "2024-02-08T03:17:05.097853Z",
     "iopub.status.busy": "2024-02-08T03:17:05.097741Z",
     "iopub.status.idle": "2024-02-08T03:17:05.101396Z",
     "shell.execute_reply": "2024-02-08T03:17:05.101016Z",
     "shell.execute_reply.started": "2024-02-08T03:17:05.097844Z"
    }
   },
   "outputs": [
    {
     "data": {
      "text/plain": [
       "1                                                                                                                                                                                 Fishy gross: They smell of fish and have a rubbery hard to chew texture. Yuck\n",
       "2                                                                                                                                                                                                                              One Star: MOM DID NOT LIKE THESE\n",
       "3     The noodles themselves are fine. The Amazon label description claims they are certified ...: The noodles themselves are fine. The Amazon label description claims they are certified non GMO and Vegan but the actual package contains no such symbol ...\n",
       "5                                                                                                                                                                                                                 Two Stars: Not good lol. Like not god at all.\n",
       "6                                                                                                                                     AWFUL!: Inedible! Awful!  Putrid!  I would never waste a dime on this product.  I would rather starve than eat this food.\n",
       "7     Great rice alternative for me: Absolutely love it! I first bought the variety pack and the rice is my favorite. The texture of the rice is really good, it absorbs flavor so well, and is super easy and fast to prepare. Excellent option for those s...\n",
       "8                                                                                                 Digestive issues...: Has anyone else had problems with... um... diarrhea? A wasted batch of turkey soup I can not eat without running to the biffy. So sad...\n",
       "9                    I love these noodles-my diabetic husband can eat them and not ...: I love these noodles-my diabetic husband can eat them and not have them raise his blood sugar. I like them because I do not eat wheat. They have a great chewy texture.\n",
       "10                                                                                                                                                                                                            Five Stars: Tastey once you get past the texture.\n",
       "11            Not for me: Sorry I did not like the texture of the rice nor the noddles. I don't eat any kind of spaghetti or pasta but they come with the rice so basically I paid for them and threw them out in  the garbage can. The texture is like rubber.\n",
       "Name: text, dtype: object"
      ]
     },
     "execution_count": 11,
     "metadata": {},
     "output_type": "execute_result"
    }
   ],
   "source": [
    "## X - Option A)  lemmas\n",
    "# def join_tokens(token_list):\n",
    "#     joined_tokens = ' '.join(token_list)\n",
    "#     return joined_tokens\n",
    "# X = df_ml['spacy_lemmas'].apply(join_tokens)\n",
    "\n",
    "# X - Option B) original raw text\n",
    "X = df_ml['text']\n",
    "\n",
    "# y - use our binary target \n",
    "y = df_ml['rating']\n",
    "X.head(10)"
   ]
  },
  {
   "cell_type": "code",
   "execution_count": 12,
   "id": "ea038ef0-08da-4dc5-b7b3-41f4652ca28d",
   "metadata": {
    "execution": {
     "iopub.execute_input": "2024-02-08T03:17:05.102186Z",
     "iopub.status.busy": "2024-02-08T03:17:05.102062Z",
     "iopub.status.idle": "2024-02-08T03:17:05.105376Z",
     "shell.execute_reply": "2024-02-08T03:17:05.105089Z",
     "shell.execute_reply.started": "2024-02-08T03:17:05.102177Z"
    }
   },
   "outputs": [
    {
     "data": {
      "text/plain": [
       "high    0.565204\n",
       "low     0.434796\n",
       "Name: rating, dtype: float64"
      ]
     },
     "execution_count": 12,
     "metadata": {},
     "output_type": "execute_result"
    }
   ],
   "source": [
    "y.value_counts(normalize=True)"
   ]
  },
  {
   "cell_type": "code",
   "execution_count": null,
   "id": "bde1fe33-1460-4d18-8ffe-8eb4ca9c6cee",
   "metadata": {},
   "outputs": [],
   "source": []
  },
  {
   "cell_type": "markdown",
   "id": "06184dc5-7b95-415d-ad4a-01b24f877d2a",
   "metadata": {},
   "source": [
    "# 📚 New For Today:"
   ]
  },
  {
   "cell_type": "markdown",
   "id": "f3dd218e-3911-49e7-9776-c07dc9087ae2",
   "metadata": {},
   "source": [
    "- Starting with a simple train-test-split for ML model (like in movie nlp project)\n",
    "- Resampling Imbalanced training data\n",
    "- Creating tensorflow dataset from X_train, y_train (so dataset is rebalanced)\n",
    "- Creating tensorflow dataset (intended to be split in 2 ) for X_test and y_test"
   ]
  },
  {
   "cell_type": "markdown",
   "id": "2486c413-1286-46df-b939-b6cc423e9b4e",
   "metadata": {},
   "source": [
    "## From Train-Test Split for ML to Train-Test-Val Split for ANNs"
   ]
  },
  {
   "cell_type": "code",
   "execution_count": 13,
   "id": "5f9c6b64-a923-4bcd-a899-8d1c43181cd1",
   "metadata": {
    "execution": {
     "iopub.execute_input": "2024-02-08T03:17:05.106003Z",
     "iopub.status.busy": "2024-02-08T03:17:05.105873Z",
     "iopub.status.idle": "2024-02-08T03:17:05.109236Z",
     "shell.execute_reply": "2024-02-08T03:17:05.108893Z",
     "shell.execute_reply.started": "2024-02-08T03:17:05.105994Z"
    }
   },
   "outputs": [
    {
     "data": {
      "text/plain": [
       "(2313, 992)"
      ]
     },
     "execution_count": 13,
     "metadata": {},
     "output_type": "execute_result"
    }
   ],
   "source": [
    "# Perform 70:30 train test split\n",
    "X_train_full, X_test, y_train_full, y_test = train_test_split(X, y, test_size=.3, random_state=42)\n",
    "len(X_train_full), len(X_test)"
   ]
  },
  {
   "cell_type": "markdown",
   "id": "8c5dc81c-53c6-486c-9beb-1ba5a86f6909",
   "metadata": {},
   "source": [
    "### Using Sklearn's LabelEncoder"
   ]
  },
  {
   "cell_type": "markdown",
   "id": "d04f3486-8db8-4486-b931-bdc11d14a662",
   "metadata": {},
   "source": [
    "- Can't use text labels with neural networks."
   ]
  },
  {
   "cell_type": "code",
   "execution_count": 14,
   "id": "f098d599-e5a0-4d07-b8aa-a61ae8659921",
   "metadata": {
    "execution": {
     "iopub.execute_input": "2024-02-08T03:17:05.110038Z",
     "iopub.status.busy": "2024-02-08T03:17:05.109875Z",
     "iopub.status.idle": "2024-02-08T03:17:05.112360Z",
     "shell.execute_reply": "2024-02-08T03:17:05.112084Z",
     "shell.execute_reply.started": "2024-02-08T03:17:05.110028Z"
    }
   },
   "outputs": [
    {
     "data": {
      "text/plain": [
       "4229    high\n",
       "3075     low\n",
       "3260     low\n",
       "2235     low\n",
       "843     high\n",
       "81      high\n",
       "1352     low\n",
       "3938     low\n",
       "1609     low\n",
       "4360     low\n",
       "Name: rating, dtype: object"
      ]
     },
     "execution_count": 14,
     "metadata": {},
     "output_type": "execute_result"
    }
   ],
   "source": [
    "y_train_full[:10]"
   ]
  },
  {
   "cell_type": "code",
   "execution_count": 15,
   "id": "e4195576-f430-446b-853a-da86d2bf0322",
   "metadata": {
    "execution": {
     "iopub.execute_input": "2024-02-08T03:17:05.112922Z",
     "iopub.status.busy": "2024-02-08T03:17:05.112806Z",
     "iopub.status.idle": "2024-02-08T03:17:05.116564Z",
     "shell.execute_reply": "2024-02-08T03:17:05.116252Z",
     "shell.execute_reply.started": "2024-02-08T03:17:05.112914Z"
    }
   },
   "outputs": [
    {
     "data": {
      "text/plain": [
       "array([0, 1, 1, 1, 0, 0, 1, 1, 1, 1])"
      ]
     },
     "execution_count": 15,
     "metadata": {},
     "output_type": "execute_result"
    }
   ],
   "source": [
    "# Instansiate label encoder\n",
    "encoder = LabelEncoder()\n",
    "\n",
    "# Fit and transform the training target\n",
    "y_train_full_enc = encoder.fit_transform(y_train_full)#.values)\n",
    "\n",
    "# Fit and tranform the test target\n",
    "y_test_enc = encoder.transform(y_test)\n",
    "\n",
    "y_train_full_enc[:10]"
   ]
  },
  {
   "cell_type": "code",
   "execution_count": 16,
   "id": "a2b8926d-f87c-40dd-b883-6ab44f054b16",
   "metadata": {
    "execution": {
     "iopub.execute_input": "2024-02-08T03:17:05.117159Z",
     "iopub.status.busy": "2024-02-08T03:17:05.117072Z",
     "iopub.status.idle": "2024-02-08T03:17:05.119878Z",
     "shell.execute_reply": "2024-02-08T03:17:05.119476Z",
     "shell.execute_reply.started": "2024-02-08T03:17:05.117151Z"
    }
   },
   "outputs": [
    {
     "data": {
      "text/plain": [
       "array(['high', 'low'], dtype=object)"
      ]
     },
     "execution_count": 16,
     "metadata": {},
     "output_type": "execute_result"
    }
   ],
   "source": [
    "# Original Class names saved as .classes_\n",
    "classes = encoder.classes_\n",
    "classes"
   ]
  },
  {
   "cell_type": "code",
   "execution_count": 17,
   "id": "a552b075-6d94-4ad7-8c05-025d60ac00c4",
   "metadata": {
    "execution": {
     "iopub.execute_input": "2024-02-08T03:17:05.120658Z",
     "iopub.status.busy": "2024-02-08T03:17:05.120496Z",
     "iopub.status.idle": "2024-02-08T03:17:05.123738Z",
     "shell.execute_reply": "2024-02-08T03:17:05.123301Z",
     "shell.execute_reply.started": "2024-02-08T03:17:05.120648Z"
    }
   },
   "outputs": [
    {
     "data": {
      "text/plain": [
       "array(['high', 'low'], dtype=object)"
      ]
     },
     "execution_count": 17,
     "metadata": {},
     "output_type": "execute_result"
    }
   ],
   "source": [
    "# Can inverse-transform \n",
    "encoder.inverse_transform([0,1])"
   ]
  },
  {
   "cell_type": "markdown",
   "id": "ce7cb1dc-d13d-4dcb-80ca-b8301f0f3581",
   "metadata": {},
   "source": [
    "### Undersampling Majority Class"
   ]
  },
  {
   "cell_type": "code",
   "execution_count": 18,
   "id": "25d98790-5804-4162-9e78-4b0b3ff8faa5",
   "metadata": {
    "execution": {
     "iopub.execute_input": "2024-02-08T03:17:05.124536Z",
     "iopub.status.busy": "2024-02-08T03:17:05.124379Z",
     "iopub.status.idle": "2024-02-08T03:17:05.126839Z",
     "shell.execute_reply": "2024-02-08T03:17:05.126399Z",
     "shell.execute_reply.started": "2024-02-08T03:17:05.124525Z"
    }
   },
   "outputs": [],
   "source": [
    "from imblearn.under_sampling import RandomUnderSampler\n",
    "\n",
    "# Instantiate a RandomUnderSampler\n",
    "sampler = RandomUnderSampler(random_state=42)"
   ]
  },
  {
   "cell_type": "code",
   "execution_count": 19,
   "id": "14d977d4-e6a1-4bf1-8b84-b50c216f0fbd",
   "metadata": {
    "execution": {
     "iopub.execute_input": "2024-02-08T03:17:05.127391Z",
     "iopub.status.busy": "2024-02-08T03:17:05.127282Z",
     "iopub.status.idle": "2024-02-08T03:17:05.130228Z",
     "shell.execute_reply": "2024-02-08T03:17:05.130002Z",
     "shell.execute_reply.started": "2024-02-08T03:17:05.127383Z"
    }
   },
   "outputs": [
    {
     "data": {
      "text/plain": [
       "ValueError('Expected 2D array, got 1D array instead:\\narray=[\\'EXCELLENT 0SP WW SUBSTITUTE: These are amazing! I am on weight watchers and these are 0sp! The taste is not good nor bad. I found they were tasteless, but really beef up a dish. It is especially helpful to have the mindset that I am eating carbs. I will continue to buy these for the convenience; even if it is just to trick my brain.\\'\\n \"I found the texture too much like tapioca pearls for my personal preference: These really truly don\\'t have any flavor if you rinse them enough, however, I found the texture too much like tapioca pearls for my personal preference.  Would recommend anyone looking for a good pasta or rice substitute to just stick with shredded cauliflower.\"\\n \\'Tasteless: These have no flavor.  They are a waste of space.  They have not nutritional value.  I prefer to make zucchini noodles or kelp noodles for when I craving a noodle dish.\\'\\n ...\\n \\'Two Stars: several of the packages arrive punctured and leaked all over the inside of the box.\\'\\n \\'TERRIBLE: THE TASTE AND SMELL ARE AWFUL.\\\\nBECAUSE I  ENJOY RICE I THOUGHT THE WOULD BE A HEALTHIER CHOICE.\\\\nI WILL CONTINUE TO ENJOY MY BROWN RICE.\\\\n.\\'\\n \\'One Star: no taste\\'].\\nReshape your data either using array.reshape(-1, 1) if your data has a single feature or array.reshape(1, -1) if it contains a single sample.')"
      ]
     },
     "metadata": {},
     "output_type": "display_data"
    }
   ],
   "source": [
    "try:\n",
    "    X_train, y_train = sampler.fit_resample(X_train_full,y_train_full_enc)\n",
    "except Exception as e:\n",
    "    display(e)"
   ]
  },
  {
   "cell_type": "code",
   "execution_count": 20,
   "id": "6e69b21c-e59a-44f2-9619-ec706e571518",
   "metadata": {
    "execution": {
     "iopub.execute_input": "2024-02-08T03:17:05.130690Z",
     "iopub.status.busy": "2024-02-08T03:17:05.130608Z",
     "iopub.status.idle": "2024-02-08T03:17:05.134640Z",
     "shell.execute_reply": "2024-02-08T03:17:05.134310Z",
     "shell.execute_reply.started": "2024-02-08T03:17:05.130682Z"
    }
   },
   "outputs": [
    {
     "data": {
      "text/plain": [
       "(2012, 1)"
      ]
     },
     "execution_count": 20,
     "metadata": {},
     "output_type": "execute_result"
    }
   ],
   "source": [
    "# Fit_resample on the reshaped X_train data and y-train data\n",
    "X_train, y_train_enc = sampler.fit_resample(X_train_full.values.reshape(-1,1),\n",
    "                                        y_train_full_enc)\n",
    "X_train.shape"
   ]
  },
  {
   "cell_type": "code",
   "execution_count": 21,
   "id": "13b6157b-9f31-48fb-80d0-db4c35f5fbbc",
   "metadata": {
    "execution": {
     "iopub.execute_input": "2024-02-08T03:17:05.135461Z",
     "iopub.status.busy": "2024-02-08T03:17:05.135325Z",
     "iopub.status.idle": "2024-02-08T03:17:05.140188Z",
     "shell.execute_reply": "2024-02-08T03:17:05.139747Z",
     "shell.execute_reply.started": "2024-02-08T03:17:05.135450Z"
    }
   },
   "outputs": [
    {
     "data": {
      "text/plain": [
       "(2012,)"
      ]
     },
     "execution_count": 21,
     "metadata": {},
     "output_type": "execute_result"
    }
   ],
   "source": [
    "# Flatten the reshaped X_train data back to 1D\n",
    "X_train = X_train.flatten()\n",
    "X_train.shape"
   ]
  },
  {
   "cell_type": "code",
   "execution_count": 22,
   "id": "3898e60d-cb19-408e-91d4-e677f033a47d",
   "metadata": {
    "execution": {
     "iopub.execute_input": "2024-02-08T03:17:05.145665Z",
     "iopub.status.busy": "2024-02-08T03:17:05.145517Z",
     "iopub.status.idle": "2024-02-08T03:17:05.149266Z",
     "shell.execute_reply": "2024-02-08T03:17:05.148948Z",
     "shell.execute_reply.started": "2024-02-08T03:17:05.145654Z"
    }
   },
   "outputs": [
    {
     "data": {
      "text/plain": [
       "0    1006\n",
       "1    1006\n",
       "dtype: int64"
      ]
     },
     "execution_count": 22,
     "metadata": {},
     "output_type": "execute_result"
    }
   ],
   "source": [
    "# Check for class balance\n",
    "pd.Series(y_train_enc).value_counts()"
   ]
  },
  {
   "cell_type": "markdown",
   "id": "9880fe72-4a80-4135-ba02-1c2a5f873a21",
   "metadata": {},
   "source": [
    "## Previous Class' ML Model"
   ]
  },
  {
   "cell_type": "code",
   "execution_count": 23,
   "id": "d319c2f9-60a7-4f4e-b2e2-acf0a1fe0f69",
   "metadata": {
    "execution": {
     "iopub.execute_input": "2024-02-08T03:17:05.150152Z",
     "iopub.status.busy": "2024-02-08T03:17:05.149977Z",
     "iopub.status.idle": "2024-02-08T03:17:05.159474Z",
     "shell.execute_reply": "2024-02-08T03:17:05.159113Z",
     "shell.execute_reply.started": "2024-02-08T03:17:05.150139Z"
    }
   },
   "outputs": [],
   "source": [
    "from sklearn.feature_extraction.text import CountVectorizer, TfidfVectorizer\n",
    "from sklearn.pipeline import Pipeline\n",
    "from sklearn.naive_bayes import MultinomialNB"
   ]
  },
  {
   "cell_type": "code",
   "execution_count": 25,
   "id": "9b488903-2846-4bfc-a046-41ebb7ccebfa",
   "metadata": {
    "execution": {
     "iopub.execute_input": "2024-02-08T03:17:41.410417Z",
     "iopub.status.busy": "2024-02-08T03:17:41.409177Z",
     "iopub.status.idle": "2024-02-08T03:17:41.683710Z",
     "shell.execute_reply": "2024-02-08T03:17:41.683202Z",
     "shell.execute_reply.started": "2024-02-08T03:17:41.410378Z"
    }
   },
   "outputs": [
    {
     "name": "stdout",
     "output_type": "stream",
     "text": [
      "----------------------------------------------------------------------\n",
      " Classification Metrics: Training Data\n",
      "----------------------------------------------------------------------\n",
      "              precision    recall  f1-score   support\n",
      "\n",
      "           0       0.96      0.98      0.97      1006\n",
      "           1       0.98      0.96      0.97      1006\n",
      "\n",
      "    accuracy                           0.97      2012\n",
      "   macro avg       0.97      0.97      0.97      2012\n",
      "weighted avg       0.97      0.97      0.97      2012\n",
      "\n"
     ]
    },
    {
     "data": {
      "image/png": "[encoded data removed]",
      "text/plain": [
       "<Figure size 600x400 with 2 Axes>"
      ]
     },
     "metadata": {},
     "output_type": "display_data"
    },
    {
     "name": "stdout",
     "output_type": "stream",
     "text": [
      "\n",
      "----------------------------------------------------------------------\n",
      " Classification Metrics: Test Data\n",
      "----------------------------------------------------------------------\n",
      "              precision    recall  f1-score   support\n",
      "\n",
      "           0       0.95      0.96      0.95       561\n",
      "           1       0.95      0.93      0.94       431\n",
      "\n",
      "    accuracy                           0.95       992\n",
      "   macro avg       0.95      0.95      0.95       992\n",
      "weighted avg       0.95      0.95      0.95       992\n",
      "\n"
     ]
    },
    {
     "data": {
      "image/png": "[encoded data removed]",
      "text/plain": [
       "<Figure size 600x400 with 2 Axes>"
      ]
     },
     "metadata": {},
     "output_type": "display_data"
    }
   ],
   "source": [
    "## Create a model pipeline \n",
    "count_pipe = Pipeline([('vectorizer',  CountVectorizer()), \n",
    "                       ('naivebayes',  MultinomialNB())])\n",
    "\n",
    "count_pipe.fit(X_train, y_train_enc)\n",
    "fn.evaluate.evaluate_classification(count_pipe, X_train, y_train_enc, X_test, y_test_enc,)"
   ]
  },
  {
   "cell_type": "code",
   "execution_count": 26,
   "id": "5bf02bd9-eea7-4f5c-aa3b-4c98da641129",
   "metadata": {
    "execution": {
     "iopub.execute_input": "2024-02-08T03:17:41.685235Z",
     "iopub.status.busy": "2024-02-08T03:17:41.685056Z",
     "iopub.status.idle": "2024-02-08T03:17:41.687397Z",
     "shell.execute_reply": "2024-02-08T03:17:41.686997Z",
     "shell.execute_reply.started": "2024-02-08T03:17:41.685226Z"
    }
   },
   "outputs": [],
   "source": [
    "# # Admin: Saving  for Demo functions in part 1\n",
    "# import joblib\n",
    "# fpath_joblib = \"../Lecture 1 Pt1 - Making a Custom Module/example-clf-model-with-data.joblib\"\n",
    "# save_for_part1= {'model':count_pipe, 'training data': [X_train, y_train_enc],'test data':[X_test, y_test_enc]}\n",
    "# joblib.dump(save_for_part1, fpath_joblib)"
   ]
  },
  {
   "cell_type": "markdown",
   "id": "23e80644-9fda-416e-80b6-789bb7a5903d",
   "metadata": {},
   "source": [
    "# Preparing For Deep NLP (Train-Test-Val Datasets)"
   ]
  },
  {
   "cell_type": "markdown",
   "id": "47ef132d-e442-485e-a634-acf94bf541ea",
   "metadata": {},
   "source": [
    "## 🕹️ Prepare Tensorflow Datasets"
   ]
  },
  {
   "attachments": {},
   "cell_type": "markdown",
   "id": "da20ab9e-7e58-445b-a0bf-38f9926e8d56",
   "metadata": {},
   "source": [
    "Since we already have train/test X and y vars, we will make 2 dataset objects using tf.data.Dataset.from_tensor_slices.\n",
    "\n",
    "1. The training dataset using X_train, y_train (that we resampled/balanced)\n",
    "2. The val/test dataset using X_test, y-test.\n",
    "\n",
    "We will then split the val/test dataset into a val/test split.\n",
    "\n",
    "<!-- \n",
    "### T/T/V Split - Order of Operations (if using 1 dataset object)\n",
    "\n",
    "1) **Create full dataset object & Shuffle Once.**\n",
    "2) Calculate number of samples for training and validation data.\n",
    "3) Create the train/test/val splits using .take() and .skip()\n",
    "4) **Add shuffle to the train dataset only.**\n",
    "5) (Optional/Not Used on LP) If applying a transformation (e.g. train_ds.map(...)) to the data, add  here, before .cache()\n",
    "7) (Optional) Add .cache() to all splits to increase speed  (but may cause problems with large datasets)\n",
    "8) **Add .batch to all splits (default batch size=32)**\n",
    "9) (Optional) Add .prefetch(tf.data.AUTOTUNE)\n",
    "10) (Optional) Print out final length of datasets -->"
   ]
  },
  {
   "cell_type": "code",
   "execution_count": 27,
   "id": "e0658b2a-2c35-4f27-a06e-a54416aa9821",
   "metadata": {
    "execution": {
     "iopub.execute_input": "2024-02-08T03:17:41.688311Z",
     "iopub.status.busy": "2024-02-08T03:17:41.688166Z",
     "iopub.status.idle": "2024-02-08T03:17:41.716117Z",
     "shell.execute_reply": "2024-02-08T03:17:41.715714Z",
     "shell.execute_reply.started": "2024-02-08T03:17:41.688301Z"
    }
   },
   "outputs": [],
   "source": [
    "# Convert training data to Dataset Object\n",
    "train_ds = tf.data.Dataset.from_tensor_slices((X_train, y_train_enc))\n",
    "# Shuffle dataset once\n",
    "train_ds = train_ds.shuffle(buffer_size=len(train_ds),\n",
    "                            reshuffle_each_iteration=False)"
   ]
  },
  {
   "cell_type": "markdown",
   "id": "fedeaafa-fa13-4309-a8a8-42913843b8c3",
   "metadata": {},
   "source": [
    "Create a test and validation dataset using X_test,y_test"
   ]
  },
  {
   "cell_type": "code",
   "execution_count": 28,
   "id": "3e890160-24b8-4bcf-a3af-5d88bd0237a9",
   "metadata": {
    "execution": {
     "iopub.execute_input": "2024-02-08T03:17:41.716694Z",
     "iopub.status.busy": "2024-02-08T03:17:41.716595Z",
     "iopub.status.idle": "2024-02-08T03:17:41.722726Z",
     "shell.execute_reply": "2024-02-08T03:17:41.721990Z",
     "shell.execute_reply.started": "2024-02-08T03:17:41.716685Z"
    }
   },
   "outputs": [
    {
     "data": {
      "text/plain": [
       "<_TensorSliceDataset element_spec=(TensorSpec(shape=(), dtype=tf.string, name=None), TensorSpec(shape=(), dtype=tf.int64, name=None))>"
      ]
     },
     "execution_count": 28,
     "metadata": {},
     "output_type": "execute_result"
    }
   ],
   "source": [
    "# Convert test to dataset object and split\n",
    "val_test_split_ds = tf.data.Dataset.from_tensor_slices((X_test, y_test_enc))\n",
    "val_test_split_ds"
   ]
  },
  {
   "cell_type": "code",
   "execution_count": 29,
   "id": "d69060a8-96f1-4398-9242-af1b3701b761",
   "metadata": {
    "execution": {
     "iopub.execute_input": "2024-02-08T03:17:41.725049Z",
     "iopub.status.busy": "2024-02-08T03:17:41.724921Z",
     "iopub.status.idle": "2024-02-08T03:17:41.728284Z",
     "shell.execute_reply": "2024-02-08T03:17:41.727659Z",
     "shell.execute_reply.started": "2024-02-08T03:17:41.725038Z"
    }
   },
   "outputs": [
    {
     "data": {
      "text/plain": [
       "496"
      ]
     },
     "execution_count": 29,
     "metadata": {},
     "output_type": "execute_result"
    }
   ],
   "source": [
    "# Calculate # of samples for 50/50 val/test split\n",
    "n_val_samples =  int(len(val_test_split_ds) * .5)\n",
    "n_val_samples"
   ]
  },
  {
   "cell_type": "code",
   "execution_count": 30,
   "id": "e495b3b9-b89e-41c8-b597-d65a383cddbc",
   "metadata": {
    "execution": {
     "iopub.execute_input": "2024-02-08T03:17:41.728992Z",
     "iopub.status.busy": "2024-02-08T03:17:41.728871Z",
     "iopub.status.idle": "2024-02-08T03:17:41.734038Z",
     "shell.execute_reply": "2024-02-08T03:17:41.733657Z",
     "shell.execute_reply.started": "2024-02-08T03:17:41.728983Z"
    }
   },
   "outputs": [],
   "source": [
    "## Perform the val/test split\n",
    "## Create the validation dataset\n",
    "val_ds = val_test_split_ds.take(n_val_samples)\n",
    "\n",
    "## Create the test dataset\n",
    "test_ds = val_test_split_ds.skip(n_val_samples)"
   ]
  },
  {
   "cell_type": "code",
   "execution_count": 31,
   "id": "7ad4a489-7074-49ea-be83-ea6c6f54cc38",
   "metadata": {
    "execution": {
     "iopub.execute_input": "2024-02-08T03:17:41.734915Z",
     "iopub.status.busy": "2024-02-08T03:17:41.734754Z",
     "iopub.status.idle": "2024-02-08T03:17:41.738151Z",
     "shell.execute_reply": "2024-02-08T03:17:41.737712Z",
     "shell.execute_reply.started": "2024-02-08T03:17:41.734904Z"
    }
   },
   "outputs": [
    {
     "data": {
      "text/plain": [
       "(2012, 496, 496)"
      ]
     },
     "execution_count": 31,
     "metadata": {},
     "output_type": "execute_result"
    }
   ],
   "source": [
    "# Comparing the len gths of all 3 splits\n",
    "len(train_ds), len(val_ds), len(test_ds)"
   ]
  },
  {
   "cell_type": "markdown",
   "id": "a6305413-cb77-4238-9be5-f8ea32e7a9ee",
   "metadata": {},
   "source": [
    "### Adding Shuffling and Batching"
   ]
  },
  {
   "cell_type": "markdown",
   "id": "66afce4b-e39e-458b-b022-ac39ed9ca9ef",
   "metadata": {},
   "source": [
    "Let's examine a single element."
   ]
  },
  {
   "cell_type": "code",
   "execution_count": 32,
   "id": "f4678d3f-baba-4962-87cf-00910be748f5",
   "metadata": {
    "execution": {
     "iopub.execute_input": "2024-02-08T03:17:41.738901Z",
     "iopub.status.busy": "2024-02-08T03:17:41.738780Z",
     "iopub.status.idle": "2024-02-08T03:17:41.743994Z",
     "shell.execute_reply": "2024-02-08T03:17:41.743514Z",
     "shell.execute_reply.started": "2024-02-08T03:17:41.738891Z"
    }
   },
   "outputs": [
    {
     "name": "stdout",
     "output_type": "stream",
     "text": [
      "tf.Tensor(b\"I love these!: I love these!!! The noodle with oyster sauce and seaweed is gorgeous! I don't have to worry about taking in too much calories, meanwhile sparing my stomach of any suffering. Great product :)\", shape=(), dtype=string) \n",
      "\n",
      " tf.Tensor(0, shape=(), dtype=int64)\n"
     ]
    }
   ],
   "source": [
    "# display a sample single element \n",
    "example_X, example_y= train_ds.take(1).get_single_element()\n",
    "print(example_X,'\\n\\n',example_y)"
   ]
  },
  {
   "cell_type": "code",
   "execution_count": 33,
   "id": "95b9ebe2-9d41-4641-8961-88c3dfa7adf2",
   "metadata": {
    "execution": {
     "iopub.execute_input": "2024-02-08T03:17:41.744853Z",
     "iopub.status.busy": "2024-02-08T03:17:41.744740Z",
     "iopub.status.idle": "2024-02-08T03:17:41.748988Z",
     "shell.execute_reply": "2024-02-08T03:17:41.748503Z",
     "shell.execute_reply.started": "2024-02-08T03:17:41.744843Z"
    },
    "scrolled": true
   },
   "outputs": [
    {
     "name": "stdout",
     "output_type": "stream",
     "text": [
      "tf.Tensor(b\"I love these!: I love these!!! The noodle with oyster sauce and seaweed is gorgeous! I don't have to worry about taking in too much calories, meanwhile sparing my stomach of any suffering. Great product :)\", shape=(), dtype=string) \n",
      "\n",
      " tf.Tensor(0, shape=(), dtype=int64)\n"
     ]
    }
   ],
   "source": [
    "# taking a sample  (same result)\n",
    "example_X, example_y= train_ds.take(1).get_single_element()\n",
    "print(example_X,'\\n\\n',example_y)"
   ]
  },
  {
   "cell_type": "markdown",
   "id": "1cf8c3ac-d2a0-437d-952b-a778d3d054a3",
   "metadata": {},
   "source": [
    "> Shuffle the training data at the end of each epoch"
   ]
  },
  {
   "cell_type": "code",
   "execution_count": 34,
   "id": "c4969390-4e72-4e52-9fe7-41f83e683729",
   "metadata": {
    "execution": {
     "iopub.execute_input": "2024-02-08T03:17:41.749971Z",
     "iopub.status.busy": "2024-02-08T03:17:41.749777Z",
     "iopub.status.idle": "2024-02-08T03:17:41.753573Z",
     "shell.execute_reply": "2024-02-08T03:17:41.753206Z",
     "shell.execute_reply.started": "2024-02-08T03:17:41.749954Z"
    }
   },
   "outputs": [],
   "source": [
    "# Shuffle only the training data every epoch\n",
    "train_ds = train_ds.shuffle(len(train_ds))"
   ]
  },
  {
   "cell_type": "code",
   "execution_count": 35,
   "id": "d5d8b84c-a4b2-464e-a7ef-21e2891df7ee",
   "metadata": {
    "execution": {
     "iopub.execute_input": "2024-02-08T03:17:41.754171Z",
     "iopub.status.busy": "2024-02-08T03:17:41.754071Z",
     "iopub.status.idle": "2024-02-08T03:17:41.757650Z",
     "shell.execute_reply": "2024-02-08T03:17:41.757287Z",
     "shell.execute_reply.started": "2024-02-08T03:17:41.754162Z"
    }
   },
   "outputs": [
    {
     "name": "stdout",
     "output_type": "stream",
     "text": [
      "tf.Tensor(b\"worse food I have ever had: Honestly there is a reason they are called Miracle Noodle. It's a miracle anyone ever eats them twice. OMG...worse food I have ever had.\", shape=(), dtype=string) \n",
      "\n",
      " tf.Tensor(1, shape=(), dtype=int64)\n"
     ]
    }
   ],
   "source": [
    "# taking a sample  (different result)\n",
    "example_X, example_y= train_ds.take(1).get_single_element()\n",
    "print(example_X,'\\n\\n',example_y)"
   ]
  },
  {
   "cell_type": "code",
   "execution_count": 36,
   "id": "4d8caedf-696c-4284-a224-194e64319af4",
   "metadata": {
    "execution": {
     "iopub.execute_input": "2024-02-08T03:17:41.758346Z",
     "iopub.status.busy": "2024-02-08T03:17:41.758232Z",
     "iopub.status.idle": "2024-02-08T03:17:41.762412Z",
     "shell.execute_reply": "2024-02-08T03:17:41.761418Z",
     "shell.execute_reply.started": "2024-02-08T03:17:41.758337Z"
    }
   },
   "outputs": [
    {
     "name": "stdout",
     "output_type": "stream",
     "text": [
      "tf.Tensor(b\"Make sure you know how to prepare this specific noodle!: If you know how to prepare the product, it can taste just like normal noodles.\\n\\nI love the invention of shirataki noodles. If you're like me, indulging in noodle-based meals can be too easy.\\n\\nWith this product, you're free and able to stuff your face with pasta and noodles.\", shape=(), dtype=string) \n",
      "\n",
      " tf.Tensor(0, shape=(), dtype=int64)\n"
     ]
    }
   ],
   "source": [
    "# taking a sample  (different result)\n",
    "example_X, example_y= train_ds.take(1).get_single_element()\n",
    "print(example_X,'\\n\\n',example_y)"
   ]
  },
  {
   "cell_type": "markdown",
   "id": "8b99b4bd-6d3c-409e-956b-a7d2e0fd5916",
   "metadata": {},
   "source": [
    "> Add batching (use 32 for batch_size)"
   ]
  },
  {
   "cell_type": "code",
   "execution_count": 37,
   "id": "e48eeddb-5554-4f37-a435-91ea27911e99",
   "metadata": {
    "execution": {
     "iopub.execute_input": "2024-02-08T03:17:41.765292Z",
     "iopub.status.busy": "2024-02-08T03:17:41.763759Z",
     "iopub.status.idle": "2024-02-08T03:17:41.776452Z",
     "shell.execute_reply": "2024-02-08T03:17:41.775689Z",
     "shell.execute_reply.started": "2024-02-08T03:17:41.765266Z"
    }
   },
   "outputs": [
    {
     "name": "stdout",
     "output_type": "stream",
     "text": [
      " There are 63 training batches.\n",
      " There are 16 validation batches.\n",
      " There are 16 testing batches.\n"
     ]
    }
   ],
   "source": [
    "#  Setting the batch_size for all datasets\n",
    "BATCH_SIZE = 32\n",
    "\n",
    "# use .batch to add batching to all 3 datasets\n",
    "train_ds = train_ds.batch(BATCH_SIZE)\n",
    "val_ds = val_ds.batch(BATCH_SIZE)\n",
    "test_ds = test_ds.batch(BATCH_SIZE)\n",
    "\n",
    "\n",
    "# Confirm the number of batches in each\n",
    "print (f' There are {len(train_ds)} training batches.')\n",
    "print (f' There are {len(val_ds)} validation batches.')\n",
    "print (f' There are {len(test_ds)} testing batches.')"
   ]
  },
  {
   "cell_type": "code",
   "execution_count": 38,
   "id": "a498f8eb-bdaa-45bb-a809-f36014e03f0d",
   "metadata": {
    "execution": {
     "iopub.execute_input": "2024-02-08T03:17:41.788932Z",
     "iopub.status.busy": "2024-02-08T03:17:41.788706Z",
     "iopub.status.idle": "2024-02-08T03:17:41.798976Z",
     "shell.execute_reply": "2024-02-08T03:17:41.795813Z",
     "shell.execute_reply.started": "2024-02-08T03:17:41.788921Z"
    }
   },
   "outputs": [
    {
     "name": "stdout",
     "output_type": "stream",
     "text": [
      "tf.Tensor(\n",
      "[b\"tastes ok, it's just the texture...: I planned to use this to replace rice in different dishes, but really couldn't because the consistency is so strange. I guess that's to be expected with a product that is 100% fiber and 0 calories; but it's just so off-putting. They really do absorb the taste of whatever you cook them in, but they feel like tiny bits of rubber in your mouth. I've tried the noodles too, and they were slightly better. I really hope someone comes up with a way to make this stuff more palatable. Maybe it could be used it make fake tapioca pudding?\\nPlus, when you open the package, it smells like old fish.\"\n",
      " b\"I like this set because it allowed me to try each ...: I'm really enjoying the Miracle Noodles!  I like this set because it allowed me to try each of them to see which I liked best and so far I prefer the  Fettuccini.  These are perfect if you are on diet that does not allow gluten and can be used for so many different dishes.\"\n",
      " b'Rubbery but workable: These noodles are a little rubbery, but they take on the flavor of whatever you make, so not bad if you are avoiding carbs like the plague. Zero carbs!'\n",
      " b\"Dried noodles do not buy: These are supposed to be plump noodles. 5 out of 6 packs have very dehydrated noodles that resembled threads. That tells me that these noodles were old. Don't waste your money. Buy them from your local Asian store.\"\n",
      " b'Disgusting texture: I could not get past the texture. They really have no flavor, but the texture is like chewy slime. Yuk!  I threw them away.'\n",
      " b\"Great tasting to me: I liked it. I washed it well before heating and I didn't smell or taste any fishy smell. It doesn't matter anyways I am so thankful for this product. I love noodles and diabetes runs in my family. I am so thankful.\"\n",
      " b'smells like dead fish.: I tried a bunch of different ways - but these just smell too badly of gross, dead fish.'\n",
      " b\"A decent replacement: These smell terrible in the package that I just couldn't manage to actually eat them. I gave them to my gluten free kids and only 1 child actually liked it. It isn't solid feeling like a noodle and the odor is too much. You are to rinse it but still it is a nasty smell.\\n\\nIf you have a great sauce and really want noodles but must avoid gluten and carbs, it is worth a try. I just do not like noodles this much.\"\n",
      " b'Five Stars: very good just like pasta'\n",
      " b'One Star: It might be the nastiest thing I have ever put in my mouth.'\n",
      " b'The best!: It does smells like fish when you open it but these are awesome. Once you get used to it, you will love it. Not a lot of flavor but it is healthy and I like it a lot. Arrived super fast. Check it out!'\n",
      " b\"Lots of people seem to eat it just fine, but take precautions: I ate some of the rice, and halfway through began violently vomiting. It stopped as soon as all of the rice was out of my stomach, so it wasn't any sort of food-borne illness.\\n\\nBe careful with this stuff. Lots of people seem to eat it just fine, but take precautions.\"\n",
      " b'Even my daughter liked them.: I bought this on a recommendation from a friend. I was trying to cut out carbohydrates for my diet. I very much enjoyed the flavor and texture of them. My teenage daughter even liked them. Quick and easy to heat as well. The rice is more in texture and shape like a cuscus, but still tasted good as fried rice. I will be getting more of them.'\n",
      " b'Not good if you know how this stuff smells: Package at bottom of box was leaking. Not good if you know how this stuff smells. You can see how the noodles on the left are dehydrated a bit compared to the sealed pack.'\n",
      " b\"I read online that they may smell like fish. (I do not/will not eat sea food): So I tried a similar brand from Walmart but it has 15 calories/serving.  I read online that they may smell like fish.  (I do not/will not eat sea food).  But they did not smell at all.  I held my breath just in case but still no smell after rinsing.\\nI decided to try this brand since it was 0 calorie.  I did the same thing and held my breath, started rinsing than breathed again and I about lost it with the disgusting extremely fishy smell through my whole kitchen!  The smell did not totally go away after rinsing for 3 minutes straight under running water.  When I boiled them, the steam stunk too.  I managed to still eat them after covering them in spaghetti meat sauce.  But I won't buy again.  I couldn't get past the smell.  I'll stick to the to 15 calories/serving brand!\"\n",
      " b'Worst smell ever...: Absolutely the worst smell ever.  These immediately went in the trash.'\n",
      " b\"The rice is all I could make myself try. ...: The rice is all I could make myself try. It never cooked down to rice consistency and when you're looking for that this is not the product for you.\\nGave it 2 stars for delivery time.\"\n",
      " b\"I love them!: They are amazing! Yeah they don't taste exactly like regular noodles/pasta/rice but they are definitely not bad and they give me the fiber that I need to supplement my diet!\"\n",
      " b'These are actually pretty dangerous, in the \"Omg: These are actually pretty dangerous, in the \"Omg, I eating noodles again! I will consume all.\" way. The first thing I did was make a sesame ginger stirfry with them and it was amazing. I haven\\'t noticed any \"off taste\", but then again I took it to heart when people suggested that you thoroughly rinse them in cold water after their hot water flash cook.'\n",
      " b\"Miracle noodles perfect low carb alternative: Love this product and the fettuccine is my favorite. Takes getting use to but if rinsed well then dried in a pan for a minute or two they take on the flavor of whatever you are seasoning or flavoring with.\\nI eat a Ketogenic diet and definitely wouldn't considering eating grains so this is a nice alternative to consider.\\nIn my picture is miracle noodles with meat sauce .\"\n",
      " b\"The taste is great! Different than normal noodles: The taste is great! Different than normal noodles, but it has its own likable texture. One package is a good filler and I usually combine it with a protein source for a full meal. Hope it's really low in cals as they claim.\"\n",
      " b'good way to extend rice: Great to add to regular brown rice to lessen the carb load.'\n",
      " b\"Staple for me: Keep it coming!  It does indeed smell fishy when you open the package.  I just rinse it off, and add it to soups. etc.  It takes on the flavor of whatever you put it in.  I make a soup in bulk with ground turkey or chopped chicken breast, lots of veggies, soy sauce and broth and pack it for my lunch each day.  Healthy bulk with no calories.  One thing -- don't freeze it.  Add it fresh.  I froze my soup with MiraclNoodles in it once, and the noodles became like strings of plastic wrap in my soup.  Yuk. Maybe the Miracle Rice wouldn't do that, but I wouldn't take the chance.\"\n",
      " b'Two Stars: Great concept but taste like gelatin'\n",
      " b'Five Stars: love them!!!'\n",
      " b\"Rubber Rice: I trusted the reviews. Terrible. Tried the tic and I don't want to try the rest. More like rubber rice.\\n\\nId love if I could return the remaining packages for a refund.\"\n",
      " b'Good concept: Definitely an acquired taste.'\n",
      " b'Hate to say it: Hate to say it, but one word gets it- Nasty. There may be many people out there who will find this product edible. I am emphatically not among them.'\n",
      " b'Five Stars: Was sceptical to buy because of previous reviews about inconsistencies between packages. Mine came all equal.'\n",
      " b\"Absolutely awful: I don't know if I got a defective pack or what, but the noodles were absolutely inedible, they looked and tatsted like thin fish line (and I boiled them before trying to eat).  They also had some pinkish residue I wasn't able to wash off.  I sent the whole order back and will never order this brand again.\"\n",
      " b'Healthy and delicious: I love these noodles! They were perfect with a healthy stir fry I made and my son loved them too!! I like the fettuccini style the best, but they are all good.'\n",
      " b'Rinse before using!: Make sure you rinse them before using them.  They add back the texture of pasta or rice missing.  They are a great addition to our Keto way of eating!'], shape=(32,), dtype=string) \n",
      "\n",
      " tf.Tensor([1 0 0 1 1 0 1 1 0 1 0 1 0 1 1 1 1 0 0 0 0 0 0 1 0 1 1 1 0 1 0 0], shape=(32,), dtype=int64)\n"
     ]
    }
   ],
   "source": [
    "# taking a sample - now 32 observations instead of 1\n",
    "example_X, example_y= train_ds.take(1).get_single_element()\n",
    "print(example_X,'\\n\\n',example_y)\n"
   ]
  },
  {
   "cell_type": "markdown",
   "id": "34c4e7e3-1bf9-4dae-964f-aaca3fee2a72",
   "metadata": {},
   "source": [
    "A single element now contains 32 samples since we set  batch_size to 32."
   ]
  },
  {
   "cell_type": "markdown",
   "id": "d31a1990-85b6-4c25-852d-6049cae198a4",
   "metadata": {},
   "source": [
    "## 📚 Vectorizing Text with Keras's TextVectorization Layer (Demo)"
   ]
  },
  {
   "cell_type": "markdown",
   "id": "9d149c9a-8735-465b-b48a-ca8ba82dcee9",
   "metadata": {},
   "source": [
    "### TextVectorization Layer - Demo Count Vectorization"
   ]
  },
  {
   "cell_type": "markdown",
   "id": "46b16927-1276-4d6d-a209-64fed6bcfec6",
   "metadata": {},
   "source": [
    "Flexible layer that can convert text to bag-of-words or sequences."
   ]
  },
  {
   "cell_type": "code",
   "execution_count": 39,
   "id": "396378c7-cdc7-45d7-bacd-967abdf5f581",
   "metadata": {
    "execution": {
     "iopub.execute_input": "2024-02-08T03:17:41.801110Z",
     "iopub.status.busy": "2024-02-08T03:17:41.799945Z",
     "iopub.status.idle": "2024-02-08T03:17:41.813827Z",
     "shell.execute_reply": "2024-02-08T03:17:41.813408Z",
     "shell.execute_reply.started": "2024-02-08T03:17:41.801094Z"
    },
    "scrolled": true
   },
   "outputs": [
    {
     "data": {
      "text/plain": [
       "<keras.layers.preprocessing.text_vectorization.TextVectorization at 0x29cb7e9e0>"
      ]
     },
     "execution_count": 39,
     "metadata": {},
     "output_type": "execute_result"
    }
   ],
   "source": [
    "# Create text Vectorization layer - set to count vectorization\n",
    "count_vectorizer = tf.keras.layers.TextVectorization(\n",
    "    standardize=\"lower_and_strip_punctuation\",\n",
    "    output_mode=\"count\",\n",
    ")\n",
    "count_vectorizer"
   ]
  },
  {
   "cell_type": "code",
   "execution_count": 40,
   "id": "066c1dde-7d3a-4f62-ba2f-09fb5fd17194",
   "metadata": {
    "execution": {
     "iopub.execute_input": "2024-02-08T03:17:41.814662Z",
     "iopub.status.busy": "2024-02-08T03:17:41.814474Z",
     "iopub.status.idle": "2024-02-08T03:17:41.818512Z",
     "shell.execute_reply": "2024-02-08T03:17:41.818098Z",
     "shell.execute_reply.started": "2024-02-08T03:17:41.814650Z"
    }
   },
   "outputs": [
    {
     "data": {
      "text/plain": [
       "['[UNK]']"
      ]
     },
     "execution_count": 40,
     "metadata": {},
     "output_type": "execute_result"
    }
   ],
   "source": [
    "# Before training, only contains the out of vocab token ([UNK])\n",
    "count_vectorizer.get_vocabulary()"
   ]
  },
  {
   "cell_type": "code",
   "execution_count": 41,
   "id": "1cb84974-50fe-466f-81d6-9e6a6f5a22cf",
   "metadata": {
    "execution": {
     "iopub.execute_input": "2024-02-08T03:17:41.819182Z",
     "iopub.status.busy": "2024-02-08T03:17:41.819068Z",
     "iopub.status.idle": "2024-02-08T03:17:41.821181Z",
     "shell.execute_reply": "2024-02-08T03:17:41.820769Z",
     "shell.execute_reply.started": "2024-02-08T03:17:41.819172Z"
    }
   },
   "outputs": [],
   "source": [
    "# Was [[]]\n",
    "example_text = ['Sometimes I love this vacuum, sometimes i hate this vacuum']"
   ]
  },
  {
   "cell_type": "code",
   "execution_count": 42,
   "id": "bc93a1b0-e470-4e79-8c91-9f3d58d5e6c7",
   "metadata": {
    "execution": {
     "iopub.execute_input": "2024-02-08T03:17:41.821778Z",
     "iopub.status.busy": "2024-02-08T03:17:41.821539Z",
     "iopub.status.idle": "2024-02-08T03:17:41.923466Z",
     "shell.execute_reply": "2024-02-08T03:17:41.923124Z",
     "shell.execute_reply.started": "2024-02-08T03:17:41.821759Z"
    }
   },
   "outputs": [
    {
     "name": "stderr",
     "output_type": "stream",
     "text": [
      "2024-02-07 22:17:41.871060: W tensorflow/tsl/platform/profile_utils/cpu_utils.cc:128] Failed to get CPU frequency: 0 Hz\n"
     ]
    },
    {
     "data": {
      "text/plain": [
       "['[UNK]', 'vacuum', 'this', 'sometimes', 'i', 'love', 'hate']"
      ]
     },
     "execution_count": 42,
     "metadata": {},
     "output_type": "execute_result"
    }
   ],
   "source": [
    "# Fitting the vectorizer using .adapt\n",
    "count_vectorizer.adapt(example_text)\n",
    "\n",
    "# Check the vocabulary after training the layer.\n",
    "count_vectorizer.get_vocabulary()#[:10]"
   ]
  },
  {
   "cell_type": "code",
   "execution_count": 43,
   "id": "6666ae7b-f4cc-43f8-ba87-294e7a99b959",
   "metadata": {
    "execution": {
     "iopub.execute_input": "2024-02-08T03:17:41.924198Z",
     "iopub.status.busy": "2024-02-08T03:17:41.924077Z",
     "iopub.status.idle": "2024-02-08T03:17:41.943027Z",
     "shell.execute_reply": "2024-02-08T03:17:41.942702Z",
     "shell.execute_reply.started": "2024-02-08T03:17:41.924189Z"
    }
   },
   "outputs": [
    {
     "name": "stdout",
     "output_type": "stream",
     "text": [
      "tf.Tensor([[0. 2. 2. 2. 2. 1. 1.]], shape=(1, 7), dtype=float32)\n"
     ]
    }
   ],
   "source": [
    "# Convert example to count-vectorization\n",
    "counts = count_vectorizer(example_text)\n",
    "print(counts)"
   ]
  },
  {
   "cell_type": "markdown",
   "id": "c9e2b3aa-03fb-4a4e-a9a4-2f4ab05acb7f",
   "metadata": {},
   "source": [
    "- Size of vectorized text - column for every word in vocab"
   ]
  },
  {
   "cell_type": "code",
   "execution_count": 44,
   "id": "3a37577f-0738-4836-89bd-392d3b4ffc44",
   "metadata": {
    "execution": {
     "iopub.execute_input": "2024-02-08T03:17:41.943715Z",
     "iopub.status.busy": "2024-02-08T03:17:41.943582Z",
     "iopub.status.idle": "2024-02-08T03:17:41.949604Z",
     "shell.execute_reply": "2024-02-08T03:17:41.949288Z",
     "shell.execute_reply.started": "2024-02-08T03:17:41.943704Z"
    }
   },
   "outputs": [
    {
     "data": {
      "text/html": [
       "<div>\n",
       "<style scoped>\n",
       "    .dataframe tbody tr th:only-of-type {\n",
       "        vertical-align: middle;\n",
       "    }\n",
       "\n",
       "    .dataframe tbody tr th {\n",
       "        vertical-align: top;\n",
       "    }\n",
       "\n",
       "    .dataframe thead th {\n",
       "        text-align: right;\n",
       "    }\n",
       "</style>\n",
       "<table border=\"1\" class=\"dataframe\">\n",
       "  <thead>\n",
       "    <tr style=\"text-align: right;\">\n",
       "      <th></th>\n",
       "      <th>[UNK]</th>\n",
       "      <th>vacuum</th>\n",
       "      <th>this</th>\n",
       "      <th>sometimes</th>\n",
       "      <th>i</th>\n",
       "      <th>love</th>\n",
       "      <th>hate</th>\n",
       "    </tr>\n",
       "  </thead>\n",
       "  <tbody>\n",
       "    <tr>\n",
       "      <th>0</th>\n",
       "      <td>0.0</td>\n",
       "      <td>2.0</td>\n",
       "      <td>2.0</td>\n",
       "      <td>2.0</td>\n",
       "      <td>2.0</td>\n",
       "      <td>1.0</td>\n",
       "      <td>1.0</td>\n",
       "    </tr>\n",
       "  </tbody>\n",
       "</table>\n",
       "</div>"
      ],
      "text/plain": [
       "   [UNK]  vacuum  this  sometimes    i  love  hate\n",
       "0    0.0     2.0   2.0        2.0  2.0   1.0   1.0"
      ]
     },
     "execution_count": 44,
     "metadata": {},
     "output_type": "execute_result"
    }
   ],
   "source": [
    "# Getting the counts as as DataFrame \n",
    "example_counts_df = pd.DataFrame(counts.numpy(), \n",
    "                         columns=count_vectorizer.get_vocabulary())\n",
    "example_counts_df"
   ]
  },
  {
   "cell_type": "markdown",
   "id": "79ec6f78-c06a-4299-95d1-6445ba7c8fd3",
   "metadata": {},
   "source": [
    "### TextVectorization Layer - Demo Sequence Vectorization"
   ]
  },
  {
   "cell_type": "markdown",
   "id": "4376e380-0416-491a-a68a-417de91c3689",
   "metadata": {},
   "source": [
    "- Output_mode='int' returns sequences.\n",
    "- Length is set by data scientist, use 30 for demo"
   ]
  },
  {
   "cell_type": "code",
   "execution_count": 45,
   "id": "cc2aeb45-d8d4-4c6f-a11d-914b1a5f8e23",
   "metadata": {
    "execution": {
     "iopub.execute_input": "2024-02-08T03:17:41.950246Z",
     "iopub.status.busy": "2024-02-08T03:17:41.950135Z",
     "iopub.status.idle": "2024-02-08T03:17:41.954349Z",
     "shell.execute_reply": "2024-02-08T03:17:41.954002Z",
     "shell.execute_reply.started": "2024-02-08T03:17:41.950237Z"
    }
   },
   "outputs": [],
   "source": [
    "# Create text Vectorization layer for sequences\n",
    "demo_sequence_vectorizer = tf.keras.layers.TextVectorization(\n",
    "    standardize=\"lower_and_strip_punctuation\",\n",
    "    output_mode=\"int\",\n",
    "    output_sequence_length=30\n",
    ")"
   ]
  },
  {
   "cell_type": "code",
   "execution_count": 46,
   "id": "c3381ee3-2a32-412d-bab6-61bf02edaf62",
   "metadata": {
    "execution": {
     "iopub.execute_input": "2024-02-08T03:17:41.955075Z",
     "iopub.status.busy": "2024-02-08T03:17:41.954958Z",
     "iopub.status.idle": "2024-02-08T03:17:41.957953Z",
     "shell.execute_reply": "2024-02-08T03:17:41.957657Z",
     "shell.execute_reply.started": "2024-02-08T03:17:41.955066Z"
    }
   },
   "outputs": [
    {
     "data": {
      "text/plain": [
       "['', '[UNK]']"
      ]
     },
     "execution_count": 46,
     "metadata": {},
     "output_type": "execute_result"
    }
   ],
   "source": [
    "# Check the vocabulary of the new sequence vectorizer.\n",
    "demo_sequence_vectorizer.get_vocabulary()"
   ]
  },
  {
   "cell_type": "code",
   "execution_count": 47,
   "id": "711794b0-ee24-4917-996f-33c59ef1b8b2",
   "metadata": {
    "execution": {
     "iopub.execute_input": "2024-02-08T03:17:41.958650Z",
     "iopub.status.busy": "2024-02-08T03:17:41.958493Z",
     "iopub.status.idle": "2024-02-08T03:17:42.005189Z",
     "shell.execute_reply": "2024-02-08T03:17:42.004893Z",
     "shell.execute_reply.started": "2024-02-08T03:17:41.958641Z"
    }
   },
   "outputs": [
    {
     "data": {
      "text/plain": [
       "['', '[UNK]', 'vacuum', 'this', 'sometimes', 'i', 'love', 'hate']"
      ]
     },
     "execution_count": 47,
     "metadata": {},
     "output_type": "execute_result"
    }
   ],
   "source": [
    "# Fit the vectorizer using .adapt\n",
    "demo_sequence_vectorizer.adapt(example_text)\n",
    "\n",
    "# Check the vocabulary after training the layer\n",
    "demo_sequence_vectorizer.get_vocabulary()[:10]"
   ]
  },
  {
   "cell_type": "code",
   "execution_count": 48,
   "id": "6d128654-ce00-4827-bd86-90737a54e79b",
   "metadata": {
    "execution": {
     "iopub.execute_input": "2024-02-08T03:17:42.005789Z",
     "iopub.status.busy": "2024-02-08T03:17:42.005680Z",
     "iopub.status.idle": "2024-02-08T03:17:42.009317Z",
     "shell.execute_reply": "2024-02-08T03:17:42.008999Z",
     "shell.execute_reply.started": "2024-02-08T03:17:42.005780Z"
    }
   },
   "outputs": [
    {
     "data": {
      "text/plain": [
       "{0: '',\n",
       " 1: '[UNK]',\n",
       " 2: 'vacuum',\n",
       " 3: 'this',\n",
       " 4: 'sometimes',\n",
       " 5: 'i',\n",
       " 6: 'love',\n",
       " 7: 'hate'}"
      ]
     },
     "execution_count": 48,
     "metadata": {},
     "output_type": "execute_result"
    }
   ],
   "source": [
    "# SAVING VOCAB FOR DEMO\n",
    "# Getting list of vocab \n",
    "vocab = demo_sequence_vectorizer.get_vocabulary()\n",
    "\n",
    "# Save dictionaries to look up words from ints \n",
    "int_to_str  = {idx:word for idx, word in enumerate(vocab)} # Dictionary Comprehension\n",
    "# int_to_str = dict(zip( range(len(vocab)), vocab )) # Dict Constructor + \n",
    "int_to_str"
   ]
  },
  {
   "cell_type": "code",
   "execution_count": 49,
   "id": "5ffffb57-fbe8-4c2f-9ad0-a1e138733fee",
   "metadata": {
    "execution": {
     "iopub.execute_input": "2024-02-08T03:17:42.010008Z",
     "iopub.status.busy": "2024-02-08T03:17:42.009844Z",
     "iopub.status.idle": "2024-02-08T03:17:42.015180Z",
     "shell.execute_reply": "2024-02-08T03:17:42.014773Z",
     "shell.execute_reply.started": "2024-02-08T03:17:42.009997Z"
    }
   },
   "outputs": [
    {
     "name": "stdout",
     "output_type": "stream",
     "text": [
      "[[4 5 6 3 2 4 5 7 3 2 0 0 0 0 0 0 0 0 0 0 0 0 0 0 0 0 0 0 0 0]]\n"
     ]
    }
   ],
   "source": [
    "# Convert example to sequences\n",
    "sequences = demo_sequence_vectorizer(example_text)\n",
    "print(sequences.numpy())"
   ]
  },
  {
   "cell_type": "code",
   "execution_count": 50,
   "id": "da990d10-2a75-4e0b-804e-a302b4f02bfc",
   "metadata": {
    "execution": {
     "iopub.execute_input": "2024-02-08T03:17:42.015940Z",
     "iopub.status.busy": "2024-02-08T03:17:42.015786Z",
     "iopub.status.idle": "2024-02-08T03:17:42.018922Z",
     "shell.execute_reply": "2024-02-08T03:17:42.018577Z",
     "shell.execute_reply.started": "2024-02-08T03:17:42.015929Z"
    }
   },
   "outputs": [
    {
     "data": {
      "text/plain": [
       "ValueError('Shape of passed values is (1, 30), indices imply (1, 8)')"
      ]
     },
     "metadata": {},
     "output_type": "display_data"
    }
   ],
   "source": [
    "try:\n",
    "    pd.DataFrame(sequences, columns = vocab)\n",
    "except Exception as e:\n",
    "    display(e)"
   ]
  },
  {
   "cell_type": "code",
   "execution_count": 51,
   "id": "04958dbd-126d-41a4-b63e-9a4e0e420d15",
   "metadata": {
    "execution": {
     "iopub.execute_input": "2024-02-08T03:17:42.019640Z",
     "iopub.status.busy": "2024-02-08T03:17:42.019485Z",
     "iopub.status.idle": "2024-02-08T03:17:42.022813Z",
     "shell.execute_reply": "2024-02-08T03:17:42.022364Z",
     "shell.execute_reply.started": "2024-02-08T03:17:42.019630Z"
    }
   },
   "outputs": [
    {
     "data": {
      "text/plain": [
       "array([[4, 5, 6, 3, 2, 4, 5, 7, 3, 2, 0, 0, 0, 0, 0, 0, 0, 0, 0, 0, 0, 0,\n",
       "        0, 0, 0, 0, 0, 0, 0, 0]])"
      ]
     },
     "execution_count": 51,
     "metadata": {},
     "output_type": "execute_result"
    }
   ],
   "source": [
    "sequences = sequences.numpy()\n",
    "sequences"
   ]
  },
  {
   "cell_type": "code",
   "execution_count": 52,
   "id": "1abdad54-2f2b-42dc-ab07-5be556033ca3",
   "metadata": {
    "execution": {
     "iopub.execute_input": "2024-02-08T03:17:42.023604Z",
     "iopub.status.busy": "2024-02-08T03:17:42.023471Z",
     "iopub.status.idle": "2024-02-08T03:17:42.026006Z",
     "shell.execute_reply": "2024-02-08T03:17:42.025711Z",
     "shell.execute_reply.started": "2024-02-08T03:17:42.023593Z"
    }
   },
   "outputs": [
    {
     "name": "stdout",
     "output_type": "stream",
     "text": [
      "4 = sometimes\n",
      "5 = i\n",
      "6 = love\n",
      "3 = this\n",
      "2 = vacuum\n",
      "4 = sometimes\n",
      "5 = i\n",
      "7 = hate\n",
      "3 = this\n",
      "2 = vacuum\n",
      "0 = \n",
      "0 = \n",
      "0 = \n",
      "0 = \n",
      "0 = \n",
      "0 = \n",
      "0 = \n",
      "0 = \n",
      "0 = \n",
      "0 = \n",
      "0 = \n",
      "0 = \n",
      "0 = \n",
      "0 = \n",
      "0 = \n",
      "0 = \n",
      "0 = \n",
      "0 = \n",
      "0 = \n",
      "0 = \n"
     ]
    }
   ],
   "source": [
    "for val in sequences[0]:\n",
    "    print(f\"{val} = {int_to_str[val]}\")"
   ]
  },
  {
   "cell_type": "markdown",
   "id": "a574b868-c730-4524-b129-c85f6ceb36ca",
   "metadata": {},
   "source": [
    "## Embedding Layer"
   ]
  },
  {
   "cell_type": "code",
   "execution_count": 53,
   "id": "532cfa99-1ce6-4dbd-b02f-b331a1aa6f09",
   "metadata": {
    "execution": {
     "iopub.execute_input": "2024-02-08T03:17:42.026679Z",
     "iopub.status.busy": "2024-02-08T03:17:42.026531Z",
     "iopub.status.idle": "2024-02-08T03:17:42.029250Z",
     "shell.execute_reply": "2024-02-08T03:17:42.028906Z",
     "shell.execute_reply.started": "2024-02-08T03:17:42.026669Z"
    }
   },
   "outputs": [
    {
     "data": {
      "text/plain": [
       "8"
      ]
     },
     "execution_count": 53,
     "metadata": {},
     "output_type": "execute_result"
    }
   ],
   "source": [
    "# Saving the Size of the Vocab\n",
    "VOCAB_SIZE = demo_sequence_vectorizer.vocabulary_size()\n",
    "VOCAB_SIZE"
   ]
  },
  {
   "cell_type": "markdown",
   "id": "ed794019-1e9e-491a-8133-f9046d69de41",
   "metadata": {},
   "source": [
    "The embedding layer needs the number of words in the input (input_dim), and the desired embedding dimensions. (e.g. 100,200,300).\n",
    "\n",
    "Arbitrary"
   ]
  },
  {
   "cell_type": "code",
   "execution_count": 54,
   "id": "58b22433-1eb8-4294-813a-b24c7c77c107",
   "metadata": {
    "execution": {
     "iopub.execute_input": "2024-02-08T03:17:42.030057Z",
     "iopub.status.busy": "2024-02-08T03:17:42.029893Z",
     "iopub.status.idle": "2024-02-08T03:17:42.033736Z",
     "shell.execute_reply": "2024-02-08T03:17:42.033424Z",
     "shell.execute_reply.started": "2024-02-08T03:17:42.030040Z"
    }
   },
   "outputs": [
    {
     "data": {
      "text/plain": [
       "<keras.layers.core.embedding.Embedding at 0x29d922ef0>"
      ]
     },
     "execution_count": 54,
     "metadata": {},
     "output_type": "execute_result"
    }
   ],
   "source": [
    "# Create embedding layer of desired # of values\n",
    "EMBED_DIM = 20\n",
    "embedding_layer = layers.Embedding(input_dim = VOCAB_SIZE, output_dim = EMBED_DIM)\n",
    "embedding_layer"
   ]
  },
  {
   "cell_type": "code",
   "execution_count": 55,
   "id": "e59d721d-ddb8-4f43-8316-1dd717a56a3a",
   "metadata": {
    "execution": {
     "iopub.execute_input": "2024-02-08T03:17:42.034555Z",
     "iopub.status.busy": "2024-02-08T03:17:42.034344Z",
     "iopub.status.idle": "2024-02-08T03:17:42.063572Z",
     "shell.execute_reply": "2024-02-08T03:17:42.063059Z",
     "shell.execute_reply.started": "2024-02-08T03:17:42.034532Z"
    }
   },
   "outputs": [
    {
     "name": "stdout",
     "output_type": "stream",
     "text": [
      "Model: \"sequential\"\n",
      "_________________________________________________________________\n",
      " Layer (type)                Output Shape              Param #   \n",
      "=================================================================\n",
      " text_vectorization_1 (TextV  (None, 30)               0         \n",
      " ectorization)                                                   \n",
      "                                                                 \n",
      " embedding (Embedding)       (None, 30, 20)            160       \n",
      "                                                                 \n",
      "=================================================================\n",
      "Total params: 160\n",
      "Trainable params: 160\n",
      "Non-trainable params: 0\n",
      "_________________________________________________________________\n"
     ]
    }
   ],
   "source": [
    "# Minimum Model Needed to Create Embedding Layer for Vocab\n",
    "\n",
    "demo_embed = Sequential()\n",
    "demo_embed.add(demo_sequence_vectorizer)\n",
    "demo_embed.add(embedding_layer)\n",
    "demo_embed.compile(optimizer='adam', loss='mse')\n",
    "demo_embed.summary()"
   ]
  },
  {
   "cell_type": "markdown",
   "id": "899e72fb-85c0-4886-8958-48785c41a0fc",
   "metadata": {},
   "source": [
    "### Demonstrating Sequence to Vector Embedding Lookup "
   ]
  },
  {
   "cell_type": "code",
   "execution_count": 56,
   "id": "66623992-d44d-4838-a2e3-4c9e26bcfe75",
   "metadata": {
    "execution": {
     "iopub.execute_input": "2024-02-08T03:17:42.064189Z",
     "iopub.status.busy": "2024-02-08T03:17:42.064095Z",
     "iopub.status.idle": "2024-02-08T03:17:42.070340Z",
     "shell.execute_reply": "2024-02-08T03:17:42.069880Z",
     "shell.execute_reply.started": "2024-02-08T03:17:42.064181Z"
    }
   },
   "outputs": [
    {
     "name": "stdout",
     "output_type": "stream",
     "text": [
      "[[4 5 6 3 2 4 5 7 3 2 0 0 0 0 0 0 0 0 0 0 0 0 0 0 0 0 0 0 0 0]]\n"
     ]
    }
   ],
   "source": [
    "# Convert example to sequences\n",
    "sequences = demo_sequence_vectorizer(example_text).numpy()\n",
    "print(sequences)"
   ]
  },
  {
   "cell_type": "code",
   "execution_count": 57,
   "id": "4304d1d9-f7ce-4c77-bded-5cd634bb9988",
   "metadata": {
    "execution": {
     "iopub.execute_input": "2024-02-08T03:17:42.071139Z",
     "iopub.status.busy": "2024-02-08T03:17:42.071021Z",
     "iopub.status.idle": "2024-02-08T03:17:42.073950Z",
     "shell.execute_reply": "2024-02-08T03:17:42.073565Z",
     "shell.execute_reply.started": "2024-02-08T03:17:42.071129Z"
    }
   },
   "outputs": [
    {
     "data": {
      "text/plain": [
       "(8, 20)"
      ]
     },
     "execution_count": 57,
     "metadata": {},
     "output_type": "execute_result"
    }
   ],
   "source": [
    "# Embedding has row each word with EMBED_DIM of 100\n",
    "demo_sequence_vectorizer.vocabulary_size(), EMBED_DIM"
   ]
  },
  {
   "cell_type": "code",
   "execution_count": 58,
   "id": "e1031169-4d97-43d2-aa3d-1679b93fb34a",
   "metadata": {
    "execution": {
     "iopub.execute_input": "2024-02-08T03:17:42.074954Z",
     "iopub.status.busy": "2024-02-08T03:17:42.074837Z",
     "iopub.status.idle": "2024-02-08T03:17:42.078663Z",
     "shell.execute_reply": "2024-02-08T03:17:42.078321Z",
     "shell.execute_reply.started": "2024-02-08T03:17:42.074946Z"
    }
   },
   "outputs": [
    {
     "data": {
      "text/plain": [
       "(8, 20)"
      ]
     },
     "execution_count": 58,
     "metadata": {},
     "output_type": "execute_result"
    }
   ],
   "source": [
    "# Get the weights from the embedding layer (this is your actual embedding matrix)\n",
    "embedding_weights = demo_embed.layers[1].get_weights()[0]\n",
    "embedding_weights.shape"
   ]
  },
  {
   "cell_type": "code",
   "execution_count": 59,
   "id": "051c73d1-12c4-4c64-b751-b706fd5925db",
   "metadata": {
    "execution": {
     "iopub.execute_input": "2024-02-08T03:17:42.079318Z",
     "iopub.status.busy": "2024-02-08T03:17:42.079223Z",
     "iopub.status.idle": "2024-02-08T03:17:42.081562Z",
     "shell.execute_reply": "2024-02-08T03:17:42.081265Z",
     "shell.execute_reply.started": "2024-02-08T03:17:42.079310Z"
    }
   },
   "outputs": [
    {
     "data": {
      "text/plain": [
       "array([4, 5, 6, 3, 2, 4, 5, 7, 3, 2, 0, 0, 0, 0, 0, 0, 0, 0, 0, 0, 0, 0,\n",
       "       0, 0, 0, 0, 0, 0, 0, 0])"
      ]
     },
     "execution_count": 59,
     "metadata": {},
     "output_type": "execute_result"
    }
   ],
   "source": [
    "sequences[0]"
   ]
  },
  {
   "cell_type": "code",
   "execution_count": 60,
   "id": "030ec9fe-6a68-4532-adfc-fee2263d228b",
   "metadata": {
    "execution": {
     "iopub.execute_input": "2024-02-08T03:17:42.082096Z",
     "iopub.status.busy": "2024-02-08T03:17:42.082000Z",
     "iopub.status.idle": "2024-02-08T03:17:42.086506Z",
     "shell.execute_reply": "2024-02-08T03:17:42.085929Z",
     "shell.execute_reply.started": "2024-02-08T03:17:42.082087Z"
    }
   },
   "outputs": [
    {
     "name": "stdout",
     "output_type": "stream",
     "text": [
      "4 = sometimes\n",
      "[-0.04219389  0.03595319  0.04545214 -0.01839088 -0.02627729 -0.02987566\n",
      "  0.03839504  0.03009173]\n",
      "\n",
      "5 = i\n",
      "[ 0.01523323 -0.03725255 -0.00896059  0.02789192 -0.0343127   0.02477567\n",
      " -0.02094598  0.00953519]\n",
      "\n",
      "6 = love\n",
      "[ 0.04704999 -0.00377146  0.00314702 -0.01847179  0.03634495 -0.04530361\n",
      "  0.03622821  0.00262345]\n",
      "\n",
      "3 = this\n",
      "[ 0.04499895 -0.02374592 -0.01131532  0.02195575 -0.01845275 -0.03095883\n",
      "  0.0432061   0.03753665]\n",
      "\n",
      "2 = vacuum\n",
      "[-0.01412892  0.04154279 -0.01658783 -0.01240187 -0.04493154  0.0062269\n",
      " -0.04448916  0.00422785]\n",
      "\n",
      "4 = sometimes\n",
      "[-0.04219389  0.03595319  0.04545214 -0.01839088 -0.02627729 -0.02987566\n",
      "  0.03839504  0.03009173]\n",
      "\n",
      "5 = i\n",
      "[ 0.01523323 -0.03725255 -0.00896059  0.02789192 -0.0343127   0.02477567\n",
      " -0.02094598  0.00953519]\n",
      "\n",
      "7 = hate\n",
      "[-0.03320879  0.00627219 -0.02446803 -0.00765396  0.03378871 -0.01354297\n",
      " -0.0372517   0.04971505]\n",
      "\n",
      "3 = this\n",
      "[ 0.04499895 -0.02374592 -0.01131532  0.02195575 -0.01845275 -0.03095883\n",
      "  0.0432061   0.03753665]\n",
      "\n",
      "2 = vacuum\n",
      "[-0.01412892  0.04154279 -0.01658783 -0.01240187 -0.04493154  0.0062269\n",
      " -0.04448916  0.00422785]\n",
      "\n",
      "0 = \n",
      "[ 0.03581891 -0.0462355  -0.04573692  0.02590637 -0.03018563  0.04534603\n",
      "  0.00170036 -0.04104025]\n",
      "\n",
      "0 = \n",
      "[ 0.03581891 -0.0462355  -0.04573692  0.02590637 -0.03018563  0.04534603\n",
      "  0.00170036 -0.04104025]\n",
      "\n",
      "0 = \n",
      "[ 0.03581891 -0.0462355  -0.04573692  0.02590637 -0.03018563  0.04534603\n",
      "  0.00170036 -0.04104025]\n",
      "\n",
      "0 = \n",
      "[ 0.03581891 -0.0462355  -0.04573692  0.02590637 -0.03018563  0.04534603\n",
      "  0.00170036 -0.04104025]\n",
      "\n",
      "0 = \n",
      "[ 0.03581891 -0.0462355  -0.04573692  0.02590637 -0.03018563  0.04534603\n",
      "  0.00170036 -0.04104025]\n",
      "\n",
      "0 = \n",
      "[ 0.03581891 -0.0462355  -0.04573692  0.02590637 -0.03018563  0.04534603\n",
      "  0.00170036 -0.04104025]\n",
      "\n",
      "0 = \n",
      "[ 0.03581891 -0.0462355  -0.04573692  0.02590637 -0.03018563  0.04534603\n",
      "  0.00170036 -0.04104025]\n",
      "\n",
      "0 = \n",
      "[ 0.03581891 -0.0462355  -0.04573692  0.02590637 -0.03018563  0.04534603\n",
      "  0.00170036 -0.04104025]\n",
      "\n",
      "0 = \n",
      "[ 0.03581891 -0.0462355  -0.04573692  0.02590637 -0.03018563  0.04534603\n",
      "  0.00170036 -0.04104025]\n",
      "\n",
      "0 = \n",
      "[ 0.03581891 -0.0462355  -0.04573692  0.02590637 -0.03018563  0.04534603\n",
      "  0.00170036 -0.04104025]\n",
      "\n",
      "0 = \n",
      "[ 0.03581891 -0.0462355  -0.04573692  0.02590637 -0.03018563  0.04534603\n",
      "  0.00170036 -0.04104025]\n",
      "\n",
      "0 = \n",
      "[ 0.03581891 -0.0462355  -0.04573692  0.02590637 -0.03018563  0.04534603\n",
      "  0.00170036 -0.04104025]\n",
      "\n",
      "0 = \n",
      "[ 0.03581891 -0.0462355  -0.04573692  0.02590637 -0.03018563  0.04534603\n",
      "  0.00170036 -0.04104025]\n",
      "\n",
      "0 = \n",
      "[ 0.03581891 -0.0462355  -0.04573692  0.02590637 -0.03018563  0.04534603\n",
      "  0.00170036 -0.04104025]\n",
      "\n",
      "0 = \n",
      "[ 0.03581891 -0.0462355  -0.04573692  0.02590637 -0.03018563  0.04534603\n",
      "  0.00170036 -0.04104025]\n",
      "\n",
      "0 = \n",
      "[ 0.03581891 -0.0462355  -0.04573692  0.02590637 -0.03018563  0.04534603\n",
      "  0.00170036 -0.04104025]\n",
      "\n",
      "0 = \n",
      "[ 0.03581891 -0.0462355  -0.04573692  0.02590637 -0.03018563  0.04534603\n",
      "  0.00170036 -0.04104025]\n",
      "\n",
      "0 = \n",
      "[ 0.03581891 -0.0462355  -0.04573692  0.02590637 -0.03018563  0.04534603\n",
      "  0.00170036 -0.04104025]\n",
      "\n",
      "0 = \n",
      "[ 0.03581891 -0.0462355  -0.04573692  0.02590637 -0.03018563  0.04534603\n",
      "  0.00170036 -0.04104025]\n",
      "\n",
      "0 = \n",
      "[ 0.03581891 -0.0462355  -0.04573692  0.02590637 -0.03018563  0.04534603\n",
      "  0.00170036 -0.04104025]\n",
      "\n"
     ]
    }
   ],
   "source": [
    "for val in sequences[0]:\n",
    "    print(f\"{val} = {int_to_str[val]}\")\n",
    "    print(embedding_weights[:,val])\n",
    "    print()"
   ]
  },
  {
   "cell_type": "markdown",
   "id": "ad5be88e-f906-4d45-a48e-aea90d1017df",
   "metadata": {},
   "source": [
    "### Word Vectors "
   ]
  },
  {
   "cell_type": "code",
   "execution_count": 61,
   "id": "dc825c1d-f1b2-427e-8ed3-4fe627b2bf61",
   "metadata": {
    "execution": {
     "iopub.execute_input": "2024-02-08T03:17:42.087741Z",
     "iopub.status.busy": "2024-02-08T03:17:42.087490Z",
     "iopub.status.idle": "2024-02-08T03:17:42.091210Z",
     "shell.execute_reply": "2024-02-08T03:17:42.090689Z",
     "shell.execute_reply.started": "2024-02-08T03:17:42.087724Z"
    }
   },
   "outputs": [
    {
     "data": {
      "text/plain": [
       "dict_keys(['', '[UNK]', 'vacuum', 'this', 'sometimes', 'i', 'love', 'hate'])"
      ]
     },
     "execution_count": 61,
     "metadata": {},
     "output_type": "execute_result"
    }
   ],
   "source": [
    "# Prepare the words and their corresponding vectors\n",
    "vector_dict = {}\n",
    "for i, word in int_to_str.items():#tokenizer.word_index.items():\n",
    "    # Save the weights for word (based on numeric index)\n",
    "    vector_dict[word]= embedding_weights[i] \n",
    "\n",
    "    # vector_list.append(embedding_weights[i])\n",
    "vector_dict.keys()"
   ]
  },
  {
   "cell_type": "code",
   "execution_count": 62,
   "id": "d804c401-996b-4386-8db4-dd585d5c56f7",
   "metadata": {
    "execution": {
     "iopub.execute_input": "2024-02-08T03:17:42.091699Z",
     "iopub.status.busy": "2024-02-08T03:17:42.091609Z",
     "iopub.status.idle": "2024-02-08T03:17:42.095205Z",
     "shell.execute_reply": "2024-02-08T03:17:42.094875Z",
     "shell.execute_reply.started": "2024-02-08T03:17:42.091690Z"
    }
   },
   "outputs": [
    {
     "data": {
      "text/plain": [
       "array([ 0.00170036, -0.04185566, -0.04448916,  0.0432061 ,  0.03839504,\n",
       "       -0.02094598,  0.03622821, -0.0372517 ,  0.01225194, -0.03232763,\n",
       "        0.02787178, -0.02258011,  0.01157136,  0.00900253, -0.02098697,\n",
       "       -0.04244393,  0.00142006,  0.01115788,  0.0428837 , -0.02787268],\n",
       "      dtype=float32)"
      ]
     },
     "execution_count": 62,
     "metadata": {},
     "output_type": "execute_result"
    }
   ],
   "source": [
    "# Display the vector for \"love\"\n",
    "vector_dict['love']"
   ]
  },
  {
   "cell_type": "code",
   "execution_count": 63,
   "id": "d68a9432-9aa5-4d33-9b3b-5dbe432773e7",
   "metadata": {
    "execution": {
     "iopub.execute_input": "2024-02-08T03:17:42.095799Z",
     "iopub.status.busy": "2024-02-08T03:17:42.095685Z",
     "iopub.status.idle": "2024-02-08T03:17:42.098708Z",
     "shell.execute_reply": "2024-02-08T03:17:42.098416Z",
     "shell.execute_reply.started": "2024-02-08T03:17:42.095790Z"
    }
   },
   "outputs": [
    {
     "data": {
      "text/plain": [
       "array([-0.04104025, -0.03007517,  0.00422785,  0.03753665,  0.03009173,\n",
       "        0.00953519,  0.00262345,  0.04971505, -0.01791079, -0.01335462,\n",
       "        0.00937118,  0.04725314, -0.03905516, -0.01035707, -0.02476431,\n",
       "       -0.04589201,  0.03127159, -0.02651983,  0.03338357,  0.03408468],\n",
       "      dtype=float32)"
      ]
     },
     "execution_count": 63,
     "metadata": {},
     "output_type": "execute_result"
    }
   ],
   "source": [
    "# Display the vector for \"hate\"\n",
    "vector_dict['hate']"
   ]
  },
  {
   "cell_type": "code",
   "execution_count": 64,
   "id": "8d419d9f-38e3-4f75-96ac-4a9cdc63cff4",
   "metadata": {
    "execution": {
     "iopub.execute_input": "2024-02-08T03:17:42.099263Z",
     "iopub.status.busy": "2024-02-08T03:17:42.099165Z",
     "iopub.status.idle": "2024-02-08T03:17:42.102539Z",
     "shell.execute_reply": "2024-02-08T03:17:42.102125Z",
     "shell.execute_reply.started": "2024-02-08T03:17:42.099255Z"
    }
   },
   "outputs": [
    {
     "data": {
      "text/plain": [
       "array([-0.08507681, -0.06556724, -0.05684913,  0.06942742,  0.11393891,\n",
       "       -0.02037138,  0.04199868, -0.01200468, -0.04337714, -0.02409926,\n",
       "        0.04888433,  0.02546859, -0.0747076 , -0.03938666, -0.01661208,\n",
       "       -0.05171802,  0.02587663, -0.03398604,  0.02957311, -0.03991873],\n",
       "      dtype=float32)"
      ]
     },
     "execution_count": 64,
     "metadata": {},
     "output_type": "execute_result"
    }
   ],
   "source": [
    "# Vectors can be added/subtracted to get output vector - then find most similar word  \n",
    "vector_dict['hate'] + vector_dict['love'] + vector_dict['vacuum']"
   ]
  },
  {
   "cell_type": "markdown",
   "id": "1eab650c-081c-44c6-afa4-33c234192bd7",
   "metadata": {},
   "source": [
    "## Word Embeddings Demo (Pre-Trained)"
   ]
  },
  {
   "cell_type": "markdown",
   "id": "5e12b1c6-ea27-41ab-bc5d-a00c296d9d4b",
   "metadata": {},
   "source": [
    "###  Pretrianed Word Embeddings with GloVe"
   ]
  },
  {
   "cell_type": "markdown",
   "id": "d247fc46-ace7-4a56-9fcd-d6236028aef6",
   "metadata": {},
   "source": [
    "- [Click here](https://nlp.stanford.edu/data/glove.6B.zip) to start donwnloading GloVe zip file (glove.6B.zip)\n",
    "- Unzip the downloaded zip archive.\n",
    "- Open the extracted folder and find the the `glove.6B.100d.txt` file. (Size is over 300MB )\n",
    "- Move the text file from Downloads to the same folder as this notebook.\n",
    "- **Make sure to ignore the large file using GitHub Desktop**"
   ]
  },
  {
   "cell_type": "code",
   "execution_count": 66,
   "id": "8d787ab9-41a7-4c09-bd99-76722f369f07",
   "metadata": {
    "execution": {
     "iopub.execute_input": "2024-02-08T03:18:19.925842Z",
     "iopub.status.busy": "2024-02-08T03:18:19.925359Z",
     "iopub.status.idle": "2024-02-08T03:18:31.281139Z",
     "shell.execute_reply": "2024-02-08T03:18:31.280779Z",
     "shell.execute_reply.started": "2024-02-08T03:18:19.925813Z"
    }
   },
   "outputs": [],
   "source": [
    "from gensim.models import KeyedVectors\n",
    "# Load GloVe vectors into a gensim model\n",
    "glove_model = KeyedVectors.load_word2vec_format(\"data/glove/glove.6B.100d.txt\", binary=False, no_header=True)"
   ]
  },
  {
   "cell_type": "code",
   "execution_count": 67,
   "id": "7859c359-c117-4d4c-b745-a5c0591c8ea7",
   "metadata": {
    "execution": {
     "iopub.execute_input": "2024-02-08T03:18:31.281996Z",
     "iopub.status.busy": "2024-02-08T03:18:31.281901Z",
     "iopub.status.idle": "2024-02-08T03:18:31.284945Z",
     "shell.execute_reply": "2024-02-08T03:18:31.284603Z",
     "shell.execute_reply.started": "2024-02-08T03:18:31.281987Z"
    }
   },
   "outputs": [
    {
     "data": {
      "text/plain": [
       "array([-0.32307 , -0.87616 ,  0.21977 ,  0.25268 ,  0.22976 ,  0.7388  ,\n",
       "       -0.37954 , -0.35307 , -0.84369 , -1.1113  , -0.30266 ,  0.33178 ,\n",
       "       -0.25113 ,  0.30448 , -0.077491, -0.89815 ,  0.092496, -1.1407  ,\n",
       "       -0.58324 ,  0.66869 , -0.23122 , -0.95855 ,  0.28262 , -0.078848,\n",
       "        0.75315 ,  0.26584 ,  0.3422  , -0.33949 ,  0.95608 ,  0.065641,\n",
       "        0.45747 ,  0.39835 ,  0.57965 ,  0.39267 , -0.21851 ,  0.58795 ,\n",
       "       -0.55999 ,  0.63368 , -0.043983, -0.68731 , -0.37841 ,  0.38026 ,\n",
       "        0.61641 , -0.88269 , -0.12346 , -0.37928 , -0.38318 ,  0.23868 ,\n",
       "        0.6685  , -0.43321 , -0.11065 ,  0.081723,  1.1569  ,  0.78958 ,\n",
       "       -0.21223 , -2.3211  , -0.67806 ,  0.44561 ,  0.65707 ,  0.1045  ,\n",
       "        0.46217 ,  0.19912 ,  0.25802 ,  0.057194,  0.53443 , -0.43133 ,\n",
       "       -0.34311 ,  0.59789 , -0.58417 ,  0.068995,  0.23944 , -0.85181 ,\n",
       "        0.30379 , -0.34177 , -0.25746 , -0.031101, -0.16285 ,  0.45169 ,\n",
       "       -0.91627 ,  0.64521 ,  0.73281 , -0.22752 ,  0.30226 ,  0.044801,\n",
       "       -0.83741 ,  0.55006 , -0.52506 , -1.7357  ,  0.4751  , -0.70487 ,\n",
       "        0.056939, -0.7132  ,  0.089623,  0.41394 , -1.3363  , -0.61915 ,\n",
       "       -0.33089 , -0.52881 ,  0.16483 , -0.98878 ], dtype=float32)"
      ]
     },
     "execution_count": 67,
     "metadata": {},
     "output_type": "execute_result"
    }
   ],
   "source": [
    "# You can now use `glove_model` to access individual word vectors, similar to a dictionary\n",
    "vector = glove_model['king']\n",
    "vector"
   ]
  },
  {
   "cell_type": "code",
   "execution_count": 68,
   "id": "ec2cfa48-3101-4f11-b95f-86a2da36dba7",
   "metadata": {
    "execution": {
     "iopub.execute_input": "2024-02-08T03:18:31.285390Z",
     "iopub.status.busy": "2024-02-08T03:18:31.285304Z",
     "iopub.status.idle": "2024-02-08T03:18:31.289198Z",
     "shell.execute_reply": "2024-02-08T03:18:31.288772Z",
     "shell.execute_reply.started": "2024-02-08T03:18:31.285382Z"
    }
   },
   "outputs": [
    {
     "data": {
      "text/plain": [
       "(100,)"
      ]
     },
     "execution_count": 68,
     "metadata": {},
     "output_type": "execute_result"
    }
   ],
   "source": [
    "vector.shape"
   ]
  },
  {
   "cell_type": "code",
   "execution_count": 69,
   "id": "4f16f619-2d0b-4443-869a-801a3fb40313",
   "metadata": {
    "execution": {
     "iopub.execute_input": "2024-02-08T03:18:31.290485Z",
     "iopub.status.busy": "2024-02-08T03:18:31.290341Z",
     "iopub.status.idle": "2024-02-08T03:18:31.293988Z",
     "shell.execute_reply": "2024-02-08T03:18:31.293562Z",
     "shell.execute_reply.started": "2024-02-08T03:18:31.290472Z"
    }
   },
   "outputs": [
    {
     "data": {
      "text/plain": [
       "0.7507691"
      ]
     },
     "execution_count": 69,
     "metadata": {},
     "output_type": "execute_result"
    }
   ],
   "source": [
    "# Find similarity between words\n",
    "glove_model.similarity('king', 'queen')"
   ]
  },
  {
   "cell_type": "code",
   "execution_count": 70,
   "id": "c0366fee-7698-44a3-b281-1d55518ec2e2",
   "metadata": {
    "execution": {
     "iopub.execute_input": "2024-02-08T03:18:31.294941Z",
     "iopub.status.busy": "2024-02-08T03:18:31.294694Z",
     "iopub.status.idle": "2024-02-08T03:18:31.334464Z",
     "shell.execute_reply": "2024-02-08T03:18:31.333952Z",
     "shell.execute_reply.started": "2024-02-08T03:18:31.294921Z"
    }
   },
   "outputs": [
    {
     "data": {
      "text/plain": [
       "[('queen', 0.7698541283607483),\n",
       " ('monarch', 0.6843380331993103),\n",
       " ('throne', 0.6755736470222473),\n",
       " ('daughter', 0.6594556570053101),\n",
       " ('princess', 0.6520534157752991)]"
      ]
     },
     "execution_count": 70,
     "metadata": {},
     "output_type": "execute_result"
    }
   ],
   "source": [
    "# Perform word math\n",
    "result = glove_model.most_similar(positive=['woman', 'king'], negative=['man'], topn=5)\n",
    "result"
   ]
  },
  {
   "cell_type": "code",
   "execution_count": 71,
   "id": "0fc6bd42-f0a0-4ad0-a301-5790f22b24fb",
   "metadata": {
    "execution": {
     "iopub.execute_input": "2024-02-08T03:18:31.335569Z",
     "iopub.status.busy": "2024-02-08T03:18:31.335350Z",
     "iopub.status.idle": "2024-02-08T03:18:31.345027Z",
     "shell.execute_reply": "2024-02-08T03:18:31.344629Z",
     "shell.execute_reply.started": "2024-02-08T03:18:31.335551Z"
    }
   },
   "outputs": [
    {
     "data": {
      "text/plain": [
       "[('prince', 0.7682329416275024),\n",
       " ('queen', 0.7507689595222473),\n",
       " ('son', 0.7020888328552246),\n",
       " ('brother', 0.6985775828361511),\n",
       " ('monarch', 0.6977890729904175),\n",
       " ('throne', 0.691999077796936),\n",
       " ('kingdom', 0.6811410188674927),\n",
       " ('father', 0.6802029013633728),\n",
       " ('emperor', 0.6712858080863953),\n",
       " ('ii', 0.6676074266433716)]"
      ]
     },
     "execution_count": 71,
     "metadata": {},
     "output_type": "execute_result"
    }
   ],
   "source": [
    "# We can use glove to calculate the most similar\n",
    "glove_model.most_similar('king')"
   ]
  },
  {
   "cell_type": "code",
   "execution_count": 72,
   "id": "2631163a-290a-4086-8525-2ead60ae42ea",
   "metadata": {
    "execution": {
     "iopub.execute_input": "2024-02-08T03:18:31.345761Z",
     "iopub.status.busy": "2024-02-08T03:18:31.345656Z",
     "iopub.status.idle": "2024-02-08T03:18:31.358875Z",
     "shell.execute_reply": "2024-02-08T03:18:31.357626Z",
     "shell.execute_reply.started": "2024-02-08T03:18:31.345752Z"
    }
   },
   "outputs": [
    {
     "data": {
      "text/plain": [
       "array([-0.10231996, -0.81294006,  0.10211003,  0.985924  ,  0.34218282,\n",
       "        1.09095   , -0.48912996, -0.05616698, -0.21029997, -1.02996   ,\n",
       "       -0.86851   ,  0.36786997,  0.01960999,  0.59259   , -0.23190099,\n",
       "       -1.016919  , -0.01218399, -1.17194   , -0.52329   ,  0.60645   ,\n",
       "       -0.98537004, -1.001028  ,  0.48913902,  0.630072  ,  0.58224   ,\n",
       "        0.15908998,  0.43685   , -1.25351   ,  0.97054   , -0.065529  ,\n",
       "        0.733763  ,  0.44219002,  1.2091839 ,  0.19698   , -0.15948   ,\n",
       "        0.34364003, -0.46222997,  0.33772   ,  0.14792705, -0.24959502,\n",
       "       -0.77093005,  0.522717  , -0.1283    , -0.91881   , -0.01755001,\n",
       "       -0.44041002, -0.52656496,  0.33734798,  0.60639   , -0.45067   ,\n",
       "       -0.04158002,  0.08408299,  1.31456   ,  0.67737997, -0.24316001,\n",
       "       -2.071     , -0.60648996,  0.19710997,  0.63567   ,  0.07819998,\n",
       "        0.49161002,  0.08171999,  0.70855707,  0.201938  ,  0.5155501 ,\n",
       "       -0.23025298, -0.40473002,  0.39212003, -0.5093    , -0.139153  ,\n",
       "        0.21609999, -0.628671  ,  0.08894002,  0.49167   , -0.06637001,\n",
       "        0.76095   , -0.19442001,  0.41131002, -1.04476   , -0.14801991,\n",
       "       -0.09835501, -0.25115   ,  0.808957  ,  0.36312902, -0.78200996,\n",
       "       -0.10484004,  0.08340102, -1.24067   ,  0.655344  , -0.93635   ,\n",
       "        0.648379  , -0.55827   ,  0.45621303,  0.27575803, -1.54896   ,\n",
       "       -0.199096  , -0.50804996, -0.13818002,  0.27731198, -0.75721   ],\n",
       "      dtype=float32)"
      ]
     },
     "execution_count": 72,
     "metadata": {},
     "output_type": "execute_result"
    }
   ],
   "source": [
    "# Manually calculating new vector for word math\n",
    "new_vector = glove_model['king'] - glove_model['man'] + glove_model['woman']\n",
    "new_vector"
   ]
  },
  {
   "cell_type": "code",
   "execution_count": 73,
   "id": "ee62f9b9-696b-4186-baa0-96306023a7a3",
   "metadata": {
    "execution": {
     "iopub.execute_input": "2024-02-08T03:18:31.360361Z",
     "iopub.status.busy": "2024-02-08T03:18:31.359987Z",
     "iopub.status.idle": "2024-02-08T03:18:31.379565Z",
     "shell.execute_reply": "2024-02-08T03:18:31.378943Z",
     "shell.execute_reply.started": "2024-02-08T03:18:31.360319Z"
    }
   },
   "outputs": [
    {
     "data": {
      "text/plain": [
       "[('king', 0.8551837205886841),\n",
       " ('queen', 0.7834413647651672),\n",
       " ('monarch', 0.6933802366256714),\n",
       " ('throne', 0.6833109259605408),\n",
       " ('daughter', 0.680908203125),\n",
       " ('prince', 0.6713142991065979),\n",
       " ('princess', 0.664408266544342),\n",
       " ('mother', 0.6579325199127197),\n",
       " ('elizabeth', 0.6563301086425781),\n",
       " ('father', 0.6392418742179871)]"
      ]
     },
     "execution_count": 73,
     "metadata": {},
     "output_type": "execute_result"
    }
   ],
   "source": [
    "# Using .most_similar with an array\n",
    "glove_model.most_similar(new_vector)"
   ]
  },
  {
   "cell_type": "code",
   "execution_count": 74,
   "id": "4446cc69-1265-4e2e-a777-875ee070fa55",
   "metadata": {
    "execution": {
     "iopub.execute_input": "2024-02-08T03:18:31.381002Z",
     "iopub.status.busy": "2024-02-08T03:18:31.380574Z",
     "iopub.status.idle": "2024-02-08T03:18:31.394530Z",
     "shell.execute_reply": "2024-02-08T03:18:31.391579Z",
     "shell.execute_reply.started": "2024-02-08T03:18:31.380979Z"
    }
   },
   "outputs": [
    {
     "data": {
      "text/plain": [
       "[('government', 0.8555272221565247),\n",
       " ('elections', 0.8260869979858398),\n",
       " ('vote', 0.821299135684967),\n",
       " ('election', 0.7950962781906128),\n",
       " ('rule', 0.7902188897132874),\n",
       " ('opposition', 0.7764408588409424),\n",
       " ('parliament', 0.7697930335998535),\n",
       " ('ruling', 0.7695497274398804),\n",
       " ('party', 0.7599928379058838),\n",
       " ('monarchy', 0.7500120401382446)]"
      ]
     },
     "execution_count": 74,
     "metadata": {},
     "output_type": "execute_result"
    }
   ],
   "source": [
    "# Manually calculating new vector for word math\n",
    "new_vector = glove_model['monarchy'] + glove_model['vote'] + glove_model['government']\n",
    "glove_model.most_similar(new_vector)"
   ]
  },
  {
   "cell_type": "code",
   "execution_count": 75,
   "id": "2ccf957d-31af-4be4-aeeb-dc909a6a2c5e",
   "metadata": {
    "execution": {
     "iopub.execute_input": "2024-02-08T03:18:31.397870Z",
     "iopub.status.busy": "2024-02-08T03:18:31.397647Z",
     "iopub.status.idle": "2024-02-08T03:18:31.408606Z",
     "shell.execute_reply": "2024-02-08T03:18:31.407615Z",
     "shell.execute_reply.started": "2024-02-08T03:18:31.397851Z"
    }
   },
   "outputs": [
    {
     "data": {
      "text/plain": [
       "[('age', 0.8743536472320557),\n",
       " ('baby', 0.8642442226409912),\n",
       " ('child', 0.795682430267334),\n",
       " ('children', 0.7709920406341553),\n",
       " ('older', 0.7629886269569397),\n",
       " ('girl', 0.7522111535072327),\n",
       " ('mother', 0.7367070317268372),\n",
       " ('boy', 0.7361041307449341),\n",
       " ('birth', 0.7357129454612732),\n",
       " ('couple', 0.7255393266677856)]"
      ]
     },
     "execution_count": 75,
     "metadata": {},
     "output_type": "execute_result"
    }
   ],
   "source": [
    "# Manually calculating new vector for word math\n",
    "new_vector = glove_model['baby'] + glove_model['age']\n",
    "glove_model.most_similar(new_vector)"
   ]
  },
  {
   "cell_type": "code",
   "execution_count": 76,
   "id": "fede594e-cd14-4cdd-85ad-19065d899744",
   "metadata": {
    "execution": {
     "iopub.execute_input": "2024-02-08T03:18:31.409367Z",
     "iopub.status.busy": "2024-02-08T03:18:31.409260Z",
     "iopub.status.idle": "2024-02-08T03:18:31.422316Z",
     "shell.execute_reply": "2024-02-08T03:18:31.421939Z",
     "shell.execute_reply.started": "2024-02-08T03:18:31.409357Z"
    },
    "scrolled": true
   },
   "outputs": [
    {
     "data": {
      "text/plain": [
       "[('baby', 0.9999999403953552),\n",
       " ('babies', 0.7870863676071167),\n",
       " ('newborn', 0.7522428035736084),\n",
       " ('boy', 0.7506729364395142),\n",
       " ('girl', 0.7423104047775269),\n",
       " ('child', 0.7266175746917725),\n",
       " ('infant', 0.7064839005470276),\n",
       " ('mom', 0.699421226978302),\n",
       " ('pregnant', 0.6986744403839111),\n",
       " ('toddler', 0.6978277564048767)]"
      ]
     },
     "execution_count": 76,
     "metadata": {},
     "output_type": "execute_result"
    }
   ],
   "source": [
    "# Manually calculating new vector for word math\n",
    "new_vector = glove_model['baby'] + glove_model['baby']\n",
    "glove_model.most_similar(new_vector)"
   ]
  },
  {
   "cell_type": "markdown",
   "id": "77f05532-5113-4208-9163-c933b816d7e1",
   "metadata": {},
   "source": [
    "# Returning to Hoover Data"
   ]
  },
  {
   "cell_type": "markdown",
   "id": "d401b00d-d9b2-416c-b171-2e3cace3dd92",
   "metadata": {},
   "source": [
    "### Create the Training Texts Dataset"
   ]
  },
  {
   "cell_type": "code",
   "execution_count": 77,
   "id": "73d5cc8b-963d-4a78-a33f-4f134509e812",
   "metadata": {
    "execution": {
     "iopub.execute_input": "2024-02-08T03:18:31.423098Z",
     "iopub.status.busy": "2024-02-08T03:18:31.422990Z",
     "iopub.status.idle": "2024-02-08T03:18:31.426197Z",
     "shell.execute_reply": "2024-02-08T03:18:31.425740Z",
     "shell.execute_reply.started": "2024-02-08T03:18:31.423089Z"
    }
   },
   "outputs": [
    {
     "data": {
      "text/plain": [
       "NameError(\"name 'sequence_vectorizer' is not defined\")"
      ]
     },
     "metadata": {},
     "output_type": "display_data"
    }
   ],
   "source": [
    "# Fit the layer on the training texts\n",
    "try:\n",
    "    sequence_vectorizer.adapt(train_ds)\n",
    "except Exception as e:\n",
    "    display(e)"
   ]
  },
  {
   "cell_type": "markdown",
   "id": "c45da873-5e7a-4e92-b4ca-939ad5c0e1f2",
   "metadata": {},
   "source": [
    "> We need to get a version of our data that is **only the texts**."
   ]
  },
  {
   "cell_type": "code",
   "execution_count": 78,
   "id": "68a346be-2bf5-483d-8c13-4074fb506730",
   "metadata": {
    "execution": {
     "iopub.execute_input": "2024-02-08T03:18:31.427113Z",
     "iopub.status.busy": "2024-02-08T03:18:31.426916Z",
     "iopub.status.idle": "2024-02-08T03:18:31.443478Z",
     "shell.execute_reply": "2024-02-08T03:18:31.443143Z",
     "shell.execute_reply.started": "2024-02-08T03:18:31.427100Z"
    }
   },
   "outputs": [
    {
     "data": {
      "text/plain": [
       "<tf.Tensor: shape=(32,), dtype=string, numpy=\n",
       "array([b\"Cool but disappointed.: Really cool to try out but the texture of the noodle is gross. I couldn't eat the mac and cheese, it is chewy and doesn't feel like pasta. I know it's not pasta but still just each the real stuff and get the calories and work out later not worth the price. The texture is like chewing on a wrapper or something I can't even describe it ! very disappointed.\",\n",
       "       b'Perfect pasta substitute!!: I love this!!! You HAVE to rinse it several\\ntimes to get \"fishy\" smell out, but after that, it is a perfect angel hair pasta substitute!',\n",
       "       b'One Star: All packed water. No flavor and weird texture. Would not buy again.',\n",
       "       b'They are great for no calories: I always buy these.  They are great for no calories!',\n",
       "       b'I love these \"noodles: I love these \"noodles.\" They taste just like pasta. I\\'m not sure why there are bad reviews, you do have to follow the directions, but if you do, the noodles are a great addition to low-carb diets.\\n\\nFollow the instructions and you\\'ll enjoy them too!',\n",
       "       b'One Star: Yuck. No getting past the rubbery texture.',\n",
       "       b'They take a little getting used to, maybe try ...: They take a little getting used to, maybe try the rice first. But these are a superb replacement for pasta',\n",
       "       b'One Star: Arrived with a leaky bag and very bad odor. No flavor and odd texture.',\n",
       "       b'arrived leaking liquid: too scary looking to eat.  husband refuses.  arrived dripping wet and leaking.  yuk.',\n",
       "       b'but because they\\'re really nice and it\\'s awesome to be able to eat them ...: I\\'m giving these 5 stars, not because they are AN EXACT REPLICA OF NOODLES, but because they\\'re really nice and it\\'s awesome to be able to eat them if you\\'re watching your carbs. They are not exactly the same as flour/egg noodles, so don\\'t expect that. But I would say they\\'re a 10/10 substitute for rice noodles. I used the \"rice\" in stir-fry and it was pretty good- not amazing, but pretty good. The rice was comparable to tapioca beads, and I think honestly would be really nice in a pudding dessert minus some of the carbs :)\\nI plan on using the noodles in some thick spaghetti sauce with ground beef soon, and making some kind of pho. They do smell weird but after you do the instructions on the package and let them sit in a broth/sauce for awhile they just assume the taste of that broth/sauce and there\\'s no odor.',\n",
       "       b'Great replacement for pasta: Great replacement for pasta. Cuts down all the unwanted carbs by offering a vegetable substitute that tastes delicious! Get over the is smell when you open up the package. You have to rinse and you will not taste anything fishy.',\n",
       "       b'One Star: Id rather eat zoodles. I cant get past the smell.',\n",
       "       b'Five Stars: I think these are tasty when mixed with sauce. Sure helps to stay on track in healthy eating.',\n",
       "       b\"Gummy, flavorless, disgusting: It's a Miracle that anyone could eat these. Plus, they are expensive. Eat a real noodle for Pete's sake. Don't bother with these. I'm on a restricted carb diet but I have the occasional rice noodle in my Pho, I just eat a small portion.\",\n",
       "       b\"One Star: These taste as bad as you're worried they will. Save your money.\",\n",
       "       b\"EWWWWWW: These are the most disgusting thing!!!  Don't do it... I tried several different ways to prepare them and (shivers) they were nasty!!!!\",\n",
       "       b\"Five Stars: They're great! I need to order more!\",\n",
       "       b'Love them..: Love these, they are so easy to prepare and taste great...',\n",
       "       b'Not eh at I expected: I did not like the texture anda smell',\n",
       "       b\"These are best for alfredo sauces so the noodles are covered with ...: These are best for alfredo sauces so the noodles are covered with something. They are not visually very appealing but they are great in a dish where they are disguised!!  I'll trade the calories in alfredo for the carbs of reg noodles.\",\n",
       "       b'One Star: Not very good I did not like it threw it out',\n",
       "       b\"Good keto substitute for noodles/rice: I heard about miracle noodles as a way to replace pasta and a ketogenic diet. They absorb flavor well, but take a little time to prepare as you have to rinse them and heat them up to dry them out. They're better used as noodles (like in Asian dishes) than as a pasta substitute. I put the rice noodles in beef stew and they held up well reheating leftovers.\",\n",
       "       b'I used it on my Dukan diet.: I used it as regular noodles.  Making noodle soup,  stir fry noodles, cold noodle dishes.  Using it as regular noodles ane be creative.',\n",
       "       b\"Fantastic noodles!: I'm eating a bowl of these as I write this review; I just couldn't wait to talk about them!\\n\\nI ordered these (after seeing them on Cooking With Dog) in the hopes that I could increase my fiber intake, and the zero calorie thing came as an added bonus. I was really nervous to make these because of some of the negative reviews, but I genuinely feel that those particular reviewers were either 1) expecting something that tasted exactly like pasta, or 2) did not prepare these correctly. Prep is absolutely essential.\\n\\nFirst off, the fishy smell reminds me of a fresh fish market, and was not at all unpleasant. That smell (as others have said) does not carry over into the flavor. You need to rinse these for about 4-5 minutes in cold water until the smell goes away, and then drop them into a pot of boiling water for 5-6 minutes. Strain them, rinse again in cold water (to remove the rubbery texture they get when boiled) and finally dry saute them in a pan till you hear squeaking. It's a little time consuming, but nothing crazy.\\n\\nI soaked the prepared noodles for a few hours in my favorite sauce (hoisin, soy sauce, red pepper flakes, and water to thin it out) and combined it with pan fried tofu. The texture of the noodles is perfect -not starchy or rubbery, but sort of lightly chewy yet still soft enough to bite through cleanly, as most asain noodles are- and they soaked up the sauce and taste absolutely fabulous!\\n\\nIt may be a bit pricey for everyday fare, but for a health conscious college student like me, it's enough to take the edge off of takeout cravings. Give these a shot!\",\n",
       "       b'One Star: These were gross',\n",
       "       b'Terrific Product: These are terrific for anyone that loves pasta but is health conscious. No gluten, no animal products and best of all NO CALORIES. I toss mine with a vinaigrette and veggies. Delicious!!!',\n",
       "       b\"Make sure you know how to prepare this specific noodle!: If you know how to prepare the product, it can taste just like normal noodles.\\n\\nI love the invention of shirataki noodles. If you're like me, indulging in noodle-based meals can be too easy.\\n\\nWith this product, you're free and able to stuff your face with pasta and noodles.\",\n",
       "       b\"I was disappointed because the noodles arrived floating in bags of water: I was disappointed because the noodles arrived floating in bags of water. According to the enclosed instructions you had to rinse them and dehydrate them in a pan before you could use them as noodles. I haven't had time to finish processing them so I don't know what they taste like.\",\n",
       "       b'Not too bad!: I ordered these with some trepidation, but after preparing exactly as directed on the package, I find them a wonderful addition to spicy Thai coconut chicken soup - basically, a substitute for glass noodles.  I also keep them around the house to combine with pasta sauce when I feel like a super-quick, almost calorie-free bowl of noodles. Definitely better the 2nd day.',\n",
       "       b'Five Stars: These are awesome if you follow the directions no calories no carbs',\n",
       "       b'Five Stars: Taste and texture of a long rice noodle. Works well in Asian cooking. Very tasty.',\n",
       "       b'Meh! Disappointing..............Tastes NOTHING Like Real Rice!!!: When I decided to buy this&nbsp;Miracle Noodle Rice&nbsp;I did so, after having bought the&nbsp;Miracle Noodle Angel Hair Pasta&nbsp;and ABSOLUTELY LOVING it. Because I am on a&nbsp;Wheat Belly&nbsp;diet, which prohibits the consumption of wheat & any product made with wheat (pasta, bread, crackers, etc.) and I LOVE pasta & noodles, which are my favorite food after sushi, steak & shellfish, I was so glad to find the Miracle Noodle angel hair and fettucine pasta.\\n\\nHowever, even though&nbsp;Wheat Belly&nbsp;is primarily a wheat-free diet, because its also supposed to be low-carb & grain-free, other non-wheat grains & starchy carbs like rice, potatoes and corn are discouraged (or at least advised to only consume in very limited amounts as rarely as possible)\\n\\nUnfortunately I LOVE basmati rice -- especially when having it with the \"Morey\\'s Seafood\" brand of \"Seasoned Grill Wild-Caught Alaskan Salmon\" which I get from the frozen food section at Costco (and prior to that, at Sam\\'s Club) and ever since I started the&nbsp;Wheat Belly&nbsp;diet, I was missing having rice so much that I mostly stopped eating the Morey\\'s Seafood Seasoned Grill Salmon, because it just wasn\\'t the same without the fluffy & buttery basmati rice to enjoy it with.\\n\\nThen I happened to see a listing for this Miracle Noodle Rice while ordering the&nbsp;Miracle Noodle Angel Hair Pasta&nbsp;and I knew I just HAD to try it.\\n\\nNow before going any further, I just wanted to clarify that when I ordered this&nbsp;Miracle Noodle Rice&nbsp;I had NO illusions whatsoever that this would taste like basmati rice, in any way! Even before I ordered this, I knew it would be difficult if not impossible to replicate the taste & texture of basmati rice into a no-carb calorie free version. So despite the name of the brand, I was NOT expecting a miracle. However, while I knew that it would probably not taste like basmati rice -- I was hoping that it would at least taste like SOME kind of rice.\\n\\nUnfortunately, I was wrong! Not only does it not LOOK like rice but it also does NOT taste like ANY kind of rice either!\\n\\nThis so-called \"rice\" is a bunch of tiny white little balls, that kind of look like caviar (though I\\'ve never had caviar, this looks like a white version of it!) or tapioca. In fact, when I made this for a close friend, one of the first things she said, when she saw it was that it looked and tasted like \"sabudana\" (which is what tapioca is called in many of the languages in India).\\n\\nAs for the taste,&nbsp;Miracle Noodle Rice&nbsp;does NOT taste even remotely like rice! Not only that but this \"rice\" doesn\\'t even taste much different than any of the other varieties of Miracle Noodle pastas -- and as a matter of fact, it tastes more like an orzo pasta than rice, and I don\\'t know on what planet this could in any way be considered \"rice\"!\\n\\nEven though I followed all the directions, and experimented with these in many different kinds of recipes, NOTHING I tried made it taste even REMOTELY like rice -- and it would have been better if they had just labeled this as an orzo pasta or something instead. At least then, that would be more accurate and honest. Becasue calling this item \"rice\" is VERY misleading and a HUGE disappointment!\\n\\nWhich is why, although I LOVE the&nbsp;Miracle Noodle Pasta, Angel Hair&nbsp;and the&nbsp;Miracle Noodle Pasta, Fetuccine, I will probably never be buying this so-called \"rice\" again!'],\n",
       "      dtype=object)>"
      ]
     },
     "execution_count": 78,
     "metadata": {},
     "output_type": "execute_result"
    }
   ],
   "source": [
    "# Get just the text from ds_train\n",
    "ds_texts = train_ds.map(lambda x, y: x)\n",
    "\n",
    "# Preview the text\n",
    "ds_texts.take(1).get_single_element()"
   ]
  },
  {
   "cell_type": "markdown",
   "id": "8e2ad04a-c1c2-4c5e-bfa7-f7ce64e7a536",
   "metadata": {},
   "source": [
    "### Determine appropriate sequence length. "
   ]
  },
  {
   "cell_type": "code",
   "execution_count": 79,
   "id": "8e2fbbd2-718b-4766-912a-9fef9aa862ec",
   "metadata": {
    "execution": {
     "iopub.execute_input": "2024-02-08T03:18:31.444206Z",
     "iopub.status.busy": "2024-02-08T03:18:31.444108Z",
     "iopub.status.idle": "2024-02-08T03:18:31.446325Z",
     "shell.execute_reply": "2024-02-08T03:18:31.445959Z",
     "shell.execute_reply.started": "2024-02-08T03:18:31.444198Z"
    }
   },
   "outputs": [],
   "source": [
    "# df_ml['length (characters)'] = df_ml['text'].map(len)\n",
    "# df_ml.head(3)\n",
    "\n",
    "# ax = sns.histplot(data=df_ml, hue='rating', x='length (characters)',\n",
    "#                 stat='percent',common_norm=False)#, estimator='median',);\n",
    "# ax.axvline()"
   ]
  },
  {
   "cell_type": "code",
   "execution_count": 80,
   "id": "bb9713fe-43cb-4bb9-aebc-e31601c543db",
   "metadata": {
    "execution": {
     "iopub.execute_input": "2024-02-08T03:18:31.446781Z",
     "iopub.status.busy": "2024-02-08T03:18:31.446694Z",
     "iopub.status.idle": "2024-02-08T03:18:31.458486Z",
     "shell.execute_reply": "2024-02-08T03:18:31.458154Z",
     "shell.execute_reply.started": "2024-02-08T03:18:31.446773Z"
    }
   },
   "outputs": [
    {
     "data": {
      "text/plain": [
       "count    3305.000000\n",
       "mean       50.815734\n",
       "std        64.306966\n",
       "min         2.000000\n",
       "25%        13.000000\n",
       "50%        33.000000\n",
       "75%        63.000000\n",
       "max      1166.000000\n",
       "Name: length (tokens), dtype: float64"
      ]
     },
     "execution_count": 80,
     "metadata": {},
     "output_type": "execute_result"
    }
   ],
   "source": [
    "# Let's take a look at the length of the each text\n",
    "# We will split on each space, and then get the length\n",
    "df_ml['length (tokens)'] = df_ml['text'].map( lambda x: len(x.split(\" \")))\n",
    "df_ml['length (tokens)'].describe()"
   ]
  },
  {
   "cell_type": "code",
   "execution_count": 81,
   "id": "e473f73c-0ac0-461e-a186-bf45ad560e72",
   "metadata": {
    "execution": {
     "iopub.execute_input": "2024-02-08T03:18:31.459112Z",
     "iopub.status.busy": "2024-02-08T03:18:31.459015Z",
     "iopub.status.idle": "2024-02-08T03:18:31.781912Z",
     "shell.execute_reply": "2024-02-08T03:18:31.781570Z",
     "shell.execute_reply.started": "2024-02-08T03:18:31.459103Z"
    }
   },
   "outputs": [
    {
     "data": {
      "text/plain": [
       "<matplotlib.lines.Line2D at 0x2aae9a350>"
      ]
     },
     "execution_count": 81,
     "metadata": {},
     "output_type": "execute_result"
    },
    {
     "data": {
      "image/png": "[encoded data removed]",
      "text/plain": [
       "<Figure size 640x480 with 1 Axes>"
      ]
     },
     "metadata": {},
     "output_type": "display_data"
    }
   ],
   "source": [
    "SEQUENCE_LENGTH = 150\n",
    "ax = sns.histplot(data=df_ml, hue='rating', x='length (tokens)',kde=True,\n",
    "                stat='probability',common_norm=False)#, estimator='median',);\n",
    "ax.axvline(SEQUENCE_LENGTH, color='red', ls=\":\")"
   ]
  },
  {
   "cell_type": "markdown",
   "id": "a033011a-004f-47bc-b7e8-a6253a175730",
   "metadata": {},
   "source": [
    "## 📌BOOKMARK TO DO: Clean Up Below Here:"
   ]
  },
  {
   "cell_type": "markdown",
   "id": "54b0a46e-cd95-4c75-bf37-e10ca7ebb492",
   "metadata": {},
   "source": [
    "> FINISH END OF NOTEBOOK BELOW"
   ]
  },
  {
   "cell_type": "code",
   "execution_count": 82,
   "id": "8a6aed55-e62e-4375-8d80-17223bcdb253",
   "metadata": {
    "execution": {
     "iopub.execute_input": "2024-02-08T03:18:31.782664Z",
     "iopub.status.busy": "2024-02-08T03:18:31.782570Z",
     "iopub.status.idle": "2024-02-08T03:18:31.784800Z",
     "shell.execute_reply": "2024-02-08T03:18:31.784478Z",
     "shell.execute_reply.started": "2024-02-08T03:18:31.782655Z"
    }
   },
   "outputs": [],
   "source": [
    "# import numpy as np\n",
    "# from sklearn.metrics.pairwise import cosine_similarity\n",
    "\n",
    "# # Define a function to calculate cosine similarity\n",
    "# def find_closest_embeddings(embedding):\n",
    "    \n",
    "#     return sorted(vector_dict.keys(), key=lambda word: cosine_similarity([vector_dict[word]], [embedding]))\n",
    "\n",
    "# # Example of finding words similar to 'vacuum' \n",
    "# similar_to_vacuum = find_closest_embeddings(vector_dict['vacuum'])[:5]  # Get the top 5 similar words\n",
    "\n",
    "# # Print the similar words\n",
    "# print(\"Words similar to 'vacuum':\", similar_to_vacuum)\n",
    "\n",
    "# # Demonstration of vector arithmetic: 'hate' + 'love' + 'vacuum'\n",
    "# combined_vector = vector_dict['hate'] + vector_dict['love'] + vector_dict['vacuum']\n",
    "# similar_to_combined = find_closest_embeddings(combined_vector)[:5]  # Get the top 5 similar words\n",
    "\n",
    "# # Print the similar words to the combined vector\n",
    "# print(\"Words similar to the combination of 'hate', 'love', and 'vacuum':\", similar_to_combined)\n",
    "# # "
   ]
  },
  {
   "cell_type": "code",
   "execution_count": 83,
   "id": "a628c644-cf83-4cd6-abe8-c181c3af2f77",
   "metadata": {
    "execution": {
     "iopub.execute_input": "2024-02-08T03:18:31.785260Z",
     "iopub.status.busy": "2024-02-08T03:18:31.785179Z",
     "iopub.status.idle": "2024-02-08T03:18:31.787132Z",
     "shell.execute_reply": "2024-02-08T03:18:31.786807Z",
     "shell.execute_reply.started": "2024-02-08T03:18:31.785252Z"
    }
   },
   "outputs": [],
   "source": [
    "\n",
    "# # Example of finding words similar to 'vacuum' \n",
    "# n_results = 5\n",
    "# demo_word = 'vacuum'\n",
    "# add_word = 'love'\n",
    "\n",
    "# similar_to_vacuum = find_closest_embeddings(vector_dict[demo_word])[:n_results]  # Get the top 5 similar words\n",
    "\n",
    "# # Print the similar words\n",
    "# print(f\"Words similar to '{demo_word}':\")\n",
    "# print(similar_to_vacuum)\n",
    "\n",
    "# # Demonstration of vector arithmetic: 'hate' + 'love' + 'vacuum'\n",
    "# combined_vector =vector_dict[add_word] + vector_dict[demo_word]# vector_dict['hate'] + \n",
    "\n",
    "# similar_to_combined = find_closest_embeddings(combined_vector)[:n_results]  # Get the top 5 similar words\n",
    "\n",
    "# # Print the similar words to the combined vector\n",
    "# print(f\"\\nWords similar to the combination of {demo_word} + {add_word}\")\n",
    "# print(similar_to_combined)\n"
   ]
  },
  {
   "cell_type": "code",
   "execution_count": 84,
   "id": "46088607-41ee-49b1-93a4-d2405e591730",
   "metadata": {
    "execution": {
     "iopub.execute_input": "2024-02-08T03:18:31.787643Z",
     "iopub.status.busy": "2024-02-08T03:18:31.787567Z",
     "iopub.status.idle": "2024-02-08T03:18:31.847078Z",
     "shell.execute_reply": "2024-02-08T03:18:31.846746Z",
     "shell.execute_reply.started": "2024-02-08T03:18:31.787636Z"
    }
   },
   "outputs": [],
   "source": [
    "\n",
    "## Create text Vectorization layer\n",
    "SEQUENCE_LENGTH=50 #BEST=50\n",
    "EMBED_DIM = 100 # BEST= 200\n",
    "\n",
    "sequence_vectorizer = tf.keras.layers.TextVectorization(\n",
    "    standardize=\"lower_and_strip_punctuation\",\n",
    "    output_mode=\"int\",\n",
    "    output_sequence_length=SEQUENCE_LENGTH\n",
    ")\n",
    "\n",
    "sequence_vectorizer.adapt(ds_texts)\n"
   ]
  },
  {
   "cell_type": "markdown",
   "id": "d0e1a448-8cc1-4bac-8896-0d278ebcfc5f",
   "metadata": {},
   "source": [
    "# Our First Deep Sequence Model"
   ]
  },
  {
   "cell_type": "markdown",
   "id": "95210b15-3546-48cb-9e2e-85669af45e6d",
   "metadata": {},
   "source": [
    "### Simple RNN"
   ]
  },
  {
   "cell_type": "code",
   "execution_count": 85,
   "id": "2873c9d2-f3f2-4b75-9230-c4caef9ebb75",
   "metadata": {
    "execution": {
     "iopub.execute_input": "2024-02-08T03:18:31.847689Z",
     "iopub.status.busy": "2024-02-08T03:18:31.847592Z",
     "iopub.status.idle": "2024-02-08T03:18:31.864327Z",
     "shell.execute_reply": "2024-02-08T03:18:31.863968Z",
     "shell.execute_reply.started": "2024-02-08T03:18:31.847680Z"
    }
   },
   "outputs": [],
   "source": [
    "\n",
    "VOCAB_SIZE = sequence_vectorizer.vocabulary_size()\n",
    "SEQUENCE_LENGTH = sequence_vectorizer.get_config()['output_sequence_length']\n",
    "\n",
    "\n",
    "# Define sequential model with pre-trained vectorization layer and *new* embedding layer\n",
    "model = Sequential([\n",
    "    sequence_vectorizer,\n",
    "    layers.Embedding(input_dim=VOCAB_SIZE,\n",
    "                              output_dim=EMBED_DIM, \n",
    "                              input_length=SEQUENCE_LENGTH)\n",
    "    ])"
   ]
  },
  {
   "cell_type": "code",
   "execution_count": 86,
   "id": "8721207e-992b-449f-8892-f053704a70d8",
   "metadata": {
    "execution": {
     "iopub.execute_input": "2024-02-08T03:18:31.864910Z",
     "iopub.status.busy": "2024-02-08T03:18:31.864813Z",
     "iopub.status.idle": "2024-02-08T03:18:31.868818Z",
     "shell.execute_reply": "2024-02-08T03:18:31.868299Z",
     "shell.execute_reply.started": "2024-02-08T03:18:31.864901Z"
    }
   },
   "outputs": [],
   "source": [
    "### BEST\n",
    "\n",
    "\n",
    "def build_rnn_model(text_vectorization_layer):\n",
    "    VOCAB_SIZE = text_vectorization_layer.vocabulary_size()\n",
    "    SEQUENCE_LENGTH = sequence_vectorizer.get_config()['output_sequence_length']\n",
    "    \n",
    "    \n",
    "    # Define sequential model with pre-trained vectorization layer and *new* embedding layer\n",
    "    model = Sequential([\n",
    "        text_vectorization_layer,\n",
    "        layers.Embedding(input_dim=VOCAB_SIZE,\n",
    "                                  output_dim=EMBED_DIM, \n",
    "                                  input_length=SEQUENCE_LENGTH)\n",
    "        ])\n",
    "        \n",
    "    # Add *new* LSTM layer\n",
    "    model.add(layers.SimpleRNN(32)) #BEST=32\n",
    "    \n",
    "    # Add output layer\n",
    "    model.add(layers.Dense(1, activation='sigmoid'))\n",
    " \n",
    "    # Compile the model\n",
    "    model.compile(optimizer=optimizers.legacy.Adam(learning_rate = .001), \n",
    "                  loss='bce',#'sparse_categorical_crossentropy', \n",
    "                  metrics=['accuracy'])\n",
    "    \n",
    "    model.summary()\n",
    "    return model\n",
    "\n",
    "def get_callbacks(patience=3, monitor='val_accuracy'):\n",
    "    early_stop = tf.keras.callbacks.EarlyStopping(patience=patience, monitor=monitor)\n",
    "    return [early_stop]"
   ]
  },
  {
   "cell_type": "code",
   "execution_count": 88,
   "id": "6ee5658e-544d-44ab-911a-4ded171ac3bd",
   "metadata": {
    "execution": {
     "iopub.execute_input": "2024-02-08T03:19:14.769503Z",
     "iopub.status.busy": "2024-02-08T03:19:14.767625Z",
     "iopub.status.idle": "2024-02-08T03:19:19.701593Z",
     "shell.execute_reply": "2024-02-08T03:19:19.701262Z",
     "shell.execute_reply.started": "2024-02-08T03:19:14.769441Z"
    }
   },
   "outputs": [
    {
     "name": "stdout",
     "output_type": "stream",
     "text": [
      "Model: \"sequential_3\"\n",
      "_________________________________________________________________\n",
      " Layer (type)                Output Shape              Param #   \n",
      "=================================================================\n",
      " text_vectorization_2 (TextV  (None, 50)               0         \n",
      " ectorization)                                                   \n",
      "                                                                 \n",
      " embedding_3 (Embedding)     (None, 50, 100)           516200    \n",
      "                                                                 \n",
      " simple_rnn_1 (SimpleRNN)    (None, 32)                4256      \n",
      "                                                                 \n",
      " dense_1 (Dense)             (None, 1)                 33        \n",
      "                                                                 \n",
      "=================================================================\n",
      "Total params: 520,489\n",
      "Trainable params: 520,489\n",
      "Non-trainable params: 0\n",
      "_________________________________________________________________\n",
      "Epoch 1/30\n",
      "63/63 [==============================] - 1s 7ms/step - loss: 0.6122 - accuracy: 0.6421 - val_loss: 0.5535 - val_accuracy: 0.7117\n",
      "Epoch 2/30\n",
      "63/63 [==============================] - 0s 6ms/step - loss: 0.3624 - accuracy: 0.8514 - val_loss: 0.5738 - val_accuracy: 0.7298\n",
      "Epoch 3/30\n",
      "63/63 [==============================] - 0s 6ms/step - loss: 0.2170 - accuracy: 0.9240 - val_loss: 0.6208 - val_accuracy: 0.7198\n",
      "Epoch 4/30\n",
      "63/63 [==============================] - 0s 6ms/step - loss: 0.1386 - accuracy: 0.9538 - val_loss: 0.6684 - val_accuracy: 0.7339\n",
      "Epoch 5/30\n",
      "63/63 [==============================] - 0s 6ms/step - loss: 0.0835 - accuracy: 0.9751 - val_loss: 0.7148 - val_accuracy: 0.7258\n",
      "Epoch 6/30\n",
      "63/63 [==============================] - 0s 7ms/step - loss: 0.0534 - accuracy: 0.9876 - val_loss: 0.7447 - val_accuracy: 0.7399\n",
      "Epoch 7/30\n",
      "63/63 [==============================] - 0s 6ms/step - loss: 0.0328 - accuracy: 0.9950 - val_loss: 0.8179 - val_accuracy: 0.7339\n",
      "Epoch 8/30\n",
      "63/63 [==============================] - 0s 6ms/step - loss: 0.0214 - accuracy: 0.9970 - val_loss: 0.8276 - val_accuracy: 0.7258\n",
      "Epoch 9/30\n",
      "63/63 [==============================] - 0s 6ms/step - loss: 0.0168 - accuracy: 0.9980 - val_loss: 0.8630 - val_accuracy: 0.7157\n",
      "Epoch 10/30\n",
      "63/63 [==============================] - 0s 6ms/step - loss: 0.0127 - accuracy: 0.9990 - val_loss: 0.8903 - val_accuracy: 0.7278\n",
      "Epoch 11/30\n",
      "63/63 [==============================] - 0s 6ms/step - loss: 0.0089 - accuracy: 0.9995 - val_loss: 0.9748 - val_accuracy: 0.7359\n"
     ]
    },
    {
     "data": {
      "image/png": "[encoded data removed]",
      "text/plain": [
       "<Figure size 600x400 with 2 Axes>"
      ]
     },
     "metadata": {},
     "output_type": "display_data"
    }
   ],
   "source": [
    "# Build the lstm model and specify the vectorizer\n",
    "rnn_model = build_rnn_model(sequence_vectorizer)\n",
    "\n",
    "# Defien number of epocs\n",
    "EPOCHS = 30\n",
    "# Fit the model\n",
    "history = rnn_model.fit(\n",
    "    train_ds,\n",
    "    epochs=EPOCHS,\n",
    "    validation_data=val_ds,\n",
    "    callbacks=get_callbacks(patience=5),\n",
    ")\n",
    "fn.evaluate.plot_history(history,figsize=(6,4))"
   ]
  },
  {
   "cell_type": "code",
   "execution_count": 89,
   "id": "fb74a307-abc8-4713-bc8f-44ca51062faf",
   "metadata": {
    "execution": {
     "iopub.execute_input": "2024-02-08T03:19:19.702609Z",
     "iopub.status.busy": "2024-02-08T03:19:19.702514Z",
     "iopub.status.idle": "2024-02-08T03:19:23.225827Z",
     "shell.execute_reply": "2024-02-08T03:19:23.225423Z",
     "shell.execute_reply.started": "2024-02-08T03:19:19.702601Z"
    }
   },
   "outputs": [
    {
     "name": "stdout",
     "output_type": "stream",
     "text": [
      "\n",
      "================================================================================\n",
      "- Evaluating Network...\n",
      "================================================================================\n",
      "----------------------------------------------------------------------\n",
      " Classification Metrics: Training Data\n",
      "----------------------------------------------------------------------\n",
      "              precision    recall  f1-score   support\n",
      "\n",
      "           0       1.00      1.00      1.00      1006\n",
      "           1       1.00      1.00      1.00      1006\n",
      "\n",
      "    accuracy                           1.00      2012\n",
      "   macro avg       1.00      1.00      1.00      2012\n",
      "weighted avg       1.00      1.00      1.00      2012\n",
      "\n"
     ]
    },
    {
     "data": {
      "image/png": "[encoded data removed]",
      "text/plain": [
       "<Figure size 600x400 with 2 Axes>"
      ]
     },
     "metadata": {},
     "output_type": "display_data"
    },
    {
     "name": "stdout",
     "output_type": "stream",
     "text": [
      "\n",
      "- Evaluating Training Data:\n",
      "63/63 [==============================] - 0s 1ms/step - loss: 0.0109 - accuracy: 0.9985\n",
      "{'loss': 0.010869856923818588, 'accuracy': 0.9985089302062988}\n",
      "----------------------------------------------------------------------\n",
      " Classification Metrics: Test Data\n",
      "----------------------------------------------------------------------\n",
      "              precision    recall  f1-score   support\n",
      "\n",
      "           0       0.78      0.75      0.76       275\n",
      "           1       0.70      0.73      0.72       221\n",
      "\n",
      "    accuracy                           0.74       496\n",
      "   macro avg       0.74      0.74      0.74       496\n",
      "weighted avg       0.74      0.74      0.74       496\n",
      "\n"
     ]
    },
    {
     "data": {
      "image/png": "[encoded data removed]",
      "text/plain": [
       "<Figure size 600x400 with 2 Axes>"
      ]
     },
     "metadata": {},
     "output_type": "display_data"
    },
    {
     "name": "stdout",
     "output_type": "stream",
     "text": [
      "\n",
      "- Evaluating Test Data:\n",
      "16/16 [==============================] - 0s 2ms/step - loss: 0.8965 - accuracy: 0.7419\n",
      "{'loss': 0.8964506387710571, 'accuracy': 0.7419354915618896}\n"
     ]
    }
   ],
   "source": [
    "# Obtain the results\n",
    "results = fn.evaluate.evaluate_classification_network(\n",
    "    rnn_model, X_train=train_ds, \n",
    "    X_test=test_ds,# history=history\n",
    ");"
   ]
  },
  {
   "cell_type": "markdown",
   "id": "4543406c-f744-4ff0-9625-041f01863b59",
   "metadata": {},
   "source": [
    "# APPENDIX - Save for Next Lecture"
   ]
  },
  {
   "cell_type": "code",
   "execution_count": 90,
   "id": "9126bbc1-6495-4fe8-8e00-dbd2fdb913c2",
   "metadata": {
    "execution": {
     "iopub.execute_input": "2024-02-08T03:19:23.226510Z",
     "iopub.status.busy": "2024-02-08T03:19:23.226415Z",
     "iopub.status.idle": "2024-02-08T03:19:23.228365Z",
     "shell.execute_reply": "2024-02-08T03:19:23.227965Z",
     "shell.execute_reply.started": "2024-02-08T03:19:23.226501Z"
    }
   },
   "outputs": [],
   "source": [
    "# raise Exception(\"Save for next lecture\")"
   ]
  },
  {
   "cell_type": "code",
   "execution_count": 91,
   "id": "8be57a84-b485-42c6-b580-f46ac5bd835b",
   "metadata": {
    "execution": {
     "iopub.execute_input": "2024-02-08T03:19:23.228912Z",
     "iopub.status.busy": "2024-02-08T03:19:23.228809Z",
     "iopub.status.idle": "2024-02-08T03:19:23.233490Z",
     "shell.execute_reply": "2024-02-08T03:19:23.233010Z",
     "shell.execute_reply.started": "2024-02-08T03:19:23.228903Z"
    }
   },
   "outputs": [
    {
     "data": {
      "text/plain": [
       "(5162, 100)"
      ]
     },
     "execution_count": 91,
     "metadata": {},
     "output_type": "execute_result"
    }
   ],
   "source": [
    "## TEMP/EXP - extract embedding matrix\n",
    "\n",
    "embedding_weights = rnn_model.layers[1].get_weights()[0]\n",
    "embedding_weights.shape"
   ]
  },
  {
   "cell_type": "markdown",
   "id": "b5507d21-5512-4835-b99c-d9c6cdac338c",
   "metadata": {},
   "source": [
    "> - Conceptual example of using the maximum value as final result.\n",
    "> - Relate to GlovalMaxPooling1D() layer"
   ]
  },
  {
   "cell_type": "code",
   "execution_count": 92,
   "id": "26bffeeb-9b97-4fb0-a428-f7daefbdde9f",
   "metadata": {
    "execution": {
     "iopub.execute_input": "2024-02-08T03:19:23.235403Z",
     "iopub.status.busy": "2024-02-08T03:19:23.235259Z",
     "iopub.status.idle": "2024-02-08T03:19:23.238734Z",
     "shell.execute_reply": "2024-02-08T03:19:23.238246Z",
     "shell.execute_reply.started": "2024-02-08T03:19:23.235391Z"
    }
   },
   "outputs": [
    {
     "name": "stdout",
     "output_type": "stream",
     "text": [
      "(20,)\n"
     ]
    },
    {
     "data": {
      "text/plain": [
       "array([0.00170036, 0.00636358, 0.00422785, 0.0432061 , 0.04545214,\n",
       "       0.00953519, 0.03622821, 0.04971505, 0.01225194, 0.02158299,\n",
       "       0.02787178, 0.04725314, 0.01157136, 0.00900253, 0.02913921,\n",
       "       0.03661792, 0.03127159, 0.01115788, 0.0428837 , 0.03408468],\n",
       "      dtype=float32)"
      ]
     },
     "execution_count": 92,
     "metadata": {},
     "output_type": "execute_result"
    }
   ],
   "source": [
    "# Saving the MAX values (relate to GlobalMaxPooling)\n",
    "max_vector = np.max((vector_dict['hate'], vector_dict['love'] ,vector_dict['vacuum']), axis=0)\n",
    "print(max_vector.shape)\n",
    "max_vector"
   ]
  },
  {
   "cell_type": "code",
   "execution_count": 93,
   "id": "32d43288-b4bb-4145-a6ad-cb7efe7b5bfb",
   "metadata": {
    "execution": {
     "iopub.execute_input": "2024-02-08T03:19:23.239558Z",
     "iopub.status.busy": "2024-02-08T03:19:23.239428Z",
     "iopub.status.idle": "2024-02-08T03:19:23.243911Z",
     "shell.execute_reply": "2024-02-08T03:19:23.243434Z",
     "shell.execute_reply.started": "2024-02-08T03:19:23.239548Z"
    }
   },
   "outputs": [
    {
     "name": "stdout",
     "output_type": "stream",
     "text": [
      "(20,)\n"
     ]
    },
    {
     "data": {
      "text/plain": [
       "array([-0.02835894, -0.02185575, -0.01894971,  0.02314247,  0.03797964,\n",
       "       -0.00679046,  0.01399956, -0.00400156, -0.01445905, -0.00803309,\n",
       "        0.01629478,  0.00848953, -0.02490254, -0.01312889, -0.00553736,\n",
       "       -0.01723934,  0.00862554, -0.01132868,  0.0098577 , -0.01330624],\n",
       "      dtype=float32)"
      ]
     },
     "execution_count": 93,
     "metadata": {},
     "output_type": "execute_result"
    }
   ],
   "source": [
    "# Saving the Average values (relate to GlobalMaxPooling)\n",
    "avg_vector = np.mean((vector_dict['hate'], vector_dict['love'] ,vector_dict['vacuum']), axis=0)\n",
    "print(avg_vector.shape)\n",
    "avg_vector"
   ]
  },
  {
   "cell_type": "code",
   "execution_count": null,
   "id": "eb1d4c28-6334-4cfd-aa18-b05044c321e7",
   "metadata": {},
   "outputs": [],
   "source": []
  }
 ],
 "metadata": {
  "kernelspec": {
   "display_name": "Python (dojo-env)",
   "language": "python",
   "name": "dojo-env"
  },
  "language_info": {
   "codemirror_mode": {
    "name": "ipython",
    "version": 3
   },
   "file_extension": ".py",
   "mimetype": "text/x-python",
   "name": "python",
   "nbconvert_exporter": "python",
   "pygments_lexer": "ipython3",
   "version": "3.10.10"
  }
 },
 "nbformat": 4,
 "nbformat_minor": 5
}
