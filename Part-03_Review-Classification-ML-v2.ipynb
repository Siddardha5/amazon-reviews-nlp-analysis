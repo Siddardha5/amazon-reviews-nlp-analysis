{
 "cells": [
  {
   "cell_type": "markdown",
   "id": "99451153-2415-4ec0-836f-a50c92f89e48",
   "metadata": {},
   "source": [
    "# Part 03: Review Classification (Machine Learning)\n"
   ]
  },
  {
   "cell_type": "markdown",
   "id": "765a91fe-74d7-4e97-a7ee-55a0ef0c7a14",
   "metadata": {},
   "source": [
    "## Introduction \n",
    "\n",
    "In this notebook, we apply machine learning techniques to classify Amazon reviews for the \"Miracle Noodle Zero Carb, Gluten Free Shirataki Pasta, Spinach Angel Hair\" product into high and low sentiment categories. By building and evaluating various machine learning models, we aim to develop an accurate classifier that can predict the sentiment of future reviews.\n",
    "\n",
    "#### Objectives\n",
    "\n",
    "1. **Load and Explore Data**:\n",
    "   - Load the processed reviews and metadata from a JSON file.\n",
    "   - Perform exploratory data analysis to understand the structure and characteristics of the dataset.\n",
    "\n",
    "2. **Analyze Review Length**:\n",
    "   - Compare the length of reviews between high and low sentiment categories.\n",
    "   - Visualize the differences using bar plots.\n",
    "\n",
    "3. **Prepare Data for Modeling**:\n",
    "   - Split the dataset into training, validation, and test sets.\n",
    "   - Encode target labels into numerical values.\n",
    "   - Ensure class balance by performing under-sampling if necessary.\n",
    "\n",
    "4. **Train and Evaluate Models**:\n",
    "   - Train several machine learning models, including Naive Bayes, Logistic Regression, Random Forest, and SVC.\n",
    "   - Perform hyperparameter tuning using GridSearchCV to find the best parameters for each model.\n",
    "   - Evaluate models using classification metrics and confusion matrices.\n",
    "\n",
    "5. **Save the Best Model**:\n",
    "   - Save the best-performing model for future use and deployment in a Streamlit app.\n",
    "\n",
    "By the end of this notebook, we will have an effective machine learning classifier capable of predicting the sentiment of Amazon reviews. This classifier will help in understanding customer opinions and improving product features based on sentiment analysis.\n"
   ]
  },
  {
   "cell_type": "code",
   "execution_count": null,
   "id": "47426705-b6f3-47da-9356-5cbf2fa2cbd6",
   "metadata": {
    "execution": {
     "iopub.execute_input": "2024-02-12T01:18:17.344316Z",
     "iopub.status.busy": "2024-02-12T01:18:17.339686Z",
     "iopub.status.idle": "2024-02-12T01:18:17.363602Z",
     "shell.execute_reply": "2024-02-12T01:18:17.363191Z",
     "shell.execute_reply.started": "2024-02-12T01:18:17.344253Z"
    }
   },
   "outputs": [],
   "source": [
    "from IPython.display import display, Markdown\n",
    "with open(\"data/Amazon Product Reviews.md\") as f:\n",
    "    info = f.read()\n",
    "\n",
    "display(Markdown(info))"
   ]
  },
  {
   "cell_type": "markdown",
   "id": "ed38e7ae-4cb5-41b0-a32e-21d788940a15",
   "metadata": {},
   "source": [
    "# Loading Imports"
   ]
  },
  {
   "cell_type": "code",
   "execution_count": null,
   "id": "61e6bf71",
   "metadata": {},
   "outputs": [],
   "source": [
    "# !pip install wordcloud"
   ]
  },
  {
   "cell_type": "code",
   "execution_count": null,
   "id": "1d319495-f696-425a-ad7a-735f0bc939cd",
   "metadata": {
    "execution": {
     "iopub.execute_input": "2024-02-12T01:18:17.364887Z",
     "iopub.status.busy": "2024-02-12T01:18:17.364677Z",
     "iopub.status.idle": "2024-02-12T01:18:18.955955Z",
     "shell.execute_reply": "2024-02-12T01:18:18.955624Z",
     "shell.execute_reply.started": "2024-02-12T01:18:17.364877Z"
    }
   },
   "outputs": [],
   "source": [
    "import matplotlib.pyplot as plt\n",
    "import missingno\n",
    "import matplotlib as mpl\n",
    "import seaborn as sns\n",
    "import numpy as np\n",
    "import pandas as pd\n",
    "import os, json, joblib\n",
    "from pprint import pprint\n",
    "pd.set_option(\"display.max_columns\",50)\n",
    "from nltk.probability import FreqDist\n",
    "from wordcloud import WordCloud\n",
    "pd.set_option('display.max_colwidth', 200)"
   ]
  },
  {
   "cell_type": "code",
   "execution_count": null,
   "id": "53134f74-23ea-4efc-afcb-886160082dee",
   "metadata": {
    "execution": {
     "iopub.execute_input": "2024-02-12T01:18:18.956512Z",
     "iopub.status.busy": "2024-02-12T01:18:18.956369Z",
     "iopub.status.idle": "2024-02-12T01:18:21.899719Z",
     "shell.execute_reply": "2024-02-12T01:18:21.899391Z",
     "shell.execute_reply.started": "2024-02-12T01:18:18.956503Z"
    }
   },
   "outputs": [],
   "source": [
    "!pip install -U dojo_ds -q\n",
    "import dojo_ds as ds\n",
    "# ds.__version__"
   ]
  },
  {
   "cell_type": "markdown",
   "id": "3c606ed8-8b5e-4fbe-b999-84da1c26f51e",
   "metadata": {},
   "source": [
    "# Import Processed Data\n",
    "\n",
    "We created several versions of our text in the previous lecture.  We will load those again to use for analysis and classification"
   ]
  },
  {
   "cell_type": "code",
   "execution_count": null,
   "id": "10be369f-da98-4b19-ab0b-cded726b68e1",
   "metadata": {
    "execution": {
     "iopub.execute_input": "2024-02-12T01:18:21.900429Z",
     "iopub.status.busy": "2024-02-12T01:18:21.900316Z",
     "iopub.status.idle": "2024-02-12T01:18:21.903292Z",
     "shell.execute_reply": "2024-02-12T01:18:21.903023Z",
     "shell.execute_reply.started": "2024-02-12T01:18:21.900420Z"
    }
   },
   "outputs": [],
   "source": [
    "FPATHS_FILE = \"config/filepaths.json\"\n",
    "import json\n",
    "with open(FPATHS_FILE) as f:\n",
    "    FPATHS = json.load(f)\n",
    "FPATHS.keys()"
   ]
  },
  {
   "cell_type": "code",
   "execution_count": null,
   "id": "d7385058-4e4d-4690-b7a3-3b7ef9a9a7c1",
   "metadata": {
    "execution": {
     "iopub.execute_input": "2024-02-12T01:18:21.904625Z",
     "iopub.status.busy": "2024-02-12T01:18:21.904504Z",
     "iopub.status.idle": "2024-02-12T01:18:21.907858Z",
     "shell.execute_reply": "2024-02-12T01:18:21.907476Z",
     "shell.execute_reply.started": "2024-02-12T01:18:21.904614Z"
    }
   },
   "outputs": [],
   "source": [
    "fpath_json = FPATHS['data']['processed-nlp']['processed-reviews-with-target_json']\n",
    "fpath_json"
   ]
  },
  {
   "cell_type": "code",
   "execution_count": null,
   "id": "77acaf44-29d5-402d-a64e-9f2aaee6f99f",
   "metadata": {
    "execution": {
     "iopub.execute_input": "2024-02-12T01:18:21.908706Z",
     "iopub.status.busy": "2024-02-12T01:18:21.908588Z",
     "iopub.status.idle": "2024-02-12T01:18:21.996727Z",
     "shell.execute_reply": "2024-02-12T01:18:21.996424Z",
     "shell.execute_reply.started": "2024-02-12T01:18:21.908697Z"
    }
   },
   "outputs": [],
   "source": [
    "\n",
    "df = pd.read_json(fpath_json)#joblib.load('data/processed/processed-reviews.joblib')\n",
    "df.info()\n",
    "df.head()"
   ]
  },
  {
   "cell_type": "markdown",
   "id": "d1b92a22-cb32-45e8-bcd9-d9d7f1d85be2",
   "metadata": {},
   "source": [
    "## Classification Target"
   ]
  },
  {
   "cell_type": "code",
   "execution_count": null,
   "id": "d3166ee4-985c-4b95-ac9b-ba4f27ab5b77",
   "metadata": {
    "execution": {
     "iopub.execute_input": "2024-02-12T01:18:21.997360Z",
     "iopub.status.busy": "2024-02-12T01:18:21.997237Z",
     "iopub.status.idle": "2024-02-12T01:18:21.999322Z",
     "shell.execute_reply": "2024-02-12T01:18:21.998868Z",
     "shell.execute_reply.started": "2024-02-12T01:18:21.997347Z"
    }
   },
   "outputs": [],
   "source": [
    "# sns.histplot"
   ]
  },
  {
   "cell_type": "code",
   "execution_count": null,
   "id": "34301094-73eb-4cba-8f28-aeaa10e7a6b9",
   "metadata": {
    "execution": {
     "iopub.execute_input": "2024-02-12T01:18:21.999928Z",
     "iopub.status.busy": "2024-02-12T01:18:21.999810Z",
     "iopub.status.idle": "2024-02-12T01:18:22.003495Z",
     "shell.execute_reply": "2024-02-12T01:18:22.003192Z",
     "shell.execute_reply.started": "2024-02-12T01:18:21.999919Z"
    }
   },
   "outputs": [],
   "source": [
    "# Checking what values are in the overall ratings\n",
    "df['target-rating'].value_counts(1)"
   ]
  },
  {
   "cell_type": "code",
   "execution_count": null,
   "id": "e90db8c8-05b7-45ab-b23c-6e702e488a69",
   "metadata": {
    "execution": {
     "iopub.execute_input": "2024-02-12T01:18:22.004211Z",
     "iopub.status.busy": "2024-02-12T01:18:22.004104Z",
     "iopub.status.idle": "2024-02-12T01:18:22.006426Z",
     "shell.execute_reply": "2024-02-12T01:18:22.005915Z",
     "shell.execute_reply.started": "2024-02-12T01:18:22.004201Z"
    }
   },
   "outputs": [],
   "source": [
    "# # Should return nothing\n",
    "# create_groups(4.9)"
   ]
  },
  {
   "cell_type": "code",
   "execution_count": null,
   "id": "adbc11e7-2f1b-4b62-b3b8-b9bfc706abe1",
   "metadata": {
    "execution": {
     "iopub.execute_input": "2024-02-12T01:18:22.007205Z",
     "iopub.status.busy": "2024-02-12T01:18:22.007084Z",
     "iopub.status.idle": "2024-02-12T01:18:22.009416Z",
     "shell.execute_reply": "2024-02-12T01:18:22.009103Z",
     "shell.execute_reply.started": "2024-02-12T01:18:22.007194Z"
    }
   },
   "outputs": [],
   "source": [
    "# ## Use the function to create a new \"rating\" column with groups\n",
    "# df['rating'] = df['overall'].map(create_groups)\n",
    "# df['rating'].value_counts(dropna=False)"
   ]
  },
  {
   "cell_type": "code",
   "execution_count": null,
   "id": "356b5c2d-3e9f-4827-b8e6-b5dbdaf9e98c",
   "metadata": {
    "execution": {
     "iopub.execute_input": "2024-02-12T01:18:22.010130Z",
     "iopub.status.busy": "2024-02-12T01:18:22.009957Z",
     "iopub.status.idle": "2024-02-12T01:18:22.011870Z",
     "shell.execute_reply": "2024-02-12T01:18:22.011517Z",
     "shell.execute_reply.started": "2024-02-12T01:18:22.010116Z"
    }
   },
   "outputs": [],
   "source": [
    "# # target_map = {1.0:'low',\n",
    "# #              2.0:'low',\n",
    "# #               # 3.0:'mid',\n",
    "# #               # 4.0:'high',\n",
    "# #              5.0:'high'}\n",
    "# df['rating'] = df['overall'].map(create_target)\n",
    "# df['rating'].value_counts(dropna=False)"
   ]
  },
  {
   "cell_type": "markdown",
   "id": "27dd4eed-7019-4267-aa1a-bf72dc384b0c",
   "metadata": {},
   "source": [
    "### Class Balance\n",
    "\n",
    "It's always a good idea to check the class balance when creating a classification model.  This can affect modeling bias and interpretation of metrics."
   ]
  },
  {
   "cell_type": "code",
   "execution_count": null,
   "id": "bfefec24-1e48-44a4-ba03-36b8960d124b",
   "metadata": {
    "execution": {
     "iopub.execute_input": "2024-02-12T01:18:22.012572Z",
     "iopub.status.busy": "2024-02-12T01:18:22.012441Z",
     "iopub.status.idle": "2024-02-12T01:18:22.016167Z",
     "shell.execute_reply": "2024-02-12T01:18:22.015578Z",
     "shell.execute_reply.started": "2024-02-12T01:18:22.012562Z"
    }
   },
   "outputs": [],
   "source": [
    "## Check class balance of 'rating'\n",
    "df['target-rating'].value_counts(normalize=True)"
   ]
  },
  {
   "cell_type": "markdown",
   "id": "ca5ba79b-5eb7-4361-b460-8d2c4ac0457c",
   "metadata": {},
   "source": [
    "There are more neutral Ratings any any other class, but high and low Ratings are pretty balanced."
   ]
  },
  {
   "cell_type": "markdown",
   "id": "094d71cf-6d27-45e6-88b4-2cd36cc79fd8",
   "metadata": {},
   "source": [
    "### Length\n",
    "\n",
    "One easy way to compare text is to compare the length of each text.  We could compare the number of character or tokens.  In this case we will compare the number of characters in each Rating for each sentiment."
   ]
  },
  {
   "cell_type": "code",
   "execution_count": null,
   "id": "fd2bd859-c4c7-469a-a26d-b828a1826dde",
   "metadata": {
    "execution": {
     "iopub.execute_input": "2024-02-12T01:18:22.017005Z",
     "iopub.status.busy": "2024-02-12T01:18:22.016836Z",
     "iopub.status.idle": "2024-02-12T01:18:22.028137Z",
     "shell.execute_reply": "2024-02-12T01:18:22.027530Z",
     "shell.execute_reply.started": "2024-02-12T01:18:22.016984Z"
    }
   },
   "outputs": [],
   "source": [
    "df['length'] = df['review-text-full'].map(lambda x: len(x.split(\" \")))"
   ]
  },
  {
   "cell_type": "code",
   "execution_count": null,
   "id": "ea688893-9382-4afe-96ff-608ac821c7e8",
   "metadata": {
    "execution": {
     "iopub.execute_input": "2024-02-12T01:18:22.033299Z",
     "iopub.status.busy": "2024-02-12T01:18:22.033026Z",
     "iopub.status.idle": "2024-02-12T01:18:22.129592Z",
     "shell.execute_reply": "2024-02-12T01:18:22.129013Z",
     "shell.execute_reply.started": "2024-02-12T01:18:22.033276Z"
    }
   },
   "outputs": [],
   "source": [
    "## visualize median review length\n",
    "# high_len = high['length'].median()\n",
    "# low_len = low['length'].median()\n",
    "\n",
    "ax = sns.barplot(data=df, x='target-rating',\n",
    "                 y='length', errorbar=('ci',68),#estimator='median',\n",
    "                );\n",
    "\n",
    "# Show plot before print statement\n",
    "plt.show()\n",
    "# print(f' The median character length for {low_len} for low Ratings and {high_len} for high ratings.')\n",
    "\n",
    "# Save figure\n",
    "fig = ax.get_figure()"
   ]
  },
  {
   "cell_type": "markdown",
   "id": "428d9e3d-c10c-4ca2-b5f7-348c4004e9b2",
   "metadata": {},
   "source": [
    "> - ***Add saving image length to Part 00 config***"
   ]
  },
  {
   "cell_type": "code",
   "execution_count": null,
   "id": "68e41fd2-bd61-496e-8a1d-c4265aded77f",
   "metadata": {
    "execution": {
     "iopub.execute_input": "2024-02-12T01:18:22.130764Z",
     "iopub.status.busy": "2024-02-12T01:18:22.130425Z",
     "iopub.status.idle": "2024-02-12T01:18:22.133077Z",
     "shell.execute_reply": "2024-02-12T01:18:22.132549Z",
     "shell.execute_reply.started": "2024-02-12T01:18:22.130733Z"
    }
   },
   "outputs": [],
   "source": [
    "# # Create a folder for images\n",
    "# import os\n",
    "# os.makedirs(\"images/\", exist_ok=True)\n",
    "\n",
    "# fig.savefig('images/barplot-compare-lengths.png', transparent=False, dpi=300, bbox_inches='tight')"
   ]
  },
  {
   "cell_type": "markdown",
   "id": "db3682fe-8a3b-4977-a047-29c162907336",
   "metadata": {},
   "source": [
    "We aren't seeing a big difference here in the lengths of Ratings.  Both high and low seem to averag about 70 characters.  Neutral Ratings seem to be somewhat shorter on average."
   ]
  },
  {
   "cell_type": "markdown",
   "id": "07bf0d57-fb2e-4866-a4ef-731edd72cfbf",
   "metadata": {},
   "source": [
    "These are more informative!  We see words like 'good', 'love', 'hope', 'great', and 'nice' in the highs and 'miss', 'work', 'sad', 'bad', and 'hate' in lows.\n",
    "\n",
    "While this may not be surprising with high and low sentiments, if we were classifying other kinds of text, like spam emails or patent applications, it could be very enlightening!"
   ]
  },
  {
   "cell_type": "markdown",
   "id": "4f04d25d-336e-425b-947b-a3fe1eb79ea9",
   "metadata": {},
   "source": [
    "## Preparing Data for Modeling\n"
   ]
  },
  {
   "cell_type": "code",
   "execution_count": null,
   "id": "872785c7-86de-44f8-99b5-d38c0d62cb27",
   "metadata": {
    "execution": {
     "iopub.execute_input": "2024-02-12T01:18:22.134261Z",
     "iopub.status.busy": "2024-02-12T01:18:22.133831Z",
     "iopub.status.idle": "2024-02-12T01:18:22.235602Z",
     "shell.execute_reply": "2024-02-12T01:18:22.235230Z",
     "shell.execute_reply.started": "2024-02-12T01:18:22.134242Z"
    }
   },
   "outputs": [],
   "source": [
    "## Import Modeling Package\n",
    "import numpy as np\n",
    "from sklearn.feature_extraction.text import CountVectorizer, TfidfVectorizer\n",
    "from sklearn.pipeline import Pipeline\n",
    "from sklearn.naive_bayes import MultinomialNB\n",
    "from sklearn.metrics import classification_report, ConfusionMatrixDisplay\n",
    "from sklearn.model_selection import train_test_split, GridSearchCV\n",
    "from sklearn.ensemble import RandomForestClassifier\n",
    "from sklearn.linear_model import LogisticRegression, LogisticRegressionCV"
   ]
  },
  {
   "cell_type": "markdown",
   "id": "9616cb97-93b1-4dba-b49a-a2da3aafddca",
   "metadata": {},
   "source": [
    "### Train Test Split\n",
    "We created null values in our target column, so we will drop the null values from the rating column before making our X and y data."
   ]
  },
  {
   "cell_type": "code",
   "execution_count": null,
   "id": "6f6a62a4-7534-44fe-bc21-d2a0b04669ca",
   "metadata": {
    "execution": {
     "iopub.execute_input": "2024-02-12T01:18:22.236206Z",
     "iopub.status.busy": "2024-02-12T01:18:22.236105Z",
     "iopub.status.idle": "2024-02-12T01:18:22.248330Z",
     "shell.execute_reply": "2024-02-12T01:18:22.247945Z",
     "shell.execute_reply.started": "2024-02-12T01:18:22.236196Z"
    }
   },
   "outputs": [],
   "source": [
    "# Create a df_ml without null ratings\n",
    "df_ml = df.dropna(subset=['target-rating'])\n",
    "df_ml.isna().sum()"
   ]
  },
  {
   "cell_type": "code",
   "execution_count": null,
   "id": "07a11844-679c-4802-bb3d-abb144725935",
   "metadata": {
    "execution": {
     "iopub.execute_input": "2024-02-12T01:18:22.249230Z",
     "iopub.status.busy": "2024-02-12T01:18:22.249110Z",
     "iopub.status.idle": "2024-02-12T01:18:22.254374Z",
     "shell.execute_reply": "2024-02-12T01:18:22.253855Z",
     "shell.execute_reply.started": "2024-02-12T01:18:22.249220Z"
    }
   },
   "outputs": [],
   "source": [
    "## X - Option A)  lemmas\n",
    "# def join_tokens(token_list):\n",
    "#     joined_tokens = ' '.join(token_list)\n",
    "#     return joined_tokens\n",
    "# X = df_ml['spacy_lemmas'].apply(join_tokens)\n",
    "\n",
    "# X - Option B) original raw text\n",
    "X = df_ml['review-text-full']\n",
    "\n",
    "# y - use our binary target \n",
    "y = df_ml['target-rating']\n",
    "X.head(10)"
   ]
  },
  {
   "cell_type": "code",
   "execution_count": null,
   "id": "f0458b05-f6b6-4b9e-a931-125a220c3791",
   "metadata": {
    "execution": {
     "iopub.execute_input": "2024-02-12T01:18:22.255420Z",
     "iopub.status.busy": "2024-02-12T01:18:22.255287Z",
     "iopub.status.idle": "2024-02-12T01:18:22.259798Z",
     "shell.execute_reply": "2024-02-12T01:18:22.259105Z",
     "shell.execute_reply.started": "2024-02-12T01:18:22.255410Z"
    }
   },
   "outputs": [],
   "source": [
    "y.value_counts(normalize=True)"
   ]
  },
  {
   "cell_type": "markdown",
   "id": "15a21aa9-8a69-43d1-8132-103942f93023",
   "metadata": {},
   "source": [
    "### Validation Split\n",
    "\n",
    "We will perform a triple split.  That way we can tune our model to a validation set and test the final version on a test set.  This avoid tuning our model to specifically perform well on just one set of testing data and gives us a better idea of how our model will perform on new data."
   ]
  },
  {
   "cell_type": "code",
   "execution_count": null,
   "id": "78f42d22-51aa-426b-971b-db7cccbd45d8",
   "metadata": {
    "execution": {
     "iopub.execute_input": "2024-02-12T01:18:22.260856Z",
     "iopub.status.busy": "2024-02-12T01:18:22.260427Z",
     "iopub.status.idle": "2024-02-12T01:18:22.266233Z",
     "shell.execute_reply": "2024-02-12T01:18:22.265619Z",
     "shell.execute_reply.started": "2024-02-12T01:18:22.260839Z"
    }
   },
   "outputs": [],
   "source": [
    "## Train test split\n",
    "X_train_full, X_test, y_train_names_full, y_test_names = train_test_split(X,y,test_size=0.25,\n",
    "                                                    random_state=321)\n",
    "X_train_full.head()"
   ]
  },
  {
   "cell_type": "markdown",
   "id": "d90211e1-4400-4101-9395-2ec34917aa8c",
   "metadata": {},
   "source": [
    "- Using 70% of data as train, 15% as test and 15 % as val (will use in deep nlp codealongs next class)"
   ]
  },
  {
   "cell_type": "code",
   "execution_count": null,
   "id": "a40aadb0-6649-4b02-aab4-bb6d982242f2",
   "metadata": {
    "execution": {
     "iopub.execute_input": "2024-02-12T01:18:22.267153Z",
     "iopub.status.busy": "2024-02-12T01:18:22.266888Z",
     "iopub.status.idle": "2024-02-12T01:18:22.269349Z",
     "shell.execute_reply": "2024-02-12T01:18:22.268978Z",
     "shell.execute_reply.started": "2024-02-12T01:18:22.267137Z"
    }
   },
   "outputs": [],
   "source": [
    "# ## Split data into train, test, val\n",
    "# X_train_full, X_test, y_train_full, y_test = train_test_split(X, y, test_size=.3, random_state=42)\n",
    "# X_val, X_test, y_val, y_test = train_test_split(X_test, y_test, test_size=.5, random_state=42)\n",
    "# (len(X_train_full), len(X_val), len(X_test))"
   ]
  },
  {
   "cell_type": "code",
   "execution_count": null,
   "id": "fd591859-b956-4d91-adcc-e50e9936f564",
   "metadata": {
    "execution": {
     "iopub.execute_input": "2024-02-12T01:18:22.270505Z",
     "iopub.status.busy": "2024-02-12T01:18:22.270289Z",
     "iopub.status.idle": "2024-02-12T01:18:22.274434Z",
     "shell.execute_reply": "2024-02-12T01:18:22.274045Z",
     "shell.execute_reply.started": "2024-02-12T01:18:22.270489Z"
    }
   },
   "outputs": [],
   "source": [
    "# Check class balance\n",
    "y_train_names_full.value_counts(normalize=True)"
   ]
  },
  {
   "cell_type": "markdown",
   "id": "62200b51-2133-454d-88c0-c65096457418",
   "metadata": {},
   "source": [
    "### Label Encoding"
   ]
  },
  {
   "cell_type": "code",
   "execution_count": null,
   "id": "54874251-7477-41ad-ae63-af2c1ee1ea07",
   "metadata": {
    "execution": {
     "iopub.execute_input": "2024-02-12T01:18:22.275175Z",
     "iopub.status.busy": "2024-02-12T01:18:22.275079Z",
     "iopub.status.idle": "2024-02-12T01:18:22.280327Z",
     "shell.execute_reply": "2024-02-12T01:18:22.279842Z",
     "shell.execute_reply.started": "2024-02-12T01:18:22.275166Z"
    }
   },
   "outputs": [],
   "source": [
    "from sklearn.preprocessing import LabelEncoder\n",
    "\n",
    "# Instansiate label encoder\n",
    "encoder = LabelEncoder()\n",
    "\n",
    "# Fit and transform the training target\n",
    "y_train_full = pd.Series(encoder.fit_transform(y_train_names_full), \n",
    "                    index=y_train_names_full.index, \n",
    "                    name=y_train_names_full.name)\n",
    "\n",
    "# Fit and tranform the test target\n",
    "y_test = pd.Series(encoder.transform(y_test_names), index=y_test_names.index, \n",
    "                    name=y_test_names.name)\n",
    "\n",
    "y_train_names_full[:10]"
   ]
  },
  {
   "cell_type": "code",
   "execution_count": null,
   "id": "8eb42af6-263d-461e-a23c-d35114d468b9",
   "metadata": {
    "execution": {
     "iopub.execute_input": "2024-02-12T01:18:22.281264Z",
     "iopub.status.busy": "2024-02-12T01:18:22.281029Z",
     "iopub.status.idle": "2024-02-12T01:18:22.286323Z",
     "shell.execute_reply": "2024-02-12T01:18:22.285801Z",
     "shell.execute_reply.started": "2024-02-12T01:18:22.281227Z"
    }
   },
   "outputs": [],
   "source": [
    "import joblib\n",
    "# Save Label encoder\n",
    "fpath_encoder = FPATHS['metadata']['label_encoder_joblib']\n",
    "joblib.dump( encoder,fpath_encoder)"
   ]
  },
  {
   "cell_type": "code",
   "execution_count": null,
   "id": "b6506833-bd3d-4fc5-9b32-dcb610e5f674",
   "metadata": {
    "execution": {
     "iopub.execute_input": "2024-02-12T01:18:22.287652Z",
     "iopub.status.busy": "2024-02-12T01:18:22.287207Z",
     "iopub.status.idle": "2024-02-12T01:18:22.291650Z",
     "shell.execute_reply": "2024-02-12T01:18:22.291310Z",
     "shell.execute_reply.started": "2024-02-12T01:18:22.287638Z"
    }
   },
   "outputs": [],
   "source": [
    "y_train_full.value_counts(1)"
   ]
  },
  {
   "cell_type": "markdown",
   "id": "722f8a28-f6fe-4600-84ec-7868cdd6655e",
   "metadata": {},
   "source": [
    "### ~~Under-Sampling Majority Group~~"
   ]
  },
  {
   "cell_type": "markdown",
   "id": "7ac3b15e-1cc3-4f30-8f1d-e198c5bfab6e",
   "metadata": {},
   "source": [
    "~~We have a very imbalanced dataset. We will take a small sample from the majority class to match the number of reviews for the minority group.~~"
   ]
  },
  {
   "cell_type": "code",
   "execution_count": null,
   "id": "9fb1f305-7b70-49e4-95dd-bf1fc5f7a9a3",
   "metadata": {
    "execution": {
     "iopub.execute_input": "2024-02-12T01:18:22.292451Z",
     "iopub.status.busy": "2024-02-12T01:18:22.292291Z",
     "iopub.status.idle": "2024-02-12T01:18:22.294549Z",
     "shell.execute_reply": "2024-02-12T01:18:22.294130Z",
     "shell.execute_reply.started": "2024-02-12T01:18:22.292436Z"
    }
   },
   "outputs": [],
   "source": [
    "# from imblearn.under_sampling import RandomUnderSampler"
   ]
  },
  {
   "cell_type": "code",
   "execution_count": null,
   "id": "acb650b1-5488-4357-aea8-2403d2dc9109",
   "metadata": {
    "execution": {
     "iopub.execute_input": "2024-02-12T01:18:22.295255Z",
     "iopub.status.busy": "2024-02-12T01:18:22.295119Z",
     "iopub.status.idle": "2024-02-12T01:18:22.297688Z",
     "shell.execute_reply": "2024-02-12T01:18:22.297210Z",
     "shell.execute_reply.started": "2024-02-12T01:18:22.295245Z"
    }
   },
   "outputs": [],
   "source": [
    "# X_train_full#.values.reshape(-1,1)"
   ]
  },
  {
   "cell_type": "code",
   "execution_count": null,
   "id": "47c694e9-20c6-4f53-b7fb-9e064d504c1f",
   "metadata": {
    "execution": {
     "iopub.execute_input": "2024-02-12T01:18:22.298621Z",
     "iopub.status.busy": "2024-02-12T01:18:22.298421Z",
     "iopub.status.idle": "2024-02-12T01:18:22.301617Z",
     "shell.execute_reply": "2024-02-12T01:18:22.301057Z",
     "shell.execute_reply.started": "2024-02-12T01:18:22.298606Z"
    }
   },
   "outputs": [],
   "source": [
    "# # Instantiate a RandomUnderSampler\n",
    "# sampler = RandomUnderSampler(random_state=42)\n",
    "\n",
    "# # Fit_resample on the reshaped X_train data and y-train data\n",
    "# X_train, y_train = sampler.fit_resample(X_train_full.values.reshape(-1,1),y_train_full)\n",
    "\n",
    "# # Flatten the reshaped X_train data back to 1D\n",
    "# X_train = X_train.flatten()\n",
    "\n",
    "# # Check for class balance\n",
    "# y_train.value_counts()"
   ]
  },
  {
   "cell_type": "code",
   "execution_count": null,
   "id": "28bdb7be-eaa6-477f-b58c-026277da075d",
   "metadata": {
    "execution": {
     "iopub.execute_input": "2024-02-12T01:18:22.302587Z",
     "iopub.status.busy": "2024-02-12T01:18:22.302459Z",
     "iopub.status.idle": "2024-02-12T01:18:22.305302Z",
     "shell.execute_reply": "2024-02-12T01:18:22.304536Z",
     "shell.execute_reply.started": "2024-02-12T01:18:22.302576Z"
    }
   },
   "outputs": [],
   "source": [
    "y_train = y_train_full\n",
    "X_train = X_train_full"
   ]
  },
  {
   "cell_type": "markdown",
   "id": "8b482eec-339f-43e7-8848-04eb95baa7c0",
   "metadata": {},
   "source": [
    "### Saving training and test data for re-use with ANNs"
   ]
  },
  {
   "cell_type": "code",
   "execution_count": null,
   "id": "42e1f375-e78e-498c-9485-de8251264f33",
   "metadata": {
    "execution": {
     "iopub.execute_input": "2024-02-12T01:18:22.307129Z",
     "iopub.status.busy": "2024-02-12T01:18:22.306595Z",
     "iopub.status.idle": "2024-02-12T01:18:22.318515Z",
     "shell.execute_reply": "2024-02-12T01:18:22.318063Z",
     "shell.execute_reply.started": "2024-02-12T01:18:22.307114Z"
    }
   },
   "outputs": [],
   "source": [
    "\n",
    "# Save training data\n",
    "fpath_train_joblib = FPATHS['data']['ml-nlp']['train_joblib']\n",
    "print(fpath_train_joblib)\n",
    "joblib.dump([X_train, y_train],fpath_train_joblib)\n",
    "\n",
    "# Save test data\n",
    "fpath_test_joblib = FPATHS['data']['ml-nlp']['test_joblib']\n",
    "print(fpath_test_joblib)\n",
    "joblib.dump([X_test, y_test],fpath_test_joblib)\n"
   ]
  },
  {
   "cell_type": "markdown",
   "id": "8289a2fd-3ccc-49f8-bd8f-d4d198002828",
   "metadata": {},
   "source": [
    "# Modeling\n"
   ]
  },
  {
   "cell_type": "markdown",
   "id": "51ed8cc1",
   "metadata": {},
   "source": [
    "**Models to Try:**\n",
    "- Dummy Classifer (Baseline)\n",
    "- Multinomial Naive Bayes \n",
    "- Random Forest\n",
    "- Logistic Regression\n",
    "- SVC"
   ]
  },
  {
   "cell_type": "markdown",
   "id": "126b4317-b01f-4f54-a38f-1723dd20684b",
   "metadata": {},
   "source": [
    "## DummyClassifier"
   ]
  },
  {
   "cell_type": "code",
   "execution_count": null,
   "id": "3b04158d-018e-49d1-adc6-84f06a41fcb9",
   "metadata": {
    "execution": {
     "iopub.execute_input": "2024-02-12T01:18:22.319188Z",
     "iopub.status.busy": "2024-02-12T01:18:22.319064Z",
     "iopub.status.idle": "2024-02-12T01:18:22.601554Z",
     "shell.execute_reply": "2024-02-12T01:18:22.601123Z",
     "shell.execute_reply.started": "2024-02-12T01:18:22.319178Z"
    }
   },
   "outputs": [],
   "source": [
    "from sklearn.dummy import DummyClassifier\n",
    "vectorizer = CountVectorizer(stop_words=None,\n",
    "    ngram_range=(1,1))\n",
    "\n",
    "clf_pipe = Pipeline([\n",
    "    ('vectorizer',vectorizer),\n",
    "    ('clf',DummyClassifier(strategy='stratified'))\n",
    "])\n",
    "\n",
    "## Fit an evaluate a Logistic Regression\n",
    "clf_pipe.fit(X_train, y_train)\n",
    "ds.evaluate.evaluate_classification(clf_pipe, X_train,y_train, X_test, y_test,figsize=(8,12),values_format=\".2g\")\n",
    "# joblib.dump(clf_pipe, FPATHS['models']['ml']['logreg'])"
   ]
  },
  {
   "cell_type": "markdown",
   "id": "f131109d",
   "metadata": {},
   "source": [
    "We can see our dummy classifier performs poorly overall and is biased towards predicting the 0 class."
   ]
  },
  {
   "cell_type": "markdown",
   "id": "53e3057d-d1b0-4129-af97-3e7063307d53",
   "metadata": {},
   "source": [
    "## Multinomial Naive Bayes"
   ]
  },
  {
   "cell_type": "code",
   "execution_count": null,
   "id": "0e427abe-25f7-4835-90d2-a52e87b36ebd",
   "metadata": {
    "execution": {
     "iopub.execute_input": "2024-02-12T01:18:22.602728Z",
     "iopub.status.busy": "2024-02-12T01:18:22.602484Z",
     "iopub.status.idle": "2024-02-12T01:18:22.606050Z",
     "shell.execute_reply": "2024-02-12T01:18:22.605483Z",
     "shell.execute_reply.started": "2024-02-12T01:18:22.602711Z"
    }
   },
   "outputs": [],
   "source": [
    "FPATHS['models']['ml']#['bayes']"
   ]
  },
  {
   "cell_type": "code",
   "execution_count": null,
   "id": "48c6d4e9-30fc-472a-8cad-3485d8927e3e",
   "metadata": {
    "execution": {
     "iopub.execute_input": "2024-02-12T01:18:22.606753Z",
     "iopub.status.busy": "2024-02-12T01:18:22.606646Z",
     "iopub.status.idle": "2024-02-12T01:18:23.059967Z",
     "shell.execute_reply": "2024-02-12T01:18:23.059515Z",
     "shell.execute_reply.started": "2024-02-12T01:18:22.606743Z"
    }
   },
   "outputs": [],
   "source": [
    "## Create a model pipeline for inference.\n",
    "vectorizer = CountVectorizer(stop_words='english',\n",
    "    ngram_range=(1,2)\n",
    "                            )\n",
    "\n",
    "clf_bayes = Pipeline([\n",
    "    ('vectorizer',vectorizer),\n",
    "    ('clf',MultinomialNB())\n",
    "])\n",
    "\n",
    "## Fit an evaluate a Bayesian Model\n",
    "clf_bayes.fit(X_train, y_train)\n",
    "ds.evaluate.evaluate_classification(clf_bayes, X_train,y_train, X_test, y_test)\n",
    "# joblib.dump(clf_bayes, FPATHS['models']['ml']['bayes_joblib'])"
   ]
  },
  {
   "cell_type": "code",
   "execution_count": null,
   "id": "4899e962-021f-4e9a-a367-495cffd1017b",
   "metadata": {
    "execution": {
     "iopub.execute_input": "2024-02-12T01:18:23.060810Z",
     "iopub.status.busy": "2024-02-12T01:18:23.060690Z",
     "iopub.status.idle": "2024-02-12T01:18:23.063556Z",
     "shell.execute_reply": "2024-02-12T01:18:23.063099Z",
     "shell.execute_reply.started": "2024-02-12T01:18:23.060787Z"
    }
   },
   "outputs": [],
   "source": [
    "# ds.evaluate.evaluate_classification(count_pipe, X_train, y_train, X_test, y_test)"
   ]
  },
  {
   "cell_type": "markdown",
   "id": "50d5b086-396c-45f9-b558-36746f1e32b9",
   "metadata": {},
   "source": [
    "Our model was 95% accurate, and did not seem overly biased against any given class.  There might be a slight bias toward the neutral class."
   ]
  },
  {
   "cell_type": "markdown",
   "id": "d785f021",
   "metadata": {},
   "source": [
    "### GridSearch: Preprocessing for Multinomial Naive Bayes"
   ]
  },
  {
   "cell_type": "code",
   "execution_count": null,
   "id": "bec02cfa",
   "metadata": {},
   "outputs": [],
   "source": [
    "## Create a model pipeline for inference.\n",
    "vectorizer = CountVectorizer(stop_words='english',\n",
    "    ngram_range=(1,2)\n",
    "                            )\n",
    "\n",
    "clf_bayes = Pipeline([\n",
    "    ('vectorizer',vectorizer),\n",
    "    ('clf',MultinomialNB())\n",
    "])\n",
    "\n",
    "clf_bayes.get_params()"
   ]
  },
  {
   "cell_type": "code",
   "execution_count": null,
   "id": "e695b6c4",
   "metadata": {},
   "outputs": [],
   "source": [
    "# Define params to try for both vectorizers\n",
    "param_grid_shared = {\n",
    "    \"vectorizer__max_df\": [0.8, 0.9,1.0],\n",
    "    'vectorizer__min_df': [ 1, 2, 3 ], \n",
    "    \"vectorizer__max_features\": [None, 1000, 2000],\n",
    "    \"vectorizer__stop_words\": [None,'english'],\n",
    "    'vectorizer__ngram_range': [(1,1), (1,2), (1,3)],\n",
    "}\n",
    "\n",
    "# Setting params for the count vectorizer\n",
    "param_grid_count = {\n",
    "    'vectorizer':[CountVectorizer()],\n",
    "    **param_grid_shared\n",
    "}\n",
    "\n",
    "\n",
    "# Setting params for tfidf vectorizer \n",
    "param_grid_tfidf = {\n",
    "    'vectorizer': [TfidfVectorizer()],\n",
    "    \"vectorizer__norm\": [\"l1\", \"l2\"],\n",
    "    \"vectorizer__use_idf\": [True, False],\n",
    "    **param_grid_shared\n",
    "}\n",
    "\n",
    "# combine into list of params\n",
    "params_preprocessing = [param_grid_count, param_grid_tfidf]\n",
    "params_preprocessing"
   ]
  },
  {
   "cell_type": "code",
   "execution_count": null,
   "id": "30a3bd7e",
   "metadata": {},
   "outputs": [],
   "source": [
    "## Add model params to the params_combined\n",
    "model_params = {\"clf__alpha\": [0.1, 0.5, 1.0, 2.0]}\n",
    "params_with_model = [ {**param, **model_params} for param in params_preprocessing]\n",
    "params_with_model"
   ]
  },
  {
   "cell_type": "code",
   "execution_count": null,
   "id": "78949653",
   "metadata": {},
   "outputs": [],
   "source": [
    "%%time\n",
    "# Create grid search\n",
    "grid_search = GridSearchCV(clf_bayes, params_with_model, cv=3, verbose=1, n_jobs=-1,\n",
    "                           scoring='recall_macro')\n",
    "    \n",
    "    \n",
    "# Fit the model\n",
    "grid_search.fit(X_train, y_train)\n",
    "grid_search.best_params_"
   ]
  },
  {
   "cell_type": "markdown",
   "id": "76b124b4",
   "metadata": {},
   "source": [
    "#### Best Multinomial Naive Bayes"
   ]
  },
  {
   "cell_type": "code",
   "execution_count": null,
   "id": "05539818",
   "metadata": {},
   "outputs": [],
   "source": [
    "best_gs_pipe = grid_search.best_estimator_\n",
    "ds.evaluate.evaluate_classification(best_gs_pipe, X_train, y_train, X_test, y_test)"
   ]
  },
  {
   "cell_type": "markdown",
   "id": "efce6448",
   "metadata": {},
   "source": [
    "## Logistic Regression"
   ]
  },
  {
   "cell_type": "markdown",
   "id": "bfa16a6a",
   "metadata": {},
   "source": [
    "### LogReg + Count Vectorization"
   ]
  },
  {
   "cell_type": "code",
   "execution_count": null,
   "id": "a970b051-33d6-4b08-9fbb-6ba7c2073806",
   "metadata": {
    "execution": {
     "iopub.execute_input": "2024-02-12T01:18:23.064541Z",
     "iopub.status.busy": "2024-02-12T01:18:23.064345Z",
     "iopub.status.idle": "2024-02-12T01:18:23.347508Z",
     "shell.execute_reply": "2024-02-12T01:18:23.347165Z",
     "shell.execute_reply.started": "2024-02-12T01:18:23.064528Z"
    }
   },
   "outputs": [],
   "source": [
    "vectorizer = CountVectorizer(stop_words=None,\n",
    "    ngram_range=(1,1))\n",
    "\n",
    "clf_logreg = Pipeline([\n",
    "    ('vectorizer',vectorizer),\n",
    "    ('clf',LogisticRegression(max_iter=500,C=1e12))\n",
    "])\n",
    "\n",
    "## Fit an evaluate a Logistic Regression\n",
    "clf_logreg.fit(X_train, y_train)\n",
    "ds.evaluate.evaluate_classification(clf_logreg, X_train,y_train, X_test, y_test)\n",
    "# joblib.dump(clf_logreg, FPATHS['models']['ml']['logreg_joblib'])"
   ]
  },
  {
   "cell_type": "code",
   "execution_count": null,
   "id": "1e3d54af",
   "metadata": {},
   "outputs": [],
   "source": []
  },
  {
   "cell_type": "markdown",
   "id": "81d31974",
   "metadata": {},
   "source": [
    "### GridSearch: Preprocessing for LogReg"
   ]
  },
  {
   "cell_type": "code",
   "execution_count": null,
   "id": "79e2d0ba",
   "metadata": {},
   "outputs": [],
   "source": [
    "logreg_pipe  = Pipeline([('vectorizer',CountVectorizer()),\n",
    "                    ('clf',LogisticRegression(max_iter=500, class_weight='balanced'))])\n",
    "logreg_pipe.get_params()"
   ]
  },
  {
   "cell_type": "code",
   "execution_count": null,
   "id": "2e48e632",
   "metadata": {},
   "outputs": [],
   "source": [
    "## Add model params to the params_combined\n",
    "model_params = {\"clf__C\": [0.1, 0.5, 1.0, 10],\n",
    "                \"clf__solver\": ['liblinear', 'saga'],\n",
    "                \"clf__penalty\": ['l1','l2']\n",
    "                }\n",
    "params_with_model = [ {**param, **model_params} for param in params_preprocessing]\n",
    "params_with_model"
   ]
  },
  {
   "cell_type": "code",
   "execution_count": null,
   "id": "3a87e610",
   "metadata": {},
   "outputs": [],
   "source": [
    "%%time\n",
    "# Create grid search\n",
    "grid_search = GridSearchCV(logreg_pipe, params_with_model, cv=3, verbose=1, n_jobs=-1,\n",
    "                           scoring='recall_macro')\n",
    "    \n",
    "# Fit the model\n",
    "grid_search.fit(X_train, y_train)\n",
    "grid_search.best_params_"
   ]
  },
  {
   "cell_type": "markdown",
   "id": "daffc6ae",
   "metadata": {},
   "source": [
    "#### Best LogReg"
   ]
  },
  {
   "cell_type": "code",
   "execution_count": null,
   "id": "ab305a5e",
   "metadata": {},
   "outputs": [],
   "source": [
    "best_logreg_pipe = grid_search.best_estimator_\n",
    "ds.evaluate.evaluate_classification(best_logreg_pipe, X_train, y_train, X_test, y_test)"
   ]
  },
  {
   "cell_type": "markdown",
   "id": "780693f6",
   "metadata": {},
   "source": [
    "### LogReg with Tfidf Vectorizaton"
   ]
  },
  {
   "cell_type": "code",
   "execution_count": null,
   "id": "ae3c383c-2de4-469c-bccf-7b950e018f5a",
   "metadata": {
    "execution": {
     "iopub.execute_input": "2024-02-12T01:18:23.348440Z",
     "iopub.status.busy": "2024-02-12T01:18:23.348274Z",
     "iopub.status.idle": "2024-02-12T01:18:23.961450Z",
     "shell.execute_reply": "2024-02-12T01:18:23.961098Z",
     "shell.execute_reply.started": "2024-02-12T01:18:23.348429Z"
    }
   },
   "outputs": [],
   "source": [
    "# # Logreg-tfidf\n",
    "\n",
    "# vectorizer = TfidfVectorizer(stop_words='english',#None,\n",
    "#     ngram_range=(1,2))\n",
    "\n",
    "# clf_logreg = Pipeline([\n",
    "#     ('vectorizer',vectorizer),\n",
    "#     ('clf',LogisticRegression(max_iter=500,C=1e12))\n",
    "# ])\n",
    "\n",
    "# ## Fit an evaluate a Logistic Regression\n",
    "# clf_logreg.fit(X_train, y_train)\n",
    "# ds.evaluate.evaluate_classification(clf_logreg, X_train,y_train, X_test, y_test)\n",
    "# joblib.dump(clf_logreg, FPATHS['models']['ml']['logreg_joblib'])"
   ]
  },
  {
   "cell_type": "markdown",
   "id": "2ca6ed65-5db4-4c4b-b82a-f5161042e949",
   "metadata": {},
   "source": [
    "### LogRegCV (Tuning C) + Tfidf"
   ]
  },
  {
   "cell_type": "code",
   "execution_count": null,
   "id": "b79410f1-b72f-47f4-a3c3-12f8a7a3c4cd",
   "metadata": {
    "execution": {
     "iopub.execute_input": "2024-02-12T00:10:32.817998Z",
     "iopub.status.busy": "2024-02-12T00:10:32.817541Z",
     "iopub.status.idle": "2024-02-12T00:10:40.326686Z",
     "shell.execute_reply": "2024-02-12T00:10:40.326332Z",
     "shell.execute_reply.started": "2024-02-12T00:10:32.817973Z"
    }
   },
   "outputs": [],
   "source": [
    "# # TEMP COMMENTED OUT\n",
    "# # LogregCV-tfidf \n",
    "\n",
    "# vectorizer = TfidfVectorizer(stop_words=None,\n",
    "#     ngram_range=(1,2))\n",
    "\n",
    "# clf_logreg = Pipeline([\n",
    "#     ('vectorizer',vectorizer),\n",
    "#     ('clf',LogisticRegressionCV(max_iter=200))\n",
    "# ])\n",
    "\n",
    "# ## Fit an evaluate a Logistic Regression\n",
    "# clf_logreg.fit(X_train, y_train)\n",
    "# ds.evaluate.evaluate_classification(clf_logreg, X_train,y_train, X_test, y_test)\n",
    "# # joblib.dump(clf_logreg, FPATHS['models']['ml']['logreg'])"
   ]
  },
  {
   "cell_type": "markdown",
   "id": "22f59885-5309-432a-972b-c3fb83028423",
   "metadata": {},
   "source": [
    "## RandomForest"
   ]
  },
  {
   "cell_type": "markdown",
   "id": "eba386f3",
   "metadata": {},
   "source": []
  },
  {
   "cell_type": "markdown",
   "id": "14ed41c7",
   "metadata": {},
   "source": [
    "### RandomForest + CountVectorization"
   ]
  },
  {
   "cell_type": "code",
   "execution_count": null,
   "id": "f02eb928-9484-4c97-81e1-eb2a61860309",
   "metadata": {
    "execution": {
     "iopub.execute_input": "2024-02-12T00:10:40.327554Z",
     "iopub.status.busy": "2024-02-12T00:10:40.327463Z",
     "iopub.status.idle": "2024-02-12T00:10:41.017985Z",
     "shell.execute_reply": "2024-02-12T00:10:41.017644Z",
     "shell.execute_reply.started": "2024-02-12T00:10:40.327545Z"
    }
   },
   "outputs": [],
   "source": [
    "vectorizer = CountVectorizer(stop_words=None,\n",
    "    ngram_range=(1,1))\n",
    "\n",
    "clf_rf = Pipeline([\n",
    "    ('vectorizer',vectorizer),\n",
    "    ('clf',RandomForestClassifier(class_weight='balanced'))\n",
    "])\n",
    "\n",
    "## Fit an evaluate a Logistic Regression\n",
    "clf_rf.fit(X_train, y_train)\n",
    "ds.evaluate.evaluate_classification(clf_rf, X_train,y_train, X_test, y_test)\n",
    "# joblib.dump(clf_rf, FPATHS['models']['ml']['random_forest_joblib'])"
   ]
  },
  {
   "cell_type": "code",
   "execution_count": null,
   "id": "dd6544da",
   "metadata": {},
   "outputs": [],
   "source": [
    "##  Determine depths of random forest\n",
    "sns.histplot([t.get_depth() for t in clf_rf[-1].estimators_])"
   ]
  },
  {
   "cell_type": "markdown",
   "id": "149ba6f1",
   "metadata": {},
   "source": [
    "### GridSearch: RandomForest + Preprocessing"
   ]
  },
  {
   "cell_type": "code",
   "execution_count": null,
   "id": "e99fbcc6",
   "metadata": {},
   "outputs": [],
   "source": [
    "rf_pipe  = Pipeline([('vectorizer',CountVectorizer()),\n",
    "                    ('clf',RandomForestClassifier(class_weight='balanced'))])\n",
    "rf_pipe.get_params()"
   ]
  },
  {
   "cell_type": "code",
   "execution_count": null,
   "id": "10bde20d",
   "metadata": {},
   "outputs": [],
   "source": [
    "## Add model params to the params_combined\n",
    "model_params = {#\"clf__n_estimators\": [100, 200, 300],\n",
    "                \"clf__max_depth\": [40, 50, 100, None],\n",
    "                # 'clf__min_samples_split': [2, 5, 10],\n",
    "                'clf__min_samples_leaf': [1, 2, 4]\n",
    "                }\n",
    "params_with_model = [ {**param, **model_params} for param in params_preprocessing]\n",
    "params_with_model"
   ]
  },
  {
   "cell_type": "code",
   "execution_count": null,
   "id": "06532ca1",
   "metadata": {},
   "outputs": [],
   "source": [
    "%%time\n",
    "# Create grid search\n",
    "grid_search = GridSearchCV(rf_pipe, params_with_model, cv=3, verbose=1, n_jobs=-1,\n",
    "                           scoring='recall_macro')\n",
    "    \n",
    "# Fit the model\n",
    "grid_search.fit(X_train, y_train)\n",
    "grid_search.best_params_"
   ]
  },
  {
   "cell_type": "markdown",
   "id": "14553256",
   "metadata": {},
   "source": [
    "#### Best RandomForest"
   ]
  },
  {
   "cell_type": "code",
   "execution_count": null,
   "id": "f51cb72e",
   "metadata": {},
   "outputs": [],
   "source": [
    "best_rf_pipe = grid_search.best_estimator_\n",
    "ds.evaluate.evaluate_classification(best_rf_pipe, X_train, y_train, X_test, y_test)"
   ]
  },
  {
   "cell_type": "markdown",
   "id": "0acbb177",
   "metadata": {},
   "source": [
    "### RandomForest + TfidfVectorization"
   ]
  },
  {
   "cell_type": "code",
   "execution_count": null,
   "id": "b6bd9ef1-4133-4f4b-b429-3177fae4a49e",
   "metadata": {
    "execution": {
     "iopub.execute_input": "2024-02-12T00:10:41.018655Z",
     "iopub.status.busy": "2024-02-12T00:10:41.018563Z",
     "iopub.status.idle": "2024-02-12T00:10:42.654508Z",
     "shell.execute_reply": "2024-02-12T00:10:42.654070Z",
     "shell.execute_reply.started": "2024-02-12T00:10:41.018647Z"
    }
   },
   "outputs": [],
   "source": [
    "# vectorizer = TfidfVectorizer(stop_words='english',\n",
    "#     ngram_range=(1,2))\n",
    "\n",
    "# clf_rf = Pipeline([\n",
    "#     ('vectorizer',vectorizer),\n",
    "#     ('clf',RandomForestClassifier(class_weight='balanced'))\n",
    "# ])\n",
    "\n",
    "# ## Fit an evaluate a Logistic Regression\n",
    "# clf_rf.fit(X_train, y_train)\n",
    "# ds.evaluate.evaluate_classification(clf_rf, X_train,y_train, X_test, y_test)\n",
    "# # joblib.dump(clf_rf, FPATHS['models']['ml']['random_forest_joblib'])"
   ]
  },
  {
   "cell_type": "markdown",
   "id": "73c8fea0-03b7-4f05-986e-6a2339ba520e",
   "metadata": {},
   "source": [
    "## LinearSVC"
   ]
  },
  {
   "cell_type": "markdown",
   "id": "3c91debc",
   "metadata": {},
   "source": [
    "### SVC + Tfidf Vectorization"
   ]
  },
  {
   "cell_type": "code",
   "execution_count": null,
   "id": "4085804a-eef7-4676-966a-e2233857379a",
   "metadata": {
    "execution": {
     "iopub.execute_input": "2024-02-12T00:10:42.656417Z",
     "iopub.status.busy": "2024-02-12T00:10:42.655948Z",
     "iopub.status.idle": "2024-02-12T00:10:42.926112Z",
     "shell.execute_reply": "2024-02-12T00:10:42.925790Z",
     "shell.execute_reply.started": "2024-02-12T00:10:42.656403Z"
    }
   },
   "outputs": [],
   "source": [
    "from sklearn.svm import SVC, LinearSVC\n",
    "\n",
    "vectorizer = TfidfVectorizer(stop_words=None,\n",
    "    ngram_range=(1,1))\n",
    "\n",
    "clf_pipe = Pipeline([\n",
    "    ('vectorizer',vectorizer),\n",
    "    ('clf',LinearSVC(class_weight='balanced'))\n",
    "])\n",
    "\n",
    "## Fit an evaluate a Logistic Regression\n",
    "clf_pipe.fit(X_train, y_train)\n",
    "ds.evaluate.evaluate_classification(clf_pipe, X_train,y_train, X_test, y_test,\n",
    "                                    # target_names=encoder.classes_,\n",
    "                                    figsize=(8,10))\n",
    "# joblib.dump(clf_rf, FPATHS['models']['ml']['random_forest'])"
   ]
  },
  {
   "cell_type": "code",
   "execution_count": null,
   "id": "af913485",
   "metadata": {},
   "outputs": [],
   "source": [
    "raise Exception(\"Stop here\")"
   ]
  },
  {
   "cell_type": "markdown",
   "id": "eaa50be4-d402-404a-834b-46fb2262c19a",
   "metadata": {},
   "source": [
    "# GridSearch Text Preprocessing Params"
   ]
  },
  {
   "cell_type": "markdown",
   "id": "347cdb04-b608-423b-839b-1ac0255c6609",
   "metadata": {},
   "source": [
    "We can tune our text preprocessing choices using gridsearch."
   ]
  },
  {
   "cell_type": "markdown",
   "id": "7529d143",
   "metadata": {},
   "source": [
    "### GS: Multinomial Naive Bayes"
   ]
  },
  {
   "cell_type": "code",
   "execution_count": null,
   "id": "629bc97f-b49f-451a-a7c7-136bf9c9a9e9",
   "metadata": {
    "execution": {
     "iopub.status.busy": "2024-02-09T02:49:18.502168Z",
     "iopub.status.idle": "2024-02-09T02:49:18.502319Z",
     "shell.execute_reply": "2024-02-09T02:49:18.502245Z",
     "shell.execute_reply.started": "2024-02-09T02:49:18.502239Z"
    }
   },
   "outputs": [],
   "source": [
    "# gs_pipe = Pipeline([('vectorizer',CountVectorizer()),\n",
    "#                     ('clf',MultinomialNB())])\n",
    "# gs_pipe.get_params()"
   ]
  },
  {
   "cell_type": "code",
   "execution_count": null,
   "id": "3e28d0f1-1089-47aa-874c-5636b7114159",
   "metadata": {
    "execution": {
     "iopub.status.busy": "2024-02-09T02:49:18.502756Z",
     "iopub.status.idle": "2024-02-09T02:49:18.502879Z",
     "shell.execute_reply": "2024-02-09T02:49:18.502817Z",
     "shell.execute_reply.started": "2024-02-09T02:49:18.502811Z"
    }
   },
   "outputs": [],
   "source": [
    "# # Define params to try for both vectorizers\n",
    "# param_grid_shared = {\n",
    "#     \"vectorizer__max_df\": [0.7, 0.8, 0.9],\n",
    "#     'vectorizer__min_df': [ 2, 3, 4 ], \n",
    "#     \"vectorizer__max_features\": [None, 1000, 2000],\n",
    "#     \"vectorizer__stop_words\": [None,'english']\n",
    "# }\n",
    "\n",
    "# # Setting params for the count vectorizer\n",
    "# param_grid_count = {\n",
    "#     'vectorizer':[CountVectorizer()],\n",
    "#     **param_grid_shared\n",
    "# }\n",
    "\n",
    "\n",
    "# # Setting params for tfidf vectorizer \n",
    "# param_grid_tfidf = {\n",
    "#     'vectorizer': [TfidfVectorizer()],\n",
    "#     \"vectorizer__norm\": [\"l1\", \"l2\"],\n",
    "#     \"vectorizer__use_idf\": [True, False],\n",
    "#     **param_grid_shared\n",
    "# }\n",
    "\n",
    "# # combine into list of params\n",
    "# params_combined = [param_grid_count, param_grid_tfidf]\n",
    "# params_combined"
   ]
  },
  {
   "cell_type": "code",
   "execution_count": null,
   "id": "2a9a1e63-01aa-4ac1-8066-3e155f292796",
   "metadata": {
    "execution": {
     "iopub.status.busy": "2024-02-09T02:49:18.503342Z",
     "iopub.status.idle": "2024-02-09T02:49:18.503463Z",
     "shell.execute_reply": "2024-02-09T02:49:18.503401Z",
     "shell.execute_reply.started": "2024-02-09T02:49:18.503395Z"
    }
   },
   "outputs": [],
   "source": [
    "# %%time\n",
    "# # Create grid search\n",
    "# grid_search = GridSearchCV(gs_pipe, params_combined, cv=3, verbose=1, n_jobs=-1)\n",
    "    \n",
    "    \n",
    "# # Fit the model\n",
    "# grid_search.fit(X_train, y_train)\n",
    "# grid_search.best_params_"
   ]
  },
  {
   "cell_type": "markdown",
   "id": "7c918311",
   "metadata": {},
   "source": [
    "#### Best Multinomial Naive Bayes"
   ]
  },
  {
   "cell_type": "code",
   "execution_count": null,
   "id": "378c6e92-bca3-459f-be67-28ef0e804c4d",
   "metadata": {
    "execution": {
     "iopub.status.busy": "2024-02-09T02:49:18.503850Z",
     "iopub.status.idle": "2024-02-09T02:49:18.503971Z",
     "shell.execute_reply": "2024-02-09T02:49:18.503909Z",
     "shell.execute_reply.started": "2024-02-09T02:49:18.503904Z"
    }
   },
   "outputs": [],
   "source": [
    "# best_gs_pipe = grid_search.best_estimator_\n",
    "# ds.evaluate.evaluate_classification(best_gs_pipe, X_train, y_train, X_test, y_test)"
   ]
  },
  {
   "cell_type": "markdown",
   "id": "a57660d6-a038-4c0c-8b09-3a56cf84d506",
   "metadata": {},
   "source": [
    "### GS: RandomForest"
   ]
  },
  {
   "cell_type": "code",
   "execution_count": null,
   "id": "cba57894-d889-4442-8d99-ba03a32a94d0",
   "metadata": {
    "execution": {
     "iopub.status.busy": "2024-02-09T02:49:18.504575Z",
     "iopub.status.idle": "2024-02-09T02:49:18.504782Z",
     "shell.execute_reply": "2024-02-09T02:49:18.504720Z",
     "shell.execute_reply.started": "2024-02-09T02:49:18.504714Z"
    },
    "scrolled": true
   },
   "outputs": [],
   "source": [
    "# rf_pipe  = Pipeline([('vectorizer',CountVectorizer()),\n",
    "#                     ('clf',RandomForestClassifier(class_weight='balanced'))])\n",
    "# rf_pipe.get_params()"
   ]
  },
  {
   "cell_type": "code",
   "execution_count": null,
   "id": "33df014d-5b7e-4df9-8cab-32de38ae69ce",
   "metadata": {
    "execution": {
     "iopub.status.busy": "2024-02-09T02:49:18.505225Z",
     "iopub.status.idle": "2024-02-09T02:49:18.505363Z",
     "shell.execute_reply": "2024-02-09T02:49:18.505297Z",
     "shell.execute_reply.started": "2024-02-09T02:49:18.505291Z"
    }
   },
   "outputs": [],
   "source": [
    "# %%time\n",
    "# # Create grid search\n",
    "# grid_search = GridSearchCV(rf_pipe, params_combined, cv=3, verbose=1, n_jobs=-1)\n",
    "    \n",
    "# # Fit the model\n",
    "# grid_search.fit(X_train, y_train)\n",
    "# grid_search.best_params_"
   ]
  },
  {
   "cell_type": "markdown",
   "id": "b33102ad",
   "metadata": {},
   "source": [
    "#### Best RandomForest"
   ]
  },
  {
   "cell_type": "code",
   "execution_count": null,
   "id": "60ffbed4-548f-48e3-9856-106b04725afb",
   "metadata": {
    "execution": {
     "iopub.status.busy": "2024-02-09T02:49:18.505745Z",
     "iopub.status.idle": "2024-02-09T02:49:18.505870Z",
     "shell.execute_reply": "2024-02-09T02:49:18.505807Z",
     "shell.execute_reply.started": "2024-02-09T02:49:18.505802Z"
    },
    "scrolled": true
   },
   "outputs": [],
   "source": [
    "# best_rf_pipe = grid_search.best_estimator_\n",
    "# ds.evaluate.evaluate_classification(best_rf_pipe, X_train, y_train, X_test, y_test)"
   ]
  },
  {
   "cell_type": "markdown",
   "id": "3609fab4-0e52-4cf4-b49c-d78e60eea88c",
   "metadata": {},
   "source": [
    "### GS: LogReg"
   ]
  },
  {
   "cell_type": "code",
   "execution_count": null,
   "id": "b09efff1-d35d-43c7-890b-d64b93203375",
   "metadata": {
    "execution": {
     "iopub.status.busy": "2024-02-09T02:49:18.506509Z",
     "iopub.status.idle": "2024-02-09T02:49:18.506639Z",
     "shell.execute_reply": "2024-02-09T02:49:18.506574Z",
     "shell.execute_reply.started": "2024-02-09T02:49:18.506568Z"
    },
    "scrolled": true
   },
   "outputs": [],
   "source": [
    "# logreg_pipe  = Pipeline([('vectorizer',CountVectorizer()),\n",
    "#                     ('clf',LogisticRegression(max_iter=500, class_weight='balanced'))])\n",
    "# # logreg_pipe.get_params()"
   ]
  },
  {
   "cell_type": "code",
   "execution_count": null,
   "id": "2dad56d1-ed06-4873-9a10-4ae9505eea80",
   "metadata": {
    "execution": {
     "iopub.status.busy": "2024-02-09T02:49:18.506990Z",
     "iopub.status.idle": "2024-02-09T02:49:18.507184Z",
     "shell.execute_reply": "2024-02-09T02:49:18.507081Z",
     "shell.execute_reply.started": "2024-02-09T02:49:18.507071Z"
    },
    "scrolled": true
   },
   "outputs": [],
   "source": [
    "# %%time\n",
    "# # Create grid search\n",
    "# grid_search = GridSearchCV(logreg_pipe, params_combined, cv=3, verbose=1, n_jobs=-1)\n",
    "    \n",
    "# # Fit the model\n",
    "# grid_search.fit(X_train, y_train)\n",
    "# grid_search.best_params_"
   ]
  },
  {
   "cell_type": "markdown",
   "id": "596cd497",
   "metadata": {},
   "source": [
    "#### Best LogReg"
   ]
  },
  {
   "cell_type": "code",
   "execution_count": null,
   "id": "b01e623d-8ea6-4f7b-8907-78a4e3332cb3",
   "metadata": {
    "execution": {
     "iopub.status.busy": "2024-02-09T02:49:18.507674Z",
     "iopub.status.idle": "2024-02-09T02:49:18.508145Z",
     "shell.execute_reply": "2024-02-09T02:49:18.508054Z",
     "shell.execute_reply.started": "2024-02-09T02:49:18.508045Z"
    },
    "scrolled": true
   },
   "outputs": [],
   "source": [
    "# best_logreg_pipe = grid_search.best_estimator_\n",
    "# ds.evaluate.evaluate_classification(best_logreg_pipe, X_train, y_train, X_test, y_test)"
   ]
  },
  {
   "cell_type": "markdown",
   "id": "b1a190a0-0fd4-458c-beb3-90c0c03600bd",
   "metadata": {},
   "source": [
    "## Save Best Model"
   ]
  },
  {
   "cell_type": "code",
   "execution_count": null,
   "id": "27bd2f41",
   "metadata": {},
   "outputs": [],
   "source": [
    "%load_ext autoreload \n",
    "%autoreload 2\n",
    "# !pip install langchain_core langchain_openai langchain_community\n",
    "# !pip install streamlit\n",
    "\n",
    "import custom_functions.app_functions as af"
   ]
  },
  {
   "cell_type": "code",
   "execution_count": null,
   "id": "be21a353",
   "metadata": {},
   "outputs": [],
   "source": [
    "# TEMP COMMENTED OUT\n",
    "# LogregCV-tfidf \n",
    "\n",
    "vectorizer = TfidfVectorizer(stop_words=None,\n",
    "    ngram_range=(1,2))\n",
    "\n",
    "clf_logreg = Pipeline([\n",
    "    ('vectorizer',vectorizer),\n",
    "    ('clf',LogisticRegressionCV(max_iter=200))\n",
    "])\n",
    "\n",
    "## Fit an evaluate a Logistic Regression\n",
    "clf_logreg.fit(X_train, y_train)\n",
    "ds.evaluate.evaluate_classification(clf_logreg, X_train,y_train, X_test, y_test)\n",
    "# joblib.dump(clf_logreg, FPATHS['models']['ml']['logreg'])"
   ]
  },
  {
   "cell_type": "markdown",
   "id": "e62b456c",
   "metadata": {},
   "source": [
    "### Save Best Model for APP"
   ]
  },
  {
   "cell_type": "code",
   "execution_count": null,
   "id": "7e881b58",
   "metadata": {},
   "outputs": [],
   "source": [
    "\n",
    "\n",
    "def classification_metrics_streamlit(y_true, y_pred, label='',\n",
    "                           output_dict=False, figsize=(8,4),\n",
    "                           normalize='true', cmap='Blues',\n",
    "                           colorbar=False,values_format=\".2f\"):\n",
    "    \"\"\"\n",
    "    This function calculates and displays classification metrics for a given set of true labels and predicted labels.\n",
    "    \n",
    "    Parameters:\n",
    "    - y_true (array-like): The true labels.\n",
    "    - y_pred (array-like): The predicted labels.\n",
    "    - label (str): Optional label for the classification metrics.\n",
    "    - output_dict (bool): Whether to return the classification report as a dictionary.\n",
    "    - figsize (tuple): The size of the figure to display the confusion matrices.\n",
    "    - normalize (str): The normalization method for the confusion matrix. Options are 'true', 'pred', 'all', or None.\n",
    "    - cmap (str): The color map for the confusion matrix.\n",
    "    - colorbar (bool): Whether to display a colorbar for the confusion matrix.\n",
    "    - values_format (str): The format for displaying values in the confusion matrix.\n",
    "    \n",
    "    Returns:\n",
    "    - final_report (str): The final classification report as a string.\n",
    "    - fig (Figure): The figure object containing the confusion matrices.\n",
    "    \"\"\"\n",
    "    # Get the classification report\n",
    "    report = classification_report(y_true, y_pred)\n",
    "    \n",
    "    ## Save header and report\n",
    "    header = \"-\"*70\n",
    "    final_report = \"\\n\".join([header,f\" Classification Metrics: {label}\", header,report,\"\\n\"])\n",
    "    \n",
    "    \n",
    "    ## CONFUSION MATRICES SUBPLOTS\n",
    "    fig, axes = plt.subplots(ncols=2, figsize=figsize)\n",
    "    \n",
    "    # Create a confusion matrix  of raw counts (left subplot)\n",
    "    ConfusionMatrixDisplay.from_predictions(y_true, y_pred,\n",
    "                                            normalize=None, \n",
    "                                            cmap='gist_gray_r',# Updated cmap\n",
    "                                            values_format=\"d\", \n",
    "                                            colorbar=colorbar,\n",
    "                                            ax = axes[0]);\n",
    "    axes[0].set_title(\"Raw Counts\")\n",
    "    \n",
    "    # Create a confusion matrix with the data with normalize argument \n",
    "    ConfusionMatrixDisplay.from_predictions(y_true, y_pred,\n",
    "                                            normalize=normalize,\n",
    "                                            cmap=cmap, \n",
    "                                            values_format=values_format, #New arg\n",
    "                                            colorbar=colorbar,\n",
    "                                            ax = axes[1]);\n",
    "    axes[1].set_title(\"Normalized Confusion Matrix\")\n",
    "    \n",
    "    # Adjust layout and show figure\n",
    "    fig.tight_layout()\n",
    "\n",
    "    return final_report, fig\n",
    "\n",
    "\n",
    "def evaluate_classification_streamlit(model, X_train, y_train, X_test, y_test,\n",
    "                                     joblib_fpath=None, cmap_train=\"Blues\",cmap_test=\"Reds\"):\n",
    "    \"\"\"\n",
    "    Evaluate a classification model using Streamlit.\n",
    "\n",
    "    Parameters:\n",
    "    - model: The trained classification model.\n",
    "    - X_train: The training data features.\n",
    "    - y_train: The training data labels.\n",
    "    - X_test: The test data features.\n",
    "    - y_test: The test data labels.\n",
    "    - joblib_fpath: The file path to save the model results using joblib.\n",
    "    - cmap_train: The color map for the training data classification metrics plot. Default is \"Blues\".\n",
    "    - cmap_test: The color map for the test data classification metrics plot. Default is \"Reds\".\n",
    "\n",
    "    Returns:\n",
    "    - results_dict: A dictionary containing the model, training and test classification metrics.\n",
    "\n",
    "    This function evaluates the performance of a classification model using Streamlit. It calculates and displays\n",
    "    the classification metrics for both the training and test data, including the classification report and confusion matrix.\n",
    "    The results are saved to a file using joblib.\n",
    "\n",
    "    Example usage:\n",
    "    results = evaluate_classification_streamlit(model, X_train, y_train, X_test, y_test, \"model_results.joblib\")\n",
    "    \"\"\"\n",
    "\n",
    "    ## Save ML Model Results\n",
    "    y_hat_train = model.predict(X_train)\n",
    "    report_train, fig_train = classification_metrics_streamlit(y_train, y_hat_train, cmap=cmap_train,\n",
    "                                                            label=\"Training Data\")\n",
    "    print(report_train)\n",
    "    plt.show()\n",
    "    y_hat_test = model.predict(X_test)\n",
    "    report_test, fig_test = classification_metrics_streamlit(y_test, y_hat_test,cmap=cmap_test,\n",
    "                                                             label=\"Test Data\")\n",
    "    print(report_test)\n",
    "    plt.show()\n",
    "\n",
    "\n",
    "    results_dict = {\n",
    "        \"model\": model,\n",
    "        \"train\": {\"classification_report\": report_train, \"confusion_matrix\": fig_train},\n",
    "        \"test\": {\"classification_report\": report_test, \"confusion_matrix\": fig_test},\n",
    "    }\n",
    "    \n",
    "    if joblib_fpath is not None:\n",
    "        joblib.dump(results_dict, joblib_fpath, compress=9)\n",
    "        print(f\"- Succesfully saved model to {joblib_fpath}.\")\n",
    "    return results_dict"
   ]
  },
  {
   "cell_type": "code",
   "execution_count": null,
   "id": "22b44282",
   "metadata": {},
   "outputs": [],
   "source": [
    "FPATHS['models']['ml']"
   ]
  },
  {
   "cell_type": "code",
   "execution_count": null,
   "id": "66648af5",
   "metadata": {},
   "outputs": [],
   "source": []
  },
  {
   "cell_type": "code",
   "execution_count": null,
   "id": "24e38f04",
   "metadata": {},
   "outputs": [],
   "source": [
    "results = evaluate_classification_streamlit(clf_logreg, X_train, y_train, X_test,y_test,joblib_fpath=FPATHS['results']['best-ml-clf_joblib'])\n"
   ]
  },
  {
   "cell_type": "code",
   "execution_count": null,
   "id": "8725b0c1",
   "metadata": {},
   "outputs": [],
   "source": [
    "results['train']['confusion_matrix']"
   ]
  },
  {
   "cell_type": "code",
   "execution_count": null,
   "id": "a73648d8",
   "metadata": {},
   "outputs": [],
   "source": []
  },
  {
   "cell_type": "code",
   "execution_count": null,
   "id": "c6513686",
   "metadata": {},
   "outputs": [],
   "source": []
  }
 ],
 "metadata": {
  "kernelspec": {
   "display_name": "Python 3 (ipykernel)",
   "language": "python",
   "name": "python3"
  },
  "language_info": {
   "codemirror_mode": {
    "name": "ipython",
    "version": 3
   },
   "file_extension": ".py",
   "mimetype": "text/x-python",
   "name": "python",
   "nbconvert_exporter": "python",
   "pygments_lexer": "ipython3",
   "version": "3.10.10"
  },
  "widgets": {
   "application/vnd.jupyter.widget-state+json": {
    "state": {},
    "version_major": 2,
    "version_minor": 0
   }
  }
 },
 "nbformat": 4,
 "nbformat_minor": 5
}
