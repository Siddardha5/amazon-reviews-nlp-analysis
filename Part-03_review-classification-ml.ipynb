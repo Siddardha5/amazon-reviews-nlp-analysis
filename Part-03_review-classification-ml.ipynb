{
 "cells": [
  {
   "cell_type": "markdown",
   "id": "99451153-2415-4ec0-836f-a50c92f89e48",
   "metadata": {},
   "source": [
    "# Part 03: Review Classification (Machine Learning)\n"
   ]
  },
  {
   "cell_type": "markdown",
   "id": "765a91fe-74d7-4e97-a7ee-55a0ef0c7a14",
   "metadata": {},
   "source": [
    "## Introduction \n",
    "\n",
    "In this notebook, we apply machine learning techniques to classify Amazon reviews for the \"Miracle Noodle Zero Carb, Gluten Free Shirataki Pasta, Spinach Angel Hair\" product into high and low sentiment categories. By building and evaluating various machine learning models, we aim to develop an accurate classifier that can predict the sentiment of future reviews.\n",
    "\n",
    "#### Objectives\n",
    "\n",
    "1. **Load and Explore Data**:\n",
    "   - Load the processed reviews and metadata from a JSON file.\n",
    "   - Perform exploratory data analysis to understand the structure and characteristics of the dataset.\n",
    "\n",
    "2. **Analyze Review Length**:\n",
    "   - Compare the length of reviews between high and low sentiment categories.\n",
    "   - Visualize the differences using bar plots.\n",
    "\n",
    "3. **Prepare Data for Modeling**:\n",
    "   - Split the dataset into training, validation, and test sets.\n",
    "   - Encode target labels into numerical values.\n",
    "   - Ensure class balance by performing under-sampling if necessary.\n",
    "\n",
    "4. **Train and Evaluate Models**:\n",
    "   - Train several machine learning models, including Naive Bayes, Logistic Regression, Random Forest, and SVC.\n",
    "   - Perform hyperparameter tuning using GridSearchCV to find the best parameters for each model.\n",
    "   - Evaluate models using classification metrics and confusion matrices.\n",
    "\n",
    "5. **Save the Best Model**:\n",
    "   - Save the best-performing model for future use and deployment in a Streamlit app.\n",
    "\n",
    "By the end of this notebook, we will have an effective machine learning classifier capable of predicting the sentiment of Amazon reviews. This classifier will help in understanding customer opinions and improving product features based on sentiment analysis.\n"
   ]
  },
  {
   "cell_type": "code",
   "execution_count": 3,
   "id": "47426705-b6f3-47da-9356-5cbf2fa2cbd6",
   "metadata": {
    "execution": {
     "iopub.execute_input": "2024-02-12T01:18:17.344316Z",
     "iopub.status.busy": "2024-02-12T01:18:17.339686Z",
     "iopub.status.idle": "2024-02-12T01:18:17.363602Z",
     "shell.execute_reply": "2024-02-12T01:18:17.363191Z",
     "shell.execute_reply.started": "2024-02-12T01:18:17.344253Z"
    }
   },
   "outputs": [
    {
     "data": {
      "text/markdown": [
       "# Amazon Product Reviews\n",
       "\n",
       "- URL: https://cseweb.ucsd.edu/~jmcauley/datasets.html#amazon_reviews \n",
       "\n",
       "## Description\n",
       "\n",
       "This is a large crawl of product reviews from Amazon. This dataset contains 82.83 million unique reviews, from around 20 million users.\n",
       "\n",
       "## Basic statistics\n",
       "\n",
       "| Ratings:  | 82.83 million        |\n",
       "| --------- | -------------------- |\n",
       "| Users:    | 20.98 million        |\n",
       "| Items:    | 9.35 million         |\n",
       "| Timespan: | May 1996 - July 2014 |\n",
       "\n",
       "## Metadata\n",
       "\n",
       "- reviews and ratings\n",
       "- item-to-item relationships (e.g. \"people who bought X also bought Y\")\n",
       "- timestamps\n",
       "- helpfulness votes\n",
       "- product image (and CNN features)\n",
       "- price\n",
       "- category\n",
       "- salesRank\n",
       "\n",
       "## Example\n",
       "\n",
       "```\n",
       "{  \"reviewerID\": \"A2SUAM1J3GNN3B\",  \"asin\": \"0000013714\",  \"reviewerName\": \"J. McDonald\",  \"helpful\": [2, 3],  \"reviewText\": \"I bought this for my husband who plays the piano.  He is having a wonderful time playing these old hymns.  The music  is at times hard to read because we think the book was published for singing from more than playing from.  Great purchase though!\",  \"overall\": 5.0,  \"summary\": \"Heavenly Highway Hymns\",  \"unixReviewTime\": 1252800000,  \"reviewTime\": \"09 13, 2009\" }\n",
       "```\n",
       "\n",
       "## Download link\n",
       "\n",
       "See the [Amazon Dataset Page](https://cseweb.ucsd.edu/~jmcauley/datasets/amazon_v2/) for download information.\n",
       "\n",
       "The 2014 version of this dataset is [also available](https://cseweb.ucsd.edu/~jmcauley/datasets/amazon/links.html).\n",
       "\n",
       "## Citation\n",
       "\n",
       "Please cite the following if you use the data:\n",
       "\n",
       "**Ups and downs: Modeling the visual evolution of fashion trends with one-class collaborative filtering**\n",
       "\n",
       "R. He, J. McAuley\n",
       "\n",
       "*WWW*, 2016\n",
       "[pdf](https://cseweb.ucsd.edu/~jmcauley/pdfs/www16a.pdf)\n",
       "\n",
       "**Image-based recommendations on styles and substitutes**\n",
       "\n",
       "J. McAuley, C. Targett, J. Shi, A. van den Hengel\n",
       "\n",
       "*SIGIR*, 2015\n",
       "[pdf](https://cseweb.ucsd.edu/~jmcauley/pdfs/sigir15.pdf)"
      ],
      "text/plain": [
       "<IPython.core.display.Markdown object>"
      ]
     },
     "metadata": {},
     "output_type": "display_data"
    }
   ],
   "source": [
    "from IPython.display import display, Markdown\n",
    "with open(\"data/Amazon Product Reviews.md\") as f:\n",
    "    info = f.read()\n",
    "\n",
    "display(Markdown(info))"
   ]
  },
  {
   "cell_type": "markdown",
   "id": "ed38e7ae-4cb5-41b0-a32e-21d788940a15",
   "metadata": {},
   "source": [
    "# Loading Imports"
   ]
  },
  {
   "cell_type": "code",
   "execution_count": 4,
   "id": "61e6bf71",
   "metadata": {},
   "outputs": [],
   "source": [
    "# !pip install wordcloud"
   ]
  },
  {
   "cell_type": "code",
   "execution_count": 5,
   "id": "1d319495-f696-425a-ad7a-735f0bc939cd",
   "metadata": {
    "execution": {
     "iopub.execute_input": "2024-02-12T01:18:17.364887Z",
     "iopub.status.busy": "2024-02-12T01:18:17.364677Z",
     "iopub.status.idle": "2024-02-12T01:18:18.955955Z",
     "shell.execute_reply": "2024-02-12T01:18:18.955624Z",
     "shell.execute_reply.started": "2024-02-12T01:18:17.364877Z"
    }
   },
   "outputs": [],
   "source": [
    "import matplotlib.pyplot as plt\n",
    "import missingno\n",
    "import matplotlib as mpl\n",
    "import seaborn as sns\n",
    "import numpy as np\n",
    "import pandas as pd\n",
    "import os, json, joblib\n",
    "from pprint import pprint\n",
    "pd.set_option(\"display.max_columns\",50)\n",
    "from nltk.probability import FreqDist\n",
    "# from wordcloud import WordCloud\n",
    "pd.set_option('display.max_colwidth', 200)"
   ]
  },
  {
   "cell_type": "code",
   "execution_count": 6,
   "id": "53134f74-23ea-4efc-afcb-886160082dee",
   "metadata": {
    "execution": {
     "iopub.execute_input": "2024-02-12T01:18:18.956512Z",
     "iopub.status.busy": "2024-02-12T01:18:18.956369Z",
     "iopub.status.idle": "2024-02-12T01:18:21.899719Z",
     "shell.execute_reply": "2024-02-12T01:18:21.899391Z",
     "shell.execute_reply.started": "2024-02-12T01:18:18.956503Z"
    }
   },
   "outputs": [],
   "source": [
    "!pip install -U dojo_ds -q\n",
    "import dojo_ds as ds\n",
    "# ds.__version__"
   ]
  },
  {
   "cell_type": "markdown",
   "id": "3c606ed8-8b5e-4fbe-b999-84da1c26f51e",
   "metadata": {},
   "source": [
    "# Import Processed Data\n",
    "\n",
    "We created several versions of our text in the previous lecture.  We will load those again to use for analysis and classification"
   ]
  },
  {
   "cell_type": "code",
   "execution_count": 7,
   "id": "10be369f-da98-4b19-ab0b-cded726b68e1",
   "metadata": {
    "execution": {
     "iopub.execute_input": "2024-02-12T01:18:21.900429Z",
     "iopub.status.busy": "2024-02-12T01:18:21.900316Z",
     "iopub.status.idle": "2024-02-12T01:18:21.903292Z",
     "shell.execute_reply": "2024-02-12T01:18:21.903023Z",
     "shell.execute_reply.started": "2024-02-12T01:18:21.900420Z"
    }
   },
   "outputs": [
    {
     "data": {
      "text/plain": [
       "dict_keys(['data', 'images', 'metadata', 'eda', 'models', 'results', 'readme'])"
      ]
     },
     "execution_count": 7,
     "metadata": {},
     "output_type": "execute_result"
    }
   ],
   "source": [
    "FPATHS_FILE = \"config/filepaths.json\"\n",
    "import json\n",
    "with open(FPATHS_FILE) as f:\n",
    "    FPATHS = json.load(f)\n",
    "FPATHS.keys()"
   ]
  },
  {
   "cell_type": "code",
   "execution_count": 8,
   "id": "d7385058-4e4d-4690-b7a3-3b7ef9a9a7c1",
   "metadata": {
    "execution": {
     "iopub.execute_input": "2024-02-12T01:18:21.904625Z",
     "iopub.status.busy": "2024-02-12T01:18:21.904504Z",
     "iopub.status.idle": "2024-02-12T01:18:21.907858Z",
     "shell.execute_reply": "2024-02-12T01:18:21.907476Z",
     "shell.execute_reply.started": "2024-02-12T01:18:21.904614Z"
    }
   },
   "outputs": [
    {
     "data": {
      "text/plain": [
       "'data/processed/processed-reviews-with-target.json'"
      ]
     },
     "execution_count": 8,
     "metadata": {},
     "output_type": "execute_result"
    }
   ],
   "source": [
    "fpath_json = FPATHS['data']['processed-nlp']['processed-reviews-with-target_json']\n",
    "fpath_json"
   ]
  },
  {
   "cell_type": "code",
   "execution_count": 9,
   "id": "77acaf44-29d5-402d-a64e-9f2aaee6f99f",
   "metadata": {
    "execution": {
     "iopub.execute_input": "2024-02-12T01:18:21.908706Z",
     "iopub.status.busy": "2024-02-12T01:18:21.908588Z",
     "iopub.status.idle": "2024-02-12T01:18:21.996727Z",
     "shell.execute_reply": "2024-02-12T01:18:21.996424Z",
     "shell.execute_reply.started": "2024-02-12T01:18:21.908697Z"
    }
   },
   "outputs": [
    {
     "name": "stdout",
     "output_type": "stream",
     "text": [
      "<class 'pandas.core.frame.DataFrame'>\n",
      "Index: 4363 entries, 0 to 4362\n",
      "Data columns (total 18 columns):\n",
      " #   Column                Non-Null Count  Dtype \n",
      "---  ------                --------------  ----- \n",
      " 0   asin                  4363 non-null   object\n",
      " 1   reviewerID            4363 non-null   object\n",
      " 2   reviewText            4363 non-null   object\n",
      " 3   summary               4363 non-null   object\n",
      " 4   overall               4363 non-null   int64 \n",
      " 5   year                  4363 non-null   int64 \n",
      " 6   title                 4363 non-null   object\n",
      " 7   brand                 4363 non-null   object\n",
      " 8   category              4363 non-null   object\n",
      " 9   review-text-full      4363 non-null   object\n",
      " 10  review-text-full_raw  4363 non-null   object\n",
      " 11  tokens-dirty          4363 non-null   object\n",
      " 12  tokens                4363 non-null   object\n",
      " 13  lemmas                4363 non-null   object\n",
      " 14  tokens-dirty-joined   4363 non-null   object\n",
      " 15  tokens-joined         4363 non-null   object\n",
      " 16  lemmas-joined         4363 non-null   object\n",
      " 17  target-rating         3305 non-null   object\n",
      "dtypes: int64(2), object(16)\n",
      "memory usage: 647.6+ KB\n"
     ]
    },
    {
     "data": {
      "text/html": [
       "<div>\n",
       "<style scoped>\n",
       "    .dataframe tbody tr th:only-of-type {\n",
       "        vertical-align: middle;\n",
       "    }\n",
       "\n",
       "    .dataframe tbody tr th {\n",
       "        vertical-align: top;\n",
       "    }\n",
       "\n",
       "    .dataframe thead th {\n",
       "        text-align: right;\n",
       "    }\n",
       "</style>\n",
       "<table border=\"1\" class=\"dataframe\">\n",
       "  <thead>\n",
       "    <tr style=\"text-align: right;\">\n",
       "      <th></th>\n",
       "      <th>asin</th>\n",
       "      <th>reviewerID</th>\n",
       "      <th>reviewText</th>\n",
       "      <th>summary</th>\n",
       "      <th>overall</th>\n",
       "      <th>year</th>\n",
       "      <th>title</th>\n",
       "      <th>brand</th>\n",
       "      <th>category</th>\n",
       "      <th>review-text-full</th>\n",
       "      <th>review-text-full_raw</th>\n",
       "      <th>tokens-dirty</th>\n",
       "      <th>tokens</th>\n",
       "      <th>lemmas</th>\n",
       "      <th>tokens-dirty-joined</th>\n",
       "      <th>tokens-joined</th>\n",
       "      <th>lemmas-joined</th>\n",
       "      <th>target-rating</th>\n",
       "    </tr>\n",
       "  </thead>\n",
       "  <tbody>\n",
       "    <tr>\n",
       "      <th>0</th>\n",
       "      <td>B007JINB0W</td>\n",
       "      <td>A3Y51NV9HU5T2</td>\n",
       "      <td>Great pasta taste and feel, but the spell in the packaged is SKRONG!</td>\n",
       "      <td>Four Stars</td>\n",
       "      <td>4</td>\n",
       "      <td>2018</td>\n",
       "      <td>Miracle Noodle Zero Carb, Gluten Free Shirataki Pasta, Spinach Angel Hair, 7-Ounce (Pack of 24)</td>\n",
       "      <td>Miracle Noodle</td>\n",
       "      <td>Grocery &amp; Gourmet Food; Pasta &amp; Noodles; Noodles; Shirataki</td>\n",
       "      <td>Four Stars: Great pasta taste and feel, but the spell in the packaged is SKRONG!</td>\n",
       "      <td>Four Stars: Great pasta taste and feel, but the spell in the packaged is SKRONG!</td>\n",
       "      <td>[four, stars, great, pasta, taste, and, feel, but, the, spell, in, the, packaged, is, skrong]</td>\n",
       "      <td>[stars, great, pasta, taste, feel, spell, packaged, skrong]</td>\n",
       "      <td>[star, great, pasta, taste, feel, spell, package, skrong]</td>\n",
       "      <td>four stars great pasta taste and feel but the spell in the packaged is skrong</td>\n",
       "      <td>stars great pasta taste feel spell packaged skrong</td>\n",
       "      <td>star great pasta taste feel spell package skrong</td>\n",
       "      <td>None</td>\n",
       "    </tr>\n",
       "    <tr>\n",
       "      <th>1</th>\n",
       "      <td>B007JINB0W</td>\n",
       "      <td>A3D7EFSRC6Y9MP</td>\n",
       "      <td>The texture just made it a little strange to eat. Otherwise the flavor is okay, very bland so add spices.</td>\n",
       "      <td>Okay but don't like texture</td>\n",
       "      <td>3</td>\n",
       "      <td>2014</td>\n",
       "      <td>Miracle Noodle Zero Carb, Gluten Free Shirataki Pasta, Spinach Angel Hair, 7-Ounce (Pack of 24)</td>\n",
       "      <td>Miracle Noodle</td>\n",
       "      <td>Grocery &amp; Gourmet Food; Pasta &amp; Noodles; Noodles; Shirataki</td>\n",
       "      <td>Okay but don't like texture: The texture just made it a little strange to eat. Otherwise the flavor is okay, very bland so add spices.</td>\n",
       "      <td>Okay but don't like texture: The texture just made it a little strange to eat. Otherwise the flavor is okay, very bland so add spices.</td>\n",
       "      <td>[okay, but, do, n't, like, texture, the, texture, just, made, it, a, little, strange, to, eat, otherwise, the, flavor, is, okay, very, bland, so, add, spices]</td>\n",
       "      <td>[okay, like, texture, texture, little, strange, eat, flavor, okay, bland, add, spices]</td>\n",
       "      <td>[okay, like, texture, texture, little, strange, eat, flavor, okay, bland, add, spice]</td>\n",
       "      <td>okay but do n't like texture the texture just made it a little strange to eat otherwise the flavor is okay very bland so add spices</td>\n",
       "      <td>okay like texture texture little strange eat flavor okay bland add spices</td>\n",
       "      <td>okay like texture texture little strange eat flavor okay bland add spice</td>\n",
       "      <td>None</td>\n",
       "    </tr>\n",
       "    <tr>\n",
       "      <th>2</th>\n",
       "      <td>B007JINB0W</td>\n",
       "      <td>A4AM5KBP3I2R</td>\n",
       "      <td>The herb flavor makes the odd texture of shirataki much more palatable.</td>\n",
       "      <td>Go for the green noodles</td>\n",
       "      <td>5</td>\n",
       "      <td>2018</td>\n",
       "      <td>Miracle Noodle Zero Carb, Gluten Free Shirataki Pasta, Spinach Angel Hair, 7-Ounce (Pack of 24)</td>\n",
       "      <td>Miracle Noodle</td>\n",
       "      <td>Grocery &amp; Gourmet Food; Pasta &amp; Noodles; Noodles; Shirataki</td>\n",
       "      <td>Go for the green noodles: The herb flavor makes the odd texture of shirataki much more palatable.</td>\n",
       "      <td>Go for the green noodles: The herb flavor makes the odd texture of shirataki much more palatable.</td>\n",
       "      <td>[go, for, the, green, noodles, the, herb, flavor, makes, the, odd, texture, of, shirataki, much, more, palatable]</td>\n",
       "      <td>[green, noodles, herb, flavor, makes, odd, texture, shirataki, palatable]</td>\n",
       "      <td>[green, noodle, herb, flavor, make, odd, texture, shirataki, palatable]</td>\n",
       "      <td>go for the green noodles the herb flavor makes the odd texture of shirataki much more palatable</td>\n",
       "      <td>green noodles herb flavor makes odd texture shirataki palatable</td>\n",
       "      <td>green noodle herb flavor make odd texture shirataki palatable</td>\n",
       "      <td>High</td>\n",
       "    </tr>\n",
       "    <tr>\n",
       "      <th>3</th>\n",
       "      <td>B007JINB0W</td>\n",
       "      <td>A3GHK4IL78DB7Y</td>\n",
       "      <td>I didn't have a problem at all with a half filled bag or anything that other users said. I was concerned at first but I took a chance and there were no problems.\\nI find the best way to get rid of...</td>\n",
       "      <td>Its an awesome substitute.</td>\n",
       "      <td>5</td>\n",
       "      <td>2018</td>\n",
       "      <td>Miracle Noodle Zero Carb, Gluten Free Shirataki Pasta, Spinach Angel Hair, 7-Ounce (Pack of 24)</td>\n",
       "      <td>Miracle Noodle</td>\n",
       "      <td>Grocery &amp; Gourmet Food; Pasta &amp; Noodles; Noodles; Shirataki</td>\n",
       "      <td>Its an awesome substitute.: I didn't have a problem at all with a half filled bag or anything that other users said. I was concerned at first but I took a chance and there were no problems.\\nI fin...</td>\n",
       "      <td>Its an awesome substitute.: I didn't have a problem at all with a half filled bag or anything that other users said. I was concerned at first but I took a chance and there were no problems.\\nI fin...</td>\n",
       "      <td>[its, an, awesome, substitute, i, did, n't, have, a, problem, at, all, with, a, half, filled, bag, or, anything, that, other, users, said, i, was, concerned, at, first, but, i, took, a, chance, an...</td>\n",
       "      <td>[awesome, substitute, problem, half, filled, bag, users, said, concerned, took, chance, problems, find, best, way, rid, initial, smell, boil, cube, bouillon, texture, good, notice, replace, noodle...</td>\n",
       "      <td>[awesome, substitute, problem, half, fill, bag, user, say, concern, take, chance, problem, find, good, way, rid, initial, smell, boil, cube, bouillon, texture, good, notice, replace, noodle, eat, ...</td>\n",
       "      <td>its an awesome substitute i did n't have a problem at all with a half filled bag or anything that other users said i was concerned at first but i took a chance and there were no problems i find th...</td>\n",
       "      <td>awesome substitute problem half filled bag users said concerned took chance problems find best way rid initial smell boil cube bouillon texture good notice replace noodle eat nt mind</td>\n",
       "      <td>awesome substitute problem half fill bag user say concern take chance problem find good way rid initial smell boil cube bouillon texture good notice replace noodle eat not mind</td>\n",
       "      <td>High</td>\n",
       "    </tr>\n",
       "    <tr>\n",
       "      <th>4</th>\n",
       "      <td>B007JINB0W</td>\n",
       "      <td>AH3B94LQOPPY6</td>\n",
       "      <td>They taste like whatever you cook them with.</td>\n",
       "      <td>Five Stars</td>\n",
       "      <td>5</td>\n",
       "      <td>2016</td>\n",
       "      <td>Miracle Noodle Zero Carb, Gluten Free Shirataki Pasta, Spinach Angel Hair, 7-Ounce (Pack of 24)</td>\n",
       "      <td>Miracle Noodle</td>\n",
       "      <td>Grocery &amp; Gourmet Food; Pasta &amp; Noodles; Noodles; Shirataki</td>\n",
       "      <td>Five Stars: They taste like whatever you cook them with.</td>\n",
       "      <td>Five Stars: They taste like whatever you cook them with.</td>\n",
       "      <td>[five, stars, they, taste, like, whatever, you, cook, them, with]</td>\n",
       "      <td>[stars, taste, like, cook]</td>\n",
       "      <td>[star, taste, like, cook]</td>\n",
       "      <td>five stars they taste like whatever you cook them with</td>\n",
       "      <td>stars taste like cook</td>\n",
       "      <td>star taste like cook</td>\n",
       "      <td>High</td>\n",
       "    </tr>\n",
       "  </tbody>\n",
       "</table>\n",
       "</div>"
      ],
      "text/plain": [
       "         asin      reviewerID  \\\n",
       "0  B007JINB0W   A3Y51NV9HU5T2   \n",
       "1  B007JINB0W  A3D7EFSRC6Y9MP   \n",
       "2  B007JINB0W    A4AM5KBP3I2R   \n",
       "3  B007JINB0W  A3GHK4IL78DB7Y   \n",
       "4  B007JINB0W   AH3B94LQOPPY6   \n",
       "\n",
       "                                                                                                                                                                                                reviewText  \\\n",
       "0                                                                                                                                     Great pasta taste and feel, but the spell in the packaged is SKRONG!   \n",
       "1                                                                                                The texture just made it a little strange to eat. Otherwise the flavor is okay, very bland so add spices.   \n",
       "2                                                                                                                                  The herb flavor makes the odd texture of shirataki much more palatable.   \n",
       "3  I didn't have a problem at all with a half filled bag or anything that other users said. I was concerned at first but I took a chance and there were no problems.\\nI find the best way to get rid of...   \n",
       "4                                                                                                                                                            They taste like whatever you cook them with.    \n",
       "\n",
       "                       summary  overall  year  \\\n",
       "0                   Four Stars        4  2018   \n",
       "1  Okay but don't like texture        3  2014   \n",
       "2     Go for the green noodles        5  2018   \n",
       "3   Its an awesome substitute.        5  2018   \n",
       "4                   Five Stars        5  2016   \n",
       "\n",
       "                                                                                             title  \\\n",
       "0  Miracle Noodle Zero Carb, Gluten Free Shirataki Pasta, Spinach Angel Hair, 7-Ounce (Pack of 24)   \n",
       "1  Miracle Noodle Zero Carb, Gluten Free Shirataki Pasta, Spinach Angel Hair, 7-Ounce (Pack of 24)   \n",
       "2  Miracle Noodle Zero Carb, Gluten Free Shirataki Pasta, Spinach Angel Hair, 7-Ounce (Pack of 24)   \n",
       "3  Miracle Noodle Zero Carb, Gluten Free Shirataki Pasta, Spinach Angel Hair, 7-Ounce (Pack of 24)   \n",
       "4  Miracle Noodle Zero Carb, Gluten Free Shirataki Pasta, Spinach Angel Hair, 7-Ounce (Pack of 24)   \n",
       "\n",
       "            brand  \\\n",
       "0  Miracle Noodle   \n",
       "1  Miracle Noodle   \n",
       "2  Miracle Noodle   \n",
       "3  Miracle Noodle   \n",
       "4  Miracle Noodle   \n",
       "\n",
       "                                                      category  \\\n",
       "0  Grocery & Gourmet Food; Pasta & Noodles; Noodles; Shirataki   \n",
       "1  Grocery & Gourmet Food; Pasta & Noodles; Noodles; Shirataki   \n",
       "2  Grocery & Gourmet Food; Pasta & Noodles; Noodles; Shirataki   \n",
       "3  Grocery & Gourmet Food; Pasta & Noodles; Noodles; Shirataki   \n",
       "4  Grocery & Gourmet Food; Pasta & Noodles; Noodles; Shirataki   \n",
       "\n",
       "                                                                                                                                                                                          review-text-full  \\\n",
       "0                                                                                                                         Four Stars: Great pasta taste and feel, but the spell in the packaged is SKRONG!   \n",
       "1                                                                   Okay but don't like texture: The texture just made it a little strange to eat. Otherwise the flavor is okay, very bland so add spices.   \n",
       "2                                                                                                        Go for the green noodles: The herb flavor makes the odd texture of shirataki much more palatable.   \n",
       "3  Its an awesome substitute.: I didn't have a problem at all with a half filled bag or anything that other users said. I was concerned at first but I took a chance and there were no problems.\\nI fin...   \n",
       "4                                                                                                                                                Five Stars: They taste like whatever you cook them with.    \n",
       "\n",
       "                                                                                                                                                                                      review-text-full_raw  \\\n",
       "0                                                                                                                         Four Stars: Great pasta taste and feel, but the spell in the packaged is SKRONG!   \n",
       "1                                                                   Okay but don't like texture: The texture just made it a little strange to eat. Otherwise the flavor is okay, very bland so add spices.   \n",
       "2                                                                                                        Go for the green noodles: The herb flavor makes the odd texture of shirataki much more palatable.   \n",
       "3  Its an awesome substitute.: I didn't have a problem at all with a half filled bag or anything that other users said. I was concerned at first but I took a chance and there were no problems.\\nI fin...   \n",
       "4                                                                                                                                                Five Stars: They taste like whatever you cook them with.    \n",
       "\n",
       "                                                                                                                                                                                              tokens-dirty  \\\n",
       "0                                                                                                            [four, stars, great, pasta, taste, and, feel, but, the, spell, in, the, packaged, is, skrong]   \n",
       "1                                           [okay, but, do, n't, like, texture, the, texture, just, made, it, a, little, strange, to, eat, otherwise, the, flavor, is, okay, very, bland, so, add, spices]   \n",
       "2                                                                                        [go, for, the, green, noodles, the, herb, flavor, makes, the, odd, texture, of, shirataki, much, more, palatable]   \n",
       "3  [its, an, awesome, substitute, i, did, n't, have, a, problem, at, all, with, a, half, filled, bag, or, anything, that, other, users, said, i, was, concerned, at, first, but, i, took, a, chance, an...   \n",
       "4                                                                                                                                        [five, stars, they, taste, like, whatever, you, cook, them, with]   \n",
       "\n",
       "                                                                                                                                                                                                    tokens  \\\n",
       "0                                                                                                                                              [stars, great, pasta, taste, feel, spell, packaged, skrong]   \n",
       "1                                                                                                                   [okay, like, texture, texture, little, strange, eat, flavor, okay, bland, add, spices]   \n",
       "2                                                                                                                                [green, noodles, herb, flavor, makes, odd, texture, shirataki, palatable]   \n",
       "3  [awesome, substitute, problem, half, filled, bag, users, said, concerned, took, chance, problems, find, best, way, rid, initial, smell, boil, cube, bouillon, texture, good, notice, replace, noodle...   \n",
       "4                                                                                                                                                                               [stars, taste, like, cook]   \n",
       "\n",
       "                                                                                                                                                                                                    lemmas  \\\n",
       "0                                                                                                                                                [star, great, pasta, taste, feel, spell, package, skrong]   \n",
       "1                                                                                                                    [okay, like, texture, texture, little, strange, eat, flavor, okay, bland, add, spice]   \n",
       "2                                                                                                                                  [green, noodle, herb, flavor, make, odd, texture, shirataki, palatable]   \n",
       "3  [awesome, substitute, problem, half, fill, bag, user, say, concern, take, chance, problem, find, good, way, rid, initial, smell, boil, cube, bouillon, texture, good, notice, replace, noodle, eat, ...   \n",
       "4                                                                                                                                                                                [star, taste, like, cook]   \n",
       "\n",
       "                                                                                                                                                                                       tokens-dirty-joined  \\\n",
       "0                                                                                                                            four stars great pasta taste and feel but the spell in the packaged is skrong   \n",
       "1                                                                      okay but do n't like texture the texture just made it a little strange to eat otherwise the flavor is okay very bland so add spices   \n",
       "2                                                                                                          go for the green noodles the herb flavor makes the odd texture of shirataki much more palatable   \n",
       "3  its an awesome substitute i did n't have a problem at all with a half filled bag or anything that other users said i was concerned at first but i took a chance and there were no problems i find th...   \n",
       "4                                                                                                                                                   five stars they taste like whatever you cook them with   \n",
       "\n",
       "                                                                                                                                                                            tokens-joined  \\\n",
       "0                                                                                                                                      stars great pasta taste feel spell packaged skrong   \n",
       "1                                                                                                               okay like texture texture little strange eat flavor okay bland add spices   \n",
       "2                                                                                                                         green noodles herb flavor makes odd texture shirataki palatable   \n",
       "3  awesome substitute problem half filled bag users said concerned took chance problems find best way rid initial smell boil cube bouillon texture good notice replace noodle eat nt mind   \n",
       "4                                                                                                                                                                   stars taste like cook   \n",
       "\n",
       "                                                                                                                                                                      lemmas-joined  \\\n",
       "0                                                                                                                                  star great pasta taste feel spell package skrong   \n",
       "1                                                                                                          okay like texture texture little strange eat flavor okay bland add spice   \n",
       "2                                                                                                                     green noodle herb flavor make odd texture shirataki palatable   \n",
       "3  awesome substitute problem half fill bag user say concern take chance problem find good way rid initial smell boil cube bouillon texture good notice replace noodle eat not mind   \n",
       "4                                                                                                                                                              star taste like cook   \n",
       "\n",
       "  target-rating  \n",
       "0          None  \n",
       "1          None  \n",
       "2          High  \n",
       "3          High  \n",
       "4          High  "
      ]
     },
     "execution_count": 9,
     "metadata": {},
     "output_type": "execute_result"
    }
   ],
   "source": [
    "\n",
    "df = pd.read_json(fpath_json)#joblib.load('data/processed/processed-reviews.joblib')\n",
    "df.info()\n",
    "df.head()"
   ]
  },
  {
   "cell_type": "markdown",
   "id": "d1b92a22-cb32-45e8-bcd9-d9d7f1d85be2",
   "metadata": {},
   "source": [
    "## Classification Target"
   ]
  },
  {
   "cell_type": "code",
   "execution_count": 10,
   "id": "d3166ee4-985c-4b95-ac9b-ba4f27ab5b77",
   "metadata": {
    "execution": {
     "iopub.execute_input": "2024-02-12T01:18:21.997360Z",
     "iopub.status.busy": "2024-02-12T01:18:21.997237Z",
     "iopub.status.idle": "2024-02-12T01:18:21.999322Z",
     "shell.execute_reply": "2024-02-12T01:18:21.998868Z",
     "shell.execute_reply.started": "2024-02-12T01:18:21.997347Z"
    }
   },
   "outputs": [],
   "source": [
    "# sns.histplot"
   ]
  },
  {
   "cell_type": "code",
   "execution_count": 11,
   "id": "34301094-73eb-4cba-8f28-aeaa10e7a6b9",
   "metadata": {
    "execution": {
     "iopub.execute_input": "2024-02-12T01:18:21.999928Z",
     "iopub.status.busy": "2024-02-12T01:18:21.999810Z",
     "iopub.status.idle": "2024-02-12T01:18:22.003495Z",
     "shell.execute_reply": "2024-02-12T01:18:22.003192Z",
     "shell.execute_reply.started": "2024-02-12T01:18:21.999919Z"
    }
   },
   "outputs": [
    {
     "data": {
      "text/plain": [
       "target-rating\n",
       "High    0.565204\n",
       "Low     0.434796\n",
       "Name: proportion, dtype: float64"
      ]
     },
     "execution_count": 11,
     "metadata": {},
     "output_type": "execute_result"
    }
   ],
   "source": [
    "# Checking what values are in the overall ratings\n",
    "df['target-rating'].value_counts(1)"
   ]
  },
  {
   "cell_type": "code",
   "execution_count": 12,
   "id": "e90db8c8-05b7-45ab-b23c-6e702e488a69",
   "metadata": {
    "execution": {
     "iopub.execute_input": "2024-02-12T01:18:22.004211Z",
     "iopub.status.busy": "2024-02-12T01:18:22.004104Z",
     "iopub.status.idle": "2024-02-12T01:18:22.006426Z",
     "shell.execute_reply": "2024-02-12T01:18:22.005915Z",
     "shell.execute_reply.started": "2024-02-12T01:18:22.004201Z"
    }
   },
   "outputs": [],
   "source": [
    "# # Should return nothing\n",
    "# create_groups(4.9)"
   ]
  },
  {
   "cell_type": "code",
   "execution_count": 13,
   "id": "adbc11e7-2f1b-4b62-b3b8-b9bfc706abe1",
   "metadata": {
    "execution": {
     "iopub.execute_input": "2024-02-12T01:18:22.007205Z",
     "iopub.status.busy": "2024-02-12T01:18:22.007084Z",
     "iopub.status.idle": "2024-02-12T01:18:22.009416Z",
     "shell.execute_reply": "2024-02-12T01:18:22.009103Z",
     "shell.execute_reply.started": "2024-02-12T01:18:22.007194Z"
    }
   },
   "outputs": [],
   "source": [
    "# ## Use the function to create a new \"rating\" column with groups\n",
    "# df['rating'] = df['overall'].map(create_groups)\n",
    "# df['rating'].value_counts(dropna=False)"
   ]
  },
  {
   "cell_type": "code",
   "execution_count": 14,
   "id": "356b5c2d-3e9f-4827-b8e6-b5dbdaf9e98c",
   "metadata": {
    "execution": {
     "iopub.execute_input": "2024-02-12T01:18:22.010130Z",
     "iopub.status.busy": "2024-02-12T01:18:22.009957Z",
     "iopub.status.idle": "2024-02-12T01:18:22.011870Z",
     "shell.execute_reply": "2024-02-12T01:18:22.011517Z",
     "shell.execute_reply.started": "2024-02-12T01:18:22.010116Z"
    }
   },
   "outputs": [],
   "source": [
    "# # target_map = {1.0:'low',\n",
    "# #              2.0:'low',\n",
    "# #               # 3.0:'mid',\n",
    "# #               # 4.0:'high',\n",
    "# #              5.0:'high'}\n",
    "# df['rating'] = df['overall'].map(create_target)\n",
    "# df['rating'].value_counts(dropna=False)"
   ]
  },
  {
   "cell_type": "markdown",
   "id": "27dd4eed-7019-4267-aa1a-bf72dc384b0c",
   "metadata": {},
   "source": [
    "### Class Balance\n",
    "\n",
    "It's always a good idea to check the class balance when creating a classification model.  This can affect modeling bias and interpretation of metrics."
   ]
  },
  {
   "cell_type": "code",
   "execution_count": 15,
   "id": "bfefec24-1e48-44a4-ba03-36b8960d124b",
   "metadata": {
    "execution": {
     "iopub.execute_input": "2024-02-12T01:18:22.012572Z",
     "iopub.status.busy": "2024-02-12T01:18:22.012441Z",
     "iopub.status.idle": "2024-02-12T01:18:22.016167Z",
     "shell.execute_reply": "2024-02-12T01:18:22.015578Z",
     "shell.execute_reply.started": "2024-02-12T01:18:22.012562Z"
    }
   },
   "outputs": [
    {
     "data": {
      "text/plain": [
       "target-rating\n",
       "High    0.565204\n",
       "Low     0.434796\n",
       "Name: proportion, dtype: float64"
      ]
     },
     "execution_count": 15,
     "metadata": {},
     "output_type": "execute_result"
    }
   ],
   "source": [
    "## Check class balance of 'rating'\n",
    "df['target-rating'].value_counts(normalize=True)"
   ]
  },
  {
   "cell_type": "markdown",
   "id": "ca5ba79b-5eb7-4361-b460-8d2c4ac0457c",
   "metadata": {},
   "source": [
    "There are more neutral Ratings any any other class, but high and low Ratings are pretty balanced."
   ]
  },
  {
   "cell_type": "markdown",
   "id": "094d71cf-6d27-45e6-88b4-2cd36cc79fd8",
   "metadata": {},
   "source": [
    "### Length\n",
    "\n",
    "One easy way to compare text is to compare the length of each text.  We could compare the number of character or tokens.  In this case we will compare the number of characters in each Rating for each sentiment."
   ]
  },
  {
   "cell_type": "code",
   "execution_count": 16,
   "id": "fd2bd859-c4c7-469a-a26d-b828a1826dde",
   "metadata": {
    "execution": {
     "iopub.execute_input": "2024-02-12T01:18:22.017005Z",
     "iopub.status.busy": "2024-02-12T01:18:22.016836Z",
     "iopub.status.idle": "2024-02-12T01:18:22.028137Z",
     "shell.execute_reply": "2024-02-12T01:18:22.027530Z",
     "shell.execute_reply.started": "2024-02-12T01:18:22.016984Z"
    }
   },
   "outputs": [],
   "source": [
    "df['length'] = df['review-text-full'].map(lambda x: len(x.split(\" \")))"
   ]
  },
  {
   "cell_type": "code",
   "execution_count": 17,
   "id": "ea688893-9382-4afe-96ff-608ac821c7e8",
   "metadata": {
    "execution": {
     "iopub.execute_input": "2024-02-12T01:18:22.033299Z",
     "iopub.status.busy": "2024-02-12T01:18:22.033026Z",
     "iopub.status.idle": "2024-02-12T01:18:22.129592Z",
     "shell.execute_reply": "2024-02-12T01:18:22.129013Z",
     "shell.execute_reply.started": "2024-02-12T01:18:22.033276Z"
    }
   },
   "outputs": [
    {
     "name": "stderr",
     "output_type": "stream",
     "text": [
      "/var/folders/rf/vw4r41jd7vd95x1w0dth7v9h0000gp/T/ipykernel_15640/3385096836.py:10: UserWarning: FigureCanvasAgg is non-interactive, and thus cannot be shown\n",
      "  plt.show()\n"
     ]
    }
   ],
   "source": [
    "## visualize median review length\n",
    "# high_len = high['length'].median()\n",
    "# low_len = low['length'].median()\n",
    "\n",
    "ax = sns.barplot(data=df, x='target-rating',\n",
    "                 y='length', errorbar=('ci',68),#estimator='median',\n",
    "                );\n",
    "\n",
    "# Show plot before print statement\n",
    "plt.show()\n",
    "# print(f' The median character length for {low_len} for low Ratings and {high_len} for high ratings.')\n",
    "\n",
    "# Save figure\n",
    "fig = ax.get_figure()"
   ]
  },
  {
   "cell_type": "markdown",
   "id": "428d9e3d-c10c-4ca2-b5f7-348c4004e9b2",
   "metadata": {},
   "source": [
    "> - ***Add saving image length to Part 00 config***"
   ]
  },
  {
   "cell_type": "code",
   "execution_count": 18,
   "id": "68e41fd2-bd61-496e-8a1d-c4265aded77f",
   "metadata": {
    "execution": {
     "iopub.execute_input": "2024-02-12T01:18:22.130764Z",
     "iopub.status.busy": "2024-02-12T01:18:22.130425Z",
     "iopub.status.idle": "2024-02-12T01:18:22.133077Z",
     "shell.execute_reply": "2024-02-12T01:18:22.132549Z",
     "shell.execute_reply.started": "2024-02-12T01:18:22.130733Z"
    }
   },
   "outputs": [],
   "source": [
    "# # Create a folder for images\n",
    "# import os\n",
    "# os.makedirs(\"images/\", exist_ok=True)\n",
    "\n",
    "# fig.savefig('images/barplot-compare-lengths.png', transparent=False, dpi=300, bbox_inches='tight')"
   ]
  },
  {
   "cell_type": "markdown",
   "id": "db3682fe-8a3b-4977-a047-29c162907336",
   "metadata": {},
   "source": [
    "We aren't seeing a big difference here in the lengths of Ratings.  Both high and low seem to averag about 70 characters.  Neutral Ratings seem to be somewhat shorter on average."
   ]
  },
  {
   "cell_type": "markdown",
   "id": "07bf0d57-fb2e-4866-a4ef-731edd72cfbf",
   "metadata": {},
   "source": [
    "These are more informative!  We see words like 'good', 'love', 'hope', 'great', and 'nice' in the highs and 'miss', 'work', 'sad', 'bad', and 'hate' in lows.\n",
    "\n",
    "While this may not be surprising with high and low sentiments, if we were classifying other kinds of text, like spam emails or patent applications, it could be very enlightening!"
   ]
  },
  {
   "cell_type": "markdown",
   "id": "4f04d25d-336e-425b-947b-a3fe1eb79ea9",
   "metadata": {},
   "source": [
    "## Preparing Data for Modeling\n"
   ]
  },
  {
   "cell_type": "code",
   "execution_count": 19,
   "id": "872785c7-86de-44f8-99b5-d38c0d62cb27",
   "metadata": {
    "execution": {
     "iopub.execute_input": "2024-02-12T01:18:22.134261Z",
     "iopub.status.busy": "2024-02-12T01:18:22.133831Z",
     "iopub.status.idle": "2024-02-12T01:18:22.235602Z",
     "shell.execute_reply": "2024-02-12T01:18:22.235230Z",
     "shell.execute_reply.started": "2024-02-12T01:18:22.134242Z"
    }
   },
   "outputs": [],
   "source": [
    "## Import Modeling Package\n",
    "import numpy as np\n",
    "from sklearn.feature_extraction.text import CountVectorizer, TfidfVectorizer\n",
    "from sklearn.pipeline import Pipeline\n",
    "from sklearn.naive_bayes import MultinomialNB\n",
    "from sklearn.metrics import classification_report, ConfusionMatrixDisplay\n",
    "from sklearn.model_selection import train_test_split, GridSearchCV\n",
    "from sklearn.ensemble import RandomForestClassifier\n",
    "from sklearn.linear_model import LogisticRegression, LogisticRegressionCV"
   ]
  },
  {
   "cell_type": "markdown",
   "id": "9616cb97-93b1-4dba-b49a-a2da3aafddca",
   "metadata": {},
   "source": [
    "### Train Test Split\n",
    "We created null values in our target column, so we will drop the null values from the rating column before making our X and y data."
   ]
  },
  {
   "cell_type": "code",
   "execution_count": 20,
   "id": "6f6a62a4-7534-44fe-bc21-d2a0b04669ca",
   "metadata": {
    "execution": {
     "iopub.execute_input": "2024-02-12T01:18:22.236206Z",
     "iopub.status.busy": "2024-02-12T01:18:22.236105Z",
     "iopub.status.idle": "2024-02-12T01:18:22.248330Z",
     "shell.execute_reply": "2024-02-12T01:18:22.247945Z",
     "shell.execute_reply.started": "2024-02-12T01:18:22.236196Z"
    }
   },
   "outputs": [
    {
     "data": {
      "text/plain": [
       "asin                    0\n",
       "reviewerID              0\n",
       "reviewText              0\n",
       "summary                 0\n",
       "overall                 0\n",
       "year                    0\n",
       "title                   0\n",
       "brand                   0\n",
       "category                0\n",
       "review-text-full        0\n",
       "review-text-full_raw    0\n",
       "tokens-dirty            0\n",
       "tokens                  0\n",
       "lemmas                  0\n",
       "tokens-dirty-joined     0\n",
       "tokens-joined           0\n",
       "lemmas-joined           0\n",
       "target-rating           0\n",
       "length                  0\n",
       "dtype: int64"
      ]
     },
     "execution_count": 20,
     "metadata": {},
     "output_type": "execute_result"
    }
   ],
   "source": [
    "# Create a df_ml without null ratings\n",
    "df_ml = df.dropna(subset=['target-rating'])\n",
    "df_ml.isna().sum()"
   ]
  },
  {
   "cell_type": "code",
   "execution_count": 21,
   "id": "07a11844-679c-4802-bb3d-abb144725935",
   "metadata": {
    "execution": {
     "iopub.execute_input": "2024-02-12T01:18:22.249230Z",
     "iopub.status.busy": "2024-02-12T01:18:22.249110Z",
     "iopub.status.idle": "2024-02-12T01:18:22.254374Z",
     "shell.execute_reply": "2024-02-12T01:18:22.253855Z",
     "shell.execute_reply.started": "2024-02-12T01:18:22.249220Z"
    }
   },
   "outputs": [
    {
     "data": {
      "text/plain": [
       "2                                                                                                           Go for the green noodles: The herb flavor makes the odd texture of shirataki much more palatable.\n",
       "3     Its an awesome substitute.: I didn't have a problem at all with a half filled bag or anything that other users said. I was concerned at first but I took a chance and there were no problems.\\nI fin...\n",
       "4                                                                                                                                                   Five Stars: They taste like whatever you cook them with. \n",
       "5     Love them!: Coming from an Italian girl who can't resist a pasta dish, these have been my savior for when I'm avoiding carbs but still want a tasty meal. Yes they smell a little funky when you fir...\n",
       "6     tastes okay: The taste is just okay, but what do you really expect for zero calories?  I ate them for lunch most days while dieting, usually with a little fat free italian dressing (35 calories.) ...\n",
       "8                                                                                                                                    Five Stars: It's got a smell to it but once you rinse the rice it's good\n",
       "10                                                                                                                                                                            NOT A GOOD TASTE: Taste so bad.\n",
       "11                                                                                                           Great pasta alternative: Great low calorie, healthy pasta alternative for anyone watching carbs.\n",
       "12    the noodles and rice fill like rubber in texture and don't absorb the cooking sauce: the noodles and rice fill like rubber in texture and don't absorb the cooking sauce. I will go back to using sp...\n",
       "13                                                                                                                                                              Two Stars: Not good lol. Like not god at all.\n",
       "Name: review-text-full, dtype: object"
      ]
     },
     "execution_count": 21,
     "metadata": {},
     "output_type": "execute_result"
    }
   ],
   "source": [
    "## X - Option A)  lemmas\n",
    "# def join_tokens(token_list):\n",
    "#     joined_tokens = ' '.join(token_list)\n",
    "#     return joined_tokens\n",
    "# X = df_ml['spacy_lemmas'].apply(join_tokens)\n",
    "\n",
    "# X - Option B) original raw text\n",
    "X = df_ml['review-text-full']\n",
    "\n",
    "# y - use our binary target \n",
    "y = df_ml['target-rating']\n",
    "X.head(10)"
   ]
  },
  {
   "cell_type": "code",
   "execution_count": 22,
   "id": "f0458b05-f6b6-4b9e-a931-125a220c3791",
   "metadata": {
    "execution": {
     "iopub.execute_input": "2024-02-12T01:18:22.255420Z",
     "iopub.status.busy": "2024-02-12T01:18:22.255287Z",
     "iopub.status.idle": "2024-02-12T01:18:22.259798Z",
     "shell.execute_reply": "2024-02-12T01:18:22.259105Z",
     "shell.execute_reply.started": "2024-02-12T01:18:22.255410Z"
    }
   },
   "outputs": [
    {
     "data": {
      "text/plain": [
       "target-rating\n",
       "High    0.565204\n",
       "Low     0.434796\n",
       "Name: proportion, dtype: float64"
      ]
     },
     "execution_count": 22,
     "metadata": {},
     "output_type": "execute_result"
    }
   ],
   "source": [
    "y.value_counts(normalize=True)"
   ]
  },
  {
   "cell_type": "markdown",
   "id": "15a21aa9-8a69-43d1-8132-103942f93023",
   "metadata": {},
   "source": [
    "### Validation Split\n",
    "\n",
    "We will perform a triple split.  That way we can tune our model to a validation set and test the final version on a test set.  This avoid tuning our model to specifically perform well on just one set of testing data and gives us a better idea of how our model will perform on new data."
   ]
  },
  {
   "cell_type": "code",
   "execution_count": 23,
   "id": "78f42d22-51aa-426b-971b-db7cccbd45d8",
   "metadata": {
    "execution": {
     "iopub.execute_input": "2024-02-12T01:18:22.260856Z",
     "iopub.status.busy": "2024-02-12T01:18:22.260427Z",
     "iopub.status.idle": "2024-02-12T01:18:22.266233Z",
     "shell.execute_reply": "2024-02-12T01:18:22.265619Z",
     "shell.execute_reply.started": "2024-02-12T01:18:22.260839Z"
    }
   },
   "outputs": [
    {
     "data": {
      "text/plain": [
       "2947    Great!: This stuff is a miracle. Rinse very well for a few minutes, then boil for a couple minutes, then dry fry it in a pan and trim the pasta. I just made chicken pad thai with it. I made my own...\n",
       "3613                                                                                           Not For Me: When you give up on trying  to chew this up, just swallow it whole.one two three four five six seven\n",
       "864                                                                                                                     Texture is chewy and smelled like fish!: Nasty! Texture is chewy and smelled like fish!\n",
       "1872                                                                                    Not a good purchase for me: Opened the package. Yuck.  Followed the directions. Still Yuck. Not a good purchase for me.\n",
       "2627    Not for me: I really wanted to like these noodles, which I've heard so much about.  But I just couldn't get past the texture and look.  I felt like I was eating brains.  I ended up throwing out al...\n",
       "Name: review-text-full, dtype: object"
      ]
     },
     "execution_count": 23,
     "metadata": {},
     "output_type": "execute_result"
    }
   ],
   "source": [
    "## Train test split\n",
    "X_train_full, X_test, y_train_names_full, y_test_names = train_test_split(X,y,test_size=0.25,\n",
    "                                                    random_state=321)\n",
    "X_train_full.head()"
   ]
  },
  {
   "cell_type": "markdown",
   "id": "d90211e1-4400-4101-9395-2ec34917aa8c",
   "metadata": {},
   "source": [
    "- Using 70% of data as train, 15% as test and 15 % as val (will use in deep nlp codealongs next class)"
   ]
  },
  {
   "cell_type": "code",
   "execution_count": 24,
   "id": "a40aadb0-6649-4b02-aab4-bb6d982242f2",
   "metadata": {
    "execution": {
     "iopub.execute_input": "2024-02-12T01:18:22.267153Z",
     "iopub.status.busy": "2024-02-12T01:18:22.266888Z",
     "iopub.status.idle": "2024-02-12T01:18:22.269349Z",
     "shell.execute_reply": "2024-02-12T01:18:22.268978Z",
     "shell.execute_reply.started": "2024-02-12T01:18:22.267137Z"
    }
   },
   "outputs": [],
   "source": [
    "# ## Split data into train, test, val\n",
    "# X_train_full, X_test, y_train_full, y_test = train_test_split(X, y, test_size=.3, random_state=42)\n",
    "# X_val, X_test, y_val, y_test = train_test_split(X_test, y_test, test_size=.5, random_state=42)\n",
    "# (len(X_train_full), len(X_val), len(X_test))"
   ]
  },
  {
   "cell_type": "code",
   "execution_count": 25,
   "id": "fd591859-b956-4d91-adcc-e50e9936f564",
   "metadata": {
    "execution": {
     "iopub.execute_input": "2024-02-12T01:18:22.270505Z",
     "iopub.status.busy": "2024-02-12T01:18:22.270289Z",
     "iopub.status.idle": "2024-02-12T01:18:22.274434Z",
     "shell.execute_reply": "2024-02-12T01:18:22.274045Z",
     "shell.execute_reply.started": "2024-02-12T01:18:22.270489Z"
    }
   },
   "outputs": [
    {
     "data": {
      "text/plain": [
       "target-rating\n",
       "High    0.555287\n",
       "Low     0.444713\n",
       "Name: proportion, dtype: float64"
      ]
     },
     "execution_count": 25,
     "metadata": {},
     "output_type": "execute_result"
    }
   ],
   "source": [
    "# Check class balance\n",
    "y_train_names_full.value_counts(normalize=True)"
   ]
  },
  {
   "cell_type": "markdown",
   "id": "62200b51-2133-454d-88c0-c65096457418",
   "metadata": {},
   "source": [
    "### Label Encoding"
   ]
  },
  {
   "cell_type": "code",
   "execution_count": 26,
   "id": "54874251-7477-41ad-ae63-af2c1ee1ea07",
   "metadata": {
    "execution": {
     "iopub.execute_input": "2024-02-12T01:18:22.275175Z",
     "iopub.status.busy": "2024-02-12T01:18:22.275079Z",
     "iopub.status.idle": "2024-02-12T01:18:22.280327Z",
     "shell.execute_reply": "2024-02-12T01:18:22.279842Z",
     "shell.execute_reply.started": "2024-02-12T01:18:22.275166Z"
    }
   },
   "outputs": [
    {
     "data": {
      "text/plain": [
       "2947    High\n",
       "3613     Low\n",
       "864      Low\n",
       "1872     Low\n",
       "2627     Low\n",
       "1712    High\n",
       "115     High\n",
       "3493    High\n",
       "2910     Low\n",
       "2919    High\n",
       "Name: target-rating, dtype: object"
      ]
     },
     "execution_count": 26,
     "metadata": {},
     "output_type": "execute_result"
    }
   ],
   "source": [
    "from sklearn.preprocessing import LabelEncoder\n",
    "\n",
    "# Instansiate label encoder\n",
    "encoder = LabelEncoder()\n",
    "\n",
    "# Fit and transform the training target\n",
    "y_train_full = pd.Series(encoder.fit_transform(y_train_names_full), \n",
    "                    index=y_train_names_full.index, \n",
    "                    name=y_train_names_full.name)\n",
    "\n",
    "# Fit and tranform the test target\n",
    "y_test = pd.Series(encoder.transform(y_test_names), index=y_test_names.index, \n",
    "                    name=y_test_names.name)\n",
    "\n",
    "y_train_names_full[:10]"
   ]
  },
  {
   "cell_type": "code",
   "execution_count": 27,
   "id": "8eb42af6-263d-461e-a23c-d35114d468b9",
   "metadata": {
    "execution": {
     "iopub.execute_input": "2024-02-12T01:18:22.281264Z",
     "iopub.status.busy": "2024-02-12T01:18:22.281029Z",
     "iopub.status.idle": "2024-02-12T01:18:22.286323Z",
     "shell.execute_reply": "2024-02-12T01:18:22.285801Z",
     "shell.execute_reply.started": "2024-02-12T01:18:22.281227Z"
    }
   },
   "outputs": [
    {
     "data": {
      "text/plain": [
       "['data/metadata/label-encoder.joblib']"
      ]
     },
     "execution_count": 27,
     "metadata": {},
     "output_type": "execute_result"
    }
   ],
   "source": [
    "import joblib\n",
    "# Save Label encoder\n",
    "fpath_encoder = FPATHS['metadata']['label_encoder_joblib']\n",
    "joblib.dump( encoder,fpath_encoder)"
   ]
  },
  {
   "cell_type": "code",
   "execution_count": 28,
   "id": "b6506833-bd3d-4fc5-9b32-dcb610e5f674",
   "metadata": {
    "execution": {
     "iopub.execute_input": "2024-02-12T01:18:22.287652Z",
     "iopub.status.busy": "2024-02-12T01:18:22.287207Z",
     "iopub.status.idle": "2024-02-12T01:18:22.291650Z",
     "shell.execute_reply": "2024-02-12T01:18:22.291310Z",
     "shell.execute_reply.started": "2024-02-12T01:18:22.287638Z"
    }
   },
   "outputs": [
    {
     "data": {
      "text/plain": [
       "target-rating\n",
       "0    0.555287\n",
       "1    0.444713\n",
       "Name: proportion, dtype: float64"
      ]
     },
     "execution_count": 28,
     "metadata": {},
     "output_type": "execute_result"
    }
   ],
   "source": [
    "y_train_full.value_counts(1)"
   ]
  },
  {
   "cell_type": "markdown",
   "id": "722f8a28-f6fe-4600-84ec-7868cdd6655e",
   "metadata": {},
   "source": [
    "### ~~Under-Sampling Majority Group~~"
   ]
  },
  {
   "cell_type": "markdown",
   "id": "7ac3b15e-1cc3-4f30-8f1d-e198c5bfab6e",
   "metadata": {},
   "source": [
    "~~We have a very imbalanced dataset. We will take a small sample from the majority class to match the number of reviews for the minority group.~~"
   ]
  },
  {
   "cell_type": "code",
   "execution_count": 29,
   "id": "9fb1f305-7b70-49e4-95dd-bf1fc5f7a9a3",
   "metadata": {
    "execution": {
     "iopub.execute_input": "2024-02-12T01:18:22.292451Z",
     "iopub.status.busy": "2024-02-12T01:18:22.292291Z",
     "iopub.status.idle": "2024-02-12T01:18:22.294549Z",
     "shell.execute_reply": "2024-02-12T01:18:22.294130Z",
     "shell.execute_reply.started": "2024-02-12T01:18:22.292436Z"
    }
   },
   "outputs": [],
   "source": [
    "# from imblearn.under_sampling import RandomUnderSampler"
   ]
  },
  {
   "cell_type": "code",
   "execution_count": 30,
   "id": "acb650b1-5488-4357-aea8-2403d2dc9109",
   "metadata": {
    "execution": {
     "iopub.execute_input": "2024-02-12T01:18:22.295255Z",
     "iopub.status.busy": "2024-02-12T01:18:22.295119Z",
     "iopub.status.idle": "2024-02-12T01:18:22.297688Z",
     "shell.execute_reply": "2024-02-12T01:18:22.297210Z",
     "shell.execute_reply.started": "2024-02-12T01:18:22.295245Z"
    }
   },
   "outputs": [],
   "source": [
    "# X_train_full#.values.reshape(-1,1)"
   ]
  },
  {
   "cell_type": "code",
   "execution_count": 31,
   "id": "47c694e9-20c6-4f53-b7fb-9e064d504c1f",
   "metadata": {
    "execution": {
     "iopub.execute_input": "2024-02-12T01:18:22.298621Z",
     "iopub.status.busy": "2024-02-12T01:18:22.298421Z",
     "iopub.status.idle": "2024-02-12T01:18:22.301617Z",
     "shell.execute_reply": "2024-02-12T01:18:22.301057Z",
     "shell.execute_reply.started": "2024-02-12T01:18:22.298606Z"
    }
   },
   "outputs": [],
   "source": [
    "# # Instantiate a RandomUnderSampler\n",
    "# sampler = RandomUnderSampler(random_state=42)\n",
    "\n",
    "# # Fit_resample on the reshaped X_train data and y-train data\n",
    "# X_train, y_train = sampler.fit_resample(X_train_full.values.reshape(-1,1),y_train_full)\n",
    "\n",
    "# # Flatten the reshaped X_train data back to 1D\n",
    "# X_train = X_train.flatten()\n",
    "\n",
    "# # Check for class balance\n",
    "# y_train.value_counts()"
   ]
  },
  {
   "cell_type": "code",
   "execution_count": 32,
   "id": "28bdb7be-eaa6-477f-b58c-026277da075d",
   "metadata": {
    "execution": {
     "iopub.execute_input": "2024-02-12T01:18:22.302587Z",
     "iopub.status.busy": "2024-02-12T01:18:22.302459Z",
     "iopub.status.idle": "2024-02-12T01:18:22.305302Z",
     "shell.execute_reply": "2024-02-12T01:18:22.304536Z",
     "shell.execute_reply.started": "2024-02-12T01:18:22.302576Z"
    }
   },
   "outputs": [],
   "source": [
    "y_train = y_train_full\n",
    "X_train = X_train_full"
   ]
  },
  {
   "cell_type": "markdown",
   "id": "8b482eec-339f-43e7-8848-04eb95baa7c0",
   "metadata": {},
   "source": [
    "### Saving training and test data for re-use with ANNs"
   ]
  },
  {
   "cell_type": "code",
   "execution_count": 33,
   "id": "42e1f375-e78e-498c-9485-de8251264f33",
   "metadata": {
    "execution": {
     "iopub.execute_input": "2024-02-12T01:18:22.307129Z",
     "iopub.status.busy": "2024-02-12T01:18:22.306595Z",
     "iopub.status.idle": "2024-02-12T01:18:22.318515Z",
     "shell.execute_reply": "2024-02-12T01:18:22.318063Z",
     "shell.execute_reply.started": "2024-02-12T01:18:22.307114Z"
    }
   },
   "outputs": [
    {
     "name": "stdout",
     "output_type": "stream",
     "text": [
      "data/modeling/training-data.joblib\n",
      "data/modeling/testing-data.joblib\n"
     ]
    },
    {
     "data": {
      "text/plain": [
       "['data/modeling/testing-data.joblib']"
      ]
     },
     "execution_count": 33,
     "metadata": {},
     "output_type": "execute_result"
    }
   ],
   "source": [
    "\n",
    "# Save training data\n",
    "fpath_train_joblib = FPATHS['data']['ml-nlp']['train_joblib']\n",
    "print(fpath_train_joblib)\n",
    "joblib.dump([X_train, y_train],fpath_train_joblib)\n",
    "\n",
    "# Save test data\n",
    "fpath_test_joblib = FPATHS['data']['ml-nlp']['test_joblib']\n",
    "print(fpath_test_joblib)\n",
    "joblib.dump([X_test, y_test],fpath_test_joblib)\n"
   ]
  },
  {
   "cell_type": "markdown",
   "id": "8289a2fd-3ccc-49f8-bd8f-d4d198002828",
   "metadata": {},
   "source": [
    "## Modeling\n"
   ]
  },
  {
   "cell_type": "code",
   "execution_count": null,
   "id": "51ed8cc1",
   "metadata": {},
   "outputs": [],
   "source": []
  },
  {
   "cell_type": "markdown",
   "id": "126b4317-b01f-4f54-a38f-1723dd20684b",
   "metadata": {},
   "source": [
    "### DummyClassifier"
   ]
  },
  {
   "cell_type": "code",
   "execution_count": 34,
   "id": "3b04158d-018e-49d1-adc6-84f06a41fcb9",
   "metadata": {
    "execution": {
     "iopub.execute_input": "2024-02-12T01:18:22.319188Z",
     "iopub.status.busy": "2024-02-12T01:18:22.319064Z",
     "iopub.status.idle": "2024-02-12T01:18:22.601554Z",
     "shell.execute_reply": "2024-02-12T01:18:22.601123Z",
     "shell.execute_reply.started": "2024-02-12T01:18:22.319178Z"
    }
   },
   "outputs": [
    {
     "name": "stdout",
     "output_type": "stream",
     "text": [
      "----------------------------------------------------------------------\n",
      " Classification Metrics: Training Data\n",
      "----------------------------------------------------------------------\n",
      "              precision    recall  f1-score   support\n",
      "\n",
      "           0       0.56      0.56      0.56      1376\n",
      "           1       0.45      0.45      0.45      1102\n",
      "\n",
      "    accuracy                           0.51      2478\n",
      "   macro avg       0.51      0.51      0.51      2478\n",
      "weighted avg       0.51      0.51      0.51      2478\n",
      "\n",
      "\n",
      "----------------------------------------------------------------------\n",
      " Classification Metrics: Test Data\n",
      "----------------------------------------------------------------------\n",
      "              precision    recall  f1-score   support\n",
      "\n",
      "           0       0.60      0.59      0.59       492\n",
      "           1       0.41      0.42      0.41       335\n",
      "\n",
      "    accuracy                           0.52       827\n",
      "   macro avg       0.50      0.50      0.50       827\n",
      "weighted avg       0.52      0.52      0.52       827\n",
      "\n"
     ]
    },
    {
     "name": "stderr",
     "output_type": "stream",
     "text": [
      "/opt/homebrew/Caskroom/miniforge/base/envs/dojo-env/lib/python3.10/site-packages/dojo_ds/evaluate.py:69: UserWarning: FigureCanvasAgg is non-interactive, and thus cannot be shown\n",
      "  plt.show()\n",
      "/opt/homebrew/Caskroom/miniforge/base/envs/dojo-env/lib/python3.10/site-packages/dojo_ds/evaluate.py:69: UserWarning: FigureCanvasAgg is non-interactive, and thus cannot be shown\n",
      "  plt.show()\n"
     ]
    }
   ],
   "source": [
    "from sklearn.dummy import DummyClassifier\n",
    "vectorizer = CountVectorizer(stop_words=None,\n",
    "    ngram_range=(1,1))\n",
    "\n",
    "clf_pipe = Pipeline([\n",
    "    ('vectorizer',vectorizer),\n",
    "    ('clf',DummyClassifier(strategy='stratified'))\n",
    "])\n",
    "\n",
    "## Fit an evaluate a Logistic Regression\n",
    "clf_pipe.fit(X_train, y_train)\n",
    "ds.evaluate.evaluate_classification(clf_pipe, X_train,y_train, X_test, y_test,figsize=(8,12),values_format=\".2g\")\n",
    "# joblib.dump(clf_pipe, FPATHS['models']['ml']['logreg'])"
   ]
  },
  {
   "cell_type": "markdown",
   "id": "53e3057d-d1b0-4129-af97-3e7063307d53",
   "metadata": {},
   "source": [
    "### Naive Bayes"
   ]
  },
  {
   "cell_type": "code",
   "execution_count": 35,
   "id": "0e427abe-25f7-4835-90d2-a52e87b36ebd",
   "metadata": {
    "execution": {
     "iopub.execute_input": "2024-02-12T01:18:22.602728Z",
     "iopub.status.busy": "2024-02-12T01:18:22.602484Z",
     "iopub.status.idle": "2024-02-12T01:18:22.606050Z",
     "shell.execute_reply": "2024-02-12T01:18:22.605483Z",
     "shell.execute_reply.started": "2024-02-12T01:18:22.602711Z"
    }
   },
   "outputs": [
    {
     "data": {
      "text/plain": [
       "{'bayes_joblib': 'models/bayes-clf.joblib',\n",
       " 'random_forest_joblib': 'models/random-forest.joblib',\n",
       " 'logreg_joblib': 'models/log-reg.joblib'}"
      ]
     },
     "execution_count": 35,
     "metadata": {},
     "output_type": "execute_result"
    }
   ],
   "source": [
    " FPATHS['models']['ml']#['bayes']"
   ]
  },
  {
   "cell_type": "code",
   "execution_count": 36,
   "id": "48c6d4e9-30fc-472a-8cad-3485d8927e3e",
   "metadata": {
    "execution": {
     "iopub.execute_input": "2024-02-12T01:18:22.606753Z",
     "iopub.status.busy": "2024-02-12T01:18:22.606646Z",
     "iopub.status.idle": "2024-02-12T01:18:23.059967Z",
     "shell.execute_reply": "2024-02-12T01:18:23.059515Z",
     "shell.execute_reply.started": "2024-02-12T01:18:22.606743Z"
    }
   },
   "outputs": [
    {
     "name": "stdout",
     "output_type": "stream",
     "text": [
      "----------------------------------------------------------------------\n",
      " Classification Metrics: Training Data\n",
      "----------------------------------------------------------------------\n",
      "              precision    recall  f1-score   support\n",
      "\n",
      "           0       0.99      0.99      0.99      1376\n",
      "           1       0.99      0.99      0.99      1102\n",
      "\n",
      "    accuracy                           0.99      2478\n",
      "   macro avg       0.99      0.99      0.99      2478\n",
      "weighted avg       0.99      0.99      0.99      2478\n",
      "\n",
      "\n",
      "----------------------------------------------------------------------\n",
      " Classification Metrics: Test Data\n",
      "----------------------------------------------------------------------\n",
      "              precision    recall  f1-score   support\n",
      "\n",
      "           0       0.90      0.98      0.94       492\n",
      "           1       0.97      0.84      0.90       335\n",
      "\n",
      "    accuracy                           0.92       827\n",
      "   macro avg       0.94      0.91      0.92       827\n",
      "weighted avg       0.93      0.92      0.92       827\n",
      "\n"
     ]
    },
    {
     "name": "stderr",
     "output_type": "stream",
     "text": [
      "/opt/homebrew/Caskroom/miniforge/base/envs/dojo-env/lib/python3.10/site-packages/dojo_ds/evaluate.py:69: UserWarning: FigureCanvasAgg is non-interactive, and thus cannot be shown\n",
      "  plt.show()\n",
      "/opt/homebrew/Caskroom/miniforge/base/envs/dojo-env/lib/python3.10/site-packages/dojo_ds/evaluate.py:69: UserWarning: FigureCanvasAgg is non-interactive, and thus cannot be shown\n",
      "  plt.show()\n"
     ]
    }
   ],
   "source": [
    "## Create a model pipeline for inference.\n",
    "vectorizer = CountVectorizer(stop_words='english',\n",
    "    ngram_range=(1,2)\n",
    "                            )\n",
    "\n",
    "clf_bayes = Pipeline([\n",
    "    ('vectorizer',vectorizer),\n",
    "    ('clf',MultinomialNB())\n",
    "])\n",
    "\n",
    "## Fit an evaluate a Bayesian Model\n",
    "clf_bayes.fit(X_train, y_train)\n",
    "ds.evaluate.evaluate_classification(clf_bayes, X_train,y_train, X_test, y_test)\n",
    "# joblib.dump(clf_bayes, FPATHS['models']['ml']['bayes_joblib'])"
   ]
  },
  {
   "cell_type": "code",
   "execution_count": 37,
   "id": "4899e962-021f-4e9a-a367-495cffd1017b",
   "metadata": {
    "execution": {
     "iopub.execute_input": "2024-02-12T01:18:23.060810Z",
     "iopub.status.busy": "2024-02-12T01:18:23.060690Z",
     "iopub.status.idle": "2024-02-12T01:18:23.063556Z",
     "shell.execute_reply": "2024-02-12T01:18:23.063099Z",
     "shell.execute_reply.started": "2024-02-12T01:18:23.060787Z"
    }
   },
   "outputs": [],
   "source": [
    "# ds.evaluate.evaluate_classification(count_pipe, X_train, y_train, X_test, y_test)"
   ]
  },
  {
   "cell_type": "markdown",
   "id": "50d5b086-396c-45f9-b558-36746f1e32b9",
   "metadata": {},
   "source": [
    "Our model was 95% accurate, but did not seem overly biased against any given class.  There might be a slight bias toward the neutral class."
   ]
  },
  {
   "cell_type": "code",
   "execution_count": 38,
   "id": "a970b051-33d6-4b08-9fbb-6ba7c2073806",
   "metadata": {
    "execution": {
     "iopub.execute_input": "2024-02-12T01:18:23.064541Z",
     "iopub.status.busy": "2024-02-12T01:18:23.064345Z",
     "iopub.status.idle": "2024-02-12T01:18:23.347508Z",
     "shell.execute_reply": "2024-02-12T01:18:23.347165Z",
     "shell.execute_reply.started": "2024-02-12T01:18:23.064528Z"
    }
   },
   "outputs": [
    {
     "name": "stdout",
     "output_type": "stream",
     "text": [
      "----------------------------------------------------------------------\n",
      " Classification Metrics: Training Data\n",
      "----------------------------------------------------------------------\n",
      "              precision    recall  f1-score   support\n",
      "\n",
      "           0       1.00      1.00      1.00      1376\n",
      "           1       1.00      1.00      1.00      1102\n",
      "\n",
      "    accuracy                           1.00      2478\n",
      "   macro avg       1.00      1.00      1.00      2478\n",
      "weighted avg       1.00      1.00      1.00      2478\n",
      "\n",
      "\n",
      "----------------------------------------------------------------------\n",
      " Classification Metrics: Test Data\n",
      "----------------------------------------------------------------------\n",
      "              precision    recall  f1-score   support\n",
      "\n",
      "           0       0.94      0.93      0.94       492\n",
      "           1       0.90      0.91      0.91       335\n",
      "\n",
      "    accuracy                           0.93       827\n",
      "   macro avg       0.92      0.92      0.92       827\n",
      "weighted avg       0.93      0.93      0.93       827\n",
      "\n"
     ]
    },
    {
     "name": "stderr",
     "output_type": "stream",
     "text": [
      "/opt/homebrew/Caskroom/miniforge/base/envs/dojo-env/lib/python3.10/site-packages/dojo_ds/evaluate.py:69: UserWarning: FigureCanvasAgg is non-interactive, and thus cannot be shown\n",
      "  plt.show()\n",
      "/opt/homebrew/Caskroom/miniforge/base/envs/dojo-env/lib/python3.10/site-packages/dojo_ds/evaluate.py:69: UserWarning: FigureCanvasAgg is non-interactive, and thus cannot be shown\n",
      "  plt.show()\n"
     ]
    }
   ],
   "source": [
    "vectorizer = CountVectorizer(stop_words=None,\n",
    "    ngram_range=(1,1))\n",
    "\n",
    "clf_logreg = Pipeline([\n",
    "    ('vectorizer',vectorizer),\n",
    "    ('clf',LogisticRegression(max_iter=500,C=1e12))\n",
    "])\n",
    "\n",
    "## Fit an evaluate a Logistic Regression\n",
    "clf_logreg.fit(X_train, y_train)\n",
    "ds.evaluate.evaluate_classification(clf_logreg, X_train,y_train, X_test, y_test)\n",
    "# joblib.dump(clf_logreg, FPATHS['models']['ml']['logreg_joblib'])"
   ]
  },
  {
   "cell_type": "code",
   "execution_count": 39,
   "id": "ae3c383c-2de4-469c-bccf-7b950e018f5a",
   "metadata": {
    "execution": {
     "iopub.execute_input": "2024-02-12T01:18:23.348440Z",
     "iopub.status.busy": "2024-02-12T01:18:23.348274Z",
     "iopub.status.idle": "2024-02-12T01:18:23.961450Z",
     "shell.execute_reply": "2024-02-12T01:18:23.961098Z",
     "shell.execute_reply.started": "2024-02-12T01:18:23.348429Z"
    }
   },
   "outputs": [
    {
     "name": "stdout",
     "output_type": "stream",
     "text": [
      "----------------------------------------------------------------------\n",
      " Classification Metrics: Training Data\n",
      "----------------------------------------------------------------------\n",
      "              precision    recall  f1-score   support\n",
      "\n",
      "           0       1.00      1.00      1.00      1376\n",
      "           1       1.00      1.00      1.00      1102\n",
      "\n",
      "    accuracy                           1.00      2478\n",
      "   macro avg       1.00      1.00      1.00      2478\n",
      "weighted avg       1.00      1.00      1.00      2478\n",
      "\n",
      "\n",
      "----------------------------------------------------------------------\n",
      " Classification Metrics: Test Data\n",
      "----------------------------------------------------------------------\n",
      "              precision    recall  f1-score   support\n",
      "\n",
      "           0       0.95      0.95      0.95       492\n",
      "           1       0.93      0.93      0.93       335\n",
      "\n",
      "    accuracy                           0.94       827\n",
      "   macro avg       0.94      0.94      0.94       827\n",
      "weighted avg       0.94      0.94      0.94       827\n",
      "\n"
     ]
    },
    {
     "name": "stderr",
     "output_type": "stream",
     "text": [
      "/opt/homebrew/Caskroom/miniforge/base/envs/dojo-env/lib/python3.10/site-packages/dojo_ds/evaluate.py:69: UserWarning: FigureCanvasAgg is non-interactive, and thus cannot be shown\n",
      "  plt.show()\n",
      "/opt/homebrew/Caskroom/miniforge/base/envs/dojo-env/lib/python3.10/site-packages/dojo_ds/evaluate.py:69: UserWarning: FigureCanvasAgg is non-interactive, and thus cannot be shown\n",
      "  plt.show()\n"
     ]
    },
    {
     "data": {
      "text/plain": [
       "['models/log-reg.joblib']"
      ]
     },
     "execution_count": 39,
     "metadata": {},
     "output_type": "execute_result"
    }
   ],
   "source": [
    "# Logreg-tfidf\n",
    "\n",
    "vectorizer = TfidfVectorizer(stop_words='english',#None,\n",
    "    ngram_range=(1,2))\n",
    "\n",
    "clf_logreg = Pipeline([\n",
    "    ('vectorizer',vectorizer),\n",
    "    ('clf',LogisticRegression(max_iter=500,C=1e12))\n",
    "])\n",
    "\n",
    "## Fit an evaluate a Logistic Regression\n",
    "clf_logreg.fit(X_train, y_train)\n",
    "ds.evaluate.evaluate_classification(clf_logreg, X_train,y_train, X_test, y_test)\n",
    "joblib.dump(clf_logreg, FPATHS['models']['ml']['logreg_joblib'])"
   ]
  },
  {
   "cell_type": "code",
   "execution_count": null,
   "id": "2ca6ed65-5db4-4c4b-b82a-f5161042e949",
   "metadata": {},
   "outputs": [],
   "source": []
  },
  {
   "cell_type": "code",
   "execution_count": 40,
   "id": "b79410f1-b72f-47f4-a3c3-12f8a7a3c4cd",
   "metadata": {
    "execution": {
     "iopub.execute_input": "2024-02-12T00:10:32.817998Z",
     "iopub.status.busy": "2024-02-12T00:10:32.817541Z",
     "iopub.status.idle": "2024-02-12T00:10:40.326686Z",
     "shell.execute_reply": "2024-02-12T00:10:40.326332Z",
     "shell.execute_reply.started": "2024-02-12T00:10:32.817973Z"
    }
   },
   "outputs": [
    {
     "name": "stdout",
     "output_type": "stream",
     "text": [
      "----------------------------------------------------------------------\n",
      " Classification Metrics: Training Data\n",
      "----------------------------------------------------------------------\n",
      "              precision    recall  f1-score   support\n",
      "\n",
      "           0       1.00      1.00      1.00      1376\n",
      "           1       1.00      1.00      1.00      1102\n",
      "\n",
      "    accuracy                           1.00      2478\n",
      "   macro avg       1.00      1.00      1.00      2478\n",
      "weighted avg       1.00      1.00      1.00      2478\n",
      "\n",
      "\n",
      "----------------------------------------------------------------------\n",
      " Classification Metrics: Test Data\n",
      "----------------------------------------------------------------------\n",
      "              precision    recall  f1-score   support\n",
      "\n",
      "           0       0.96      0.97      0.96       492\n",
      "           1       0.95      0.93      0.94       335\n",
      "\n",
      "    accuracy                           0.96       827\n",
      "   macro avg       0.96      0.95      0.95       827\n",
      "weighted avg       0.96      0.96      0.96       827\n",
      "\n"
     ]
    },
    {
     "name": "stderr",
     "output_type": "stream",
     "text": [
      "/opt/homebrew/Caskroom/miniforge/base/envs/dojo-env/lib/python3.10/site-packages/dojo_ds/evaluate.py:69: UserWarning: FigureCanvasAgg is non-interactive, and thus cannot be shown\n",
      "  plt.show()\n",
      "/opt/homebrew/Caskroom/miniforge/base/envs/dojo-env/lib/python3.10/site-packages/dojo_ds/evaluate.py:69: UserWarning: FigureCanvasAgg is non-interactive, and thus cannot be shown\n",
      "  plt.show()\n"
     ]
    }
   ],
   "source": [
    "# TEMP COMMENTED OUT\n",
    "# LogregCV-tfidf \n",
    "\n",
    "vectorizer = TfidfVectorizer(stop_words=None,\n",
    "    ngram_range=(1,2))\n",
    "\n",
    "clf_logreg = Pipeline([\n",
    "    ('vectorizer',vectorizer),\n",
    "    ('clf',LogisticRegressionCV(max_iter=200))\n",
    "])\n",
    "\n",
    "## Fit an evaluate a Logistic Regression\n",
    "clf_logreg.fit(X_train, y_train)\n",
    "ds.evaluate.evaluate_classification(clf_logreg, X_train,y_train, X_test, y_test)\n",
    "# joblib.dump(clf_logreg, FPATHS['models']['ml']['logreg'])"
   ]
  },
  {
   "cell_type": "markdown",
   "id": "22f59885-5309-432a-972b-c3fb83028423",
   "metadata": {},
   "source": [
    "### RandomForest"
   ]
  },
  {
   "cell_type": "code",
   "execution_count": 41,
   "id": "f02eb928-9484-4c97-81e1-eb2a61860309",
   "metadata": {
    "execution": {
     "iopub.execute_input": "2024-02-12T00:10:40.327554Z",
     "iopub.status.busy": "2024-02-12T00:10:40.327463Z",
     "iopub.status.idle": "2024-02-12T00:10:41.017985Z",
     "shell.execute_reply": "2024-02-12T00:10:41.017644Z",
     "shell.execute_reply.started": "2024-02-12T00:10:40.327545Z"
    }
   },
   "outputs": [
    {
     "name": "stdout",
     "output_type": "stream",
     "text": [
      "----------------------------------------------------------------------\n",
      " Classification Metrics: Training Data\n",
      "----------------------------------------------------------------------\n",
      "              precision    recall  f1-score   support\n",
      "\n",
      "           0       1.00      1.00      1.00      1376\n",
      "           1       1.00      1.00      1.00      1102\n",
      "\n",
      "    accuracy                           1.00      2478\n",
      "   macro avg       1.00      1.00      1.00      2478\n",
      "weighted avg       1.00      1.00      1.00      2478\n",
      "\n",
      "\n",
      "----------------------------------------------------------------------\n",
      " Classification Metrics: Test Data\n",
      "----------------------------------------------------------------------\n",
      "              precision    recall  f1-score   support\n",
      "\n",
      "           0       0.89      0.96      0.93       492\n",
      "           1       0.93      0.83      0.88       335\n",
      "\n",
      "    accuracy                           0.91       827\n",
      "   macro avg       0.91      0.90      0.90       827\n",
      "weighted avg       0.91      0.91      0.91       827\n",
      "\n"
     ]
    },
    {
     "name": "stderr",
     "output_type": "stream",
     "text": [
      "/opt/homebrew/Caskroom/miniforge/base/envs/dojo-env/lib/python3.10/site-packages/dojo_ds/evaluate.py:69: UserWarning: FigureCanvasAgg is non-interactive, and thus cannot be shown\n",
      "  plt.show()\n",
      "/opt/homebrew/Caskroom/miniforge/base/envs/dojo-env/lib/python3.10/site-packages/dojo_ds/evaluate.py:69: UserWarning: FigureCanvasAgg is non-interactive, and thus cannot be shown\n",
      "  plt.show()\n"
     ]
    }
   ],
   "source": [
    "vectorizer = CountVectorizer(stop_words=None,\n",
    "    ngram_range=(1,1))\n",
    "\n",
    "clf_rf = Pipeline([\n",
    "    ('vectorizer',vectorizer),\n",
    "    ('clf',RandomForestClassifier(class_weight='balanced'))\n",
    "])\n",
    "\n",
    "## Fit an evaluate a Logistic Regression\n",
    "clf_rf.fit(X_train, y_train)\n",
    "ds.evaluate.evaluate_classification(clf_rf, X_train,y_train, X_test, y_test)\n",
    "# joblib.dump(clf_rf, FPATHS['models']['ml']['random_forest_joblib'])"
   ]
  },
  {
   "cell_type": "code",
   "execution_count": 42,
   "id": "b6bd9ef1-4133-4f4b-b429-3177fae4a49e",
   "metadata": {
    "execution": {
     "iopub.execute_input": "2024-02-12T00:10:41.018655Z",
     "iopub.status.busy": "2024-02-12T00:10:41.018563Z",
     "iopub.status.idle": "2024-02-12T00:10:42.654508Z",
     "shell.execute_reply": "2024-02-12T00:10:42.654070Z",
     "shell.execute_reply.started": "2024-02-12T00:10:41.018647Z"
    }
   },
   "outputs": [
    {
     "name": "stdout",
     "output_type": "stream",
     "text": [
      "----------------------------------------------------------------------\n",
      " Classification Metrics: Training Data\n",
      "----------------------------------------------------------------------\n",
      "              precision    recall  f1-score   support\n",
      "\n",
      "           0       1.00      1.00      1.00      1376\n",
      "           1       1.00      1.00      1.00      1102\n",
      "\n",
      "    accuracy                           1.00      2478\n",
      "   macro avg       1.00      1.00      1.00      2478\n",
      "weighted avg       1.00      1.00      1.00      2478\n",
      "\n",
      "\n",
      "----------------------------------------------------------------------\n",
      " Classification Metrics: Test Data\n",
      "----------------------------------------------------------------------\n",
      "              precision    recall  f1-score   support\n",
      "\n",
      "           0       0.90      0.95      0.93       492\n",
      "           1       0.92      0.85      0.89       335\n",
      "\n",
      "    accuracy                           0.91       827\n",
      "   macro avg       0.91      0.90      0.91       827\n",
      "weighted avg       0.91      0.91      0.91       827\n",
      "\n"
     ]
    },
    {
     "name": "stderr",
     "output_type": "stream",
     "text": [
      "/opt/homebrew/Caskroom/miniforge/base/envs/dojo-env/lib/python3.10/site-packages/dojo_ds/evaluate.py:69: UserWarning: FigureCanvasAgg is non-interactive, and thus cannot be shown\n",
      "  plt.show()\n",
      "/opt/homebrew/Caskroom/miniforge/base/envs/dojo-env/lib/python3.10/site-packages/dojo_ds/evaluate.py:69: UserWarning: FigureCanvasAgg is non-interactive, and thus cannot be shown\n",
      "  plt.show()\n"
     ]
    }
   ],
   "source": [
    "vectorizer = TfidfVectorizer(stop_words='english',\n",
    "    ngram_range=(1,2))\n",
    "\n",
    "clf_rf = Pipeline([\n",
    "    ('vectorizer',vectorizer),\n",
    "    ('clf',RandomForestClassifier(class_weight='balanced'))\n",
    "])\n",
    "\n",
    "## Fit an evaluate a Logistic Regression\n",
    "clf_rf.fit(X_train, y_train)\n",
    "ds.evaluate.evaluate_classification(clf_rf, X_train,y_train, X_test, y_test)\n",
    "# joblib.dump(clf_rf, FPATHS['models']['ml']['random_forest_joblib'])"
   ]
  },
  {
   "cell_type": "markdown",
   "id": "73c8fea0-03b7-4f05-986e-6a2339ba520e",
   "metadata": {},
   "source": [
    "### SVC"
   ]
  },
  {
   "cell_type": "code",
   "execution_count": 43,
   "id": "4085804a-eef7-4676-966a-e2233857379a",
   "metadata": {
    "execution": {
     "iopub.execute_input": "2024-02-12T00:10:42.656417Z",
     "iopub.status.busy": "2024-02-12T00:10:42.655948Z",
     "iopub.status.idle": "2024-02-12T00:10:42.926112Z",
     "shell.execute_reply": "2024-02-12T00:10:42.925790Z",
     "shell.execute_reply.started": "2024-02-12T00:10:42.656403Z"
    }
   },
   "outputs": [
    {
     "name": "stderr",
     "output_type": "stream",
     "text": [
      "/Users/codingdojo/.local/lib/python3.10/site-packages/sklearn/svm/_classes.py:31: FutureWarning: The default value of `dual` will change from `True` to `'auto'` in 1.5. Set the value of `dual` explicitly to suppress the warning.\n",
      "  warnings.warn(\n"
     ]
    },
    {
     "name": "stdout",
     "output_type": "stream",
     "text": [
      "----------------------------------------------------------------------\n",
      " Classification Metrics: Training Data\n",
      "----------------------------------------------------------------------\n",
      "              precision    recall  f1-score   support\n",
      "\n",
      "           0       1.00      1.00      1.00      1376\n",
      "           1       1.00      1.00      1.00      1102\n",
      "\n",
      "    accuracy                           1.00      2478\n",
      "   macro avg       1.00      1.00      1.00      2478\n",
      "weighted avg       1.00      1.00      1.00      2478\n",
      "\n",
      "\n",
      "----------------------------------------------------------------------\n",
      " Classification Metrics: Test Data\n",
      "----------------------------------------------------------------------\n",
      "              precision    recall  f1-score   support\n",
      "\n",
      "           0       0.96      0.95      0.96       492\n",
      "           1       0.92      0.95      0.94       335\n",
      "\n",
      "    accuracy                           0.95       827\n",
      "   macro avg       0.94      0.95      0.95       827\n",
      "weighted avg       0.95      0.95      0.95       827\n",
      "\n"
     ]
    },
    {
     "name": "stderr",
     "output_type": "stream",
     "text": [
      "/opt/homebrew/Caskroom/miniforge/base/envs/dojo-env/lib/python3.10/site-packages/dojo_ds/evaluate.py:69: UserWarning: FigureCanvasAgg is non-interactive, and thus cannot be shown\n",
      "  plt.show()\n",
      "/opt/homebrew/Caskroom/miniforge/base/envs/dojo-env/lib/python3.10/site-packages/dojo_ds/evaluate.py:69: UserWarning: FigureCanvasAgg is non-interactive, and thus cannot be shown\n",
      "  plt.show()\n"
     ]
    }
   ],
   "source": [
    "from sklearn.svm import SVC, LinearSVC\n",
    "\n",
    "vectorizer = TfidfVectorizer(stop_words=None,\n",
    "    ngram_range=(1,1))\n",
    "\n",
    "clf_pipe = Pipeline([\n",
    "    ('vectorizer',vectorizer),\n",
    "    ('clf',LinearSVC(class_weight='balanced'))\n",
    "])\n",
    "\n",
    "## Fit an evaluate a Logistic Regression\n",
    "clf_pipe.fit(X_train, y_train)\n",
    "ds.evaluate.evaluate_classification(clf_pipe, X_train,y_train, X_test, y_test,\n",
    "                                    # target_names=encoder.classes_,\n",
    "                                    figsize=(8,10))\n",
    "# joblib.dump(clf_rf, FPATHS['models']['ml']['random_forest'])"
   ]
  },
  {
   "cell_type": "markdown",
   "id": "eaa50be4-d402-404a-834b-46fb2262c19a",
   "metadata": {},
   "source": [
    "# (Bonus/Optional) GridSearch Text Preprocessing Params"
   ]
  },
  {
   "cell_type": "markdown",
   "id": "347cdb04-b608-423b-839b-1ac0255c6609",
   "metadata": {},
   "source": [
    "We can tune our text preprocessing choices using gridsearch."
   ]
  },
  {
   "cell_type": "code",
   "execution_count": 44,
   "id": "629bc97f-b49f-451a-a7c7-136bf9c9a9e9",
   "metadata": {
    "execution": {
     "iopub.status.busy": "2024-02-09T02:49:18.502168Z",
     "iopub.status.idle": "2024-02-09T02:49:18.502319Z",
     "shell.execute_reply": "2024-02-09T02:49:18.502245Z",
     "shell.execute_reply.started": "2024-02-09T02:49:18.502239Z"
    }
   },
   "outputs": [
    {
     "data": {
      "text/plain": [
       "{'memory': None,\n",
       " 'steps': [('vectorizer', CountVectorizer()), ('clf', MultinomialNB())],\n",
       " 'verbose': False,\n",
       " 'vectorizer': CountVectorizer(),\n",
       " 'clf': MultinomialNB(),\n",
       " 'vectorizer__analyzer': 'word',\n",
       " 'vectorizer__binary': False,\n",
       " 'vectorizer__decode_error': 'strict',\n",
       " 'vectorizer__dtype': numpy.int64,\n",
       " 'vectorizer__encoding': 'utf-8',\n",
       " 'vectorizer__input': 'content',\n",
       " 'vectorizer__lowercase': True,\n",
       " 'vectorizer__max_df': 1.0,\n",
       " 'vectorizer__max_features': None,\n",
       " 'vectorizer__min_df': 1,\n",
       " 'vectorizer__ngram_range': (1, 1),\n",
       " 'vectorizer__preprocessor': None,\n",
       " 'vectorizer__stop_words': None,\n",
       " 'vectorizer__strip_accents': None,\n",
       " 'vectorizer__token_pattern': '(?u)\\\\b\\\\w\\\\w+\\\\b',\n",
       " 'vectorizer__tokenizer': None,\n",
       " 'vectorizer__vocabulary': None,\n",
       " 'clf__alpha': 1.0,\n",
       " 'clf__class_prior': None,\n",
       " 'clf__fit_prior': True,\n",
       " 'clf__force_alpha': True}"
      ]
     },
     "execution_count": 44,
     "metadata": {},
     "output_type": "execute_result"
    }
   ],
   "source": [
    "gs_pipe = Pipeline([('vectorizer',CountVectorizer()),\n",
    "                    ('clf',MultinomialNB())])\n",
    "gs_pipe.get_params()"
   ]
  },
  {
   "cell_type": "code",
   "execution_count": 45,
   "id": "3e28d0f1-1089-47aa-874c-5636b7114159",
   "metadata": {
    "execution": {
     "iopub.status.busy": "2024-02-09T02:49:18.502756Z",
     "iopub.status.idle": "2024-02-09T02:49:18.502879Z",
     "shell.execute_reply": "2024-02-09T02:49:18.502817Z",
     "shell.execute_reply.started": "2024-02-09T02:49:18.502811Z"
    }
   },
   "outputs": [
    {
     "data": {
      "text/plain": [
       "[{'vectorizer': [CountVectorizer()],\n",
       "  'vectorizer__max_df': [0.7, 0.8, 0.9],\n",
       "  'vectorizer__min_df': [2, 3, 4],\n",
       "  'vectorizer__max_features': [None, 1000, 2000],\n",
       "  'vectorizer__stop_words': [None, 'english']},\n",
       " {'vectorizer': [TfidfVectorizer()],\n",
       "  'vectorizer__norm': ['l1', 'l2'],\n",
       "  'vectorizer__use_idf': [True, False],\n",
       "  'vectorizer__max_df': [0.7, 0.8, 0.9],\n",
       "  'vectorizer__min_df': [2, 3, 4],\n",
       "  'vectorizer__max_features': [None, 1000, 2000],\n",
       "  'vectorizer__stop_words': [None, 'english']}]"
      ]
     },
     "execution_count": 45,
     "metadata": {},
     "output_type": "execute_result"
    }
   ],
   "source": [
    "# Define params to try for both vectorizers\n",
    "param_grid_shared = {\n",
    "    \"vectorizer__max_df\": [0.7, 0.8, 0.9],\n",
    "    'vectorizer__min_df': [ 2, 3, 4 ], \n",
    "    \"vectorizer__max_features\": [None, 1000, 2000],\n",
    "    \"vectorizer__stop_words\": [None,'english']\n",
    "}\n",
    "\n",
    "# Setting params for the count vectorizer\n",
    "param_grid_count = {\n",
    "    'vectorizer':[CountVectorizer()],\n",
    "    **param_grid_shared\n",
    "}\n",
    "\n",
    "\n",
    "# Setting params for tfidf vectorizer \n",
    "param_grid_tfidf = {\n",
    "    'vectorizer': [TfidfVectorizer()],\n",
    "    \"vectorizer__norm\": [\"l1\", \"l2\"],\n",
    "    \"vectorizer__use_idf\": [True, False],\n",
    "    **param_grid_shared\n",
    "}\n",
    "\n",
    "# combine into list of params\n",
    "params_combined = [param_grid_count, param_grid_tfidf]\n",
    "params_combined"
   ]
  },
  {
   "cell_type": "code",
   "execution_count": 46,
   "id": "2a9a1e63-01aa-4ac1-8066-3e155f292796",
   "metadata": {
    "execution": {
     "iopub.status.busy": "2024-02-09T02:49:18.503342Z",
     "iopub.status.idle": "2024-02-09T02:49:18.503463Z",
     "shell.execute_reply": "2024-02-09T02:49:18.503401Z",
     "shell.execute_reply.started": "2024-02-09T02:49:18.503395Z"
    }
   },
   "outputs": [
    {
     "name": "stdout",
     "output_type": "stream",
     "text": [
      "Fitting 3 folds for each of 270 candidates, totalling 810 fits\n"
     ]
    },
    {
     "data": {
      "text/plain": [
       "{'vectorizer': CountVectorizer(),\n",
       " 'vectorizer__max_df': 0.7,\n",
       " 'vectorizer__max_features': None,\n",
       " 'vectorizer__min_df': 2,\n",
       " 'vectorizer__stop_words': None}"
      ]
     },
     "execution_count": 46,
     "metadata": {},
     "output_type": "execute_result"
    }
   ],
   "source": [
    "# %%time\n",
    "# Create grid search\n",
    "grid_search = GridSearchCV(gs_pipe, params_combined, cv=3, verbose=1, n_jobs=-1)\n",
    "    \n",
    "    \n",
    "# Fit the model\n",
    "grid_search.fit(X_train, y_train)\n",
    "grid_search.best_params_"
   ]
  },
  {
   "cell_type": "code",
   "execution_count": 47,
   "id": "378c6e92-bca3-459f-be67-28ef0e804c4d",
   "metadata": {
    "execution": {
     "iopub.status.busy": "2024-02-09T02:49:18.503850Z",
     "iopub.status.idle": "2024-02-09T02:49:18.503971Z",
     "shell.execute_reply": "2024-02-09T02:49:18.503909Z",
     "shell.execute_reply.started": "2024-02-09T02:49:18.503904Z"
    }
   },
   "outputs": [
    {
     "name": "stdout",
     "output_type": "stream",
     "text": [
      "----------------------------------------------------------------------\n",
      " Classification Metrics: Training Data\n",
      "----------------------------------------------------------------------\n",
      "              precision    recall  f1-score   support\n",
      "\n",
      "           0       0.97      0.97      0.97      1376\n",
      "           1       0.97      0.97      0.97      1102\n",
      "\n",
      "    accuracy                           0.97      2478\n",
      "   macro avg       0.97      0.97      0.97      2478\n",
      "weighted avg       0.97      0.97      0.97      2478\n",
      "\n",
      "\n",
      "----------------------------------------------------------------------\n",
      " Classification Metrics: Test Data\n",
      "----------------------------------------------------------------------\n",
      "              precision    recall  f1-score   support\n",
      "\n",
      "           0       0.94      0.97      0.96       492\n",
      "           1       0.95      0.91      0.93       335\n",
      "\n",
      "    accuracy                           0.95       827\n",
      "   macro avg       0.95      0.94      0.94       827\n",
      "weighted avg       0.95      0.95      0.95       827\n",
      "\n"
     ]
    },
    {
     "name": "stderr",
     "output_type": "stream",
     "text": [
      "/opt/homebrew/Caskroom/miniforge/base/envs/dojo-env/lib/python3.10/site-packages/dojo_ds/evaluate.py:69: UserWarning: FigureCanvasAgg is non-interactive, and thus cannot be shown\n",
      "  plt.show()\n",
      "/opt/homebrew/Caskroom/miniforge/base/envs/dojo-env/lib/python3.10/site-packages/dojo_ds/evaluate.py:69: UserWarning: FigureCanvasAgg is non-interactive, and thus cannot be shown\n",
      "  plt.show()\n"
     ]
    }
   ],
   "source": [
    "best_gs_pipe = grid_search.best_estimator_\n",
    "ds.evaluate.evaluate_classification(best_gs_pipe, X_train, y_train, X_test, y_test)"
   ]
  },
  {
   "cell_type": "markdown",
   "id": "a57660d6-a038-4c0c-8b09-3a56cf84d506",
   "metadata": {},
   "source": [
    "### RandomForest"
   ]
  },
  {
   "cell_type": "code",
   "execution_count": 48,
   "id": "cba57894-d889-4442-8d99-ba03a32a94d0",
   "metadata": {
    "execution": {
     "iopub.status.busy": "2024-02-09T02:49:18.504575Z",
     "iopub.status.idle": "2024-02-09T02:49:18.504782Z",
     "shell.execute_reply": "2024-02-09T02:49:18.504720Z",
     "shell.execute_reply.started": "2024-02-09T02:49:18.504714Z"
    },
    "scrolled": true
   },
   "outputs": [
    {
     "data": {
      "text/plain": [
       "{'memory': None,\n",
       " 'steps': [('vectorizer', CountVectorizer()),\n",
       "  ('clf', RandomForestClassifier(class_weight='balanced'))],\n",
       " 'verbose': False,\n",
       " 'vectorizer': CountVectorizer(),\n",
       " 'clf': RandomForestClassifier(class_weight='balanced'),\n",
       " 'vectorizer__analyzer': 'word',\n",
       " 'vectorizer__binary': False,\n",
       " 'vectorizer__decode_error': 'strict',\n",
       " 'vectorizer__dtype': numpy.int64,\n",
       " 'vectorizer__encoding': 'utf-8',\n",
       " 'vectorizer__input': 'content',\n",
       " 'vectorizer__lowercase': True,\n",
       " 'vectorizer__max_df': 1.0,\n",
       " 'vectorizer__max_features': None,\n",
       " 'vectorizer__min_df': 1,\n",
       " 'vectorizer__ngram_range': (1, 1),\n",
       " 'vectorizer__preprocessor': None,\n",
       " 'vectorizer__stop_words': None,\n",
       " 'vectorizer__strip_accents': None,\n",
       " 'vectorizer__token_pattern': '(?u)\\\\b\\\\w\\\\w+\\\\b',\n",
       " 'vectorizer__tokenizer': None,\n",
       " 'vectorizer__vocabulary': None,\n",
       " 'clf__bootstrap': True,\n",
       " 'clf__ccp_alpha': 0.0,\n",
       " 'clf__class_weight': 'balanced',\n",
       " 'clf__criterion': 'gini',\n",
       " 'clf__max_depth': None,\n",
       " 'clf__max_features': 'sqrt',\n",
       " 'clf__max_leaf_nodes': None,\n",
       " 'clf__max_samples': None,\n",
       " 'clf__min_impurity_decrease': 0.0,\n",
       " 'clf__min_samples_leaf': 1,\n",
       " 'clf__min_samples_split': 2,\n",
       " 'clf__min_weight_fraction_leaf': 0.0,\n",
       " 'clf__monotonic_cst': None,\n",
       " 'clf__n_estimators': 100,\n",
       " 'clf__n_jobs': None,\n",
       " 'clf__oob_score': False,\n",
       " 'clf__random_state': None,\n",
       " 'clf__verbose': 0,\n",
       " 'clf__warm_start': False}"
      ]
     },
     "execution_count": 48,
     "metadata": {},
     "output_type": "execute_result"
    }
   ],
   "source": [
    "rf_pipe  = Pipeline([('vectorizer',CountVectorizer()),\n",
    "                    ('clf',RandomForestClassifier(class_weight='balanced'))])\n",
    "rf_pipe.get_params()"
   ]
  },
  {
   "cell_type": "code",
   "execution_count": 49,
   "id": "33df014d-5b7e-4df9-8cab-32de38ae69ce",
   "metadata": {
    "execution": {
     "iopub.status.busy": "2024-02-09T02:49:18.505225Z",
     "iopub.status.idle": "2024-02-09T02:49:18.505363Z",
     "shell.execute_reply": "2024-02-09T02:49:18.505297Z",
     "shell.execute_reply.started": "2024-02-09T02:49:18.505291Z"
    }
   },
   "outputs": [
    {
     "name": "stdout",
     "output_type": "stream",
     "text": [
      "Fitting 3 folds for each of 270 candidates, totalling 810 fits\n",
      "CPU times: user 2.44 s, sys: 539 ms, total: 2.98 s\n",
      "Wall time: 30.3 s\n"
     ]
    },
    {
     "data": {
      "text/plain": [
       "{'vectorizer': TfidfVectorizer(),\n",
       " 'vectorizer__max_df': 0.8,\n",
       " 'vectorizer__max_features': 1000,\n",
       " 'vectorizer__min_df': 3,\n",
       " 'vectorizer__norm': 'l1',\n",
       " 'vectorizer__stop_words': None,\n",
       " 'vectorizer__use_idf': True}"
      ]
     },
     "execution_count": 49,
     "metadata": {},
     "output_type": "execute_result"
    }
   ],
   "source": [
    "%%time\n",
    "# Create grid search\n",
    "grid_search = GridSearchCV(rf_pipe, params_combined, cv=3, verbose=1, n_jobs=-1)\n",
    "    \n",
    "    \n",
    "# Fit the model\n",
    "grid_search.fit(X_train, y_train)\n",
    "grid_search.best_params_"
   ]
  },
  {
   "cell_type": "code",
   "execution_count": 50,
   "id": "60ffbed4-548f-48e3-9856-106b04725afb",
   "metadata": {
    "execution": {
     "iopub.status.busy": "2024-02-09T02:49:18.505745Z",
     "iopub.status.idle": "2024-02-09T02:49:18.505870Z",
     "shell.execute_reply": "2024-02-09T02:49:18.505807Z",
     "shell.execute_reply.started": "2024-02-09T02:49:18.505802Z"
    },
    "scrolled": true
   },
   "outputs": [
    {
     "name": "stdout",
     "output_type": "stream",
     "text": [
      "----------------------------------------------------------------------\n",
      " Classification Metrics: Training Data\n",
      "----------------------------------------------------------------------\n",
      "              precision    recall  f1-score   support\n",
      "\n",
      "           0       1.00      1.00      1.00      1376\n",
      "           1       1.00      1.00      1.00      1102\n",
      "\n",
      "    accuracy                           1.00      2478\n",
      "   macro avg       1.00      1.00      1.00      2478\n",
      "weighted avg       1.00      1.00      1.00      2478\n",
      "\n",
      "\n",
      "----------------------------------------------------------------------\n",
      " Classification Metrics: Test Data\n",
      "----------------------------------------------------------------------\n",
      "              precision    recall  f1-score   support\n",
      "\n",
      "           0       0.90      0.96      0.93       492\n",
      "           1       0.93      0.85      0.89       335\n",
      "\n",
      "    accuracy                           0.91       827\n",
      "   macro avg       0.92      0.90      0.91       827\n",
      "weighted avg       0.91      0.91      0.91       827\n",
      "\n"
     ]
    },
    {
     "name": "stderr",
     "output_type": "stream",
     "text": [
      "/opt/homebrew/Caskroom/miniforge/base/envs/dojo-env/lib/python3.10/site-packages/dojo_ds/evaluate.py:69: UserWarning: FigureCanvasAgg is non-interactive, and thus cannot be shown\n",
      "  plt.show()\n",
      "/opt/homebrew/Caskroom/miniforge/base/envs/dojo-env/lib/python3.10/site-packages/dojo_ds/evaluate.py:45: RuntimeWarning: More than 20 figures have been opened. Figures created through the pyplot interface (`matplotlib.pyplot.figure`) are retained until explicitly closed and may consume too much memory. (To control this warning, see the rcParam `figure.max_open_warning`). Consider using `matplotlib.pyplot.close()`.\n",
      "  fig, axes = plt.subplots(ncols=2, figsize=figsize)\n",
      "/opt/homebrew/Caskroom/miniforge/base/envs/dojo-env/lib/python3.10/site-packages/dojo_ds/evaluate.py:69: UserWarning: FigureCanvasAgg is non-interactive, and thus cannot be shown\n",
      "  plt.show()\n"
     ]
    }
   ],
   "source": [
    "best_rf_pipe = grid_search.best_estimator_\n",
    "ds.evaluate.evaluate_classification(best_rf_pipe, X_train, y_train, X_test, y_test)"
   ]
  },
  {
   "cell_type": "markdown",
   "id": "3609fab4-0e52-4cf4-b49c-d78e60eea88c",
   "metadata": {},
   "source": [
    "### LogReg"
   ]
  },
  {
   "cell_type": "code",
   "execution_count": null,
   "id": "d1d190da-03ac-4c5b-9ea7-efa0941050da",
   "metadata": {},
   "outputs": [],
   "source": []
  },
  {
   "cell_type": "code",
   "execution_count": 51,
   "id": "b09efff1-d35d-43c7-890b-d64b93203375",
   "metadata": {
    "execution": {
     "iopub.status.busy": "2024-02-09T02:49:18.506509Z",
     "iopub.status.idle": "2024-02-09T02:49:18.506639Z",
     "shell.execute_reply": "2024-02-09T02:49:18.506574Z",
     "shell.execute_reply.started": "2024-02-09T02:49:18.506568Z"
    },
    "scrolled": true
   },
   "outputs": [],
   "source": [
    "logreg_pipe  = Pipeline([('vectorizer',CountVectorizer()),\n",
    "                    ('clf',LogisticRegression(max_iter=500, class_weight='balanced'))])\n",
    "# logreg_pipe.get_params()"
   ]
  },
  {
   "cell_type": "code",
   "execution_count": 52,
   "id": "2dad56d1-ed06-4873-9a10-4ae9505eea80",
   "metadata": {
    "execution": {
     "iopub.status.busy": "2024-02-09T02:49:18.506990Z",
     "iopub.status.idle": "2024-02-09T02:49:18.507184Z",
     "shell.execute_reply": "2024-02-09T02:49:18.507081Z",
     "shell.execute_reply.started": "2024-02-09T02:49:18.507071Z"
    },
    "scrolled": true
   },
   "outputs": [
    {
     "name": "stdout",
     "output_type": "stream",
     "text": [
      "Fitting 3 folds for each of 270 candidates, totalling 810 fits\n",
      "CPU times: user 783 ms, sys: 167 ms, total: 950 ms\n",
      "Wall time: 5.22 s\n"
     ]
    },
    {
     "data": {
      "text/plain": [
       "{'vectorizer': TfidfVectorizer(),\n",
       " 'vectorizer__max_df': 0.7,\n",
       " 'vectorizer__max_features': None,\n",
       " 'vectorizer__min_df': 2,\n",
       " 'vectorizer__norm': 'l2',\n",
       " 'vectorizer__stop_words': None,\n",
       " 'vectorizer__use_idf': True}"
      ]
     },
     "execution_count": 52,
     "metadata": {},
     "output_type": "execute_result"
    }
   ],
   "source": [
    "%%time\n",
    "# Create grid search\n",
    "grid_search = GridSearchCV(logreg_pipe, params_combined, cv=3, verbose=1, n_jobs=-1)\n",
    "    \n",
    "    \n",
    "# Fit the model\n",
    "grid_search.fit(X_train, y_train)\n",
    "grid_search.best_params_"
   ]
  },
  {
   "cell_type": "code",
   "execution_count": 53,
   "id": "b01e623d-8ea6-4f7b-8907-78a4e3332cb3",
   "metadata": {
    "execution": {
     "iopub.status.busy": "2024-02-09T02:49:18.507674Z",
     "iopub.status.idle": "2024-02-09T02:49:18.508145Z",
     "shell.execute_reply": "2024-02-09T02:49:18.508054Z",
     "shell.execute_reply.started": "2024-02-09T02:49:18.508045Z"
    },
    "scrolled": true
   },
   "outputs": [
    {
     "name": "stdout",
     "output_type": "stream",
     "text": [
      "----------------------------------------------------------------------\n",
      " Classification Metrics: Training Data\n",
      "----------------------------------------------------------------------\n",
      "              precision    recall  f1-score   support\n",
      "\n",
      "           0       0.98      0.97      0.97      1376\n",
      "           1       0.96      0.97      0.97      1102\n",
      "\n",
      "    accuracy                           0.97      2478\n",
      "   macro avg       0.97      0.97      0.97      2478\n",
      "weighted avg       0.97      0.97      0.97      2478\n",
      "\n",
      "\n",
      "----------------------------------------------------------------------\n",
      " Classification Metrics: Test Data\n",
      "----------------------------------------------------------------------\n",
      "              precision    recall  f1-score   support\n",
      "\n",
      "           0       0.95      0.96      0.95       492\n",
      "           1       0.93      0.92      0.93       335\n",
      "\n",
      "    accuracy                           0.94       827\n",
      "   macro avg       0.94      0.94      0.94       827\n",
      "weighted avg       0.94      0.94      0.94       827\n",
      "\n"
     ]
    },
    {
     "name": "stderr",
     "output_type": "stream",
     "text": [
      "/opt/homebrew/Caskroom/miniforge/base/envs/dojo-env/lib/python3.10/site-packages/dojo_ds/evaluate.py:69: UserWarning: FigureCanvasAgg is non-interactive, and thus cannot be shown\n",
      "  plt.show()\n",
      "/opt/homebrew/Caskroom/miniforge/base/envs/dojo-env/lib/python3.10/site-packages/dojo_ds/evaluate.py:69: UserWarning: FigureCanvasAgg is non-interactive, and thus cannot be shown\n",
      "  plt.show()\n"
     ]
    }
   ],
   "source": [
    "best_logreg_pipe = grid_search.best_estimator_\n",
    "ds.evaluate.evaluate_classification(best_logreg_pipe, X_train, y_train, X_test, y_test)"
   ]
  },
  {
   "cell_type": "markdown",
   "id": "b1a190a0-0fd4-458c-beb3-90c0c03600bd",
   "metadata": {},
   "source": [
    "## Save Best Model"
   ]
  },
  {
   "cell_type": "code",
   "execution_count": 54,
   "id": "b2591d8c",
   "metadata": {},
   "outputs": [],
   "source": [
    "# del af"
   ]
  },
  {
   "cell_type": "code",
   "execution_count": 55,
   "id": "27bd2f41",
   "metadata": {},
   "outputs": [
    {
     "name": "stdout",
     "output_type": "stream",
     "text": [
      "The autoreload extension is already loaded. To reload it, use:\n",
      "  %reload_ext autoreload\n"
     ]
    }
   ],
   "source": [
    "%load_ext autoreload \n",
    "%autoreload 2\n",
    "# !pip install langchain_core langchain_openai langchain_community\n",
    "# !pip install streamlit\n",
    "\n",
    "import custom_functions.app_functions as af"
   ]
  },
  {
   "cell_type": "code",
   "execution_count": 56,
   "id": "be21a353",
   "metadata": {},
   "outputs": [
    {
     "name": "stdout",
     "output_type": "stream",
     "text": [
      "----------------------------------------------------------------------\n",
      " Classification Metrics: Training Data\n",
      "----------------------------------------------------------------------\n",
      "              precision    recall  f1-score   support\n",
      "\n",
      "           0       1.00      1.00      1.00      1376\n",
      "           1       1.00      1.00      1.00      1102\n",
      "\n",
      "    accuracy                           1.00      2478\n",
      "   macro avg       1.00      1.00      1.00      2478\n",
      "weighted avg       1.00      1.00      1.00      2478\n",
      "\n",
      "\n",
      "----------------------------------------------------------------------\n",
      " Classification Metrics: Test Data\n",
      "----------------------------------------------------------------------\n",
      "              precision    recall  f1-score   support\n",
      "\n",
      "           0       0.96      0.97      0.96       492\n",
      "           1       0.95      0.93      0.94       335\n",
      "\n",
      "    accuracy                           0.96       827\n",
      "   macro avg       0.96      0.95      0.95       827\n",
      "weighted avg       0.96      0.96      0.96       827\n",
      "\n"
     ]
    },
    {
     "name": "stderr",
     "output_type": "stream",
     "text": [
      "/opt/homebrew/Caskroom/miniforge/base/envs/dojo-env/lib/python3.10/site-packages/dojo_ds/evaluate.py:69: UserWarning: FigureCanvasAgg is non-interactive, and thus cannot be shown\n",
      "  plt.show()\n",
      "/opt/homebrew/Caskroom/miniforge/base/envs/dojo-env/lib/python3.10/site-packages/dojo_ds/evaluate.py:69: UserWarning: FigureCanvasAgg is non-interactive, and thus cannot be shown\n",
      "  plt.show()\n"
     ]
    }
   ],
   "source": [
    "# TEMP COMMENTED OUT\n",
    "# LogregCV-tfidf \n",
    "\n",
    "vectorizer = TfidfVectorizer(stop_words=None,\n",
    "    ngram_range=(1,2))\n",
    "\n",
    "clf_logreg = Pipeline([\n",
    "    ('vectorizer',vectorizer),\n",
    "    ('clf',LogisticRegressionCV(max_iter=200))\n",
    "])\n",
    "\n",
    "## Fit an evaluate a Logistic Regression\n",
    "clf_logreg.fit(X_train, y_train)\n",
    "ds.evaluate.evaluate_classification(clf_logreg, X_train,y_train, X_test, y_test)\n",
    "# joblib.dump(clf_logreg, FPATHS['models']['ml']['logreg'])"
   ]
  },
  {
   "cell_type": "markdown",
   "id": "e62b456c",
   "metadata": {},
   "source": [
    "### Save Best Model for APP"
   ]
  },
  {
   "cell_type": "code",
   "execution_count": 57,
   "id": "7e881b58",
   "metadata": {},
   "outputs": [],
   "source": [
    "\n",
    "\n",
    "def classification_metrics_streamlit(y_true, y_pred, label='',\n",
    "                           output_dict=False, figsize=(8,4),\n",
    "                           normalize='true', cmap='Blues',\n",
    "                           colorbar=False,values_format=\".2f\"):\n",
    "    \"\"\"\n",
    "    This function calculates and displays classification metrics for a given set of true labels and predicted labels.\n",
    "    \n",
    "    Parameters:\n",
    "    - y_true (array-like): The true labels.\n",
    "    - y_pred (array-like): The predicted labels.\n",
    "    - label (str): Optional label for the classification metrics.\n",
    "    - output_dict (bool): Whether to return the classification report as a dictionary.\n",
    "    - figsize (tuple): The size of the figure to display the confusion matrices.\n",
    "    - normalize (str): The normalization method for the confusion matrix. Options are 'true', 'pred', 'all', or None.\n",
    "    - cmap (str): The color map for the confusion matrix.\n",
    "    - colorbar (bool): Whether to display a colorbar for the confusion matrix.\n",
    "    - values_format (str): The format for displaying values in the confusion matrix.\n",
    "    \n",
    "    Returns:\n",
    "    - final_report (str): The final classification report as a string.\n",
    "    - fig (Figure): The figure object containing the confusion matrices.\n",
    "    \"\"\"\n",
    "    # Get the classification report\n",
    "    report = classification_report(y_true, y_pred)\n",
    "    \n",
    "    ## Save header and report\n",
    "    header = \"-\"*70\n",
    "    final_report = \"\\n\".join([header,f\" Classification Metrics: {label}\", header,report,\"\\n\"])\n",
    "    \n",
    "    \n",
    "    ## CONFUSION MATRICES SUBPLOTS\n",
    "    fig, axes = plt.subplots(ncols=2, figsize=figsize)\n",
    "    \n",
    "    # Create a confusion matrix  of raw counts (left subplot)\n",
    "    ConfusionMatrixDisplay.from_predictions(y_true, y_pred,\n",
    "                                            normalize=None, \n",
    "                                            cmap='gist_gray_r',# Updated cmap\n",
    "                                            values_format=\"d\", \n",
    "                                            colorbar=colorbar,\n",
    "                                            ax = axes[0]);\n",
    "    axes[0].set_title(\"Raw Counts\")\n",
    "    \n",
    "    # Create a confusion matrix with the data with normalize argument \n",
    "    ConfusionMatrixDisplay.from_predictions(y_true, y_pred,\n",
    "                                            normalize=normalize,\n",
    "                                            cmap=cmap, \n",
    "                                            values_format=values_format, #New arg\n",
    "                                            colorbar=colorbar,\n",
    "                                            ax = axes[1]);\n",
    "    axes[1].set_title(\"Normalized Confusion Matrix\")\n",
    "    \n",
    "    # Adjust layout and show figure\n",
    "    fig.tight_layout()\n",
    "\n",
    "    return final_report, fig\n",
    "\n",
    "\n",
    "def evaluate_classification_streamlit(model, X_train, y_train, X_test, y_test,\n",
    "                                     joblib_fpath=None, cmap_train=\"Blues\",cmap_test=\"Reds\"):\n",
    "    \"\"\"\n",
    "    Evaluate a classification model using Streamlit.\n",
    "\n",
    "    Parameters:\n",
    "    - model: The trained classification model.\n",
    "    - X_train: The training data features.\n",
    "    - y_train: The training data labels.\n",
    "    - X_test: The test data features.\n",
    "    - y_test: The test data labels.\n",
    "    - joblib_fpath: The file path to save the model results using joblib.\n",
    "    - cmap_train: The color map for the training data classification metrics plot. Default is \"Blues\".\n",
    "    - cmap_test: The color map for the test data classification metrics plot. Default is \"Reds\".\n",
    "\n",
    "    Returns:\n",
    "    - results_dict: A dictionary containing the model, training and test classification metrics.\n",
    "\n",
    "    This function evaluates the performance of a classification model using Streamlit. It calculates and displays\n",
    "    the classification metrics for both the training and test data, including the classification report and confusion matrix.\n",
    "    The results are saved to a file using joblib.\n",
    "\n",
    "    Example usage:\n",
    "    results = evaluate_classification_streamlit(model, X_train, y_train, X_test, y_test, \"model_results.joblib\")\n",
    "    \"\"\"\n",
    "\n",
    "    ## Save ML Model Results\n",
    "    y_hat_train = model.predict(X_train)\n",
    "    report_train, fig_train = classification_metrics_streamlit(y_train, y_hat_train, cmap=cmap_train,\n",
    "                                                            label=\"Training Data\")\n",
    "    print(report_train)\n",
    "    plt.show()\n",
    "    y_hat_test = model.predict(X_test)\n",
    "    report_test, fig_test = classification_metrics_streamlit(y_test, y_hat_test,cmap=cmap_test,\n",
    "                                                             label=\"Test Data\")\n",
    "    print(report_test)\n",
    "    plt.show()\n",
    "\n",
    "\n",
    "    results_dict = {\n",
    "        \"model\": model,\n",
    "        \"train\": {\"classification_report\": report_train, \"confusion_matrix\": fig_train},\n",
    "        \"test\": {\"classification_report\": report_test, \"confusion_matrix\": fig_test},\n",
    "    }\n",
    "    \n",
    "    if joblib_fpath is not None:\n",
    "        joblib.dump(results_dict, joblib_fpath, compress=9)\n",
    "        print(f\"- Succesfully saved model to {joblib_fpath}.\")\n",
    "    return results_dict"
   ]
  },
  {
   "cell_type": "code",
   "execution_count": 58,
   "id": "22b44282",
   "metadata": {},
   "outputs": [
    {
     "data": {
      "text/plain": [
       "{'bayes_joblib': 'models/bayes-clf.joblib',\n",
       " 'random_forest_joblib': 'models/random-forest.joblib',\n",
       " 'logreg_joblib': 'models/log-reg.joblib'}"
      ]
     },
     "execution_count": 58,
     "metadata": {},
     "output_type": "execute_result"
    }
   ],
   "source": [
    "FPATHS['models']['ml']"
   ]
  },
  {
   "cell_type": "code",
   "execution_count": null,
   "id": "66648af5",
   "metadata": {},
   "outputs": [],
   "source": []
  },
  {
   "cell_type": "code",
   "execution_count": 59,
   "id": "24e38f04",
   "metadata": {},
   "outputs": [
    {
     "name": "stdout",
     "output_type": "stream",
     "text": [
      "----------------------------------------------------------------------\n",
      " Classification Metrics: Training Data\n",
      "----------------------------------------------------------------------\n",
      "              precision    recall  f1-score   support\n",
      "\n",
      "           0       1.00      1.00      1.00      1376\n",
      "           1       1.00      1.00      1.00      1102\n",
      "\n",
      "    accuracy                           1.00      2478\n",
      "   macro avg       1.00      1.00      1.00      2478\n",
      "weighted avg       1.00      1.00      1.00      2478\n",
      "\n",
      "\n",
      "\n",
      "----------------------------------------------------------------------\n",
      " Classification Metrics: Test Data\n",
      "----------------------------------------------------------------------\n",
      "              precision    recall  f1-score   support\n",
      "\n",
      "           0       0.96      0.97      0.96       492\n",
      "           1       0.95      0.93      0.94       335\n",
      "\n",
      "    accuracy                           0.96       827\n",
      "   macro avg       0.96      0.95      0.95       827\n",
      "weighted avg       0.96      0.96      0.96       827\n",
      "\n",
      "\n",
      "\n"
     ]
    },
    {
     "name": "stderr",
     "output_type": "stream",
     "text": [
      "/var/folders/rf/vw4r41jd7vd95x1w0dth7v9h0000gp/T/ipykernel_15640/985084517.py:89: UserWarning: FigureCanvasAgg is non-interactive, and thus cannot be shown\n",
      "  plt.show()\n",
      "/var/folders/rf/vw4r41jd7vd95x1w0dth7v9h0000gp/T/ipykernel_15640/985084517.py:94: UserWarning: FigureCanvasAgg is non-interactive, and thus cannot be shown\n",
      "  plt.show()\n"
     ]
    },
    {
     "name": "stdout",
     "output_type": "stream",
     "text": [
      "- Succesfully saved model to models/best-ml-clf.joblib.\n"
     ]
    }
   ],
   "source": [
    "results = evaluate_classification_streamlit(clf_logreg, X_train, y_train, X_test,y_test,joblib_fpath=FPATHS['results']['best-ml-clf_joblib'])\n"
   ]
  },
  {
   "cell_type": "code",
   "execution_count": 60,
   "id": "8725b0c1",
   "metadata": {},
   "outputs": [
    {
     "data": {
      "text/plain": [
       "<Figure size 800x400 with 2 Axes>"
      ]
     },
     "execution_count": 60,
     "metadata": {},
     "output_type": "execute_result"
    }
   ],
   "source": [
    "results['train']['confusion_matrix']"
   ]
  },
  {
   "cell_type": "code",
   "execution_count": 61,
   "id": "a73648d8",
   "metadata": {},
   "outputs": [
    {
     "data": {
      "text/plain": [
       "'----------------------------------------------------------------------\\n Classification Metrics: Training Data\\n----------------------------------------------------------------------\\n              precision    recall  f1-score   support\\n\\n           0       1.00      1.00      1.00      1376\\n           1       1.00      1.00      1.00      1102\\n\\n    accuracy                           1.00      2478\\n   macro avg       1.00      1.00      1.00      2478\\nweighted avg       1.00      1.00      1.00      2478\\n\\n\\n'"
      ]
     },
     "execution_count": 61,
     "metadata": {},
     "output_type": "execute_result"
    }
   ],
   "source": [
    "results['train']['classification_report']"
   ]
  },
  {
   "cell_type": "code",
   "execution_count": null,
   "id": "c6513686",
   "metadata": {},
   "outputs": [],
   "source": []
  }
 ],
 "metadata": {
  "kernelspec": {
   "display_name": "Python 3 (ipykernel)",
   "language": "python",
   "name": "python3"
  },
  "language_info": {
   "codemirror_mode": {
    "name": "ipython",
    "version": 3
   },
   "file_extension": ".py",
   "mimetype": "text/x-python",
   "name": "python",
   "nbconvert_exporter": "python",
   "pygments_lexer": "ipython3",
   "version": "3.10.10"
  },
  "widgets": {
   "application/vnd.jupyter.widget-state+json": {
    "state": {},
    "version_major": 2,
    "version_minor": 0
   }
  }
 },
 "nbformat": 4,
 "nbformat_minor": 5
}
