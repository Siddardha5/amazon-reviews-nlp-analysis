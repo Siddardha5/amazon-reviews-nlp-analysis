{
 "cells": [
  {
   "cell_type": "markdown",
   "metadata": {},
   "source": [
    "# README Maker\n",
    "> Complete README in this notebook and then convert this notebook to markdown. Delete every above the horizontal line:"
   ]
  },
  {
   "cell_type": "code",
   "execution_count": 9,
   "metadata": {
    "execution": {
     "iopub.execute_input": "2024-02-12T19:35:15.758832Z",
     "iopub.status.busy": "2024-02-12T19:35:15.758285Z",
     "iopub.status.idle": "2024-02-12T19:35:15.777233Z",
     "shell.execute_reply": "2024-02-12T19:35:15.776204Z",
     "shell.execute_reply.started": "2024-02-12T19:35:15.758659Z"
    }
   },
   "outputs": [
    {
     "data": {
      "text/plain": [
       "{'histogram-reviews-dist_png': 'images/01_histogram_reviews.png',\n",
       " 'avg-reviews-by-year_png': 'images/02_avg_rating_by_year.png',\n",
       " 'number-reviews-stars-by-year_png': 'images/03_count_stars_by_year.png'}"
      ]
     },
     "execution_count": 9,
     "metadata": {},
     "output_type": "execute_result"
    }
   ],
   "source": [
    "import json\n",
    "from IPython.display import display, Markdown\n",
    "import pandas as pd\n",
    "with open('config/filepaths.json') as f:\n",
    "    FPATHS = json.load(f)\n",
    "FPATHS['readme']"
   ]
  },
  {
   "cell_type": "code",
   "execution_count": 11,
   "metadata": {
    "execution": {
     "iopub.execute_input": "2024-02-12T22:24:44.450669Z",
     "iopub.status.busy": "2024-02-12T22:24:44.449289Z",
     "iopub.status.idle": "2024-02-12T22:24:44.602345Z",
     "shell.execute_reply": "2024-02-12T22:24:44.601969Z",
     "shell.execute_reply.started": "2024-02-12T22:24:44.450532Z"
    }
   },
   "outputs": [],
   "source": [
    "import joblib\n",
    "df = joblib.load(FPATHS['data']['processed-nlp']['processed-reviews-with-target_joblib'])"
   ]
  },
  {
   "cell_type": "code",
   "execution_count": 10,
   "metadata": {
    "execution": {
     "iopub.execute_input": "2024-02-12T19:35:15.926185Z",
     "iopub.status.busy": "2024-02-12T19:35:15.925782Z",
     "iopub.status.idle": "2024-02-12T19:35:15.935510Z",
     "shell.execute_reply": "2024-02-12T19:35:15.933327Z",
     "shell.execute_reply.started": "2024-02-12T19:35:15.926159Z"
    }
   },
   "outputs": [
    {
     "name": "stdout",
     "output_type": "stream",
     "text": [
      "\n",
      "- Product Title:\n",
      "\n",
      "***\"Miracle Noodle Zero Carb, Gluten Free Shirataki Pasta, Spinach Angel Hair, 7-Ounce (Pack of 24)\"***<p><img src='images/selected-products/miracle-noodle-2024.jpg' width=300px></p>\n",
      "- Brand: Miracle Noodle\n",
      "- Price: $59.76\n",
      "- Ranked 119,683 in Grocery & Gourmet Food (2018)\n",
      "- Categories:\n",
      "    - Grocery & Gourmet Food; Pasta & Noodles; Noodles; Shirataki\n"
     ]
    }
   ],
   "source": [
    "from IPython.display import Markdown\n",
    "with open(FPATHS['metadata']['product-information_md']) as f:\n",
    "    print(f.read())"
   ]
  },
  {
   "cell_type": "markdown",
   "metadata": {},
   "source": [
    "To Do:\n",
    "- Change your name and social media links below and remove code block syntax\n",
    "- Uncomment any sections at the bottom that you wish to add back.\n",
    "\n",
    "<hr style=\"color:red;\">"
   ]
  },
  {
   "cell_type": "markdown",
   "metadata": {},
   "source": [
    "# Understanding Consumer Taste Preferences from Reviews"
   ]
  },
  {
   "cell_type": "markdown",
   "metadata": {},
   "source": [
    "## Natural Language Processing Analysis of Amazon Reviews for Gourmet and Grocery Foods"
   ]
  },
  {
   "cell_type": "markdown",
   "metadata": {},
   "source": [
    "- James M. Irving, Ph.D.\n",
    "\n",
    "<blockquote>\n",
    "    <ul>\n",
    "  <li><a href=\"https://www.linkedin.com/in/james-irving-phd\" rel=\"nofollow noreferrer\">\n",
    "    <img src=\"https://i.stack.imgur.com/gVE0j.png\" alt=\"linkedin\"> LinkedIn\n",
    "  </a> </li>\n",
    "  <li><a href=\"https://github.com/jirvingphd\" rel=\"nofollow noreferrer\">\n",
    "    <img src=\"https://i.stack.imgur.com/tskMh.png\" alt=\"github\"> Github\n",
    "  </a></li>\n",
    "</ul>\n",
    "</blockquote>\n",
    "\n",
    "- Updated 02/12/2024"
   ]
  },
  {
   "cell_type": "markdown",
   "metadata": {},
   "source": [
    "___\n",
    "\n",
    "#### Companion Streamlit Dashboard \n",
    "\n",
    "- [https://amazon-reviews-nlp-analysis-predictions.streamlit.app/](https://amazon-reviews-nlp-analysis-predictions.streamlit.app/)\n",
    "\n",
    "\n",
    "<img src=\"images/streamlit-app-preview.png\" width=1000>\n",
    "\n",
    "___"
   ]
  },
  {
   "cell_type": "markdown",
   "metadata": {},
   "source": [
    "### Business problem:\n",
    "\n",
    "Consumer preferences are essential to understand in order to make the best products enjoyed by the most customers. For this reason, we have selected the Grocery and Gourmet Food category, as food products tend to have divergent opinions. \n",
    "\n",
    "### Data:\n",
    "\n",
    "- A subset of the updated Amazon Reviews dataset (Jianmo et al 2019).\n",
    "    - The large version of the reviews for Groceries & Gourmet Food category, consisting of 5,074,160 reviews.\n",
    "    - The relevant prodcut metadata for 287,209 Gourmet products\n",
    "\n",
    "- The raw files are too large to fit in the project repository so they were split into multi-part csv's. \n",
    "\n",
    "\n",
    "#### Raw Amazon Data Prep & Filtering\n",
    "\n",
    "For the metadata,\n",
    "- First, I filtered the metadata to only keep products that belonged to the `main_cat` of Grocery\n",
    "- I also one-hot-encoded any category that appeared `...<lookup criterion used>`\n",
    "- Dropped several unwanted features `<add list>`\n",
    "\n",
    "For reviews, \n",
    "- I kept only reviews that were verified purchases.\n",
    "\n",
    "In the absence of a true stakehodler, I identified a good brand/prodcut to analyze based on the following crtiera:\n",
    "- First, I filtered for the most common products with both 1-star and 5-star reviews.\n",
    "    - Each brand/product was ranked by the number of 1 star reviews and 5-star reviews.\n",
    "    - The products that appeared within the top 100 most 1-star reviews and 5-star reviews were further analyzed to identify the final product\n",
    "- Finally, I selected the product with the largest proportion of 1-star reviews.\n",
    "- The final selected produt was:\n",
    "\n",
    ">Product Title:\n",
    "***\"Miracle Noodle Zero Carb, Gluten Free Shirataki Pasta, Spinach Angel Hair, 7-Ounce (Pack of 24)\"***<p><img src='images/selected-products/miracle-noodle-2024.jpg' width=300px></p>\n",
    ">- Brand: Miracle Noodle\n",
    ">- Price: $59.76\n",
    ">- Ranked 119,683 in Grocery & Gourmet Food (2018)\n",
    ">- Categories:\n",
    "    - Grocery & Gourmet Food; Pasta & Noodles; Noodles; Shirataki"
   ]
  },
  {
   "cell_type": "markdown",
   "metadata": {},
   "source": [
    "###  Need for Insights into Customers\n",
    "\n",
    "Overall, Miracle Noodle has a large number of 5-star reviews. However, there is also a large portion of 1-star reviews.  \n",
    "Since this is a multi-year dataset, it is important to understand if there was a trend in the average rating over time.\n",
    "\n",
    "![png](images/01_histogram_reviews.png)\n",
    "\n",
    "\n",
    "#### Reviews Over Time\n",
    "\n",
    "The overall average customer rating has drecreased year-over year.\n",
    "\n",
    "![png](images/02_avg_rating_by_year.png)\n",
    "\n",
    "\n",
    "\n",
    "Additionally,  the proportion of One-Star reviews has increased while 5-Star reviews have decreased.\n",
    "![png](images/03_count_stars_by_year.png)\n",
    "\n",
    "\n",
    "We will use the text from the customer reviews to provide insights into customer preferences and provide recommendations on how to improve their product."
   ]
  },
  {
   "cell_type": "markdown",
   "metadata": {},
   "source": [
    "#### Reference\n",
    "\n",
    "**Justifying recommendations using distantly-labeled reviews and fined-grained aspects**\n",
    "Jianmo Ni, Jiacheng Li, Julian McAuley\n",
    "*Empirical Methods in Natural Language Processing (EMNLP)*, 2019\n"
   ]
  },
  {
   "cell_type": "markdown",
   "metadata": {},
   "source": [
    "## Methods `[TO DO]`\n",
    "- For analysis and machine learning, we used a subset of the reviews.\n",
    "\n",
    "\n",
    " \n",
    "- EDA for Insights:\n",
    "    - Used spacy for preprocessing text for EDA\n",
    "    - Generated bar graphs of top bigrams, trigrams, and quadrams for\n",
    "- key relevant findings from exploritory data analysis for mod 1, will be more involved in future mod"
   ]
  },
  {
   "cell_type": "markdown",
   "metadata": {},
   "source": [
    "## Results"
   ]
  },
  {
   "cell_type": "code",
   "execution_count": 8,
   "metadata": {
    "execution": {
     "iopub.execute_input": "2024-02-12T19:35:01.653875Z",
     "iopub.status.busy": "2024-02-12T19:35:01.653141Z",
     "iopub.status.idle": "2024-02-12T19:35:01.664329Z",
     "shell.execute_reply": "2024-02-12T19:35:01.662329Z",
     "shell.execute_reply.started": "2024-02-12T19:35:01.653837Z"
    }
   },
   "outputs": [],
   "source": [
    "\n",
    "# with open(FPATHS['eda']['bigrams']['ngram-table_md']) as f:\n",
    "#     temp_df = pd.read_table(f, sep='|', index=False)\n",
    "#     display(Markdown(f.read()))\n",
    "#     display(temp_df)"
   ]
  },
  {
   "cell_type": "markdown",
   "metadata": {},
   "source": [
    "- Coming soon!"
   ]
  },
  {
   "cell_type": "markdown",
   "metadata": {},
   "source": [
    "### Here are examples of how to embed images from your sub-folder"
   ]
  },
  {
   "cell_type": "markdown",
   "metadata": {},
   "source": [
    "#### Visual 1 Title\n",
    "<img src=\"./images/visual1.png\" width=90%>\n",
    "\n",
    "> Sentence about visualization.\n",
    "\n",
    "#### Visual 2 Title\n",
    "<img src=\"./images/visual2.png\" width=90%>\n",
    "\n",
    "> Sentence about visualization."
   ]
  },
  {
   "cell_type": "markdown",
   "metadata": {},
   "source": [
    "## Recommendations:\n",
    "\n",
    "Based on the analysis of the 1-star and 5-star reviews, here are 5 actionable business recommendations to improve the product:\n",
    "\n",
    "1. **Improve Texture**: Address the issue of rubbery texture mentioned in the 1-star reviews. Consider reformulating the product to make it less chewy and more similar to traditional noodles. Conduct taste tests and gather feedback from customers to ensure the texture is satisfactory.\n",
    "2. **Enhance Absorption**: Work on improving the noodles' ability to absorb cooking sauces. This will address the complaint mentioned in the 1-star reviews and make the product more versatile for different recipes. Conduct experiments to find the optimal formulation that allows the noodles to absorb flavors effectively.\n",
    "3. **Address Smell**: Although the smell issue was mentioned in both positive and negative reviews, it is important to minimize any unpleasant odor when the package is first opened. Explore ways to reduce or eliminate the initial smell, such as using different packaging materials or adding natural odor-neutralizing ingredients.\n",
    "4. **Simplify Preparation**: Make the cooking process easier for customers. Provide clear instructions on the packaging and consider offering pre-cooked or partially cooked options for those who find it difficult to prepare the noodles. This will address the complaints about the difficulty of cooking mentioned in the 1-star reviews.\n",
    "5. **Highlight Health Benefits**: Emphasize the low-calorie and healthy aspects of the product in marketing materials and product descriptions. This will reinforce the positive feedback from the 5-star reviews and attract customers who are conscious about their calorie intake and overall health.\n",
    "\n",
    "By implementing these recommendations, you can address the concerns raised in the 1-star reviews and further enhance the positive aspects highlighted in the 5-star reviews. Regularly gather customer feedback to continuously improve the product and meet the needs of your target audience.\n",
    "\n",
    "## Limitations & Next Steps\n",
    "\n",
    "More of your own text here\n",
    "\n",
    "\n",
    "<!-- ### For further information\n",
    "Please review the narrative of our analysis in [our jupyter notebook](./index.ipynb) or review our [presentation](./SampleProjectSlides.pdf)\n",
    "\n",
    "For any additional questions, please contact **email, email, email) -->\n",
    "\n",
    "<!-- \n",
    "##### Repository Structure:\n",
    "\n",
    "Here is where you would describe the structure of your repoistory and its contents, for exampe:\n",
    "\n",
    "```\n",
    "\n",
    "├── README.md               <- The top-level README for reviewers of this project.\n",
    "├── index.ipynb             <- narrative documentation of analysis in jupyter notebook\n",
    "├── presentation.pdf        <- pdf version of project presentation\n",
    "└── images\n",
    "    └── images               <- both sourced externally and generated from code\n",
    "└── data\n",
    "    └── \n",
    "\n",
    "``` -->"
   ]
  },
  {
   "cell_type": "markdown",
   "metadata": {},
   "source": []
  }
 ],
 "metadata": {
  "kernelspec": {
   "display_name": "Python 3 (ipykernel)",
   "language": "python",
   "name": "python3"
  },
  "language_info": {
   "codemirror_mode": {
    "name": "ipython",
    "version": 3
   },
   "file_extension": ".py",
   "mimetype": "text/x-python",
   "name": "python",
   "nbconvert_exporter": "python",
   "pygments_lexer": "ipython3",
   "version": "3.10.10"
  }
 },
 "nbformat": 4,
 "nbformat_minor": 4
}
