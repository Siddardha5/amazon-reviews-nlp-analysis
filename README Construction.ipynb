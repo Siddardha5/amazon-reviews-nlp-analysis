{
 "cells": [
  {
   "cell_type": "markdown",
   "metadata": {},
   "source": [
    "# README Maker\n",
    "> Complete README in this notebook and then convert this notebook to markdown. Delete every above the horizontal line:"
   ]
  },
  {
   "cell_type": "code",
   "execution_count": 6,
   "metadata": {
    "execution": {
     "iopub.execute_input": "2024-02-09T01:51:23.017398Z",
     "iopub.status.busy": "2024-02-09T01:51:23.016956Z",
     "iopub.status.idle": "2024-02-09T01:51:23.498658Z",
     "shell.execute_reply": "2024-02-09T01:51:23.498365Z",
     "shell.execute_reply.started": "2024-02-09T01:51:23.017365Z"
    }
   },
   "outputs": [
    {
     "data": {
      "text/plain": [
       "{'wordclouds': {'default-clouds-by-group_png': 'eda/default-wordclouds.png',\n",
       "  'bigram-clouds-by-group_png': 'eda/bigram-wordclouds.png',\n",
       "  'trigram-clouds-by-group_png': 'eda/trigram-wordclouds.png'},\n",
       " 'scattertext-by-group_html': 'eda/scattertext.html',\n",
       " 'bigrams': {'ngram-table_md': 'eda/bigrams-table.md',\n",
       "  'ngram-fig_png': 'eda/bigrams-plot.png'},\n",
       " 'trigrams': {'ngram-table_md': 'eda/trigrams-table.md',\n",
       "  'ngram-fig_png': 'eda/trigrams-plot.png'},\n",
       " 'quadgrams': {'ngram-table_md': 'eda/quadgrams-table.md',\n",
       "  'ngram-fig_png': 'eda/quadgrams-plot.png'}}"
      ]
     },
     "execution_count": 6,
     "metadata": {},
     "output_type": "execute_result"
    }
   ],
   "source": [
    "import json\n",
    "from IPython.display import display, Markdown\n",
    "import pandas as pd\n",
    "with open('config/filepaths.json') as f:\n",
    "    FPATHS = json.load(f)\n",
    "FPATHS['eda']"
   ]
  },
  {
   "cell_type": "markdown",
   "metadata": {},
   "source": [
    "To Do:\n",
    "- Change your name and social media links below and remove code block syntax\n",
    "- Uncomment any sections at the bottom that you wish to add back.\n",
    "\n",
    "<hr style=\"color:red;\">"
   ]
  },
  {
   "cell_type": "markdown",
   "metadata": {},
   "source": [
    "# Understanding Consumer Taste Preferences from Reviews"
   ]
  },
  {
   "cell_type": "markdown",
   "metadata": {},
   "source": [
    "## Natural Language Processing Analysis of Amazon Reviews for Gourmet and Grocery Foods\n",
    "\n",
    "- James M. Irving, Ph.D.\n",
    "\n",
    "<blockquote>\n",
    "    <ul>\n",
    "  <li><a href=\"https://www.linkedin.com/in/james-irving-phd\" rel=\"nofollow noreferrer\">\n",
    "    <img src=\"https://i.stack.imgur.com/gVE0j.png\" alt=\"linkedin\"> LinkedIn\n",
    "  </a> </li>\n",
    "  <li><a href=\"https://github.com/jirvingphd\" rel=\"nofollow noreferrer\">\n",
    "    <img src=\"https://i.stack.imgur.com/tskMh.png\" alt=\"github\"> Github\n",
    "  </a></li>\n",
    "</ul>\n",
    "</blockquote>\n",
    "\n",
    "- Updated 02/07/2024"
   ]
  },
  {
   "cell_type": "markdown",
   "metadata": {},
   "source": [
    "### Business problem:\n",
    "\n",
    "Consumer preferences are essential to understand in order to make the best products enjoyed by the most customers. For this reason, we have selected the Grocery and Gourmet Food category, as food products tend to have divergent opinions. \n",
    "\n",
    "### Data:\n",
    "\n",
    "- A subset of the updated Amazon Reviews dataset (Jianmo et al 2019).\n",
    "    - The large version of the reviews for Groceries & Gourmet Food category, consisting of 5,074,160 reviews.\n",
    "    - The relevant prodcut metadata for 287,209 Gourmet products\n",
    "\n",
    "- The raw files are too large to fit in the project repository so they were split into multi-part csv's. \n",
    "\n",
    "\n",
    "#### Raw Amazon Data Prep & Filtering\n",
    "\n",
    "For the metadata,\n",
    "- First, I filtered the metadata to only keep products that belonged to the `main_cat` of Grocery\n",
    "- I also one-hot-encoded any category that appeared `...<lookup criterion used>`\n",
    "- Dropped several unwanted features `<add list>`\n",
    "\n",
    "For reviews, \n",
    "- I kept only reviews that were verified purchases.\n",
    "  \n",
    "\n",
    "\n",
    "#### Reference\n",
    "\n",
    "**Justifying recommendations using distantly-labeled reviews and fined-grained aspects**\n",
    "Jianmo Ni, Jiacheng Li, Julian McAuley\n",
    "*Empirical Methods in Natural Language Processing (EMNLP)*, 2019\n",
    "\n",
    "___\n",
    "\n",
    "> Content Below Coming Soon\n",
    "___"
   ]
  },
  {
   "cell_type": "markdown",
   "metadata": {},
   "source": [
    "## Methods\n",
    "\n",
    "- descriptive analysis\n",
    "- choices made\n",
    "- key relevant findings from exploritory data analysis for mod 1, will be more involved in future mod"
   ]
  },
  {
   "cell_type": "markdown",
   "metadata": {},
   "source": [
    "## Results"
   ]
  },
  {
   "cell_type": "code",
   "execution_count": 14,
   "metadata": {
    "execution": {
     "iopub.execute_input": "2024-02-09T01:52:13.461286Z",
     "iopub.status.busy": "2024-02-09T01:52:13.460833Z",
     "iopub.status.idle": "2024-02-09T01:52:13.468760Z",
     "shell.execute_reply": "2024-02-09T01:52:13.465864Z",
     "shell.execute_reply.started": "2024-02-09T01:52:13.461256Z"
    }
   },
   "outputs": [],
   "source": [
    "\n",
    "# with open(FPATHS['eda']['bigrams']['ngram-table_md']) as f:\n",
    "#     temp_df = pd.read_table(f, sep='|', index=False)\n",
    "#     display(Markdown(f.read()))\n",
    "#     display(temp_df)"
   ]
  },
  {
   "cell_type": "markdown",
   "metadata": {},
   "source": [
    "- Coming soon!"
   ]
  },
  {
   "cell_type": "markdown",
   "metadata": {},
   "source": [
    "### Here are examples of how to embed images from your sub-folder"
   ]
  },
  {
   "cell_type": "markdown",
   "metadata": {},
   "source": [
    "#### Visual 1 Title\n",
    "<img src=\"./images/visual1.png\" width=90%>\n",
    "\n",
    "> Sentence about visualization.\n",
    "\n",
    "#### Visual 2 Title\n",
    "<img src=\"./images/visual2.png\" width=90%>\n",
    "\n",
    "> Sentence about visualization.\n",
    "\n",
    "\n",
    "## Recommendations:\n",
    "\n",
    "More of your own text here\n",
    "\n",
    "\n",
    "## Limitations & Next Steps\n",
    "\n",
    "More of your own text here\n",
    "\n",
    "\n",
    "<!-- ### For further information\n",
    "Please review the narrative of our analysis in [our jupyter notebook](./index.ipynb) or review our [presentation](./SampleProjectSlides.pdf)\n",
    "\n",
    "For any additional questions, please contact **email, email, email) -->\n",
    "\n",
    "<!-- \n",
    "##### Repository Structure:\n",
    "\n",
    "Here is where you would describe the structure of your repoistory and its contents, for exampe:\n",
    "\n",
    "```\n",
    "\n",
    "├── README.md               <- The top-level README for reviewers of this project.\n",
    "├── index.ipynb             <- narrative documentation of analysis in jupyter notebook\n",
    "├── presentation.pdf        <- pdf version of project presentation\n",
    "└── images\n",
    "    └── images               <- both sourced externally and generated from code\n",
    "└── data\n",
    "    └── \n",
    "\n",
    "``` -->"
   ]
  },
  {
   "cell_type": "markdown",
   "metadata": {},
   "source": []
  }
 ],
 "metadata": {
  "kernelspec": {
   "display_name": "Python 3 (ipykernel)",
   "language": "python",
   "name": "python3"
  },
  "language_info": {
   "codemirror_mode": {
    "name": "ipython",
    "version": 3
   },
   "file_extension": ".py",
   "mimetype": "text/x-python",
   "name": "python",
   "nbconvert_exporter": "python",
   "pygments_lexer": "ipython3",
   "version": "3.10.10"
  }
 },
 "nbformat": 4,
 "nbformat_minor": 4
}
